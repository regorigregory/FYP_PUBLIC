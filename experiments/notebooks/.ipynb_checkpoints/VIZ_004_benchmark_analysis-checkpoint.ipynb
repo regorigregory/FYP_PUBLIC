{
 "cells": [
  {
   "cell_type": "code",
   "execution_count": 1,
   "metadata": {},
   "outputs": [],
   "source": [
    "# coming soon"
   ]
  },
  {
   "cell_type": "code",
   "execution_count": 19,
   "metadata": {},
   "outputs": [],
   "source": [
    "import pandas as pd\n",
    "import ipywidgets as widgets\n",
    "import numpy as np\n",
    "import sys\n",
    "sys.path.append(\"../../\")\n",
    "import os\n",
    "import glob\n",
    "import cv2\n",
    "\n",
    "import plotly.graph_objs as go\n",
    "import plotly.express as px\n",
    "from ipywidgets import HBox, VBox, Button"
   ]
  },
  {
   "cell_type": "code",
   "execution_count": 20,
   "metadata": {},
   "outputs": [],
   "source": [
    "log_directory = os.path.join(\"..\", \"logs\")\n",
    "csv_files = glob.glob(os.path.join(log_directory, \"*.csv\"))\n",
    "filenames = [os.path.split(csv_file)[-1] for csv_file in csv_files]\n",
    "opts = [csv_tuple for csv_tuple in zip(filenames, csv_files)]"
   ]
  },
  {
   "cell_type": "code",
   "execution_count": 21,
   "metadata": {},
   "outputs": [
    {
     "data": {
      "application/vnd.jupyter.widget-view+json": {
       "model_id": "83c2031d98fd40e4b8d3e4903b194c2b",
       "version_major": 2,
       "version_minor": 0
      },
      "text/plain": [
       "VBox(children=(Dropdown(description='Metrics:', index=5, options=(('abs_error', 'abs_error'), ('mse', 'mse'), …"
      ]
     },
     "metadata": {},
     "output_type": "display_data"
    }
   ],
   "source": [
    "\n",
    "available_metrix = ['abs_error',\n",
    "       'mse', 'avg', 'eucledian', 'bad1', 'bad2', 'bad4', 'bad8']\n",
    "\n",
    "metrics_selector = widgets.Dropdown(\n",
    "    options=[(m,m) for m in available_metrix],\n",
    "    description='Metrics:',\n",
    "    value=\"bad2\"\n",
    ")\n",
    "scene_selector = widgets.Dropdown(\n",
    "    options=[(m,m) for m in [\"teddy\", \"cones\"]],\n",
    "    description='Scene:'\n",
    ")\n",
    "\n",
    "nonoccluded = widgets.Dropdown(\n",
    "    options=[(\"yes\", False), (\"No\", True)],\n",
    "    description='Nonoccluded:'\n",
    ")\n",
    "\n",
    "\n",
    "VBox([metrics_selector, scene_selector, nonoccluded])"
   ]
  },
  {
   "cell_type": "code",
   "execution_count": 22,
   "metadata": {},
   "outputs": [],
   "source": [
    "def read_image_binary(path):\n",
    "    with open(path, \"rb\") as f:\n",
    "        b = f.read()\n",
    "        return b\n",
    "\n",
    "selected_file = \"D:\\\\gdrive\\\\python_projects\\\\FYP_FINAL\\\\benchmarking\\\\MiddEval\\\\custom_log\\\\all_benchmarking.csv\"\n",
    "df = pd.read_csv(selected_file)\n",
    "df = df.drop_duplicates()\n",
    "\n",
    "\n",
    "df[\"loaded_imgs\"] = [read_image_binary(path) for path in df[\"image_filename\"]]\n",
    "\"\"\"selected_scene_df = df[\n",
    "                        (df[\"scene\"] == scene_selector.value) &\n",
    "                      (df[\"are_occlusions_errors\"] ==nonoccluded.value)\n",
    "                      ]\"\"\"\n",
    "selected_scene_df = df \n"
   ]
  },
  {
   "cell_type": "code",
   "execution_count": 23,
   "metadata": {},
   "outputs": [],
   "source": [
    "from ipywidgets import Image, Layout\n",
    "\n",
    "img_widget = Image(value=df[\"loaded_imgs\"].iloc[0], \n",
    "                   layout=Layout(height='375px', width='450px'))\n"
   ]
  },
  {
   "cell_type": "code",
   "execution_count": 24,
   "metadata": {},
   "outputs": [],
   "source": [
    "h_n_w = np.array(selected_scene_df[\"kernel_size\"].str.split(\"x\").to_list())\n",
    "selected_scene_df[\"h\"] = pd.to_numeric(h_n_w[:, 0])\n",
    "selected_scene_df[\"w\"] = pd.to_numeric(h_n_w[:, 1])\n",
    "selected_scene_df = selected_scene_df.sort_values(by=[\"h\", \"w\"])\n",
    "number_of_samples = selected_scene_df.shape[0]"
   ]
  },
  {
   "cell_type": "code",
   "execution_count": 25,
   "metadata": {},
   "outputs": [],
   "source": [
    "def get_figure_widget(df, x_label,y_label, title, use_color=False, color_dim=None):\n",
    "    if(not use_color):\n",
    "        fig= go.FigureWidget(px.scatter(df, x=x_label,\n",
    "            y=y_label, hover_data=[\"match\", \"gap\", \"egap\", \"kernel_size\", \"kernel_spec\", \"preprocessing_method\", \"scene\"]))\n",
    "    else:\n",
    "        fig= go.FigureWidget(px.scatter(df, x=x_label,\n",
    "            y=y_label, hover_data=[\"match\", \"gap\", \"egap\", \n",
    "                                   \"kernel_size\", \"kernel_spec\", \"preprocessing_method\", \"scene\"], color = color_dim\n",
    "                                       ))\n",
    " \n",
    "    fig.update_xaxes(showspikes=True)\n",
    "    fig.update_yaxes(showspikes=True)\n",
    "    fig.layout.title = title\n",
    "    fig.data[0].marker.opacity = np.full(fig.data[0].x.shape, 0.5)\n",
    "    return fig\n",
    "\n",
    "def get_hover_function(img_widget, selected_scene_df):\n",
    "    \n",
    "    def hover_fn(trace, points, state):\n",
    "        if(len(points.point_inds)>0):\n",
    "            ind = points.point_inds[0]\n",
    "            img_widget.value = selected_scene_df[\"loaded_imgs\"].iloc[ind]\n",
    "    return hover_fn\n",
    "\n",
    "def bind_hover_function(figs, img_widget, selected_scene_df):\n",
    "    for fig in figs:\n",
    "        for trace in fig.data:\n",
    "            trace.on_hover(get_hover_function(img_widget, selected_scene_df))\n",
    "        \n",
    "def get_brush_function(master_n_slaves, selected_scene_df):        \n",
    "    def brush_fn(trace, points, state):\n",
    "        inds = np.array(points.point_inds)\n",
    "        if inds.size:\n",
    "            selected = np.full(selected_scene_df.shape[0], 0.05)\n",
    "            selected[inds] = 1\n",
    "            for fig in master_n_slaves:\n",
    "                with fig.batch_update():\n",
    "                    fig.data[0].marker.opacity = selected\n",
    "    return brush_fn\n",
    "                \n",
    "def bind_brush_function(master_n_slaves, selected_scene_df):\n",
    "    func = get_brush_function(master_n_slaves, selected_scene_df)\n",
    "    for fig in master_n_slaves:\n",
    "        for trace in fig.data:\n",
    "            trace.on_selection(func)\n",
    "        \n",
    "def get_reset_brush_function(master_n_slaves):\n",
    "    def reset_fn(btn):\n",
    "        selected = np.full(master_n_slaves[0].data[0].marker.opacity.shape, 0.05)\n",
    "        for fig in master_n_slaves:\n",
    "            with fig.batch_update():\n",
    "                fig.data[0].marker.opacity = selected\n",
    "    return reset_fn\n",
    "\n",
    "def get_reset_brush_button(master_n_slaves, description_passed = \"clear selection\"):\n",
    "    btn = Button(description=description_passed)\n",
    "    reset_fn = get_reset_brush_function(master_n_slaves)\n",
    "    btn.on_click(reset_fn)\n",
    "    return btn\n",
    "\n",
    "def get_dropdown_function(df, column, widget, figure_widget):     \n",
    "        \n",
    "    def validate():\n",
    "        return True\n",
    "        \"\"\"        if widget.value in df[column].unique():\n",
    "            return True\n",
    "        else:\n",
    "            return False\"\"\"\n",
    "\n",
    "\n",
    "    def response(change):\n",
    "        if validate():\n",
    "            temp_df = df[df[column]==widget.value]\n",
    "            x = temp_df['kernel_size']\n",
    "            y = temp_df['match']\n",
    "            with figure_widget.batch_update():\n",
    "                figure_widget.data[0].x = x\n",
    "                figure_widget.data[0].y = y\n",
    "\n",
    "                print(\"I should have been updated.\")\n",
    "    return response\n",
    "\n",
    "def bind_dropdown_function(df, column, dropdown_widget, figure_widget):\n",
    "        dropdown_fn = get_dropdown_function(df, column, dropdown_widget, figure_widget)\n",
    "        dropdown_widget.observe(dropdown_fn, names=\"value\")\n",
    "\n",
    "def get_dropdown_widget(df, column):\n",
    "    dropdown_widget = widgets.Dropdown(\n",
    "    description=column,\n",
    "    options=df[column].unique()\n",
    "    )\n",
    "    return dropdown_widget        "
   ]
  },
  {
   "cell_type": "code",
   "execution_count": 26,
   "metadata": {},
   "outputs": [],
   "source": [
    "fig_a = get_figure_widget (selected_scene_df, \"experiment_id\", metrics_selector.value, \n",
    "                           \"Scene w.r.t.\"+metrics_selector.value)\n",
    "fig_b = get_figure_widget (selected_scene_df, \"match\", \"kernel_size\", \"Kernel sizes w.r.t. match values\")\n",
    "\n",
    "\n",
    "\n",
    "figs = [fig_a, fig_b]\n",
    "bind_hover_function(figs, img_widget, selected_scene_df)\n",
    "bind_brush_function(figs, selected_scene_df)"
   ]
  },
  {
   "cell_type": "code",
   "execution_count": 27,
   "metadata": {},
   "outputs": [],
   "source": [
    "\n",
    "button = get_reset_brush_button(figs)\n"
   ]
  },
  {
   "cell_type": "code",
   "execution_count": 28,
   "metadata": {},
   "outputs": [],
   "source": [
    "dashboard = VBox([button, fig_a,\n",
    "                  HBox([img_widget, fig_b])])\n",
    "fig_a.data[0].marker.opacity = np.full(selected_scene_df.shape[0], 1)"
   ]
  },
  {
   "cell_type": "code",
   "execution_count": 29,
   "metadata": {},
   "outputs": [
    {
     "data": {
      "application/vnd.jupyter.widget-view+json": {
       "model_id": "4ec90e067fc141fba6291d0ce0b4c8d3",
       "version_major": 2,
       "version_minor": 0
      },
      "text/plain": [
       "VBox(children=(Button(description='clear selection', style=ButtonStyle()), FigureWidget({\n",
       "    'data': [{'custo…"
      ]
     },
     "metadata": {},
     "output_type": "display_data"
    }
   ],
   "source": [
    "dashboard"
   ]
  },
  {
   "cell_type": "code",
   "execution_count": 13,
   "metadata": {},
   "outputs": [
    {
     "data": {
      "text/plain": [
       "array([ 1,  3,  5,  7,  9, 11, 13, 15], dtype=int64)"
      ]
     },
     "execution_count": 13,
     "metadata": {},
     "output_type": "execute_result"
    }
   ],
   "source": [
    "selected_scene_df[\"h\"].unique()"
   ]
  },
  {
   "cell_type": "code",
   "execution_count": 14,
   "metadata": {},
   "outputs": [],
   "source": [
    "def get_hover_function2(img_widget, selected_scene_df):\n",
    "    \n",
    "    def hover_fn(trace, points, state):\n",
    "        #print(points)\n",
    "        if(len(points.point_inds)>0):\n",
    "            ind = points.point_inds[0]\n",
    "            img_widget.value = dfs[points.trace_index][\"loaded_imgs\"].iloc[ind]\n",
    "    return hover_fn\n",
    "\n",
    "def bind_hover_function2(figs, img_widget, selected_scene_df):\n",
    "    for fig in figs:\n",
    "        for trace in fig.data:\n",
    "            trace.on_hover(get_hover_function2(img_widget, selected_scene_df))"
   ]
  },
  {
   "cell_type": "code",
   "execution_count": 15,
   "metadata": {},
   "outputs": [],
   "source": [
    "def get_figure_widget_traced(df, x_label,y_label, trace_dim):\n",
    "    trace_keys = df[trace_dim].unique()\n",
    "    fig = go.Figure()\n",
    "    dfs=[]\n",
    "\n",
    "    for k in trace_keys:\n",
    "        temp_df = df[df[trace_dim]==k]\n",
    "        dfs.append(temp_df)\n",
    "\n",
    "        label = [\"Scene: {0}<br>kernel size: {1}<br>match:{2}<br>bad2: {3}\".format(a,b,c,d) \n",
    "                 for a,b,c,d in zip(temp_df[\"scene\"],temp_df[\"kernel_size\"],temp_df[\"match\"], temp_df[\"bad2\"])\n",
    "                ]\n",
    "        \n",
    "        \n",
    "        fig.add_trace(go.Scatter(x=temp_df[x_label], y=temp_df[y_label], name=k,  hovertemplate=\n",
    "        '%{text}', text = label, showlegend=True))\n",
    "\n",
    "    fig.update_xaxes(showspikes=True)\n",
    "    fig.update_yaxes(showspikes=True)\n",
    "    return fig, dfs"
   ]
  },
  {
   "cell_type": "code",
   "execution_count": 30,
   "metadata": {},
   "outputs": [
    {
     "data": {
      "text/plain": [
       "'fig, dfs = get_figure_widget_traced(df, \"experiment_id\", \"bad2\", \"scene\")\\nfig2 = get_figure_widget(df, \"experiment_id\", \"kernel_size\", \"hello\")\\nimg_widget2 = Image(value=df[\"loaded_imgs\"].iloc[0], \\n                   layout=Layout(height=\\'375px\\', width=\\'450px\\'))\\nfig_widget = go.FigureWidget(fig)\\n\\nbind_hover_function2([fig_widget], img_widget2, dfs)\\nVBox([fig_widget, HBox([img_widget2,fig2])])'"
      ]
     },
     "execution_count": 30,
     "metadata": {},
     "output_type": "execute_result"
    }
   ],
   "source": [
    "\"\"\"fig, dfs = get_figure_widget_traced(df, \"experiment_id\", \"bad2\", \"scene\")\n",
    "fig2 = get_figure_widget(df, \"experiment_id\", \"kernel_size\", \"hello\")\n",
    "img_widget2 = Image(value=df[\"loaded_imgs\"].iloc[0], \n",
    "                   layout=Layout(height='375px', width='450px'))\n",
    "fig_widget = go.FigureWidget(fig)\n",
    "\n",
    "bind_hover_function2([fig_widget], img_widget2, dfs)\n",
    "VBox([fig_widget, HBox([img_widget2,fig2])])\"\"\""
   ]
  },
  {
   "cell_type": "code",
   "execution_count": 18,
   "metadata": {},
   "outputs": [
    {
     "data": {
      "application/vnd.jupyter.widget-view+json": {
       "model_id": "eca42c12ad4448f19df148a0fcc4cb70",
       "version_major": 2,
       "version_minor": 0
      },
      "text/plain": [
       "VBox(children=(FigureWidget({\n",
       "    'data': [{'hovertemplate': '%{text}',\n",
       "              'name': 'bm_20_1x1',\n",
       "   …"
      ]
     },
     "metadata": {},
     "output_type": "display_data"
    }
   ],
   "source": [
    "fig, dfs = get_figure_widget_traced(df, \"scene\", \"bad4\", \"experiment_id\")\n",
    "fig2 = get_figure_widget(df, \"experiment_id\", \"kernel_size\", \"hello\")\n",
    "img_widget2 = Image(value=df[\"loaded_imgs\"].iloc[0], \n",
    "                   layout=Layout(height='375px', width='450px'))\n",
    "fig_widget = go.FigureWidget(fig)\n",
    "\n",
    "bind_hover_function2([fig_widget], img_widget2, dfs)\n",
    "VBox([fig_widget, HBox([img_widget2,fig2])])"
   ]
  },
  {
   "cell_type": "code",
   "execution_count": null,
   "metadata": {},
   "outputs": [],
   "source": []
  }
 ],
 "metadata": {
  "kernelspec": {
   "display_name": "Python 3",
   "language": "python",
   "name": "python3"
  },
  "language_info": {
   "codemirror_mode": {
    "name": "ipython",
    "version": 3
   },
   "file_extension": ".py",
   "mimetype": "text/x-python",
   "name": "python",
   "nbconvert_exporter": "python",
   "pygments_lexer": "ipython3",
   "version": "3.8.2"
  }
 },
 "nbformat": 4,
 "nbformat_minor": 4
}
