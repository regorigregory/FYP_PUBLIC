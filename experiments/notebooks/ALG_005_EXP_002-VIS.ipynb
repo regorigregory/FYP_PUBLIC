{
 "cells": [
  {
   "cell_type": "markdown",
   "metadata": {},
   "source": [
    "<h1 id=\"ALG_005_EXP_002-PatchMatch-MacLean_et_al-Numba_well_known_filters\">Using well-known weights as constant window values</h1>\n",
    "<h2 id=\"Experiment-notebook:-ALG_004_EXP_002-Baseline-MacLean_et_al-param_search\">Experiment notebook: <a href=\"ALG_005_EXP_002-PatchMatch-2003.ipynb\" target=\"_blank\" rel=\"noopener\">ALG_005_EXP_002-PatchMatch-2003.</a></h2>\n",
    "<p>&nbsp;Introduction</p>\n",
    "<p>There has been many different techniques proposed using different fixed-weight support windows, such as Gaussian, Binomial&hellip;etc. (Hamzah and Ibrahim, 2016). While these solution&rsquo;s accuracy could not compete with newer, for instance, &nbsp;Adaptive Support Weight approaches (ASW), it was thought to be an crucial to gain a deeper understanding as to the workings of support windows.</p>\n",
    "<h2 id=\"Abstract\">Abstract</h2>\n",
    "<p>Following the premise and experimental setup of the previous experiment (<a href=\"ALG_005_EXP_001-PatchMatch-2003.ipynb\" target=\"_blank\" rel=\"noopener\">ALG_005_EXP_001-PatchMatch-2003</a>), a set of support windows were tested. These windows included edge detectors (e.g. Sobel) and different shapes with constant weights (diamond, star&hellip;etc.) and Gaussian ones as well. In this experimental setup, Gaussian windows provided the best results (Teddy: 19%, Cones: 11%). A comparative analysis was performed with regards to the previous experiment&rsquo;s results.</p>\n",
    "<h2 id=\"Relevant-theory\">Relevant theory</h2>\n",
    "<p>Compared to the method used in the previous experiment (ALG_005_EXP_001-PatchMatch-MacLean_et_al-Numba), using Gaussian filters was one step further to &nbsp;more sophisticated methods (Hamzah and Ibrahim, 2016). The reason for including edge detection filters in this experiment was based on an often quoted cost function, Truncated Absolute Difference plus &nbsp;Gradient (TAD + G). This cost function, apart from the pixel intensities&rsquo; absolute difference, has a horizontal gradient term, &nbsp;which constitutes a significant proportion (90%) of the whole term &nbsp;(Rhemann <em>et al.</em>, 2011). More precisely, the equation for this cost function is &nbsp;</p>\n",
    "<table width=\"100%\">\n",
    "<tbody>\n",
    "<tr>\n",
    "<td width=\"7%\">\n",
    "<p>&nbsp;</p>\n",
    "</td>\n",
    "<td width=\"86%\"><span class=\"MathJax_Preview\" style=\"color: inherit;\"><span id=\"MJXp-Span-72\" class=\"MJXp-math MJXp-display\"><span id=\"MJXp-Span-73\" class=\"MJXp-mrow\"><span id=\"MJXp-Span-74\" class=\"MJXp-mi MJXp-italic\">C</span><span id=\"MJXp-Span-75\" class=\"MJXp-mrow\"><span id=\"MJXp-Span-76\" class=\"MJXp-mo\" style=\"margin-left: 0em; margin-right: 0em;\">(</span><span id=\"MJXp-Span-77\" class=\"MJXp-mi MJXp-italic\">p</span><span id=\"MJXp-Span-78\" class=\"MJXp-mo\" style=\"margin-left: 0em; margin-right: 0.222em;\">,</span><span id=\"MJXp-Span-79\" class=\"MJXp-mi MJXp-italic\">d</span><span id=\"MJXp-Span-80\" class=\"MJXp-mo\" style=\"margin-left: 0em; margin-right: 0em;\">)</span></span><span id=\"MJXp-Span-81\" class=\"MJXp-mo\" style=\"margin-left: 0.333em; margin-right: 0.333em;\">=</span><span id=\"MJXp-Span-82\" class=\"MJXp-mi MJXp-italic\">&alpha;</span><span id=\"MJXp-Span-83\" class=\"MJXp-mo\" style=\"margin-left: 0.267em; margin-right: 0.267em;\">&sdot;</span><span id=\"MJXp-Span-84\" class=\"MJXp-mo\" style=\"margin-left: 0.333em; margin-right: 0.333em;\">min</span><span id=\"MJXp-Span-85\" class=\"MJXp-mrow\"><span id=\"MJXp-Span-86\" class=\"MJXp-mo\" style=\"margin-left: 0em; margin-right: 0em; vertical-align: -0.244em;\"><span class=\"MJXp-right MJXp-scale7\" style=\"font-size: 1.978em; margin-left: -0.05em;\">(</span></span><span id=\"MJXp-Span-87\" class=\"MJXp-msubsup\"><span id=\"MJXp-Span-88\" class=\"MJXp-mi MJXp-italic\" style=\"margin-right: 0.05em;\">T</span><span id=\"MJXp-Span-89\" class=\"MJXp-mrow MJXp-script\" style=\"vertical-align: -0.4em;\"><span id=\"MJXp-Span-90\" class=\"MJXp-mi MJXp-italic\">c</span></span></span><span id=\"MJXp-Span-91\" class=\"MJXp-mo\" style=\"margin-left: 0em; margin-right: 0.222em;\">,</span><span id=\"MJXp-Span-92\" class=\"MJXp-mtext\">&nbsp;</span><span id=\"MJXp-Span-93\" class=\"MJXp-mi MJXp-italic\">M</span><span id=\"MJXp-Span-94\" class=\"MJXp-mrow\"><span id=\"MJXp-Span-95\" class=\"MJXp-mo\" style=\"margin-left: 0em; margin-right: 0em;\">(</span><span id=\"MJXp-Span-96\" class=\"MJXp-mi MJXp-italic\">p</span><span id=\"MJXp-Span-97\" class=\"MJXp-mo\" style=\"margin-left: 0em; margin-right: 0.222em;\">,</span><span id=\"MJXp-Span-98\" class=\"MJXp-mi MJXp-italic\">d</span><span id=\"MJXp-Span-99\" class=\"MJXp-mo\" style=\"margin-left: 0em; margin-right: 0em;\">)</span></span><span id=\"MJXp-Span-100\" class=\"MJXp-mo\" style=\"margin-left: 0em; margin-right: 0em; vertical-align: -0.244em;\"><span class=\"MJXp-right MJXp-scale7\" style=\"font-size: 1.978em; margin-left: -0.05em;\">)</span></span></span><span id=\"MJXp-Span-101\" class=\"MJXp-mo\" style=\"margin-left: 0.267em; margin-right: 0.267em;\">+</span><span id=\"MJXp-Span-102\" class=\"MJXp-mrow\"><span id=\"MJXp-Span-103\" class=\"MJXp-mo\" style=\"margin-left: 0em; margin-right: 0em;\">(</span><span id=\"MJXp-Span-104\" class=\"MJXp-mn\">1</span><span id=\"MJXp-Span-105\" class=\"MJXp-mo\" style=\"margin-left: 0.267em; margin-right: 0.267em;\">&minus;</span><span id=\"MJXp-Span-106\" class=\"MJXp-mi MJXp-italic\">&alpha;</span><span id=\"MJXp-Span-107\" class=\"MJXp-mo\" style=\"margin-left: 0em; margin-right: 0em;\">)</span></span><span id=\"MJXp-Span-108\" class=\"MJXp-mo\" style=\"margin-left: 0.267em; margin-right: 0.267em;\">&sdot;</span><span id=\"MJXp-Span-109\" class=\"MJXp-mi MJXp-italic\">m</span><span id=\"MJXp-Span-110\" class=\"MJXp-mi MJXp-italic\">i</span><span id=\"MJXp-Span-111\" class=\"MJXp-mi MJXp-italic\">n</span><span id=\"MJXp-Span-112\" class=\"MJXp-mrow\"><span id=\"MJXp-Span-113\" class=\"MJXp-mo\" style=\"margin-left: 0em; margin-right: 0em;\"></span></span><span id=\"MJXp-Span-114\" class=\"MJXp-mrow\"><span id=\"MJXp-Span-115\" class=\"MJXp-mo\" style=\"margin-left: 0em; margin-right: 0em; vertical-align: -0.244em;\"><span class=\"MJXp-right MJXp-scale7\" style=\"font-size: 1.978em; margin-left: -0.05em;\">(</span></span><span id=\"MJXp-Span-116\" class=\"MJXp-msubsup\"><span id=\"MJXp-Span-117\" class=\"MJXp-mi MJXp-italic\" style=\"margin-right: 0.05em;\">T</span><span id=\"MJXp-Span-118\" class=\"MJXp-mrow MJXp-script\" style=\"vertical-align: -0.4em;\"><span id=\"MJXp-Span-119\" class=\"MJXp-mi MJXp-italic\">g</span></span></span><span id=\"MJXp-Span-120\" class=\"MJXp-mo\" style=\"margin-left: 0em; margin-right: 0.222em;\">,</span><span id=\"MJXp-Span-121\" class=\"MJXp-mtext\">&nbsp;</span><span id=\"MJXp-Span-122\" class=\"MJXp-mi MJXp-italic\">G</span><span id=\"MJXp-Span-123\" class=\"MJXp-mrow\"><span id=\"MJXp-Span-124\" class=\"MJXp-mo\" style=\"margin-left: 0em; margin-right: 0em;\">(</span><span id=\"MJXp-Span-125\" class=\"MJXp-mi MJXp-italic\">p</span><span id=\"MJXp-Span-126\" class=\"MJXp-mo\" style=\"margin-left: 0em; margin-right: 0.222em;\">,</span><span id=\"MJXp-Span-127\" class=\"MJXp-mi MJXp-italic\">d</span><span id=\"MJXp-Span-128\" class=\"MJXp-mo\" style=\"margin-left: 0em; margin-right: 0em;\">)</span></span><span id=\"MJXp-Span-129\" class=\"MJXp-mo\" style=\"margin-left: 0em; margin-right: 0em; vertical-align: -0.244em;\"><span class=\"MJXp-right MJXp-scale7\" style=\"font-size: 1.978em; margin-left: -0.05em;\">)</span></span></span></span></span></span>\n",
    "<div class=\"MathJax_Display MathJax_Processing\">&nbsp;</div>\n",
    "</td>\n",
    "<td width=\"7%\">\n",
    "<p>(1)</p>\n",
    "</td>\n",
    "</tr>\n",
    "</tbody>\n",
    "</table>\n",
    "<p>where &ldquo;M&rdquo; is the matching cost at pixel &ldquo;p&rdquo; and disparity &ldquo;d&rdquo; for intensities and &ldquo;G&rdquo; is the equivalent term for image gradients in x direction at pixel &ldquo;p&rdquo; and disparity &ldquo;d&rdquo;. &ldquo;d&rdquo; is the displacement along the x axis in the right image that the left image pixel is compared to. &nbsp;The values proposed by Rhemann et al. &nbsp;for the parameters &nbsp;&ldquo;T<sub>c</sub>&rdquo; and &ldquo;T<sub>g</sub>&rdquo; are 0.028 and 0.008 respectively, while &alpha; is 0.1. This suggested that simply by using image gradients, stereo-correspondence should be possible to perform.</p>\n",
    "<h2 id=\"Method\">Method</h2>\n",
    "<p>Stereo matching was performed on two scenes of the Middlebury 2003 dataset with match values in the range of 10 and 40. Gap and egap values were constant throughout the experiment (-20, -1). A set of 31 different support windows were used.&nbsp; The list of windows used in this experiment are listed in <a href=\"ALG_005_EXP_002-PatchMatch-2003.ipynb\" target=\"_blank\" rel=\"noopener\">ALG_005_EXP_002-PatchMatch-2003</a>. The list includes edge detectors (horizontal, vertical and diagonal), Gaussian filters and custom shaped constant weighted windows. &nbsp;The diagonal filters (&ldquo;hv&rdquo; prefix) were created by combining a particular edge detector&rsquo;s horizontal and vertical weights. Additionally, as this way each cells weight doubled (they were simply added to each other), their versions divided by two was tested as well (&ldquo;div2&rdquo; suffix). When it comes to Gaussian windows, they were normalised by the product of their &nbsp;dimensions. Their dimensions were selected based on the previous experiment&rsquo;s best performing ones . Additional filters tested were imported from scikit-image&rsquo;s morphological library (star, octagon, diamond and disk with a variety of sizes) &nbsp;(skimage, 2020).</p>\n",
    "<h2 id=\"Results-and-discussion\">Results and discussion</h2>\n",
    "<p>Compared to the first experiment, the best results were of approximately worse by 1%. These accuracies were achieved using &nbsp;Gaussian kernels (&ldquo;gauss_5x5&rdquo;). What was an interesting phenomenon is &nbsp;that matching based on support windows with horizontal, &nbsp;vertical edge (except for Farid filters - (Farid and Simoncelli, 2004)), and their combination, &nbsp;diagonal edge filter weights &nbsp;performed satisfactorily (Teddy &ndash; hvscharr - bad4:: 24%, Cones &ndash; hvscharr &ndash; bad4: 17%). It confirmed &nbsp;that when it comes to stereo matching (bearing in mind the controlled and ideal settings, i.e. rectified images), there is a strong correlation between matching accuracy and image gradients which aligned with the proposed significance of the gradient term in TAD+G. &nbsp;While admittedly, it was a na&iuml;ve way of experimenting on &nbsp;the effect of different sized and weighted windows, it had certainly formed the view on the significance of edges when it comes to stereo correspondence. Diamond, start &hellip;etc. shaped constant weight windows performed better than &ldquo;edge&rdquo; windows but could not achieve accuracy on par with Gaussian ones.</p>\n",
    "<h2 id=\"Conclusion\">Conclusion</h2>\n",
    "<p>Following up on the premise and experimental setup of the previous experiment (<a href=\"ALG_005_EXP_001-VIS.ipynb\" target=\"_blank\" rel=\"noopener\">ALG_005_EXP_001-VIS</a>), a set of support windows were tested. While Gaussian filters performed the best, the matching accuracy achieved with edge filters was in line with the proposed weight of the gradient component of TAD-G.</p>\n",
    "<h2 id=\"References\">References</h2>\n",
    "<ol>\n",
    "<li>Farid, H. and Simoncelli, E. P. (2004) &lsquo;Differentiation of discrete multidimensional signals&rsquo;, <em>IEEE Transactions on Image Processing</em>, 13(4), pp. 496&ndash;508. doi: 10.1109/TIP.2004.823819.</li>\n",
    "<li>Hamzah, R. A. and Ibrahim, H. (2016) &lsquo;Literature Survey on Stereo Vision Disparity Map Algorithms&rsquo;, <em>Journal of Sensors</em>, 2016, pp. 1&ndash;23. doi: 10.1155/2016/8742920.</li>\n",
    "<li>Rhemann, C. <em>et al.</em> (2011) &lsquo;Fast cost-volume filtering for visual correspondence and beyond&rsquo;, in <em>Proceedings of the IEEE Computer Society Conference on Computer Vision and Pattern Recognition</em>. IEEE Computer Society, pp. 3017&ndash;3024. doi: 10.1109/CVPR.2011.5995372.</li>\n",
    "<li>skimage (2020) <em>Module: morphology &mdash; skimage v0.17.2 docs</em>, <em>scikit-image website</em>. Available at: https://scikit-image.org/docs/stable/api/skimage.morphology.html (Accessed: 28 July 2020).</li>\n",
    "</ol>"
   ]
  },
  {
   "cell_type": "markdown",
   "metadata": {},
   "source": [
    "#### Importing used or \"useful\" libraries"
   ]
  },
  {
   "cell_type": "code",
   "execution_count": 1,
   "metadata": {},
   "outputs": [],
   "source": [
    "import pandas as pd\n",
    "import ipywidgets as widgets\n",
    "import numpy as np\n",
    "import sys\n",
    "import os\n",
    "\n",
    "sys.path.append(os.path.join(\"..\", \"..\"))\n",
    "import glob\n",
    "import cv2\n",
    "\n",
    "import plotly.graph_objs as go\n",
    "import plotly.express as px\n",
    "\n",
    "from ipywidgets import HBox, VBox, Button, Image, Layout\n",
    "\n",
    "from components.utils import plotly_helpers as ph"
   ]
  },
  {
   "cell_type": "markdown",
   "metadata": {},
   "source": [
    "#### Building ui elements for ease of use"
   ]
  },
  {
   "cell_type": "code",
   "execution_count": 2,
   "metadata": {},
   "outputs": [
    {
     "data": {
      "application/vnd.jupyter.widget-view+json": {
       "model_id": "c01dec1c1ed24355ab4d817d413546d1",
       "version_major": 2,
       "version_minor": 0
      },
      "text/plain": [
       "VBox(children=(Dropdown(description='Metrics:', index=6, options=(('abs_error', 'abs_error'), ('mse', 'mse'), …"
      ]
     },
     "metadata": {},
     "output_type": "display_data"
    }
   ],
   "source": [
    "available_metrix = ['abs_error',\n",
    "       'mse', 'avg', 'eucledian', 'bad1', 'bad2', 'bad4', 'bad8']\n",
    "\n",
    "metrics_selector = widgets.Dropdown(\n",
    "    options=[(m,m) for m in available_metrix],\n",
    "    description='Metrics:',\n",
    "    value=\"bad4\"\n",
    ")\n",
    "\n",
    "\n",
    "nonoccluded = widgets.Dropdown(\n",
    "    options=[(\"yes\", False), (\"No\", True)],\n",
    "    description='Nonoccluded:'\n",
    ")\n",
    "\n",
    "VBox([metrics_selector, nonoccluded])"
   ]
  },
  {
   "cell_type": "markdown",
   "metadata": {},
   "source": [
    "#### Loading the dataframe based on the selected options\n",
    "If options changed, please rerun the cells starting from this point."
   ]
  },
  {
   "cell_type": "code",
   "execution_count": 3,
   "metadata": {},
   "outputs": [],
   "source": [
    "path_to_dataframe = os.path.join(\"..\", \"logs\", \"ALG_005_EXP_002-PatchMatch-MacLean_et_al-Numba_well_known_filters.csv\")\n",
    "df = selected_scene_df = ph.load_n_clean(path_to_dataframe, gts=True,  v_2003=True, kernel_sizes=True)\n",
    "\n",
    "##Filtering to selected occlusion parameter\n",
    "\n",
    "df = df[df[\"are_occlusions_errors\"]==nonoccluded.value]\n",
    "\n",
    "number_of_samples = df.shape[0]"
   ]
  },
  {
   "cell_type": "code",
   "execution_count": 4,
   "metadata": {},
   "outputs": [
    {
     "data": {
      "text/plain": [
       "True"
      ]
     },
     "execution_count": 4,
     "metadata": {},
     "output_type": "execute_result"
    }
   ],
   "source": [
    "p ='D:\\\\experiments\\\\disparities\\\\ALG_005_EXP_002-PatchMatch-MacLean_et_al-Numba\\\\ALG_005_EXP_002-PatchMatch-MacLean_et_al-Numba_0259.png'\n",
    "os.path.isfile(p)\n",
    "import project_helpers\n",
    "p2 = project_helpers.fix_win_rel_paths('experiments\\\\disparities\\\\ALG_005_EXP_002-PatchMatch-MacLean_et_al-Numba\\\\ALG_005_EXP_002-PatchMatch-MacLean_et_al-Numba_0259.png')\n",
    "os.path.isfile(p2)"
   ]
  },
  {
   "cell_type": "markdown",
   "metadata": {},
   "source": [
    "#### Constructing the dashboards for the two scenes: teddy and cones"
   ]
  },
  {
   "cell_type": "code",
   "execution_count": 5,
   "metadata": {},
   "outputs": [],
   "source": [
    "### Dashboard 1 - Cones\n",
    "\n",
    "img_widget_cones = Image(value=df[\"loaded_imgs\"].iloc[0], \n",
    "                   layout=Layout(height='375px', width='450px'))\n",
    "\n",
    "df_temp_1 = df[df[\"scene\"]==\"cones\"]\n",
    "\n",
    "traced_fig_1, dfs_1 = ph.get_figure_widget_traced(df_temp_1, \"match\", metrics_selector.value, \"kernel_spec\")\n",
    "\n",
    "traced_fig_widget_1 = go.FigureWidget(traced_fig_1)\n",
    "\n",
    "\n",
    "traced_fig_1_imw_1 = Image(value=df[\"loaded_imgs\"].iloc[0], \n",
    "                   layout=Layout(height='375px', width='450px'))\n",
    "traced_fig_1_imw_2 = Image(value=df[\"loaded_gts\"].iloc[0], \n",
    "                   layout=Layout(height='375px', width='450px'))\n",
    "\n",
    "#figs, img_widget, selected_scene_df\n",
    "ph.bind_hover_function2([traced_fig_widget_1], traced_fig_1_imw_1, dfs_1, img_widget_groundtruth=traced_fig_1_imw_2)\n",
    "\n",
    "\n",
    "turn_the_lights_on = ph.get_dropdown_widget([\"On\", \"Off\"], label=\"Turn plots:\", values = [True, False])\n",
    "\n",
    "ph.bind_dropdown_switch_traces_fn(turn_the_lights_on, traced_fig_widget_1)\n",
    "\n",
    "dashboard1 = VBox([turn_the_lights_on, traced_fig_widget_1, HBox([traced_fig_1_imw_1,traced_fig_1_imw_2])])\n",
    "\n",
    "\n",
    "\n",
    "### Dashboard 2 - Teddy\n",
    "\n",
    "img_widget_teddy = Image(value=df[\"loaded_imgs\"].iloc[0], \n",
    "                   layout=Layout(height='375px', width='450px'))\n",
    "\n",
    "df_temp_2 = df[df[\"scene\"]==\"teddy\"]\n",
    "\n",
    "traced_fig_2, dfs_2 = ph.get_figure_widget_traced(df_temp_2, \"match\", metrics_selector.value, \"kernel_spec\")\n",
    "\n",
    "traced_fig_widget_2 = go.FigureWidget(traced_fig_2)\n",
    "\n",
    "\n",
    "\n",
    "traced_fig_2_imw_1 = Image(value=df[\"loaded_imgs\"].iloc[0], \n",
    "                   layout=Layout(height='375px', width='450px'))\n",
    "traced_fig_2_imw_2 = Image(value=df[\"loaded_gts\"].iloc[0], \n",
    "                   layout=Layout(height='375px', width='450px'))\n",
    "\n",
    "#figs, img_widget, selected_scene_df\n",
    "ph.bind_hover_function2([traced_fig_widget_2], traced_fig_2_imw_1, dfs_2, img_widget_groundtruth=traced_fig_2_imw_2)\n",
    "\n",
    "\n",
    "turn_the_lights_on = ph.get_dropdown_widget([\"On\", \"Off\"], label=\"Turn plots:\", values = [True, False])\n",
    "\n",
    "ph.bind_dropdown_switch_traces_fn(turn_the_lights_on, traced_fig_widget_2)\n",
    "\n",
    "dashboard2 = VBox([turn_the_lights_on, traced_fig_widget_2, HBox([traced_fig_2_imw_1,traced_fig_2_imw_2])])"
   ]
  },
  {
   "cell_type": "markdown",
   "metadata": {},
   "source": [
    "#### Scene \"Cones\" analysis\n",
    "Main plot: support window size w.r.t selected metric. Colour: Match value. <br>\n",
    "The plots can be turned on and off individually by clicking on their legends or all together by the \"Turn plots\" selector"
   ]
  },
  {
   "cell_type": "code",
   "execution_count": 6,
   "metadata": {},
   "outputs": [
    {
     "data": {
      "application/vnd.jupyter.widget-view+json": {
       "model_id": "243ce65eb0ef4feea86125df13ec419e",
       "version_major": 2,
       "version_minor": 0
      },
      "text/plain": [
       "VBox(children=(Dropdown(description='Turn plots:', options=(('On', True), ('Off', False)), value=True), Figure…"
      ]
     },
     "metadata": {},
     "output_type": "display_data"
    }
   ],
   "source": [
    "dashboard1"
   ]
  },
  {
   "cell_type": "markdown",
   "metadata": {},
   "source": [
    "#### Scene \"Teddy\" analysis\n",
    "Main plot: support window size w.r.t selected metric. Colour: Match value. <br>\n",
    "The plots can be turned on and off individually by clicking on their legends or all together by the \"Turn plots\" selector"
   ]
  },
  {
   "cell_type": "code",
   "execution_count": 7,
   "metadata": {},
   "outputs": [
    {
     "data": {
      "application/vnd.jupyter.widget-view+json": {
       "model_id": "04f5b0df16d9462ab75f71ca7919a7a3",
       "version_major": 2,
       "version_minor": 0
      },
      "text/plain": [
       "VBox(children=(Dropdown(description='Turn plots:', options=(('On', True), ('Off', False)), value=True), Figure…"
      ]
     },
     "metadata": {},
     "output_type": "display_data"
    }
   ],
   "source": [
    "dashboard2"
   ]
  },
  {
   "cell_type": "markdown",
   "metadata": {},
   "source": [
    "#### \"Cones\" best results"
   ]
  },
  {
   "cell_type": "code",
   "execution_count": 8,
   "metadata": {
    "scrolled": true
   },
   "outputs": [
    {
     "name": "stderr",
     "output_type": "stream",
     "text": [
      "<ipython-input-8-2aeb5761120f>:1: SettingWithCopyWarning:\n",
      "\n",
      "\n",
      "A value is trying to be set on a copy of a slice from a DataFrame\n",
      "\n",
      "See the caveats in the documentation: https://pandas.pydata.org/pandas-docs/stable/user_guide/indexing.html#returning-a-view-versus-a-copy\n",
      "\n",
      "<ipython-input-8-2aeb5761120f>:2: SettingWithCopyWarning:\n",
      "\n",
      "\n",
      "A value is trying to be set on a copy of a slice from a DataFrame\n",
      "\n",
      "See the caveats in the documentation: https://pandas.pydata.org/pandas-docs/stable/user_guide/indexing.html#returning-a-view-versus-a-copy\n",
      "\n"
     ]
    },
    {
     "data": {
      "text/html": [
       "<div>\n",
       "<style scoped>\n",
       "    .dataframe tbody tr th:only-of-type {\n",
       "        vertical-align: middle;\n",
       "    }\n",
       "\n",
       "    .dataframe tbody tr th {\n",
       "        vertical-align: top;\n",
       "    }\n",
       "\n",
       "    .dataframe thead th {\n",
       "        text-align: right;\n",
       "    }\n",
       "</style>\n",
       "<table border=\"1\" class=\"dataframe\">\n",
       "  <thead>\n",
       "    <tr style=\"text-align: right;\">\n",
       "      <th></th>\n",
       "      <th>match</th>\n",
       "      <th>gap</th>\n",
       "      <th>egap</th>\n",
       "      <th>scene</th>\n",
       "      <th>kernel_spec</th>\n",
       "      <th>kernel_size</th>\n",
       "      <th>bad4</th>\n",
       "    </tr>\n",
       "  </thead>\n",
       "  <tbody>\n",
       "    <tr>\n",
       "      <th>150</th>\n",
       "      <td>20</td>\n",
       "      <td>-20</td>\n",
       "      <td>-1</td>\n",
       "      <td>cones</td>\n",
       "      <td>gauss_5_5</td>\n",
       "      <td>5x5</td>\n",
       "      <td>0.108368</td>\n",
       "    </tr>\n",
       "    <tr>\n",
       "      <th>162</th>\n",
       "      <td>20</td>\n",
       "      <td>-20</td>\n",
       "      <td>-1</td>\n",
       "      <td>cones</td>\n",
       "      <td>gauss_11_3</td>\n",
       "      <td>11x3</td>\n",
       "      <td>0.112780</td>\n",
       "    </tr>\n",
       "    <tr>\n",
       "      <th>166</th>\n",
       "      <td>20</td>\n",
       "      <td>-20</td>\n",
       "      <td>-1</td>\n",
       "      <td>cones</td>\n",
       "      <td>gauss_13_3</td>\n",
       "      <td>13x3</td>\n",
       "      <td>0.112780</td>\n",
       "    </tr>\n",
       "    <tr>\n",
       "      <th>158</th>\n",
       "      <td>20</td>\n",
       "      <td>-20</td>\n",
       "      <td>-1</td>\n",
       "      <td>cones</td>\n",
       "      <td>gauss_7_3</td>\n",
       "      <td>7x3</td>\n",
       "      <td>0.112780</td>\n",
       "    </tr>\n",
       "    <tr>\n",
       "      <th>154</th>\n",
       "      <td>20</td>\n",
       "      <td>-20</td>\n",
       "      <td>-1</td>\n",
       "      <td>cones</td>\n",
       "      <td>gauss_5_3</td>\n",
       "      <td>5x3</td>\n",
       "      <td>0.113003</td>\n",
       "    </tr>\n",
       "    <tr>\n",
       "      <th>286</th>\n",
       "      <td>30</td>\n",
       "      <td>-20</td>\n",
       "      <td>-1</td>\n",
       "      <td>cones</td>\n",
       "      <td>gauss_11_3</td>\n",
       "      <td>11x3</td>\n",
       "      <td>0.113954</td>\n",
       "    </tr>\n",
       "    <tr>\n",
       "      <th>290</th>\n",
       "      <td>30</td>\n",
       "      <td>-20</td>\n",
       "      <td>-1</td>\n",
       "      <td>cones</td>\n",
       "      <td>gauss_13_3</td>\n",
       "      <td>13x3</td>\n",
       "      <td>0.113954</td>\n",
       "    </tr>\n",
       "    <tr>\n",
       "      <th>282</th>\n",
       "      <td>30</td>\n",
       "      <td>-20</td>\n",
       "      <td>-1</td>\n",
       "      <td>cones</td>\n",
       "      <td>gauss_7_3</td>\n",
       "      <td>7x3</td>\n",
       "      <td>0.113954</td>\n",
       "    </tr>\n",
       "    <tr>\n",
       "      <th>278</th>\n",
       "      <td>30</td>\n",
       "      <td>-20</td>\n",
       "      <td>-1</td>\n",
       "      <td>cones</td>\n",
       "      <td>gauss_5_3</td>\n",
       "      <td>5x3</td>\n",
       "      <td>0.114163</td>\n",
       "    </tr>\n",
       "    <tr>\n",
       "      <th>182</th>\n",
       "      <td>20</td>\n",
       "      <td>-20</td>\n",
       "      <td>-1</td>\n",
       "      <td>cones</td>\n",
       "      <td>octagon_3_1</td>\n",
       "      <td>5x5</td>\n",
       "      <td>0.115212</td>\n",
       "    </tr>\n",
       "  </tbody>\n",
       "</table>\n",
       "</div>"
      ],
      "text/plain": [
       "     match  gap  egap  scene  kernel_spec kernel_size      bad4\n",
       "150     20  -20    -1  cones    gauss_5_5         5x5  0.108368\n",
       "162     20  -20    -1  cones   gauss_11_3        11x3  0.112780\n",
       "166     20  -20    -1  cones   gauss_13_3        13x3  0.112780\n",
       "158     20  -20    -1  cones    gauss_7_3         7x3  0.112780\n",
       "154     20  -20    -1  cones    gauss_5_3         5x3  0.113003\n",
       "286     30  -20    -1  cones   gauss_11_3        11x3  0.113954\n",
       "290     30  -20    -1  cones   gauss_13_3        13x3  0.113954\n",
       "282     30  -20    -1  cones    gauss_7_3         7x3  0.113954\n",
       "278     30  -20    -1  cones    gauss_5_3         5x3  0.114163\n",
       "182     20  -20    -1  cones  octagon_3_1         5x5  0.115212"
      ]
     },
     "execution_count": 8,
     "metadata": {},
     "output_type": "execute_result"
    }
   ],
   "source": [
    "df_temp_1.sort_values(by=metrics_selector.value, inplace=True)\n",
    "df_temp_2.sort_values(by=metrics_selector.value, inplace=True)\n",
    "df_temp_1[[\"match\", \"gap\", \"egap\", \"scene\",\"kernel_spec\", \"kernel_size\", metrics_selector.value]].head(10)"
   ]
  },
  {
   "cell_type": "markdown",
   "metadata": {},
   "source": [
    "#### \"Teddy\" best results"
   ]
  },
  {
   "cell_type": "code",
   "execution_count": 9,
   "metadata": {
    "scrolled": true
   },
   "outputs": [
    {
     "data": {
      "text/html": [
       "<div>\n",
       "<style scoped>\n",
       "    .dataframe tbody tr th:only-of-type {\n",
       "        vertical-align: middle;\n",
       "    }\n",
       "\n",
       "    .dataframe tbody tr th {\n",
       "        vertical-align: top;\n",
       "    }\n",
       "\n",
       "    .dataframe thead th {\n",
       "        text-align: right;\n",
       "    }\n",
       "</style>\n",
       "<table border=\"1\" class=\"dataframe\">\n",
       "  <thead>\n",
       "    <tr style=\"text-align: right;\">\n",
       "      <th></th>\n",
       "      <th>match</th>\n",
       "      <th>gap</th>\n",
       "      <th>egap</th>\n",
       "      <th>scene</th>\n",
       "      <th>kernel_spec</th>\n",
       "      <th>kernel_size</th>\n",
       "      <th>bad4</th>\n",
       "    </tr>\n",
       "  </thead>\n",
       "  <tbody>\n",
       "    <tr>\n",
       "      <th>396</th>\n",
       "      <td>40</td>\n",
       "      <td>-20</td>\n",
       "      <td>-1</td>\n",
       "      <td>teddy</td>\n",
       "      <td>gauss_5_5</td>\n",
       "      <td>5x5</td>\n",
       "      <td>0.190815</td>\n",
       "    </tr>\n",
       "    <tr>\n",
       "      <th>180</th>\n",
       "      <td>20</td>\n",
       "      <td>-20</td>\n",
       "      <td>-1</td>\n",
       "      <td>teddy</td>\n",
       "      <td>octagon_3_1</td>\n",
       "      <td>5x5</td>\n",
       "      <td>0.196125</td>\n",
       "    </tr>\n",
       "    <tr>\n",
       "      <th>412</th>\n",
       "      <td>40</td>\n",
       "      <td>-20</td>\n",
       "      <td>-1</td>\n",
       "      <td>teddy</td>\n",
       "      <td>gauss_13_3</td>\n",
       "      <td>13x3</td>\n",
       "      <td>0.197547</td>\n",
       "    </tr>\n",
       "    <tr>\n",
       "      <th>408</th>\n",
       "      <td>40</td>\n",
       "      <td>-20</td>\n",
       "      <td>-1</td>\n",
       "      <td>teddy</td>\n",
       "      <td>gauss_11_3</td>\n",
       "      <td>11x3</td>\n",
       "      <td>0.197547</td>\n",
       "    </tr>\n",
       "    <tr>\n",
       "      <th>404</th>\n",
       "      <td>40</td>\n",
       "      <td>-20</td>\n",
       "      <td>-1</td>\n",
       "      <td>teddy</td>\n",
       "      <td>gauss_7_3</td>\n",
       "      <td>7x3</td>\n",
       "      <td>0.197703</td>\n",
       "    </tr>\n",
       "    <tr>\n",
       "      <th>400</th>\n",
       "      <td>40</td>\n",
       "      <td>-20</td>\n",
       "      <td>-1</td>\n",
       "      <td>teddy</td>\n",
       "      <td>gauss_5_3</td>\n",
       "      <td>5x3</td>\n",
       "      <td>0.198041</td>\n",
       "    </tr>\n",
       "    <tr>\n",
       "      <th>392</th>\n",
       "      <td>40</td>\n",
       "      <td>-20</td>\n",
       "      <td>-1</td>\n",
       "      <td>teddy</td>\n",
       "      <td>gauss_3_3</td>\n",
       "      <td>3x3</td>\n",
       "      <td>0.199728</td>\n",
       "    </tr>\n",
       "    <tr>\n",
       "      <th>304</th>\n",
       "      <td>30</td>\n",
       "      <td>-20</td>\n",
       "      <td>-1</td>\n",
       "      <td>teddy</td>\n",
       "      <td>octagon_3_1</td>\n",
       "      <td>5x5</td>\n",
       "      <td>0.200080</td>\n",
       "    </tr>\n",
       "    <tr>\n",
       "      <th>272</th>\n",
       "      <td>30</td>\n",
       "      <td>-20</td>\n",
       "      <td>-1</td>\n",
       "      <td>teddy</td>\n",
       "      <td>gauss_5_5</td>\n",
       "      <td>5x5</td>\n",
       "      <td>0.200303</td>\n",
       "    </tr>\n",
       "    <tr>\n",
       "      <th>268</th>\n",
       "      <td>30</td>\n",
       "      <td>-20</td>\n",
       "      <td>-1</td>\n",
       "      <td>teddy</td>\n",
       "      <td>gauss_3_3</td>\n",
       "      <td>3x3</td>\n",
       "      <td>0.206020</td>\n",
       "    </tr>\n",
       "  </tbody>\n",
       "</table>\n",
       "</div>"
      ],
      "text/plain": [
       "     match  gap  egap  scene  kernel_spec kernel_size      bad4\n",
       "396     40  -20    -1  teddy    gauss_5_5         5x5  0.190815\n",
       "180     20  -20    -1  teddy  octagon_3_1         5x5  0.196125\n",
       "412     40  -20    -1  teddy   gauss_13_3        13x3  0.197547\n",
       "408     40  -20    -1  teddy   gauss_11_3        11x3  0.197547\n",
       "404     40  -20    -1  teddy    gauss_7_3         7x3  0.197703\n",
       "400     40  -20    -1  teddy    gauss_5_3         5x3  0.198041\n",
       "392     40  -20    -1  teddy    gauss_3_3         3x3  0.199728\n",
       "304     30  -20    -1  teddy  octagon_3_1         5x5  0.200080\n",
       "272     30  -20    -1  teddy    gauss_5_5         5x5  0.200303\n",
       "268     30  -20    -1  teddy    gauss_3_3         3x3  0.206020"
      ]
     },
     "execution_count": 9,
     "metadata": {},
     "output_type": "execute_result"
    }
   ],
   "source": [
    "df_temp_2[[\"match\", \"gap\", \"egap\", \"scene\",\"kernel_spec\", \"kernel_size\", metrics_selector.value]].head(10)"
   ]
  },
  {
   "cell_type": "code",
   "execution_count": null,
   "metadata": {},
   "outputs": [],
   "source": []
  }
 ],
 "metadata": {
  "kernelspec": {
   "display_name": "Python 3",
   "language": "python",
   "name": "python3"
  },
  "language_info": {
   "codemirror_mode": {
    "name": "ipython",
    "version": 3
   },
   "file_extension": ".py",
   "mimetype": "text/x-python",
   "name": "python",
   "nbconvert_exporter": "python",
   "pygments_lexer": "ipython3",
   "version": "3.8.2"
  },
  "widgets": {
   "application/vnd.jupyter.widget-state+json": {
    "state": {
     "0006206f144d40848d13332dbec6c103": {
      "buffers": [
       {
        "data": "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",
        "encoding": "base64",
        "path": [
         "value"
        ]
       }
      ],
      "model_module": "@jupyter-widgets/controls",
      "model_module_version": "1.5.0",
      "model_name": "ImageModel",
      "state": {
       "layout": "IPY_MODEL_9af4df2962e34757afbdd1eb7463ed68",
       "value": {}
      }
     },
     "01c28079e0bf47b7859031a1a4b6f398": {
      "model_module": "@jupyter-widgets/base",
      "model_module_version": "1.2.0",
      "model_name": "LayoutModel",
      "state": {
       "height": "375px",
       "width": "450px"
      }
     },
     "0380615fc1ae4ac4be15ae4ffc3490c7": {
      "model_module": "@jupyter-widgets/base",
      "model_module_version": "1.2.0",
      "model_name": "LayoutModel",
      "state": {
       "height": "375px",
       "width": "450px"
      }
     },
     "03c003940c5046bb90af97a2d124ffb7": {
      "buffers": [
       {
        "data": "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",
        "encoding": "base64",
        "path": [
         "value"
        ]
       }
      ],
      "model_module": "@jupyter-widgets/controls",
      "model_module_version": "1.5.0",
      "model_name": "ImageModel",
      "state": {
       "layout": "IPY_MODEL_e51af8457a6c4c8dab023d07fe6c5a27",
       "value": {}
      }
     },
     "053a695f0f654d2c86847503f30205e3": {
      "model_module": "@jupyter-widgets/controls",
      "model_module_version": "1.5.0",
      "model_name": "HBoxModel",
      "state": {
       "children": [
        "IPY_MODEL_f441ff580aac4d73b4176b0087cc592e",
        "IPY_MODEL_d61125d6ba89436fb38cacaa0d5ea299"
       ],
       "layout": "IPY_MODEL_a8f3539a6cac45a29b1a5488bf45d87e"
      }
     },
     "0ecae684f08744a195852053b941277b": {
      "model_module": "@jupyter-widgets/controls",
      "model_module_version": "1.5.0",
      "model_name": "DropdownModel",
      "state": {
       "_options_labels": [
        "On",
        "Off"
       ],
       "description": "Turn plots:",
       "index": 1,
       "layout": "IPY_MODEL_3a0d8b8643c54125b220d8a54b1544ce",
       "style": "IPY_MODEL_f23c0dfd85a54066ae7207345ad37bd8"
      }
     },
     "0fa394940d754f1f86beb281b98b0835": {
      "model_module": "@jupyter-widgets/base",
      "model_module_version": "1.2.0",
      "model_name": "LayoutModel",
      "state": {
       "height": "375px",
       "width": "450px"
      }
     },
     "120551c0ded743558a53d97163f005c5": {
      "buffers": [
       {
        "data": "XzGtL7Jvzj9fMa0vsm/OPyFFqzaHSs0/qk3Bqtleyj+Vy92vrZDJP1m9Y+7Obs4/IUWrNodKzT+qTcGq2V7KP5XL3a+tkMk/",
        "encoding": "base64",
        "path": [
         "_data",
         0,
         "y",
         "value"
        ]
       },
       {
        "data": "n61dJjAX1j/fvqjGD2faP0pgsMsIJeA/p1msUSo44j8=",
        "encoding": "base64",
        "path": [
         "_data",
         1,
         "y",
         "value"
        ]
       },
       {
        "data": "XODthtbP1T8BOfHYFFjaP5DQiqsX5N8/k8dKAnIM4j8=",
        "encoding": "base64",
        "path": [
         "_data",
         2,
         "y",
         "value"
        ]
       },
       {
        "data": "64etLnJA2j/fIDuD3VDgP+GbBV+5X+I/CrDMSFS04z8=",
        "encoding": "base64",
        "path": [
         "_data",
         3,
         "y",
         "value"
        ]
       },
       {
        "data": "LJijD+yj0D/o/6YrTSHTP3FbVCZ3RdU/ijgKk9Mc2j8=",
        "encoding": "base64",
        "path": [
         "_data",
         4,
         "y",
         "value"
        ]
       },
       {
        "data": "XTWt7MJd1j8+sfmRdYraP49r5CA3ROA/VYVJdNZd4j8=",
        "encoding": "base64",
        "path": [
         "_data",
         5,
         "y",
         "value"
        ]
       },
       {
        "data": "RPHlJl/g1T/08wuGFVbaP6yvvDcP/d8/2LPGHHkh4j8=",
        "encoding": "base64",
        "path": [
         "_data",
         6,
         "y",
         "value"
        ]
       },
       {
        "data": "vCaUaOGj2D+i1/tJWxzfP8X6l4iWHuI/2QAdONwe4z8=",
        "encoding": "base64",
        "path": [
         "_data",
         7,
         "y",
         "value"
        ]
       },
       {
        "data": "N5DzluPVzz9TKM2D2nvSP5qX0ATN89M/BRPiI7gh2D8=",
        "encoding": "base64",
        "path": [
         "_data",
         8,
         "y",
         "value"
        ]
       },
       {
        "data": "b/Zu6/HS1T82ByvFg2DaP63OnpL56N8/AVz9ENMT4j8=",
        "encoding": "base64",
        "path": [
         "_data",
         9,
         "y",
         "value"
        ]
       },
       {
        "data": "b/Zu6/HS1T82ByvFg2DaP63OnpL56N8/AVz9ENMT4j8=",
        "encoding": "base64",
        "path": [
         "_data",
         10,
         "y",
         "value"
        ]
       },
       {
        "data": "tw0dmS6s3D+0h2zUTqLhP1AoTyOR1uI/tG5zZeVP5T8=",
        "encoding": "base64",
        "path": [
         "_data",
         11,
         "y",
         "value"
        ]
       },
       {
        "data": "wAIFEo1k0j/7YgBLgnzUP7MXiOF2jtg/MYKln0Zh3T8=",
        "encoding": "base64",
        "path": [
         "_data",
         12,
         "y",
         "value"
        ]
       },
       {
        "data": "OVq+DO66zj85Wr4M7rrOP6L3R/SM5cw/rQdmS0tfyj83VcEPa1nJPzlavgzuus4/ovdH9IzlzD+tB2ZLS1/KPzdVwQ9rWck/",
        "encoding": "base64",
        "path": [
         "_data",
         13,
         "y",
         "value"
        ]
       },
       {
        "data": "pc9koKH0zj+lz2SgofTOP6ktdQColcw/Da0224qjyT9gsHfInmzIP6XPZKCh9M4/qS11AKiVzD8NrTbbiqPJP2Cwd8iebMg/",
        "encoding": "base64",
        "path": [
         "_data",
         14,
         "y",
         "value"
        ]
       },
       {
        "data": "MHPpGfVZzD+qhLTEnBrJP9yvmAA4nMk/9DF8+2Nqyj8=",
        "encoding": "base64",
        "path": [
         "_data",
         15,
         "y",
         "value"
        ]
       },
       {
        "data": "E5xK+Emzyz/JMrICjy/OP32q+AFF7dA/tUGTFHf90T8=",
        "encoding": "base64",
        "path": [
         "_data",
         16,
         "y",
         "value"
        ]
       },
       {
        "data": "E5xK+Emzyz/JMrICjy/OP32q+AFF7dA/tUGTFHf90T8=",
        "encoding": "base64",
        "path": [
         "_data",
         17,
         "y",
         "value"
        ]
       },
       {
        "data": "5dXzd0Ar6j+Di6VYGOLvPwAAAAAAAPA/AAAAAAAA8D8=",
        "encoding": "base64",
        "path": [
         "_data",
         18,
         "y",
         "value"
        ]
       },
       {
        "data": "9Xd/2/7w6T8rqGAUHdTvPwAAAAAAAPA/AAAAAAAA8D8=",
        "encoding": "base64",
        "path": [
         "_data",
         19,
         "y",
         "value"
        ]
       },
       {
        "data": "DdLXATNH7T8AAAAAAADwPwAAAAAAAPA/AAAAAAAA8D8=",
        "encoding": "base64",
        "path": [
         "_data",
         20,
         "y",
         "value"
        ]
       },
       {
        "data": "2cnV3ZKf5D8pPZLtFsjsPxUW/8RkqO8/AAAAAAAA8D8=",
        "encoding": "base64",
        "path": [
         "_data",
         21,
         "y",
         "value"
        ]
       },
       {
        "data": "Ay8yUEayzj8DLzJQRrLOPz4scC3L1cw/6Gh3kwGRyj/xKqtfUk7JPwMvMlBGss4/PixwLcvVzD/oaHeTAZHKP/Eqq19STsk/",
        "encoding": "base64",
        "path": [
         "_data",
         22,
         "y",
         "value"
        ]
       },
       {
        "data": "gQmyYTc+zD8k9xCtMpzNP6KoXOo/ANA/ZoyQ8la00T8=",
        "encoding": "base64",
        "path": [
         "_data",
         23,
         "y",
         "value"
        ]
       },
       {
        "data": "YDmU2oSlzT+QVKrAervPP1wBUEDJstE/P7X5ToZ40j8=",
        "encoding": "base64",
        "path": [
         "_data",
         24,
         "y",
         "value"
        ]
       },
       {
        "data": "YDmU2oSlzT+QVKrAervPP1wBUEDJstE/P7X5ToZ40j8=",
        "encoding": "base64",
        "path": [
         "_data",
         25,
         "y",
         "value"
        ]
       },
       {
        "data": "gQmyYTc+zD8k9xCtMpzNP6KoXOo/ANA/ZoyQ8la00T8=",
        "encoding": "base64",
        "path": [
         "_data",
         26,
         "y",
         "value"
        ]
       },
       {
        "data": "yRtjEvG1zT8V8J8O72POPz9ZZQ4bGdA/BXtdzAal0T8=",
        "encoding": "base64",
        "path": [
         "_data",
         27,
         "y",
         "value"
        ]
       },
       {
        "data": "pWOqip2wzT9ovO3hP3HOPxOx2tk6Y9A/BpKsvKQe0j8=",
        "encoding": "base64",
        "path": [
         "_data",
         28,
         "y",
         "value"
        ]
       },
       {
        "data": "F0WztGG1zj8XRbO0YbXOP0RDZ5511sw/7X9uBKyRyj/Rz0SoN0nJPxdFs7Rhtc4/RENnnnXWzD/tf24ErJHKP9HPRKg3Sck/",
        "encoding": "base64",
        "path": [
         "_data",
         29,
         "y",
         "value"
        ]
       },
       {
        "data": "F0WztGG1zj9EQ2eeddbMP+1/bgSskco/0c9EqDdJyT8XRbO0YbXOP0RDZ5511sw/7X9uBKyRyj/Rz0SoN0nJPw==",
        "encoding": "base64",
        "path": [
         "_data",
         30,
         "y",
         "value"
        ]
       }
      ],
      "model_module": "plotlywidget",
      "model_module_version": "4.6.0",
      "model_name": "FigureModel",
      "state": {
       "_config": {
        "plotlyServerURL": "https://plot.ly"
       },
       "_data": [
        {
         "hovertemplate": "%{text}",
         "name": "gauss_3_3",
         "showlegend": true,
         "text": [
          "bad4: 0.2377836926265315<br>Experiment id:<br> ALG_005_EXP_002-PatchMatch-MacLean_et_al-Numba<br>Scene: teddy<br>kernel size: 3x3<br>kernel spec: gauss_3_3<br>match:10<br>bad4: 0.2377836926265315<br>IMG res:450x375",
          "bad4: 0.2377836926265315<br>Experiment id:<br> ALG_005_EXP_002-PatchMatch-MacLean_et_al-Numba<br>Scene: teddy<br>kernel size: 3x3<br>kernel spec: gauss_3_3<br>match:10<br>bad4: 0.2377836926265315<br>IMG res:450x375",
          "bad4: 0.22883691949258725<br>Experiment id:<br> ALG_005_EXP_002-PatchMatch-MacLean_et_al-Numba<br>Scene: teddy<br>kernel size: 3x3<br>kernel spec: gauss_3_3<br>match:20<br>bad4: 0.22883691949258725<br>IMG res:450x375",
          "bad4: 0.20601960027361815<br>Experiment id:<br> ALG_005_EXP_002-PatchMatch-MacLean_et_al-Numba<br>Scene: teddy<br>kernel size: 3x3<br>kernel spec: gauss_3_3<br>match:30<br>bad4: 0.20601960027361815<br>IMG res:450x375",
          "bad4: 0.19972773635126076<br>Experiment id:<br> ALG_005_EXP_002-PatchMatch-MacLean_et_al-Numba<br>Scene: teddy<br>kernel size: 3x3<br>kernel spec: gauss_3_3<br>match:40<br>bad4: 0.19972773635126076<br>IMG res:450x375",
          "bad4: 0.2377566017162092<br>Experiment id:<br> ALG_005_EXP_002-PatchMatch-MacLean_et_al-Numba<br>Scene: teddy<br>kernel size: 3x3<br>kernel spec: gauss_3_3<br>match:10<br>bad4: 0.2377566017162092<br>IMG res:450x375",
          "bad4: 0.22883691949258725<br>Experiment id:<br> ALG_005_EXP_002-PatchMatch-MacLean_et_al-Numba<br>Scene: teddy<br>kernel size: 3x3<br>kernel spec: gauss_3_3<br>match:20<br>bad4: 0.22883691949258725<br>IMG res:450x375",
          "bad4: 0.20601960027361815<br>Experiment id:<br> ALG_005_EXP_002-PatchMatch-MacLean_et_al-Numba<br>Scene: teddy<br>kernel size: 3x3<br>kernel spec: gauss_3_3<br>match:30<br>bad4: 0.20601960027361815<br>IMG res:450x375",
          "bad4: 0.19972773635126076<br>Experiment id:<br> ALG_005_EXP_002-PatchMatch-MacLean_et_al-Numba<br>Scene: teddy<br>kernel size: 3x3<br>kernel spec: gauss_3_3<br>match:40<br>bad4: 0.19972773635126076<br>IMG res:450x375"
         ],
         "type": "scatter",
         "uid": "557fc92f-dfb3-4f50-815d-925b6366dc87",
         "x": [
          10,
          10,
          20,
          30,
          40,
          10,
          20,
          30,
          40
         ],
         "y": {
          "dtype": "float64",
          "shape": [
           9
          ],
          "value": {}
         }
        },
        {
         "hovertemplate": "%{text}",
         "name": "hsobel",
         "showlegend": true,
         "text": [
          "bad4: 0.34516528841660404<br>Experiment id:<br> ALG_005_EXP_002-PatchMatch-MacLean_et_al-Numba<br>Scene: teddy<br>kernel size: 3x3<br>kernel spec: hsobel<br>match:10<br>bad4: 0.34516528841660404<br>IMG res:450x375",
          "bad4: 0.4125403823881992<br>Experiment id:<br> ALG_005_EXP_002-PatchMatch-MacLean_et_al-Numba<br>Scene: teddy<br>kernel size: 3x3<br>kernel spec: hsobel<br>match:20<br>bad4: 0.4125403823881992<br>IMG res:450x375",
          "bad4: 0.5045207956600362<br>Experiment id:<br> ALG_005_EXP_002-PatchMatch-MacLean_et_al-Numba<br>Scene: teddy<br>kernel size: 3x3<br>kernel spec: hsobel<br>match:30<br>bad4: 0.5045207956600362<br>IMG res:450x375",
          "bad4: 0.5693561167889144<br>Experiment id:<br> ALG_005_EXP_002-PatchMatch-MacLean_et_al-Numba<br>Scene: teddy<br>kernel size: 3x3<br>kernel spec: hsobel<br>match:40<br>bad4: 0.5693561167889144<br>IMG res:450x375"
         ],
         "type": "scatter",
         "uid": "175c51cc-90d2-46a7-8577-68cd50995d0d",
         "x": [
          10,
          20,
          30,
          40
         ],
         "y": {
          "dtype": "float64",
          "shape": [
           4
          ],
          "value": {}
         }
        },
        {
         "hovertemplate": "%{text}",
         "name": "vsobel",
         "showlegend": true,
         "text": [
          "bad4: 0.34081042458229205<br>Experiment id:<br> ALG_005_EXP_002-PatchMatch-MacLean_et_al-Numba<br>Scene: teddy<br>kernel size: 3x3<br>kernel spec: vsobel<br>match:10<br>bad4: 0.34081042458229205<br>IMG res:450x375",
          "bad4: 0.4116260641648211<br>Experiment id:<br> ALG_005_EXP_002-PatchMatch-MacLean_et_al-Numba<br>Scene: teddy<br>kernel size: 3x3<br>kernel spec: vsobel<br>match:20<br>bad4: 0.4116260641648211<br>IMG res:450x375",
          "bad4: 0.4982966590134845<br>Experiment id:<br> ALG_005_EXP_002-PatchMatch-MacLean_et_al-Numba<br>Scene: teddy<br>kernel size: 3x3<br>kernel spec: vsobel<br>match:30<br>bad4: 0.4982966590134845<br>IMG res:450x375",
          "bad4: 0.5640192074554186<br>Experiment id:<br> ALG_005_EXP_002-PatchMatch-MacLean_et_al-Numba<br>Scene: teddy<br>kernel size: 3x3<br>kernel spec: vsobel<br>match:40<br>bad4: 0.5640192074554186<br>IMG res:450x375"
         ],
         "type": "scatter",
         "uid": "a307dcd9-8454-4f3a-9f21-4c5520fb43f9",
         "x": [
          10,
          20,
          30,
          40
         ],
         "y": {
          "dtype": "float64",
          "shape": [
           4
          ],
          "value": {}
         }
        },
        {
         "hovertemplate": "%{text}",
         "name": "hvsobel_div2",
         "showlegend": true,
         "text": [
          "bad4: 0.41018347319015785<br>Experiment id:<br> ALG_005_EXP_002-PatchMatch-MacLean_et_al-Numba<br>Scene: teddy<br>kernel size: 3x3<br>kernel spec: hvsobel_div2<br>match:10<br>bad4: 0.41018347319015785<br>IMG res:450x375",
          "bad4: 0.5098712504486932<br>Experiment id:<br> ALG_005_EXP_002-PatchMatch-MacLean_et_al-Numba<br>Scene: teddy<br>kernel size: 3x3<br>kernel spec: hvsobel_div2<br>match:20<br>bad4: 0.5098712504486932<br>IMG res:450x375",
          "bad4: 0.5741850715538669<br>Experiment id:<br> ALG_005_EXP_002-PatchMatch-MacLean_et_al-Numba<br>Scene: teddy<br>kernel size: 3x3<br>kernel spec: hvsobel_div2<br>match:30<br>bad4: 0.5741850715538669<br>IMG res:450x375",
          "bad4: 0.6157628461710385<br>Experiment id:<br> ALG_005_EXP_002-PatchMatch-MacLean_et_al-Numba<br>Scene: teddy<br>kernel size: 3x3<br>kernel spec: hvsobel_div2<br>match:40<br>bad4: 0.6157628461710385<br>IMG res:450x375"
         ],
         "type": "scatter",
         "uid": "a13f5757-9b2a-417d-aa5a-0ca994b35d76",
         "x": [
          10,
          20,
          30,
          40
         ],
         "y": {
          "dtype": "float64",
          "shape": [
           4
          ],
          "value": {}
         }
        },
        {
         "hovertemplate": "%{text}",
         "name": "hvsobel_div",
         "showlegend": true,
         "text": [
          "bad4: 0.2600050118184096<br>Experiment id:<br> ALG_005_EXP_002-PatchMatch-MacLean_et_al-Numba<br>Scene: teddy<br>kernel size: 3x3<br>kernel spec: hvsobel_div<br>match:10<br>bad4: 0.2600050118184096<br>IMG res:450x375",
          "bad4: 0.29890755904125266<br>Experiment id:<br> ALG_005_EXP_002-PatchMatch-MacLean_et_al-Numba<br>Scene: teddy<br>kernel size: 3x3<br>kernel spec: hvsobel_div<br>match:20<br>bad4: 0.29890755904125266<br>IMG res:450x375",
          "bad4: 0.3323648332893106<br>Experiment id:<br> ALG_005_EXP_002-PatchMatch-MacLean_et_al-Numba<br>Scene: teddy<br>kernel size: 3x3<br>kernel spec: hvsobel_div<br>match:30<br>bad4: 0.3323648332893106<br>IMG res:450x375",
          "bad4: 0.40800942763679215<br>Experiment id:<br> ALG_005_EXP_002-PatchMatch-MacLean_et_al-Numba<br>Scene: teddy<br>kernel size: 3x3<br>kernel spec: hvsobel_div<br>match:40<br>bad4: 0.40800942763679215<br>IMG res:450x375"
         ],
         "type": "scatter",
         "uid": "55887506-fb0e-46d9-b6d6-c0fc773f134a",
         "x": [
          10,
          20,
          30,
          40
         ],
         "y": {
          "dtype": "float64",
          "shape": [
           4
          ],
          "value": {}
         }
        },
        {
         "hovertemplate": "%{text}",
         "name": "hscharr",
         "showlegend": true,
         "text": [
          "bad4: 0.349472743157852<br>Experiment id:<br> ALG_005_EXP_002-PatchMatch-MacLean_et_al-Numba<br>Scene: teddy<br>kernel size: 3x3<br>kernel spec: hscharr<br>match:10<br>bad4: 0.349472743157852<br>IMG res:450x375",
          "bad4: 0.4147008824864037<br>Experiment id:<br> ALG_005_EXP_002-PatchMatch-MacLean_et_al-Numba<br>Scene: teddy<br>kernel size: 3x3<br>kernel spec: hscharr<br>match:20<br>bad4: 0.4147008824864037<br>IMG res:450x375",
          "bad4: 0.5083270685603213<br>Experiment id:<br> ALG_005_EXP_002-PatchMatch-MacLean_et_al-Numba<br>Scene: teddy<br>kernel size: 3x3<br>kernel spec: hscharr<br>match:30<br>bad4: 0.5083270685603213<br>IMG res:450x375",
          "bad4: 0.5739547988161272<br>Experiment id:<br> ALG_005_EXP_002-PatchMatch-MacLean_et_al-Numba<br>Scene: teddy<br>kernel size: 3x3<br>kernel spec: hscharr<br>match:40<br>bad4: 0.5739547988161272<br>IMG res:450x375"
         ],
         "type": "scatter",
         "uid": "e51fd317-553b-4973-bcf3-a5dbd482cb03",
         "x": [
          10,
          20,
          30,
          40
         ],
         "y": {
          "dtype": "float64",
          "shape": [
           4
          ],
          "value": {}
         }
        },
        {
         "hovertemplate": "%{text}",
         "name": "vscharr",
         "showlegend": true,
         "text": [
          "bad4: 0.3418195609917982<br>Experiment id:<br> ALG_005_EXP_002-PatchMatch-MacLean_et_al-Numba<br>Scene: teddy<br>kernel size: 3x3<br>kernel spec: vscharr<br>match:10<br>bad4: 0.3418195609917982<br>IMG res:450x375",
          "bad4: 0.4115041550683707<br>Experiment id:<br> ALG_005_EXP_002-PatchMatch-MacLean_et_al-Numba<br>Scene: teddy<br>kernel size: 3x3<br>kernel spec: vscharr<br>match:20<br>bad4: 0.4115041550683707<br>IMG res:450x375",
          "bad4: 0.4998205227191146<br>Experiment id:<br> ALG_005_EXP_002-PatchMatch-MacLean_et_al-Numba<br>Scene: teddy<br>kernel size: 3x3<br>kernel spec: vscharr<br>match:30<br>bad4: 0.4998205227191146<br>IMG res:450x375",
          "bad4: 0.5665860712084578<br>Experiment id:<br> ALG_005_EXP_002-PatchMatch-MacLean_et_al-Numba<br>Scene: teddy<br>kernel size: 3x3<br>kernel spec: vscharr<br>match:40<br>bad4: 0.5665860712084578<br>IMG res:450x375"
         ],
         "type": "scatter",
         "uid": "854af107-dc1d-4bd5-b887-a3dac3981636",
         "x": [
          10,
          20,
          30,
          40
         ],
         "y": {
          "dtype": "float64",
          "shape": [
           4
          ],
          "value": {}
         }
        },
        {
         "hovertemplate": "%{text}",
         "name": "hvscharr_div2",
         "showlegend": true,
         "text": [
          "bad4: 0.3850024720455669<br>Experiment id:<br> ALG_005_EXP_002-PatchMatch-MacLean_et_al-Numba<br>Scene: teddy<br>kernel size: 3x3<br>kernel spec: hvscharr_div2<br>match:10<br>bad4: 0.3850024720455669<br>IMG res:450x375",
          "bad4: 0.4861057493684432<br>Experiment id:<br> ALG_005_EXP_002-PatchMatch-MacLean_et_al-Numba<br>Scene: teddy<br>kernel size: 3x3<br>kernel spec: hvscharr_div2<br>match:20<br>bad4: 0.4861057493684432<br>IMG res:450x375",
          "bad4: 0.5662338893742677<br>Experiment id:<br> ALG_005_EXP_002-PatchMatch-MacLean_et_al-Numba<br>Scene: teddy<br>kernel size: 3x3<br>kernel spec: hvscharr_div2<br>match:30<br>bad4: 0.5662338893742677<br>IMG res:450x375",
          "bad4: 0.5975171180689599<br>Experiment id:<br> ALG_005_EXP_002-PatchMatch-MacLean_et_al-Numba<br>Scene: teddy<br>kernel size: 3x3<br>kernel spec: hvscharr_div2<br>match:40<br>bad4: 0.5975171180689599<br>IMG res:450x375"
         ],
         "type": "scatter",
         "uid": "0273a349-7da0-4037-9ed9-ef10459e673c",
         "x": [
          10,
          20,
          30,
          40
         ],
         "y": {
          "dtype": "float64",
          "shape": [
           4
          ],
          "value": {}
         }
        },
        {
         "hovertemplate": "%{text}",
         "name": "hvscharr",
         "showlegend": true,
         "text": [
          "bad4: 0.24871487494158526<br>Experiment id:<br> ALG_005_EXP_002-PatchMatch-MacLean_et_al-Numba<br>Scene: teddy<br>kernel size: 3x3<br>kernel spec: hvscharr<br>match:10<br>bad4: 0.24871487494158526<br>IMG res:450x375",
          "bad4: 0.2888094222186101<br>Experiment id:<br> ALG_005_EXP_002-PatchMatch-MacLean_et_al-Numba<br>Scene: teddy<br>kernel size: 3x3<br>kernel spec: hvscharr<br>match:20<br>bad4: 0.2888094222186101<br>IMG res:450x375",
          "bad4: 0.3117554232616101<br>Experiment id:<br> ALG_005_EXP_002-PatchMatch-MacLean_et_al-Numba<br>Scene: teddy<br>kernel size: 3x3<br>kernel spec: hvscharr<br>match:30<br>bad4: 0.3117554232616101<br>IMG res:450x375",
          "bad4: 0.3770580625935483<br>Experiment id:<br> ALG_005_EXP_002-PatchMatch-MacLean_et_al-Numba<br>Scene: teddy<br>kernel size: 3x3<br>kernel spec: hvscharr<br>match:40<br>bad4: 0.3770580625935483<br>IMG res:450x375"
         ],
         "type": "scatter",
         "uid": "ddd20057-5ec0-4c54-b6e6-50086cf57b38",
         "x": [
          10,
          20,
          30,
          40
         ],
         "y": {
          "dtype": "float64",
          "shape": [
           4
          ],
          "value": {}
         }
        },
        {
         "hovertemplate": "%{text}",
         "name": "hprewitt",
         "showlegend": true,
         "text": [
          "bad4: 0.3410000609545482<br>Experiment id:<br> ALG_005_EXP_002-PatchMatch-MacLean_et_al-Numba<br>Scene: teddy<br>kernel size: 3x3<br>kernel spec: hprewitt<br>match:10<br>bad4: 0.3410000609545482<br>IMG res:450x375",
          "bad4: 0.41214079146094507<br>Experiment id:<br> ALG_005_EXP_002-PatchMatch-MacLean_et_al-Numba<br>Scene: teddy<br>kernel size: 3x3<br>kernel spec: hprewitt<br>match:20<br>bad4: 0.41214079146094507<br>IMG res:450x375",
          "bad4: 0.4985946590270299<br>Experiment id:<br> ALG_005_EXP_002-PatchMatch-MacLean_et_al-Numba<br>Scene: teddy<br>kernel size: 3x3<br>kernel spec: hprewitt<br>match:30<br>bad4: 0.4985946590270299<br>IMG res:450x375",
          "bad4: 0.5649199802236354<br>Experiment id:<br> ALG_005_EXP_002-PatchMatch-MacLean_et_al-Numba<br>Scene: teddy<br>kernel size: 3x3<br>kernel spec: hprewitt<br>match:40<br>bad4: 0.5649199802236354<br>IMG res:450x375"
         ],
         "type": "scatter",
         "uid": "4d52caea-4650-4532-977b-51cd019dfdc6",
         "x": [
          10,
          20,
          30,
          40
         ],
         "y": {
          "dtype": "float64",
          "shape": [
           4
          ],
          "value": {}
         }
        },
        {
         "hovertemplate": "%{text}",
         "name": "vprewitt",
         "showlegend": true,
         "text": [
          "bad4: 0.3410000609545482<br>Experiment id:<br> ALG_005_EXP_002-PatchMatch-MacLean_et_al-Numba<br>Scene: teddy<br>kernel size: 3x3<br>kernel spec: vprewitt<br>match:10<br>bad4: 0.3410000609545482<br>IMG res:450x375",
          "bad4: 0.41214079146094507<br>Experiment id:<br> ALG_005_EXP_002-PatchMatch-MacLean_et_al-Numba<br>Scene: teddy<br>kernel size: 3x3<br>kernel spec: vprewitt<br>match:20<br>bad4: 0.41214079146094507<br>IMG res:450x375",
          "bad4: 0.4985946590270299<br>Experiment id:<br> ALG_005_EXP_002-PatchMatch-MacLean_et_al-Numba<br>Scene: teddy<br>kernel size: 3x3<br>kernel spec: vprewitt<br>match:30<br>bad4: 0.4985946590270299<br>IMG res:450x375",
          "bad4: 0.5649199802236354<br>Experiment id:<br> ALG_005_EXP_002-PatchMatch-MacLean_et_al-Numba<br>Scene: teddy<br>kernel size: 3x3<br>kernel spec: vprewitt<br>match:40<br>bad4: 0.5649199802236354<br>IMG res:450x375"
         ],
         "type": "scatter",
         "uid": "e486b4c1-9ef9-44ea-a7f2-38d25537ea46",
         "x": [
          10,
          20,
          30,
          40
         ],
         "y": {
          "dtype": "float64",
          "shape": [
           4
          ],
          "value": {}
         }
        },
        {
         "hovertemplate": "%{text}",
         "name": "hvprewitt_div2",
         "showlegend": true,
         "text": [
          "bad4: 0.4480091567276889<br>Experiment id:<br> ALG_005_EXP_002-PatchMatch-MacLean_et_al-Numba<br>Scene: teddy<br>kernel size: 3x3<br>kernel spec: hvprewitt_div2<br>match:10<br>bad4: 0.4480091567276889<br>IMG res:450x375",
          "bad4: 0.5510629795937718<br>Experiment id:<br> ALG_005_EXP_002-PatchMatch-MacLean_et_al-Numba<br>Scene: teddy<br>kernel size: 3x3<br>kernel spec: hvprewitt_div2<br>match:20<br>bad4: 0.5510629795937718<br>IMG res:450x375",
          "bad4: 0.5886922540314661<br>Experiment id:<br> ALG_005_EXP_002-PatchMatch-MacLean_et_al-Numba<br>Scene: teddy<br>kernel size: 3x3<br>kernel spec: hvprewitt_div2<br>match:30<br>bad4: 0.5886922540314661<br>IMG res:450x375",
          "bad4: 0.6660029393637701<br>Experiment id:<br> ALG_005_EXP_002-PatchMatch-MacLean_et_al-Numba<br>Scene: teddy<br>kernel size: 3x3<br>kernel spec: hvprewitt_div2<br>match:40<br>bad4: 0.6660029393637701<br>IMG res:450x375"
         ],
         "type": "scatter",
         "uid": "fb5cac29-5a2c-401c-8cd8-427ddd664c77",
         "x": [
          10,
          20,
          30,
          40
         ],
         "y": {
          "dtype": "float64",
          "shape": [
           4
          ],
          "value": {}
         }
        },
        {
         "hovertemplate": "%{text}",
         "name": "hvprewitt",
         "showlegend": true,
         "text": [
          "bad4: 0.28738714942668864<br>Experiment id:<br> ALG_005_EXP_002-PatchMatch-MacLean_et_al-Numba<br>Scene: teddy<br>kernel size: 3x3<br>kernel spec: hvprewitt<br>match:10<br>bad4: 0.28738714942668864<br>IMG res:450x375",
          "bad4: 0.3200994236408829<br>Experiment id:<br> ALG_005_EXP_002-PatchMatch-MacLean_et_al-Numba<br>Scene: teddy<br>kernel size: 3x3<br>kernel spec: hvprewitt<br>match:20<br>bad4: 0.3200994236408829<br>IMG res:450x375",
          "bad4: 0.3836953356225152<br>Experiment id:<br> ALG_005_EXP_002-PatchMatch-MacLean_et_al-Numba<br>Scene: teddy<br>kernel size: 3x3<br>kernel spec: hvprewitt<br>match:30<br>bad4: 0.3836953356225152<br>IMG res:450x375",
          "bad4: 0.4590622481391931<br>Experiment id:<br> ALG_005_EXP_002-PatchMatch-MacLean_et_al-Numba<br>Scene: teddy<br>kernel size: 3x3<br>kernel spec: hvprewitt<br>match:40<br>bad4: 0.4590622481391931<br>IMG res:450x375"
         ],
         "type": "scatter",
         "uid": "f56a473e-0fe6-43c2-9d82-3906af911d5f",
         "x": [
          10,
          20,
          30,
          40
         ],
         "y": {
          "dtype": "float64",
          "shape": [
           4
          ],
          "value": {}
         }
        },
        {
         "hovertemplate": "%{text}",
         "name": "gauss_5_3",
         "showlegend": true,
         "text": [
          "bad4: 0.2400796472763476<br>Experiment id:<br> ALG_005_EXP_002-PatchMatch-MacLean_et_al-Numba<br>Scene: teddy<br>kernel size: 5x3<br>kernel spec: gauss_5_3<br>match:10<br>bad4: 0.2400796472763476<br>IMG res:450x375",
          "bad4: 0.2400796472763476<br>Experiment id:<br> ALG_005_EXP_002-PatchMatch-MacLean_et_al-Numba<br>Scene: teddy<br>kernel size: 5x3<br>kernel spec: gauss_5_3<br>match:10<br>bad4: 0.2400796472763476<br>IMG res:450x375",
          "bad4: 0.225755328443424<br>Experiment id:<br> ALG_005_EXP_002-PatchMatch-MacLean_et_al-Numba<br>Scene: teddy<br>kernel size: 5x3<br>kernel spec: gauss_5_3<br>match:20<br>bad4: 0.225755328443424<br>IMG res:450x375",
          "bad4: 0.20603314572877932<br>Experiment id:<br> ALG_005_EXP_002-PatchMatch-MacLean_et_al-Numba<br>Scene: teddy<br>kernel size: 5x3<br>kernel spec: gauss_5_3<br>match:30<br>bad4: 0.20603314572877932<br>IMG res:450x375",
          "bad4: 0.19804132718369669<br>Experiment id:<br> ALG_005_EXP_002-PatchMatch-MacLean_et_al-Numba<br>Scene: teddy<br>kernel size: 5x3<br>kernel spec: gauss_5_3<br>match:40<br>bad4: 0.19804132718369669<br>IMG res:450x375",
          "bad4: 0.2400796472763476<br>Experiment id:<br> ALG_005_EXP_002-PatchMatch-MacLean_et_al-Numba<br>Scene: teddy<br>kernel size: 5x3<br>kernel spec: gauss_5_3<br>match:10<br>bad4: 0.2400796472763476<br>IMG res:450x375",
          "bad4: 0.225755328443424<br>Experiment id:<br> ALG_005_EXP_002-PatchMatch-MacLean_et_al-Numba<br>Scene: teddy<br>kernel size: 5x3<br>kernel spec: gauss_5_3<br>match:20<br>bad4: 0.225755328443424<br>IMG res:450x375",
          "bad4: 0.20603314572877932<br>Experiment id:<br> ALG_005_EXP_002-PatchMatch-MacLean_et_al-Numba<br>Scene: teddy<br>kernel size: 5x3<br>kernel spec: gauss_5_3<br>match:30<br>bad4: 0.20603314572877932<br>IMG res:450x375",
          "bad4: 0.19804132718369669<br>Experiment id:<br> ALG_005_EXP_002-PatchMatch-MacLean_et_al-Numba<br>Scene: teddy<br>kernel size: 5x3<br>kernel spec: gauss_5_3<br>match:40<br>bad4: 0.19804132718369669<br>IMG res:450x375"
         ],
         "type": "scatter",
         "uid": "8aac1136-c418-40b6-b0f6-ba2324359b71",
         "x": [
          10,
          10,
          20,
          30,
          40,
          10,
          20,
          30,
          40
         ],
         "y": {
          "dtype": "float64",
          "shape": [
           9
          ],
          "value": {}
         }
        },
        {
         "hovertemplate": "%{text}",
         "name": "gauss_5_5",
         "showlegend": true,
         "text": [
          "bad4: 0.241840556447298<br>Experiment id:<br> ALG_005_EXP_002-PatchMatch-MacLean_et_al-Numba<br>Scene: teddy<br>kernel size: 5x5<br>kernel spec: gauss_5_5<br>match:10<br>bad4: 0.241840556447298<br>IMG res:450x375",
          "bad4: 0.241840556447298<br>Experiment id:<br> ALG_005_EXP_002-PatchMatch-MacLean_et_al-Numba<br>Scene: teddy<br>kernel size: 5x5<br>kernel spec: gauss_5_5<br>match:10<br>bad4: 0.241840556447298<br>IMG res:450x375",
          "bad4: 0.22331714651441573<br>Experiment id:<br> ALG_005_EXP_002-PatchMatch-MacLean_et_al-Numba<br>Scene: teddy<br>kernel size: 5x5<br>kernel spec: gauss_5_5<br>match:20<br>bad4: 0.22331714651441573<br>IMG res:450x375",
          "bad4: 0.20030341819560996<br>Experiment id:<br> ALG_005_EXP_002-PatchMatch-MacLean_et_al-Numba<br>Scene: teddy<br>kernel size: 5x5<br>kernel spec: gauss_5_5<br>match:30<br>bad4: 0.20030341819560996<br>IMG res:450x375",
          "bad4: 0.19081482685521944<br>Experiment id:<br> ALG_005_EXP_002-PatchMatch-MacLean_et_al-Numba<br>Scene: teddy<br>kernel size: 5x5<br>kernel spec: gauss_5_5<br>match:40<br>bad4: 0.19081482685521944<br>IMG res:450x375",
          "bad4: 0.241840556447298<br>Experiment id:<br> ALG_005_EXP_002-PatchMatch-MacLean_et_al-Numba<br>Scene: teddy<br>kernel size: 5x5<br>kernel spec: gauss_5_5<br>match:10<br>bad4: 0.241840556447298<br>IMG res:450x375",
          "bad4: 0.22331714651441573<br>Experiment id:<br> ALG_005_EXP_002-PatchMatch-MacLean_et_al-Numba<br>Scene: teddy<br>kernel size: 5x5<br>kernel spec: gauss_5_5<br>match:20<br>bad4: 0.22331714651441573<br>IMG res:450x375",
          "bad4: 0.20030341819560996<br>Experiment id:<br> ALG_005_EXP_002-PatchMatch-MacLean_et_al-Numba<br>Scene: teddy<br>kernel size: 5x5<br>kernel spec: gauss_5_5<br>match:30<br>bad4: 0.20030341819560996<br>IMG res:450x375",
          "bad4: 0.19081482685521944<br>Experiment id:<br> ALG_005_EXP_002-PatchMatch-MacLean_et_al-Numba<br>Scene: teddy<br>kernel size: 5x5<br>kernel spec: gauss_5_5<br>match:40<br>bad4: 0.19081482685521944<br>IMG res:450x375"
         ],
         "type": "scatter",
         "uid": "5908566b-fd9e-4848-a47b-7bf5c603124d",
         "x": [
          10,
          10,
          20,
          30,
          40,
          10,
          20,
          30,
          40
         ],
         "y": {
          "dtype": "float64",
          "shape": [
           9
          ],
          "value": {}
         }
        },
        {
         "hovertemplate": "%{text}",
         "name": "octagon_3_1",
         "showlegend": true,
         "text": [
          "bad4: 0.2214952827952401<br>Experiment id:<br> ALG_005_EXP_002-PatchMatch-MacLean_et_al-Numba<br>Scene: teddy<br>kernel size: 5x5<br>kernel spec: octagon_3_1<br>match:10<br>bad4: 0.2214952827952401<br>IMG res:450x375",
          "bad4: 0.19612464527839296<br>Experiment id:<br> ALG_005_EXP_002-PatchMatch-MacLean_et_al-Numba<br>Scene: teddy<br>kernel size: 5x5<br>kernel spec: octagon_3_1<br>match:20<br>bad4: 0.19612464527839296<br>IMG res:450x375",
          "bad4: 0.2000799181854508<br>Experiment id:<br> ALG_005_EXP_002-PatchMatch-MacLean_et_al-Numba<br>Scene: teddy<br>kernel size: 5x5<br>kernel spec: octagon_3_1<br>match:30<br>bad4: 0.2000799181854508<br>IMG res:450x375",
          "bad4: 0.20637178210780827<br>Experiment id:<br> ALG_005_EXP_002-PatchMatch-MacLean_et_al-Numba<br>Scene: teddy<br>kernel size: 5x5<br>kernel spec: octagon_3_1<br>match:40<br>bad4: 0.20637178210780827<br>IMG res:450x375"
         ],
         "type": "scatter",
         "uid": "e659ef4c-d921-43ba-a1c7-670327f70934",
         "x": [
          10,
          20,
          30,
          40
         ],
         "y": {
          "dtype": "float64",
          "shape": [
           4
          ],
          "value": {}
         }
        },
        {
         "hovertemplate": "%{text}",
         "name": "diamond_2",
         "showlegend": true,
         "text": [
          "bad4: 0.21640896438222565<br>Experiment id:<br> ALG_005_EXP_002-PatchMatch-MacLean_et_al-Numba<br>Scene: teddy<br>kernel size: 5x5<br>kernel spec: diamond_2<br>match:10<br>bad4: 0.21640896438222565<br>IMG res:450x375",
          "bad4: 0.2358263743557443<br>Experiment id:<br> ALG_005_EXP_002-PatchMatch-MacLean_et_al-Numba<br>Scene: teddy<br>kernel size: 5x5<br>kernel spec: diamond_2<br>match:20<br>bad4: 0.2358263743557443<br>IMG res:450x375",
          "bad4: 0.2644817847491721<br>Experiment id:<br> ALG_005_EXP_002-PatchMatch-MacLean_et_al-Numba<br>Scene: teddy<br>kernel size: 5x5<br>kernel spec: diamond_2<br>match:30<br>bad4: 0.2644817847491721<br>IMG res:450x375",
          "bad4: 0.2810952855043312<br>Experiment id:<br> ALG_005_EXP_002-PatchMatch-MacLean_et_al-Numba<br>Scene: teddy<br>kernel size: 5x5<br>kernel spec: diamond_2<br>match:40<br>bad4: 0.2810952855043312<br>IMG res:450x375"
         ],
         "type": "scatter",
         "uid": "3962f2a9-8d42-41b3-959a-987aca9defde",
         "x": [
          10,
          20,
          30,
          40
         ],
         "y": {
          "dtype": "float64",
          "shape": [
           4
          ],
          "value": {}
         }
        },
        {
         "hovertemplate": "%{text}",
         "name": "disk_2",
         "showlegend": true,
         "text": [
          "bad4: 0.21640896438222565<br>Experiment id:<br> ALG_005_EXP_002-PatchMatch-MacLean_et_al-Numba<br>Scene: teddy<br>kernel size: 5x5<br>kernel spec: disk_2<br>match:10<br>bad4: 0.21640896438222565<br>IMG res:450x375",
          "bad4: 0.2358263743557443<br>Experiment id:<br> ALG_005_EXP_002-PatchMatch-MacLean_et_al-Numba<br>Scene: teddy<br>kernel size: 5x5<br>kernel spec: disk_2<br>match:20<br>bad4: 0.2358263743557443<br>IMG res:450x375",
          "bad4: 0.2644817847491721<br>Experiment id:<br> ALG_005_EXP_002-PatchMatch-MacLean_et_al-Numba<br>Scene: teddy<br>kernel size: 5x5<br>kernel spec: disk_2<br>match:30<br>bad4: 0.2644817847491721<br>IMG res:450x375",
          "bad4: 0.2810952855043312<br>Experiment id:<br> ALG_005_EXP_002-PatchMatch-MacLean_et_al-Numba<br>Scene: teddy<br>kernel size: 5x5<br>kernel spec: disk_2<br>match:40<br>bad4: 0.2810952855043312<br>IMG res:450x375"
         ],
         "type": "scatter",
         "uid": "18b5b94f-964a-4667-8a94-45e13bcf9e1f",
         "x": [
          10,
          20,
          30,
          40
         ],
         "y": {
          "dtype": "float64",
          "shape": [
           4
          ],
          "value": {}
         }
        },
        {
         "hovertemplate": "%{text}",
         "name": "hfarid",
         "showlegend": true,
         "text": [
          "bad4: 0.8177797644445347<br>Experiment id:<br> ALG_005_EXP_002-PatchMatch-MacLean_et_al-Numba<br>Scene: teddy<br>kernel size: 5x5<br>kernel spec: hfarid<br>match:10<br>bad4: 0.8177797644445347<br>IMG res:450x375",
          "bad4: 0.9963494998340682<br>Experiment id:<br> ALG_005_EXP_002-PatchMatch-MacLean_et_al-Numba<br>Scene: teddy<br>kernel size: 5x5<br>kernel spec: hfarid<br>match:20<br>bad4: 0.9963494998340682<br>IMG res:450x375",
          "bad4: 1.0<br>Experiment id:<br> ALG_005_EXP_002-PatchMatch-MacLean_et_al-Numba<br>Scene: teddy<br>kernel size: 5x5<br>kernel spec: hfarid<br>match:30<br>bad4: 1.0<br>IMG res:450x375",
          "bad4: 1.0<br>Experiment id:<br> ALG_005_EXP_002-PatchMatch-MacLean_et_al-Numba<br>Scene: teddy<br>kernel size: 5x5<br>kernel spec: hfarid<br>match:40<br>bad4: 1.0<br>IMG res:450x375"
         ],
         "type": "scatter",
         "uid": "89e7c6cd-55f4-44df-935b-9d870d485162",
         "x": [
          10,
          20,
          30,
          40
         ],
         "y": {
          "dtype": "float64",
          "shape": [
           4
          ],
          "value": {}
         }
        },
        {
         "hovertemplate": "%{text}",
         "name": "vfarid",
         "showlegend": true,
         "text": [
          "bad4: 0.8106684004849273<br>Experiment id:<br> ALG_005_EXP_002-PatchMatch-MacLean_et_al-Numba<br>Scene: teddy<br>kernel size: 5x5<br>kernel spec: vfarid<br>match:10<br>bad4: 0.8106684004849273<br>IMG res:450x375",
          "bad4: 0.9946427724837624<br>Experiment id:<br> ALG_005_EXP_002-PatchMatch-MacLean_et_al-Numba<br>Scene: teddy<br>kernel size: 5x5<br>kernel spec: vfarid<br>match:20<br>bad4: 0.9946427724837624<br>IMG res:450x375",
          "bad4: 1.0<br>Experiment id:<br> ALG_005_EXP_002-PatchMatch-MacLean_et_al-Numba<br>Scene: teddy<br>kernel size: 5x5<br>kernel spec: vfarid<br>match:30<br>bad4: 1.0<br>IMG res:450x375",
          "bad4: 1.0<br>Experiment id:<br> ALG_005_EXP_002-PatchMatch-MacLean_et_al-Numba<br>Scene: teddy<br>kernel size: 5x5<br>kernel spec: vfarid<br>match:40<br>bad4: 1.0<br>IMG res:450x375"
         ],
         "type": "scatter",
         "uid": "42518261-7550-4697-9da8-f1aa8829620b",
         "x": [
          10,
          20,
          30,
          40
         ],
         "y": {
          "dtype": "float64",
          "shape": [
           4
          ],
          "value": {}
         }
        },
        {
         "hovertemplate": "%{text}",
         "name": "hvfarid_div2",
         "showlegend": true,
         "text": [
          "bad4: 0.9149413143155144<br>Experiment id:<br> ALG_005_EXP_002-PatchMatch-MacLean_et_al-Numba<br>Scene: teddy<br>kernel size: 5x5<br>kernel spec: hvfarid_div2<br>match:10<br>bad4: 0.9149413143155144<br>IMG res:450x375",
          "bad4: 1.0<br>Experiment id:<br> ALG_005_EXP_002-PatchMatch-MacLean_et_al-Numba<br>Scene: teddy<br>kernel size: 5x5<br>kernel spec: hvfarid_div2<br>match:20<br>bad4: 1.0<br>IMG res:450x375",
          "bad4: 1.0<br>Experiment id:<br> ALG_005_EXP_002-PatchMatch-MacLean_et_al-Numba<br>Scene: teddy<br>kernel size: 5x5<br>kernel spec: hvfarid_div2<br>match:30<br>bad4: 1.0<br>IMG res:450x375",
          "bad4: 1.0<br>Experiment id:<br> ALG_005_EXP_002-PatchMatch-MacLean_et_al-Numba<br>Scene: teddy<br>kernel size: 5x5<br>kernel spec: hvfarid_div2<br>match:40<br>bad4: 1.0<br>IMG res:450x375"
         ],
         "type": "scatter",
         "uid": "f6ed8a47-e425-48ef-a58d-f05c01f08402",
         "x": [
          10,
          20,
          30,
          40
         ],
         "y": {
          "dtype": "float64",
          "shape": [
           4
          ],
          "value": {}
         }
        },
        {
         "hovertemplate": "%{text}",
         "name": "hvfarid",
         "showlegend": true,
         "text": [
          "bad4: 0.6444792111126915<br>Experiment id:<br> ALG_005_EXP_002-PatchMatch-MacLean_et_al-Numba<br>Scene: teddy<br>kernel size: 5x5<br>kernel spec: hvfarid<br>match:10<br>bad4: 0.6444792111126915<br>IMG res:450x375",
          "bad4: 0.8994249954284089<br>Experiment id:<br> ALG_005_EXP_002-PatchMatch-MacLean_et_al-Numba<br>Scene: teddy<br>kernel size: 5x5<br>kernel spec: hvfarid<br>match:20<br>bad4: 0.8994249954284089<br>IMG res:450x375",
          "bad4: 0.9893058631502664<br>Experiment id:<br> ALG_005_EXP_002-PatchMatch-MacLean_et_al-Numba<br>Scene: teddy<br>kernel size: 5x5<br>kernel spec: hvfarid<br>match:30<br>bad4: 0.9893058631502664<br>IMG res:450x375",
          "bad4: 1.0<br>Experiment id:<br> ALG_005_EXP_002-PatchMatch-MacLean_et_al-Numba<br>Scene: teddy<br>kernel size: 5x5<br>kernel spec: hvfarid<br>match:40<br>bad4: 1.0<br>IMG res:450x375"
         ],
         "type": "scatter",
         "uid": "aa36f199-c332-4fb7-a78a-cfbc423abaaf",
         "x": [
          10,
          20,
          30,
          40
         ],
         "y": {
          "dtype": "float64",
          "shape": [
           4
          ],
          "value": {}
         }
        },
        {
         "hovertemplate": "%{text}",
         "name": "gauss_7_3",
         "showlegend": true,
         "text": [
          "bad4: 0.23981551090070505<br>Experiment id:<br> ALG_005_EXP_002-PatchMatch-MacLean_et_al-Numba<br>Scene: teddy<br>kernel size: 7x3<br>kernel spec: gauss_7_3<br>match:10<br>bad4: 0.23981551090070505<br>IMG res:450x375",
          "bad4: 0.23981551090070505<br>Experiment id:<br> ALG_005_EXP_002-PatchMatch-MacLean_et_al-Numba<br>Scene: teddy<br>kernel size: 7x3<br>kernel spec: gauss_7_3<br>match:10<br>bad4: 0.23981551090070505<br>IMG res:450x375",
          "bad4: 0.2252744647852029<br>Experiment id:<br> ALG_005_EXP_002-PatchMatch-MacLean_et_al-Numba<br>Scene: teddy<br>kernel size: 7x3<br>kernel spec: gauss_7_3<br>match:20<br>bad4: 0.2252744647852029<br>IMG res:450x375",
          "bad4: 0.20755023670682893<br>Experiment id:<br> ALG_005_EXP_002-PatchMatch-MacLean_et_al-Numba<br>Scene: teddy<br>kernel size: 7x3<br>kernel spec: gauss_7_3<br>match:30<br>bad4: 0.20755023670682893<br>IMG res:450x375",
          "bad4: 0.19770269080466776<br>Experiment id:<br> ALG_005_EXP_002-PatchMatch-MacLean_et_al-Numba<br>Scene: teddy<br>kernel size: 7x3<br>kernel spec: gauss_7_3<br>match:40<br>bad4: 0.19770269080466776<br>IMG res:450x375",
          "bad4: 0.23981551090070505<br>Experiment id:<br> ALG_005_EXP_002-PatchMatch-MacLean_et_al-Numba<br>Scene: teddy<br>kernel size: 7x3<br>kernel spec: gauss_7_3<br>match:10<br>bad4: 0.23981551090070505<br>IMG res:450x375",
          "bad4: 0.2252744647852029<br>Experiment id:<br> ALG_005_EXP_002-PatchMatch-MacLean_et_al-Numba<br>Scene: teddy<br>kernel size: 7x3<br>kernel spec: gauss_7_3<br>match:20<br>bad4: 0.2252744647852029<br>IMG res:450x375",
          "bad4: 0.20755023670682893<br>Experiment id:<br> ALG_005_EXP_002-PatchMatch-MacLean_et_al-Numba<br>Scene: teddy<br>kernel size: 7x3<br>kernel spec: gauss_7_3<br>match:30<br>bad4: 0.20755023670682893<br>IMG res:450x375",
          "bad4: 0.19770269080466776<br>Experiment id:<br> ALG_005_EXP_002-PatchMatch-MacLean_et_al-Numba<br>Scene: teddy<br>kernel size: 7x3<br>kernel spec: gauss_7_3<br>match:40<br>bad4: 0.19770269080466776<br>IMG res:450x375"
         ],
         "type": "scatter",
         "uid": "c090891a-fb5a-4175-bc3f-ff47081565d2",
         "x": [
          10,
          10,
          20,
          30,
          40,
          10,
          20,
          30,
          40
         ],
         "y": {
          "dtype": "float64",
          "shape": [
           9
          ],
          "value": {}
         }
        },
        {
         "hovertemplate": "%{text}",
         "name": "star_2",
         "showlegend": true,
         "text": [
          "bad4: 0.2206486918476678<br>Experiment id:<br> ALG_005_EXP_002-PatchMatch-MacLean_et_al-Numba<br>Scene: teddy<br>kernel size: 7x7<br>kernel spec: star_2<br>match:10<br>bad4: 0.2206486918476678<br>IMG res:450x375",
          "bad4: 0.2313292832422401<br>Experiment id:<br> ALG_005_EXP_002-PatchMatch-MacLean_et_al-Numba<br>Scene: teddy<br>kernel size: 7x7<br>kernel spec: star_2<br>match:20<br>bad4: 0.2313292832422401<br>IMG res:450x375",
          "bad4: 0.2500152386370563<br>Experiment id:<br> ALG_005_EXP_002-PatchMatch-MacLean_et_al-Numba<br>Scene: teddy<br>kernel size: 7x7<br>kernel spec: star_2<br>match:30<br>bad4: 0.2500152386370563<br>IMG res:450x375",
          "bad4: 0.2766320580287299<br>Experiment id:<br> ALG_005_EXP_002-PatchMatch-MacLean_et_al-Numba<br>Scene: teddy<br>kernel size: 7x7<br>kernel spec: star_2<br>match:40<br>bad4: 0.2766320580287299<br>IMG res:450x375"
         ],
         "type": "scatter",
         "uid": "b926b7af-e750-48cf-ab86-3d3f9c6f9c4d",
         "x": [
          10,
          20,
          30,
          40
         ],
         "y": {
          "dtype": "float64",
          "shape": [
           4
          ],
          "value": {}
         }
        },
        {
         "hovertemplate": "%{text}",
         "name": "octagon_1_3",
         "showlegend": true,
         "text": [
          "bad4: 0.23161373780062444<br>Experiment id:<br> ALG_005_EXP_002-PatchMatch-MacLean_et_al-Numba<br>Scene: teddy<br>kernel size: 7x7<br>kernel spec: octagon_1_3<br>match:10<br>bad4: 0.23161373780062444<br>IMG res:450x375",
          "bad4: 0.2479089203594964<br>Experiment id:<br> ALG_005_EXP_002-PatchMatch-MacLean_et_al-Numba<br>Scene: teddy<br>kernel size: 7x7<br>kernel spec: octagon_1_3<br>match:20<br>bad4: 0.2479089203594964<br>IMG res:450x375",
          "bad4: 0.2765372398426018<br>Experiment id:<br> ALG_005_EXP_002-PatchMatch-MacLean_et_al-Numba<br>Scene: teddy<br>kernel size: 7x7<br>kernel spec: octagon_1_3<br>match:30<br>bad4: 0.2765372398426018<br>IMG res:450x375",
          "bad4: 0.2886062403911928<br>Experiment id:<br> ALG_005_EXP_002-PatchMatch-MacLean_et_al-Numba<br>Scene: teddy<br>kernel size: 7x7<br>kernel spec: octagon_1_3<br>match:40<br>bad4: 0.2886062403911928<br>IMG res:450x375"
         ],
         "type": "scatter",
         "uid": "46e13f14-cf34-4ef8-a9c8-b188b5ee755b",
         "x": [
          10,
          20,
          30,
          40
         ],
         "y": {
          "dtype": "float64",
          "shape": [
           4
          ],
          "value": {}
         }
        },
        {
         "hovertemplate": "%{text}",
         "name": "diamond_3",
         "showlegend": true,
         "text": [
          "bad4: 0.23161373780062444<br>Experiment id:<br> ALG_005_EXP_002-PatchMatch-MacLean_et_al-Numba<br>Scene: teddy<br>kernel size: 7x7<br>kernel spec: diamond_3<br>match:10<br>bad4: 0.23161373780062444<br>IMG res:450x375",
          "bad4: 0.2479089203594964<br>Experiment id:<br> ALG_005_EXP_002-PatchMatch-MacLean_et_al-Numba<br>Scene: teddy<br>kernel size: 7x7<br>kernel spec: diamond_3<br>match:20<br>bad4: 0.2479089203594964<br>IMG res:450x375",
          "bad4: 0.2765372398426018<br>Experiment id:<br> ALG_005_EXP_002-PatchMatch-MacLean_et_al-Numba<br>Scene: teddy<br>kernel size: 7x7<br>kernel spec: diamond_3<br>match:30<br>bad4: 0.2765372398426018<br>IMG res:450x375",
          "bad4: 0.2886062403911928<br>Experiment id:<br> ALG_005_EXP_002-PatchMatch-MacLean_et_al-Numba<br>Scene: teddy<br>kernel size: 7x7<br>kernel spec: diamond_3<br>match:40<br>bad4: 0.2886062403911928<br>IMG res:450x375"
         ],
         "type": "scatter",
         "uid": "050ef0c6-fee9-4ad5-844e-057b29677fc6",
         "x": [
          10,
          20,
          30,
          40
         ],
         "y": {
          "dtype": "float64",
          "shape": [
           4
          ],
          "value": {}
         }
        },
        {
         "hovertemplate": "%{text}",
         "name": "disk_3",
         "showlegend": true,
         "text": [
          "bad4: 0.2206486918476678<br>Experiment id:<br> ALG_005_EXP_002-PatchMatch-MacLean_et_al-Numba<br>Scene: teddy<br>kernel size: 7x7<br>kernel spec: disk_3<br>match:10<br>bad4: 0.2206486918476678<br>IMG res:450x375",
          "bad4: 0.2313292832422401<br>Experiment id:<br> ALG_005_EXP_002-PatchMatch-MacLean_et_al-Numba<br>Scene: teddy<br>kernel size: 7x7<br>kernel spec: disk_3<br>match:20<br>bad4: 0.2313292832422401<br>IMG res:450x375",
          "bad4: 0.2500152386370563<br>Experiment id:<br> ALG_005_EXP_002-PatchMatch-MacLean_et_al-Numba<br>Scene: teddy<br>kernel size: 7x7<br>kernel spec: disk_3<br>match:30<br>bad4: 0.2500152386370563<br>IMG res:450x375",
          "bad4: 0.2766320580287299<br>Experiment id:<br> ALG_005_EXP_002-PatchMatch-MacLean_et_al-Numba<br>Scene: teddy<br>kernel size: 7x7<br>kernel spec: disk_3<br>match:40<br>bad4: 0.2766320580287299<br>IMG res:450x375"
         ],
         "type": "scatter",
         "uid": "99b77c24-4b0e-41ce-afdc-0ba93dea81e7",
         "x": [
          10,
          20,
          30,
          40
         ],
         "y": {
          "dtype": "float64",
          "shape": [
           4
          ],
          "value": {}
         }
        },
        {
         "hovertemplate": "%{text}",
         "name": "star_3",
         "showlegend": true,
         "text": [
          "bad4: 0.2321149196415873<br>Experiment id:<br> ALG_005_EXP_002-PatchMatch-MacLean_et_al-Numba<br>Scene: teddy<br>kernel size: 9x9<br>kernel spec: star_3<br>match:10<br>bad4: 0.2321149196415873<br>IMG res:450x375",
          "bad4: 0.23742473806476086<br>Experiment id:<br> ALG_005_EXP_002-PatchMatch-MacLean_et_al-Numba<br>Scene: teddy<br>kernel size: 9x9<br>kernel spec: star_3<br>match:20<br>bad4: 0.23742473806476086<br>IMG res:450x375",
          "bad4: 0.2515323296151059<br>Experiment id:<br> ALG_005_EXP_002-PatchMatch-MacLean_et_al-Numba<br>Scene: teddy<br>kernel size: 9x9<br>kernel spec: star_3<br>match:30<br>bad4: 0.2515323296151059<br>IMG res:450x375",
          "bad4: 0.2756974216226101<br>Experiment id:<br> ALG_005_EXP_002-PatchMatch-MacLean_et_al-Numba<br>Scene: teddy<br>kernel size: 9x9<br>kernel spec: star_3<br>match:40<br>bad4: 0.2756974216226101<br>IMG res:450x375"
         ],
         "type": "scatter",
         "uid": "fc2e1fff-bd66-4d1d-9775-ae65499d6eaf",
         "x": [
          10,
          20,
          30,
          40
         ],
         "y": {
          "dtype": "float64",
          "shape": [
           4
          ],
          "value": {}
         }
        },
        {
         "hovertemplate": "%{text}",
         "name": "disk_4",
         "showlegend": true,
         "text": [
          "bad4: 0.23195237417965334<br>Experiment id:<br> ALG_005_EXP_002-PatchMatch-MacLean_et_al-Numba<br>Scene: teddy<br>kernel size: 9x9<br>kernel spec: disk_4<br>match:10<br>bad4: 0.23195237417965334<br>IMG res:450x375",
          "bad4: 0.23783110171959554<br>Experiment id:<br> ALG_005_EXP_002-PatchMatch-MacLean_et_al-Numba<br>Scene: teddy<br>kernel size: 9x9<br>kernel spec: disk_4<br>match:20<br>bad4: 0.23783110171959554<br>IMG res:450x375",
          "bad4: 0.25605651163893234<br>Experiment id:<br> ALG_005_EXP_002-PatchMatch-MacLean_et_al-Numba<br>Scene: teddy<br>kernel size: 9x9<br>kernel spec: disk_4<br>match:30<br>bad4: 0.25605651163893234<br>IMG res:450x375",
          "bad4: 0.28312033105092416<br>Experiment id:<br> ALG_005_EXP_002-PatchMatch-MacLean_et_al-Numba<br>Scene: teddy<br>kernel size: 9x9<br>kernel spec: disk_4<br>match:40<br>bad4: 0.28312033105092416<br>IMG res:450x375"
         ],
         "type": "scatter",
         "uid": "35b8aae1-b28c-427c-824b-cb155d9679ba",
         "x": [
          10,
          20,
          30,
          40
         ],
         "y": {
          "dtype": "float64",
          "shape": [
           4
          ],
          "value": {}
         }
        },
        {
         "hovertemplate": "%{text}",
         "name": "gauss_11_3",
         "showlegend": true,
         "text": [
          "bad4: 0.23991032908683316<br>Experiment id:<br> ALG_005_EXP_002-PatchMatch-MacLean_et_al-Numba<br>Scene: teddy<br>kernel size: 11x3<br>kernel spec: gauss_11_3<br>match:10<br>bad4: 0.23991032908683316<br>IMG res:450x375",
          "bad4: 0.23991032908683316<br>Experiment id:<br> ALG_005_EXP_002-PatchMatch-MacLean_et_al-Numba<br>Scene: teddy<br>kernel size: 11x3<br>kernel spec: gauss_11_3<br>match:10<br>bad4: 0.23991032908683316<br>IMG res:450x375",
          "bad4: 0.2252947829679447<br>Experiment id:<br> ALG_005_EXP_002-PatchMatch-MacLean_et_al-Numba<br>Scene: teddy<br>kernel size: 11x3<br>kernel spec: gauss_11_3<br>match:20<br>bad4: 0.2252947829679447<br>IMG res:450x375",
          "bad4: 0.20757055488957069<br>Experiment id:<br> ALG_005_EXP_002-PatchMatch-MacLean_et_al-Numba<br>Scene: teddy<br>kernel size: 11x3<br>kernel spec: gauss_11_3<br>match:30<br>bad4: 0.20757055488957069<br>IMG res:450x375",
          "bad4: 0.19754691807031446<br>Experiment id:<br> ALG_005_EXP_002-PatchMatch-MacLean_et_al-Numba<br>Scene: teddy<br>kernel size: 11x3<br>kernel spec: gauss_11_3<br>match:40<br>bad4: 0.19754691807031446<br>IMG res:450x375",
          "bad4: 0.23991032908683316<br>Experiment id:<br> ALG_005_EXP_002-PatchMatch-MacLean_et_al-Numba<br>Scene: teddy<br>kernel size: 11x3<br>kernel spec: gauss_11_3<br>match:10<br>bad4: 0.23991032908683316<br>IMG res:450x375",
          "bad4: 0.2252947829679447<br>Experiment id:<br> ALG_005_EXP_002-PatchMatch-MacLean_et_al-Numba<br>Scene: teddy<br>kernel size: 11x3<br>kernel spec: gauss_11_3<br>match:20<br>bad4: 0.2252947829679447<br>IMG res:450x375",
          "bad4: 0.20757055488957069<br>Experiment id:<br> ALG_005_EXP_002-PatchMatch-MacLean_et_al-Numba<br>Scene: teddy<br>kernel size: 11x3<br>kernel spec: gauss_11_3<br>match:30<br>bad4: 0.20757055488957069<br>IMG res:450x375",
          "bad4: 0.19754691807031446<br>Experiment id:<br> ALG_005_EXP_002-PatchMatch-MacLean_et_al-Numba<br>Scene: teddy<br>kernel size: 11x3<br>kernel spec: gauss_11_3<br>match:40<br>bad4: 0.19754691807031446<br>IMG res:450x375"
         ],
         "type": "scatter",
         "uid": "0e5e6de3-76ae-4745-a36a-5b56914b7767",
         "x": [
          10,
          10,
          20,
          30,
          40,
          10,
          20,
          30,
          40
         ],
         "y": {
          "dtype": "float64",
          "shape": [
           9
          ],
          "value": {}
         }
        },
        {
         "hovertemplate": "%{text}",
         "name": "gauss_13_3",
         "showlegend": true,
         "text": [
          "bad4: 0.23991032908683316<br>Experiment id:<br> ALG_005_EXP_002-PatchMatch-MacLean_et_al-Numba<br>Scene: teddy<br>kernel size: 13x3<br>kernel spec: gauss_13_3<br>match:10<br>bad4: 0.23991032908683316<br>IMG res:450x375",
          "bad4: 0.2252947829679447<br>Experiment id:<br> ALG_005_EXP_002-PatchMatch-MacLean_et_al-Numba<br>Scene: teddy<br>kernel size: 13x3<br>kernel spec: gauss_13_3<br>match:20<br>bad4: 0.2252947829679447<br>IMG res:450x375",
          "bad4: 0.20757055488957069<br>Experiment id:<br> ALG_005_EXP_002-PatchMatch-MacLean_et_al-Numba<br>Scene: teddy<br>kernel size: 13x3<br>kernel spec: gauss_13_3<br>match:30<br>bad4: 0.20757055488957069<br>IMG res:450x375",
          "bad4: 0.19754691807031446<br>Experiment id:<br> ALG_005_EXP_002-PatchMatch-MacLean_et_al-Numba<br>Scene: teddy<br>kernel size: 13x3<br>kernel spec: gauss_13_3<br>match:40<br>bad4: 0.19754691807031446<br>IMG res:450x375",
          "bad4: 0.23991032908683316<br>Experiment id:<br> ALG_005_EXP_002-PatchMatch-MacLean_et_al-Numba<br>Scene: teddy<br>kernel size: 13x3<br>kernel spec: gauss_13_3<br>match:10<br>bad4: 0.23991032908683316<br>IMG res:450x375",
          "bad4: 0.2252947829679447<br>Experiment id:<br> ALG_005_EXP_002-PatchMatch-MacLean_et_al-Numba<br>Scene: teddy<br>kernel size: 13x3<br>kernel spec: gauss_13_3<br>match:20<br>bad4: 0.2252947829679447<br>IMG res:450x375",
          "bad4: 0.20757055488957069<br>Experiment id:<br> ALG_005_EXP_002-PatchMatch-MacLean_et_al-Numba<br>Scene: teddy<br>kernel size: 13x3<br>kernel spec: gauss_13_3<br>match:30<br>bad4: 0.20757055488957069<br>IMG res:450x375",
          "bad4: 0.19754691807031446<br>Experiment id:<br> ALG_005_EXP_002-PatchMatch-MacLean_et_al-Numba<br>Scene: teddy<br>kernel size: 13x3<br>kernel spec: gauss_13_3<br>match:40<br>bad4: 0.19754691807031446<br>IMG res:450x375"
         ],
         "type": "scatter",
         "uid": "417f360a-6af8-415a-8e6f-970927283437",
         "x": [
          10,
          20,
          30,
          40,
          10,
          20,
          30,
          40
         ],
         "y": {
          "dtype": "float64",
          "shape": [
           8
          ],
          "value": {}
         }
        }
       ],
       "_js2py_layoutDelta": {},
       "_js2py_pointsCallback": {},
       "_js2py_relayout": {},
       "_js2py_restyle": {},
       "_js2py_traceDeltas": {},
       "_js2py_update": {},
       "_layout": {
        "legend": {
         "title": {
          "text": "kernel_spec"
         }
        },
        "template": {
         "data": {
          "bar": [
           {
            "error_x": {
             "color": "#2a3f5f"
            },
            "error_y": {
             "color": "#2a3f5f"
            },
            "marker": {
             "line": {
              "color": "#E5ECF6",
              "width": 0.5
             }
            },
            "type": "bar"
           }
          ],
          "barpolar": [
           {
            "marker": {
             "line": {
              "color": "#E5ECF6",
              "width": 0.5
             }
            },
            "type": "barpolar"
           }
          ],
          "carpet": [
           {
            "aaxis": {
             "endlinecolor": "#2a3f5f",
             "gridcolor": "white",
             "linecolor": "white",
             "minorgridcolor": "white",
             "startlinecolor": "#2a3f5f"
            },
            "baxis": {
             "endlinecolor": "#2a3f5f",
             "gridcolor": "white",
             "linecolor": "white",
             "minorgridcolor": "white",
             "startlinecolor": "#2a3f5f"
            },
            "type": "carpet"
           }
          ],
          "choropleth": [
           {
            "colorbar": {
             "outlinewidth": 0,
             "ticks": ""
            },
            "type": "choropleth"
           }
          ],
          "contour": [
           {
            "colorbar": {
             "outlinewidth": 0,
             "ticks": ""
            },
            "colorscale": [
             [
              0,
              "#0d0887"
             ],
             [
              0.1111111111111111,
              "#46039f"
             ],
             [
              0.2222222222222222,
              "#7201a8"
             ],
             [
              0.3333333333333333,
              "#9c179e"
             ],
             [
              0.4444444444444444,
              "#bd3786"
             ],
             [
              0.5555555555555556,
              "#d8576b"
             ],
             [
              0.6666666666666666,
              "#ed7953"
             ],
             [
              0.7777777777777778,
              "#fb9f3a"
             ],
             [
              0.8888888888888888,
              "#fdca26"
             ],
             [
              1,
              "#f0f921"
             ]
            ],
            "type": "contour"
           }
          ],
          "contourcarpet": [
           {
            "colorbar": {
             "outlinewidth": 0,
             "ticks": ""
            },
            "type": "contourcarpet"
           }
          ],
          "heatmap": [
           {
            "colorbar": {
             "outlinewidth": 0,
             "ticks": ""
            },
            "colorscale": [
             [
              0,
              "#0d0887"
             ],
             [
              0.1111111111111111,
              "#46039f"
             ],
             [
              0.2222222222222222,
              "#7201a8"
             ],
             [
              0.3333333333333333,
              "#9c179e"
             ],
             [
              0.4444444444444444,
              "#bd3786"
             ],
             [
              0.5555555555555556,
              "#d8576b"
             ],
             [
              0.6666666666666666,
              "#ed7953"
             ],
             [
              0.7777777777777778,
              "#fb9f3a"
             ],
             [
              0.8888888888888888,
              "#fdca26"
             ],
             [
              1,
              "#f0f921"
             ]
            ],
            "type": "heatmap"
           }
          ],
          "heatmapgl": [
           {
            "colorbar": {
             "outlinewidth": 0,
             "ticks": ""
            },
            "colorscale": [
             [
              0,
              "#0d0887"
             ],
             [
              0.1111111111111111,
              "#46039f"
             ],
             [
              0.2222222222222222,
              "#7201a8"
             ],
             [
              0.3333333333333333,
              "#9c179e"
             ],
             [
              0.4444444444444444,
              "#bd3786"
             ],
             [
              0.5555555555555556,
              "#d8576b"
             ],
             [
              0.6666666666666666,
              "#ed7953"
             ],
             [
              0.7777777777777778,
              "#fb9f3a"
             ],
             [
              0.8888888888888888,
              "#fdca26"
             ],
             [
              1,
              "#f0f921"
             ]
            ],
            "type": "heatmapgl"
           }
          ],
          "histogram": [
           {
            "marker": {
             "colorbar": {
              "outlinewidth": 0,
              "ticks": ""
             }
            },
            "type": "histogram"
           }
          ],
          "histogram2d": [
           {
            "colorbar": {
             "outlinewidth": 0,
             "ticks": ""
            },
            "colorscale": [
             [
              0,
              "#0d0887"
             ],
             [
              0.1111111111111111,
              "#46039f"
             ],
             [
              0.2222222222222222,
              "#7201a8"
             ],
             [
              0.3333333333333333,
              "#9c179e"
             ],
             [
              0.4444444444444444,
              "#bd3786"
             ],
             [
              0.5555555555555556,
              "#d8576b"
             ],
             [
              0.6666666666666666,
              "#ed7953"
             ],
             [
              0.7777777777777778,
              "#fb9f3a"
             ],
             [
              0.8888888888888888,
              "#fdca26"
             ],
             [
              1,
              "#f0f921"
             ]
            ],
            "type": "histogram2d"
           }
          ],
          "histogram2dcontour": [
           {
            "colorbar": {
             "outlinewidth": 0,
             "ticks": ""
            },
            "colorscale": [
             [
              0,
              "#0d0887"
             ],
             [
              0.1111111111111111,
              "#46039f"
             ],
             [
              0.2222222222222222,
              "#7201a8"
             ],
             [
              0.3333333333333333,
              "#9c179e"
             ],
             [
              0.4444444444444444,
              "#bd3786"
             ],
             [
              0.5555555555555556,
              "#d8576b"
             ],
             [
              0.6666666666666666,
              "#ed7953"
             ],
             [
              0.7777777777777778,
              "#fb9f3a"
             ],
             [
              0.8888888888888888,
              "#fdca26"
             ],
             [
              1,
              "#f0f921"
             ]
            ],
            "type": "histogram2dcontour"
           }
          ],
          "mesh3d": [
           {
            "colorbar": {
             "outlinewidth": 0,
             "ticks": ""
            },
            "type": "mesh3d"
           }
          ],
          "parcoords": [
           {
            "line": {
             "colorbar": {
              "outlinewidth": 0,
              "ticks": ""
             }
            },
            "type": "parcoords"
           }
          ],
          "pie": [
           {
            "automargin": true,
            "type": "pie"
           }
          ],
          "scatter": [
           {
            "marker": {
             "colorbar": {
              "outlinewidth": 0,
              "ticks": ""
             }
            },
            "type": "scatter"
           }
          ],
          "scatter3d": [
           {
            "line": {
             "colorbar": {
              "outlinewidth": 0,
              "ticks": ""
             }
            },
            "marker": {
             "colorbar": {
              "outlinewidth": 0,
              "ticks": ""
             }
            },
            "type": "scatter3d"
           }
          ],
          "scattercarpet": [
           {
            "marker": {
             "colorbar": {
              "outlinewidth": 0,
              "ticks": ""
             }
            },
            "type": "scattercarpet"
           }
          ],
          "scattergeo": [
           {
            "marker": {
             "colorbar": {
              "outlinewidth": 0,
              "ticks": ""
             }
            },
            "type": "scattergeo"
           }
          ],
          "scattergl": [
           {
            "marker": {
             "colorbar": {
              "outlinewidth": 0,
              "ticks": ""
             }
            },
            "type": "scattergl"
           }
          ],
          "scattermapbox": [
           {
            "marker": {
             "colorbar": {
              "outlinewidth": 0,
              "ticks": ""
             }
            },
            "type": "scattermapbox"
           }
          ],
          "scatterpolar": [
           {
            "marker": {
             "colorbar": {
              "outlinewidth": 0,
              "ticks": ""
             }
            },
            "type": "scatterpolar"
           }
          ],
          "scatterpolargl": [
           {
            "marker": {
             "colorbar": {
              "outlinewidth": 0,
              "ticks": ""
             }
            },
            "type": "scatterpolargl"
           }
          ],
          "scatterternary": [
           {
            "marker": {
             "colorbar": {
              "outlinewidth": 0,
              "ticks": ""
             }
            },
            "type": "scatterternary"
           }
          ],
          "surface": [
           {
            "colorbar": {
             "outlinewidth": 0,
             "ticks": ""
            },
            "colorscale": [
             [
              0,
              "#0d0887"
             ],
             [
              0.1111111111111111,
              "#46039f"
             ],
             [
              0.2222222222222222,
              "#7201a8"
             ],
             [
              0.3333333333333333,
              "#9c179e"
             ],
             [
              0.4444444444444444,
              "#bd3786"
             ],
             [
              0.5555555555555556,
              "#d8576b"
             ],
             [
              0.6666666666666666,
              "#ed7953"
             ],
             [
              0.7777777777777778,
              "#fb9f3a"
             ],
             [
              0.8888888888888888,
              "#fdca26"
             ],
             [
              1,
              "#f0f921"
             ]
            ],
            "type": "surface"
           }
          ],
          "table": [
           {
            "cells": {
             "fill": {
              "color": "#EBF0F8"
             },
             "line": {
              "color": "white"
             }
            },
            "header": {
             "fill": {
              "color": "#C8D4E3"
             },
             "line": {
              "color": "white"
             }
            },
            "type": "table"
           }
          ]
         },
         "layout": {
          "annotationdefaults": {
           "arrowcolor": "#2a3f5f",
           "arrowhead": 0,
           "arrowwidth": 1
          },
          "coloraxis": {
           "colorbar": {
            "outlinewidth": 0,
            "ticks": ""
           }
          },
          "colorscale": {
           "diverging": [
            [
             0,
             "#8e0152"
            ],
            [
             0.1,
             "#c51b7d"
            ],
            [
             0.2,
             "#de77ae"
            ],
            [
             0.3,
             "#f1b6da"
            ],
            [
             0.4,
             "#fde0ef"
            ],
            [
             0.5,
             "#f7f7f7"
            ],
            [
             0.6,
             "#e6f5d0"
            ],
            [
             0.7,
             "#b8e186"
            ],
            [
             0.8,
             "#7fbc41"
            ],
            [
             0.9,
             "#4d9221"
            ],
            [
             1,
             "#276419"
            ]
           ],
           "sequential": [
            [
             0,
             "#0d0887"
            ],
            [
             0.1111111111111111,
             "#46039f"
            ],
            [
             0.2222222222222222,
             "#7201a8"
            ],
            [
             0.3333333333333333,
             "#9c179e"
            ],
            [
             0.4444444444444444,
             "#bd3786"
            ],
            [
             0.5555555555555556,
             "#d8576b"
            ],
            [
             0.6666666666666666,
             "#ed7953"
            ],
            [
             0.7777777777777778,
             "#fb9f3a"
            ],
            [
             0.8888888888888888,
             "#fdca26"
            ],
            [
             1,
             "#f0f921"
            ]
           ],
           "sequentialminus": [
            [
             0,
             "#0d0887"
            ],
            [
             0.1111111111111111,
             "#46039f"
            ],
            [
             0.2222222222222222,
             "#7201a8"
            ],
            [
             0.3333333333333333,
             "#9c179e"
            ],
            [
             0.4444444444444444,
             "#bd3786"
            ],
            [
             0.5555555555555556,
             "#d8576b"
            ],
            [
             0.6666666666666666,
             "#ed7953"
            ],
            [
             0.7777777777777778,
             "#fb9f3a"
            ],
            [
             0.8888888888888888,
             "#fdca26"
            ],
            [
             1,
             "#f0f921"
            ]
           ]
          },
          "colorway": [
           "#636efa",
           "#EF553B",
           "#00cc96",
           "#ab63fa",
           "#FFA15A",
           "#19d3f3",
           "#FF6692",
           "#B6E880",
           "#FF97FF",
           "#FECB52"
          ],
          "font": {
           "color": "#2a3f5f"
          },
          "geo": {
           "bgcolor": "white",
           "lakecolor": "white",
           "landcolor": "#E5ECF6",
           "showlakes": true,
           "showland": true,
           "subunitcolor": "white"
          },
          "hoverlabel": {
           "align": "left"
          },
          "hovermode": "closest",
          "mapbox": {
           "style": "light"
          },
          "paper_bgcolor": "white",
          "plot_bgcolor": "#E5ECF6",
          "polar": {
           "angularaxis": {
            "gridcolor": "white",
            "linecolor": "white",
            "ticks": ""
           },
           "bgcolor": "#E5ECF6",
           "radialaxis": {
            "gridcolor": "white",
            "linecolor": "white",
            "ticks": ""
           }
          },
          "scene": {
           "xaxis": {
            "backgroundcolor": "#E5ECF6",
            "gridcolor": "white",
            "gridwidth": 2,
            "linecolor": "white",
            "showbackground": true,
            "ticks": "",
            "zerolinecolor": "white"
           },
           "yaxis": {
            "backgroundcolor": "#E5ECF6",
            "gridcolor": "white",
            "gridwidth": 2,
            "linecolor": "white",
            "showbackground": true,
            "ticks": "",
            "zerolinecolor": "white"
           },
           "zaxis": {
            "backgroundcolor": "#E5ECF6",
            "gridcolor": "white",
            "gridwidth": 2,
            "linecolor": "white",
            "showbackground": true,
            "ticks": "",
            "zerolinecolor": "white"
           }
          },
          "shapedefaults": {
           "line": {
            "color": "#2a3f5f"
           }
          },
          "ternary": {
           "aaxis": {
            "gridcolor": "white",
            "linecolor": "white",
            "ticks": ""
           },
           "baxis": {
            "gridcolor": "white",
            "linecolor": "white",
            "ticks": ""
           },
           "bgcolor": "#E5ECF6",
           "caxis": {
            "gridcolor": "white",
            "linecolor": "white",
            "ticks": ""
           }
          },
          "title": {
           "x": 0.05
          },
          "xaxis": {
           "automargin": true,
           "gridcolor": "white",
           "linecolor": "white",
           "ticks": "",
           "title": {
            "standoff": 15
           },
           "zerolinecolor": "white",
           "zerolinewidth": 2
          },
          "yaxis": {
           "automargin": true,
           "gridcolor": "white",
           "linecolor": "white",
           "ticks": "",
           "title": {
            "standoff": 15
           },
           "zerolinecolor": "white",
           "zerolinewidth": 2
          }
         }
        },
        "xaxis": {
         "showspikes": true
        },
        "yaxis": {
         "showspikes": true
        }
       },
       "_model_module_version": "4.6.0",
       "_py2js_addTraces": {},
       "_py2js_animate": {},
       "_py2js_deleteTraces": {},
       "_py2js_moveTraces": {},
       "_py2js_relayout": {},
       "_py2js_removeLayoutProps": {},
       "_py2js_removeTraceProps": {},
       "_py2js_restyle": {},
       "_py2js_update": {},
       "_view_count": 0,
       "_view_module_version": "4.6.0"
      }
     },
     "120a28771ba44391b9c68e0b5915b787": {
      "model_module": "@jupyter-widgets/base",
      "model_module_version": "1.2.0",
      "model_name": "LayoutModel",
      "state": {
       "height": "375px",
       "width": "450px"
      }
     },
     "1990bc9ea6e84fe39078dfc8db79fee3": {
      "model_module": "@jupyter-widgets/base",
      "model_module_version": "1.2.0",
      "model_name": "LayoutModel",
      "state": {
       "height": "375px",
       "width": "450px"
      }
     },
     "1e22f5f1280a4039aa6c32949246b7f0": {
      "buffers": [
       {
        "data": "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",
        "encoding": "base64",
        "path": [
         "value"
        ]
       }
      ],
      "model_module": "@jupyter-widgets/controls",
      "model_module_version": "1.5.0",
      "model_name": "ImageModel",
      "state": {
       "layout": "IPY_MODEL_8b0a2ff8373e444fad0d0d8849e22002",
       "value": {}
      }
     },
     "1ec8f55c33814788ab29bbbee6cc389c": {
      "buffers": [
       {
        "data": "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",
        "encoding": "base64",
        "path": [
         "value"
        ]
       }
      ],
      "model_module": "@jupyter-widgets/controls",
      "model_module_version": "1.5.0",
      "model_name": "ImageModel",
      "state": {
       "layout": "IPY_MODEL_01c28079e0bf47b7859031a1a4b6f398",
       "value": {}
      }
     },
     "1ef6499b500d40a28d17d88712e335b0": {
      "model_module": "@jupyter-widgets/controls",
      "model_module_version": "1.5.0",
      "model_name": "DropdownModel",
      "state": {
       "_options_labels": [
        "yes",
        "No"
       ],
       "description": "Nonoccluded:",
       "index": 0,
       "layout": "IPY_MODEL_5601e1e3aa054d439c76c9658eb325cc",
       "style": "IPY_MODEL_e89e5e85c264465783f53a0430f6d433"
      }
     },
     "2d950a00d4a040e2986e7e8cb3d553f4": {
      "buffers": [
       {
        "data": "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",
        "encoding": "base64",
        "path": [
         "value"
        ]
       }
      ],
      "model_module": "@jupyter-widgets/controls",
      "model_module_version": "1.5.0",
      "model_name": "ImageModel",
      "state": {
       "layout": "IPY_MODEL_f3f9429330ec471a8e370b27d5854c51",
       "value": {}
      }
     },
     "2f9ab1a6d1cd4c2fa88888128dca4e89": {
      "buffers": [
       {
        "data": "iVBORw0KGgoAAAANSUhEUgAAAcIAAAF3CAAAAAATdBRfAAAgAElEQVR4AezBn2Mr2wP/69eyC/ePunDwwIFAIVDYUCgECoGBgYEFgUAhsKEQCAQKhQOBQuBCobBhw4YPbChsKAQG3nBn8nNmsmatNUnafb7n3OcxOPXwEmEihoiQ04H4b1kanHp4iQgiSATkdCb+W5YGpx5eIkyEiVY5JxL/LUuDUw8v4SG6EG45JxL/LUuDU48Q0UZ0IWLkRBP/LUuDU48A4SOiiQg58cR/y9Lg1MNPRBLtRKwV/78jSzYMTj38RCTRTsTKiSf+3ZY0GJx6tBMxRJAIyDmB+LdbUmNw6uEhYogQESBiiBrx77akweDUw09EEFFECxFDNIj/lKXBqYefiCGiiBg5kcS/25I6g1OPABFBBIjT5LQT/wlLdgxOPQJEBBEgouR0IP4blmwZnHoEiAgiSLTLOYn4T1iyZXDq4SNiiAiinYggXMR/xtLg1CNM+IlYwi+nK/GfsTQ49egk52QiQk5H4l9sSY3BqUcnwk0EiQg5HYn/jKXBqUcU4SeCRKuck4n/jKXBqUcEESSChE/OScS/15I6g1OPGCJAhAkfEUNUif+SpcGph5+IIsKEjwgQTeJfaEkrg1MPLxFFxBBhOfHEf8rS4NQjiogk/IRXTgfi32vJMYNTjygikvATHiKK2BD/XkuOGZx6dCBCRIBwEvHElvj3WnLM4NSjA1EjOhEeIoqoEP9aSxwMTj2iiDiileggJ4b4t1niYXDqEUXEEO1EJzkRxL/LEi+DUw8/0YFoJ6IIJ+Ek/g2WxDE49QgTQSJMhIhWoo34fb5xlnc6MTj1CBJRRIjwE61EC/F/viVxDE49gkSYCBFxcuKJf4UlcQxOPcJEkAgQATndiX+HJVEMTj1iiCDhI0JyuhP/EktiGJx6RBEhIo5wE9HElvg03yi909Aj5I1oS/wMTj3iiAgiSLQQscSO+ExLSj3O8YbHEj+DU484IppwEz4imjgQn2NJqcfZ3mi1xM/g1COSiCWchJeIJg7E51hS6nG2N1ot8TM49YgkvEQH4ljOCcQnWFLqETS/wklUvdG0JI7BqUck4SciCbec7sRnWFLqETK/wk1UzDmVwalHJBEg4gg3EUHUiA+1pNSjxfyKOKJqzokMTj0iCR8RTbgJP3FMfIIlpR5N8ytiiao5pzE49YgkHER3IoKoE07i4y0p9WiaXxFPVLxRtySOwalHHOEiookuhJuoEZ9hSalH3fyKDsTBGy5LQgxOPSKJEOEjgkSYqBCfYkmpR838ii7EwRsuS0IMTj0iiQDhJaKICGJDfIolpR418ys6EXtvnGRpcOoRSUQQPiKGiCDWxCdYUupRN7+iE7H3htsSP4NTj1giimglYohW4pj4cEtKPY7Nr4iWs/MLtyV+BrcrQEQTPiJM+IlW4oj4WEsKfwGPPZzmV8QRO2+4LfEzOPXoRPiJCCJEuOR8viUHPZrmV7jN+uyILbHxBiw5gcGpRxciQISJNsJLOIgPtmSnR9P8CrdZnz2xIbbmnMbg1COeiCWOiSDRgfAQl7Rko0fd/IoOREnAIycxOPWIJqKJYyJIdCHaiYtZUurhML+iA1EQpUdOYXDqES3nUkQLEUW4iA+xpNTDaX5FLFGaczqDW58DES/nJMJHxBEO4hTPHAzwe6Np1ieWgBn/d87JDG59DkQHOacQASKaAHEBzxwM8BkDV9TM+kQRzDmLwa3PnoiRcw4RICKJkriMZw4G+LxRN+sTR8w5i8Gtz5YIE34iRHQg2omCuIhnDgYEvVE16xNHvFGxpCuD0xVdiBYilognPASIj/b8BzULCleszfp0Id7YWHISg1ufLREmooh2wk9EEmviQz3/Qc2CwhVrsz5diDc2lpzE4NZnS0QQMYSTiCAiiTXxIZ7/wG1B4YrSrE8Hgjf2lnRncOuzJQJyziQiiDiiJD7G8x+0WFC4YmvWJ5ZgzlkMbn22RIScMwkvEUHsiYt4/oNYCwpXbM36RBLMOY/Brc+WiJFzNhEpJ0hcxPMfxFpQuOJg1ieGYM55DG59KkRIztlErJwI4sM8/0HTgsIVFbM+MQRzzmNocUWF8Mm5DBEnpxNxoiUHt0R442B+RQQBc85jaHFFhWiVczHCS0QSNeJESw5uifHG3vyKCIJf8Mw5DG36VIg2ORcmWggvUSMu4ZmDARHe6GjOuQw+VwSJGKID4SQcRBvR3TMHA07xRjdvlJacwdDuhndiiSARILyEgwgTIc9/0MmCwhUX8IbLkg4MYVeEiSDhIeLldCNCnv8g2oLCFRfyi7UFa9d092Dw6HMg3EQs4SHiiTaiTsR5/oNYC0p9WoiaWZ9WomLGNad5MHj02RMtRDwRR7QREcSOiPP8B5EWlPq0E0dmfY6JnVkfnxl+hihXeIk4wkl0k9OJCHj+g0gLSn3aidKsz+XM8DL43MIbXQgv4Sa6yDmBaLf8f4jzTOmKf5KZwWdA4Y14wke0ER3k/C4LSn3+SaYGrztKP4kmfISb6CLn91hQ6vPPMjV43f2kG+ElvESMnA+0YG+Ayy/+WaYGv+H/6EQ4iSgiRs4HWrA3wOUX/yxTQ8AdhZ9EEi7CQZxKhIiTLdgb4PKL32BGO0NIwtoPvISHCBFeohtxsgV7A1x+8RvMaGcIyuAbYcJDhIg2ojPxERaU+vwGM9oZghJ+EEF4iFjimOhKXN6CUp/fYUY7Q1jGK3GEnwgSrUQk8SGeKV3xG8xoZwizL0QTPiJEtBORxId4pnTF55vhYQizvBBL+Ag/4SUiiA/yTOmK32CGhyHMwguRhJ/wEH4iTHyUZ0pXfL4ZPoYwCy9EEn6ilfDL+e2eKV3xuWZ4GcIs8EKQ8BMBolXOP8MzpSs+0ww/Q5il8EKI8BMBIk7Oh3lm75Z2v/hEM/wMYZbSCz4ijvASEUSI6OSZvVvi/OJzzAgyhFnWXggRYcJHuIiOxIme2bsl4BcbM0oDNt64oBkRDGEj1l4IEDFESM75xEdaUOpTmrI2ZOcnn2pqCBux9oKXiCX8cs4nPtSCI0O2fnIGcTAniiHMsvGCjwgQ0UQbEUd8sGca7tj7ySlExZxohjDLxgs+IkREyjmX+DDP7N0C99xx5CfdiYM5HRjCLFsv+IgAEUX4iTDxYZ7ZuwXuucPhJ52Jk8wNYZadF2IINxEiYogQ8XGeqbijzU+6mvF/0ZATwRBm2XkhQDiJCCJIxBEf5JmKOwJ+0oU4ydwQZtl5IUQEiXbCS0QSH+SZijsCftKBOMncEGbZeyFEBAgP4SXiiLM9s3eLyz13hPykA1GY05khzHLwQpBoJ/yEl4gjTvfM3i3t7mHInnD6SQeiNKcrQ5il4oUQ4SJCRDThJz7EM1VDDoTTT7oQp5gbwixVL/iIViKCiCQ8RNgze7d0cQ9D/MTaT7qZcQpDmKXqBQ/hJ0JEHOEjwp7ZuyXePQwJEGs/6WjGCQxhlpoX2ogQESKCRJC4oGeqhoSJ0k8uYEaIIcxS80IL4SeiiCiinbioZ6qGhIi1n3yIGXWGMEvdC0HimIgjooh24oKeqRoSlLP2xseYUWcIs9S9EEG4iDARRbQTF/VM1ZCAnLU3TjLr08nUEGZpeCFMOIkgEUe0EpfzTE3ClmiRs/HGKWZ9upkawiwNL7iJCCJARMn5FM/UJFSIYzlbb5xk1qebqSHM0vSCmwgRQSJMeIkLeaYmoZ1Yy9l64ySzPm2mOBnCLE0vhAg3ESIiCC9xAc/s3cI9kOCRAQMOfnFxU1wMYZYjL3iIdiJERBBe4gKeqUsRHqKQs/OLy5viYgizHHmhSUQTXiJI+IkLeKYmwW9FzS8ub4qLIcxyZNjDRUQRPiJIBIhzPdOU4LWi5hcfYIqDIcxyZEgPFxFDtBFRRIA40zNHEnxW1P3iA0xxMIRZjg3p4Sb8RAQRJtqJszxTl1IhHFY0/eJzTA1hlmOCV9yEj4gignI+yDN1KTXiyIqmX3yWqSHMckzwipPwElGEn/ARZ3imLqWV2FjR9IszTa9pEi5TQ5jlmOAVJ9FKRBN+wkuc7Jm6FA+xtqLpF2eaXtMkXKaGMMsxwStOIkwEiADhJ070TF2KjyisOPKLM02vOSJcpoYwi4PglRYiQISIAOElTvLMkRQPASvcfnG66TVHhNPUEDbCQcArbsJLRBARRBvR3YK6jKAVAZaNa7p5+EKTcHowhI1wEIVXnISfCBMRRAtxggV1GSErOnsjysMXGoTbgyFshIMovNIkIogAESD8RGcLGizCb8VJ3gh7+EKTYIqDIWyEgyi90iAiiADhJwJEZwsaLCA8VpzvDZeHLxwT8MBGyl5qCBvhIEqvtBGthI8IEkGiowUNFhext+JSRMU7bqLwwEbKXmoIG+EiSq+0EK1EOxFBBIkuFjRYGsSRFRcjKn5RePhCnSg8sJFykBqCLB6vOAkP0U5EEEEi3oIGi4/YyIkgogivER6GIIvPK0dEKxFL+IgAEW1Bg8VLbOREEFFEwIhWhiCL1ytNwkPEEH4iRMRZ0GAJWdGF6ES0GNHCEGTxesVJtBMBIoLwElEWNFgirehCxBERRpCylRqCLH6vOAgPEUu0E14ixgIHS4QVnYhYloo7XEaQspUagix+L3QlYogA4SNiLHAYsSXa5cQQWyKapeaOphGk7KSGIEvICx2ISDnnEFEWuIzYEC1y4ggXEcWydkfDCEjZSQ1BloAXOhNhOWcQURY0WArDEQ2iLieOcBKxLNzRMIKUnRRDkCXglSoRJoJyziJiLGiwbA1HVImGnCiijYgijowopGykYAiyBLxyIGKIgJwziRgLXEa0ERU5PiJERLEEGIIsIa/siRgiSHQiGkSEBQ4jWokjOa1EBBFgCTAEWYJe2RMRRJjoQjSICAscRoSIDlaEiC4sKQcpGIIsQa9UiDARJNqJIBG2oMFSNRzRQsRaEUF0YEnZSwFDkCXolRoRIkKEhwgSYQsaLFXDEW1EnBUdiBiWlL0UMARZwl6pEQGinQgSQSJsQYPl2HCE1zuXJEIsKVWpIcgS4ZUm0Ub4iDARJMIWNFiODUeEvXMpIsSSspVSMARZIrxyRASIEOEmQkSEBQ2WY8MRnb1zFuFhSdlJKRiCLDFe6ELEyTmVCFvQYDk2HNHZO+cTLpYjhiBLjBe6EFFEFHFMhC1osFQNR5zmnQsQLpZCykZKyRBkifJCPBFFRBBOImxBg6ViOOJEK/xEPFFjgZSNlDVDkCXOKzWinQgQ0YSTCFrgMOICVviJaBkhhiBLnFdqRDsRJNqJMBG04NiIy1gRklJKiJTRxhBkifNKjWgnwkQ7ESLCFhwbcREroohoGW0MQZYIgm/sCT8RJjxEgAhbcGzEBa0IELEyWhmCLBFE4ZV4IkD4CD8RtMBhxAWtCBCxMloZgiwxROGVaCJItBIhwm9BTUoKWCIMR0RaESBOl7FlCLLEEIVXYoloOScQAQsaLLGGI6KsCBGny9gyBFliiNIrkUQXOV2JgAUNFp8hY1qJdis8xMkydgxBliii8EoUESnnVMJvQYOl1ZAxXqLNCi/hllFKaJexYwiyRBGFVzoQITknEwELjllchozpRNSsOEFKKcEro2AIskQRpVfiCR/hI4KE14IjlhhDxriIFitOk0KCV0bBEGSJIkqvxBM+wkcECa8FRyzRhoxpEq1WnCxlI+FYRsEQZIki1l6JIfxEiAgRXguOWGINGeMi2uTUJRwkVGUpTSmFBKfMEGSJIdYSekQQHeV0JnwWHLO0GDImkmiRU5ewkxJDuGWGIEsMsZH0iCfi5XQkfBYcsbQYMuZ0A0oZxxIqUtqleBiCLHFEKaFHB8JHtBIBwmfBMUubIWPOJEo5bUSslDpDkCWK2Eh6dCB8RJhwEz4LjlnaDBlzASs8RKSUOkOQJYrYeiWK8BDRhJvwWVCXUZHAmA+xop2IlFJjCLLEEoWEHjFEDBEg2oh2C+oyqhIY80FWBCRspHikHBiCLJFESfCNEBEv50SizYK6jKoExnygFQEJOyluKQeGsBEFEZSz9Y0Q0UXOhf1NTUZVAmM+1gq/hJ2UNilbhrARBREgNgR8I0h45Xykv6nJqEpgzEdbEZYAKW1StgxhIypEG7Eh4BtBIkj4ic7+pibjSAJjPseKMNEmZcMQZjkQrcSW4BthIkDEEn4LalI8UhjxOVZEEB4ZYAizHBEOYkvwjRBxOU/sDdl6YW1BTUpQCiM+x4p4wi0zhFmqRCuxIfhGFHGOJw4SmjIcUgJSGPF5VnQhjmWGMMuaCBBbAr4RQ5ziiYOEc2UpFSmM+EwrOhBHMkOYZU0EiC1R+EaAONUTBwnnylJqUhjxqVZESGlhCLNsCR+xJ+AbAeIsTxwknCNLqUphxOdaEZbSwhBm2RIe4kDAN/zE2Z44SDhZBildpDDislaEpLQwhFm2hIfYE6Vv+IlTPXGQcLYMUtqkMOIzrIiXUmEIs5REmNgQhW8EiFM9cZBwniylKgXGfCzhsqKLlB1DmKUkAsSeKH3DT5zqiYOEM2VASqQUGHMu4bKig5QdQ5hlQ3iJPVH6hp843RMHCWfJgJRIKTDmEkTTilOkhjDLhggQW2LtG37iLE8cJJwsgxSnFEZc0t0YN1FYcYrUEGbZEz5iS6x9I0Sc6omDhHNkkOKSAmM+xQBIOY0hzLInfMSWWPtGkOjsiYOE82WQcroUGHOmAaScJjWEWQ5EO7Ej1r4RR3TxxN6QLUvKgegig4yTJTDmbGJjRWepIcxyIFqJPbHxjSiiqycOEnaylA0RLwMyTpbAmHOJrRWdpYYwy4FoJQ7E2jeiiI6e2BtSsqRUiWgZpRGf5G7MEbGzorPUEGZZE36iQpTEdwJEd0/sDVmzpNSJE2QUxnw2sbeimxQMYZY1ESL2REl8J0B09MTekB1LioPoJqMw5rOJuhWxUsAQZtkSAWJHlATf8RAdPbE3pMKS0pGIkVEY86HEae5YM4RZNkSI2BElwXdCxCmeOEjYyFI6En4ZhTEfSpzojjVDmGVDhIgdsSb4jp84zRMHCWtZSkfCIwNGfBLRmSglhjDLjvATe6Ik4DthItITBwkNWUqdOEsGltMMR3QhTjY0hFm2RIDYE2uC74SJOE8cJDRkKQ3iLBkZIQkjzidONjSEWTZEiNgTJVH4jo/o7omDhL0sZUdcQEaGT8KIixCnGxrCLBuinagTGwK+006c6omDhLUsZUNcQkaGV8KIixCnGxrCLFuihTgi1gR8J0x088RBwlaWsiEuISOji4QRpxGnGxrCLDvCTRwRa6LwnSDR0RMHCWtZypY4RUbGORJGnEScYWgIs+wIJ3FEbIjCd0JEtCcOEqqylB1xtoyMThJGnEacYWgIs2wJN9EktkTpO34i3hMHCR8nA8v/AYaGMMuOaCMaxIYofKeVOMkTBwkfJQPLP9zQEGbZEW1Eg9gQhe+0Eqd74iDh8jKw/NMNDWGWHdFGNIgtUfiOnzjFEwcJl5eB5Z9uaAiz7AgvcSC2ROE7fuIUTxwkXFwGln+8oSEoI46oERui8I0P8MRBwuVlZMRKGHEKca6hIcyyI9yEiyiJ0jcu7omDhA+QkRErsfwmQ0OYZUc4iBaiJErf+BBPHCQ0ZIRlXEZi+U2GhjDLnjgm3MSGKFj+5DziVH9TkRAjI6OLxPK7DA1hlj3RTtSJLQGWPzmPiCBcFlQM2bIUMi4isfwuQ0OYZU84iQZRIQriO2cREUSLBVUJhYxCxkUkltOJcySGMMuecBIuYkMUxA88RICIIdosqBiyZiHjUhLLKcSZEkOYZU/UiFZiTxQE3zmDiCPcFlQMabKQcZbEcgpxpsQQZtkRdaKV2BMl8Z0ziBARsqAp42ISyynEmRJDmGVHOAgXsSdKgh+4iTARIAIWVAwBCxmXkVhOI86VGIIyvEQrsSNAwA9cRAThJwIWVAxZs5BxAYnlZOIkiWXDEJThI9xElQABP3AREUQ7EbagYsiGhYyLSyyxxGkSy44hzLIzJCWOqBIFAT9oIYJEKxFhQcWQNQsZl5ZYYomTJJYDQ5hlT9SJNqJClAT8wE0ECR/htaBiyI4FLL+NOE1iOTCEWfZEg2ghKkRJFH7gIMJEJOGwoGJIk4WMS0kskURXiaXJEGbZG5LRIJxEhSiJ0g+OiDARSzgtqBhSZyHjQhJLLNFRYqkaUjCEWQ5Ek2ghdsSGKPzgiAgTrUSMBRVDShaw/D7CK7EEDCkYwiwHokm0EDtiQxR+0CTChJ8IWFAxZM0Clt9HeCUWnyEbhjBLhWgSbmJHbAn4QYOIIAKE14KKIVsWsPwuIiCxHBuOqLkzhFkqRJNwE3tiQ8APXISf8BIBCyqGbFnI+OdKLEeGIxoMYZYKUSNaiT2xIeAHDiJARBJOCyqGbFjI+AdLGBFmCLNUiQPhJbbEloAfOAg/EUe4LagYsmEh4x8sYUTQnSEoo5XwEntiy8JfOAgfEUO0W1AxxM1Cxj9HwgiXuzEHA0NQRivhIw7EhhjBXxwTPiKGaLOgYkgbCxn/JAkjAu4MQRmthIc4EHsW/qQzEUO0WFAxpMZCxj9SYlkbjmh3ZwjKaCW8xI44sPAnHYl44tiCiiF1FjIuKGFjisf/8EgsNcMRpbsxxwaGoIw2wk/siAMLf9KR6EIcWXAk4wMkbEwJ+YnfcMSRuzF7YuPOEJTRQgSIPXFg4U86Ed2IhgVHMj5SwsaUNn02ZtT9pJs7Q1BGCxEktsRWztoPTiGiiKYFRzI+UsLGlFZ91mbU/aTujo0RbneGoIwWIkTsiK2cjR+cQEQRTQuOWT7JkLUpDX0KMxp+cnBH4YG1X7jdGcIsNWJLhIg9sZGz9YNTiDBxZEGrKb9Ln8KMIz/ZuaPwwNo1jHC4M4RZasSOCBE7YiNn6wenEFFE3YI2U36bPnszKn6ydQd8ZWeF08AQZnHIiSK2xFrOzg+6EtFEzYJWU36b7xl7Mw5+snEHfGVvhdPAEGY5lhNJbIhSTsUPuhFBwmnBkYwPl7Ax5Vh/xpagP6Pqja0BfGVvhdPAEGZxyPERR0Qhp+IH3Qk/4bKgIeETZdTN8LvinrVbvnKwwmlgCLO45ISJPVHKqfpBZyJEHFtQl9BRxs6UM/Vn+F1RMSLIEGapy4km9sRazsEPOhMh4siCgzsYkdBRxt6Mj5bDOzBgQs0KJ0OYpU5siQBxINZyKn7QiQgQTgsO7qgbsTbmMwwozWgltt7hFh6o+kXN3Zg1Q5ilTmwJJ+G04tgPuhABwmnBwR1bIypm/BPk+Pyi6m7MliHMUid2xDHRYsWxH3Qh4omDBW2mfLL+jFY5Xr84uBuzZwiz1Igd4SPqxFbOzg+6EzFExYKDOypGHEz5DP0Z7USVqPvFwd2YPUOYpUbsCBfhJrZy9n7QlQgSdQsO7nAZARmXlrAx5aA/I0rOkXfcDGGWJrEmWggHsSU2RsCfdCSCRN2CgzsqRuw98JGup0B/Ricrqla0MYRZ6sSOcBMuYkNsCPhBVyJANCw4uKNqxN4DH+iaGZ3lVLzTyhBmqRM7okZ4iQ2xIWD8Jx0JP9G04OCOuhGlER/ijp0ZJxAHv2hlCLPUDUlxEz5iQ2yIwvhPuhGthNOCgzvqRqyNuSCxdUfhAa6ZUXE1xy2n1S9aGcIsDWJPtBN1YkNsCRjzJ7FEmGhaUHXHkRFrYy5FrN2xNmPrCpgBV3PccpwE77QzhFkahqQEiSaxI9YEjOFPIokIomFBzZAmS2HE2e64B1EQhTtKU9b6bM3xyHERvNNqYAizNIgDcSBCcqpy1v5HJNGF2FhwcEfdiNKIi7jjHlEasDel1GdjBlzNaZXjssLHEGZpGEKKgwjJOTKCv/B7ZGdIwwtBCw7uqBlRGnERd2P2BmxNKfVZm1G6mtMux2WFhyFsRNMdGQ7CQ1SJkiiMoIfPnL2ULXHsBZe/ORjSYCmNuYTBPXu3FGbsXLH2SIScjgxhI5ruIOOYCBA7OXsjoEerOXspR0TNC0f+5mBIg6U05nwDJlTcADN2rig9cpIcP0PYiDpxICoSSPEROytqftJizl7KEeH0QsXfHAxpsJTGnG3AhKobmLLXp/DIiXK8DGEj6sSBqEpI8RJbORUj6OEyZyfhFC/A3xwMOWYpjTnXgAl7NzBlp88c6D2y9hfwSIu/gBluOW6GsBFHxI6oSEhpJw5yakY9HObspZzkBXhib8gxS2nMuQZM2LmBKYU+c+p6lB5p8RfwyLEcyHEzhI1oEHuiKiGlnajKqRhBj4Y5VSkneeGJphGXdTcGBkxouKEwZ6P3yNpfwCPd5JRy3AxhI+rEgahKIKWNqMqpEPCTmjlVKedI2RlyxFIac6YBExpuKMxZ6z2y8RfwSDc5pRw3Q9iIGlEh6kQ7UZFTJeAne3PqUs6VUhpyxFIac64BExpuKMyp6LHxSCc5pRw3Q9iIClGT043YyqkS8JOtOXUpDWnGKRIg5VJSYMzegAkNNxTmFHqPbPzF2iMbAnqPhKwoCTdD2Ig6UZMTJppyqgSM2UmJkWZ0JC4nBcYcDJjQcMPWI1t/sfHIhoDeIyErXMSGIWxEg6jKCRHHcmrEwRhI8UszTiC6SoExEQZMaLihMGfn/2VE1Zy13iMNf7H2yI5AFHJcDGEjjom9nBDhkFMlDsZAikeacSqxkwJjLmbAhLobYMbO/4AhO494/MXGI1sCBDlOhrARx1acKqdCbImmMZDikmacQ+ykwJiLGDCh4YbCnIOcQh8e6eZ/MAAecDOEjTiS4ySCcqpyGnI2JmykNKUZ5xIbKTDmIgZMqLuhMOcgp9CHR7r5H4UB8ICTIWzEkRwnEZJTk9OQszahlHIszbgA4ZBSuCeCaBowoe6Gwpy9nEIfHulmRaE/o5DjYggb0ST2RIXwETUrHMbUpNSlGRcifFJKE+pE0+2E0g2FOb84uKEw5yAH+vDITs7aFTxx5J2a/oxCjoshbESDOBAVIo4orTg2pqRZccgAAA8RSURBVC7jw4hWKWtf2RElUXM7YeuGwoSqGzYeaZOzdgVPHPnFzvWUQn9GIcfBEGZpEBViS3SS4zCi7gle+EjCLWNtwpYoiJrBPTu3wJR3Dm4pzNi6mtOUs9GHR5r+4oGa6ymwwsUQZmkQFWJHdLPi2JiqGd/5FKIhY21CjWhxC0x55+CWwoyNqzlNOTt9eKThL3ig6npKG0OYpUkciB1xineO3AMJDlnK50gpTXDJcRgwoeYGmLFxNaezFTXXU9oYwixNoiLnHO8cuWcrwSlL+VBpRkJhgps4djuh7oaqOQ05e3145EgOORXXU1oYwiw1oi7nLO8cu2cjpbM0w084pBk1CYUJbqLd7YSNG+rmVL2z9YXCIw455FTluBmCMvxyzvNO0z1rCccyMs4kjqUZNQlwz0lEaUDDnKp3dr5QeORYDuRU5TgZgjLa5VzAOw33rCUcZGRcimhKMxoS4J5z3fIV+AIzCldzdt7Z+ULhEYccyKnKcTEEZbTLuYR3Gu5ZSwlJM04gGtKMhoTChFOIqlsKMwpXc/ZW7F0DjzjkFHLqco4YgjJ8clplKS7i2Ds196ylhKUZHomlSsRKKEyIJ9xu2ZhTsWLvGnjEJWdNFEQ7Q1CGV45bRsaOqBLH3qm5p5ASkGYEJJYaESuhMKGrnMLgnp1btuYc/KJ0wwNcA4+45RRESbQzBGV45ThlZBwTa+LIipoxkBKQZvgllgYRKaEwoStRd8vGnIo3SresPdImp5ATYgjK8Mpxysg4JrZEw4qaMZASkGZ4JZYjIlZCYcJ5bijMqXlj7Za1R9rkFHJCDEEZXsItzXASG6JuRdUYSPFLM7wSi4uIk1CYcJ4bCnPqVqxdM2Pnikfc3gkwBGVcllgTdSsqxkCKX5rhlVjcRJSEwoSz3MCUQp85BysOrplRuuIRp7+YsiGcDEEZXSWWOlEjSqJuxcEYErKUVmlGQGJpISIlFCac7gamQJ85dSt2rplRuuKRupwtsSVcDEEZHSWWBtEgSsIrI+N0CSOccrpIKEw4yQ1Moc+chh6FBwrXUzb68EhNzo6oEA2GGBmxEouLqBNrwidLaZVm+CWMaJHTUUJhQmc3MKXPnJoeaw+Urqds9eGRmpwdcSAaDFEyYiUWF9EgSqJuxcYYErKUgDSjRcKINjndJRQmdHIDU+gzp2pF1fWUrT48UpVzIPZEgyEoo4vE4ibqxJ7YWbExhoQsJSDNaJEwok3OCRIKE7q44QG4hjkVK6qup+z04ZGKnIqcVoagjA4Si5s4InbEVs7WiIQsJSzNcEgY0SrnRAmFCbFuKD0iKlbUXE/Z6cMjOzl1Oa0MQRnxEksLcUxsCZcsxSfNaJMwol3OyRIKE+LcUJhTt6Lmespan5oZTTltDEEZ0RJLO+EgdkRTlhKQZjgljGiXc6KEwoRIN5QeEVUraq6nbKzYuGFtRkNOG0NQRrzE0kq4iD3RkKX4pRkuCSPa5ZwkoTAh3g2lR0TFiprrKVsrtm6AGUdy2hiCMjpILG2EizgQDVmKS5rhlTCiXc4JEuCe0u2EODcU5tStqLmesrdi7QaY0ZTTyhCU0UFicRJtxJ5oyFJc0gyfhBHtBKKrBMbAgAmxblh7gpyDFXvXU+pWlG6AGU05rQxBGR0klmPCQ1SIkgBLIWUnzYiWMKJ0N6ZKrAlEtATGbA2YEO+GtSfI2VtxcD2lbkXpBphxJKeNISgjWmJxECFiS6wJsAlkKXVpRlDCiNLdmDpREohoCYzZGDChgxvWnsg5WLF3PaVhxcYNMKMpp4UhKCNaYjkmwsSGaMhSqtKMoIQRcDfGIackoiQwZmfAhE5ueIBrmFOxYu96StOKtRtgRlNOC0NQRjeJpUpEEQXRlKVUpRkhCSMKd2NcckBESmDM2oAJ3dzwQOEa5uytOLie0rRi7QaYcSTHzRCU0U1iqRJxclyylIo0IySBMe1yENESGFMYMKGjGx4oXMOcvXdKXx4oXAOPwIq9FWs3wIwjOW6GoIzPkeOQpVSkGSEJjGmVAyJaAmNgwITObngArmHOzjtrXx6Aa+CRwoq9FWs3wIwjOW6GoIzPkZBwLEs5SDNCEhjTJgdEvAS4p+F2gtsNa0/8Yu+aGVsrtr48wDXwSGFFxYq1G2BGU46bISjjs+Qcy8joIIExbQQ5nSTAPXW3E5xu2FsCbzT0+MrGd0YcTNlbsXYDzGjKcTMEZXyanKaMjA4SGNNO5MRLKEyIdsPG3/yPrRsKc0pvFL6xNqFmytaKjRtgRsMKN0NQxucRoiYjo4MExrQTOR0kFCbEE00rSkO4p3DLVwrfRxxMOVixcQPMaMhxMwRlfCIBYi8jo4MExvitaJNY6obAhC5u2Pj7B1sr1oZwD9zCAzvXlGYcXFGa4ZbjZgjK+EyiIDYyMrpIYIzHCo/EUjMEJnRzw9o9brfwwNo7DCjNiJbjZAjK+ExiJ6WU0UECY9qt8EqAe9xuJ0S5YeMel1t4YO+a0oxYOU6GoIzfI6GQ0UUCY9qtCEqAe47dToj0DkO4x+UWHti7BmbEy3EyBGWcTWykGR0kQEYXCYxp985OisVrCEw4xQ2lxzdcbr5y8AWYESunhSEo40w5WxkZHyuBMW3e2Umx+A2BCRd385WKLzAjUk4bQ7yMEwjETkbGB0pgTLsVFYnFZwhMuLSbr1R9gRmRctoYYmWcQBTETkbGB0pgTLsVFYnFYwhMOMMNhQkNN1+p+gIz4uS0MkTKOIEoiIOMjI+TwJh2KyoSS7shMOHYio07mNBKcEvhnqZbvlLxBZhyrD+jaUUrQ1DGicSaOMjI+CgJjPF5ZyfF4jMEJhzL2RgwwUO0uOUrFV+YEimnlSEow0cEiL2MjI+VwJgW7+ylWDyGcI+LWBvAPVu3E47krA3uabjlK4UvHEyJkdPOEJThJ3zEQUbGx0pgTIt39lIsXkO454jYGMA9W7cTjuWUBvc03NIwxeWdLgxBGQGihajLyPhYCYxp8c5eisVryJh2g3v2bie45BQG99Td0jTF4Z0uDEEZEcQR0ZSR8bESGOP2zl4KWHyGcE+D2Bncs3M7wSVnbXBP3S1fqfjClGMrOjGEpJxK1GRkfLQExri9syHIwOI1hHvqxM7gnr3bCW45a4N7qm75SsUXpjis6MIQknIGUZGR8cESGOMk3tnKKFh8hoxpNbhn73ZCq5zS4J6DW75S9YUpx97pwhCSchZxkJHxsRIY4yTeWctYs3gNGdNiAEyIkLMxgK+4faEwpeGdLgwhKWcTTRkZHyCBMS1+sZaxYTnREJjQIFqI0gC+4vTlgYPrKaV3OjGEpJxEeGVkXF4CY1r8opSxZTnNEJgQkBNrADywdT2l9E4nhpCUj5FmXFgCY1r9ovR+z5rlRENgQsD/Vx3cMreNJgAAfjSzP2F/woEFBw4UFBQUFBQUFAQEFAQEFAQYFBgICAgIFAgIGAQEBAQUFCwoKCgoKFiw4EBv5sCCgAUBBgYC78ydnaaNv2S9cmQnfZ5arAHOfHd0jrFuEm0yO5Ll+pZSanBlakzlWmErQ4y0qcUa4MyKiXiJNpkdyXI9Syk1GBi6UaCwnSFG1ggaBDdqawyp3E2iVe7nkFJqNJC5lSl0M3zr2htG1giWBYtqq4ZU7ijRKvdzSCk1CSYWZApbGGJknWBFsA+JVrmfREqpQTCxIFPYwhAji4IGY/uQaJX7SaSUGgQTizKF7oYYWRQsCfYp0SrXj2CNLNeblFKTAZl5mUJ3Q4wsCRYF+5RoletLsCrL9SWl1CQwNien0M0QI2sEi4J2g0o/ThKtcv0JVmW5fqSUGgUzV74pUOhmiJE1gkXBZoNKjxKtcj0KVmW5XqSUmgW33pjKdZSaGlkRLAgaDCo7kIjw1vZq84J1slwfUkqbBDfeuJbrJjU1suwv8wozpQYDI/1KxChFmtgsWCvL9SCltFkw88Y3uW5SVFZcWlCYKTUYcKpPiRilSBP3KKUUZeCbXDcpKssuLSjMlPYlEaMUaeIepZTiDMxkZLkOUlSWXVpUmCntSSLCW9uprRM0yHJ3klKKNPBNrosUlWWXVhRmSvuQaFe4o2BesIUs1yqlNDOotDnxXS5eisqyS2sUrlV2LtEq169gRzKUpgaVNidm3vFVBykqyy61KFyrRDlxqotElMqqsa0E14JYeSZShhKDSrsrN7JctBSVJZfaFa5V+peIUlljbAvBD0GsPBMlM1WJNNZZisqSSzEK1yp9S0SpNJhoFSwIdiczVWkRXJvYQorKgktRClNv9S8R4a2OahsEO5OZqrQIZia2kqIy51KswrVKvxIxSpFqTYIfgjvJco1SSjODSrNgaqJZikqcv0XLKRgq9SkRoxSltlEwL+gqy81JyS1LKc0MKs2ubJah1GhQuXWlg0zBUKlPiRilKMGyYFnQk5TcipRShCtRcry15I3KD2OdpJT6lYhSaVaLEvRoqGRijZRSq9qCiU1yCj0aUulPIkqlUS1OsJWhUoMBpS0E601slCn0ZkilH4koI0uCGEEPBpUVJ07N1Pag9qAloow0CnbqZKTRa5V7EOzPwNS5TRJxTjUKHohgrROn5gV3VduHgZkLLQ4TcU49FMfO3brSasCp3Tk+s42JDU5MXYhymIhz6gE4dm5Jba3arROnujk+c8+OXIh0mIh06l4cn1lxdO5WbX+Oz/Tn6FwvXiVinbl3Ry4sm9id4zPbO3KhL0GzV4lo5+7Vqwtr1R6CIxfux2Ei2rlmry7c1eE72zh4bxvBwxDc1WEi3oVeHL5zVwfv/SSC3Tog0cE7O3bw3oPy0gdRaj0LYh0kunhvP17+brMXH7QKZl58sH/B/rxIdPFer2qLDvFBnOcfNQl2YWzOIT54EJ4nOvropxLMjN0YW/HaNx80eue709dujKzzyQa1XXie6OijB+LZJ7GuHOCj7T37ZNHYDy9NfbYDtQjPEl198qA8/exOglvBkmefXHvqu78t+6/79SRx6xfLAn611hX+Ic5YvCvxPlv15IsowaLgxlPzan+Zl9vgXKMvugjiPUn4RZuAX3UwNi+48ZtNvmr1u3VemPpijcd/2CiY89ii//EfyyZaPPrTJsFd1RY9Sdz6zQZf8ViLL9p9sSOP/3Anj/zbrX9+NWciyqM/7d2//g/2ufzsqzkPmwAAAABJRU5ErkJggg==",
        "encoding": "base64",
        "path": [
         "value"
        ]
       }
      ],
      "model_module": "@jupyter-widgets/controls",
      "model_module_version": "1.5.0",
      "model_name": "ImageModel",
      "state": {
       "layout": "IPY_MODEL_8fefb8bb9f794381a2d6fb4c71abf5d5",
       "value": {}
      }
     },
     "3108d0bef33d4ed28dc6419b5f7605ec": {
      "model_module": "@jupyter-widgets/controls",
      "model_module_version": "1.5.0",
      "model_name": "DescriptionStyleModel",
      "state": {
       "description_width": ""
      }
     },
     "314af17a0bc14ebb8e94118e390946bb": {
      "model_module": "@jupyter-widgets/base",
      "model_module_version": "1.2.0",
      "model_name": "LayoutModel",
      "state": {}
     },
     "3a0d8b8643c54125b220d8a54b1544ce": {
      "model_module": "@jupyter-widgets/base",
      "model_module_version": "1.2.0",
      "model_name": "LayoutModel",
      "state": {}
     },
     "45c34905b3314394966f3c022d2d39b0": {
      "model_module": "@jupyter-widgets/base",
      "model_module_version": "1.2.0",
      "model_name": "LayoutModel",
      "state": {}
     },
     "51c25bc02037434984a282c4b51f6c7b": {
      "model_module": "@jupyter-widgets/base",
      "model_module_version": "1.2.0",
      "model_name": "LayoutModel",
      "state": {}
     },
     "51d46cbb046f49a5bce6d11d36427a5f": {
      "model_module": "@jupyter-widgets/controls",
      "model_module_version": "1.5.0",
      "model_name": "DescriptionStyleModel",
      "state": {
       "description_width": ""
      }
     },
     "52d7f3cf239e45fdadd7bbf1b7f2ec76": {
      "buffers": [
       {
        "data": "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",
        "encoding": "base64",
        "path": [
         "value"
        ]
       }
      ],
      "model_module": "@jupyter-widgets/controls",
      "model_module_version": "1.5.0",
      "model_name": "ImageModel",
      "state": {
       "layout": "IPY_MODEL_0380615fc1ae4ac4be15ae4ffc3490c7",
       "value": {}
      }
     },
     "5601e1e3aa054d439c76c9658eb325cc": {
      "model_module": "@jupyter-widgets/base",
      "model_module_version": "1.2.0",
      "model_name": "LayoutModel",
      "state": {}
     },
     "5710b738bf80444c881f532db4fe1247": {
      "buffers": [
       {
        "data": "Bi/nv0XLwT8GL+e/RcvBP8kxT76FrL0/F+MZ6b76vj+Wi87JpRzBPwYv579Fy8E/yTFPvoWsvT8X4xnpvvq+P5aLzsmlHME/",
        "encoding": "base64",
        "path": [
         "_data",
         0,
         "y",
         "value"
        ]
       },
       {
        "data": "7tf/Q09C0D+/QXD0NVPTP2vhDovKSNY/i0GYcOdn2D8=",
        "encoding": "base64",
        "path": [
         "_data",
         1,
         "y",
         "value"
        ]
       },
       {
        "data": "zhrWEgPgzz8H3+5cHEHTP3bOkf/6WdY/yoW115lW2D8=",
        "encoding": "base64",
        "path": [
         "_data",
         2,
         "y",
         "value"
        ]
       },
       {
        "data": "vb6KUufa0z8OHduSGpbXP366KEUdVNk/s+N7Qu372j8=",
        "encoding": "base64",
        "path": [
         "_data",
         3,
         "y",
         "value"
        ]
       },
       {
        "data": "1rG7Eio3xz97aX1+AdTMP9R0gkAe2NA/gQPlBQU00z8=",
        "encoding": "base64",
        "path": [
         "_data",
         4,
         "y",
         "value"
        ]
       },
       {
        "data": "eKgmdx5k0D8dg4V/e2zTP3j21OXzfdY/WbfXcyR72D8=",
        "encoding": "base64",
        "path": [
         "_data",
         5,
         "y",
         "value"
        ]
       },
       {
        "data": "qUNcEKsL0D8c7BpQvnLTP3RcIfp1nNY/gXxY4q962D8=",
        "encoding": "base64",
        "path": [
         "_data",
         6,
         "y",
         "value"
        ]
       },
       {
        "data": "AcXXVizw0j+b9hXGR5DWP8NiitFLLdk/+JGoErnF2T8=",
        "encoding": "base64",
        "path": [
         "_data",
         7,
         "y",
         "value"
        ]
       },
       {
        "data": "CbFunE7qxT8z7BkrxEjLP5rGhNxB6s8/tyrbdSIL0j8=",
        "encoding": "base64",
        "path": [
         "_data",
         8,
         "y",
         "value"
        ]
       },
       {
        "data": "G6oom+D6zz+SeabJ6WvTP6iOwcK/PdY/KGkYtuRU2D8=",
        "encoding": "base64",
        "path": [
         "_data",
         9,
         "y",
         "value"
        ]
       },
       {
        "data": "G6oom+D6zz+SeabJ6WvTP6iOwcK/PdY/KGkYtuRU2D8=",
        "encoding": "base64",
        "path": [
         "_data",
         10,
         "y",
         "value"
        ]
       },
       {
        "data": "C5IG65d91T/medLG6snYPwJ/K4fp1tk/G1VRIyiX3z8=",
        "encoding": "base64",
        "path": [
         "_data",
         11,
         "y",
         "value"
        ]
       },
       {
        "data": "tagtZ1wryT89MJjZQ23PP3881lPjM9I/x4BIWUK/1D8=",
        "encoding": "base64",
        "path": [
         "_data",
         12,
         "y",
         "value"
        ]
       },
       {
        "data": "p3C31k4qwT+ncLfWTirBP6/lEZu77bw/OUcRhcY5vT9lLNM6uFzAP6dwt9ZOKsE/r+URm7vtvD85RxGFxjm9P2Us0zq4XMA/",
        "encoding": "base64",
        "path": [
         "_data",
         13,
         "y",
         "value"
        ]
       },
       {
        "data": "PuQzX8LDwT8+5DNfwsPBP1yak4QEvrs/s0BCwNn/vT+CXPFojJbAPz7kM1/Cw8E/XJqThAS+uz+zQELA2f+9P4Jc8WiMlsA/",
        "encoding": "base64",
        "path": [
         "_data",
         14,
         "y",
         "value"
        ]
       },
       {
        "data": "GtKkTPU/vz9m+xxXiH69P3i85M+oBsA/BN8nKDhiwj8=",
        "encoding": "base64",
        "path": [
         "_data",
         15,
         "y",
         "value"
        ]
       },
       {
        "data": "j8nX9y4XwT8kMb74Z8/DP+YkNBpOh8c/73knZZdmyz8=",
        "encoding": "base64",
        "path": [
         "_data",
         16,
         "y",
         "value"
        ]
       },
       {
        "data": "j8nX9y4XwT8kMb74Z8/DP+YkNBpOh8c/73knZZdmyz8=",
        "encoding": "base64",
        "path": [
         "_data",
         17,
         "y",
         "value"
        ]
       },
       {
        "data": "a2PPMu+I6T8AAAAAAADwPwAAAAAAAPA/AAAAAAAA8D8=",
        "encoding": "base64",
        "path": [
         "_data",
         18,
         "y",
         "value"
        ]
       },
       {
        "data": "qm40F9+Y6T8AAAAAAADwPwAAAAAAAPA/AAAAAAAA8D8=",
        "encoding": "base64",
        "path": [
         "_data",
         19,
         "y",
         "value"
        ]
       },
       {
        "data": "5Yo0ylUk7j8AAAAAAADwPwAAAAAAAPA/AAAAAAAA8D8=",
        "encoding": "base64",
        "path": [
         "_data",
         20,
         "y",
         "value"
        ]
       },
       {
        "data": "LkWrveFN4T9hMcXopZbsPwAAAAAAAPA/AAAAAAAA8D8=",
        "encoding": "base64",
        "path": [
         "_data",
         21,
         "y",
         "value"
        ]
       },
       {
        "data": "GdBt8f8vwT8Z0G3x/y/BP/CKKmsp37w/KWIoeB0svT/lSC98GUzAPxnQbfH/L8E/8IoqaynfvD8pYih4HSy9P+VIL3wZTMA/",
        "encoding": "base64",
        "path": [
         "_data",
         22,
         "y",
         "value"
        ]
       },
       {
        "data": "R7KH7VeJwD/4zKqJzxTCP2a5BHDtRcU/rferMa/gyD8=",
        "encoding": "base64",
        "path": [
         "_data",
         23,
         "y",
         "value"
        ]
       },
       {
        "data": "3xSP2QFowT9iXtRKzzPEPzvAccgSIMg/z68cgCkqzD8=",
        "encoding": "base64",
        "path": [
         "_data",
         24,
         "y",
         "value"
        ]
       },
       {
        "data": "3xSP2QFowT9iXtRKzzPEPzvAccgSIMg/z68cgCkqzD8=",
        "encoding": "base64",
        "path": [
         "_data",
         25,
         "y",
         "value"
        ]
       },
       {
        "data": "R7KH7VeJwD/4zKqJzxTCP2a5BHDtRcU/rferMa/gyD8=",
        "encoding": "base64",
        "path": [
         "_data",
         26,
         "y",
         "value"
        ]
       },
       {
        "data": "lBlexCBfwT9x7ld29x/CP70n51cOwMQ/7tW1T/vRxz8=",
        "encoding": "base64",
        "path": [
         "_data",
         27,
         "y",
         "value"
        ]
       },
       {
        "data": "fHJ+5QBMwT+T2tr9wI/CPwNyXWwmXcU/BKrw9L4DyT8=",
        "encoding": "base64",
        "path": [
         "_data",
         28,
         "y",
         "value"
        ]
       },
       {
        "data": "GdBt8f8vwT8Z0G3x/y/BP/CKKmsp37w/KWIoeB0svT/lSC98GUzAPxnQbfH/L8E/8IoqaynfvD8pYih4HSy9P+VIL3wZTMA/",
        "encoding": "base64",
        "path": [
         "_data",
         29,
         "y",
         "value"
        ]
       },
       {
        "data": "GdBt8f8vwT/wiiprKd+8PyliKHgdLL0/5UgvfBlMwD8Z0G3x/y/BP/CKKmsp37w/KWIoeB0svT/lSC98GUzAPw==",
        "encoding": "base64",
        "path": [
         "_data",
         30,
         "y",
         "value"
        ]
       }
      ],
      "model_module": "plotlywidget",
      "model_module_version": "4.6.0",
      "model_name": "FigureModel",
      "state": {
       "_config": {
        "plotlyServerURL": "https://plot.ly"
       },
       "_data": [
        {
         "hovertemplate": "%{text}",
         "name": "gauss_3_3",
         "showlegend": true,
         "text": [
          "bad4: 0.13901588316218055<br>Experiment id:<br> ALG_005_EXP_002-PatchMatch-MacLean_et_al-Numba<br>Scene: cones<br>kernel size: 3x3<br>kernel spec: gauss_3_3<br>match:10<br>bad4: 0.13901588316218055<br>IMG res:450x375",
          "bad4: 0.13901588316218055<br>Experiment id:<br> ALG_005_EXP_002-PatchMatch-MacLean_et_al-Numba<br>Scene: cones<br>kernel size: 3x3<br>kernel spec: gauss_3_3<br>match:10<br>bad4: 0.13901588316218055<br>IMG res:450x375",
          "bad4: 0.11591373344635438<br>Experiment id:<br> ALG_005_EXP_002-PatchMatch-MacLean_et_al-Numba<br>Scene: cones<br>kernel size: 3x3<br>kernel spec: gauss_3_3<br>match:20<br>bad4: 0.11591373344635438<br>IMG res:450x375",
          "bad4: 0.12101357642121645<br>Experiment id:<br> ALG_005_EXP_002-PatchMatch-MacLean_et_al-Numba<br>Scene: cones<br>kernel size: 3x3<br>kernel spec: gauss_3_3<br>match:30<br>bad4: 0.12101357642121645<br>IMG res:450x375",
          "bad4: 0.13368675569389826<br>Experiment id:<br> ALG_005_EXP_002-PatchMatch-MacLean_et_al-Numba<br>Scene: cones<br>kernel size: 3x3<br>kernel spec: gauss_3_3<br>match:40<br>bad4: 0.13368675569389826<br>IMG res:450x375",
          "bad4: 0.13901588316218055<br>Experiment id:<br> ALG_005_EXP_002-PatchMatch-MacLean_et_al-Numba<br>Scene: cones<br>kernel size: 3x3<br>kernel spec: gauss_3_3<br>match:10<br>bad4: 0.13901588316218055<br>IMG res:450x375",
          "bad4: 0.11591373344635438<br>Experiment id:<br> ALG_005_EXP_002-PatchMatch-MacLean_et_al-Numba<br>Scene: cones<br>kernel size: 3x3<br>kernel spec: gauss_3_3<br>match:20<br>bad4: 0.11591373344635438<br>IMG res:450x375",
          "bad4: 0.12101357642121645<br>Experiment id:<br> ALG_005_EXP_002-PatchMatch-MacLean_et_al-Numba<br>Scene: cones<br>kernel size: 3x3<br>kernel spec: gauss_3_3<br>match:30<br>bad4: 0.12101357642121645<br>IMG res:450x375",
          "bad4: 0.13368675569389826<br>Experiment id:<br> ALG_005_EXP_002-PatchMatch-MacLean_et_al-Numba<br>Scene: cones<br>kernel size: 3x3<br>kernel spec: gauss_3_3<br>match:40<br>bad4: 0.13368675569389826<br>IMG res:450x375"
         ],
         "type": "scatter",
         "uid": "f2e6e56a-562c-4805-9920-0baf0d9e7a41",
         "x": [
          10,
          10,
          20,
          30,
          40,
          10,
          20,
          30,
          40
         ],
         "y": {
          "dtype": "float64",
          "shape": [
           9
          ],
          "value": {}
         }
        },
        {
         "hovertemplate": "%{text}",
         "name": "hsobel",
         "showlegend": true,
         "text": [
          "bad4: 0.25404721870961466<br>Experiment id:<br> ALG_005_EXP_002-PatchMatch-MacLean_et_al-Numba<br>Scene: cones<br>kernel size: 3x3<br>kernel spec: hsobel<br>match:10<br>bad4: 0.25404721870961466<br>IMG res:450x375",
          "bad4: 0.3019537818045385<br>Experiment id:<br> ALG_005_EXP_002-PatchMatch-MacLean_et_al-Numba<br>Scene: cones<br>kernel size: 3x3<br>kernel spec: hsobel<br>match:20<br>bad4: 0.3019537818045385<br>IMG res:450x375",
          "bad4: 0.3481928213109515<br>Experiment id:<br> ALG_005_EXP_002-PatchMatch-MacLean_et_al-Numba<br>Scene: cones<br>kernel size: 3x3<br>kernel spec: hsobel<br>match:30<br>bad4: 0.3481928213109515<br>IMG res:450x375",
          "bad4: 0.381341800647555<br>Experiment id:<br> ALG_005_EXP_002-PatchMatch-MacLean_et_al-Numba<br>Scene: cones<br>kernel size: 3x3<br>kernel spec: hsobel<br>match:40<br>bad4: 0.381341800647555<br>IMG res:450x375"
         ],
         "type": "scatter",
         "uid": "5b456857-8439-4f5d-9843-61a20d58359c",
         "x": [
          10,
          20,
          30,
          40
         ],
         "y": {
          "dtype": "float64",
          "shape": [
           4
          ],
          "value": {}
         }
        },
        {
         "hovertemplate": "%{text}",
         "name": "vsobel",
         "showlegend": true,
         "text": [
          "bad4: 0.24902380389922602<br>Experiment id:<br> ALG_005_EXP_002-PatchMatch-MacLean_et_al-Numba<br>Scene: cones<br>kernel size: 3x3<br>kernel spec: vsobel<br>match:10<br>bad4: 0.24902380389922602<br>IMG res:450x375",
          "bad4: 0.3008490474271501<br>Experiment id:<br> ALG_005_EXP_002-PatchMatch-MacLean_et_al-Numba<br>Scene: cones<br>kernel size: 3x3<br>kernel spec: vsobel<br>match:20<br>bad4: 0.3008490474271501<br>IMG res:450x375",
          "bad4: 0.34924197156872283<br>Experiment id:<br> ALG_005_EXP_002-PatchMatch-MacLean_et_al-Numba<br>Scene: cones<br>kernel size: 3x3<br>kernel spec: vsobel<br>match:30<br>bad4: 0.34924197156872283<br>IMG res:450x375",
          "bad4: 0.3802857023748315<br>Experiment id:<br> ALG_005_EXP_002-PatchMatch-MacLean_et_al-Numba<br>Scene: cones<br>kernel size: 3x3<br>kernel spec: vsobel<br>match:40<br>bad4: 0.3802857023748315<br>IMG res:450x375"
         ],
         "type": "scatter",
         "uid": "5382fa0c-1b09-40d0-92be-764a17fd2479",
         "x": [
          10,
          20,
          30,
          40
         ],
         "y": {
          "dtype": "float64",
          "shape": [
           4
          ],
          "value": {}
         }
        },
        {
         "hovertemplate": "%{text}",
         "name": "hvsobel_div2",
         "showlegend": true,
         "text": [
          "bad4: 0.3102358156274752<br>Experiment id:<br> ALG_005_EXP_002-PatchMatch-MacLean_et_al-Numba<br>Scene: cones<br>kernel size: 3x3<br>kernel spec: hvsobel_div2<br>match:10<br>bad4: 0.3102358156274752<br>IMG res:450x375",
          "bad4: 0.3685366090907828<br>Experiment id:<br> ALG_005_EXP_002-PatchMatch-MacLean_et_al-Numba<br>Scene: cones<br>kernel size: 3x3<br>kernel spec: hvsobel_div2<br>match:20<br>bad4: 0.3685366090907828<br>IMG res:450x375",
          "bad4: 0.39575893167322096<br>Experiment id:<br> ALG_005_EXP_002-PatchMatch-MacLean_et_al-Numba<br>Scene: cones<br>kernel size: 3x3<br>kernel spec: hvsobel_div2<br>match:30<br>bad4: 0.39575893167322096<br>IMG res:450x375",
          "bad4: 0.4216263913399942<br>Experiment id:<br> ALG_005_EXP_002-PatchMatch-MacLean_et_al-Numba<br>Scene: cones<br>kernel size: 3x3<br>kernel spec: hvsobel_div2<br>match:40<br>bad4: 0.4216263913399942<br>IMG res:450x375"
         ],
         "type": "scatter",
         "uid": "2d3ca2ef-fb90-4dce-a15d-da44483ca1e4",
         "x": [
          10,
          20,
          30,
          40
         ],
         "y": {
          "dtype": "float64",
          "shape": [
           4
          ],
          "value": {}
         }
        },
        {
         "hovertemplate": "%{text}",
         "name": "hvsobel_div",
         "showlegend": true,
         "text": [
          "bad4: 0.18137098231035392<br>Experiment id:<br> ALG_005_EXP_002-PatchMatch-MacLean_et_al-Numba<br>Scene: cones<br>kernel size: 3x3<br>kernel spec: hvsobel_div<br>match:10<br>bad4: 0.18137098231035392<br>IMG res:450x375",
          "bad4: 0.2252199046732349<br>Experiment id:<br> ALG_005_EXP_002-PatchMatch-MacLean_et_al-Numba<br>Scene: cones<br>kernel size: 3x3<br>kernel spec: hvsobel_div<br>match:20<br>bad4: 0.2252199046732349<br>IMG res:450x375",
          "bad4: 0.2631908063866153<br>Experiment id:<br> ALG_005_EXP_002-PatchMatch-MacLean_et_al-Numba<br>Scene: cones<br>kernel size: 3x3<br>kernel spec: hvsobel_div<br>match:30<br>bad4: 0.2631908063866153<br>IMG res:450x375",
          "bad4: 0.3000500257076553<br>Experiment id:<br> ALG_005_EXP_002-PatchMatch-MacLean_et_al-Numba<br>Scene: cones<br>kernel size: 3x3<br>kernel spec: hvsobel_div<br>match:40<br>bad4: 0.3000500257076553<br>IMG res:450x375"
         ],
         "type": "scatter",
         "uid": "b41c4f2f-6b73-42b5-8a31-245a33a4b0aa",
         "x": [
          10,
          20,
          30,
          40
         ],
         "y": {
          "dtype": "float64",
          "shape": [
           4
          ],
          "value": {}
         }
        },
        {
         "hovertemplate": "%{text}",
         "name": "hscharr",
         "showlegend": true,
         "text": [
          "bad4: 0.2561107791503967<br>Experiment id:<br> ALG_005_EXP_002-PatchMatch-MacLean_et_al-Numba<br>Scene: cones<br>kernel size: 3x3<br>kernel spec: hscharr<br>match:10<br>bad4: 0.2561107791503967<br>IMG res:450x375",
          "bad4: 0.3034962411239109<br>Experiment id:<br> ALG_005_EXP_002-PatchMatch-MacLean_et_al-Numba<br>Scene: cones<br>kernel size: 3x3<br>kernel spec: hscharr<br>match:20<br>bad4: 0.3034962411239109<br>IMG res:450x375",
          "bad4: 0.3514375442935953<br>Experiment id:<br> ALG_005_EXP_002-PatchMatch-MacLean_et_al-Numba<br>Scene: cones<br>kernel size: 3x3<br>kernel spec: hscharr<br>match:30<br>bad4: 0.3514375442935953<br>IMG res:450x375",
          "bad4: 0.3825160151744647<br>Experiment id:<br> ALG_005_EXP_002-PatchMatch-MacLean_et_al-Numba<br>Scene: cones<br>kernel size: 3x3<br>kernel spec: hscharr<br>match:40<br>bad4: 0.3825160151744647<br>IMG res:450x375"
         ],
         "type": "scatter",
         "uid": "235b6911-e553-48db-9f76-76ec894562f3",
         "x": [
          10,
          20,
          30,
          40
         ],
         "y": {
          "dtype": "float64",
          "shape": [
           4
          ],
          "value": {}
         }
        },
        {
         "hovertemplate": "%{text}",
         "name": "vscharr",
         "showlegend": true,
         "text": [
          "bad4: 0.2507121715325931<br>Experiment id:<br> ALG_005_EXP_002-PatchMatch-MacLean_et_al-Numba<br>Scene: cones<br>kernel size: 3x3<br>kernel spec: vscharr<br>match:10<br>bad4: 0.2507121715325931<br>IMG res:450x375",
          "bad4: 0.30387838194627803<br>Experiment id:<br> ALG_005_EXP_002-PatchMatch-MacLean_et_al-Numba<br>Scene: cones<br>kernel size: 3x3<br>kernel spec: vscharr<br>match:20<br>bad4: 0.30387838194627803<br>IMG res:450x375",
          "bad4: 0.3532996123007657<br>Experiment id:<br> ALG_005_EXP_002-PatchMatch-MacLean_et_al-Numba<br>Scene: cones<br>kernel size: 3x3<br>kernel spec: vscharr<br>match:30<br>bad4: 0.3532996123007657<br>IMG res:450x375",
          "bad4: 0.3824882231146561<br>Experiment id:<br> ALG_005_EXP_002-PatchMatch-MacLean_et_al-Numba<br>Scene: cones<br>kernel size: 3x3<br>kernel spec: vscharr<br>match:40<br>bad4: 0.3824882231146561<br>IMG res:450x375"
         ],
         "type": "scatter",
         "uid": "69a8f405-5fd8-4a30-b6e3-cdd876270749",
         "x": [
          10,
          20,
          30,
          40
         ],
         "y": {
          "dtype": "float64",
          "shape": [
           4
          ],
          "value": {}
         }
        },
        {
         "hovertemplate": "%{text}",
         "name": "hvscharr_div2",
         "showlegend": true,
         "text": [
          "bad4: 0.2959090087961869<br>Experiment id:<br> ALG_005_EXP_002-PatchMatch-MacLean_et_al-Numba<br>Scene: cones<br>kernel size: 3x3<br>kernel spec: hvscharr_div2<br>match:10<br>bad4: 0.2959090087961869<br>IMG res:450x375",
          "bad4: 0.352556174700888<br>Experiment id:<br> ALG_005_EXP_002-PatchMatch-MacLean_et_al-Numba<br>Scene: cones<br>kernel size: 3x3<br>kernel spec: hvscharr_div2<br>match:20<br>bad4: 0.352556174700888<br>IMG res:450x375",
          "bad4: 0.3933896585745453<br>Experiment id:<br> ALG_005_EXP_002-PatchMatch-MacLean_et_al-Numba<br>Scene: cones<br>kernel size: 3x3<br>kernel spec: hvscharr_div2<br>match:30<br>bad4: 0.3933896585745453<br>IMG res:450x375",
          "bad4: 0.4026930505954449<br>Experiment id:<br> ALG_005_EXP_002-PatchMatch-MacLean_et_al-Numba<br>Scene: cones<br>kernel size: 3x3<br>kernel spec: hvscharr_div2<br>match:40<br>bad4: 0.4026930505954449<br>IMG res:450x375"
         ],
         "type": "scatter",
         "uid": "2b07d0c3-8b77-49c5-9b98-4c0c8fbf3033",
         "x": [
          10,
          20,
          30,
          40
         ],
         "y": {
          "dtype": "float64",
          "shape": [
           4
          ],
          "value": {}
         }
        },
        {
         "hovertemplate": "%{text}",
         "name": "hvscharr",
         "showlegend": true,
         "text": [
          "bad4: 0.17121298445034253<br>Experiment id:<br> ALG_005_EXP_002-PatchMatch-MacLean_et_al-Numba<br>Scene: cones<br>kernel size: 3x3<br>kernel spec: hvscharr<br>match:10<br>bad4: 0.17121298445034253<br>IMG res:450x375",
          "bad4: 0.21315815071634034<br>Experiment id:<br> ALG_005_EXP_002-PatchMatch-MacLean_et_al-Numba<br>Scene: cones<br>kernel size: 3x3<br>kernel spec: hvscharr<br>match:20<br>bad4: 0.21315815071634034<br>IMG res:450x375",
          "bad4: 0.24933646457207176<br>Experiment id:<br> ALG_005_EXP_002-PatchMatch-MacLean_et_al-Numba<br>Scene: cones<br>kernel size: 3x3<br>kernel spec: hvscharr<br>match:30<br>bad4: 0.24933646457207176<br>IMG res:450x375",
          "bad4: 0.28192960271250506<br>Experiment id:<br> ALG_005_EXP_002-PatchMatch-MacLean_et_al-Numba<br>Scene: cones<br>kernel size: 3x3<br>kernel spec: hvscharr<br>match:40<br>bad4: 0.28192960271250506<br>IMG res:450x375"
         ],
         "type": "scatter",
         "uid": "1edcba39-906c-4703-ae10-95d75c7641f9",
         "x": [
          10,
          20,
          30,
          40
         ],
         "y": {
          "dtype": "float64",
          "shape": [
           4
          ],
          "value": {}
         }
        },
        {
         "hovertemplate": "%{text}",
         "name": "hprewitt",
         "showlegend": true,
         "text": [
          "bad4: 0.24984366966357716<br>Experiment id:<br> ALG_005_EXP_002-PatchMatch-MacLean_et_al-Numba<br>Scene: cones<br>kernel size: 3x3<br>kernel spec: hprewitt<br>match:10<br>bad4: 0.24984366966357716<br>IMG res:450x375",
          "bad4: 0.30346150104915026<br>Experiment id:<br> ALG_005_EXP_002-PatchMatch-MacLean_et_al-Numba<br>Scene: cones<br>kernel size: 3x3<br>kernel spec: hprewitt<br>match:20<br>bad4: 0.30346150104915026<br>IMG res:450x375",
          "bad4: 0.34751886386059505<br>Experiment id:<br> ALG_005_EXP_002-PatchMatch-MacLean_et_al-Numba<br>Scene: cones<br>kernel size: 3x3<br>kernel spec: hprewitt<br>match:30<br>bad4: 0.34751886386059505<br>IMG res:450x375",
          "bad4: 0.3801814821505496<br>Experiment id:<br> ALG_005_EXP_002-PatchMatch-MacLean_et_al-Numba<br>Scene: cones<br>kernel size: 3x3<br>kernel spec: hprewitt<br>match:40<br>bad4: 0.3801814821505496<br>IMG res:450x375"
         ],
         "type": "scatter",
         "uid": "8e02606a-1b88-4dea-829c-9da3f8181daa",
         "x": [
          10,
          20,
          30,
          40
         ],
         "y": {
          "dtype": "float64",
          "shape": [
           4
          ],
          "value": {}
         }
        },
        {
         "hovertemplate": "%{text}",
         "name": "vprewitt",
         "showlegend": true,
         "text": [
          "bad4: 0.24984366966357716<br>Experiment id:<br> ALG_005_EXP_002-PatchMatch-MacLean_et_al-Numba<br>Scene: cones<br>kernel size: 3x3<br>kernel spec: vprewitt<br>match:10<br>bad4: 0.24984366966357716<br>IMG res:450x375",
          "bad4: 0.30346150104915026<br>Experiment id:<br> ALG_005_EXP_002-PatchMatch-MacLean_et_al-Numba<br>Scene: cones<br>kernel size: 3x3<br>kernel spec: vprewitt<br>match:20<br>bad4: 0.30346150104915026<br>IMG res:450x375",
          "bad4: 0.34751886386059505<br>Experiment id:<br> ALG_005_EXP_002-PatchMatch-MacLean_et_al-Numba<br>Scene: cones<br>kernel size: 3x3<br>kernel spec: vprewitt<br>match:30<br>bad4: 0.34751886386059505<br>IMG res:450x375",
          "bad4: 0.3801814821505496<br>Experiment id:<br> ALG_005_EXP_002-PatchMatch-MacLean_et_al-Numba<br>Scene: cones<br>kernel size: 3x3<br>kernel spec: vprewitt<br>match:40<br>bad4: 0.3801814821505496<br>IMG res:450x375"
         ],
         "type": "scatter",
         "uid": "22c76d87-2278-4578-b5de-bfea9782758a",
         "x": [
          10,
          20,
          30,
          40
         ],
         "y": {
          "dtype": "float64",
          "shape": [
           4
          ],
          "value": {}
         }
        },
        {
         "hovertemplate": "%{text}",
         "name": "hvprewitt_div2",
         "showlegend": true,
         "text": [
          "bad4: 0.33579061462140264<br>Experiment id:<br> ALG_005_EXP_002-PatchMatch-MacLean_et_al-Numba<br>Scene: cones<br>kernel size: 3x3<br>kernel spec: hvprewitt_div2<br>match:10<br>bad4: 0.33579061462140264<br>IMG res:450x375",
          "bad4: 0.38732404152133737<br>Experiment id:<br> ALG_005_EXP_002-PatchMatch-MacLean_et_al-Numba<br>Scene: cones<br>kernel size: 3x3<br>kernel spec: hvprewitt_div2<br>match:20<br>bad4: 0.38732404152133737<br>IMG res:450x375",
          "bad4: 0.4037422008532162<br>Experiment id:<br> ALG_005_EXP_002-PatchMatch-MacLean_et_al-Numba<br>Scene: cones<br>kernel size: 3x3<br>kernel spec: hvprewitt_div2<br>match:30<br>bad4: 0.4037422008532162<br>IMG res:450x375",
          "bad4: 0.4936008782290899<br>Experiment id:<br> ALG_005_EXP_002-PatchMatch-MacLean_et_al-Numba<br>Scene: cones<br>kernel size: 3x3<br>kernel spec: hvprewitt_div2<br>match:40<br>bad4: 0.4936008782290899<br>IMG res:450x375"
         ],
         "type": "scatter",
         "uid": "7b911fa9-bb77-499f-89ed-a7a1b0c04848",
         "x": [
          10,
          20,
          30,
          40
         ],
         "y": {
          "dtype": "float64",
          "shape": [
           4
          ],
          "value": {}
         }
        },
        {
         "hovertemplate": "%{text}",
         "name": "hvprewitt",
         "showlegend": true,
         "text": [
          "bad4: 0.19663577116017952<br>Experiment id:<br> ALG_005_EXP_002-PatchMatch-MacLean_et_al-Numba<br>Scene: cones<br>kernel size: 3x3<br>kernel spec: hvprewitt<br>match:10<br>bad4: 0.19663577116017952<br>IMG res:450x375",
          "bad4: 0.2455220043633534<br>Experiment id:<br> ALG_005_EXP_002-PatchMatch-MacLean_et_al-Numba<br>Scene: cones<br>kernel size: 3x3<br>kernel spec: hvprewitt<br>match:20<br>bad4: 0.2455220043633534<br>IMG res:450x375",
          "bad4: 0.2844169920653669<br>Experiment id:<br> ALG_005_EXP_002-PatchMatch-MacLean_et_al-Numba<br>Scene: cones<br>kernel size: 3x3<br>kernel spec: hvprewitt<br>match:30<br>bad4: 0.2844169920653669<br>IMG res:450x375",
          "bad4: 0.32417353362144435<br>Experiment id:<br> ALG_005_EXP_002-PatchMatch-MacLean_et_al-Numba<br>Scene: cones<br>kernel size: 3x3<br>kernel spec: hvprewitt<br>match:40<br>bad4: 0.32417353362144435<br>IMG res:450x375"
         ],
         "type": "scatter",
         "uid": "88bb12cb-a208-4863-ab29-1684bf0af2bf",
         "x": [
          10,
          20,
          30,
          40
         ],
         "y": {
          "dtype": "float64",
          "shape": [
           4
          ],
          "value": {}
         }
        },
        {
         "hovertemplate": "%{text}",
         "name": "gauss_5_3",
         "showlegend": true,
         "text": [
          "bad4: 0.13410363659102595<br>Experiment id:<br> ALG_005_EXP_002-PatchMatch-MacLean_et_al-Numba<br>Scene: cones<br>kernel size: 5x3<br>kernel spec: gauss_5_3<br>match:10<br>bad4: 0.13410363659102595<br>IMG res:450x375",
          "bad4: 0.13410363659102595<br>Experiment id:<br> ALG_005_EXP_002-PatchMatch-MacLean_et_al-Numba<br>Scene: cones<br>kernel size: 5x3<br>kernel spec: gauss_5_3<br>match:10<br>bad4: 0.13410363659102595<br>IMG res:450x375",
          "bad4: 0.11300251518141267<br>Experiment id:<br> ALG_005_EXP_002-PatchMatch-MacLean_et_al-Numba<br>Scene: cones<br>kernel size: 5x3<br>kernel spec: gauss_5_3<br>match:20<br>bad4: 0.11300251518141267<br>IMG res:450x375",
          "bad4: 0.11416283367841808<br>Experiment id:<br> ALG_005_EXP_002-PatchMatch-MacLean_et_al-Numba<br>Scene: cones<br>kernel size: 5x3<br>kernel spec: gauss_5_3<br>match:30<br>bad4: 0.11416283367841808<br>IMG res:450x375",
          "bad4: 0.1278295790892542<br>Experiment id:<br> ALG_005_EXP_002-PatchMatch-MacLean_et_al-Numba<br>Scene: cones<br>kernel size: 5x3<br>kernel spec: gauss_5_3<br>match:40<br>bad4: 0.1278295790892542<br>IMG res:450x375",
          "bad4: 0.13410363659102595<br>Experiment id:<br> ALG_005_EXP_002-PatchMatch-MacLean_et_al-Numba<br>Scene: cones<br>kernel size: 5x3<br>kernel spec: gauss_5_3<br>match:10<br>bad4: 0.13410363659102595<br>IMG res:450x375",
          "bad4: 0.11300251518141267<br>Experiment id:<br> ALG_005_EXP_002-PatchMatch-MacLean_et_al-Numba<br>Scene: cones<br>kernel size: 5x3<br>kernel spec: gauss_5_3<br>match:20<br>bad4: 0.11300251518141267<br>IMG res:450x375",
          "bad4: 0.11416283367841808<br>Experiment id:<br> ALG_005_EXP_002-PatchMatch-MacLean_et_al-Numba<br>Scene: cones<br>kernel size: 5x3<br>kernel spec: gauss_5_3<br>match:30<br>bad4: 0.11416283367841808<br>IMG res:450x375",
          "bad4: 0.1278295790892542<br>Experiment id:<br> ALG_005_EXP_002-PatchMatch-MacLean_et_al-Numba<br>Scene: cones<br>kernel size: 5x3<br>kernel spec: gauss_5_3<br>match:40<br>bad4: 0.1278295790892542<br>IMG res:450x375"
         ],
         "type": "scatter",
         "uid": "8c0ee2ab-1981-45c0-8213-8386cf2a566b",
         "x": [
          10,
          10,
          20,
          30,
          40,
          10,
          20,
          30,
          40
         ],
         "y": {
          "dtype": "float64",
          "shape": [
           9
          ],
          "value": {}
         }
        },
        {
         "hovertemplate": "%{text}",
         "name": "gauss_5_5",
         "showlegend": true,
         "text": [
          "bad4: 0.13878659866876036<br>Experiment id:<br> ALG_005_EXP_002-PatchMatch-MacLean_et_al-Numba<br>Scene: cones<br>kernel size: 5x5<br>kernel spec: gauss_5_5<br>match:10<br>bad4: 0.13878659866876036<br>IMG res:450x375",
          "bad4: 0.13878659866876036<br>Experiment id:<br> ALG_005_EXP_002-PatchMatch-MacLean_et_al-Numba<br>Scene: cones<br>kernel size: 5x5<br>kernel spec: gauss_5_5<br>match:10<br>bad4: 0.13878659866876036<br>IMG res:450x375",
          "bad4: 0.10836818920834318<br>Experiment id:<br> ALG_005_EXP_002-PatchMatch-MacLean_et_al-Numba<br>Scene: cones<br>kernel size: 5x5<br>kernel spec: gauss_5_5<br>match:20<br>bad4: 0.10836818920834318<br>IMG res:450x375",
          "bad4: 0.11718522018259385<br>Experiment id:<br> ALG_005_EXP_002-PatchMatch-MacLean_et_al-Numba<br>Scene: cones<br>kernel size: 5x5<br>kernel spec: gauss_5_5<br>match:30<br>bad4: 0.11718522018259385<br>IMG res:450x375",
          "bad4: 0.12959437488709474<br>Experiment id:<br> ALG_005_EXP_002-PatchMatch-MacLean_et_al-Numba<br>Scene: cones<br>kernel size: 5x5<br>kernel spec: gauss_5_5<br>match:40<br>bad4: 0.12959437488709474<br>IMG res:450x375",
          "bad4: 0.13878659866876036<br>Experiment id:<br> ALG_005_EXP_002-PatchMatch-MacLean_et_al-Numba<br>Scene: cones<br>kernel size: 5x5<br>kernel spec: gauss_5_5<br>match:10<br>bad4: 0.13878659866876036<br>IMG res:450x375",
          "bad4: 0.10836818920834318<br>Experiment id:<br> ALG_005_EXP_002-PatchMatch-MacLean_et_al-Numba<br>Scene: cones<br>kernel size: 5x5<br>kernel spec: gauss_5_5<br>match:20<br>bad4: 0.10836818920834318<br>IMG res:450x375",
          "bad4: 0.11718522018259385<br>Experiment id:<br> ALG_005_EXP_002-PatchMatch-MacLean_et_al-Numba<br>Scene: cones<br>kernel size: 5x5<br>kernel spec: gauss_5_5<br>match:30<br>bad4: 0.11718522018259385<br>IMG res:450x375",
          "bad4: 0.12959437488709474<br>Experiment id:<br> ALG_005_EXP_002-PatchMatch-MacLean_et_al-Numba<br>Scene: cones<br>kernel size: 5x5<br>kernel spec: gauss_5_5<br>match:40<br>bad4: 0.12959437488709474<br>IMG res:450x375"
         ],
         "type": "scatter",
         "uid": "3456816f-af5d-4572-a25d-6db99bffb170",
         "x": [
          10,
          10,
          20,
          30,
          40,
          10,
          20,
          30,
          40
         ],
         "y": {
          "dtype": "float64",
          "shape": [
           9
          ],
          "value": {}
         }
        },
        {
         "hovertemplate": "%{text}",
         "name": "octagon_3_1",
         "showlegend": true,
         "text": [
          "bad4: 0.12206967469393995<br>Experiment id:<br> ALG_005_EXP_002-PatchMatch-MacLean_et_al-Numba<br>Scene: cones<br>kernel size: 5x5<br>kernel spec: octagon_3_1<br>match:10<br>bad4: 0.12206967469393995<br>IMG res:450x375",
          "bad4: 0.11521198393618945<br>Experiment id:<br> ALG_005_EXP_002-PatchMatch-MacLean_et_al-Numba<br>Scene: cones<br>kernel size: 5x5<br>kernel spec: octagon_3_1<br>match:20<br>bad4: 0.11521198393618945<br>IMG res:450x375",
          "bad4: 0.12520322943734974<br>Experiment id:<br> ALG_005_EXP_002-PatchMatch-MacLean_et_al-Numba<br>Scene: cones<br>kernel size: 5x5<br>kernel spec: octagon_3_1<br>match:30<br>bad4: 0.12520322943734974<br>IMG res:450x375",
          "bad4: 0.14362241707544154<br>Experiment id:<br> ALG_005_EXP_002-PatchMatch-MacLean_et_al-Numba<br>Scene: cones<br>kernel size: 5x5<br>kernel spec: octagon_3_1<br>match:40<br>bad4: 0.14362241707544154<br>IMG res:450x375"
         ],
         "type": "scatter",
         "uid": "b5b4b73a-6270-49bb-8d2d-f05e99b75284",
         "x": [
          10,
          20,
          30,
          40
         ],
         "y": {
          "dtype": "float64",
          "shape": [
           4
          ],
          "value": {}
         }
        },
        {
         "hovertemplate": "%{text}",
         "name": "diamond_2",
         "showlegend": true,
         "text": [
          "bad4: 0.13352000333504718<br>Experiment id:<br> ALG_005_EXP_002-PatchMatch-MacLean_et_al-Numba<br>Scene: cones<br>kernel size: 5x5<br>kernel spec: diamond_2<br>match:10<br>bad4: 0.13352000333504718<br>IMG res:450x375",
          "bad4: 0.15476703305865513<br>Experiment id:<br> ALG_005_EXP_002-PatchMatch-MacLean_et_al-Numba<br>Scene: cones<br>kernel size: 5x5<br>kernel spec: diamond_2<br>match:20<br>bad4: 0.15476703305865513<br>IMG res:450x375",
          "bad4: 0.18381668357350306<br>Experiment id:<br> ALG_005_EXP_002-PatchMatch-MacLean_et_al-Numba<br>Scene: cones<br>kernel size: 5x5<br>kernel spec: diamond_2<br>match:30<br>bad4: 0.18381668357350306<br>IMG res:450x375",
          "bad4: 0.21406834067506916<br>Experiment id:<br> ALG_005_EXP_002-PatchMatch-MacLean_et_al-Numba<br>Scene: cones<br>kernel size: 5x5<br>kernel spec: diamond_2<br>match:40<br>bad4: 0.21406834067506916<br>IMG res:450x375"
         ],
         "type": "scatter",
         "uid": "0cbaddd5-06df-41cf-ae92-0668294d93fd",
         "x": [
          10,
          20,
          30,
          40
         ],
         "y": {
          "dtype": "float64",
          "shape": [
           4
          ],
          "value": {}
         }
        },
        {
         "hovertemplate": "%{text}",
         "name": "disk_2",
         "showlegend": true,
         "text": [
          "bad4: 0.13352000333504718<br>Experiment id:<br> ALG_005_EXP_002-PatchMatch-MacLean_et_al-Numba<br>Scene: cones<br>kernel size: 5x5<br>kernel spec: disk_2<br>match:10<br>bad4: 0.13352000333504718<br>IMG res:450x375",
          "bad4: 0.15476703305865513<br>Experiment id:<br> ALG_005_EXP_002-PatchMatch-MacLean_et_al-Numba<br>Scene: cones<br>kernel size: 5x5<br>kernel spec: disk_2<br>match:20<br>bad4: 0.15476703305865513<br>IMG res:450x375",
          "bad4: 0.18381668357350306<br>Experiment id:<br> ALG_005_EXP_002-PatchMatch-MacLean_et_al-Numba<br>Scene: cones<br>kernel size: 5x5<br>kernel spec: disk_2<br>match:30<br>bad4: 0.18381668357350306<br>IMG res:450x375",
          "bad4: 0.21406834067506916<br>Experiment id:<br> ALG_005_EXP_002-PatchMatch-MacLean_et_al-Numba<br>Scene: cones<br>kernel size: 5x5<br>kernel spec: disk_2<br>match:40<br>bad4: 0.21406834067506916<br>IMG res:450x375"
         ],
         "type": "scatter",
         "uid": "385aa221-654b-4700-8ad8-b55733b3d84c",
         "x": [
          10,
          20,
          30,
          40
         ],
         "y": {
          "dtype": "float64",
          "shape": [
           4
          ],
          "value": {}
         }
        },
        {
         "hovertemplate": "%{text}",
         "name": "hfarid",
         "showlegend": true,
         "text": [
          "bad4: 0.7979656212220169<br>Experiment id:<br> ALG_005_EXP_002-PatchMatch-MacLean_et_al-Numba<br>Scene: cones<br>kernel size: 5x5<br>kernel spec: hfarid<br>match:10<br>bad4: 0.7979656212220169<br>IMG res:450x375",
          "bad4: 1.0<br>Experiment id:<br> ALG_005_EXP_002-PatchMatch-MacLean_et_al-Numba<br>Scene: cones<br>kernel size: 5x5<br>kernel spec: hfarid<br>match:20<br>bad4: 1.0<br>IMG res:450x375",
          "bad4: 1.0<br>Experiment id:<br> ALG_005_EXP_002-PatchMatch-MacLean_et_al-Numba<br>Scene: cones<br>kernel size: 5x5<br>kernel spec: hfarid<br>match:30<br>bad4: 1.0<br>IMG res:450x375",
          "bad4: 1.0<br>Experiment id:<br> ALG_005_EXP_002-PatchMatch-MacLean_et_al-Numba<br>Scene: cones<br>kernel size: 5x5<br>kernel spec: hfarid<br>match:40<br>bad4: 1.0<br>IMG res:450x375"
         ],
         "type": "scatter",
         "uid": "96f13c27-fc93-43d2-9c77-b68b838396d8",
         "x": [
          10,
          20,
          30,
          40
         ],
         "y": {
          "dtype": "float64",
          "shape": [
           4
          ],
          "value": {}
         }
        },
        {
         "hovertemplate": "%{text}",
         "name": "vfarid",
         "showlegend": true,
         "text": [
          "bad4: 0.7999110654086128<br>Experiment id:<br> ALG_005_EXP_002-PatchMatch-MacLean_et_al-Numba<br>Scene: cones<br>kernel size: 5x5<br>kernel spec: vfarid<br>match:10<br>bad4: 0.7999110654086128<br>IMG res:450x375",
          "bad4: 1.0<br>Experiment id:<br> ALG_005_EXP_002-PatchMatch-MacLean_et_al-Numba<br>Scene: cones<br>kernel size: 5x5<br>kernel spec: vfarid<br>match:20<br>bad4: 1.0<br>IMG res:450x375",
          "bad4: 1.0<br>Experiment id:<br> ALG_005_EXP_002-PatchMatch-MacLean_et_al-Numba<br>Scene: cones<br>kernel size: 5x5<br>kernel spec: vfarid<br>match:30<br>bad4: 1.0<br>IMG res:450x375",
          "bad4: 1.0<br>Experiment id:<br> ALG_005_EXP_002-PatchMatch-MacLean_et_al-Numba<br>Scene: cones<br>kernel size: 5x5<br>kernel spec: vfarid<br>match:40<br>bad4: 1.0<br>IMG res:450x375"
         ],
         "type": "scatter",
         "uid": "cab26c26-fc0b-4949-95f6-066e6d50c72b",
         "x": [
          10,
          20,
          30,
          40
         ],
         "y": {
          "dtype": "float64",
          "shape": [
           4
          ],
          "value": {}
         }
        },
        {
         "hovertemplate": "%{text}",
         "name": "hvfarid_div2",
         "showlegend": true,
         "text": [
          "bad4: 0.9419354390450648<br>Experiment id:<br> ALG_005_EXP_002-PatchMatch-MacLean_et_al-Numba<br>Scene: cones<br>kernel size: 5x5<br>kernel spec: hvfarid_div2<br>match:10<br>bad4: 0.9419354390450648<br>IMG res:450x375",
          "bad4: 1.0<br>Experiment id:<br> ALG_005_EXP_002-PatchMatch-MacLean_et_al-Numba<br>Scene: cones<br>kernel size: 5x5<br>kernel spec: hvfarid_div2<br>match:20<br>bad4: 1.0<br>IMG res:450x375",
          "bad4: 1.0<br>Experiment id:<br> ALG_005_EXP_002-PatchMatch-MacLean_et_al-Numba<br>Scene: cones<br>kernel size: 5x5<br>kernel spec: hvfarid_div2<br>match:30<br>bad4: 1.0<br>IMG res:450x375",
          "bad4: 1.0<br>Experiment id:<br> ALG_005_EXP_002-PatchMatch-MacLean_et_al-Numba<br>Scene: cones<br>kernel size: 5x5<br>kernel spec: hvfarid_div2<br>match:40<br>bad4: 1.0<br>IMG res:450x375"
         ],
         "type": "scatter",
         "uid": "2f0a3749-54a8-4865-ade4-485c0f66657e",
         "x": [
          10,
          20,
          30,
          40
         ],
         "y": {
          "dtype": "float64",
          "shape": [
           4
          ],
          "value": {}
         }
        },
        {
         "hovertemplate": "%{text}",
         "name": "hvfarid",
         "showlegend": true,
         "text": [
          "bad4: 0.5407570557091839<br>Experiment id:<br> ALG_005_EXP_002-PatchMatch-MacLean_et_al-Numba<br>Scene: cones<br>kernel size: 5x5<br>kernel spec: hvfarid<br>match:10<br>bad4: 0.5407570557091839<br>IMG res:450x375",
          "bad4: 0.8933896585745452<br>Experiment id:<br> ALG_005_EXP_002-PatchMatch-MacLean_et_al-Numba<br>Scene: cones<br>kernel size: 5x5<br>kernel spec: hvfarid<br>match:20<br>bad4: 0.8933896585745452<br>IMG res:450x375",
          "bad4: 1.0<br>Experiment id:<br> ALG_005_EXP_002-PatchMatch-MacLean_et_al-Numba<br>Scene: cones<br>kernel size: 5x5<br>kernel spec: hvfarid<br>match:30<br>bad4: 1.0<br>IMG res:450x375",
          "bad4: 1.0<br>Experiment id:<br> ALG_005_EXP_002-PatchMatch-MacLean_et_al-Numba<br>Scene: cones<br>kernel size: 5x5<br>kernel spec: hvfarid<br>match:40<br>bad4: 1.0<br>IMG res:450x375"
         ],
         "type": "scatter",
         "uid": "eae5801a-2edf-46db-8eb0-a03a0886f437",
         "x": [
          10,
          20,
          30,
          40
         ],
         "y": {
          "dtype": "float64",
          "shape": [
           4
          ],
          "value": {}
         }
        },
        {
         "hovertemplate": "%{text}",
         "name": "gauss_7_3",
         "showlegend": true,
         "text": [
          "bad4: 0.13427733696482916<br>Experiment id:<br> ALG_005_EXP_002-PatchMatch-MacLean_et_al-Numba<br>Scene: cones<br>kernel size: 7x3<br>kernel spec: gauss_7_3<br>match:10<br>bad4: 0.13427733696482916<br>IMG res:450x375",
          "bad4: 0.13427733696482916<br>Experiment id:<br> ALG_005_EXP_002-PatchMatch-MacLean_et_al-Numba<br>Scene: cones<br>kernel size: 7x3<br>kernel spec: gauss_7_3<br>match:10<br>bad4: 0.13427733696482916<br>IMG res:450x375",
          "bad4: 0.11278017870294454<br>Experiment id:<br> ALG_005_EXP_002-PatchMatch-MacLean_et_al-Numba<br>Scene: cones<br>kernel size: 7x3<br>kernel spec: gauss_7_3<br>match:20<br>bad4: 0.11278017870294454<br>IMG res:450x375",
          "bad4: 0.11395439322985425<br>Experiment id:<br> ALG_005_EXP_002-PatchMatch-MacLean_et_al-Numba<br>Scene: cones<br>kernel size: 7x3<br>kernel spec: gauss_7_3<br>match:30<br>bad4: 0.11395439322985425<br>IMG res:450x375",
          "bad4: 0.12732237399774884<br>Experiment id:<br> ALG_005_EXP_002-PatchMatch-MacLean_et_al-Numba<br>Scene: cones<br>kernel size: 7x3<br>kernel spec: gauss_7_3<br>match:40<br>bad4: 0.12732237399774884<br>IMG res:450x375",
          "bad4: 0.13427733696482916<br>Experiment id:<br> ALG_005_EXP_002-PatchMatch-MacLean_et_al-Numba<br>Scene: cones<br>kernel size: 7x3<br>kernel spec: gauss_7_3<br>match:10<br>bad4: 0.13427733696482916<br>IMG res:450x375",
          "bad4: 0.11278017870294454<br>Experiment id:<br> ALG_005_EXP_002-PatchMatch-MacLean_et_al-Numba<br>Scene: cones<br>kernel size: 7x3<br>kernel spec: gauss_7_3<br>match:20<br>bad4: 0.11278017870294454<br>IMG res:450x375",
          "bad4: 0.11395439322985425<br>Experiment id:<br> ALG_005_EXP_002-PatchMatch-MacLean_et_al-Numba<br>Scene: cones<br>kernel size: 7x3<br>kernel spec: gauss_7_3<br>match:30<br>bad4: 0.11395439322985425<br>IMG res:450x375",
          "bad4: 0.12732237399774884<br>Experiment id:<br> ALG_005_EXP_002-PatchMatch-MacLean_et_al-Numba<br>Scene: cones<br>kernel size: 7x3<br>kernel spec: gauss_7_3<br>match:40<br>bad4: 0.12732237399774884<br>IMG res:450x375"
         ],
         "type": "scatter",
         "uid": "7b9fc3a3-f105-44c9-ac6b-b7fb44a16247",
         "x": [
          10,
          10,
          20,
          30,
          40,
          10,
          20,
          30,
          40
         ],
         "y": {
          "dtype": "float64",
          "shape": [
           9
          ],
          "value": {}
         }
        },
        {
         "hovertemplate": "%{text}",
         "name": "star_2",
         "showlegend": true,
         "text": [
          "bad4: 0.12919139001987132<br>Experiment id:<br> ALG_005_EXP_002-PatchMatch-MacLean_et_al-Numba<br>Scene: cones<br>kernel size: 7x7<br>kernel spec: star_2<br>match:10<br>bad4: 0.12919139001987132<br>IMG res:450x375",
          "bad4: 0.14126009199171796<br>Experiment id:<br> ALG_005_EXP_002-PatchMatch-MacLean_et_al-Numba<br>Scene: cones<br>kernel size: 7x7<br>kernel spec: star_2<br>match:20<br>bad4: 0.14126009199171796<br>IMG res:450x375",
          "bad4: 0.166196517654906<br>Experiment id:<br> ALG_005_EXP_002-PatchMatch-MacLean_et_al-Numba<br>Scene: cones<br>kernel size: 7x7<br>kernel spec: star_2<br>match:30<br>bad4: 0.166196517654906<br>IMG res:450x375",
          "bad4: 0.1943568222558815<br>Experiment id:<br> ALG_005_EXP_002-PatchMatch-MacLean_et_al-Numba<br>Scene: cones<br>kernel size: 7x7<br>kernel spec: star_2<br>match:40<br>bad4: 0.1943568222558815<br>IMG res:450x375"
         ],
         "type": "scatter",
         "uid": "386ff924-496d-4819-8cd2-73506f577539",
         "x": [
          10,
          20,
          30,
          40
         ],
         "y": {
          "dtype": "float64",
          "shape": [
           4
          ],
          "value": {}
         }
        },
        {
         "hovertemplate": "%{text}",
         "name": "octagon_1_3",
         "showlegend": true,
         "text": [
          "bad4: 0.13598654864305268<br>Experiment id:<br> ALG_005_EXP_002-PatchMatch-MacLean_et_al-Numba<br>Scene: cones<br>kernel size: 7x7<br>kernel spec: octagon_1_3<br>match:10<br>bad4: 0.13598654864305268<br>IMG res:450x375",
          "bad4: 0.15783110765254366<br>Experiment id:<br> ALG_005_EXP_002-PatchMatch-MacLean_et_al-Numba<br>Scene: cones<br>kernel size: 7x7<br>kernel spec: octagon_1_3<br>match:20<br>bad4: 0.15783110765254366<br>IMG res:450x375",
          "bad4: 0.18847880160638106<br>Experiment id:<br> ALG_005_EXP_002-PatchMatch-MacLean_et_al-Numba<br>Scene: cones<br>kernel size: 7x7<br>kernel spec: octagon_1_3<br>match:30<br>bad4: 0.18847880160638106<br>IMG res:450x375",
          "bad4: 0.22003668551894726<br>Experiment id:<br> ALG_005_EXP_002-PatchMatch-MacLean_et_al-Numba<br>Scene: cones<br>kernel size: 7x7<br>kernel spec: octagon_1_3<br>match:40<br>bad4: 0.22003668551894726<br>IMG res:450x375"
         ],
         "type": "scatter",
         "uid": "eaa56e66-89e9-4a12-8085-f9cccfc3473c",
         "x": [
          10,
          20,
          30,
          40
         ],
         "y": {
          "dtype": "float64",
          "shape": [
           4
          ],
          "value": {}
         }
        },
        {
         "hovertemplate": "%{text}",
         "name": "diamond_3",
         "showlegend": true,
         "text": [
          "bad4: 0.13598654864305268<br>Experiment id:<br> ALG_005_EXP_002-PatchMatch-MacLean_et_al-Numba<br>Scene: cones<br>kernel size: 7x7<br>kernel spec: diamond_3<br>match:10<br>bad4: 0.13598654864305268<br>IMG res:450x375",
          "bad4: 0.15783110765254366<br>Experiment id:<br> ALG_005_EXP_002-PatchMatch-MacLean_et_al-Numba<br>Scene: cones<br>kernel size: 7x7<br>kernel spec: diamond_3<br>match:20<br>bad4: 0.15783110765254366<br>IMG res:450x375",
          "bad4: 0.18847880160638106<br>Experiment id:<br> ALG_005_EXP_002-PatchMatch-MacLean_et_al-Numba<br>Scene: cones<br>kernel size: 7x7<br>kernel spec: diamond_3<br>match:30<br>bad4: 0.18847880160638106<br>IMG res:450x375",
          "bad4: 0.22003668551894726<br>Experiment id:<br> ALG_005_EXP_002-PatchMatch-MacLean_et_al-Numba<br>Scene: cones<br>kernel size: 7x7<br>kernel spec: diamond_3<br>match:40<br>bad4: 0.22003668551894726<br>IMG res:450x375"
         ],
         "type": "scatter",
         "uid": "4007afd5-00e0-4214-9182-3e0f0012548e",
         "x": [
          10,
          20,
          30,
          40
         ],
         "y": {
          "dtype": "float64",
          "shape": [
           4
          ],
          "value": {}
         }
        },
        {
         "hovertemplate": "%{text}",
         "name": "disk_3",
         "showlegend": true,
         "text": [
          "bad4: 0.12919139001987132<br>Experiment id:<br> ALG_005_EXP_002-PatchMatch-MacLean_et_al-Numba<br>Scene: cones<br>kernel size: 7x7<br>kernel spec: disk_3<br>match:10<br>bad4: 0.12919139001987132<br>IMG res:450x375",
          "bad4: 0.14126009199171796<br>Experiment id:<br> ALG_005_EXP_002-PatchMatch-MacLean_et_al-Numba<br>Scene: cones<br>kernel size: 7x7<br>kernel spec: disk_3<br>match:20<br>bad4: 0.14126009199171796<br>IMG res:450x375",
          "bad4: 0.166196517654906<br>Experiment id:<br> ALG_005_EXP_002-PatchMatch-MacLean_et_al-Numba<br>Scene: cones<br>kernel size: 7x7<br>kernel spec: disk_3<br>match:30<br>bad4: 0.166196517654906<br>IMG res:450x375",
          "bad4: 0.1943568222558815<br>Experiment id:<br> ALG_005_EXP_002-PatchMatch-MacLean_et_al-Numba<br>Scene: cones<br>kernel size: 7x7<br>kernel spec: disk_3<br>match:40<br>bad4: 0.1943568222558815<br>IMG res:450x375"
         ],
         "type": "scatter",
         "uid": "617445f8-43bb-4caf-ac83-d119dbc533b1",
         "x": [
          10,
          20,
          30,
          40
         ],
         "y": {
          "dtype": "float64",
          "shape": [
           4
          ],
          "value": {}
         }
        },
        {
         "hovertemplate": "%{text}",
         "name": "star_3",
         "showlegend": true,
         "text": [
          "bad4: 0.13571557605991968<br>Experiment id:<br> ALG_005_EXP_002-PatchMatch-MacLean_et_al-Numba<br>Scene: cones<br>kernel size: 9x9<br>kernel spec: star_3<br>match:10<br>bad4: 0.13571557605991968<br>IMG res:450x375",
          "bad4: 0.14160054472437225<br>Experiment id:<br> ALG_005_EXP_002-PatchMatch-MacLean_et_al-Numba<br>Scene: cones<br>kernel size: 9x9<br>kernel spec: star_3<br>match:20<br>bad4: 0.14160054472437225<br>IMG res:450x375",
          "bad4: 0.16211108486305462<br>Experiment id:<br> ALG_005_EXP_002-PatchMatch-MacLean_et_al-Numba<br>Scene: cones<br>kernel size: 9x9<br>kernel spec: star_3<br>match:30<br>bad4: 0.16211108486305462<br>IMG res:450x375",
          "bad4: 0.1860956324778011<br>Experiment id:<br> ALG_005_EXP_002-PatchMatch-MacLean_et_al-Numba<br>Scene: cones<br>kernel size: 9x9<br>kernel spec: star_3<br>match:40<br>bad4: 0.1860956324778011<br>IMG res:450x375"
         ],
         "type": "scatter",
         "uid": "4cc3320a-1638-42ce-8808-57c27271bcc2",
         "x": [
          10,
          20,
          30,
          40
         ],
         "y": {
          "dtype": "float64",
          "shape": [
           4
          ],
          "value": {}
         }
        },
        {
         "hovertemplate": "%{text}",
         "name": "disk_4",
         "showlegend": true,
         "text": [
          "bad4: 0.13513194280394092<br>Experiment id:<br> ALG_005_EXP_002-PatchMatch-MacLean_et_al-Numba<br>Scene: cones<br>kernel size: 9x9<br>kernel spec: disk_4<br>match:10<br>bad4: 0.13513194280394092<br>IMG res:450x375",
          "bad4: 0.1450120200658672<br>Experiment id:<br> ALG_005_EXP_002-PatchMatch-MacLean_et_al-Numba<br>Scene: cones<br>kernel size: 9x9<br>kernel spec: disk_4<br>match:20<br>bad4: 0.1450120200658672<br>IMG res:450x375",
          "bad4: 0.16690521518002308<br>Experiment id:<br> ALG_005_EXP_002-PatchMatch-MacLean_et_al-Numba<br>Scene: cones<br>kernel size: 9x9<br>kernel spec: disk_4<br>match:30<br>bad4: 0.16690521518002308<br>IMG res:450x375",
          "bad4: 0.19542681655850924<br>Experiment id:<br> ALG_005_EXP_002-PatchMatch-MacLean_et_al-Numba<br>Scene: cones<br>kernel size: 9x9<br>kernel spec: disk_4<br>match:40<br>bad4: 0.19542681655850924<br>IMG res:450x375"
         ],
         "type": "scatter",
         "uid": "6eea665a-aad9-4905-96cf-e73e95f96655",
         "x": [
          10,
          20,
          30,
          40
         ],
         "y": {
          "dtype": "float64",
          "shape": [
           4
          ],
          "value": {}
         }
        },
        {
         "hovertemplate": "%{text}",
         "name": "gauss_11_3",
         "showlegend": true,
         "text": [
          "bad4: 0.13427733696482916<br>Experiment id:<br> ALG_005_EXP_002-PatchMatch-MacLean_et_al-Numba<br>Scene: cones<br>kernel size: 11x3<br>kernel spec: gauss_11_3<br>match:10<br>bad4: 0.13427733696482916<br>IMG res:450x375",
          "bad4: 0.13427733696482916<br>Experiment id:<br> ALG_005_EXP_002-PatchMatch-MacLean_et_al-Numba<br>Scene: cones<br>kernel size: 11x3<br>kernel spec: gauss_11_3<br>match:10<br>bad4: 0.13427733696482916<br>IMG res:450x375",
          "bad4: 0.11278017870294454<br>Experiment id:<br> ALG_005_EXP_002-PatchMatch-MacLean_et_al-Numba<br>Scene: cones<br>kernel size: 11x3<br>kernel spec: gauss_11_3<br>match:20<br>bad4: 0.11278017870294454<br>IMG res:450x375",
          "bad4: 0.11395439322985425<br>Experiment id:<br> ALG_005_EXP_002-PatchMatch-MacLean_et_al-Numba<br>Scene: cones<br>kernel size: 11x3<br>kernel spec: gauss_11_3<br>match:30<br>bad4: 0.11395439322985425<br>IMG res:450x375",
          "bad4: 0.12732237399774884<br>Experiment id:<br> ALG_005_EXP_002-PatchMatch-MacLean_et_al-Numba<br>Scene: cones<br>kernel size: 11x3<br>kernel spec: gauss_11_3<br>match:40<br>bad4: 0.12732237399774884<br>IMG res:450x375",
          "bad4: 0.13427733696482916<br>Experiment id:<br> ALG_005_EXP_002-PatchMatch-MacLean_et_al-Numba<br>Scene: cones<br>kernel size: 11x3<br>kernel spec: gauss_11_3<br>match:10<br>bad4: 0.13427733696482916<br>IMG res:450x375",
          "bad4: 0.11278017870294454<br>Experiment id:<br> ALG_005_EXP_002-PatchMatch-MacLean_et_al-Numba<br>Scene: cones<br>kernel size: 11x3<br>kernel spec: gauss_11_3<br>match:20<br>bad4: 0.11278017870294454<br>IMG res:450x375",
          "bad4: 0.11395439322985425<br>Experiment id:<br> ALG_005_EXP_002-PatchMatch-MacLean_et_al-Numba<br>Scene: cones<br>kernel size: 11x3<br>kernel spec: gauss_11_3<br>match:30<br>bad4: 0.11395439322985425<br>IMG res:450x375",
          "bad4: 0.12732237399774884<br>Experiment id:<br> ALG_005_EXP_002-PatchMatch-MacLean_et_al-Numba<br>Scene: cones<br>kernel size: 11x3<br>kernel spec: gauss_11_3<br>match:40<br>bad4: 0.12732237399774884<br>IMG res:450x375"
         ],
         "type": "scatter",
         "uid": "14f88dbc-b4fb-4565-b609-978c754803f4",
         "x": [
          10,
          10,
          20,
          30,
          40,
          10,
          20,
          30,
          40
         ],
         "y": {
          "dtype": "float64",
          "shape": [
           9
          ],
          "value": {}
         }
        },
        {
         "hovertemplate": "%{text}",
         "name": "gauss_13_3",
         "showlegend": true,
         "text": [
          "bad4: 0.13427733696482916<br>Experiment id:<br> ALG_005_EXP_002-PatchMatch-MacLean_et_al-Numba<br>Scene: cones<br>kernel size: 13x3<br>kernel spec: gauss_13_3<br>match:10<br>bad4: 0.13427733696482916<br>IMG res:450x375",
          "bad4: 0.11278017870294454<br>Experiment id:<br> ALG_005_EXP_002-PatchMatch-MacLean_et_al-Numba<br>Scene: cones<br>kernel size: 13x3<br>kernel spec: gauss_13_3<br>match:20<br>bad4: 0.11278017870294454<br>IMG res:450x375",
          "bad4: 0.11395439322985425<br>Experiment id:<br> ALG_005_EXP_002-PatchMatch-MacLean_et_al-Numba<br>Scene: cones<br>kernel size: 13x3<br>kernel spec: gauss_13_3<br>match:30<br>bad4: 0.11395439322985425<br>IMG res:450x375",
          "bad4: 0.12732237399774884<br>Experiment id:<br> ALG_005_EXP_002-PatchMatch-MacLean_et_al-Numba<br>Scene: cones<br>kernel size: 13x3<br>kernel spec: gauss_13_3<br>match:40<br>bad4: 0.12732237399774884<br>IMG res:450x375",
          "bad4: 0.13427733696482916<br>Experiment id:<br> ALG_005_EXP_002-PatchMatch-MacLean_et_al-Numba<br>Scene: cones<br>kernel size: 13x3<br>kernel spec: gauss_13_3<br>match:10<br>bad4: 0.13427733696482916<br>IMG res:450x375",
          "bad4: 0.11278017870294454<br>Experiment id:<br> ALG_005_EXP_002-PatchMatch-MacLean_et_al-Numba<br>Scene: cones<br>kernel size: 13x3<br>kernel spec: gauss_13_3<br>match:20<br>bad4: 0.11278017870294454<br>IMG res:450x375",
          "bad4: 0.11395439322985425<br>Experiment id:<br> ALG_005_EXP_002-PatchMatch-MacLean_et_al-Numba<br>Scene: cones<br>kernel size: 13x3<br>kernel spec: gauss_13_3<br>match:30<br>bad4: 0.11395439322985425<br>IMG res:450x375",
          "bad4: 0.12732237399774884<br>Experiment id:<br> ALG_005_EXP_002-PatchMatch-MacLean_et_al-Numba<br>Scene: cones<br>kernel size: 13x3<br>kernel spec: gauss_13_3<br>match:40<br>bad4: 0.12732237399774884<br>IMG res:450x375"
         ],
         "type": "scatter",
         "uid": "2ba4468c-7c67-4934-8437-d70c26a9a6cb",
         "x": [
          10,
          20,
          30,
          40,
          10,
          20,
          30,
          40
         ],
         "y": {
          "dtype": "float64",
          "shape": [
           8
          ],
          "value": {}
         }
        }
       ],
       "_js2py_layoutDelta": {},
       "_js2py_pointsCallback": {},
       "_js2py_relayout": {},
       "_js2py_restyle": {},
       "_js2py_traceDeltas": {},
       "_js2py_update": {},
       "_layout": {
        "legend": {
         "title": {
          "text": "kernel_spec"
         }
        },
        "template": {
         "data": {
          "bar": [
           {
            "error_x": {
             "color": "#2a3f5f"
            },
            "error_y": {
             "color": "#2a3f5f"
            },
            "marker": {
             "line": {
              "color": "#E5ECF6",
              "width": 0.5
             }
            },
            "type": "bar"
           }
          ],
          "barpolar": [
           {
            "marker": {
             "line": {
              "color": "#E5ECF6",
              "width": 0.5
             }
            },
            "type": "barpolar"
           }
          ],
          "carpet": [
           {
            "aaxis": {
             "endlinecolor": "#2a3f5f",
             "gridcolor": "white",
             "linecolor": "white",
             "minorgridcolor": "white",
             "startlinecolor": "#2a3f5f"
            },
            "baxis": {
             "endlinecolor": "#2a3f5f",
             "gridcolor": "white",
             "linecolor": "white",
             "minorgridcolor": "white",
             "startlinecolor": "#2a3f5f"
            },
            "type": "carpet"
           }
          ],
          "choropleth": [
           {
            "colorbar": {
             "outlinewidth": 0,
             "ticks": ""
            },
            "type": "choropleth"
           }
          ],
          "contour": [
           {
            "colorbar": {
             "outlinewidth": 0,
             "ticks": ""
            },
            "colorscale": [
             [
              0,
              "#0d0887"
             ],
             [
              0.1111111111111111,
              "#46039f"
             ],
             [
              0.2222222222222222,
              "#7201a8"
             ],
             [
              0.3333333333333333,
              "#9c179e"
             ],
             [
              0.4444444444444444,
              "#bd3786"
             ],
             [
              0.5555555555555556,
              "#d8576b"
             ],
             [
              0.6666666666666666,
              "#ed7953"
             ],
             [
              0.7777777777777778,
              "#fb9f3a"
             ],
             [
              0.8888888888888888,
              "#fdca26"
             ],
             [
              1,
              "#f0f921"
             ]
            ],
            "type": "contour"
           }
          ],
          "contourcarpet": [
           {
            "colorbar": {
             "outlinewidth": 0,
             "ticks": ""
            },
            "type": "contourcarpet"
           }
          ],
          "heatmap": [
           {
            "colorbar": {
             "outlinewidth": 0,
             "ticks": ""
            },
            "colorscale": [
             [
              0,
              "#0d0887"
             ],
             [
              0.1111111111111111,
              "#46039f"
             ],
             [
              0.2222222222222222,
              "#7201a8"
             ],
             [
              0.3333333333333333,
              "#9c179e"
             ],
             [
              0.4444444444444444,
              "#bd3786"
             ],
             [
              0.5555555555555556,
              "#d8576b"
             ],
             [
              0.6666666666666666,
              "#ed7953"
             ],
             [
              0.7777777777777778,
              "#fb9f3a"
             ],
             [
              0.8888888888888888,
              "#fdca26"
             ],
             [
              1,
              "#f0f921"
             ]
            ],
            "type": "heatmap"
           }
          ],
          "heatmapgl": [
           {
            "colorbar": {
             "outlinewidth": 0,
             "ticks": ""
            },
            "colorscale": [
             [
              0,
              "#0d0887"
             ],
             [
              0.1111111111111111,
              "#46039f"
             ],
             [
              0.2222222222222222,
              "#7201a8"
             ],
             [
              0.3333333333333333,
              "#9c179e"
             ],
             [
              0.4444444444444444,
              "#bd3786"
             ],
             [
              0.5555555555555556,
              "#d8576b"
             ],
             [
              0.6666666666666666,
              "#ed7953"
             ],
             [
              0.7777777777777778,
              "#fb9f3a"
             ],
             [
              0.8888888888888888,
              "#fdca26"
             ],
             [
              1,
              "#f0f921"
             ]
            ],
            "type": "heatmapgl"
           }
          ],
          "histogram": [
           {
            "marker": {
             "colorbar": {
              "outlinewidth": 0,
              "ticks": ""
             }
            },
            "type": "histogram"
           }
          ],
          "histogram2d": [
           {
            "colorbar": {
             "outlinewidth": 0,
             "ticks": ""
            },
            "colorscale": [
             [
              0,
              "#0d0887"
             ],
             [
              0.1111111111111111,
              "#46039f"
             ],
             [
              0.2222222222222222,
              "#7201a8"
             ],
             [
              0.3333333333333333,
              "#9c179e"
             ],
             [
              0.4444444444444444,
              "#bd3786"
             ],
             [
              0.5555555555555556,
              "#d8576b"
             ],
             [
              0.6666666666666666,
              "#ed7953"
             ],
             [
              0.7777777777777778,
              "#fb9f3a"
             ],
             [
              0.8888888888888888,
              "#fdca26"
             ],
             [
              1,
              "#f0f921"
             ]
            ],
            "type": "histogram2d"
           }
          ],
          "histogram2dcontour": [
           {
            "colorbar": {
             "outlinewidth": 0,
             "ticks": ""
            },
            "colorscale": [
             [
              0,
              "#0d0887"
             ],
             [
              0.1111111111111111,
              "#46039f"
             ],
             [
              0.2222222222222222,
              "#7201a8"
             ],
             [
              0.3333333333333333,
              "#9c179e"
             ],
             [
              0.4444444444444444,
              "#bd3786"
             ],
             [
              0.5555555555555556,
              "#d8576b"
             ],
             [
              0.6666666666666666,
              "#ed7953"
             ],
             [
              0.7777777777777778,
              "#fb9f3a"
             ],
             [
              0.8888888888888888,
              "#fdca26"
             ],
             [
              1,
              "#f0f921"
             ]
            ],
            "type": "histogram2dcontour"
           }
          ],
          "mesh3d": [
           {
            "colorbar": {
             "outlinewidth": 0,
             "ticks": ""
            },
            "type": "mesh3d"
           }
          ],
          "parcoords": [
           {
            "line": {
             "colorbar": {
              "outlinewidth": 0,
              "ticks": ""
             }
            },
            "type": "parcoords"
           }
          ],
          "pie": [
           {
            "automargin": true,
            "type": "pie"
           }
          ],
          "scatter": [
           {
            "marker": {
             "colorbar": {
              "outlinewidth": 0,
              "ticks": ""
             }
            },
            "type": "scatter"
           }
          ],
          "scatter3d": [
           {
            "line": {
             "colorbar": {
              "outlinewidth": 0,
              "ticks": ""
             }
            },
            "marker": {
             "colorbar": {
              "outlinewidth": 0,
              "ticks": ""
             }
            },
            "type": "scatter3d"
           }
          ],
          "scattercarpet": [
           {
            "marker": {
             "colorbar": {
              "outlinewidth": 0,
              "ticks": ""
             }
            },
            "type": "scattercarpet"
           }
          ],
          "scattergeo": [
           {
            "marker": {
             "colorbar": {
              "outlinewidth": 0,
              "ticks": ""
             }
            },
            "type": "scattergeo"
           }
          ],
          "scattergl": [
           {
            "marker": {
             "colorbar": {
              "outlinewidth": 0,
              "ticks": ""
             }
            },
            "type": "scattergl"
           }
          ],
          "scattermapbox": [
           {
            "marker": {
             "colorbar": {
              "outlinewidth": 0,
              "ticks": ""
             }
            },
            "type": "scattermapbox"
           }
          ],
          "scatterpolar": [
           {
            "marker": {
             "colorbar": {
              "outlinewidth": 0,
              "ticks": ""
             }
            },
            "type": "scatterpolar"
           }
          ],
          "scatterpolargl": [
           {
            "marker": {
             "colorbar": {
              "outlinewidth": 0,
              "ticks": ""
             }
            },
            "type": "scatterpolargl"
           }
          ],
          "scatterternary": [
           {
            "marker": {
             "colorbar": {
              "outlinewidth": 0,
              "ticks": ""
             }
            },
            "type": "scatterternary"
           }
          ],
          "surface": [
           {
            "colorbar": {
             "outlinewidth": 0,
             "ticks": ""
            },
            "colorscale": [
             [
              0,
              "#0d0887"
             ],
             [
              0.1111111111111111,
              "#46039f"
             ],
             [
              0.2222222222222222,
              "#7201a8"
             ],
             [
              0.3333333333333333,
              "#9c179e"
             ],
             [
              0.4444444444444444,
              "#bd3786"
             ],
             [
              0.5555555555555556,
              "#d8576b"
             ],
             [
              0.6666666666666666,
              "#ed7953"
             ],
             [
              0.7777777777777778,
              "#fb9f3a"
             ],
             [
              0.8888888888888888,
              "#fdca26"
             ],
             [
              1,
              "#f0f921"
             ]
            ],
            "type": "surface"
           }
          ],
          "table": [
           {
            "cells": {
             "fill": {
              "color": "#EBF0F8"
             },
             "line": {
              "color": "white"
             }
            },
            "header": {
             "fill": {
              "color": "#C8D4E3"
             },
             "line": {
              "color": "white"
             }
            },
            "type": "table"
           }
          ]
         },
         "layout": {
          "annotationdefaults": {
           "arrowcolor": "#2a3f5f",
           "arrowhead": 0,
           "arrowwidth": 1
          },
          "coloraxis": {
           "colorbar": {
            "outlinewidth": 0,
            "ticks": ""
           }
          },
          "colorscale": {
           "diverging": [
            [
             0,
             "#8e0152"
            ],
            [
             0.1,
             "#c51b7d"
            ],
            [
             0.2,
             "#de77ae"
            ],
            [
             0.3,
             "#f1b6da"
            ],
            [
             0.4,
             "#fde0ef"
            ],
            [
             0.5,
             "#f7f7f7"
            ],
            [
             0.6,
             "#e6f5d0"
            ],
            [
             0.7,
             "#b8e186"
            ],
            [
             0.8,
             "#7fbc41"
            ],
            [
             0.9,
             "#4d9221"
            ],
            [
             1,
             "#276419"
            ]
           ],
           "sequential": [
            [
             0,
             "#0d0887"
            ],
            [
             0.1111111111111111,
             "#46039f"
            ],
            [
             0.2222222222222222,
             "#7201a8"
            ],
            [
             0.3333333333333333,
             "#9c179e"
            ],
            [
             0.4444444444444444,
             "#bd3786"
            ],
            [
             0.5555555555555556,
             "#d8576b"
            ],
            [
             0.6666666666666666,
             "#ed7953"
            ],
            [
             0.7777777777777778,
             "#fb9f3a"
            ],
            [
             0.8888888888888888,
             "#fdca26"
            ],
            [
             1,
             "#f0f921"
            ]
           ],
           "sequentialminus": [
            [
             0,
             "#0d0887"
            ],
            [
             0.1111111111111111,
             "#46039f"
            ],
            [
             0.2222222222222222,
             "#7201a8"
            ],
            [
             0.3333333333333333,
             "#9c179e"
            ],
            [
             0.4444444444444444,
             "#bd3786"
            ],
            [
             0.5555555555555556,
             "#d8576b"
            ],
            [
             0.6666666666666666,
             "#ed7953"
            ],
            [
             0.7777777777777778,
             "#fb9f3a"
            ],
            [
             0.8888888888888888,
             "#fdca26"
            ],
            [
             1,
             "#f0f921"
            ]
           ]
          },
          "colorway": [
           "#636efa",
           "#EF553B",
           "#00cc96",
           "#ab63fa",
           "#FFA15A",
           "#19d3f3",
           "#FF6692",
           "#B6E880",
           "#FF97FF",
           "#FECB52"
          ],
          "font": {
           "color": "#2a3f5f"
          },
          "geo": {
           "bgcolor": "white",
           "lakecolor": "white",
           "landcolor": "#E5ECF6",
           "showlakes": true,
           "showland": true,
           "subunitcolor": "white"
          },
          "hoverlabel": {
           "align": "left"
          },
          "hovermode": "closest",
          "mapbox": {
           "style": "light"
          },
          "paper_bgcolor": "white",
          "plot_bgcolor": "#E5ECF6",
          "polar": {
           "angularaxis": {
            "gridcolor": "white",
            "linecolor": "white",
            "ticks": ""
           },
           "bgcolor": "#E5ECF6",
           "radialaxis": {
            "gridcolor": "white",
            "linecolor": "white",
            "ticks": ""
           }
          },
          "scene": {
           "xaxis": {
            "backgroundcolor": "#E5ECF6",
            "gridcolor": "white",
            "gridwidth": 2,
            "linecolor": "white",
            "showbackground": true,
            "ticks": "",
            "zerolinecolor": "white"
           },
           "yaxis": {
            "backgroundcolor": "#E5ECF6",
            "gridcolor": "white",
            "gridwidth": 2,
            "linecolor": "white",
            "showbackground": true,
            "ticks": "",
            "zerolinecolor": "white"
           },
           "zaxis": {
            "backgroundcolor": "#E5ECF6",
            "gridcolor": "white",
            "gridwidth": 2,
            "linecolor": "white",
            "showbackground": true,
            "ticks": "",
            "zerolinecolor": "white"
           }
          },
          "shapedefaults": {
           "line": {
            "color": "#2a3f5f"
           }
          },
          "ternary": {
           "aaxis": {
            "gridcolor": "white",
            "linecolor": "white",
            "ticks": ""
           },
           "baxis": {
            "gridcolor": "white",
            "linecolor": "white",
            "ticks": ""
           },
           "bgcolor": "#E5ECF6",
           "caxis": {
            "gridcolor": "white",
            "linecolor": "white",
            "ticks": ""
           }
          },
          "title": {
           "x": 0.05
          },
          "xaxis": {
           "automargin": true,
           "gridcolor": "white",
           "linecolor": "white",
           "ticks": "",
           "title": {
            "standoff": 15
           },
           "zerolinecolor": "white",
           "zerolinewidth": 2
          },
          "yaxis": {
           "automargin": true,
           "gridcolor": "white",
           "linecolor": "white",
           "ticks": "",
           "title": {
            "standoff": 15
           },
           "zerolinecolor": "white",
           "zerolinewidth": 2
          }
         }
        },
        "xaxis": {
         "showspikes": true
        },
        "yaxis": {
         "showspikes": true
        }
       },
       "_model_module_version": "4.6.0",
       "_py2js_addTraces": {},
       "_py2js_animate": {},
       "_py2js_deleteTraces": {},
       "_py2js_moveTraces": {},
       "_py2js_relayout": {},
       "_py2js_removeLayoutProps": {},
       "_py2js_removeTraceProps": {},
       "_py2js_restyle": {},
       "_py2js_update": {},
       "_view_count": 0,
       "_view_module_version": "4.6.0"
      }
     },
     "5a69ede2bca047778f4b1e99791b1365": {
      "model_module": "@jupyter-widgets/controls",
      "model_module_version": "1.5.0",
      "model_name": "VBoxModel",
      "state": {
       "children": [
        "IPY_MODEL_ffd8268290df440d9406f6ff09f3fad1",
        "IPY_MODEL_1ef6499b500d40a28d17d88712e335b0"
       ],
       "layout": "IPY_MODEL_51c25bc02037434984a282c4b51f6c7b"
      }
     },
     "5f2d524cd81c4d9c86c30d64aa42c877": {
      "model_module": "@jupyter-widgets/base",
      "model_module_version": "1.2.0",
      "model_name": "LayoutModel",
      "state": {}
     },
     "6180213a8a9246e4a49d6b0e994c8a9c": {
      "model_module": "@jupyter-widgets/base",
      "model_module_version": "1.2.0",
      "model_name": "LayoutModel",
      "state": {}
     },
     "636e952b0d9443d88b44e4659a899cb8": {
      "model_module": "@jupyter-widgets/base",
      "model_module_version": "1.2.0",
      "model_name": "LayoutModel",
      "state": {
       "height": "375px",
       "width": "450px"
      }
     },
     "69cf716ba81a428d8dba0028423ea925": {
      "buffers": [
       {
        "data": "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",
        "encoding": "base64",
        "path": [
         "value"
        ]
       }
      ],
      "model_module": "@jupyter-widgets/controls",
      "model_module_version": "1.5.0",
      "model_name": "ImageModel",
      "state": {
       "layout": "IPY_MODEL_1990bc9ea6e84fe39078dfc8db79fee3",
       "value": {}
      }
     },
     "69ed6af6e3874d6e97aa2a67bd708795": {
      "buffers": [
       {
        "data": "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",
        "encoding": "base64",
        "path": [
         "value"
        ]
       }
      ],
      "model_module": "@jupyter-widgets/controls",
      "model_module_version": "1.5.0",
      "model_name": "ImageModel",
      "state": {
       "layout": "IPY_MODEL_0fa394940d754f1f86beb281b98b0835",
       "value": {}
      }
     },
     "6e2c21f1b3cc46c3b3b02e00c6cb40a1": {
      "model_module": "@jupyter-widgets/base",
      "model_module_version": "1.2.0",
      "model_name": "LayoutModel",
      "state": {}
     },
     "75945c59c73a49a8b1dda75c8fe67647": {
      "model_module": "@jupyter-widgets/base",
      "model_module_version": "1.2.0",
      "model_name": "LayoutModel",
      "state": {}
     },
     "7a47b781b0b043dbba39f9d785a50511": {
      "model_module": "@jupyter-widgets/base",
      "model_module_version": "1.2.0",
      "model_name": "LayoutModel",
      "state": {}
     },
     "7e38112ff28a43458780fb9af774aa2b": {
      "buffers": [
       {
        "data": "Bi/nv0XLwT8GL+e/RcvBP8kxT76FrL0/F+MZ6b76vj+Wi87JpRzBPwYv579Fy8E/yTFPvoWsvT8X4xnpvvq+P5aLzsmlHME/",
        "encoding": "base64",
        "path": [
         "_data",
         0,
         "y",
         "value"
        ]
       },
       {
        "data": "7tf/Q09C0D+/QXD0NVPTP2vhDovKSNY/i0GYcOdn2D8=",
        "encoding": "base64",
        "path": [
         "_data",
         1,
         "y",
         "value"
        ]
       },
       {
        "data": "zhrWEgPgzz8H3+5cHEHTP3bOkf/6WdY/yoW115lW2D8=",
        "encoding": "base64",
        "path": [
         "_data",
         2,
         "y",
         "value"
        ]
       },
       {
        "data": "vb6KUufa0z8OHduSGpbXP366KEUdVNk/s+N7Qu372j8=",
        "encoding": "base64",
        "path": [
         "_data",
         3,
         "y",
         "value"
        ]
       },
       {
        "data": "1rG7Eio3xz97aX1+AdTMP9R0gkAe2NA/gQPlBQU00z8=",
        "encoding": "base64",
        "path": [
         "_data",
         4,
         "y",
         "value"
        ]
       },
       {
        "data": "eKgmdx5k0D8dg4V/e2zTP3j21OXzfdY/WbfXcyR72D8=",
        "encoding": "base64",
        "path": [
         "_data",
         5,
         "y",
         "value"
        ]
       },
       {
        "data": "qUNcEKsL0D8c7BpQvnLTP3RcIfp1nNY/gXxY4q962D8=",
        "encoding": "base64",
        "path": [
         "_data",
         6,
         "y",
         "value"
        ]
       },
       {
        "data": "AcXXVizw0j+b9hXGR5DWP8NiitFLLdk/+JGoErnF2T8=",
        "encoding": "base64",
        "path": [
         "_data",
         7,
         "y",
         "value"
        ]
       },
       {
        "data": "CbFunE7qxT8z7BkrxEjLP5rGhNxB6s8/tyrbdSIL0j8=",
        "encoding": "base64",
        "path": [
         "_data",
         8,
         "y",
         "value"
        ]
       },
       {
        "data": "G6oom+D6zz+SeabJ6WvTP6iOwcK/PdY/KGkYtuRU2D8=",
        "encoding": "base64",
        "path": [
         "_data",
         9,
         "y",
         "value"
        ]
       },
       {
        "data": "G6oom+D6zz+SeabJ6WvTP6iOwcK/PdY/KGkYtuRU2D8=",
        "encoding": "base64",
        "path": [
         "_data",
         10,
         "y",
         "value"
        ]
       },
       {
        "data": "C5IG65d91T/medLG6snYPwJ/K4fp1tk/G1VRIyiX3z8=",
        "encoding": "base64",
        "path": [
         "_data",
         11,
         "y",
         "value"
        ]
       },
       {
        "data": "tagtZ1wryT89MJjZQ23PP3881lPjM9I/x4BIWUK/1D8=",
        "encoding": "base64",
        "path": [
         "_data",
         12,
         "y",
         "value"
        ]
       },
       {
        "data": "p3C31k4qwT+ncLfWTirBP6/lEZu77bw/OUcRhcY5vT9lLNM6uFzAP6dwt9ZOKsE/r+URm7vtvD85RxGFxjm9P2Us0zq4XMA/",
        "encoding": "base64",
        "path": [
         "_data",
         13,
         "y",
         "value"
        ]
       },
       {
        "data": "PuQzX8LDwT8+5DNfwsPBP1yak4QEvrs/s0BCwNn/vT+CXPFojJbAPz7kM1/Cw8E/XJqThAS+uz+zQELA2f+9P4Jc8WiMlsA/",
        "encoding": "base64",
        "path": [
         "_data",
         14,
         "y",
         "value"
        ]
       },
       {
        "data": "GtKkTPU/vz9m+xxXiH69P3i85M+oBsA/BN8nKDhiwj8=",
        "encoding": "base64",
        "path": [
         "_data",
         15,
         "y",
         "value"
        ]
       },
       {
        "data": "j8nX9y4XwT8kMb74Z8/DP+YkNBpOh8c/73knZZdmyz8=",
        "encoding": "base64",
        "path": [
         "_data",
         16,
         "y",
         "value"
        ]
       },
       {
        "data": "j8nX9y4XwT8kMb74Z8/DP+YkNBpOh8c/73knZZdmyz8=",
        "encoding": "base64",
        "path": [
         "_data",
         17,
         "y",
         "value"
        ]
       },
       {
        "data": "a2PPMu+I6T8AAAAAAADwPwAAAAAAAPA/AAAAAAAA8D8=",
        "encoding": "base64",
        "path": [
         "_data",
         18,
         "y",
         "value"
        ]
       },
       {
        "data": "qm40F9+Y6T8AAAAAAADwPwAAAAAAAPA/AAAAAAAA8D8=",
        "encoding": "base64",
        "path": [
         "_data",
         19,
         "y",
         "value"
        ]
       },
       {
        "data": "5Yo0ylUk7j8AAAAAAADwPwAAAAAAAPA/AAAAAAAA8D8=",
        "encoding": "base64",
        "path": [
         "_data",
         20,
         "y",
         "value"
        ]
       },
       {
        "data": "LkWrveFN4T9hMcXopZbsPwAAAAAAAPA/AAAAAAAA8D8=",
        "encoding": "base64",
        "path": [
         "_data",
         21,
         "y",
         "value"
        ]
       },
       {
        "data": "GdBt8f8vwT8Z0G3x/y/BP/CKKmsp37w/KWIoeB0svT/lSC98GUzAPxnQbfH/L8E/8IoqaynfvD8pYih4HSy9P+VIL3wZTMA/",
        "encoding": "base64",
        "path": [
         "_data",
         22,
         "y",
         "value"
        ]
       },
       {
        "data": "R7KH7VeJwD/4zKqJzxTCP2a5BHDtRcU/rferMa/gyD8=",
        "encoding": "base64",
        "path": [
         "_data",
         23,
         "y",
         "value"
        ]
       },
       {
        "data": "3xSP2QFowT9iXtRKzzPEPzvAccgSIMg/z68cgCkqzD8=",
        "encoding": "base64",
        "path": [
         "_data",
         24,
         "y",
         "value"
        ]
       },
       {
        "data": "3xSP2QFowT9iXtRKzzPEPzvAccgSIMg/z68cgCkqzD8=",
        "encoding": "base64",
        "path": [
         "_data",
         25,
         "y",
         "value"
        ]
       },
       {
        "data": "R7KH7VeJwD/4zKqJzxTCP2a5BHDtRcU/rferMa/gyD8=",
        "encoding": "base64",
        "path": [
         "_data",
         26,
         "y",
         "value"
        ]
       },
       {
        "data": "lBlexCBfwT9x7ld29x/CP70n51cOwMQ/7tW1T/vRxz8=",
        "encoding": "base64",
        "path": [
         "_data",
         27,
         "y",
         "value"
        ]
       },
       {
        "data": "fHJ+5QBMwT+T2tr9wI/CPwNyXWwmXcU/BKrw9L4DyT8=",
        "encoding": "base64",
        "path": [
         "_data",
         28,
         "y",
         "value"
        ]
       },
       {
        "data": "GdBt8f8vwT8Z0G3x/y/BP/CKKmsp37w/KWIoeB0svT/lSC98GUzAPxnQbfH/L8E/8IoqaynfvD8pYih4HSy9P+VIL3wZTMA/",
        "encoding": "base64",
        "path": [
         "_data",
         29,
         "y",
         "value"
        ]
       },
       {
        "data": "GdBt8f8vwT/wiiprKd+8PyliKHgdLL0/5UgvfBlMwD8Z0G3x/y/BP/CKKmsp37w/KWIoeB0svT/lSC98GUzAPw==",
        "encoding": "base64",
        "path": [
         "_data",
         30,
         "y",
         "value"
        ]
       }
      ],
      "model_module": "plotlywidget",
      "model_module_version": "4.6.0",
      "model_name": "FigureModel",
      "state": {
       "_config": {
        "plotlyServerURL": "https://plot.ly"
       },
       "_data": [
        {
         "hovertemplate": "%{text}",
         "name": "gauss_3_3",
         "showlegend": true,
         "text": [
          "bad4: 0.13901588316218055<br>Experiment id:<br> ALG_005_EXP_002-PatchMatch-MacLean_et_al-Numba<br>Scene: cones<br>kernel size: 3x3<br>kernel spec: gauss_3_3<br>match:10<br>bad4: 0.13901588316218055<br>IMG res:450x375",
          "bad4: 0.13901588316218055<br>Experiment id:<br> ALG_005_EXP_002-PatchMatch-MacLean_et_al-Numba<br>Scene: cones<br>kernel size: 3x3<br>kernel spec: gauss_3_3<br>match:10<br>bad4: 0.13901588316218055<br>IMG res:450x375",
          "bad4: 0.11591373344635438<br>Experiment id:<br> ALG_005_EXP_002-PatchMatch-MacLean_et_al-Numba<br>Scene: cones<br>kernel size: 3x3<br>kernel spec: gauss_3_3<br>match:20<br>bad4: 0.11591373344635438<br>IMG res:450x375",
          "bad4: 0.12101357642121645<br>Experiment id:<br> ALG_005_EXP_002-PatchMatch-MacLean_et_al-Numba<br>Scene: cones<br>kernel size: 3x3<br>kernel spec: gauss_3_3<br>match:30<br>bad4: 0.12101357642121645<br>IMG res:450x375",
          "bad4: 0.13368675569389826<br>Experiment id:<br> ALG_005_EXP_002-PatchMatch-MacLean_et_al-Numba<br>Scene: cones<br>kernel size: 3x3<br>kernel spec: gauss_3_3<br>match:40<br>bad4: 0.13368675569389826<br>IMG res:450x375",
          "bad4: 0.13901588316218055<br>Experiment id:<br> ALG_005_EXP_002-PatchMatch-MacLean_et_al-Numba<br>Scene: cones<br>kernel size: 3x3<br>kernel spec: gauss_3_3<br>match:10<br>bad4: 0.13901588316218055<br>IMG res:450x375",
          "bad4: 0.11591373344635438<br>Experiment id:<br> ALG_005_EXP_002-PatchMatch-MacLean_et_al-Numba<br>Scene: cones<br>kernel size: 3x3<br>kernel spec: gauss_3_3<br>match:20<br>bad4: 0.11591373344635438<br>IMG res:450x375",
          "bad4: 0.12101357642121645<br>Experiment id:<br> ALG_005_EXP_002-PatchMatch-MacLean_et_al-Numba<br>Scene: cones<br>kernel size: 3x3<br>kernel spec: gauss_3_3<br>match:30<br>bad4: 0.12101357642121645<br>IMG res:450x375",
          "bad4: 0.13368675569389826<br>Experiment id:<br> ALG_005_EXP_002-PatchMatch-MacLean_et_al-Numba<br>Scene: cones<br>kernel size: 3x3<br>kernel spec: gauss_3_3<br>match:40<br>bad4: 0.13368675569389826<br>IMG res:450x375"
         ],
         "type": "scatter",
         "uid": "a17c04d4-e7fc-4898-bf63-b69382330d8b",
         "x": [
          10,
          10,
          20,
          30,
          40,
          10,
          20,
          30,
          40
         ],
         "y": {
          "dtype": "float64",
          "shape": [
           9
          ],
          "value": {}
         }
        },
        {
         "hovertemplate": "%{text}",
         "name": "hsobel",
         "showlegend": true,
         "text": [
          "bad4: 0.25404721870961466<br>Experiment id:<br> ALG_005_EXP_002-PatchMatch-MacLean_et_al-Numba<br>Scene: cones<br>kernel size: 3x3<br>kernel spec: hsobel<br>match:10<br>bad4: 0.25404721870961466<br>IMG res:450x375",
          "bad4: 0.3019537818045385<br>Experiment id:<br> ALG_005_EXP_002-PatchMatch-MacLean_et_al-Numba<br>Scene: cones<br>kernel size: 3x3<br>kernel spec: hsobel<br>match:20<br>bad4: 0.3019537818045385<br>IMG res:450x375",
          "bad4: 0.3481928213109515<br>Experiment id:<br> ALG_005_EXP_002-PatchMatch-MacLean_et_al-Numba<br>Scene: cones<br>kernel size: 3x3<br>kernel spec: hsobel<br>match:30<br>bad4: 0.3481928213109515<br>IMG res:450x375",
          "bad4: 0.381341800647555<br>Experiment id:<br> ALG_005_EXP_002-PatchMatch-MacLean_et_al-Numba<br>Scene: cones<br>kernel size: 3x3<br>kernel spec: hsobel<br>match:40<br>bad4: 0.381341800647555<br>IMG res:450x375"
         ],
         "type": "scatter",
         "uid": "a87cd8fb-632c-4e62-828e-4d9809d5e0bf",
         "x": [
          10,
          20,
          30,
          40
         ],
         "y": {
          "dtype": "float64",
          "shape": [
           4
          ],
          "value": {}
         }
        },
        {
         "hovertemplate": "%{text}",
         "name": "vsobel",
         "showlegend": true,
         "text": [
          "bad4: 0.24902380389922602<br>Experiment id:<br> ALG_005_EXP_002-PatchMatch-MacLean_et_al-Numba<br>Scene: cones<br>kernel size: 3x3<br>kernel spec: vsobel<br>match:10<br>bad4: 0.24902380389922602<br>IMG res:450x375",
          "bad4: 0.3008490474271501<br>Experiment id:<br> ALG_005_EXP_002-PatchMatch-MacLean_et_al-Numba<br>Scene: cones<br>kernel size: 3x3<br>kernel spec: vsobel<br>match:20<br>bad4: 0.3008490474271501<br>IMG res:450x375",
          "bad4: 0.34924197156872283<br>Experiment id:<br> ALG_005_EXP_002-PatchMatch-MacLean_et_al-Numba<br>Scene: cones<br>kernel size: 3x3<br>kernel spec: vsobel<br>match:30<br>bad4: 0.34924197156872283<br>IMG res:450x375",
          "bad4: 0.3802857023748315<br>Experiment id:<br> ALG_005_EXP_002-PatchMatch-MacLean_et_al-Numba<br>Scene: cones<br>kernel size: 3x3<br>kernel spec: vsobel<br>match:40<br>bad4: 0.3802857023748315<br>IMG res:450x375"
         ],
         "type": "scatter",
         "uid": "cd92ca0e-a462-4944-bcbe-d10e7bbff5af",
         "x": [
          10,
          20,
          30,
          40
         ],
         "y": {
          "dtype": "float64",
          "shape": [
           4
          ],
          "value": {}
         }
        },
        {
         "hovertemplate": "%{text}",
         "name": "hvsobel_div2",
         "showlegend": true,
         "text": [
          "bad4: 0.3102358156274752<br>Experiment id:<br> ALG_005_EXP_002-PatchMatch-MacLean_et_al-Numba<br>Scene: cones<br>kernel size: 3x3<br>kernel spec: hvsobel_div2<br>match:10<br>bad4: 0.3102358156274752<br>IMG res:450x375",
          "bad4: 0.3685366090907828<br>Experiment id:<br> ALG_005_EXP_002-PatchMatch-MacLean_et_al-Numba<br>Scene: cones<br>kernel size: 3x3<br>kernel spec: hvsobel_div2<br>match:20<br>bad4: 0.3685366090907828<br>IMG res:450x375",
          "bad4: 0.39575893167322096<br>Experiment id:<br> ALG_005_EXP_002-PatchMatch-MacLean_et_al-Numba<br>Scene: cones<br>kernel size: 3x3<br>kernel spec: hvsobel_div2<br>match:30<br>bad4: 0.39575893167322096<br>IMG res:450x375",
          "bad4: 0.4216263913399942<br>Experiment id:<br> ALG_005_EXP_002-PatchMatch-MacLean_et_al-Numba<br>Scene: cones<br>kernel size: 3x3<br>kernel spec: hvsobel_div2<br>match:40<br>bad4: 0.4216263913399942<br>IMG res:450x375"
         ],
         "type": "scatter",
         "uid": "c469cadc-2ee7-4323-bbf5-8e5dd6b537b8",
         "x": [
          10,
          20,
          30,
          40
         ],
         "y": {
          "dtype": "float64",
          "shape": [
           4
          ],
          "value": {}
         }
        },
        {
         "hovertemplate": "%{text}",
         "name": "hvsobel_div",
         "showlegend": true,
         "text": [
          "bad4: 0.18137098231035392<br>Experiment id:<br> ALG_005_EXP_002-PatchMatch-MacLean_et_al-Numba<br>Scene: cones<br>kernel size: 3x3<br>kernel spec: hvsobel_div<br>match:10<br>bad4: 0.18137098231035392<br>IMG res:450x375",
          "bad4: 0.2252199046732349<br>Experiment id:<br> ALG_005_EXP_002-PatchMatch-MacLean_et_al-Numba<br>Scene: cones<br>kernel size: 3x3<br>kernel spec: hvsobel_div<br>match:20<br>bad4: 0.2252199046732349<br>IMG res:450x375",
          "bad4: 0.2631908063866153<br>Experiment id:<br> ALG_005_EXP_002-PatchMatch-MacLean_et_al-Numba<br>Scene: cones<br>kernel size: 3x3<br>kernel spec: hvsobel_div<br>match:30<br>bad4: 0.2631908063866153<br>IMG res:450x375",
          "bad4: 0.3000500257076553<br>Experiment id:<br> ALG_005_EXP_002-PatchMatch-MacLean_et_al-Numba<br>Scene: cones<br>kernel size: 3x3<br>kernel spec: hvsobel_div<br>match:40<br>bad4: 0.3000500257076553<br>IMG res:450x375"
         ],
         "type": "scatter",
         "uid": "a3010088-99e0-48d0-866c-3da831b80de4",
         "x": [
          10,
          20,
          30,
          40
         ],
         "y": {
          "dtype": "float64",
          "shape": [
           4
          ],
          "value": {}
         }
        },
        {
         "hovertemplate": "%{text}",
         "name": "hscharr",
         "showlegend": true,
         "text": [
          "bad4: 0.2561107791503967<br>Experiment id:<br> ALG_005_EXP_002-PatchMatch-MacLean_et_al-Numba<br>Scene: cones<br>kernel size: 3x3<br>kernel spec: hscharr<br>match:10<br>bad4: 0.2561107791503967<br>IMG res:450x375",
          "bad4: 0.3034962411239109<br>Experiment id:<br> ALG_005_EXP_002-PatchMatch-MacLean_et_al-Numba<br>Scene: cones<br>kernel size: 3x3<br>kernel spec: hscharr<br>match:20<br>bad4: 0.3034962411239109<br>IMG res:450x375",
          "bad4: 0.3514375442935953<br>Experiment id:<br> ALG_005_EXP_002-PatchMatch-MacLean_et_al-Numba<br>Scene: cones<br>kernel size: 3x3<br>kernel spec: hscharr<br>match:30<br>bad4: 0.3514375442935953<br>IMG res:450x375",
          "bad4: 0.3825160151744647<br>Experiment id:<br> ALG_005_EXP_002-PatchMatch-MacLean_et_al-Numba<br>Scene: cones<br>kernel size: 3x3<br>kernel spec: hscharr<br>match:40<br>bad4: 0.3825160151744647<br>IMG res:450x375"
         ],
         "type": "scatter",
         "uid": "4ea379fd-ddbb-49e9-a972-f3ddf27d0646",
         "x": [
          10,
          20,
          30,
          40
         ],
         "y": {
          "dtype": "float64",
          "shape": [
           4
          ],
          "value": {}
         }
        },
        {
         "hovertemplate": "%{text}",
         "name": "vscharr",
         "showlegend": true,
         "text": [
          "bad4: 0.2507121715325931<br>Experiment id:<br> ALG_005_EXP_002-PatchMatch-MacLean_et_al-Numba<br>Scene: cones<br>kernel size: 3x3<br>kernel spec: vscharr<br>match:10<br>bad4: 0.2507121715325931<br>IMG res:450x375",
          "bad4: 0.30387838194627803<br>Experiment id:<br> ALG_005_EXP_002-PatchMatch-MacLean_et_al-Numba<br>Scene: cones<br>kernel size: 3x3<br>kernel spec: vscharr<br>match:20<br>bad4: 0.30387838194627803<br>IMG res:450x375",
          "bad4: 0.3532996123007657<br>Experiment id:<br> ALG_005_EXP_002-PatchMatch-MacLean_et_al-Numba<br>Scene: cones<br>kernel size: 3x3<br>kernel spec: vscharr<br>match:30<br>bad4: 0.3532996123007657<br>IMG res:450x375",
          "bad4: 0.3824882231146561<br>Experiment id:<br> ALG_005_EXP_002-PatchMatch-MacLean_et_al-Numba<br>Scene: cones<br>kernel size: 3x3<br>kernel spec: vscharr<br>match:40<br>bad4: 0.3824882231146561<br>IMG res:450x375"
         ],
         "type": "scatter",
         "uid": "bebdab77-ca5d-49b0-9034-fad2192cc07b",
         "x": [
          10,
          20,
          30,
          40
         ],
         "y": {
          "dtype": "float64",
          "shape": [
           4
          ],
          "value": {}
         }
        },
        {
         "hovertemplate": "%{text}",
         "name": "hvscharr_div2",
         "showlegend": true,
         "text": [
          "bad4: 0.2959090087961869<br>Experiment id:<br> ALG_005_EXP_002-PatchMatch-MacLean_et_al-Numba<br>Scene: cones<br>kernel size: 3x3<br>kernel spec: hvscharr_div2<br>match:10<br>bad4: 0.2959090087961869<br>IMG res:450x375",
          "bad4: 0.352556174700888<br>Experiment id:<br> ALG_005_EXP_002-PatchMatch-MacLean_et_al-Numba<br>Scene: cones<br>kernel size: 3x3<br>kernel spec: hvscharr_div2<br>match:20<br>bad4: 0.352556174700888<br>IMG res:450x375",
          "bad4: 0.3933896585745453<br>Experiment id:<br> ALG_005_EXP_002-PatchMatch-MacLean_et_al-Numba<br>Scene: cones<br>kernel size: 3x3<br>kernel spec: hvscharr_div2<br>match:30<br>bad4: 0.3933896585745453<br>IMG res:450x375",
          "bad4: 0.4026930505954449<br>Experiment id:<br> ALG_005_EXP_002-PatchMatch-MacLean_et_al-Numba<br>Scene: cones<br>kernel size: 3x3<br>kernel spec: hvscharr_div2<br>match:40<br>bad4: 0.4026930505954449<br>IMG res:450x375"
         ],
         "type": "scatter",
         "uid": "81f482c9-c063-465e-a421-097099b61122",
         "x": [
          10,
          20,
          30,
          40
         ],
         "y": {
          "dtype": "float64",
          "shape": [
           4
          ],
          "value": {}
         }
        },
        {
         "hovertemplate": "%{text}",
         "name": "hvscharr",
         "showlegend": true,
         "text": [
          "bad4: 0.17121298445034253<br>Experiment id:<br> ALG_005_EXP_002-PatchMatch-MacLean_et_al-Numba<br>Scene: cones<br>kernel size: 3x3<br>kernel spec: hvscharr<br>match:10<br>bad4: 0.17121298445034253<br>IMG res:450x375",
          "bad4: 0.21315815071634034<br>Experiment id:<br> ALG_005_EXP_002-PatchMatch-MacLean_et_al-Numba<br>Scene: cones<br>kernel size: 3x3<br>kernel spec: hvscharr<br>match:20<br>bad4: 0.21315815071634034<br>IMG res:450x375",
          "bad4: 0.24933646457207176<br>Experiment id:<br> ALG_005_EXP_002-PatchMatch-MacLean_et_al-Numba<br>Scene: cones<br>kernel size: 3x3<br>kernel spec: hvscharr<br>match:30<br>bad4: 0.24933646457207176<br>IMG res:450x375",
          "bad4: 0.28192960271250506<br>Experiment id:<br> ALG_005_EXP_002-PatchMatch-MacLean_et_al-Numba<br>Scene: cones<br>kernel size: 3x3<br>kernel spec: hvscharr<br>match:40<br>bad4: 0.28192960271250506<br>IMG res:450x375"
         ],
         "type": "scatter",
         "uid": "1ba8af76-fa6c-469b-af4f-3a1a401669a9",
         "x": [
          10,
          20,
          30,
          40
         ],
         "y": {
          "dtype": "float64",
          "shape": [
           4
          ],
          "value": {}
         }
        },
        {
         "hovertemplate": "%{text}",
         "name": "hprewitt",
         "showlegend": true,
         "text": [
          "bad4: 0.24984366966357716<br>Experiment id:<br> ALG_005_EXP_002-PatchMatch-MacLean_et_al-Numba<br>Scene: cones<br>kernel size: 3x3<br>kernel spec: hprewitt<br>match:10<br>bad4: 0.24984366966357716<br>IMG res:450x375",
          "bad4: 0.30346150104915026<br>Experiment id:<br> ALG_005_EXP_002-PatchMatch-MacLean_et_al-Numba<br>Scene: cones<br>kernel size: 3x3<br>kernel spec: hprewitt<br>match:20<br>bad4: 0.30346150104915026<br>IMG res:450x375",
          "bad4: 0.34751886386059505<br>Experiment id:<br> ALG_005_EXP_002-PatchMatch-MacLean_et_al-Numba<br>Scene: cones<br>kernel size: 3x3<br>kernel spec: hprewitt<br>match:30<br>bad4: 0.34751886386059505<br>IMG res:450x375",
          "bad4: 0.3801814821505496<br>Experiment id:<br> ALG_005_EXP_002-PatchMatch-MacLean_et_al-Numba<br>Scene: cones<br>kernel size: 3x3<br>kernel spec: hprewitt<br>match:40<br>bad4: 0.3801814821505496<br>IMG res:450x375"
         ],
         "type": "scatter",
         "uid": "d65343bc-825d-4078-9c8e-2ae7c6b89238",
         "x": [
          10,
          20,
          30,
          40
         ],
         "y": {
          "dtype": "float64",
          "shape": [
           4
          ],
          "value": {}
         }
        },
        {
         "hovertemplate": "%{text}",
         "name": "vprewitt",
         "showlegend": true,
         "text": [
          "bad4: 0.24984366966357716<br>Experiment id:<br> ALG_005_EXP_002-PatchMatch-MacLean_et_al-Numba<br>Scene: cones<br>kernel size: 3x3<br>kernel spec: vprewitt<br>match:10<br>bad4: 0.24984366966357716<br>IMG res:450x375",
          "bad4: 0.30346150104915026<br>Experiment id:<br> ALG_005_EXP_002-PatchMatch-MacLean_et_al-Numba<br>Scene: cones<br>kernel size: 3x3<br>kernel spec: vprewitt<br>match:20<br>bad4: 0.30346150104915026<br>IMG res:450x375",
          "bad4: 0.34751886386059505<br>Experiment id:<br> ALG_005_EXP_002-PatchMatch-MacLean_et_al-Numba<br>Scene: cones<br>kernel size: 3x3<br>kernel spec: vprewitt<br>match:30<br>bad4: 0.34751886386059505<br>IMG res:450x375",
          "bad4: 0.3801814821505496<br>Experiment id:<br> ALG_005_EXP_002-PatchMatch-MacLean_et_al-Numba<br>Scene: cones<br>kernel size: 3x3<br>kernel spec: vprewitt<br>match:40<br>bad4: 0.3801814821505496<br>IMG res:450x375"
         ],
         "type": "scatter",
         "uid": "c35bc7d9-753b-4a8a-b005-09f415a71ef7",
         "x": [
          10,
          20,
          30,
          40
         ],
         "y": {
          "dtype": "float64",
          "shape": [
           4
          ],
          "value": {}
         }
        },
        {
         "hovertemplate": "%{text}",
         "name": "hvprewitt_div2",
         "showlegend": true,
         "text": [
          "bad4: 0.33579061462140264<br>Experiment id:<br> ALG_005_EXP_002-PatchMatch-MacLean_et_al-Numba<br>Scene: cones<br>kernel size: 3x3<br>kernel spec: hvprewitt_div2<br>match:10<br>bad4: 0.33579061462140264<br>IMG res:450x375",
          "bad4: 0.38732404152133737<br>Experiment id:<br> ALG_005_EXP_002-PatchMatch-MacLean_et_al-Numba<br>Scene: cones<br>kernel size: 3x3<br>kernel spec: hvprewitt_div2<br>match:20<br>bad4: 0.38732404152133737<br>IMG res:450x375",
          "bad4: 0.4037422008532162<br>Experiment id:<br> ALG_005_EXP_002-PatchMatch-MacLean_et_al-Numba<br>Scene: cones<br>kernel size: 3x3<br>kernel spec: hvprewitt_div2<br>match:30<br>bad4: 0.4037422008532162<br>IMG res:450x375",
          "bad4: 0.4936008782290899<br>Experiment id:<br> ALG_005_EXP_002-PatchMatch-MacLean_et_al-Numba<br>Scene: cones<br>kernel size: 3x3<br>kernel spec: hvprewitt_div2<br>match:40<br>bad4: 0.4936008782290899<br>IMG res:450x375"
         ],
         "type": "scatter",
         "uid": "71ddac92-bdc0-477c-af9d-4b0ba8640909",
         "x": [
          10,
          20,
          30,
          40
         ],
         "y": {
          "dtype": "float64",
          "shape": [
           4
          ],
          "value": {}
         }
        },
        {
         "hovertemplate": "%{text}",
         "name": "hvprewitt",
         "showlegend": true,
         "text": [
          "bad4: 0.19663577116017952<br>Experiment id:<br> ALG_005_EXP_002-PatchMatch-MacLean_et_al-Numba<br>Scene: cones<br>kernel size: 3x3<br>kernel spec: hvprewitt<br>match:10<br>bad4: 0.19663577116017952<br>IMG res:450x375",
          "bad4: 0.2455220043633534<br>Experiment id:<br> ALG_005_EXP_002-PatchMatch-MacLean_et_al-Numba<br>Scene: cones<br>kernel size: 3x3<br>kernel spec: hvprewitt<br>match:20<br>bad4: 0.2455220043633534<br>IMG res:450x375",
          "bad4: 0.2844169920653669<br>Experiment id:<br> ALG_005_EXP_002-PatchMatch-MacLean_et_al-Numba<br>Scene: cones<br>kernel size: 3x3<br>kernel spec: hvprewitt<br>match:30<br>bad4: 0.2844169920653669<br>IMG res:450x375",
          "bad4: 0.32417353362144435<br>Experiment id:<br> ALG_005_EXP_002-PatchMatch-MacLean_et_al-Numba<br>Scene: cones<br>kernel size: 3x3<br>kernel spec: hvprewitt<br>match:40<br>bad4: 0.32417353362144435<br>IMG res:450x375"
         ],
         "type": "scatter",
         "uid": "0c5bf1c8-a93e-4774-bd45-efcd1055e685",
         "x": [
          10,
          20,
          30,
          40
         ],
         "y": {
          "dtype": "float64",
          "shape": [
           4
          ],
          "value": {}
         }
        },
        {
         "hovertemplate": "%{text}",
         "name": "gauss_5_3",
         "showlegend": true,
         "text": [
          "bad4: 0.13410363659102595<br>Experiment id:<br> ALG_005_EXP_002-PatchMatch-MacLean_et_al-Numba<br>Scene: cones<br>kernel size: 5x3<br>kernel spec: gauss_5_3<br>match:10<br>bad4: 0.13410363659102595<br>IMG res:450x375",
          "bad4: 0.13410363659102595<br>Experiment id:<br> ALG_005_EXP_002-PatchMatch-MacLean_et_al-Numba<br>Scene: cones<br>kernel size: 5x3<br>kernel spec: gauss_5_3<br>match:10<br>bad4: 0.13410363659102595<br>IMG res:450x375",
          "bad4: 0.11300251518141267<br>Experiment id:<br> ALG_005_EXP_002-PatchMatch-MacLean_et_al-Numba<br>Scene: cones<br>kernel size: 5x3<br>kernel spec: gauss_5_3<br>match:20<br>bad4: 0.11300251518141267<br>IMG res:450x375",
          "bad4: 0.11416283367841808<br>Experiment id:<br> ALG_005_EXP_002-PatchMatch-MacLean_et_al-Numba<br>Scene: cones<br>kernel size: 5x3<br>kernel spec: gauss_5_3<br>match:30<br>bad4: 0.11416283367841808<br>IMG res:450x375",
          "bad4: 0.1278295790892542<br>Experiment id:<br> ALG_005_EXP_002-PatchMatch-MacLean_et_al-Numba<br>Scene: cones<br>kernel size: 5x3<br>kernel spec: gauss_5_3<br>match:40<br>bad4: 0.1278295790892542<br>IMG res:450x375",
          "bad4: 0.13410363659102595<br>Experiment id:<br> ALG_005_EXP_002-PatchMatch-MacLean_et_al-Numba<br>Scene: cones<br>kernel size: 5x3<br>kernel spec: gauss_5_3<br>match:10<br>bad4: 0.13410363659102595<br>IMG res:450x375",
          "bad4: 0.11300251518141267<br>Experiment id:<br> ALG_005_EXP_002-PatchMatch-MacLean_et_al-Numba<br>Scene: cones<br>kernel size: 5x3<br>kernel spec: gauss_5_3<br>match:20<br>bad4: 0.11300251518141267<br>IMG res:450x375",
          "bad4: 0.11416283367841808<br>Experiment id:<br> ALG_005_EXP_002-PatchMatch-MacLean_et_al-Numba<br>Scene: cones<br>kernel size: 5x3<br>kernel spec: gauss_5_3<br>match:30<br>bad4: 0.11416283367841808<br>IMG res:450x375",
          "bad4: 0.1278295790892542<br>Experiment id:<br> ALG_005_EXP_002-PatchMatch-MacLean_et_al-Numba<br>Scene: cones<br>kernel size: 5x3<br>kernel spec: gauss_5_3<br>match:40<br>bad4: 0.1278295790892542<br>IMG res:450x375"
         ],
         "type": "scatter",
         "uid": "b1aec645-c318-4528-8639-7f756060bee1",
         "x": [
          10,
          10,
          20,
          30,
          40,
          10,
          20,
          30,
          40
         ],
         "y": {
          "dtype": "float64",
          "shape": [
           9
          ],
          "value": {}
         }
        },
        {
         "hovertemplate": "%{text}",
         "name": "gauss_5_5",
         "showlegend": true,
         "text": [
          "bad4: 0.13878659866876036<br>Experiment id:<br> ALG_005_EXP_002-PatchMatch-MacLean_et_al-Numba<br>Scene: cones<br>kernel size: 5x5<br>kernel spec: gauss_5_5<br>match:10<br>bad4: 0.13878659866876036<br>IMG res:450x375",
          "bad4: 0.13878659866876036<br>Experiment id:<br> ALG_005_EXP_002-PatchMatch-MacLean_et_al-Numba<br>Scene: cones<br>kernel size: 5x5<br>kernel spec: gauss_5_5<br>match:10<br>bad4: 0.13878659866876036<br>IMG res:450x375",
          "bad4: 0.10836818920834318<br>Experiment id:<br> ALG_005_EXP_002-PatchMatch-MacLean_et_al-Numba<br>Scene: cones<br>kernel size: 5x5<br>kernel spec: gauss_5_5<br>match:20<br>bad4: 0.10836818920834318<br>IMG res:450x375",
          "bad4: 0.11718522018259385<br>Experiment id:<br> ALG_005_EXP_002-PatchMatch-MacLean_et_al-Numba<br>Scene: cones<br>kernel size: 5x5<br>kernel spec: gauss_5_5<br>match:30<br>bad4: 0.11718522018259385<br>IMG res:450x375",
          "bad4: 0.12959437488709474<br>Experiment id:<br> ALG_005_EXP_002-PatchMatch-MacLean_et_al-Numba<br>Scene: cones<br>kernel size: 5x5<br>kernel spec: gauss_5_5<br>match:40<br>bad4: 0.12959437488709474<br>IMG res:450x375",
          "bad4: 0.13878659866876036<br>Experiment id:<br> ALG_005_EXP_002-PatchMatch-MacLean_et_al-Numba<br>Scene: cones<br>kernel size: 5x5<br>kernel spec: gauss_5_5<br>match:10<br>bad4: 0.13878659866876036<br>IMG res:450x375",
          "bad4: 0.10836818920834318<br>Experiment id:<br> ALG_005_EXP_002-PatchMatch-MacLean_et_al-Numba<br>Scene: cones<br>kernel size: 5x5<br>kernel spec: gauss_5_5<br>match:20<br>bad4: 0.10836818920834318<br>IMG res:450x375",
          "bad4: 0.11718522018259385<br>Experiment id:<br> ALG_005_EXP_002-PatchMatch-MacLean_et_al-Numba<br>Scene: cones<br>kernel size: 5x5<br>kernel spec: gauss_5_5<br>match:30<br>bad4: 0.11718522018259385<br>IMG res:450x375",
          "bad4: 0.12959437488709474<br>Experiment id:<br> ALG_005_EXP_002-PatchMatch-MacLean_et_al-Numba<br>Scene: cones<br>kernel size: 5x5<br>kernel spec: gauss_5_5<br>match:40<br>bad4: 0.12959437488709474<br>IMG res:450x375"
         ],
         "type": "scatter",
         "uid": "8066b8de-bfbb-4cf8-9877-007884d22e2c",
         "x": [
          10,
          10,
          20,
          30,
          40,
          10,
          20,
          30,
          40
         ],
         "y": {
          "dtype": "float64",
          "shape": [
           9
          ],
          "value": {}
         }
        },
        {
         "hovertemplate": "%{text}",
         "name": "octagon_3_1",
         "showlegend": true,
         "text": [
          "bad4: 0.12206967469393995<br>Experiment id:<br> ALG_005_EXP_002-PatchMatch-MacLean_et_al-Numba<br>Scene: cones<br>kernel size: 5x5<br>kernel spec: octagon_3_1<br>match:10<br>bad4: 0.12206967469393995<br>IMG res:450x375",
          "bad4: 0.11521198393618945<br>Experiment id:<br> ALG_005_EXP_002-PatchMatch-MacLean_et_al-Numba<br>Scene: cones<br>kernel size: 5x5<br>kernel spec: octagon_3_1<br>match:20<br>bad4: 0.11521198393618945<br>IMG res:450x375",
          "bad4: 0.12520322943734974<br>Experiment id:<br> ALG_005_EXP_002-PatchMatch-MacLean_et_al-Numba<br>Scene: cones<br>kernel size: 5x5<br>kernel spec: octagon_3_1<br>match:30<br>bad4: 0.12520322943734974<br>IMG res:450x375",
          "bad4: 0.14362241707544154<br>Experiment id:<br> ALG_005_EXP_002-PatchMatch-MacLean_et_al-Numba<br>Scene: cones<br>kernel size: 5x5<br>kernel spec: octagon_3_1<br>match:40<br>bad4: 0.14362241707544154<br>IMG res:450x375"
         ],
         "type": "scatter",
         "uid": "1f26ecb6-8460-4bec-a214-0cae94d3263b",
         "x": [
          10,
          20,
          30,
          40
         ],
         "y": {
          "dtype": "float64",
          "shape": [
           4
          ],
          "value": {}
         }
        },
        {
         "hovertemplate": "%{text}",
         "name": "diamond_2",
         "showlegend": true,
         "text": [
          "bad4: 0.13352000333504718<br>Experiment id:<br> ALG_005_EXP_002-PatchMatch-MacLean_et_al-Numba<br>Scene: cones<br>kernel size: 5x5<br>kernel spec: diamond_2<br>match:10<br>bad4: 0.13352000333504718<br>IMG res:450x375",
          "bad4: 0.15476703305865513<br>Experiment id:<br> ALG_005_EXP_002-PatchMatch-MacLean_et_al-Numba<br>Scene: cones<br>kernel size: 5x5<br>kernel spec: diamond_2<br>match:20<br>bad4: 0.15476703305865513<br>IMG res:450x375",
          "bad4: 0.18381668357350306<br>Experiment id:<br> ALG_005_EXP_002-PatchMatch-MacLean_et_al-Numba<br>Scene: cones<br>kernel size: 5x5<br>kernel spec: diamond_2<br>match:30<br>bad4: 0.18381668357350306<br>IMG res:450x375",
          "bad4: 0.21406834067506916<br>Experiment id:<br> ALG_005_EXP_002-PatchMatch-MacLean_et_al-Numba<br>Scene: cones<br>kernel size: 5x5<br>kernel spec: diamond_2<br>match:40<br>bad4: 0.21406834067506916<br>IMG res:450x375"
         ],
         "type": "scatter",
         "uid": "b1ed51e2-83bc-41da-a287-c7fb81cab45b",
         "x": [
          10,
          20,
          30,
          40
         ],
         "y": {
          "dtype": "float64",
          "shape": [
           4
          ],
          "value": {}
         }
        },
        {
         "hovertemplate": "%{text}",
         "name": "disk_2",
         "showlegend": true,
         "text": [
          "bad4: 0.13352000333504718<br>Experiment id:<br> ALG_005_EXP_002-PatchMatch-MacLean_et_al-Numba<br>Scene: cones<br>kernel size: 5x5<br>kernel spec: disk_2<br>match:10<br>bad4: 0.13352000333504718<br>IMG res:450x375",
          "bad4: 0.15476703305865513<br>Experiment id:<br> ALG_005_EXP_002-PatchMatch-MacLean_et_al-Numba<br>Scene: cones<br>kernel size: 5x5<br>kernel spec: disk_2<br>match:20<br>bad4: 0.15476703305865513<br>IMG res:450x375",
          "bad4: 0.18381668357350306<br>Experiment id:<br> ALG_005_EXP_002-PatchMatch-MacLean_et_al-Numba<br>Scene: cones<br>kernel size: 5x5<br>kernel spec: disk_2<br>match:30<br>bad4: 0.18381668357350306<br>IMG res:450x375",
          "bad4: 0.21406834067506916<br>Experiment id:<br> ALG_005_EXP_002-PatchMatch-MacLean_et_al-Numba<br>Scene: cones<br>kernel size: 5x5<br>kernel spec: disk_2<br>match:40<br>bad4: 0.21406834067506916<br>IMG res:450x375"
         ],
         "type": "scatter",
         "uid": "4899f5b6-150f-46d2-b62c-6847f32bd5a4",
         "x": [
          10,
          20,
          30,
          40
         ],
         "y": {
          "dtype": "float64",
          "shape": [
           4
          ],
          "value": {}
         }
        },
        {
         "hovertemplate": "%{text}",
         "name": "hfarid",
         "showlegend": true,
         "text": [
          "bad4: 0.7979656212220169<br>Experiment id:<br> ALG_005_EXP_002-PatchMatch-MacLean_et_al-Numba<br>Scene: cones<br>kernel size: 5x5<br>kernel spec: hfarid<br>match:10<br>bad4: 0.7979656212220169<br>IMG res:450x375",
          "bad4: 1.0<br>Experiment id:<br> ALG_005_EXP_002-PatchMatch-MacLean_et_al-Numba<br>Scene: cones<br>kernel size: 5x5<br>kernel spec: hfarid<br>match:20<br>bad4: 1.0<br>IMG res:450x375",
          "bad4: 1.0<br>Experiment id:<br> ALG_005_EXP_002-PatchMatch-MacLean_et_al-Numba<br>Scene: cones<br>kernel size: 5x5<br>kernel spec: hfarid<br>match:30<br>bad4: 1.0<br>IMG res:450x375",
          "bad4: 1.0<br>Experiment id:<br> ALG_005_EXP_002-PatchMatch-MacLean_et_al-Numba<br>Scene: cones<br>kernel size: 5x5<br>kernel spec: hfarid<br>match:40<br>bad4: 1.0<br>IMG res:450x375"
         ],
         "type": "scatter",
         "uid": "1b42975e-7693-4648-b269-10ae08ebd9e5",
         "x": [
          10,
          20,
          30,
          40
         ],
         "y": {
          "dtype": "float64",
          "shape": [
           4
          ],
          "value": {}
         }
        },
        {
         "hovertemplate": "%{text}",
         "name": "vfarid",
         "showlegend": true,
         "text": [
          "bad4: 0.7999110654086128<br>Experiment id:<br> ALG_005_EXP_002-PatchMatch-MacLean_et_al-Numba<br>Scene: cones<br>kernel size: 5x5<br>kernel spec: vfarid<br>match:10<br>bad4: 0.7999110654086128<br>IMG res:450x375",
          "bad4: 1.0<br>Experiment id:<br> ALG_005_EXP_002-PatchMatch-MacLean_et_al-Numba<br>Scene: cones<br>kernel size: 5x5<br>kernel spec: vfarid<br>match:20<br>bad4: 1.0<br>IMG res:450x375",
          "bad4: 1.0<br>Experiment id:<br> ALG_005_EXP_002-PatchMatch-MacLean_et_al-Numba<br>Scene: cones<br>kernel size: 5x5<br>kernel spec: vfarid<br>match:30<br>bad4: 1.0<br>IMG res:450x375",
          "bad4: 1.0<br>Experiment id:<br> ALG_005_EXP_002-PatchMatch-MacLean_et_al-Numba<br>Scene: cones<br>kernel size: 5x5<br>kernel spec: vfarid<br>match:40<br>bad4: 1.0<br>IMG res:450x375"
         ],
         "type": "scatter",
         "uid": "246c991b-8497-4ae5-a2eb-3f0457e21acf",
         "x": [
          10,
          20,
          30,
          40
         ],
         "y": {
          "dtype": "float64",
          "shape": [
           4
          ],
          "value": {}
         }
        },
        {
         "hovertemplate": "%{text}",
         "name": "hvfarid_div2",
         "showlegend": true,
         "text": [
          "bad4: 0.9419354390450648<br>Experiment id:<br> ALG_005_EXP_002-PatchMatch-MacLean_et_al-Numba<br>Scene: cones<br>kernel size: 5x5<br>kernel spec: hvfarid_div2<br>match:10<br>bad4: 0.9419354390450648<br>IMG res:450x375",
          "bad4: 1.0<br>Experiment id:<br> ALG_005_EXP_002-PatchMatch-MacLean_et_al-Numba<br>Scene: cones<br>kernel size: 5x5<br>kernel spec: hvfarid_div2<br>match:20<br>bad4: 1.0<br>IMG res:450x375",
          "bad4: 1.0<br>Experiment id:<br> ALG_005_EXP_002-PatchMatch-MacLean_et_al-Numba<br>Scene: cones<br>kernel size: 5x5<br>kernel spec: hvfarid_div2<br>match:30<br>bad4: 1.0<br>IMG res:450x375",
          "bad4: 1.0<br>Experiment id:<br> ALG_005_EXP_002-PatchMatch-MacLean_et_al-Numba<br>Scene: cones<br>kernel size: 5x5<br>kernel spec: hvfarid_div2<br>match:40<br>bad4: 1.0<br>IMG res:450x375"
         ],
         "type": "scatter",
         "uid": "48d601ba-ce07-4276-b53d-e9cdf02d03fc",
         "x": [
          10,
          20,
          30,
          40
         ],
         "y": {
          "dtype": "float64",
          "shape": [
           4
          ],
          "value": {}
         }
        },
        {
         "hovertemplate": "%{text}",
         "name": "hvfarid",
         "showlegend": true,
         "text": [
          "bad4: 0.5407570557091839<br>Experiment id:<br> ALG_005_EXP_002-PatchMatch-MacLean_et_al-Numba<br>Scene: cones<br>kernel size: 5x5<br>kernel spec: hvfarid<br>match:10<br>bad4: 0.5407570557091839<br>IMG res:450x375",
          "bad4: 0.8933896585745452<br>Experiment id:<br> ALG_005_EXP_002-PatchMatch-MacLean_et_al-Numba<br>Scene: cones<br>kernel size: 5x5<br>kernel spec: hvfarid<br>match:20<br>bad4: 0.8933896585745452<br>IMG res:450x375",
          "bad4: 1.0<br>Experiment id:<br> ALG_005_EXP_002-PatchMatch-MacLean_et_al-Numba<br>Scene: cones<br>kernel size: 5x5<br>kernel spec: hvfarid<br>match:30<br>bad4: 1.0<br>IMG res:450x375",
          "bad4: 1.0<br>Experiment id:<br> ALG_005_EXP_002-PatchMatch-MacLean_et_al-Numba<br>Scene: cones<br>kernel size: 5x5<br>kernel spec: hvfarid<br>match:40<br>bad4: 1.0<br>IMG res:450x375"
         ],
         "type": "scatter",
         "uid": "4a72d31d-696f-43aa-9292-c5aef549ee3e",
         "x": [
          10,
          20,
          30,
          40
         ],
         "y": {
          "dtype": "float64",
          "shape": [
           4
          ],
          "value": {}
         }
        },
        {
         "hovertemplate": "%{text}",
         "name": "gauss_7_3",
         "showlegend": true,
         "text": [
          "bad4: 0.13427733696482916<br>Experiment id:<br> ALG_005_EXP_002-PatchMatch-MacLean_et_al-Numba<br>Scene: cones<br>kernel size: 7x3<br>kernel spec: gauss_7_3<br>match:10<br>bad4: 0.13427733696482916<br>IMG res:450x375",
          "bad4: 0.13427733696482916<br>Experiment id:<br> ALG_005_EXP_002-PatchMatch-MacLean_et_al-Numba<br>Scene: cones<br>kernel size: 7x3<br>kernel spec: gauss_7_3<br>match:10<br>bad4: 0.13427733696482916<br>IMG res:450x375",
          "bad4: 0.11278017870294454<br>Experiment id:<br> ALG_005_EXP_002-PatchMatch-MacLean_et_al-Numba<br>Scene: cones<br>kernel size: 7x3<br>kernel spec: gauss_7_3<br>match:20<br>bad4: 0.11278017870294454<br>IMG res:450x375",
          "bad4: 0.11395439322985425<br>Experiment id:<br> ALG_005_EXP_002-PatchMatch-MacLean_et_al-Numba<br>Scene: cones<br>kernel size: 7x3<br>kernel spec: gauss_7_3<br>match:30<br>bad4: 0.11395439322985425<br>IMG res:450x375",
          "bad4: 0.12732237399774884<br>Experiment id:<br> ALG_005_EXP_002-PatchMatch-MacLean_et_al-Numba<br>Scene: cones<br>kernel size: 7x3<br>kernel spec: gauss_7_3<br>match:40<br>bad4: 0.12732237399774884<br>IMG res:450x375",
          "bad4: 0.13427733696482916<br>Experiment id:<br> ALG_005_EXP_002-PatchMatch-MacLean_et_al-Numba<br>Scene: cones<br>kernel size: 7x3<br>kernel spec: gauss_7_3<br>match:10<br>bad4: 0.13427733696482916<br>IMG res:450x375",
          "bad4: 0.11278017870294454<br>Experiment id:<br> ALG_005_EXP_002-PatchMatch-MacLean_et_al-Numba<br>Scene: cones<br>kernel size: 7x3<br>kernel spec: gauss_7_3<br>match:20<br>bad4: 0.11278017870294454<br>IMG res:450x375",
          "bad4: 0.11395439322985425<br>Experiment id:<br> ALG_005_EXP_002-PatchMatch-MacLean_et_al-Numba<br>Scene: cones<br>kernel size: 7x3<br>kernel spec: gauss_7_3<br>match:30<br>bad4: 0.11395439322985425<br>IMG res:450x375",
          "bad4: 0.12732237399774884<br>Experiment id:<br> ALG_005_EXP_002-PatchMatch-MacLean_et_al-Numba<br>Scene: cones<br>kernel size: 7x3<br>kernel spec: gauss_7_3<br>match:40<br>bad4: 0.12732237399774884<br>IMG res:450x375"
         ],
         "type": "scatter",
         "uid": "b6bd0544-8dcf-4bed-83cc-8e892a251b92",
         "x": [
          10,
          10,
          20,
          30,
          40,
          10,
          20,
          30,
          40
         ],
         "y": {
          "dtype": "float64",
          "shape": [
           9
          ],
          "value": {}
         }
        },
        {
         "hovertemplate": "%{text}",
         "name": "star_2",
         "showlegend": true,
         "text": [
          "bad4: 0.12919139001987132<br>Experiment id:<br> ALG_005_EXP_002-PatchMatch-MacLean_et_al-Numba<br>Scene: cones<br>kernel size: 7x7<br>kernel spec: star_2<br>match:10<br>bad4: 0.12919139001987132<br>IMG res:450x375",
          "bad4: 0.14126009199171796<br>Experiment id:<br> ALG_005_EXP_002-PatchMatch-MacLean_et_al-Numba<br>Scene: cones<br>kernel size: 7x7<br>kernel spec: star_2<br>match:20<br>bad4: 0.14126009199171796<br>IMG res:450x375",
          "bad4: 0.166196517654906<br>Experiment id:<br> ALG_005_EXP_002-PatchMatch-MacLean_et_al-Numba<br>Scene: cones<br>kernel size: 7x7<br>kernel spec: star_2<br>match:30<br>bad4: 0.166196517654906<br>IMG res:450x375",
          "bad4: 0.1943568222558815<br>Experiment id:<br> ALG_005_EXP_002-PatchMatch-MacLean_et_al-Numba<br>Scene: cones<br>kernel size: 7x7<br>kernel spec: star_2<br>match:40<br>bad4: 0.1943568222558815<br>IMG res:450x375"
         ],
         "type": "scatter",
         "uid": "925c4268-fc3e-43fb-91be-664a0cd88e36",
         "x": [
          10,
          20,
          30,
          40
         ],
         "y": {
          "dtype": "float64",
          "shape": [
           4
          ],
          "value": {}
         }
        },
        {
         "hovertemplate": "%{text}",
         "name": "octagon_1_3",
         "showlegend": true,
         "text": [
          "bad4: 0.13598654864305268<br>Experiment id:<br> ALG_005_EXP_002-PatchMatch-MacLean_et_al-Numba<br>Scene: cones<br>kernel size: 7x7<br>kernel spec: octagon_1_3<br>match:10<br>bad4: 0.13598654864305268<br>IMG res:450x375",
          "bad4: 0.15783110765254366<br>Experiment id:<br> ALG_005_EXP_002-PatchMatch-MacLean_et_al-Numba<br>Scene: cones<br>kernel size: 7x7<br>kernel spec: octagon_1_3<br>match:20<br>bad4: 0.15783110765254366<br>IMG res:450x375",
          "bad4: 0.18847880160638106<br>Experiment id:<br> ALG_005_EXP_002-PatchMatch-MacLean_et_al-Numba<br>Scene: cones<br>kernel size: 7x7<br>kernel spec: octagon_1_3<br>match:30<br>bad4: 0.18847880160638106<br>IMG res:450x375",
          "bad4: 0.22003668551894726<br>Experiment id:<br> ALG_005_EXP_002-PatchMatch-MacLean_et_al-Numba<br>Scene: cones<br>kernel size: 7x7<br>kernel spec: octagon_1_3<br>match:40<br>bad4: 0.22003668551894726<br>IMG res:450x375"
         ],
         "type": "scatter",
         "uid": "bc271966-e898-4181-9025-148404cc3ef1",
         "x": [
          10,
          20,
          30,
          40
         ],
         "y": {
          "dtype": "float64",
          "shape": [
           4
          ],
          "value": {}
         }
        },
        {
         "hovertemplate": "%{text}",
         "name": "diamond_3",
         "showlegend": true,
         "text": [
          "bad4: 0.13598654864305268<br>Experiment id:<br> ALG_005_EXP_002-PatchMatch-MacLean_et_al-Numba<br>Scene: cones<br>kernel size: 7x7<br>kernel spec: diamond_3<br>match:10<br>bad4: 0.13598654864305268<br>IMG res:450x375",
          "bad4: 0.15783110765254366<br>Experiment id:<br> ALG_005_EXP_002-PatchMatch-MacLean_et_al-Numba<br>Scene: cones<br>kernel size: 7x7<br>kernel spec: diamond_3<br>match:20<br>bad4: 0.15783110765254366<br>IMG res:450x375",
          "bad4: 0.18847880160638106<br>Experiment id:<br> ALG_005_EXP_002-PatchMatch-MacLean_et_al-Numba<br>Scene: cones<br>kernel size: 7x7<br>kernel spec: diamond_3<br>match:30<br>bad4: 0.18847880160638106<br>IMG res:450x375",
          "bad4: 0.22003668551894726<br>Experiment id:<br> ALG_005_EXP_002-PatchMatch-MacLean_et_al-Numba<br>Scene: cones<br>kernel size: 7x7<br>kernel spec: diamond_3<br>match:40<br>bad4: 0.22003668551894726<br>IMG res:450x375"
         ],
         "type": "scatter",
         "uid": "aad6e78e-16c2-4600-9e50-2b72b14ae281",
         "x": [
          10,
          20,
          30,
          40
         ],
         "y": {
          "dtype": "float64",
          "shape": [
           4
          ],
          "value": {}
         }
        },
        {
         "hovertemplate": "%{text}",
         "name": "disk_3",
         "showlegend": true,
         "text": [
          "bad4: 0.12919139001987132<br>Experiment id:<br> ALG_005_EXP_002-PatchMatch-MacLean_et_al-Numba<br>Scene: cones<br>kernel size: 7x7<br>kernel spec: disk_3<br>match:10<br>bad4: 0.12919139001987132<br>IMG res:450x375",
          "bad4: 0.14126009199171796<br>Experiment id:<br> ALG_005_EXP_002-PatchMatch-MacLean_et_al-Numba<br>Scene: cones<br>kernel size: 7x7<br>kernel spec: disk_3<br>match:20<br>bad4: 0.14126009199171796<br>IMG res:450x375",
          "bad4: 0.166196517654906<br>Experiment id:<br> ALG_005_EXP_002-PatchMatch-MacLean_et_al-Numba<br>Scene: cones<br>kernel size: 7x7<br>kernel spec: disk_3<br>match:30<br>bad4: 0.166196517654906<br>IMG res:450x375",
          "bad4: 0.1943568222558815<br>Experiment id:<br> ALG_005_EXP_002-PatchMatch-MacLean_et_al-Numba<br>Scene: cones<br>kernel size: 7x7<br>kernel spec: disk_3<br>match:40<br>bad4: 0.1943568222558815<br>IMG res:450x375"
         ],
         "type": "scatter",
         "uid": "f48f7d8a-4899-41e9-b9c2-3e0641f5eb3c",
         "x": [
          10,
          20,
          30,
          40
         ],
         "y": {
          "dtype": "float64",
          "shape": [
           4
          ],
          "value": {}
         }
        },
        {
         "hovertemplate": "%{text}",
         "name": "star_3",
         "showlegend": true,
         "text": [
          "bad4: 0.13571557605991968<br>Experiment id:<br> ALG_005_EXP_002-PatchMatch-MacLean_et_al-Numba<br>Scene: cones<br>kernel size: 9x9<br>kernel spec: star_3<br>match:10<br>bad4: 0.13571557605991968<br>IMG res:450x375",
          "bad4: 0.14160054472437225<br>Experiment id:<br> ALG_005_EXP_002-PatchMatch-MacLean_et_al-Numba<br>Scene: cones<br>kernel size: 9x9<br>kernel spec: star_3<br>match:20<br>bad4: 0.14160054472437225<br>IMG res:450x375",
          "bad4: 0.16211108486305462<br>Experiment id:<br> ALG_005_EXP_002-PatchMatch-MacLean_et_al-Numba<br>Scene: cones<br>kernel size: 9x9<br>kernel spec: star_3<br>match:30<br>bad4: 0.16211108486305462<br>IMG res:450x375",
          "bad4: 0.1860956324778011<br>Experiment id:<br> ALG_005_EXP_002-PatchMatch-MacLean_et_al-Numba<br>Scene: cones<br>kernel size: 9x9<br>kernel spec: star_3<br>match:40<br>bad4: 0.1860956324778011<br>IMG res:450x375"
         ],
         "type": "scatter",
         "uid": "d352e4d6-e24b-442c-ae20-46585a9d9e1d",
         "x": [
          10,
          20,
          30,
          40
         ],
         "y": {
          "dtype": "float64",
          "shape": [
           4
          ],
          "value": {}
         }
        },
        {
         "hovertemplate": "%{text}",
         "name": "disk_4",
         "showlegend": true,
         "text": [
          "bad4: 0.13513194280394092<br>Experiment id:<br> ALG_005_EXP_002-PatchMatch-MacLean_et_al-Numba<br>Scene: cones<br>kernel size: 9x9<br>kernel spec: disk_4<br>match:10<br>bad4: 0.13513194280394092<br>IMG res:450x375",
          "bad4: 0.1450120200658672<br>Experiment id:<br> ALG_005_EXP_002-PatchMatch-MacLean_et_al-Numba<br>Scene: cones<br>kernel size: 9x9<br>kernel spec: disk_4<br>match:20<br>bad4: 0.1450120200658672<br>IMG res:450x375",
          "bad4: 0.16690521518002308<br>Experiment id:<br> ALG_005_EXP_002-PatchMatch-MacLean_et_al-Numba<br>Scene: cones<br>kernel size: 9x9<br>kernel spec: disk_4<br>match:30<br>bad4: 0.16690521518002308<br>IMG res:450x375",
          "bad4: 0.19542681655850924<br>Experiment id:<br> ALG_005_EXP_002-PatchMatch-MacLean_et_al-Numba<br>Scene: cones<br>kernel size: 9x9<br>kernel spec: disk_4<br>match:40<br>bad4: 0.19542681655850924<br>IMG res:450x375"
         ],
         "type": "scatter",
         "uid": "54f56676-6113-4e08-bcd7-ab911254cd44",
         "x": [
          10,
          20,
          30,
          40
         ],
         "y": {
          "dtype": "float64",
          "shape": [
           4
          ],
          "value": {}
         }
        },
        {
         "hovertemplate": "%{text}",
         "name": "gauss_11_3",
         "showlegend": true,
         "text": [
          "bad4: 0.13427733696482916<br>Experiment id:<br> ALG_005_EXP_002-PatchMatch-MacLean_et_al-Numba<br>Scene: cones<br>kernel size: 11x3<br>kernel spec: gauss_11_3<br>match:10<br>bad4: 0.13427733696482916<br>IMG res:450x375",
          "bad4: 0.13427733696482916<br>Experiment id:<br> ALG_005_EXP_002-PatchMatch-MacLean_et_al-Numba<br>Scene: cones<br>kernel size: 11x3<br>kernel spec: gauss_11_3<br>match:10<br>bad4: 0.13427733696482916<br>IMG res:450x375",
          "bad4: 0.11278017870294454<br>Experiment id:<br> ALG_005_EXP_002-PatchMatch-MacLean_et_al-Numba<br>Scene: cones<br>kernel size: 11x3<br>kernel spec: gauss_11_3<br>match:20<br>bad4: 0.11278017870294454<br>IMG res:450x375",
          "bad4: 0.11395439322985425<br>Experiment id:<br> ALG_005_EXP_002-PatchMatch-MacLean_et_al-Numba<br>Scene: cones<br>kernel size: 11x3<br>kernel spec: gauss_11_3<br>match:30<br>bad4: 0.11395439322985425<br>IMG res:450x375",
          "bad4: 0.12732237399774884<br>Experiment id:<br> ALG_005_EXP_002-PatchMatch-MacLean_et_al-Numba<br>Scene: cones<br>kernel size: 11x3<br>kernel spec: gauss_11_3<br>match:40<br>bad4: 0.12732237399774884<br>IMG res:450x375",
          "bad4: 0.13427733696482916<br>Experiment id:<br> ALG_005_EXP_002-PatchMatch-MacLean_et_al-Numba<br>Scene: cones<br>kernel size: 11x3<br>kernel spec: gauss_11_3<br>match:10<br>bad4: 0.13427733696482916<br>IMG res:450x375",
          "bad4: 0.11278017870294454<br>Experiment id:<br> ALG_005_EXP_002-PatchMatch-MacLean_et_al-Numba<br>Scene: cones<br>kernel size: 11x3<br>kernel spec: gauss_11_3<br>match:20<br>bad4: 0.11278017870294454<br>IMG res:450x375",
          "bad4: 0.11395439322985425<br>Experiment id:<br> ALG_005_EXP_002-PatchMatch-MacLean_et_al-Numba<br>Scene: cones<br>kernel size: 11x3<br>kernel spec: gauss_11_3<br>match:30<br>bad4: 0.11395439322985425<br>IMG res:450x375",
          "bad4: 0.12732237399774884<br>Experiment id:<br> ALG_005_EXP_002-PatchMatch-MacLean_et_al-Numba<br>Scene: cones<br>kernel size: 11x3<br>kernel spec: gauss_11_3<br>match:40<br>bad4: 0.12732237399774884<br>IMG res:450x375"
         ],
         "type": "scatter",
         "uid": "3d78cab9-4bfb-45dc-a7da-3f51790d2af8",
         "x": [
          10,
          10,
          20,
          30,
          40,
          10,
          20,
          30,
          40
         ],
         "y": {
          "dtype": "float64",
          "shape": [
           9
          ],
          "value": {}
         }
        },
        {
         "hovertemplate": "%{text}",
         "name": "gauss_13_3",
         "showlegend": true,
         "text": [
          "bad4: 0.13427733696482916<br>Experiment id:<br> ALG_005_EXP_002-PatchMatch-MacLean_et_al-Numba<br>Scene: cones<br>kernel size: 13x3<br>kernel spec: gauss_13_3<br>match:10<br>bad4: 0.13427733696482916<br>IMG res:450x375",
          "bad4: 0.11278017870294454<br>Experiment id:<br> ALG_005_EXP_002-PatchMatch-MacLean_et_al-Numba<br>Scene: cones<br>kernel size: 13x3<br>kernel spec: gauss_13_3<br>match:20<br>bad4: 0.11278017870294454<br>IMG res:450x375",
          "bad4: 0.11395439322985425<br>Experiment id:<br> ALG_005_EXP_002-PatchMatch-MacLean_et_al-Numba<br>Scene: cones<br>kernel size: 13x3<br>kernel spec: gauss_13_3<br>match:30<br>bad4: 0.11395439322985425<br>IMG res:450x375",
          "bad4: 0.12732237399774884<br>Experiment id:<br> ALG_005_EXP_002-PatchMatch-MacLean_et_al-Numba<br>Scene: cones<br>kernel size: 13x3<br>kernel spec: gauss_13_3<br>match:40<br>bad4: 0.12732237399774884<br>IMG res:450x375",
          "bad4: 0.13427733696482916<br>Experiment id:<br> ALG_005_EXP_002-PatchMatch-MacLean_et_al-Numba<br>Scene: cones<br>kernel size: 13x3<br>kernel spec: gauss_13_3<br>match:10<br>bad4: 0.13427733696482916<br>IMG res:450x375",
          "bad4: 0.11278017870294454<br>Experiment id:<br> ALG_005_EXP_002-PatchMatch-MacLean_et_al-Numba<br>Scene: cones<br>kernel size: 13x3<br>kernel spec: gauss_13_3<br>match:20<br>bad4: 0.11278017870294454<br>IMG res:450x375",
          "bad4: 0.11395439322985425<br>Experiment id:<br> ALG_005_EXP_002-PatchMatch-MacLean_et_al-Numba<br>Scene: cones<br>kernel size: 13x3<br>kernel spec: gauss_13_3<br>match:30<br>bad4: 0.11395439322985425<br>IMG res:450x375",
          "bad4: 0.12732237399774884<br>Experiment id:<br> ALG_005_EXP_002-PatchMatch-MacLean_et_al-Numba<br>Scene: cones<br>kernel size: 13x3<br>kernel spec: gauss_13_3<br>match:40<br>bad4: 0.12732237399774884<br>IMG res:450x375"
         ],
         "type": "scatter",
         "uid": "b3cf7c98-3fb9-482a-bb49-088565157612",
         "x": [
          10,
          20,
          30,
          40,
          10,
          20,
          30,
          40
         ],
         "y": {
          "dtype": "float64",
          "shape": [
           8
          ],
          "value": {}
         }
        }
       ],
       "_js2py_restyle": {},
       "_js2py_update": {},
       "_last_layout_edit_id": 1,
       "_layout": {
        "autosize": true,
        "legend": {
         "title": {
          "text": "kernel_spec"
         }
        },
        "template": {
         "data": {
          "bar": [
           {
            "error_x": {
             "color": "#2a3f5f"
            },
            "error_y": {
             "color": "#2a3f5f"
            },
            "marker": {
             "line": {
              "color": "#E5ECF6",
              "width": 0.5
             }
            },
            "type": "bar"
           }
          ],
          "barpolar": [
           {
            "marker": {
             "line": {
              "color": "#E5ECF6",
              "width": 0.5
             }
            },
            "type": "barpolar"
           }
          ],
          "carpet": [
           {
            "aaxis": {
             "endlinecolor": "#2a3f5f",
             "gridcolor": "white",
             "linecolor": "white",
             "minorgridcolor": "white",
             "startlinecolor": "#2a3f5f"
            },
            "baxis": {
             "endlinecolor": "#2a3f5f",
             "gridcolor": "white",
             "linecolor": "white",
             "minorgridcolor": "white",
             "startlinecolor": "#2a3f5f"
            },
            "type": "carpet"
           }
          ],
          "choropleth": [
           {
            "colorbar": {
             "outlinewidth": 0,
             "ticks": ""
            },
            "type": "choropleth"
           }
          ],
          "contour": [
           {
            "colorbar": {
             "outlinewidth": 0,
             "ticks": ""
            },
            "colorscale": [
             [
              0,
              "#0d0887"
             ],
             [
              0.1111111111111111,
              "#46039f"
             ],
             [
              0.2222222222222222,
              "#7201a8"
             ],
             [
              0.3333333333333333,
              "#9c179e"
             ],
             [
              0.4444444444444444,
              "#bd3786"
             ],
             [
              0.5555555555555556,
              "#d8576b"
             ],
             [
              0.6666666666666666,
              "#ed7953"
             ],
             [
              0.7777777777777778,
              "#fb9f3a"
             ],
             [
              0.8888888888888888,
              "#fdca26"
             ],
             [
              1,
              "#f0f921"
             ]
            ],
            "type": "contour"
           }
          ],
          "contourcarpet": [
           {
            "colorbar": {
             "outlinewidth": 0,
             "ticks": ""
            },
            "type": "contourcarpet"
           }
          ],
          "heatmap": [
           {
            "colorbar": {
             "outlinewidth": 0,
             "ticks": ""
            },
            "colorscale": [
             [
              0,
              "#0d0887"
             ],
             [
              0.1111111111111111,
              "#46039f"
             ],
             [
              0.2222222222222222,
              "#7201a8"
             ],
             [
              0.3333333333333333,
              "#9c179e"
             ],
             [
              0.4444444444444444,
              "#bd3786"
             ],
             [
              0.5555555555555556,
              "#d8576b"
             ],
             [
              0.6666666666666666,
              "#ed7953"
             ],
             [
              0.7777777777777778,
              "#fb9f3a"
             ],
             [
              0.8888888888888888,
              "#fdca26"
             ],
             [
              1,
              "#f0f921"
             ]
            ],
            "type": "heatmap"
           }
          ],
          "heatmapgl": [
           {
            "colorbar": {
             "outlinewidth": 0,
             "ticks": ""
            },
            "colorscale": [
             [
              0,
              "#0d0887"
             ],
             [
              0.1111111111111111,
              "#46039f"
             ],
             [
              0.2222222222222222,
              "#7201a8"
             ],
             [
              0.3333333333333333,
              "#9c179e"
             ],
             [
              0.4444444444444444,
              "#bd3786"
             ],
             [
              0.5555555555555556,
              "#d8576b"
             ],
             [
              0.6666666666666666,
              "#ed7953"
             ],
             [
              0.7777777777777778,
              "#fb9f3a"
             ],
             [
              0.8888888888888888,
              "#fdca26"
             ],
             [
              1,
              "#f0f921"
             ]
            ],
            "type": "heatmapgl"
           }
          ],
          "histogram": [
           {
            "marker": {
             "colorbar": {
              "outlinewidth": 0,
              "ticks": ""
             }
            },
            "type": "histogram"
           }
          ],
          "histogram2d": [
           {
            "colorbar": {
             "outlinewidth": 0,
             "ticks": ""
            },
            "colorscale": [
             [
              0,
              "#0d0887"
             ],
             [
              0.1111111111111111,
              "#46039f"
             ],
             [
              0.2222222222222222,
              "#7201a8"
             ],
             [
              0.3333333333333333,
              "#9c179e"
             ],
             [
              0.4444444444444444,
              "#bd3786"
             ],
             [
              0.5555555555555556,
              "#d8576b"
             ],
             [
              0.6666666666666666,
              "#ed7953"
             ],
             [
              0.7777777777777778,
              "#fb9f3a"
             ],
             [
              0.8888888888888888,
              "#fdca26"
             ],
             [
              1,
              "#f0f921"
             ]
            ],
            "type": "histogram2d"
           }
          ],
          "histogram2dcontour": [
           {
            "colorbar": {
             "outlinewidth": 0,
             "ticks": ""
            },
            "colorscale": [
             [
              0,
              "#0d0887"
             ],
             [
              0.1111111111111111,
              "#46039f"
             ],
             [
              0.2222222222222222,
              "#7201a8"
             ],
             [
              0.3333333333333333,
              "#9c179e"
             ],
             [
              0.4444444444444444,
              "#bd3786"
             ],
             [
              0.5555555555555556,
              "#d8576b"
             ],
             [
              0.6666666666666666,
              "#ed7953"
             ],
             [
              0.7777777777777778,
              "#fb9f3a"
             ],
             [
              0.8888888888888888,
              "#fdca26"
             ],
             [
              1,
              "#f0f921"
             ]
            ],
            "type": "histogram2dcontour"
           }
          ],
          "mesh3d": [
           {
            "colorbar": {
             "outlinewidth": 0,
             "ticks": ""
            },
            "type": "mesh3d"
           }
          ],
          "parcoords": [
           {
            "line": {
             "colorbar": {
              "outlinewidth": 0,
              "ticks": ""
             }
            },
            "type": "parcoords"
           }
          ],
          "pie": [
           {
            "automargin": true,
            "type": "pie"
           }
          ],
          "scatter": [
           {
            "marker": {
             "colorbar": {
              "outlinewidth": 0,
              "ticks": ""
             }
            },
            "type": "scatter"
           }
          ],
          "scatter3d": [
           {
            "line": {
             "colorbar": {
              "outlinewidth": 0,
              "ticks": ""
             }
            },
            "marker": {
             "colorbar": {
              "outlinewidth": 0,
              "ticks": ""
             }
            },
            "type": "scatter3d"
           }
          ],
          "scattercarpet": [
           {
            "marker": {
             "colorbar": {
              "outlinewidth": 0,
              "ticks": ""
             }
            },
            "type": "scattercarpet"
           }
          ],
          "scattergeo": [
           {
            "marker": {
             "colorbar": {
              "outlinewidth": 0,
              "ticks": ""
             }
            },
            "type": "scattergeo"
           }
          ],
          "scattergl": [
           {
            "marker": {
             "colorbar": {
              "outlinewidth": 0,
              "ticks": ""
             }
            },
            "type": "scattergl"
           }
          ],
          "scattermapbox": [
           {
            "marker": {
             "colorbar": {
              "outlinewidth": 0,
              "ticks": ""
             }
            },
            "type": "scattermapbox"
           }
          ],
          "scatterpolar": [
           {
            "marker": {
             "colorbar": {
              "outlinewidth": 0,
              "ticks": ""
             }
            },
            "type": "scatterpolar"
           }
          ],
          "scatterpolargl": [
           {
            "marker": {
             "colorbar": {
              "outlinewidth": 0,
              "ticks": ""
             }
            },
            "type": "scatterpolargl"
           }
          ],
          "scatterternary": [
           {
            "marker": {
             "colorbar": {
              "outlinewidth": 0,
              "ticks": ""
             }
            },
            "type": "scatterternary"
           }
          ],
          "surface": [
           {
            "colorbar": {
             "outlinewidth": 0,
             "ticks": ""
            },
            "colorscale": [
             [
              0,
              "#0d0887"
             ],
             [
              0.1111111111111111,
              "#46039f"
             ],
             [
              0.2222222222222222,
              "#7201a8"
             ],
             [
              0.3333333333333333,
              "#9c179e"
             ],
             [
              0.4444444444444444,
              "#bd3786"
             ],
             [
              0.5555555555555556,
              "#d8576b"
             ],
             [
              0.6666666666666666,
              "#ed7953"
             ],
             [
              0.7777777777777778,
              "#fb9f3a"
             ],
             [
              0.8888888888888888,
              "#fdca26"
             ],
             [
              1,
              "#f0f921"
             ]
            ],
            "type": "surface"
           }
          ],
          "table": [
           {
            "cells": {
             "fill": {
              "color": "#EBF0F8"
             },
             "line": {
              "color": "white"
             }
            },
            "header": {
             "fill": {
              "color": "#C8D4E3"
             },
             "line": {
              "color": "white"
             }
            },
            "type": "table"
           }
          ]
         },
         "layout": {
          "annotationdefaults": {
           "arrowcolor": "#2a3f5f",
           "arrowhead": 0,
           "arrowwidth": 1
          },
          "coloraxis": {
           "colorbar": {
            "outlinewidth": 0,
            "ticks": ""
           }
          },
          "colorscale": {
           "diverging": [
            [
             0,
             "#8e0152"
            ],
            [
             0.1,
             "#c51b7d"
            ],
            [
             0.2,
             "#de77ae"
            ],
            [
             0.3,
             "#f1b6da"
            ],
            [
             0.4,
             "#fde0ef"
            ],
            [
             0.5,
             "#f7f7f7"
            ],
            [
             0.6,
             "#e6f5d0"
            ],
            [
             0.7,
             "#b8e186"
            ],
            [
             0.8,
             "#7fbc41"
            ],
            [
             0.9,
             "#4d9221"
            ],
            [
             1,
             "#276419"
            ]
           ],
           "sequential": [
            [
             0,
             "#0d0887"
            ],
            [
             0.1111111111111111,
             "#46039f"
            ],
            [
             0.2222222222222222,
             "#7201a8"
            ],
            [
             0.3333333333333333,
             "#9c179e"
            ],
            [
             0.4444444444444444,
             "#bd3786"
            ],
            [
             0.5555555555555556,
             "#d8576b"
            ],
            [
             0.6666666666666666,
             "#ed7953"
            ],
            [
             0.7777777777777778,
             "#fb9f3a"
            ],
            [
             0.8888888888888888,
             "#fdca26"
            ],
            [
             1,
             "#f0f921"
            ]
           ],
           "sequentialminus": [
            [
             0,
             "#0d0887"
            ],
            [
             0.1111111111111111,
             "#46039f"
            ],
            [
             0.2222222222222222,
             "#7201a8"
            ],
            [
             0.3333333333333333,
             "#9c179e"
            ],
            [
             0.4444444444444444,
             "#bd3786"
            ],
            [
             0.5555555555555556,
             "#d8576b"
            ],
            [
             0.6666666666666666,
             "#ed7953"
            ],
            [
             0.7777777777777778,
             "#fb9f3a"
            ],
            [
             0.8888888888888888,
             "#fdca26"
            ],
            [
             1,
             "#f0f921"
            ]
           ]
          },
          "colorway": [
           "#636efa",
           "#EF553B",
           "#00cc96",
           "#ab63fa",
           "#FFA15A",
           "#19d3f3",
           "#FF6692",
           "#B6E880",
           "#FF97FF",
           "#FECB52"
          ],
          "font": {
           "color": "#2a3f5f"
          },
          "geo": {
           "bgcolor": "white",
           "lakecolor": "white",
           "landcolor": "#E5ECF6",
           "showlakes": true,
           "showland": true,
           "subunitcolor": "white"
          },
          "hoverlabel": {
           "align": "left"
          },
          "hovermode": "closest",
          "mapbox": {
           "style": "light"
          },
          "paper_bgcolor": "white",
          "plot_bgcolor": "#E5ECF6",
          "polar": {
           "angularaxis": {
            "gridcolor": "white",
            "linecolor": "white",
            "ticks": ""
           },
           "bgcolor": "#E5ECF6",
           "radialaxis": {
            "gridcolor": "white",
            "linecolor": "white",
            "ticks": ""
           }
          },
          "scene": {
           "xaxis": {
            "backgroundcolor": "#E5ECF6",
            "gridcolor": "white",
            "gridwidth": 2,
            "linecolor": "white",
            "showbackground": true,
            "ticks": "",
            "zerolinecolor": "white"
           },
           "yaxis": {
            "backgroundcolor": "#E5ECF6",
            "gridcolor": "white",
            "gridwidth": 2,
            "linecolor": "white",
            "showbackground": true,
            "ticks": "",
            "zerolinecolor": "white"
           },
           "zaxis": {
            "backgroundcolor": "#E5ECF6",
            "gridcolor": "white",
            "gridwidth": 2,
            "linecolor": "white",
            "showbackground": true,
            "ticks": "",
            "zerolinecolor": "white"
           }
          },
          "shapedefaults": {
           "line": {
            "color": "#2a3f5f"
           }
          },
          "ternary": {
           "aaxis": {
            "gridcolor": "white",
            "linecolor": "white",
            "ticks": ""
           },
           "baxis": {
            "gridcolor": "white",
            "linecolor": "white",
            "ticks": ""
           },
           "bgcolor": "#E5ECF6",
           "caxis": {
            "gridcolor": "white",
            "linecolor": "white",
            "ticks": ""
           }
          },
          "title": {
           "x": 0.05
          },
          "xaxis": {
           "automargin": true,
           "gridcolor": "white",
           "linecolor": "white",
           "ticks": "",
           "title": {
            "standoff": 15
           },
           "zerolinecolor": "white",
           "zerolinewidth": 2
          },
          "yaxis": {
           "automargin": true,
           "gridcolor": "white",
           "linecolor": "white",
           "ticks": "",
           "title": {
            "standoff": 15
           },
           "zerolinecolor": "white",
           "zerolinewidth": 2
          }
         }
        },
        "xaxis": {
         "showspikes": true
        },
        "yaxis": {
         "showspikes": true
        }
       },
       "_model_module_version": "4.6.0",
       "_py2js_addTraces": {},
       "_py2js_animate": {},
       "_py2js_deleteTraces": {},
       "_py2js_moveTraces": {},
       "_py2js_removeLayoutProps": {},
       "_py2js_removeTraceProps": {},
       "_py2js_restyle": {},
       "_py2js_update": {},
       "_view_count": 0,
       "_view_module_version": "4.6.0"
      }
     },
     "807d0e0e10864c6691898775ef0397e6": {
      "model_module": "@jupyter-widgets/controls",
      "model_module_version": "1.5.0",
      "model_name": "DescriptionStyleModel",
      "state": {
       "description_width": ""
      }
     },
     "8746fd06a4824c75bf2e302a33166528": {
      "model_module": "@jupyter-widgets/controls",
      "model_module_version": "1.5.0",
      "model_name": "DropdownModel",
      "state": {
       "_options_labels": [
        "On",
        "Off"
       ],
       "description": "Turn plots:",
       "index": 1,
       "layout": "IPY_MODEL_45c34905b3314394966f3c022d2d39b0",
       "style": "IPY_MODEL_3108d0bef33d4ed28dc6419b5f7605ec"
      }
     },
     "8b0a2ff8373e444fad0d0d8849e22002": {
      "model_module": "@jupyter-widgets/base",
      "model_module_version": "1.2.0",
      "model_name": "LayoutModel",
      "state": {
       "height": "375px",
       "width": "450px"
      }
     },
     "8fefb8bb9f794381a2d6fb4c71abf5d5": {
      "model_module": "@jupyter-widgets/base",
      "model_module_version": "1.2.0",
      "model_name": "LayoutModel",
      "state": {
       "height": "375px",
       "width": "450px"
      }
     },
     "9318b50a4cee4c8b923a4abe0b7aec45": {
      "model_module": "@jupyter-widgets/base",
      "model_module_version": "1.2.0",
      "model_name": "LayoutModel",
      "state": {}
     },
     "95f73f85174348fdb4cbd01cf2e52468": {
      "model_module": "@jupyter-widgets/controls",
      "model_module_version": "1.5.0",
      "model_name": "DescriptionStyleModel",
      "state": {
       "description_width": ""
      }
     },
     "9af4df2962e34757afbdd1eb7463ed68": {
      "model_module": "@jupyter-widgets/base",
      "model_module_version": "1.2.0",
      "model_name": "LayoutModel",
      "state": {
       "height": "375px",
       "width": "450px"
      }
     },
     "9b86532e93194933a39f5314b2093520": {
      "model_module": "@jupyter-widgets/base",
      "model_module_version": "1.2.0",
      "model_name": "LayoutModel",
      "state": {}
     },
     "9bd8a153b2314f169445282075eb8575": {
      "model_module": "@jupyter-widgets/base",
      "model_module_version": "1.2.0",
      "model_name": "LayoutModel",
      "state": {
       "height": "375px",
       "width": "450px"
      }
     },
     "a859627a6e07482bb9cb5f863cf267d2": {
      "model_module": "@jupyter-widgets/controls",
      "model_module_version": "1.5.0",
      "model_name": "HBoxModel",
      "state": {
       "children": [
        "IPY_MODEL_03c003940c5046bb90af97a2d124ffb7",
        "IPY_MODEL_0006206f144d40848d13332dbec6c103"
       ],
       "layout": "IPY_MODEL_6e2c21f1b3cc46c3b3b02e00c6cb40a1"
      }
     },
     "a8f3539a6cac45a29b1a5488bf45d87e": {
      "model_module": "@jupyter-widgets/base",
      "model_module_version": "1.2.0",
      "model_name": "LayoutModel",
      "state": {}
     },
     "bc28d311d6a1453badf734611f7737ba": {
      "model_module": "@jupyter-widgets/controls",
      "model_module_version": "1.5.0",
      "model_name": "VBoxModel",
      "state": {
       "children": [
        "IPY_MODEL_0ecae684f08744a195852053b941277b",
        "IPY_MODEL_f7a06d6868ae48beae57d33432b5f146",
        "IPY_MODEL_be57f20b255f4c0b9023f112d373d611"
       ],
       "layout": "IPY_MODEL_7a47b781b0b043dbba39f9d785a50511"
      }
     },
     "bda3bdb4f9054f8288a3d41753004ee6": {
      "buffers": [
       {
        "data": "Bi/nv0XLwT8GL+e/RcvBP8kxT76FrL0/F+MZ6b76vj+Wi87JpRzBPwYv579Fy8E/yTFPvoWsvT8X4xnpvvq+P5aLzsmlHME/",
        "encoding": "base64",
        "path": [
         "_data",
         0,
         "y",
         "value"
        ]
       },
       {
        "data": "7tf/Q09C0D+/QXD0NVPTP2vhDovKSNY/i0GYcOdn2D8=",
        "encoding": "base64",
        "path": [
         "_data",
         1,
         "y",
         "value"
        ]
       },
       {
        "data": "zhrWEgPgzz8H3+5cHEHTP3bOkf/6WdY/yoW115lW2D8=",
        "encoding": "base64",
        "path": [
         "_data",
         2,
         "y",
         "value"
        ]
       },
       {
        "data": "vb6KUufa0z8OHduSGpbXP366KEUdVNk/s+N7Qu372j8=",
        "encoding": "base64",
        "path": [
         "_data",
         3,
         "y",
         "value"
        ]
       },
       {
        "data": "1rG7Eio3xz97aX1+AdTMP9R0gkAe2NA/gQPlBQU00z8=",
        "encoding": "base64",
        "path": [
         "_data",
         4,
         "y",
         "value"
        ]
       },
       {
        "data": "eKgmdx5k0D8dg4V/e2zTP3j21OXzfdY/WbfXcyR72D8=",
        "encoding": "base64",
        "path": [
         "_data",
         5,
         "y",
         "value"
        ]
       },
       {
        "data": "qUNcEKsL0D8c7BpQvnLTP3RcIfp1nNY/gXxY4q962D8=",
        "encoding": "base64",
        "path": [
         "_data",
         6,
         "y",
         "value"
        ]
       },
       {
        "data": "AcXXVizw0j+b9hXGR5DWP8NiitFLLdk/+JGoErnF2T8=",
        "encoding": "base64",
        "path": [
         "_data",
         7,
         "y",
         "value"
        ]
       },
       {
        "data": "CbFunE7qxT8z7BkrxEjLP5rGhNxB6s8/tyrbdSIL0j8=",
        "encoding": "base64",
        "path": [
         "_data",
         8,
         "y",
         "value"
        ]
       },
       {
        "data": "G6oom+D6zz+SeabJ6WvTP6iOwcK/PdY/KGkYtuRU2D8=",
        "encoding": "base64",
        "path": [
         "_data",
         9,
         "y",
         "value"
        ]
       },
       {
        "data": "G6oom+D6zz+SeabJ6WvTP6iOwcK/PdY/KGkYtuRU2D8=",
        "encoding": "base64",
        "path": [
         "_data",
         10,
         "y",
         "value"
        ]
       },
       {
        "data": "C5IG65d91T/medLG6snYPwJ/K4fp1tk/G1VRIyiX3z8=",
        "encoding": "base64",
        "path": [
         "_data",
         11,
         "y",
         "value"
        ]
       },
       {
        "data": "tagtZ1wryT89MJjZQ23PP3881lPjM9I/x4BIWUK/1D8=",
        "encoding": "base64",
        "path": [
         "_data",
         12,
         "y",
         "value"
        ]
       },
       {
        "data": "p3C31k4qwT+ncLfWTirBP6/lEZu77bw/OUcRhcY5vT9lLNM6uFzAP6dwt9ZOKsE/r+URm7vtvD85RxGFxjm9P2Us0zq4XMA/",
        "encoding": "base64",
        "path": [
         "_data",
         13,
         "y",
         "value"
        ]
       },
       {
        "data": "PuQzX8LDwT8+5DNfwsPBP1yak4QEvrs/s0BCwNn/vT+CXPFojJbAPz7kM1/Cw8E/XJqThAS+uz+zQELA2f+9P4Jc8WiMlsA/",
        "encoding": "base64",
        "path": [
         "_data",
         14,
         "y",
         "value"
        ]
       },
       {
        "data": "GtKkTPU/vz9m+xxXiH69P3i85M+oBsA/BN8nKDhiwj8=",
        "encoding": "base64",
        "path": [
         "_data",
         15,
         "y",
         "value"
        ]
       },
       {
        "data": "j8nX9y4XwT8kMb74Z8/DP+YkNBpOh8c/73knZZdmyz8=",
        "encoding": "base64",
        "path": [
         "_data",
         16,
         "y",
         "value"
        ]
       },
       {
        "data": "j8nX9y4XwT8kMb74Z8/DP+YkNBpOh8c/73knZZdmyz8=",
        "encoding": "base64",
        "path": [
         "_data",
         17,
         "y",
         "value"
        ]
       },
       {
        "data": "a2PPMu+I6T8AAAAAAADwPwAAAAAAAPA/AAAAAAAA8D8=",
        "encoding": "base64",
        "path": [
         "_data",
         18,
         "y",
         "value"
        ]
       },
       {
        "data": "qm40F9+Y6T8AAAAAAADwPwAAAAAAAPA/AAAAAAAA8D8=",
        "encoding": "base64",
        "path": [
         "_data",
         19,
         "y",
         "value"
        ]
       },
       {
        "data": "5Yo0ylUk7j8AAAAAAADwPwAAAAAAAPA/AAAAAAAA8D8=",
        "encoding": "base64",
        "path": [
         "_data",
         20,
         "y",
         "value"
        ]
       },
       {
        "data": "LkWrveFN4T9hMcXopZbsPwAAAAAAAPA/AAAAAAAA8D8=",
        "encoding": "base64",
        "path": [
         "_data",
         21,
         "y",
         "value"
        ]
       },
       {
        "data": "GdBt8f8vwT8Z0G3x/y/BP/CKKmsp37w/KWIoeB0svT/lSC98GUzAPxnQbfH/L8E/8IoqaynfvD8pYih4HSy9P+VIL3wZTMA/",
        "encoding": "base64",
        "path": [
         "_data",
         22,
         "y",
         "value"
        ]
       },
       {
        "data": "R7KH7VeJwD/4zKqJzxTCP2a5BHDtRcU/rferMa/gyD8=",
        "encoding": "base64",
        "path": [
         "_data",
         23,
         "y",
         "value"
        ]
       },
       {
        "data": "3xSP2QFowT9iXtRKzzPEPzvAccgSIMg/z68cgCkqzD8=",
        "encoding": "base64",
        "path": [
         "_data",
         24,
         "y",
         "value"
        ]
       },
       {
        "data": "3xSP2QFowT9iXtRKzzPEPzvAccgSIMg/z68cgCkqzD8=",
        "encoding": "base64",
        "path": [
         "_data",
         25,
         "y",
         "value"
        ]
       },
       {
        "data": "R7KH7VeJwD/4zKqJzxTCP2a5BHDtRcU/rferMa/gyD8=",
        "encoding": "base64",
        "path": [
         "_data",
         26,
         "y",
         "value"
        ]
       },
       {
        "data": "lBlexCBfwT9x7ld29x/CP70n51cOwMQ/7tW1T/vRxz8=",
        "encoding": "base64",
        "path": [
         "_data",
         27,
         "y",
         "value"
        ]
       },
       {
        "data": "fHJ+5QBMwT+T2tr9wI/CPwNyXWwmXcU/BKrw9L4DyT8=",
        "encoding": "base64",
        "path": [
         "_data",
         28,
         "y",
         "value"
        ]
       },
       {
        "data": "GdBt8f8vwT8Z0G3x/y/BP/CKKmsp37w/KWIoeB0svT/lSC98GUzAPxnQbfH/L8E/8IoqaynfvD8pYih4HSy9P+VIL3wZTMA/",
        "encoding": "base64",
        "path": [
         "_data",
         29,
         "y",
         "value"
        ]
       },
       {
        "data": "GdBt8f8vwT/wiiprKd+8PyliKHgdLL0/5UgvfBlMwD8Z0G3x/y/BP/CKKmsp37w/KWIoeB0svT/lSC98GUzAPw==",
        "encoding": "base64",
        "path": [
         "_data",
         30,
         "y",
         "value"
        ]
       }
      ],
      "model_module": "plotlywidget",
      "model_module_version": "4.6.0",
      "model_name": "FigureModel",
      "state": {
       "_config": {
        "plotlyServerURL": "https://plot.ly"
       },
       "_data": [
        {
         "hovertemplate": "%{text}",
         "name": "gauss_3_3",
         "showlegend": true,
         "text": [
          "bad4: 0.13901588316218055<br>Experiment id:<br> ALG_005_EXP_002-PatchMatch-MacLean_et_al-Numba<br>Scene: cones<br>kernel size: 3x3<br>kernel spec: gauss_3_3<br>match:10<br>bad4: 0.13901588316218055<br>IMG res:450x375",
          "bad4: 0.13901588316218055<br>Experiment id:<br> ALG_005_EXP_002-PatchMatch-MacLean_et_al-Numba<br>Scene: cones<br>kernel size: 3x3<br>kernel spec: gauss_3_3<br>match:10<br>bad4: 0.13901588316218055<br>IMG res:450x375",
          "bad4: 0.11591373344635438<br>Experiment id:<br> ALG_005_EXP_002-PatchMatch-MacLean_et_al-Numba<br>Scene: cones<br>kernel size: 3x3<br>kernel spec: gauss_3_3<br>match:20<br>bad4: 0.11591373344635438<br>IMG res:450x375",
          "bad4: 0.12101357642121645<br>Experiment id:<br> ALG_005_EXP_002-PatchMatch-MacLean_et_al-Numba<br>Scene: cones<br>kernel size: 3x3<br>kernel spec: gauss_3_3<br>match:30<br>bad4: 0.12101357642121645<br>IMG res:450x375",
          "bad4: 0.13368675569389826<br>Experiment id:<br> ALG_005_EXP_002-PatchMatch-MacLean_et_al-Numba<br>Scene: cones<br>kernel size: 3x3<br>kernel spec: gauss_3_3<br>match:40<br>bad4: 0.13368675569389826<br>IMG res:450x375",
          "bad4: 0.13901588316218055<br>Experiment id:<br> ALG_005_EXP_002-PatchMatch-MacLean_et_al-Numba<br>Scene: cones<br>kernel size: 3x3<br>kernel spec: gauss_3_3<br>match:10<br>bad4: 0.13901588316218055<br>IMG res:450x375",
          "bad4: 0.11591373344635438<br>Experiment id:<br> ALG_005_EXP_002-PatchMatch-MacLean_et_al-Numba<br>Scene: cones<br>kernel size: 3x3<br>kernel spec: gauss_3_3<br>match:20<br>bad4: 0.11591373344635438<br>IMG res:450x375",
          "bad4: 0.12101357642121645<br>Experiment id:<br> ALG_005_EXP_002-PatchMatch-MacLean_et_al-Numba<br>Scene: cones<br>kernel size: 3x3<br>kernel spec: gauss_3_3<br>match:30<br>bad4: 0.12101357642121645<br>IMG res:450x375",
          "bad4: 0.13368675569389826<br>Experiment id:<br> ALG_005_EXP_002-PatchMatch-MacLean_et_al-Numba<br>Scene: cones<br>kernel size: 3x3<br>kernel spec: gauss_3_3<br>match:40<br>bad4: 0.13368675569389826<br>IMG res:450x375"
         ],
         "type": "scatter",
         "uid": "fb8acd50-2a68-43e3-bd46-9ad88359c47a",
         "visible": "legendonly",
         "x": [
          10,
          10,
          20,
          30,
          40,
          10,
          20,
          30,
          40
         ],
         "y": {
          "dtype": "float64",
          "shape": [
           9
          ],
          "value": {}
         }
        },
        {
         "hovertemplate": "%{text}",
         "name": "hsobel",
         "showlegend": true,
         "text": [
          "bad4: 0.25404721870961466<br>Experiment id:<br> ALG_005_EXP_002-PatchMatch-MacLean_et_al-Numba<br>Scene: cones<br>kernel size: 3x3<br>kernel spec: hsobel<br>match:10<br>bad4: 0.25404721870961466<br>IMG res:450x375",
          "bad4: 0.3019537818045385<br>Experiment id:<br> ALG_005_EXP_002-PatchMatch-MacLean_et_al-Numba<br>Scene: cones<br>kernel size: 3x3<br>kernel spec: hsobel<br>match:20<br>bad4: 0.3019537818045385<br>IMG res:450x375",
          "bad4: 0.3481928213109515<br>Experiment id:<br> ALG_005_EXP_002-PatchMatch-MacLean_et_al-Numba<br>Scene: cones<br>kernel size: 3x3<br>kernel spec: hsobel<br>match:30<br>bad4: 0.3481928213109515<br>IMG res:450x375",
          "bad4: 0.381341800647555<br>Experiment id:<br> ALG_005_EXP_002-PatchMatch-MacLean_et_al-Numba<br>Scene: cones<br>kernel size: 3x3<br>kernel spec: hsobel<br>match:40<br>bad4: 0.381341800647555<br>IMG res:450x375"
         ],
         "type": "scatter",
         "uid": "7fbc07cf-17cd-41a6-b7ce-b2c6db3dc29a",
         "visible": true,
         "x": [
          10,
          20,
          30,
          40
         ],
         "y": {
          "dtype": "float64",
          "shape": [
           4
          ],
          "value": {}
         }
        },
        {
         "hovertemplate": "%{text}",
         "name": "vsobel",
         "showlegend": true,
         "text": [
          "bad4: 0.24902380389922602<br>Experiment id:<br> ALG_005_EXP_002-PatchMatch-MacLean_et_al-Numba<br>Scene: cones<br>kernel size: 3x3<br>kernel spec: vsobel<br>match:10<br>bad4: 0.24902380389922602<br>IMG res:450x375",
          "bad4: 0.3008490474271501<br>Experiment id:<br> ALG_005_EXP_002-PatchMatch-MacLean_et_al-Numba<br>Scene: cones<br>kernel size: 3x3<br>kernel spec: vsobel<br>match:20<br>bad4: 0.3008490474271501<br>IMG res:450x375",
          "bad4: 0.34924197156872283<br>Experiment id:<br> ALG_005_EXP_002-PatchMatch-MacLean_et_al-Numba<br>Scene: cones<br>kernel size: 3x3<br>kernel spec: vsobel<br>match:30<br>bad4: 0.34924197156872283<br>IMG res:450x375",
          "bad4: 0.3802857023748315<br>Experiment id:<br> ALG_005_EXP_002-PatchMatch-MacLean_et_al-Numba<br>Scene: cones<br>kernel size: 3x3<br>kernel spec: vsobel<br>match:40<br>bad4: 0.3802857023748315<br>IMG res:450x375"
         ],
         "type": "scatter",
         "uid": "b7443b08-d6db-456c-93f7-99d911f1658b",
         "visible": true,
         "x": [
          10,
          20,
          30,
          40
         ],
         "y": {
          "dtype": "float64",
          "shape": [
           4
          ],
          "value": {}
         }
        },
        {
         "hovertemplate": "%{text}",
         "name": "hvsobel_div2",
         "showlegend": true,
         "text": [
          "bad4: 0.3102358156274752<br>Experiment id:<br> ALG_005_EXP_002-PatchMatch-MacLean_et_al-Numba<br>Scene: cones<br>kernel size: 3x3<br>kernel spec: hvsobel_div2<br>match:10<br>bad4: 0.3102358156274752<br>IMG res:450x375",
          "bad4: 0.3685366090907828<br>Experiment id:<br> ALG_005_EXP_002-PatchMatch-MacLean_et_al-Numba<br>Scene: cones<br>kernel size: 3x3<br>kernel spec: hvsobel_div2<br>match:20<br>bad4: 0.3685366090907828<br>IMG res:450x375",
          "bad4: 0.39575893167322096<br>Experiment id:<br> ALG_005_EXP_002-PatchMatch-MacLean_et_al-Numba<br>Scene: cones<br>kernel size: 3x3<br>kernel spec: hvsobel_div2<br>match:30<br>bad4: 0.39575893167322096<br>IMG res:450x375",
          "bad4: 0.4216263913399942<br>Experiment id:<br> ALG_005_EXP_002-PatchMatch-MacLean_et_al-Numba<br>Scene: cones<br>kernel size: 3x3<br>kernel spec: hvsobel_div2<br>match:40<br>bad4: 0.4216263913399942<br>IMG res:450x375"
         ],
         "type": "scatter",
         "uid": "bc1c4f4f-42f7-4eff-9e1b-5b7c218a4fdb",
         "visible": true,
         "x": [
          10,
          20,
          30,
          40
         ],
         "y": {
          "dtype": "float64",
          "shape": [
           4
          ],
          "value": {}
         }
        },
        {
         "hovertemplate": "%{text}",
         "name": "hvsobel_div",
         "showlegend": true,
         "text": [
          "bad4: 0.18137098231035392<br>Experiment id:<br> ALG_005_EXP_002-PatchMatch-MacLean_et_al-Numba<br>Scene: cones<br>kernel size: 3x3<br>kernel spec: hvsobel_div<br>match:10<br>bad4: 0.18137098231035392<br>IMG res:450x375",
          "bad4: 0.2252199046732349<br>Experiment id:<br> ALG_005_EXP_002-PatchMatch-MacLean_et_al-Numba<br>Scene: cones<br>kernel size: 3x3<br>kernel spec: hvsobel_div<br>match:20<br>bad4: 0.2252199046732349<br>IMG res:450x375",
          "bad4: 0.2631908063866153<br>Experiment id:<br> ALG_005_EXP_002-PatchMatch-MacLean_et_al-Numba<br>Scene: cones<br>kernel size: 3x3<br>kernel spec: hvsobel_div<br>match:30<br>bad4: 0.2631908063866153<br>IMG res:450x375",
          "bad4: 0.3000500257076553<br>Experiment id:<br> ALG_005_EXP_002-PatchMatch-MacLean_et_al-Numba<br>Scene: cones<br>kernel size: 3x3<br>kernel spec: hvsobel_div<br>match:40<br>bad4: 0.3000500257076553<br>IMG res:450x375"
         ],
         "type": "scatter",
         "uid": "a7508d15-feb5-4b5c-8d1e-a5e3f85594f1",
         "visible": true,
         "x": [
          10,
          20,
          30,
          40
         ],
         "y": {
          "dtype": "float64",
          "shape": [
           4
          ],
          "value": {}
         }
        },
        {
         "hovertemplate": "%{text}",
         "name": "hscharr",
         "showlegend": true,
         "text": [
          "bad4: 0.2561107791503967<br>Experiment id:<br> ALG_005_EXP_002-PatchMatch-MacLean_et_al-Numba<br>Scene: cones<br>kernel size: 3x3<br>kernel spec: hscharr<br>match:10<br>bad4: 0.2561107791503967<br>IMG res:450x375",
          "bad4: 0.3034962411239109<br>Experiment id:<br> ALG_005_EXP_002-PatchMatch-MacLean_et_al-Numba<br>Scene: cones<br>kernel size: 3x3<br>kernel spec: hscharr<br>match:20<br>bad4: 0.3034962411239109<br>IMG res:450x375",
          "bad4: 0.3514375442935953<br>Experiment id:<br> ALG_005_EXP_002-PatchMatch-MacLean_et_al-Numba<br>Scene: cones<br>kernel size: 3x3<br>kernel spec: hscharr<br>match:30<br>bad4: 0.3514375442935953<br>IMG res:450x375",
          "bad4: 0.3825160151744647<br>Experiment id:<br> ALG_005_EXP_002-PatchMatch-MacLean_et_al-Numba<br>Scene: cones<br>kernel size: 3x3<br>kernel spec: hscharr<br>match:40<br>bad4: 0.3825160151744647<br>IMG res:450x375"
         ],
         "type": "scatter",
         "uid": "96ab307e-8738-47f9-adb1-f6fe747b4317",
         "visible": true,
         "x": [
          10,
          20,
          30,
          40
         ],
         "y": {
          "dtype": "float64",
          "shape": [
           4
          ],
          "value": {}
         }
        },
        {
         "hovertemplate": "%{text}",
         "name": "vscharr",
         "showlegend": true,
         "text": [
          "bad4: 0.2507121715325931<br>Experiment id:<br> ALG_005_EXP_002-PatchMatch-MacLean_et_al-Numba<br>Scene: cones<br>kernel size: 3x3<br>kernel spec: vscharr<br>match:10<br>bad4: 0.2507121715325931<br>IMG res:450x375",
          "bad4: 0.30387838194627803<br>Experiment id:<br> ALG_005_EXP_002-PatchMatch-MacLean_et_al-Numba<br>Scene: cones<br>kernel size: 3x3<br>kernel spec: vscharr<br>match:20<br>bad4: 0.30387838194627803<br>IMG res:450x375",
          "bad4: 0.3532996123007657<br>Experiment id:<br> ALG_005_EXP_002-PatchMatch-MacLean_et_al-Numba<br>Scene: cones<br>kernel size: 3x3<br>kernel spec: vscharr<br>match:30<br>bad4: 0.3532996123007657<br>IMG res:450x375",
          "bad4: 0.3824882231146561<br>Experiment id:<br> ALG_005_EXP_002-PatchMatch-MacLean_et_al-Numba<br>Scene: cones<br>kernel size: 3x3<br>kernel spec: vscharr<br>match:40<br>bad4: 0.3824882231146561<br>IMG res:450x375"
         ],
         "type": "scatter",
         "uid": "9ef4755e-1003-47b2-8ae2-88a123791144",
         "visible": true,
         "x": [
          10,
          20,
          30,
          40
         ],
         "y": {
          "dtype": "float64",
          "shape": [
           4
          ],
          "value": {}
         }
        },
        {
         "hovertemplate": "%{text}",
         "name": "hvscharr_div2",
         "showlegend": true,
         "text": [
          "bad4: 0.2959090087961869<br>Experiment id:<br> ALG_005_EXP_002-PatchMatch-MacLean_et_al-Numba<br>Scene: cones<br>kernel size: 3x3<br>kernel spec: hvscharr_div2<br>match:10<br>bad4: 0.2959090087961869<br>IMG res:450x375",
          "bad4: 0.352556174700888<br>Experiment id:<br> ALG_005_EXP_002-PatchMatch-MacLean_et_al-Numba<br>Scene: cones<br>kernel size: 3x3<br>kernel spec: hvscharr_div2<br>match:20<br>bad4: 0.352556174700888<br>IMG res:450x375",
          "bad4: 0.3933896585745453<br>Experiment id:<br> ALG_005_EXP_002-PatchMatch-MacLean_et_al-Numba<br>Scene: cones<br>kernel size: 3x3<br>kernel spec: hvscharr_div2<br>match:30<br>bad4: 0.3933896585745453<br>IMG res:450x375",
          "bad4: 0.4026930505954449<br>Experiment id:<br> ALG_005_EXP_002-PatchMatch-MacLean_et_al-Numba<br>Scene: cones<br>kernel size: 3x3<br>kernel spec: hvscharr_div2<br>match:40<br>bad4: 0.4026930505954449<br>IMG res:450x375"
         ],
         "type": "scatter",
         "uid": "a29bc4a2-f61b-4b71-9a7f-70eec48a2970",
         "visible": true,
         "x": [
          10,
          20,
          30,
          40
         ],
         "y": {
          "dtype": "float64",
          "shape": [
           4
          ],
          "value": {}
         }
        },
        {
         "hovertemplate": "%{text}",
         "name": "hvscharr",
         "showlegend": true,
         "text": [
          "bad4: 0.17121298445034253<br>Experiment id:<br> ALG_005_EXP_002-PatchMatch-MacLean_et_al-Numba<br>Scene: cones<br>kernel size: 3x3<br>kernel spec: hvscharr<br>match:10<br>bad4: 0.17121298445034253<br>IMG res:450x375",
          "bad4: 0.21315815071634034<br>Experiment id:<br> ALG_005_EXP_002-PatchMatch-MacLean_et_al-Numba<br>Scene: cones<br>kernel size: 3x3<br>kernel spec: hvscharr<br>match:20<br>bad4: 0.21315815071634034<br>IMG res:450x375",
          "bad4: 0.24933646457207176<br>Experiment id:<br> ALG_005_EXP_002-PatchMatch-MacLean_et_al-Numba<br>Scene: cones<br>kernel size: 3x3<br>kernel spec: hvscharr<br>match:30<br>bad4: 0.24933646457207176<br>IMG res:450x375",
          "bad4: 0.28192960271250506<br>Experiment id:<br> ALG_005_EXP_002-PatchMatch-MacLean_et_al-Numba<br>Scene: cones<br>kernel size: 3x3<br>kernel spec: hvscharr<br>match:40<br>bad4: 0.28192960271250506<br>IMG res:450x375"
         ],
         "type": "scatter",
         "uid": "5b4bb43c-1ea0-4981-871f-42b6915cab5d",
         "visible": true,
         "x": [
          10,
          20,
          30,
          40
         ],
         "y": {
          "dtype": "float64",
          "shape": [
           4
          ],
          "value": {}
         }
        },
        {
         "hovertemplate": "%{text}",
         "name": "hprewitt",
         "showlegend": true,
         "text": [
          "bad4: 0.24984366966357716<br>Experiment id:<br> ALG_005_EXP_002-PatchMatch-MacLean_et_al-Numba<br>Scene: cones<br>kernel size: 3x3<br>kernel spec: hprewitt<br>match:10<br>bad4: 0.24984366966357716<br>IMG res:450x375",
          "bad4: 0.30346150104915026<br>Experiment id:<br> ALG_005_EXP_002-PatchMatch-MacLean_et_al-Numba<br>Scene: cones<br>kernel size: 3x3<br>kernel spec: hprewitt<br>match:20<br>bad4: 0.30346150104915026<br>IMG res:450x375",
          "bad4: 0.34751886386059505<br>Experiment id:<br> ALG_005_EXP_002-PatchMatch-MacLean_et_al-Numba<br>Scene: cones<br>kernel size: 3x3<br>kernel spec: hprewitt<br>match:30<br>bad4: 0.34751886386059505<br>IMG res:450x375",
          "bad4: 0.3801814821505496<br>Experiment id:<br> ALG_005_EXP_002-PatchMatch-MacLean_et_al-Numba<br>Scene: cones<br>kernel size: 3x3<br>kernel spec: hprewitt<br>match:40<br>bad4: 0.3801814821505496<br>IMG res:450x375"
         ],
         "type": "scatter",
         "uid": "44c61b5f-7af8-4948-b3a0-f4f59f5a3e50",
         "visible": true,
         "x": [
          10,
          20,
          30,
          40
         ],
         "y": {
          "dtype": "float64",
          "shape": [
           4
          ],
          "value": {}
         }
        },
        {
         "hovertemplate": "%{text}",
         "name": "vprewitt",
         "showlegend": true,
         "text": [
          "bad4: 0.24984366966357716<br>Experiment id:<br> ALG_005_EXP_002-PatchMatch-MacLean_et_al-Numba<br>Scene: cones<br>kernel size: 3x3<br>kernel spec: vprewitt<br>match:10<br>bad4: 0.24984366966357716<br>IMG res:450x375",
          "bad4: 0.30346150104915026<br>Experiment id:<br> ALG_005_EXP_002-PatchMatch-MacLean_et_al-Numba<br>Scene: cones<br>kernel size: 3x3<br>kernel spec: vprewitt<br>match:20<br>bad4: 0.30346150104915026<br>IMG res:450x375",
          "bad4: 0.34751886386059505<br>Experiment id:<br> ALG_005_EXP_002-PatchMatch-MacLean_et_al-Numba<br>Scene: cones<br>kernel size: 3x3<br>kernel spec: vprewitt<br>match:30<br>bad4: 0.34751886386059505<br>IMG res:450x375",
          "bad4: 0.3801814821505496<br>Experiment id:<br> ALG_005_EXP_002-PatchMatch-MacLean_et_al-Numba<br>Scene: cones<br>kernel size: 3x3<br>kernel spec: vprewitt<br>match:40<br>bad4: 0.3801814821505496<br>IMG res:450x375"
         ],
         "type": "scatter",
         "uid": "64fc2140-5aba-4dbf-b3d2-c8dc2c78d25d",
         "visible": true,
         "x": [
          10,
          20,
          30,
          40
         ],
         "y": {
          "dtype": "float64",
          "shape": [
           4
          ],
          "value": {}
         }
        },
        {
         "hovertemplate": "%{text}",
         "name": "hvprewitt_div2",
         "showlegend": true,
         "text": [
          "bad4: 0.33579061462140264<br>Experiment id:<br> ALG_005_EXP_002-PatchMatch-MacLean_et_al-Numba<br>Scene: cones<br>kernel size: 3x3<br>kernel spec: hvprewitt_div2<br>match:10<br>bad4: 0.33579061462140264<br>IMG res:450x375",
          "bad4: 0.38732404152133737<br>Experiment id:<br> ALG_005_EXP_002-PatchMatch-MacLean_et_al-Numba<br>Scene: cones<br>kernel size: 3x3<br>kernel spec: hvprewitt_div2<br>match:20<br>bad4: 0.38732404152133737<br>IMG res:450x375",
          "bad4: 0.4037422008532162<br>Experiment id:<br> ALG_005_EXP_002-PatchMatch-MacLean_et_al-Numba<br>Scene: cones<br>kernel size: 3x3<br>kernel spec: hvprewitt_div2<br>match:30<br>bad4: 0.4037422008532162<br>IMG res:450x375",
          "bad4: 0.4936008782290899<br>Experiment id:<br> ALG_005_EXP_002-PatchMatch-MacLean_et_al-Numba<br>Scene: cones<br>kernel size: 3x3<br>kernel spec: hvprewitt_div2<br>match:40<br>bad4: 0.4936008782290899<br>IMG res:450x375"
         ],
         "type": "scatter",
         "uid": "e8bd9fce-83a3-4c47-91af-800f295605af",
         "visible": true,
         "x": [
          10,
          20,
          30,
          40
         ],
         "y": {
          "dtype": "float64",
          "shape": [
           4
          ],
          "value": {}
         }
        },
        {
         "hovertemplate": "%{text}",
         "name": "hvprewitt",
         "showlegend": true,
         "text": [
          "bad4: 0.19663577116017952<br>Experiment id:<br> ALG_005_EXP_002-PatchMatch-MacLean_et_al-Numba<br>Scene: cones<br>kernel size: 3x3<br>kernel spec: hvprewitt<br>match:10<br>bad4: 0.19663577116017952<br>IMG res:450x375",
          "bad4: 0.2455220043633534<br>Experiment id:<br> ALG_005_EXP_002-PatchMatch-MacLean_et_al-Numba<br>Scene: cones<br>kernel size: 3x3<br>kernel spec: hvprewitt<br>match:20<br>bad4: 0.2455220043633534<br>IMG res:450x375",
          "bad4: 0.2844169920653669<br>Experiment id:<br> ALG_005_EXP_002-PatchMatch-MacLean_et_al-Numba<br>Scene: cones<br>kernel size: 3x3<br>kernel spec: hvprewitt<br>match:30<br>bad4: 0.2844169920653669<br>IMG res:450x375",
          "bad4: 0.32417353362144435<br>Experiment id:<br> ALG_005_EXP_002-PatchMatch-MacLean_et_al-Numba<br>Scene: cones<br>kernel size: 3x3<br>kernel spec: hvprewitt<br>match:40<br>bad4: 0.32417353362144435<br>IMG res:450x375"
         ],
         "type": "scatter",
         "uid": "4150ae08-d0e7-4117-9716-d898c051bdc1",
         "visible": true,
         "x": [
          10,
          20,
          30,
          40
         ],
         "y": {
          "dtype": "float64",
          "shape": [
           4
          ],
          "value": {}
         }
        },
        {
         "hovertemplate": "%{text}",
         "name": "gauss_5_3",
         "showlegend": true,
         "text": [
          "bad4: 0.13410363659102595<br>Experiment id:<br> ALG_005_EXP_002-PatchMatch-MacLean_et_al-Numba<br>Scene: cones<br>kernel size: 5x3<br>kernel spec: gauss_5_3<br>match:10<br>bad4: 0.13410363659102595<br>IMG res:450x375",
          "bad4: 0.13410363659102595<br>Experiment id:<br> ALG_005_EXP_002-PatchMatch-MacLean_et_al-Numba<br>Scene: cones<br>kernel size: 5x3<br>kernel spec: gauss_5_3<br>match:10<br>bad4: 0.13410363659102595<br>IMG res:450x375",
          "bad4: 0.11300251518141267<br>Experiment id:<br> ALG_005_EXP_002-PatchMatch-MacLean_et_al-Numba<br>Scene: cones<br>kernel size: 5x3<br>kernel spec: gauss_5_3<br>match:20<br>bad4: 0.11300251518141267<br>IMG res:450x375",
          "bad4: 0.11416283367841808<br>Experiment id:<br> ALG_005_EXP_002-PatchMatch-MacLean_et_al-Numba<br>Scene: cones<br>kernel size: 5x3<br>kernel spec: gauss_5_3<br>match:30<br>bad4: 0.11416283367841808<br>IMG res:450x375",
          "bad4: 0.1278295790892542<br>Experiment id:<br> ALG_005_EXP_002-PatchMatch-MacLean_et_al-Numba<br>Scene: cones<br>kernel size: 5x3<br>kernel spec: gauss_5_3<br>match:40<br>bad4: 0.1278295790892542<br>IMG res:450x375",
          "bad4: 0.13410363659102595<br>Experiment id:<br> ALG_005_EXP_002-PatchMatch-MacLean_et_al-Numba<br>Scene: cones<br>kernel size: 5x3<br>kernel spec: gauss_5_3<br>match:10<br>bad4: 0.13410363659102595<br>IMG res:450x375",
          "bad4: 0.11300251518141267<br>Experiment id:<br> ALG_005_EXP_002-PatchMatch-MacLean_et_al-Numba<br>Scene: cones<br>kernel size: 5x3<br>kernel spec: gauss_5_3<br>match:20<br>bad4: 0.11300251518141267<br>IMG res:450x375",
          "bad4: 0.11416283367841808<br>Experiment id:<br> ALG_005_EXP_002-PatchMatch-MacLean_et_al-Numba<br>Scene: cones<br>kernel size: 5x3<br>kernel spec: gauss_5_3<br>match:30<br>bad4: 0.11416283367841808<br>IMG res:450x375",
          "bad4: 0.1278295790892542<br>Experiment id:<br> ALG_005_EXP_002-PatchMatch-MacLean_et_al-Numba<br>Scene: cones<br>kernel size: 5x3<br>kernel spec: gauss_5_3<br>match:40<br>bad4: 0.1278295790892542<br>IMG res:450x375"
         ],
         "type": "scatter",
         "uid": "3a9dafec-d41d-42bc-aefe-44890bf2b73a",
         "visible": "legendonly",
         "x": [
          10,
          10,
          20,
          30,
          40,
          10,
          20,
          30,
          40
         ],
         "y": {
          "dtype": "float64",
          "shape": [
           9
          ],
          "value": {}
         }
        },
        {
         "hovertemplate": "%{text}",
         "name": "gauss_5_5",
         "showlegend": true,
         "text": [
          "bad4: 0.13878659866876036<br>Experiment id:<br> ALG_005_EXP_002-PatchMatch-MacLean_et_al-Numba<br>Scene: cones<br>kernel size: 5x5<br>kernel spec: gauss_5_5<br>match:10<br>bad4: 0.13878659866876036<br>IMG res:450x375",
          "bad4: 0.13878659866876036<br>Experiment id:<br> ALG_005_EXP_002-PatchMatch-MacLean_et_al-Numba<br>Scene: cones<br>kernel size: 5x5<br>kernel spec: gauss_5_5<br>match:10<br>bad4: 0.13878659866876036<br>IMG res:450x375",
          "bad4: 0.10836818920834318<br>Experiment id:<br> ALG_005_EXP_002-PatchMatch-MacLean_et_al-Numba<br>Scene: cones<br>kernel size: 5x5<br>kernel spec: gauss_5_5<br>match:20<br>bad4: 0.10836818920834318<br>IMG res:450x375",
          "bad4: 0.11718522018259385<br>Experiment id:<br> ALG_005_EXP_002-PatchMatch-MacLean_et_al-Numba<br>Scene: cones<br>kernel size: 5x5<br>kernel spec: gauss_5_5<br>match:30<br>bad4: 0.11718522018259385<br>IMG res:450x375",
          "bad4: 0.12959437488709474<br>Experiment id:<br> ALG_005_EXP_002-PatchMatch-MacLean_et_al-Numba<br>Scene: cones<br>kernel size: 5x5<br>kernel spec: gauss_5_5<br>match:40<br>bad4: 0.12959437488709474<br>IMG res:450x375",
          "bad4: 0.13878659866876036<br>Experiment id:<br> ALG_005_EXP_002-PatchMatch-MacLean_et_al-Numba<br>Scene: cones<br>kernel size: 5x5<br>kernel spec: gauss_5_5<br>match:10<br>bad4: 0.13878659866876036<br>IMG res:450x375",
          "bad4: 0.10836818920834318<br>Experiment id:<br> ALG_005_EXP_002-PatchMatch-MacLean_et_al-Numba<br>Scene: cones<br>kernel size: 5x5<br>kernel spec: gauss_5_5<br>match:20<br>bad4: 0.10836818920834318<br>IMG res:450x375",
          "bad4: 0.11718522018259385<br>Experiment id:<br> ALG_005_EXP_002-PatchMatch-MacLean_et_al-Numba<br>Scene: cones<br>kernel size: 5x5<br>kernel spec: gauss_5_5<br>match:30<br>bad4: 0.11718522018259385<br>IMG res:450x375",
          "bad4: 0.12959437488709474<br>Experiment id:<br> ALG_005_EXP_002-PatchMatch-MacLean_et_al-Numba<br>Scene: cones<br>kernel size: 5x5<br>kernel spec: gauss_5_5<br>match:40<br>bad4: 0.12959437488709474<br>IMG res:450x375"
         ],
         "type": "scatter",
         "uid": "e94805a4-de44-4244-b37d-09e9bf85c014",
         "visible": "legendonly",
         "x": [
          10,
          10,
          20,
          30,
          40,
          10,
          20,
          30,
          40
         ],
         "y": {
          "dtype": "float64",
          "shape": [
           9
          ],
          "value": {}
         }
        },
        {
         "hovertemplate": "%{text}",
         "name": "octagon_3_1",
         "showlegend": true,
         "text": [
          "bad4: 0.12206967469393995<br>Experiment id:<br> ALG_005_EXP_002-PatchMatch-MacLean_et_al-Numba<br>Scene: cones<br>kernel size: 5x5<br>kernel spec: octagon_3_1<br>match:10<br>bad4: 0.12206967469393995<br>IMG res:450x375",
          "bad4: 0.11521198393618945<br>Experiment id:<br> ALG_005_EXP_002-PatchMatch-MacLean_et_al-Numba<br>Scene: cones<br>kernel size: 5x5<br>kernel spec: octagon_3_1<br>match:20<br>bad4: 0.11521198393618945<br>IMG res:450x375",
          "bad4: 0.12520322943734974<br>Experiment id:<br> ALG_005_EXP_002-PatchMatch-MacLean_et_al-Numba<br>Scene: cones<br>kernel size: 5x5<br>kernel spec: octagon_3_1<br>match:30<br>bad4: 0.12520322943734974<br>IMG res:450x375",
          "bad4: 0.14362241707544154<br>Experiment id:<br> ALG_005_EXP_002-PatchMatch-MacLean_et_al-Numba<br>Scene: cones<br>kernel size: 5x5<br>kernel spec: octagon_3_1<br>match:40<br>bad4: 0.14362241707544154<br>IMG res:450x375"
         ],
         "type": "scatter",
         "uid": "3987658b-b288-41f8-b1b6-adee50bf86cd",
         "visible": "legendonly",
         "x": [
          10,
          20,
          30,
          40
         ],
         "y": {
          "dtype": "float64",
          "shape": [
           4
          ],
          "value": {}
         }
        },
        {
         "hovertemplate": "%{text}",
         "name": "diamond_2",
         "showlegend": true,
         "text": [
          "bad4: 0.13352000333504718<br>Experiment id:<br> ALG_005_EXP_002-PatchMatch-MacLean_et_al-Numba<br>Scene: cones<br>kernel size: 5x5<br>kernel spec: diamond_2<br>match:10<br>bad4: 0.13352000333504718<br>IMG res:450x375",
          "bad4: 0.15476703305865513<br>Experiment id:<br> ALG_005_EXP_002-PatchMatch-MacLean_et_al-Numba<br>Scene: cones<br>kernel size: 5x5<br>kernel spec: diamond_2<br>match:20<br>bad4: 0.15476703305865513<br>IMG res:450x375",
          "bad4: 0.18381668357350306<br>Experiment id:<br> ALG_005_EXP_002-PatchMatch-MacLean_et_al-Numba<br>Scene: cones<br>kernel size: 5x5<br>kernel spec: diamond_2<br>match:30<br>bad4: 0.18381668357350306<br>IMG res:450x375",
          "bad4: 0.21406834067506916<br>Experiment id:<br> ALG_005_EXP_002-PatchMatch-MacLean_et_al-Numba<br>Scene: cones<br>kernel size: 5x5<br>kernel spec: diamond_2<br>match:40<br>bad4: 0.21406834067506916<br>IMG res:450x375"
         ],
         "type": "scatter",
         "uid": "fbe8f899-d4bd-4bee-ab66-08a140aa76a9",
         "visible": "legendonly",
         "x": [
          10,
          20,
          30,
          40
         ],
         "y": {
          "dtype": "float64",
          "shape": [
           4
          ],
          "value": {}
         }
        },
        {
         "hovertemplate": "%{text}",
         "name": "disk_2",
         "showlegend": true,
         "text": [
          "bad4: 0.13352000333504718<br>Experiment id:<br> ALG_005_EXP_002-PatchMatch-MacLean_et_al-Numba<br>Scene: cones<br>kernel size: 5x5<br>kernel spec: disk_2<br>match:10<br>bad4: 0.13352000333504718<br>IMG res:450x375",
          "bad4: 0.15476703305865513<br>Experiment id:<br> ALG_005_EXP_002-PatchMatch-MacLean_et_al-Numba<br>Scene: cones<br>kernel size: 5x5<br>kernel spec: disk_2<br>match:20<br>bad4: 0.15476703305865513<br>IMG res:450x375",
          "bad4: 0.18381668357350306<br>Experiment id:<br> ALG_005_EXP_002-PatchMatch-MacLean_et_al-Numba<br>Scene: cones<br>kernel size: 5x5<br>kernel spec: disk_2<br>match:30<br>bad4: 0.18381668357350306<br>IMG res:450x375",
          "bad4: 0.21406834067506916<br>Experiment id:<br> ALG_005_EXP_002-PatchMatch-MacLean_et_al-Numba<br>Scene: cones<br>kernel size: 5x5<br>kernel spec: disk_2<br>match:40<br>bad4: 0.21406834067506916<br>IMG res:450x375"
         ],
         "type": "scatter",
         "uid": "a72c91ae-4bed-4c70-9514-9ac2f53286ab",
         "visible": "legendonly",
         "x": [
          10,
          20,
          30,
          40
         ],
         "y": {
          "dtype": "float64",
          "shape": [
           4
          ],
          "value": {}
         }
        },
        {
         "hovertemplate": "%{text}",
         "name": "hfarid",
         "showlegend": true,
         "text": [
          "bad4: 0.7979656212220169<br>Experiment id:<br> ALG_005_EXP_002-PatchMatch-MacLean_et_al-Numba<br>Scene: cones<br>kernel size: 5x5<br>kernel spec: hfarid<br>match:10<br>bad4: 0.7979656212220169<br>IMG res:450x375",
          "bad4: 1.0<br>Experiment id:<br> ALG_005_EXP_002-PatchMatch-MacLean_et_al-Numba<br>Scene: cones<br>kernel size: 5x5<br>kernel spec: hfarid<br>match:20<br>bad4: 1.0<br>IMG res:450x375",
          "bad4: 1.0<br>Experiment id:<br> ALG_005_EXP_002-PatchMatch-MacLean_et_al-Numba<br>Scene: cones<br>kernel size: 5x5<br>kernel spec: hfarid<br>match:30<br>bad4: 1.0<br>IMG res:450x375",
          "bad4: 1.0<br>Experiment id:<br> ALG_005_EXP_002-PatchMatch-MacLean_et_al-Numba<br>Scene: cones<br>kernel size: 5x5<br>kernel spec: hfarid<br>match:40<br>bad4: 1.0<br>IMG res:450x375"
         ],
         "type": "scatter",
         "uid": "dd216906-aadc-43cc-a942-cf3f6aedf179",
         "visible": true,
         "x": [
          10,
          20,
          30,
          40
         ],
         "y": {
          "dtype": "float64",
          "shape": [
           4
          ],
          "value": {}
         }
        },
        {
         "hovertemplate": "%{text}",
         "name": "vfarid",
         "showlegend": true,
         "text": [
          "bad4: 0.7999110654086128<br>Experiment id:<br> ALG_005_EXP_002-PatchMatch-MacLean_et_al-Numba<br>Scene: cones<br>kernel size: 5x5<br>kernel spec: vfarid<br>match:10<br>bad4: 0.7999110654086128<br>IMG res:450x375",
          "bad4: 1.0<br>Experiment id:<br> ALG_005_EXP_002-PatchMatch-MacLean_et_al-Numba<br>Scene: cones<br>kernel size: 5x5<br>kernel spec: vfarid<br>match:20<br>bad4: 1.0<br>IMG res:450x375",
          "bad4: 1.0<br>Experiment id:<br> ALG_005_EXP_002-PatchMatch-MacLean_et_al-Numba<br>Scene: cones<br>kernel size: 5x5<br>kernel spec: vfarid<br>match:30<br>bad4: 1.0<br>IMG res:450x375",
          "bad4: 1.0<br>Experiment id:<br> ALG_005_EXP_002-PatchMatch-MacLean_et_al-Numba<br>Scene: cones<br>kernel size: 5x5<br>kernel spec: vfarid<br>match:40<br>bad4: 1.0<br>IMG res:450x375"
         ],
         "type": "scatter",
         "uid": "b0675e39-c368-4f44-bc76-74684285ebc0",
         "visible": true,
         "x": [
          10,
          20,
          30,
          40
         ],
         "y": {
          "dtype": "float64",
          "shape": [
           4
          ],
          "value": {}
         }
        },
        {
         "hovertemplate": "%{text}",
         "name": "hvfarid_div2",
         "showlegend": true,
         "text": [
          "bad4: 0.9419354390450648<br>Experiment id:<br> ALG_005_EXP_002-PatchMatch-MacLean_et_al-Numba<br>Scene: cones<br>kernel size: 5x5<br>kernel spec: hvfarid_div2<br>match:10<br>bad4: 0.9419354390450648<br>IMG res:450x375",
          "bad4: 1.0<br>Experiment id:<br> ALG_005_EXP_002-PatchMatch-MacLean_et_al-Numba<br>Scene: cones<br>kernel size: 5x5<br>kernel spec: hvfarid_div2<br>match:20<br>bad4: 1.0<br>IMG res:450x375",
          "bad4: 1.0<br>Experiment id:<br> ALG_005_EXP_002-PatchMatch-MacLean_et_al-Numba<br>Scene: cones<br>kernel size: 5x5<br>kernel spec: hvfarid_div2<br>match:30<br>bad4: 1.0<br>IMG res:450x375",
          "bad4: 1.0<br>Experiment id:<br> ALG_005_EXP_002-PatchMatch-MacLean_et_al-Numba<br>Scene: cones<br>kernel size: 5x5<br>kernel spec: hvfarid_div2<br>match:40<br>bad4: 1.0<br>IMG res:450x375"
         ],
         "type": "scatter",
         "uid": "6fc0a1b8-436b-4cf1-8c93-8a815d6e8aa5",
         "visible": true,
         "x": [
          10,
          20,
          30,
          40
         ],
         "y": {
          "dtype": "float64",
          "shape": [
           4
          ],
          "value": {}
         }
        },
        {
         "hovertemplate": "%{text}",
         "name": "hvfarid",
         "showlegend": true,
         "text": [
          "bad4: 0.5407570557091839<br>Experiment id:<br> ALG_005_EXP_002-PatchMatch-MacLean_et_al-Numba<br>Scene: cones<br>kernel size: 5x5<br>kernel spec: hvfarid<br>match:10<br>bad4: 0.5407570557091839<br>IMG res:450x375",
          "bad4: 0.8933896585745452<br>Experiment id:<br> ALG_005_EXP_002-PatchMatch-MacLean_et_al-Numba<br>Scene: cones<br>kernel size: 5x5<br>kernel spec: hvfarid<br>match:20<br>bad4: 0.8933896585745452<br>IMG res:450x375",
          "bad4: 1.0<br>Experiment id:<br> ALG_005_EXP_002-PatchMatch-MacLean_et_al-Numba<br>Scene: cones<br>kernel size: 5x5<br>kernel spec: hvfarid<br>match:30<br>bad4: 1.0<br>IMG res:450x375",
          "bad4: 1.0<br>Experiment id:<br> ALG_005_EXP_002-PatchMatch-MacLean_et_al-Numba<br>Scene: cones<br>kernel size: 5x5<br>kernel spec: hvfarid<br>match:40<br>bad4: 1.0<br>IMG res:450x375"
         ],
         "type": "scatter",
         "uid": "ae3326d8-ccfe-4158-aecf-7eee561db742",
         "visible": true,
         "x": [
          10,
          20,
          30,
          40
         ],
         "y": {
          "dtype": "float64",
          "shape": [
           4
          ],
          "value": {}
         }
        },
        {
         "hovertemplate": "%{text}",
         "name": "gauss_7_3",
         "showlegend": true,
         "text": [
          "bad4: 0.13427733696482916<br>Experiment id:<br> ALG_005_EXP_002-PatchMatch-MacLean_et_al-Numba<br>Scene: cones<br>kernel size: 7x3<br>kernel spec: gauss_7_3<br>match:10<br>bad4: 0.13427733696482916<br>IMG res:450x375",
          "bad4: 0.13427733696482916<br>Experiment id:<br> ALG_005_EXP_002-PatchMatch-MacLean_et_al-Numba<br>Scene: cones<br>kernel size: 7x3<br>kernel spec: gauss_7_3<br>match:10<br>bad4: 0.13427733696482916<br>IMG res:450x375",
          "bad4: 0.11278017870294454<br>Experiment id:<br> ALG_005_EXP_002-PatchMatch-MacLean_et_al-Numba<br>Scene: cones<br>kernel size: 7x3<br>kernel spec: gauss_7_3<br>match:20<br>bad4: 0.11278017870294454<br>IMG res:450x375",
          "bad4: 0.11395439322985425<br>Experiment id:<br> ALG_005_EXP_002-PatchMatch-MacLean_et_al-Numba<br>Scene: cones<br>kernel size: 7x3<br>kernel spec: gauss_7_3<br>match:30<br>bad4: 0.11395439322985425<br>IMG res:450x375",
          "bad4: 0.12732237399774884<br>Experiment id:<br> ALG_005_EXP_002-PatchMatch-MacLean_et_al-Numba<br>Scene: cones<br>kernel size: 7x3<br>kernel spec: gauss_7_3<br>match:40<br>bad4: 0.12732237399774884<br>IMG res:450x375",
          "bad4: 0.13427733696482916<br>Experiment id:<br> ALG_005_EXP_002-PatchMatch-MacLean_et_al-Numba<br>Scene: cones<br>kernel size: 7x3<br>kernel spec: gauss_7_3<br>match:10<br>bad4: 0.13427733696482916<br>IMG res:450x375",
          "bad4: 0.11278017870294454<br>Experiment id:<br> ALG_005_EXP_002-PatchMatch-MacLean_et_al-Numba<br>Scene: cones<br>kernel size: 7x3<br>kernel spec: gauss_7_3<br>match:20<br>bad4: 0.11278017870294454<br>IMG res:450x375",
          "bad4: 0.11395439322985425<br>Experiment id:<br> ALG_005_EXP_002-PatchMatch-MacLean_et_al-Numba<br>Scene: cones<br>kernel size: 7x3<br>kernel spec: gauss_7_3<br>match:30<br>bad4: 0.11395439322985425<br>IMG res:450x375",
          "bad4: 0.12732237399774884<br>Experiment id:<br> ALG_005_EXP_002-PatchMatch-MacLean_et_al-Numba<br>Scene: cones<br>kernel size: 7x3<br>kernel spec: gauss_7_3<br>match:40<br>bad4: 0.12732237399774884<br>IMG res:450x375"
         ],
         "type": "scatter",
         "uid": "02ebac29-823a-43cd-ba07-876939564115",
         "visible": "legendonly",
         "x": [
          10,
          10,
          20,
          30,
          40,
          10,
          20,
          30,
          40
         ],
         "y": {
          "dtype": "float64",
          "shape": [
           9
          ],
          "value": {}
         }
        },
        {
         "hovertemplate": "%{text}",
         "name": "star_2",
         "showlegend": true,
         "text": [
          "bad4: 0.12919139001987132<br>Experiment id:<br> ALG_005_EXP_002-PatchMatch-MacLean_et_al-Numba<br>Scene: cones<br>kernel size: 7x7<br>kernel spec: star_2<br>match:10<br>bad4: 0.12919139001987132<br>IMG res:450x375",
          "bad4: 0.14126009199171796<br>Experiment id:<br> ALG_005_EXP_002-PatchMatch-MacLean_et_al-Numba<br>Scene: cones<br>kernel size: 7x7<br>kernel spec: star_2<br>match:20<br>bad4: 0.14126009199171796<br>IMG res:450x375",
          "bad4: 0.166196517654906<br>Experiment id:<br> ALG_005_EXP_002-PatchMatch-MacLean_et_al-Numba<br>Scene: cones<br>kernel size: 7x7<br>kernel spec: star_2<br>match:30<br>bad4: 0.166196517654906<br>IMG res:450x375",
          "bad4: 0.1943568222558815<br>Experiment id:<br> ALG_005_EXP_002-PatchMatch-MacLean_et_al-Numba<br>Scene: cones<br>kernel size: 7x7<br>kernel spec: star_2<br>match:40<br>bad4: 0.1943568222558815<br>IMG res:450x375"
         ],
         "type": "scatter",
         "uid": "61cf4beb-29c3-4d97-87a2-455b44ee866f",
         "visible": "legendonly",
         "x": [
          10,
          20,
          30,
          40
         ],
         "y": {
          "dtype": "float64",
          "shape": [
           4
          ],
          "value": {}
         }
        },
        {
         "hovertemplate": "%{text}",
         "name": "octagon_1_3",
         "showlegend": true,
         "text": [
          "bad4: 0.13598654864305268<br>Experiment id:<br> ALG_005_EXP_002-PatchMatch-MacLean_et_al-Numba<br>Scene: cones<br>kernel size: 7x7<br>kernel spec: octagon_1_3<br>match:10<br>bad4: 0.13598654864305268<br>IMG res:450x375",
          "bad4: 0.15783110765254366<br>Experiment id:<br> ALG_005_EXP_002-PatchMatch-MacLean_et_al-Numba<br>Scene: cones<br>kernel size: 7x7<br>kernel spec: octagon_1_3<br>match:20<br>bad4: 0.15783110765254366<br>IMG res:450x375",
          "bad4: 0.18847880160638106<br>Experiment id:<br> ALG_005_EXP_002-PatchMatch-MacLean_et_al-Numba<br>Scene: cones<br>kernel size: 7x7<br>kernel spec: octagon_1_3<br>match:30<br>bad4: 0.18847880160638106<br>IMG res:450x375",
          "bad4: 0.22003668551894726<br>Experiment id:<br> ALG_005_EXP_002-PatchMatch-MacLean_et_al-Numba<br>Scene: cones<br>kernel size: 7x7<br>kernel spec: octagon_1_3<br>match:40<br>bad4: 0.22003668551894726<br>IMG res:450x375"
         ],
         "type": "scatter",
         "uid": "ef5e6b00-1f6e-4004-8d8e-dbfd9364c801",
         "visible": "legendonly",
         "x": [
          10,
          20,
          30,
          40
         ],
         "y": {
          "dtype": "float64",
          "shape": [
           4
          ],
          "value": {}
         }
        },
        {
         "hovertemplate": "%{text}",
         "name": "diamond_3",
         "showlegend": true,
         "text": [
          "bad4: 0.13598654864305268<br>Experiment id:<br> ALG_005_EXP_002-PatchMatch-MacLean_et_al-Numba<br>Scene: cones<br>kernel size: 7x7<br>kernel spec: diamond_3<br>match:10<br>bad4: 0.13598654864305268<br>IMG res:450x375",
          "bad4: 0.15783110765254366<br>Experiment id:<br> ALG_005_EXP_002-PatchMatch-MacLean_et_al-Numba<br>Scene: cones<br>kernel size: 7x7<br>kernel spec: diamond_3<br>match:20<br>bad4: 0.15783110765254366<br>IMG res:450x375",
          "bad4: 0.18847880160638106<br>Experiment id:<br> ALG_005_EXP_002-PatchMatch-MacLean_et_al-Numba<br>Scene: cones<br>kernel size: 7x7<br>kernel spec: diamond_3<br>match:30<br>bad4: 0.18847880160638106<br>IMG res:450x375",
          "bad4: 0.22003668551894726<br>Experiment id:<br> ALG_005_EXP_002-PatchMatch-MacLean_et_al-Numba<br>Scene: cones<br>kernel size: 7x7<br>kernel spec: diamond_3<br>match:40<br>bad4: 0.22003668551894726<br>IMG res:450x375"
         ],
         "type": "scatter",
         "uid": "5a10a7aa-fc01-4b72-98ff-0b52ec9ac94c",
         "visible": "legendonly",
         "x": [
          10,
          20,
          30,
          40
         ],
         "y": {
          "dtype": "float64",
          "shape": [
           4
          ],
          "value": {}
         }
        },
        {
         "hovertemplate": "%{text}",
         "name": "disk_3",
         "showlegend": true,
         "text": [
          "bad4: 0.12919139001987132<br>Experiment id:<br> ALG_005_EXP_002-PatchMatch-MacLean_et_al-Numba<br>Scene: cones<br>kernel size: 7x7<br>kernel spec: disk_3<br>match:10<br>bad4: 0.12919139001987132<br>IMG res:450x375",
          "bad4: 0.14126009199171796<br>Experiment id:<br> ALG_005_EXP_002-PatchMatch-MacLean_et_al-Numba<br>Scene: cones<br>kernel size: 7x7<br>kernel spec: disk_3<br>match:20<br>bad4: 0.14126009199171796<br>IMG res:450x375",
          "bad4: 0.166196517654906<br>Experiment id:<br> ALG_005_EXP_002-PatchMatch-MacLean_et_al-Numba<br>Scene: cones<br>kernel size: 7x7<br>kernel spec: disk_3<br>match:30<br>bad4: 0.166196517654906<br>IMG res:450x375",
          "bad4: 0.1943568222558815<br>Experiment id:<br> ALG_005_EXP_002-PatchMatch-MacLean_et_al-Numba<br>Scene: cones<br>kernel size: 7x7<br>kernel spec: disk_3<br>match:40<br>bad4: 0.1943568222558815<br>IMG res:450x375"
         ],
         "type": "scatter",
         "uid": "27953e75-121b-4978-be8d-112edff02928",
         "visible": "legendonly",
         "x": [
          10,
          20,
          30,
          40
         ],
         "y": {
          "dtype": "float64",
          "shape": [
           4
          ],
          "value": {}
         }
        },
        {
         "hovertemplate": "%{text}",
         "name": "star_3",
         "showlegend": true,
         "text": [
          "bad4: 0.13571557605991968<br>Experiment id:<br> ALG_005_EXP_002-PatchMatch-MacLean_et_al-Numba<br>Scene: cones<br>kernel size: 9x9<br>kernel spec: star_3<br>match:10<br>bad4: 0.13571557605991968<br>IMG res:450x375",
          "bad4: 0.14160054472437225<br>Experiment id:<br> ALG_005_EXP_002-PatchMatch-MacLean_et_al-Numba<br>Scene: cones<br>kernel size: 9x9<br>kernel spec: star_3<br>match:20<br>bad4: 0.14160054472437225<br>IMG res:450x375",
          "bad4: 0.16211108486305462<br>Experiment id:<br> ALG_005_EXP_002-PatchMatch-MacLean_et_al-Numba<br>Scene: cones<br>kernel size: 9x9<br>kernel spec: star_3<br>match:30<br>bad4: 0.16211108486305462<br>IMG res:450x375",
          "bad4: 0.1860956324778011<br>Experiment id:<br> ALG_005_EXP_002-PatchMatch-MacLean_et_al-Numba<br>Scene: cones<br>kernel size: 9x9<br>kernel spec: star_3<br>match:40<br>bad4: 0.1860956324778011<br>IMG res:450x375"
         ],
         "type": "scatter",
         "uid": "d1d92b56-9504-428b-94ff-d235b134bf4f",
         "visible": "legendonly",
         "x": [
          10,
          20,
          30,
          40
         ],
         "y": {
          "dtype": "float64",
          "shape": [
           4
          ],
          "value": {}
         }
        },
        {
         "hovertemplate": "%{text}",
         "name": "disk_4",
         "showlegend": true,
         "text": [
          "bad4: 0.13513194280394092<br>Experiment id:<br> ALG_005_EXP_002-PatchMatch-MacLean_et_al-Numba<br>Scene: cones<br>kernel size: 9x9<br>kernel spec: disk_4<br>match:10<br>bad4: 0.13513194280394092<br>IMG res:450x375",
          "bad4: 0.1450120200658672<br>Experiment id:<br> ALG_005_EXP_002-PatchMatch-MacLean_et_al-Numba<br>Scene: cones<br>kernel size: 9x9<br>kernel spec: disk_4<br>match:20<br>bad4: 0.1450120200658672<br>IMG res:450x375",
          "bad4: 0.16690521518002308<br>Experiment id:<br> ALG_005_EXP_002-PatchMatch-MacLean_et_al-Numba<br>Scene: cones<br>kernel size: 9x9<br>kernel spec: disk_4<br>match:30<br>bad4: 0.16690521518002308<br>IMG res:450x375",
          "bad4: 0.19542681655850924<br>Experiment id:<br> ALG_005_EXP_002-PatchMatch-MacLean_et_al-Numba<br>Scene: cones<br>kernel size: 9x9<br>kernel spec: disk_4<br>match:40<br>bad4: 0.19542681655850924<br>IMG res:450x375"
         ],
         "type": "scatter",
         "uid": "2c30948a-4a9e-4e65-a4a2-9f85e9137483",
         "visible": "legendonly",
         "x": [
          10,
          20,
          30,
          40
         ],
         "y": {
          "dtype": "float64",
          "shape": [
           4
          ],
          "value": {}
         }
        },
        {
         "hovertemplate": "%{text}",
         "name": "gauss_11_3",
         "showlegend": true,
         "text": [
          "bad4: 0.13427733696482916<br>Experiment id:<br> ALG_005_EXP_002-PatchMatch-MacLean_et_al-Numba<br>Scene: cones<br>kernel size: 11x3<br>kernel spec: gauss_11_3<br>match:10<br>bad4: 0.13427733696482916<br>IMG res:450x375",
          "bad4: 0.13427733696482916<br>Experiment id:<br> ALG_005_EXP_002-PatchMatch-MacLean_et_al-Numba<br>Scene: cones<br>kernel size: 11x3<br>kernel spec: gauss_11_3<br>match:10<br>bad4: 0.13427733696482916<br>IMG res:450x375",
          "bad4: 0.11278017870294454<br>Experiment id:<br> ALG_005_EXP_002-PatchMatch-MacLean_et_al-Numba<br>Scene: cones<br>kernel size: 11x3<br>kernel spec: gauss_11_3<br>match:20<br>bad4: 0.11278017870294454<br>IMG res:450x375",
          "bad4: 0.11395439322985425<br>Experiment id:<br> ALG_005_EXP_002-PatchMatch-MacLean_et_al-Numba<br>Scene: cones<br>kernel size: 11x3<br>kernel spec: gauss_11_3<br>match:30<br>bad4: 0.11395439322985425<br>IMG res:450x375",
          "bad4: 0.12732237399774884<br>Experiment id:<br> ALG_005_EXP_002-PatchMatch-MacLean_et_al-Numba<br>Scene: cones<br>kernel size: 11x3<br>kernel spec: gauss_11_3<br>match:40<br>bad4: 0.12732237399774884<br>IMG res:450x375",
          "bad4: 0.13427733696482916<br>Experiment id:<br> ALG_005_EXP_002-PatchMatch-MacLean_et_al-Numba<br>Scene: cones<br>kernel size: 11x3<br>kernel spec: gauss_11_3<br>match:10<br>bad4: 0.13427733696482916<br>IMG res:450x375",
          "bad4: 0.11278017870294454<br>Experiment id:<br> ALG_005_EXP_002-PatchMatch-MacLean_et_al-Numba<br>Scene: cones<br>kernel size: 11x3<br>kernel spec: gauss_11_3<br>match:20<br>bad4: 0.11278017870294454<br>IMG res:450x375",
          "bad4: 0.11395439322985425<br>Experiment id:<br> ALG_005_EXP_002-PatchMatch-MacLean_et_al-Numba<br>Scene: cones<br>kernel size: 11x3<br>kernel spec: gauss_11_3<br>match:30<br>bad4: 0.11395439322985425<br>IMG res:450x375",
          "bad4: 0.12732237399774884<br>Experiment id:<br> ALG_005_EXP_002-PatchMatch-MacLean_et_al-Numba<br>Scene: cones<br>kernel size: 11x3<br>kernel spec: gauss_11_3<br>match:40<br>bad4: 0.12732237399774884<br>IMG res:450x375"
         ],
         "type": "scatter",
         "uid": "b28e338e-ca86-4ddd-b076-1b4eac638225",
         "visible": "legendonly",
         "x": [
          10,
          10,
          20,
          30,
          40,
          10,
          20,
          30,
          40
         ],
         "y": {
          "dtype": "float64",
          "shape": [
           9
          ],
          "value": {}
         }
        },
        {
         "hovertemplate": "%{text}",
         "name": "gauss_13_3",
         "showlegend": true,
         "text": [
          "bad4: 0.13427733696482916<br>Experiment id:<br> ALG_005_EXP_002-PatchMatch-MacLean_et_al-Numba<br>Scene: cones<br>kernel size: 13x3<br>kernel spec: gauss_13_3<br>match:10<br>bad4: 0.13427733696482916<br>IMG res:450x375",
          "bad4: 0.11278017870294454<br>Experiment id:<br> ALG_005_EXP_002-PatchMatch-MacLean_et_al-Numba<br>Scene: cones<br>kernel size: 13x3<br>kernel spec: gauss_13_3<br>match:20<br>bad4: 0.11278017870294454<br>IMG res:450x375",
          "bad4: 0.11395439322985425<br>Experiment id:<br> ALG_005_EXP_002-PatchMatch-MacLean_et_al-Numba<br>Scene: cones<br>kernel size: 13x3<br>kernel spec: gauss_13_3<br>match:30<br>bad4: 0.11395439322985425<br>IMG res:450x375",
          "bad4: 0.12732237399774884<br>Experiment id:<br> ALG_005_EXP_002-PatchMatch-MacLean_et_al-Numba<br>Scene: cones<br>kernel size: 13x3<br>kernel spec: gauss_13_3<br>match:40<br>bad4: 0.12732237399774884<br>IMG res:450x375",
          "bad4: 0.13427733696482916<br>Experiment id:<br> ALG_005_EXP_002-PatchMatch-MacLean_et_al-Numba<br>Scene: cones<br>kernel size: 13x3<br>kernel spec: gauss_13_3<br>match:10<br>bad4: 0.13427733696482916<br>IMG res:450x375",
          "bad4: 0.11278017870294454<br>Experiment id:<br> ALG_005_EXP_002-PatchMatch-MacLean_et_al-Numba<br>Scene: cones<br>kernel size: 13x3<br>kernel spec: gauss_13_3<br>match:20<br>bad4: 0.11278017870294454<br>IMG res:450x375",
          "bad4: 0.11395439322985425<br>Experiment id:<br> ALG_005_EXP_002-PatchMatch-MacLean_et_al-Numba<br>Scene: cones<br>kernel size: 13x3<br>kernel spec: gauss_13_3<br>match:30<br>bad4: 0.11395439322985425<br>IMG res:450x375",
          "bad4: 0.12732237399774884<br>Experiment id:<br> ALG_005_EXP_002-PatchMatch-MacLean_et_al-Numba<br>Scene: cones<br>kernel size: 13x3<br>kernel spec: gauss_13_3<br>match:40<br>bad4: 0.12732237399774884<br>IMG res:450x375"
         ],
         "type": "scatter",
         "uid": "3871ff3e-b742-4560-bf0a-6f93c91d419b",
         "visible": "legendonly",
         "x": [
          10,
          20,
          30,
          40,
          10,
          20,
          30,
          40
         ],
         "y": {
          "dtype": "float64",
          "shape": [
           8
          ],
          "value": {}
         }
        }
       ],
       "_js2py_update": {},
       "_last_layout_edit_id": 55,
       "_last_trace_edit_id": 54,
       "_layout": {
        "autosize": true,
        "legend": {
         "title": {
          "text": "kernel_spec"
         }
        },
        "template": {
         "data": {
          "bar": [
           {
            "error_x": {
             "color": "#2a3f5f"
            },
            "error_y": {
             "color": "#2a3f5f"
            },
            "marker": {
             "line": {
              "color": "#E5ECF6",
              "width": 0.5
             }
            },
            "type": "bar"
           }
          ],
          "barpolar": [
           {
            "marker": {
             "line": {
              "color": "#E5ECF6",
              "width": 0.5
             }
            },
            "type": "barpolar"
           }
          ],
          "carpet": [
           {
            "aaxis": {
             "endlinecolor": "#2a3f5f",
             "gridcolor": "white",
             "linecolor": "white",
             "minorgridcolor": "white",
             "startlinecolor": "#2a3f5f"
            },
            "baxis": {
             "endlinecolor": "#2a3f5f",
             "gridcolor": "white",
             "linecolor": "white",
             "minorgridcolor": "white",
             "startlinecolor": "#2a3f5f"
            },
            "type": "carpet"
           }
          ],
          "choropleth": [
           {
            "colorbar": {
             "outlinewidth": 0,
             "ticks": ""
            },
            "type": "choropleth"
           }
          ],
          "contour": [
           {
            "colorbar": {
             "outlinewidth": 0,
             "ticks": ""
            },
            "colorscale": [
             [
              0,
              "#0d0887"
             ],
             [
              0.1111111111111111,
              "#46039f"
             ],
             [
              0.2222222222222222,
              "#7201a8"
             ],
             [
              0.3333333333333333,
              "#9c179e"
             ],
             [
              0.4444444444444444,
              "#bd3786"
             ],
             [
              0.5555555555555556,
              "#d8576b"
             ],
             [
              0.6666666666666666,
              "#ed7953"
             ],
             [
              0.7777777777777778,
              "#fb9f3a"
             ],
             [
              0.8888888888888888,
              "#fdca26"
             ],
             [
              1,
              "#f0f921"
             ]
            ],
            "type": "contour"
           }
          ],
          "contourcarpet": [
           {
            "colorbar": {
             "outlinewidth": 0,
             "ticks": ""
            },
            "type": "contourcarpet"
           }
          ],
          "heatmap": [
           {
            "colorbar": {
             "outlinewidth": 0,
             "ticks": ""
            },
            "colorscale": [
             [
              0,
              "#0d0887"
             ],
             [
              0.1111111111111111,
              "#46039f"
             ],
             [
              0.2222222222222222,
              "#7201a8"
             ],
             [
              0.3333333333333333,
              "#9c179e"
             ],
             [
              0.4444444444444444,
              "#bd3786"
             ],
             [
              0.5555555555555556,
              "#d8576b"
             ],
             [
              0.6666666666666666,
              "#ed7953"
             ],
             [
              0.7777777777777778,
              "#fb9f3a"
             ],
             [
              0.8888888888888888,
              "#fdca26"
             ],
             [
              1,
              "#f0f921"
             ]
            ],
            "type": "heatmap"
           }
          ],
          "heatmapgl": [
           {
            "colorbar": {
             "outlinewidth": 0,
             "ticks": ""
            },
            "colorscale": [
             [
              0,
              "#0d0887"
             ],
             [
              0.1111111111111111,
              "#46039f"
             ],
             [
              0.2222222222222222,
              "#7201a8"
             ],
             [
              0.3333333333333333,
              "#9c179e"
             ],
             [
              0.4444444444444444,
              "#bd3786"
             ],
             [
              0.5555555555555556,
              "#d8576b"
             ],
             [
              0.6666666666666666,
              "#ed7953"
             ],
             [
              0.7777777777777778,
              "#fb9f3a"
             ],
             [
              0.8888888888888888,
              "#fdca26"
             ],
             [
              1,
              "#f0f921"
             ]
            ],
            "type": "heatmapgl"
           }
          ],
          "histogram": [
           {
            "marker": {
             "colorbar": {
              "outlinewidth": 0,
              "ticks": ""
             }
            },
            "type": "histogram"
           }
          ],
          "histogram2d": [
           {
            "colorbar": {
             "outlinewidth": 0,
             "ticks": ""
            },
            "colorscale": [
             [
              0,
              "#0d0887"
             ],
             [
              0.1111111111111111,
              "#46039f"
             ],
             [
              0.2222222222222222,
              "#7201a8"
             ],
             [
              0.3333333333333333,
              "#9c179e"
             ],
             [
              0.4444444444444444,
              "#bd3786"
             ],
             [
              0.5555555555555556,
              "#d8576b"
             ],
             [
              0.6666666666666666,
              "#ed7953"
             ],
             [
              0.7777777777777778,
              "#fb9f3a"
             ],
             [
              0.8888888888888888,
              "#fdca26"
             ],
             [
              1,
              "#f0f921"
             ]
            ],
            "type": "histogram2d"
           }
          ],
          "histogram2dcontour": [
           {
            "colorbar": {
             "outlinewidth": 0,
             "ticks": ""
            },
            "colorscale": [
             [
              0,
              "#0d0887"
             ],
             [
              0.1111111111111111,
              "#46039f"
             ],
             [
              0.2222222222222222,
              "#7201a8"
             ],
             [
              0.3333333333333333,
              "#9c179e"
             ],
             [
              0.4444444444444444,
              "#bd3786"
             ],
             [
              0.5555555555555556,
              "#d8576b"
             ],
             [
              0.6666666666666666,
              "#ed7953"
             ],
             [
              0.7777777777777778,
              "#fb9f3a"
             ],
             [
              0.8888888888888888,
              "#fdca26"
             ],
             [
              1,
              "#f0f921"
             ]
            ],
            "type": "histogram2dcontour"
           }
          ],
          "mesh3d": [
           {
            "colorbar": {
             "outlinewidth": 0,
             "ticks": ""
            },
            "type": "mesh3d"
           }
          ],
          "parcoords": [
           {
            "line": {
             "colorbar": {
              "outlinewidth": 0,
              "ticks": ""
             }
            },
            "type": "parcoords"
           }
          ],
          "pie": [
           {
            "automargin": true,
            "type": "pie"
           }
          ],
          "scatter": [
           {
            "marker": {
             "colorbar": {
              "outlinewidth": 0,
              "ticks": ""
             }
            },
            "type": "scatter"
           }
          ],
          "scatter3d": [
           {
            "line": {
             "colorbar": {
              "outlinewidth": 0,
              "ticks": ""
             }
            },
            "marker": {
             "colorbar": {
              "outlinewidth": 0,
              "ticks": ""
             }
            },
            "type": "scatter3d"
           }
          ],
          "scattercarpet": [
           {
            "marker": {
             "colorbar": {
              "outlinewidth": 0,
              "ticks": ""
             }
            },
            "type": "scattercarpet"
           }
          ],
          "scattergeo": [
           {
            "marker": {
             "colorbar": {
              "outlinewidth": 0,
              "ticks": ""
             }
            },
            "type": "scattergeo"
           }
          ],
          "scattergl": [
           {
            "marker": {
             "colorbar": {
              "outlinewidth": 0,
              "ticks": ""
             }
            },
            "type": "scattergl"
           }
          ],
          "scattermapbox": [
           {
            "marker": {
             "colorbar": {
              "outlinewidth": 0,
              "ticks": ""
             }
            },
            "type": "scattermapbox"
           }
          ],
          "scatterpolar": [
           {
            "marker": {
             "colorbar": {
              "outlinewidth": 0,
              "ticks": ""
             }
            },
            "type": "scatterpolar"
           }
          ],
          "scatterpolargl": [
           {
            "marker": {
             "colorbar": {
              "outlinewidth": 0,
              "ticks": ""
             }
            },
            "type": "scatterpolargl"
           }
          ],
          "scatterternary": [
           {
            "marker": {
             "colorbar": {
              "outlinewidth": 0,
              "ticks": ""
             }
            },
            "type": "scatterternary"
           }
          ],
          "surface": [
           {
            "colorbar": {
             "outlinewidth": 0,
             "ticks": ""
            },
            "colorscale": [
             [
              0,
              "#0d0887"
             ],
             [
              0.1111111111111111,
              "#46039f"
             ],
             [
              0.2222222222222222,
              "#7201a8"
             ],
             [
              0.3333333333333333,
              "#9c179e"
             ],
             [
              0.4444444444444444,
              "#bd3786"
             ],
             [
              0.5555555555555556,
              "#d8576b"
             ],
             [
              0.6666666666666666,
              "#ed7953"
             ],
             [
              0.7777777777777778,
              "#fb9f3a"
             ],
             [
              0.8888888888888888,
              "#fdca26"
             ],
             [
              1,
              "#f0f921"
             ]
            ],
            "type": "surface"
           }
          ],
          "table": [
           {
            "cells": {
             "fill": {
              "color": "#EBF0F8"
             },
             "line": {
              "color": "white"
             }
            },
            "header": {
             "fill": {
              "color": "#C8D4E3"
             },
             "line": {
              "color": "white"
             }
            },
            "type": "table"
           }
          ]
         },
         "layout": {
          "annotationdefaults": {
           "arrowcolor": "#2a3f5f",
           "arrowhead": 0,
           "arrowwidth": 1
          },
          "coloraxis": {
           "colorbar": {
            "outlinewidth": 0,
            "ticks": ""
           }
          },
          "colorscale": {
           "diverging": [
            [
             0,
             "#8e0152"
            ],
            [
             0.1,
             "#c51b7d"
            ],
            [
             0.2,
             "#de77ae"
            ],
            [
             0.3,
             "#f1b6da"
            ],
            [
             0.4,
             "#fde0ef"
            ],
            [
             0.5,
             "#f7f7f7"
            ],
            [
             0.6,
             "#e6f5d0"
            ],
            [
             0.7,
             "#b8e186"
            ],
            [
             0.8,
             "#7fbc41"
            ],
            [
             0.9,
             "#4d9221"
            ],
            [
             1,
             "#276419"
            ]
           ],
           "sequential": [
            [
             0,
             "#0d0887"
            ],
            [
             0.1111111111111111,
             "#46039f"
            ],
            [
             0.2222222222222222,
             "#7201a8"
            ],
            [
             0.3333333333333333,
             "#9c179e"
            ],
            [
             0.4444444444444444,
             "#bd3786"
            ],
            [
             0.5555555555555556,
             "#d8576b"
            ],
            [
             0.6666666666666666,
             "#ed7953"
            ],
            [
             0.7777777777777778,
             "#fb9f3a"
            ],
            [
             0.8888888888888888,
             "#fdca26"
            ],
            [
             1,
             "#f0f921"
            ]
           ],
           "sequentialminus": [
            [
             0,
             "#0d0887"
            ],
            [
             0.1111111111111111,
             "#46039f"
            ],
            [
             0.2222222222222222,
             "#7201a8"
            ],
            [
             0.3333333333333333,
             "#9c179e"
            ],
            [
             0.4444444444444444,
             "#bd3786"
            ],
            [
             0.5555555555555556,
             "#d8576b"
            ],
            [
             0.6666666666666666,
             "#ed7953"
            ],
            [
             0.7777777777777778,
             "#fb9f3a"
            ],
            [
             0.8888888888888888,
             "#fdca26"
            ],
            [
             1,
             "#f0f921"
            ]
           ]
          },
          "colorway": [
           "#636efa",
           "#EF553B",
           "#00cc96",
           "#ab63fa",
           "#FFA15A",
           "#19d3f3",
           "#FF6692",
           "#B6E880",
           "#FF97FF",
           "#FECB52"
          ],
          "font": {
           "color": "#2a3f5f"
          },
          "geo": {
           "bgcolor": "white",
           "lakecolor": "white",
           "landcolor": "#E5ECF6",
           "showlakes": true,
           "showland": true,
           "subunitcolor": "white"
          },
          "hoverlabel": {
           "align": "left"
          },
          "hovermode": "closest",
          "mapbox": {
           "style": "light"
          },
          "paper_bgcolor": "white",
          "plot_bgcolor": "#E5ECF6",
          "polar": {
           "angularaxis": {
            "gridcolor": "white",
            "linecolor": "white",
            "ticks": ""
           },
           "bgcolor": "#E5ECF6",
           "radialaxis": {
            "gridcolor": "white",
            "linecolor": "white",
            "ticks": ""
           }
          },
          "scene": {
           "xaxis": {
            "backgroundcolor": "#E5ECF6",
            "gridcolor": "white",
            "gridwidth": 2,
            "linecolor": "white",
            "showbackground": true,
            "ticks": "",
            "zerolinecolor": "white"
           },
           "yaxis": {
            "backgroundcolor": "#E5ECF6",
            "gridcolor": "white",
            "gridwidth": 2,
            "linecolor": "white",
            "showbackground": true,
            "ticks": "",
            "zerolinecolor": "white"
           },
           "zaxis": {
            "backgroundcolor": "#E5ECF6",
            "gridcolor": "white",
            "gridwidth": 2,
            "linecolor": "white",
            "showbackground": true,
            "ticks": "",
            "zerolinecolor": "white"
           }
          },
          "shapedefaults": {
           "line": {
            "color": "#2a3f5f"
           }
          },
          "ternary": {
           "aaxis": {
            "gridcolor": "white",
            "linecolor": "white",
            "ticks": ""
           },
           "baxis": {
            "gridcolor": "white",
            "linecolor": "white",
            "ticks": ""
           },
           "bgcolor": "#E5ECF6",
           "caxis": {
            "gridcolor": "white",
            "linecolor": "white",
            "ticks": ""
           }
          },
          "title": {
           "x": 0.05
          },
          "xaxis": {
           "automargin": true,
           "gridcolor": "white",
           "linecolor": "white",
           "ticks": "",
           "title": {
            "standoff": 15
           },
           "zerolinecolor": "white",
           "zerolinewidth": 2
          },
          "yaxis": {
           "automargin": true,
           "gridcolor": "white",
           "linecolor": "white",
           "ticks": "",
           "title": {
            "standoff": 15
           },
           "zerolinecolor": "white",
           "zerolinewidth": 2
          }
         }
        },
        "xaxis": {
         "showspikes": true
        },
        "yaxis": {
         "showspikes": true
        }
       },
       "_model_module_version": "4.6.0",
       "_py2js_addTraces": {},
       "_py2js_animate": {},
       "_py2js_deleteTraces": {},
       "_py2js_moveTraces": {},
       "_py2js_removeLayoutProps": {},
       "_py2js_removeTraceProps": {},
       "_view_count": 3,
       "_view_module_version": "4.6.0"
      }
     },
     "be57f20b255f4c0b9023f112d373d611": {
      "model_module": "@jupyter-widgets/controls",
      "model_module_version": "1.5.0",
      "model_name": "HBoxModel",
      "state": {
       "children": [
        "IPY_MODEL_1ec8f55c33814788ab29bbbee6cc389c",
        "IPY_MODEL_69cf716ba81a428d8dba0028423ea925"
       ],
       "layout": "IPY_MODEL_d448c28a1301401f851618bd8b791200"
      }
     },
     "bfcd031c87924f12b28f777149a53e90": {
      "model_module": "@jupyter-widgets/controls",
      "model_module_version": "1.5.0",
      "model_name": "HBoxModel",
      "state": {
       "children": [
        "IPY_MODEL_52d7f3cf239e45fdadd7bbf1b7f2ec76",
        "IPY_MODEL_1e22f5f1280a4039aa6c32949246b7f0"
       ],
       "layout": "IPY_MODEL_6180213a8a9246e4a49d6b0e994c8a9c"
      }
     },
     "ca12a2bf59354adf953612150c23fbff": {
      "model_module": "@jupyter-widgets/controls",
      "model_module_version": "1.5.0",
      "model_name": "DropdownModel",
      "state": {
       "_options_labels": [
        "On",
        "Off"
       ],
       "description": "Turn plots:",
       "index": 0,
       "layout": "IPY_MODEL_9318b50a4cee4c8b923a4abe0b7aec45",
       "style": "IPY_MODEL_95f73f85174348fdb4cbd01cf2e52468"
      }
     },
     "ce0451372c1f4176aad401631eb17159": {
      "model_module": "@jupyter-widgets/controls",
      "model_module_version": "1.5.0",
      "model_name": "VBoxModel",
      "state": {
       "children": [
        "IPY_MODEL_f68842e871fd48119c8c20cd3985bed1",
        "IPY_MODEL_7e38112ff28a43458780fb9af774aa2b",
        "IPY_MODEL_a859627a6e07482bb9cb5f863cf267d2"
       ],
       "layout": "IPY_MODEL_314af17a0bc14ebb8e94118e390946bb"
      }
     },
     "d0509c4de6d0422a98432b85f3d81653": {
      "model_module": "@jupyter-widgets/controls",
      "model_module_version": "1.5.0",
      "model_name": "VBoxModel",
      "state": {
       "children": [
        "IPY_MODEL_8746fd06a4824c75bf2e302a33166528",
        "IPY_MODEL_bda3bdb4f9054f8288a3d41753004ee6",
        "IPY_MODEL_053a695f0f654d2c86847503f30205e3"
       ],
       "layout": "IPY_MODEL_5f2d524cd81c4d9c86c30d64aa42c877"
      }
     },
     "d448c28a1301401f851618bd8b791200": {
      "model_module": "@jupyter-widgets/base",
      "model_module_version": "1.2.0",
      "model_name": "LayoutModel",
      "state": {}
     },
     "d600fb6d71b44c23b65db844931c8da6": {
      "buffers": [
       {
        "data": "Bi/nv0XLwT8GL+e/RcvBP8kxT76FrL0/F+MZ6b76vj+Wi87JpRzBPwYv579Fy8E/yTFPvoWsvT8X4xnpvvq+P5aLzsmlHME/",
        "encoding": "base64",
        "path": [
         "_data",
         0,
         "y",
         "value"
        ]
       },
       {
        "data": "7tf/Q09C0D+/QXD0NVPTP2vhDovKSNY/i0GYcOdn2D8=",
        "encoding": "base64",
        "path": [
         "_data",
         1,
         "y",
         "value"
        ]
       },
       {
        "data": "zhrWEgPgzz8H3+5cHEHTP3bOkf/6WdY/yoW115lW2D8=",
        "encoding": "base64",
        "path": [
         "_data",
         2,
         "y",
         "value"
        ]
       },
       {
        "data": "vb6KUufa0z8OHduSGpbXP366KEUdVNk/s+N7Qu372j8=",
        "encoding": "base64",
        "path": [
         "_data",
         3,
         "y",
         "value"
        ]
       },
       {
        "data": "1rG7Eio3xz97aX1+AdTMP9R0gkAe2NA/gQPlBQU00z8=",
        "encoding": "base64",
        "path": [
         "_data",
         4,
         "y",
         "value"
        ]
       },
       {
        "data": "eKgmdx5k0D8dg4V/e2zTP3j21OXzfdY/WbfXcyR72D8=",
        "encoding": "base64",
        "path": [
         "_data",
         5,
         "y",
         "value"
        ]
       },
       {
        "data": "qUNcEKsL0D8c7BpQvnLTP3RcIfp1nNY/gXxY4q962D8=",
        "encoding": "base64",
        "path": [
         "_data",
         6,
         "y",
         "value"
        ]
       },
       {
        "data": "AcXXVizw0j+b9hXGR5DWP8NiitFLLdk/+JGoErnF2T8=",
        "encoding": "base64",
        "path": [
         "_data",
         7,
         "y",
         "value"
        ]
       },
       {
        "data": "CbFunE7qxT8z7BkrxEjLP5rGhNxB6s8/tyrbdSIL0j8=",
        "encoding": "base64",
        "path": [
         "_data",
         8,
         "y",
         "value"
        ]
       },
       {
        "data": "G6oom+D6zz+SeabJ6WvTP6iOwcK/PdY/KGkYtuRU2D8=",
        "encoding": "base64",
        "path": [
         "_data",
         9,
         "y",
         "value"
        ]
       },
       {
        "data": "G6oom+D6zz+SeabJ6WvTP6iOwcK/PdY/KGkYtuRU2D8=",
        "encoding": "base64",
        "path": [
         "_data",
         10,
         "y",
         "value"
        ]
       },
       {
        "data": "C5IG65d91T/medLG6snYPwJ/K4fp1tk/G1VRIyiX3z8=",
        "encoding": "base64",
        "path": [
         "_data",
         11,
         "y",
         "value"
        ]
       },
       {
        "data": "tagtZ1wryT89MJjZQ23PP3881lPjM9I/x4BIWUK/1D8=",
        "encoding": "base64",
        "path": [
         "_data",
         12,
         "y",
         "value"
        ]
       },
       {
        "data": "p3C31k4qwT+ncLfWTirBP6/lEZu77bw/OUcRhcY5vT9lLNM6uFzAP6dwt9ZOKsE/r+URm7vtvD85RxGFxjm9P2Us0zq4XMA/",
        "encoding": "base64",
        "path": [
         "_data",
         13,
         "y",
         "value"
        ]
       },
       {
        "data": "PuQzX8LDwT8+5DNfwsPBP1yak4QEvrs/s0BCwNn/vT+CXPFojJbAPz7kM1/Cw8E/XJqThAS+uz+zQELA2f+9P4Jc8WiMlsA/",
        "encoding": "base64",
        "path": [
         "_data",
         14,
         "y",
         "value"
        ]
       },
       {
        "data": "GtKkTPU/vz9m+xxXiH69P3i85M+oBsA/BN8nKDhiwj8=",
        "encoding": "base64",
        "path": [
         "_data",
         15,
         "y",
         "value"
        ]
       },
       {
        "data": "j8nX9y4XwT8kMb74Z8/DP+YkNBpOh8c/73knZZdmyz8=",
        "encoding": "base64",
        "path": [
         "_data",
         16,
         "y",
         "value"
        ]
       },
       {
        "data": "j8nX9y4XwT8kMb74Z8/DP+YkNBpOh8c/73knZZdmyz8=",
        "encoding": "base64",
        "path": [
         "_data",
         17,
         "y",
         "value"
        ]
       },
       {
        "data": "a2PPMu+I6T8AAAAAAADwPwAAAAAAAPA/AAAAAAAA8D8=",
        "encoding": "base64",
        "path": [
         "_data",
         18,
         "y",
         "value"
        ]
       },
       {
        "data": "qm40F9+Y6T8AAAAAAADwPwAAAAAAAPA/AAAAAAAA8D8=",
        "encoding": "base64",
        "path": [
         "_data",
         19,
         "y",
         "value"
        ]
       },
       {
        "data": "5Yo0ylUk7j8AAAAAAADwPwAAAAAAAPA/AAAAAAAA8D8=",
        "encoding": "base64",
        "path": [
         "_data",
         20,
         "y",
         "value"
        ]
       },
       {
        "data": "LkWrveFN4T9hMcXopZbsPwAAAAAAAPA/AAAAAAAA8D8=",
        "encoding": "base64",
        "path": [
         "_data",
         21,
         "y",
         "value"
        ]
       },
       {
        "data": "GdBt8f8vwT8Z0G3x/y/BP/CKKmsp37w/KWIoeB0svT/lSC98GUzAPxnQbfH/L8E/8IoqaynfvD8pYih4HSy9P+VIL3wZTMA/",
        "encoding": "base64",
        "path": [
         "_data",
         22,
         "y",
         "value"
        ]
       },
       {
        "data": "R7KH7VeJwD/4zKqJzxTCP2a5BHDtRcU/rferMa/gyD8=",
        "encoding": "base64",
        "path": [
         "_data",
         23,
         "y",
         "value"
        ]
       },
       {
        "data": "3xSP2QFowT9iXtRKzzPEPzvAccgSIMg/z68cgCkqzD8=",
        "encoding": "base64",
        "path": [
         "_data",
         24,
         "y",
         "value"
        ]
       },
       {
        "data": "3xSP2QFowT9iXtRKzzPEPzvAccgSIMg/z68cgCkqzD8=",
        "encoding": "base64",
        "path": [
         "_data",
         25,
         "y",
         "value"
        ]
       },
       {
        "data": "R7KH7VeJwD/4zKqJzxTCP2a5BHDtRcU/rferMa/gyD8=",
        "encoding": "base64",
        "path": [
         "_data",
         26,
         "y",
         "value"
        ]
       },
       {
        "data": "lBlexCBfwT9x7ld29x/CP70n51cOwMQ/7tW1T/vRxz8=",
        "encoding": "base64",
        "path": [
         "_data",
         27,
         "y",
         "value"
        ]
       },
       {
        "data": "fHJ+5QBMwT+T2tr9wI/CPwNyXWwmXcU/BKrw9L4DyT8=",
        "encoding": "base64",
        "path": [
         "_data",
         28,
         "y",
         "value"
        ]
       },
       {
        "data": "GdBt8f8vwT8Z0G3x/y/BP/CKKmsp37w/KWIoeB0svT/lSC98GUzAPxnQbfH/L8E/8IoqaynfvD8pYih4HSy9P+VIL3wZTMA/",
        "encoding": "base64",
        "path": [
         "_data",
         29,
         "y",
         "value"
        ]
       },
       {
        "data": "GdBt8f8vwT/wiiprKd+8PyliKHgdLL0/5UgvfBlMwD8Z0G3x/y/BP/CKKmsp37w/KWIoeB0svT/lSC98GUzAPw==",
        "encoding": "base64",
        "path": [
         "_data",
         30,
         "y",
         "value"
        ]
       }
      ],
      "model_module": "plotlywidget",
      "model_module_version": "4.6.0",
      "model_name": "FigureModel",
      "state": {
       "_config": {
        "plotlyServerURL": "https://plot.ly"
       },
       "_data": [
        {
         "hovertemplate": "%{text}",
         "name": "gauss_3_3",
         "showlegend": true,
         "text": [
          "bad4: 0.13901588316218055<br>Experiment id:<br> ALG_005_EXP_002-PatchMatch-MacLean_et_al-Numba<br>Scene: cones<br>kernel size: 3x3<br>kernel spec: gauss_3_3<br>match:10<br>bad4: 0.13901588316218055<br>IMG res:450x375",
          "bad4: 0.13901588316218055<br>Experiment id:<br> ALG_005_EXP_002-PatchMatch-MacLean_et_al-Numba<br>Scene: cones<br>kernel size: 3x3<br>kernel spec: gauss_3_3<br>match:10<br>bad4: 0.13901588316218055<br>IMG res:450x375",
          "bad4: 0.11591373344635438<br>Experiment id:<br> ALG_005_EXP_002-PatchMatch-MacLean_et_al-Numba<br>Scene: cones<br>kernel size: 3x3<br>kernel spec: gauss_3_3<br>match:20<br>bad4: 0.11591373344635438<br>IMG res:450x375",
          "bad4: 0.12101357642121645<br>Experiment id:<br> ALG_005_EXP_002-PatchMatch-MacLean_et_al-Numba<br>Scene: cones<br>kernel size: 3x3<br>kernel spec: gauss_3_3<br>match:30<br>bad4: 0.12101357642121645<br>IMG res:450x375",
          "bad4: 0.13368675569389826<br>Experiment id:<br> ALG_005_EXP_002-PatchMatch-MacLean_et_al-Numba<br>Scene: cones<br>kernel size: 3x3<br>kernel spec: gauss_3_3<br>match:40<br>bad4: 0.13368675569389826<br>IMG res:450x375",
          "bad4: 0.13901588316218055<br>Experiment id:<br> ALG_005_EXP_002-PatchMatch-MacLean_et_al-Numba<br>Scene: cones<br>kernel size: 3x3<br>kernel spec: gauss_3_3<br>match:10<br>bad4: 0.13901588316218055<br>IMG res:450x375",
          "bad4: 0.11591373344635438<br>Experiment id:<br> ALG_005_EXP_002-PatchMatch-MacLean_et_al-Numba<br>Scene: cones<br>kernel size: 3x3<br>kernel spec: gauss_3_3<br>match:20<br>bad4: 0.11591373344635438<br>IMG res:450x375",
          "bad4: 0.12101357642121645<br>Experiment id:<br> ALG_005_EXP_002-PatchMatch-MacLean_et_al-Numba<br>Scene: cones<br>kernel size: 3x3<br>kernel spec: gauss_3_3<br>match:30<br>bad4: 0.12101357642121645<br>IMG res:450x375",
          "bad4: 0.13368675569389826<br>Experiment id:<br> ALG_005_EXP_002-PatchMatch-MacLean_et_al-Numba<br>Scene: cones<br>kernel size: 3x3<br>kernel spec: gauss_3_3<br>match:40<br>bad4: 0.13368675569389826<br>IMG res:450x375"
         ],
         "type": "scatter",
         "uid": "3383205e-189f-4e01-a72d-c022ab9f4344",
         "x": [
          10,
          10,
          20,
          30,
          40,
          10,
          20,
          30,
          40
         ],
         "y": {
          "dtype": "float64",
          "shape": [
           9
          ],
          "value": {}
         }
        },
        {
         "hovertemplate": "%{text}",
         "name": "hsobel",
         "showlegend": true,
         "text": [
          "bad4: 0.25404721870961466<br>Experiment id:<br> ALG_005_EXP_002-PatchMatch-MacLean_et_al-Numba<br>Scene: cones<br>kernel size: 3x3<br>kernel spec: hsobel<br>match:10<br>bad4: 0.25404721870961466<br>IMG res:450x375",
          "bad4: 0.3019537818045385<br>Experiment id:<br> ALG_005_EXP_002-PatchMatch-MacLean_et_al-Numba<br>Scene: cones<br>kernel size: 3x3<br>kernel spec: hsobel<br>match:20<br>bad4: 0.3019537818045385<br>IMG res:450x375",
          "bad4: 0.3481928213109515<br>Experiment id:<br> ALG_005_EXP_002-PatchMatch-MacLean_et_al-Numba<br>Scene: cones<br>kernel size: 3x3<br>kernel spec: hsobel<br>match:30<br>bad4: 0.3481928213109515<br>IMG res:450x375",
          "bad4: 0.381341800647555<br>Experiment id:<br> ALG_005_EXP_002-PatchMatch-MacLean_et_al-Numba<br>Scene: cones<br>kernel size: 3x3<br>kernel spec: hsobel<br>match:40<br>bad4: 0.381341800647555<br>IMG res:450x375"
         ],
         "type": "scatter",
         "uid": "67dc1e86-9507-4299-a963-3eb81e36fc83",
         "x": [
          10,
          20,
          30,
          40
         ],
         "y": {
          "dtype": "float64",
          "shape": [
           4
          ],
          "value": {}
         }
        },
        {
         "hovertemplate": "%{text}",
         "name": "vsobel",
         "showlegend": true,
         "text": [
          "bad4: 0.24902380389922602<br>Experiment id:<br> ALG_005_EXP_002-PatchMatch-MacLean_et_al-Numba<br>Scene: cones<br>kernel size: 3x3<br>kernel spec: vsobel<br>match:10<br>bad4: 0.24902380389922602<br>IMG res:450x375",
          "bad4: 0.3008490474271501<br>Experiment id:<br> ALG_005_EXP_002-PatchMatch-MacLean_et_al-Numba<br>Scene: cones<br>kernel size: 3x3<br>kernel spec: vsobel<br>match:20<br>bad4: 0.3008490474271501<br>IMG res:450x375",
          "bad4: 0.34924197156872283<br>Experiment id:<br> ALG_005_EXP_002-PatchMatch-MacLean_et_al-Numba<br>Scene: cones<br>kernel size: 3x3<br>kernel spec: vsobel<br>match:30<br>bad4: 0.34924197156872283<br>IMG res:450x375",
          "bad4: 0.3802857023748315<br>Experiment id:<br> ALG_005_EXP_002-PatchMatch-MacLean_et_al-Numba<br>Scene: cones<br>kernel size: 3x3<br>kernel spec: vsobel<br>match:40<br>bad4: 0.3802857023748315<br>IMG res:450x375"
         ],
         "type": "scatter",
         "uid": "daac0910-224a-422f-98a1-e9d018decd64",
         "x": [
          10,
          20,
          30,
          40
         ],
         "y": {
          "dtype": "float64",
          "shape": [
           4
          ],
          "value": {}
         }
        },
        {
         "hovertemplate": "%{text}",
         "name": "hvsobel_div2",
         "showlegend": true,
         "text": [
          "bad4: 0.3102358156274752<br>Experiment id:<br> ALG_005_EXP_002-PatchMatch-MacLean_et_al-Numba<br>Scene: cones<br>kernel size: 3x3<br>kernel spec: hvsobel_div2<br>match:10<br>bad4: 0.3102358156274752<br>IMG res:450x375",
          "bad4: 0.3685366090907828<br>Experiment id:<br> ALG_005_EXP_002-PatchMatch-MacLean_et_al-Numba<br>Scene: cones<br>kernel size: 3x3<br>kernel spec: hvsobel_div2<br>match:20<br>bad4: 0.3685366090907828<br>IMG res:450x375",
          "bad4: 0.39575893167322096<br>Experiment id:<br> ALG_005_EXP_002-PatchMatch-MacLean_et_al-Numba<br>Scene: cones<br>kernel size: 3x3<br>kernel spec: hvsobel_div2<br>match:30<br>bad4: 0.39575893167322096<br>IMG res:450x375",
          "bad4: 0.4216263913399942<br>Experiment id:<br> ALG_005_EXP_002-PatchMatch-MacLean_et_al-Numba<br>Scene: cones<br>kernel size: 3x3<br>kernel spec: hvsobel_div2<br>match:40<br>bad4: 0.4216263913399942<br>IMG res:450x375"
         ],
         "type": "scatter",
         "uid": "2abbbaa9-6bf7-4aaa-b35a-e4fd4cda5b7f",
         "x": [
          10,
          20,
          30,
          40
         ],
         "y": {
          "dtype": "float64",
          "shape": [
           4
          ],
          "value": {}
         }
        },
        {
         "hovertemplate": "%{text}",
         "name": "hvsobel_div",
         "showlegend": true,
         "text": [
          "bad4: 0.18137098231035392<br>Experiment id:<br> ALG_005_EXP_002-PatchMatch-MacLean_et_al-Numba<br>Scene: cones<br>kernel size: 3x3<br>kernel spec: hvsobel_div<br>match:10<br>bad4: 0.18137098231035392<br>IMG res:450x375",
          "bad4: 0.2252199046732349<br>Experiment id:<br> ALG_005_EXP_002-PatchMatch-MacLean_et_al-Numba<br>Scene: cones<br>kernel size: 3x3<br>kernel spec: hvsobel_div<br>match:20<br>bad4: 0.2252199046732349<br>IMG res:450x375",
          "bad4: 0.2631908063866153<br>Experiment id:<br> ALG_005_EXP_002-PatchMatch-MacLean_et_al-Numba<br>Scene: cones<br>kernel size: 3x3<br>kernel spec: hvsobel_div<br>match:30<br>bad4: 0.2631908063866153<br>IMG res:450x375",
          "bad4: 0.3000500257076553<br>Experiment id:<br> ALG_005_EXP_002-PatchMatch-MacLean_et_al-Numba<br>Scene: cones<br>kernel size: 3x3<br>kernel spec: hvsobel_div<br>match:40<br>bad4: 0.3000500257076553<br>IMG res:450x375"
         ],
         "type": "scatter",
         "uid": "36f98dcc-b1b7-4fcc-9f37-57805a2d854e",
         "x": [
          10,
          20,
          30,
          40
         ],
         "y": {
          "dtype": "float64",
          "shape": [
           4
          ],
          "value": {}
         }
        },
        {
         "hovertemplate": "%{text}",
         "name": "hscharr",
         "showlegend": true,
         "text": [
          "bad4: 0.2561107791503967<br>Experiment id:<br> ALG_005_EXP_002-PatchMatch-MacLean_et_al-Numba<br>Scene: cones<br>kernel size: 3x3<br>kernel spec: hscharr<br>match:10<br>bad4: 0.2561107791503967<br>IMG res:450x375",
          "bad4: 0.3034962411239109<br>Experiment id:<br> ALG_005_EXP_002-PatchMatch-MacLean_et_al-Numba<br>Scene: cones<br>kernel size: 3x3<br>kernel spec: hscharr<br>match:20<br>bad4: 0.3034962411239109<br>IMG res:450x375",
          "bad4: 0.3514375442935953<br>Experiment id:<br> ALG_005_EXP_002-PatchMatch-MacLean_et_al-Numba<br>Scene: cones<br>kernel size: 3x3<br>kernel spec: hscharr<br>match:30<br>bad4: 0.3514375442935953<br>IMG res:450x375",
          "bad4: 0.3825160151744647<br>Experiment id:<br> ALG_005_EXP_002-PatchMatch-MacLean_et_al-Numba<br>Scene: cones<br>kernel size: 3x3<br>kernel spec: hscharr<br>match:40<br>bad4: 0.3825160151744647<br>IMG res:450x375"
         ],
         "type": "scatter",
         "uid": "078f1bb6-ffb9-4f25-bc82-2a3b01a715d6",
         "x": [
          10,
          20,
          30,
          40
         ],
         "y": {
          "dtype": "float64",
          "shape": [
           4
          ],
          "value": {}
         }
        },
        {
         "hovertemplate": "%{text}",
         "name": "vscharr",
         "showlegend": true,
         "text": [
          "bad4: 0.2507121715325931<br>Experiment id:<br> ALG_005_EXP_002-PatchMatch-MacLean_et_al-Numba<br>Scene: cones<br>kernel size: 3x3<br>kernel spec: vscharr<br>match:10<br>bad4: 0.2507121715325931<br>IMG res:450x375",
          "bad4: 0.30387838194627803<br>Experiment id:<br> ALG_005_EXP_002-PatchMatch-MacLean_et_al-Numba<br>Scene: cones<br>kernel size: 3x3<br>kernel spec: vscharr<br>match:20<br>bad4: 0.30387838194627803<br>IMG res:450x375",
          "bad4: 0.3532996123007657<br>Experiment id:<br> ALG_005_EXP_002-PatchMatch-MacLean_et_al-Numba<br>Scene: cones<br>kernel size: 3x3<br>kernel spec: vscharr<br>match:30<br>bad4: 0.3532996123007657<br>IMG res:450x375",
          "bad4: 0.3824882231146561<br>Experiment id:<br> ALG_005_EXP_002-PatchMatch-MacLean_et_al-Numba<br>Scene: cones<br>kernel size: 3x3<br>kernel spec: vscharr<br>match:40<br>bad4: 0.3824882231146561<br>IMG res:450x375"
         ],
         "type": "scatter",
         "uid": "6d329d2f-7d8c-42a7-81bf-9a9ef2823ff9",
         "x": [
          10,
          20,
          30,
          40
         ],
         "y": {
          "dtype": "float64",
          "shape": [
           4
          ],
          "value": {}
         }
        },
        {
         "hovertemplate": "%{text}",
         "name": "hvscharr_div2",
         "showlegend": true,
         "text": [
          "bad4: 0.2959090087961869<br>Experiment id:<br> ALG_005_EXP_002-PatchMatch-MacLean_et_al-Numba<br>Scene: cones<br>kernel size: 3x3<br>kernel spec: hvscharr_div2<br>match:10<br>bad4: 0.2959090087961869<br>IMG res:450x375",
          "bad4: 0.352556174700888<br>Experiment id:<br> ALG_005_EXP_002-PatchMatch-MacLean_et_al-Numba<br>Scene: cones<br>kernel size: 3x3<br>kernel spec: hvscharr_div2<br>match:20<br>bad4: 0.352556174700888<br>IMG res:450x375",
          "bad4: 0.3933896585745453<br>Experiment id:<br> ALG_005_EXP_002-PatchMatch-MacLean_et_al-Numba<br>Scene: cones<br>kernel size: 3x3<br>kernel spec: hvscharr_div2<br>match:30<br>bad4: 0.3933896585745453<br>IMG res:450x375",
          "bad4: 0.4026930505954449<br>Experiment id:<br> ALG_005_EXP_002-PatchMatch-MacLean_et_al-Numba<br>Scene: cones<br>kernel size: 3x3<br>kernel spec: hvscharr_div2<br>match:40<br>bad4: 0.4026930505954449<br>IMG res:450x375"
         ],
         "type": "scatter",
         "uid": "46dacdc7-177d-4912-bed2-955dbf3a921b",
         "x": [
          10,
          20,
          30,
          40
         ],
         "y": {
          "dtype": "float64",
          "shape": [
           4
          ],
          "value": {}
         }
        },
        {
         "hovertemplate": "%{text}",
         "name": "hvscharr",
         "showlegend": true,
         "text": [
          "bad4: 0.17121298445034253<br>Experiment id:<br> ALG_005_EXP_002-PatchMatch-MacLean_et_al-Numba<br>Scene: cones<br>kernel size: 3x3<br>kernel spec: hvscharr<br>match:10<br>bad4: 0.17121298445034253<br>IMG res:450x375",
          "bad4: 0.21315815071634034<br>Experiment id:<br> ALG_005_EXP_002-PatchMatch-MacLean_et_al-Numba<br>Scene: cones<br>kernel size: 3x3<br>kernel spec: hvscharr<br>match:20<br>bad4: 0.21315815071634034<br>IMG res:450x375",
          "bad4: 0.24933646457207176<br>Experiment id:<br> ALG_005_EXP_002-PatchMatch-MacLean_et_al-Numba<br>Scene: cones<br>kernel size: 3x3<br>kernel spec: hvscharr<br>match:30<br>bad4: 0.24933646457207176<br>IMG res:450x375",
          "bad4: 0.28192960271250506<br>Experiment id:<br> ALG_005_EXP_002-PatchMatch-MacLean_et_al-Numba<br>Scene: cones<br>kernel size: 3x3<br>kernel spec: hvscharr<br>match:40<br>bad4: 0.28192960271250506<br>IMG res:450x375"
         ],
         "type": "scatter",
         "uid": "8797eac4-d652-446d-98cc-0bbf7b07fd11",
         "x": [
          10,
          20,
          30,
          40
         ],
         "y": {
          "dtype": "float64",
          "shape": [
           4
          ],
          "value": {}
         }
        },
        {
         "hovertemplate": "%{text}",
         "name": "hprewitt",
         "showlegend": true,
         "text": [
          "bad4: 0.24984366966357716<br>Experiment id:<br> ALG_005_EXP_002-PatchMatch-MacLean_et_al-Numba<br>Scene: cones<br>kernel size: 3x3<br>kernel spec: hprewitt<br>match:10<br>bad4: 0.24984366966357716<br>IMG res:450x375",
          "bad4: 0.30346150104915026<br>Experiment id:<br> ALG_005_EXP_002-PatchMatch-MacLean_et_al-Numba<br>Scene: cones<br>kernel size: 3x3<br>kernel spec: hprewitt<br>match:20<br>bad4: 0.30346150104915026<br>IMG res:450x375",
          "bad4: 0.34751886386059505<br>Experiment id:<br> ALG_005_EXP_002-PatchMatch-MacLean_et_al-Numba<br>Scene: cones<br>kernel size: 3x3<br>kernel spec: hprewitt<br>match:30<br>bad4: 0.34751886386059505<br>IMG res:450x375",
          "bad4: 0.3801814821505496<br>Experiment id:<br> ALG_005_EXP_002-PatchMatch-MacLean_et_al-Numba<br>Scene: cones<br>kernel size: 3x3<br>kernel spec: hprewitt<br>match:40<br>bad4: 0.3801814821505496<br>IMG res:450x375"
         ],
         "type": "scatter",
         "uid": "dcb6bee1-90c1-4664-970d-a08a9a2fd799",
         "x": [
          10,
          20,
          30,
          40
         ],
         "y": {
          "dtype": "float64",
          "shape": [
           4
          ],
          "value": {}
         }
        },
        {
         "hovertemplate": "%{text}",
         "name": "vprewitt",
         "showlegend": true,
         "text": [
          "bad4: 0.24984366966357716<br>Experiment id:<br> ALG_005_EXP_002-PatchMatch-MacLean_et_al-Numba<br>Scene: cones<br>kernel size: 3x3<br>kernel spec: vprewitt<br>match:10<br>bad4: 0.24984366966357716<br>IMG res:450x375",
          "bad4: 0.30346150104915026<br>Experiment id:<br> ALG_005_EXP_002-PatchMatch-MacLean_et_al-Numba<br>Scene: cones<br>kernel size: 3x3<br>kernel spec: vprewitt<br>match:20<br>bad4: 0.30346150104915026<br>IMG res:450x375",
          "bad4: 0.34751886386059505<br>Experiment id:<br> ALG_005_EXP_002-PatchMatch-MacLean_et_al-Numba<br>Scene: cones<br>kernel size: 3x3<br>kernel spec: vprewitt<br>match:30<br>bad4: 0.34751886386059505<br>IMG res:450x375",
          "bad4: 0.3801814821505496<br>Experiment id:<br> ALG_005_EXP_002-PatchMatch-MacLean_et_al-Numba<br>Scene: cones<br>kernel size: 3x3<br>kernel spec: vprewitt<br>match:40<br>bad4: 0.3801814821505496<br>IMG res:450x375"
         ],
         "type": "scatter",
         "uid": "84615790-ff45-4b6e-84da-a565aa48aeef",
         "x": [
          10,
          20,
          30,
          40
         ],
         "y": {
          "dtype": "float64",
          "shape": [
           4
          ],
          "value": {}
         }
        },
        {
         "hovertemplate": "%{text}",
         "name": "hvprewitt_div2",
         "showlegend": true,
         "text": [
          "bad4: 0.33579061462140264<br>Experiment id:<br> ALG_005_EXP_002-PatchMatch-MacLean_et_al-Numba<br>Scene: cones<br>kernel size: 3x3<br>kernel spec: hvprewitt_div2<br>match:10<br>bad4: 0.33579061462140264<br>IMG res:450x375",
          "bad4: 0.38732404152133737<br>Experiment id:<br> ALG_005_EXP_002-PatchMatch-MacLean_et_al-Numba<br>Scene: cones<br>kernel size: 3x3<br>kernel spec: hvprewitt_div2<br>match:20<br>bad4: 0.38732404152133737<br>IMG res:450x375",
          "bad4: 0.4037422008532162<br>Experiment id:<br> ALG_005_EXP_002-PatchMatch-MacLean_et_al-Numba<br>Scene: cones<br>kernel size: 3x3<br>kernel spec: hvprewitt_div2<br>match:30<br>bad4: 0.4037422008532162<br>IMG res:450x375",
          "bad4: 0.4936008782290899<br>Experiment id:<br> ALG_005_EXP_002-PatchMatch-MacLean_et_al-Numba<br>Scene: cones<br>kernel size: 3x3<br>kernel spec: hvprewitt_div2<br>match:40<br>bad4: 0.4936008782290899<br>IMG res:450x375"
         ],
         "type": "scatter",
         "uid": "c37caacb-cfcd-4ac7-a5ba-fb0671add6f1",
         "x": [
          10,
          20,
          30,
          40
         ],
         "y": {
          "dtype": "float64",
          "shape": [
           4
          ],
          "value": {}
         }
        },
        {
         "hovertemplate": "%{text}",
         "name": "hvprewitt",
         "showlegend": true,
         "text": [
          "bad4: 0.19663577116017952<br>Experiment id:<br> ALG_005_EXP_002-PatchMatch-MacLean_et_al-Numba<br>Scene: cones<br>kernel size: 3x3<br>kernel spec: hvprewitt<br>match:10<br>bad4: 0.19663577116017952<br>IMG res:450x375",
          "bad4: 0.2455220043633534<br>Experiment id:<br> ALG_005_EXP_002-PatchMatch-MacLean_et_al-Numba<br>Scene: cones<br>kernel size: 3x3<br>kernel spec: hvprewitt<br>match:20<br>bad4: 0.2455220043633534<br>IMG res:450x375",
          "bad4: 0.2844169920653669<br>Experiment id:<br> ALG_005_EXP_002-PatchMatch-MacLean_et_al-Numba<br>Scene: cones<br>kernel size: 3x3<br>kernel spec: hvprewitt<br>match:30<br>bad4: 0.2844169920653669<br>IMG res:450x375",
          "bad4: 0.32417353362144435<br>Experiment id:<br> ALG_005_EXP_002-PatchMatch-MacLean_et_al-Numba<br>Scene: cones<br>kernel size: 3x3<br>kernel spec: hvprewitt<br>match:40<br>bad4: 0.32417353362144435<br>IMG res:450x375"
         ],
         "type": "scatter",
         "uid": "f31aba72-ccb7-4ea5-9287-7e16403559c0",
         "x": [
          10,
          20,
          30,
          40
         ],
         "y": {
          "dtype": "float64",
          "shape": [
           4
          ],
          "value": {}
         }
        },
        {
         "hovertemplate": "%{text}",
         "name": "gauss_5_3",
         "showlegend": true,
         "text": [
          "bad4: 0.13410363659102595<br>Experiment id:<br> ALG_005_EXP_002-PatchMatch-MacLean_et_al-Numba<br>Scene: cones<br>kernel size: 5x3<br>kernel spec: gauss_5_3<br>match:10<br>bad4: 0.13410363659102595<br>IMG res:450x375",
          "bad4: 0.13410363659102595<br>Experiment id:<br> ALG_005_EXP_002-PatchMatch-MacLean_et_al-Numba<br>Scene: cones<br>kernel size: 5x3<br>kernel spec: gauss_5_3<br>match:10<br>bad4: 0.13410363659102595<br>IMG res:450x375",
          "bad4: 0.11300251518141267<br>Experiment id:<br> ALG_005_EXP_002-PatchMatch-MacLean_et_al-Numba<br>Scene: cones<br>kernel size: 5x3<br>kernel spec: gauss_5_3<br>match:20<br>bad4: 0.11300251518141267<br>IMG res:450x375",
          "bad4: 0.11416283367841808<br>Experiment id:<br> ALG_005_EXP_002-PatchMatch-MacLean_et_al-Numba<br>Scene: cones<br>kernel size: 5x3<br>kernel spec: gauss_5_3<br>match:30<br>bad4: 0.11416283367841808<br>IMG res:450x375",
          "bad4: 0.1278295790892542<br>Experiment id:<br> ALG_005_EXP_002-PatchMatch-MacLean_et_al-Numba<br>Scene: cones<br>kernel size: 5x3<br>kernel spec: gauss_5_3<br>match:40<br>bad4: 0.1278295790892542<br>IMG res:450x375",
          "bad4: 0.13410363659102595<br>Experiment id:<br> ALG_005_EXP_002-PatchMatch-MacLean_et_al-Numba<br>Scene: cones<br>kernel size: 5x3<br>kernel spec: gauss_5_3<br>match:10<br>bad4: 0.13410363659102595<br>IMG res:450x375",
          "bad4: 0.11300251518141267<br>Experiment id:<br> ALG_005_EXP_002-PatchMatch-MacLean_et_al-Numba<br>Scene: cones<br>kernel size: 5x3<br>kernel spec: gauss_5_3<br>match:20<br>bad4: 0.11300251518141267<br>IMG res:450x375",
          "bad4: 0.11416283367841808<br>Experiment id:<br> ALG_005_EXP_002-PatchMatch-MacLean_et_al-Numba<br>Scene: cones<br>kernel size: 5x3<br>kernel spec: gauss_5_3<br>match:30<br>bad4: 0.11416283367841808<br>IMG res:450x375",
          "bad4: 0.1278295790892542<br>Experiment id:<br> ALG_005_EXP_002-PatchMatch-MacLean_et_al-Numba<br>Scene: cones<br>kernel size: 5x3<br>kernel spec: gauss_5_3<br>match:40<br>bad4: 0.1278295790892542<br>IMG res:450x375"
         ],
         "type": "scatter",
         "uid": "398de2d5-c8e5-4326-a3ed-8fa547693986",
         "x": [
          10,
          10,
          20,
          30,
          40,
          10,
          20,
          30,
          40
         ],
         "y": {
          "dtype": "float64",
          "shape": [
           9
          ],
          "value": {}
         }
        },
        {
         "hovertemplate": "%{text}",
         "name": "gauss_5_5",
         "showlegend": true,
         "text": [
          "bad4: 0.13878659866876036<br>Experiment id:<br> ALG_005_EXP_002-PatchMatch-MacLean_et_al-Numba<br>Scene: cones<br>kernel size: 5x5<br>kernel spec: gauss_5_5<br>match:10<br>bad4: 0.13878659866876036<br>IMG res:450x375",
          "bad4: 0.13878659866876036<br>Experiment id:<br> ALG_005_EXP_002-PatchMatch-MacLean_et_al-Numba<br>Scene: cones<br>kernel size: 5x5<br>kernel spec: gauss_5_5<br>match:10<br>bad4: 0.13878659866876036<br>IMG res:450x375",
          "bad4: 0.10836818920834318<br>Experiment id:<br> ALG_005_EXP_002-PatchMatch-MacLean_et_al-Numba<br>Scene: cones<br>kernel size: 5x5<br>kernel spec: gauss_5_5<br>match:20<br>bad4: 0.10836818920834318<br>IMG res:450x375",
          "bad4: 0.11718522018259385<br>Experiment id:<br> ALG_005_EXP_002-PatchMatch-MacLean_et_al-Numba<br>Scene: cones<br>kernel size: 5x5<br>kernel spec: gauss_5_5<br>match:30<br>bad4: 0.11718522018259385<br>IMG res:450x375",
          "bad4: 0.12959437488709474<br>Experiment id:<br> ALG_005_EXP_002-PatchMatch-MacLean_et_al-Numba<br>Scene: cones<br>kernel size: 5x5<br>kernel spec: gauss_5_5<br>match:40<br>bad4: 0.12959437488709474<br>IMG res:450x375",
          "bad4: 0.13878659866876036<br>Experiment id:<br> ALG_005_EXP_002-PatchMatch-MacLean_et_al-Numba<br>Scene: cones<br>kernel size: 5x5<br>kernel spec: gauss_5_5<br>match:10<br>bad4: 0.13878659866876036<br>IMG res:450x375",
          "bad4: 0.10836818920834318<br>Experiment id:<br> ALG_005_EXP_002-PatchMatch-MacLean_et_al-Numba<br>Scene: cones<br>kernel size: 5x5<br>kernel spec: gauss_5_5<br>match:20<br>bad4: 0.10836818920834318<br>IMG res:450x375",
          "bad4: 0.11718522018259385<br>Experiment id:<br> ALG_005_EXP_002-PatchMatch-MacLean_et_al-Numba<br>Scene: cones<br>kernel size: 5x5<br>kernel spec: gauss_5_5<br>match:30<br>bad4: 0.11718522018259385<br>IMG res:450x375",
          "bad4: 0.12959437488709474<br>Experiment id:<br> ALG_005_EXP_002-PatchMatch-MacLean_et_al-Numba<br>Scene: cones<br>kernel size: 5x5<br>kernel spec: gauss_5_5<br>match:40<br>bad4: 0.12959437488709474<br>IMG res:450x375"
         ],
         "type": "scatter",
         "uid": "a6a586af-70fa-4ab1-b6ac-c4ee90da16f8",
         "x": [
          10,
          10,
          20,
          30,
          40,
          10,
          20,
          30,
          40
         ],
         "y": {
          "dtype": "float64",
          "shape": [
           9
          ],
          "value": {}
         }
        },
        {
         "hovertemplate": "%{text}",
         "name": "octagon_3_1",
         "showlegend": true,
         "text": [
          "bad4: 0.12206967469393995<br>Experiment id:<br> ALG_005_EXP_002-PatchMatch-MacLean_et_al-Numba<br>Scene: cones<br>kernel size: 5x5<br>kernel spec: octagon_3_1<br>match:10<br>bad4: 0.12206967469393995<br>IMG res:450x375",
          "bad4: 0.11521198393618945<br>Experiment id:<br> ALG_005_EXP_002-PatchMatch-MacLean_et_al-Numba<br>Scene: cones<br>kernel size: 5x5<br>kernel spec: octagon_3_1<br>match:20<br>bad4: 0.11521198393618945<br>IMG res:450x375",
          "bad4: 0.12520322943734974<br>Experiment id:<br> ALG_005_EXP_002-PatchMatch-MacLean_et_al-Numba<br>Scene: cones<br>kernel size: 5x5<br>kernel spec: octagon_3_1<br>match:30<br>bad4: 0.12520322943734974<br>IMG res:450x375",
          "bad4: 0.14362241707544154<br>Experiment id:<br> ALG_005_EXP_002-PatchMatch-MacLean_et_al-Numba<br>Scene: cones<br>kernel size: 5x5<br>kernel spec: octagon_3_1<br>match:40<br>bad4: 0.14362241707544154<br>IMG res:450x375"
         ],
         "type": "scatter",
         "uid": "e19be473-baf2-4e2d-a609-2d7219df3328",
         "x": [
          10,
          20,
          30,
          40
         ],
         "y": {
          "dtype": "float64",
          "shape": [
           4
          ],
          "value": {}
         }
        },
        {
         "hovertemplate": "%{text}",
         "name": "diamond_2",
         "showlegend": true,
         "text": [
          "bad4: 0.13352000333504718<br>Experiment id:<br> ALG_005_EXP_002-PatchMatch-MacLean_et_al-Numba<br>Scene: cones<br>kernel size: 5x5<br>kernel spec: diamond_2<br>match:10<br>bad4: 0.13352000333504718<br>IMG res:450x375",
          "bad4: 0.15476703305865513<br>Experiment id:<br> ALG_005_EXP_002-PatchMatch-MacLean_et_al-Numba<br>Scene: cones<br>kernel size: 5x5<br>kernel spec: diamond_2<br>match:20<br>bad4: 0.15476703305865513<br>IMG res:450x375",
          "bad4: 0.18381668357350306<br>Experiment id:<br> ALG_005_EXP_002-PatchMatch-MacLean_et_al-Numba<br>Scene: cones<br>kernel size: 5x5<br>kernel spec: diamond_2<br>match:30<br>bad4: 0.18381668357350306<br>IMG res:450x375",
          "bad4: 0.21406834067506916<br>Experiment id:<br> ALG_005_EXP_002-PatchMatch-MacLean_et_al-Numba<br>Scene: cones<br>kernel size: 5x5<br>kernel spec: diamond_2<br>match:40<br>bad4: 0.21406834067506916<br>IMG res:450x375"
         ],
         "type": "scatter",
         "uid": "886b06d5-8492-4f89-92bf-662f217580d6",
         "x": [
          10,
          20,
          30,
          40
         ],
         "y": {
          "dtype": "float64",
          "shape": [
           4
          ],
          "value": {}
         }
        },
        {
         "hovertemplate": "%{text}",
         "name": "disk_2",
         "showlegend": true,
         "text": [
          "bad4: 0.13352000333504718<br>Experiment id:<br> ALG_005_EXP_002-PatchMatch-MacLean_et_al-Numba<br>Scene: cones<br>kernel size: 5x5<br>kernel spec: disk_2<br>match:10<br>bad4: 0.13352000333504718<br>IMG res:450x375",
          "bad4: 0.15476703305865513<br>Experiment id:<br> ALG_005_EXP_002-PatchMatch-MacLean_et_al-Numba<br>Scene: cones<br>kernel size: 5x5<br>kernel spec: disk_2<br>match:20<br>bad4: 0.15476703305865513<br>IMG res:450x375",
          "bad4: 0.18381668357350306<br>Experiment id:<br> ALG_005_EXP_002-PatchMatch-MacLean_et_al-Numba<br>Scene: cones<br>kernel size: 5x5<br>kernel spec: disk_2<br>match:30<br>bad4: 0.18381668357350306<br>IMG res:450x375",
          "bad4: 0.21406834067506916<br>Experiment id:<br> ALG_005_EXP_002-PatchMatch-MacLean_et_al-Numba<br>Scene: cones<br>kernel size: 5x5<br>kernel spec: disk_2<br>match:40<br>bad4: 0.21406834067506916<br>IMG res:450x375"
         ],
         "type": "scatter",
         "uid": "5c6d1956-c91f-4375-923c-fb329f295181",
         "x": [
          10,
          20,
          30,
          40
         ],
         "y": {
          "dtype": "float64",
          "shape": [
           4
          ],
          "value": {}
         }
        },
        {
         "hovertemplate": "%{text}",
         "name": "hfarid",
         "showlegend": true,
         "text": [
          "bad4: 0.7979656212220169<br>Experiment id:<br> ALG_005_EXP_002-PatchMatch-MacLean_et_al-Numba<br>Scene: cones<br>kernel size: 5x5<br>kernel spec: hfarid<br>match:10<br>bad4: 0.7979656212220169<br>IMG res:450x375",
          "bad4: 1.0<br>Experiment id:<br> ALG_005_EXP_002-PatchMatch-MacLean_et_al-Numba<br>Scene: cones<br>kernel size: 5x5<br>kernel spec: hfarid<br>match:20<br>bad4: 1.0<br>IMG res:450x375",
          "bad4: 1.0<br>Experiment id:<br> ALG_005_EXP_002-PatchMatch-MacLean_et_al-Numba<br>Scene: cones<br>kernel size: 5x5<br>kernel spec: hfarid<br>match:30<br>bad4: 1.0<br>IMG res:450x375",
          "bad4: 1.0<br>Experiment id:<br> ALG_005_EXP_002-PatchMatch-MacLean_et_al-Numba<br>Scene: cones<br>kernel size: 5x5<br>kernel spec: hfarid<br>match:40<br>bad4: 1.0<br>IMG res:450x375"
         ],
         "type": "scatter",
         "uid": "3a17cd19-fb49-4f98-9272-25731ec5f29c",
         "x": [
          10,
          20,
          30,
          40
         ],
         "y": {
          "dtype": "float64",
          "shape": [
           4
          ],
          "value": {}
         }
        },
        {
         "hovertemplate": "%{text}",
         "name": "vfarid",
         "showlegend": true,
         "text": [
          "bad4: 0.7999110654086128<br>Experiment id:<br> ALG_005_EXP_002-PatchMatch-MacLean_et_al-Numba<br>Scene: cones<br>kernel size: 5x5<br>kernel spec: vfarid<br>match:10<br>bad4: 0.7999110654086128<br>IMG res:450x375",
          "bad4: 1.0<br>Experiment id:<br> ALG_005_EXP_002-PatchMatch-MacLean_et_al-Numba<br>Scene: cones<br>kernel size: 5x5<br>kernel spec: vfarid<br>match:20<br>bad4: 1.0<br>IMG res:450x375",
          "bad4: 1.0<br>Experiment id:<br> ALG_005_EXP_002-PatchMatch-MacLean_et_al-Numba<br>Scene: cones<br>kernel size: 5x5<br>kernel spec: vfarid<br>match:30<br>bad4: 1.0<br>IMG res:450x375",
          "bad4: 1.0<br>Experiment id:<br> ALG_005_EXP_002-PatchMatch-MacLean_et_al-Numba<br>Scene: cones<br>kernel size: 5x5<br>kernel spec: vfarid<br>match:40<br>bad4: 1.0<br>IMG res:450x375"
         ],
         "type": "scatter",
         "uid": "35c41e0d-987b-4fbf-b277-dfea16e6d2b2",
         "x": [
          10,
          20,
          30,
          40
         ],
         "y": {
          "dtype": "float64",
          "shape": [
           4
          ],
          "value": {}
         }
        },
        {
         "hovertemplate": "%{text}",
         "name": "hvfarid_div2",
         "showlegend": true,
         "text": [
          "bad4: 0.9419354390450648<br>Experiment id:<br> ALG_005_EXP_002-PatchMatch-MacLean_et_al-Numba<br>Scene: cones<br>kernel size: 5x5<br>kernel spec: hvfarid_div2<br>match:10<br>bad4: 0.9419354390450648<br>IMG res:450x375",
          "bad4: 1.0<br>Experiment id:<br> ALG_005_EXP_002-PatchMatch-MacLean_et_al-Numba<br>Scene: cones<br>kernel size: 5x5<br>kernel spec: hvfarid_div2<br>match:20<br>bad4: 1.0<br>IMG res:450x375",
          "bad4: 1.0<br>Experiment id:<br> ALG_005_EXP_002-PatchMatch-MacLean_et_al-Numba<br>Scene: cones<br>kernel size: 5x5<br>kernel spec: hvfarid_div2<br>match:30<br>bad4: 1.0<br>IMG res:450x375",
          "bad4: 1.0<br>Experiment id:<br> ALG_005_EXP_002-PatchMatch-MacLean_et_al-Numba<br>Scene: cones<br>kernel size: 5x5<br>kernel spec: hvfarid_div2<br>match:40<br>bad4: 1.0<br>IMG res:450x375"
         ],
         "type": "scatter",
         "uid": "cad86bbe-8267-4361-95d6-87d69f1fd655",
         "x": [
          10,
          20,
          30,
          40
         ],
         "y": {
          "dtype": "float64",
          "shape": [
           4
          ],
          "value": {}
         }
        },
        {
         "hovertemplate": "%{text}",
         "name": "hvfarid",
         "showlegend": true,
         "text": [
          "bad4: 0.5407570557091839<br>Experiment id:<br> ALG_005_EXP_002-PatchMatch-MacLean_et_al-Numba<br>Scene: cones<br>kernel size: 5x5<br>kernel spec: hvfarid<br>match:10<br>bad4: 0.5407570557091839<br>IMG res:450x375",
          "bad4: 0.8933896585745452<br>Experiment id:<br> ALG_005_EXP_002-PatchMatch-MacLean_et_al-Numba<br>Scene: cones<br>kernel size: 5x5<br>kernel spec: hvfarid<br>match:20<br>bad4: 0.8933896585745452<br>IMG res:450x375",
          "bad4: 1.0<br>Experiment id:<br> ALG_005_EXP_002-PatchMatch-MacLean_et_al-Numba<br>Scene: cones<br>kernel size: 5x5<br>kernel spec: hvfarid<br>match:30<br>bad4: 1.0<br>IMG res:450x375",
          "bad4: 1.0<br>Experiment id:<br> ALG_005_EXP_002-PatchMatch-MacLean_et_al-Numba<br>Scene: cones<br>kernel size: 5x5<br>kernel spec: hvfarid<br>match:40<br>bad4: 1.0<br>IMG res:450x375"
         ],
         "type": "scatter",
         "uid": "3ec4a42e-6941-457c-9eef-f4046270e942",
         "x": [
          10,
          20,
          30,
          40
         ],
         "y": {
          "dtype": "float64",
          "shape": [
           4
          ],
          "value": {}
         }
        },
        {
         "hovertemplate": "%{text}",
         "name": "gauss_7_3",
         "showlegend": true,
         "text": [
          "bad4: 0.13427733696482916<br>Experiment id:<br> ALG_005_EXP_002-PatchMatch-MacLean_et_al-Numba<br>Scene: cones<br>kernel size: 7x3<br>kernel spec: gauss_7_3<br>match:10<br>bad4: 0.13427733696482916<br>IMG res:450x375",
          "bad4: 0.13427733696482916<br>Experiment id:<br> ALG_005_EXP_002-PatchMatch-MacLean_et_al-Numba<br>Scene: cones<br>kernel size: 7x3<br>kernel spec: gauss_7_3<br>match:10<br>bad4: 0.13427733696482916<br>IMG res:450x375",
          "bad4: 0.11278017870294454<br>Experiment id:<br> ALG_005_EXP_002-PatchMatch-MacLean_et_al-Numba<br>Scene: cones<br>kernel size: 7x3<br>kernel spec: gauss_7_3<br>match:20<br>bad4: 0.11278017870294454<br>IMG res:450x375",
          "bad4: 0.11395439322985425<br>Experiment id:<br> ALG_005_EXP_002-PatchMatch-MacLean_et_al-Numba<br>Scene: cones<br>kernel size: 7x3<br>kernel spec: gauss_7_3<br>match:30<br>bad4: 0.11395439322985425<br>IMG res:450x375",
          "bad4: 0.12732237399774884<br>Experiment id:<br> ALG_005_EXP_002-PatchMatch-MacLean_et_al-Numba<br>Scene: cones<br>kernel size: 7x3<br>kernel spec: gauss_7_3<br>match:40<br>bad4: 0.12732237399774884<br>IMG res:450x375",
          "bad4: 0.13427733696482916<br>Experiment id:<br> ALG_005_EXP_002-PatchMatch-MacLean_et_al-Numba<br>Scene: cones<br>kernel size: 7x3<br>kernel spec: gauss_7_3<br>match:10<br>bad4: 0.13427733696482916<br>IMG res:450x375",
          "bad4: 0.11278017870294454<br>Experiment id:<br> ALG_005_EXP_002-PatchMatch-MacLean_et_al-Numba<br>Scene: cones<br>kernel size: 7x3<br>kernel spec: gauss_7_3<br>match:20<br>bad4: 0.11278017870294454<br>IMG res:450x375",
          "bad4: 0.11395439322985425<br>Experiment id:<br> ALG_005_EXP_002-PatchMatch-MacLean_et_al-Numba<br>Scene: cones<br>kernel size: 7x3<br>kernel spec: gauss_7_3<br>match:30<br>bad4: 0.11395439322985425<br>IMG res:450x375",
          "bad4: 0.12732237399774884<br>Experiment id:<br> ALG_005_EXP_002-PatchMatch-MacLean_et_al-Numba<br>Scene: cones<br>kernel size: 7x3<br>kernel spec: gauss_7_3<br>match:40<br>bad4: 0.12732237399774884<br>IMG res:450x375"
         ],
         "type": "scatter",
         "uid": "ff16432d-e44f-4b76-8588-133234723b39",
         "x": [
          10,
          10,
          20,
          30,
          40,
          10,
          20,
          30,
          40
         ],
         "y": {
          "dtype": "float64",
          "shape": [
           9
          ],
          "value": {}
         }
        },
        {
         "hovertemplate": "%{text}",
         "name": "star_2",
         "showlegend": true,
         "text": [
          "bad4: 0.12919139001987132<br>Experiment id:<br> ALG_005_EXP_002-PatchMatch-MacLean_et_al-Numba<br>Scene: cones<br>kernel size: 7x7<br>kernel spec: star_2<br>match:10<br>bad4: 0.12919139001987132<br>IMG res:450x375",
          "bad4: 0.14126009199171796<br>Experiment id:<br> ALG_005_EXP_002-PatchMatch-MacLean_et_al-Numba<br>Scene: cones<br>kernel size: 7x7<br>kernel spec: star_2<br>match:20<br>bad4: 0.14126009199171796<br>IMG res:450x375",
          "bad4: 0.166196517654906<br>Experiment id:<br> ALG_005_EXP_002-PatchMatch-MacLean_et_al-Numba<br>Scene: cones<br>kernel size: 7x7<br>kernel spec: star_2<br>match:30<br>bad4: 0.166196517654906<br>IMG res:450x375",
          "bad4: 0.1943568222558815<br>Experiment id:<br> ALG_005_EXP_002-PatchMatch-MacLean_et_al-Numba<br>Scene: cones<br>kernel size: 7x7<br>kernel spec: star_2<br>match:40<br>bad4: 0.1943568222558815<br>IMG res:450x375"
         ],
         "type": "scatter",
         "uid": "e0501294-43e6-4246-b77c-92399a7ed5e6",
         "x": [
          10,
          20,
          30,
          40
         ],
         "y": {
          "dtype": "float64",
          "shape": [
           4
          ],
          "value": {}
         }
        },
        {
         "hovertemplate": "%{text}",
         "name": "octagon_1_3",
         "showlegend": true,
         "text": [
          "bad4: 0.13598654864305268<br>Experiment id:<br> ALG_005_EXP_002-PatchMatch-MacLean_et_al-Numba<br>Scene: cones<br>kernel size: 7x7<br>kernel spec: octagon_1_3<br>match:10<br>bad4: 0.13598654864305268<br>IMG res:450x375",
          "bad4: 0.15783110765254366<br>Experiment id:<br> ALG_005_EXP_002-PatchMatch-MacLean_et_al-Numba<br>Scene: cones<br>kernel size: 7x7<br>kernel spec: octagon_1_3<br>match:20<br>bad4: 0.15783110765254366<br>IMG res:450x375",
          "bad4: 0.18847880160638106<br>Experiment id:<br> ALG_005_EXP_002-PatchMatch-MacLean_et_al-Numba<br>Scene: cones<br>kernel size: 7x7<br>kernel spec: octagon_1_3<br>match:30<br>bad4: 0.18847880160638106<br>IMG res:450x375",
          "bad4: 0.22003668551894726<br>Experiment id:<br> ALG_005_EXP_002-PatchMatch-MacLean_et_al-Numba<br>Scene: cones<br>kernel size: 7x7<br>kernel spec: octagon_1_3<br>match:40<br>bad4: 0.22003668551894726<br>IMG res:450x375"
         ],
         "type": "scatter",
         "uid": "d246f7e9-9974-4036-989c-750997848493",
         "x": [
          10,
          20,
          30,
          40
         ],
         "y": {
          "dtype": "float64",
          "shape": [
           4
          ],
          "value": {}
         }
        },
        {
         "hovertemplate": "%{text}",
         "name": "diamond_3",
         "showlegend": true,
         "text": [
          "bad4: 0.13598654864305268<br>Experiment id:<br> ALG_005_EXP_002-PatchMatch-MacLean_et_al-Numba<br>Scene: cones<br>kernel size: 7x7<br>kernel spec: diamond_3<br>match:10<br>bad4: 0.13598654864305268<br>IMG res:450x375",
          "bad4: 0.15783110765254366<br>Experiment id:<br> ALG_005_EXP_002-PatchMatch-MacLean_et_al-Numba<br>Scene: cones<br>kernel size: 7x7<br>kernel spec: diamond_3<br>match:20<br>bad4: 0.15783110765254366<br>IMG res:450x375",
          "bad4: 0.18847880160638106<br>Experiment id:<br> ALG_005_EXP_002-PatchMatch-MacLean_et_al-Numba<br>Scene: cones<br>kernel size: 7x7<br>kernel spec: diamond_3<br>match:30<br>bad4: 0.18847880160638106<br>IMG res:450x375",
          "bad4: 0.22003668551894726<br>Experiment id:<br> ALG_005_EXP_002-PatchMatch-MacLean_et_al-Numba<br>Scene: cones<br>kernel size: 7x7<br>kernel spec: diamond_3<br>match:40<br>bad4: 0.22003668551894726<br>IMG res:450x375"
         ],
         "type": "scatter",
         "uid": "3d4ff5ce-e7c0-4521-b1ab-57c89020a0de",
         "x": [
          10,
          20,
          30,
          40
         ],
         "y": {
          "dtype": "float64",
          "shape": [
           4
          ],
          "value": {}
         }
        },
        {
         "hovertemplate": "%{text}",
         "name": "disk_3",
         "showlegend": true,
         "text": [
          "bad4: 0.12919139001987132<br>Experiment id:<br> ALG_005_EXP_002-PatchMatch-MacLean_et_al-Numba<br>Scene: cones<br>kernel size: 7x7<br>kernel spec: disk_3<br>match:10<br>bad4: 0.12919139001987132<br>IMG res:450x375",
          "bad4: 0.14126009199171796<br>Experiment id:<br> ALG_005_EXP_002-PatchMatch-MacLean_et_al-Numba<br>Scene: cones<br>kernel size: 7x7<br>kernel spec: disk_3<br>match:20<br>bad4: 0.14126009199171796<br>IMG res:450x375",
          "bad4: 0.166196517654906<br>Experiment id:<br> ALG_005_EXP_002-PatchMatch-MacLean_et_al-Numba<br>Scene: cones<br>kernel size: 7x7<br>kernel spec: disk_3<br>match:30<br>bad4: 0.166196517654906<br>IMG res:450x375",
          "bad4: 0.1943568222558815<br>Experiment id:<br> ALG_005_EXP_002-PatchMatch-MacLean_et_al-Numba<br>Scene: cones<br>kernel size: 7x7<br>kernel spec: disk_3<br>match:40<br>bad4: 0.1943568222558815<br>IMG res:450x375"
         ],
         "type": "scatter",
         "uid": "82f23cfb-cdee-4d8f-b8b1-7790cf0b42a4",
         "x": [
          10,
          20,
          30,
          40
         ],
         "y": {
          "dtype": "float64",
          "shape": [
           4
          ],
          "value": {}
         }
        },
        {
         "hovertemplate": "%{text}",
         "name": "star_3",
         "showlegend": true,
         "text": [
          "bad4: 0.13571557605991968<br>Experiment id:<br> ALG_005_EXP_002-PatchMatch-MacLean_et_al-Numba<br>Scene: cones<br>kernel size: 9x9<br>kernel spec: star_3<br>match:10<br>bad4: 0.13571557605991968<br>IMG res:450x375",
          "bad4: 0.14160054472437225<br>Experiment id:<br> ALG_005_EXP_002-PatchMatch-MacLean_et_al-Numba<br>Scene: cones<br>kernel size: 9x9<br>kernel spec: star_3<br>match:20<br>bad4: 0.14160054472437225<br>IMG res:450x375",
          "bad4: 0.16211108486305462<br>Experiment id:<br> ALG_005_EXP_002-PatchMatch-MacLean_et_al-Numba<br>Scene: cones<br>kernel size: 9x9<br>kernel spec: star_3<br>match:30<br>bad4: 0.16211108486305462<br>IMG res:450x375",
          "bad4: 0.1860956324778011<br>Experiment id:<br> ALG_005_EXP_002-PatchMatch-MacLean_et_al-Numba<br>Scene: cones<br>kernel size: 9x9<br>kernel spec: star_3<br>match:40<br>bad4: 0.1860956324778011<br>IMG res:450x375"
         ],
         "type": "scatter",
         "uid": "b9e1414c-7428-45ea-a077-48d20a5260c1",
         "x": [
          10,
          20,
          30,
          40
         ],
         "y": {
          "dtype": "float64",
          "shape": [
           4
          ],
          "value": {}
         }
        },
        {
         "hovertemplate": "%{text}",
         "name": "disk_4",
         "showlegend": true,
         "text": [
          "bad4: 0.13513194280394092<br>Experiment id:<br> ALG_005_EXP_002-PatchMatch-MacLean_et_al-Numba<br>Scene: cones<br>kernel size: 9x9<br>kernel spec: disk_4<br>match:10<br>bad4: 0.13513194280394092<br>IMG res:450x375",
          "bad4: 0.1450120200658672<br>Experiment id:<br> ALG_005_EXP_002-PatchMatch-MacLean_et_al-Numba<br>Scene: cones<br>kernel size: 9x9<br>kernel spec: disk_4<br>match:20<br>bad4: 0.1450120200658672<br>IMG res:450x375",
          "bad4: 0.16690521518002308<br>Experiment id:<br> ALG_005_EXP_002-PatchMatch-MacLean_et_al-Numba<br>Scene: cones<br>kernel size: 9x9<br>kernel spec: disk_4<br>match:30<br>bad4: 0.16690521518002308<br>IMG res:450x375",
          "bad4: 0.19542681655850924<br>Experiment id:<br> ALG_005_EXP_002-PatchMatch-MacLean_et_al-Numba<br>Scene: cones<br>kernel size: 9x9<br>kernel spec: disk_4<br>match:40<br>bad4: 0.19542681655850924<br>IMG res:450x375"
         ],
         "type": "scatter",
         "uid": "1c2d0757-72bb-4c78-aa24-7a59a581faad",
         "x": [
          10,
          20,
          30,
          40
         ],
         "y": {
          "dtype": "float64",
          "shape": [
           4
          ],
          "value": {}
         }
        },
        {
         "hovertemplate": "%{text}",
         "name": "gauss_11_3",
         "showlegend": true,
         "text": [
          "bad4: 0.13427733696482916<br>Experiment id:<br> ALG_005_EXP_002-PatchMatch-MacLean_et_al-Numba<br>Scene: cones<br>kernel size: 11x3<br>kernel spec: gauss_11_3<br>match:10<br>bad4: 0.13427733696482916<br>IMG res:450x375",
          "bad4: 0.13427733696482916<br>Experiment id:<br> ALG_005_EXP_002-PatchMatch-MacLean_et_al-Numba<br>Scene: cones<br>kernel size: 11x3<br>kernel spec: gauss_11_3<br>match:10<br>bad4: 0.13427733696482916<br>IMG res:450x375",
          "bad4: 0.11278017870294454<br>Experiment id:<br> ALG_005_EXP_002-PatchMatch-MacLean_et_al-Numba<br>Scene: cones<br>kernel size: 11x3<br>kernel spec: gauss_11_3<br>match:20<br>bad4: 0.11278017870294454<br>IMG res:450x375",
          "bad4: 0.11395439322985425<br>Experiment id:<br> ALG_005_EXP_002-PatchMatch-MacLean_et_al-Numba<br>Scene: cones<br>kernel size: 11x3<br>kernel spec: gauss_11_3<br>match:30<br>bad4: 0.11395439322985425<br>IMG res:450x375",
          "bad4: 0.12732237399774884<br>Experiment id:<br> ALG_005_EXP_002-PatchMatch-MacLean_et_al-Numba<br>Scene: cones<br>kernel size: 11x3<br>kernel spec: gauss_11_3<br>match:40<br>bad4: 0.12732237399774884<br>IMG res:450x375",
          "bad4: 0.13427733696482916<br>Experiment id:<br> ALG_005_EXP_002-PatchMatch-MacLean_et_al-Numba<br>Scene: cones<br>kernel size: 11x3<br>kernel spec: gauss_11_3<br>match:10<br>bad4: 0.13427733696482916<br>IMG res:450x375",
          "bad4: 0.11278017870294454<br>Experiment id:<br> ALG_005_EXP_002-PatchMatch-MacLean_et_al-Numba<br>Scene: cones<br>kernel size: 11x3<br>kernel spec: gauss_11_3<br>match:20<br>bad4: 0.11278017870294454<br>IMG res:450x375",
          "bad4: 0.11395439322985425<br>Experiment id:<br> ALG_005_EXP_002-PatchMatch-MacLean_et_al-Numba<br>Scene: cones<br>kernel size: 11x3<br>kernel spec: gauss_11_3<br>match:30<br>bad4: 0.11395439322985425<br>IMG res:450x375",
          "bad4: 0.12732237399774884<br>Experiment id:<br> ALG_005_EXP_002-PatchMatch-MacLean_et_al-Numba<br>Scene: cones<br>kernel size: 11x3<br>kernel spec: gauss_11_3<br>match:40<br>bad4: 0.12732237399774884<br>IMG res:450x375"
         ],
         "type": "scatter",
         "uid": "633bc11d-bcdf-486d-95f8-586837c05bfc",
         "x": [
          10,
          10,
          20,
          30,
          40,
          10,
          20,
          30,
          40
         ],
         "y": {
          "dtype": "float64",
          "shape": [
           9
          ],
          "value": {}
         }
        },
        {
         "hovertemplate": "%{text}",
         "name": "gauss_13_3",
         "showlegend": true,
         "text": [
          "bad4: 0.13427733696482916<br>Experiment id:<br> ALG_005_EXP_002-PatchMatch-MacLean_et_al-Numba<br>Scene: cones<br>kernel size: 13x3<br>kernel spec: gauss_13_3<br>match:10<br>bad4: 0.13427733696482916<br>IMG res:450x375",
          "bad4: 0.11278017870294454<br>Experiment id:<br> ALG_005_EXP_002-PatchMatch-MacLean_et_al-Numba<br>Scene: cones<br>kernel size: 13x3<br>kernel spec: gauss_13_3<br>match:20<br>bad4: 0.11278017870294454<br>IMG res:450x375",
          "bad4: 0.11395439322985425<br>Experiment id:<br> ALG_005_EXP_002-PatchMatch-MacLean_et_al-Numba<br>Scene: cones<br>kernel size: 13x3<br>kernel spec: gauss_13_3<br>match:30<br>bad4: 0.11395439322985425<br>IMG res:450x375",
          "bad4: 0.12732237399774884<br>Experiment id:<br> ALG_005_EXP_002-PatchMatch-MacLean_et_al-Numba<br>Scene: cones<br>kernel size: 13x3<br>kernel spec: gauss_13_3<br>match:40<br>bad4: 0.12732237399774884<br>IMG res:450x375",
          "bad4: 0.13427733696482916<br>Experiment id:<br> ALG_005_EXP_002-PatchMatch-MacLean_et_al-Numba<br>Scene: cones<br>kernel size: 13x3<br>kernel spec: gauss_13_3<br>match:10<br>bad4: 0.13427733696482916<br>IMG res:450x375",
          "bad4: 0.11278017870294454<br>Experiment id:<br> ALG_005_EXP_002-PatchMatch-MacLean_et_al-Numba<br>Scene: cones<br>kernel size: 13x3<br>kernel spec: gauss_13_3<br>match:20<br>bad4: 0.11278017870294454<br>IMG res:450x375",
          "bad4: 0.11395439322985425<br>Experiment id:<br> ALG_005_EXP_002-PatchMatch-MacLean_et_al-Numba<br>Scene: cones<br>kernel size: 13x3<br>kernel spec: gauss_13_3<br>match:30<br>bad4: 0.11395439322985425<br>IMG res:450x375",
          "bad4: 0.12732237399774884<br>Experiment id:<br> ALG_005_EXP_002-PatchMatch-MacLean_et_al-Numba<br>Scene: cones<br>kernel size: 13x3<br>kernel spec: gauss_13_3<br>match:40<br>bad4: 0.12732237399774884<br>IMG res:450x375"
         ],
         "type": "scatter",
         "uid": "792273e4-01af-47b9-aa84-1664bab70cbd",
         "x": [
          10,
          20,
          30,
          40,
          10,
          20,
          30,
          40
         ],
         "y": {
          "dtype": "float64",
          "shape": [
           8
          ],
          "value": {}
         }
        }
       ],
       "_js2py_layoutDelta": {},
       "_js2py_pointsCallback": {},
       "_js2py_relayout": {},
       "_js2py_restyle": {},
       "_js2py_traceDeltas": {},
       "_js2py_update": {},
       "_layout": {
        "legend": {
         "title": {
          "text": "kernel_spec"
         }
        },
        "template": {
         "data": {
          "bar": [
           {
            "error_x": {
             "color": "#2a3f5f"
            },
            "error_y": {
             "color": "#2a3f5f"
            },
            "marker": {
             "line": {
              "color": "#E5ECF6",
              "width": 0.5
             }
            },
            "type": "bar"
           }
          ],
          "barpolar": [
           {
            "marker": {
             "line": {
              "color": "#E5ECF6",
              "width": 0.5
             }
            },
            "type": "barpolar"
           }
          ],
          "carpet": [
           {
            "aaxis": {
             "endlinecolor": "#2a3f5f",
             "gridcolor": "white",
             "linecolor": "white",
             "minorgridcolor": "white",
             "startlinecolor": "#2a3f5f"
            },
            "baxis": {
             "endlinecolor": "#2a3f5f",
             "gridcolor": "white",
             "linecolor": "white",
             "minorgridcolor": "white",
             "startlinecolor": "#2a3f5f"
            },
            "type": "carpet"
           }
          ],
          "choropleth": [
           {
            "colorbar": {
             "outlinewidth": 0,
             "ticks": ""
            },
            "type": "choropleth"
           }
          ],
          "contour": [
           {
            "colorbar": {
             "outlinewidth": 0,
             "ticks": ""
            },
            "colorscale": [
             [
              0,
              "#0d0887"
             ],
             [
              0.1111111111111111,
              "#46039f"
             ],
             [
              0.2222222222222222,
              "#7201a8"
             ],
             [
              0.3333333333333333,
              "#9c179e"
             ],
             [
              0.4444444444444444,
              "#bd3786"
             ],
             [
              0.5555555555555556,
              "#d8576b"
             ],
             [
              0.6666666666666666,
              "#ed7953"
             ],
             [
              0.7777777777777778,
              "#fb9f3a"
             ],
             [
              0.8888888888888888,
              "#fdca26"
             ],
             [
              1,
              "#f0f921"
             ]
            ],
            "type": "contour"
           }
          ],
          "contourcarpet": [
           {
            "colorbar": {
             "outlinewidth": 0,
             "ticks": ""
            },
            "type": "contourcarpet"
           }
          ],
          "heatmap": [
           {
            "colorbar": {
             "outlinewidth": 0,
             "ticks": ""
            },
            "colorscale": [
             [
              0,
              "#0d0887"
             ],
             [
              0.1111111111111111,
              "#46039f"
             ],
             [
              0.2222222222222222,
              "#7201a8"
             ],
             [
              0.3333333333333333,
              "#9c179e"
             ],
             [
              0.4444444444444444,
              "#bd3786"
             ],
             [
              0.5555555555555556,
              "#d8576b"
             ],
             [
              0.6666666666666666,
              "#ed7953"
             ],
             [
              0.7777777777777778,
              "#fb9f3a"
             ],
             [
              0.8888888888888888,
              "#fdca26"
             ],
             [
              1,
              "#f0f921"
             ]
            ],
            "type": "heatmap"
           }
          ],
          "heatmapgl": [
           {
            "colorbar": {
             "outlinewidth": 0,
             "ticks": ""
            },
            "colorscale": [
             [
              0,
              "#0d0887"
             ],
             [
              0.1111111111111111,
              "#46039f"
             ],
             [
              0.2222222222222222,
              "#7201a8"
             ],
             [
              0.3333333333333333,
              "#9c179e"
             ],
             [
              0.4444444444444444,
              "#bd3786"
             ],
             [
              0.5555555555555556,
              "#d8576b"
             ],
             [
              0.6666666666666666,
              "#ed7953"
             ],
             [
              0.7777777777777778,
              "#fb9f3a"
             ],
             [
              0.8888888888888888,
              "#fdca26"
             ],
             [
              1,
              "#f0f921"
             ]
            ],
            "type": "heatmapgl"
           }
          ],
          "histogram": [
           {
            "marker": {
             "colorbar": {
              "outlinewidth": 0,
              "ticks": ""
             }
            },
            "type": "histogram"
           }
          ],
          "histogram2d": [
           {
            "colorbar": {
             "outlinewidth": 0,
             "ticks": ""
            },
            "colorscale": [
             [
              0,
              "#0d0887"
             ],
             [
              0.1111111111111111,
              "#46039f"
             ],
             [
              0.2222222222222222,
              "#7201a8"
             ],
             [
              0.3333333333333333,
              "#9c179e"
             ],
             [
              0.4444444444444444,
              "#bd3786"
             ],
             [
              0.5555555555555556,
              "#d8576b"
             ],
             [
              0.6666666666666666,
              "#ed7953"
             ],
             [
              0.7777777777777778,
              "#fb9f3a"
             ],
             [
              0.8888888888888888,
              "#fdca26"
             ],
             [
              1,
              "#f0f921"
             ]
            ],
            "type": "histogram2d"
           }
          ],
          "histogram2dcontour": [
           {
            "colorbar": {
             "outlinewidth": 0,
             "ticks": ""
            },
            "colorscale": [
             [
              0,
              "#0d0887"
             ],
             [
              0.1111111111111111,
              "#46039f"
             ],
             [
              0.2222222222222222,
              "#7201a8"
             ],
             [
              0.3333333333333333,
              "#9c179e"
             ],
             [
              0.4444444444444444,
              "#bd3786"
             ],
             [
              0.5555555555555556,
              "#d8576b"
             ],
             [
              0.6666666666666666,
              "#ed7953"
             ],
             [
              0.7777777777777778,
              "#fb9f3a"
             ],
             [
              0.8888888888888888,
              "#fdca26"
             ],
             [
              1,
              "#f0f921"
             ]
            ],
            "type": "histogram2dcontour"
           }
          ],
          "mesh3d": [
           {
            "colorbar": {
             "outlinewidth": 0,
             "ticks": ""
            },
            "type": "mesh3d"
           }
          ],
          "parcoords": [
           {
            "line": {
             "colorbar": {
              "outlinewidth": 0,
              "ticks": ""
             }
            },
            "type": "parcoords"
           }
          ],
          "pie": [
           {
            "automargin": true,
            "type": "pie"
           }
          ],
          "scatter": [
           {
            "marker": {
             "colorbar": {
              "outlinewidth": 0,
              "ticks": ""
             }
            },
            "type": "scatter"
           }
          ],
          "scatter3d": [
           {
            "line": {
             "colorbar": {
              "outlinewidth": 0,
              "ticks": ""
             }
            },
            "marker": {
             "colorbar": {
              "outlinewidth": 0,
              "ticks": ""
             }
            },
            "type": "scatter3d"
           }
          ],
          "scattercarpet": [
           {
            "marker": {
             "colorbar": {
              "outlinewidth": 0,
              "ticks": ""
             }
            },
            "type": "scattercarpet"
           }
          ],
          "scattergeo": [
           {
            "marker": {
             "colorbar": {
              "outlinewidth": 0,
              "ticks": ""
             }
            },
            "type": "scattergeo"
           }
          ],
          "scattergl": [
           {
            "marker": {
             "colorbar": {
              "outlinewidth": 0,
              "ticks": ""
             }
            },
            "type": "scattergl"
           }
          ],
          "scattermapbox": [
           {
            "marker": {
             "colorbar": {
              "outlinewidth": 0,
              "ticks": ""
             }
            },
            "type": "scattermapbox"
           }
          ],
          "scatterpolar": [
           {
            "marker": {
             "colorbar": {
              "outlinewidth": 0,
              "ticks": ""
             }
            },
            "type": "scatterpolar"
           }
          ],
          "scatterpolargl": [
           {
            "marker": {
             "colorbar": {
              "outlinewidth": 0,
              "ticks": ""
             }
            },
            "type": "scatterpolargl"
           }
          ],
          "scatterternary": [
           {
            "marker": {
             "colorbar": {
              "outlinewidth": 0,
              "ticks": ""
             }
            },
            "type": "scatterternary"
           }
          ],
          "surface": [
           {
            "colorbar": {
             "outlinewidth": 0,
             "ticks": ""
            },
            "colorscale": [
             [
              0,
              "#0d0887"
             ],
             [
              0.1111111111111111,
              "#46039f"
             ],
             [
              0.2222222222222222,
              "#7201a8"
             ],
             [
              0.3333333333333333,
              "#9c179e"
             ],
             [
              0.4444444444444444,
              "#bd3786"
             ],
             [
              0.5555555555555556,
              "#d8576b"
             ],
             [
              0.6666666666666666,
              "#ed7953"
             ],
             [
              0.7777777777777778,
              "#fb9f3a"
             ],
             [
              0.8888888888888888,
              "#fdca26"
             ],
             [
              1,
              "#f0f921"
             ]
            ],
            "type": "surface"
           }
          ],
          "table": [
           {
            "cells": {
             "fill": {
              "color": "#EBF0F8"
             },
             "line": {
              "color": "white"
             }
            },
            "header": {
             "fill": {
              "color": "#C8D4E3"
             },
             "line": {
              "color": "white"
             }
            },
            "type": "table"
           }
          ]
         },
         "layout": {
          "annotationdefaults": {
           "arrowcolor": "#2a3f5f",
           "arrowhead": 0,
           "arrowwidth": 1
          },
          "coloraxis": {
           "colorbar": {
            "outlinewidth": 0,
            "ticks": ""
           }
          },
          "colorscale": {
           "diverging": [
            [
             0,
             "#8e0152"
            ],
            [
             0.1,
             "#c51b7d"
            ],
            [
             0.2,
             "#de77ae"
            ],
            [
             0.3,
             "#f1b6da"
            ],
            [
             0.4,
             "#fde0ef"
            ],
            [
             0.5,
             "#f7f7f7"
            ],
            [
             0.6,
             "#e6f5d0"
            ],
            [
             0.7,
             "#b8e186"
            ],
            [
             0.8,
             "#7fbc41"
            ],
            [
             0.9,
             "#4d9221"
            ],
            [
             1,
             "#276419"
            ]
           ],
           "sequential": [
            [
             0,
             "#0d0887"
            ],
            [
             0.1111111111111111,
             "#46039f"
            ],
            [
             0.2222222222222222,
             "#7201a8"
            ],
            [
             0.3333333333333333,
             "#9c179e"
            ],
            [
             0.4444444444444444,
             "#bd3786"
            ],
            [
             0.5555555555555556,
             "#d8576b"
            ],
            [
             0.6666666666666666,
             "#ed7953"
            ],
            [
             0.7777777777777778,
             "#fb9f3a"
            ],
            [
             0.8888888888888888,
             "#fdca26"
            ],
            [
             1,
             "#f0f921"
            ]
           ],
           "sequentialminus": [
            [
             0,
             "#0d0887"
            ],
            [
             0.1111111111111111,
             "#46039f"
            ],
            [
             0.2222222222222222,
             "#7201a8"
            ],
            [
             0.3333333333333333,
             "#9c179e"
            ],
            [
             0.4444444444444444,
             "#bd3786"
            ],
            [
             0.5555555555555556,
             "#d8576b"
            ],
            [
             0.6666666666666666,
             "#ed7953"
            ],
            [
             0.7777777777777778,
             "#fb9f3a"
            ],
            [
             0.8888888888888888,
             "#fdca26"
            ],
            [
             1,
             "#f0f921"
            ]
           ]
          },
          "colorway": [
           "#636efa",
           "#EF553B",
           "#00cc96",
           "#ab63fa",
           "#FFA15A",
           "#19d3f3",
           "#FF6692",
           "#B6E880",
           "#FF97FF",
           "#FECB52"
          ],
          "font": {
           "color": "#2a3f5f"
          },
          "geo": {
           "bgcolor": "white",
           "lakecolor": "white",
           "landcolor": "#E5ECF6",
           "showlakes": true,
           "showland": true,
           "subunitcolor": "white"
          },
          "hoverlabel": {
           "align": "left"
          },
          "hovermode": "closest",
          "mapbox": {
           "style": "light"
          },
          "paper_bgcolor": "white",
          "plot_bgcolor": "#E5ECF6",
          "polar": {
           "angularaxis": {
            "gridcolor": "white",
            "linecolor": "white",
            "ticks": ""
           },
           "bgcolor": "#E5ECF6",
           "radialaxis": {
            "gridcolor": "white",
            "linecolor": "white",
            "ticks": ""
           }
          },
          "scene": {
           "xaxis": {
            "backgroundcolor": "#E5ECF6",
            "gridcolor": "white",
            "gridwidth": 2,
            "linecolor": "white",
            "showbackground": true,
            "ticks": "",
            "zerolinecolor": "white"
           },
           "yaxis": {
            "backgroundcolor": "#E5ECF6",
            "gridcolor": "white",
            "gridwidth": 2,
            "linecolor": "white",
            "showbackground": true,
            "ticks": "",
            "zerolinecolor": "white"
           },
           "zaxis": {
            "backgroundcolor": "#E5ECF6",
            "gridcolor": "white",
            "gridwidth": 2,
            "linecolor": "white",
            "showbackground": true,
            "ticks": "",
            "zerolinecolor": "white"
           }
          },
          "shapedefaults": {
           "line": {
            "color": "#2a3f5f"
           }
          },
          "ternary": {
           "aaxis": {
            "gridcolor": "white",
            "linecolor": "white",
            "ticks": ""
           },
           "baxis": {
            "gridcolor": "white",
            "linecolor": "white",
            "ticks": ""
           },
           "bgcolor": "#E5ECF6",
           "caxis": {
            "gridcolor": "white",
            "linecolor": "white",
            "ticks": ""
           }
          },
          "title": {
           "x": 0.05
          },
          "xaxis": {
           "automargin": true,
           "gridcolor": "white",
           "linecolor": "white",
           "ticks": "",
           "title": {
            "standoff": 15
           },
           "zerolinecolor": "white",
           "zerolinewidth": 2
          },
          "yaxis": {
           "automargin": true,
           "gridcolor": "white",
           "linecolor": "white",
           "ticks": "",
           "title": {
            "standoff": 15
           },
           "zerolinecolor": "white",
           "zerolinewidth": 2
          }
         }
        },
        "xaxis": {
         "showspikes": true
        },
        "yaxis": {
         "showspikes": true
        }
       },
       "_model_module_version": "4.6.0",
       "_py2js_addTraces": {},
       "_py2js_animate": {},
       "_py2js_deleteTraces": {},
       "_py2js_moveTraces": {},
       "_py2js_relayout": {},
       "_py2js_removeLayoutProps": {},
       "_py2js_removeTraceProps": {},
       "_py2js_restyle": {},
       "_py2js_update": {},
       "_view_count": 0,
       "_view_module_version": "4.6.0"
      }
     },
     "d61125d6ba89436fb38cacaa0d5ea299": {
      "buffers": [
       {
        "data": "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",
        "encoding": "base64",
        "path": [
         "value"
        ]
       }
      ],
      "model_module": "@jupyter-widgets/controls",
      "model_module_version": "1.5.0",
      "model_name": "ImageModel",
      "state": {
       "layout": "IPY_MODEL_120a28771ba44391b9c68e0b5915b787",
       "value": {}
      }
     },
     "e51af8457a6c4c8dab023d07fe6c5a27": {
      "model_module": "@jupyter-widgets/base",
      "model_module_version": "1.2.0",
      "model_name": "LayoutModel",
      "state": {
       "height": "375px",
       "width": "450px"
      }
     },
     "e59b10124fcd40979cbc4c44928ff508": {
      "model_module": "@jupyter-widgets/base",
      "model_module_version": "1.2.0",
      "model_name": "LayoutModel",
      "state": {}
     },
     "e668814ae3b548a98059a75ad46da07d": {
      "buffers": [
       {
        "data": "XzGtL7Jvzj9fMa0vsm/OP5+tXSYwF9Y/XODthtbP1T/rh60uckDaPyyYow/so9A/XTWt7MJd1j9E8eUmX+DVP7wmlGjho9g/N5DzluPVzz9v9m7r8dLVP2/2buvx0tU/tw0dmS6s3D/AAgUSjWTSP1m9Y+7Obs4/OVq+DO66zj85Wr4M7rrOPzlavgzuus4/pc9koKH0zj+lz2SgofTOPzBz6Rn1Wcw/E5xK+Emzyz8TnEr4SbPLP+XV83dAK+o/9Xd/2/7w6T8N0tcBM0ftP9nJ1d2Sn+Q/pc9koKH0zj8DLzJQRrLOPwMvMlBGss4/Ay8yUEayzj+BCbJhNz7MP2A5lNqEpc0/YDmU2oSlzT+BCbJhNz7MP8kbYxLxtc0/pWOqip2wzT8XRbO0YbXOPxdFs7Rhtc4/F0WztGG1zj8XRbO0YbXOPxdFs7Rhtc4/",
        "encoding": "base64",
        "path": [
         "_data",
         0,
         "y",
         "value"
        ]
       },
       {
        "data": "IUWrNodKzT/fvqjGD2faPwE58dgUWNo/3yA7g91Q4D/o/6YrTSHTPz6x+ZF1ito/9PMLhhVW2j+i1/tJWxzfP1MozYPae9I/NgcrxYNg2j82ByvFg2DaP7SHbNROouE/+2IAS4J81D8hRas2h0rNP6L3R/SM5cw/ovdH9IzlzD+pLXUAqJXMP6qEtMScGsk/yTKyAo8vzj/JMrICjy/OP4OLpVgY4u8/K6hgFB3U7z8AAAAAAADwPyk9ku0WyOw/qS11AKiVzD8+LHAty9XMPz4scC3L1cw/JPcQrTKczT+QVKrAervPP5BUqsB6u88/JPcQrTKczT8V8J8O72POP2i87eE/cc4/RENnnnXWzD9EQ2eeddbMP0RDZ5511sw/RENnnnXWzD8=",
        "encoding": "base64",
        "path": [
         "_data",
         1,
         "y",
         "value"
        ]
       },
       {
        "data": "qk3Bqtleyj9KYLDLCCXgP5DQiqsX5N8/4ZsFX7lf4j9xW1Qmd0XVP49r5CA3ROA/rK+8Nw/93z/F+peIlh7iP5qX0ATN89M/rc6ekvno3z+tzp6S+ejfP1AoTyOR1uI/sxeI4XaO2D+qTcGq2V7KP60HZktLX8o/rQdmS0tfyj8NrTbbiqPJP9yvmAA4nMk/far4AUXt0D99qvgBRe3QPwAAAAAAAPA/AAAAAAAA8D8AAAAAAADwPxUW/8RkqO8/Da0224qjyT/oaHeTAZHKP+hod5MBkco/oqhc6j8A0D9cAVBAybLRP1wBUEDJstE/oqhc6j8A0D8/WWUOGxnQPxOx2tk6Y9A/7X9uBKyRyj/tf24ErJHKP+1/bgSskco/7X9uBKyRyj8=",
        "encoding": "base64",
        "path": [
         "_data",
         2,
         "y",
         "value"
        ]
       },
       {
        "data": "lcvdr62QyT+nWaxRKjjiP5PHSgJyDOI/CrDMSFS04z+KOAqT0xzaP1WFSXTWXeI/2LPGHHkh4j/ZAB043B7jPwUT4iO4Idg/AVz9ENMT4j8BXP0Q0xPiP7Ruc2XlT+U/MYKln0Zh3T+Vy92vrZDJPzdVwQ9rWck/N1XBD2tZyT9gsHfInmzIP/QxfPtjaso/tUGTFHf90T+1QZMUd/3RPwAAAAAAAPA/AAAAAAAA8D8AAAAAAADwPwAAAAAAAPA/YLB3yJ5syD/xKqtfUk7JP/Eqq19STsk/ZoyQ8la00T8/tflOhnjSPz+1+U6GeNI/ZoyQ8la00T8Fe13MBqXRPwaSrLykHtI/0c9EqDdJyT/Rz0SoN0nJP9HPRKg3Sck/0c9EqDdJyT8=",
        "encoding": "base64",
        "path": [
         "_data",
         3,
         "y",
         "value"
        ]
       }
      ],
      "model_module": "plotlywidget",
      "model_module_version": "4.6.0",
      "model_name": "FigureModel",
      "state": {
       "_config": {
        "plotlyServerURL": "https://plot.ly"
       },
       "_data": [
        {
         "hovertemplate": "%{text}",
         "name": "10",
         "showlegend": true,
         "text": [
          "bad4: 0.2377836926265315<br>Experiment id:<br> ALG_005_EXP_002-PatchMatch-MacLean_et_al-Numba<br>Scene: teddy<br>kernel size: 3x3<br>kernel spec: gauss_3_3<br>match:10<br>bad4: 0.2377836926265315<br>IMG res:450x375",
          "bad4: 0.2377836926265315<br>Experiment id:<br> ALG_005_EXP_002-PatchMatch-MacLean_et_al-Numba<br>Scene: teddy<br>kernel size: 3x3<br>kernel spec: gauss_3_3<br>match:10<br>bad4: 0.2377836926265315<br>IMG res:450x375",
          "bad4: 0.34516528841660404<br>Experiment id:<br> ALG_005_EXP_002-PatchMatch-MacLean_et_al-Numba<br>Scene: teddy<br>kernel size: 3x3<br>kernel spec: hsobel<br>match:10<br>bad4: 0.34516528841660404<br>IMG res:450x375",
          "bad4: 0.34081042458229205<br>Experiment id:<br> ALG_005_EXP_002-PatchMatch-MacLean_et_al-Numba<br>Scene: teddy<br>kernel size: 3x3<br>kernel spec: vsobel<br>match:10<br>bad4: 0.34081042458229205<br>IMG res:450x375",
          "bad4: 0.41018347319015785<br>Experiment id:<br> ALG_005_EXP_002-PatchMatch-MacLean_et_al-Numba<br>Scene: teddy<br>kernel size: 3x3<br>kernel spec: hvsobel_div2<br>match:10<br>bad4: 0.41018347319015785<br>IMG res:450x375",
          "bad4: 0.2600050118184096<br>Experiment id:<br> ALG_005_EXP_002-PatchMatch-MacLean_et_al-Numba<br>Scene: teddy<br>kernel size: 3x3<br>kernel spec: hvsobel_div<br>match:10<br>bad4: 0.2600050118184096<br>IMG res:450x375",
          "bad4: 0.349472743157852<br>Experiment id:<br> ALG_005_EXP_002-PatchMatch-MacLean_et_al-Numba<br>Scene: teddy<br>kernel size: 3x3<br>kernel spec: hscharr<br>match:10<br>bad4: 0.349472743157852<br>IMG res:450x375",
          "bad4: 0.3418195609917982<br>Experiment id:<br> ALG_005_EXP_002-PatchMatch-MacLean_et_al-Numba<br>Scene: teddy<br>kernel size: 3x3<br>kernel spec: vscharr<br>match:10<br>bad4: 0.3418195609917982<br>IMG res:450x375",
          "bad4: 0.3850024720455669<br>Experiment id:<br> ALG_005_EXP_002-PatchMatch-MacLean_et_al-Numba<br>Scene: teddy<br>kernel size: 3x3<br>kernel spec: hvscharr_div2<br>match:10<br>bad4: 0.3850024720455669<br>IMG res:450x375",
          "bad4: 0.24871487494158526<br>Experiment id:<br> ALG_005_EXP_002-PatchMatch-MacLean_et_al-Numba<br>Scene: teddy<br>kernel size: 3x3<br>kernel spec: hvscharr<br>match:10<br>bad4: 0.24871487494158526<br>IMG res:450x375",
          "bad4: 0.3410000609545482<br>Experiment id:<br> ALG_005_EXP_002-PatchMatch-MacLean_et_al-Numba<br>Scene: teddy<br>kernel size: 3x3<br>kernel spec: hprewitt<br>match:10<br>bad4: 0.3410000609545482<br>IMG res:450x375",
          "bad4: 0.3410000609545482<br>Experiment id:<br> ALG_005_EXP_002-PatchMatch-MacLean_et_al-Numba<br>Scene: teddy<br>kernel size: 3x3<br>kernel spec: vprewitt<br>match:10<br>bad4: 0.3410000609545482<br>IMG res:450x375",
          "bad4: 0.4480091567276889<br>Experiment id:<br> ALG_005_EXP_002-PatchMatch-MacLean_et_al-Numba<br>Scene: teddy<br>kernel size: 3x3<br>kernel spec: hvprewitt_div2<br>match:10<br>bad4: 0.4480091567276889<br>IMG res:450x375",
          "bad4: 0.28738714942668864<br>Experiment id:<br> ALG_005_EXP_002-PatchMatch-MacLean_et_al-Numba<br>Scene: teddy<br>kernel size: 3x3<br>kernel spec: hvprewitt<br>match:10<br>bad4: 0.28738714942668864<br>IMG res:450x375",
          "bad4: 0.2377566017162092<br>Experiment id:<br> ALG_005_EXP_002-PatchMatch-MacLean_et_al-Numba<br>Scene: teddy<br>kernel size: 3x3<br>kernel spec: gauss_3_3<br>match:10<br>bad4: 0.2377566017162092<br>IMG res:450x375",
          "bad4: 0.2400796472763476<br>Experiment id:<br> ALG_005_EXP_002-PatchMatch-MacLean_et_al-Numba<br>Scene: teddy<br>kernel size: 5x3<br>kernel spec: gauss_5_3<br>match:10<br>bad4: 0.2400796472763476<br>IMG res:450x375",
          "bad4: 0.2400796472763476<br>Experiment id:<br> ALG_005_EXP_002-PatchMatch-MacLean_et_al-Numba<br>Scene: teddy<br>kernel size: 5x3<br>kernel spec: gauss_5_3<br>match:10<br>bad4: 0.2400796472763476<br>IMG res:450x375",
          "bad4: 0.2400796472763476<br>Experiment id:<br> ALG_005_EXP_002-PatchMatch-MacLean_et_al-Numba<br>Scene: teddy<br>kernel size: 5x3<br>kernel spec: gauss_5_3<br>match:10<br>bad4: 0.2400796472763476<br>IMG res:450x375",
          "bad4: 0.241840556447298<br>Experiment id:<br> ALG_005_EXP_002-PatchMatch-MacLean_et_al-Numba<br>Scene: teddy<br>kernel size: 5x5<br>kernel spec: gauss_5_5<br>match:10<br>bad4: 0.241840556447298<br>IMG res:450x375",
          "bad4: 0.241840556447298<br>Experiment id:<br> ALG_005_EXP_002-PatchMatch-MacLean_et_al-Numba<br>Scene: teddy<br>kernel size: 5x5<br>kernel spec: gauss_5_5<br>match:10<br>bad4: 0.241840556447298<br>IMG res:450x375",
          "bad4: 0.2214952827952401<br>Experiment id:<br> ALG_005_EXP_002-PatchMatch-MacLean_et_al-Numba<br>Scene: teddy<br>kernel size: 5x5<br>kernel spec: octagon_3_1<br>match:10<br>bad4: 0.2214952827952401<br>IMG res:450x375",
          "bad4: 0.21640896438222565<br>Experiment id:<br> ALG_005_EXP_002-PatchMatch-MacLean_et_al-Numba<br>Scene: teddy<br>kernel size: 5x5<br>kernel spec: diamond_2<br>match:10<br>bad4: 0.21640896438222565<br>IMG res:450x375",
          "bad4: 0.21640896438222565<br>Experiment id:<br> ALG_005_EXP_002-PatchMatch-MacLean_et_al-Numba<br>Scene: teddy<br>kernel size: 5x5<br>kernel spec: disk_2<br>match:10<br>bad4: 0.21640896438222565<br>IMG res:450x375",
          "bad4: 0.8177797644445347<br>Experiment id:<br> ALG_005_EXP_002-PatchMatch-MacLean_et_al-Numba<br>Scene: teddy<br>kernel size: 5x5<br>kernel spec: hfarid<br>match:10<br>bad4: 0.8177797644445347<br>IMG res:450x375",
          "bad4: 0.8106684004849273<br>Experiment id:<br> ALG_005_EXP_002-PatchMatch-MacLean_et_al-Numba<br>Scene: teddy<br>kernel size: 5x5<br>kernel spec: vfarid<br>match:10<br>bad4: 0.8106684004849273<br>IMG res:450x375",
          "bad4: 0.9149413143155144<br>Experiment id:<br> ALG_005_EXP_002-PatchMatch-MacLean_et_al-Numba<br>Scene: teddy<br>kernel size: 5x5<br>kernel spec: hvfarid_div2<br>match:10<br>bad4: 0.9149413143155144<br>IMG res:450x375",
          "bad4: 0.6444792111126915<br>Experiment id:<br> ALG_005_EXP_002-PatchMatch-MacLean_et_al-Numba<br>Scene: teddy<br>kernel size: 5x5<br>kernel spec: hvfarid<br>match:10<br>bad4: 0.6444792111126915<br>IMG res:450x375",
          "bad4: 0.241840556447298<br>Experiment id:<br> ALG_005_EXP_002-PatchMatch-MacLean_et_al-Numba<br>Scene: teddy<br>kernel size: 5x5<br>kernel spec: gauss_5_5<br>match:10<br>bad4: 0.241840556447298<br>IMG res:450x375",
          "bad4: 0.23981551090070505<br>Experiment id:<br> ALG_005_EXP_002-PatchMatch-MacLean_et_al-Numba<br>Scene: teddy<br>kernel size: 7x3<br>kernel spec: gauss_7_3<br>match:10<br>bad4: 0.23981551090070505<br>IMG res:450x375",
          "bad4: 0.23981551090070505<br>Experiment id:<br> ALG_005_EXP_002-PatchMatch-MacLean_et_al-Numba<br>Scene: teddy<br>kernel size: 7x3<br>kernel spec: gauss_7_3<br>match:10<br>bad4: 0.23981551090070505<br>IMG res:450x375",
          "bad4: 0.23981551090070505<br>Experiment id:<br> ALG_005_EXP_002-PatchMatch-MacLean_et_al-Numba<br>Scene: teddy<br>kernel size: 7x3<br>kernel spec: gauss_7_3<br>match:10<br>bad4: 0.23981551090070505<br>IMG res:450x375",
          "bad4: 0.2206486918476678<br>Experiment id:<br> ALG_005_EXP_002-PatchMatch-MacLean_et_al-Numba<br>Scene: teddy<br>kernel size: 7x7<br>kernel spec: star_2<br>match:10<br>bad4: 0.2206486918476678<br>IMG res:450x375",
          "bad4: 0.23161373780062444<br>Experiment id:<br> ALG_005_EXP_002-PatchMatch-MacLean_et_al-Numba<br>Scene: teddy<br>kernel size: 7x7<br>kernel spec: octagon_1_3<br>match:10<br>bad4: 0.23161373780062444<br>IMG res:450x375",
          "bad4: 0.23161373780062444<br>Experiment id:<br> ALG_005_EXP_002-PatchMatch-MacLean_et_al-Numba<br>Scene: teddy<br>kernel size: 7x7<br>kernel spec: diamond_3<br>match:10<br>bad4: 0.23161373780062444<br>IMG res:450x375",
          "bad4: 0.2206486918476678<br>Experiment id:<br> ALG_005_EXP_002-PatchMatch-MacLean_et_al-Numba<br>Scene: teddy<br>kernel size: 7x7<br>kernel spec: disk_3<br>match:10<br>bad4: 0.2206486918476678<br>IMG res:450x375",
          "bad4: 0.2321149196415873<br>Experiment id:<br> ALG_005_EXP_002-PatchMatch-MacLean_et_al-Numba<br>Scene: teddy<br>kernel size: 9x9<br>kernel spec: star_3<br>match:10<br>bad4: 0.2321149196415873<br>IMG res:450x375",
          "bad4: 0.23195237417965334<br>Experiment id:<br> ALG_005_EXP_002-PatchMatch-MacLean_et_al-Numba<br>Scene: teddy<br>kernel size: 9x9<br>kernel spec: disk_4<br>match:10<br>bad4: 0.23195237417965334<br>IMG res:450x375",
          "bad4: 0.23991032908683316<br>Experiment id:<br> ALG_005_EXP_002-PatchMatch-MacLean_et_al-Numba<br>Scene: teddy<br>kernel size: 11x3<br>kernel spec: gauss_11_3<br>match:10<br>bad4: 0.23991032908683316<br>IMG res:450x375",
          "bad4: 0.23991032908683316<br>Experiment id:<br> ALG_005_EXP_002-PatchMatch-MacLean_et_al-Numba<br>Scene: teddy<br>kernel size: 11x3<br>kernel spec: gauss_11_3<br>match:10<br>bad4: 0.23991032908683316<br>IMG res:450x375",
          "bad4: 0.23991032908683316<br>Experiment id:<br> ALG_005_EXP_002-PatchMatch-MacLean_et_al-Numba<br>Scene: teddy<br>kernel size: 11x3<br>kernel spec: gauss_11_3<br>match:10<br>bad4: 0.23991032908683316<br>IMG res:450x375",
          "bad4: 0.23991032908683316<br>Experiment id:<br> ALG_005_EXP_002-PatchMatch-MacLean_et_al-Numba<br>Scene: teddy<br>kernel size: 13x3<br>kernel spec: gauss_13_3<br>match:10<br>bad4: 0.23991032908683316<br>IMG res:450x375",
          "bad4: 0.23991032908683316<br>Experiment id:<br> ALG_005_EXP_002-PatchMatch-MacLean_et_al-Numba<br>Scene: teddy<br>kernel size: 13x3<br>kernel spec: gauss_13_3<br>match:10<br>bad4: 0.23991032908683316<br>IMG res:450x375"
         ],
         "type": "scatter",
         "uid": "c97283fe-84a2-4300-98a1-9782c13d0089",
         "x": [
          "3x3",
          "3x3",
          "3x3",
          "3x3",
          "3x3",
          "3x3",
          "3x3",
          "3x3",
          "3x3",
          "3x3",
          "3x3",
          "3x3",
          "3x3",
          "3x3",
          "3x3",
          "5x3",
          "5x3",
          "5x3",
          "5x5",
          "5x5",
          "5x5",
          "5x5",
          "5x5",
          "5x5",
          "5x5",
          "5x5",
          "5x5",
          "5x5",
          "7x3",
          "7x3",
          "7x3",
          "7x7",
          "7x7",
          "7x7",
          "7x7",
          "9x9",
          "9x9",
          "11x3",
          "11x3",
          "11x3",
          "13x3",
          "13x3"
         ],
         "y": {
          "dtype": "float64",
          "shape": [
           42
          ],
          "value": {}
         }
        },
        {
         "hovertemplate": "%{text}",
         "name": "20",
         "showlegend": true,
         "text": [
          "bad4: 0.22883691949258725<br>Experiment id:<br> ALG_005_EXP_002-PatchMatch-MacLean_et_al-Numba<br>Scene: teddy<br>kernel size: 3x3<br>kernel spec: gauss_3_3<br>match:20<br>bad4: 0.22883691949258725<br>IMG res:450x375",
          "bad4: 0.4125403823881992<br>Experiment id:<br> ALG_005_EXP_002-PatchMatch-MacLean_et_al-Numba<br>Scene: teddy<br>kernel size: 3x3<br>kernel spec: hsobel<br>match:20<br>bad4: 0.4125403823881992<br>IMG res:450x375",
          "bad4: 0.4116260641648211<br>Experiment id:<br> ALG_005_EXP_002-PatchMatch-MacLean_et_al-Numba<br>Scene: teddy<br>kernel size: 3x3<br>kernel spec: vsobel<br>match:20<br>bad4: 0.4116260641648211<br>IMG res:450x375",
          "bad4: 0.5098712504486932<br>Experiment id:<br> ALG_005_EXP_002-PatchMatch-MacLean_et_al-Numba<br>Scene: teddy<br>kernel size: 3x3<br>kernel spec: hvsobel_div2<br>match:20<br>bad4: 0.5098712504486932<br>IMG res:450x375",
          "bad4: 0.29890755904125266<br>Experiment id:<br> ALG_005_EXP_002-PatchMatch-MacLean_et_al-Numba<br>Scene: teddy<br>kernel size: 3x3<br>kernel spec: hvsobel_div<br>match:20<br>bad4: 0.29890755904125266<br>IMG res:450x375",
          "bad4: 0.4147008824864037<br>Experiment id:<br> ALG_005_EXP_002-PatchMatch-MacLean_et_al-Numba<br>Scene: teddy<br>kernel size: 3x3<br>kernel spec: hscharr<br>match:20<br>bad4: 0.4147008824864037<br>IMG res:450x375",
          "bad4: 0.4115041550683707<br>Experiment id:<br> ALG_005_EXP_002-PatchMatch-MacLean_et_al-Numba<br>Scene: teddy<br>kernel size: 3x3<br>kernel spec: vscharr<br>match:20<br>bad4: 0.4115041550683707<br>IMG res:450x375",
          "bad4: 0.4861057493684432<br>Experiment id:<br> ALG_005_EXP_002-PatchMatch-MacLean_et_al-Numba<br>Scene: teddy<br>kernel size: 3x3<br>kernel spec: hvscharr_div2<br>match:20<br>bad4: 0.4861057493684432<br>IMG res:450x375",
          "bad4: 0.2888094222186101<br>Experiment id:<br> ALG_005_EXP_002-PatchMatch-MacLean_et_al-Numba<br>Scene: teddy<br>kernel size: 3x3<br>kernel spec: hvscharr<br>match:20<br>bad4: 0.2888094222186101<br>IMG res:450x375",
          "bad4: 0.41214079146094507<br>Experiment id:<br> ALG_005_EXP_002-PatchMatch-MacLean_et_al-Numba<br>Scene: teddy<br>kernel size: 3x3<br>kernel spec: hprewitt<br>match:20<br>bad4: 0.41214079146094507<br>IMG res:450x375",
          "bad4: 0.41214079146094507<br>Experiment id:<br> ALG_005_EXP_002-PatchMatch-MacLean_et_al-Numba<br>Scene: teddy<br>kernel size: 3x3<br>kernel spec: vprewitt<br>match:20<br>bad4: 0.41214079146094507<br>IMG res:450x375",
          "bad4: 0.5510629795937718<br>Experiment id:<br> ALG_005_EXP_002-PatchMatch-MacLean_et_al-Numba<br>Scene: teddy<br>kernel size: 3x3<br>kernel spec: hvprewitt_div2<br>match:20<br>bad4: 0.5510629795937718<br>IMG res:450x375",
          "bad4: 0.3200994236408829<br>Experiment id:<br> ALG_005_EXP_002-PatchMatch-MacLean_et_al-Numba<br>Scene: teddy<br>kernel size: 3x3<br>kernel spec: hvprewitt<br>match:20<br>bad4: 0.3200994236408829<br>IMG res:450x375",
          "bad4: 0.22883691949258725<br>Experiment id:<br> ALG_005_EXP_002-PatchMatch-MacLean_et_al-Numba<br>Scene: teddy<br>kernel size: 3x3<br>kernel spec: gauss_3_3<br>match:20<br>bad4: 0.22883691949258725<br>IMG res:450x375",
          "bad4: 0.225755328443424<br>Experiment id:<br> ALG_005_EXP_002-PatchMatch-MacLean_et_al-Numba<br>Scene: teddy<br>kernel size: 5x3<br>kernel spec: gauss_5_3<br>match:20<br>bad4: 0.225755328443424<br>IMG res:450x375",
          "bad4: 0.225755328443424<br>Experiment id:<br> ALG_005_EXP_002-PatchMatch-MacLean_et_al-Numba<br>Scene: teddy<br>kernel size: 5x3<br>kernel spec: gauss_5_3<br>match:20<br>bad4: 0.225755328443424<br>IMG res:450x375",
          "bad4: 0.22331714651441573<br>Experiment id:<br> ALG_005_EXP_002-PatchMatch-MacLean_et_al-Numba<br>Scene: teddy<br>kernel size: 5x5<br>kernel spec: gauss_5_5<br>match:20<br>bad4: 0.22331714651441573<br>IMG res:450x375",
          "bad4: 0.19612464527839296<br>Experiment id:<br> ALG_005_EXP_002-PatchMatch-MacLean_et_al-Numba<br>Scene: teddy<br>kernel size: 5x5<br>kernel spec: octagon_3_1<br>match:20<br>bad4: 0.19612464527839296<br>IMG res:450x375",
          "bad4: 0.2358263743557443<br>Experiment id:<br> ALG_005_EXP_002-PatchMatch-MacLean_et_al-Numba<br>Scene: teddy<br>kernel size: 5x5<br>kernel spec: diamond_2<br>match:20<br>bad4: 0.2358263743557443<br>IMG res:450x375",
          "bad4: 0.2358263743557443<br>Experiment id:<br> ALG_005_EXP_002-PatchMatch-MacLean_et_al-Numba<br>Scene: teddy<br>kernel size: 5x5<br>kernel spec: disk_2<br>match:20<br>bad4: 0.2358263743557443<br>IMG res:450x375",
          "bad4: 0.9963494998340682<br>Experiment id:<br> ALG_005_EXP_002-PatchMatch-MacLean_et_al-Numba<br>Scene: teddy<br>kernel size: 5x5<br>kernel spec: hfarid<br>match:20<br>bad4: 0.9963494998340682<br>IMG res:450x375",
          "bad4: 0.9946427724837624<br>Experiment id:<br> ALG_005_EXP_002-PatchMatch-MacLean_et_al-Numba<br>Scene: teddy<br>kernel size: 5x5<br>kernel spec: vfarid<br>match:20<br>bad4: 0.9946427724837624<br>IMG res:450x375",
          "bad4: 1.0<br>Experiment id:<br> ALG_005_EXP_002-PatchMatch-MacLean_et_al-Numba<br>Scene: teddy<br>kernel size: 5x5<br>kernel spec: hvfarid_div2<br>match:20<br>bad4: 1.0<br>IMG res:450x375",
          "bad4: 0.8994249954284089<br>Experiment id:<br> ALG_005_EXP_002-PatchMatch-MacLean_et_al-Numba<br>Scene: teddy<br>kernel size: 5x5<br>kernel spec: hvfarid<br>match:20<br>bad4: 0.8994249954284089<br>IMG res:450x375",
          "bad4: 0.22331714651441573<br>Experiment id:<br> ALG_005_EXP_002-PatchMatch-MacLean_et_al-Numba<br>Scene: teddy<br>kernel size: 5x5<br>kernel spec: gauss_5_5<br>match:20<br>bad4: 0.22331714651441573<br>IMG res:450x375",
          "bad4: 0.2252744647852029<br>Experiment id:<br> ALG_005_EXP_002-PatchMatch-MacLean_et_al-Numba<br>Scene: teddy<br>kernel size: 7x3<br>kernel spec: gauss_7_3<br>match:20<br>bad4: 0.2252744647852029<br>IMG res:450x375",
          "bad4: 0.2252744647852029<br>Experiment id:<br> ALG_005_EXP_002-PatchMatch-MacLean_et_al-Numba<br>Scene: teddy<br>kernel size: 7x3<br>kernel spec: gauss_7_3<br>match:20<br>bad4: 0.2252744647852029<br>IMG res:450x375",
          "bad4: 0.2313292832422401<br>Experiment id:<br> ALG_005_EXP_002-PatchMatch-MacLean_et_al-Numba<br>Scene: teddy<br>kernel size: 7x7<br>kernel spec: star_2<br>match:20<br>bad4: 0.2313292832422401<br>IMG res:450x375",
          "bad4: 0.2479089203594964<br>Experiment id:<br> ALG_005_EXP_002-PatchMatch-MacLean_et_al-Numba<br>Scene: teddy<br>kernel size: 7x7<br>kernel spec: octagon_1_3<br>match:20<br>bad4: 0.2479089203594964<br>IMG res:450x375",
          "bad4: 0.2479089203594964<br>Experiment id:<br> ALG_005_EXP_002-PatchMatch-MacLean_et_al-Numba<br>Scene: teddy<br>kernel size: 7x7<br>kernel spec: diamond_3<br>match:20<br>bad4: 0.2479089203594964<br>IMG res:450x375",
          "bad4: 0.2313292832422401<br>Experiment id:<br> ALG_005_EXP_002-PatchMatch-MacLean_et_al-Numba<br>Scene: teddy<br>kernel size: 7x7<br>kernel spec: disk_3<br>match:20<br>bad4: 0.2313292832422401<br>IMG res:450x375",
          "bad4: 0.23742473806476086<br>Experiment id:<br> ALG_005_EXP_002-PatchMatch-MacLean_et_al-Numba<br>Scene: teddy<br>kernel size: 9x9<br>kernel spec: star_3<br>match:20<br>bad4: 0.23742473806476086<br>IMG res:450x375",
          "bad4: 0.23783110171959554<br>Experiment id:<br> ALG_005_EXP_002-PatchMatch-MacLean_et_al-Numba<br>Scene: teddy<br>kernel size: 9x9<br>kernel spec: disk_4<br>match:20<br>bad4: 0.23783110171959554<br>IMG res:450x375",
          "bad4: 0.2252947829679447<br>Experiment id:<br> ALG_005_EXP_002-PatchMatch-MacLean_et_al-Numba<br>Scene: teddy<br>kernel size: 11x3<br>kernel spec: gauss_11_3<br>match:20<br>bad4: 0.2252947829679447<br>IMG res:450x375",
          "bad4: 0.2252947829679447<br>Experiment id:<br> ALG_005_EXP_002-PatchMatch-MacLean_et_al-Numba<br>Scene: teddy<br>kernel size: 11x3<br>kernel spec: gauss_11_3<br>match:20<br>bad4: 0.2252947829679447<br>IMG res:450x375",
          "bad4: 0.2252947829679447<br>Experiment id:<br> ALG_005_EXP_002-PatchMatch-MacLean_et_al-Numba<br>Scene: teddy<br>kernel size: 13x3<br>kernel spec: gauss_13_3<br>match:20<br>bad4: 0.2252947829679447<br>IMG res:450x375",
          "bad4: 0.2252947829679447<br>Experiment id:<br> ALG_005_EXP_002-PatchMatch-MacLean_et_al-Numba<br>Scene: teddy<br>kernel size: 13x3<br>kernel spec: gauss_13_3<br>match:20<br>bad4: 0.2252947829679447<br>IMG res:450x375"
         ],
         "type": "scatter",
         "uid": "6cd7de39-a586-463d-987a-d45139c1a866",
         "x": [
          "3x3",
          "3x3",
          "3x3",
          "3x3",
          "3x3",
          "3x3",
          "3x3",
          "3x3",
          "3x3",
          "3x3",
          "3x3",
          "3x3",
          "3x3",
          "3x3",
          "5x3",
          "5x3",
          "5x5",
          "5x5",
          "5x5",
          "5x5",
          "5x5",
          "5x5",
          "5x5",
          "5x5",
          "5x5",
          "7x3",
          "7x3",
          "7x7",
          "7x7",
          "7x7",
          "7x7",
          "9x9",
          "9x9",
          "11x3",
          "11x3",
          "13x3",
          "13x3"
         ],
         "y": {
          "dtype": "float64",
          "shape": [
           37
          ],
          "value": {}
         }
        },
        {
         "hovertemplate": "%{text}",
         "name": "30",
         "showlegend": true,
         "text": [
          "bad4: 0.20601960027361815<br>Experiment id:<br> ALG_005_EXP_002-PatchMatch-MacLean_et_al-Numba<br>Scene: teddy<br>kernel size: 3x3<br>kernel spec: gauss_3_3<br>match:30<br>bad4: 0.20601960027361815<br>IMG res:450x375",
          "bad4: 0.5045207956600362<br>Experiment id:<br> ALG_005_EXP_002-PatchMatch-MacLean_et_al-Numba<br>Scene: teddy<br>kernel size: 3x3<br>kernel spec: hsobel<br>match:30<br>bad4: 0.5045207956600362<br>IMG res:450x375",
          "bad4: 0.4982966590134845<br>Experiment id:<br> ALG_005_EXP_002-PatchMatch-MacLean_et_al-Numba<br>Scene: teddy<br>kernel size: 3x3<br>kernel spec: vsobel<br>match:30<br>bad4: 0.4982966590134845<br>IMG res:450x375",
          "bad4: 0.5741850715538669<br>Experiment id:<br> ALG_005_EXP_002-PatchMatch-MacLean_et_al-Numba<br>Scene: teddy<br>kernel size: 3x3<br>kernel spec: hvsobel_div2<br>match:30<br>bad4: 0.5741850715538669<br>IMG res:450x375",
          "bad4: 0.3323648332893106<br>Experiment id:<br> ALG_005_EXP_002-PatchMatch-MacLean_et_al-Numba<br>Scene: teddy<br>kernel size: 3x3<br>kernel spec: hvsobel_div<br>match:30<br>bad4: 0.3323648332893106<br>IMG res:450x375",
          "bad4: 0.5083270685603213<br>Experiment id:<br> ALG_005_EXP_002-PatchMatch-MacLean_et_al-Numba<br>Scene: teddy<br>kernel size: 3x3<br>kernel spec: hscharr<br>match:30<br>bad4: 0.5083270685603213<br>IMG res:450x375",
          "bad4: 0.4998205227191146<br>Experiment id:<br> ALG_005_EXP_002-PatchMatch-MacLean_et_al-Numba<br>Scene: teddy<br>kernel size: 3x3<br>kernel spec: vscharr<br>match:30<br>bad4: 0.4998205227191146<br>IMG res:450x375",
          "bad4: 0.5662338893742677<br>Experiment id:<br> ALG_005_EXP_002-PatchMatch-MacLean_et_al-Numba<br>Scene: teddy<br>kernel size: 3x3<br>kernel spec: hvscharr_div2<br>match:30<br>bad4: 0.5662338893742677<br>IMG res:450x375",
          "bad4: 0.3117554232616101<br>Experiment id:<br> ALG_005_EXP_002-PatchMatch-MacLean_et_al-Numba<br>Scene: teddy<br>kernel size: 3x3<br>kernel spec: hvscharr<br>match:30<br>bad4: 0.3117554232616101<br>IMG res:450x375",
          "bad4: 0.4985946590270299<br>Experiment id:<br> ALG_005_EXP_002-PatchMatch-MacLean_et_al-Numba<br>Scene: teddy<br>kernel size: 3x3<br>kernel spec: hprewitt<br>match:30<br>bad4: 0.4985946590270299<br>IMG res:450x375",
          "bad4: 0.4985946590270299<br>Experiment id:<br> ALG_005_EXP_002-PatchMatch-MacLean_et_al-Numba<br>Scene: teddy<br>kernel size: 3x3<br>kernel spec: vprewitt<br>match:30<br>bad4: 0.4985946590270299<br>IMG res:450x375",
          "bad4: 0.5886922540314661<br>Experiment id:<br> ALG_005_EXP_002-PatchMatch-MacLean_et_al-Numba<br>Scene: teddy<br>kernel size: 3x3<br>kernel spec: hvprewitt_div2<br>match:30<br>bad4: 0.5886922540314661<br>IMG res:450x375",
          "bad4: 0.3836953356225152<br>Experiment id:<br> ALG_005_EXP_002-PatchMatch-MacLean_et_al-Numba<br>Scene: teddy<br>kernel size: 3x3<br>kernel spec: hvprewitt<br>match:30<br>bad4: 0.3836953356225152<br>IMG res:450x375",
          "bad4: 0.20601960027361815<br>Experiment id:<br> ALG_005_EXP_002-PatchMatch-MacLean_et_al-Numba<br>Scene: teddy<br>kernel size: 3x3<br>kernel spec: gauss_3_3<br>match:30<br>bad4: 0.20601960027361815<br>IMG res:450x375",
          "bad4: 0.20603314572877932<br>Experiment id:<br> ALG_005_EXP_002-PatchMatch-MacLean_et_al-Numba<br>Scene: teddy<br>kernel size: 5x3<br>kernel spec: gauss_5_3<br>match:30<br>bad4: 0.20603314572877932<br>IMG res:450x375",
          "bad4: 0.20603314572877932<br>Experiment id:<br> ALG_005_EXP_002-PatchMatch-MacLean_et_al-Numba<br>Scene: teddy<br>kernel size: 5x3<br>kernel spec: gauss_5_3<br>match:30<br>bad4: 0.20603314572877932<br>IMG res:450x375",
          "bad4: 0.20030341819560996<br>Experiment id:<br> ALG_005_EXP_002-PatchMatch-MacLean_et_al-Numba<br>Scene: teddy<br>kernel size: 5x5<br>kernel spec: gauss_5_5<br>match:30<br>bad4: 0.20030341819560996<br>IMG res:450x375",
          "bad4: 0.2000799181854508<br>Experiment id:<br> ALG_005_EXP_002-PatchMatch-MacLean_et_al-Numba<br>Scene: teddy<br>kernel size: 5x5<br>kernel spec: octagon_3_1<br>match:30<br>bad4: 0.2000799181854508<br>IMG res:450x375",
          "bad4: 0.2644817847491721<br>Experiment id:<br> ALG_005_EXP_002-PatchMatch-MacLean_et_al-Numba<br>Scene: teddy<br>kernel size: 5x5<br>kernel spec: diamond_2<br>match:30<br>bad4: 0.2644817847491721<br>IMG res:450x375",
          "bad4: 0.2644817847491721<br>Experiment id:<br> ALG_005_EXP_002-PatchMatch-MacLean_et_al-Numba<br>Scene: teddy<br>kernel size: 5x5<br>kernel spec: disk_2<br>match:30<br>bad4: 0.2644817847491721<br>IMG res:450x375",
          "bad4: 1.0<br>Experiment id:<br> ALG_005_EXP_002-PatchMatch-MacLean_et_al-Numba<br>Scene: teddy<br>kernel size: 5x5<br>kernel spec: hfarid<br>match:30<br>bad4: 1.0<br>IMG res:450x375",
          "bad4: 1.0<br>Experiment id:<br> ALG_005_EXP_002-PatchMatch-MacLean_et_al-Numba<br>Scene: teddy<br>kernel size: 5x5<br>kernel spec: vfarid<br>match:30<br>bad4: 1.0<br>IMG res:450x375",
          "bad4: 1.0<br>Experiment id:<br> ALG_005_EXP_002-PatchMatch-MacLean_et_al-Numba<br>Scene: teddy<br>kernel size: 5x5<br>kernel spec: hvfarid_div2<br>match:30<br>bad4: 1.0<br>IMG res:450x375",
          "bad4: 0.9893058631502664<br>Experiment id:<br> ALG_005_EXP_002-PatchMatch-MacLean_et_al-Numba<br>Scene: teddy<br>kernel size: 5x5<br>kernel spec: hvfarid<br>match:30<br>bad4: 0.9893058631502664<br>IMG res:450x375",
          "bad4: 0.20030341819560996<br>Experiment id:<br> ALG_005_EXP_002-PatchMatch-MacLean_et_al-Numba<br>Scene: teddy<br>kernel size: 5x5<br>kernel spec: gauss_5_5<br>match:30<br>bad4: 0.20030341819560996<br>IMG res:450x375",
          "bad4: 0.20755023670682893<br>Experiment id:<br> ALG_005_EXP_002-PatchMatch-MacLean_et_al-Numba<br>Scene: teddy<br>kernel size: 7x3<br>kernel spec: gauss_7_3<br>match:30<br>bad4: 0.20755023670682893<br>IMG res:450x375",
          "bad4: 0.20755023670682893<br>Experiment id:<br> ALG_005_EXP_002-PatchMatch-MacLean_et_al-Numba<br>Scene: teddy<br>kernel size: 7x3<br>kernel spec: gauss_7_3<br>match:30<br>bad4: 0.20755023670682893<br>IMG res:450x375",
          "bad4: 0.2500152386370563<br>Experiment id:<br> ALG_005_EXP_002-PatchMatch-MacLean_et_al-Numba<br>Scene: teddy<br>kernel size: 7x7<br>kernel spec: star_2<br>match:30<br>bad4: 0.2500152386370563<br>IMG res:450x375",
          "bad4: 0.2765372398426018<br>Experiment id:<br> ALG_005_EXP_002-PatchMatch-MacLean_et_al-Numba<br>Scene: teddy<br>kernel size: 7x7<br>kernel spec: octagon_1_3<br>match:30<br>bad4: 0.2765372398426018<br>IMG res:450x375",
          "bad4: 0.2765372398426018<br>Experiment id:<br> ALG_005_EXP_002-PatchMatch-MacLean_et_al-Numba<br>Scene: teddy<br>kernel size: 7x7<br>kernel spec: diamond_3<br>match:30<br>bad4: 0.2765372398426018<br>IMG res:450x375",
          "bad4: 0.2500152386370563<br>Experiment id:<br> ALG_005_EXP_002-PatchMatch-MacLean_et_al-Numba<br>Scene: teddy<br>kernel size: 7x7<br>kernel spec: disk_3<br>match:30<br>bad4: 0.2500152386370563<br>IMG res:450x375",
          "bad4: 0.2515323296151059<br>Experiment id:<br> ALG_005_EXP_002-PatchMatch-MacLean_et_al-Numba<br>Scene: teddy<br>kernel size: 9x9<br>kernel spec: star_3<br>match:30<br>bad4: 0.2515323296151059<br>IMG res:450x375",
          "bad4: 0.25605651163893234<br>Experiment id:<br> ALG_005_EXP_002-PatchMatch-MacLean_et_al-Numba<br>Scene: teddy<br>kernel size: 9x9<br>kernel spec: disk_4<br>match:30<br>bad4: 0.25605651163893234<br>IMG res:450x375",
          "bad4: 0.20757055488957069<br>Experiment id:<br> ALG_005_EXP_002-PatchMatch-MacLean_et_al-Numba<br>Scene: teddy<br>kernel size: 11x3<br>kernel spec: gauss_11_3<br>match:30<br>bad4: 0.20757055488957069<br>IMG res:450x375",
          "bad4: 0.20757055488957069<br>Experiment id:<br> ALG_005_EXP_002-PatchMatch-MacLean_et_al-Numba<br>Scene: teddy<br>kernel size: 11x3<br>kernel spec: gauss_11_3<br>match:30<br>bad4: 0.20757055488957069<br>IMG res:450x375",
          "bad4: 0.20757055488957069<br>Experiment id:<br> ALG_005_EXP_002-PatchMatch-MacLean_et_al-Numba<br>Scene: teddy<br>kernel size: 13x3<br>kernel spec: gauss_13_3<br>match:30<br>bad4: 0.20757055488957069<br>IMG res:450x375",
          "bad4: 0.20757055488957069<br>Experiment id:<br> ALG_005_EXP_002-PatchMatch-MacLean_et_al-Numba<br>Scene: teddy<br>kernel size: 13x3<br>kernel spec: gauss_13_3<br>match:30<br>bad4: 0.20757055488957069<br>IMG res:450x375"
         ],
         "type": "scatter",
         "uid": "3dd45609-9519-4ff8-96db-112569ae319c",
         "x": [
          "3x3",
          "3x3",
          "3x3",
          "3x3",
          "3x3",
          "3x3",
          "3x3",
          "3x3",
          "3x3",
          "3x3",
          "3x3",
          "3x3",
          "3x3",
          "3x3",
          "5x3",
          "5x3",
          "5x5",
          "5x5",
          "5x5",
          "5x5",
          "5x5",
          "5x5",
          "5x5",
          "5x5",
          "5x5",
          "7x3",
          "7x3",
          "7x7",
          "7x7",
          "7x7",
          "7x7",
          "9x9",
          "9x9",
          "11x3",
          "11x3",
          "13x3",
          "13x3"
         ],
         "y": {
          "dtype": "float64",
          "shape": [
           37
          ],
          "value": {}
         }
        },
        {
         "hovertemplate": "%{text}",
         "name": "40",
         "showlegend": true,
         "text": [
          "bad4: 0.19972773635126076<br>Experiment id:<br> ALG_005_EXP_002-PatchMatch-MacLean_et_al-Numba<br>Scene: teddy<br>kernel size: 3x3<br>kernel spec: gauss_3_3<br>match:40<br>bad4: 0.19972773635126076<br>IMG res:450x375",
          "bad4: 0.5693561167889144<br>Experiment id:<br> ALG_005_EXP_002-PatchMatch-MacLean_et_al-Numba<br>Scene: teddy<br>kernel size: 3x3<br>kernel spec: hsobel<br>match:40<br>bad4: 0.5693561167889144<br>IMG res:450x375",
          "bad4: 0.5640192074554186<br>Experiment id:<br> ALG_005_EXP_002-PatchMatch-MacLean_et_al-Numba<br>Scene: teddy<br>kernel size: 3x3<br>kernel spec: vsobel<br>match:40<br>bad4: 0.5640192074554186<br>IMG res:450x375",
          "bad4: 0.6157628461710385<br>Experiment id:<br> ALG_005_EXP_002-PatchMatch-MacLean_et_al-Numba<br>Scene: teddy<br>kernel size: 3x3<br>kernel spec: hvsobel_div2<br>match:40<br>bad4: 0.6157628461710385<br>IMG res:450x375",
          "bad4: 0.40800942763679215<br>Experiment id:<br> ALG_005_EXP_002-PatchMatch-MacLean_et_al-Numba<br>Scene: teddy<br>kernel size: 3x3<br>kernel spec: hvsobel_div<br>match:40<br>bad4: 0.40800942763679215<br>IMG res:450x375",
          "bad4: 0.5739547988161272<br>Experiment id:<br> ALG_005_EXP_002-PatchMatch-MacLean_et_al-Numba<br>Scene: teddy<br>kernel size: 3x3<br>kernel spec: hscharr<br>match:40<br>bad4: 0.5739547988161272<br>IMG res:450x375",
          "bad4: 0.5665860712084578<br>Experiment id:<br> ALG_005_EXP_002-PatchMatch-MacLean_et_al-Numba<br>Scene: teddy<br>kernel size: 3x3<br>kernel spec: vscharr<br>match:40<br>bad4: 0.5665860712084578<br>IMG res:450x375",
          "bad4: 0.5975171180689599<br>Experiment id:<br> ALG_005_EXP_002-PatchMatch-MacLean_et_al-Numba<br>Scene: teddy<br>kernel size: 3x3<br>kernel spec: hvscharr_div2<br>match:40<br>bad4: 0.5975171180689599<br>IMG res:450x375",
          "bad4: 0.3770580625935483<br>Experiment id:<br> ALG_005_EXP_002-PatchMatch-MacLean_et_al-Numba<br>Scene: teddy<br>kernel size: 3x3<br>kernel spec: hvscharr<br>match:40<br>bad4: 0.3770580625935483<br>IMG res:450x375",
          "bad4: 0.5649199802236354<br>Experiment id:<br> ALG_005_EXP_002-PatchMatch-MacLean_et_al-Numba<br>Scene: teddy<br>kernel size: 3x3<br>kernel spec: hprewitt<br>match:40<br>bad4: 0.5649199802236354<br>IMG res:450x375",
          "bad4: 0.5649199802236354<br>Experiment id:<br> ALG_005_EXP_002-PatchMatch-MacLean_et_al-Numba<br>Scene: teddy<br>kernel size: 3x3<br>kernel spec: vprewitt<br>match:40<br>bad4: 0.5649199802236354<br>IMG res:450x375",
          "bad4: 0.6660029393637701<br>Experiment id:<br> ALG_005_EXP_002-PatchMatch-MacLean_et_al-Numba<br>Scene: teddy<br>kernel size: 3x3<br>kernel spec: hvprewitt_div2<br>match:40<br>bad4: 0.6660029393637701<br>IMG res:450x375",
          "bad4: 0.4590622481391931<br>Experiment id:<br> ALG_005_EXP_002-PatchMatch-MacLean_et_al-Numba<br>Scene: teddy<br>kernel size: 3x3<br>kernel spec: hvprewitt<br>match:40<br>bad4: 0.4590622481391931<br>IMG res:450x375",
          "bad4: 0.19972773635126076<br>Experiment id:<br> ALG_005_EXP_002-PatchMatch-MacLean_et_al-Numba<br>Scene: teddy<br>kernel size: 3x3<br>kernel spec: gauss_3_3<br>match:40<br>bad4: 0.19972773635126076<br>IMG res:450x375",
          "bad4: 0.19804132718369669<br>Experiment id:<br> ALG_005_EXP_002-PatchMatch-MacLean_et_al-Numba<br>Scene: teddy<br>kernel size: 5x3<br>kernel spec: gauss_5_3<br>match:40<br>bad4: 0.19804132718369669<br>IMG res:450x375",
          "bad4: 0.19804132718369669<br>Experiment id:<br> ALG_005_EXP_002-PatchMatch-MacLean_et_al-Numba<br>Scene: teddy<br>kernel size: 5x3<br>kernel spec: gauss_5_3<br>match:40<br>bad4: 0.19804132718369669<br>IMG res:450x375",
          "bad4: 0.19081482685521944<br>Experiment id:<br> ALG_005_EXP_002-PatchMatch-MacLean_et_al-Numba<br>Scene: teddy<br>kernel size: 5x5<br>kernel spec: gauss_5_5<br>match:40<br>bad4: 0.19081482685521944<br>IMG res:450x375",
          "bad4: 0.20637178210780827<br>Experiment id:<br> ALG_005_EXP_002-PatchMatch-MacLean_et_al-Numba<br>Scene: teddy<br>kernel size: 5x5<br>kernel spec: octagon_3_1<br>match:40<br>bad4: 0.20637178210780827<br>IMG res:450x375",
          "bad4: 0.2810952855043312<br>Experiment id:<br> ALG_005_EXP_002-PatchMatch-MacLean_et_al-Numba<br>Scene: teddy<br>kernel size: 5x5<br>kernel spec: diamond_2<br>match:40<br>bad4: 0.2810952855043312<br>IMG res:450x375",
          "bad4: 0.2810952855043312<br>Experiment id:<br> ALG_005_EXP_002-PatchMatch-MacLean_et_al-Numba<br>Scene: teddy<br>kernel size: 5x5<br>kernel spec: disk_2<br>match:40<br>bad4: 0.2810952855043312<br>IMG res:450x375",
          "bad4: 1.0<br>Experiment id:<br> ALG_005_EXP_002-PatchMatch-MacLean_et_al-Numba<br>Scene: teddy<br>kernel size: 5x5<br>kernel spec: hfarid<br>match:40<br>bad4: 1.0<br>IMG res:450x375",
          "bad4: 1.0<br>Experiment id:<br> ALG_005_EXP_002-PatchMatch-MacLean_et_al-Numba<br>Scene: teddy<br>kernel size: 5x5<br>kernel spec: vfarid<br>match:40<br>bad4: 1.0<br>IMG res:450x375",
          "bad4: 1.0<br>Experiment id:<br> ALG_005_EXP_002-PatchMatch-MacLean_et_al-Numba<br>Scene: teddy<br>kernel size: 5x5<br>kernel spec: hvfarid_div2<br>match:40<br>bad4: 1.0<br>IMG res:450x375",
          "bad4: 1.0<br>Experiment id:<br> ALG_005_EXP_002-PatchMatch-MacLean_et_al-Numba<br>Scene: teddy<br>kernel size: 5x5<br>kernel spec: hvfarid<br>match:40<br>bad4: 1.0<br>IMG res:450x375",
          "bad4: 0.19081482685521944<br>Experiment id:<br> ALG_005_EXP_002-PatchMatch-MacLean_et_al-Numba<br>Scene: teddy<br>kernel size: 5x5<br>kernel spec: gauss_5_5<br>match:40<br>bad4: 0.19081482685521944<br>IMG res:450x375",
          "bad4: 0.19770269080466776<br>Experiment id:<br> ALG_005_EXP_002-PatchMatch-MacLean_et_al-Numba<br>Scene: teddy<br>kernel size: 7x3<br>kernel spec: gauss_7_3<br>match:40<br>bad4: 0.19770269080466776<br>IMG res:450x375",
          "bad4: 0.19770269080466776<br>Experiment id:<br> ALG_005_EXP_002-PatchMatch-MacLean_et_al-Numba<br>Scene: teddy<br>kernel size: 7x3<br>kernel spec: gauss_7_3<br>match:40<br>bad4: 0.19770269080466776<br>IMG res:450x375",
          "bad4: 0.2766320580287299<br>Experiment id:<br> ALG_005_EXP_002-PatchMatch-MacLean_et_al-Numba<br>Scene: teddy<br>kernel size: 7x7<br>kernel spec: star_2<br>match:40<br>bad4: 0.2766320580287299<br>IMG res:450x375",
          "bad4: 0.2886062403911928<br>Experiment id:<br> ALG_005_EXP_002-PatchMatch-MacLean_et_al-Numba<br>Scene: teddy<br>kernel size: 7x7<br>kernel spec: octagon_1_3<br>match:40<br>bad4: 0.2886062403911928<br>IMG res:450x375",
          "bad4: 0.2886062403911928<br>Experiment id:<br> ALG_005_EXP_002-PatchMatch-MacLean_et_al-Numba<br>Scene: teddy<br>kernel size: 7x7<br>kernel spec: diamond_3<br>match:40<br>bad4: 0.2886062403911928<br>IMG res:450x375",
          "bad4: 0.2766320580287299<br>Experiment id:<br> ALG_005_EXP_002-PatchMatch-MacLean_et_al-Numba<br>Scene: teddy<br>kernel size: 7x7<br>kernel spec: disk_3<br>match:40<br>bad4: 0.2766320580287299<br>IMG res:450x375",
          "bad4: 0.2756974216226101<br>Experiment id:<br> ALG_005_EXP_002-PatchMatch-MacLean_et_al-Numba<br>Scene: teddy<br>kernel size: 9x9<br>kernel spec: star_3<br>match:40<br>bad4: 0.2756974216226101<br>IMG res:450x375",
          "bad4: 0.28312033105092416<br>Experiment id:<br> ALG_005_EXP_002-PatchMatch-MacLean_et_al-Numba<br>Scene: teddy<br>kernel size: 9x9<br>kernel spec: disk_4<br>match:40<br>bad4: 0.28312033105092416<br>IMG res:450x375",
          "bad4: 0.19754691807031446<br>Experiment id:<br> ALG_005_EXP_002-PatchMatch-MacLean_et_al-Numba<br>Scene: teddy<br>kernel size: 11x3<br>kernel spec: gauss_11_3<br>match:40<br>bad4: 0.19754691807031446<br>IMG res:450x375",
          "bad4: 0.19754691807031446<br>Experiment id:<br> ALG_005_EXP_002-PatchMatch-MacLean_et_al-Numba<br>Scene: teddy<br>kernel size: 11x3<br>kernel spec: gauss_11_3<br>match:40<br>bad4: 0.19754691807031446<br>IMG res:450x375",
          "bad4: 0.19754691807031446<br>Experiment id:<br> ALG_005_EXP_002-PatchMatch-MacLean_et_al-Numba<br>Scene: teddy<br>kernel size: 13x3<br>kernel spec: gauss_13_3<br>match:40<br>bad4: 0.19754691807031446<br>IMG res:450x375",
          "bad4: 0.19754691807031446<br>Experiment id:<br> ALG_005_EXP_002-PatchMatch-MacLean_et_al-Numba<br>Scene: teddy<br>kernel size: 13x3<br>kernel spec: gauss_13_3<br>match:40<br>bad4: 0.19754691807031446<br>IMG res:450x375"
         ],
         "type": "scatter",
         "uid": "ce439901-a435-49e7-86c4-7a8c6281b561",
         "x": [
          "3x3",
          "3x3",
          "3x3",
          "3x3",
          "3x3",
          "3x3",
          "3x3",
          "3x3",
          "3x3",
          "3x3",
          "3x3",
          "3x3",
          "3x3",
          "3x3",
          "5x3",
          "5x3",
          "5x5",
          "5x5",
          "5x5",
          "5x5",
          "5x5",
          "5x5",
          "5x5",
          "5x5",
          "5x5",
          "7x3",
          "7x3",
          "7x7",
          "7x7",
          "7x7",
          "7x7",
          "9x9",
          "9x9",
          "11x3",
          "11x3",
          "13x3",
          "13x3"
         ],
         "y": {
          "dtype": "float64",
          "shape": [
           37
          ],
          "value": {}
         }
        }
       ],
       "_js2py_layoutDelta": {},
       "_js2py_pointsCallback": {},
       "_js2py_relayout": {},
       "_js2py_restyle": {},
       "_js2py_traceDeltas": {},
       "_js2py_update": {},
       "_layout": {
        "legend": {
         "title": {
          "text": "match"
         }
        },
        "template": {
         "data": {
          "bar": [
           {
            "error_x": {
             "color": "#2a3f5f"
            },
            "error_y": {
             "color": "#2a3f5f"
            },
            "marker": {
             "line": {
              "color": "#E5ECF6",
              "width": 0.5
             }
            },
            "type": "bar"
           }
          ],
          "barpolar": [
           {
            "marker": {
             "line": {
              "color": "#E5ECF6",
              "width": 0.5
             }
            },
            "type": "barpolar"
           }
          ],
          "carpet": [
           {
            "aaxis": {
             "endlinecolor": "#2a3f5f",
             "gridcolor": "white",
             "linecolor": "white",
             "minorgridcolor": "white",
             "startlinecolor": "#2a3f5f"
            },
            "baxis": {
             "endlinecolor": "#2a3f5f",
             "gridcolor": "white",
             "linecolor": "white",
             "minorgridcolor": "white",
             "startlinecolor": "#2a3f5f"
            },
            "type": "carpet"
           }
          ],
          "choropleth": [
           {
            "colorbar": {
             "outlinewidth": 0,
             "ticks": ""
            },
            "type": "choropleth"
           }
          ],
          "contour": [
           {
            "colorbar": {
             "outlinewidth": 0,
             "ticks": ""
            },
            "colorscale": [
             [
              0,
              "#0d0887"
             ],
             [
              0.1111111111111111,
              "#46039f"
             ],
             [
              0.2222222222222222,
              "#7201a8"
             ],
             [
              0.3333333333333333,
              "#9c179e"
             ],
             [
              0.4444444444444444,
              "#bd3786"
             ],
             [
              0.5555555555555556,
              "#d8576b"
             ],
             [
              0.6666666666666666,
              "#ed7953"
             ],
             [
              0.7777777777777778,
              "#fb9f3a"
             ],
             [
              0.8888888888888888,
              "#fdca26"
             ],
             [
              1,
              "#f0f921"
             ]
            ],
            "type": "contour"
           }
          ],
          "contourcarpet": [
           {
            "colorbar": {
             "outlinewidth": 0,
             "ticks": ""
            },
            "type": "contourcarpet"
           }
          ],
          "heatmap": [
           {
            "colorbar": {
             "outlinewidth": 0,
             "ticks": ""
            },
            "colorscale": [
             [
              0,
              "#0d0887"
             ],
             [
              0.1111111111111111,
              "#46039f"
             ],
             [
              0.2222222222222222,
              "#7201a8"
             ],
             [
              0.3333333333333333,
              "#9c179e"
             ],
             [
              0.4444444444444444,
              "#bd3786"
             ],
             [
              0.5555555555555556,
              "#d8576b"
             ],
             [
              0.6666666666666666,
              "#ed7953"
             ],
             [
              0.7777777777777778,
              "#fb9f3a"
             ],
             [
              0.8888888888888888,
              "#fdca26"
             ],
             [
              1,
              "#f0f921"
             ]
            ],
            "type": "heatmap"
           }
          ],
          "heatmapgl": [
           {
            "colorbar": {
             "outlinewidth": 0,
             "ticks": ""
            },
            "colorscale": [
             [
              0,
              "#0d0887"
             ],
             [
              0.1111111111111111,
              "#46039f"
             ],
             [
              0.2222222222222222,
              "#7201a8"
             ],
             [
              0.3333333333333333,
              "#9c179e"
             ],
             [
              0.4444444444444444,
              "#bd3786"
             ],
             [
              0.5555555555555556,
              "#d8576b"
             ],
             [
              0.6666666666666666,
              "#ed7953"
             ],
             [
              0.7777777777777778,
              "#fb9f3a"
             ],
             [
              0.8888888888888888,
              "#fdca26"
             ],
             [
              1,
              "#f0f921"
             ]
            ],
            "type": "heatmapgl"
           }
          ],
          "histogram": [
           {
            "marker": {
             "colorbar": {
              "outlinewidth": 0,
              "ticks": ""
             }
            },
            "type": "histogram"
           }
          ],
          "histogram2d": [
           {
            "colorbar": {
             "outlinewidth": 0,
             "ticks": ""
            },
            "colorscale": [
             [
              0,
              "#0d0887"
             ],
             [
              0.1111111111111111,
              "#46039f"
             ],
             [
              0.2222222222222222,
              "#7201a8"
             ],
             [
              0.3333333333333333,
              "#9c179e"
             ],
             [
              0.4444444444444444,
              "#bd3786"
             ],
             [
              0.5555555555555556,
              "#d8576b"
             ],
             [
              0.6666666666666666,
              "#ed7953"
             ],
             [
              0.7777777777777778,
              "#fb9f3a"
             ],
             [
              0.8888888888888888,
              "#fdca26"
             ],
             [
              1,
              "#f0f921"
             ]
            ],
            "type": "histogram2d"
           }
          ],
          "histogram2dcontour": [
           {
            "colorbar": {
             "outlinewidth": 0,
             "ticks": ""
            },
            "colorscale": [
             [
              0,
              "#0d0887"
             ],
             [
              0.1111111111111111,
              "#46039f"
             ],
             [
              0.2222222222222222,
              "#7201a8"
             ],
             [
              0.3333333333333333,
              "#9c179e"
             ],
             [
              0.4444444444444444,
              "#bd3786"
             ],
             [
              0.5555555555555556,
              "#d8576b"
             ],
             [
              0.6666666666666666,
              "#ed7953"
             ],
             [
              0.7777777777777778,
              "#fb9f3a"
             ],
             [
              0.8888888888888888,
              "#fdca26"
             ],
             [
              1,
              "#f0f921"
             ]
            ],
            "type": "histogram2dcontour"
           }
          ],
          "mesh3d": [
           {
            "colorbar": {
             "outlinewidth": 0,
             "ticks": ""
            },
            "type": "mesh3d"
           }
          ],
          "parcoords": [
           {
            "line": {
             "colorbar": {
              "outlinewidth": 0,
              "ticks": ""
             }
            },
            "type": "parcoords"
           }
          ],
          "pie": [
           {
            "automargin": true,
            "type": "pie"
           }
          ],
          "scatter": [
           {
            "marker": {
             "colorbar": {
              "outlinewidth": 0,
              "ticks": ""
             }
            },
            "type": "scatter"
           }
          ],
          "scatter3d": [
           {
            "line": {
             "colorbar": {
              "outlinewidth": 0,
              "ticks": ""
             }
            },
            "marker": {
             "colorbar": {
              "outlinewidth": 0,
              "ticks": ""
             }
            },
            "type": "scatter3d"
           }
          ],
          "scattercarpet": [
           {
            "marker": {
             "colorbar": {
              "outlinewidth": 0,
              "ticks": ""
             }
            },
            "type": "scattercarpet"
           }
          ],
          "scattergeo": [
           {
            "marker": {
             "colorbar": {
              "outlinewidth": 0,
              "ticks": ""
             }
            },
            "type": "scattergeo"
           }
          ],
          "scattergl": [
           {
            "marker": {
             "colorbar": {
              "outlinewidth": 0,
              "ticks": ""
             }
            },
            "type": "scattergl"
           }
          ],
          "scattermapbox": [
           {
            "marker": {
             "colorbar": {
              "outlinewidth": 0,
              "ticks": ""
             }
            },
            "type": "scattermapbox"
           }
          ],
          "scatterpolar": [
           {
            "marker": {
             "colorbar": {
              "outlinewidth": 0,
              "ticks": ""
             }
            },
            "type": "scatterpolar"
           }
          ],
          "scatterpolargl": [
           {
            "marker": {
             "colorbar": {
              "outlinewidth": 0,
              "ticks": ""
             }
            },
            "type": "scatterpolargl"
           }
          ],
          "scatterternary": [
           {
            "marker": {
             "colorbar": {
              "outlinewidth": 0,
              "ticks": ""
             }
            },
            "type": "scatterternary"
           }
          ],
          "surface": [
           {
            "colorbar": {
             "outlinewidth": 0,
             "ticks": ""
            },
            "colorscale": [
             [
              0,
              "#0d0887"
             ],
             [
              0.1111111111111111,
              "#46039f"
             ],
             [
              0.2222222222222222,
              "#7201a8"
             ],
             [
              0.3333333333333333,
              "#9c179e"
             ],
             [
              0.4444444444444444,
              "#bd3786"
             ],
             [
              0.5555555555555556,
              "#d8576b"
             ],
             [
              0.6666666666666666,
              "#ed7953"
             ],
             [
              0.7777777777777778,
              "#fb9f3a"
             ],
             [
              0.8888888888888888,
              "#fdca26"
             ],
             [
              1,
              "#f0f921"
             ]
            ],
            "type": "surface"
           }
          ],
          "table": [
           {
            "cells": {
             "fill": {
              "color": "#EBF0F8"
             },
             "line": {
              "color": "white"
             }
            },
            "header": {
             "fill": {
              "color": "#C8D4E3"
             },
             "line": {
              "color": "white"
             }
            },
            "type": "table"
           }
          ]
         },
         "layout": {
          "annotationdefaults": {
           "arrowcolor": "#2a3f5f",
           "arrowhead": 0,
           "arrowwidth": 1
          },
          "coloraxis": {
           "colorbar": {
            "outlinewidth": 0,
            "ticks": ""
           }
          },
          "colorscale": {
           "diverging": [
            [
             0,
             "#8e0152"
            ],
            [
             0.1,
             "#c51b7d"
            ],
            [
             0.2,
             "#de77ae"
            ],
            [
             0.3,
             "#f1b6da"
            ],
            [
             0.4,
             "#fde0ef"
            ],
            [
             0.5,
             "#f7f7f7"
            ],
            [
             0.6,
             "#e6f5d0"
            ],
            [
             0.7,
             "#b8e186"
            ],
            [
             0.8,
             "#7fbc41"
            ],
            [
             0.9,
             "#4d9221"
            ],
            [
             1,
             "#276419"
            ]
           ],
           "sequential": [
            [
             0,
             "#0d0887"
            ],
            [
             0.1111111111111111,
             "#46039f"
            ],
            [
             0.2222222222222222,
             "#7201a8"
            ],
            [
             0.3333333333333333,
             "#9c179e"
            ],
            [
             0.4444444444444444,
             "#bd3786"
            ],
            [
             0.5555555555555556,
             "#d8576b"
            ],
            [
             0.6666666666666666,
             "#ed7953"
            ],
            [
             0.7777777777777778,
             "#fb9f3a"
            ],
            [
             0.8888888888888888,
             "#fdca26"
            ],
            [
             1,
             "#f0f921"
            ]
           ],
           "sequentialminus": [
            [
             0,
             "#0d0887"
            ],
            [
             0.1111111111111111,
             "#46039f"
            ],
            [
             0.2222222222222222,
             "#7201a8"
            ],
            [
             0.3333333333333333,
             "#9c179e"
            ],
            [
             0.4444444444444444,
             "#bd3786"
            ],
            [
             0.5555555555555556,
             "#d8576b"
            ],
            [
             0.6666666666666666,
             "#ed7953"
            ],
            [
             0.7777777777777778,
             "#fb9f3a"
            ],
            [
             0.8888888888888888,
             "#fdca26"
            ],
            [
             1,
             "#f0f921"
            ]
           ]
          },
          "colorway": [
           "#636efa",
           "#EF553B",
           "#00cc96",
           "#ab63fa",
           "#FFA15A",
           "#19d3f3",
           "#FF6692",
           "#B6E880",
           "#FF97FF",
           "#FECB52"
          ],
          "font": {
           "color": "#2a3f5f"
          },
          "geo": {
           "bgcolor": "white",
           "lakecolor": "white",
           "landcolor": "#E5ECF6",
           "showlakes": true,
           "showland": true,
           "subunitcolor": "white"
          },
          "hoverlabel": {
           "align": "left"
          },
          "hovermode": "closest",
          "mapbox": {
           "style": "light"
          },
          "paper_bgcolor": "white",
          "plot_bgcolor": "#E5ECF6",
          "polar": {
           "angularaxis": {
            "gridcolor": "white",
            "linecolor": "white",
            "ticks": ""
           },
           "bgcolor": "#E5ECF6",
           "radialaxis": {
            "gridcolor": "white",
            "linecolor": "white",
            "ticks": ""
           }
          },
          "scene": {
           "xaxis": {
            "backgroundcolor": "#E5ECF6",
            "gridcolor": "white",
            "gridwidth": 2,
            "linecolor": "white",
            "showbackground": true,
            "ticks": "",
            "zerolinecolor": "white"
           },
           "yaxis": {
            "backgroundcolor": "#E5ECF6",
            "gridcolor": "white",
            "gridwidth": 2,
            "linecolor": "white",
            "showbackground": true,
            "ticks": "",
            "zerolinecolor": "white"
           },
           "zaxis": {
            "backgroundcolor": "#E5ECF6",
            "gridcolor": "white",
            "gridwidth": 2,
            "linecolor": "white",
            "showbackground": true,
            "ticks": "",
            "zerolinecolor": "white"
           }
          },
          "shapedefaults": {
           "line": {
            "color": "#2a3f5f"
           }
          },
          "ternary": {
           "aaxis": {
            "gridcolor": "white",
            "linecolor": "white",
            "ticks": ""
           },
           "baxis": {
            "gridcolor": "white",
            "linecolor": "white",
            "ticks": ""
           },
           "bgcolor": "#E5ECF6",
           "caxis": {
            "gridcolor": "white",
            "linecolor": "white",
            "ticks": ""
           }
          },
          "title": {
           "x": 0.05
          },
          "xaxis": {
           "automargin": true,
           "gridcolor": "white",
           "linecolor": "white",
           "ticks": "",
           "title": {
            "standoff": 15
           },
           "zerolinecolor": "white",
           "zerolinewidth": 2
          },
          "yaxis": {
           "automargin": true,
           "gridcolor": "white",
           "linecolor": "white",
           "ticks": "",
           "title": {
            "standoff": 15
           },
           "zerolinecolor": "white",
           "zerolinewidth": 2
          }
         }
        },
        "xaxis": {
         "showspikes": true
        },
        "yaxis": {
         "showspikes": true
        }
       },
       "_model_module_version": "4.6.0",
       "_py2js_addTraces": {},
       "_py2js_animate": {},
       "_py2js_deleteTraces": {},
       "_py2js_moveTraces": {},
       "_py2js_relayout": {},
       "_py2js_removeLayoutProps": {},
       "_py2js_removeTraceProps": {},
       "_py2js_restyle": {},
       "_py2js_update": {},
       "_view_count": 0,
       "_view_module_version": "4.6.0"
      }
     },
     "e827c58c5f5e4391af2207ecb9f55d45": {
      "buffers": [
       {
        "data": "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",
        "encoding": "base64",
        "path": [
         "value"
        ]
       }
      ],
      "model_module": "@jupyter-widgets/controls",
      "model_module_version": "1.5.0",
      "model_name": "ImageModel",
      "state": {
       "layout": "IPY_MODEL_636e952b0d9443d88b44e4659a899cb8",
       "value": {}
      }
     },
     "e89e5e85c264465783f53a0430f6d433": {
      "model_module": "@jupyter-widgets/controls",
      "model_module_version": "1.5.0",
      "model_name": "DescriptionStyleModel",
      "state": {
       "description_width": ""
      }
     },
     "f23c0dfd85a54066ae7207345ad37bd8": {
      "model_module": "@jupyter-widgets/controls",
      "model_module_version": "1.5.0",
      "model_name": "DescriptionStyleModel",
      "state": {
       "description_width": ""
      }
     },
     "f3f9429330ec471a8e370b27d5854c51": {
      "model_module": "@jupyter-widgets/base",
      "model_module_version": "1.2.0",
      "model_name": "LayoutModel",
      "state": {
       "height": "375px",
       "width": "450px"
      }
     },
     "f441ff580aac4d73b4176b0087cc592e": {
      "buffers": [
       {
        "data": "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",
        "encoding": "base64",
        "path": [
         "value"
        ]
       }
      ],
      "model_module": "@jupyter-widgets/controls",
      "model_module_version": "1.5.0",
      "model_name": "ImageModel",
      "state": {
       "layout": "IPY_MODEL_9bd8a153b2314f169445282075eb8575",
       "value": {}
      }
     },
     "f55fc9ca45c146f89251402248b5d015": {
      "buffers": [
       {
        "data": "XzGtL7Jvzj9fMa0vsm/OP5+tXSYwF9Y/XODthtbP1T/rh60uckDaPyyYow/so9A/XTWt7MJd1j9E8eUmX+DVP7wmlGjho9g/N5DzluPVzz9v9m7r8dLVP2/2buvx0tU/tw0dmS6s3D/AAgUSjWTSP1m9Y+7Obs4/OVq+DO66zj85Wr4M7rrOPzlavgzuus4/pc9koKH0zj+lz2SgofTOPzBz6Rn1Wcw/E5xK+Emzyz8TnEr4SbPLP+XV83dAK+o/9Xd/2/7w6T8N0tcBM0ftP9nJ1d2Sn+Q/pc9koKH0zj8DLzJQRrLOPwMvMlBGss4/Ay8yUEayzj+BCbJhNz7MP2A5lNqEpc0/YDmU2oSlzT+BCbJhNz7MP8kbYxLxtc0/pWOqip2wzT8XRbO0YbXOPxdFs7Rhtc4/F0WztGG1zj8XRbO0YbXOPxdFs7Rhtc4/",
        "encoding": "base64",
        "path": [
         "_data",
         0,
         "y",
         "value"
        ]
       },
       {
        "data": "IUWrNodKzT/fvqjGD2faPwE58dgUWNo/3yA7g91Q4D/o/6YrTSHTPz6x+ZF1ito/9PMLhhVW2j+i1/tJWxzfP1MozYPae9I/NgcrxYNg2j82ByvFg2DaP7SHbNROouE/+2IAS4J81D8hRas2h0rNP6L3R/SM5cw/ovdH9IzlzD+pLXUAqJXMP6qEtMScGsk/yTKyAo8vzj/JMrICjy/OP4OLpVgY4u8/K6hgFB3U7z8AAAAAAADwPyk9ku0WyOw/qS11AKiVzD8+LHAty9XMPz4scC3L1cw/JPcQrTKczT+QVKrAervPP5BUqsB6u88/JPcQrTKczT8V8J8O72POP2i87eE/cc4/RENnnnXWzD9EQ2eeddbMP0RDZ5511sw/RENnnnXWzD8=",
        "encoding": "base64",
        "path": [
         "_data",
         1,
         "y",
         "value"
        ]
       },
       {
        "data": "qk3Bqtleyj9KYLDLCCXgP5DQiqsX5N8/4ZsFX7lf4j9xW1Qmd0XVP49r5CA3ROA/rK+8Nw/93z/F+peIlh7iP5qX0ATN89M/rc6ekvno3z+tzp6S+ejfP1AoTyOR1uI/sxeI4XaO2D+qTcGq2V7KP60HZktLX8o/rQdmS0tfyj8NrTbbiqPJP9yvmAA4nMk/far4AUXt0D99qvgBRe3QPwAAAAAAAPA/AAAAAAAA8D8AAAAAAADwPxUW/8RkqO8/Da0224qjyT/oaHeTAZHKP+hod5MBkco/oqhc6j8A0D9cAVBAybLRP1wBUEDJstE/oqhc6j8A0D8/WWUOGxnQPxOx2tk6Y9A/7X9uBKyRyj/tf24ErJHKP+1/bgSskco/7X9uBKyRyj8=",
        "encoding": "base64",
        "path": [
         "_data",
         2,
         "y",
         "value"
        ]
       },
       {
        "data": "lcvdr62QyT+nWaxRKjjiP5PHSgJyDOI/CrDMSFS04z+KOAqT0xzaP1WFSXTWXeI/2LPGHHkh4j/ZAB043B7jPwUT4iO4Idg/AVz9ENMT4j8BXP0Q0xPiP7Ruc2XlT+U/MYKln0Zh3T+Vy92vrZDJPzdVwQ9rWck/N1XBD2tZyT9gsHfInmzIP/QxfPtjaso/tUGTFHf90T+1QZMUd/3RPwAAAAAAAPA/AAAAAAAA8D8AAAAAAADwPwAAAAAAAPA/YLB3yJ5syD/xKqtfUk7JP/Eqq19STsk/ZoyQ8la00T8/tflOhnjSPz+1+U6GeNI/ZoyQ8la00T8Fe13MBqXRPwaSrLykHtI/0c9EqDdJyT/Rz0SoN0nJP9HPRKg3Sck/0c9EqDdJyT8=",
        "encoding": "base64",
        "path": [
         "_data",
         3,
         "y",
         "value"
        ]
       }
      ],
      "model_module": "plotlywidget",
      "model_module_version": "4.6.0",
      "model_name": "FigureModel",
      "state": {
       "_config": {
        "plotlyServerURL": "https://plot.ly"
       },
       "_data": [
        {
         "hovertemplate": "%{text}",
         "name": "10",
         "showlegend": true,
         "text": [
          "bad4: 0.2377836926265315<br>Experiment id:<br> ALG_005_EXP_002-PatchMatch-MacLean_et_al-Numba<br>Scene: teddy<br>kernel size: 3x3<br>kernel spec: gauss_3_3<br>match:10<br>bad4: 0.2377836926265315<br>IMG res:450x375",
          "bad4: 0.2377836926265315<br>Experiment id:<br> ALG_005_EXP_002-PatchMatch-MacLean_et_al-Numba<br>Scene: teddy<br>kernel size: 3x3<br>kernel spec: gauss_3_3<br>match:10<br>bad4: 0.2377836926265315<br>IMG res:450x375",
          "bad4: 0.34516528841660404<br>Experiment id:<br> ALG_005_EXP_002-PatchMatch-MacLean_et_al-Numba<br>Scene: teddy<br>kernel size: 3x3<br>kernel spec: hsobel<br>match:10<br>bad4: 0.34516528841660404<br>IMG res:450x375",
          "bad4: 0.34081042458229205<br>Experiment id:<br> ALG_005_EXP_002-PatchMatch-MacLean_et_al-Numba<br>Scene: teddy<br>kernel size: 3x3<br>kernel spec: vsobel<br>match:10<br>bad4: 0.34081042458229205<br>IMG res:450x375",
          "bad4: 0.41018347319015785<br>Experiment id:<br> ALG_005_EXP_002-PatchMatch-MacLean_et_al-Numba<br>Scene: teddy<br>kernel size: 3x3<br>kernel spec: hvsobel_div2<br>match:10<br>bad4: 0.41018347319015785<br>IMG res:450x375",
          "bad4: 0.2600050118184096<br>Experiment id:<br> ALG_005_EXP_002-PatchMatch-MacLean_et_al-Numba<br>Scene: teddy<br>kernel size: 3x3<br>kernel spec: hvsobel_div<br>match:10<br>bad4: 0.2600050118184096<br>IMG res:450x375",
          "bad4: 0.349472743157852<br>Experiment id:<br> ALG_005_EXP_002-PatchMatch-MacLean_et_al-Numba<br>Scene: teddy<br>kernel size: 3x3<br>kernel spec: hscharr<br>match:10<br>bad4: 0.349472743157852<br>IMG res:450x375",
          "bad4: 0.3418195609917982<br>Experiment id:<br> ALG_005_EXP_002-PatchMatch-MacLean_et_al-Numba<br>Scene: teddy<br>kernel size: 3x3<br>kernel spec: vscharr<br>match:10<br>bad4: 0.3418195609917982<br>IMG res:450x375",
          "bad4: 0.3850024720455669<br>Experiment id:<br> ALG_005_EXP_002-PatchMatch-MacLean_et_al-Numba<br>Scene: teddy<br>kernel size: 3x3<br>kernel spec: hvscharr_div2<br>match:10<br>bad4: 0.3850024720455669<br>IMG res:450x375",
          "bad4: 0.24871487494158526<br>Experiment id:<br> ALG_005_EXP_002-PatchMatch-MacLean_et_al-Numba<br>Scene: teddy<br>kernel size: 3x3<br>kernel spec: hvscharr<br>match:10<br>bad4: 0.24871487494158526<br>IMG res:450x375",
          "bad4: 0.3410000609545482<br>Experiment id:<br> ALG_005_EXP_002-PatchMatch-MacLean_et_al-Numba<br>Scene: teddy<br>kernel size: 3x3<br>kernel spec: hprewitt<br>match:10<br>bad4: 0.3410000609545482<br>IMG res:450x375",
          "bad4: 0.3410000609545482<br>Experiment id:<br> ALG_005_EXP_002-PatchMatch-MacLean_et_al-Numba<br>Scene: teddy<br>kernel size: 3x3<br>kernel spec: vprewitt<br>match:10<br>bad4: 0.3410000609545482<br>IMG res:450x375",
          "bad4: 0.4480091567276889<br>Experiment id:<br> ALG_005_EXP_002-PatchMatch-MacLean_et_al-Numba<br>Scene: teddy<br>kernel size: 3x3<br>kernel spec: hvprewitt_div2<br>match:10<br>bad4: 0.4480091567276889<br>IMG res:450x375",
          "bad4: 0.28738714942668864<br>Experiment id:<br> ALG_005_EXP_002-PatchMatch-MacLean_et_al-Numba<br>Scene: teddy<br>kernel size: 3x3<br>kernel spec: hvprewitt<br>match:10<br>bad4: 0.28738714942668864<br>IMG res:450x375",
          "bad4: 0.2377566017162092<br>Experiment id:<br> ALG_005_EXP_002-PatchMatch-MacLean_et_al-Numba<br>Scene: teddy<br>kernel size: 3x3<br>kernel spec: gauss_3_3<br>match:10<br>bad4: 0.2377566017162092<br>IMG res:450x375",
          "bad4: 0.2400796472763476<br>Experiment id:<br> ALG_005_EXP_002-PatchMatch-MacLean_et_al-Numba<br>Scene: teddy<br>kernel size: 5x3<br>kernel spec: gauss_5_3<br>match:10<br>bad4: 0.2400796472763476<br>IMG res:450x375",
          "bad4: 0.2400796472763476<br>Experiment id:<br> ALG_005_EXP_002-PatchMatch-MacLean_et_al-Numba<br>Scene: teddy<br>kernel size: 5x3<br>kernel spec: gauss_5_3<br>match:10<br>bad4: 0.2400796472763476<br>IMG res:450x375",
          "bad4: 0.2400796472763476<br>Experiment id:<br> ALG_005_EXP_002-PatchMatch-MacLean_et_al-Numba<br>Scene: teddy<br>kernel size: 5x3<br>kernel spec: gauss_5_3<br>match:10<br>bad4: 0.2400796472763476<br>IMG res:450x375",
          "bad4: 0.241840556447298<br>Experiment id:<br> ALG_005_EXP_002-PatchMatch-MacLean_et_al-Numba<br>Scene: teddy<br>kernel size: 5x5<br>kernel spec: gauss_5_5<br>match:10<br>bad4: 0.241840556447298<br>IMG res:450x375",
          "bad4: 0.241840556447298<br>Experiment id:<br> ALG_005_EXP_002-PatchMatch-MacLean_et_al-Numba<br>Scene: teddy<br>kernel size: 5x5<br>kernel spec: gauss_5_5<br>match:10<br>bad4: 0.241840556447298<br>IMG res:450x375",
          "bad4: 0.2214952827952401<br>Experiment id:<br> ALG_005_EXP_002-PatchMatch-MacLean_et_al-Numba<br>Scene: teddy<br>kernel size: 5x5<br>kernel spec: octagon_3_1<br>match:10<br>bad4: 0.2214952827952401<br>IMG res:450x375",
          "bad4: 0.21640896438222565<br>Experiment id:<br> ALG_005_EXP_002-PatchMatch-MacLean_et_al-Numba<br>Scene: teddy<br>kernel size: 5x5<br>kernel spec: diamond_2<br>match:10<br>bad4: 0.21640896438222565<br>IMG res:450x375",
          "bad4: 0.21640896438222565<br>Experiment id:<br> ALG_005_EXP_002-PatchMatch-MacLean_et_al-Numba<br>Scene: teddy<br>kernel size: 5x5<br>kernel spec: disk_2<br>match:10<br>bad4: 0.21640896438222565<br>IMG res:450x375",
          "bad4: 0.8177797644445347<br>Experiment id:<br> ALG_005_EXP_002-PatchMatch-MacLean_et_al-Numba<br>Scene: teddy<br>kernel size: 5x5<br>kernel spec: hfarid<br>match:10<br>bad4: 0.8177797644445347<br>IMG res:450x375",
          "bad4: 0.8106684004849273<br>Experiment id:<br> ALG_005_EXP_002-PatchMatch-MacLean_et_al-Numba<br>Scene: teddy<br>kernel size: 5x5<br>kernel spec: vfarid<br>match:10<br>bad4: 0.8106684004849273<br>IMG res:450x375",
          "bad4: 0.9149413143155144<br>Experiment id:<br> ALG_005_EXP_002-PatchMatch-MacLean_et_al-Numba<br>Scene: teddy<br>kernel size: 5x5<br>kernel spec: hvfarid_div2<br>match:10<br>bad4: 0.9149413143155144<br>IMG res:450x375",
          "bad4: 0.6444792111126915<br>Experiment id:<br> ALG_005_EXP_002-PatchMatch-MacLean_et_al-Numba<br>Scene: teddy<br>kernel size: 5x5<br>kernel spec: hvfarid<br>match:10<br>bad4: 0.6444792111126915<br>IMG res:450x375",
          "bad4: 0.241840556447298<br>Experiment id:<br> ALG_005_EXP_002-PatchMatch-MacLean_et_al-Numba<br>Scene: teddy<br>kernel size: 5x5<br>kernel spec: gauss_5_5<br>match:10<br>bad4: 0.241840556447298<br>IMG res:450x375",
          "bad4: 0.23981551090070505<br>Experiment id:<br> ALG_005_EXP_002-PatchMatch-MacLean_et_al-Numba<br>Scene: teddy<br>kernel size: 7x3<br>kernel spec: gauss_7_3<br>match:10<br>bad4: 0.23981551090070505<br>IMG res:450x375",
          "bad4: 0.23981551090070505<br>Experiment id:<br> ALG_005_EXP_002-PatchMatch-MacLean_et_al-Numba<br>Scene: teddy<br>kernel size: 7x3<br>kernel spec: gauss_7_3<br>match:10<br>bad4: 0.23981551090070505<br>IMG res:450x375",
          "bad4: 0.23981551090070505<br>Experiment id:<br> ALG_005_EXP_002-PatchMatch-MacLean_et_al-Numba<br>Scene: teddy<br>kernel size: 7x3<br>kernel spec: gauss_7_3<br>match:10<br>bad4: 0.23981551090070505<br>IMG res:450x375",
          "bad4: 0.2206486918476678<br>Experiment id:<br> ALG_005_EXP_002-PatchMatch-MacLean_et_al-Numba<br>Scene: teddy<br>kernel size: 7x7<br>kernel spec: star_2<br>match:10<br>bad4: 0.2206486918476678<br>IMG res:450x375",
          "bad4: 0.23161373780062444<br>Experiment id:<br> ALG_005_EXP_002-PatchMatch-MacLean_et_al-Numba<br>Scene: teddy<br>kernel size: 7x7<br>kernel spec: octagon_1_3<br>match:10<br>bad4: 0.23161373780062444<br>IMG res:450x375",
          "bad4: 0.23161373780062444<br>Experiment id:<br> ALG_005_EXP_002-PatchMatch-MacLean_et_al-Numba<br>Scene: teddy<br>kernel size: 7x7<br>kernel spec: diamond_3<br>match:10<br>bad4: 0.23161373780062444<br>IMG res:450x375",
          "bad4: 0.2206486918476678<br>Experiment id:<br> ALG_005_EXP_002-PatchMatch-MacLean_et_al-Numba<br>Scene: teddy<br>kernel size: 7x7<br>kernel spec: disk_3<br>match:10<br>bad4: 0.2206486918476678<br>IMG res:450x375",
          "bad4: 0.2321149196415873<br>Experiment id:<br> ALG_005_EXP_002-PatchMatch-MacLean_et_al-Numba<br>Scene: teddy<br>kernel size: 9x9<br>kernel spec: star_3<br>match:10<br>bad4: 0.2321149196415873<br>IMG res:450x375",
          "bad4: 0.23195237417965334<br>Experiment id:<br> ALG_005_EXP_002-PatchMatch-MacLean_et_al-Numba<br>Scene: teddy<br>kernel size: 9x9<br>kernel spec: disk_4<br>match:10<br>bad4: 0.23195237417965334<br>IMG res:450x375",
          "bad4: 0.23991032908683316<br>Experiment id:<br> ALG_005_EXP_002-PatchMatch-MacLean_et_al-Numba<br>Scene: teddy<br>kernel size: 11x3<br>kernel spec: gauss_11_3<br>match:10<br>bad4: 0.23991032908683316<br>IMG res:450x375",
          "bad4: 0.23991032908683316<br>Experiment id:<br> ALG_005_EXP_002-PatchMatch-MacLean_et_al-Numba<br>Scene: teddy<br>kernel size: 11x3<br>kernel spec: gauss_11_3<br>match:10<br>bad4: 0.23991032908683316<br>IMG res:450x375",
          "bad4: 0.23991032908683316<br>Experiment id:<br> ALG_005_EXP_002-PatchMatch-MacLean_et_al-Numba<br>Scene: teddy<br>kernel size: 11x3<br>kernel spec: gauss_11_3<br>match:10<br>bad4: 0.23991032908683316<br>IMG res:450x375",
          "bad4: 0.23991032908683316<br>Experiment id:<br> ALG_005_EXP_002-PatchMatch-MacLean_et_al-Numba<br>Scene: teddy<br>kernel size: 13x3<br>kernel spec: gauss_13_3<br>match:10<br>bad4: 0.23991032908683316<br>IMG res:450x375",
          "bad4: 0.23991032908683316<br>Experiment id:<br> ALG_005_EXP_002-PatchMatch-MacLean_et_al-Numba<br>Scene: teddy<br>kernel size: 13x3<br>kernel spec: gauss_13_3<br>match:10<br>bad4: 0.23991032908683316<br>IMG res:450x375"
         ],
         "type": "scatter",
         "uid": "7416b83f-311c-4958-994a-29a927d4dfc9",
         "x": [
          "3x3",
          "3x3",
          "3x3",
          "3x3",
          "3x3",
          "3x3",
          "3x3",
          "3x3",
          "3x3",
          "3x3",
          "3x3",
          "3x3",
          "3x3",
          "3x3",
          "3x3",
          "5x3",
          "5x3",
          "5x3",
          "5x5",
          "5x5",
          "5x5",
          "5x5",
          "5x5",
          "5x5",
          "5x5",
          "5x5",
          "5x5",
          "5x5",
          "7x3",
          "7x3",
          "7x3",
          "7x7",
          "7x7",
          "7x7",
          "7x7",
          "9x9",
          "9x9",
          "11x3",
          "11x3",
          "11x3",
          "13x3",
          "13x3"
         ],
         "y": {
          "dtype": "float64",
          "shape": [
           42
          ],
          "value": {}
         }
        },
        {
         "hovertemplate": "%{text}",
         "name": "20",
         "showlegend": true,
         "text": [
          "bad4: 0.22883691949258725<br>Experiment id:<br> ALG_005_EXP_002-PatchMatch-MacLean_et_al-Numba<br>Scene: teddy<br>kernel size: 3x3<br>kernel spec: gauss_3_3<br>match:20<br>bad4: 0.22883691949258725<br>IMG res:450x375",
          "bad4: 0.4125403823881992<br>Experiment id:<br> ALG_005_EXP_002-PatchMatch-MacLean_et_al-Numba<br>Scene: teddy<br>kernel size: 3x3<br>kernel spec: hsobel<br>match:20<br>bad4: 0.4125403823881992<br>IMG res:450x375",
          "bad4: 0.4116260641648211<br>Experiment id:<br> ALG_005_EXP_002-PatchMatch-MacLean_et_al-Numba<br>Scene: teddy<br>kernel size: 3x3<br>kernel spec: vsobel<br>match:20<br>bad4: 0.4116260641648211<br>IMG res:450x375",
          "bad4: 0.5098712504486932<br>Experiment id:<br> ALG_005_EXP_002-PatchMatch-MacLean_et_al-Numba<br>Scene: teddy<br>kernel size: 3x3<br>kernel spec: hvsobel_div2<br>match:20<br>bad4: 0.5098712504486932<br>IMG res:450x375",
          "bad4: 0.29890755904125266<br>Experiment id:<br> ALG_005_EXP_002-PatchMatch-MacLean_et_al-Numba<br>Scene: teddy<br>kernel size: 3x3<br>kernel spec: hvsobel_div<br>match:20<br>bad4: 0.29890755904125266<br>IMG res:450x375",
          "bad4: 0.4147008824864037<br>Experiment id:<br> ALG_005_EXP_002-PatchMatch-MacLean_et_al-Numba<br>Scene: teddy<br>kernel size: 3x3<br>kernel spec: hscharr<br>match:20<br>bad4: 0.4147008824864037<br>IMG res:450x375",
          "bad4: 0.4115041550683707<br>Experiment id:<br> ALG_005_EXP_002-PatchMatch-MacLean_et_al-Numba<br>Scene: teddy<br>kernel size: 3x3<br>kernel spec: vscharr<br>match:20<br>bad4: 0.4115041550683707<br>IMG res:450x375",
          "bad4: 0.4861057493684432<br>Experiment id:<br> ALG_005_EXP_002-PatchMatch-MacLean_et_al-Numba<br>Scene: teddy<br>kernel size: 3x3<br>kernel spec: hvscharr_div2<br>match:20<br>bad4: 0.4861057493684432<br>IMG res:450x375",
          "bad4: 0.2888094222186101<br>Experiment id:<br> ALG_005_EXP_002-PatchMatch-MacLean_et_al-Numba<br>Scene: teddy<br>kernel size: 3x3<br>kernel spec: hvscharr<br>match:20<br>bad4: 0.2888094222186101<br>IMG res:450x375",
          "bad4: 0.41214079146094507<br>Experiment id:<br> ALG_005_EXP_002-PatchMatch-MacLean_et_al-Numba<br>Scene: teddy<br>kernel size: 3x3<br>kernel spec: hprewitt<br>match:20<br>bad4: 0.41214079146094507<br>IMG res:450x375",
          "bad4: 0.41214079146094507<br>Experiment id:<br> ALG_005_EXP_002-PatchMatch-MacLean_et_al-Numba<br>Scene: teddy<br>kernel size: 3x3<br>kernel spec: vprewitt<br>match:20<br>bad4: 0.41214079146094507<br>IMG res:450x375",
          "bad4: 0.5510629795937718<br>Experiment id:<br> ALG_005_EXP_002-PatchMatch-MacLean_et_al-Numba<br>Scene: teddy<br>kernel size: 3x3<br>kernel spec: hvprewitt_div2<br>match:20<br>bad4: 0.5510629795937718<br>IMG res:450x375",
          "bad4: 0.3200994236408829<br>Experiment id:<br> ALG_005_EXP_002-PatchMatch-MacLean_et_al-Numba<br>Scene: teddy<br>kernel size: 3x3<br>kernel spec: hvprewitt<br>match:20<br>bad4: 0.3200994236408829<br>IMG res:450x375",
          "bad4: 0.22883691949258725<br>Experiment id:<br> ALG_005_EXP_002-PatchMatch-MacLean_et_al-Numba<br>Scene: teddy<br>kernel size: 3x3<br>kernel spec: gauss_3_3<br>match:20<br>bad4: 0.22883691949258725<br>IMG res:450x375",
          "bad4: 0.225755328443424<br>Experiment id:<br> ALG_005_EXP_002-PatchMatch-MacLean_et_al-Numba<br>Scene: teddy<br>kernel size: 5x3<br>kernel spec: gauss_5_3<br>match:20<br>bad4: 0.225755328443424<br>IMG res:450x375",
          "bad4: 0.225755328443424<br>Experiment id:<br> ALG_005_EXP_002-PatchMatch-MacLean_et_al-Numba<br>Scene: teddy<br>kernel size: 5x3<br>kernel spec: gauss_5_3<br>match:20<br>bad4: 0.225755328443424<br>IMG res:450x375",
          "bad4: 0.22331714651441573<br>Experiment id:<br> ALG_005_EXP_002-PatchMatch-MacLean_et_al-Numba<br>Scene: teddy<br>kernel size: 5x5<br>kernel spec: gauss_5_5<br>match:20<br>bad4: 0.22331714651441573<br>IMG res:450x375",
          "bad4: 0.19612464527839296<br>Experiment id:<br> ALG_005_EXP_002-PatchMatch-MacLean_et_al-Numba<br>Scene: teddy<br>kernel size: 5x5<br>kernel spec: octagon_3_1<br>match:20<br>bad4: 0.19612464527839296<br>IMG res:450x375",
          "bad4: 0.2358263743557443<br>Experiment id:<br> ALG_005_EXP_002-PatchMatch-MacLean_et_al-Numba<br>Scene: teddy<br>kernel size: 5x5<br>kernel spec: diamond_2<br>match:20<br>bad4: 0.2358263743557443<br>IMG res:450x375",
          "bad4: 0.2358263743557443<br>Experiment id:<br> ALG_005_EXP_002-PatchMatch-MacLean_et_al-Numba<br>Scene: teddy<br>kernel size: 5x5<br>kernel spec: disk_2<br>match:20<br>bad4: 0.2358263743557443<br>IMG res:450x375",
          "bad4: 0.9963494998340682<br>Experiment id:<br> ALG_005_EXP_002-PatchMatch-MacLean_et_al-Numba<br>Scene: teddy<br>kernel size: 5x5<br>kernel spec: hfarid<br>match:20<br>bad4: 0.9963494998340682<br>IMG res:450x375",
          "bad4: 0.9946427724837624<br>Experiment id:<br> ALG_005_EXP_002-PatchMatch-MacLean_et_al-Numba<br>Scene: teddy<br>kernel size: 5x5<br>kernel spec: vfarid<br>match:20<br>bad4: 0.9946427724837624<br>IMG res:450x375",
          "bad4: 1.0<br>Experiment id:<br> ALG_005_EXP_002-PatchMatch-MacLean_et_al-Numba<br>Scene: teddy<br>kernel size: 5x5<br>kernel spec: hvfarid_div2<br>match:20<br>bad4: 1.0<br>IMG res:450x375",
          "bad4: 0.8994249954284089<br>Experiment id:<br> ALG_005_EXP_002-PatchMatch-MacLean_et_al-Numba<br>Scene: teddy<br>kernel size: 5x5<br>kernel spec: hvfarid<br>match:20<br>bad4: 0.8994249954284089<br>IMG res:450x375",
          "bad4: 0.22331714651441573<br>Experiment id:<br> ALG_005_EXP_002-PatchMatch-MacLean_et_al-Numba<br>Scene: teddy<br>kernel size: 5x5<br>kernel spec: gauss_5_5<br>match:20<br>bad4: 0.22331714651441573<br>IMG res:450x375",
          "bad4: 0.2252744647852029<br>Experiment id:<br> ALG_005_EXP_002-PatchMatch-MacLean_et_al-Numba<br>Scene: teddy<br>kernel size: 7x3<br>kernel spec: gauss_7_3<br>match:20<br>bad4: 0.2252744647852029<br>IMG res:450x375",
          "bad4: 0.2252744647852029<br>Experiment id:<br> ALG_005_EXP_002-PatchMatch-MacLean_et_al-Numba<br>Scene: teddy<br>kernel size: 7x3<br>kernel spec: gauss_7_3<br>match:20<br>bad4: 0.2252744647852029<br>IMG res:450x375",
          "bad4: 0.2313292832422401<br>Experiment id:<br> ALG_005_EXP_002-PatchMatch-MacLean_et_al-Numba<br>Scene: teddy<br>kernel size: 7x7<br>kernel spec: star_2<br>match:20<br>bad4: 0.2313292832422401<br>IMG res:450x375",
          "bad4: 0.2479089203594964<br>Experiment id:<br> ALG_005_EXP_002-PatchMatch-MacLean_et_al-Numba<br>Scene: teddy<br>kernel size: 7x7<br>kernel spec: octagon_1_3<br>match:20<br>bad4: 0.2479089203594964<br>IMG res:450x375",
          "bad4: 0.2479089203594964<br>Experiment id:<br> ALG_005_EXP_002-PatchMatch-MacLean_et_al-Numba<br>Scene: teddy<br>kernel size: 7x7<br>kernel spec: diamond_3<br>match:20<br>bad4: 0.2479089203594964<br>IMG res:450x375",
          "bad4: 0.2313292832422401<br>Experiment id:<br> ALG_005_EXP_002-PatchMatch-MacLean_et_al-Numba<br>Scene: teddy<br>kernel size: 7x7<br>kernel spec: disk_3<br>match:20<br>bad4: 0.2313292832422401<br>IMG res:450x375",
          "bad4: 0.23742473806476086<br>Experiment id:<br> ALG_005_EXP_002-PatchMatch-MacLean_et_al-Numba<br>Scene: teddy<br>kernel size: 9x9<br>kernel spec: star_3<br>match:20<br>bad4: 0.23742473806476086<br>IMG res:450x375",
          "bad4: 0.23783110171959554<br>Experiment id:<br> ALG_005_EXP_002-PatchMatch-MacLean_et_al-Numba<br>Scene: teddy<br>kernel size: 9x9<br>kernel spec: disk_4<br>match:20<br>bad4: 0.23783110171959554<br>IMG res:450x375",
          "bad4: 0.2252947829679447<br>Experiment id:<br> ALG_005_EXP_002-PatchMatch-MacLean_et_al-Numba<br>Scene: teddy<br>kernel size: 11x3<br>kernel spec: gauss_11_3<br>match:20<br>bad4: 0.2252947829679447<br>IMG res:450x375",
          "bad4: 0.2252947829679447<br>Experiment id:<br> ALG_005_EXP_002-PatchMatch-MacLean_et_al-Numba<br>Scene: teddy<br>kernel size: 11x3<br>kernel spec: gauss_11_3<br>match:20<br>bad4: 0.2252947829679447<br>IMG res:450x375",
          "bad4: 0.2252947829679447<br>Experiment id:<br> ALG_005_EXP_002-PatchMatch-MacLean_et_al-Numba<br>Scene: teddy<br>kernel size: 13x3<br>kernel spec: gauss_13_3<br>match:20<br>bad4: 0.2252947829679447<br>IMG res:450x375",
          "bad4: 0.2252947829679447<br>Experiment id:<br> ALG_005_EXP_002-PatchMatch-MacLean_et_al-Numba<br>Scene: teddy<br>kernel size: 13x3<br>kernel spec: gauss_13_3<br>match:20<br>bad4: 0.2252947829679447<br>IMG res:450x375"
         ],
         "type": "scatter",
         "uid": "89070231-43c2-4321-ba69-0609efee42bf",
         "x": [
          "3x3",
          "3x3",
          "3x3",
          "3x3",
          "3x3",
          "3x3",
          "3x3",
          "3x3",
          "3x3",
          "3x3",
          "3x3",
          "3x3",
          "3x3",
          "3x3",
          "5x3",
          "5x3",
          "5x5",
          "5x5",
          "5x5",
          "5x5",
          "5x5",
          "5x5",
          "5x5",
          "5x5",
          "5x5",
          "7x3",
          "7x3",
          "7x7",
          "7x7",
          "7x7",
          "7x7",
          "9x9",
          "9x9",
          "11x3",
          "11x3",
          "13x3",
          "13x3"
         ],
         "y": {
          "dtype": "float64",
          "shape": [
           37
          ],
          "value": {}
         }
        },
        {
         "hovertemplate": "%{text}",
         "name": "30",
         "showlegend": true,
         "text": [
          "bad4: 0.20601960027361815<br>Experiment id:<br> ALG_005_EXP_002-PatchMatch-MacLean_et_al-Numba<br>Scene: teddy<br>kernel size: 3x3<br>kernel spec: gauss_3_3<br>match:30<br>bad4: 0.20601960027361815<br>IMG res:450x375",
          "bad4: 0.5045207956600362<br>Experiment id:<br> ALG_005_EXP_002-PatchMatch-MacLean_et_al-Numba<br>Scene: teddy<br>kernel size: 3x3<br>kernel spec: hsobel<br>match:30<br>bad4: 0.5045207956600362<br>IMG res:450x375",
          "bad4: 0.4982966590134845<br>Experiment id:<br> ALG_005_EXP_002-PatchMatch-MacLean_et_al-Numba<br>Scene: teddy<br>kernel size: 3x3<br>kernel spec: vsobel<br>match:30<br>bad4: 0.4982966590134845<br>IMG res:450x375",
          "bad4: 0.5741850715538669<br>Experiment id:<br> ALG_005_EXP_002-PatchMatch-MacLean_et_al-Numba<br>Scene: teddy<br>kernel size: 3x3<br>kernel spec: hvsobel_div2<br>match:30<br>bad4: 0.5741850715538669<br>IMG res:450x375",
          "bad4: 0.3323648332893106<br>Experiment id:<br> ALG_005_EXP_002-PatchMatch-MacLean_et_al-Numba<br>Scene: teddy<br>kernel size: 3x3<br>kernel spec: hvsobel_div<br>match:30<br>bad4: 0.3323648332893106<br>IMG res:450x375",
          "bad4: 0.5083270685603213<br>Experiment id:<br> ALG_005_EXP_002-PatchMatch-MacLean_et_al-Numba<br>Scene: teddy<br>kernel size: 3x3<br>kernel spec: hscharr<br>match:30<br>bad4: 0.5083270685603213<br>IMG res:450x375",
          "bad4: 0.4998205227191146<br>Experiment id:<br> ALG_005_EXP_002-PatchMatch-MacLean_et_al-Numba<br>Scene: teddy<br>kernel size: 3x3<br>kernel spec: vscharr<br>match:30<br>bad4: 0.4998205227191146<br>IMG res:450x375",
          "bad4: 0.5662338893742677<br>Experiment id:<br> ALG_005_EXP_002-PatchMatch-MacLean_et_al-Numba<br>Scene: teddy<br>kernel size: 3x3<br>kernel spec: hvscharr_div2<br>match:30<br>bad4: 0.5662338893742677<br>IMG res:450x375",
          "bad4: 0.3117554232616101<br>Experiment id:<br> ALG_005_EXP_002-PatchMatch-MacLean_et_al-Numba<br>Scene: teddy<br>kernel size: 3x3<br>kernel spec: hvscharr<br>match:30<br>bad4: 0.3117554232616101<br>IMG res:450x375",
          "bad4: 0.4985946590270299<br>Experiment id:<br> ALG_005_EXP_002-PatchMatch-MacLean_et_al-Numba<br>Scene: teddy<br>kernel size: 3x3<br>kernel spec: hprewitt<br>match:30<br>bad4: 0.4985946590270299<br>IMG res:450x375",
          "bad4: 0.4985946590270299<br>Experiment id:<br> ALG_005_EXP_002-PatchMatch-MacLean_et_al-Numba<br>Scene: teddy<br>kernel size: 3x3<br>kernel spec: vprewitt<br>match:30<br>bad4: 0.4985946590270299<br>IMG res:450x375",
          "bad4: 0.5886922540314661<br>Experiment id:<br> ALG_005_EXP_002-PatchMatch-MacLean_et_al-Numba<br>Scene: teddy<br>kernel size: 3x3<br>kernel spec: hvprewitt_div2<br>match:30<br>bad4: 0.5886922540314661<br>IMG res:450x375",
          "bad4: 0.3836953356225152<br>Experiment id:<br> ALG_005_EXP_002-PatchMatch-MacLean_et_al-Numba<br>Scene: teddy<br>kernel size: 3x3<br>kernel spec: hvprewitt<br>match:30<br>bad4: 0.3836953356225152<br>IMG res:450x375",
          "bad4: 0.20601960027361815<br>Experiment id:<br> ALG_005_EXP_002-PatchMatch-MacLean_et_al-Numba<br>Scene: teddy<br>kernel size: 3x3<br>kernel spec: gauss_3_3<br>match:30<br>bad4: 0.20601960027361815<br>IMG res:450x375",
          "bad4: 0.20603314572877932<br>Experiment id:<br> ALG_005_EXP_002-PatchMatch-MacLean_et_al-Numba<br>Scene: teddy<br>kernel size: 5x3<br>kernel spec: gauss_5_3<br>match:30<br>bad4: 0.20603314572877932<br>IMG res:450x375",
          "bad4: 0.20603314572877932<br>Experiment id:<br> ALG_005_EXP_002-PatchMatch-MacLean_et_al-Numba<br>Scene: teddy<br>kernel size: 5x3<br>kernel spec: gauss_5_3<br>match:30<br>bad4: 0.20603314572877932<br>IMG res:450x375",
          "bad4: 0.20030341819560996<br>Experiment id:<br> ALG_005_EXP_002-PatchMatch-MacLean_et_al-Numba<br>Scene: teddy<br>kernel size: 5x5<br>kernel spec: gauss_5_5<br>match:30<br>bad4: 0.20030341819560996<br>IMG res:450x375",
          "bad4: 0.2000799181854508<br>Experiment id:<br> ALG_005_EXP_002-PatchMatch-MacLean_et_al-Numba<br>Scene: teddy<br>kernel size: 5x5<br>kernel spec: octagon_3_1<br>match:30<br>bad4: 0.2000799181854508<br>IMG res:450x375",
          "bad4: 0.2644817847491721<br>Experiment id:<br> ALG_005_EXP_002-PatchMatch-MacLean_et_al-Numba<br>Scene: teddy<br>kernel size: 5x5<br>kernel spec: diamond_2<br>match:30<br>bad4: 0.2644817847491721<br>IMG res:450x375",
          "bad4: 0.2644817847491721<br>Experiment id:<br> ALG_005_EXP_002-PatchMatch-MacLean_et_al-Numba<br>Scene: teddy<br>kernel size: 5x5<br>kernel spec: disk_2<br>match:30<br>bad4: 0.2644817847491721<br>IMG res:450x375",
          "bad4: 1.0<br>Experiment id:<br> ALG_005_EXP_002-PatchMatch-MacLean_et_al-Numba<br>Scene: teddy<br>kernel size: 5x5<br>kernel spec: hfarid<br>match:30<br>bad4: 1.0<br>IMG res:450x375",
          "bad4: 1.0<br>Experiment id:<br> ALG_005_EXP_002-PatchMatch-MacLean_et_al-Numba<br>Scene: teddy<br>kernel size: 5x5<br>kernel spec: vfarid<br>match:30<br>bad4: 1.0<br>IMG res:450x375",
          "bad4: 1.0<br>Experiment id:<br> ALG_005_EXP_002-PatchMatch-MacLean_et_al-Numba<br>Scene: teddy<br>kernel size: 5x5<br>kernel spec: hvfarid_div2<br>match:30<br>bad4: 1.0<br>IMG res:450x375",
          "bad4: 0.9893058631502664<br>Experiment id:<br> ALG_005_EXP_002-PatchMatch-MacLean_et_al-Numba<br>Scene: teddy<br>kernel size: 5x5<br>kernel spec: hvfarid<br>match:30<br>bad4: 0.9893058631502664<br>IMG res:450x375",
          "bad4: 0.20030341819560996<br>Experiment id:<br> ALG_005_EXP_002-PatchMatch-MacLean_et_al-Numba<br>Scene: teddy<br>kernel size: 5x5<br>kernel spec: gauss_5_5<br>match:30<br>bad4: 0.20030341819560996<br>IMG res:450x375",
          "bad4: 0.20755023670682893<br>Experiment id:<br> ALG_005_EXP_002-PatchMatch-MacLean_et_al-Numba<br>Scene: teddy<br>kernel size: 7x3<br>kernel spec: gauss_7_3<br>match:30<br>bad4: 0.20755023670682893<br>IMG res:450x375",
          "bad4: 0.20755023670682893<br>Experiment id:<br> ALG_005_EXP_002-PatchMatch-MacLean_et_al-Numba<br>Scene: teddy<br>kernel size: 7x3<br>kernel spec: gauss_7_3<br>match:30<br>bad4: 0.20755023670682893<br>IMG res:450x375",
          "bad4: 0.2500152386370563<br>Experiment id:<br> ALG_005_EXP_002-PatchMatch-MacLean_et_al-Numba<br>Scene: teddy<br>kernel size: 7x7<br>kernel spec: star_2<br>match:30<br>bad4: 0.2500152386370563<br>IMG res:450x375",
          "bad4: 0.2765372398426018<br>Experiment id:<br> ALG_005_EXP_002-PatchMatch-MacLean_et_al-Numba<br>Scene: teddy<br>kernel size: 7x7<br>kernel spec: octagon_1_3<br>match:30<br>bad4: 0.2765372398426018<br>IMG res:450x375",
          "bad4: 0.2765372398426018<br>Experiment id:<br> ALG_005_EXP_002-PatchMatch-MacLean_et_al-Numba<br>Scene: teddy<br>kernel size: 7x7<br>kernel spec: diamond_3<br>match:30<br>bad4: 0.2765372398426018<br>IMG res:450x375",
          "bad4: 0.2500152386370563<br>Experiment id:<br> ALG_005_EXP_002-PatchMatch-MacLean_et_al-Numba<br>Scene: teddy<br>kernel size: 7x7<br>kernel spec: disk_3<br>match:30<br>bad4: 0.2500152386370563<br>IMG res:450x375",
          "bad4: 0.2515323296151059<br>Experiment id:<br> ALG_005_EXP_002-PatchMatch-MacLean_et_al-Numba<br>Scene: teddy<br>kernel size: 9x9<br>kernel spec: star_3<br>match:30<br>bad4: 0.2515323296151059<br>IMG res:450x375",
          "bad4: 0.25605651163893234<br>Experiment id:<br> ALG_005_EXP_002-PatchMatch-MacLean_et_al-Numba<br>Scene: teddy<br>kernel size: 9x9<br>kernel spec: disk_4<br>match:30<br>bad4: 0.25605651163893234<br>IMG res:450x375",
          "bad4: 0.20757055488957069<br>Experiment id:<br> ALG_005_EXP_002-PatchMatch-MacLean_et_al-Numba<br>Scene: teddy<br>kernel size: 11x3<br>kernel spec: gauss_11_3<br>match:30<br>bad4: 0.20757055488957069<br>IMG res:450x375",
          "bad4: 0.20757055488957069<br>Experiment id:<br> ALG_005_EXP_002-PatchMatch-MacLean_et_al-Numba<br>Scene: teddy<br>kernel size: 11x3<br>kernel spec: gauss_11_3<br>match:30<br>bad4: 0.20757055488957069<br>IMG res:450x375",
          "bad4: 0.20757055488957069<br>Experiment id:<br> ALG_005_EXP_002-PatchMatch-MacLean_et_al-Numba<br>Scene: teddy<br>kernel size: 13x3<br>kernel spec: gauss_13_3<br>match:30<br>bad4: 0.20757055488957069<br>IMG res:450x375",
          "bad4: 0.20757055488957069<br>Experiment id:<br> ALG_005_EXP_002-PatchMatch-MacLean_et_al-Numba<br>Scene: teddy<br>kernel size: 13x3<br>kernel spec: gauss_13_3<br>match:30<br>bad4: 0.20757055488957069<br>IMG res:450x375"
         ],
         "type": "scatter",
         "uid": "65c3ac8e-7ae5-4ca9-9b6e-0325599feded",
         "x": [
          "3x3",
          "3x3",
          "3x3",
          "3x3",
          "3x3",
          "3x3",
          "3x3",
          "3x3",
          "3x3",
          "3x3",
          "3x3",
          "3x3",
          "3x3",
          "3x3",
          "5x3",
          "5x3",
          "5x5",
          "5x5",
          "5x5",
          "5x5",
          "5x5",
          "5x5",
          "5x5",
          "5x5",
          "5x5",
          "7x3",
          "7x3",
          "7x7",
          "7x7",
          "7x7",
          "7x7",
          "9x9",
          "9x9",
          "11x3",
          "11x3",
          "13x3",
          "13x3"
         ],
         "y": {
          "dtype": "float64",
          "shape": [
           37
          ],
          "value": {}
         }
        },
        {
         "hovertemplate": "%{text}",
         "name": "40",
         "showlegend": true,
         "text": [
          "bad4: 0.19972773635126076<br>Experiment id:<br> ALG_005_EXP_002-PatchMatch-MacLean_et_al-Numba<br>Scene: teddy<br>kernel size: 3x3<br>kernel spec: gauss_3_3<br>match:40<br>bad4: 0.19972773635126076<br>IMG res:450x375",
          "bad4: 0.5693561167889144<br>Experiment id:<br> ALG_005_EXP_002-PatchMatch-MacLean_et_al-Numba<br>Scene: teddy<br>kernel size: 3x3<br>kernel spec: hsobel<br>match:40<br>bad4: 0.5693561167889144<br>IMG res:450x375",
          "bad4: 0.5640192074554186<br>Experiment id:<br> ALG_005_EXP_002-PatchMatch-MacLean_et_al-Numba<br>Scene: teddy<br>kernel size: 3x3<br>kernel spec: vsobel<br>match:40<br>bad4: 0.5640192074554186<br>IMG res:450x375",
          "bad4: 0.6157628461710385<br>Experiment id:<br> ALG_005_EXP_002-PatchMatch-MacLean_et_al-Numba<br>Scene: teddy<br>kernel size: 3x3<br>kernel spec: hvsobel_div2<br>match:40<br>bad4: 0.6157628461710385<br>IMG res:450x375",
          "bad4: 0.40800942763679215<br>Experiment id:<br> ALG_005_EXP_002-PatchMatch-MacLean_et_al-Numba<br>Scene: teddy<br>kernel size: 3x3<br>kernel spec: hvsobel_div<br>match:40<br>bad4: 0.40800942763679215<br>IMG res:450x375",
          "bad4: 0.5739547988161272<br>Experiment id:<br> ALG_005_EXP_002-PatchMatch-MacLean_et_al-Numba<br>Scene: teddy<br>kernel size: 3x3<br>kernel spec: hscharr<br>match:40<br>bad4: 0.5739547988161272<br>IMG res:450x375",
          "bad4: 0.5665860712084578<br>Experiment id:<br> ALG_005_EXP_002-PatchMatch-MacLean_et_al-Numba<br>Scene: teddy<br>kernel size: 3x3<br>kernel spec: vscharr<br>match:40<br>bad4: 0.5665860712084578<br>IMG res:450x375",
          "bad4: 0.5975171180689599<br>Experiment id:<br> ALG_005_EXP_002-PatchMatch-MacLean_et_al-Numba<br>Scene: teddy<br>kernel size: 3x3<br>kernel spec: hvscharr_div2<br>match:40<br>bad4: 0.5975171180689599<br>IMG res:450x375",
          "bad4: 0.3770580625935483<br>Experiment id:<br> ALG_005_EXP_002-PatchMatch-MacLean_et_al-Numba<br>Scene: teddy<br>kernel size: 3x3<br>kernel spec: hvscharr<br>match:40<br>bad4: 0.3770580625935483<br>IMG res:450x375",
          "bad4: 0.5649199802236354<br>Experiment id:<br> ALG_005_EXP_002-PatchMatch-MacLean_et_al-Numba<br>Scene: teddy<br>kernel size: 3x3<br>kernel spec: hprewitt<br>match:40<br>bad4: 0.5649199802236354<br>IMG res:450x375",
          "bad4: 0.5649199802236354<br>Experiment id:<br> ALG_005_EXP_002-PatchMatch-MacLean_et_al-Numba<br>Scene: teddy<br>kernel size: 3x3<br>kernel spec: vprewitt<br>match:40<br>bad4: 0.5649199802236354<br>IMG res:450x375",
          "bad4: 0.6660029393637701<br>Experiment id:<br> ALG_005_EXP_002-PatchMatch-MacLean_et_al-Numba<br>Scene: teddy<br>kernel size: 3x3<br>kernel spec: hvprewitt_div2<br>match:40<br>bad4: 0.6660029393637701<br>IMG res:450x375",
          "bad4: 0.4590622481391931<br>Experiment id:<br> ALG_005_EXP_002-PatchMatch-MacLean_et_al-Numba<br>Scene: teddy<br>kernel size: 3x3<br>kernel spec: hvprewitt<br>match:40<br>bad4: 0.4590622481391931<br>IMG res:450x375",
          "bad4: 0.19972773635126076<br>Experiment id:<br> ALG_005_EXP_002-PatchMatch-MacLean_et_al-Numba<br>Scene: teddy<br>kernel size: 3x3<br>kernel spec: gauss_3_3<br>match:40<br>bad4: 0.19972773635126076<br>IMG res:450x375",
          "bad4: 0.19804132718369669<br>Experiment id:<br> ALG_005_EXP_002-PatchMatch-MacLean_et_al-Numba<br>Scene: teddy<br>kernel size: 5x3<br>kernel spec: gauss_5_3<br>match:40<br>bad4: 0.19804132718369669<br>IMG res:450x375",
          "bad4: 0.19804132718369669<br>Experiment id:<br> ALG_005_EXP_002-PatchMatch-MacLean_et_al-Numba<br>Scene: teddy<br>kernel size: 5x3<br>kernel spec: gauss_5_3<br>match:40<br>bad4: 0.19804132718369669<br>IMG res:450x375",
          "bad4: 0.19081482685521944<br>Experiment id:<br> ALG_005_EXP_002-PatchMatch-MacLean_et_al-Numba<br>Scene: teddy<br>kernel size: 5x5<br>kernel spec: gauss_5_5<br>match:40<br>bad4: 0.19081482685521944<br>IMG res:450x375",
          "bad4: 0.20637178210780827<br>Experiment id:<br> ALG_005_EXP_002-PatchMatch-MacLean_et_al-Numba<br>Scene: teddy<br>kernel size: 5x5<br>kernel spec: octagon_3_1<br>match:40<br>bad4: 0.20637178210780827<br>IMG res:450x375",
          "bad4: 0.2810952855043312<br>Experiment id:<br> ALG_005_EXP_002-PatchMatch-MacLean_et_al-Numba<br>Scene: teddy<br>kernel size: 5x5<br>kernel spec: diamond_2<br>match:40<br>bad4: 0.2810952855043312<br>IMG res:450x375",
          "bad4: 0.2810952855043312<br>Experiment id:<br> ALG_005_EXP_002-PatchMatch-MacLean_et_al-Numba<br>Scene: teddy<br>kernel size: 5x5<br>kernel spec: disk_2<br>match:40<br>bad4: 0.2810952855043312<br>IMG res:450x375",
          "bad4: 1.0<br>Experiment id:<br> ALG_005_EXP_002-PatchMatch-MacLean_et_al-Numba<br>Scene: teddy<br>kernel size: 5x5<br>kernel spec: hfarid<br>match:40<br>bad4: 1.0<br>IMG res:450x375",
          "bad4: 1.0<br>Experiment id:<br> ALG_005_EXP_002-PatchMatch-MacLean_et_al-Numba<br>Scene: teddy<br>kernel size: 5x5<br>kernel spec: vfarid<br>match:40<br>bad4: 1.0<br>IMG res:450x375",
          "bad4: 1.0<br>Experiment id:<br> ALG_005_EXP_002-PatchMatch-MacLean_et_al-Numba<br>Scene: teddy<br>kernel size: 5x5<br>kernel spec: hvfarid_div2<br>match:40<br>bad4: 1.0<br>IMG res:450x375",
          "bad4: 1.0<br>Experiment id:<br> ALG_005_EXP_002-PatchMatch-MacLean_et_al-Numba<br>Scene: teddy<br>kernel size: 5x5<br>kernel spec: hvfarid<br>match:40<br>bad4: 1.0<br>IMG res:450x375",
          "bad4: 0.19081482685521944<br>Experiment id:<br> ALG_005_EXP_002-PatchMatch-MacLean_et_al-Numba<br>Scene: teddy<br>kernel size: 5x5<br>kernel spec: gauss_5_5<br>match:40<br>bad4: 0.19081482685521944<br>IMG res:450x375",
          "bad4: 0.19770269080466776<br>Experiment id:<br> ALG_005_EXP_002-PatchMatch-MacLean_et_al-Numba<br>Scene: teddy<br>kernel size: 7x3<br>kernel spec: gauss_7_3<br>match:40<br>bad4: 0.19770269080466776<br>IMG res:450x375",
          "bad4: 0.19770269080466776<br>Experiment id:<br> ALG_005_EXP_002-PatchMatch-MacLean_et_al-Numba<br>Scene: teddy<br>kernel size: 7x3<br>kernel spec: gauss_7_3<br>match:40<br>bad4: 0.19770269080466776<br>IMG res:450x375",
          "bad4: 0.2766320580287299<br>Experiment id:<br> ALG_005_EXP_002-PatchMatch-MacLean_et_al-Numba<br>Scene: teddy<br>kernel size: 7x7<br>kernel spec: star_2<br>match:40<br>bad4: 0.2766320580287299<br>IMG res:450x375",
          "bad4: 0.2886062403911928<br>Experiment id:<br> ALG_005_EXP_002-PatchMatch-MacLean_et_al-Numba<br>Scene: teddy<br>kernel size: 7x7<br>kernel spec: octagon_1_3<br>match:40<br>bad4: 0.2886062403911928<br>IMG res:450x375",
          "bad4: 0.2886062403911928<br>Experiment id:<br> ALG_005_EXP_002-PatchMatch-MacLean_et_al-Numba<br>Scene: teddy<br>kernel size: 7x7<br>kernel spec: diamond_3<br>match:40<br>bad4: 0.2886062403911928<br>IMG res:450x375",
          "bad4: 0.2766320580287299<br>Experiment id:<br> ALG_005_EXP_002-PatchMatch-MacLean_et_al-Numba<br>Scene: teddy<br>kernel size: 7x7<br>kernel spec: disk_3<br>match:40<br>bad4: 0.2766320580287299<br>IMG res:450x375",
          "bad4: 0.2756974216226101<br>Experiment id:<br> ALG_005_EXP_002-PatchMatch-MacLean_et_al-Numba<br>Scene: teddy<br>kernel size: 9x9<br>kernel spec: star_3<br>match:40<br>bad4: 0.2756974216226101<br>IMG res:450x375",
          "bad4: 0.28312033105092416<br>Experiment id:<br> ALG_005_EXP_002-PatchMatch-MacLean_et_al-Numba<br>Scene: teddy<br>kernel size: 9x9<br>kernel spec: disk_4<br>match:40<br>bad4: 0.28312033105092416<br>IMG res:450x375",
          "bad4: 0.19754691807031446<br>Experiment id:<br> ALG_005_EXP_002-PatchMatch-MacLean_et_al-Numba<br>Scene: teddy<br>kernel size: 11x3<br>kernel spec: gauss_11_3<br>match:40<br>bad4: 0.19754691807031446<br>IMG res:450x375",
          "bad4: 0.19754691807031446<br>Experiment id:<br> ALG_005_EXP_002-PatchMatch-MacLean_et_al-Numba<br>Scene: teddy<br>kernel size: 11x3<br>kernel spec: gauss_11_3<br>match:40<br>bad4: 0.19754691807031446<br>IMG res:450x375",
          "bad4: 0.19754691807031446<br>Experiment id:<br> ALG_005_EXP_002-PatchMatch-MacLean_et_al-Numba<br>Scene: teddy<br>kernel size: 13x3<br>kernel spec: gauss_13_3<br>match:40<br>bad4: 0.19754691807031446<br>IMG res:450x375",
          "bad4: 0.19754691807031446<br>Experiment id:<br> ALG_005_EXP_002-PatchMatch-MacLean_et_al-Numba<br>Scene: teddy<br>kernel size: 13x3<br>kernel spec: gauss_13_3<br>match:40<br>bad4: 0.19754691807031446<br>IMG res:450x375"
         ],
         "type": "scatter",
         "uid": "5fdb4066-5e9f-4f52-8c8d-3dd4fd51f9be",
         "x": [
          "3x3",
          "3x3",
          "3x3",
          "3x3",
          "3x3",
          "3x3",
          "3x3",
          "3x3",
          "3x3",
          "3x3",
          "3x3",
          "3x3",
          "3x3",
          "3x3",
          "5x3",
          "5x3",
          "5x5",
          "5x5",
          "5x5",
          "5x5",
          "5x5",
          "5x5",
          "5x5",
          "5x5",
          "5x5",
          "7x3",
          "7x3",
          "7x7",
          "7x7",
          "7x7",
          "7x7",
          "9x9",
          "9x9",
          "11x3",
          "11x3",
          "13x3",
          "13x3"
         ],
         "y": {
          "dtype": "float64",
          "shape": [
           37
          ],
          "value": {}
         }
        }
       ],
       "_js2py_pointsCallback": {},
       "_js2py_restyle": {},
       "_js2py_update": {},
       "_last_layout_edit_id": 1,
       "_layout": {
        "autosize": true,
        "legend": {
         "title": {
          "text": "match"
         }
        },
        "template": {
         "data": {
          "bar": [
           {
            "error_x": {
             "color": "#2a3f5f"
            },
            "error_y": {
             "color": "#2a3f5f"
            },
            "marker": {
             "line": {
              "color": "#E5ECF6",
              "width": 0.5
             }
            },
            "type": "bar"
           }
          ],
          "barpolar": [
           {
            "marker": {
             "line": {
              "color": "#E5ECF6",
              "width": 0.5
             }
            },
            "type": "barpolar"
           }
          ],
          "carpet": [
           {
            "aaxis": {
             "endlinecolor": "#2a3f5f",
             "gridcolor": "white",
             "linecolor": "white",
             "minorgridcolor": "white",
             "startlinecolor": "#2a3f5f"
            },
            "baxis": {
             "endlinecolor": "#2a3f5f",
             "gridcolor": "white",
             "linecolor": "white",
             "minorgridcolor": "white",
             "startlinecolor": "#2a3f5f"
            },
            "type": "carpet"
           }
          ],
          "choropleth": [
           {
            "colorbar": {
             "outlinewidth": 0,
             "ticks": ""
            },
            "type": "choropleth"
           }
          ],
          "contour": [
           {
            "colorbar": {
             "outlinewidth": 0,
             "ticks": ""
            },
            "colorscale": [
             [
              0,
              "#0d0887"
             ],
             [
              0.1111111111111111,
              "#46039f"
             ],
             [
              0.2222222222222222,
              "#7201a8"
             ],
             [
              0.3333333333333333,
              "#9c179e"
             ],
             [
              0.4444444444444444,
              "#bd3786"
             ],
             [
              0.5555555555555556,
              "#d8576b"
             ],
             [
              0.6666666666666666,
              "#ed7953"
             ],
             [
              0.7777777777777778,
              "#fb9f3a"
             ],
             [
              0.8888888888888888,
              "#fdca26"
             ],
             [
              1,
              "#f0f921"
             ]
            ],
            "type": "contour"
           }
          ],
          "contourcarpet": [
           {
            "colorbar": {
             "outlinewidth": 0,
             "ticks": ""
            },
            "type": "contourcarpet"
           }
          ],
          "heatmap": [
           {
            "colorbar": {
             "outlinewidth": 0,
             "ticks": ""
            },
            "colorscale": [
             [
              0,
              "#0d0887"
             ],
             [
              0.1111111111111111,
              "#46039f"
             ],
             [
              0.2222222222222222,
              "#7201a8"
             ],
             [
              0.3333333333333333,
              "#9c179e"
             ],
             [
              0.4444444444444444,
              "#bd3786"
             ],
             [
              0.5555555555555556,
              "#d8576b"
             ],
             [
              0.6666666666666666,
              "#ed7953"
             ],
             [
              0.7777777777777778,
              "#fb9f3a"
             ],
             [
              0.8888888888888888,
              "#fdca26"
             ],
             [
              1,
              "#f0f921"
             ]
            ],
            "type": "heatmap"
           }
          ],
          "heatmapgl": [
           {
            "colorbar": {
             "outlinewidth": 0,
             "ticks": ""
            },
            "colorscale": [
             [
              0,
              "#0d0887"
             ],
             [
              0.1111111111111111,
              "#46039f"
             ],
             [
              0.2222222222222222,
              "#7201a8"
             ],
             [
              0.3333333333333333,
              "#9c179e"
             ],
             [
              0.4444444444444444,
              "#bd3786"
             ],
             [
              0.5555555555555556,
              "#d8576b"
             ],
             [
              0.6666666666666666,
              "#ed7953"
             ],
             [
              0.7777777777777778,
              "#fb9f3a"
             ],
             [
              0.8888888888888888,
              "#fdca26"
             ],
             [
              1,
              "#f0f921"
             ]
            ],
            "type": "heatmapgl"
           }
          ],
          "histogram": [
           {
            "marker": {
             "colorbar": {
              "outlinewidth": 0,
              "ticks": ""
             }
            },
            "type": "histogram"
           }
          ],
          "histogram2d": [
           {
            "colorbar": {
             "outlinewidth": 0,
             "ticks": ""
            },
            "colorscale": [
             [
              0,
              "#0d0887"
             ],
             [
              0.1111111111111111,
              "#46039f"
             ],
             [
              0.2222222222222222,
              "#7201a8"
             ],
             [
              0.3333333333333333,
              "#9c179e"
             ],
             [
              0.4444444444444444,
              "#bd3786"
             ],
             [
              0.5555555555555556,
              "#d8576b"
             ],
             [
              0.6666666666666666,
              "#ed7953"
             ],
             [
              0.7777777777777778,
              "#fb9f3a"
             ],
             [
              0.8888888888888888,
              "#fdca26"
             ],
             [
              1,
              "#f0f921"
             ]
            ],
            "type": "histogram2d"
           }
          ],
          "histogram2dcontour": [
           {
            "colorbar": {
             "outlinewidth": 0,
             "ticks": ""
            },
            "colorscale": [
             [
              0,
              "#0d0887"
             ],
             [
              0.1111111111111111,
              "#46039f"
             ],
             [
              0.2222222222222222,
              "#7201a8"
             ],
             [
              0.3333333333333333,
              "#9c179e"
             ],
             [
              0.4444444444444444,
              "#bd3786"
             ],
             [
              0.5555555555555556,
              "#d8576b"
             ],
             [
              0.6666666666666666,
              "#ed7953"
             ],
             [
              0.7777777777777778,
              "#fb9f3a"
             ],
             [
              0.8888888888888888,
              "#fdca26"
             ],
             [
              1,
              "#f0f921"
             ]
            ],
            "type": "histogram2dcontour"
           }
          ],
          "mesh3d": [
           {
            "colorbar": {
             "outlinewidth": 0,
             "ticks": ""
            },
            "type": "mesh3d"
           }
          ],
          "parcoords": [
           {
            "line": {
             "colorbar": {
              "outlinewidth": 0,
              "ticks": ""
             }
            },
            "type": "parcoords"
           }
          ],
          "pie": [
           {
            "automargin": true,
            "type": "pie"
           }
          ],
          "scatter": [
           {
            "marker": {
             "colorbar": {
              "outlinewidth": 0,
              "ticks": ""
             }
            },
            "type": "scatter"
           }
          ],
          "scatter3d": [
           {
            "line": {
             "colorbar": {
              "outlinewidth": 0,
              "ticks": ""
             }
            },
            "marker": {
             "colorbar": {
              "outlinewidth": 0,
              "ticks": ""
             }
            },
            "type": "scatter3d"
           }
          ],
          "scattercarpet": [
           {
            "marker": {
             "colorbar": {
              "outlinewidth": 0,
              "ticks": ""
             }
            },
            "type": "scattercarpet"
           }
          ],
          "scattergeo": [
           {
            "marker": {
             "colorbar": {
              "outlinewidth": 0,
              "ticks": ""
             }
            },
            "type": "scattergeo"
           }
          ],
          "scattergl": [
           {
            "marker": {
             "colorbar": {
              "outlinewidth": 0,
              "ticks": ""
             }
            },
            "type": "scattergl"
           }
          ],
          "scattermapbox": [
           {
            "marker": {
             "colorbar": {
              "outlinewidth": 0,
              "ticks": ""
             }
            },
            "type": "scattermapbox"
           }
          ],
          "scatterpolar": [
           {
            "marker": {
             "colorbar": {
              "outlinewidth": 0,
              "ticks": ""
             }
            },
            "type": "scatterpolar"
           }
          ],
          "scatterpolargl": [
           {
            "marker": {
             "colorbar": {
              "outlinewidth": 0,
              "ticks": ""
             }
            },
            "type": "scatterpolargl"
           }
          ],
          "scatterternary": [
           {
            "marker": {
             "colorbar": {
              "outlinewidth": 0,
              "ticks": ""
             }
            },
            "type": "scatterternary"
           }
          ],
          "surface": [
           {
            "colorbar": {
             "outlinewidth": 0,
             "ticks": ""
            },
            "colorscale": [
             [
              0,
              "#0d0887"
             ],
             [
              0.1111111111111111,
              "#46039f"
             ],
             [
              0.2222222222222222,
              "#7201a8"
             ],
             [
              0.3333333333333333,
              "#9c179e"
             ],
             [
              0.4444444444444444,
              "#bd3786"
             ],
             [
              0.5555555555555556,
              "#d8576b"
             ],
             [
              0.6666666666666666,
              "#ed7953"
             ],
             [
              0.7777777777777778,
              "#fb9f3a"
             ],
             [
              0.8888888888888888,
              "#fdca26"
             ],
             [
              1,
              "#f0f921"
             ]
            ],
            "type": "surface"
           }
          ],
          "table": [
           {
            "cells": {
             "fill": {
              "color": "#EBF0F8"
             },
             "line": {
              "color": "white"
             }
            },
            "header": {
             "fill": {
              "color": "#C8D4E3"
             },
             "line": {
              "color": "white"
             }
            },
            "type": "table"
           }
          ]
         },
         "layout": {
          "annotationdefaults": {
           "arrowcolor": "#2a3f5f",
           "arrowhead": 0,
           "arrowwidth": 1
          },
          "coloraxis": {
           "colorbar": {
            "outlinewidth": 0,
            "ticks": ""
           }
          },
          "colorscale": {
           "diverging": [
            [
             0,
             "#8e0152"
            ],
            [
             0.1,
             "#c51b7d"
            ],
            [
             0.2,
             "#de77ae"
            ],
            [
             0.3,
             "#f1b6da"
            ],
            [
             0.4,
             "#fde0ef"
            ],
            [
             0.5,
             "#f7f7f7"
            ],
            [
             0.6,
             "#e6f5d0"
            ],
            [
             0.7,
             "#b8e186"
            ],
            [
             0.8,
             "#7fbc41"
            ],
            [
             0.9,
             "#4d9221"
            ],
            [
             1,
             "#276419"
            ]
           ],
           "sequential": [
            [
             0,
             "#0d0887"
            ],
            [
             0.1111111111111111,
             "#46039f"
            ],
            [
             0.2222222222222222,
             "#7201a8"
            ],
            [
             0.3333333333333333,
             "#9c179e"
            ],
            [
             0.4444444444444444,
             "#bd3786"
            ],
            [
             0.5555555555555556,
             "#d8576b"
            ],
            [
             0.6666666666666666,
             "#ed7953"
            ],
            [
             0.7777777777777778,
             "#fb9f3a"
            ],
            [
             0.8888888888888888,
             "#fdca26"
            ],
            [
             1,
             "#f0f921"
            ]
           ],
           "sequentialminus": [
            [
             0,
             "#0d0887"
            ],
            [
             0.1111111111111111,
             "#46039f"
            ],
            [
             0.2222222222222222,
             "#7201a8"
            ],
            [
             0.3333333333333333,
             "#9c179e"
            ],
            [
             0.4444444444444444,
             "#bd3786"
            ],
            [
             0.5555555555555556,
             "#d8576b"
            ],
            [
             0.6666666666666666,
             "#ed7953"
            ],
            [
             0.7777777777777778,
             "#fb9f3a"
            ],
            [
             0.8888888888888888,
             "#fdca26"
            ],
            [
             1,
             "#f0f921"
            ]
           ]
          },
          "colorway": [
           "#636efa",
           "#EF553B",
           "#00cc96",
           "#ab63fa",
           "#FFA15A",
           "#19d3f3",
           "#FF6692",
           "#B6E880",
           "#FF97FF",
           "#FECB52"
          ],
          "font": {
           "color": "#2a3f5f"
          },
          "geo": {
           "bgcolor": "white",
           "lakecolor": "white",
           "landcolor": "#E5ECF6",
           "showlakes": true,
           "showland": true,
           "subunitcolor": "white"
          },
          "hoverlabel": {
           "align": "left"
          },
          "hovermode": "closest",
          "mapbox": {
           "style": "light"
          },
          "paper_bgcolor": "white",
          "plot_bgcolor": "#E5ECF6",
          "polar": {
           "angularaxis": {
            "gridcolor": "white",
            "linecolor": "white",
            "ticks": ""
           },
           "bgcolor": "#E5ECF6",
           "radialaxis": {
            "gridcolor": "white",
            "linecolor": "white",
            "ticks": ""
           }
          },
          "scene": {
           "xaxis": {
            "backgroundcolor": "#E5ECF6",
            "gridcolor": "white",
            "gridwidth": 2,
            "linecolor": "white",
            "showbackground": true,
            "ticks": "",
            "zerolinecolor": "white"
           },
           "yaxis": {
            "backgroundcolor": "#E5ECF6",
            "gridcolor": "white",
            "gridwidth": 2,
            "linecolor": "white",
            "showbackground": true,
            "ticks": "",
            "zerolinecolor": "white"
           },
           "zaxis": {
            "backgroundcolor": "#E5ECF6",
            "gridcolor": "white",
            "gridwidth": 2,
            "linecolor": "white",
            "showbackground": true,
            "ticks": "",
            "zerolinecolor": "white"
           }
          },
          "shapedefaults": {
           "line": {
            "color": "#2a3f5f"
           }
          },
          "ternary": {
           "aaxis": {
            "gridcolor": "white",
            "linecolor": "white",
            "ticks": ""
           },
           "baxis": {
            "gridcolor": "white",
            "linecolor": "white",
            "ticks": ""
           },
           "bgcolor": "#E5ECF6",
           "caxis": {
            "gridcolor": "white",
            "linecolor": "white",
            "ticks": ""
           }
          },
          "title": {
           "x": 0.05
          },
          "xaxis": {
           "automargin": true,
           "gridcolor": "white",
           "linecolor": "white",
           "ticks": "",
           "title": {
            "standoff": 15
           },
           "zerolinecolor": "white",
           "zerolinewidth": 2
          },
          "yaxis": {
           "automargin": true,
           "gridcolor": "white",
           "linecolor": "white",
           "ticks": "",
           "title": {
            "standoff": 15
           },
           "zerolinecolor": "white",
           "zerolinewidth": 2
          }
         }
        },
        "xaxis": {
         "showspikes": true
        },
        "yaxis": {
         "showspikes": true
        }
       },
       "_model_module_version": "4.6.0",
       "_py2js_addTraces": {},
       "_py2js_animate": {},
       "_py2js_deleteTraces": {},
       "_py2js_moveTraces": {},
       "_py2js_removeLayoutProps": {},
       "_py2js_removeTraceProps": {},
       "_py2js_restyle": {},
       "_py2js_update": {},
       "_view_count": 0,
       "_view_module_version": "4.6.0"
      }
     },
     "f68842e871fd48119c8c20cd3985bed1": {
      "model_module": "@jupyter-widgets/controls",
      "model_module_version": "1.5.0",
      "model_name": "DropdownModel",
      "state": {
       "_options_labels": [
        "On",
        "Off"
       ],
       "description": "Turn plots:",
       "index": 0,
       "layout": "IPY_MODEL_75945c59c73a49a8b1dda75c8fe67647",
       "style": "IPY_MODEL_51d46cbb046f49a5bce6d11d36427a5f"
      }
     },
     "f7a06d6868ae48beae57d33432b5f146": {
      "buffers": [
       {
        "data": "XzGtL7Jvzj9fMa0vsm/OPyFFqzaHSs0/qk3Bqtleyj+Vy92vrZDJP1m9Y+7Obs4/IUWrNodKzT+qTcGq2V7KP5XL3a+tkMk/",
        "encoding": "base64",
        "path": [
         "_data",
         0,
         "y",
         "value"
        ]
       },
       {
        "data": "n61dJjAX1j/fvqjGD2faP0pgsMsIJeA/p1msUSo44j8=",
        "encoding": "base64",
        "path": [
         "_data",
         1,
         "y",
         "value"
        ]
       },
       {
        "data": "XODthtbP1T8BOfHYFFjaP5DQiqsX5N8/k8dKAnIM4j8=",
        "encoding": "base64",
        "path": [
         "_data",
         2,
         "y",
         "value"
        ]
       },
       {
        "data": "64etLnJA2j/fIDuD3VDgP+GbBV+5X+I/CrDMSFS04z8=",
        "encoding": "base64",
        "path": [
         "_data",
         3,
         "y",
         "value"
        ]
       },
       {
        "data": "LJijD+yj0D/o/6YrTSHTP3FbVCZ3RdU/ijgKk9Mc2j8=",
        "encoding": "base64",
        "path": [
         "_data",
         4,
         "y",
         "value"
        ]
       },
       {
        "data": "XTWt7MJd1j8+sfmRdYraP49r5CA3ROA/VYVJdNZd4j8=",
        "encoding": "base64",
        "path": [
         "_data",
         5,
         "y",
         "value"
        ]
       },
       {
        "data": "RPHlJl/g1T/08wuGFVbaP6yvvDcP/d8/2LPGHHkh4j8=",
        "encoding": "base64",
        "path": [
         "_data",
         6,
         "y",
         "value"
        ]
       },
       {
        "data": "vCaUaOGj2D+i1/tJWxzfP8X6l4iWHuI/2QAdONwe4z8=",
        "encoding": "base64",
        "path": [
         "_data",
         7,
         "y",
         "value"
        ]
       },
       {
        "data": "N5DzluPVzz9TKM2D2nvSP5qX0ATN89M/BRPiI7gh2D8=",
        "encoding": "base64",
        "path": [
         "_data",
         8,
         "y",
         "value"
        ]
       },
       {
        "data": "b/Zu6/HS1T82ByvFg2DaP63OnpL56N8/AVz9ENMT4j8=",
        "encoding": "base64",
        "path": [
         "_data",
         9,
         "y",
         "value"
        ]
       },
       {
        "data": "b/Zu6/HS1T82ByvFg2DaP63OnpL56N8/AVz9ENMT4j8=",
        "encoding": "base64",
        "path": [
         "_data",
         10,
         "y",
         "value"
        ]
       },
       {
        "data": "tw0dmS6s3D+0h2zUTqLhP1AoTyOR1uI/tG5zZeVP5T8=",
        "encoding": "base64",
        "path": [
         "_data",
         11,
         "y",
         "value"
        ]
       },
       {
        "data": "wAIFEo1k0j/7YgBLgnzUP7MXiOF2jtg/MYKln0Zh3T8=",
        "encoding": "base64",
        "path": [
         "_data",
         12,
         "y",
         "value"
        ]
       },
       {
        "data": "OVq+DO66zj85Wr4M7rrOP6L3R/SM5cw/rQdmS0tfyj83VcEPa1nJPzlavgzuus4/ovdH9IzlzD+tB2ZLS1/KPzdVwQ9rWck/",
        "encoding": "base64",
        "path": [
         "_data",
         13,
         "y",
         "value"
        ]
       },
       {
        "data": "pc9koKH0zj+lz2SgofTOP6ktdQColcw/Da0224qjyT9gsHfInmzIP6XPZKCh9M4/qS11AKiVzD8NrTbbiqPJP2Cwd8iebMg/",
        "encoding": "base64",
        "path": [
         "_data",
         14,
         "y",
         "value"
        ]
       },
       {
        "data": "MHPpGfVZzD+qhLTEnBrJP9yvmAA4nMk/9DF8+2Nqyj8=",
        "encoding": "base64",
        "path": [
         "_data",
         15,
         "y",
         "value"
        ]
       },
       {
        "data": "E5xK+Emzyz/JMrICjy/OP32q+AFF7dA/tUGTFHf90T8=",
        "encoding": "base64",
        "path": [
         "_data",
         16,
         "y",
         "value"
        ]
       },
       {
        "data": "E5xK+Emzyz/JMrICjy/OP32q+AFF7dA/tUGTFHf90T8=",
        "encoding": "base64",
        "path": [
         "_data",
         17,
         "y",
         "value"
        ]
       },
       {
        "data": "5dXzd0Ar6j+Di6VYGOLvPwAAAAAAAPA/AAAAAAAA8D8=",
        "encoding": "base64",
        "path": [
         "_data",
         18,
         "y",
         "value"
        ]
       },
       {
        "data": "9Xd/2/7w6T8rqGAUHdTvPwAAAAAAAPA/AAAAAAAA8D8=",
        "encoding": "base64",
        "path": [
         "_data",
         19,
         "y",
         "value"
        ]
       },
       {
        "data": "DdLXATNH7T8AAAAAAADwPwAAAAAAAPA/AAAAAAAA8D8=",
        "encoding": "base64",
        "path": [
         "_data",
         20,
         "y",
         "value"
        ]
       },
       {
        "data": "2cnV3ZKf5D8pPZLtFsjsPxUW/8RkqO8/AAAAAAAA8D8=",
        "encoding": "base64",
        "path": [
         "_data",
         21,
         "y",
         "value"
        ]
       },
       {
        "data": "Ay8yUEayzj8DLzJQRrLOPz4scC3L1cw/6Gh3kwGRyj/xKqtfUk7JPwMvMlBGss4/PixwLcvVzD/oaHeTAZHKP/Eqq19STsk/",
        "encoding": "base64",
        "path": [
         "_data",
         22,
         "y",
         "value"
        ]
       },
       {
        "data": "gQmyYTc+zD8k9xCtMpzNP6KoXOo/ANA/ZoyQ8la00T8=",
        "encoding": "base64",
        "path": [
         "_data",
         23,
         "y",
         "value"
        ]
       },
       {
        "data": "YDmU2oSlzT+QVKrAervPP1wBUEDJstE/P7X5ToZ40j8=",
        "encoding": "base64",
        "path": [
         "_data",
         24,
         "y",
         "value"
        ]
       },
       {
        "data": "YDmU2oSlzT+QVKrAervPP1wBUEDJstE/P7X5ToZ40j8=",
        "encoding": "base64",
        "path": [
         "_data",
         25,
         "y",
         "value"
        ]
       },
       {
        "data": "gQmyYTc+zD8k9xCtMpzNP6KoXOo/ANA/ZoyQ8la00T8=",
        "encoding": "base64",
        "path": [
         "_data",
         26,
         "y",
         "value"
        ]
       },
       {
        "data": "yRtjEvG1zT8V8J8O72POPz9ZZQ4bGdA/BXtdzAal0T8=",
        "encoding": "base64",
        "path": [
         "_data",
         27,
         "y",
         "value"
        ]
       },
       {
        "data": "pWOqip2wzT9ovO3hP3HOPxOx2tk6Y9A/BpKsvKQe0j8=",
        "encoding": "base64",
        "path": [
         "_data",
         28,
         "y",
         "value"
        ]
       },
       {
        "data": "F0WztGG1zj8XRbO0YbXOP0RDZ5511sw/7X9uBKyRyj/Rz0SoN0nJPxdFs7Rhtc4/RENnnnXWzD/tf24ErJHKP9HPRKg3Sck/",
        "encoding": "base64",
        "path": [
         "_data",
         29,
         "y",
         "value"
        ]
       },
       {
        "data": "F0WztGG1zj9EQ2eeddbMP+1/bgSskco/0c9EqDdJyT8XRbO0YbXOP0RDZ5511sw/7X9uBKyRyj/Rz0SoN0nJPw==",
        "encoding": "base64",
        "path": [
         "_data",
         30,
         "y",
         "value"
        ]
       }
      ],
      "model_module": "plotlywidget",
      "model_module_version": "4.6.0",
      "model_name": "FigureModel",
      "state": {
       "_config": {
        "plotlyServerURL": "https://plot.ly"
       },
       "_data": [
        {
         "hovertemplate": "%{text}",
         "name": "gauss_3_3",
         "showlegend": true,
         "text": [
          "bad4: 0.2377836926265315<br>Experiment id:<br> ALG_005_EXP_002-PatchMatch-MacLean_et_al-Numba<br>Scene: teddy<br>kernel size: 3x3<br>kernel spec: gauss_3_3<br>match:10<br>bad4: 0.2377836926265315<br>IMG res:450x375",
          "bad4: 0.2377836926265315<br>Experiment id:<br> ALG_005_EXP_002-PatchMatch-MacLean_et_al-Numba<br>Scene: teddy<br>kernel size: 3x3<br>kernel spec: gauss_3_3<br>match:10<br>bad4: 0.2377836926265315<br>IMG res:450x375",
          "bad4: 0.22883691949258725<br>Experiment id:<br> ALG_005_EXP_002-PatchMatch-MacLean_et_al-Numba<br>Scene: teddy<br>kernel size: 3x3<br>kernel spec: gauss_3_3<br>match:20<br>bad4: 0.22883691949258725<br>IMG res:450x375",
          "bad4: 0.20601960027361815<br>Experiment id:<br> ALG_005_EXP_002-PatchMatch-MacLean_et_al-Numba<br>Scene: teddy<br>kernel size: 3x3<br>kernel spec: gauss_3_3<br>match:30<br>bad4: 0.20601960027361815<br>IMG res:450x375",
          "bad4: 0.19972773635126076<br>Experiment id:<br> ALG_005_EXP_002-PatchMatch-MacLean_et_al-Numba<br>Scene: teddy<br>kernel size: 3x3<br>kernel spec: gauss_3_3<br>match:40<br>bad4: 0.19972773635126076<br>IMG res:450x375",
          "bad4: 0.2377566017162092<br>Experiment id:<br> ALG_005_EXP_002-PatchMatch-MacLean_et_al-Numba<br>Scene: teddy<br>kernel size: 3x3<br>kernel spec: gauss_3_3<br>match:10<br>bad4: 0.2377566017162092<br>IMG res:450x375",
          "bad4: 0.22883691949258725<br>Experiment id:<br> ALG_005_EXP_002-PatchMatch-MacLean_et_al-Numba<br>Scene: teddy<br>kernel size: 3x3<br>kernel spec: gauss_3_3<br>match:20<br>bad4: 0.22883691949258725<br>IMG res:450x375",
          "bad4: 0.20601960027361815<br>Experiment id:<br> ALG_005_EXP_002-PatchMatch-MacLean_et_al-Numba<br>Scene: teddy<br>kernel size: 3x3<br>kernel spec: gauss_3_3<br>match:30<br>bad4: 0.20601960027361815<br>IMG res:450x375",
          "bad4: 0.19972773635126076<br>Experiment id:<br> ALG_005_EXP_002-PatchMatch-MacLean_et_al-Numba<br>Scene: teddy<br>kernel size: 3x3<br>kernel spec: gauss_3_3<br>match:40<br>bad4: 0.19972773635126076<br>IMG res:450x375"
         ],
         "type": "scatter",
         "uid": "e66e80a9-6469-40cf-a422-a5b83a0028a4",
         "visible": "legendonly",
         "x": [
          10,
          10,
          20,
          30,
          40,
          10,
          20,
          30,
          40
         ],
         "y": {
          "dtype": "float64",
          "shape": [
           9
          ],
          "value": {}
         }
        },
        {
         "hovertemplate": "%{text}",
         "name": "hsobel",
         "showlegend": true,
         "text": [
          "bad4: 0.34516528841660404<br>Experiment id:<br> ALG_005_EXP_002-PatchMatch-MacLean_et_al-Numba<br>Scene: teddy<br>kernel size: 3x3<br>kernel spec: hsobel<br>match:10<br>bad4: 0.34516528841660404<br>IMG res:450x375",
          "bad4: 0.4125403823881992<br>Experiment id:<br> ALG_005_EXP_002-PatchMatch-MacLean_et_al-Numba<br>Scene: teddy<br>kernel size: 3x3<br>kernel spec: hsobel<br>match:20<br>bad4: 0.4125403823881992<br>IMG res:450x375",
          "bad4: 0.5045207956600362<br>Experiment id:<br> ALG_005_EXP_002-PatchMatch-MacLean_et_al-Numba<br>Scene: teddy<br>kernel size: 3x3<br>kernel spec: hsobel<br>match:30<br>bad4: 0.5045207956600362<br>IMG res:450x375",
          "bad4: 0.5693561167889144<br>Experiment id:<br> ALG_005_EXP_002-PatchMatch-MacLean_et_al-Numba<br>Scene: teddy<br>kernel size: 3x3<br>kernel spec: hsobel<br>match:40<br>bad4: 0.5693561167889144<br>IMG res:450x375"
         ],
         "type": "scatter",
         "uid": "34bed283-272f-4281-9578-b52968fa38b2",
         "visible": true,
         "x": [
          10,
          20,
          30,
          40
         ],
         "y": {
          "dtype": "float64",
          "shape": [
           4
          ],
          "value": {}
         }
        },
        {
         "hovertemplate": "%{text}",
         "name": "vsobel",
         "showlegend": true,
         "text": [
          "bad4: 0.34081042458229205<br>Experiment id:<br> ALG_005_EXP_002-PatchMatch-MacLean_et_al-Numba<br>Scene: teddy<br>kernel size: 3x3<br>kernel spec: vsobel<br>match:10<br>bad4: 0.34081042458229205<br>IMG res:450x375",
          "bad4: 0.4116260641648211<br>Experiment id:<br> ALG_005_EXP_002-PatchMatch-MacLean_et_al-Numba<br>Scene: teddy<br>kernel size: 3x3<br>kernel spec: vsobel<br>match:20<br>bad4: 0.4116260641648211<br>IMG res:450x375",
          "bad4: 0.4982966590134845<br>Experiment id:<br> ALG_005_EXP_002-PatchMatch-MacLean_et_al-Numba<br>Scene: teddy<br>kernel size: 3x3<br>kernel spec: vsobel<br>match:30<br>bad4: 0.4982966590134845<br>IMG res:450x375",
          "bad4: 0.5640192074554186<br>Experiment id:<br> ALG_005_EXP_002-PatchMatch-MacLean_et_al-Numba<br>Scene: teddy<br>kernel size: 3x3<br>kernel spec: vsobel<br>match:40<br>bad4: 0.5640192074554186<br>IMG res:450x375"
         ],
         "type": "scatter",
         "uid": "33cd8ad7-02ef-40a8-9653-2cf4d63f2d95",
         "visible": true,
         "x": [
          10,
          20,
          30,
          40
         ],
         "y": {
          "dtype": "float64",
          "shape": [
           4
          ],
          "value": {}
         }
        },
        {
         "hovertemplate": "%{text}",
         "name": "hvsobel_div2",
         "showlegend": true,
         "text": [
          "bad4: 0.41018347319015785<br>Experiment id:<br> ALG_005_EXP_002-PatchMatch-MacLean_et_al-Numba<br>Scene: teddy<br>kernel size: 3x3<br>kernel spec: hvsobel_div2<br>match:10<br>bad4: 0.41018347319015785<br>IMG res:450x375",
          "bad4: 0.5098712504486932<br>Experiment id:<br> ALG_005_EXP_002-PatchMatch-MacLean_et_al-Numba<br>Scene: teddy<br>kernel size: 3x3<br>kernel spec: hvsobel_div2<br>match:20<br>bad4: 0.5098712504486932<br>IMG res:450x375",
          "bad4: 0.5741850715538669<br>Experiment id:<br> ALG_005_EXP_002-PatchMatch-MacLean_et_al-Numba<br>Scene: teddy<br>kernel size: 3x3<br>kernel spec: hvsobel_div2<br>match:30<br>bad4: 0.5741850715538669<br>IMG res:450x375",
          "bad4: 0.6157628461710385<br>Experiment id:<br> ALG_005_EXP_002-PatchMatch-MacLean_et_al-Numba<br>Scene: teddy<br>kernel size: 3x3<br>kernel spec: hvsobel_div2<br>match:40<br>bad4: 0.6157628461710385<br>IMG res:450x375"
         ],
         "type": "scatter",
         "uid": "18b5131b-9593-4c12-8822-62300e3f6018",
         "visible": "legendonly",
         "x": [
          10,
          20,
          30,
          40
         ],
         "y": {
          "dtype": "float64",
          "shape": [
           4
          ],
          "value": {}
         }
        },
        {
         "hovertemplate": "%{text}",
         "name": "hvsobel_div",
         "showlegend": true,
         "text": [
          "bad4: 0.2600050118184096<br>Experiment id:<br> ALG_005_EXP_002-PatchMatch-MacLean_et_al-Numba<br>Scene: teddy<br>kernel size: 3x3<br>kernel spec: hvsobel_div<br>match:10<br>bad4: 0.2600050118184096<br>IMG res:450x375",
          "bad4: 0.29890755904125266<br>Experiment id:<br> ALG_005_EXP_002-PatchMatch-MacLean_et_al-Numba<br>Scene: teddy<br>kernel size: 3x3<br>kernel spec: hvsobel_div<br>match:20<br>bad4: 0.29890755904125266<br>IMG res:450x375",
          "bad4: 0.3323648332893106<br>Experiment id:<br> ALG_005_EXP_002-PatchMatch-MacLean_et_al-Numba<br>Scene: teddy<br>kernel size: 3x3<br>kernel spec: hvsobel_div<br>match:30<br>bad4: 0.3323648332893106<br>IMG res:450x375",
          "bad4: 0.40800942763679215<br>Experiment id:<br> ALG_005_EXP_002-PatchMatch-MacLean_et_al-Numba<br>Scene: teddy<br>kernel size: 3x3<br>kernel spec: hvsobel_div<br>match:40<br>bad4: 0.40800942763679215<br>IMG res:450x375"
         ],
         "type": "scatter",
         "uid": "e7abe2ff-d91a-45fa-babc-5b214522fd46",
         "visible": "legendonly",
         "x": [
          10,
          20,
          30,
          40
         ],
         "y": {
          "dtype": "float64",
          "shape": [
           4
          ],
          "value": {}
         }
        },
        {
         "hovertemplate": "%{text}",
         "name": "hscharr",
         "showlegend": true,
         "text": [
          "bad4: 0.349472743157852<br>Experiment id:<br> ALG_005_EXP_002-PatchMatch-MacLean_et_al-Numba<br>Scene: teddy<br>kernel size: 3x3<br>kernel spec: hscharr<br>match:10<br>bad4: 0.349472743157852<br>IMG res:450x375",
          "bad4: 0.4147008824864037<br>Experiment id:<br> ALG_005_EXP_002-PatchMatch-MacLean_et_al-Numba<br>Scene: teddy<br>kernel size: 3x3<br>kernel spec: hscharr<br>match:20<br>bad4: 0.4147008824864037<br>IMG res:450x375",
          "bad4: 0.5083270685603213<br>Experiment id:<br> ALG_005_EXP_002-PatchMatch-MacLean_et_al-Numba<br>Scene: teddy<br>kernel size: 3x3<br>kernel spec: hscharr<br>match:30<br>bad4: 0.5083270685603213<br>IMG res:450x375",
          "bad4: 0.5739547988161272<br>Experiment id:<br> ALG_005_EXP_002-PatchMatch-MacLean_et_al-Numba<br>Scene: teddy<br>kernel size: 3x3<br>kernel spec: hscharr<br>match:40<br>bad4: 0.5739547988161272<br>IMG res:450x375"
         ],
         "type": "scatter",
         "uid": "4a567d13-6f42-4d38-a2c0-e1f49b72d818",
         "visible": true,
         "x": [
          10,
          20,
          30,
          40
         ],
         "y": {
          "dtype": "float64",
          "shape": [
           4
          ],
          "value": {}
         }
        },
        {
         "hovertemplate": "%{text}",
         "name": "vscharr",
         "showlegend": true,
         "text": [
          "bad4: 0.3418195609917982<br>Experiment id:<br> ALG_005_EXP_002-PatchMatch-MacLean_et_al-Numba<br>Scene: teddy<br>kernel size: 3x3<br>kernel spec: vscharr<br>match:10<br>bad4: 0.3418195609917982<br>IMG res:450x375",
          "bad4: 0.4115041550683707<br>Experiment id:<br> ALG_005_EXP_002-PatchMatch-MacLean_et_al-Numba<br>Scene: teddy<br>kernel size: 3x3<br>kernel spec: vscharr<br>match:20<br>bad4: 0.4115041550683707<br>IMG res:450x375",
          "bad4: 0.4998205227191146<br>Experiment id:<br> ALG_005_EXP_002-PatchMatch-MacLean_et_al-Numba<br>Scene: teddy<br>kernel size: 3x3<br>kernel spec: vscharr<br>match:30<br>bad4: 0.4998205227191146<br>IMG res:450x375",
          "bad4: 0.5665860712084578<br>Experiment id:<br> ALG_005_EXP_002-PatchMatch-MacLean_et_al-Numba<br>Scene: teddy<br>kernel size: 3x3<br>kernel spec: vscharr<br>match:40<br>bad4: 0.5665860712084578<br>IMG res:450x375"
         ],
         "type": "scatter",
         "uid": "2db482e8-f6dd-4f33-8913-3fa8aa207789",
         "visible": true,
         "x": [
          10,
          20,
          30,
          40
         ],
         "y": {
          "dtype": "float64",
          "shape": [
           4
          ],
          "value": {}
         }
        },
        {
         "hovertemplate": "%{text}",
         "name": "hvscharr_div2",
         "showlegend": true,
         "text": [
          "bad4: 0.3850024720455669<br>Experiment id:<br> ALG_005_EXP_002-PatchMatch-MacLean_et_al-Numba<br>Scene: teddy<br>kernel size: 3x3<br>kernel spec: hvscharr_div2<br>match:10<br>bad4: 0.3850024720455669<br>IMG res:450x375",
          "bad4: 0.4861057493684432<br>Experiment id:<br> ALG_005_EXP_002-PatchMatch-MacLean_et_al-Numba<br>Scene: teddy<br>kernel size: 3x3<br>kernel spec: hvscharr_div2<br>match:20<br>bad4: 0.4861057493684432<br>IMG res:450x375",
          "bad4: 0.5662338893742677<br>Experiment id:<br> ALG_005_EXP_002-PatchMatch-MacLean_et_al-Numba<br>Scene: teddy<br>kernel size: 3x3<br>kernel spec: hvscharr_div2<br>match:30<br>bad4: 0.5662338893742677<br>IMG res:450x375",
          "bad4: 0.5975171180689599<br>Experiment id:<br> ALG_005_EXP_002-PatchMatch-MacLean_et_al-Numba<br>Scene: teddy<br>kernel size: 3x3<br>kernel spec: hvscharr_div2<br>match:40<br>bad4: 0.5975171180689599<br>IMG res:450x375"
         ],
         "type": "scatter",
         "uid": "f75d7065-75f0-4b6f-af96-0f187932dff9",
         "visible": "legendonly",
         "x": [
          10,
          20,
          30,
          40
         ],
         "y": {
          "dtype": "float64",
          "shape": [
           4
          ],
          "value": {}
         }
        },
        {
         "hovertemplate": "%{text}",
         "name": "hvscharr",
         "showlegend": true,
         "text": [
          "bad4: 0.24871487494158526<br>Experiment id:<br> ALG_005_EXP_002-PatchMatch-MacLean_et_al-Numba<br>Scene: teddy<br>kernel size: 3x3<br>kernel spec: hvscharr<br>match:10<br>bad4: 0.24871487494158526<br>IMG res:450x375",
          "bad4: 0.2888094222186101<br>Experiment id:<br> ALG_005_EXP_002-PatchMatch-MacLean_et_al-Numba<br>Scene: teddy<br>kernel size: 3x3<br>kernel spec: hvscharr<br>match:20<br>bad4: 0.2888094222186101<br>IMG res:450x375",
          "bad4: 0.3117554232616101<br>Experiment id:<br> ALG_005_EXP_002-PatchMatch-MacLean_et_al-Numba<br>Scene: teddy<br>kernel size: 3x3<br>kernel spec: hvscharr<br>match:30<br>bad4: 0.3117554232616101<br>IMG res:450x375",
          "bad4: 0.3770580625935483<br>Experiment id:<br> ALG_005_EXP_002-PatchMatch-MacLean_et_al-Numba<br>Scene: teddy<br>kernel size: 3x3<br>kernel spec: hvscharr<br>match:40<br>bad4: 0.3770580625935483<br>IMG res:450x375"
         ],
         "type": "scatter",
         "uid": "bd4958f6-7ec0-465f-aa99-2f0082b964cf",
         "visible": true,
         "x": [
          10,
          20,
          30,
          40
         ],
         "y": {
          "dtype": "float64",
          "shape": [
           4
          ],
          "value": {}
         }
        },
        {
         "hovertemplate": "%{text}",
         "name": "hprewitt",
         "showlegend": true,
         "text": [
          "bad4: 0.3410000609545482<br>Experiment id:<br> ALG_005_EXP_002-PatchMatch-MacLean_et_al-Numba<br>Scene: teddy<br>kernel size: 3x3<br>kernel spec: hprewitt<br>match:10<br>bad4: 0.3410000609545482<br>IMG res:450x375",
          "bad4: 0.41214079146094507<br>Experiment id:<br> ALG_005_EXP_002-PatchMatch-MacLean_et_al-Numba<br>Scene: teddy<br>kernel size: 3x3<br>kernel spec: hprewitt<br>match:20<br>bad4: 0.41214079146094507<br>IMG res:450x375",
          "bad4: 0.4985946590270299<br>Experiment id:<br> ALG_005_EXP_002-PatchMatch-MacLean_et_al-Numba<br>Scene: teddy<br>kernel size: 3x3<br>kernel spec: hprewitt<br>match:30<br>bad4: 0.4985946590270299<br>IMG res:450x375",
          "bad4: 0.5649199802236354<br>Experiment id:<br> ALG_005_EXP_002-PatchMatch-MacLean_et_al-Numba<br>Scene: teddy<br>kernel size: 3x3<br>kernel spec: hprewitt<br>match:40<br>bad4: 0.5649199802236354<br>IMG res:450x375"
         ],
         "type": "scatter",
         "uid": "74bb06ca-fca8-4283-84fc-30670f415f04",
         "visible": true,
         "x": [
          10,
          20,
          30,
          40
         ],
         "y": {
          "dtype": "float64",
          "shape": [
           4
          ],
          "value": {}
         }
        },
        {
         "hovertemplate": "%{text}",
         "name": "vprewitt",
         "showlegend": true,
         "text": [
          "bad4: 0.3410000609545482<br>Experiment id:<br> ALG_005_EXP_002-PatchMatch-MacLean_et_al-Numba<br>Scene: teddy<br>kernel size: 3x3<br>kernel spec: vprewitt<br>match:10<br>bad4: 0.3410000609545482<br>IMG res:450x375",
          "bad4: 0.41214079146094507<br>Experiment id:<br> ALG_005_EXP_002-PatchMatch-MacLean_et_al-Numba<br>Scene: teddy<br>kernel size: 3x3<br>kernel spec: vprewitt<br>match:20<br>bad4: 0.41214079146094507<br>IMG res:450x375",
          "bad4: 0.4985946590270299<br>Experiment id:<br> ALG_005_EXP_002-PatchMatch-MacLean_et_al-Numba<br>Scene: teddy<br>kernel size: 3x3<br>kernel spec: vprewitt<br>match:30<br>bad4: 0.4985946590270299<br>IMG res:450x375",
          "bad4: 0.5649199802236354<br>Experiment id:<br> ALG_005_EXP_002-PatchMatch-MacLean_et_al-Numba<br>Scene: teddy<br>kernel size: 3x3<br>kernel spec: vprewitt<br>match:40<br>bad4: 0.5649199802236354<br>IMG res:450x375"
         ],
         "type": "scatter",
         "uid": "86b341df-ceaf-497a-9006-983d2dc66296",
         "visible": true,
         "x": [
          10,
          20,
          30,
          40
         ],
         "y": {
          "dtype": "float64",
          "shape": [
           4
          ],
          "value": {}
         }
        },
        {
         "hovertemplate": "%{text}",
         "name": "hvprewitt_div2",
         "showlegend": true,
         "text": [
          "bad4: 0.4480091567276889<br>Experiment id:<br> ALG_005_EXP_002-PatchMatch-MacLean_et_al-Numba<br>Scene: teddy<br>kernel size: 3x3<br>kernel spec: hvprewitt_div2<br>match:10<br>bad4: 0.4480091567276889<br>IMG res:450x375",
          "bad4: 0.5510629795937718<br>Experiment id:<br> ALG_005_EXP_002-PatchMatch-MacLean_et_al-Numba<br>Scene: teddy<br>kernel size: 3x3<br>kernel spec: hvprewitt_div2<br>match:20<br>bad4: 0.5510629795937718<br>IMG res:450x375",
          "bad4: 0.5886922540314661<br>Experiment id:<br> ALG_005_EXP_002-PatchMatch-MacLean_et_al-Numba<br>Scene: teddy<br>kernel size: 3x3<br>kernel spec: hvprewitt_div2<br>match:30<br>bad4: 0.5886922540314661<br>IMG res:450x375",
          "bad4: 0.6660029393637701<br>Experiment id:<br> ALG_005_EXP_002-PatchMatch-MacLean_et_al-Numba<br>Scene: teddy<br>kernel size: 3x3<br>kernel spec: hvprewitt_div2<br>match:40<br>bad4: 0.6660029393637701<br>IMG res:450x375"
         ],
         "type": "scatter",
         "uid": "cb9ca1e9-b947-417a-a7fb-f3f8bec04447",
         "visible": "legendonly",
         "x": [
          10,
          20,
          30,
          40
         ],
         "y": {
          "dtype": "float64",
          "shape": [
           4
          ],
          "value": {}
         }
        },
        {
         "hovertemplate": "%{text}",
         "name": "hvprewitt",
         "showlegend": true,
         "text": [
          "bad4: 0.28738714942668864<br>Experiment id:<br> ALG_005_EXP_002-PatchMatch-MacLean_et_al-Numba<br>Scene: teddy<br>kernel size: 3x3<br>kernel spec: hvprewitt<br>match:10<br>bad4: 0.28738714942668864<br>IMG res:450x375",
          "bad4: 0.3200994236408829<br>Experiment id:<br> ALG_005_EXP_002-PatchMatch-MacLean_et_al-Numba<br>Scene: teddy<br>kernel size: 3x3<br>kernel spec: hvprewitt<br>match:20<br>bad4: 0.3200994236408829<br>IMG res:450x375",
          "bad4: 0.3836953356225152<br>Experiment id:<br> ALG_005_EXP_002-PatchMatch-MacLean_et_al-Numba<br>Scene: teddy<br>kernel size: 3x3<br>kernel spec: hvprewitt<br>match:30<br>bad4: 0.3836953356225152<br>IMG res:450x375",
          "bad4: 0.4590622481391931<br>Experiment id:<br> ALG_005_EXP_002-PatchMatch-MacLean_et_al-Numba<br>Scene: teddy<br>kernel size: 3x3<br>kernel spec: hvprewitt<br>match:40<br>bad4: 0.4590622481391931<br>IMG res:450x375"
         ],
         "type": "scatter",
         "uid": "cd4f51da-0ca5-4f47-8375-b3d618f50674",
         "visible": true,
         "x": [
          10,
          20,
          30,
          40
         ],
         "y": {
          "dtype": "float64",
          "shape": [
           4
          ],
          "value": {}
         }
        },
        {
         "hovertemplate": "%{text}",
         "name": "gauss_5_3",
         "showlegend": true,
         "text": [
          "bad4: 0.2400796472763476<br>Experiment id:<br> ALG_005_EXP_002-PatchMatch-MacLean_et_al-Numba<br>Scene: teddy<br>kernel size: 5x3<br>kernel spec: gauss_5_3<br>match:10<br>bad4: 0.2400796472763476<br>IMG res:450x375",
          "bad4: 0.2400796472763476<br>Experiment id:<br> ALG_005_EXP_002-PatchMatch-MacLean_et_al-Numba<br>Scene: teddy<br>kernel size: 5x3<br>kernel spec: gauss_5_3<br>match:10<br>bad4: 0.2400796472763476<br>IMG res:450x375",
          "bad4: 0.225755328443424<br>Experiment id:<br> ALG_005_EXP_002-PatchMatch-MacLean_et_al-Numba<br>Scene: teddy<br>kernel size: 5x3<br>kernel spec: gauss_5_3<br>match:20<br>bad4: 0.225755328443424<br>IMG res:450x375",
          "bad4: 0.20603314572877932<br>Experiment id:<br> ALG_005_EXP_002-PatchMatch-MacLean_et_al-Numba<br>Scene: teddy<br>kernel size: 5x3<br>kernel spec: gauss_5_3<br>match:30<br>bad4: 0.20603314572877932<br>IMG res:450x375",
          "bad4: 0.19804132718369669<br>Experiment id:<br> ALG_005_EXP_002-PatchMatch-MacLean_et_al-Numba<br>Scene: teddy<br>kernel size: 5x3<br>kernel spec: gauss_5_3<br>match:40<br>bad4: 0.19804132718369669<br>IMG res:450x375",
          "bad4: 0.2400796472763476<br>Experiment id:<br> ALG_005_EXP_002-PatchMatch-MacLean_et_al-Numba<br>Scene: teddy<br>kernel size: 5x3<br>kernel spec: gauss_5_3<br>match:10<br>bad4: 0.2400796472763476<br>IMG res:450x375",
          "bad4: 0.225755328443424<br>Experiment id:<br> ALG_005_EXP_002-PatchMatch-MacLean_et_al-Numba<br>Scene: teddy<br>kernel size: 5x3<br>kernel spec: gauss_5_3<br>match:20<br>bad4: 0.225755328443424<br>IMG res:450x375",
          "bad4: 0.20603314572877932<br>Experiment id:<br> ALG_005_EXP_002-PatchMatch-MacLean_et_al-Numba<br>Scene: teddy<br>kernel size: 5x3<br>kernel spec: gauss_5_3<br>match:30<br>bad4: 0.20603314572877932<br>IMG res:450x375",
          "bad4: 0.19804132718369669<br>Experiment id:<br> ALG_005_EXP_002-PatchMatch-MacLean_et_al-Numba<br>Scene: teddy<br>kernel size: 5x3<br>kernel spec: gauss_5_3<br>match:40<br>bad4: 0.19804132718369669<br>IMG res:450x375"
         ],
         "type": "scatter",
         "uid": "fcbebfa8-c492-4330-9700-443b90db9308",
         "visible": "legendonly",
         "x": [
          10,
          10,
          20,
          30,
          40,
          10,
          20,
          30,
          40
         ],
         "y": {
          "dtype": "float64",
          "shape": [
           9
          ],
          "value": {}
         }
        },
        {
         "hovertemplate": "%{text}",
         "name": "gauss_5_5",
         "showlegend": true,
         "text": [
          "bad4: 0.241840556447298<br>Experiment id:<br> ALG_005_EXP_002-PatchMatch-MacLean_et_al-Numba<br>Scene: teddy<br>kernel size: 5x5<br>kernel spec: gauss_5_5<br>match:10<br>bad4: 0.241840556447298<br>IMG res:450x375",
          "bad4: 0.241840556447298<br>Experiment id:<br> ALG_005_EXP_002-PatchMatch-MacLean_et_al-Numba<br>Scene: teddy<br>kernel size: 5x5<br>kernel spec: gauss_5_5<br>match:10<br>bad4: 0.241840556447298<br>IMG res:450x375",
          "bad4: 0.22331714651441573<br>Experiment id:<br> ALG_005_EXP_002-PatchMatch-MacLean_et_al-Numba<br>Scene: teddy<br>kernel size: 5x5<br>kernel spec: gauss_5_5<br>match:20<br>bad4: 0.22331714651441573<br>IMG res:450x375",
          "bad4: 0.20030341819560996<br>Experiment id:<br> ALG_005_EXP_002-PatchMatch-MacLean_et_al-Numba<br>Scene: teddy<br>kernel size: 5x5<br>kernel spec: gauss_5_5<br>match:30<br>bad4: 0.20030341819560996<br>IMG res:450x375",
          "bad4: 0.19081482685521944<br>Experiment id:<br> ALG_005_EXP_002-PatchMatch-MacLean_et_al-Numba<br>Scene: teddy<br>kernel size: 5x5<br>kernel spec: gauss_5_5<br>match:40<br>bad4: 0.19081482685521944<br>IMG res:450x375",
          "bad4: 0.241840556447298<br>Experiment id:<br> ALG_005_EXP_002-PatchMatch-MacLean_et_al-Numba<br>Scene: teddy<br>kernel size: 5x5<br>kernel spec: gauss_5_5<br>match:10<br>bad4: 0.241840556447298<br>IMG res:450x375",
          "bad4: 0.22331714651441573<br>Experiment id:<br> ALG_005_EXP_002-PatchMatch-MacLean_et_al-Numba<br>Scene: teddy<br>kernel size: 5x5<br>kernel spec: gauss_5_5<br>match:20<br>bad4: 0.22331714651441573<br>IMG res:450x375",
          "bad4: 0.20030341819560996<br>Experiment id:<br> ALG_005_EXP_002-PatchMatch-MacLean_et_al-Numba<br>Scene: teddy<br>kernel size: 5x5<br>kernel spec: gauss_5_5<br>match:30<br>bad4: 0.20030341819560996<br>IMG res:450x375",
          "bad4: 0.19081482685521944<br>Experiment id:<br> ALG_005_EXP_002-PatchMatch-MacLean_et_al-Numba<br>Scene: teddy<br>kernel size: 5x5<br>kernel spec: gauss_5_5<br>match:40<br>bad4: 0.19081482685521944<br>IMG res:450x375"
         ],
         "type": "scatter",
         "uid": "59bf6fe9-e4e5-48e8-a7cd-b9c76399939d",
         "visible": "legendonly",
         "x": [
          10,
          10,
          20,
          30,
          40,
          10,
          20,
          30,
          40
         ],
         "y": {
          "dtype": "float64",
          "shape": [
           9
          ],
          "value": {}
         }
        },
        {
         "hovertemplate": "%{text}",
         "name": "octagon_3_1",
         "showlegend": true,
         "text": [
          "bad4: 0.2214952827952401<br>Experiment id:<br> ALG_005_EXP_002-PatchMatch-MacLean_et_al-Numba<br>Scene: teddy<br>kernel size: 5x5<br>kernel spec: octagon_3_1<br>match:10<br>bad4: 0.2214952827952401<br>IMG res:450x375",
          "bad4: 0.19612464527839296<br>Experiment id:<br> ALG_005_EXP_002-PatchMatch-MacLean_et_al-Numba<br>Scene: teddy<br>kernel size: 5x5<br>kernel spec: octagon_3_1<br>match:20<br>bad4: 0.19612464527839296<br>IMG res:450x375",
          "bad4: 0.2000799181854508<br>Experiment id:<br> ALG_005_EXP_002-PatchMatch-MacLean_et_al-Numba<br>Scene: teddy<br>kernel size: 5x5<br>kernel spec: octagon_3_1<br>match:30<br>bad4: 0.2000799181854508<br>IMG res:450x375",
          "bad4: 0.20637178210780827<br>Experiment id:<br> ALG_005_EXP_002-PatchMatch-MacLean_et_al-Numba<br>Scene: teddy<br>kernel size: 5x5<br>kernel spec: octagon_3_1<br>match:40<br>bad4: 0.20637178210780827<br>IMG res:450x375"
         ],
         "type": "scatter",
         "uid": "1e3400ac-608b-4976-94b2-e8938ac2d2b6",
         "visible": "legendonly",
         "x": [
          10,
          20,
          30,
          40
         ],
         "y": {
          "dtype": "float64",
          "shape": [
           4
          ],
          "value": {}
         }
        },
        {
         "hovertemplate": "%{text}",
         "name": "diamond_2",
         "showlegend": true,
         "text": [
          "bad4: 0.21640896438222565<br>Experiment id:<br> ALG_005_EXP_002-PatchMatch-MacLean_et_al-Numba<br>Scene: teddy<br>kernel size: 5x5<br>kernel spec: diamond_2<br>match:10<br>bad4: 0.21640896438222565<br>IMG res:450x375",
          "bad4: 0.2358263743557443<br>Experiment id:<br> ALG_005_EXP_002-PatchMatch-MacLean_et_al-Numba<br>Scene: teddy<br>kernel size: 5x5<br>kernel spec: diamond_2<br>match:20<br>bad4: 0.2358263743557443<br>IMG res:450x375",
          "bad4: 0.2644817847491721<br>Experiment id:<br> ALG_005_EXP_002-PatchMatch-MacLean_et_al-Numba<br>Scene: teddy<br>kernel size: 5x5<br>kernel spec: diamond_2<br>match:30<br>bad4: 0.2644817847491721<br>IMG res:450x375",
          "bad4: 0.2810952855043312<br>Experiment id:<br> ALG_005_EXP_002-PatchMatch-MacLean_et_al-Numba<br>Scene: teddy<br>kernel size: 5x5<br>kernel spec: diamond_2<br>match:40<br>bad4: 0.2810952855043312<br>IMG res:450x375"
         ],
         "type": "scatter",
         "uid": "c3915559-1f9e-4ffa-9243-c615b42e3aea",
         "visible": "legendonly",
         "x": [
          10,
          20,
          30,
          40
         ],
         "y": {
          "dtype": "float64",
          "shape": [
           4
          ],
          "value": {}
         }
        },
        {
         "hovertemplate": "%{text}",
         "name": "disk_2",
         "showlegend": true,
         "text": [
          "bad4: 0.21640896438222565<br>Experiment id:<br> ALG_005_EXP_002-PatchMatch-MacLean_et_al-Numba<br>Scene: teddy<br>kernel size: 5x5<br>kernel spec: disk_2<br>match:10<br>bad4: 0.21640896438222565<br>IMG res:450x375",
          "bad4: 0.2358263743557443<br>Experiment id:<br> ALG_005_EXP_002-PatchMatch-MacLean_et_al-Numba<br>Scene: teddy<br>kernel size: 5x5<br>kernel spec: disk_2<br>match:20<br>bad4: 0.2358263743557443<br>IMG res:450x375",
          "bad4: 0.2644817847491721<br>Experiment id:<br> ALG_005_EXP_002-PatchMatch-MacLean_et_al-Numba<br>Scene: teddy<br>kernel size: 5x5<br>kernel spec: disk_2<br>match:30<br>bad4: 0.2644817847491721<br>IMG res:450x375",
          "bad4: 0.2810952855043312<br>Experiment id:<br> ALG_005_EXP_002-PatchMatch-MacLean_et_al-Numba<br>Scene: teddy<br>kernel size: 5x5<br>kernel spec: disk_2<br>match:40<br>bad4: 0.2810952855043312<br>IMG res:450x375"
         ],
         "type": "scatter",
         "uid": "9681e1d4-dde1-42a3-9220-cf88cb748add",
         "visible": "legendonly",
         "x": [
          10,
          20,
          30,
          40
         ],
         "y": {
          "dtype": "float64",
          "shape": [
           4
          ],
          "value": {}
         }
        },
        {
         "hovertemplate": "%{text}",
         "name": "hfarid",
         "showlegend": true,
         "text": [
          "bad4: 0.8177797644445347<br>Experiment id:<br> ALG_005_EXP_002-PatchMatch-MacLean_et_al-Numba<br>Scene: teddy<br>kernel size: 5x5<br>kernel spec: hfarid<br>match:10<br>bad4: 0.8177797644445347<br>IMG res:450x375",
          "bad4: 0.9963494998340682<br>Experiment id:<br> ALG_005_EXP_002-PatchMatch-MacLean_et_al-Numba<br>Scene: teddy<br>kernel size: 5x5<br>kernel spec: hfarid<br>match:20<br>bad4: 0.9963494998340682<br>IMG res:450x375",
          "bad4: 1.0<br>Experiment id:<br> ALG_005_EXP_002-PatchMatch-MacLean_et_al-Numba<br>Scene: teddy<br>kernel size: 5x5<br>kernel spec: hfarid<br>match:30<br>bad4: 1.0<br>IMG res:450x375",
          "bad4: 1.0<br>Experiment id:<br> ALG_005_EXP_002-PatchMatch-MacLean_et_al-Numba<br>Scene: teddy<br>kernel size: 5x5<br>kernel spec: hfarid<br>match:40<br>bad4: 1.0<br>IMG res:450x375"
         ],
         "type": "scatter",
         "uid": "bb4d52a3-150a-4a20-b4e0-b99040a09b4a",
         "visible": "legendonly",
         "x": [
          10,
          20,
          30,
          40
         ],
         "y": {
          "dtype": "float64",
          "shape": [
           4
          ],
          "value": {}
         }
        },
        {
         "hovertemplate": "%{text}",
         "name": "vfarid",
         "showlegend": true,
         "text": [
          "bad4: 0.8106684004849273<br>Experiment id:<br> ALG_005_EXP_002-PatchMatch-MacLean_et_al-Numba<br>Scene: teddy<br>kernel size: 5x5<br>kernel spec: vfarid<br>match:10<br>bad4: 0.8106684004849273<br>IMG res:450x375",
          "bad4: 0.9946427724837624<br>Experiment id:<br> ALG_005_EXP_002-PatchMatch-MacLean_et_al-Numba<br>Scene: teddy<br>kernel size: 5x5<br>kernel spec: vfarid<br>match:20<br>bad4: 0.9946427724837624<br>IMG res:450x375",
          "bad4: 1.0<br>Experiment id:<br> ALG_005_EXP_002-PatchMatch-MacLean_et_al-Numba<br>Scene: teddy<br>kernel size: 5x5<br>kernel spec: vfarid<br>match:30<br>bad4: 1.0<br>IMG res:450x375",
          "bad4: 1.0<br>Experiment id:<br> ALG_005_EXP_002-PatchMatch-MacLean_et_al-Numba<br>Scene: teddy<br>kernel size: 5x5<br>kernel spec: vfarid<br>match:40<br>bad4: 1.0<br>IMG res:450x375"
         ],
         "type": "scatter",
         "uid": "9347efa6-04a1-4619-a16e-8ac7af9954e6",
         "visible": true,
         "x": [
          10,
          20,
          30,
          40
         ],
         "y": {
          "dtype": "float64",
          "shape": [
           4
          ],
          "value": {}
         }
        },
        {
         "hovertemplate": "%{text}",
         "name": "hvfarid_div2",
         "showlegend": true,
         "text": [
          "bad4: 0.9149413143155144<br>Experiment id:<br> ALG_005_EXP_002-PatchMatch-MacLean_et_al-Numba<br>Scene: teddy<br>kernel size: 5x5<br>kernel spec: hvfarid_div2<br>match:10<br>bad4: 0.9149413143155144<br>IMG res:450x375",
          "bad4: 1.0<br>Experiment id:<br> ALG_005_EXP_002-PatchMatch-MacLean_et_al-Numba<br>Scene: teddy<br>kernel size: 5x5<br>kernel spec: hvfarid_div2<br>match:20<br>bad4: 1.0<br>IMG res:450x375",
          "bad4: 1.0<br>Experiment id:<br> ALG_005_EXP_002-PatchMatch-MacLean_et_al-Numba<br>Scene: teddy<br>kernel size: 5x5<br>kernel spec: hvfarid_div2<br>match:30<br>bad4: 1.0<br>IMG res:450x375",
          "bad4: 1.0<br>Experiment id:<br> ALG_005_EXP_002-PatchMatch-MacLean_et_al-Numba<br>Scene: teddy<br>kernel size: 5x5<br>kernel spec: hvfarid_div2<br>match:40<br>bad4: 1.0<br>IMG res:450x375"
         ],
         "type": "scatter",
         "uid": "4cdd17b2-f913-4b56-a100-c3f2b2fec613",
         "visible": "legendonly",
         "x": [
          10,
          20,
          30,
          40
         ],
         "y": {
          "dtype": "float64",
          "shape": [
           4
          ],
          "value": {}
         }
        },
        {
         "hovertemplate": "%{text}",
         "name": "hvfarid",
         "showlegend": true,
         "text": [
          "bad4: 0.6444792111126915<br>Experiment id:<br> ALG_005_EXP_002-PatchMatch-MacLean_et_al-Numba<br>Scene: teddy<br>kernel size: 5x5<br>kernel spec: hvfarid<br>match:10<br>bad4: 0.6444792111126915<br>IMG res:450x375",
          "bad4: 0.8994249954284089<br>Experiment id:<br> ALG_005_EXP_002-PatchMatch-MacLean_et_al-Numba<br>Scene: teddy<br>kernel size: 5x5<br>kernel spec: hvfarid<br>match:20<br>bad4: 0.8994249954284089<br>IMG res:450x375",
          "bad4: 0.9893058631502664<br>Experiment id:<br> ALG_005_EXP_002-PatchMatch-MacLean_et_al-Numba<br>Scene: teddy<br>kernel size: 5x5<br>kernel spec: hvfarid<br>match:30<br>bad4: 0.9893058631502664<br>IMG res:450x375",
          "bad4: 1.0<br>Experiment id:<br> ALG_005_EXP_002-PatchMatch-MacLean_et_al-Numba<br>Scene: teddy<br>kernel size: 5x5<br>kernel spec: hvfarid<br>match:40<br>bad4: 1.0<br>IMG res:450x375"
         ],
         "type": "scatter",
         "uid": "2c5780ba-874d-439d-b2ed-73119d9fe6d6",
         "visible": "legendonly",
         "x": [
          10,
          20,
          30,
          40
         ],
         "y": {
          "dtype": "float64",
          "shape": [
           4
          ],
          "value": {}
         }
        },
        {
         "hovertemplate": "%{text}",
         "name": "gauss_7_3",
         "showlegend": true,
         "text": [
          "bad4: 0.23981551090070505<br>Experiment id:<br> ALG_005_EXP_002-PatchMatch-MacLean_et_al-Numba<br>Scene: teddy<br>kernel size: 7x3<br>kernel spec: gauss_7_3<br>match:10<br>bad4: 0.23981551090070505<br>IMG res:450x375",
          "bad4: 0.23981551090070505<br>Experiment id:<br> ALG_005_EXP_002-PatchMatch-MacLean_et_al-Numba<br>Scene: teddy<br>kernel size: 7x3<br>kernel spec: gauss_7_3<br>match:10<br>bad4: 0.23981551090070505<br>IMG res:450x375",
          "bad4: 0.2252744647852029<br>Experiment id:<br> ALG_005_EXP_002-PatchMatch-MacLean_et_al-Numba<br>Scene: teddy<br>kernel size: 7x3<br>kernel spec: gauss_7_3<br>match:20<br>bad4: 0.2252744647852029<br>IMG res:450x375",
          "bad4: 0.20755023670682893<br>Experiment id:<br> ALG_005_EXP_002-PatchMatch-MacLean_et_al-Numba<br>Scene: teddy<br>kernel size: 7x3<br>kernel spec: gauss_7_3<br>match:30<br>bad4: 0.20755023670682893<br>IMG res:450x375",
          "bad4: 0.19770269080466776<br>Experiment id:<br> ALG_005_EXP_002-PatchMatch-MacLean_et_al-Numba<br>Scene: teddy<br>kernel size: 7x3<br>kernel spec: gauss_7_3<br>match:40<br>bad4: 0.19770269080466776<br>IMG res:450x375",
          "bad4: 0.23981551090070505<br>Experiment id:<br> ALG_005_EXP_002-PatchMatch-MacLean_et_al-Numba<br>Scene: teddy<br>kernel size: 7x3<br>kernel spec: gauss_7_3<br>match:10<br>bad4: 0.23981551090070505<br>IMG res:450x375",
          "bad4: 0.2252744647852029<br>Experiment id:<br> ALG_005_EXP_002-PatchMatch-MacLean_et_al-Numba<br>Scene: teddy<br>kernel size: 7x3<br>kernel spec: gauss_7_3<br>match:20<br>bad4: 0.2252744647852029<br>IMG res:450x375",
          "bad4: 0.20755023670682893<br>Experiment id:<br> ALG_005_EXP_002-PatchMatch-MacLean_et_al-Numba<br>Scene: teddy<br>kernel size: 7x3<br>kernel spec: gauss_7_3<br>match:30<br>bad4: 0.20755023670682893<br>IMG res:450x375",
          "bad4: 0.19770269080466776<br>Experiment id:<br> ALG_005_EXP_002-PatchMatch-MacLean_et_al-Numba<br>Scene: teddy<br>kernel size: 7x3<br>kernel spec: gauss_7_3<br>match:40<br>bad4: 0.19770269080466776<br>IMG res:450x375"
         ],
         "type": "scatter",
         "uid": "77dae4cd-8b8e-4bf5-900d-5975d6a010ad",
         "visible": "legendonly",
         "x": [
          10,
          10,
          20,
          30,
          40,
          10,
          20,
          30,
          40
         ],
         "y": {
          "dtype": "float64",
          "shape": [
           9
          ],
          "value": {}
         }
        },
        {
         "hovertemplate": "%{text}",
         "name": "star_2",
         "showlegend": true,
         "text": [
          "bad4: 0.2206486918476678<br>Experiment id:<br> ALG_005_EXP_002-PatchMatch-MacLean_et_al-Numba<br>Scene: teddy<br>kernel size: 7x7<br>kernel spec: star_2<br>match:10<br>bad4: 0.2206486918476678<br>IMG res:450x375",
          "bad4: 0.2313292832422401<br>Experiment id:<br> ALG_005_EXP_002-PatchMatch-MacLean_et_al-Numba<br>Scene: teddy<br>kernel size: 7x7<br>kernel spec: star_2<br>match:20<br>bad4: 0.2313292832422401<br>IMG res:450x375",
          "bad4: 0.2500152386370563<br>Experiment id:<br> ALG_005_EXP_002-PatchMatch-MacLean_et_al-Numba<br>Scene: teddy<br>kernel size: 7x7<br>kernel spec: star_2<br>match:30<br>bad4: 0.2500152386370563<br>IMG res:450x375",
          "bad4: 0.2766320580287299<br>Experiment id:<br> ALG_005_EXP_002-PatchMatch-MacLean_et_al-Numba<br>Scene: teddy<br>kernel size: 7x7<br>kernel spec: star_2<br>match:40<br>bad4: 0.2766320580287299<br>IMG res:450x375"
         ],
         "type": "scatter",
         "uid": "40db4b3d-7785-421d-bd44-ea74e75f01df",
         "visible": "legendonly",
         "x": [
          10,
          20,
          30,
          40
         ],
         "y": {
          "dtype": "float64",
          "shape": [
           4
          ],
          "value": {}
         }
        },
        {
         "hovertemplate": "%{text}",
         "name": "octagon_1_3",
         "showlegend": true,
         "text": [
          "bad4: 0.23161373780062444<br>Experiment id:<br> ALG_005_EXP_002-PatchMatch-MacLean_et_al-Numba<br>Scene: teddy<br>kernel size: 7x7<br>kernel spec: octagon_1_3<br>match:10<br>bad4: 0.23161373780062444<br>IMG res:450x375",
          "bad4: 0.2479089203594964<br>Experiment id:<br> ALG_005_EXP_002-PatchMatch-MacLean_et_al-Numba<br>Scene: teddy<br>kernel size: 7x7<br>kernel spec: octagon_1_3<br>match:20<br>bad4: 0.2479089203594964<br>IMG res:450x375",
          "bad4: 0.2765372398426018<br>Experiment id:<br> ALG_005_EXP_002-PatchMatch-MacLean_et_al-Numba<br>Scene: teddy<br>kernel size: 7x7<br>kernel spec: octagon_1_3<br>match:30<br>bad4: 0.2765372398426018<br>IMG res:450x375",
          "bad4: 0.2886062403911928<br>Experiment id:<br> ALG_005_EXP_002-PatchMatch-MacLean_et_al-Numba<br>Scene: teddy<br>kernel size: 7x7<br>kernel spec: octagon_1_3<br>match:40<br>bad4: 0.2886062403911928<br>IMG res:450x375"
         ],
         "type": "scatter",
         "uid": "9909faa8-6418-4c88-80d4-ea2566983497",
         "visible": "legendonly",
         "x": [
          10,
          20,
          30,
          40
         ],
         "y": {
          "dtype": "float64",
          "shape": [
           4
          ],
          "value": {}
         }
        },
        {
         "hovertemplate": "%{text}",
         "name": "diamond_3",
         "showlegend": true,
         "text": [
          "bad4: 0.23161373780062444<br>Experiment id:<br> ALG_005_EXP_002-PatchMatch-MacLean_et_al-Numba<br>Scene: teddy<br>kernel size: 7x7<br>kernel spec: diamond_3<br>match:10<br>bad4: 0.23161373780062444<br>IMG res:450x375",
          "bad4: 0.2479089203594964<br>Experiment id:<br> ALG_005_EXP_002-PatchMatch-MacLean_et_al-Numba<br>Scene: teddy<br>kernel size: 7x7<br>kernel spec: diamond_3<br>match:20<br>bad4: 0.2479089203594964<br>IMG res:450x375",
          "bad4: 0.2765372398426018<br>Experiment id:<br> ALG_005_EXP_002-PatchMatch-MacLean_et_al-Numba<br>Scene: teddy<br>kernel size: 7x7<br>kernel spec: diamond_3<br>match:30<br>bad4: 0.2765372398426018<br>IMG res:450x375",
          "bad4: 0.2886062403911928<br>Experiment id:<br> ALG_005_EXP_002-PatchMatch-MacLean_et_al-Numba<br>Scene: teddy<br>kernel size: 7x7<br>kernel spec: diamond_3<br>match:40<br>bad4: 0.2886062403911928<br>IMG res:450x375"
         ],
         "type": "scatter",
         "uid": "1a8369ba-234f-41d7-8813-186b52e33d0a",
         "visible": "legendonly",
         "x": [
          10,
          20,
          30,
          40
         ],
         "y": {
          "dtype": "float64",
          "shape": [
           4
          ],
          "value": {}
         }
        },
        {
         "hovertemplate": "%{text}",
         "name": "disk_3",
         "showlegend": true,
         "text": [
          "bad4: 0.2206486918476678<br>Experiment id:<br> ALG_005_EXP_002-PatchMatch-MacLean_et_al-Numba<br>Scene: teddy<br>kernel size: 7x7<br>kernel spec: disk_3<br>match:10<br>bad4: 0.2206486918476678<br>IMG res:450x375",
          "bad4: 0.2313292832422401<br>Experiment id:<br> ALG_005_EXP_002-PatchMatch-MacLean_et_al-Numba<br>Scene: teddy<br>kernel size: 7x7<br>kernel spec: disk_3<br>match:20<br>bad4: 0.2313292832422401<br>IMG res:450x375",
          "bad4: 0.2500152386370563<br>Experiment id:<br> ALG_005_EXP_002-PatchMatch-MacLean_et_al-Numba<br>Scene: teddy<br>kernel size: 7x7<br>kernel spec: disk_3<br>match:30<br>bad4: 0.2500152386370563<br>IMG res:450x375",
          "bad4: 0.2766320580287299<br>Experiment id:<br> ALG_005_EXP_002-PatchMatch-MacLean_et_al-Numba<br>Scene: teddy<br>kernel size: 7x7<br>kernel spec: disk_3<br>match:40<br>bad4: 0.2766320580287299<br>IMG res:450x375"
         ],
         "type": "scatter",
         "uid": "5631921e-0457-4534-a23a-502e56e6c28e",
         "visible": "legendonly",
         "x": [
          10,
          20,
          30,
          40
         ],
         "y": {
          "dtype": "float64",
          "shape": [
           4
          ],
          "value": {}
         }
        },
        {
         "hovertemplate": "%{text}",
         "name": "star_3",
         "showlegend": true,
         "text": [
          "bad4: 0.2321149196415873<br>Experiment id:<br> ALG_005_EXP_002-PatchMatch-MacLean_et_al-Numba<br>Scene: teddy<br>kernel size: 9x9<br>kernel spec: star_3<br>match:10<br>bad4: 0.2321149196415873<br>IMG res:450x375",
          "bad4: 0.23742473806476086<br>Experiment id:<br> ALG_005_EXP_002-PatchMatch-MacLean_et_al-Numba<br>Scene: teddy<br>kernel size: 9x9<br>kernel spec: star_3<br>match:20<br>bad4: 0.23742473806476086<br>IMG res:450x375",
          "bad4: 0.2515323296151059<br>Experiment id:<br> ALG_005_EXP_002-PatchMatch-MacLean_et_al-Numba<br>Scene: teddy<br>kernel size: 9x9<br>kernel spec: star_3<br>match:30<br>bad4: 0.2515323296151059<br>IMG res:450x375",
          "bad4: 0.2756974216226101<br>Experiment id:<br> ALG_005_EXP_002-PatchMatch-MacLean_et_al-Numba<br>Scene: teddy<br>kernel size: 9x9<br>kernel spec: star_3<br>match:40<br>bad4: 0.2756974216226101<br>IMG res:450x375"
         ],
         "type": "scatter",
         "uid": "1b4baa01-af18-440c-9b04-d77305f7ec8b",
         "visible": "legendonly",
         "x": [
          10,
          20,
          30,
          40
         ],
         "y": {
          "dtype": "float64",
          "shape": [
           4
          ],
          "value": {}
         }
        },
        {
         "hovertemplate": "%{text}",
         "name": "disk_4",
         "showlegend": true,
         "text": [
          "bad4: 0.23195237417965334<br>Experiment id:<br> ALG_005_EXP_002-PatchMatch-MacLean_et_al-Numba<br>Scene: teddy<br>kernel size: 9x9<br>kernel spec: disk_4<br>match:10<br>bad4: 0.23195237417965334<br>IMG res:450x375",
          "bad4: 0.23783110171959554<br>Experiment id:<br> ALG_005_EXP_002-PatchMatch-MacLean_et_al-Numba<br>Scene: teddy<br>kernel size: 9x9<br>kernel spec: disk_4<br>match:20<br>bad4: 0.23783110171959554<br>IMG res:450x375",
          "bad4: 0.25605651163893234<br>Experiment id:<br> ALG_005_EXP_002-PatchMatch-MacLean_et_al-Numba<br>Scene: teddy<br>kernel size: 9x9<br>kernel spec: disk_4<br>match:30<br>bad4: 0.25605651163893234<br>IMG res:450x375",
          "bad4: 0.28312033105092416<br>Experiment id:<br> ALG_005_EXP_002-PatchMatch-MacLean_et_al-Numba<br>Scene: teddy<br>kernel size: 9x9<br>kernel spec: disk_4<br>match:40<br>bad4: 0.28312033105092416<br>IMG res:450x375"
         ],
         "type": "scatter",
         "uid": "90fe91f9-9c23-46e4-b887-896b5cda47ac",
         "visible": "legendonly",
         "x": [
          10,
          20,
          30,
          40
         ],
         "y": {
          "dtype": "float64",
          "shape": [
           4
          ],
          "value": {}
         }
        },
        {
         "hovertemplate": "%{text}",
         "name": "gauss_11_3",
         "showlegend": true,
         "text": [
          "bad4: 0.23991032908683316<br>Experiment id:<br> ALG_005_EXP_002-PatchMatch-MacLean_et_al-Numba<br>Scene: teddy<br>kernel size: 11x3<br>kernel spec: gauss_11_3<br>match:10<br>bad4: 0.23991032908683316<br>IMG res:450x375",
          "bad4: 0.23991032908683316<br>Experiment id:<br> ALG_005_EXP_002-PatchMatch-MacLean_et_al-Numba<br>Scene: teddy<br>kernel size: 11x3<br>kernel spec: gauss_11_3<br>match:10<br>bad4: 0.23991032908683316<br>IMG res:450x375",
          "bad4: 0.2252947829679447<br>Experiment id:<br> ALG_005_EXP_002-PatchMatch-MacLean_et_al-Numba<br>Scene: teddy<br>kernel size: 11x3<br>kernel spec: gauss_11_3<br>match:20<br>bad4: 0.2252947829679447<br>IMG res:450x375",
          "bad4: 0.20757055488957069<br>Experiment id:<br> ALG_005_EXP_002-PatchMatch-MacLean_et_al-Numba<br>Scene: teddy<br>kernel size: 11x3<br>kernel spec: gauss_11_3<br>match:30<br>bad4: 0.20757055488957069<br>IMG res:450x375",
          "bad4: 0.19754691807031446<br>Experiment id:<br> ALG_005_EXP_002-PatchMatch-MacLean_et_al-Numba<br>Scene: teddy<br>kernel size: 11x3<br>kernel spec: gauss_11_3<br>match:40<br>bad4: 0.19754691807031446<br>IMG res:450x375",
          "bad4: 0.23991032908683316<br>Experiment id:<br> ALG_005_EXP_002-PatchMatch-MacLean_et_al-Numba<br>Scene: teddy<br>kernel size: 11x3<br>kernel spec: gauss_11_3<br>match:10<br>bad4: 0.23991032908683316<br>IMG res:450x375",
          "bad4: 0.2252947829679447<br>Experiment id:<br> ALG_005_EXP_002-PatchMatch-MacLean_et_al-Numba<br>Scene: teddy<br>kernel size: 11x3<br>kernel spec: gauss_11_3<br>match:20<br>bad4: 0.2252947829679447<br>IMG res:450x375",
          "bad4: 0.20757055488957069<br>Experiment id:<br> ALG_005_EXP_002-PatchMatch-MacLean_et_al-Numba<br>Scene: teddy<br>kernel size: 11x3<br>kernel spec: gauss_11_3<br>match:30<br>bad4: 0.20757055488957069<br>IMG res:450x375",
          "bad4: 0.19754691807031446<br>Experiment id:<br> ALG_005_EXP_002-PatchMatch-MacLean_et_al-Numba<br>Scene: teddy<br>kernel size: 11x3<br>kernel spec: gauss_11_3<br>match:40<br>bad4: 0.19754691807031446<br>IMG res:450x375"
         ],
         "type": "scatter",
         "uid": "809edce3-1f87-43b3-9d8f-f7df7dc71800",
         "visible": "legendonly",
         "x": [
          10,
          10,
          20,
          30,
          40,
          10,
          20,
          30,
          40
         ],
         "y": {
          "dtype": "float64",
          "shape": [
           9
          ],
          "value": {}
         }
        },
        {
         "hovertemplate": "%{text}",
         "name": "gauss_13_3",
         "showlegend": true,
         "text": [
          "bad4: 0.23991032908683316<br>Experiment id:<br> ALG_005_EXP_002-PatchMatch-MacLean_et_al-Numba<br>Scene: teddy<br>kernel size: 13x3<br>kernel spec: gauss_13_3<br>match:10<br>bad4: 0.23991032908683316<br>IMG res:450x375",
          "bad4: 0.2252947829679447<br>Experiment id:<br> ALG_005_EXP_002-PatchMatch-MacLean_et_al-Numba<br>Scene: teddy<br>kernel size: 13x3<br>kernel spec: gauss_13_3<br>match:20<br>bad4: 0.2252947829679447<br>IMG res:450x375",
          "bad4: 0.20757055488957069<br>Experiment id:<br> ALG_005_EXP_002-PatchMatch-MacLean_et_al-Numba<br>Scene: teddy<br>kernel size: 13x3<br>kernel spec: gauss_13_3<br>match:30<br>bad4: 0.20757055488957069<br>IMG res:450x375",
          "bad4: 0.19754691807031446<br>Experiment id:<br> ALG_005_EXP_002-PatchMatch-MacLean_et_al-Numba<br>Scene: teddy<br>kernel size: 13x3<br>kernel spec: gauss_13_3<br>match:40<br>bad4: 0.19754691807031446<br>IMG res:450x375",
          "bad4: 0.23991032908683316<br>Experiment id:<br> ALG_005_EXP_002-PatchMatch-MacLean_et_al-Numba<br>Scene: teddy<br>kernel size: 13x3<br>kernel spec: gauss_13_3<br>match:10<br>bad4: 0.23991032908683316<br>IMG res:450x375",
          "bad4: 0.2252947829679447<br>Experiment id:<br> ALG_005_EXP_002-PatchMatch-MacLean_et_al-Numba<br>Scene: teddy<br>kernel size: 13x3<br>kernel spec: gauss_13_3<br>match:20<br>bad4: 0.2252947829679447<br>IMG res:450x375",
          "bad4: 0.20757055488957069<br>Experiment id:<br> ALG_005_EXP_002-PatchMatch-MacLean_et_al-Numba<br>Scene: teddy<br>kernel size: 13x3<br>kernel spec: gauss_13_3<br>match:30<br>bad4: 0.20757055488957069<br>IMG res:450x375",
          "bad4: 0.19754691807031446<br>Experiment id:<br> ALG_005_EXP_002-PatchMatch-MacLean_et_al-Numba<br>Scene: teddy<br>kernel size: 13x3<br>kernel spec: gauss_13_3<br>match:40<br>bad4: 0.19754691807031446<br>IMG res:450x375"
         ],
         "type": "scatter",
         "uid": "85433800-5e1d-4678-89dd-39fd4bfbff02",
         "visible": "legendonly",
         "x": [
          10,
          20,
          30,
          40,
          10,
          20,
          30,
          40
         ],
         "y": {
          "dtype": "float64",
          "shape": [
           8
          ],
          "value": {}
         }
        }
       ],
       "_js2py_update": {},
       "_last_layout_edit_id": 38,
       "_last_trace_edit_id": 37,
       "_layout": {
        "autosize": true,
        "legend": {
         "title": {
          "text": "kernel_spec"
         }
        },
        "template": {
         "data": {
          "bar": [
           {
            "error_x": {
             "color": "#2a3f5f"
            },
            "error_y": {
             "color": "#2a3f5f"
            },
            "marker": {
             "line": {
              "color": "#E5ECF6",
              "width": 0.5
             }
            },
            "type": "bar"
           }
          ],
          "barpolar": [
           {
            "marker": {
             "line": {
              "color": "#E5ECF6",
              "width": 0.5
             }
            },
            "type": "barpolar"
           }
          ],
          "carpet": [
           {
            "aaxis": {
             "endlinecolor": "#2a3f5f",
             "gridcolor": "white",
             "linecolor": "white",
             "minorgridcolor": "white",
             "startlinecolor": "#2a3f5f"
            },
            "baxis": {
             "endlinecolor": "#2a3f5f",
             "gridcolor": "white",
             "linecolor": "white",
             "minorgridcolor": "white",
             "startlinecolor": "#2a3f5f"
            },
            "type": "carpet"
           }
          ],
          "choropleth": [
           {
            "colorbar": {
             "outlinewidth": 0,
             "ticks": ""
            },
            "type": "choropleth"
           }
          ],
          "contour": [
           {
            "colorbar": {
             "outlinewidth": 0,
             "ticks": ""
            },
            "colorscale": [
             [
              0,
              "#0d0887"
             ],
             [
              0.1111111111111111,
              "#46039f"
             ],
             [
              0.2222222222222222,
              "#7201a8"
             ],
             [
              0.3333333333333333,
              "#9c179e"
             ],
             [
              0.4444444444444444,
              "#bd3786"
             ],
             [
              0.5555555555555556,
              "#d8576b"
             ],
             [
              0.6666666666666666,
              "#ed7953"
             ],
             [
              0.7777777777777778,
              "#fb9f3a"
             ],
             [
              0.8888888888888888,
              "#fdca26"
             ],
             [
              1,
              "#f0f921"
             ]
            ],
            "type": "contour"
           }
          ],
          "contourcarpet": [
           {
            "colorbar": {
             "outlinewidth": 0,
             "ticks": ""
            },
            "type": "contourcarpet"
           }
          ],
          "heatmap": [
           {
            "colorbar": {
             "outlinewidth": 0,
             "ticks": ""
            },
            "colorscale": [
             [
              0,
              "#0d0887"
             ],
             [
              0.1111111111111111,
              "#46039f"
             ],
             [
              0.2222222222222222,
              "#7201a8"
             ],
             [
              0.3333333333333333,
              "#9c179e"
             ],
             [
              0.4444444444444444,
              "#bd3786"
             ],
             [
              0.5555555555555556,
              "#d8576b"
             ],
             [
              0.6666666666666666,
              "#ed7953"
             ],
             [
              0.7777777777777778,
              "#fb9f3a"
             ],
             [
              0.8888888888888888,
              "#fdca26"
             ],
             [
              1,
              "#f0f921"
             ]
            ],
            "type": "heatmap"
           }
          ],
          "heatmapgl": [
           {
            "colorbar": {
             "outlinewidth": 0,
             "ticks": ""
            },
            "colorscale": [
             [
              0,
              "#0d0887"
             ],
             [
              0.1111111111111111,
              "#46039f"
             ],
             [
              0.2222222222222222,
              "#7201a8"
             ],
             [
              0.3333333333333333,
              "#9c179e"
             ],
             [
              0.4444444444444444,
              "#bd3786"
             ],
             [
              0.5555555555555556,
              "#d8576b"
             ],
             [
              0.6666666666666666,
              "#ed7953"
             ],
             [
              0.7777777777777778,
              "#fb9f3a"
             ],
             [
              0.8888888888888888,
              "#fdca26"
             ],
             [
              1,
              "#f0f921"
             ]
            ],
            "type": "heatmapgl"
           }
          ],
          "histogram": [
           {
            "marker": {
             "colorbar": {
              "outlinewidth": 0,
              "ticks": ""
             }
            },
            "type": "histogram"
           }
          ],
          "histogram2d": [
           {
            "colorbar": {
             "outlinewidth": 0,
             "ticks": ""
            },
            "colorscale": [
             [
              0,
              "#0d0887"
             ],
             [
              0.1111111111111111,
              "#46039f"
             ],
             [
              0.2222222222222222,
              "#7201a8"
             ],
             [
              0.3333333333333333,
              "#9c179e"
             ],
             [
              0.4444444444444444,
              "#bd3786"
             ],
             [
              0.5555555555555556,
              "#d8576b"
             ],
             [
              0.6666666666666666,
              "#ed7953"
             ],
             [
              0.7777777777777778,
              "#fb9f3a"
             ],
             [
              0.8888888888888888,
              "#fdca26"
             ],
             [
              1,
              "#f0f921"
             ]
            ],
            "type": "histogram2d"
           }
          ],
          "histogram2dcontour": [
           {
            "colorbar": {
             "outlinewidth": 0,
             "ticks": ""
            },
            "colorscale": [
             [
              0,
              "#0d0887"
             ],
             [
              0.1111111111111111,
              "#46039f"
             ],
             [
              0.2222222222222222,
              "#7201a8"
             ],
             [
              0.3333333333333333,
              "#9c179e"
             ],
             [
              0.4444444444444444,
              "#bd3786"
             ],
             [
              0.5555555555555556,
              "#d8576b"
             ],
             [
              0.6666666666666666,
              "#ed7953"
             ],
             [
              0.7777777777777778,
              "#fb9f3a"
             ],
             [
              0.8888888888888888,
              "#fdca26"
             ],
             [
              1,
              "#f0f921"
             ]
            ],
            "type": "histogram2dcontour"
           }
          ],
          "mesh3d": [
           {
            "colorbar": {
             "outlinewidth": 0,
             "ticks": ""
            },
            "type": "mesh3d"
           }
          ],
          "parcoords": [
           {
            "line": {
             "colorbar": {
              "outlinewidth": 0,
              "ticks": ""
             }
            },
            "type": "parcoords"
           }
          ],
          "pie": [
           {
            "automargin": true,
            "type": "pie"
           }
          ],
          "scatter": [
           {
            "marker": {
             "colorbar": {
              "outlinewidth": 0,
              "ticks": ""
             }
            },
            "type": "scatter"
           }
          ],
          "scatter3d": [
           {
            "line": {
             "colorbar": {
              "outlinewidth": 0,
              "ticks": ""
             }
            },
            "marker": {
             "colorbar": {
              "outlinewidth": 0,
              "ticks": ""
             }
            },
            "type": "scatter3d"
           }
          ],
          "scattercarpet": [
           {
            "marker": {
             "colorbar": {
              "outlinewidth": 0,
              "ticks": ""
             }
            },
            "type": "scattercarpet"
           }
          ],
          "scattergeo": [
           {
            "marker": {
             "colorbar": {
              "outlinewidth": 0,
              "ticks": ""
             }
            },
            "type": "scattergeo"
           }
          ],
          "scattergl": [
           {
            "marker": {
             "colorbar": {
              "outlinewidth": 0,
              "ticks": ""
             }
            },
            "type": "scattergl"
           }
          ],
          "scattermapbox": [
           {
            "marker": {
             "colorbar": {
              "outlinewidth": 0,
              "ticks": ""
             }
            },
            "type": "scattermapbox"
           }
          ],
          "scatterpolar": [
           {
            "marker": {
             "colorbar": {
              "outlinewidth": 0,
              "ticks": ""
             }
            },
            "type": "scatterpolar"
           }
          ],
          "scatterpolargl": [
           {
            "marker": {
             "colorbar": {
              "outlinewidth": 0,
              "ticks": ""
             }
            },
            "type": "scatterpolargl"
           }
          ],
          "scatterternary": [
           {
            "marker": {
             "colorbar": {
              "outlinewidth": 0,
              "ticks": ""
             }
            },
            "type": "scatterternary"
           }
          ],
          "surface": [
           {
            "colorbar": {
             "outlinewidth": 0,
             "ticks": ""
            },
            "colorscale": [
             [
              0,
              "#0d0887"
             ],
             [
              0.1111111111111111,
              "#46039f"
             ],
             [
              0.2222222222222222,
              "#7201a8"
             ],
             [
              0.3333333333333333,
              "#9c179e"
             ],
             [
              0.4444444444444444,
              "#bd3786"
             ],
             [
              0.5555555555555556,
              "#d8576b"
             ],
             [
              0.6666666666666666,
              "#ed7953"
             ],
             [
              0.7777777777777778,
              "#fb9f3a"
             ],
             [
              0.8888888888888888,
              "#fdca26"
             ],
             [
              1,
              "#f0f921"
             ]
            ],
            "type": "surface"
           }
          ],
          "table": [
           {
            "cells": {
             "fill": {
              "color": "#EBF0F8"
             },
             "line": {
              "color": "white"
             }
            },
            "header": {
             "fill": {
              "color": "#C8D4E3"
             },
             "line": {
              "color": "white"
             }
            },
            "type": "table"
           }
          ]
         },
         "layout": {
          "annotationdefaults": {
           "arrowcolor": "#2a3f5f",
           "arrowhead": 0,
           "arrowwidth": 1
          },
          "coloraxis": {
           "colorbar": {
            "outlinewidth": 0,
            "ticks": ""
           }
          },
          "colorscale": {
           "diverging": [
            [
             0,
             "#8e0152"
            ],
            [
             0.1,
             "#c51b7d"
            ],
            [
             0.2,
             "#de77ae"
            ],
            [
             0.3,
             "#f1b6da"
            ],
            [
             0.4,
             "#fde0ef"
            ],
            [
             0.5,
             "#f7f7f7"
            ],
            [
             0.6,
             "#e6f5d0"
            ],
            [
             0.7,
             "#b8e186"
            ],
            [
             0.8,
             "#7fbc41"
            ],
            [
             0.9,
             "#4d9221"
            ],
            [
             1,
             "#276419"
            ]
           ],
           "sequential": [
            [
             0,
             "#0d0887"
            ],
            [
             0.1111111111111111,
             "#46039f"
            ],
            [
             0.2222222222222222,
             "#7201a8"
            ],
            [
             0.3333333333333333,
             "#9c179e"
            ],
            [
             0.4444444444444444,
             "#bd3786"
            ],
            [
             0.5555555555555556,
             "#d8576b"
            ],
            [
             0.6666666666666666,
             "#ed7953"
            ],
            [
             0.7777777777777778,
             "#fb9f3a"
            ],
            [
             0.8888888888888888,
             "#fdca26"
            ],
            [
             1,
             "#f0f921"
            ]
           ],
           "sequentialminus": [
            [
             0,
             "#0d0887"
            ],
            [
             0.1111111111111111,
             "#46039f"
            ],
            [
             0.2222222222222222,
             "#7201a8"
            ],
            [
             0.3333333333333333,
             "#9c179e"
            ],
            [
             0.4444444444444444,
             "#bd3786"
            ],
            [
             0.5555555555555556,
             "#d8576b"
            ],
            [
             0.6666666666666666,
             "#ed7953"
            ],
            [
             0.7777777777777778,
             "#fb9f3a"
            ],
            [
             0.8888888888888888,
             "#fdca26"
            ],
            [
             1,
             "#f0f921"
            ]
           ]
          },
          "colorway": [
           "#636efa",
           "#EF553B",
           "#00cc96",
           "#ab63fa",
           "#FFA15A",
           "#19d3f3",
           "#FF6692",
           "#B6E880",
           "#FF97FF",
           "#FECB52"
          ],
          "font": {
           "color": "#2a3f5f"
          },
          "geo": {
           "bgcolor": "white",
           "lakecolor": "white",
           "landcolor": "#E5ECF6",
           "showlakes": true,
           "showland": true,
           "subunitcolor": "white"
          },
          "hoverlabel": {
           "align": "left"
          },
          "hovermode": "closest",
          "mapbox": {
           "style": "light"
          },
          "paper_bgcolor": "white",
          "plot_bgcolor": "#E5ECF6",
          "polar": {
           "angularaxis": {
            "gridcolor": "white",
            "linecolor": "white",
            "ticks": ""
           },
           "bgcolor": "#E5ECF6",
           "radialaxis": {
            "gridcolor": "white",
            "linecolor": "white",
            "ticks": ""
           }
          },
          "scene": {
           "xaxis": {
            "backgroundcolor": "#E5ECF6",
            "gridcolor": "white",
            "gridwidth": 2,
            "linecolor": "white",
            "showbackground": true,
            "ticks": "",
            "zerolinecolor": "white"
           },
           "yaxis": {
            "backgroundcolor": "#E5ECF6",
            "gridcolor": "white",
            "gridwidth": 2,
            "linecolor": "white",
            "showbackground": true,
            "ticks": "",
            "zerolinecolor": "white"
           },
           "zaxis": {
            "backgroundcolor": "#E5ECF6",
            "gridcolor": "white",
            "gridwidth": 2,
            "linecolor": "white",
            "showbackground": true,
            "ticks": "",
            "zerolinecolor": "white"
           }
          },
          "shapedefaults": {
           "line": {
            "color": "#2a3f5f"
           }
          },
          "ternary": {
           "aaxis": {
            "gridcolor": "white",
            "linecolor": "white",
            "ticks": ""
           },
           "baxis": {
            "gridcolor": "white",
            "linecolor": "white",
            "ticks": ""
           },
           "bgcolor": "#E5ECF6",
           "caxis": {
            "gridcolor": "white",
            "linecolor": "white",
            "ticks": ""
           }
          },
          "title": {
           "x": 0.05
          },
          "xaxis": {
           "automargin": true,
           "gridcolor": "white",
           "linecolor": "white",
           "ticks": "",
           "title": {
            "standoff": 15
           },
           "zerolinecolor": "white",
           "zerolinewidth": 2
          },
          "yaxis": {
           "automargin": true,
           "gridcolor": "white",
           "linecolor": "white",
           "ticks": "",
           "title": {
            "standoff": 15
           },
           "zerolinecolor": "white",
           "zerolinewidth": 2
          }
         }
        },
        "xaxis": {
         "showspikes": true
        },
        "yaxis": {
         "showspikes": true
        }
       },
       "_model_module_version": "4.6.0",
       "_py2js_addTraces": {},
       "_py2js_animate": {},
       "_py2js_deleteTraces": {},
       "_py2js_moveTraces": {},
       "_py2js_removeLayoutProps": {},
       "_py2js_removeTraceProps": {},
       "_view_count": 3,
       "_view_module_version": "4.6.0"
      }
     },
     "fd05b7a91ad948ed962ec4c1ef50fe69": {
      "model_module": "@jupyter-widgets/controls",
      "model_module_version": "1.5.0",
      "model_name": "VBoxModel",
      "state": {
       "children": [
        "IPY_MODEL_ca12a2bf59354adf953612150c23fbff",
        "IPY_MODEL_f55fc9ca45c146f89251402248b5d015",
        "IPY_MODEL_bfcd031c87924f12b28f777149a53e90"
       ],
       "layout": "IPY_MODEL_e59b10124fcd40979cbc4c44928ff508"
      }
     },
     "ffd8268290df440d9406f6ff09f3fad1": {
      "model_module": "@jupyter-widgets/controls",
      "model_module_version": "1.5.0",
      "model_name": "DropdownModel",
      "state": {
       "_options_labels": [
        "abs_error",
        "mse",
        "avg",
        "eucledian",
        "bad1",
        "bad2",
        "bad4",
        "bad8"
       ],
       "description": "Metrics:",
       "index": 6,
       "layout": "IPY_MODEL_9b86532e93194933a39f5314b2093520",
       "style": "IPY_MODEL_807d0e0e10864c6691898775ef0397e6"
      }
     }
    },
    "version_major": 2,
    "version_minor": 0
   }
  }
 },
 "nbformat": 4,
 "nbformat_minor": 4
}
