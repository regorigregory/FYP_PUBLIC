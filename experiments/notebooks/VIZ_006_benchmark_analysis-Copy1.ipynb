{
 "cells": [
  {
   "cell_type": "markdown",
   "metadata": {},
   "source": [
    "<h1 id=\"Visualisation-tools-for-Middlebury-2014-results\">Visualisation tools for Middlebury 2014 results</h1>\n",
    "<p>Admittedly, this dataset proved to be more challenging. Not just because of the higher number of the scenes and their more challenging dimensions, but:</p>\n",
    "<p>The disparity maps provided were in \"pfm\" format. This image format allows for 24 bit floating point image representation. However, even using the provided calibration files to each scene, transforming them to integer disparities proved to be challenging. The provided calibration files for each dataset are supposed to give information on the disparity ranges, minimum and maximum values that are encoded in each image.</p>\n",
    "This was used to scale these disparities to the level the algorithm outputs.\n",
    "To test the accuracy of converting the floating point disparities to integer values the following was done:</p>\n",
    "<ol>\n",
    "    <li>\n",
    "A scene, namely \"Teddy\" was converted to integer (8bit) values based on the provided configuration file.</li>\n",
    "    <li>As this is a scene present in both the 2003 and 2014 datasets, it had integer disparity maps (version 2003) and floating point ones (version 2014).<pre>Please note that here, \"integer values\" means the values saved in the disparity map file, not actual disparity values, as the 2003 version encoded disparities with 8 bit at a quater pixel accuracy.</pre>\n",
    "</li>\n",
    "    <li>The two versions disparity maps were compared.</li>\n",
    "    <li>Equivalence, apart from a small percentage of pixels could not be established.</li>\n",
    "    <li>There was an average of 2px difference between the two versions of the same frame.</li>\n",
    "</ol>        \n",
    "Please regard this as a \"caveat\" as using the old framework and old images (\"Teddy\" scenes) the algorithm scored a 9% bad2 value, whereas here it is significantly, typicall by at least factor of 2 greater. The reason for this is the aforementioned conversion error to which the reason is unknown.</p>\n",
    "<h2 id=\"Contents\">Contents</h2>\n",
    "<ol>\n",
    "<li>Scenes w.r.t. {metric} (selection plot)</li>\n",
    "<li>Scenes w.r.t. {metric} with color coded \"epochs\"</li>\n",
    "<li>\"Epochs w.r.t. {metric} with color coded scenes</li>\n",
    "</ol>"
   ]
  },
  {
   "cell_type": "code",
   "execution_count": 1,
   "metadata": {},
   "outputs": [],
   "source": [
    "import pandas as pd\n",
    "import ipywidgets as widgets\n",
    "import numpy as np\n",
    "import sys\n",
    "sys.path.append(\"../../\")\n",
    "import os\n",
    "import glob\n",
    "import cv2\n",
    "\n",
    "import plotly.graph_objs as go\n",
    "import plotly.express as px\n",
    "from ipywidgets import HBox, VBox, Button\n",
    "\n",
    "from components.utils import plotly_helpers as ph"
   ]
  },
  {
   "cell_type": "code",
   "execution_count": 2,
   "metadata": {},
   "outputs": [],
   "source": [
    "log_directory = os.path.join(\"..\", \"logs\")\n",
    "csv_files = glob.glob(os.path.join(log_directory, \"*.csv\"))\n",
    "filenames = [os.path.split(csv_file)[-1] for csv_file in csv_files]\n",
    "opts = [csv_tuple for csv_tuple in zip(filenames, csv_files)]"
   ]
  },
  {
   "cell_type": "code",
   "execution_count": 3,
   "metadata": {},
   "outputs": [],
   "source": [
    "\n",
    "available_metrix = ['abs_error',\n",
    "       'mse', 'avg', 'eucledian', 'bad1', 'bad2', 'bad4', 'bad8']\n",
    "\n",
    "metrics_selector = widgets.Dropdown(\n",
    "    options=[(m,m) for m in available_metrix],\n",
    "    description='Metrics:',\n",
    "    value=\"bad2\"\n",
    ")\n",
    "\n",
    "\n",
    "nonoccluded = widgets.Dropdown(\n",
    "    options=[(\"yes\", False), (\"No\", True)],\n",
    "    description='Nonoccluded:'\n",
    ")\n"
   ]
  },
  {
   "cell_type": "markdown",
   "metadata": {},
   "source": [
    "### Please select metrics and whether occlusions are counted as errors"
   ]
  },
  {
   "cell_type": "code",
   "execution_count": 4,
   "metadata": {},
   "outputs": [
    {
     "data": {
      "application/vnd.jupyter.widget-view+json": {
       "model_id": "32ccea2752ec4d0483dae4c770672328",
       "version_major": 2,
       "version_minor": 0
      },
      "text/plain": [
       "VBox(children=(Dropdown(description='Metrics:', index=5, options=(('abs_error', 'abs_error'), ('mse', 'mse'), …"
      ]
     },
     "metadata": {},
     "output_type": "display_data"
    }
   ],
   "source": [
    "VBox([metrics_selector, nonoccluded])"
   ]
  },
  {
   "cell_type": "code",
   "execution_count": 5,
   "metadata": {},
   "outputs": [],
   "source": [
    "\n",
    "selected_file = os.path.join(\"..\",\"..\", \"benchmarking\", \"MiddEval\", \"custom_log\", \"all_benchmarking.csv\")\n",
    "\n",
    "df = ph.load_n_clean(selected_file)\n",
    "\n",
    "##Filtering to selected occlusion parameter\n",
    "\n",
    "df = df[df[\"are_occlusions_errors\"]==nonoccluded.value]\n",
    "\n",
    "number_of_samples = df.shape[0]"
   ]
  },
  {
   "cell_type": "code",
   "execution_count": 6,
   "metadata": {},
   "outputs": [],
   "source": [
    "### Dashboard 1\n",
    "\n",
    "\n",
    "from ipywidgets import Image, Layout\n",
    "\n",
    "img_widget = Image(value=df[\"loaded_imgs\"].iloc[0], \n",
    "                   layout=Layout(height='375px', width='450px'))\n",
    "\n",
    "fig_a = ph.get_figure_widget (df, \"scene\", metrics_selector.value, \n",
    "                           \"Scene w.r.t.\"+metrics_selector.value)\n",
    "fig_b = ph.get_figure_widget (df, \"match\", \"kernel_size\", \"Kernel sizes w.r.t. match values\")\n",
    "\n",
    "\n",
    "figs = [fig_a, fig_b]\n",
    "ph.bind_hover_function(figs, img_widget, df)\n",
    "ph.bind_brush_function(figs, df)\n",
    "\n",
    "button = ph.get_reset_brush_button(figs)\n",
    "dashboard1 = VBox([button, fig_a,\n",
    "                  HBox([img_widget, fig_b])])\n",
    "\n",
    "\n",
    "### Dashboard 2\n",
    "\n",
    "\n",
    "traced_fig_1, dfs_1 = ph.get_figure_widget_traced(df, \"scene\", metrics_selector.value, \"experiment_id\")\n",
    "\n",
    "traced_fig_widget_1 = go.FigureWidget(traced_fig_1)\n",
    "\n",
    "\n",
    "\n",
    "traced_fig_1_imw_1 = Image(value=df[\"loaded_imgs\"].iloc[0], \n",
    "                   layout=Layout(height='375px', width='450px'))\n",
    "traced_fig_1_imw_2 = Image(value=df[\"loaded_gts\"].iloc[0], \n",
    "                   layout=Layout(height='375px', width='450px'))\n",
    "\n",
    "#figs, img_widget, selected_scene_df\n",
    "ph.bind_hover_function2([traced_fig_widget_1], traced_fig_1_imw_1, dfs_1, img_widget_groundtruth=traced_fig_1_imw_2)\n",
    "\n",
    "turn_the_lights_on = ph.get_dropdown_widget([\"On\", \"Off\"], label=\"Turn plots:\", values = [True, False])\n",
    "\n",
    "ph.bind_dropdown_switch_traces_fn(turn_the_lights_on, traced_fig_widget_1)\n",
    "\n",
    "dashboard2 = VBox([turn_the_lights_on, traced_fig_widget_1, HBox([traced_fig_1_imw_1,traced_fig_1_imw_2])])\n",
    "\n",
    "\n",
    "### Dashboard 3\n",
    "\n",
    "\n",
    "traced_fig_2, dfs_2 = ph.get_figure_widget_traced(df, \"experiment_id\", metrics_selector.value, \"scene\")\n",
    "\n",
    "traced_fig_widget_2 = go.FigureWidget(traced_fig_2)\n",
    "\n",
    "traced_fig_2_imw_1 = Image(value=df[\"loaded_imgs\"].iloc[0], \n",
    "                   layout=Layout(height='375px', width='450px'))\n",
    "traced_fig_2_imw_2 = Image(value=df[\"loaded_gts\"].iloc[0], \n",
    "                   layout=Layout(height='375px', width='450px'))\n",
    "\n",
    "\n",
    "\n",
    "#figs, img_widget, selected_scene_df\n",
    "ph.bind_hover_function2([traced_fig_widget_2], traced_fig_2_imw_1, dfs_2, img_widget_groundtruth=traced_fig_2_imw_2)\n",
    "\n",
    "turn_the_lights_on_2 = ph.get_dropdown_widget([\"On\", \"Off\"], label=\"Turn plots:\", values = [True, False])\n",
    "\n",
    "ph.bind_dropdown_switch_traces_fn(turn_the_lights_on_2, traced_fig_widget_2)\n",
    "\n",
    "\n",
    "dashboard3 = VBox([turn_the_lights_on_2, traced_fig_widget_2, HBox([traced_fig_2_imw_1,traced_fig_2_imw_2])])\n"
   ]
  },
  {
   "cell_type": "markdown",
   "metadata": {},
   "source": [
    "### Scene w.r.t. {metric} (selection plot)\n",
    "<ol>\n",
    "    <li>The following figure allows to use the \"lasso\" tool as a tool of selection.</li>\n",
    "    <li>As a result, the relevant datapoints and their corresponding values in the figure in the bottom right corner will be highlighted.</li>\n",
    "    <li>Pressing the \"clear selection\" button will reset the figure.</li>\n",
    "    <li> Additionally, if a data point is hovered, the corresponding disparity output value will be displayed in the bottom right corner.</li>\n",
    "\n",
    "</ol>"
   ]
  },
  {
   "cell_type": "code",
   "execution_count": 7,
   "metadata": {},
   "outputs": [
    {
     "data": {
      "application/vnd.jupyter.widget-view+json": {
       "model_id": "88d2c20a67aa421ab9ac6c083b6d9f61",
       "version_major": 2,
       "version_minor": 0
      },
      "text/plain": [
       "VBox(children=(Button(description='clear selection', style=ButtonStyle()), FigureWidget({\n",
       "    'data': [{'custo…"
      ]
     },
     "metadata": {},
     "output_type": "display_data"
    }
   ],
   "source": [
    "dashboard1"
   ]
  },
  {
   "cell_type": "markdown",
   "metadata": {},
   "source": [
    "### Scenes w.r.t. {metric} with color coded \"epochs\"\n",
    "An \"epoch\" in this context means an experiment with the same settings evaluated across every scene in the Middlebury 2004 training dataset.<br>\n",
    "<ol>\n",
    "    <li>The following figure allows to turn all the plots on and off</li>\n",
    "    <li>Additionally, their visibiliy can also be handled by interacting with their legend entries on the right side of the plot.\n",
    "    </li>\n",
    "    <li> Therefore custom comparison can be made between different scenes, kernel sizes and match values. </li>\n",
    "    <li> TThe figure in the bottom left corner shows the corresponding disparity map. </li>\n",
    "    <li> TThe figure in the bottom right corner shows the corresponding ground truth disparity map. </li>\n",
    "</ol>"
   ]
  },
  {
   "cell_type": "code",
   "execution_count": 8,
   "metadata": {},
   "outputs": [
    {
     "data": {
      "application/vnd.jupyter.widget-view+json": {
       "model_id": "3990cb8e5869483ca553a88fdc205a0e",
       "version_major": 2,
       "version_minor": 0
      },
      "text/plain": [
       "VBox(children=(Dropdown(description='Turn plots:', options=(('On', True), ('Off', False)), value=True), Figure…"
      ]
     },
     "metadata": {},
     "output_type": "display_data"
    }
   ],
   "source": [
    "dashboard2"
   ]
  },
  {
   "cell_type": "markdown",
   "metadata": {},
   "source": [
    "### \"Epoch\" w.r.t. {metric} with color coded scenes\n",
    "An \"epoch\" in this context means an experiment with the same settings evaluated across every scene in the Middlebury 2004 training dataset.<br>\n",
    "<ol>\n",
    "    <li>The following figure allows to turn all the plots on and off</li>\n",
    "    <li>Additionally, their visibiliy can also be handled by interacting with their legend entries on the right side of the plot.\n",
    "    </li>\n",
    "    <li> Therefore custom comparison can be made between different scenes, kernel sizes and match values. </li>\n",
    "    <li> TThe figure in the bottom left corner shows the corresponding disparity map. </li>\n",
    "    <li> TThe figure in the bottom right corner shows the corresponding ground truth disparity map. </li>\n",
    "</ol>"
   ]
  },
  {
   "cell_type": "code",
   "execution_count": 9,
   "metadata": {},
   "outputs": [
    {
     "data": {
      "application/vnd.jupyter.widget-view+json": {
       "model_id": "4b80258ecdd84266ad66d3cef71f2f8a",
       "version_major": 2,
       "version_minor": 0
      },
      "text/plain": [
       "VBox(children=(Dropdown(description='Turn plots:', options=(('On', True), ('Off', False)), value=True), Figure…"
      ]
     },
     "metadata": {},
     "output_type": "display_data"
    }
   ],
   "source": [
    "dashboard3"
   ]
  }
 ],
 "metadata": {
  "kernelspec": {
   "display_name": "Python 3",
   "language": "python",
   "name": "python3"
  },
  "language_info": {
   "codemirror_mode": {
    "name": "ipython",
    "version": 3
   },
   "file_extension": ".py",
   "mimetype": "text/x-python",
   "name": "python",
   "nbconvert_exporter": "python",
   "pygments_lexer": "ipython3",
   "version": "3.8.2"
  }
 },
 "nbformat": 4,
 "nbformat_minor": 4
}
