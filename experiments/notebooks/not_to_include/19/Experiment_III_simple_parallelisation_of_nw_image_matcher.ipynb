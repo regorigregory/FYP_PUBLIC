{
 "cells": [
  {
   "cell_type": "markdown",
   "metadata": {
    "colab_type": "text",
    "id": "BQDH3vAwiXOZ"
   },
   "source": [
    "<h1>Experiment III: simple parallelisation of NW alg</h1><br>\n",
    "...explanation should go here ..."
   ]
  },
  {
   "cell_type": "code",
   "execution_count": 1,
   "metadata": {
    "colab": {},
    "colab_type": "code",
    "id": "lnmLP8l0iXOe"
   },
   "outputs": [
    {
     "ename": "ModuleNotFoundError",
     "evalue": "No module named 'components'",
     "output_type": "error",
     "traceback": [
      "\u001b[1;31m---------------------------------------------------------------------------\u001b[0m",
      "\u001b[1;31mModuleNotFoundError\u001b[0m                       Traceback (most recent call last)",
      "\u001b[1;32m<ipython-input-1-70716ad72c03>\u001b[0m in \u001b[0;36m<module>\u001b[1;34m\u001b[0m\n\u001b[0;32m      1\u001b[0m \u001b[1;32mimport\u001b[0m \u001b[0mnumpy\u001b[0m \u001b[1;32mas\u001b[0m \u001b[0mnp\u001b[0m\u001b[1;33m\u001b[0m\u001b[1;33m\u001b[0m\u001b[0m\n\u001b[1;32m----> 2\u001b[1;33m \u001b[1;32mfrom\u001b[0m \u001b[0mcomponents\u001b[0m\u001b[1;33m.\u001b[0m\u001b[0mclasses\u001b[0m \u001b[1;32mimport\u001b[0m \u001b[0mParallelMatcherNW2\u001b[0m \u001b[1;32mas\u001b[0m \u001b[0mm\u001b[0m\u001b[1;33m\u001b[0m\u001b[1;33m\u001b[0m\u001b[0m\n\u001b[0m\u001b[0;32m      3\u001b[0m \u001b[1;32mfrom\u001b[0m \u001b[0mcomponents\u001b[0m\u001b[1;33m.\u001b[0m\u001b[0mhelpers\u001b[0m \u001b[1;32mimport\u001b[0m \u001b[0mutils\u001b[0m \u001b[1;32mas\u001b[0m \u001b[0mu\u001b[0m\u001b[1;33m\u001b[0m\u001b[1;33m\u001b[0m\u001b[0m\n\u001b[0;32m      4\u001b[0m \u001b[1;32mfrom\u001b[0m \u001b[0mcomponents\u001b[0m\u001b[1;33m.\u001b[0m\u001b[0mclasses\u001b[0m \u001b[1;32mimport\u001b[0m \u001b[0mCSVExperimentLogger\u001b[0m \u001b[1;32mas\u001b[0m \u001b[0mcsvl\u001b[0m\u001b[1;33m\u001b[0m\u001b[1;33m\u001b[0m\u001b[0m\n\u001b[0;32m      5\u001b[0m \u001b[1;33m\u001b[0m\u001b[0m\n",
      "\u001b[1;31mModuleNotFoundError\u001b[0m: No module named 'components'"
     ]
    }
   ],
   "source": [
    "import numpy as np\n",
    "from components.classes import ParallelMatcherNW2 as m\n",
    "from components.helpers import utils as u\n",
    "from components.classes import CSVExperimentLogger as csvl\n",
    "\n",
    "from components.classes import Metrix as Metrix\n",
    "import imp\n",
    "import cv2\n",
    "import os\n",
    "import matplotlib.pyplot as plt\n",
    "import time\n"
   ]
  },
  {
   "cell_type": "markdown",
   "metadata": {
    "colab_type": "text",
    "id": "1MJMyQM6iXOj"
   },
   "source": [
    "Loading the images"
   ]
  },
  {
   "cell_type": "code",
   "execution_count": null,
   "metadata": {
    "colab": {},
    "colab_type": "code",
    "id": "ATXld4YziXOk",
    "outputId": "460e9221-7640-40af-a609-365022b0821c"
   },
   "outputs": [],
   "source": [
    "resolutions = list([\"\", \"H\", \"F\"])\n",
    "selectedResolutionIndex = 0\n",
    "im2 = cv2.imread(\"./datasets/middlebury_2003/cones\"+resolutions[selectedResolutionIndex]+\"/im2.ppm\", cv2.IMREAD_GRAYSCALE)\n",
    "im6 = cv2.imread(\"./datasets/middlebury_2003/cones\"+resolutions[selectedResolutionIndex]+\"/im6.ppm\", cv2.IMREAD_GRAYSCALE)\n",
    "test_folder = \"./test_outputs\"\n",
    "image_extension = \"_medium.ppm\"\n",
    "u.plotTwoImages(im2, im6)    \n",
    "me = Metrix.Metrix\n"
   ]
  },
  {
   "cell_type": "markdown",
   "metadata": {
    "colab_type": "text",
    "id": "E8jTBjcfiXOq"
   },
   "source": [
    "As a start, the experiment's parameters' have to be specified in order to ensure proper logging and output file names."
   ]
  },
  {
   "cell_type": "code",
   "execution_count": null,
   "metadata": {
    "colab": {},
    "colab_type": "code",
    "id": "5ENFJOkHiXOr",
    "outputId": "7ec7b45d-cfd0-4e1a-aa62-922df0b8ecc6"
   },
   "outputs": [],
   "source": [
    "spec_dict = dict({})\n",
    "spec_dict[\"output_folder\"] = \"test_outputs\"\n",
    "\n",
    "spec_dict[\"is_parallel\"] = \"True\"\n",
    "spec_dict[\"img_name\"] = \"cones\"\n",
    "spec_dict[\"alg_type\"] =  \"simple\"\n",
    "spec_dict[\"is_img_preprocessed\"] = \"False\"\n",
    "spec_dict[\"convolution_filters\"] = \"-\"\n",
    "spec_dict[\"filter_strategy\"] = \"-\"\n",
    "spec_dict[\"matching_mode\"] = \"non_occ\"\n",
    "\n",
    "spec_dict[\"matrix_init_mode\"] = 0\n",
    "match = spec_dict[\"match\"] = 0\n",
    "gap = spec_dict[\"gap\"] = -80\n",
    "egap = spec_dict[\"egap\"] = -1\n",
    "print(\"Please define the output image's extension\")\n",
    "spec_dict[\"ext\"] = input()"
   ]
  },
  {
   "cell_type": "code",
   "execution_count": null,
   "metadata": {
    "colab": {},
    "colab_type": "code",
    "id": "CZQMBWpHiXOw",
    "outputId": "bce266f4-0aff-4bec-95cf-80e21757778e"
   },
   "outputs": [],
   "source": [
    "csvlog = csvl.CSVExperimentLogger()\n",
    "matcher = m.getOne(match, gap, egap)\n",
    "matcher.initialize(im2, im6)"
   ]
  },
  {
   "cell_type": "markdown",
   "metadata": {
    "colab_type": "text",
    "id": "nThcy7RqiXO2"
   },
   "source": [
    "Additional parameters to be set:\n",
    "<h1> #todo: load groundtruth and occluded areas </h1>"
   ]
  },
  {
   "cell_type": "code",
   "execution_count": null,
   "metadata": {
    "colab": {},
    "colab_type": "code",
    "id": "LpgAzjcIiXO4",
    "outputId": "b39be074-ab19-48ba-c584-096ef9b7847b"
   },
   "outputs": [],
   "source": [
    "gt_path = \"./metrix_test/gt/cones_groundtruth.png\"\n",
    "groundtruth = cv2.imread(gt_path, cv2.IMREAD_GRAYSCALE)\n",
    "occlusion_path = \"metrix_test/gt/cones_nonocc.png\"\n",
    "occlusion_map = cv2.imread(occlusion_path, cv2.IMREAD_GRAYSCALE)\n",
    "u.plotTwoImages(groundtruth, occlusion_map)    \n"
   ]
  },
  {
   "cell_type": "code",
   "execution_count": null,
   "metadata": {
    "colab": {},
    "colab_type": "code",
    "id": "N-UOPjApiXO9",
    "outputId": "b328c768-b7cb-4ac9-fa50-c4d7318e7948"
   },
   "outputs": [],
   "source": [
    "#todo: load groundtruth and occluded areas\n",
    "tic = time.time()\n",
    "%time matcher = u.executeParallelMatching(matcher)\n",
    "toc = time.time()\n"
   ]
  },
  {
   "cell_type": "code",
   "execution_count": null,
   "metadata": {
    "colab": {},
    "colab_type": "code",
    "id": "2ZtnMALliXPB",
    "outputId": "8bffcc41-4f40-419f-84e3-e0f99182f4c6"
   },
   "outputs": [],
   "source": [
    "disp = matcher.lastDisparity\n",
    "u.plotTwoImages(groundtruth, disp)\n",
    "if (spec_dict[\"matching_mode\"]==\"non_occ\"):\n",
    "    non_occ = True\n",
    "    groundtruth = u.add_occlusions(groundtruth, occlusion_map)/4\n",
    "    disp = u.add_occlusions(disp, occlusion_map)\n",
    "    \n",
    "u.plotTwoImages(groundtruth, disp)"
   ]
  },
  {
   "cell_type": "code",
   "execution_count": null,
   "metadata": {
    "colab": {},
    "colab_type": "code",
    "id": "rIrZe6oqiXPF",
    "outputId": "3c514d56-424c-4705-c798-409f4ce7165d"
   },
   "outputs": [],
   "source": [
    "#here you have to load the ground truth so that you can pass it to the spec dict\n",
    "import imp\n",
    "imp.reload(Metrix)\n",
    "me = Metrix.Metrix\n",
    "imp.reload(u)\n",
    "imp.reload(csvl)\n",
    "csvlog = csvl.CSVExperimentLogger()\n",
    "print(csvlog.log_matching_ended)\n",
    "import logging\n",
    "imp.reload(logging)\n",
    "csvlog.logging.basicConfig(filename=\"./logs/m_scores.csv\", filemode = \"a\", level = logging.INFO, format=\"%(message)s\")\n"
   ]
  },
  {
   "cell_type": "code",
   "execution_count": null,
   "metadata": {
    "colab": {},
    "colab_type": "code",
    "id": "sQqoNAhLiXPK",
    "outputId": "8b5d96bb-d365-40c6-905e-ec6a0a9e4a99"
   },
   "outputs": [],
   "source": [
    "wanna_print = False\n",
    "spec_dict[\"runtime\"] = toc-tic\n",
    "spec_dict[\"bad1\"] = me.bad(disp, groundtruth, threshold = 1.0, non_occ= non_occ, print=wanna_print, occlusion_map = occlusion_map)\n",
    "spec_dict[\"bad15\"] = me.bad(disp, groundtruth, threshold = 1.5, non_occ= non_occ, print=wanna_print, occlusion_map = occlusion_map)\n",
    "spec_dict[\"bad2\"] = me.bad(disp, groundtruth, threshold = 2, non_occ= non_occ, print=wanna_print, occlusion_map = occlusion_map)\n",
    "spec_dict[\"BAD8\"] = me.bad(disp, groundtruth, threshold = 10.0, non_occ= non_occ, print=wanna_print, occlusion_map = occlusion_map)\n",
    "\n",
    "spec_dict[\"ABS_ERR\"] = me.avgerr(disp, groundtruth, print=wanna_print, occlusion_map = occlusion_map)\n",
    "\n",
    "filename = u.get_output_filename(spec_dict)\n",
    "spec_dict[\"output_file_path\"] = os.path.join(spec_dict[\"output_folder\"], filename)\n",
    "csvlog.log_matching_ended(spec_dict)\n",
    "\n",
    "cv2.imwrite(spec_dict[\"output_file_path\"], disp)"
   ]
  },
  {
   "cell_type": "code",
   "execution_count": null,
   "metadata": {
    "colab": {},
    "colab_type": "code",
    "id": "95qI0xueiXPR"
   },
   "outputs": [],
   "source": []
  }
 ],
 "metadata": {
  "colab": {
   "name": "Experiment_III_simple_parallelisation_of_nw_image_matcher.ipynb",
   "provenance": []
  },
  "kernelspec": {
   "display_name": "Python 3",
   "language": "python",
   "name": "python3"
  },
  "language_info": {
   "codemirror_mode": {
    "name": "ipython",
    "version": 3
   },
   "file_extension": ".py",
   "mimetype": "text/x-python",
   "name": "python",
   "nbconvert_exporter": "python",
   "pygments_lexer": "ipython3",
   "version": "3.8.2"
  }
 },
 "nbformat": 4,
 "nbformat_minor": 1
}
