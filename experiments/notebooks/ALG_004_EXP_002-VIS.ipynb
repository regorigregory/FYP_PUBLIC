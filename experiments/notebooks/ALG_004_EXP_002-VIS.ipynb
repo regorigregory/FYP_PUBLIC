{
 "cells": [
  {
   "cell_type": "markdown",
   "metadata": {},
   "source": [
    "<h1 id=\"ALG_004_EXP_002-Baseline-MacLean_et_al-param_search\">Analysis on the parameter \"match\"'s effect on disparity accuracy</h1>\n",
    "<h2 id=\"Experiment-notebook:-ALG_004_EXP_002-Baseline-MacLean_et_al-param_search\">Experiment notebook: <a href=\"ALG_004_EXP_002-Baseline-MacLean_et_al-param_search.ipynb\" target=\"_blank\" rel=\"noopener\">ALG_004_EXP_002-Baseline-MacLean_et_al-param_search</a></h2>\n",
    "<h2 id=\"Introduction\">Introduction</h2>\n",
    "<p>The assumption that the value of the match parameter contributes to streaking artefacts was hypothesized in&nbsp; <a href=\"ALG_001-EXP_001-Baseline-VIS.ipynb\" target=\"_blank\" rel=\"noopener\">ALG_001-EXP_001-Baseline</a>. While it had been stated that the lack of inter-scanline constraints were responsible for such artefacts (Scharstein, Szeliski and Zabih, 2001), this idea was intended to be investigated further in this experiment.</p>\n",
    "<h2 id=\"Abstract\">Abstract</h2>\n",
    "<p>The assumption that simply by changing one parameter&rsquo;s, match&rsquo;s value would reduce streaking artefacts (Hirschmuller, 2008) were tested further on two scenes of the Middlebury 2003 dataset. While the results due to the size of the dataset were not statistically substantiated, clear correlation between the match value and streaking artefacts (and as a result, measured error) was visually observed. Comparing different metrics was not conclusive as they had contradictory results. Further research was decided into this matter.</p>\n",
    "<h2 id=\"Relevant-theory\">Relevant theory</h2>\n",
    "<p>The streaking artefacts ( see below for further details) are regarded as&nbsp; the symptomatic effect of scanline-wise dynamic programming approaches (Scharstein, Szeliski and Zabih, 2001; Daniel Scharstein and Heiko Hirschm&uuml;ller, 2014; Madeo <em>et al.</em>, 2016). This effect is thought to be the result of such algorithm&rsquo;s lack of considering inter-scanline constraints. For instance, Hirschm&uuml;ller reported significant reduction of such artefacts by introducing additional non-horizontal comparison &nbsp;lines when computing cost. Madeo et al. achieved reduction of such artefacts by applying a median filter post-processing stage to the pipeline. While the author of this report did not intend to argue the effectiveness of the aforementioned methods, it was deemed to be worth&nbsp; further research whether such artefacts could be reduced by changing the parameters.</p>\n",
    "<h2 id=\"Method\">Method</h2>\n",
    "<p>Similarly, to previous experiments, two scenes of the Middlebury 2003 dataset were used. Match, gap and egap values were initialised to 60, -20, -1. Then in steps of 1, the value of match was reduced&nbsp; output disparity was benchmarked. The disparity images were saved, the measured accuracy was logged. Then, plotting the results on respective graphs by scenes, the results were evaluated using an interactive visualisation tool that displayed the corresponding disparity to the plotted data point ( see below for further details).</p>\n",
    "<h2 id=\"Results-and-discussion\">Results and discussion</h2>\n",
    "<p>Upon visual analysis, the streaking artefacts were the least observable when using match values between 25 and 30 for both scenes. However, when comparing the plots of different metrics, the results were not conclusive. For instance, &ldquo;abs_error&rdquo; which is the sum of the absolute differences between the output disparity and ground truth, local minimum was observable within the aforementioned range. However, when evaluating bad metric, with the threshold of 2 (0.5 pixel accuracy) for instance, this local minimum is not reached when it comes to the scene &ldquo;Teddy&rdquo;. If Eucledian distance or Mean Squared Error (mse) &nbsp;was used the effect was the opposite, &ldquo;Teddy&rdquo; had a local minimum while &ldquo;Cones&rdquo; did not have. This was deemed as highly inconclusive ( see below for further details).</p>\n",
    "<h2 id=\"Conclusion\">Conclusion</h2>\n",
    "<p>The effects of the parameter match were tested and the assumption that the streaking artefacts could be reduced by changing the parameter&rsquo;s value was supported by the results. However, the results of different metrics were inconclusive. Further analysis on a larger dataset would be needed to establish statistically well-founded findings.</p>\n",
    "<h2 id=\"References\">References</h2>\n",
    "<ol>\n",
    "<li>Daniel Scharstein and Heiko Hirschm&uuml;ller (2014) <em>Submit | Middlebury Stereo Evaluation - Version 3</em>. Available at: http://vision.middlebury.edu/stereo/submit3/ (Accessed: 17 October 2019).</li>\n",
    "<li>Hirschmuller, H. (2008) &lsquo;Stereo Processing by Semiglobal Matching and Mutual Information&rsquo;, <em>IEEE Transactions on Pattern Analysis and Machine Intelligence</em>, 30(2), pp. 328&ndash;341. doi: 10.1109/TPAMI.2007.1166.</li>\n",
    "<li>Madeo, S. <em>et al.</em> (2016) &lsquo;An optimized stereo vision implementation for embedded systems: application to RGB and infra-red images&rsquo;, <em>Journal of Real-Time Image Processing</em>, 12(4), pp. 725&ndash;746. doi: 10.1007/s11554-014-0461-7.</li>\n",
    "<li>Scharstein, D., Szeliski, R. and Zabih, R. (2001) &lsquo;A taxonomy and evaluation of dense two-frame stereo correspondence algorithms&rsquo;, in <em>Proceedings IEEE Workshop on Stereo and Multi-Baseline Vision (SMBV 2001)</em>. IEEE Comput. Soc, pp. 131&ndash;140. doi: 10.1109/SMBV.2001.988771.</li>\n",
    "</ol>"
   ]
  },
  {
   "cell_type": "code",
   "execution_count": 1,
   "metadata": {},
   "outputs": [],
   "source": [
    "import sys\n",
    "import os\n",
    "sys.path.append(os.path.join(\"..\", \"..\"))\n",
    "import pandas as pd\n",
    "import ipywidgets as widgets\n",
    "import numpy as np\n",
    "import glob\n",
    "import cv2\n",
    "import plotly.graph_objs as go\n",
    "import plotly.express as px\n",
    "from ipywidgets import HBox, VBox, Button, Image, Layout\n",
    "\n",
    "from components.utils import plotly_helpers as plh"
   ]
  },
  {
   "cell_type": "code",
   "execution_count": 2,
   "metadata": {},
   "outputs": [],
   "source": [
    "log_directory = os.path.join(\"..\", \"logs\")\n",
    "csv_files = glob.glob(os.path.join(log_directory, \"ALG_004_*.csv\"))\n",
    "filenames = [os.path.split(csv_file)[-1] for csv_file in csv_files]\n",
    "opts = [(f,p) for f, p in zip(filenames, csv_files) if \"well_known_filters\" not in f]\n",
    "\n",
    "csv_selector = widgets.Dropdown(\n",
    "    options=opts,\n",
    "    description='CSV Log file:',\n",
    "    value=os.path.join('..','logs', 'ALG_004_EXP_002-Baseline-MacLean_et_al-Numba_param_search.csv')\n",
    ")\n",
    "\n",
    "available_metrix = ['abs_error',\n",
    "       'mse', 'avg', 'eucledian', 'bad1', 'bad2', 'bad4', 'bad8']\n",
    "metrics_selector = widgets.Dropdown(\n",
    "    options=[(m,m) for m in available_metrix],\n",
    "    description='Default metric:'\n",
    ")"
   ]
  },
  {
   "cell_type": "code",
   "execution_count": 3,
   "metadata": {},
   "outputs": [
    {
     "data": {
      "application/vnd.jupyter.widget-view+json": {
       "model_id": "672f4c6ccfd645fb987bfcb60e8ba6ad",
       "version_major": 2,
       "version_minor": 0
      },
      "text/plain": [
       "VBox(children=(Dropdown(description='CSV Log file:', index=1, options=(('ALG_004_EXP_001-Baseline-MacLean_et_a…"
      ]
     },
     "metadata": {},
     "output_type": "display_data"
    }
   ],
   "source": [
    "VBox([csv_selector, metrics_selector])"
   ]
  },
  {
   "cell_type": "code",
   "execution_count": 4,
   "metadata": {},
   "outputs": [],
   "source": [
    "selected_file = os.path.abspath(csv_selector.value)\n",
    "\n",
    "df = plh.load_n_clean(selected_file, gts=False, kernel_sizes=False)\n",
    "df = df.sort_values(by=metrics_selector.value)\n",
    "\n",
    "teddy = df_temp_1 = df[df[\"scene\"]==\"teddy\"]\n",
    "cones = df_temp_2 =  df[df[\"scene\"]!=\"teddy\"]\n",
    "\n",
    "img_widget_teddy = Image(value=df[\"loaded_imgs\"].iloc[0], \n",
    "                   layout=Layout(height='375px', width='450px'))\n",
    "img_widget_cones = Image(value=df[\"loaded_imgs\"].iloc[0], \n",
    "                   layout=Layout(height='375px', width='450px'))\n"
   ]
  },
  {
   "cell_type": "code",
   "execution_count": 5,
   "metadata": {},
   "outputs": [],
   "source": [
    "# Getting Figure widgets and dataframes\n",
    "fig_teddy, dfs_1 = plh.get_figure_widget_traced(teddy, \"match\",\n",
    "                                                metrics_selector.value, \"are_occlusions_errors\", discrete_hover=False)\n",
    "\n",
    "fig_teddy.layout.title=\"scene Teddy\"\n",
    "fig_cones, dfs_2 = plh.get_figure_widget_traced(cones, \"match\", \n",
    "                                                metrics_selector.value, \"are_occlusions_errors\", discrete_hover=True)\n",
    "\n",
    "fig_cones.layout.title=\"scene Cones\"\n",
    "plh.bind_hover_function_for_traced([fig_teddy], img_widget_teddy, dfs_1)\n",
    "plh.bind_hover_function_for_traced([fig_cones], img_widget_cones, dfs_2)\n",
    "\n",
    "dashboard = VBox([HBox([fig_teddy, img_widget_teddy]), \n",
    "                 HBox([fig_cones, img_widget_cones])]\n",
    "                  )\n"
   ]
  },
  {
   "cell_type": "code",
   "execution_count": 6,
   "metadata": {},
   "outputs": [
    {
     "data": {
      "application/vnd.jupyter.widget-view+json": {
       "model_id": "3053b6cfcb624f84a682f20a096316ed",
       "version_major": 2,
       "version_minor": 0
      },
      "text/plain": [
       "VBox(children=(HBox(children=(FigureWidget({\n",
       "    'data': [{'hovertemplate': '%{text}',\n",
       "              'name': '…"
      ]
     },
     "metadata": {},
     "output_type": "display_data"
    }
   ],
   "source": [
    "display(dashboard)"
   ]
  },
  {
   "cell_type": "code",
   "execution_count": 7,
   "metadata": {},
   "outputs": [
    {
     "data": {
      "application/vnd.jupyter.widget-view+json": {
       "model_id": "b1c6fd0b786a4cfa907a9bba7723df48",
       "version_major": 2,
       "version_minor": 0
      },
      "text/plain": [
       "VBox(children=(Dropdown(description='CSV Log file:', index=1, options=(('ALG_004_EXP_001-Baseline-MacLean_et_a…"
      ]
     },
     "metadata": {},
     "output_type": "display_data"
    }
   ],
   "source": [
    "VBox([csv_selector, metrics_selector])"
   ]
  },
  {
   "cell_type": "markdown",
   "metadata": {},
   "source": [
    "#### \"Cones\" best results"
   ]
  },
  {
   "cell_type": "code",
   "execution_count": 8,
   "metadata": {},
   "outputs": [
    {
     "name": "stderr",
     "output_type": "stream",
     "text": [
      "<ipython-input-8-35733564e03b>:1: SettingWithCopyWarning:\n",
      "\n",
      "\n",
      "A value is trying to be set on a copy of a slice from a DataFrame\n",
      "\n",
      "See the caveats in the documentation: https://pandas.pydata.org/pandas-docs/stable/user_guide/indexing.html#returning-a-view-versus-a-copy\n",
      "\n",
      "<ipython-input-8-35733564e03b>:2: SettingWithCopyWarning:\n",
      "\n",
      "\n",
      "A value is trying to be set on a copy of a slice from a DataFrame\n",
      "\n",
      "See the caveats in the documentation: https://pandas.pydata.org/pandas-docs/stable/user_guide/indexing.html#returning-a-view-versus-a-copy\n",
      "\n"
     ]
    },
    {
     "data": {
      "text/html": [
       "<div>\n",
       "<style scoped>\n",
       "    .dataframe tbody tr th:only-of-type {\n",
       "        vertical-align: middle;\n",
       "    }\n",
       "\n",
       "    .dataframe tbody tr th {\n",
       "        vertical-align: top;\n",
       "    }\n",
       "\n",
       "    .dataframe thead th {\n",
       "        text-align: right;\n",
       "    }\n",
       "</style>\n",
       "<table border=\"1\" class=\"dataframe\">\n",
       "  <thead>\n",
       "    <tr style=\"text-align: right;\">\n",
       "      <th></th>\n",
       "      <th>match</th>\n",
       "      <th>gap</th>\n",
       "      <th>egap</th>\n",
       "      <th>scene</th>\n",
       "      <th>kernel_size</th>\n",
       "      <th>abs_error</th>\n",
       "    </tr>\n",
       "  </thead>\n",
       "  <tbody>\n",
       "    <tr>\n",
       "      <th>142</th>\n",
       "      <td>35</td>\n",
       "      <td>-20</td>\n",
       "      <td>-1</td>\n",
       "      <td>teddy</td>\n",
       "      <td>1</td>\n",
       "      <td>1032737</td>\n",
       "    </tr>\n",
       "    <tr>\n",
       "      <th>134</th>\n",
       "      <td>33</td>\n",
       "      <td>-20</td>\n",
       "      <td>-1</td>\n",
       "      <td>teddy</td>\n",
       "      <td>1</td>\n",
       "      <td>1034417</td>\n",
       "    </tr>\n",
       "    <tr>\n",
       "      <th>130</th>\n",
       "      <td>32</td>\n",
       "      <td>-20</td>\n",
       "      <td>-1</td>\n",
       "      <td>teddy</td>\n",
       "      <td>1</td>\n",
       "      <td>1035785</td>\n",
       "    </tr>\n",
       "    <tr>\n",
       "      <th>138</th>\n",
       "      <td>34</td>\n",
       "      <td>-20</td>\n",
       "      <td>-1</td>\n",
       "      <td>teddy</td>\n",
       "      <td>1</td>\n",
       "      <td>1037099</td>\n",
       "    </tr>\n",
       "    <tr>\n",
       "      <th>126</th>\n",
       "      <td>31</td>\n",
       "      <td>-20</td>\n",
       "      <td>-1</td>\n",
       "      <td>teddy</td>\n",
       "      <td>1</td>\n",
       "      <td>1039331</td>\n",
       "    </tr>\n",
       "    <tr>\n",
       "      <th>122</th>\n",
       "      <td>30</td>\n",
       "      <td>-20</td>\n",
       "      <td>-1</td>\n",
       "      <td>teddy</td>\n",
       "      <td>1</td>\n",
       "      <td>1043737</td>\n",
       "    </tr>\n",
       "    <tr>\n",
       "      <th>118</th>\n",
       "      <td>29</td>\n",
       "      <td>-20</td>\n",
       "      <td>-1</td>\n",
       "      <td>teddy</td>\n",
       "      <td>1</td>\n",
       "      <td>1047235</td>\n",
       "    </tr>\n",
       "    <tr>\n",
       "      <th>114</th>\n",
       "      <td>28</td>\n",
       "      <td>-20</td>\n",
       "      <td>-1</td>\n",
       "      <td>teddy</td>\n",
       "      <td>1</td>\n",
       "      <td>1051995</td>\n",
       "    </tr>\n",
       "    <tr>\n",
       "      <th>98</th>\n",
       "      <td>24</td>\n",
       "      <td>-20</td>\n",
       "      <td>-1</td>\n",
       "      <td>teddy</td>\n",
       "      <td>1</td>\n",
       "      <td>1053267</td>\n",
       "    </tr>\n",
       "    <tr>\n",
       "      <th>102</th>\n",
       "      <td>25</td>\n",
       "      <td>-20</td>\n",
       "      <td>-1</td>\n",
       "      <td>teddy</td>\n",
       "      <td>1</td>\n",
       "      <td>1054931</td>\n",
       "    </tr>\n",
       "  </tbody>\n",
       "</table>\n",
       "</div>"
      ],
      "text/plain": [
       "     match  gap  egap  scene  kernel_size  abs_error\n",
       "142     35  -20    -1  teddy            1    1032737\n",
       "134     33  -20    -1  teddy            1    1034417\n",
       "130     32  -20    -1  teddy            1    1035785\n",
       "138     34  -20    -1  teddy            1    1037099\n",
       "126     31  -20    -1  teddy            1    1039331\n",
       "122     30  -20    -1  teddy            1    1043737\n",
       "118     29  -20    -1  teddy            1    1047235\n",
       "114     28  -20    -1  teddy            1    1051995\n",
       "98      24  -20    -1  teddy            1    1053267\n",
       "102     25  -20    -1  teddy            1    1054931"
      ]
     },
     "execution_count": 8,
     "metadata": {},
     "output_type": "execute_result"
    }
   ],
   "source": [
    "df_temp_1.sort_values(by=metrics_selector.value, inplace=True)\n",
    "df_temp_2.sort_values(by=metrics_selector.value, inplace=True)\n",
    "df_temp_1[[\"match\", \"gap\", \"egap\", \"scene\", \"kernel_size\", metrics_selector.value]].head(10)"
   ]
  },
  {
   "cell_type": "markdown",
   "metadata": {},
   "source": [
    "#### \"Teddy\" best results"
   ]
  },
  {
   "cell_type": "code",
   "execution_count": 9,
   "metadata": {},
   "outputs": [
    {
     "data": {
      "text/html": [
       "<div>\n",
       "<style scoped>\n",
       "    .dataframe tbody tr th:only-of-type {\n",
       "        vertical-align: middle;\n",
       "    }\n",
       "\n",
       "    .dataframe tbody tr th {\n",
       "        vertical-align: top;\n",
       "    }\n",
       "\n",
       "    .dataframe thead th {\n",
       "        text-align: right;\n",
       "    }\n",
       "</style>\n",
       "<table border=\"1\" class=\"dataframe\">\n",
       "  <thead>\n",
       "    <tr style=\"text-align: right;\">\n",
       "      <th></th>\n",
       "      <th>match</th>\n",
       "      <th>gap</th>\n",
       "      <th>egap</th>\n",
       "      <th>scene</th>\n",
       "      <th>kernel_size</th>\n",
       "      <th>abs_error</th>\n",
       "    </tr>\n",
       "  </thead>\n",
       "  <tbody>\n",
       "    <tr>\n",
       "      <th>116</th>\n",
       "      <td>28</td>\n",
       "      <td>-20</td>\n",
       "      <td>-1</td>\n",
       "      <td>cones</td>\n",
       "      <td>1</td>\n",
       "      <td>1450700</td>\n",
       "    </tr>\n",
       "    <tr>\n",
       "      <th>120</th>\n",
       "      <td>29</td>\n",
       "      <td>-20</td>\n",
       "      <td>-1</td>\n",
       "      <td>cones</td>\n",
       "      <td>1</td>\n",
       "      <td>1450996</td>\n",
       "    </tr>\n",
       "    <tr>\n",
       "      <th>100</th>\n",
       "      <td>24</td>\n",
       "      <td>-20</td>\n",
       "      <td>-1</td>\n",
       "      <td>cones</td>\n",
       "      <td>1</td>\n",
       "      <td>1451266</td>\n",
       "    </tr>\n",
       "    <tr>\n",
       "      <th>124</th>\n",
       "      <td>30</td>\n",
       "      <td>-20</td>\n",
       "      <td>-1</td>\n",
       "      <td>cones</td>\n",
       "      <td>1</td>\n",
       "      <td>1452730</td>\n",
       "    </tr>\n",
       "    <tr>\n",
       "      <th>128</th>\n",
       "      <td>31</td>\n",
       "      <td>-20</td>\n",
       "      <td>-1</td>\n",
       "      <td>cones</td>\n",
       "      <td>1</td>\n",
       "      <td>1452740</td>\n",
       "    </tr>\n",
       "    <tr>\n",
       "      <th>132</th>\n",
       "      <td>32</td>\n",
       "      <td>-20</td>\n",
       "      <td>-1</td>\n",
       "      <td>cones</td>\n",
       "      <td>1</td>\n",
       "      <td>1455244</td>\n",
       "    </tr>\n",
       "    <tr>\n",
       "      <th>112</th>\n",
       "      <td>27</td>\n",
       "      <td>-20</td>\n",
       "      <td>-1</td>\n",
       "      <td>cones</td>\n",
       "      <td>1</td>\n",
       "      <td>1456162</td>\n",
       "    </tr>\n",
       "    <tr>\n",
       "      <th>104</th>\n",
       "      <td>25</td>\n",
       "      <td>-20</td>\n",
       "      <td>-1</td>\n",
       "      <td>cones</td>\n",
       "      <td>1</td>\n",
       "      <td>1456966</td>\n",
       "    </tr>\n",
       "    <tr>\n",
       "      <th>92</th>\n",
       "      <td>22</td>\n",
       "      <td>-20</td>\n",
       "      <td>-1</td>\n",
       "      <td>cones</td>\n",
       "      <td>1</td>\n",
       "      <td>1459082</td>\n",
       "    </tr>\n",
       "    <tr>\n",
       "      <th>96</th>\n",
       "      <td>23</td>\n",
       "      <td>-20</td>\n",
       "      <td>-1</td>\n",
       "      <td>cones</td>\n",
       "      <td>1</td>\n",
       "      <td>1460124</td>\n",
       "    </tr>\n",
       "  </tbody>\n",
       "</table>\n",
       "</div>"
      ],
      "text/plain": [
       "     match  gap  egap  scene  kernel_size  abs_error\n",
       "116     28  -20    -1  cones            1    1450700\n",
       "120     29  -20    -1  cones            1    1450996\n",
       "100     24  -20    -1  cones            1    1451266\n",
       "124     30  -20    -1  cones            1    1452730\n",
       "128     31  -20    -1  cones            1    1452740\n",
       "132     32  -20    -1  cones            1    1455244\n",
       "112     27  -20    -1  cones            1    1456162\n",
       "104     25  -20    -1  cones            1    1456966\n",
       "92      22  -20    -1  cones            1    1459082\n",
       "96      23  -20    -1  cones            1    1460124"
      ]
     },
     "execution_count": 9,
     "metadata": {},
     "output_type": "execute_result"
    }
   ],
   "source": [
    "df_temp_2[[\"match\", \"gap\", \"egap\", \"scene\", \"kernel_size\", metrics_selector.value]].head(10)"
   ]
  },
  {
   "cell_type": "code",
   "execution_count": null,
   "metadata": {},
   "outputs": [],
   "source": []
  }
 ],
 "metadata": {
  "kernelspec": {
   "display_name": "Python 3",
   "language": "python",
   "name": "python3"
  },
  "language_info": {
   "codemirror_mode": {
    "name": "ipython",
    "version": 3
   },
   "file_extension": ".py",
   "mimetype": "text/x-python",
   "name": "python",
   "nbconvert_exporter": "python",
   "pygments_lexer": "ipython3",
   "version": "3.8.2"
  },
  "widgets": {
   "application/vnd.jupyter.widget-state+json": {
    "state": {
     "026c74b4f8b84ac7a2784046eedf7754": {
      "model_module": "@jupyter-widgets/base",
      "model_module_version": "1.2.0",
      "model_name": "LayoutModel",
      "state": {}
     },
     "032be0f619254ae4a848b766ce9df0eb": {
      "model_module": "@jupyter-widgets/controls",
      "model_module_version": "1.5.0",
      "model_name": "DropdownModel",
      "state": {
       "_options_labels": [
        "abs_error",
        "mse",
        "avg",
        "eucledian",
        "bad1",
        "bad2",
        "bad4",
        "bad8"
       ],
       "description": "Default metric:",
       "index": 0,
       "layout": "IPY_MODEL_c1ff1e697eed467997ead90dc15868df",
       "style": "IPY_MODEL_e152628319df419a984f9e53d8cb3119"
      }
     },
     "0af297075cca4321842b0466a8eb4307": {
      "model_module": "@jupyter-widgets/controls",
      "model_module_version": "1.5.0",
      "model_name": "HBoxModel",
      "state": {
       "children": [
        "IPY_MODEL_e40daaf094ff4a1f8b0b82106d3a2453",
        "IPY_MODEL_5a570d64c8784d95866870948720a408"
       ],
       "layout": "IPY_MODEL_9381304dd2334d0d8d06f8220adb5c78"
      }
     },
     "0be0b3a633dc4c19ba476d5448807e8f": {
      "model_module": "@jupyter-widgets/controls",
      "model_module_version": "1.5.0",
      "model_name": "DropdownModel",
      "state": {
       "_options_labels": [
        "abs_error",
        "mse",
        "avg",
        "eucledian",
        "bad1",
        "bad2",
        "bad4",
        "bad8"
       ],
       "description": "Default metric:",
       "index": 0,
       "layout": "IPY_MODEL_4c92f82fba97445fb949d1352dff6c9e",
       "style": "IPY_MODEL_33b8b3d4274241e9ae9c6c38b3687929"
      }
     },
     "0c2cd74886bd474b89531fe52b0a3423": {
      "buffers": [
       {
        "data": "AAAAAMwiNkEAAAAA9CM2QQAAAAACJTZBAAAAALoqNkEAAAAAxCo2QQAAAACMNDZBAAAAACI4NkEAAAAARjs2QQAAAACKQzZBAAAAAJxHNkEAAAAAnks2QQAAAAAyTzZBAAAAANZSNkEAAAAAnlU2QQAAAADsVzZBAAAAADRbNkEAAAAAamg2QQAAAAA8bTZBAAAAABx2NkEAAAAAso02QQAAAABAtDZBAAAAABbDNkEAAAAAlsM2QQAAAAAWyzZBAAAAAPDRNkEAAAAAgtI2QQAAAAAC1zZBAAAAAATYNkEAAAAAUPY2QQAAAACmEDdBAAAAAOI/N0EAAAAA2EA3QQAAAAC8WDdBAAAAAGirN0EAAAAAIMc3QQAAAABi1TdBAAAAAADhN0EAAAAAVuU3QQAAAAB05jdBAAAAAGTqN0EAAAAA8Os3QQAAAAAU8DdBAAAAAHDwN0EAAAAAhvI3QQAAAACW+TdBAAAAAB4XOEEAAAAAjhc4QQAAAAAyYzhBAAAAAJh/OUEAAAAA4MQ6QQAAAACQSj1BAAAAAER8QEEAAAAAXd1DQQAAAABeeE5BAAAAgMt1X0EAAAAAlH5mQQAAAIDZzm5BAAAAAPVVcUEAAACggyNyQQAAAEDnR3JBAAAAQOdHckE=",
        "encoding": "base64",
        "path": [
         "_data",
         0,
         "y",
         "value"
        ]
       },
       {
        "data": "AAAAAAcFTEEAAAAArQ5MQQAAAADlEExBAAAAACIVTEEAAAAAgxVMQQAAAACXF0xBAAAAAIsbTEEAAAAAQR1MQQAAAAAkHkxBAAAAADogTEEAAAAA/SJMQQAAAADgI0xBAAAAAAEnTEEAAAAAWCdMQQAAAACTKExBAAAAAHIsTEEAAAAAgzRMQQAAAACNN0xBAAAAAF1CTEEAAAAAfkRMQQAAAADbRExBAAAAAA9HTEEAAAAA9EdMQQAAAACDXExBAAAAAKheTEEAAAAAyWJMQQAAAACTZExBAAAAAHplTEEAAAAALGZMQQAAAAAiZ0xBAAAAABRrTEEAAAAALm1MQQAAAAAncExBAAAAAM51TEEAAAAA3HVMQQAAAACNd0xBAAAAAG95TEEAAAAA5HpMQQAAAACqgUxBAAAAADqDTEEAAAAAJZRMQQAAAAANm0xBAAAAAOPPTEEAAAAAa+VMQQAAAAATBk1BAAAAALxATUEAAAAA6K5NQQAAAADL6E1BAAAAAJ6PTkEAAAAAN05PQQAAAAAKVlBBAAAAAB1aUUEAAAAAcilTQQAAAICimVhBAAAAAN6NZEEAAADALZJrQQAAAEB2AXJBAAAAILjzc0EAAABgmcJ0QQAAAAD95nRBAAAAAP3mdEE=",
        "encoding": "base64",
        "path": [
         "_data",
         1,
         "y",
         "value"
        ]
       }
      ],
      "model_module": "plotlywidget",
      "model_module_version": "4.6.0",
      "model_name": "FigureModel",
      "state": {
       "_config": {
        "plotlyServerURL": "https://plot.ly"
       },
       "_data": [
        {
         "hovertemplate": "%{text}",
         "name": "False",
         "showlegend": true,
         "text": [
          "Scene:cones<br>match:28<br>bad4: 0.33889637730500394<br>",
          "Scene:cones<br>match:29<br>bad4: 0.34020955213095616<br>",
          "Scene:cones<br>match:24<br>bad4: 0.3320525825771577<br>",
          "Scene:cones<br>match:30<br>bad4: 0.3404110445645679<br>",
          "Scene:cones<br>match:31<br>bad4: 0.3407514972972222<br>",
          "Scene:cones<br>match:32<br>bad4: 0.34155746703166906<br>",
          "Scene:cones<br>match:27<br>bad4: 0.3391881939329933<br>",
          "Scene:cones<br>match:25<br>bad4: 0.3350193849617165<br>",
          "Scene:cones<br>match:22<br>bad4: 0.332177646846296<br>",
          "Scene:cones<br>match:23<br>bad4: 0.33205953059210985<br>",
          "Scene:cones<br>match:35<br>bad4: 0.3458582882870364<br>",
          "Scene:cones<br>match:26<br>bad4: 0.33923683003765825<br>",
          "Scene:cones<br>match:34<br>bad4: 0.3456081597487598<br>",
          "Scene:cones<br>match:33<br>bad4: 0.34535803121048314<br>",
          "Scene:cones<br>match:20<br>bad4: 0.32867584731042343<br>",
          "Scene:cones<br>match:21<br>bad4: 0.33109375651376394<br>",
          "Scene:cones<br>match:18<br>bad4: 0.3223739977488432<br>",
          "Scene:cones<br>match:19<br>bad4: 0.32696663563219985<br>",
          "Scene:cones<br>match:36<br>bad4: 0.3485124299987494<br>",
          "Scene:cones<br>match:37<br>bad4: 0.35163903672720703<br>",
          "Scene:cones<br>match:38<br>bad4: 0.35437655461834555<br>",
          "Scene:cones<br>match:39<br>bad4: 0.3555507691452552<br>",
          "Scene:cones<br>match:17<br>bad4: 0.32074121423509305<br>",
          "Scene:cones<br>match:41<br>bad4: 0.3599002265052874<br>",
          "Scene:cones<br>match:43<br>bad4: 0.3632422216972611<br>",
          "Scene:cones<br>match:16<br>bad4: 0.31803843641871515<br>",
          "Scene:cones<br>match:42<br>bad4: 0.3633255978766866<br>",
          "Scene:cones<br>match:40<br>bad4: 0.3594625015633033<br>",
          "Scene:cones<br>match:15<br>bad4: 0.3164820810694385<br>",
          "Scene:cones<br>match:44<br>bad4: 0.36705668190597945<br>",
          "Scene:cones<br>match:45<br>bad4: 0.37258035379292137<br>",
          "Scene:cones<br>match:46<br>bad4: 0.37369203618526187<br>",
          "Scene:cones<br>match:14<br>bad4: 0.3172394146992205<br>",
          "Scene:cones<br>match:47<br>bad4: 0.3770340313772355<br>",
          "Scene:cones<br>match:48<br>bad4: 0.3787362950405069<br>",
          "Scene:cones<br>match:49<br>bad4: 0.379771549268374<br>",
          "Scene:cones<br>match:51<br>bad4: 0.3839125661798424<br>",
          "Scene:cones<br>match:53<br>bad4: 0.3859413865458639<br>",
          "Scene:cones<br>match:52<br>bad4: 0.3840862665536456<br>",
          "Scene:cones<br>match:54<br>bad4: 0.38681683642983206<br>",
          "Scene:cones<br>match:58<br>bad4: 0.3922501841223962<br>",
          "Scene:cones<br>match:50<br>bad4: 0.3835443213873797<br>",
          "Scene:cones<br>match:56<br>bad4: 0.3892208496032684<br>",
          "Scene:cones<br>match:57<br>bad4: 0.39008240345733225<br>",
          "Scene:cones<br>match:55<br>bad4: 0.3882481275099704<br>",
          "Scene:cones<br>match:13<br>bad4: 0.3175103872823534<br>",
          "Scene:cones<br>match:59<br>bad4: 0.3946403012659283<br>",
          "Scene:cones<br>match:12<br>bad4: 0.3120492475299807<br>",
          "Scene:cones<br>match:11<br>bad4: 0.3102705557022359<br>",
          "Scene:cones<br>match:10<br>bad4: 0.31289690535414033<br>",
          "Scene:cones<br>match:9<br>bad4: 0.3182746689270876<br>",
          "Scene:cones<br>match:8<br>bad4: 0.32288815085530065<br>",
          "Scene:cones<br>match:7<br>bad4: 0.3410155218654031<br>",
          "Scene:cones<br>match:6<br>bad4: 0.39581451579283794<br>",
          "Scene:cones<br>match:5<br>bad4: 0.5734266220140906<br>",
          "Scene:cones<br>match:4<br>bad4: 0.7187999388574684<br>",
          "Scene:cones<br>match:3<br>bad4: 0.8711351666828787<br>",
          "Scene:cones<br>match:2<br>bad4: 0.9520656448452676<br>",
          "Scene:cones<br>match:1<br>bad4: 0.9934271778552868<br>",
          "Scene:cones<br>match:0<br>bad4: 1.0<br>",
          "Scene:cones<br>match:0<br>bad4: 1.0<br>"
         ],
         "type": "scatter",
         "uid": "190da895-ea56-4d96-a8e2-d2ec5cde9b13",
         "x": [
          28,
          29,
          24,
          30,
          31,
          32,
          27,
          25,
          22,
          23,
          35,
          26,
          34,
          33,
          20,
          21,
          18,
          19,
          36,
          37,
          38,
          39,
          17,
          41,
          43,
          16,
          42,
          40,
          15,
          44,
          45,
          46,
          14,
          47,
          48,
          49,
          51,
          53,
          52,
          54,
          58,
          50,
          56,
          57,
          55,
          13,
          59,
          12,
          11,
          10,
          9,
          8,
          7,
          6,
          5,
          4,
          3,
          2,
          1,
          0,
          0
         ],
         "y": {
          "dtype": "float64",
          "shape": [
           61
          ],
          "value": {}
         }
        },
        {
         "hovertemplate": "%{text}",
         "name": "True",
         "showlegend": true,
         "text": [
          "Scene:cones<br>match:35<br>bad4: 0.4183540389784535<br>",
          "Scene:cones<br>match:34<br>bad4: 0.41821933492937213<br>",
          "Scene:cones<br>match:32<br>bad4: 0.4147598900325127<br>",
          "Scene:cones<br>match:31<br>bad4: 0.4140741239644625<br>",
          "Scene:cones<br>match:33<br>bad4: 0.418035647589716<br>",
          "Scene:cones<br>match:36<br>bad4: 0.4206501307241568<br>",
          "Scene:cones<br>match:37<br>bad4: 0.4233564575284256<br>",
          "Scene:cones<br>match:30<br>bad4: 0.41390880535877206<br>",
          "Scene:cones<br>match:43<br>bad4: 0.43325108222457615<br>",
          "Scene:cones<br>match:29<br>bad4: 0.4137924700436564<br>",
          "Scene:cones<br>match:41<br>bad4: 0.4303182077013977<br>",
          "Scene:cones<br>match:42<br>bad4: 0.433355171717048<br>",
          "Scene:cones<br>match:38<br>bad4: 0.4257199012986695<br>",
          "Scene:cones<br>match:39<br>bad4: 0.4266077234403414<br>",
          "Scene:cones<br>match:28<br>bad4: 0.41272096056232815<br>",
          "Scene:cones<br>match:40<br>bad4: 0.4300365537805916<br>",
          "Scene:cones<br>match:27<br>bad4: 0.41299649157181256<br>",
          "Scene:cones<br>match:44<br>bad4: 0.43662480636292944<br>",
          "Scene:cones<br>match:46<br>bad4: 0.4424783095866423<br>",
          "Scene:cones<br>match:26<br>bad4: 0.4130515977737094<br>",
          "Scene:cones<br>match:45<br>bad4: 0.4415231354204297<br>",
          "Scene:cones<br>match:24<br>bad4: 0.40678785949143104<br>",
          "Scene:cones<br>match:25<br>bad4: 0.4093349906013311<br>",
          "Scene:cones<br>match:58<br>bad4: 0.4585693205405306<br>",
          "Scene:cones<br>match:23<br>bad4: 0.4068001053140747<br>",
          "Scene:cones<br>match:57<br>bad4: 0.4567018325873586<br>",
          "Scene:cones<br>match:56<br>bad4: 0.4559303457608023<br>",
          "Scene:cones<br>match:22<br>bad4: 0.4069041948065466<br>",
          "Scene:cones<br>match:59<br>bad4: 0.460663356212612<br>",
          "Scene:cones<br>match:54<br>bad4: 0.4538056955321116<br>",
          "Scene:cones<br>match:55<br>bad4: 0.4550608923530961<br>",
          "Scene:cones<br>match:53<br>bad4: 0.4532117731338897<br>",
          "Scene:cones<br>match:47<br>bad4: 0.4454601674003955<br>",
          "Scene:cones<br>match:51<br>bad4: 0.451478989229799<br>",
          "Scene:cones<br>match:52<br>bad4: 0.4515830787222709<br>",
          "Scene:cones<br>match:48<br>bad4: 0.44697864940822063<br>",
          "Scene:cones<br>match:21<br>bad4: 0.4060714788667716<br>",
          "Scene:cones<br>match:49<br>bad4: 0.4478725944612144<br>",
          "Scene:cones<br>match:50<br>bad4: 0.4511789665750271<br>",
          "Scene:cones<br>match:20<br>bad4: 0.4041243930664152<br>",
          "Scene:cones<br>match:19<br>bad4: 0.40259978814726827<br>",
          "Scene:cones<br>match:18<br>bad4: 0.3987117394578774<br>",
          "Scene:cones<br>match:17<br>bad4: 0.3972973469425242<br>",
          "Scene:cones<br>match:16<br>bad4: 0.3949951322854991<br>",
          "Scene:cones<br>match:15<br>bad4: 0.3937093209079053<br>",
          "Scene:cones<br>match:14<br>bad4: 0.3943828411533116<br>",
          "Scene:cones<br>match:13<br>bad4: 0.3947440929213023<br>",
          "Scene:cones<br>match:12<br>bad4: 0.3900049595581707<br>",
          "Scene:cones<br>match:11<br>bad4: 0.3885232150182769<br>",
          "Scene:cones<br>match:10<br>bad4: 0.3910948377734645<br>",
          "Scene:cones<br>match:9<br>bad4: 0.3958890773384929<br>",
          "Scene:cones<br>match:8<br>bad4: 0.4001138861505869<br>",
          "Scene:cones<br>match:7<br>bad4: 0.4164498135573502<br>",
          "Scene:cones<br>match:6<br>bad4: 0.465133081477581<br>",
          "Scene:cones<br>match:5<br>bad4: 0.6224735337158112<br>",
          "Scene:cones<br>match:4<br>bad4: 0.7514955210903681<br>",
          "Scene:cones<br>match:3<br>bad4: 0.8862730451074877<br>",
          "Scene:cones<br>match:2<br>bad4: 0.9577212973224508<br>",
          "Scene:cones<br>match:1<br>bad4: 0.994207725889506<br>",
          "Scene:cones<br>match:0<br>bad4: 1.0<br>",
          "Scene:cones<br>match:0<br>bad4: 1.0<br>"
         ],
         "type": "scatter",
         "uid": "b388da9b-7d4b-4427-aee7-c2836f2d2c9c",
         "x": [
          35,
          34,
          32,
          31,
          33,
          36,
          37,
          30,
          43,
          29,
          41,
          42,
          38,
          39,
          28,
          40,
          27,
          44,
          46,
          26,
          45,
          24,
          25,
          58,
          23,
          57,
          56,
          22,
          59,
          54,
          55,
          53,
          47,
          51,
          52,
          48,
          21,
          49,
          50,
          20,
          19,
          18,
          17,
          16,
          15,
          14,
          13,
          12,
          11,
          10,
          9,
          8,
          7,
          6,
          5,
          4,
          3,
          2,
          1,
          0,
          0
         ],
         "y": {
          "dtype": "float64",
          "shape": [
           61
          ],
          "value": {}
         }
        }
       ],
       "_js2py_layoutDelta": {},
       "_js2py_pointsCallback": {},
       "_js2py_relayout": {},
       "_js2py_restyle": {},
       "_js2py_traceDeltas": {},
       "_js2py_update": {},
       "_layout": {
        "legend": {
         "title": {
          "text": "are_occlusions_errors"
         }
        },
        "template": {
         "data": {
          "bar": [
           {
            "error_x": {
             "color": "#2a3f5f"
            },
            "error_y": {
             "color": "#2a3f5f"
            },
            "marker": {
             "line": {
              "color": "#E5ECF6",
              "width": 0.5
             }
            },
            "type": "bar"
           }
          ],
          "barpolar": [
           {
            "marker": {
             "line": {
              "color": "#E5ECF6",
              "width": 0.5
             }
            },
            "type": "barpolar"
           }
          ],
          "carpet": [
           {
            "aaxis": {
             "endlinecolor": "#2a3f5f",
             "gridcolor": "white",
             "linecolor": "white",
             "minorgridcolor": "white",
             "startlinecolor": "#2a3f5f"
            },
            "baxis": {
             "endlinecolor": "#2a3f5f",
             "gridcolor": "white",
             "linecolor": "white",
             "minorgridcolor": "white",
             "startlinecolor": "#2a3f5f"
            },
            "type": "carpet"
           }
          ],
          "choropleth": [
           {
            "colorbar": {
             "outlinewidth": 0,
             "ticks": ""
            },
            "type": "choropleth"
           }
          ],
          "contour": [
           {
            "colorbar": {
             "outlinewidth": 0,
             "ticks": ""
            },
            "colorscale": [
             [
              0,
              "#0d0887"
             ],
             [
              0.1111111111111111,
              "#46039f"
             ],
             [
              0.2222222222222222,
              "#7201a8"
             ],
             [
              0.3333333333333333,
              "#9c179e"
             ],
             [
              0.4444444444444444,
              "#bd3786"
             ],
             [
              0.5555555555555556,
              "#d8576b"
             ],
             [
              0.6666666666666666,
              "#ed7953"
             ],
             [
              0.7777777777777778,
              "#fb9f3a"
             ],
             [
              0.8888888888888888,
              "#fdca26"
             ],
             [
              1,
              "#f0f921"
             ]
            ],
            "type": "contour"
           }
          ],
          "contourcarpet": [
           {
            "colorbar": {
             "outlinewidth": 0,
             "ticks": ""
            },
            "type": "contourcarpet"
           }
          ],
          "heatmap": [
           {
            "colorbar": {
             "outlinewidth": 0,
             "ticks": ""
            },
            "colorscale": [
             [
              0,
              "#0d0887"
             ],
             [
              0.1111111111111111,
              "#46039f"
             ],
             [
              0.2222222222222222,
              "#7201a8"
             ],
             [
              0.3333333333333333,
              "#9c179e"
             ],
             [
              0.4444444444444444,
              "#bd3786"
             ],
             [
              0.5555555555555556,
              "#d8576b"
             ],
             [
              0.6666666666666666,
              "#ed7953"
             ],
             [
              0.7777777777777778,
              "#fb9f3a"
             ],
             [
              0.8888888888888888,
              "#fdca26"
             ],
             [
              1,
              "#f0f921"
             ]
            ],
            "type": "heatmap"
           }
          ],
          "heatmapgl": [
           {
            "colorbar": {
             "outlinewidth": 0,
             "ticks": ""
            },
            "colorscale": [
             [
              0,
              "#0d0887"
             ],
             [
              0.1111111111111111,
              "#46039f"
             ],
             [
              0.2222222222222222,
              "#7201a8"
             ],
             [
              0.3333333333333333,
              "#9c179e"
             ],
             [
              0.4444444444444444,
              "#bd3786"
             ],
             [
              0.5555555555555556,
              "#d8576b"
             ],
             [
              0.6666666666666666,
              "#ed7953"
             ],
             [
              0.7777777777777778,
              "#fb9f3a"
             ],
             [
              0.8888888888888888,
              "#fdca26"
             ],
             [
              1,
              "#f0f921"
             ]
            ],
            "type": "heatmapgl"
           }
          ],
          "histogram": [
           {
            "marker": {
             "colorbar": {
              "outlinewidth": 0,
              "ticks": ""
             }
            },
            "type": "histogram"
           }
          ],
          "histogram2d": [
           {
            "colorbar": {
             "outlinewidth": 0,
             "ticks": ""
            },
            "colorscale": [
             [
              0,
              "#0d0887"
             ],
             [
              0.1111111111111111,
              "#46039f"
             ],
             [
              0.2222222222222222,
              "#7201a8"
             ],
             [
              0.3333333333333333,
              "#9c179e"
             ],
             [
              0.4444444444444444,
              "#bd3786"
             ],
             [
              0.5555555555555556,
              "#d8576b"
             ],
             [
              0.6666666666666666,
              "#ed7953"
             ],
             [
              0.7777777777777778,
              "#fb9f3a"
             ],
             [
              0.8888888888888888,
              "#fdca26"
             ],
             [
              1,
              "#f0f921"
             ]
            ],
            "type": "histogram2d"
           }
          ],
          "histogram2dcontour": [
           {
            "colorbar": {
             "outlinewidth": 0,
             "ticks": ""
            },
            "colorscale": [
             [
              0,
              "#0d0887"
             ],
             [
              0.1111111111111111,
              "#46039f"
             ],
             [
              0.2222222222222222,
              "#7201a8"
             ],
             [
              0.3333333333333333,
              "#9c179e"
             ],
             [
              0.4444444444444444,
              "#bd3786"
             ],
             [
              0.5555555555555556,
              "#d8576b"
             ],
             [
              0.6666666666666666,
              "#ed7953"
             ],
             [
              0.7777777777777778,
              "#fb9f3a"
             ],
             [
              0.8888888888888888,
              "#fdca26"
             ],
             [
              1,
              "#f0f921"
             ]
            ],
            "type": "histogram2dcontour"
           }
          ],
          "mesh3d": [
           {
            "colorbar": {
             "outlinewidth": 0,
             "ticks": ""
            },
            "type": "mesh3d"
           }
          ],
          "parcoords": [
           {
            "line": {
             "colorbar": {
              "outlinewidth": 0,
              "ticks": ""
             }
            },
            "type": "parcoords"
           }
          ],
          "pie": [
           {
            "automargin": true,
            "type": "pie"
           }
          ],
          "scatter": [
           {
            "marker": {
             "colorbar": {
              "outlinewidth": 0,
              "ticks": ""
             }
            },
            "type": "scatter"
           }
          ],
          "scatter3d": [
           {
            "line": {
             "colorbar": {
              "outlinewidth": 0,
              "ticks": ""
             }
            },
            "marker": {
             "colorbar": {
              "outlinewidth": 0,
              "ticks": ""
             }
            },
            "type": "scatter3d"
           }
          ],
          "scattercarpet": [
           {
            "marker": {
             "colorbar": {
              "outlinewidth": 0,
              "ticks": ""
             }
            },
            "type": "scattercarpet"
           }
          ],
          "scattergeo": [
           {
            "marker": {
             "colorbar": {
              "outlinewidth": 0,
              "ticks": ""
             }
            },
            "type": "scattergeo"
           }
          ],
          "scattergl": [
           {
            "marker": {
             "colorbar": {
              "outlinewidth": 0,
              "ticks": ""
             }
            },
            "type": "scattergl"
           }
          ],
          "scattermapbox": [
           {
            "marker": {
             "colorbar": {
              "outlinewidth": 0,
              "ticks": ""
             }
            },
            "type": "scattermapbox"
           }
          ],
          "scatterpolar": [
           {
            "marker": {
             "colorbar": {
              "outlinewidth": 0,
              "ticks": ""
             }
            },
            "type": "scatterpolar"
           }
          ],
          "scatterpolargl": [
           {
            "marker": {
             "colorbar": {
              "outlinewidth": 0,
              "ticks": ""
             }
            },
            "type": "scatterpolargl"
           }
          ],
          "scatterternary": [
           {
            "marker": {
             "colorbar": {
              "outlinewidth": 0,
              "ticks": ""
             }
            },
            "type": "scatterternary"
           }
          ],
          "surface": [
           {
            "colorbar": {
             "outlinewidth": 0,
             "ticks": ""
            },
            "colorscale": [
             [
              0,
              "#0d0887"
             ],
             [
              0.1111111111111111,
              "#46039f"
             ],
             [
              0.2222222222222222,
              "#7201a8"
             ],
             [
              0.3333333333333333,
              "#9c179e"
             ],
             [
              0.4444444444444444,
              "#bd3786"
             ],
             [
              0.5555555555555556,
              "#d8576b"
             ],
             [
              0.6666666666666666,
              "#ed7953"
             ],
             [
              0.7777777777777778,
              "#fb9f3a"
             ],
             [
              0.8888888888888888,
              "#fdca26"
             ],
             [
              1,
              "#f0f921"
             ]
            ],
            "type": "surface"
           }
          ],
          "table": [
           {
            "cells": {
             "fill": {
              "color": "#EBF0F8"
             },
             "line": {
              "color": "white"
             }
            },
            "header": {
             "fill": {
              "color": "#C8D4E3"
             },
             "line": {
              "color": "white"
             }
            },
            "type": "table"
           }
          ]
         },
         "layout": {
          "annotationdefaults": {
           "arrowcolor": "#2a3f5f",
           "arrowhead": 0,
           "arrowwidth": 1
          },
          "coloraxis": {
           "colorbar": {
            "outlinewidth": 0,
            "ticks": ""
           }
          },
          "colorscale": {
           "diverging": [
            [
             0,
             "#8e0152"
            ],
            [
             0.1,
             "#c51b7d"
            ],
            [
             0.2,
             "#de77ae"
            ],
            [
             0.3,
             "#f1b6da"
            ],
            [
             0.4,
             "#fde0ef"
            ],
            [
             0.5,
             "#f7f7f7"
            ],
            [
             0.6,
             "#e6f5d0"
            ],
            [
             0.7,
             "#b8e186"
            ],
            [
             0.8,
             "#7fbc41"
            ],
            [
             0.9,
             "#4d9221"
            ],
            [
             1,
             "#276419"
            ]
           ],
           "sequential": [
            [
             0,
             "#0d0887"
            ],
            [
             0.1111111111111111,
             "#46039f"
            ],
            [
             0.2222222222222222,
             "#7201a8"
            ],
            [
             0.3333333333333333,
             "#9c179e"
            ],
            [
             0.4444444444444444,
             "#bd3786"
            ],
            [
             0.5555555555555556,
             "#d8576b"
            ],
            [
             0.6666666666666666,
             "#ed7953"
            ],
            [
             0.7777777777777778,
             "#fb9f3a"
            ],
            [
             0.8888888888888888,
             "#fdca26"
            ],
            [
             1,
             "#f0f921"
            ]
           ],
           "sequentialminus": [
            [
             0,
             "#0d0887"
            ],
            [
             0.1111111111111111,
             "#46039f"
            ],
            [
             0.2222222222222222,
             "#7201a8"
            ],
            [
             0.3333333333333333,
             "#9c179e"
            ],
            [
             0.4444444444444444,
             "#bd3786"
            ],
            [
             0.5555555555555556,
             "#d8576b"
            ],
            [
             0.6666666666666666,
             "#ed7953"
            ],
            [
             0.7777777777777778,
             "#fb9f3a"
            ],
            [
             0.8888888888888888,
             "#fdca26"
            ],
            [
             1,
             "#f0f921"
            ]
           ]
          },
          "colorway": [
           "#636efa",
           "#EF553B",
           "#00cc96",
           "#ab63fa",
           "#FFA15A",
           "#19d3f3",
           "#FF6692",
           "#B6E880",
           "#FF97FF",
           "#FECB52"
          ],
          "font": {
           "color": "#2a3f5f"
          },
          "geo": {
           "bgcolor": "white",
           "lakecolor": "white",
           "landcolor": "#E5ECF6",
           "showlakes": true,
           "showland": true,
           "subunitcolor": "white"
          },
          "hoverlabel": {
           "align": "left"
          },
          "hovermode": "closest",
          "mapbox": {
           "style": "light"
          },
          "paper_bgcolor": "white",
          "plot_bgcolor": "#E5ECF6",
          "polar": {
           "angularaxis": {
            "gridcolor": "white",
            "linecolor": "white",
            "ticks": ""
           },
           "bgcolor": "#E5ECF6",
           "radialaxis": {
            "gridcolor": "white",
            "linecolor": "white",
            "ticks": ""
           }
          },
          "scene": {
           "xaxis": {
            "backgroundcolor": "#E5ECF6",
            "gridcolor": "white",
            "gridwidth": 2,
            "linecolor": "white",
            "showbackground": true,
            "ticks": "",
            "zerolinecolor": "white"
           },
           "yaxis": {
            "backgroundcolor": "#E5ECF6",
            "gridcolor": "white",
            "gridwidth": 2,
            "linecolor": "white",
            "showbackground": true,
            "ticks": "",
            "zerolinecolor": "white"
           },
           "zaxis": {
            "backgroundcolor": "#E5ECF6",
            "gridcolor": "white",
            "gridwidth": 2,
            "linecolor": "white",
            "showbackground": true,
            "ticks": "",
            "zerolinecolor": "white"
           }
          },
          "shapedefaults": {
           "line": {
            "color": "#2a3f5f"
           }
          },
          "ternary": {
           "aaxis": {
            "gridcolor": "white",
            "linecolor": "white",
            "ticks": ""
           },
           "baxis": {
            "gridcolor": "white",
            "linecolor": "white",
            "ticks": ""
           },
           "bgcolor": "#E5ECF6",
           "caxis": {
            "gridcolor": "white",
            "linecolor": "white",
            "ticks": ""
           }
          },
          "title": {
           "x": 0.05
          },
          "xaxis": {
           "automargin": true,
           "gridcolor": "white",
           "linecolor": "white",
           "ticks": "",
           "title": {
            "standoff": 15
           },
           "zerolinecolor": "white",
           "zerolinewidth": 2
          },
          "yaxis": {
           "automargin": true,
           "gridcolor": "white",
           "linecolor": "white",
           "ticks": "",
           "title": {
            "standoff": 15
           },
           "zerolinecolor": "white",
           "zerolinewidth": 2
          }
         }
        },
        "xaxis": {
         "showspikes": true
        },
        "yaxis": {
         "showspikes": true
        }
       },
       "_model_module_version": "4.6.0",
       "_py2js_addTraces": {},
       "_py2js_animate": {},
       "_py2js_deleteTraces": {},
       "_py2js_moveTraces": {},
       "_py2js_relayout": {},
       "_py2js_removeLayoutProps": {},
       "_py2js_removeTraceProps": {},
       "_py2js_restyle": {},
       "_py2js_update": {},
       "_view_count": 0,
       "_view_module_version": "4.6.0"
      }
     },
     "0cd7db4ee45f445cabd9e059e4ff37d7": {
      "model_module": "@jupyter-widgets/controls",
      "model_module_version": "1.5.0",
      "model_name": "VBoxModel",
      "state": {
       "children": [
        "IPY_MODEL_a7ceae72359245d5a084022098bf9a26",
        "IPY_MODEL_032be0f619254ae4a848b766ce9df0eb"
       ],
       "layout": "IPY_MODEL_5f05003aa1774a6d8cdf928148ec04ca"
      }
     },
     "0dbb33a10acc4b9b90771b3758ce3c55": {
      "model_module": "@jupyter-widgets/controls",
      "model_module_version": "1.5.0",
      "model_name": "HBoxModel",
      "state": {
       "children": [
        "IPY_MODEL_21f3370686414e91bb5c6ba732dcc96e",
        "IPY_MODEL_7471037274c240fa96a3ec9bc602dba4"
       ],
       "layout": "IPY_MODEL_fd06e18f1b73462c8d994e3f961b229c"
      }
     },
     "13bf2f8658fd4d788e1ce643efe7a2de": {
      "model_module": "@jupyter-widgets/base",
      "model_module_version": "1.2.0",
      "model_name": "LayoutModel",
      "state": {}
     },
     "1a7ad8b9fcef4df0b8c75e477ea3e354": {
      "model_module": "@jupyter-widgets/controls",
      "model_module_version": "1.5.0",
      "model_name": "DescriptionStyleModel",
      "state": {
       "description_width": ""
      }
     },
     "1ec9215e09e24552a34393f8cbc8d9a2": {
      "model_module": "@jupyter-widgets/controls",
      "model_module_version": "1.5.0",
      "model_name": "HBoxModel",
      "state": {
       "children": [
        "IPY_MODEL_ee0b6debdb9f48e880a67e3afa64f283",
        "IPY_MODEL_7471037274c240fa96a3ec9bc602dba4"
       ],
       "layout": "IPY_MODEL_60f7a1ff3d964c4e99db2c94b392fb67"
      }
     },
     "21f3370686414e91bb5c6ba732dcc96e": {
      "buffers": [
       {
        "data": "AAAAAEKEL0EAAAAAYpEvQQAAAAASnC9BAAAAAFamL0EAAAAAxrcvQQAAAAAy2i9BAAAAAIb1L0EAAAAAWw0wQQAAAABTEjBBAAAAANMYMEEAAAAAzRswQQAAAAB1LTBBAAAAAANKMEEAAAAAyVYwQQAAAAD3dDBBAAAAAD+AMEEAAAAAf4AwQQAAAABNgTBBAAAAAD2DMEEAAAAANYcwQQAAAACjiTBBAAAAADuLMEEAAAAAbYwwQQAAAADBjDBBAAAAAN+aMEEAAAAAx6swQQAAAADl0TBBAAAAAB8GMUEAAAAA3SExQQAAAABDIjFBAAAAAG9AMUEAAAAACUgxQQAAAABpTzFBAAAAAAlwMUEAAAAAlZQxQQAAAAB77zFBAAAAAJ93MkEAAAAAdX0yQQAAAACPfzJBAAAAACPwMkEAAAAAwVYzQQAAAADzlzNBAAAAAFXHM0EAAAAAP8kzQQAAAAAj2DRBAAAAAEsCNUEAAAAAiSA1QQAAAACZMTVBAAAAAKNPNUEAAAAAd4I1QQAAAADRtDVBAAAAAI2MNkEAAAAAdZg3QQAAAABHojtBAAAAgJnCQUEAAACATyFMQQAAAEBS7VhBAAAAIHcpZEEAAADgmqttQQAAAODwS25BAAAA4PBLbkE=",
        "encoding": "base64",
        "path": [
         "_data",
         0,
         "y",
         "value"
        ]
       },
       {
        "data": "AAAAAOS+RkEAAAAAdsdGQQAAAABHyUZBAAAAAKPMRkEAAAAAjNZGQQAAAADa30ZBAAAAAOHpRkEAAAAAn/RGQQAAAAAD/0ZBAAAAAO3/RkEAAAAAhwNHQQAAAAC6C0dBAAAAAEkYR0EAAAAAJxpHQQAAAAB3GkdBAAAAAOoaR0EAAAAAaBxHQQAAAAAhIEdBAAAAAEoiR0EAAAAAOiNHQQAAAAAGJEdBAAAAAIgoR0EAAAAA0yxHQQAAAAA+N0dBAAAAANJGR0EAAAAAVFpHQQAAAAC0cEdBAAAAAGFxR0EAAAAAhndHQQAAAACagkdBAAAAAKGNR0EAAAAAqZ5HQQAAAAAXpkdBAAAAADrCR0EAAAAA/ehHQQAAAADGB0hBAAAAAMEMSEEAAAAApxlIQQAAAADwYUhBAAAAACB2SEEAAAAAY6VIQQAAAAC7pUhBAAAAABCoSEEAAAAA9wFJQQAAAABtKUlBAAAAAK4zSUEAAAAA5T1JQQAAAAAuSUlBAAAAAIhXSUEAAAAAD2BJQQAAAAC4xUlBAAAAADPbSUEAAAAAdR1LQQAAAABkOk1BAAAAAGOzUEEAAAAAIhZWQQAAAECUlWBBAAAAQJhcaEEAAADAHfdwQQAAAECSRnFBAAAAQJJGcUE=",
        "encoding": "base64",
        "path": [
         "_data",
         1,
         "y",
         "value"
        ]
       }
      ],
      "model_module": "plotlywidget",
      "model_module_version": "4.6.0",
      "model_name": "FigureModel",
      "state": {
       "_config": {
        "plotlyServerURL": "https://plot.ly"
       },
       "_data": [
        {
         "hovertemplate": "%{text}",
         "name": "False",
         "showlegend": true,
         "text": [
          "Scene:teddy<br>match:35<br>bad4: 0.33847383356699245<br>",
          "Scene:teddy<br>match:33<br>bad4: 0.3399028790864945<br>",
          "Scene:teddy<br>match:32<br>bad4: 0.33982160635552755<br>",
          "Scene:teddy<br>match:34<br>bad4: 0.34185342462970114<br>",
          "Scene:teddy<br>match:31<br>bad4: 0.3400992881863313<br>",
          "Scene:teddy<br>match:30<br>bad4: 0.34241556101888915<br>",
          "Scene:teddy<br>match:29<br>bad4: 0.3431605610527528<br>",
          "Scene:teddy<br>match:28<br>bad4: 0.34404101563822803<br>",
          "Scene:teddy<br>match:24<br>bad4: 0.33885310631150484<br>",
          "Scene:teddy<br>match:25<br>bad4: 0.3409729700442259<br>",
          "Scene:teddy<br>match:27<br>bad4: 0.3426187428463065<br>",
          "Scene:teddy<br>match:26<br>bad4: 0.34206337918469903<br>",
          "Scene:teddy<br>match:23<br>bad4: 0.3427880610358209<br>",
          "Scene:teddy<br>match:22<br>bad4: 0.34335697015258954<br>",
          "Scene:teddy<br>match:21<br>bad4: 0.3455919702541805<br>",
          "Scene:teddy<br>match:42<br>bad4: 0.3399299699968168<br>",
          "Scene:teddy<br>match:43<br>bad4: 0.3386702426668292<br>",
          "Scene:teddy<br>match:41<br>bad4: 0.3396387427108519<br>",
          "Scene:teddy<br>match:39<br>bad4: 0.3374511517023251<br>",
          "Scene:teddy<br>match:38<br>bad4: 0.33837901538086435<br>",
          "Scene:teddy<br>match:44<br>bad4: 0.33758660625393666<br>",
          "Scene:teddy<br>match:37<br>bad4: 0.3383248335602197<br>",
          "Scene:teddy<br>match:20<br>bad4: 0.3464859702948168<br>",
          "Scene:teddy<br>match:40<br>bad4: 0.3391781972353726<br>",
          "Scene:teddy<br>match:36<br>bad4: 0.3387515153977961<br>",
          "Scene:teddy<br>match:19<br>bad4: 0.34788792490399656<br>",
          "Scene:teddy<br>match:18<br>bad4: 0.34854487947931273<br>",
          "Scene:teddy<br>match:17<br>bad4: 0.34805724309351105<br>",
          "Scene:teddy<br>match:15<br>bad4: 0.34799628854528586<br>",
          "Scene:teddy<br>match:16<br>bad4: 0.3494185613372073<br>",
          "Scene:teddy<br>match:46<br>bad4: 0.33677387894426725<br>",
          "Scene:teddy<br>match:45<br>bad4: 0.33797265172602964<br>",
          "Scene:teddy<br>match:14<br>bad4: 0.3471022885046495<br>",
          "Scene:teddy<br>match:47<br>bad4: 0.3380877880948995<br>",
          "Scene:teddy<br>match:13<br>bad4: 0.3452533338751516<br>",
          "Scene:teddy<br>match:12<br>bad4: 0.3485110158414098<br>",
          "Scene:teddy<br>match:49<br>bad4: 0.3409323336787424<br>",
          "Scene:teddy<br>match:11<br>bad4: 0.35231051601411434<br>",
          "Scene:teddy<br>match:48<br>bad4: 0.34191437917792633<br>",
          "Scene:teddy<br>match:10<br>bad4: 0.3528320160378189<br>",
          "Scene:teddy<br>match:50<br>bad4: 0.3418466519021205<br>",
          "Scene:teddy<br>match:9<br>bad4: 0.35111174323235195<br>",
          "Scene:teddy<br>match:51<br>bad4: 0.3460186520917569<br>",
          "Scene:teddy<br>match:52<br>bad4: 0.3417382882608313<br>",
          "Scene:teddy<br>match:53<br>bad4: 0.3447927883996722<br>",
          "Scene:teddy<br>match:54<br>bad4: 0.34417647018983955<br>",
          "Scene:teddy<br>match:55<br>bad4: 0.3434991974317817<br>",
          "Scene:teddy<br>match:8<br>bad4: 0.3554191979735999<br>",
          "Scene:teddy<br>match:56<br>bad4: 0.3461879702812713<br>",
          "Scene:teddy<br>match:57<br>bad4: 0.3466552884843313<br>",
          "Scene:teddy<br>match:58<br>bad4: 0.3486126067551185<br>",
          "Scene:teddy<br>match:59<br>bad4: 0.35016356137107096<br>",
          "Scene:teddy<br>match:7<br>bad4: 0.3602142891006495<br>",
          "Scene:teddy<br>match:6<br>bad4: 0.3745115170232508<br>",
          "Scene:teddy<br>match:5<br>bad4: 0.3918090632640484<br>",
          "Scene:teddy<br>match:4<br>bad4: 0.4429702474077385<br>",
          "Scene:teddy<br>match:3<br>bad4: 0.5590209345009516<br>",
          "Scene:teddy<br>match:2<br>bad4: 0.7145159870234542<br>",
          "Scene:teddy<br>match:1<br>bad4: 0.9864613175664236<br>",
          "Scene:teddy<br>match:0<br>bad4: 1.0<br>",
          "Scene:teddy<br>match:0<br>bad4: 1.0<br>"
         ],
         "type": "scatter",
         "uid": "e964c64d-62fe-4d70-acc9-7e37fbdcfab3",
         "x": [
          35,
          33,
          32,
          34,
          31,
          30,
          29,
          28,
          24,
          25,
          27,
          26,
          23,
          22,
          21,
          42,
          43,
          41,
          39,
          38,
          44,
          37,
          20,
          40,
          36,
          19,
          18,
          17,
          15,
          16,
          46,
          45,
          14,
          47,
          13,
          12,
          49,
          11,
          48,
          10,
          50,
          9,
          51,
          52,
          53,
          54,
          55,
          8,
          56,
          57,
          58,
          59,
          7,
          6,
          5,
          4,
          3,
          2,
          1,
          0,
          0
         ],
         "y": {
          "dtype": "float64",
          "shape": [
           61
          ],
          "value": {}
         }
        },
        {
         "hovertemplate": "%{text}",
         "name": "True",
         "showlegend": true,
         "text": [
          "Scene:teddy<br>match:35<br>bad4: 0.4065100638668473<br>",
          "Scene:teddy<br>match:33<br>bad4: 0.4078164311979872<br>",
          "Scene:teddy<br>match:34<br>bad4: 0.4095340623185601<br>",
          "Scene:teddy<br>match:32<br>bad4: 0.4077559512289529<br>",
          "Scene:teddy<br>match:31<br>bad4: 0.40805835107412425<br>",
          "Scene:teddy<br>match:30<br>bad4: 0.4101328140119993<br>",
          "Scene:teddy<br>match:29<br>bad4: 0.41082228565898976<br>",
          "Scene:teddy<br>match:28<br>bad4: 0.4116206212502419<br>",
          "Scene:teddy<br>match:27<br>bad4: 0.4103868298819431<br>",
          "Scene:teddy<br>match:24<br>bad4: 0.4070846235726727<br>",
          "Scene:teddy<br>match:25<br>bad4: 0.4089534546158312<br>",
          "Scene:teddy<br>match:26<br>bad4: 0.40992113412037934<br>",
          "Scene:teddy<br>match:43<br>bad4: 0.4065644958389781<br>",
          "Scene:teddy<br>match:42<br>bad4: 0.40771361525062894<br>",
          "Scene:teddy<br>match:44<br>bad4: 0.40559681633442995<br>",
          "Scene:teddy<br>match:41<br>bad4: 0.4074535513837817<br>",
          "Scene:teddy<br>match:23<br>bad4: 0.4106045577704664<br>",
          "Scene:teddy<br>match:39<br>bad4: 0.4055726243468164<br>",
          "Scene:teddy<br>match:40<br>bad4: 0.4070422875943488<br>",
          "Scene:teddy<br>match:38<br>bad4: 0.4064193439132959<br>",
          "Scene:teddy<br>match:37<br>bad4: 0.4063649119411651<br>",
          "Scene:teddy<br>match:22<br>bad4: 0.4110883975227405<br>",
          "Scene:teddy<br>match:36<br>bad4: 0.4067096477646603<br>",
          "Scene:teddy<br>match:21<br>bad4: 0.4131084284884846<br>",
          "Scene:teddy<br>match:20<br>bad4: 0.4139128120766402<br>",
          "Scene:teddy<br>match:19<br>bad4: 0.4151828914263596<br>",
          "Scene:teddy<br>match:18<br>bad4: 0.4157755951228953<br>",
          "Scene:teddy<br>match:46<br>bad4: 0.4048771047029224<br>",
          "Scene:teddy<br>match:45<br>bad4: 0.40593550416102187<br>",
          "Scene:teddy<br>match:47<br>bad4: 0.4060020321269596<br>",
          "Scene:teddy<br>match:17<br>bad4: 0.4153401393458487<br>",
          "Scene:teddy<br>match:16<br>bad4: 0.4165557867234372<br>",
          "Scene:teddy<br>match:15<br>bad4: 0.4153098993613315<br>",
          "Scene:teddy<br>match:14<br>bad4: 0.4145659957422102<br>",
          "Scene:teddy<br>match:13<br>bad4: 0.4129390845751887<br>",
          "Scene:teddy<br>match:49<br>bad4: 0.4085482388233017<br>",
          "Scene:teddy<br>match:48<br>bad4: 0.4094312463712019<br>",
          "Scene:teddy<br>match:12<br>bad4: 0.4158844590671569<br>",
          "Scene:teddy<br>match:11<br>bad4: 0.4193015773175924<br>",
          "Scene:teddy<br>match:50<br>bad4: 0.4093889103928779<br>",
          "Scene:teddy<br>match:52<br>bad4: 0.40926795045480935<br>",
          "Scene:teddy<br>match:10<br>bad4: 0.4198398490419973<br>",
          "Scene:teddy<br>match:51<br>bad4: 0.4131084284884846<br>",
          "Scene:teddy<br>match:9<br>bad4: 0.41830970582543053<br>",
          "Scene:teddy<br>match:53<br>bad4: 0.4120076930520611<br>",
          "Scene:teddy<br>match:54<br>bad4: 0.411451277336946<br>",
          "Scene:teddy<br>match:55<br>bad4: 0.4108162376620863<br>",
          "Scene:teddy<br>match:56<br>bad4: 0.4131689084575189<br>",
          "Scene:teddy<br>match:57<br>bad4: 0.41353783626862783<br>",
          "Scene:teddy<br>match:58<br>bad4: 0.4152675633830075<br>",
          "Scene:teddy<br>match:59<br>bad4: 0.4166465066769886<br>",
          "Scene:teddy<br>match:8<br>bad4: 0.42222275982194696<br>",
          "Scene:teddy<br>match:7<br>bad4: 0.4265954615831237<br>",
          "Scene:teddy<br>match:6<br>bad4: 0.4394776949874202<br>",
          "Scene:teddy<br>match:5<br>bad4: 0.4551964389394232<br>",
          "Scene:teddy<br>match:4<br>bad4: 0.501221695374492<br>",
          "Scene:teddy<br>match:3<br>bad4: 0.6054105380298045<br>",
          "Scene:teddy<br>match:2<br>bad4: 0.7447745306754403<br>",
          "Scene:teddy<br>match:1<br>bad4: 0.9879100541900524<br>",
          "Scene:teddy<br>match:0<br>bad4: 1.0<br>",
          "Scene:teddy<br>match:0<br>bad4: 1.0<br>"
         ],
         "type": "scatter",
         "uid": "a3371667-8e1b-4cd3-ada0-5c0a96f7b2b3",
         "x": [
          35,
          33,
          34,
          32,
          31,
          30,
          29,
          28,
          27,
          24,
          25,
          26,
          43,
          42,
          44,
          41,
          23,
          39,
          40,
          38,
          37,
          22,
          36,
          21,
          20,
          19,
          18,
          46,
          45,
          47,
          17,
          16,
          15,
          14,
          13,
          49,
          48,
          12,
          11,
          50,
          52,
          10,
          51,
          9,
          53,
          54,
          55,
          56,
          57,
          58,
          59,
          8,
          7,
          6,
          5,
          4,
          3,
          2,
          1,
          0,
          0
         ],
         "y": {
          "dtype": "float64",
          "shape": [
           61
          ],
          "value": {}
         }
        }
       ],
       "_js2py_restyle": {},
       "_js2py_update": {},
       "_last_layout_edit_id": 1,
       "_layout": {
        "autosize": true,
        "legend": {
         "title": {
          "text": "are_occlusions_errors"
         }
        },
        "template": {
         "data": {
          "bar": [
           {
            "error_x": {
             "color": "#2a3f5f"
            },
            "error_y": {
             "color": "#2a3f5f"
            },
            "marker": {
             "line": {
              "color": "#E5ECF6",
              "width": 0.5
             }
            },
            "type": "bar"
           }
          ],
          "barpolar": [
           {
            "marker": {
             "line": {
              "color": "#E5ECF6",
              "width": 0.5
             }
            },
            "type": "barpolar"
           }
          ],
          "carpet": [
           {
            "aaxis": {
             "endlinecolor": "#2a3f5f",
             "gridcolor": "white",
             "linecolor": "white",
             "minorgridcolor": "white",
             "startlinecolor": "#2a3f5f"
            },
            "baxis": {
             "endlinecolor": "#2a3f5f",
             "gridcolor": "white",
             "linecolor": "white",
             "minorgridcolor": "white",
             "startlinecolor": "#2a3f5f"
            },
            "type": "carpet"
           }
          ],
          "choropleth": [
           {
            "colorbar": {
             "outlinewidth": 0,
             "ticks": ""
            },
            "type": "choropleth"
           }
          ],
          "contour": [
           {
            "colorbar": {
             "outlinewidth": 0,
             "ticks": ""
            },
            "colorscale": [
             [
              0,
              "#0d0887"
             ],
             [
              0.1111111111111111,
              "#46039f"
             ],
             [
              0.2222222222222222,
              "#7201a8"
             ],
             [
              0.3333333333333333,
              "#9c179e"
             ],
             [
              0.4444444444444444,
              "#bd3786"
             ],
             [
              0.5555555555555556,
              "#d8576b"
             ],
             [
              0.6666666666666666,
              "#ed7953"
             ],
             [
              0.7777777777777778,
              "#fb9f3a"
             ],
             [
              0.8888888888888888,
              "#fdca26"
             ],
             [
              1,
              "#f0f921"
             ]
            ],
            "type": "contour"
           }
          ],
          "contourcarpet": [
           {
            "colorbar": {
             "outlinewidth": 0,
             "ticks": ""
            },
            "type": "contourcarpet"
           }
          ],
          "heatmap": [
           {
            "colorbar": {
             "outlinewidth": 0,
             "ticks": ""
            },
            "colorscale": [
             [
              0,
              "#0d0887"
             ],
             [
              0.1111111111111111,
              "#46039f"
             ],
             [
              0.2222222222222222,
              "#7201a8"
             ],
             [
              0.3333333333333333,
              "#9c179e"
             ],
             [
              0.4444444444444444,
              "#bd3786"
             ],
             [
              0.5555555555555556,
              "#d8576b"
             ],
             [
              0.6666666666666666,
              "#ed7953"
             ],
             [
              0.7777777777777778,
              "#fb9f3a"
             ],
             [
              0.8888888888888888,
              "#fdca26"
             ],
             [
              1,
              "#f0f921"
             ]
            ],
            "type": "heatmap"
           }
          ],
          "heatmapgl": [
           {
            "colorbar": {
             "outlinewidth": 0,
             "ticks": ""
            },
            "colorscale": [
             [
              0,
              "#0d0887"
             ],
             [
              0.1111111111111111,
              "#46039f"
             ],
             [
              0.2222222222222222,
              "#7201a8"
             ],
             [
              0.3333333333333333,
              "#9c179e"
             ],
             [
              0.4444444444444444,
              "#bd3786"
             ],
             [
              0.5555555555555556,
              "#d8576b"
             ],
             [
              0.6666666666666666,
              "#ed7953"
             ],
             [
              0.7777777777777778,
              "#fb9f3a"
             ],
             [
              0.8888888888888888,
              "#fdca26"
             ],
             [
              1,
              "#f0f921"
             ]
            ],
            "type": "heatmapgl"
           }
          ],
          "histogram": [
           {
            "marker": {
             "colorbar": {
              "outlinewidth": 0,
              "ticks": ""
             }
            },
            "type": "histogram"
           }
          ],
          "histogram2d": [
           {
            "colorbar": {
             "outlinewidth": 0,
             "ticks": ""
            },
            "colorscale": [
             [
              0,
              "#0d0887"
             ],
             [
              0.1111111111111111,
              "#46039f"
             ],
             [
              0.2222222222222222,
              "#7201a8"
             ],
             [
              0.3333333333333333,
              "#9c179e"
             ],
             [
              0.4444444444444444,
              "#bd3786"
             ],
             [
              0.5555555555555556,
              "#d8576b"
             ],
             [
              0.6666666666666666,
              "#ed7953"
             ],
             [
              0.7777777777777778,
              "#fb9f3a"
             ],
             [
              0.8888888888888888,
              "#fdca26"
             ],
             [
              1,
              "#f0f921"
             ]
            ],
            "type": "histogram2d"
           }
          ],
          "histogram2dcontour": [
           {
            "colorbar": {
             "outlinewidth": 0,
             "ticks": ""
            },
            "colorscale": [
             [
              0,
              "#0d0887"
             ],
             [
              0.1111111111111111,
              "#46039f"
             ],
             [
              0.2222222222222222,
              "#7201a8"
             ],
             [
              0.3333333333333333,
              "#9c179e"
             ],
             [
              0.4444444444444444,
              "#bd3786"
             ],
             [
              0.5555555555555556,
              "#d8576b"
             ],
             [
              0.6666666666666666,
              "#ed7953"
             ],
             [
              0.7777777777777778,
              "#fb9f3a"
             ],
             [
              0.8888888888888888,
              "#fdca26"
             ],
             [
              1,
              "#f0f921"
             ]
            ],
            "type": "histogram2dcontour"
           }
          ],
          "mesh3d": [
           {
            "colorbar": {
             "outlinewidth": 0,
             "ticks": ""
            },
            "type": "mesh3d"
           }
          ],
          "parcoords": [
           {
            "line": {
             "colorbar": {
              "outlinewidth": 0,
              "ticks": ""
             }
            },
            "type": "parcoords"
           }
          ],
          "pie": [
           {
            "automargin": true,
            "type": "pie"
           }
          ],
          "scatter": [
           {
            "marker": {
             "colorbar": {
              "outlinewidth": 0,
              "ticks": ""
             }
            },
            "type": "scatter"
           }
          ],
          "scatter3d": [
           {
            "line": {
             "colorbar": {
              "outlinewidth": 0,
              "ticks": ""
             }
            },
            "marker": {
             "colorbar": {
              "outlinewidth": 0,
              "ticks": ""
             }
            },
            "type": "scatter3d"
           }
          ],
          "scattercarpet": [
           {
            "marker": {
             "colorbar": {
              "outlinewidth": 0,
              "ticks": ""
             }
            },
            "type": "scattercarpet"
           }
          ],
          "scattergeo": [
           {
            "marker": {
             "colorbar": {
              "outlinewidth": 0,
              "ticks": ""
             }
            },
            "type": "scattergeo"
           }
          ],
          "scattergl": [
           {
            "marker": {
             "colorbar": {
              "outlinewidth": 0,
              "ticks": ""
             }
            },
            "type": "scattergl"
           }
          ],
          "scattermapbox": [
           {
            "marker": {
             "colorbar": {
              "outlinewidth": 0,
              "ticks": ""
             }
            },
            "type": "scattermapbox"
           }
          ],
          "scatterpolar": [
           {
            "marker": {
             "colorbar": {
              "outlinewidth": 0,
              "ticks": ""
             }
            },
            "type": "scatterpolar"
           }
          ],
          "scatterpolargl": [
           {
            "marker": {
             "colorbar": {
              "outlinewidth": 0,
              "ticks": ""
             }
            },
            "type": "scatterpolargl"
           }
          ],
          "scatterternary": [
           {
            "marker": {
             "colorbar": {
              "outlinewidth": 0,
              "ticks": ""
             }
            },
            "type": "scatterternary"
           }
          ],
          "surface": [
           {
            "colorbar": {
             "outlinewidth": 0,
             "ticks": ""
            },
            "colorscale": [
             [
              0,
              "#0d0887"
             ],
             [
              0.1111111111111111,
              "#46039f"
             ],
             [
              0.2222222222222222,
              "#7201a8"
             ],
             [
              0.3333333333333333,
              "#9c179e"
             ],
             [
              0.4444444444444444,
              "#bd3786"
             ],
             [
              0.5555555555555556,
              "#d8576b"
             ],
             [
              0.6666666666666666,
              "#ed7953"
             ],
             [
              0.7777777777777778,
              "#fb9f3a"
             ],
             [
              0.8888888888888888,
              "#fdca26"
             ],
             [
              1,
              "#f0f921"
             ]
            ],
            "type": "surface"
           }
          ],
          "table": [
           {
            "cells": {
             "fill": {
              "color": "#EBF0F8"
             },
             "line": {
              "color": "white"
             }
            },
            "header": {
             "fill": {
              "color": "#C8D4E3"
             },
             "line": {
              "color": "white"
             }
            },
            "type": "table"
           }
          ]
         },
         "layout": {
          "annotationdefaults": {
           "arrowcolor": "#2a3f5f",
           "arrowhead": 0,
           "arrowwidth": 1
          },
          "coloraxis": {
           "colorbar": {
            "outlinewidth": 0,
            "ticks": ""
           }
          },
          "colorscale": {
           "diverging": [
            [
             0,
             "#8e0152"
            ],
            [
             0.1,
             "#c51b7d"
            ],
            [
             0.2,
             "#de77ae"
            ],
            [
             0.3,
             "#f1b6da"
            ],
            [
             0.4,
             "#fde0ef"
            ],
            [
             0.5,
             "#f7f7f7"
            ],
            [
             0.6,
             "#e6f5d0"
            ],
            [
             0.7,
             "#b8e186"
            ],
            [
             0.8,
             "#7fbc41"
            ],
            [
             0.9,
             "#4d9221"
            ],
            [
             1,
             "#276419"
            ]
           ],
           "sequential": [
            [
             0,
             "#0d0887"
            ],
            [
             0.1111111111111111,
             "#46039f"
            ],
            [
             0.2222222222222222,
             "#7201a8"
            ],
            [
             0.3333333333333333,
             "#9c179e"
            ],
            [
             0.4444444444444444,
             "#bd3786"
            ],
            [
             0.5555555555555556,
             "#d8576b"
            ],
            [
             0.6666666666666666,
             "#ed7953"
            ],
            [
             0.7777777777777778,
             "#fb9f3a"
            ],
            [
             0.8888888888888888,
             "#fdca26"
            ],
            [
             1,
             "#f0f921"
            ]
           ],
           "sequentialminus": [
            [
             0,
             "#0d0887"
            ],
            [
             0.1111111111111111,
             "#46039f"
            ],
            [
             0.2222222222222222,
             "#7201a8"
            ],
            [
             0.3333333333333333,
             "#9c179e"
            ],
            [
             0.4444444444444444,
             "#bd3786"
            ],
            [
             0.5555555555555556,
             "#d8576b"
            ],
            [
             0.6666666666666666,
             "#ed7953"
            ],
            [
             0.7777777777777778,
             "#fb9f3a"
            ],
            [
             0.8888888888888888,
             "#fdca26"
            ],
            [
             1,
             "#f0f921"
            ]
           ]
          },
          "colorway": [
           "#636efa",
           "#EF553B",
           "#00cc96",
           "#ab63fa",
           "#FFA15A",
           "#19d3f3",
           "#FF6692",
           "#B6E880",
           "#FF97FF",
           "#FECB52"
          ],
          "font": {
           "color": "#2a3f5f"
          },
          "geo": {
           "bgcolor": "white",
           "lakecolor": "white",
           "landcolor": "#E5ECF6",
           "showlakes": true,
           "showland": true,
           "subunitcolor": "white"
          },
          "hoverlabel": {
           "align": "left"
          },
          "hovermode": "closest",
          "mapbox": {
           "style": "light"
          },
          "paper_bgcolor": "white",
          "plot_bgcolor": "#E5ECF6",
          "polar": {
           "angularaxis": {
            "gridcolor": "white",
            "linecolor": "white",
            "ticks": ""
           },
           "bgcolor": "#E5ECF6",
           "radialaxis": {
            "gridcolor": "white",
            "linecolor": "white",
            "ticks": ""
           }
          },
          "scene": {
           "xaxis": {
            "backgroundcolor": "#E5ECF6",
            "gridcolor": "white",
            "gridwidth": 2,
            "linecolor": "white",
            "showbackground": true,
            "ticks": "",
            "zerolinecolor": "white"
           },
           "yaxis": {
            "backgroundcolor": "#E5ECF6",
            "gridcolor": "white",
            "gridwidth": 2,
            "linecolor": "white",
            "showbackground": true,
            "ticks": "",
            "zerolinecolor": "white"
           },
           "zaxis": {
            "backgroundcolor": "#E5ECF6",
            "gridcolor": "white",
            "gridwidth": 2,
            "linecolor": "white",
            "showbackground": true,
            "ticks": "",
            "zerolinecolor": "white"
           }
          },
          "shapedefaults": {
           "line": {
            "color": "#2a3f5f"
           }
          },
          "ternary": {
           "aaxis": {
            "gridcolor": "white",
            "linecolor": "white",
            "ticks": ""
           },
           "baxis": {
            "gridcolor": "white",
            "linecolor": "white",
            "ticks": ""
           },
           "bgcolor": "#E5ECF6",
           "caxis": {
            "gridcolor": "white",
            "linecolor": "white",
            "ticks": ""
           }
          },
          "title": {
           "x": 0.05
          },
          "xaxis": {
           "automargin": true,
           "gridcolor": "white",
           "linecolor": "white",
           "ticks": "",
           "title": {
            "standoff": 15
           },
           "zerolinecolor": "white",
           "zerolinewidth": 2
          },
          "yaxis": {
           "automargin": true,
           "gridcolor": "white",
           "linecolor": "white",
           "ticks": "",
           "title": {
            "standoff": 15
           },
           "zerolinecolor": "white",
           "zerolinewidth": 2
          }
         }
        },
        "xaxis": {
         "showspikes": true
        },
        "yaxis": {
         "showspikes": true
        }
       },
       "_model_module_version": "4.6.0",
       "_py2js_addTraces": {},
       "_py2js_animate": {},
       "_py2js_deleteTraces": {},
       "_py2js_moveTraces": {},
       "_py2js_removeLayoutProps": {},
       "_py2js_removeTraceProps": {},
       "_py2js_restyle": {},
       "_py2js_update": {},
       "_view_count": 2,
       "_view_module_version": "4.6.0"
      }
     },
     "231e15782e8b40aea1145ad7ae13560a": {
      "model_module": "@jupyter-widgets/base",
      "model_module_version": "1.2.0",
      "model_name": "LayoutModel",
      "state": {}
     },
     "23687ccc51c343c0855b6cdb808ddeb8": {
      "buffers": [
       {
        "data": "AAAAAMwiNkEAAAAA9CM2QQAAAAACJTZBAAAAALoqNkEAAAAAxCo2QQAAAACMNDZBAAAAACI4NkEAAAAARjs2QQAAAACKQzZBAAAAAJxHNkEAAAAAnks2QQAAAAAyTzZBAAAAANZSNkEAAAAAnlU2QQAAAADsVzZBAAAAADRbNkEAAAAAamg2QQAAAAA8bTZBAAAAABx2NkEAAAAAso02QQAAAABAtDZBAAAAABbDNkEAAAAAlsM2QQAAAAAWyzZBAAAAAPDRNkEAAAAAgtI2QQAAAAAC1zZBAAAAAATYNkEAAAAAUPY2QQAAAACmEDdBAAAAAOI/N0EAAAAA2EA3QQAAAAC8WDdBAAAAAGirN0EAAAAAIMc3QQAAAABi1TdBAAAAAADhN0EAAAAAVuU3QQAAAAB05jdBAAAAAGTqN0EAAAAA8Os3QQAAAAAU8DdBAAAAAHDwN0EAAAAAhvI3QQAAAACW+TdBAAAAAB4XOEEAAAAAjhc4QQAAAAAyYzhBAAAAAJh/OUEAAAAA4MQ6QQAAAACQSj1BAAAAAER8QEEAAAAAXd1DQQAAAABeeE5BAAAAgMt1X0EAAAAAlH5mQQAAAIDZzm5BAAAAAPVVcUEAAACggyNyQQAAAEDnR3JBAAAAQOdHckE=",
        "encoding": "base64",
        "path": [
         "_data",
         0,
         "y",
         "value"
        ]
       },
       {
        "data": "AAAAAAcFTEEAAAAArQ5MQQAAAADlEExBAAAAACIVTEEAAAAAgxVMQQAAAACXF0xBAAAAAIsbTEEAAAAAQR1MQQAAAAAkHkxBAAAAADogTEEAAAAA/SJMQQAAAADgI0xBAAAAAAEnTEEAAAAAWCdMQQAAAACTKExBAAAAAHIsTEEAAAAAgzRMQQAAAACNN0xBAAAAAF1CTEEAAAAAfkRMQQAAAADbRExBAAAAAA9HTEEAAAAA9EdMQQAAAACDXExBAAAAAKheTEEAAAAAyWJMQQAAAACTZExBAAAAAHplTEEAAAAALGZMQQAAAAAiZ0xBAAAAABRrTEEAAAAALm1MQQAAAAAncExBAAAAAM51TEEAAAAA3HVMQQAAAACNd0xBAAAAAG95TEEAAAAA5HpMQQAAAACqgUxBAAAAADqDTEEAAAAAJZRMQQAAAAANm0xBAAAAAOPPTEEAAAAAa+VMQQAAAAATBk1BAAAAALxATUEAAAAA6K5NQQAAAADL6E1BAAAAAJ6PTkEAAAAAN05PQQAAAAAKVlBBAAAAAB1aUUEAAAAAcilTQQAAAICimVhBAAAAAN6NZEEAAADALZJrQQAAAEB2AXJBAAAAILjzc0EAAABgmcJ0QQAAAAD95nRBAAAAAP3mdEE=",
        "encoding": "base64",
        "path": [
         "_data",
         1,
         "y",
         "value"
        ]
       }
      ],
      "model_module": "plotlywidget",
      "model_module_version": "4.6.0",
      "model_name": "FigureModel",
      "state": {
       "_config": {
        "plotlyServerURL": "https://plot.ly"
       },
       "_data": [
        {
         "hovertemplate": "%{text}",
         "name": "False",
         "showlegend": true,
         "text": [
          "Scene:cones<br>match:28<br>bad4: 0.33889637730500394<br>",
          "Scene:cones<br>match:29<br>bad4: 0.34020955213095616<br>",
          "Scene:cones<br>match:24<br>bad4: 0.3320525825771577<br>",
          "Scene:cones<br>match:30<br>bad4: 0.3404110445645679<br>",
          "Scene:cones<br>match:31<br>bad4: 0.3407514972972222<br>",
          "Scene:cones<br>match:32<br>bad4: 0.34155746703166906<br>",
          "Scene:cones<br>match:27<br>bad4: 0.3391881939329933<br>",
          "Scene:cones<br>match:25<br>bad4: 0.3350193849617165<br>",
          "Scene:cones<br>match:22<br>bad4: 0.332177646846296<br>",
          "Scene:cones<br>match:23<br>bad4: 0.33205953059210985<br>",
          "Scene:cones<br>match:35<br>bad4: 0.3458582882870364<br>",
          "Scene:cones<br>match:26<br>bad4: 0.33923683003765825<br>",
          "Scene:cones<br>match:34<br>bad4: 0.3456081597487598<br>",
          "Scene:cones<br>match:33<br>bad4: 0.34535803121048314<br>",
          "Scene:cones<br>match:20<br>bad4: 0.32867584731042343<br>",
          "Scene:cones<br>match:21<br>bad4: 0.33109375651376394<br>",
          "Scene:cones<br>match:18<br>bad4: 0.3223739977488432<br>",
          "Scene:cones<br>match:19<br>bad4: 0.32696663563219985<br>",
          "Scene:cones<br>match:36<br>bad4: 0.3485124299987494<br>",
          "Scene:cones<br>match:37<br>bad4: 0.35163903672720703<br>",
          "Scene:cones<br>match:38<br>bad4: 0.35437655461834555<br>",
          "Scene:cones<br>match:39<br>bad4: 0.3555507691452552<br>",
          "Scene:cones<br>match:17<br>bad4: 0.32074121423509305<br>",
          "Scene:cones<br>match:41<br>bad4: 0.3599002265052874<br>",
          "Scene:cones<br>match:43<br>bad4: 0.3632422216972611<br>",
          "Scene:cones<br>match:16<br>bad4: 0.31803843641871515<br>",
          "Scene:cones<br>match:42<br>bad4: 0.3633255978766866<br>",
          "Scene:cones<br>match:40<br>bad4: 0.3594625015633033<br>",
          "Scene:cones<br>match:15<br>bad4: 0.3164820810694385<br>",
          "Scene:cones<br>match:44<br>bad4: 0.36705668190597945<br>",
          "Scene:cones<br>match:45<br>bad4: 0.37258035379292137<br>",
          "Scene:cones<br>match:46<br>bad4: 0.37369203618526187<br>",
          "Scene:cones<br>match:14<br>bad4: 0.3172394146992205<br>",
          "Scene:cones<br>match:47<br>bad4: 0.3770340313772355<br>",
          "Scene:cones<br>match:48<br>bad4: 0.3787362950405069<br>",
          "Scene:cones<br>match:49<br>bad4: 0.379771549268374<br>",
          "Scene:cones<br>match:51<br>bad4: 0.3839125661798424<br>",
          "Scene:cones<br>match:53<br>bad4: 0.3859413865458639<br>",
          "Scene:cones<br>match:52<br>bad4: 0.3840862665536456<br>",
          "Scene:cones<br>match:54<br>bad4: 0.38681683642983206<br>",
          "Scene:cones<br>match:58<br>bad4: 0.3922501841223962<br>",
          "Scene:cones<br>match:50<br>bad4: 0.3835443213873797<br>",
          "Scene:cones<br>match:56<br>bad4: 0.3892208496032684<br>",
          "Scene:cones<br>match:57<br>bad4: 0.39008240345733225<br>",
          "Scene:cones<br>match:55<br>bad4: 0.3882481275099704<br>",
          "Scene:cones<br>match:13<br>bad4: 0.3175103872823534<br>",
          "Scene:cones<br>match:59<br>bad4: 0.3946403012659283<br>",
          "Scene:cones<br>match:12<br>bad4: 0.3120492475299807<br>",
          "Scene:cones<br>match:11<br>bad4: 0.3102705557022359<br>",
          "Scene:cones<br>match:10<br>bad4: 0.31289690535414033<br>",
          "Scene:cones<br>match:9<br>bad4: 0.3182746689270876<br>",
          "Scene:cones<br>match:8<br>bad4: 0.32288815085530065<br>",
          "Scene:cones<br>match:7<br>bad4: 0.3410155218654031<br>",
          "Scene:cones<br>match:6<br>bad4: 0.39581451579283794<br>",
          "Scene:cones<br>match:5<br>bad4: 0.5734266220140906<br>",
          "Scene:cones<br>match:4<br>bad4: 0.7187999388574684<br>",
          "Scene:cones<br>match:3<br>bad4: 0.8711351666828787<br>",
          "Scene:cones<br>match:2<br>bad4: 0.9520656448452676<br>",
          "Scene:cones<br>match:1<br>bad4: 0.9934271778552868<br>",
          "Scene:cones<br>match:0<br>bad4: 1.0<br>",
          "Scene:cones<br>match:0<br>bad4: 1.0<br>"
         ],
         "type": "scatter",
         "uid": "bea87fed-4cee-4a63-a907-cfc14f098cfe",
         "x": [
          28,
          29,
          24,
          30,
          31,
          32,
          27,
          25,
          22,
          23,
          35,
          26,
          34,
          33,
          20,
          21,
          18,
          19,
          36,
          37,
          38,
          39,
          17,
          41,
          43,
          16,
          42,
          40,
          15,
          44,
          45,
          46,
          14,
          47,
          48,
          49,
          51,
          53,
          52,
          54,
          58,
          50,
          56,
          57,
          55,
          13,
          59,
          12,
          11,
          10,
          9,
          8,
          7,
          6,
          5,
          4,
          3,
          2,
          1,
          0,
          0
         ],
         "y": {
          "dtype": "float64",
          "shape": [
           61
          ],
          "value": {}
         }
        },
        {
         "hovertemplate": "%{text}",
         "name": "True",
         "showlegend": true,
         "text": [
          "Scene:cones<br>match:35<br>bad4: 0.4183540389784535<br>",
          "Scene:cones<br>match:34<br>bad4: 0.41821933492937213<br>",
          "Scene:cones<br>match:32<br>bad4: 0.4147598900325127<br>",
          "Scene:cones<br>match:31<br>bad4: 0.4140741239644625<br>",
          "Scene:cones<br>match:33<br>bad4: 0.418035647589716<br>",
          "Scene:cones<br>match:36<br>bad4: 0.4206501307241568<br>",
          "Scene:cones<br>match:37<br>bad4: 0.4233564575284256<br>",
          "Scene:cones<br>match:30<br>bad4: 0.41390880535877206<br>",
          "Scene:cones<br>match:43<br>bad4: 0.43325108222457615<br>",
          "Scene:cones<br>match:29<br>bad4: 0.4137924700436564<br>",
          "Scene:cones<br>match:41<br>bad4: 0.4303182077013977<br>",
          "Scene:cones<br>match:42<br>bad4: 0.433355171717048<br>",
          "Scene:cones<br>match:38<br>bad4: 0.4257199012986695<br>",
          "Scene:cones<br>match:39<br>bad4: 0.4266077234403414<br>",
          "Scene:cones<br>match:28<br>bad4: 0.41272096056232815<br>",
          "Scene:cones<br>match:40<br>bad4: 0.4300365537805916<br>",
          "Scene:cones<br>match:27<br>bad4: 0.41299649157181256<br>",
          "Scene:cones<br>match:44<br>bad4: 0.43662480636292944<br>",
          "Scene:cones<br>match:46<br>bad4: 0.4424783095866423<br>",
          "Scene:cones<br>match:26<br>bad4: 0.4130515977737094<br>",
          "Scene:cones<br>match:45<br>bad4: 0.4415231354204297<br>",
          "Scene:cones<br>match:24<br>bad4: 0.40678785949143104<br>",
          "Scene:cones<br>match:25<br>bad4: 0.4093349906013311<br>",
          "Scene:cones<br>match:58<br>bad4: 0.4585693205405306<br>",
          "Scene:cones<br>match:23<br>bad4: 0.4068001053140747<br>",
          "Scene:cones<br>match:57<br>bad4: 0.4567018325873586<br>",
          "Scene:cones<br>match:56<br>bad4: 0.4559303457608023<br>",
          "Scene:cones<br>match:22<br>bad4: 0.4069041948065466<br>",
          "Scene:cones<br>match:59<br>bad4: 0.460663356212612<br>",
          "Scene:cones<br>match:54<br>bad4: 0.4538056955321116<br>",
          "Scene:cones<br>match:55<br>bad4: 0.4550608923530961<br>",
          "Scene:cones<br>match:53<br>bad4: 0.4532117731338897<br>",
          "Scene:cones<br>match:47<br>bad4: 0.4454601674003955<br>",
          "Scene:cones<br>match:51<br>bad4: 0.451478989229799<br>",
          "Scene:cones<br>match:52<br>bad4: 0.4515830787222709<br>",
          "Scene:cones<br>match:48<br>bad4: 0.44697864940822063<br>",
          "Scene:cones<br>match:21<br>bad4: 0.4060714788667716<br>",
          "Scene:cones<br>match:49<br>bad4: 0.4478725944612144<br>",
          "Scene:cones<br>match:50<br>bad4: 0.4511789665750271<br>",
          "Scene:cones<br>match:20<br>bad4: 0.4041243930664152<br>",
          "Scene:cones<br>match:19<br>bad4: 0.40259978814726827<br>",
          "Scene:cones<br>match:18<br>bad4: 0.3987117394578774<br>",
          "Scene:cones<br>match:17<br>bad4: 0.3972973469425242<br>",
          "Scene:cones<br>match:16<br>bad4: 0.3949951322854991<br>",
          "Scene:cones<br>match:15<br>bad4: 0.3937093209079053<br>",
          "Scene:cones<br>match:14<br>bad4: 0.3943828411533116<br>",
          "Scene:cones<br>match:13<br>bad4: 0.3947440929213023<br>",
          "Scene:cones<br>match:12<br>bad4: 0.3900049595581707<br>",
          "Scene:cones<br>match:11<br>bad4: 0.3885232150182769<br>",
          "Scene:cones<br>match:10<br>bad4: 0.3910948377734645<br>",
          "Scene:cones<br>match:9<br>bad4: 0.3958890773384929<br>",
          "Scene:cones<br>match:8<br>bad4: 0.4001138861505869<br>",
          "Scene:cones<br>match:7<br>bad4: 0.4164498135573502<br>",
          "Scene:cones<br>match:6<br>bad4: 0.465133081477581<br>",
          "Scene:cones<br>match:5<br>bad4: 0.6224735337158112<br>",
          "Scene:cones<br>match:4<br>bad4: 0.7514955210903681<br>",
          "Scene:cones<br>match:3<br>bad4: 0.8862730451074877<br>",
          "Scene:cones<br>match:2<br>bad4: 0.9577212973224508<br>",
          "Scene:cones<br>match:1<br>bad4: 0.994207725889506<br>",
          "Scene:cones<br>match:0<br>bad4: 1.0<br>",
          "Scene:cones<br>match:0<br>bad4: 1.0<br>"
         ],
         "type": "scatter",
         "uid": "52e82c24-2070-49cf-949a-07ead28147fc",
         "x": [
          35,
          34,
          32,
          31,
          33,
          36,
          37,
          30,
          43,
          29,
          41,
          42,
          38,
          39,
          28,
          40,
          27,
          44,
          46,
          26,
          45,
          24,
          25,
          58,
          23,
          57,
          56,
          22,
          59,
          54,
          55,
          53,
          47,
          51,
          52,
          48,
          21,
          49,
          50,
          20,
          19,
          18,
          17,
          16,
          15,
          14,
          13,
          12,
          11,
          10,
          9,
          8,
          7,
          6,
          5,
          4,
          3,
          2,
          1,
          0,
          0
         ],
         "y": {
          "dtype": "float64",
          "shape": [
           61
          ],
          "value": {}
         }
        }
       ],
       "_js2py_restyle": {},
       "_js2py_update": {},
       "_last_layout_edit_id": 1,
       "_layout": {
        "autosize": true,
        "legend": {
         "title": {
          "text": "are_occlusions_errors"
         }
        },
        "template": {
         "data": {
          "bar": [
           {
            "error_x": {
             "color": "#2a3f5f"
            },
            "error_y": {
             "color": "#2a3f5f"
            },
            "marker": {
             "line": {
              "color": "#E5ECF6",
              "width": 0.5
             }
            },
            "type": "bar"
           }
          ],
          "barpolar": [
           {
            "marker": {
             "line": {
              "color": "#E5ECF6",
              "width": 0.5
             }
            },
            "type": "barpolar"
           }
          ],
          "carpet": [
           {
            "aaxis": {
             "endlinecolor": "#2a3f5f",
             "gridcolor": "white",
             "linecolor": "white",
             "minorgridcolor": "white",
             "startlinecolor": "#2a3f5f"
            },
            "baxis": {
             "endlinecolor": "#2a3f5f",
             "gridcolor": "white",
             "linecolor": "white",
             "minorgridcolor": "white",
             "startlinecolor": "#2a3f5f"
            },
            "type": "carpet"
           }
          ],
          "choropleth": [
           {
            "colorbar": {
             "outlinewidth": 0,
             "ticks": ""
            },
            "type": "choropleth"
           }
          ],
          "contour": [
           {
            "colorbar": {
             "outlinewidth": 0,
             "ticks": ""
            },
            "colorscale": [
             [
              0,
              "#0d0887"
             ],
             [
              0.1111111111111111,
              "#46039f"
             ],
             [
              0.2222222222222222,
              "#7201a8"
             ],
             [
              0.3333333333333333,
              "#9c179e"
             ],
             [
              0.4444444444444444,
              "#bd3786"
             ],
             [
              0.5555555555555556,
              "#d8576b"
             ],
             [
              0.6666666666666666,
              "#ed7953"
             ],
             [
              0.7777777777777778,
              "#fb9f3a"
             ],
             [
              0.8888888888888888,
              "#fdca26"
             ],
             [
              1,
              "#f0f921"
             ]
            ],
            "type": "contour"
           }
          ],
          "contourcarpet": [
           {
            "colorbar": {
             "outlinewidth": 0,
             "ticks": ""
            },
            "type": "contourcarpet"
           }
          ],
          "heatmap": [
           {
            "colorbar": {
             "outlinewidth": 0,
             "ticks": ""
            },
            "colorscale": [
             [
              0,
              "#0d0887"
             ],
             [
              0.1111111111111111,
              "#46039f"
             ],
             [
              0.2222222222222222,
              "#7201a8"
             ],
             [
              0.3333333333333333,
              "#9c179e"
             ],
             [
              0.4444444444444444,
              "#bd3786"
             ],
             [
              0.5555555555555556,
              "#d8576b"
             ],
             [
              0.6666666666666666,
              "#ed7953"
             ],
             [
              0.7777777777777778,
              "#fb9f3a"
             ],
             [
              0.8888888888888888,
              "#fdca26"
             ],
             [
              1,
              "#f0f921"
             ]
            ],
            "type": "heatmap"
           }
          ],
          "heatmapgl": [
           {
            "colorbar": {
             "outlinewidth": 0,
             "ticks": ""
            },
            "colorscale": [
             [
              0,
              "#0d0887"
             ],
             [
              0.1111111111111111,
              "#46039f"
             ],
             [
              0.2222222222222222,
              "#7201a8"
             ],
             [
              0.3333333333333333,
              "#9c179e"
             ],
             [
              0.4444444444444444,
              "#bd3786"
             ],
             [
              0.5555555555555556,
              "#d8576b"
             ],
             [
              0.6666666666666666,
              "#ed7953"
             ],
             [
              0.7777777777777778,
              "#fb9f3a"
             ],
             [
              0.8888888888888888,
              "#fdca26"
             ],
             [
              1,
              "#f0f921"
             ]
            ],
            "type": "heatmapgl"
           }
          ],
          "histogram": [
           {
            "marker": {
             "colorbar": {
              "outlinewidth": 0,
              "ticks": ""
             }
            },
            "type": "histogram"
           }
          ],
          "histogram2d": [
           {
            "colorbar": {
             "outlinewidth": 0,
             "ticks": ""
            },
            "colorscale": [
             [
              0,
              "#0d0887"
             ],
             [
              0.1111111111111111,
              "#46039f"
             ],
             [
              0.2222222222222222,
              "#7201a8"
             ],
             [
              0.3333333333333333,
              "#9c179e"
             ],
             [
              0.4444444444444444,
              "#bd3786"
             ],
             [
              0.5555555555555556,
              "#d8576b"
             ],
             [
              0.6666666666666666,
              "#ed7953"
             ],
             [
              0.7777777777777778,
              "#fb9f3a"
             ],
             [
              0.8888888888888888,
              "#fdca26"
             ],
             [
              1,
              "#f0f921"
             ]
            ],
            "type": "histogram2d"
           }
          ],
          "histogram2dcontour": [
           {
            "colorbar": {
             "outlinewidth": 0,
             "ticks": ""
            },
            "colorscale": [
             [
              0,
              "#0d0887"
             ],
             [
              0.1111111111111111,
              "#46039f"
             ],
             [
              0.2222222222222222,
              "#7201a8"
             ],
             [
              0.3333333333333333,
              "#9c179e"
             ],
             [
              0.4444444444444444,
              "#bd3786"
             ],
             [
              0.5555555555555556,
              "#d8576b"
             ],
             [
              0.6666666666666666,
              "#ed7953"
             ],
             [
              0.7777777777777778,
              "#fb9f3a"
             ],
             [
              0.8888888888888888,
              "#fdca26"
             ],
             [
              1,
              "#f0f921"
             ]
            ],
            "type": "histogram2dcontour"
           }
          ],
          "mesh3d": [
           {
            "colorbar": {
             "outlinewidth": 0,
             "ticks": ""
            },
            "type": "mesh3d"
           }
          ],
          "parcoords": [
           {
            "line": {
             "colorbar": {
              "outlinewidth": 0,
              "ticks": ""
             }
            },
            "type": "parcoords"
           }
          ],
          "pie": [
           {
            "automargin": true,
            "type": "pie"
           }
          ],
          "scatter": [
           {
            "marker": {
             "colorbar": {
              "outlinewidth": 0,
              "ticks": ""
             }
            },
            "type": "scatter"
           }
          ],
          "scatter3d": [
           {
            "line": {
             "colorbar": {
              "outlinewidth": 0,
              "ticks": ""
             }
            },
            "marker": {
             "colorbar": {
              "outlinewidth": 0,
              "ticks": ""
             }
            },
            "type": "scatter3d"
           }
          ],
          "scattercarpet": [
           {
            "marker": {
             "colorbar": {
              "outlinewidth": 0,
              "ticks": ""
             }
            },
            "type": "scattercarpet"
           }
          ],
          "scattergeo": [
           {
            "marker": {
             "colorbar": {
              "outlinewidth": 0,
              "ticks": ""
             }
            },
            "type": "scattergeo"
           }
          ],
          "scattergl": [
           {
            "marker": {
             "colorbar": {
              "outlinewidth": 0,
              "ticks": ""
             }
            },
            "type": "scattergl"
           }
          ],
          "scattermapbox": [
           {
            "marker": {
             "colorbar": {
              "outlinewidth": 0,
              "ticks": ""
             }
            },
            "type": "scattermapbox"
           }
          ],
          "scatterpolar": [
           {
            "marker": {
             "colorbar": {
              "outlinewidth": 0,
              "ticks": ""
             }
            },
            "type": "scatterpolar"
           }
          ],
          "scatterpolargl": [
           {
            "marker": {
             "colorbar": {
              "outlinewidth": 0,
              "ticks": ""
             }
            },
            "type": "scatterpolargl"
           }
          ],
          "scatterternary": [
           {
            "marker": {
             "colorbar": {
              "outlinewidth": 0,
              "ticks": ""
             }
            },
            "type": "scatterternary"
           }
          ],
          "surface": [
           {
            "colorbar": {
             "outlinewidth": 0,
             "ticks": ""
            },
            "colorscale": [
             [
              0,
              "#0d0887"
             ],
             [
              0.1111111111111111,
              "#46039f"
             ],
             [
              0.2222222222222222,
              "#7201a8"
             ],
             [
              0.3333333333333333,
              "#9c179e"
             ],
             [
              0.4444444444444444,
              "#bd3786"
             ],
             [
              0.5555555555555556,
              "#d8576b"
             ],
             [
              0.6666666666666666,
              "#ed7953"
             ],
             [
              0.7777777777777778,
              "#fb9f3a"
             ],
             [
              0.8888888888888888,
              "#fdca26"
             ],
             [
              1,
              "#f0f921"
             ]
            ],
            "type": "surface"
           }
          ],
          "table": [
           {
            "cells": {
             "fill": {
              "color": "#EBF0F8"
             },
             "line": {
              "color": "white"
             }
            },
            "header": {
             "fill": {
              "color": "#C8D4E3"
             },
             "line": {
              "color": "white"
             }
            },
            "type": "table"
           }
          ]
         },
         "layout": {
          "annotationdefaults": {
           "arrowcolor": "#2a3f5f",
           "arrowhead": 0,
           "arrowwidth": 1
          },
          "coloraxis": {
           "colorbar": {
            "outlinewidth": 0,
            "ticks": ""
           }
          },
          "colorscale": {
           "diverging": [
            [
             0,
             "#8e0152"
            ],
            [
             0.1,
             "#c51b7d"
            ],
            [
             0.2,
             "#de77ae"
            ],
            [
             0.3,
             "#f1b6da"
            ],
            [
             0.4,
             "#fde0ef"
            ],
            [
             0.5,
             "#f7f7f7"
            ],
            [
             0.6,
             "#e6f5d0"
            ],
            [
             0.7,
             "#b8e186"
            ],
            [
             0.8,
             "#7fbc41"
            ],
            [
             0.9,
             "#4d9221"
            ],
            [
             1,
             "#276419"
            ]
           ],
           "sequential": [
            [
             0,
             "#0d0887"
            ],
            [
             0.1111111111111111,
             "#46039f"
            ],
            [
             0.2222222222222222,
             "#7201a8"
            ],
            [
             0.3333333333333333,
             "#9c179e"
            ],
            [
             0.4444444444444444,
             "#bd3786"
            ],
            [
             0.5555555555555556,
             "#d8576b"
            ],
            [
             0.6666666666666666,
             "#ed7953"
            ],
            [
             0.7777777777777778,
             "#fb9f3a"
            ],
            [
             0.8888888888888888,
             "#fdca26"
            ],
            [
             1,
             "#f0f921"
            ]
           ],
           "sequentialminus": [
            [
             0,
             "#0d0887"
            ],
            [
             0.1111111111111111,
             "#46039f"
            ],
            [
             0.2222222222222222,
             "#7201a8"
            ],
            [
             0.3333333333333333,
             "#9c179e"
            ],
            [
             0.4444444444444444,
             "#bd3786"
            ],
            [
             0.5555555555555556,
             "#d8576b"
            ],
            [
             0.6666666666666666,
             "#ed7953"
            ],
            [
             0.7777777777777778,
             "#fb9f3a"
            ],
            [
             0.8888888888888888,
             "#fdca26"
            ],
            [
             1,
             "#f0f921"
            ]
           ]
          },
          "colorway": [
           "#636efa",
           "#EF553B",
           "#00cc96",
           "#ab63fa",
           "#FFA15A",
           "#19d3f3",
           "#FF6692",
           "#B6E880",
           "#FF97FF",
           "#FECB52"
          ],
          "font": {
           "color": "#2a3f5f"
          },
          "geo": {
           "bgcolor": "white",
           "lakecolor": "white",
           "landcolor": "#E5ECF6",
           "showlakes": true,
           "showland": true,
           "subunitcolor": "white"
          },
          "hoverlabel": {
           "align": "left"
          },
          "hovermode": "closest",
          "mapbox": {
           "style": "light"
          },
          "paper_bgcolor": "white",
          "plot_bgcolor": "#E5ECF6",
          "polar": {
           "angularaxis": {
            "gridcolor": "white",
            "linecolor": "white",
            "ticks": ""
           },
           "bgcolor": "#E5ECF6",
           "radialaxis": {
            "gridcolor": "white",
            "linecolor": "white",
            "ticks": ""
           }
          },
          "scene": {
           "xaxis": {
            "backgroundcolor": "#E5ECF6",
            "gridcolor": "white",
            "gridwidth": 2,
            "linecolor": "white",
            "showbackground": true,
            "ticks": "",
            "zerolinecolor": "white"
           },
           "yaxis": {
            "backgroundcolor": "#E5ECF6",
            "gridcolor": "white",
            "gridwidth": 2,
            "linecolor": "white",
            "showbackground": true,
            "ticks": "",
            "zerolinecolor": "white"
           },
           "zaxis": {
            "backgroundcolor": "#E5ECF6",
            "gridcolor": "white",
            "gridwidth": 2,
            "linecolor": "white",
            "showbackground": true,
            "ticks": "",
            "zerolinecolor": "white"
           }
          },
          "shapedefaults": {
           "line": {
            "color": "#2a3f5f"
           }
          },
          "ternary": {
           "aaxis": {
            "gridcolor": "white",
            "linecolor": "white",
            "ticks": ""
           },
           "baxis": {
            "gridcolor": "white",
            "linecolor": "white",
            "ticks": ""
           },
           "bgcolor": "#E5ECF6",
           "caxis": {
            "gridcolor": "white",
            "linecolor": "white",
            "ticks": ""
           }
          },
          "title": {
           "x": 0.05
          },
          "xaxis": {
           "automargin": true,
           "gridcolor": "white",
           "linecolor": "white",
           "ticks": "",
           "title": {
            "standoff": 15
           },
           "zerolinecolor": "white",
           "zerolinewidth": 2
          },
          "yaxis": {
           "automargin": true,
           "gridcolor": "white",
           "linecolor": "white",
           "ticks": "",
           "title": {
            "standoff": 15
           },
           "zerolinecolor": "white",
           "zerolinewidth": 2
          }
         }
        },
        "xaxis": {
         "showspikes": true
        },
        "yaxis": {
         "showspikes": true
        }
       },
       "_model_module_version": "4.6.0",
       "_py2js_addTraces": {},
       "_py2js_animate": {},
       "_py2js_deleteTraces": {},
       "_py2js_moveTraces": {},
       "_py2js_removeLayoutProps": {},
       "_py2js_removeTraceProps": {},
       "_py2js_restyle": {},
       "_py2js_update": {},
       "_view_count": 1,
       "_view_module_version": "4.6.0"
      }
     },
     "2df9623546fe4f4b87c48d60d5768c68": {
      "model_module": "@jupyter-widgets/controls",
      "model_module_version": "1.5.0",
      "model_name": "VBoxModel",
      "state": {
       "children": [
        "IPY_MODEL_53802ddc6f1240c192988d972041454d",
        "IPY_MODEL_0be0b3a633dc4c19ba476d5448807e8f"
       ],
       "layout": "IPY_MODEL_d8d78c2e2bb2453f91394de247babb1f"
      }
     },
     "2e13fe2e05164e6699a8fe976db34f2b": {
      "model_module": "@jupyter-widgets/controls",
      "model_module_version": "1.5.0",
      "model_name": "HBoxModel",
      "state": {
       "children": [
        "IPY_MODEL_fa18f36231af40c5ac7e03e807158378",
        "IPY_MODEL_bda5f570aee242dc939fe5e8135baef3"
       ],
       "layout": "IPY_MODEL_e0c7fbeb0dc64339a29527c2464d5767"
      }
     },
     "33b8b3d4274241e9ae9c6c38b3687929": {
      "model_module": "@jupyter-widgets/controls",
      "model_module_version": "1.5.0",
      "model_name": "DescriptionStyleModel",
      "state": {
       "description_width": ""
      }
     },
     "38856689374d4354afc078ce671b004c": {
      "model_module": "@jupyter-widgets/base",
      "model_module_version": "1.2.0",
      "model_name": "LayoutModel",
      "state": {}
     },
     "39182d5b8b5f41129fb0db54d2126103": {
      "model_module": "@jupyter-widgets/controls",
      "model_module_version": "1.5.0",
      "model_name": "DescriptionStyleModel",
      "state": {
       "description_width": ""
      }
     },
     "3cfc212eb79b4d4ca80000fcc28034e2": {
      "model_module": "@jupyter-widgets/base",
      "model_module_version": "1.2.0",
      "model_name": "LayoutModel",
      "state": {}
     },
     "3cfe4a212adf41f5a2e2b1b021fd2e33": {
      "model_module": "@jupyter-widgets/controls",
      "model_module_version": "1.5.0",
      "model_name": "HBoxModel",
      "state": {
       "children": [
        "IPY_MODEL_0c2cd74886bd474b89531fe52b0a3423",
        "IPY_MODEL_bda5f570aee242dc939fe5e8135baef3"
       ],
       "layout": "IPY_MODEL_3cfc212eb79b4d4ca80000fcc28034e2"
      }
     },
     "3f98f6237616424d868e28315fa5442e": {
      "model_module": "@jupyter-widgets/base",
      "model_module_version": "1.2.0",
      "model_name": "LayoutModel",
      "state": {}
     },
     "3ffc7ceedf9b43a08908d64d1a4bb1d8": {
      "model_module": "@jupyter-widgets/controls",
      "model_module_version": "1.5.0",
      "model_name": "DescriptionStyleModel",
      "state": {
       "description_width": ""
      }
     },
     "4a3886e5adae44a8a76957932afce6a0": {
      "model_module": "@jupyter-widgets/controls",
      "model_module_version": "1.5.0",
      "model_name": "DescriptionStyleModel",
      "state": {
       "description_width": ""
      }
     },
     "4c92f82fba97445fb949d1352dff6c9e": {
      "model_module": "@jupyter-widgets/base",
      "model_module_version": "1.2.0",
      "model_name": "LayoutModel",
      "state": {}
     },
     "4d005f75a91d4d189f3b4f5bc4359bdb": {
      "buffers": [
       {
        "data": "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",
        "encoding": "base64",
        "path": [
         "value"
        ]
       }
      ],
      "model_module": "@jupyter-widgets/controls",
      "model_module_version": "1.5.0",
      "model_name": "ImageModel",
      "state": {
       "layout": "IPY_MODEL_952ceddcbedc42ab897d23c6a6c29f8b",
       "value": {}
      }
     },
     "53147c38e19d4a78b61dfe1347c114b8": {
      "model_module": "@jupyter-widgets/base",
      "model_module_version": "1.2.0",
      "model_name": "LayoutModel",
      "state": {}
     },
     "53802ddc6f1240c192988d972041454d": {
      "model_module": "@jupyter-widgets/controls",
      "model_module_version": "1.5.0",
      "model_name": "DropdownModel",
      "state": {
       "_options_labels": [
        "ALG_004_EXP_001-Baseline-MacLean_et_al-Numba.csv",
        "ALG_004_EXP_002-Baseline-MacLean_et_al-Numba_param_search.csv"
       ],
       "description": "CSV Log file:",
       "index": 1,
       "layout": "IPY_MODEL_13bf2f8658fd4d788e1ce643efe7a2de",
       "style": "IPY_MODEL_df83e313565040c69b1e895826065749"
      }
     },
     "56d32868885049b2b4334142547d1dfa": {
      "model_module": "@jupyter-widgets/base",
      "model_module_version": "1.2.0",
      "model_name": "LayoutModel",
      "state": {}
     },
     "5a570d64c8784d95866870948720a408": {
      "buffers": [
       {
        "data": "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",
        "encoding": "base64",
        "path": [
         "value"
        ]
       }
      ],
      "model_module": "@jupyter-widgets/controls",
      "model_module_version": "1.5.0",
      "model_name": "ImageModel",
      "state": {
       "layout": "IPY_MODEL_8ca9f752178f434fb7e51f4fcf1fb634",
       "value": {}
      }
     },
     "5aaee0e127c54e83a2924b76140e2bbc": {
      "model_module": "@jupyter-widgets/base",
      "model_module_version": "1.2.0",
      "model_name": "LayoutModel",
      "state": {
       "height": "375px",
       "width": "450px"
      }
     },
     "5f05003aa1774a6d8cdf928148ec04ca": {
      "model_module": "@jupyter-widgets/base",
      "model_module_version": "1.2.0",
      "model_name": "LayoutModel",
      "state": {}
     },
     "60f7a1ff3d964c4e99db2c94b392fb67": {
      "model_module": "@jupyter-widgets/base",
      "model_module_version": "1.2.0",
      "model_name": "LayoutModel",
      "state": {}
     },
     "65a56afc956d4b56909b2962e4c1de66": {
      "model_module": "@jupyter-widgets/controls",
      "model_module_version": "1.5.0",
      "model_name": "HBoxModel",
      "state": {
       "children": [
        "IPY_MODEL_23687ccc51c343c0855b6cdb808ddeb8",
        "IPY_MODEL_bda5f570aee242dc939fe5e8135baef3"
       ],
       "layout": "IPY_MODEL_f2de4350e6ac4f739538a79265a5d6ef"
      }
     },
     "6858b8776b124cb3b884aa977e188bbc": {
      "model_module": "@jupyter-widgets/controls",
      "model_module_version": "1.5.0",
      "model_name": "DescriptionStyleModel",
      "state": {
       "description_width": ""
      }
     },
     "71b4a2ab824f4e389bafcb98661894e3": {
      "model_module": "@jupyter-widgets/base",
      "model_module_version": "1.2.0",
      "model_name": "LayoutModel",
      "state": {}
     },
     "7471037274c240fa96a3ec9bc602dba4": {
      "buffers": [
       {
        "data": "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",
        "encoding": "base64",
        "path": [
         "value"
        ]
       }
      ],
      "model_module": "@jupyter-widgets/controls",
      "model_module_version": "1.5.0",
      "model_name": "ImageModel",
      "state": {
       "layout": "IPY_MODEL_ae48cbe44dc44e04aa4c7a8a87b4cc4c",
       "value": {}
      }
     },
     "74b9cb2b53f2445d82acf13e78c70fd5": {
      "model_module": "@jupyter-widgets/base",
      "model_module_version": "1.2.0",
      "model_name": "LayoutModel",
      "state": {
       "height": "375px",
       "width": "450px"
      }
     },
     "75c533a0498e4d9d9afdcc611ab952f5": {
      "model_module": "@jupyter-widgets/controls",
      "model_module_version": "1.5.0",
      "model_name": "HBoxModel",
      "state": {
       "children": [
        "IPY_MODEL_8092c23208d04ade938861b8291de7ef",
        "IPY_MODEL_7471037274c240fa96a3ec9bc602dba4"
       ],
       "layout": "IPY_MODEL_ed304344b3ea4416b62e97e2faa79a91"
      }
     },
     "79dbb01ecf14419a81ca8fc97a6f6a07": {
      "model_module": "@jupyter-widgets/controls",
      "model_module_version": "1.5.0",
      "model_name": "HBoxModel",
      "state": {
       "children": [
        "IPY_MODEL_b9f35aaa4bb142c9ac87065a53c7c5c3",
        "IPY_MODEL_7f9747dad30047ce83d92c40777f64c4"
       ],
       "layout": "IPY_MODEL_ae2ee4c612ba4a90a3982e51608958cd"
      }
     },
     "7f9747dad30047ce83d92c40777f64c4": {
      "buffers": [
       {
        "data": "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",
        "encoding": "base64",
        "path": [
         "value"
        ]
       }
      ],
      "model_module": "@jupyter-widgets/controls",
      "model_module_version": "1.5.0",
      "model_name": "ImageModel",
      "state": {
       "layout": "IPY_MODEL_5aaee0e127c54e83a2924b76140e2bbc",
       "value": {}
      }
     },
     "8092c23208d04ade938861b8291de7ef": {
      "buffers": [
       {
        "data": "AAAAAEKEL0EAAAAAYpEvQQAAAAASnC9BAAAAAFamL0EAAAAAxrcvQQAAAAAy2i9BAAAAAIb1L0EAAAAAWw0wQQAAAABTEjBBAAAAANMYMEEAAAAAzRswQQAAAAB1LTBBAAAAAANKMEEAAAAAyVYwQQAAAAD3dDBBAAAAAD+AMEEAAAAAf4AwQQAAAABNgTBBAAAAAD2DMEEAAAAANYcwQQAAAACjiTBBAAAAADuLMEEAAAAAbYwwQQAAAADBjDBBAAAAAN+aMEEAAAAAx6swQQAAAADl0TBBAAAAAB8GMUEAAAAA3SExQQAAAABDIjFBAAAAAG9AMUEAAAAACUgxQQAAAABpTzFBAAAAAAlwMUEAAAAAlZQxQQAAAAB77zFBAAAAAJ93MkEAAAAAdX0yQQAAAACPfzJBAAAAACPwMkEAAAAAwVYzQQAAAADzlzNBAAAAAFXHM0EAAAAAP8kzQQAAAAAj2DRBAAAAAEsCNUEAAAAAiSA1QQAAAACZMTVBAAAAAKNPNUEAAAAAd4I1QQAAAADRtDVBAAAAAI2MNkEAAAAAdZg3QQAAAABHojtBAAAAgJnCQUEAAACATyFMQQAAAEBS7VhBAAAAIHcpZEEAAADgmqttQQAAAODwS25BAAAA4PBLbkE=",
        "encoding": "base64",
        "path": [
         "_data",
         0,
         "y",
         "value"
        ]
       },
       {
        "data": "AAAAAOS+RkEAAAAAdsdGQQAAAABHyUZBAAAAAKPMRkEAAAAAjNZGQQAAAADa30ZBAAAAAOHpRkEAAAAAn/RGQQAAAAAD/0ZBAAAAAO3/RkEAAAAAhwNHQQAAAAC6C0dBAAAAAEkYR0EAAAAAJxpHQQAAAAB3GkdBAAAAAOoaR0EAAAAAaBxHQQAAAAAhIEdBAAAAAEoiR0EAAAAAOiNHQQAAAAAGJEdBAAAAAIgoR0EAAAAA0yxHQQAAAAA+N0dBAAAAANJGR0EAAAAAVFpHQQAAAAC0cEdBAAAAAGFxR0EAAAAAhndHQQAAAACagkdBAAAAAKGNR0EAAAAAqZ5HQQAAAAAXpkdBAAAAADrCR0EAAAAA/ehHQQAAAADGB0hBAAAAAMEMSEEAAAAApxlIQQAAAADwYUhBAAAAACB2SEEAAAAAY6VIQQAAAAC7pUhBAAAAABCoSEEAAAAA9wFJQQAAAABtKUlBAAAAAK4zSUEAAAAA5T1JQQAAAAAuSUlBAAAAAIhXSUEAAAAAD2BJQQAAAAC4xUlBAAAAADPbSUEAAAAAdR1LQQAAAABkOk1BAAAAAGOzUEEAAAAAIhZWQQAAAECUlWBBAAAAQJhcaEEAAADAHfdwQQAAAECSRnFBAAAAQJJGcUE=",
        "encoding": "base64",
        "path": [
         "_data",
         1,
         "y",
         "value"
        ]
       }
      ],
      "model_module": "plotlywidget",
      "model_module_version": "4.6.0",
      "model_name": "FigureModel",
      "state": {
       "_config": {
        "plotlyServerURL": "https://plot.ly"
       },
       "_data": [
        {
         "hovertemplate": "%{text}",
         "name": "False",
         "showlegend": true,
         "text": [
          "Scene:teddy<br>match:35<br>bad4: 0.33847383356699245<br>",
          "Scene:teddy<br>match:33<br>bad4: 0.3399028790864945<br>",
          "Scene:teddy<br>match:32<br>bad4: 0.33982160635552755<br>",
          "Scene:teddy<br>match:34<br>bad4: 0.34185342462970114<br>",
          "Scene:teddy<br>match:31<br>bad4: 0.3400992881863313<br>",
          "Scene:teddy<br>match:30<br>bad4: 0.34241556101888915<br>",
          "Scene:teddy<br>match:29<br>bad4: 0.3431605610527528<br>",
          "Scene:teddy<br>match:28<br>bad4: 0.34404101563822803<br>",
          "Scene:teddy<br>match:24<br>bad4: 0.33885310631150484<br>",
          "Scene:teddy<br>match:25<br>bad4: 0.3409729700442259<br>",
          "Scene:teddy<br>match:27<br>bad4: 0.3426187428463065<br>",
          "Scene:teddy<br>match:26<br>bad4: 0.34206337918469903<br>",
          "Scene:teddy<br>match:23<br>bad4: 0.3427880610358209<br>",
          "Scene:teddy<br>match:22<br>bad4: 0.34335697015258954<br>",
          "Scene:teddy<br>match:21<br>bad4: 0.3455919702541805<br>",
          "Scene:teddy<br>match:42<br>bad4: 0.3399299699968168<br>",
          "Scene:teddy<br>match:43<br>bad4: 0.3386702426668292<br>",
          "Scene:teddy<br>match:41<br>bad4: 0.3396387427108519<br>",
          "Scene:teddy<br>match:39<br>bad4: 0.3374511517023251<br>",
          "Scene:teddy<br>match:38<br>bad4: 0.33837901538086435<br>",
          "Scene:teddy<br>match:44<br>bad4: 0.33758660625393666<br>",
          "Scene:teddy<br>match:37<br>bad4: 0.3383248335602197<br>",
          "Scene:teddy<br>match:20<br>bad4: 0.3464859702948168<br>",
          "Scene:teddy<br>match:40<br>bad4: 0.3391781972353726<br>",
          "Scene:teddy<br>match:36<br>bad4: 0.3387515153977961<br>",
          "Scene:teddy<br>match:19<br>bad4: 0.34788792490399656<br>",
          "Scene:teddy<br>match:18<br>bad4: 0.34854487947931273<br>",
          "Scene:teddy<br>match:17<br>bad4: 0.34805724309351105<br>",
          "Scene:teddy<br>match:15<br>bad4: 0.34799628854528586<br>",
          "Scene:teddy<br>match:16<br>bad4: 0.3494185613372073<br>",
          "Scene:teddy<br>match:46<br>bad4: 0.33677387894426725<br>",
          "Scene:teddy<br>match:45<br>bad4: 0.33797265172602964<br>",
          "Scene:teddy<br>match:14<br>bad4: 0.3471022885046495<br>",
          "Scene:teddy<br>match:47<br>bad4: 0.3380877880948995<br>",
          "Scene:teddy<br>match:13<br>bad4: 0.3452533338751516<br>",
          "Scene:teddy<br>match:12<br>bad4: 0.3485110158414098<br>",
          "Scene:teddy<br>match:49<br>bad4: 0.3409323336787424<br>",
          "Scene:teddy<br>match:11<br>bad4: 0.35231051601411434<br>",
          "Scene:teddy<br>match:48<br>bad4: 0.34191437917792633<br>",
          "Scene:teddy<br>match:10<br>bad4: 0.3528320160378189<br>",
          "Scene:teddy<br>match:50<br>bad4: 0.3418466519021205<br>",
          "Scene:teddy<br>match:9<br>bad4: 0.35111174323235195<br>",
          "Scene:teddy<br>match:51<br>bad4: 0.3460186520917569<br>",
          "Scene:teddy<br>match:52<br>bad4: 0.3417382882608313<br>",
          "Scene:teddy<br>match:53<br>bad4: 0.3447927883996722<br>",
          "Scene:teddy<br>match:54<br>bad4: 0.34417647018983955<br>",
          "Scene:teddy<br>match:55<br>bad4: 0.3434991974317817<br>",
          "Scene:teddy<br>match:8<br>bad4: 0.3554191979735999<br>",
          "Scene:teddy<br>match:56<br>bad4: 0.3461879702812713<br>",
          "Scene:teddy<br>match:57<br>bad4: 0.3466552884843313<br>",
          "Scene:teddy<br>match:58<br>bad4: 0.3486126067551185<br>",
          "Scene:teddy<br>match:59<br>bad4: 0.35016356137107096<br>",
          "Scene:teddy<br>match:7<br>bad4: 0.3602142891006495<br>",
          "Scene:teddy<br>match:6<br>bad4: 0.3745115170232508<br>",
          "Scene:teddy<br>match:5<br>bad4: 0.3918090632640484<br>",
          "Scene:teddy<br>match:4<br>bad4: 0.4429702474077385<br>",
          "Scene:teddy<br>match:3<br>bad4: 0.5590209345009516<br>",
          "Scene:teddy<br>match:2<br>bad4: 0.7145159870234542<br>",
          "Scene:teddy<br>match:1<br>bad4: 0.9864613175664236<br>",
          "Scene:teddy<br>match:0<br>bad4: 1.0<br>",
          "Scene:teddy<br>match:0<br>bad4: 1.0<br>"
         ],
         "type": "scatter",
         "uid": "ec46d2b6-a282-4131-b369-5ed1c3bc0256",
         "x": [
          35,
          33,
          32,
          34,
          31,
          30,
          29,
          28,
          24,
          25,
          27,
          26,
          23,
          22,
          21,
          42,
          43,
          41,
          39,
          38,
          44,
          37,
          20,
          40,
          36,
          19,
          18,
          17,
          15,
          16,
          46,
          45,
          14,
          47,
          13,
          12,
          49,
          11,
          48,
          10,
          50,
          9,
          51,
          52,
          53,
          54,
          55,
          8,
          56,
          57,
          58,
          59,
          7,
          6,
          5,
          4,
          3,
          2,
          1,
          0,
          0
         ],
         "y": {
          "dtype": "float64",
          "shape": [
           61
          ],
          "value": {}
         }
        },
        {
         "hovertemplate": "%{text}",
         "name": "True",
         "showlegend": true,
         "text": [
          "Scene:teddy<br>match:35<br>bad4: 0.4065100638668473<br>",
          "Scene:teddy<br>match:33<br>bad4: 0.4078164311979872<br>",
          "Scene:teddy<br>match:34<br>bad4: 0.4095340623185601<br>",
          "Scene:teddy<br>match:32<br>bad4: 0.4077559512289529<br>",
          "Scene:teddy<br>match:31<br>bad4: 0.40805835107412425<br>",
          "Scene:teddy<br>match:30<br>bad4: 0.4101328140119993<br>",
          "Scene:teddy<br>match:29<br>bad4: 0.41082228565898976<br>",
          "Scene:teddy<br>match:28<br>bad4: 0.4116206212502419<br>",
          "Scene:teddy<br>match:27<br>bad4: 0.4103868298819431<br>",
          "Scene:teddy<br>match:24<br>bad4: 0.4070846235726727<br>",
          "Scene:teddy<br>match:25<br>bad4: 0.4089534546158312<br>",
          "Scene:teddy<br>match:26<br>bad4: 0.40992113412037934<br>",
          "Scene:teddy<br>match:43<br>bad4: 0.4065644958389781<br>",
          "Scene:teddy<br>match:42<br>bad4: 0.40771361525062894<br>",
          "Scene:teddy<br>match:44<br>bad4: 0.40559681633442995<br>",
          "Scene:teddy<br>match:41<br>bad4: 0.4074535513837817<br>",
          "Scene:teddy<br>match:23<br>bad4: 0.4106045577704664<br>",
          "Scene:teddy<br>match:39<br>bad4: 0.4055726243468164<br>",
          "Scene:teddy<br>match:40<br>bad4: 0.4070422875943488<br>",
          "Scene:teddy<br>match:38<br>bad4: 0.4064193439132959<br>",
          "Scene:teddy<br>match:37<br>bad4: 0.4063649119411651<br>",
          "Scene:teddy<br>match:22<br>bad4: 0.4110883975227405<br>",
          "Scene:teddy<br>match:36<br>bad4: 0.4067096477646603<br>",
          "Scene:teddy<br>match:21<br>bad4: 0.4131084284884846<br>",
          "Scene:teddy<br>match:20<br>bad4: 0.4139128120766402<br>",
          "Scene:teddy<br>match:19<br>bad4: 0.4151828914263596<br>",
          "Scene:teddy<br>match:18<br>bad4: 0.4157755951228953<br>",
          "Scene:teddy<br>match:46<br>bad4: 0.4048771047029224<br>",
          "Scene:teddy<br>match:45<br>bad4: 0.40593550416102187<br>",
          "Scene:teddy<br>match:47<br>bad4: 0.4060020321269596<br>",
          "Scene:teddy<br>match:17<br>bad4: 0.4153401393458487<br>",
          "Scene:teddy<br>match:16<br>bad4: 0.4165557867234372<br>",
          "Scene:teddy<br>match:15<br>bad4: 0.4153098993613315<br>",
          "Scene:teddy<br>match:14<br>bad4: 0.4145659957422102<br>",
          "Scene:teddy<br>match:13<br>bad4: 0.4129390845751887<br>",
          "Scene:teddy<br>match:49<br>bad4: 0.4085482388233017<br>",
          "Scene:teddy<br>match:48<br>bad4: 0.4094312463712019<br>",
          "Scene:teddy<br>match:12<br>bad4: 0.4158844590671569<br>",
          "Scene:teddy<br>match:11<br>bad4: 0.4193015773175924<br>",
          "Scene:teddy<br>match:50<br>bad4: 0.4093889103928779<br>",
          "Scene:teddy<br>match:52<br>bad4: 0.40926795045480935<br>",
          "Scene:teddy<br>match:10<br>bad4: 0.4198398490419973<br>",
          "Scene:teddy<br>match:51<br>bad4: 0.4131084284884846<br>",
          "Scene:teddy<br>match:9<br>bad4: 0.41830970582543053<br>",
          "Scene:teddy<br>match:53<br>bad4: 0.4120076930520611<br>",
          "Scene:teddy<br>match:54<br>bad4: 0.411451277336946<br>",
          "Scene:teddy<br>match:55<br>bad4: 0.4108162376620863<br>",
          "Scene:teddy<br>match:56<br>bad4: 0.4131689084575189<br>",
          "Scene:teddy<br>match:57<br>bad4: 0.41353783626862783<br>",
          "Scene:teddy<br>match:58<br>bad4: 0.4152675633830075<br>",
          "Scene:teddy<br>match:59<br>bad4: 0.4166465066769886<br>",
          "Scene:teddy<br>match:8<br>bad4: 0.42222275982194696<br>",
          "Scene:teddy<br>match:7<br>bad4: 0.4265954615831237<br>",
          "Scene:teddy<br>match:6<br>bad4: 0.4394776949874202<br>",
          "Scene:teddy<br>match:5<br>bad4: 0.4551964389394232<br>",
          "Scene:teddy<br>match:4<br>bad4: 0.501221695374492<br>",
          "Scene:teddy<br>match:3<br>bad4: 0.6054105380298045<br>",
          "Scene:teddy<br>match:2<br>bad4: 0.7447745306754403<br>",
          "Scene:teddy<br>match:1<br>bad4: 0.9879100541900524<br>",
          "Scene:teddy<br>match:0<br>bad4: 1.0<br>",
          "Scene:teddy<br>match:0<br>bad4: 1.0<br>"
         ],
         "type": "scatter",
         "uid": "e3fe3f79-1f27-436a-9119-07faccf969cc",
         "x": [
          35,
          33,
          34,
          32,
          31,
          30,
          29,
          28,
          27,
          24,
          25,
          26,
          43,
          42,
          44,
          41,
          23,
          39,
          40,
          38,
          37,
          22,
          36,
          21,
          20,
          19,
          18,
          46,
          45,
          47,
          17,
          16,
          15,
          14,
          13,
          49,
          48,
          12,
          11,
          50,
          52,
          10,
          51,
          9,
          53,
          54,
          55,
          56,
          57,
          58,
          59,
          8,
          7,
          6,
          5,
          4,
          3,
          2,
          1,
          0,
          0
         ],
         "y": {
          "dtype": "float64",
          "shape": [
           61
          ],
          "value": {}
         }
        }
       ],
       "_js2py_restyle": {},
       "_js2py_update": {},
       "_last_layout_edit_id": 1,
       "_layout": {
        "autosize": true,
        "legend": {
         "title": {
          "text": "are_occlusions_errors"
         }
        },
        "template": {
         "data": {
          "bar": [
           {
            "error_x": {
             "color": "#2a3f5f"
            },
            "error_y": {
             "color": "#2a3f5f"
            },
            "marker": {
             "line": {
              "color": "#E5ECF6",
              "width": 0.5
             }
            },
            "type": "bar"
           }
          ],
          "barpolar": [
           {
            "marker": {
             "line": {
              "color": "#E5ECF6",
              "width": 0.5
             }
            },
            "type": "barpolar"
           }
          ],
          "carpet": [
           {
            "aaxis": {
             "endlinecolor": "#2a3f5f",
             "gridcolor": "white",
             "linecolor": "white",
             "minorgridcolor": "white",
             "startlinecolor": "#2a3f5f"
            },
            "baxis": {
             "endlinecolor": "#2a3f5f",
             "gridcolor": "white",
             "linecolor": "white",
             "minorgridcolor": "white",
             "startlinecolor": "#2a3f5f"
            },
            "type": "carpet"
           }
          ],
          "choropleth": [
           {
            "colorbar": {
             "outlinewidth": 0,
             "ticks": ""
            },
            "type": "choropleth"
           }
          ],
          "contour": [
           {
            "colorbar": {
             "outlinewidth": 0,
             "ticks": ""
            },
            "colorscale": [
             [
              0,
              "#0d0887"
             ],
             [
              0.1111111111111111,
              "#46039f"
             ],
             [
              0.2222222222222222,
              "#7201a8"
             ],
             [
              0.3333333333333333,
              "#9c179e"
             ],
             [
              0.4444444444444444,
              "#bd3786"
             ],
             [
              0.5555555555555556,
              "#d8576b"
             ],
             [
              0.6666666666666666,
              "#ed7953"
             ],
             [
              0.7777777777777778,
              "#fb9f3a"
             ],
             [
              0.8888888888888888,
              "#fdca26"
             ],
             [
              1,
              "#f0f921"
             ]
            ],
            "type": "contour"
           }
          ],
          "contourcarpet": [
           {
            "colorbar": {
             "outlinewidth": 0,
             "ticks": ""
            },
            "type": "contourcarpet"
           }
          ],
          "heatmap": [
           {
            "colorbar": {
             "outlinewidth": 0,
             "ticks": ""
            },
            "colorscale": [
             [
              0,
              "#0d0887"
             ],
             [
              0.1111111111111111,
              "#46039f"
             ],
             [
              0.2222222222222222,
              "#7201a8"
             ],
             [
              0.3333333333333333,
              "#9c179e"
             ],
             [
              0.4444444444444444,
              "#bd3786"
             ],
             [
              0.5555555555555556,
              "#d8576b"
             ],
             [
              0.6666666666666666,
              "#ed7953"
             ],
             [
              0.7777777777777778,
              "#fb9f3a"
             ],
             [
              0.8888888888888888,
              "#fdca26"
             ],
             [
              1,
              "#f0f921"
             ]
            ],
            "type": "heatmap"
           }
          ],
          "heatmapgl": [
           {
            "colorbar": {
             "outlinewidth": 0,
             "ticks": ""
            },
            "colorscale": [
             [
              0,
              "#0d0887"
             ],
             [
              0.1111111111111111,
              "#46039f"
             ],
             [
              0.2222222222222222,
              "#7201a8"
             ],
             [
              0.3333333333333333,
              "#9c179e"
             ],
             [
              0.4444444444444444,
              "#bd3786"
             ],
             [
              0.5555555555555556,
              "#d8576b"
             ],
             [
              0.6666666666666666,
              "#ed7953"
             ],
             [
              0.7777777777777778,
              "#fb9f3a"
             ],
             [
              0.8888888888888888,
              "#fdca26"
             ],
             [
              1,
              "#f0f921"
             ]
            ],
            "type": "heatmapgl"
           }
          ],
          "histogram": [
           {
            "marker": {
             "colorbar": {
              "outlinewidth": 0,
              "ticks": ""
             }
            },
            "type": "histogram"
           }
          ],
          "histogram2d": [
           {
            "colorbar": {
             "outlinewidth": 0,
             "ticks": ""
            },
            "colorscale": [
             [
              0,
              "#0d0887"
             ],
             [
              0.1111111111111111,
              "#46039f"
             ],
             [
              0.2222222222222222,
              "#7201a8"
             ],
             [
              0.3333333333333333,
              "#9c179e"
             ],
             [
              0.4444444444444444,
              "#bd3786"
             ],
             [
              0.5555555555555556,
              "#d8576b"
             ],
             [
              0.6666666666666666,
              "#ed7953"
             ],
             [
              0.7777777777777778,
              "#fb9f3a"
             ],
             [
              0.8888888888888888,
              "#fdca26"
             ],
             [
              1,
              "#f0f921"
             ]
            ],
            "type": "histogram2d"
           }
          ],
          "histogram2dcontour": [
           {
            "colorbar": {
             "outlinewidth": 0,
             "ticks": ""
            },
            "colorscale": [
             [
              0,
              "#0d0887"
             ],
             [
              0.1111111111111111,
              "#46039f"
             ],
             [
              0.2222222222222222,
              "#7201a8"
             ],
             [
              0.3333333333333333,
              "#9c179e"
             ],
             [
              0.4444444444444444,
              "#bd3786"
             ],
             [
              0.5555555555555556,
              "#d8576b"
             ],
             [
              0.6666666666666666,
              "#ed7953"
             ],
             [
              0.7777777777777778,
              "#fb9f3a"
             ],
             [
              0.8888888888888888,
              "#fdca26"
             ],
             [
              1,
              "#f0f921"
             ]
            ],
            "type": "histogram2dcontour"
           }
          ],
          "mesh3d": [
           {
            "colorbar": {
             "outlinewidth": 0,
             "ticks": ""
            },
            "type": "mesh3d"
           }
          ],
          "parcoords": [
           {
            "line": {
             "colorbar": {
              "outlinewidth": 0,
              "ticks": ""
             }
            },
            "type": "parcoords"
           }
          ],
          "pie": [
           {
            "automargin": true,
            "type": "pie"
           }
          ],
          "scatter": [
           {
            "marker": {
             "colorbar": {
              "outlinewidth": 0,
              "ticks": ""
             }
            },
            "type": "scatter"
           }
          ],
          "scatter3d": [
           {
            "line": {
             "colorbar": {
              "outlinewidth": 0,
              "ticks": ""
             }
            },
            "marker": {
             "colorbar": {
              "outlinewidth": 0,
              "ticks": ""
             }
            },
            "type": "scatter3d"
           }
          ],
          "scattercarpet": [
           {
            "marker": {
             "colorbar": {
              "outlinewidth": 0,
              "ticks": ""
             }
            },
            "type": "scattercarpet"
           }
          ],
          "scattergeo": [
           {
            "marker": {
             "colorbar": {
              "outlinewidth": 0,
              "ticks": ""
             }
            },
            "type": "scattergeo"
           }
          ],
          "scattergl": [
           {
            "marker": {
             "colorbar": {
              "outlinewidth": 0,
              "ticks": ""
             }
            },
            "type": "scattergl"
           }
          ],
          "scattermapbox": [
           {
            "marker": {
             "colorbar": {
              "outlinewidth": 0,
              "ticks": ""
             }
            },
            "type": "scattermapbox"
           }
          ],
          "scatterpolar": [
           {
            "marker": {
             "colorbar": {
              "outlinewidth": 0,
              "ticks": ""
             }
            },
            "type": "scatterpolar"
           }
          ],
          "scatterpolargl": [
           {
            "marker": {
             "colorbar": {
              "outlinewidth": 0,
              "ticks": ""
             }
            },
            "type": "scatterpolargl"
           }
          ],
          "scatterternary": [
           {
            "marker": {
             "colorbar": {
              "outlinewidth": 0,
              "ticks": ""
             }
            },
            "type": "scatterternary"
           }
          ],
          "surface": [
           {
            "colorbar": {
             "outlinewidth": 0,
             "ticks": ""
            },
            "colorscale": [
             [
              0,
              "#0d0887"
             ],
             [
              0.1111111111111111,
              "#46039f"
             ],
             [
              0.2222222222222222,
              "#7201a8"
             ],
             [
              0.3333333333333333,
              "#9c179e"
             ],
             [
              0.4444444444444444,
              "#bd3786"
             ],
             [
              0.5555555555555556,
              "#d8576b"
             ],
             [
              0.6666666666666666,
              "#ed7953"
             ],
             [
              0.7777777777777778,
              "#fb9f3a"
             ],
             [
              0.8888888888888888,
              "#fdca26"
             ],
             [
              1,
              "#f0f921"
             ]
            ],
            "type": "surface"
           }
          ],
          "table": [
           {
            "cells": {
             "fill": {
              "color": "#EBF0F8"
             },
             "line": {
              "color": "white"
             }
            },
            "header": {
             "fill": {
              "color": "#C8D4E3"
             },
             "line": {
              "color": "white"
             }
            },
            "type": "table"
           }
          ]
         },
         "layout": {
          "annotationdefaults": {
           "arrowcolor": "#2a3f5f",
           "arrowhead": 0,
           "arrowwidth": 1
          },
          "coloraxis": {
           "colorbar": {
            "outlinewidth": 0,
            "ticks": ""
           }
          },
          "colorscale": {
           "diverging": [
            [
             0,
             "#8e0152"
            ],
            [
             0.1,
             "#c51b7d"
            ],
            [
             0.2,
             "#de77ae"
            ],
            [
             0.3,
             "#f1b6da"
            ],
            [
             0.4,
             "#fde0ef"
            ],
            [
             0.5,
             "#f7f7f7"
            ],
            [
             0.6,
             "#e6f5d0"
            ],
            [
             0.7,
             "#b8e186"
            ],
            [
             0.8,
             "#7fbc41"
            ],
            [
             0.9,
             "#4d9221"
            ],
            [
             1,
             "#276419"
            ]
           ],
           "sequential": [
            [
             0,
             "#0d0887"
            ],
            [
             0.1111111111111111,
             "#46039f"
            ],
            [
             0.2222222222222222,
             "#7201a8"
            ],
            [
             0.3333333333333333,
             "#9c179e"
            ],
            [
             0.4444444444444444,
             "#bd3786"
            ],
            [
             0.5555555555555556,
             "#d8576b"
            ],
            [
             0.6666666666666666,
             "#ed7953"
            ],
            [
             0.7777777777777778,
             "#fb9f3a"
            ],
            [
             0.8888888888888888,
             "#fdca26"
            ],
            [
             1,
             "#f0f921"
            ]
           ],
           "sequentialminus": [
            [
             0,
             "#0d0887"
            ],
            [
             0.1111111111111111,
             "#46039f"
            ],
            [
             0.2222222222222222,
             "#7201a8"
            ],
            [
             0.3333333333333333,
             "#9c179e"
            ],
            [
             0.4444444444444444,
             "#bd3786"
            ],
            [
             0.5555555555555556,
             "#d8576b"
            ],
            [
             0.6666666666666666,
             "#ed7953"
            ],
            [
             0.7777777777777778,
             "#fb9f3a"
            ],
            [
             0.8888888888888888,
             "#fdca26"
            ],
            [
             1,
             "#f0f921"
            ]
           ]
          },
          "colorway": [
           "#636efa",
           "#EF553B",
           "#00cc96",
           "#ab63fa",
           "#FFA15A",
           "#19d3f3",
           "#FF6692",
           "#B6E880",
           "#FF97FF",
           "#FECB52"
          ],
          "font": {
           "color": "#2a3f5f"
          },
          "geo": {
           "bgcolor": "white",
           "lakecolor": "white",
           "landcolor": "#E5ECF6",
           "showlakes": true,
           "showland": true,
           "subunitcolor": "white"
          },
          "hoverlabel": {
           "align": "left"
          },
          "hovermode": "closest",
          "mapbox": {
           "style": "light"
          },
          "paper_bgcolor": "white",
          "plot_bgcolor": "#E5ECF6",
          "polar": {
           "angularaxis": {
            "gridcolor": "white",
            "linecolor": "white",
            "ticks": ""
           },
           "bgcolor": "#E5ECF6",
           "radialaxis": {
            "gridcolor": "white",
            "linecolor": "white",
            "ticks": ""
           }
          },
          "scene": {
           "xaxis": {
            "backgroundcolor": "#E5ECF6",
            "gridcolor": "white",
            "gridwidth": 2,
            "linecolor": "white",
            "showbackground": true,
            "ticks": "",
            "zerolinecolor": "white"
           },
           "yaxis": {
            "backgroundcolor": "#E5ECF6",
            "gridcolor": "white",
            "gridwidth": 2,
            "linecolor": "white",
            "showbackground": true,
            "ticks": "",
            "zerolinecolor": "white"
           },
           "zaxis": {
            "backgroundcolor": "#E5ECF6",
            "gridcolor": "white",
            "gridwidth": 2,
            "linecolor": "white",
            "showbackground": true,
            "ticks": "",
            "zerolinecolor": "white"
           }
          },
          "shapedefaults": {
           "line": {
            "color": "#2a3f5f"
           }
          },
          "ternary": {
           "aaxis": {
            "gridcolor": "white",
            "linecolor": "white",
            "ticks": ""
           },
           "baxis": {
            "gridcolor": "white",
            "linecolor": "white",
            "ticks": ""
           },
           "bgcolor": "#E5ECF6",
           "caxis": {
            "gridcolor": "white",
            "linecolor": "white",
            "ticks": ""
           }
          },
          "title": {
           "x": 0.05
          },
          "xaxis": {
           "automargin": true,
           "gridcolor": "white",
           "linecolor": "white",
           "ticks": "",
           "title": {
            "standoff": 15
           },
           "zerolinecolor": "white",
           "zerolinewidth": 2
          },
          "yaxis": {
           "automargin": true,
           "gridcolor": "white",
           "linecolor": "white",
           "ticks": "",
           "title": {
            "standoff": 15
           },
           "zerolinecolor": "white",
           "zerolinewidth": 2
          }
         }
        },
        "xaxis": {
         "showspikes": true
        },
        "yaxis": {
         "showspikes": true
        }
       },
       "_model_module_version": "4.6.0",
       "_py2js_addTraces": {},
       "_py2js_animate": {},
       "_py2js_deleteTraces": {},
       "_py2js_moveTraces": {},
       "_py2js_removeLayoutProps": {},
       "_py2js_removeTraceProps": {},
       "_py2js_restyle": {},
       "_py2js_update": {},
       "_view_count": 1,
       "_view_module_version": "4.6.0"
      }
     },
     "813dd5535e8944099feb681bfd2233c7": {
      "model_module": "@jupyter-widgets/controls",
      "model_module_version": "1.5.0",
      "model_name": "DropdownModel",
      "state": {
       "_options_labels": [
        "ALG_004_EXP_001-Baseline-MacLean_et_al-Numba.csv",
        "ALG_004_EXP_002-Baseline-MacLean_et_al-Numba_param_search.csv"
       ],
       "description": "CSV Log file:",
       "index": 1,
       "layout": "IPY_MODEL_f8085508a1ab45ba98f5e7d0f0b5e1b2",
       "style": "IPY_MODEL_6858b8776b124cb3b884aa977e188bbc"
      }
     },
     "86da4ce7650e43f392050cb9b1b4ef7b": {
      "model_module": "@jupyter-widgets/base",
      "model_module_version": "1.2.0",
      "model_name": "LayoutModel",
      "state": {}
     },
     "894dc17cdb15491b9878ff13be7f70fb": {
      "model_module": "@jupyter-widgets/controls",
      "model_module_version": "1.5.0",
      "model_name": "DropdownModel",
      "state": {
       "_options_labels": [
        "ALG_004_EXP_001-Baseline-MacLean_et_al-Numba.csv",
        "ALG_004_EXP_002-Baseline-MacLean_et_al-Numba_param_search.csv"
       ],
       "description": "CSV Log file:",
       "index": 1,
       "layout": "IPY_MODEL_71b4a2ab824f4e389bafcb98661894e3",
       "style": "IPY_MODEL_39182d5b8b5f41129fb0db54d2126103"
      }
     },
     "8ada8f7075f74491b18836250a5fc722": {
      "model_module": "@jupyter-widgets/controls",
      "model_module_version": "1.5.0",
      "model_name": "HBoxModel",
      "state": {
       "children": [
        "IPY_MODEL_fbc47b8a545e48d28e02f79d349d191a",
        "IPY_MODEL_4d005f75a91d4d189f3b4f5bc4359bdb"
       ],
       "layout": "IPY_MODEL_95964fc12f3745559dd3dcc8359804d4"
      }
     },
     "8ca9f752178f434fb7e51f4fcf1fb634": {
      "model_module": "@jupyter-widgets/base",
      "model_module_version": "1.2.0",
      "model_name": "LayoutModel",
      "state": {
       "height": "375px",
       "width": "450px"
      }
     },
     "9381304dd2334d0d8d06f8220adb5c78": {
      "model_module": "@jupyter-widgets/base",
      "model_module_version": "1.2.0",
      "model_name": "LayoutModel",
      "state": {}
     },
     "952ceddcbedc42ab897d23c6a6c29f8b": {
      "model_module": "@jupyter-widgets/base",
      "model_module_version": "1.2.0",
      "model_name": "LayoutModel",
      "state": {
       "height": "375px",
       "width": "450px"
      }
     },
     "95964fc12f3745559dd3dcc8359804d4": {
      "model_module": "@jupyter-widgets/base",
      "model_module_version": "1.2.0",
      "model_name": "LayoutModel",
      "state": {}
     },
     "a11aaf205ff0439e982dd5b7a4db39f6": {
      "model_module": "@jupyter-widgets/controls",
      "model_module_version": "1.5.0",
      "model_name": "VBoxModel",
      "state": {
       "children": [
        "IPY_MODEL_813dd5535e8944099feb681bfd2233c7",
        "IPY_MODEL_e1dfbc4f27764387b2182c1b279bb145"
       ],
       "layout": "IPY_MODEL_c2d0d49ad5a84f6a9bbfa7f37010e121"
      }
     },
     "a4710776080f4b8ba61d341a61ec9eb0": {
      "buffers": [
       {
        "data": "AAAAAMwiNkEAAAAA9CM2QQAAAAACJTZBAAAAALoqNkEAAAAAxCo2QQAAAACMNDZBAAAAACI4NkEAAAAARjs2QQAAAACKQzZBAAAAAJxHNkEAAAAAnks2QQAAAAAyTzZBAAAAANZSNkEAAAAAnlU2QQAAAADsVzZBAAAAADRbNkEAAAAAamg2QQAAAAA8bTZBAAAAABx2NkEAAAAAso02QQAAAABAtDZBAAAAABbDNkEAAAAAlsM2QQAAAAAWyzZBAAAAAPDRNkEAAAAAgtI2QQAAAAAC1zZBAAAAAATYNkEAAAAAUPY2QQAAAACmEDdBAAAAAOI/N0EAAAAA2EA3QQAAAAC8WDdBAAAAAGirN0EAAAAAIMc3QQAAAABi1TdBAAAAAADhN0EAAAAAVuU3QQAAAAB05jdBAAAAAGTqN0EAAAAA8Os3QQAAAAAU8DdBAAAAAHDwN0EAAAAAhvI3QQAAAACW+TdBAAAAAB4XOEEAAAAAjhc4QQAAAAAyYzhBAAAAAJh/OUEAAAAA4MQ6QQAAAACQSj1BAAAAAER8QEEAAAAAXd1DQQAAAABeeE5BAAAAgMt1X0EAAAAAlH5mQQAAAIDZzm5BAAAAAPVVcUEAAACggyNyQQAAAEDnR3JBAAAAQOdHckE=",
        "encoding": "base64",
        "path": [
         "_data",
         0,
         "y",
         "value"
        ]
       },
       {
        "data": "AAAAAAcFTEEAAAAArQ5MQQAAAADlEExBAAAAACIVTEEAAAAAgxVMQQAAAACXF0xBAAAAAIsbTEEAAAAAQR1MQQAAAAAkHkxBAAAAADogTEEAAAAA/SJMQQAAAADgI0xBAAAAAAEnTEEAAAAAWCdMQQAAAACTKExBAAAAAHIsTEEAAAAAgzRMQQAAAACNN0xBAAAAAF1CTEEAAAAAfkRMQQAAAADbRExBAAAAAA9HTEEAAAAA9EdMQQAAAACDXExBAAAAAKheTEEAAAAAyWJMQQAAAACTZExBAAAAAHplTEEAAAAALGZMQQAAAAAiZ0xBAAAAABRrTEEAAAAALm1MQQAAAAAncExBAAAAAM51TEEAAAAA3HVMQQAAAACNd0xBAAAAAG95TEEAAAAA5HpMQQAAAACqgUxBAAAAADqDTEEAAAAAJZRMQQAAAAANm0xBAAAAAOPPTEEAAAAAa+VMQQAAAAATBk1BAAAAALxATUEAAAAA6K5NQQAAAADL6E1BAAAAAJ6PTkEAAAAAN05PQQAAAAAKVlBBAAAAAB1aUUEAAAAAcilTQQAAAICimVhBAAAAAN6NZEEAAADALZJrQQAAAEB2AXJBAAAAILjzc0EAAABgmcJ0QQAAAAD95nRBAAAAAP3mdEE=",
        "encoding": "base64",
        "path": [
         "_data",
         1,
         "y",
         "value"
        ]
       }
      ],
      "model_module": "plotlywidget",
      "model_module_version": "4.6.0",
      "model_name": "FigureModel",
      "state": {
       "_config": {
        "plotlyServerURL": "https://plot.ly"
       },
       "_data": [
        {
         "hovertemplate": "%{text}",
         "name": "False",
         "showlegend": true,
         "text": [
          "Scene:cones<br>match:28<br>bad4: 0.33889637730500394<br>",
          "Scene:cones<br>match:29<br>bad4: 0.34020955213095616<br>",
          "Scene:cones<br>match:24<br>bad4: 0.3320525825771577<br>",
          "Scene:cones<br>match:30<br>bad4: 0.3404110445645679<br>",
          "Scene:cones<br>match:31<br>bad4: 0.3407514972972222<br>",
          "Scene:cones<br>match:32<br>bad4: 0.34155746703166906<br>",
          "Scene:cones<br>match:27<br>bad4: 0.3391881939329933<br>",
          "Scene:cones<br>match:25<br>bad4: 0.3350193849617165<br>",
          "Scene:cones<br>match:22<br>bad4: 0.332177646846296<br>",
          "Scene:cones<br>match:23<br>bad4: 0.33205953059210985<br>",
          "Scene:cones<br>match:35<br>bad4: 0.3458582882870364<br>",
          "Scene:cones<br>match:26<br>bad4: 0.33923683003765825<br>",
          "Scene:cones<br>match:34<br>bad4: 0.3456081597487598<br>",
          "Scene:cones<br>match:33<br>bad4: 0.34535803121048314<br>",
          "Scene:cones<br>match:20<br>bad4: 0.32867584731042343<br>",
          "Scene:cones<br>match:21<br>bad4: 0.33109375651376394<br>",
          "Scene:cones<br>match:18<br>bad4: 0.3223739977488432<br>",
          "Scene:cones<br>match:19<br>bad4: 0.32696663563219985<br>",
          "Scene:cones<br>match:36<br>bad4: 0.3485124299987494<br>",
          "Scene:cones<br>match:37<br>bad4: 0.35163903672720703<br>",
          "Scene:cones<br>match:38<br>bad4: 0.35437655461834555<br>",
          "Scene:cones<br>match:39<br>bad4: 0.3555507691452552<br>",
          "Scene:cones<br>match:17<br>bad4: 0.32074121423509305<br>",
          "Scene:cones<br>match:41<br>bad4: 0.3599002265052874<br>",
          "Scene:cones<br>match:43<br>bad4: 0.3632422216972611<br>",
          "Scene:cones<br>match:16<br>bad4: 0.31803843641871515<br>",
          "Scene:cones<br>match:42<br>bad4: 0.3633255978766866<br>",
          "Scene:cones<br>match:40<br>bad4: 0.3594625015633033<br>",
          "Scene:cones<br>match:15<br>bad4: 0.3164820810694385<br>",
          "Scene:cones<br>match:44<br>bad4: 0.36705668190597945<br>",
          "Scene:cones<br>match:45<br>bad4: 0.37258035379292137<br>",
          "Scene:cones<br>match:46<br>bad4: 0.37369203618526187<br>",
          "Scene:cones<br>match:14<br>bad4: 0.3172394146992205<br>",
          "Scene:cones<br>match:47<br>bad4: 0.3770340313772355<br>",
          "Scene:cones<br>match:48<br>bad4: 0.3787362950405069<br>",
          "Scene:cones<br>match:49<br>bad4: 0.379771549268374<br>",
          "Scene:cones<br>match:51<br>bad4: 0.3839125661798424<br>",
          "Scene:cones<br>match:53<br>bad4: 0.3859413865458639<br>",
          "Scene:cones<br>match:52<br>bad4: 0.3840862665536456<br>",
          "Scene:cones<br>match:54<br>bad4: 0.38681683642983206<br>",
          "Scene:cones<br>match:58<br>bad4: 0.3922501841223962<br>",
          "Scene:cones<br>match:50<br>bad4: 0.3835443213873797<br>",
          "Scene:cones<br>match:56<br>bad4: 0.3892208496032684<br>",
          "Scene:cones<br>match:57<br>bad4: 0.39008240345733225<br>",
          "Scene:cones<br>match:55<br>bad4: 0.3882481275099704<br>",
          "Scene:cones<br>match:13<br>bad4: 0.3175103872823534<br>",
          "Scene:cones<br>match:59<br>bad4: 0.3946403012659283<br>",
          "Scene:cones<br>match:12<br>bad4: 0.3120492475299807<br>",
          "Scene:cones<br>match:11<br>bad4: 0.3102705557022359<br>",
          "Scene:cones<br>match:10<br>bad4: 0.31289690535414033<br>",
          "Scene:cones<br>match:9<br>bad4: 0.3182746689270876<br>",
          "Scene:cones<br>match:8<br>bad4: 0.32288815085530065<br>",
          "Scene:cones<br>match:7<br>bad4: 0.3410155218654031<br>",
          "Scene:cones<br>match:6<br>bad4: 0.39581451579283794<br>",
          "Scene:cones<br>match:5<br>bad4: 0.5734266220140906<br>",
          "Scene:cones<br>match:4<br>bad4: 0.7187999388574684<br>",
          "Scene:cones<br>match:3<br>bad4: 0.8711351666828787<br>",
          "Scene:cones<br>match:2<br>bad4: 0.9520656448452676<br>",
          "Scene:cones<br>match:1<br>bad4: 0.9934271778552868<br>",
          "Scene:cones<br>match:0<br>bad4: 1.0<br>",
          "Scene:cones<br>match:0<br>bad4: 1.0<br>"
         ],
         "type": "scatter",
         "uid": "ff559c71-e82b-4f92-8743-8a7d5d0e779f",
         "x": [
          28,
          29,
          24,
          30,
          31,
          32,
          27,
          25,
          22,
          23,
          35,
          26,
          34,
          33,
          20,
          21,
          18,
          19,
          36,
          37,
          38,
          39,
          17,
          41,
          43,
          16,
          42,
          40,
          15,
          44,
          45,
          46,
          14,
          47,
          48,
          49,
          51,
          53,
          52,
          54,
          58,
          50,
          56,
          57,
          55,
          13,
          59,
          12,
          11,
          10,
          9,
          8,
          7,
          6,
          5,
          4,
          3,
          2,
          1,
          0,
          0
         ],
         "y": {
          "dtype": "float64",
          "shape": [
           61
          ],
          "value": {}
         }
        },
        {
         "hovertemplate": "%{text}",
         "name": "True",
         "showlegend": true,
         "text": [
          "Scene:cones<br>match:35<br>bad4: 0.4183540389784535<br>",
          "Scene:cones<br>match:34<br>bad4: 0.41821933492937213<br>",
          "Scene:cones<br>match:32<br>bad4: 0.4147598900325127<br>",
          "Scene:cones<br>match:31<br>bad4: 0.4140741239644625<br>",
          "Scene:cones<br>match:33<br>bad4: 0.418035647589716<br>",
          "Scene:cones<br>match:36<br>bad4: 0.4206501307241568<br>",
          "Scene:cones<br>match:37<br>bad4: 0.4233564575284256<br>",
          "Scene:cones<br>match:30<br>bad4: 0.41390880535877206<br>",
          "Scene:cones<br>match:43<br>bad4: 0.43325108222457615<br>",
          "Scene:cones<br>match:29<br>bad4: 0.4137924700436564<br>",
          "Scene:cones<br>match:41<br>bad4: 0.4303182077013977<br>",
          "Scene:cones<br>match:42<br>bad4: 0.433355171717048<br>",
          "Scene:cones<br>match:38<br>bad4: 0.4257199012986695<br>",
          "Scene:cones<br>match:39<br>bad4: 0.4266077234403414<br>",
          "Scene:cones<br>match:28<br>bad4: 0.41272096056232815<br>",
          "Scene:cones<br>match:40<br>bad4: 0.4300365537805916<br>",
          "Scene:cones<br>match:27<br>bad4: 0.41299649157181256<br>",
          "Scene:cones<br>match:44<br>bad4: 0.43662480636292944<br>",
          "Scene:cones<br>match:46<br>bad4: 0.4424783095866423<br>",
          "Scene:cones<br>match:26<br>bad4: 0.4130515977737094<br>",
          "Scene:cones<br>match:45<br>bad4: 0.4415231354204297<br>",
          "Scene:cones<br>match:24<br>bad4: 0.40678785949143104<br>",
          "Scene:cones<br>match:25<br>bad4: 0.4093349906013311<br>",
          "Scene:cones<br>match:58<br>bad4: 0.4585693205405306<br>",
          "Scene:cones<br>match:23<br>bad4: 0.4068001053140747<br>",
          "Scene:cones<br>match:57<br>bad4: 0.4567018325873586<br>",
          "Scene:cones<br>match:56<br>bad4: 0.4559303457608023<br>",
          "Scene:cones<br>match:22<br>bad4: 0.4069041948065466<br>",
          "Scene:cones<br>match:59<br>bad4: 0.460663356212612<br>",
          "Scene:cones<br>match:54<br>bad4: 0.4538056955321116<br>",
          "Scene:cones<br>match:55<br>bad4: 0.4550608923530961<br>",
          "Scene:cones<br>match:53<br>bad4: 0.4532117731338897<br>",
          "Scene:cones<br>match:47<br>bad4: 0.4454601674003955<br>",
          "Scene:cones<br>match:51<br>bad4: 0.451478989229799<br>",
          "Scene:cones<br>match:52<br>bad4: 0.4515830787222709<br>",
          "Scene:cones<br>match:48<br>bad4: 0.44697864940822063<br>",
          "Scene:cones<br>match:21<br>bad4: 0.4060714788667716<br>",
          "Scene:cones<br>match:49<br>bad4: 0.4478725944612144<br>",
          "Scene:cones<br>match:50<br>bad4: 0.4511789665750271<br>",
          "Scene:cones<br>match:20<br>bad4: 0.4041243930664152<br>",
          "Scene:cones<br>match:19<br>bad4: 0.40259978814726827<br>",
          "Scene:cones<br>match:18<br>bad4: 0.3987117394578774<br>",
          "Scene:cones<br>match:17<br>bad4: 0.3972973469425242<br>",
          "Scene:cones<br>match:16<br>bad4: 0.3949951322854991<br>",
          "Scene:cones<br>match:15<br>bad4: 0.3937093209079053<br>",
          "Scene:cones<br>match:14<br>bad4: 0.3943828411533116<br>",
          "Scene:cones<br>match:13<br>bad4: 0.3947440929213023<br>",
          "Scene:cones<br>match:12<br>bad4: 0.3900049595581707<br>",
          "Scene:cones<br>match:11<br>bad4: 0.3885232150182769<br>",
          "Scene:cones<br>match:10<br>bad4: 0.3910948377734645<br>",
          "Scene:cones<br>match:9<br>bad4: 0.3958890773384929<br>",
          "Scene:cones<br>match:8<br>bad4: 0.4001138861505869<br>",
          "Scene:cones<br>match:7<br>bad4: 0.4164498135573502<br>",
          "Scene:cones<br>match:6<br>bad4: 0.465133081477581<br>",
          "Scene:cones<br>match:5<br>bad4: 0.6224735337158112<br>",
          "Scene:cones<br>match:4<br>bad4: 0.7514955210903681<br>",
          "Scene:cones<br>match:3<br>bad4: 0.8862730451074877<br>",
          "Scene:cones<br>match:2<br>bad4: 0.9577212973224508<br>",
          "Scene:cones<br>match:1<br>bad4: 0.994207725889506<br>",
          "Scene:cones<br>match:0<br>bad4: 1.0<br>",
          "Scene:cones<br>match:0<br>bad4: 1.0<br>"
         ],
         "type": "scatter",
         "uid": "2bb9929a-39cb-4155-b544-6f6cade97907",
         "x": [
          35,
          34,
          32,
          31,
          33,
          36,
          37,
          30,
          43,
          29,
          41,
          42,
          38,
          39,
          28,
          40,
          27,
          44,
          46,
          26,
          45,
          24,
          25,
          58,
          23,
          57,
          56,
          22,
          59,
          54,
          55,
          53,
          47,
          51,
          52,
          48,
          21,
          49,
          50,
          20,
          19,
          18,
          17,
          16,
          15,
          14,
          13,
          12,
          11,
          10,
          9,
          8,
          7,
          6,
          5,
          4,
          3,
          2,
          1,
          0,
          0
         ],
         "y": {
          "dtype": "float64",
          "shape": [
           61
          ],
          "value": {}
         }
        }
       ],
       "_js2py_pointsCallback": {},
       "_js2py_restyle": {},
       "_js2py_update": {},
       "_last_layout_edit_id": 2,
       "_layout": {
        "autosize": true,
        "legend": {
         "title": {
          "text": "are_occlusions_errors"
         }
        },
        "template": {
         "data": {
          "bar": [
           {
            "error_x": {
             "color": "#2a3f5f"
            },
            "error_y": {
             "color": "#2a3f5f"
            },
            "marker": {
             "line": {
              "color": "#E5ECF6",
              "width": 0.5
             }
            },
            "type": "bar"
           }
          ],
          "barpolar": [
           {
            "marker": {
             "line": {
              "color": "#E5ECF6",
              "width": 0.5
             }
            },
            "type": "barpolar"
           }
          ],
          "carpet": [
           {
            "aaxis": {
             "endlinecolor": "#2a3f5f",
             "gridcolor": "white",
             "linecolor": "white",
             "minorgridcolor": "white",
             "startlinecolor": "#2a3f5f"
            },
            "baxis": {
             "endlinecolor": "#2a3f5f",
             "gridcolor": "white",
             "linecolor": "white",
             "minorgridcolor": "white",
             "startlinecolor": "#2a3f5f"
            },
            "type": "carpet"
           }
          ],
          "choropleth": [
           {
            "colorbar": {
             "outlinewidth": 0,
             "ticks": ""
            },
            "type": "choropleth"
           }
          ],
          "contour": [
           {
            "colorbar": {
             "outlinewidth": 0,
             "ticks": ""
            },
            "colorscale": [
             [
              0,
              "#0d0887"
             ],
             [
              0.1111111111111111,
              "#46039f"
             ],
             [
              0.2222222222222222,
              "#7201a8"
             ],
             [
              0.3333333333333333,
              "#9c179e"
             ],
             [
              0.4444444444444444,
              "#bd3786"
             ],
             [
              0.5555555555555556,
              "#d8576b"
             ],
             [
              0.6666666666666666,
              "#ed7953"
             ],
             [
              0.7777777777777778,
              "#fb9f3a"
             ],
             [
              0.8888888888888888,
              "#fdca26"
             ],
             [
              1,
              "#f0f921"
             ]
            ],
            "type": "contour"
           }
          ],
          "contourcarpet": [
           {
            "colorbar": {
             "outlinewidth": 0,
             "ticks": ""
            },
            "type": "contourcarpet"
           }
          ],
          "heatmap": [
           {
            "colorbar": {
             "outlinewidth": 0,
             "ticks": ""
            },
            "colorscale": [
             [
              0,
              "#0d0887"
             ],
             [
              0.1111111111111111,
              "#46039f"
             ],
             [
              0.2222222222222222,
              "#7201a8"
             ],
             [
              0.3333333333333333,
              "#9c179e"
             ],
             [
              0.4444444444444444,
              "#bd3786"
             ],
             [
              0.5555555555555556,
              "#d8576b"
             ],
             [
              0.6666666666666666,
              "#ed7953"
             ],
             [
              0.7777777777777778,
              "#fb9f3a"
             ],
             [
              0.8888888888888888,
              "#fdca26"
             ],
             [
              1,
              "#f0f921"
             ]
            ],
            "type": "heatmap"
           }
          ],
          "heatmapgl": [
           {
            "colorbar": {
             "outlinewidth": 0,
             "ticks": ""
            },
            "colorscale": [
             [
              0,
              "#0d0887"
             ],
             [
              0.1111111111111111,
              "#46039f"
             ],
             [
              0.2222222222222222,
              "#7201a8"
             ],
             [
              0.3333333333333333,
              "#9c179e"
             ],
             [
              0.4444444444444444,
              "#bd3786"
             ],
             [
              0.5555555555555556,
              "#d8576b"
             ],
             [
              0.6666666666666666,
              "#ed7953"
             ],
             [
              0.7777777777777778,
              "#fb9f3a"
             ],
             [
              0.8888888888888888,
              "#fdca26"
             ],
             [
              1,
              "#f0f921"
             ]
            ],
            "type": "heatmapgl"
           }
          ],
          "histogram": [
           {
            "marker": {
             "colorbar": {
              "outlinewidth": 0,
              "ticks": ""
             }
            },
            "type": "histogram"
           }
          ],
          "histogram2d": [
           {
            "colorbar": {
             "outlinewidth": 0,
             "ticks": ""
            },
            "colorscale": [
             [
              0,
              "#0d0887"
             ],
             [
              0.1111111111111111,
              "#46039f"
             ],
             [
              0.2222222222222222,
              "#7201a8"
             ],
             [
              0.3333333333333333,
              "#9c179e"
             ],
             [
              0.4444444444444444,
              "#bd3786"
             ],
             [
              0.5555555555555556,
              "#d8576b"
             ],
             [
              0.6666666666666666,
              "#ed7953"
             ],
             [
              0.7777777777777778,
              "#fb9f3a"
             ],
             [
              0.8888888888888888,
              "#fdca26"
             ],
             [
              1,
              "#f0f921"
             ]
            ],
            "type": "histogram2d"
           }
          ],
          "histogram2dcontour": [
           {
            "colorbar": {
             "outlinewidth": 0,
             "ticks": ""
            },
            "colorscale": [
             [
              0,
              "#0d0887"
             ],
             [
              0.1111111111111111,
              "#46039f"
             ],
             [
              0.2222222222222222,
              "#7201a8"
             ],
             [
              0.3333333333333333,
              "#9c179e"
             ],
             [
              0.4444444444444444,
              "#bd3786"
             ],
             [
              0.5555555555555556,
              "#d8576b"
             ],
             [
              0.6666666666666666,
              "#ed7953"
             ],
             [
              0.7777777777777778,
              "#fb9f3a"
             ],
             [
              0.8888888888888888,
              "#fdca26"
             ],
             [
              1,
              "#f0f921"
             ]
            ],
            "type": "histogram2dcontour"
           }
          ],
          "mesh3d": [
           {
            "colorbar": {
             "outlinewidth": 0,
             "ticks": ""
            },
            "type": "mesh3d"
           }
          ],
          "parcoords": [
           {
            "line": {
             "colorbar": {
              "outlinewidth": 0,
              "ticks": ""
             }
            },
            "type": "parcoords"
           }
          ],
          "pie": [
           {
            "automargin": true,
            "type": "pie"
           }
          ],
          "scatter": [
           {
            "marker": {
             "colorbar": {
              "outlinewidth": 0,
              "ticks": ""
             }
            },
            "type": "scatter"
           }
          ],
          "scatter3d": [
           {
            "line": {
             "colorbar": {
              "outlinewidth": 0,
              "ticks": ""
             }
            },
            "marker": {
             "colorbar": {
              "outlinewidth": 0,
              "ticks": ""
             }
            },
            "type": "scatter3d"
           }
          ],
          "scattercarpet": [
           {
            "marker": {
             "colorbar": {
              "outlinewidth": 0,
              "ticks": ""
             }
            },
            "type": "scattercarpet"
           }
          ],
          "scattergeo": [
           {
            "marker": {
             "colorbar": {
              "outlinewidth": 0,
              "ticks": ""
             }
            },
            "type": "scattergeo"
           }
          ],
          "scattergl": [
           {
            "marker": {
             "colorbar": {
              "outlinewidth": 0,
              "ticks": ""
             }
            },
            "type": "scattergl"
           }
          ],
          "scattermapbox": [
           {
            "marker": {
             "colorbar": {
              "outlinewidth": 0,
              "ticks": ""
             }
            },
            "type": "scattermapbox"
           }
          ],
          "scatterpolar": [
           {
            "marker": {
             "colorbar": {
              "outlinewidth": 0,
              "ticks": ""
             }
            },
            "type": "scatterpolar"
           }
          ],
          "scatterpolargl": [
           {
            "marker": {
             "colorbar": {
              "outlinewidth": 0,
              "ticks": ""
             }
            },
            "type": "scatterpolargl"
           }
          ],
          "scatterternary": [
           {
            "marker": {
             "colorbar": {
              "outlinewidth": 0,
              "ticks": ""
             }
            },
            "type": "scatterternary"
           }
          ],
          "surface": [
           {
            "colorbar": {
             "outlinewidth": 0,
             "ticks": ""
            },
            "colorscale": [
             [
              0,
              "#0d0887"
             ],
             [
              0.1111111111111111,
              "#46039f"
             ],
             [
              0.2222222222222222,
              "#7201a8"
             ],
             [
              0.3333333333333333,
              "#9c179e"
             ],
             [
              0.4444444444444444,
              "#bd3786"
             ],
             [
              0.5555555555555556,
              "#d8576b"
             ],
             [
              0.6666666666666666,
              "#ed7953"
             ],
             [
              0.7777777777777778,
              "#fb9f3a"
             ],
             [
              0.8888888888888888,
              "#fdca26"
             ],
             [
              1,
              "#f0f921"
             ]
            ],
            "type": "surface"
           }
          ],
          "table": [
           {
            "cells": {
             "fill": {
              "color": "#EBF0F8"
             },
             "line": {
              "color": "white"
             }
            },
            "header": {
             "fill": {
              "color": "#C8D4E3"
             },
             "line": {
              "color": "white"
             }
            },
            "type": "table"
           }
          ]
         },
         "layout": {
          "annotationdefaults": {
           "arrowcolor": "#2a3f5f",
           "arrowhead": 0,
           "arrowwidth": 1
          },
          "coloraxis": {
           "colorbar": {
            "outlinewidth": 0,
            "ticks": ""
           }
          },
          "colorscale": {
           "diverging": [
            [
             0,
             "#8e0152"
            ],
            [
             0.1,
             "#c51b7d"
            ],
            [
             0.2,
             "#de77ae"
            ],
            [
             0.3,
             "#f1b6da"
            ],
            [
             0.4,
             "#fde0ef"
            ],
            [
             0.5,
             "#f7f7f7"
            ],
            [
             0.6,
             "#e6f5d0"
            ],
            [
             0.7,
             "#b8e186"
            ],
            [
             0.8,
             "#7fbc41"
            ],
            [
             0.9,
             "#4d9221"
            ],
            [
             1,
             "#276419"
            ]
           ],
           "sequential": [
            [
             0,
             "#0d0887"
            ],
            [
             0.1111111111111111,
             "#46039f"
            ],
            [
             0.2222222222222222,
             "#7201a8"
            ],
            [
             0.3333333333333333,
             "#9c179e"
            ],
            [
             0.4444444444444444,
             "#bd3786"
            ],
            [
             0.5555555555555556,
             "#d8576b"
            ],
            [
             0.6666666666666666,
             "#ed7953"
            ],
            [
             0.7777777777777778,
             "#fb9f3a"
            ],
            [
             0.8888888888888888,
             "#fdca26"
            ],
            [
             1,
             "#f0f921"
            ]
           ],
           "sequentialminus": [
            [
             0,
             "#0d0887"
            ],
            [
             0.1111111111111111,
             "#46039f"
            ],
            [
             0.2222222222222222,
             "#7201a8"
            ],
            [
             0.3333333333333333,
             "#9c179e"
            ],
            [
             0.4444444444444444,
             "#bd3786"
            ],
            [
             0.5555555555555556,
             "#d8576b"
            ],
            [
             0.6666666666666666,
             "#ed7953"
            ],
            [
             0.7777777777777778,
             "#fb9f3a"
            ],
            [
             0.8888888888888888,
             "#fdca26"
            ],
            [
             1,
             "#f0f921"
            ]
           ]
          },
          "colorway": [
           "#636efa",
           "#EF553B",
           "#00cc96",
           "#ab63fa",
           "#FFA15A",
           "#19d3f3",
           "#FF6692",
           "#B6E880",
           "#FF97FF",
           "#FECB52"
          ],
          "font": {
           "color": "#2a3f5f"
          },
          "geo": {
           "bgcolor": "white",
           "lakecolor": "white",
           "landcolor": "#E5ECF6",
           "showlakes": true,
           "showland": true,
           "subunitcolor": "white"
          },
          "hoverlabel": {
           "align": "left"
          },
          "hovermode": "closest",
          "mapbox": {
           "style": "light"
          },
          "paper_bgcolor": "white",
          "plot_bgcolor": "#E5ECF6",
          "polar": {
           "angularaxis": {
            "gridcolor": "white",
            "linecolor": "white",
            "ticks": ""
           },
           "bgcolor": "#E5ECF6",
           "radialaxis": {
            "gridcolor": "white",
            "linecolor": "white",
            "ticks": ""
           }
          },
          "scene": {
           "xaxis": {
            "backgroundcolor": "#E5ECF6",
            "gridcolor": "white",
            "gridwidth": 2,
            "linecolor": "white",
            "showbackground": true,
            "ticks": "",
            "zerolinecolor": "white"
           },
           "yaxis": {
            "backgroundcolor": "#E5ECF6",
            "gridcolor": "white",
            "gridwidth": 2,
            "linecolor": "white",
            "showbackground": true,
            "ticks": "",
            "zerolinecolor": "white"
           },
           "zaxis": {
            "backgroundcolor": "#E5ECF6",
            "gridcolor": "white",
            "gridwidth": 2,
            "linecolor": "white",
            "showbackground": true,
            "ticks": "",
            "zerolinecolor": "white"
           }
          },
          "shapedefaults": {
           "line": {
            "color": "#2a3f5f"
           }
          },
          "ternary": {
           "aaxis": {
            "gridcolor": "white",
            "linecolor": "white",
            "ticks": ""
           },
           "baxis": {
            "gridcolor": "white",
            "linecolor": "white",
            "ticks": ""
           },
           "bgcolor": "#E5ECF6",
           "caxis": {
            "gridcolor": "white",
            "linecolor": "white",
            "ticks": ""
           }
          },
          "title": {
           "x": 0.05
          },
          "xaxis": {
           "automargin": true,
           "gridcolor": "white",
           "linecolor": "white",
           "ticks": "",
           "title": {
            "standoff": 15
           },
           "zerolinecolor": "white",
           "zerolinewidth": 2
          },
          "yaxis": {
           "automargin": true,
           "gridcolor": "white",
           "linecolor": "white",
           "ticks": "",
           "title": {
            "standoff": 15
           },
           "zerolinecolor": "white",
           "zerolinewidth": 2
          }
         }
        },
        "title": {
         "text": "scene Cones"
        },
        "xaxis": {
         "showspikes": true
        },
        "yaxis": {
         "showspikes": true
        }
       },
       "_model_module_version": "4.6.0",
       "_py2js_addTraces": {},
       "_py2js_animate": {},
       "_py2js_deleteTraces": {},
       "_py2js_moveTraces": {},
       "_py2js_removeLayoutProps": {},
       "_py2js_removeTraceProps": {},
       "_py2js_restyle": {},
       "_py2js_update": {},
       "_view_count": 1,
       "_view_module_version": "4.6.0"
      }
     },
     "a681ba134d1140ebaed1f6f376d473c3": {
      "model_module": "@jupyter-widgets/base",
      "model_module_version": "1.2.0",
      "model_name": "LayoutModel",
      "state": {}
     },
     "a7ceae72359245d5a084022098bf9a26": {
      "model_module": "@jupyter-widgets/controls",
      "model_module_version": "1.5.0",
      "model_name": "DropdownModel",
      "state": {
       "_options_labels": [
        "ALG_004_EXP_001-Baseline-MacLean_et_al-Numba.csv",
        "ALG_004_EXP_002-Baseline-MacLean_et_al-Numba_param_search.csv"
       ],
       "description": "CSV Log file:",
       "index": 1,
       "layout": "IPY_MODEL_38856689374d4354afc078ce671b004c",
       "style": "IPY_MODEL_dfc8ceed365d45719cfac9d89da03b3a"
      }
     },
     "ae2ee4c612ba4a90a3982e51608958cd": {
      "model_module": "@jupyter-widgets/base",
      "model_module_version": "1.2.0",
      "model_name": "LayoutModel",
      "state": {}
     },
     "ae48cbe44dc44e04aa4c7a8a87b4cc4c": {
      "model_module": "@jupyter-widgets/base",
      "model_module_version": "1.2.0",
      "model_name": "LayoutModel",
      "state": {
       "height": "375px",
       "width": "450px"
      }
     },
     "aefb381cc36844b7b95755e094bfac3e": {
      "model_module": "@jupyter-widgets/controls",
      "model_module_version": "1.5.0",
      "model_name": "HBoxModel",
      "state": {
       "children": [
        "IPY_MODEL_a4710776080f4b8ba61d341a61ec9eb0",
        "IPY_MODEL_d0c33e3abde044acaff03dba67dc0b4f"
       ],
       "layout": "IPY_MODEL_86da4ce7650e43f392050cb9b1b4ef7b"
      }
     },
     "b244e5e91230431380f87383084f09c0": {
      "model_module": "@jupyter-widgets/controls",
      "model_module_version": "1.5.0",
      "model_name": "VBoxModel",
      "state": {
       "children": [
        "IPY_MODEL_65a56afc956d4b56909b2962e4c1de66",
        "IPY_MODEL_75c533a0498e4d9d9afdcc611ab952f5"
       ],
       "layout": "IPY_MODEL_a681ba134d1140ebaed1f6f376d473c3"
      }
     },
     "b819b9dd9c2d40a9b5f94f2a1f39a2f1": {
      "model_module": "@jupyter-widgets/controls",
      "model_module_version": "1.5.0",
      "model_name": "DescriptionStyleModel",
      "state": {
       "description_width": ""
      }
     },
     "b9f35aaa4bb142c9ac87065a53c7c5c3": {
      "buffers": [
       {
        "data": "AAAAAEKEL0EAAAAAYpEvQQAAAAASnC9BAAAAAFamL0EAAAAAxrcvQQAAAAAy2i9BAAAAAIb1L0EAAAAAWw0wQQAAAABTEjBBAAAAANMYMEEAAAAAzRswQQAAAAB1LTBBAAAAAANKMEEAAAAAyVYwQQAAAAD3dDBBAAAAAD+AMEEAAAAAf4AwQQAAAABNgTBBAAAAAD2DMEEAAAAANYcwQQAAAACjiTBBAAAAADuLMEEAAAAAbYwwQQAAAADBjDBBAAAAAN+aMEEAAAAAx6swQQAAAADl0TBBAAAAAB8GMUEAAAAA3SExQQAAAABDIjFBAAAAAG9AMUEAAAAACUgxQQAAAABpTzFBAAAAAAlwMUEAAAAAlZQxQQAAAAB77zFBAAAAAJ93MkEAAAAAdX0yQQAAAACPfzJBAAAAACPwMkEAAAAAwVYzQQAAAADzlzNBAAAAAFXHM0EAAAAAP8kzQQAAAAAj2DRBAAAAAEsCNUEAAAAAiSA1QQAAAACZMTVBAAAAAKNPNUEAAAAAd4I1QQAAAADRtDVBAAAAAI2MNkEAAAAAdZg3QQAAAABHojtBAAAAgJnCQUEAAACATyFMQQAAAEBS7VhBAAAAIHcpZEEAAADgmqttQQAAAODwS25BAAAA4PBLbkE=",
        "encoding": "base64",
        "path": [
         "_data",
         0,
         "y",
         "value"
        ]
       },
       {
        "data": "AAAAAOS+RkEAAAAAdsdGQQAAAABHyUZBAAAAAKPMRkEAAAAAjNZGQQAAAADa30ZBAAAAAOHpRkEAAAAAn/RGQQAAAAAD/0ZBAAAAAO3/RkEAAAAAhwNHQQAAAAC6C0dBAAAAAEkYR0EAAAAAJxpHQQAAAAB3GkdBAAAAAOoaR0EAAAAAaBxHQQAAAAAhIEdBAAAAAEoiR0EAAAAAOiNHQQAAAAAGJEdBAAAAAIgoR0EAAAAA0yxHQQAAAAA+N0dBAAAAANJGR0EAAAAAVFpHQQAAAAC0cEdBAAAAAGFxR0EAAAAAhndHQQAAAACagkdBAAAAAKGNR0EAAAAAqZ5HQQAAAAAXpkdBAAAAADrCR0EAAAAA/ehHQQAAAADGB0hBAAAAAMEMSEEAAAAApxlIQQAAAADwYUhBAAAAACB2SEEAAAAAY6VIQQAAAAC7pUhBAAAAABCoSEEAAAAA9wFJQQAAAABtKUlBAAAAAK4zSUEAAAAA5T1JQQAAAAAuSUlBAAAAAIhXSUEAAAAAD2BJQQAAAAC4xUlBAAAAADPbSUEAAAAAdR1LQQAAAABkOk1BAAAAAGOzUEEAAAAAIhZWQQAAAECUlWBBAAAAQJhcaEEAAADAHfdwQQAAAECSRnFBAAAAQJJGcUE=",
        "encoding": "base64",
        "path": [
         "_data",
         1,
         "y",
         "value"
        ]
       }
      ],
      "model_module": "plotlywidget",
      "model_module_version": "4.6.0",
      "model_name": "FigureModel",
      "state": {
       "_config": {
        "plotlyServerURL": "https://plot.ly"
       },
       "_data": [
        {
         "hovertemplate": "%{text}",
         "name": "False",
         "showlegend": true,
         "text": [
          "Scene:teddy<br>match:35<br>bad4: 0.33847383356699245<br>",
          "Scene:teddy<br>match:33<br>bad4: 0.3399028790864945<br>",
          "Scene:teddy<br>match:32<br>bad4: 0.33982160635552755<br>",
          "Scene:teddy<br>match:34<br>bad4: 0.34185342462970114<br>",
          "Scene:teddy<br>match:31<br>bad4: 0.3400992881863313<br>",
          "Scene:teddy<br>match:30<br>bad4: 0.34241556101888915<br>",
          "Scene:teddy<br>match:29<br>bad4: 0.3431605610527528<br>",
          "Scene:teddy<br>match:28<br>bad4: 0.34404101563822803<br>",
          "Scene:teddy<br>match:24<br>bad4: 0.33885310631150484<br>",
          "Scene:teddy<br>match:25<br>bad4: 0.3409729700442259<br>",
          "Scene:teddy<br>match:27<br>bad4: 0.3426187428463065<br>",
          "Scene:teddy<br>match:26<br>bad4: 0.34206337918469903<br>",
          "Scene:teddy<br>match:23<br>bad4: 0.3427880610358209<br>",
          "Scene:teddy<br>match:22<br>bad4: 0.34335697015258954<br>",
          "Scene:teddy<br>match:21<br>bad4: 0.3455919702541805<br>",
          "Scene:teddy<br>match:42<br>bad4: 0.3399299699968168<br>",
          "Scene:teddy<br>match:43<br>bad4: 0.3386702426668292<br>",
          "Scene:teddy<br>match:41<br>bad4: 0.3396387427108519<br>",
          "Scene:teddy<br>match:39<br>bad4: 0.3374511517023251<br>",
          "Scene:teddy<br>match:38<br>bad4: 0.33837901538086435<br>",
          "Scene:teddy<br>match:44<br>bad4: 0.33758660625393666<br>",
          "Scene:teddy<br>match:37<br>bad4: 0.3383248335602197<br>",
          "Scene:teddy<br>match:20<br>bad4: 0.3464859702948168<br>",
          "Scene:teddy<br>match:40<br>bad4: 0.3391781972353726<br>",
          "Scene:teddy<br>match:36<br>bad4: 0.3387515153977961<br>",
          "Scene:teddy<br>match:19<br>bad4: 0.34788792490399656<br>",
          "Scene:teddy<br>match:18<br>bad4: 0.34854487947931273<br>",
          "Scene:teddy<br>match:17<br>bad4: 0.34805724309351105<br>",
          "Scene:teddy<br>match:15<br>bad4: 0.34799628854528586<br>",
          "Scene:teddy<br>match:16<br>bad4: 0.3494185613372073<br>",
          "Scene:teddy<br>match:46<br>bad4: 0.33677387894426725<br>",
          "Scene:teddy<br>match:45<br>bad4: 0.33797265172602964<br>",
          "Scene:teddy<br>match:14<br>bad4: 0.3471022885046495<br>",
          "Scene:teddy<br>match:47<br>bad4: 0.3380877880948995<br>",
          "Scene:teddy<br>match:13<br>bad4: 0.3452533338751516<br>",
          "Scene:teddy<br>match:12<br>bad4: 0.3485110158414098<br>",
          "Scene:teddy<br>match:49<br>bad4: 0.3409323336787424<br>",
          "Scene:teddy<br>match:11<br>bad4: 0.35231051601411434<br>",
          "Scene:teddy<br>match:48<br>bad4: 0.34191437917792633<br>",
          "Scene:teddy<br>match:10<br>bad4: 0.3528320160378189<br>",
          "Scene:teddy<br>match:50<br>bad4: 0.3418466519021205<br>",
          "Scene:teddy<br>match:9<br>bad4: 0.35111174323235195<br>",
          "Scene:teddy<br>match:51<br>bad4: 0.3460186520917569<br>",
          "Scene:teddy<br>match:52<br>bad4: 0.3417382882608313<br>",
          "Scene:teddy<br>match:53<br>bad4: 0.3447927883996722<br>",
          "Scene:teddy<br>match:54<br>bad4: 0.34417647018983955<br>",
          "Scene:teddy<br>match:55<br>bad4: 0.3434991974317817<br>",
          "Scene:teddy<br>match:8<br>bad4: 0.3554191979735999<br>",
          "Scene:teddy<br>match:56<br>bad4: 0.3461879702812713<br>",
          "Scene:teddy<br>match:57<br>bad4: 0.3466552884843313<br>",
          "Scene:teddy<br>match:58<br>bad4: 0.3486126067551185<br>",
          "Scene:teddy<br>match:59<br>bad4: 0.35016356137107096<br>",
          "Scene:teddy<br>match:7<br>bad4: 0.3602142891006495<br>",
          "Scene:teddy<br>match:6<br>bad4: 0.3745115170232508<br>",
          "Scene:teddy<br>match:5<br>bad4: 0.3918090632640484<br>",
          "Scene:teddy<br>match:4<br>bad4: 0.4429702474077385<br>",
          "Scene:teddy<br>match:3<br>bad4: 0.5590209345009516<br>",
          "Scene:teddy<br>match:2<br>bad4: 0.7145159870234542<br>",
          "Scene:teddy<br>match:1<br>bad4: 0.9864613175664236<br>",
          "Scene:teddy<br>match:0<br>bad4: 1.0<br>",
          "Scene:teddy<br>match:0<br>bad4: 1.0<br>"
         ],
         "type": "scatter",
         "uid": "63ebb5fc-9d94-40fe-bfcd-59093342589a",
         "x": [
          35,
          33,
          32,
          34,
          31,
          30,
          29,
          28,
          24,
          25,
          27,
          26,
          23,
          22,
          21,
          42,
          43,
          41,
          39,
          38,
          44,
          37,
          20,
          40,
          36,
          19,
          18,
          17,
          15,
          16,
          46,
          45,
          14,
          47,
          13,
          12,
          49,
          11,
          48,
          10,
          50,
          9,
          51,
          52,
          53,
          54,
          55,
          8,
          56,
          57,
          58,
          59,
          7,
          6,
          5,
          4,
          3,
          2,
          1,
          0,
          0
         ],
         "y": {
          "dtype": "float64",
          "shape": [
           61
          ],
          "value": {}
         }
        },
        {
         "hovertemplate": "%{text}",
         "name": "True",
         "showlegend": true,
         "text": [
          "Scene:teddy<br>match:35<br>bad4: 0.4065100638668473<br>",
          "Scene:teddy<br>match:33<br>bad4: 0.4078164311979872<br>",
          "Scene:teddy<br>match:34<br>bad4: 0.4095340623185601<br>",
          "Scene:teddy<br>match:32<br>bad4: 0.4077559512289529<br>",
          "Scene:teddy<br>match:31<br>bad4: 0.40805835107412425<br>",
          "Scene:teddy<br>match:30<br>bad4: 0.4101328140119993<br>",
          "Scene:teddy<br>match:29<br>bad4: 0.41082228565898976<br>",
          "Scene:teddy<br>match:28<br>bad4: 0.4116206212502419<br>",
          "Scene:teddy<br>match:27<br>bad4: 0.4103868298819431<br>",
          "Scene:teddy<br>match:24<br>bad4: 0.4070846235726727<br>",
          "Scene:teddy<br>match:25<br>bad4: 0.4089534546158312<br>",
          "Scene:teddy<br>match:26<br>bad4: 0.40992113412037934<br>",
          "Scene:teddy<br>match:43<br>bad4: 0.4065644958389781<br>",
          "Scene:teddy<br>match:42<br>bad4: 0.40771361525062894<br>",
          "Scene:teddy<br>match:44<br>bad4: 0.40559681633442995<br>",
          "Scene:teddy<br>match:41<br>bad4: 0.4074535513837817<br>",
          "Scene:teddy<br>match:23<br>bad4: 0.4106045577704664<br>",
          "Scene:teddy<br>match:39<br>bad4: 0.4055726243468164<br>",
          "Scene:teddy<br>match:40<br>bad4: 0.4070422875943488<br>",
          "Scene:teddy<br>match:38<br>bad4: 0.4064193439132959<br>",
          "Scene:teddy<br>match:37<br>bad4: 0.4063649119411651<br>",
          "Scene:teddy<br>match:22<br>bad4: 0.4110883975227405<br>",
          "Scene:teddy<br>match:36<br>bad4: 0.4067096477646603<br>",
          "Scene:teddy<br>match:21<br>bad4: 0.4131084284884846<br>",
          "Scene:teddy<br>match:20<br>bad4: 0.4139128120766402<br>",
          "Scene:teddy<br>match:19<br>bad4: 0.4151828914263596<br>",
          "Scene:teddy<br>match:18<br>bad4: 0.4157755951228953<br>",
          "Scene:teddy<br>match:46<br>bad4: 0.4048771047029224<br>",
          "Scene:teddy<br>match:45<br>bad4: 0.40593550416102187<br>",
          "Scene:teddy<br>match:47<br>bad4: 0.4060020321269596<br>",
          "Scene:teddy<br>match:17<br>bad4: 0.4153401393458487<br>",
          "Scene:teddy<br>match:16<br>bad4: 0.4165557867234372<br>",
          "Scene:teddy<br>match:15<br>bad4: 0.4153098993613315<br>",
          "Scene:teddy<br>match:14<br>bad4: 0.4145659957422102<br>",
          "Scene:teddy<br>match:13<br>bad4: 0.4129390845751887<br>",
          "Scene:teddy<br>match:49<br>bad4: 0.4085482388233017<br>",
          "Scene:teddy<br>match:48<br>bad4: 0.4094312463712019<br>",
          "Scene:teddy<br>match:12<br>bad4: 0.4158844590671569<br>",
          "Scene:teddy<br>match:11<br>bad4: 0.4193015773175924<br>",
          "Scene:teddy<br>match:50<br>bad4: 0.4093889103928779<br>",
          "Scene:teddy<br>match:52<br>bad4: 0.40926795045480935<br>",
          "Scene:teddy<br>match:10<br>bad4: 0.4198398490419973<br>",
          "Scene:teddy<br>match:51<br>bad4: 0.4131084284884846<br>",
          "Scene:teddy<br>match:9<br>bad4: 0.41830970582543053<br>",
          "Scene:teddy<br>match:53<br>bad4: 0.4120076930520611<br>",
          "Scene:teddy<br>match:54<br>bad4: 0.411451277336946<br>",
          "Scene:teddy<br>match:55<br>bad4: 0.4108162376620863<br>",
          "Scene:teddy<br>match:56<br>bad4: 0.4131689084575189<br>",
          "Scene:teddy<br>match:57<br>bad4: 0.41353783626862783<br>",
          "Scene:teddy<br>match:58<br>bad4: 0.4152675633830075<br>",
          "Scene:teddy<br>match:59<br>bad4: 0.4166465066769886<br>",
          "Scene:teddy<br>match:8<br>bad4: 0.42222275982194696<br>",
          "Scene:teddy<br>match:7<br>bad4: 0.4265954615831237<br>",
          "Scene:teddy<br>match:6<br>bad4: 0.4394776949874202<br>",
          "Scene:teddy<br>match:5<br>bad4: 0.4551964389394232<br>",
          "Scene:teddy<br>match:4<br>bad4: 0.501221695374492<br>",
          "Scene:teddy<br>match:3<br>bad4: 0.6054105380298045<br>",
          "Scene:teddy<br>match:2<br>bad4: 0.7447745306754403<br>",
          "Scene:teddy<br>match:1<br>bad4: 0.9879100541900524<br>",
          "Scene:teddy<br>match:0<br>bad4: 1.0<br>",
          "Scene:teddy<br>match:0<br>bad4: 1.0<br>"
         ],
         "type": "scatter",
         "uid": "8268a825-feda-487a-b9d6-34465f3e09c8",
         "x": [
          35,
          33,
          34,
          32,
          31,
          30,
          29,
          28,
          27,
          24,
          25,
          26,
          43,
          42,
          44,
          41,
          23,
          39,
          40,
          38,
          37,
          22,
          36,
          21,
          20,
          19,
          18,
          46,
          45,
          47,
          17,
          16,
          15,
          14,
          13,
          49,
          48,
          12,
          11,
          50,
          52,
          10,
          51,
          9,
          53,
          54,
          55,
          56,
          57,
          58,
          59,
          8,
          7,
          6,
          5,
          4,
          3,
          2,
          1,
          0,
          0
         ],
         "y": {
          "dtype": "float64",
          "shape": [
           61
          ],
          "value": {}
         }
        }
       ],
       "_js2py_restyle": {},
       "_js2py_update": {},
       "_last_layout_edit_id": 2,
       "_layout": {
        "autosize": true,
        "legend": {
         "title": {
          "text": "are_occlusions_errors"
         }
        },
        "template": {
         "data": {
          "bar": [
           {
            "error_x": {
             "color": "#2a3f5f"
            },
            "error_y": {
             "color": "#2a3f5f"
            },
            "marker": {
             "line": {
              "color": "#E5ECF6",
              "width": 0.5
             }
            },
            "type": "bar"
           }
          ],
          "barpolar": [
           {
            "marker": {
             "line": {
              "color": "#E5ECF6",
              "width": 0.5
             }
            },
            "type": "barpolar"
           }
          ],
          "carpet": [
           {
            "aaxis": {
             "endlinecolor": "#2a3f5f",
             "gridcolor": "white",
             "linecolor": "white",
             "minorgridcolor": "white",
             "startlinecolor": "#2a3f5f"
            },
            "baxis": {
             "endlinecolor": "#2a3f5f",
             "gridcolor": "white",
             "linecolor": "white",
             "minorgridcolor": "white",
             "startlinecolor": "#2a3f5f"
            },
            "type": "carpet"
           }
          ],
          "choropleth": [
           {
            "colorbar": {
             "outlinewidth": 0,
             "ticks": ""
            },
            "type": "choropleth"
           }
          ],
          "contour": [
           {
            "colorbar": {
             "outlinewidth": 0,
             "ticks": ""
            },
            "colorscale": [
             [
              0,
              "#0d0887"
             ],
             [
              0.1111111111111111,
              "#46039f"
             ],
             [
              0.2222222222222222,
              "#7201a8"
             ],
             [
              0.3333333333333333,
              "#9c179e"
             ],
             [
              0.4444444444444444,
              "#bd3786"
             ],
             [
              0.5555555555555556,
              "#d8576b"
             ],
             [
              0.6666666666666666,
              "#ed7953"
             ],
             [
              0.7777777777777778,
              "#fb9f3a"
             ],
             [
              0.8888888888888888,
              "#fdca26"
             ],
             [
              1,
              "#f0f921"
             ]
            ],
            "type": "contour"
           }
          ],
          "contourcarpet": [
           {
            "colorbar": {
             "outlinewidth": 0,
             "ticks": ""
            },
            "type": "contourcarpet"
           }
          ],
          "heatmap": [
           {
            "colorbar": {
             "outlinewidth": 0,
             "ticks": ""
            },
            "colorscale": [
             [
              0,
              "#0d0887"
             ],
             [
              0.1111111111111111,
              "#46039f"
             ],
             [
              0.2222222222222222,
              "#7201a8"
             ],
             [
              0.3333333333333333,
              "#9c179e"
             ],
             [
              0.4444444444444444,
              "#bd3786"
             ],
             [
              0.5555555555555556,
              "#d8576b"
             ],
             [
              0.6666666666666666,
              "#ed7953"
             ],
             [
              0.7777777777777778,
              "#fb9f3a"
             ],
             [
              0.8888888888888888,
              "#fdca26"
             ],
             [
              1,
              "#f0f921"
             ]
            ],
            "type": "heatmap"
           }
          ],
          "heatmapgl": [
           {
            "colorbar": {
             "outlinewidth": 0,
             "ticks": ""
            },
            "colorscale": [
             [
              0,
              "#0d0887"
             ],
             [
              0.1111111111111111,
              "#46039f"
             ],
             [
              0.2222222222222222,
              "#7201a8"
             ],
             [
              0.3333333333333333,
              "#9c179e"
             ],
             [
              0.4444444444444444,
              "#bd3786"
             ],
             [
              0.5555555555555556,
              "#d8576b"
             ],
             [
              0.6666666666666666,
              "#ed7953"
             ],
             [
              0.7777777777777778,
              "#fb9f3a"
             ],
             [
              0.8888888888888888,
              "#fdca26"
             ],
             [
              1,
              "#f0f921"
             ]
            ],
            "type": "heatmapgl"
           }
          ],
          "histogram": [
           {
            "marker": {
             "colorbar": {
              "outlinewidth": 0,
              "ticks": ""
             }
            },
            "type": "histogram"
           }
          ],
          "histogram2d": [
           {
            "colorbar": {
             "outlinewidth": 0,
             "ticks": ""
            },
            "colorscale": [
             [
              0,
              "#0d0887"
             ],
             [
              0.1111111111111111,
              "#46039f"
             ],
             [
              0.2222222222222222,
              "#7201a8"
             ],
             [
              0.3333333333333333,
              "#9c179e"
             ],
             [
              0.4444444444444444,
              "#bd3786"
             ],
             [
              0.5555555555555556,
              "#d8576b"
             ],
             [
              0.6666666666666666,
              "#ed7953"
             ],
             [
              0.7777777777777778,
              "#fb9f3a"
             ],
             [
              0.8888888888888888,
              "#fdca26"
             ],
             [
              1,
              "#f0f921"
             ]
            ],
            "type": "histogram2d"
           }
          ],
          "histogram2dcontour": [
           {
            "colorbar": {
             "outlinewidth": 0,
             "ticks": ""
            },
            "colorscale": [
             [
              0,
              "#0d0887"
             ],
             [
              0.1111111111111111,
              "#46039f"
             ],
             [
              0.2222222222222222,
              "#7201a8"
             ],
             [
              0.3333333333333333,
              "#9c179e"
             ],
             [
              0.4444444444444444,
              "#bd3786"
             ],
             [
              0.5555555555555556,
              "#d8576b"
             ],
             [
              0.6666666666666666,
              "#ed7953"
             ],
             [
              0.7777777777777778,
              "#fb9f3a"
             ],
             [
              0.8888888888888888,
              "#fdca26"
             ],
             [
              1,
              "#f0f921"
             ]
            ],
            "type": "histogram2dcontour"
           }
          ],
          "mesh3d": [
           {
            "colorbar": {
             "outlinewidth": 0,
             "ticks": ""
            },
            "type": "mesh3d"
           }
          ],
          "parcoords": [
           {
            "line": {
             "colorbar": {
              "outlinewidth": 0,
              "ticks": ""
             }
            },
            "type": "parcoords"
           }
          ],
          "pie": [
           {
            "automargin": true,
            "type": "pie"
           }
          ],
          "scatter": [
           {
            "marker": {
             "colorbar": {
              "outlinewidth": 0,
              "ticks": ""
             }
            },
            "type": "scatter"
           }
          ],
          "scatter3d": [
           {
            "line": {
             "colorbar": {
              "outlinewidth": 0,
              "ticks": ""
             }
            },
            "marker": {
             "colorbar": {
              "outlinewidth": 0,
              "ticks": ""
             }
            },
            "type": "scatter3d"
           }
          ],
          "scattercarpet": [
           {
            "marker": {
             "colorbar": {
              "outlinewidth": 0,
              "ticks": ""
             }
            },
            "type": "scattercarpet"
           }
          ],
          "scattergeo": [
           {
            "marker": {
             "colorbar": {
              "outlinewidth": 0,
              "ticks": ""
             }
            },
            "type": "scattergeo"
           }
          ],
          "scattergl": [
           {
            "marker": {
             "colorbar": {
              "outlinewidth": 0,
              "ticks": ""
             }
            },
            "type": "scattergl"
           }
          ],
          "scattermapbox": [
           {
            "marker": {
             "colorbar": {
              "outlinewidth": 0,
              "ticks": ""
             }
            },
            "type": "scattermapbox"
           }
          ],
          "scatterpolar": [
           {
            "marker": {
             "colorbar": {
              "outlinewidth": 0,
              "ticks": ""
             }
            },
            "type": "scatterpolar"
           }
          ],
          "scatterpolargl": [
           {
            "marker": {
             "colorbar": {
              "outlinewidth": 0,
              "ticks": ""
             }
            },
            "type": "scatterpolargl"
           }
          ],
          "scatterternary": [
           {
            "marker": {
             "colorbar": {
              "outlinewidth": 0,
              "ticks": ""
             }
            },
            "type": "scatterternary"
           }
          ],
          "surface": [
           {
            "colorbar": {
             "outlinewidth": 0,
             "ticks": ""
            },
            "colorscale": [
             [
              0,
              "#0d0887"
             ],
             [
              0.1111111111111111,
              "#46039f"
             ],
             [
              0.2222222222222222,
              "#7201a8"
             ],
             [
              0.3333333333333333,
              "#9c179e"
             ],
             [
              0.4444444444444444,
              "#bd3786"
             ],
             [
              0.5555555555555556,
              "#d8576b"
             ],
             [
              0.6666666666666666,
              "#ed7953"
             ],
             [
              0.7777777777777778,
              "#fb9f3a"
             ],
             [
              0.8888888888888888,
              "#fdca26"
             ],
             [
              1,
              "#f0f921"
             ]
            ],
            "type": "surface"
           }
          ],
          "table": [
           {
            "cells": {
             "fill": {
              "color": "#EBF0F8"
             },
             "line": {
              "color": "white"
             }
            },
            "header": {
             "fill": {
              "color": "#C8D4E3"
             },
             "line": {
              "color": "white"
             }
            },
            "type": "table"
           }
          ]
         },
         "layout": {
          "annotationdefaults": {
           "arrowcolor": "#2a3f5f",
           "arrowhead": 0,
           "arrowwidth": 1
          },
          "coloraxis": {
           "colorbar": {
            "outlinewidth": 0,
            "ticks": ""
           }
          },
          "colorscale": {
           "diverging": [
            [
             0,
             "#8e0152"
            ],
            [
             0.1,
             "#c51b7d"
            ],
            [
             0.2,
             "#de77ae"
            ],
            [
             0.3,
             "#f1b6da"
            ],
            [
             0.4,
             "#fde0ef"
            ],
            [
             0.5,
             "#f7f7f7"
            ],
            [
             0.6,
             "#e6f5d0"
            ],
            [
             0.7,
             "#b8e186"
            ],
            [
             0.8,
             "#7fbc41"
            ],
            [
             0.9,
             "#4d9221"
            ],
            [
             1,
             "#276419"
            ]
           ],
           "sequential": [
            [
             0,
             "#0d0887"
            ],
            [
             0.1111111111111111,
             "#46039f"
            ],
            [
             0.2222222222222222,
             "#7201a8"
            ],
            [
             0.3333333333333333,
             "#9c179e"
            ],
            [
             0.4444444444444444,
             "#bd3786"
            ],
            [
             0.5555555555555556,
             "#d8576b"
            ],
            [
             0.6666666666666666,
             "#ed7953"
            ],
            [
             0.7777777777777778,
             "#fb9f3a"
            ],
            [
             0.8888888888888888,
             "#fdca26"
            ],
            [
             1,
             "#f0f921"
            ]
           ],
           "sequentialminus": [
            [
             0,
             "#0d0887"
            ],
            [
             0.1111111111111111,
             "#46039f"
            ],
            [
             0.2222222222222222,
             "#7201a8"
            ],
            [
             0.3333333333333333,
             "#9c179e"
            ],
            [
             0.4444444444444444,
             "#bd3786"
            ],
            [
             0.5555555555555556,
             "#d8576b"
            ],
            [
             0.6666666666666666,
             "#ed7953"
            ],
            [
             0.7777777777777778,
             "#fb9f3a"
            ],
            [
             0.8888888888888888,
             "#fdca26"
            ],
            [
             1,
             "#f0f921"
            ]
           ]
          },
          "colorway": [
           "#636efa",
           "#EF553B",
           "#00cc96",
           "#ab63fa",
           "#FFA15A",
           "#19d3f3",
           "#FF6692",
           "#B6E880",
           "#FF97FF",
           "#FECB52"
          ],
          "font": {
           "color": "#2a3f5f"
          },
          "geo": {
           "bgcolor": "white",
           "lakecolor": "white",
           "landcolor": "#E5ECF6",
           "showlakes": true,
           "showland": true,
           "subunitcolor": "white"
          },
          "hoverlabel": {
           "align": "left"
          },
          "hovermode": "closest",
          "mapbox": {
           "style": "light"
          },
          "paper_bgcolor": "white",
          "plot_bgcolor": "#E5ECF6",
          "polar": {
           "angularaxis": {
            "gridcolor": "white",
            "linecolor": "white",
            "ticks": ""
           },
           "bgcolor": "#E5ECF6",
           "radialaxis": {
            "gridcolor": "white",
            "linecolor": "white",
            "ticks": ""
           }
          },
          "scene": {
           "xaxis": {
            "backgroundcolor": "#E5ECF6",
            "gridcolor": "white",
            "gridwidth": 2,
            "linecolor": "white",
            "showbackground": true,
            "ticks": "",
            "zerolinecolor": "white"
           },
           "yaxis": {
            "backgroundcolor": "#E5ECF6",
            "gridcolor": "white",
            "gridwidth": 2,
            "linecolor": "white",
            "showbackground": true,
            "ticks": "",
            "zerolinecolor": "white"
           },
           "zaxis": {
            "backgroundcolor": "#E5ECF6",
            "gridcolor": "white",
            "gridwidth": 2,
            "linecolor": "white",
            "showbackground": true,
            "ticks": "",
            "zerolinecolor": "white"
           }
          },
          "shapedefaults": {
           "line": {
            "color": "#2a3f5f"
           }
          },
          "ternary": {
           "aaxis": {
            "gridcolor": "white",
            "linecolor": "white",
            "ticks": ""
           },
           "baxis": {
            "gridcolor": "white",
            "linecolor": "white",
            "ticks": ""
           },
           "bgcolor": "#E5ECF6",
           "caxis": {
            "gridcolor": "white",
            "linecolor": "white",
            "ticks": ""
           }
          },
          "title": {
           "x": 0.05
          },
          "xaxis": {
           "automargin": true,
           "gridcolor": "white",
           "linecolor": "white",
           "ticks": "",
           "title": {
            "standoff": 15
           },
           "zerolinecolor": "white",
           "zerolinewidth": 2
          },
          "yaxis": {
           "automargin": true,
           "gridcolor": "white",
           "linecolor": "white",
           "ticks": "",
           "title": {
            "standoff": 15
           },
           "zerolinecolor": "white",
           "zerolinewidth": 2
          }
         }
        },
        "title": {
         "text": "scene Teddy"
        },
        "xaxis": {
         "showspikes": true
        },
        "yaxis": {
         "showspikes": true
        }
       },
       "_model_module_version": "4.6.0",
       "_py2js_addTraces": {},
       "_py2js_animate": {},
       "_py2js_deleteTraces": {},
       "_py2js_moveTraces": {},
       "_py2js_removeLayoutProps": {},
       "_py2js_removeTraceProps": {},
       "_py2js_restyle": {},
       "_py2js_update": {},
       "_view_count": 1,
       "_view_module_version": "4.6.0"
      }
     },
     "ba0b008f5927415d8a5cb6749fc74a39": {
      "model_module": "@jupyter-widgets/controls",
      "model_module_version": "1.5.0",
      "model_name": "DropdownModel",
      "state": {
       "_options_labels": [
        "abs_error",
        "mse",
        "avg",
        "eucledian",
        "bad1",
        "bad2",
        "bad4",
        "bad8"
       ],
       "description": "Default metric:",
       "index": 0,
       "layout": "IPY_MODEL_56d32868885049b2b4334142547d1dfa",
       "style": "IPY_MODEL_b819b9dd9c2d40a9b5f94f2a1f39a2f1"
      }
     },
     "bda5f570aee242dc939fe5e8135baef3": {
      "buffers": [
       {
        "data": "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",
        "encoding": "base64",
        "path": [
         "value"
        ]
       }
      ],
      "model_module": "@jupyter-widgets/controls",
      "model_module_version": "1.5.0",
      "model_name": "ImageModel",
      "state": {
       "layout": "IPY_MODEL_c3b73b4d71c04031b1f13eb568c9a8c2",
       "value": {}
      }
     },
     "bfdde422b5ec429b8d5f23ed0662a66a": {
      "model_module": "@jupyter-widgets/controls",
      "model_module_version": "1.5.0",
      "model_name": "VBoxModel",
      "state": {
       "children": [
        "IPY_MODEL_79dbb01ecf14419a81ca8fc97a6f6a07",
        "IPY_MODEL_aefb381cc36844b7b95755e094bfac3e"
       ],
       "layout": "IPY_MODEL_d412d4dfe94043e09357069fc7a45b26"
      }
     },
     "c1e9af3edc3f42a29b32ba279a4080ce": {
      "model_module": "@jupyter-widgets/base",
      "model_module_version": "1.2.0",
      "model_name": "LayoutModel",
      "state": {}
     },
     "c1ff1e697eed467997ead90dc15868df": {
      "model_module": "@jupyter-widgets/base",
      "model_module_version": "1.2.0",
      "model_name": "LayoutModel",
      "state": {}
     },
     "c2d0d49ad5a84f6a9bbfa7f37010e121": {
      "model_module": "@jupyter-widgets/base",
      "model_module_version": "1.2.0",
      "model_name": "LayoutModel",
      "state": {}
     },
     "c3b16753d6c14b92be02dfc240d65de3": {
      "model_module": "@jupyter-widgets/base",
      "model_module_version": "1.2.0",
      "model_name": "LayoutModel",
      "state": {}
     },
     "c3b73b4d71c04031b1f13eb568c9a8c2": {
      "model_module": "@jupyter-widgets/base",
      "model_module_version": "1.2.0",
      "model_name": "LayoutModel",
      "state": {
       "height": "375px",
       "width": "450px"
      }
     },
     "c823d22562a14017b68ec9414faffcc7": {
      "model_module": "@jupyter-widgets/controls",
      "model_module_version": "1.5.0",
      "model_name": "VBoxModel",
      "state": {
       "children": [
        "IPY_MODEL_d07a32fa6000477381c5dba1a876a035",
        "IPY_MODEL_ba0b008f5927415d8a5cb6749fc74a39"
       ],
       "layout": "IPY_MODEL_d51a6a76c77a4998beb9db6b35e84b3f"
      }
     },
     "cd2c45ea604e42f09fead81ae71259fb": {
      "model_module": "@jupyter-widgets/controls",
      "model_module_version": "1.5.0",
      "model_name": "VBoxModel",
      "state": {
       "children": [
        "IPY_MODEL_894dc17cdb15491b9878ff13be7f70fb",
        "IPY_MODEL_d33bc169c5cb46c18f2b0e3709de6280"
       ],
       "layout": "IPY_MODEL_53147c38e19d4a78b61dfe1347c114b8"
      }
     },
     "d07a32fa6000477381c5dba1a876a035": {
      "model_module": "@jupyter-widgets/controls",
      "model_module_version": "1.5.0",
      "model_name": "DropdownModel",
      "state": {
       "_options_labels": [
        "ALG_004_EXP_001-Baseline-MacLean_et_al-Numba.csv",
        "ALG_004_EXP_002-Baseline-MacLean_et_al-Numba_param_search.csv"
       ],
       "description": "CSV Log file:",
       "index": 1,
       "layout": "IPY_MODEL_231e15782e8b40aea1145ad7ae13560a",
       "style": "IPY_MODEL_1a7ad8b9fcef4df0b8c75e477ea3e354"
      }
     },
     "d0c33e3abde044acaff03dba67dc0b4f": {
      "buffers": [
       {
        "data": "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",
        "encoding": "base64",
        "path": [
         "value"
        ]
       }
      ],
      "model_module": "@jupyter-widgets/controls",
      "model_module_version": "1.5.0",
      "model_name": "ImageModel",
      "state": {
       "layout": "IPY_MODEL_74b9cb2b53f2445d82acf13e78c70fd5",
       "value": {}
      }
     },
     "d33bc169c5cb46c18f2b0e3709de6280": {
      "model_module": "@jupyter-widgets/controls",
      "model_module_version": "1.5.0",
      "model_name": "DropdownModel",
      "state": {
       "_options_labels": [
        "abs_error",
        "mse",
        "avg",
        "eucledian",
        "bad1",
        "bad2",
        "bad4",
        "bad8"
       ],
       "description": "Default metric:",
       "index": 0,
       "layout": "IPY_MODEL_026c74b4f8b84ac7a2784046eedf7754",
       "style": "IPY_MODEL_3ffc7ceedf9b43a08908d64d1a4bb1d8"
      }
     },
     "d412d4dfe94043e09357069fc7a45b26": {
      "model_module": "@jupyter-widgets/base",
      "model_module_version": "1.2.0",
      "model_name": "LayoutModel",
      "state": {}
     },
     "d51a6a76c77a4998beb9db6b35e84b3f": {
      "model_module": "@jupyter-widgets/base",
      "model_module_version": "1.2.0",
      "model_name": "LayoutModel",
      "state": {}
     },
     "d68d5fc7ac9c429988a3c247110beaed": {
      "model_module": "@jupyter-widgets/controls",
      "model_module_version": "1.5.0",
      "model_name": "VBoxModel",
      "state": {
       "children": [
        "IPY_MODEL_0dbb33a10acc4b9b90771b3758ce3c55",
        "IPY_MODEL_2e13fe2e05164e6699a8fe976db34f2b"
       ],
       "layout": "IPY_MODEL_3f98f6237616424d868e28315fa5442e"
      }
     },
     "d8d78c2e2bb2453f91394de247babb1f": {
      "model_module": "@jupyter-widgets/base",
      "model_module_version": "1.2.0",
      "model_name": "LayoutModel",
      "state": {}
     },
     "df83e313565040c69b1e895826065749": {
      "model_module": "@jupyter-widgets/controls",
      "model_module_version": "1.5.0",
      "model_name": "DescriptionStyleModel",
      "state": {
       "description_width": ""
      }
     },
     "dfc8ceed365d45719cfac9d89da03b3a": {
      "model_module": "@jupyter-widgets/controls",
      "model_module_version": "1.5.0",
      "model_name": "DescriptionStyleModel",
      "state": {
       "description_width": ""
      }
     },
     "e0c7fbeb0dc64339a29527c2464d5767": {
      "model_module": "@jupyter-widgets/base",
      "model_module_version": "1.2.0",
      "model_name": "LayoutModel",
      "state": {}
     },
     "e152628319df419a984f9e53d8cb3119": {
      "model_module": "@jupyter-widgets/controls",
      "model_module_version": "1.5.0",
      "model_name": "DescriptionStyleModel",
      "state": {
       "description_width": ""
      }
     },
     "e1dfbc4f27764387b2182c1b279bb145": {
      "model_module": "@jupyter-widgets/controls",
      "model_module_version": "1.5.0",
      "model_name": "DropdownModel",
      "state": {
       "_options_labels": [
        "abs_error",
        "mse",
        "avg",
        "eucledian",
        "bad1",
        "bad2",
        "bad4",
        "bad8"
       ],
       "description": "Default metric:",
       "index": 0,
       "layout": "IPY_MODEL_c3b16753d6c14b92be02dfc240d65de3",
       "style": "IPY_MODEL_4a3886e5adae44a8a76957932afce6a0"
      }
     },
     "e40daaf094ff4a1f8b0b82106d3a2453": {
      "buffers": [
       {
        "data": "AAAAAMwiNkEAAAAA9CM2QQAAAAACJTZBAAAAALoqNkEAAAAAxCo2QQAAAACMNDZBAAAAACI4NkEAAAAARjs2QQAAAACKQzZBAAAAAJxHNkEAAAAAnks2QQAAAAAyTzZBAAAAANZSNkEAAAAAnlU2QQAAAADsVzZBAAAAADRbNkEAAAAAamg2QQAAAAA8bTZBAAAAABx2NkEAAAAAso02QQAAAABAtDZBAAAAABbDNkEAAAAAlsM2QQAAAAAWyzZBAAAAAPDRNkEAAAAAgtI2QQAAAAAC1zZBAAAAAATYNkEAAAAAUPY2QQAAAACmEDdBAAAAAOI/N0EAAAAA2EA3QQAAAAC8WDdBAAAAAGirN0EAAAAAIMc3QQAAAABi1TdBAAAAAADhN0EAAAAAVuU3QQAAAAB05jdBAAAAAGTqN0EAAAAA8Os3QQAAAAAU8DdBAAAAAHDwN0EAAAAAhvI3QQAAAACW+TdBAAAAAB4XOEEAAAAAjhc4QQAAAAAyYzhBAAAAAJh/OUEAAAAA4MQ6QQAAAACQSj1BAAAAAER8QEEAAAAAXd1DQQAAAABeeE5BAAAAgMt1X0EAAAAAlH5mQQAAAIDZzm5BAAAAAPVVcUEAAACggyNyQQAAAEDnR3JBAAAAQOdHckE=",
        "encoding": "base64",
        "path": [
         "_data",
         0,
         "y",
         "value"
        ]
       },
       {
        "data": "AAAAAAcFTEEAAAAArQ5MQQAAAADlEExBAAAAACIVTEEAAAAAgxVMQQAAAACXF0xBAAAAAIsbTEEAAAAAQR1MQQAAAAAkHkxBAAAAADogTEEAAAAA/SJMQQAAAADgI0xBAAAAAAEnTEEAAAAAWCdMQQAAAACTKExBAAAAAHIsTEEAAAAAgzRMQQAAAACNN0xBAAAAAF1CTEEAAAAAfkRMQQAAAADbRExBAAAAAA9HTEEAAAAA9EdMQQAAAACDXExBAAAAAKheTEEAAAAAyWJMQQAAAACTZExBAAAAAHplTEEAAAAALGZMQQAAAAAiZ0xBAAAAABRrTEEAAAAALm1MQQAAAAAncExBAAAAAM51TEEAAAAA3HVMQQAAAACNd0xBAAAAAG95TEEAAAAA5HpMQQAAAACqgUxBAAAAADqDTEEAAAAAJZRMQQAAAAANm0xBAAAAAOPPTEEAAAAAa+VMQQAAAAATBk1BAAAAALxATUEAAAAA6K5NQQAAAADL6E1BAAAAAJ6PTkEAAAAAN05PQQAAAAAKVlBBAAAAAB1aUUEAAAAAcilTQQAAAICimVhBAAAAAN6NZEEAAADALZJrQQAAAEB2AXJBAAAAILjzc0EAAABgmcJ0QQAAAAD95nRBAAAAAP3mdEE=",
        "encoding": "base64",
        "path": [
         "_data",
         1,
         "y",
         "value"
        ]
       }
      ],
      "model_module": "plotlywidget",
      "model_module_version": "4.6.0",
      "model_name": "FigureModel",
      "state": {
       "_config": {
        "plotlyServerURL": "https://plot.ly"
       },
       "_data": [
        {
         "hovertemplate": "%{text}",
         "name": "False",
         "showlegend": true,
         "text": [
          "Scene:cones<br>match:28<br>bad4: 0.33889637730500394<br>",
          "Scene:cones<br>match:29<br>bad4: 0.34020955213095616<br>",
          "Scene:cones<br>match:24<br>bad4: 0.3320525825771577<br>",
          "Scene:cones<br>match:30<br>bad4: 0.3404110445645679<br>",
          "Scene:cones<br>match:31<br>bad4: 0.3407514972972222<br>",
          "Scene:cones<br>match:32<br>bad4: 0.34155746703166906<br>",
          "Scene:cones<br>match:27<br>bad4: 0.3391881939329933<br>",
          "Scene:cones<br>match:25<br>bad4: 0.3350193849617165<br>",
          "Scene:cones<br>match:22<br>bad4: 0.332177646846296<br>",
          "Scene:cones<br>match:23<br>bad4: 0.33205953059210985<br>",
          "Scene:cones<br>match:35<br>bad4: 0.3458582882870364<br>",
          "Scene:cones<br>match:26<br>bad4: 0.33923683003765825<br>",
          "Scene:cones<br>match:34<br>bad4: 0.3456081597487598<br>",
          "Scene:cones<br>match:33<br>bad4: 0.34535803121048314<br>",
          "Scene:cones<br>match:20<br>bad4: 0.32867584731042343<br>",
          "Scene:cones<br>match:21<br>bad4: 0.33109375651376394<br>",
          "Scene:cones<br>match:18<br>bad4: 0.3223739977488432<br>",
          "Scene:cones<br>match:19<br>bad4: 0.32696663563219985<br>",
          "Scene:cones<br>match:36<br>bad4: 0.3485124299987494<br>",
          "Scene:cones<br>match:37<br>bad4: 0.35163903672720703<br>",
          "Scene:cones<br>match:38<br>bad4: 0.35437655461834555<br>",
          "Scene:cones<br>match:39<br>bad4: 0.3555507691452552<br>",
          "Scene:cones<br>match:17<br>bad4: 0.32074121423509305<br>",
          "Scene:cones<br>match:41<br>bad4: 0.3599002265052874<br>",
          "Scene:cones<br>match:43<br>bad4: 0.3632422216972611<br>",
          "Scene:cones<br>match:16<br>bad4: 0.31803843641871515<br>",
          "Scene:cones<br>match:42<br>bad4: 0.3633255978766866<br>",
          "Scene:cones<br>match:40<br>bad4: 0.3594625015633033<br>",
          "Scene:cones<br>match:15<br>bad4: 0.3164820810694385<br>",
          "Scene:cones<br>match:44<br>bad4: 0.36705668190597945<br>",
          "Scene:cones<br>match:45<br>bad4: 0.37258035379292137<br>",
          "Scene:cones<br>match:46<br>bad4: 0.37369203618526187<br>",
          "Scene:cones<br>match:14<br>bad4: 0.3172394146992205<br>",
          "Scene:cones<br>match:47<br>bad4: 0.3770340313772355<br>",
          "Scene:cones<br>match:48<br>bad4: 0.3787362950405069<br>",
          "Scene:cones<br>match:49<br>bad4: 0.379771549268374<br>",
          "Scene:cones<br>match:51<br>bad4: 0.3839125661798424<br>",
          "Scene:cones<br>match:53<br>bad4: 0.3859413865458639<br>",
          "Scene:cones<br>match:52<br>bad4: 0.3840862665536456<br>",
          "Scene:cones<br>match:54<br>bad4: 0.38681683642983206<br>",
          "Scene:cones<br>match:58<br>bad4: 0.3922501841223962<br>",
          "Scene:cones<br>match:50<br>bad4: 0.3835443213873797<br>",
          "Scene:cones<br>match:56<br>bad4: 0.3892208496032684<br>",
          "Scene:cones<br>match:57<br>bad4: 0.39008240345733225<br>",
          "Scene:cones<br>match:55<br>bad4: 0.3882481275099704<br>",
          "Scene:cones<br>match:13<br>bad4: 0.3175103872823534<br>",
          "Scene:cones<br>match:59<br>bad4: 0.3946403012659283<br>",
          "Scene:cones<br>match:12<br>bad4: 0.3120492475299807<br>",
          "Scene:cones<br>match:11<br>bad4: 0.3102705557022359<br>",
          "Scene:cones<br>match:10<br>bad4: 0.31289690535414033<br>",
          "Scene:cones<br>match:9<br>bad4: 0.3182746689270876<br>",
          "Scene:cones<br>match:8<br>bad4: 0.32288815085530065<br>",
          "Scene:cones<br>match:7<br>bad4: 0.3410155218654031<br>",
          "Scene:cones<br>match:6<br>bad4: 0.39581451579283794<br>",
          "Scene:cones<br>match:5<br>bad4: 0.5734266220140906<br>",
          "Scene:cones<br>match:4<br>bad4: 0.7187999388574684<br>",
          "Scene:cones<br>match:3<br>bad4: 0.8711351666828787<br>",
          "Scene:cones<br>match:2<br>bad4: 0.9520656448452676<br>",
          "Scene:cones<br>match:1<br>bad4: 0.9934271778552868<br>",
          "Scene:cones<br>match:0<br>bad4: 1.0<br>",
          "Scene:cones<br>match:0<br>bad4: 1.0<br>"
         ],
         "type": "scatter",
         "uid": "8897e66f-938b-4c3d-8396-ea3a09640fd6",
         "x": [
          28,
          29,
          24,
          30,
          31,
          32,
          27,
          25,
          22,
          23,
          35,
          26,
          34,
          33,
          20,
          21,
          18,
          19,
          36,
          37,
          38,
          39,
          17,
          41,
          43,
          16,
          42,
          40,
          15,
          44,
          45,
          46,
          14,
          47,
          48,
          49,
          51,
          53,
          52,
          54,
          58,
          50,
          56,
          57,
          55,
          13,
          59,
          12,
          11,
          10,
          9,
          8,
          7,
          6,
          5,
          4,
          3,
          2,
          1,
          0,
          0
         ],
         "y": {
          "dtype": "float64",
          "shape": [
           61
          ],
          "value": {}
         }
        },
        {
         "hovertemplate": "%{text}",
         "name": "True",
         "showlegend": true,
         "text": [
          "Scene:cones<br>match:35<br>bad4: 0.4183540389784535<br>",
          "Scene:cones<br>match:34<br>bad4: 0.41821933492937213<br>",
          "Scene:cones<br>match:32<br>bad4: 0.4147598900325127<br>",
          "Scene:cones<br>match:31<br>bad4: 0.4140741239644625<br>",
          "Scene:cones<br>match:33<br>bad4: 0.418035647589716<br>",
          "Scene:cones<br>match:36<br>bad4: 0.4206501307241568<br>",
          "Scene:cones<br>match:37<br>bad4: 0.4233564575284256<br>",
          "Scene:cones<br>match:30<br>bad4: 0.41390880535877206<br>",
          "Scene:cones<br>match:43<br>bad4: 0.43325108222457615<br>",
          "Scene:cones<br>match:29<br>bad4: 0.4137924700436564<br>",
          "Scene:cones<br>match:41<br>bad4: 0.4303182077013977<br>",
          "Scene:cones<br>match:42<br>bad4: 0.433355171717048<br>",
          "Scene:cones<br>match:38<br>bad4: 0.4257199012986695<br>",
          "Scene:cones<br>match:39<br>bad4: 0.4266077234403414<br>",
          "Scene:cones<br>match:28<br>bad4: 0.41272096056232815<br>",
          "Scene:cones<br>match:40<br>bad4: 0.4300365537805916<br>",
          "Scene:cones<br>match:27<br>bad4: 0.41299649157181256<br>",
          "Scene:cones<br>match:44<br>bad4: 0.43662480636292944<br>",
          "Scene:cones<br>match:46<br>bad4: 0.4424783095866423<br>",
          "Scene:cones<br>match:26<br>bad4: 0.4130515977737094<br>",
          "Scene:cones<br>match:45<br>bad4: 0.4415231354204297<br>",
          "Scene:cones<br>match:24<br>bad4: 0.40678785949143104<br>",
          "Scene:cones<br>match:25<br>bad4: 0.4093349906013311<br>",
          "Scene:cones<br>match:58<br>bad4: 0.4585693205405306<br>",
          "Scene:cones<br>match:23<br>bad4: 0.4068001053140747<br>",
          "Scene:cones<br>match:57<br>bad4: 0.4567018325873586<br>",
          "Scene:cones<br>match:56<br>bad4: 0.4559303457608023<br>",
          "Scene:cones<br>match:22<br>bad4: 0.4069041948065466<br>",
          "Scene:cones<br>match:59<br>bad4: 0.460663356212612<br>",
          "Scene:cones<br>match:54<br>bad4: 0.4538056955321116<br>",
          "Scene:cones<br>match:55<br>bad4: 0.4550608923530961<br>",
          "Scene:cones<br>match:53<br>bad4: 0.4532117731338897<br>",
          "Scene:cones<br>match:47<br>bad4: 0.4454601674003955<br>",
          "Scene:cones<br>match:51<br>bad4: 0.451478989229799<br>",
          "Scene:cones<br>match:52<br>bad4: 0.4515830787222709<br>",
          "Scene:cones<br>match:48<br>bad4: 0.44697864940822063<br>",
          "Scene:cones<br>match:21<br>bad4: 0.4060714788667716<br>",
          "Scene:cones<br>match:49<br>bad4: 0.4478725944612144<br>",
          "Scene:cones<br>match:50<br>bad4: 0.4511789665750271<br>",
          "Scene:cones<br>match:20<br>bad4: 0.4041243930664152<br>",
          "Scene:cones<br>match:19<br>bad4: 0.40259978814726827<br>",
          "Scene:cones<br>match:18<br>bad4: 0.3987117394578774<br>",
          "Scene:cones<br>match:17<br>bad4: 0.3972973469425242<br>",
          "Scene:cones<br>match:16<br>bad4: 0.3949951322854991<br>",
          "Scene:cones<br>match:15<br>bad4: 0.3937093209079053<br>",
          "Scene:cones<br>match:14<br>bad4: 0.3943828411533116<br>",
          "Scene:cones<br>match:13<br>bad4: 0.3947440929213023<br>",
          "Scene:cones<br>match:12<br>bad4: 0.3900049595581707<br>",
          "Scene:cones<br>match:11<br>bad4: 0.3885232150182769<br>",
          "Scene:cones<br>match:10<br>bad4: 0.3910948377734645<br>",
          "Scene:cones<br>match:9<br>bad4: 0.3958890773384929<br>",
          "Scene:cones<br>match:8<br>bad4: 0.4001138861505869<br>",
          "Scene:cones<br>match:7<br>bad4: 0.4164498135573502<br>",
          "Scene:cones<br>match:6<br>bad4: 0.465133081477581<br>",
          "Scene:cones<br>match:5<br>bad4: 0.6224735337158112<br>",
          "Scene:cones<br>match:4<br>bad4: 0.7514955210903681<br>",
          "Scene:cones<br>match:3<br>bad4: 0.8862730451074877<br>",
          "Scene:cones<br>match:2<br>bad4: 0.9577212973224508<br>",
          "Scene:cones<br>match:1<br>bad4: 0.994207725889506<br>",
          "Scene:cones<br>match:0<br>bad4: 1.0<br>",
          "Scene:cones<br>match:0<br>bad4: 1.0<br>"
         ],
         "type": "scatter",
         "uid": "1d5b04ea-1ac3-4704-a974-959ea5a14f30",
         "x": [
          35,
          34,
          32,
          31,
          33,
          36,
          37,
          30,
          43,
          29,
          41,
          42,
          38,
          39,
          28,
          40,
          27,
          44,
          46,
          26,
          45,
          24,
          25,
          58,
          23,
          57,
          56,
          22,
          59,
          54,
          55,
          53,
          47,
          51,
          52,
          48,
          21,
          49,
          50,
          20,
          19,
          18,
          17,
          16,
          15,
          14,
          13,
          12,
          11,
          10,
          9,
          8,
          7,
          6,
          5,
          4,
          3,
          2,
          1,
          0,
          0
         ],
         "y": {
          "dtype": "float64",
          "shape": [
           61
          ],
          "value": {}
         }
        }
       ],
       "_js2py_restyle": {},
       "_js2py_update": {},
       "_last_layout_edit_id": 6,
       "_layout": {
        "autosize": true,
        "legend": {
         "title": {
          "text": "are_occlusions_errors"
         }
        },
        "template": {
         "data": {
          "bar": [
           {
            "error_x": {
             "color": "#2a3f5f"
            },
            "error_y": {
             "color": "#2a3f5f"
            },
            "marker": {
             "line": {
              "color": "#E5ECF6",
              "width": 0.5
             }
            },
            "type": "bar"
           }
          ],
          "barpolar": [
           {
            "marker": {
             "line": {
              "color": "#E5ECF6",
              "width": 0.5
             }
            },
            "type": "barpolar"
           }
          ],
          "carpet": [
           {
            "aaxis": {
             "endlinecolor": "#2a3f5f",
             "gridcolor": "white",
             "linecolor": "white",
             "minorgridcolor": "white",
             "startlinecolor": "#2a3f5f"
            },
            "baxis": {
             "endlinecolor": "#2a3f5f",
             "gridcolor": "white",
             "linecolor": "white",
             "minorgridcolor": "white",
             "startlinecolor": "#2a3f5f"
            },
            "type": "carpet"
           }
          ],
          "choropleth": [
           {
            "colorbar": {
             "outlinewidth": 0,
             "ticks": ""
            },
            "type": "choropleth"
           }
          ],
          "contour": [
           {
            "colorbar": {
             "outlinewidth": 0,
             "ticks": ""
            },
            "colorscale": [
             [
              0,
              "#0d0887"
             ],
             [
              0.1111111111111111,
              "#46039f"
             ],
             [
              0.2222222222222222,
              "#7201a8"
             ],
             [
              0.3333333333333333,
              "#9c179e"
             ],
             [
              0.4444444444444444,
              "#bd3786"
             ],
             [
              0.5555555555555556,
              "#d8576b"
             ],
             [
              0.6666666666666666,
              "#ed7953"
             ],
             [
              0.7777777777777778,
              "#fb9f3a"
             ],
             [
              0.8888888888888888,
              "#fdca26"
             ],
             [
              1,
              "#f0f921"
             ]
            ],
            "type": "contour"
           }
          ],
          "contourcarpet": [
           {
            "colorbar": {
             "outlinewidth": 0,
             "ticks": ""
            },
            "type": "contourcarpet"
           }
          ],
          "heatmap": [
           {
            "colorbar": {
             "outlinewidth": 0,
             "ticks": ""
            },
            "colorscale": [
             [
              0,
              "#0d0887"
             ],
             [
              0.1111111111111111,
              "#46039f"
             ],
             [
              0.2222222222222222,
              "#7201a8"
             ],
             [
              0.3333333333333333,
              "#9c179e"
             ],
             [
              0.4444444444444444,
              "#bd3786"
             ],
             [
              0.5555555555555556,
              "#d8576b"
             ],
             [
              0.6666666666666666,
              "#ed7953"
             ],
             [
              0.7777777777777778,
              "#fb9f3a"
             ],
             [
              0.8888888888888888,
              "#fdca26"
             ],
             [
              1,
              "#f0f921"
             ]
            ],
            "type": "heatmap"
           }
          ],
          "heatmapgl": [
           {
            "colorbar": {
             "outlinewidth": 0,
             "ticks": ""
            },
            "colorscale": [
             [
              0,
              "#0d0887"
             ],
             [
              0.1111111111111111,
              "#46039f"
             ],
             [
              0.2222222222222222,
              "#7201a8"
             ],
             [
              0.3333333333333333,
              "#9c179e"
             ],
             [
              0.4444444444444444,
              "#bd3786"
             ],
             [
              0.5555555555555556,
              "#d8576b"
             ],
             [
              0.6666666666666666,
              "#ed7953"
             ],
             [
              0.7777777777777778,
              "#fb9f3a"
             ],
             [
              0.8888888888888888,
              "#fdca26"
             ],
             [
              1,
              "#f0f921"
             ]
            ],
            "type": "heatmapgl"
           }
          ],
          "histogram": [
           {
            "marker": {
             "colorbar": {
              "outlinewidth": 0,
              "ticks": ""
             }
            },
            "type": "histogram"
           }
          ],
          "histogram2d": [
           {
            "colorbar": {
             "outlinewidth": 0,
             "ticks": ""
            },
            "colorscale": [
             [
              0,
              "#0d0887"
             ],
             [
              0.1111111111111111,
              "#46039f"
             ],
             [
              0.2222222222222222,
              "#7201a8"
             ],
             [
              0.3333333333333333,
              "#9c179e"
             ],
             [
              0.4444444444444444,
              "#bd3786"
             ],
             [
              0.5555555555555556,
              "#d8576b"
             ],
             [
              0.6666666666666666,
              "#ed7953"
             ],
             [
              0.7777777777777778,
              "#fb9f3a"
             ],
             [
              0.8888888888888888,
              "#fdca26"
             ],
             [
              1,
              "#f0f921"
             ]
            ],
            "type": "histogram2d"
           }
          ],
          "histogram2dcontour": [
           {
            "colorbar": {
             "outlinewidth": 0,
             "ticks": ""
            },
            "colorscale": [
             [
              0,
              "#0d0887"
             ],
             [
              0.1111111111111111,
              "#46039f"
             ],
             [
              0.2222222222222222,
              "#7201a8"
             ],
             [
              0.3333333333333333,
              "#9c179e"
             ],
             [
              0.4444444444444444,
              "#bd3786"
             ],
             [
              0.5555555555555556,
              "#d8576b"
             ],
             [
              0.6666666666666666,
              "#ed7953"
             ],
             [
              0.7777777777777778,
              "#fb9f3a"
             ],
             [
              0.8888888888888888,
              "#fdca26"
             ],
             [
              1,
              "#f0f921"
             ]
            ],
            "type": "histogram2dcontour"
           }
          ],
          "mesh3d": [
           {
            "colorbar": {
             "outlinewidth": 0,
             "ticks": ""
            },
            "type": "mesh3d"
           }
          ],
          "parcoords": [
           {
            "line": {
             "colorbar": {
              "outlinewidth": 0,
              "ticks": ""
             }
            },
            "type": "parcoords"
           }
          ],
          "pie": [
           {
            "automargin": true,
            "type": "pie"
           }
          ],
          "scatter": [
           {
            "marker": {
             "colorbar": {
              "outlinewidth": 0,
              "ticks": ""
             }
            },
            "type": "scatter"
           }
          ],
          "scatter3d": [
           {
            "line": {
             "colorbar": {
              "outlinewidth": 0,
              "ticks": ""
             }
            },
            "marker": {
             "colorbar": {
              "outlinewidth": 0,
              "ticks": ""
             }
            },
            "type": "scatter3d"
           }
          ],
          "scattercarpet": [
           {
            "marker": {
             "colorbar": {
              "outlinewidth": 0,
              "ticks": ""
             }
            },
            "type": "scattercarpet"
           }
          ],
          "scattergeo": [
           {
            "marker": {
             "colorbar": {
              "outlinewidth": 0,
              "ticks": ""
             }
            },
            "type": "scattergeo"
           }
          ],
          "scattergl": [
           {
            "marker": {
             "colorbar": {
              "outlinewidth": 0,
              "ticks": ""
             }
            },
            "type": "scattergl"
           }
          ],
          "scattermapbox": [
           {
            "marker": {
             "colorbar": {
              "outlinewidth": 0,
              "ticks": ""
             }
            },
            "type": "scattermapbox"
           }
          ],
          "scatterpolar": [
           {
            "marker": {
             "colorbar": {
              "outlinewidth": 0,
              "ticks": ""
             }
            },
            "type": "scatterpolar"
           }
          ],
          "scatterpolargl": [
           {
            "marker": {
             "colorbar": {
              "outlinewidth": 0,
              "ticks": ""
             }
            },
            "type": "scatterpolargl"
           }
          ],
          "scatterternary": [
           {
            "marker": {
             "colorbar": {
              "outlinewidth": 0,
              "ticks": ""
             }
            },
            "type": "scatterternary"
           }
          ],
          "surface": [
           {
            "colorbar": {
             "outlinewidth": 0,
             "ticks": ""
            },
            "colorscale": [
             [
              0,
              "#0d0887"
             ],
             [
              0.1111111111111111,
              "#46039f"
             ],
             [
              0.2222222222222222,
              "#7201a8"
             ],
             [
              0.3333333333333333,
              "#9c179e"
             ],
             [
              0.4444444444444444,
              "#bd3786"
             ],
             [
              0.5555555555555556,
              "#d8576b"
             ],
             [
              0.6666666666666666,
              "#ed7953"
             ],
             [
              0.7777777777777778,
              "#fb9f3a"
             ],
             [
              0.8888888888888888,
              "#fdca26"
             ],
             [
              1,
              "#f0f921"
             ]
            ],
            "type": "surface"
           }
          ],
          "table": [
           {
            "cells": {
             "fill": {
              "color": "#EBF0F8"
             },
             "line": {
              "color": "white"
             }
            },
            "header": {
             "fill": {
              "color": "#C8D4E3"
             },
             "line": {
              "color": "white"
             }
            },
            "type": "table"
           }
          ]
         },
         "layout": {
          "annotationdefaults": {
           "arrowcolor": "#2a3f5f",
           "arrowhead": 0,
           "arrowwidth": 1
          },
          "coloraxis": {
           "colorbar": {
            "outlinewidth": 0,
            "ticks": ""
           }
          },
          "colorscale": {
           "diverging": [
            [
             0,
             "#8e0152"
            ],
            [
             0.1,
             "#c51b7d"
            ],
            [
             0.2,
             "#de77ae"
            ],
            [
             0.3,
             "#f1b6da"
            ],
            [
             0.4,
             "#fde0ef"
            ],
            [
             0.5,
             "#f7f7f7"
            ],
            [
             0.6,
             "#e6f5d0"
            ],
            [
             0.7,
             "#b8e186"
            ],
            [
             0.8,
             "#7fbc41"
            ],
            [
             0.9,
             "#4d9221"
            ],
            [
             1,
             "#276419"
            ]
           ],
           "sequential": [
            [
             0,
             "#0d0887"
            ],
            [
             0.1111111111111111,
             "#46039f"
            ],
            [
             0.2222222222222222,
             "#7201a8"
            ],
            [
             0.3333333333333333,
             "#9c179e"
            ],
            [
             0.4444444444444444,
             "#bd3786"
            ],
            [
             0.5555555555555556,
             "#d8576b"
            ],
            [
             0.6666666666666666,
             "#ed7953"
            ],
            [
             0.7777777777777778,
             "#fb9f3a"
            ],
            [
             0.8888888888888888,
             "#fdca26"
            ],
            [
             1,
             "#f0f921"
            ]
           ],
           "sequentialminus": [
            [
             0,
             "#0d0887"
            ],
            [
             0.1111111111111111,
             "#46039f"
            ],
            [
             0.2222222222222222,
             "#7201a8"
            ],
            [
             0.3333333333333333,
             "#9c179e"
            ],
            [
             0.4444444444444444,
             "#bd3786"
            ],
            [
             0.5555555555555556,
             "#d8576b"
            ],
            [
             0.6666666666666666,
             "#ed7953"
            ],
            [
             0.7777777777777778,
             "#fb9f3a"
            ],
            [
             0.8888888888888888,
             "#fdca26"
            ],
            [
             1,
             "#f0f921"
            ]
           ]
          },
          "colorway": [
           "#636efa",
           "#EF553B",
           "#00cc96",
           "#ab63fa",
           "#FFA15A",
           "#19d3f3",
           "#FF6692",
           "#B6E880",
           "#FF97FF",
           "#FECB52"
          ],
          "font": {
           "color": "#2a3f5f"
          },
          "geo": {
           "bgcolor": "white",
           "lakecolor": "white",
           "landcolor": "#E5ECF6",
           "showlakes": true,
           "showland": true,
           "subunitcolor": "white"
          },
          "hoverlabel": {
           "align": "left"
          },
          "hovermode": "closest",
          "mapbox": {
           "style": "light"
          },
          "paper_bgcolor": "white",
          "plot_bgcolor": "#E5ECF6",
          "polar": {
           "angularaxis": {
            "gridcolor": "white",
            "linecolor": "white",
            "ticks": ""
           },
           "bgcolor": "#E5ECF6",
           "radialaxis": {
            "gridcolor": "white",
            "linecolor": "white",
            "ticks": ""
           }
          },
          "scene": {
           "xaxis": {
            "backgroundcolor": "#E5ECF6",
            "gridcolor": "white",
            "gridwidth": 2,
            "linecolor": "white",
            "showbackground": true,
            "ticks": "",
            "zerolinecolor": "white"
           },
           "yaxis": {
            "backgroundcolor": "#E5ECF6",
            "gridcolor": "white",
            "gridwidth": 2,
            "linecolor": "white",
            "showbackground": true,
            "ticks": "",
            "zerolinecolor": "white"
           },
           "zaxis": {
            "backgroundcolor": "#E5ECF6",
            "gridcolor": "white",
            "gridwidth": 2,
            "linecolor": "white",
            "showbackground": true,
            "ticks": "",
            "zerolinecolor": "white"
           }
          },
          "shapedefaults": {
           "line": {
            "color": "#2a3f5f"
           }
          },
          "ternary": {
           "aaxis": {
            "gridcolor": "white",
            "linecolor": "white",
            "ticks": ""
           },
           "baxis": {
            "gridcolor": "white",
            "linecolor": "white",
            "ticks": ""
           },
           "bgcolor": "#E5ECF6",
           "caxis": {
            "gridcolor": "white",
            "linecolor": "white",
            "ticks": ""
           }
          },
          "title": {
           "x": 0.05
          },
          "xaxis": {
           "automargin": true,
           "gridcolor": "white",
           "linecolor": "white",
           "ticks": "",
           "title": {
            "standoff": 15
           },
           "zerolinecolor": "white",
           "zerolinewidth": 2
          },
          "yaxis": {
           "automargin": true,
           "gridcolor": "white",
           "linecolor": "white",
           "ticks": "",
           "title": {
            "standoff": 15
           },
           "zerolinecolor": "white",
           "zerolinewidth": 2
          }
         }
        },
        "xaxis": {
         "range": [
          6.889129571821716,
          59
         ],
         "showspikes": true
        },
        "yaxis": {
         "range": [
          1178012.3120841344,
          2212758.1577573377
         ],
         "showspikes": true
        }
       },
       "_model_module_version": "4.6.0",
       "_py2js_addTraces": {},
       "_py2js_animate": {},
       "_py2js_deleteTraces": {},
       "_py2js_moveTraces": {},
       "_py2js_removeLayoutProps": {},
       "_py2js_removeTraceProps": {},
       "_py2js_restyle": {},
       "_py2js_update": {},
       "_view_count": 3,
       "_view_module_version": "4.6.0"
      }
     },
     "ed304344b3ea4416b62e97e2faa79a91": {
      "model_module": "@jupyter-widgets/base",
      "model_module_version": "1.2.0",
      "model_name": "LayoutModel",
      "state": {}
     },
     "edf2f7c4d0ec408fa4e2d1a7fb3bea2a": {
      "model_module": "@jupyter-widgets/controls",
      "model_module_version": "1.5.0",
      "model_name": "VBoxModel",
      "state": {
       "children": [
        "IPY_MODEL_8ada8f7075f74491b18836250a5fc722",
        "IPY_MODEL_0af297075cca4321842b0466a8eb4307"
       ],
       "layout": "IPY_MODEL_c1e9af3edc3f42a29b32ba279a4080ce"
      }
     },
     "ee0b6debdb9f48e880a67e3afa64f283": {
      "buffers": [
       {
        "data": "AAAAAEKEL0EAAAAAYpEvQQAAAAASnC9BAAAAAFamL0EAAAAAxrcvQQAAAAAy2i9BAAAAAIb1L0EAAAAAWw0wQQAAAABTEjBBAAAAANMYMEEAAAAAzRswQQAAAAB1LTBBAAAAAANKMEEAAAAAyVYwQQAAAAD3dDBBAAAAAD+AMEEAAAAAf4AwQQAAAABNgTBBAAAAAD2DMEEAAAAANYcwQQAAAACjiTBBAAAAADuLMEEAAAAAbYwwQQAAAADBjDBBAAAAAN+aMEEAAAAAx6swQQAAAADl0TBBAAAAAB8GMUEAAAAA3SExQQAAAABDIjFBAAAAAG9AMUEAAAAACUgxQQAAAABpTzFBAAAAAAlwMUEAAAAAlZQxQQAAAAB77zFBAAAAAJ93MkEAAAAAdX0yQQAAAACPfzJBAAAAACPwMkEAAAAAwVYzQQAAAADzlzNBAAAAAFXHM0EAAAAAP8kzQQAAAAAj2DRBAAAAAEsCNUEAAAAAiSA1QQAAAACZMTVBAAAAAKNPNUEAAAAAd4I1QQAAAADRtDVBAAAAAI2MNkEAAAAAdZg3QQAAAABHojtBAAAAgJnCQUEAAACATyFMQQAAAEBS7VhBAAAAIHcpZEEAAADgmqttQQAAAODwS25BAAAA4PBLbkE=",
        "encoding": "base64",
        "path": [
         "_data",
         0,
         "y",
         "value"
        ]
       },
       {
        "data": "AAAAAOS+RkEAAAAAdsdGQQAAAABHyUZBAAAAAKPMRkEAAAAAjNZGQQAAAADa30ZBAAAAAOHpRkEAAAAAn/RGQQAAAAAD/0ZBAAAAAO3/RkEAAAAAhwNHQQAAAAC6C0dBAAAAAEkYR0EAAAAAJxpHQQAAAAB3GkdBAAAAAOoaR0EAAAAAaBxHQQAAAAAhIEdBAAAAAEoiR0EAAAAAOiNHQQAAAAAGJEdBAAAAAIgoR0EAAAAA0yxHQQAAAAA+N0dBAAAAANJGR0EAAAAAVFpHQQAAAAC0cEdBAAAAAGFxR0EAAAAAhndHQQAAAACagkdBAAAAAKGNR0EAAAAAqZ5HQQAAAAAXpkdBAAAAADrCR0EAAAAA/ehHQQAAAADGB0hBAAAAAMEMSEEAAAAApxlIQQAAAADwYUhBAAAAACB2SEEAAAAAY6VIQQAAAAC7pUhBAAAAABCoSEEAAAAA9wFJQQAAAABtKUlBAAAAAK4zSUEAAAAA5T1JQQAAAAAuSUlBAAAAAIhXSUEAAAAAD2BJQQAAAAC4xUlBAAAAADPbSUEAAAAAdR1LQQAAAABkOk1BAAAAAGOzUEEAAAAAIhZWQQAAAECUlWBBAAAAQJhcaEEAAADAHfdwQQAAAECSRnFBAAAAQJJGcUE=",
        "encoding": "base64",
        "path": [
         "_data",
         1,
         "y",
         "value"
        ]
       }
      ],
      "model_module": "plotlywidget",
      "model_module_version": "4.6.0",
      "model_name": "FigureModel",
      "state": {
       "_config": {
        "plotlyServerURL": "https://plot.ly"
       },
       "_data": [
        {
         "hovertemplate": "%{text}",
         "name": "False",
         "showlegend": true,
         "text": [
          "Scene:teddy<br>match:35<br>bad4: 0.33847383356699245<br>",
          "Scene:teddy<br>match:33<br>bad4: 0.3399028790864945<br>",
          "Scene:teddy<br>match:32<br>bad4: 0.33982160635552755<br>",
          "Scene:teddy<br>match:34<br>bad4: 0.34185342462970114<br>",
          "Scene:teddy<br>match:31<br>bad4: 0.3400992881863313<br>",
          "Scene:teddy<br>match:30<br>bad4: 0.34241556101888915<br>",
          "Scene:teddy<br>match:29<br>bad4: 0.3431605610527528<br>",
          "Scene:teddy<br>match:28<br>bad4: 0.34404101563822803<br>",
          "Scene:teddy<br>match:24<br>bad4: 0.33885310631150484<br>",
          "Scene:teddy<br>match:25<br>bad4: 0.3409729700442259<br>",
          "Scene:teddy<br>match:27<br>bad4: 0.3426187428463065<br>",
          "Scene:teddy<br>match:26<br>bad4: 0.34206337918469903<br>",
          "Scene:teddy<br>match:23<br>bad4: 0.3427880610358209<br>",
          "Scene:teddy<br>match:22<br>bad4: 0.34335697015258954<br>",
          "Scene:teddy<br>match:21<br>bad4: 0.3455919702541805<br>",
          "Scene:teddy<br>match:42<br>bad4: 0.3399299699968168<br>",
          "Scene:teddy<br>match:43<br>bad4: 0.3386702426668292<br>",
          "Scene:teddy<br>match:41<br>bad4: 0.3396387427108519<br>",
          "Scene:teddy<br>match:39<br>bad4: 0.3374511517023251<br>",
          "Scene:teddy<br>match:38<br>bad4: 0.33837901538086435<br>",
          "Scene:teddy<br>match:44<br>bad4: 0.33758660625393666<br>",
          "Scene:teddy<br>match:37<br>bad4: 0.3383248335602197<br>",
          "Scene:teddy<br>match:20<br>bad4: 0.3464859702948168<br>",
          "Scene:teddy<br>match:40<br>bad4: 0.3391781972353726<br>",
          "Scene:teddy<br>match:36<br>bad4: 0.3387515153977961<br>",
          "Scene:teddy<br>match:19<br>bad4: 0.34788792490399656<br>",
          "Scene:teddy<br>match:18<br>bad4: 0.34854487947931273<br>",
          "Scene:teddy<br>match:17<br>bad4: 0.34805724309351105<br>",
          "Scene:teddy<br>match:15<br>bad4: 0.34799628854528586<br>",
          "Scene:teddy<br>match:16<br>bad4: 0.3494185613372073<br>",
          "Scene:teddy<br>match:46<br>bad4: 0.33677387894426725<br>",
          "Scene:teddy<br>match:45<br>bad4: 0.33797265172602964<br>",
          "Scene:teddy<br>match:14<br>bad4: 0.3471022885046495<br>",
          "Scene:teddy<br>match:47<br>bad4: 0.3380877880948995<br>",
          "Scene:teddy<br>match:13<br>bad4: 0.3452533338751516<br>",
          "Scene:teddy<br>match:12<br>bad4: 0.3485110158414098<br>",
          "Scene:teddy<br>match:49<br>bad4: 0.3409323336787424<br>",
          "Scene:teddy<br>match:11<br>bad4: 0.35231051601411434<br>",
          "Scene:teddy<br>match:48<br>bad4: 0.34191437917792633<br>",
          "Scene:teddy<br>match:10<br>bad4: 0.3528320160378189<br>",
          "Scene:teddy<br>match:50<br>bad4: 0.3418466519021205<br>",
          "Scene:teddy<br>match:9<br>bad4: 0.35111174323235195<br>",
          "Scene:teddy<br>match:51<br>bad4: 0.3460186520917569<br>",
          "Scene:teddy<br>match:52<br>bad4: 0.3417382882608313<br>",
          "Scene:teddy<br>match:53<br>bad4: 0.3447927883996722<br>",
          "Scene:teddy<br>match:54<br>bad4: 0.34417647018983955<br>",
          "Scene:teddy<br>match:55<br>bad4: 0.3434991974317817<br>",
          "Scene:teddy<br>match:8<br>bad4: 0.3554191979735999<br>",
          "Scene:teddy<br>match:56<br>bad4: 0.3461879702812713<br>",
          "Scene:teddy<br>match:57<br>bad4: 0.3466552884843313<br>",
          "Scene:teddy<br>match:58<br>bad4: 0.3486126067551185<br>",
          "Scene:teddy<br>match:59<br>bad4: 0.35016356137107096<br>",
          "Scene:teddy<br>match:7<br>bad4: 0.3602142891006495<br>",
          "Scene:teddy<br>match:6<br>bad4: 0.3745115170232508<br>",
          "Scene:teddy<br>match:5<br>bad4: 0.3918090632640484<br>",
          "Scene:teddy<br>match:4<br>bad4: 0.4429702474077385<br>",
          "Scene:teddy<br>match:3<br>bad4: 0.5590209345009516<br>",
          "Scene:teddy<br>match:2<br>bad4: 0.7145159870234542<br>",
          "Scene:teddy<br>match:1<br>bad4: 0.9864613175664236<br>",
          "Scene:teddy<br>match:0<br>bad4: 1.0<br>",
          "Scene:teddy<br>match:0<br>bad4: 1.0<br>"
         ],
         "type": "scatter",
         "uid": "d09df40f-8faf-469b-a9d6-2188d08912f3",
         "x": [
          35,
          33,
          32,
          34,
          31,
          30,
          29,
          28,
          24,
          25,
          27,
          26,
          23,
          22,
          21,
          42,
          43,
          41,
          39,
          38,
          44,
          37,
          20,
          40,
          36,
          19,
          18,
          17,
          15,
          16,
          46,
          45,
          14,
          47,
          13,
          12,
          49,
          11,
          48,
          10,
          50,
          9,
          51,
          52,
          53,
          54,
          55,
          8,
          56,
          57,
          58,
          59,
          7,
          6,
          5,
          4,
          3,
          2,
          1,
          0,
          0
         ],
         "y": {
          "dtype": "float64",
          "shape": [
           61
          ],
          "value": {}
         }
        },
        {
         "hovertemplate": "%{text}",
         "name": "True",
         "showlegend": true,
         "text": [
          "Scene:teddy<br>match:35<br>bad4: 0.4065100638668473<br>",
          "Scene:teddy<br>match:33<br>bad4: 0.4078164311979872<br>",
          "Scene:teddy<br>match:34<br>bad4: 0.4095340623185601<br>",
          "Scene:teddy<br>match:32<br>bad4: 0.4077559512289529<br>",
          "Scene:teddy<br>match:31<br>bad4: 0.40805835107412425<br>",
          "Scene:teddy<br>match:30<br>bad4: 0.4101328140119993<br>",
          "Scene:teddy<br>match:29<br>bad4: 0.41082228565898976<br>",
          "Scene:teddy<br>match:28<br>bad4: 0.4116206212502419<br>",
          "Scene:teddy<br>match:27<br>bad4: 0.4103868298819431<br>",
          "Scene:teddy<br>match:24<br>bad4: 0.4070846235726727<br>",
          "Scene:teddy<br>match:25<br>bad4: 0.4089534546158312<br>",
          "Scene:teddy<br>match:26<br>bad4: 0.40992113412037934<br>",
          "Scene:teddy<br>match:43<br>bad4: 0.4065644958389781<br>",
          "Scene:teddy<br>match:42<br>bad4: 0.40771361525062894<br>",
          "Scene:teddy<br>match:44<br>bad4: 0.40559681633442995<br>",
          "Scene:teddy<br>match:41<br>bad4: 0.4074535513837817<br>",
          "Scene:teddy<br>match:23<br>bad4: 0.4106045577704664<br>",
          "Scene:teddy<br>match:39<br>bad4: 0.4055726243468164<br>",
          "Scene:teddy<br>match:40<br>bad4: 0.4070422875943488<br>",
          "Scene:teddy<br>match:38<br>bad4: 0.4064193439132959<br>",
          "Scene:teddy<br>match:37<br>bad4: 0.4063649119411651<br>",
          "Scene:teddy<br>match:22<br>bad4: 0.4110883975227405<br>",
          "Scene:teddy<br>match:36<br>bad4: 0.4067096477646603<br>",
          "Scene:teddy<br>match:21<br>bad4: 0.4131084284884846<br>",
          "Scene:teddy<br>match:20<br>bad4: 0.4139128120766402<br>",
          "Scene:teddy<br>match:19<br>bad4: 0.4151828914263596<br>",
          "Scene:teddy<br>match:18<br>bad4: 0.4157755951228953<br>",
          "Scene:teddy<br>match:46<br>bad4: 0.4048771047029224<br>",
          "Scene:teddy<br>match:45<br>bad4: 0.40593550416102187<br>",
          "Scene:teddy<br>match:47<br>bad4: 0.4060020321269596<br>",
          "Scene:teddy<br>match:17<br>bad4: 0.4153401393458487<br>",
          "Scene:teddy<br>match:16<br>bad4: 0.4165557867234372<br>",
          "Scene:teddy<br>match:15<br>bad4: 0.4153098993613315<br>",
          "Scene:teddy<br>match:14<br>bad4: 0.4145659957422102<br>",
          "Scene:teddy<br>match:13<br>bad4: 0.4129390845751887<br>",
          "Scene:teddy<br>match:49<br>bad4: 0.4085482388233017<br>",
          "Scene:teddy<br>match:48<br>bad4: 0.4094312463712019<br>",
          "Scene:teddy<br>match:12<br>bad4: 0.4158844590671569<br>",
          "Scene:teddy<br>match:11<br>bad4: 0.4193015773175924<br>",
          "Scene:teddy<br>match:50<br>bad4: 0.4093889103928779<br>",
          "Scene:teddy<br>match:52<br>bad4: 0.40926795045480935<br>",
          "Scene:teddy<br>match:10<br>bad4: 0.4198398490419973<br>",
          "Scene:teddy<br>match:51<br>bad4: 0.4131084284884846<br>",
          "Scene:teddy<br>match:9<br>bad4: 0.41830970582543053<br>",
          "Scene:teddy<br>match:53<br>bad4: 0.4120076930520611<br>",
          "Scene:teddy<br>match:54<br>bad4: 0.411451277336946<br>",
          "Scene:teddy<br>match:55<br>bad4: 0.4108162376620863<br>",
          "Scene:teddy<br>match:56<br>bad4: 0.4131689084575189<br>",
          "Scene:teddy<br>match:57<br>bad4: 0.41353783626862783<br>",
          "Scene:teddy<br>match:58<br>bad4: 0.4152675633830075<br>",
          "Scene:teddy<br>match:59<br>bad4: 0.4166465066769886<br>",
          "Scene:teddy<br>match:8<br>bad4: 0.42222275982194696<br>",
          "Scene:teddy<br>match:7<br>bad4: 0.4265954615831237<br>",
          "Scene:teddy<br>match:6<br>bad4: 0.4394776949874202<br>",
          "Scene:teddy<br>match:5<br>bad4: 0.4551964389394232<br>",
          "Scene:teddy<br>match:4<br>bad4: 0.501221695374492<br>",
          "Scene:teddy<br>match:3<br>bad4: 0.6054105380298045<br>",
          "Scene:teddy<br>match:2<br>bad4: 0.7447745306754403<br>",
          "Scene:teddy<br>match:1<br>bad4: 0.9879100541900524<br>",
          "Scene:teddy<br>match:0<br>bad4: 1.0<br>",
          "Scene:teddy<br>match:0<br>bad4: 1.0<br>"
         ],
         "type": "scatter",
         "uid": "282c7959-6cd3-4318-bcf0-2c6df8893951",
         "x": [
          35,
          33,
          34,
          32,
          31,
          30,
          29,
          28,
          27,
          24,
          25,
          26,
          43,
          42,
          44,
          41,
          23,
          39,
          40,
          38,
          37,
          22,
          36,
          21,
          20,
          19,
          18,
          46,
          45,
          47,
          17,
          16,
          15,
          14,
          13,
          49,
          48,
          12,
          11,
          50,
          52,
          10,
          51,
          9,
          53,
          54,
          55,
          56,
          57,
          58,
          59,
          8,
          7,
          6,
          5,
          4,
          3,
          2,
          1,
          0,
          0
         ],
         "y": {
          "dtype": "float64",
          "shape": [
           61
          ],
          "value": {}
         }
        }
       ],
       "_js2py_layoutDelta": {},
       "_js2py_pointsCallback": {},
       "_js2py_relayout": {},
       "_js2py_restyle": {},
       "_js2py_traceDeltas": {},
       "_js2py_update": {},
       "_layout": {
        "legend": {
         "title": {
          "text": "are_occlusions_errors"
         }
        },
        "template": {
         "data": {
          "bar": [
           {
            "error_x": {
             "color": "#2a3f5f"
            },
            "error_y": {
             "color": "#2a3f5f"
            },
            "marker": {
             "line": {
              "color": "#E5ECF6",
              "width": 0.5
             }
            },
            "type": "bar"
           }
          ],
          "barpolar": [
           {
            "marker": {
             "line": {
              "color": "#E5ECF6",
              "width": 0.5
             }
            },
            "type": "barpolar"
           }
          ],
          "carpet": [
           {
            "aaxis": {
             "endlinecolor": "#2a3f5f",
             "gridcolor": "white",
             "linecolor": "white",
             "minorgridcolor": "white",
             "startlinecolor": "#2a3f5f"
            },
            "baxis": {
             "endlinecolor": "#2a3f5f",
             "gridcolor": "white",
             "linecolor": "white",
             "minorgridcolor": "white",
             "startlinecolor": "#2a3f5f"
            },
            "type": "carpet"
           }
          ],
          "choropleth": [
           {
            "colorbar": {
             "outlinewidth": 0,
             "ticks": ""
            },
            "type": "choropleth"
           }
          ],
          "contour": [
           {
            "colorbar": {
             "outlinewidth": 0,
             "ticks": ""
            },
            "colorscale": [
             [
              0,
              "#0d0887"
             ],
             [
              0.1111111111111111,
              "#46039f"
             ],
             [
              0.2222222222222222,
              "#7201a8"
             ],
             [
              0.3333333333333333,
              "#9c179e"
             ],
             [
              0.4444444444444444,
              "#bd3786"
             ],
             [
              0.5555555555555556,
              "#d8576b"
             ],
             [
              0.6666666666666666,
              "#ed7953"
             ],
             [
              0.7777777777777778,
              "#fb9f3a"
             ],
             [
              0.8888888888888888,
              "#fdca26"
             ],
             [
              1,
              "#f0f921"
             ]
            ],
            "type": "contour"
           }
          ],
          "contourcarpet": [
           {
            "colorbar": {
             "outlinewidth": 0,
             "ticks": ""
            },
            "type": "contourcarpet"
           }
          ],
          "heatmap": [
           {
            "colorbar": {
             "outlinewidth": 0,
             "ticks": ""
            },
            "colorscale": [
             [
              0,
              "#0d0887"
             ],
             [
              0.1111111111111111,
              "#46039f"
             ],
             [
              0.2222222222222222,
              "#7201a8"
             ],
             [
              0.3333333333333333,
              "#9c179e"
             ],
             [
              0.4444444444444444,
              "#bd3786"
             ],
             [
              0.5555555555555556,
              "#d8576b"
             ],
             [
              0.6666666666666666,
              "#ed7953"
             ],
             [
              0.7777777777777778,
              "#fb9f3a"
             ],
             [
              0.8888888888888888,
              "#fdca26"
             ],
             [
              1,
              "#f0f921"
             ]
            ],
            "type": "heatmap"
           }
          ],
          "heatmapgl": [
           {
            "colorbar": {
             "outlinewidth": 0,
             "ticks": ""
            },
            "colorscale": [
             [
              0,
              "#0d0887"
             ],
             [
              0.1111111111111111,
              "#46039f"
             ],
             [
              0.2222222222222222,
              "#7201a8"
             ],
             [
              0.3333333333333333,
              "#9c179e"
             ],
             [
              0.4444444444444444,
              "#bd3786"
             ],
             [
              0.5555555555555556,
              "#d8576b"
             ],
             [
              0.6666666666666666,
              "#ed7953"
             ],
             [
              0.7777777777777778,
              "#fb9f3a"
             ],
             [
              0.8888888888888888,
              "#fdca26"
             ],
             [
              1,
              "#f0f921"
             ]
            ],
            "type": "heatmapgl"
           }
          ],
          "histogram": [
           {
            "marker": {
             "colorbar": {
              "outlinewidth": 0,
              "ticks": ""
             }
            },
            "type": "histogram"
           }
          ],
          "histogram2d": [
           {
            "colorbar": {
             "outlinewidth": 0,
             "ticks": ""
            },
            "colorscale": [
             [
              0,
              "#0d0887"
             ],
             [
              0.1111111111111111,
              "#46039f"
             ],
             [
              0.2222222222222222,
              "#7201a8"
             ],
             [
              0.3333333333333333,
              "#9c179e"
             ],
             [
              0.4444444444444444,
              "#bd3786"
             ],
             [
              0.5555555555555556,
              "#d8576b"
             ],
             [
              0.6666666666666666,
              "#ed7953"
             ],
             [
              0.7777777777777778,
              "#fb9f3a"
             ],
             [
              0.8888888888888888,
              "#fdca26"
             ],
             [
              1,
              "#f0f921"
             ]
            ],
            "type": "histogram2d"
           }
          ],
          "histogram2dcontour": [
           {
            "colorbar": {
             "outlinewidth": 0,
             "ticks": ""
            },
            "colorscale": [
             [
              0,
              "#0d0887"
             ],
             [
              0.1111111111111111,
              "#46039f"
             ],
             [
              0.2222222222222222,
              "#7201a8"
             ],
             [
              0.3333333333333333,
              "#9c179e"
             ],
             [
              0.4444444444444444,
              "#bd3786"
             ],
             [
              0.5555555555555556,
              "#d8576b"
             ],
             [
              0.6666666666666666,
              "#ed7953"
             ],
             [
              0.7777777777777778,
              "#fb9f3a"
             ],
             [
              0.8888888888888888,
              "#fdca26"
             ],
             [
              1,
              "#f0f921"
             ]
            ],
            "type": "histogram2dcontour"
           }
          ],
          "mesh3d": [
           {
            "colorbar": {
             "outlinewidth": 0,
             "ticks": ""
            },
            "type": "mesh3d"
           }
          ],
          "parcoords": [
           {
            "line": {
             "colorbar": {
              "outlinewidth": 0,
              "ticks": ""
             }
            },
            "type": "parcoords"
           }
          ],
          "pie": [
           {
            "automargin": true,
            "type": "pie"
           }
          ],
          "scatter": [
           {
            "marker": {
             "colorbar": {
              "outlinewidth": 0,
              "ticks": ""
             }
            },
            "type": "scatter"
           }
          ],
          "scatter3d": [
           {
            "line": {
             "colorbar": {
              "outlinewidth": 0,
              "ticks": ""
             }
            },
            "marker": {
             "colorbar": {
              "outlinewidth": 0,
              "ticks": ""
             }
            },
            "type": "scatter3d"
           }
          ],
          "scattercarpet": [
           {
            "marker": {
             "colorbar": {
              "outlinewidth": 0,
              "ticks": ""
             }
            },
            "type": "scattercarpet"
           }
          ],
          "scattergeo": [
           {
            "marker": {
             "colorbar": {
              "outlinewidth": 0,
              "ticks": ""
             }
            },
            "type": "scattergeo"
           }
          ],
          "scattergl": [
           {
            "marker": {
             "colorbar": {
              "outlinewidth": 0,
              "ticks": ""
             }
            },
            "type": "scattergl"
           }
          ],
          "scattermapbox": [
           {
            "marker": {
             "colorbar": {
              "outlinewidth": 0,
              "ticks": ""
             }
            },
            "type": "scattermapbox"
           }
          ],
          "scatterpolar": [
           {
            "marker": {
             "colorbar": {
              "outlinewidth": 0,
              "ticks": ""
             }
            },
            "type": "scatterpolar"
           }
          ],
          "scatterpolargl": [
           {
            "marker": {
             "colorbar": {
              "outlinewidth": 0,
              "ticks": ""
             }
            },
            "type": "scatterpolargl"
           }
          ],
          "scatterternary": [
           {
            "marker": {
             "colorbar": {
              "outlinewidth": 0,
              "ticks": ""
             }
            },
            "type": "scatterternary"
           }
          ],
          "surface": [
           {
            "colorbar": {
             "outlinewidth": 0,
             "ticks": ""
            },
            "colorscale": [
             [
              0,
              "#0d0887"
             ],
             [
              0.1111111111111111,
              "#46039f"
             ],
             [
              0.2222222222222222,
              "#7201a8"
             ],
             [
              0.3333333333333333,
              "#9c179e"
             ],
             [
              0.4444444444444444,
              "#bd3786"
             ],
             [
              0.5555555555555556,
              "#d8576b"
             ],
             [
              0.6666666666666666,
              "#ed7953"
             ],
             [
              0.7777777777777778,
              "#fb9f3a"
             ],
             [
              0.8888888888888888,
              "#fdca26"
             ],
             [
              1,
              "#f0f921"
             ]
            ],
            "type": "surface"
           }
          ],
          "table": [
           {
            "cells": {
             "fill": {
              "color": "#EBF0F8"
             },
             "line": {
              "color": "white"
             }
            },
            "header": {
             "fill": {
              "color": "#C8D4E3"
             },
             "line": {
              "color": "white"
             }
            },
            "type": "table"
           }
          ]
         },
         "layout": {
          "annotationdefaults": {
           "arrowcolor": "#2a3f5f",
           "arrowhead": 0,
           "arrowwidth": 1
          },
          "coloraxis": {
           "colorbar": {
            "outlinewidth": 0,
            "ticks": ""
           }
          },
          "colorscale": {
           "diverging": [
            [
             0,
             "#8e0152"
            ],
            [
             0.1,
             "#c51b7d"
            ],
            [
             0.2,
             "#de77ae"
            ],
            [
             0.3,
             "#f1b6da"
            ],
            [
             0.4,
             "#fde0ef"
            ],
            [
             0.5,
             "#f7f7f7"
            ],
            [
             0.6,
             "#e6f5d0"
            ],
            [
             0.7,
             "#b8e186"
            ],
            [
             0.8,
             "#7fbc41"
            ],
            [
             0.9,
             "#4d9221"
            ],
            [
             1,
             "#276419"
            ]
           ],
           "sequential": [
            [
             0,
             "#0d0887"
            ],
            [
             0.1111111111111111,
             "#46039f"
            ],
            [
             0.2222222222222222,
             "#7201a8"
            ],
            [
             0.3333333333333333,
             "#9c179e"
            ],
            [
             0.4444444444444444,
             "#bd3786"
            ],
            [
             0.5555555555555556,
             "#d8576b"
            ],
            [
             0.6666666666666666,
             "#ed7953"
            ],
            [
             0.7777777777777778,
             "#fb9f3a"
            ],
            [
             0.8888888888888888,
             "#fdca26"
            ],
            [
             1,
             "#f0f921"
            ]
           ],
           "sequentialminus": [
            [
             0,
             "#0d0887"
            ],
            [
             0.1111111111111111,
             "#46039f"
            ],
            [
             0.2222222222222222,
             "#7201a8"
            ],
            [
             0.3333333333333333,
             "#9c179e"
            ],
            [
             0.4444444444444444,
             "#bd3786"
            ],
            [
             0.5555555555555556,
             "#d8576b"
            ],
            [
             0.6666666666666666,
             "#ed7953"
            ],
            [
             0.7777777777777778,
             "#fb9f3a"
            ],
            [
             0.8888888888888888,
             "#fdca26"
            ],
            [
             1,
             "#f0f921"
            ]
           ]
          },
          "colorway": [
           "#636efa",
           "#EF553B",
           "#00cc96",
           "#ab63fa",
           "#FFA15A",
           "#19d3f3",
           "#FF6692",
           "#B6E880",
           "#FF97FF",
           "#FECB52"
          ],
          "font": {
           "color": "#2a3f5f"
          },
          "geo": {
           "bgcolor": "white",
           "lakecolor": "white",
           "landcolor": "#E5ECF6",
           "showlakes": true,
           "showland": true,
           "subunitcolor": "white"
          },
          "hoverlabel": {
           "align": "left"
          },
          "hovermode": "closest",
          "mapbox": {
           "style": "light"
          },
          "paper_bgcolor": "white",
          "plot_bgcolor": "#E5ECF6",
          "polar": {
           "angularaxis": {
            "gridcolor": "white",
            "linecolor": "white",
            "ticks": ""
           },
           "bgcolor": "#E5ECF6",
           "radialaxis": {
            "gridcolor": "white",
            "linecolor": "white",
            "ticks": ""
           }
          },
          "scene": {
           "xaxis": {
            "backgroundcolor": "#E5ECF6",
            "gridcolor": "white",
            "gridwidth": 2,
            "linecolor": "white",
            "showbackground": true,
            "ticks": "",
            "zerolinecolor": "white"
           },
           "yaxis": {
            "backgroundcolor": "#E5ECF6",
            "gridcolor": "white",
            "gridwidth": 2,
            "linecolor": "white",
            "showbackground": true,
            "ticks": "",
            "zerolinecolor": "white"
           },
           "zaxis": {
            "backgroundcolor": "#E5ECF6",
            "gridcolor": "white",
            "gridwidth": 2,
            "linecolor": "white",
            "showbackground": true,
            "ticks": "",
            "zerolinecolor": "white"
           }
          },
          "shapedefaults": {
           "line": {
            "color": "#2a3f5f"
           }
          },
          "ternary": {
           "aaxis": {
            "gridcolor": "white",
            "linecolor": "white",
            "ticks": ""
           },
           "baxis": {
            "gridcolor": "white",
            "linecolor": "white",
            "ticks": ""
           },
           "bgcolor": "#E5ECF6",
           "caxis": {
            "gridcolor": "white",
            "linecolor": "white",
            "ticks": ""
           }
          },
          "title": {
           "x": 0.05
          },
          "xaxis": {
           "automargin": true,
           "gridcolor": "white",
           "linecolor": "white",
           "ticks": "",
           "title": {
            "standoff": 15
           },
           "zerolinecolor": "white",
           "zerolinewidth": 2
          },
          "yaxis": {
           "automargin": true,
           "gridcolor": "white",
           "linecolor": "white",
           "ticks": "",
           "title": {
            "standoff": 15
           },
           "zerolinecolor": "white",
           "zerolinewidth": 2
          }
         }
        },
        "xaxis": {
         "showspikes": true
        },
        "yaxis": {
         "showspikes": true
        }
       },
       "_model_module_version": "4.6.0",
       "_py2js_addTraces": {},
       "_py2js_animate": {},
       "_py2js_deleteTraces": {},
       "_py2js_moveTraces": {},
       "_py2js_relayout": {},
       "_py2js_removeLayoutProps": {},
       "_py2js_removeTraceProps": {},
       "_py2js_restyle": {},
       "_py2js_update": {},
       "_view_count": 0,
       "_view_module_version": "4.6.0"
      }
     },
     "f2de4350e6ac4f739538a79265a5d6ef": {
      "model_module": "@jupyter-widgets/base",
      "model_module_version": "1.2.0",
      "model_name": "LayoutModel",
      "state": {}
     },
     "f8085508a1ab45ba98f5e7d0f0b5e1b2": {
      "model_module": "@jupyter-widgets/base",
      "model_module_version": "1.2.0",
      "model_name": "LayoutModel",
      "state": {}
     },
     "fa18f36231af40c5ac7e03e807158378": {
      "buffers": [
       {
        "data": "AAAAAMwiNkEAAAAA9CM2QQAAAAACJTZBAAAAALoqNkEAAAAAxCo2QQAAAACMNDZBAAAAACI4NkEAAAAARjs2QQAAAACKQzZBAAAAAJxHNkEAAAAAnks2QQAAAAAyTzZBAAAAANZSNkEAAAAAnlU2QQAAAADsVzZBAAAAADRbNkEAAAAAamg2QQAAAAA8bTZBAAAAABx2NkEAAAAAso02QQAAAABAtDZBAAAAABbDNkEAAAAAlsM2QQAAAAAWyzZBAAAAAPDRNkEAAAAAgtI2QQAAAAAC1zZBAAAAAATYNkEAAAAAUPY2QQAAAACmEDdBAAAAAOI/N0EAAAAA2EA3QQAAAAC8WDdBAAAAAGirN0EAAAAAIMc3QQAAAABi1TdBAAAAAADhN0EAAAAAVuU3QQAAAAB05jdBAAAAAGTqN0EAAAAA8Os3QQAAAAAU8DdBAAAAAHDwN0EAAAAAhvI3QQAAAACW+TdBAAAAAB4XOEEAAAAAjhc4QQAAAAAyYzhBAAAAAJh/OUEAAAAA4MQ6QQAAAACQSj1BAAAAAER8QEEAAAAAXd1DQQAAAABeeE5BAAAAgMt1X0EAAAAAlH5mQQAAAIDZzm5BAAAAAPVVcUEAAACggyNyQQAAAEDnR3JBAAAAQOdHckE=",
        "encoding": "base64",
        "path": [
         "_data",
         0,
         "y",
         "value"
        ]
       },
       {
        "data": "AAAAAAcFTEEAAAAArQ5MQQAAAADlEExBAAAAACIVTEEAAAAAgxVMQQAAAACXF0xBAAAAAIsbTEEAAAAAQR1MQQAAAAAkHkxBAAAAADogTEEAAAAA/SJMQQAAAADgI0xBAAAAAAEnTEEAAAAAWCdMQQAAAACTKExBAAAAAHIsTEEAAAAAgzRMQQAAAACNN0xBAAAAAF1CTEEAAAAAfkRMQQAAAADbRExBAAAAAA9HTEEAAAAA9EdMQQAAAACDXExBAAAAAKheTEEAAAAAyWJMQQAAAACTZExBAAAAAHplTEEAAAAALGZMQQAAAAAiZ0xBAAAAABRrTEEAAAAALm1MQQAAAAAncExBAAAAAM51TEEAAAAA3HVMQQAAAACNd0xBAAAAAG95TEEAAAAA5HpMQQAAAACqgUxBAAAAADqDTEEAAAAAJZRMQQAAAAANm0xBAAAAAOPPTEEAAAAAa+VMQQAAAAATBk1BAAAAALxATUEAAAAA6K5NQQAAAADL6E1BAAAAAJ6PTkEAAAAAN05PQQAAAAAKVlBBAAAAAB1aUUEAAAAAcilTQQAAAICimVhBAAAAAN6NZEEAAADALZJrQQAAAEB2AXJBAAAAILjzc0EAAABgmcJ0QQAAAAD95nRBAAAAAP3mdEE=",
        "encoding": "base64",
        "path": [
         "_data",
         1,
         "y",
         "value"
        ]
       }
      ],
      "model_module": "plotlywidget",
      "model_module_version": "4.6.0",
      "model_name": "FigureModel",
      "state": {
       "_config": {
        "plotlyServerURL": "https://plot.ly"
       },
       "_data": [
        {
         "hovertemplate": "%{text}",
         "name": "False",
         "showlegend": true,
         "text": [
          "Scene:cones<br>match:28<br>bad4: 0.33889637730500394<br>",
          "Scene:cones<br>match:29<br>bad4: 0.34020955213095616<br>",
          "Scene:cones<br>match:24<br>bad4: 0.3320525825771577<br>",
          "Scene:cones<br>match:30<br>bad4: 0.3404110445645679<br>",
          "Scene:cones<br>match:31<br>bad4: 0.3407514972972222<br>",
          "Scene:cones<br>match:32<br>bad4: 0.34155746703166906<br>",
          "Scene:cones<br>match:27<br>bad4: 0.3391881939329933<br>",
          "Scene:cones<br>match:25<br>bad4: 0.3350193849617165<br>",
          "Scene:cones<br>match:22<br>bad4: 0.332177646846296<br>",
          "Scene:cones<br>match:23<br>bad4: 0.33205953059210985<br>",
          "Scene:cones<br>match:35<br>bad4: 0.3458582882870364<br>",
          "Scene:cones<br>match:26<br>bad4: 0.33923683003765825<br>",
          "Scene:cones<br>match:34<br>bad4: 0.3456081597487598<br>",
          "Scene:cones<br>match:33<br>bad4: 0.34535803121048314<br>",
          "Scene:cones<br>match:20<br>bad4: 0.32867584731042343<br>",
          "Scene:cones<br>match:21<br>bad4: 0.33109375651376394<br>",
          "Scene:cones<br>match:18<br>bad4: 0.3223739977488432<br>",
          "Scene:cones<br>match:19<br>bad4: 0.32696663563219985<br>",
          "Scene:cones<br>match:36<br>bad4: 0.3485124299987494<br>",
          "Scene:cones<br>match:37<br>bad4: 0.35163903672720703<br>",
          "Scene:cones<br>match:38<br>bad4: 0.35437655461834555<br>",
          "Scene:cones<br>match:39<br>bad4: 0.3555507691452552<br>",
          "Scene:cones<br>match:17<br>bad4: 0.32074121423509305<br>",
          "Scene:cones<br>match:41<br>bad4: 0.3599002265052874<br>",
          "Scene:cones<br>match:43<br>bad4: 0.3632422216972611<br>",
          "Scene:cones<br>match:16<br>bad4: 0.31803843641871515<br>",
          "Scene:cones<br>match:42<br>bad4: 0.3633255978766866<br>",
          "Scene:cones<br>match:40<br>bad4: 0.3594625015633033<br>",
          "Scene:cones<br>match:15<br>bad4: 0.3164820810694385<br>",
          "Scene:cones<br>match:44<br>bad4: 0.36705668190597945<br>",
          "Scene:cones<br>match:45<br>bad4: 0.37258035379292137<br>",
          "Scene:cones<br>match:46<br>bad4: 0.37369203618526187<br>",
          "Scene:cones<br>match:14<br>bad4: 0.3172394146992205<br>",
          "Scene:cones<br>match:47<br>bad4: 0.3770340313772355<br>",
          "Scene:cones<br>match:48<br>bad4: 0.3787362950405069<br>",
          "Scene:cones<br>match:49<br>bad4: 0.379771549268374<br>",
          "Scene:cones<br>match:51<br>bad4: 0.3839125661798424<br>",
          "Scene:cones<br>match:53<br>bad4: 0.3859413865458639<br>",
          "Scene:cones<br>match:52<br>bad4: 0.3840862665536456<br>",
          "Scene:cones<br>match:54<br>bad4: 0.38681683642983206<br>",
          "Scene:cones<br>match:58<br>bad4: 0.3922501841223962<br>",
          "Scene:cones<br>match:50<br>bad4: 0.3835443213873797<br>",
          "Scene:cones<br>match:56<br>bad4: 0.3892208496032684<br>",
          "Scene:cones<br>match:57<br>bad4: 0.39008240345733225<br>",
          "Scene:cones<br>match:55<br>bad4: 0.3882481275099704<br>",
          "Scene:cones<br>match:13<br>bad4: 0.3175103872823534<br>",
          "Scene:cones<br>match:59<br>bad4: 0.3946403012659283<br>",
          "Scene:cones<br>match:12<br>bad4: 0.3120492475299807<br>",
          "Scene:cones<br>match:11<br>bad4: 0.3102705557022359<br>",
          "Scene:cones<br>match:10<br>bad4: 0.31289690535414033<br>",
          "Scene:cones<br>match:9<br>bad4: 0.3182746689270876<br>",
          "Scene:cones<br>match:8<br>bad4: 0.32288815085530065<br>",
          "Scene:cones<br>match:7<br>bad4: 0.3410155218654031<br>",
          "Scene:cones<br>match:6<br>bad4: 0.39581451579283794<br>",
          "Scene:cones<br>match:5<br>bad4: 0.5734266220140906<br>",
          "Scene:cones<br>match:4<br>bad4: 0.7187999388574684<br>",
          "Scene:cones<br>match:3<br>bad4: 0.8711351666828787<br>",
          "Scene:cones<br>match:2<br>bad4: 0.9520656448452676<br>",
          "Scene:cones<br>match:1<br>bad4: 0.9934271778552868<br>",
          "Scene:cones<br>match:0<br>bad4: 1.0<br>",
          "Scene:cones<br>match:0<br>bad4: 1.0<br>"
         ],
         "type": "scatter",
         "uid": "81c8ffb4-dcf2-46a7-9b62-4e1bfd11545b",
         "x": [
          28,
          29,
          24,
          30,
          31,
          32,
          27,
          25,
          22,
          23,
          35,
          26,
          34,
          33,
          20,
          21,
          18,
          19,
          36,
          37,
          38,
          39,
          17,
          41,
          43,
          16,
          42,
          40,
          15,
          44,
          45,
          46,
          14,
          47,
          48,
          49,
          51,
          53,
          52,
          54,
          58,
          50,
          56,
          57,
          55,
          13,
          59,
          12,
          11,
          10,
          9,
          8,
          7,
          6,
          5,
          4,
          3,
          2,
          1,
          0,
          0
         ],
         "y": {
          "dtype": "float64",
          "shape": [
           61
          ],
          "value": {}
         }
        },
        {
         "hovertemplate": "%{text}",
         "name": "True",
         "showlegend": true,
         "text": [
          "Scene:cones<br>match:35<br>bad4: 0.4183540389784535<br>",
          "Scene:cones<br>match:34<br>bad4: 0.41821933492937213<br>",
          "Scene:cones<br>match:32<br>bad4: 0.4147598900325127<br>",
          "Scene:cones<br>match:31<br>bad4: 0.4140741239644625<br>",
          "Scene:cones<br>match:33<br>bad4: 0.418035647589716<br>",
          "Scene:cones<br>match:36<br>bad4: 0.4206501307241568<br>",
          "Scene:cones<br>match:37<br>bad4: 0.4233564575284256<br>",
          "Scene:cones<br>match:30<br>bad4: 0.41390880535877206<br>",
          "Scene:cones<br>match:43<br>bad4: 0.43325108222457615<br>",
          "Scene:cones<br>match:29<br>bad4: 0.4137924700436564<br>",
          "Scene:cones<br>match:41<br>bad4: 0.4303182077013977<br>",
          "Scene:cones<br>match:42<br>bad4: 0.433355171717048<br>",
          "Scene:cones<br>match:38<br>bad4: 0.4257199012986695<br>",
          "Scene:cones<br>match:39<br>bad4: 0.4266077234403414<br>",
          "Scene:cones<br>match:28<br>bad4: 0.41272096056232815<br>",
          "Scene:cones<br>match:40<br>bad4: 0.4300365537805916<br>",
          "Scene:cones<br>match:27<br>bad4: 0.41299649157181256<br>",
          "Scene:cones<br>match:44<br>bad4: 0.43662480636292944<br>",
          "Scene:cones<br>match:46<br>bad4: 0.4424783095866423<br>",
          "Scene:cones<br>match:26<br>bad4: 0.4130515977737094<br>",
          "Scene:cones<br>match:45<br>bad4: 0.4415231354204297<br>",
          "Scene:cones<br>match:24<br>bad4: 0.40678785949143104<br>",
          "Scene:cones<br>match:25<br>bad4: 0.4093349906013311<br>",
          "Scene:cones<br>match:58<br>bad4: 0.4585693205405306<br>",
          "Scene:cones<br>match:23<br>bad4: 0.4068001053140747<br>",
          "Scene:cones<br>match:57<br>bad4: 0.4567018325873586<br>",
          "Scene:cones<br>match:56<br>bad4: 0.4559303457608023<br>",
          "Scene:cones<br>match:22<br>bad4: 0.4069041948065466<br>",
          "Scene:cones<br>match:59<br>bad4: 0.460663356212612<br>",
          "Scene:cones<br>match:54<br>bad4: 0.4538056955321116<br>",
          "Scene:cones<br>match:55<br>bad4: 0.4550608923530961<br>",
          "Scene:cones<br>match:53<br>bad4: 0.4532117731338897<br>",
          "Scene:cones<br>match:47<br>bad4: 0.4454601674003955<br>",
          "Scene:cones<br>match:51<br>bad4: 0.451478989229799<br>",
          "Scene:cones<br>match:52<br>bad4: 0.4515830787222709<br>",
          "Scene:cones<br>match:48<br>bad4: 0.44697864940822063<br>",
          "Scene:cones<br>match:21<br>bad4: 0.4060714788667716<br>",
          "Scene:cones<br>match:49<br>bad4: 0.4478725944612144<br>",
          "Scene:cones<br>match:50<br>bad4: 0.4511789665750271<br>",
          "Scene:cones<br>match:20<br>bad4: 0.4041243930664152<br>",
          "Scene:cones<br>match:19<br>bad4: 0.40259978814726827<br>",
          "Scene:cones<br>match:18<br>bad4: 0.3987117394578774<br>",
          "Scene:cones<br>match:17<br>bad4: 0.3972973469425242<br>",
          "Scene:cones<br>match:16<br>bad4: 0.3949951322854991<br>",
          "Scene:cones<br>match:15<br>bad4: 0.3937093209079053<br>",
          "Scene:cones<br>match:14<br>bad4: 0.3943828411533116<br>",
          "Scene:cones<br>match:13<br>bad4: 0.3947440929213023<br>",
          "Scene:cones<br>match:12<br>bad4: 0.3900049595581707<br>",
          "Scene:cones<br>match:11<br>bad4: 0.3885232150182769<br>",
          "Scene:cones<br>match:10<br>bad4: 0.3910948377734645<br>",
          "Scene:cones<br>match:9<br>bad4: 0.3958890773384929<br>",
          "Scene:cones<br>match:8<br>bad4: 0.4001138861505869<br>",
          "Scene:cones<br>match:7<br>bad4: 0.4164498135573502<br>",
          "Scene:cones<br>match:6<br>bad4: 0.465133081477581<br>",
          "Scene:cones<br>match:5<br>bad4: 0.6224735337158112<br>",
          "Scene:cones<br>match:4<br>bad4: 0.7514955210903681<br>",
          "Scene:cones<br>match:3<br>bad4: 0.8862730451074877<br>",
          "Scene:cones<br>match:2<br>bad4: 0.9577212973224508<br>",
          "Scene:cones<br>match:1<br>bad4: 0.994207725889506<br>",
          "Scene:cones<br>match:0<br>bad4: 1.0<br>",
          "Scene:cones<br>match:0<br>bad4: 1.0<br>"
         ],
         "type": "scatter",
         "uid": "2f8c4643-7af2-4d8d-acc7-32c73d33d099",
         "x": [
          35,
          34,
          32,
          31,
          33,
          36,
          37,
          30,
          43,
          29,
          41,
          42,
          38,
          39,
          28,
          40,
          27,
          44,
          46,
          26,
          45,
          24,
          25,
          58,
          23,
          57,
          56,
          22,
          59,
          54,
          55,
          53,
          47,
          51,
          52,
          48,
          21,
          49,
          50,
          20,
          19,
          18,
          17,
          16,
          15,
          14,
          13,
          12,
          11,
          10,
          9,
          8,
          7,
          6,
          5,
          4,
          3,
          2,
          1,
          0,
          0
         ],
         "y": {
          "dtype": "float64",
          "shape": [
           61
          ],
          "value": {}
         }
        }
       ],
       "_js2py_restyle": {},
       "_js2py_update": {},
       "_last_layout_edit_id": 1,
       "_layout": {
        "autosize": true,
        "legend": {
         "title": {
          "text": "are_occlusions_errors"
         }
        },
        "template": {
         "data": {
          "bar": [
           {
            "error_x": {
             "color": "#2a3f5f"
            },
            "error_y": {
             "color": "#2a3f5f"
            },
            "marker": {
             "line": {
              "color": "#E5ECF6",
              "width": 0.5
             }
            },
            "type": "bar"
           }
          ],
          "barpolar": [
           {
            "marker": {
             "line": {
              "color": "#E5ECF6",
              "width": 0.5
             }
            },
            "type": "barpolar"
           }
          ],
          "carpet": [
           {
            "aaxis": {
             "endlinecolor": "#2a3f5f",
             "gridcolor": "white",
             "linecolor": "white",
             "minorgridcolor": "white",
             "startlinecolor": "#2a3f5f"
            },
            "baxis": {
             "endlinecolor": "#2a3f5f",
             "gridcolor": "white",
             "linecolor": "white",
             "minorgridcolor": "white",
             "startlinecolor": "#2a3f5f"
            },
            "type": "carpet"
           }
          ],
          "choropleth": [
           {
            "colorbar": {
             "outlinewidth": 0,
             "ticks": ""
            },
            "type": "choropleth"
           }
          ],
          "contour": [
           {
            "colorbar": {
             "outlinewidth": 0,
             "ticks": ""
            },
            "colorscale": [
             [
              0,
              "#0d0887"
             ],
             [
              0.1111111111111111,
              "#46039f"
             ],
             [
              0.2222222222222222,
              "#7201a8"
             ],
             [
              0.3333333333333333,
              "#9c179e"
             ],
             [
              0.4444444444444444,
              "#bd3786"
             ],
             [
              0.5555555555555556,
              "#d8576b"
             ],
             [
              0.6666666666666666,
              "#ed7953"
             ],
             [
              0.7777777777777778,
              "#fb9f3a"
             ],
             [
              0.8888888888888888,
              "#fdca26"
             ],
             [
              1,
              "#f0f921"
             ]
            ],
            "type": "contour"
           }
          ],
          "contourcarpet": [
           {
            "colorbar": {
             "outlinewidth": 0,
             "ticks": ""
            },
            "type": "contourcarpet"
           }
          ],
          "heatmap": [
           {
            "colorbar": {
             "outlinewidth": 0,
             "ticks": ""
            },
            "colorscale": [
             [
              0,
              "#0d0887"
             ],
             [
              0.1111111111111111,
              "#46039f"
             ],
             [
              0.2222222222222222,
              "#7201a8"
             ],
             [
              0.3333333333333333,
              "#9c179e"
             ],
             [
              0.4444444444444444,
              "#bd3786"
             ],
             [
              0.5555555555555556,
              "#d8576b"
             ],
             [
              0.6666666666666666,
              "#ed7953"
             ],
             [
              0.7777777777777778,
              "#fb9f3a"
             ],
             [
              0.8888888888888888,
              "#fdca26"
             ],
             [
              1,
              "#f0f921"
             ]
            ],
            "type": "heatmap"
           }
          ],
          "heatmapgl": [
           {
            "colorbar": {
             "outlinewidth": 0,
             "ticks": ""
            },
            "colorscale": [
             [
              0,
              "#0d0887"
             ],
             [
              0.1111111111111111,
              "#46039f"
             ],
             [
              0.2222222222222222,
              "#7201a8"
             ],
             [
              0.3333333333333333,
              "#9c179e"
             ],
             [
              0.4444444444444444,
              "#bd3786"
             ],
             [
              0.5555555555555556,
              "#d8576b"
             ],
             [
              0.6666666666666666,
              "#ed7953"
             ],
             [
              0.7777777777777778,
              "#fb9f3a"
             ],
             [
              0.8888888888888888,
              "#fdca26"
             ],
             [
              1,
              "#f0f921"
             ]
            ],
            "type": "heatmapgl"
           }
          ],
          "histogram": [
           {
            "marker": {
             "colorbar": {
              "outlinewidth": 0,
              "ticks": ""
             }
            },
            "type": "histogram"
           }
          ],
          "histogram2d": [
           {
            "colorbar": {
             "outlinewidth": 0,
             "ticks": ""
            },
            "colorscale": [
             [
              0,
              "#0d0887"
             ],
             [
              0.1111111111111111,
              "#46039f"
             ],
             [
              0.2222222222222222,
              "#7201a8"
             ],
             [
              0.3333333333333333,
              "#9c179e"
             ],
             [
              0.4444444444444444,
              "#bd3786"
             ],
             [
              0.5555555555555556,
              "#d8576b"
             ],
             [
              0.6666666666666666,
              "#ed7953"
             ],
             [
              0.7777777777777778,
              "#fb9f3a"
             ],
             [
              0.8888888888888888,
              "#fdca26"
             ],
             [
              1,
              "#f0f921"
             ]
            ],
            "type": "histogram2d"
           }
          ],
          "histogram2dcontour": [
           {
            "colorbar": {
             "outlinewidth": 0,
             "ticks": ""
            },
            "colorscale": [
             [
              0,
              "#0d0887"
             ],
             [
              0.1111111111111111,
              "#46039f"
             ],
             [
              0.2222222222222222,
              "#7201a8"
             ],
             [
              0.3333333333333333,
              "#9c179e"
             ],
             [
              0.4444444444444444,
              "#bd3786"
             ],
             [
              0.5555555555555556,
              "#d8576b"
             ],
             [
              0.6666666666666666,
              "#ed7953"
             ],
             [
              0.7777777777777778,
              "#fb9f3a"
             ],
             [
              0.8888888888888888,
              "#fdca26"
             ],
             [
              1,
              "#f0f921"
             ]
            ],
            "type": "histogram2dcontour"
           }
          ],
          "mesh3d": [
           {
            "colorbar": {
             "outlinewidth": 0,
             "ticks": ""
            },
            "type": "mesh3d"
           }
          ],
          "parcoords": [
           {
            "line": {
             "colorbar": {
              "outlinewidth": 0,
              "ticks": ""
             }
            },
            "type": "parcoords"
           }
          ],
          "pie": [
           {
            "automargin": true,
            "type": "pie"
           }
          ],
          "scatter": [
           {
            "marker": {
             "colorbar": {
              "outlinewidth": 0,
              "ticks": ""
             }
            },
            "type": "scatter"
           }
          ],
          "scatter3d": [
           {
            "line": {
             "colorbar": {
              "outlinewidth": 0,
              "ticks": ""
             }
            },
            "marker": {
             "colorbar": {
              "outlinewidth": 0,
              "ticks": ""
             }
            },
            "type": "scatter3d"
           }
          ],
          "scattercarpet": [
           {
            "marker": {
             "colorbar": {
              "outlinewidth": 0,
              "ticks": ""
             }
            },
            "type": "scattercarpet"
           }
          ],
          "scattergeo": [
           {
            "marker": {
             "colorbar": {
              "outlinewidth": 0,
              "ticks": ""
             }
            },
            "type": "scattergeo"
           }
          ],
          "scattergl": [
           {
            "marker": {
             "colorbar": {
              "outlinewidth": 0,
              "ticks": ""
             }
            },
            "type": "scattergl"
           }
          ],
          "scattermapbox": [
           {
            "marker": {
             "colorbar": {
              "outlinewidth": 0,
              "ticks": ""
             }
            },
            "type": "scattermapbox"
           }
          ],
          "scatterpolar": [
           {
            "marker": {
             "colorbar": {
              "outlinewidth": 0,
              "ticks": ""
             }
            },
            "type": "scatterpolar"
           }
          ],
          "scatterpolargl": [
           {
            "marker": {
             "colorbar": {
              "outlinewidth": 0,
              "ticks": ""
             }
            },
            "type": "scatterpolargl"
           }
          ],
          "scatterternary": [
           {
            "marker": {
             "colorbar": {
              "outlinewidth": 0,
              "ticks": ""
             }
            },
            "type": "scatterternary"
           }
          ],
          "surface": [
           {
            "colorbar": {
             "outlinewidth": 0,
             "ticks": ""
            },
            "colorscale": [
             [
              0,
              "#0d0887"
             ],
             [
              0.1111111111111111,
              "#46039f"
             ],
             [
              0.2222222222222222,
              "#7201a8"
             ],
             [
              0.3333333333333333,
              "#9c179e"
             ],
             [
              0.4444444444444444,
              "#bd3786"
             ],
             [
              0.5555555555555556,
              "#d8576b"
             ],
             [
              0.6666666666666666,
              "#ed7953"
             ],
             [
              0.7777777777777778,
              "#fb9f3a"
             ],
             [
              0.8888888888888888,
              "#fdca26"
             ],
             [
              1,
              "#f0f921"
             ]
            ],
            "type": "surface"
           }
          ],
          "table": [
           {
            "cells": {
             "fill": {
              "color": "#EBF0F8"
             },
             "line": {
              "color": "white"
             }
            },
            "header": {
             "fill": {
              "color": "#C8D4E3"
             },
             "line": {
              "color": "white"
             }
            },
            "type": "table"
           }
          ]
         },
         "layout": {
          "annotationdefaults": {
           "arrowcolor": "#2a3f5f",
           "arrowhead": 0,
           "arrowwidth": 1
          },
          "coloraxis": {
           "colorbar": {
            "outlinewidth": 0,
            "ticks": ""
           }
          },
          "colorscale": {
           "diverging": [
            [
             0,
             "#8e0152"
            ],
            [
             0.1,
             "#c51b7d"
            ],
            [
             0.2,
             "#de77ae"
            ],
            [
             0.3,
             "#f1b6da"
            ],
            [
             0.4,
             "#fde0ef"
            ],
            [
             0.5,
             "#f7f7f7"
            ],
            [
             0.6,
             "#e6f5d0"
            ],
            [
             0.7,
             "#b8e186"
            ],
            [
             0.8,
             "#7fbc41"
            ],
            [
             0.9,
             "#4d9221"
            ],
            [
             1,
             "#276419"
            ]
           ],
           "sequential": [
            [
             0,
             "#0d0887"
            ],
            [
             0.1111111111111111,
             "#46039f"
            ],
            [
             0.2222222222222222,
             "#7201a8"
            ],
            [
             0.3333333333333333,
             "#9c179e"
            ],
            [
             0.4444444444444444,
             "#bd3786"
            ],
            [
             0.5555555555555556,
             "#d8576b"
            ],
            [
             0.6666666666666666,
             "#ed7953"
            ],
            [
             0.7777777777777778,
             "#fb9f3a"
            ],
            [
             0.8888888888888888,
             "#fdca26"
            ],
            [
             1,
             "#f0f921"
            ]
           ],
           "sequentialminus": [
            [
             0,
             "#0d0887"
            ],
            [
             0.1111111111111111,
             "#46039f"
            ],
            [
             0.2222222222222222,
             "#7201a8"
            ],
            [
             0.3333333333333333,
             "#9c179e"
            ],
            [
             0.4444444444444444,
             "#bd3786"
            ],
            [
             0.5555555555555556,
             "#d8576b"
            ],
            [
             0.6666666666666666,
             "#ed7953"
            ],
            [
             0.7777777777777778,
             "#fb9f3a"
            ],
            [
             0.8888888888888888,
             "#fdca26"
            ],
            [
             1,
             "#f0f921"
            ]
           ]
          },
          "colorway": [
           "#636efa",
           "#EF553B",
           "#00cc96",
           "#ab63fa",
           "#FFA15A",
           "#19d3f3",
           "#FF6692",
           "#B6E880",
           "#FF97FF",
           "#FECB52"
          ],
          "font": {
           "color": "#2a3f5f"
          },
          "geo": {
           "bgcolor": "white",
           "lakecolor": "white",
           "landcolor": "#E5ECF6",
           "showlakes": true,
           "showland": true,
           "subunitcolor": "white"
          },
          "hoverlabel": {
           "align": "left"
          },
          "hovermode": "closest",
          "mapbox": {
           "style": "light"
          },
          "paper_bgcolor": "white",
          "plot_bgcolor": "#E5ECF6",
          "polar": {
           "angularaxis": {
            "gridcolor": "white",
            "linecolor": "white",
            "ticks": ""
           },
           "bgcolor": "#E5ECF6",
           "radialaxis": {
            "gridcolor": "white",
            "linecolor": "white",
            "ticks": ""
           }
          },
          "scene": {
           "xaxis": {
            "backgroundcolor": "#E5ECF6",
            "gridcolor": "white",
            "gridwidth": 2,
            "linecolor": "white",
            "showbackground": true,
            "ticks": "",
            "zerolinecolor": "white"
           },
           "yaxis": {
            "backgroundcolor": "#E5ECF6",
            "gridcolor": "white",
            "gridwidth": 2,
            "linecolor": "white",
            "showbackground": true,
            "ticks": "",
            "zerolinecolor": "white"
           },
           "zaxis": {
            "backgroundcolor": "#E5ECF6",
            "gridcolor": "white",
            "gridwidth": 2,
            "linecolor": "white",
            "showbackground": true,
            "ticks": "",
            "zerolinecolor": "white"
           }
          },
          "shapedefaults": {
           "line": {
            "color": "#2a3f5f"
           }
          },
          "ternary": {
           "aaxis": {
            "gridcolor": "white",
            "linecolor": "white",
            "ticks": ""
           },
           "baxis": {
            "gridcolor": "white",
            "linecolor": "white",
            "ticks": ""
           },
           "bgcolor": "#E5ECF6",
           "caxis": {
            "gridcolor": "white",
            "linecolor": "white",
            "ticks": ""
           }
          },
          "title": {
           "x": 0.05
          },
          "xaxis": {
           "automargin": true,
           "gridcolor": "white",
           "linecolor": "white",
           "ticks": "",
           "title": {
            "standoff": 15
           },
           "zerolinecolor": "white",
           "zerolinewidth": 2
          },
          "yaxis": {
           "automargin": true,
           "gridcolor": "white",
           "linecolor": "white",
           "ticks": "",
           "title": {
            "standoff": 15
           },
           "zerolinecolor": "white",
           "zerolinewidth": 2
          }
         }
        },
        "xaxis": {
         "showspikes": true
        },
        "yaxis": {
         "showspikes": true
        }
       },
       "_model_module_version": "4.6.0",
       "_py2js_addTraces": {},
       "_py2js_animate": {},
       "_py2js_deleteTraces": {},
       "_py2js_moveTraces": {},
       "_py2js_removeLayoutProps": {},
       "_py2js_removeTraceProps": {},
       "_py2js_restyle": {},
       "_py2js_update": {},
       "_view_count": 2,
       "_view_module_version": "4.6.0"
      }
     },
     "fbc47b8a545e48d28e02f79d349d191a": {
      "buffers": [
       {
        "data": "AAAAAEKEL0EAAAAAYpEvQQAAAAASnC9BAAAAAFamL0EAAAAAxrcvQQAAAAAy2i9BAAAAAIb1L0EAAAAAWw0wQQAAAABTEjBBAAAAANMYMEEAAAAAzRswQQAAAAB1LTBBAAAAAANKMEEAAAAAyVYwQQAAAAD3dDBBAAAAAD+AMEEAAAAAf4AwQQAAAABNgTBBAAAAAD2DMEEAAAAANYcwQQAAAACjiTBBAAAAADuLMEEAAAAAbYwwQQAAAADBjDBBAAAAAN+aMEEAAAAAx6swQQAAAADl0TBBAAAAAB8GMUEAAAAA3SExQQAAAABDIjFBAAAAAG9AMUEAAAAACUgxQQAAAABpTzFBAAAAAAlwMUEAAAAAlZQxQQAAAAB77zFBAAAAAJ93MkEAAAAAdX0yQQAAAACPfzJBAAAAACPwMkEAAAAAwVYzQQAAAADzlzNBAAAAAFXHM0EAAAAAP8kzQQAAAAAj2DRBAAAAAEsCNUEAAAAAiSA1QQAAAACZMTVBAAAAAKNPNUEAAAAAd4I1QQAAAADRtDVBAAAAAI2MNkEAAAAAdZg3QQAAAABHojtBAAAAgJnCQUEAAACATyFMQQAAAEBS7VhBAAAAIHcpZEEAAADgmqttQQAAAODwS25BAAAA4PBLbkE=",
        "encoding": "base64",
        "path": [
         "_data",
         0,
         "y",
         "value"
        ]
       },
       {
        "data": "AAAAAOS+RkEAAAAAdsdGQQAAAABHyUZBAAAAAKPMRkEAAAAAjNZGQQAAAADa30ZBAAAAAOHpRkEAAAAAn/RGQQAAAAAD/0ZBAAAAAO3/RkEAAAAAhwNHQQAAAAC6C0dBAAAAAEkYR0EAAAAAJxpHQQAAAAB3GkdBAAAAAOoaR0EAAAAAaBxHQQAAAAAhIEdBAAAAAEoiR0EAAAAAOiNHQQAAAAAGJEdBAAAAAIgoR0EAAAAA0yxHQQAAAAA+N0dBAAAAANJGR0EAAAAAVFpHQQAAAAC0cEdBAAAAAGFxR0EAAAAAhndHQQAAAACagkdBAAAAAKGNR0EAAAAAqZ5HQQAAAAAXpkdBAAAAADrCR0EAAAAA/ehHQQAAAADGB0hBAAAAAMEMSEEAAAAApxlIQQAAAADwYUhBAAAAACB2SEEAAAAAY6VIQQAAAAC7pUhBAAAAABCoSEEAAAAA9wFJQQAAAABtKUlBAAAAAK4zSUEAAAAA5T1JQQAAAAAuSUlBAAAAAIhXSUEAAAAAD2BJQQAAAAC4xUlBAAAAADPbSUEAAAAAdR1LQQAAAABkOk1BAAAAAGOzUEEAAAAAIhZWQQAAAECUlWBBAAAAQJhcaEEAAADAHfdwQQAAAECSRnFBAAAAQJJGcUE=",
        "encoding": "base64",
        "path": [
         "_data",
         1,
         "y",
         "value"
        ]
       }
      ],
      "model_module": "plotlywidget",
      "model_module_version": "4.6.0",
      "model_name": "FigureModel",
      "state": {
       "_config": {
        "plotlyServerURL": "https://plot.ly"
       },
       "_data": [
        {
         "hovertemplate": "%{text}",
         "name": "False",
         "showlegend": true,
         "text": [
          "Scene:teddy<br>match:35<br>bad4: 0.33847383356699245<br>",
          "Scene:teddy<br>match:33<br>bad4: 0.3399028790864945<br>",
          "Scene:teddy<br>match:32<br>bad4: 0.33982160635552755<br>",
          "Scene:teddy<br>match:34<br>bad4: 0.34185342462970114<br>",
          "Scene:teddy<br>match:31<br>bad4: 0.3400992881863313<br>",
          "Scene:teddy<br>match:30<br>bad4: 0.34241556101888915<br>",
          "Scene:teddy<br>match:29<br>bad4: 0.3431605610527528<br>",
          "Scene:teddy<br>match:28<br>bad4: 0.34404101563822803<br>",
          "Scene:teddy<br>match:24<br>bad4: 0.33885310631150484<br>",
          "Scene:teddy<br>match:25<br>bad4: 0.3409729700442259<br>",
          "Scene:teddy<br>match:27<br>bad4: 0.3426187428463065<br>",
          "Scene:teddy<br>match:26<br>bad4: 0.34206337918469903<br>",
          "Scene:teddy<br>match:23<br>bad4: 0.3427880610358209<br>",
          "Scene:teddy<br>match:22<br>bad4: 0.34335697015258954<br>",
          "Scene:teddy<br>match:21<br>bad4: 0.3455919702541805<br>",
          "Scene:teddy<br>match:42<br>bad4: 0.3399299699968168<br>",
          "Scene:teddy<br>match:43<br>bad4: 0.3386702426668292<br>",
          "Scene:teddy<br>match:41<br>bad4: 0.3396387427108519<br>",
          "Scene:teddy<br>match:39<br>bad4: 0.3374511517023251<br>",
          "Scene:teddy<br>match:38<br>bad4: 0.33837901538086435<br>",
          "Scene:teddy<br>match:44<br>bad4: 0.33758660625393666<br>",
          "Scene:teddy<br>match:37<br>bad4: 0.3383248335602197<br>",
          "Scene:teddy<br>match:20<br>bad4: 0.3464859702948168<br>",
          "Scene:teddy<br>match:40<br>bad4: 0.3391781972353726<br>",
          "Scene:teddy<br>match:36<br>bad4: 0.3387515153977961<br>",
          "Scene:teddy<br>match:19<br>bad4: 0.34788792490399656<br>",
          "Scene:teddy<br>match:18<br>bad4: 0.34854487947931273<br>",
          "Scene:teddy<br>match:17<br>bad4: 0.34805724309351105<br>",
          "Scene:teddy<br>match:15<br>bad4: 0.34799628854528586<br>",
          "Scene:teddy<br>match:16<br>bad4: 0.3494185613372073<br>",
          "Scene:teddy<br>match:46<br>bad4: 0.33677387894426725<br>",
          "Scene:teddy<br>match:45<br>bad4: 0.33797265172602964<br>",
          "Scene:teddy<br>match:14<br>bad4: 0.3471022885046495<br>",
          "Scene:teddy<br>match:47<br>bad4: 0.3380877880948995<br>",
          "Scene:teddy<br>match:13<br>bad4: 0.3452533338751516<br>",
          "Scene:teddy<br>match:12<br>bad4: 0.3485110158414098<br>",
          "Scene:teddy<br>match:49<br>bad4: 0.3409323336787424<br>",
          "Scene:teddy<br>match:11<br>bad4: 0.35231051601411434<br>",
          "Scene:teddy<br>match:48<br>bad4: 0.34191437917792633<br>",
          "Scene:teddy<br>match:10<br>bad4: 0.3528320160378189<br>",
          "Scene:teddy<br>match:50<br>bad4: 0.3418466519021205<br>",
          "Scene:teddy<br>match:9<br>bad4: 0.35111174323235195<br>",
          "Scene:teddy<br>match:51<br>bad4: 0.3460186520917569<br>",
          "Scene:teddy<br>match:52<br>bad4: 0.3417382882608313<br>",
          "Scene:teddy<br>match:53<br>bad4: 0.3447927883996722<br>",
          "Scene:teddy<br>match:54<br>bad4: 0.34417647018983955<br>",
          "Scene:teddy<br>match:55<br>bad4: 0.3434991974317817<br>",
          "Scene:teddy<br>match:8<br>bad4: 0.3554191979735999<br>",
          "Scene:teddy<br>match:56<br>bad4: 0.3461879702812713<br>",
          "Scene:teddy<br>match:57<br>bad4: 0.3466552884843313<br>",
          "Scene:teddy<br>match:58<br>bad4: 0.3486126067551185<br>",
          "Scene:teddy<br>match:59<br>bad4: 0.35016356137107096<br>",
          "Scene:teddy<br>match:7<br>bad4: 0.3602142891006495<br>",
          "Scene:teddy<br>match:6<br>bad4: 0.3745115170232508<br>",
          "Scene:teddy<br>match:5<br>bad4: 0.3918090632640484<br>",
          "Scene:teddy<br>match:4<br>bad4: 0.4429702474077385<br>",
          "Scene:teddy<br>match:3<br>bad4: 0.5590209345009516<br>",
          "Scene:teddy<br>match:2<br>bad4: 0.7145159870234542<br>",
          "Scene:teddy<br>match:1<br>bad4: 0.9864613175664236<br>",
          "Scene:teddy<br>match:0<br>bad4: 1.0<br>",
          "Scene:teddy<br>match:0<br>bad4: 1.0<br>"
         ],
         "type": "scatter",
         "uid": "b20f8358-e016-4f27-a4eb-0d68b3cadb4f",
         "x": [
          35,
          33,
          32,
          34,
          31,
          30,
          29,
          28,
          24,
          25,
          27,
          26,
          23,
          22,
          21,
          42,
          43,
          41,
          39,
          38,
          44,
          37,
          20,
          40,
          36,
          19,
          18,
          17,
          15,
          16,
          46,
          45,
          14,
          47,
          13,
          12,
          49,
          11,
          48,
          10,
          50,
          9,
          51,
          52,
          53,
          54,
          55,
          8,
          56,
          57,
          58,
          59,
          7,
          6,
          5,
          4,
          3,
          2,
          1,
          0,
          0
         ],
         "y": {
          "dtype": "float64",
          "shape": [
           61
          ],
          "value": {}
         }
        },
        {
         "hovertemplate": "%{text}",
         "name": "True",
         "showlegend": true,
         "text": [
          "Scene:teddy<br>match:35<br>bad4: 0.4065100638668473<br>",
          "Scene:teddy<br>match:33<br>bad4: 0.4078164311979872<br>",
          "Scene:teddy<br>match:34<br>bad4: 0.4095340623185601<br>",
          "Scene:teddy<br>match:32<br>bad4: 0.4077559512289529<br>",
          "Scene:teddy<br>match:31<br>bad4: 0.40805835107412425<br>",
          "Scene:teddy<br>match:30<br>bad4: 0.4101328140119993<br>",
          "Scene:teddy<br>match:29<br>bad4: 0.41082228565898976<br>",
          "Scene:teddy<br>match:28<br>bad4: 0.4116206212502419<br>",
          "Scene:teddy<br>match:27<br>bad4: 0.4103868298819431<br>",
          "Scene:teddy<br>match:24<br>bad4: 0.4070846235726727<br>",
          "Scene:teddy<br>match:25<br>bad4: 0.4089534546158312<br>",
          "Scene:teddy<br>match:26<br>bad4: 0.40992113412037934<br>",
          "Scene:teddy<br>match:43<br>bad4: 0.4065644958389781<br>",
          "Scene:teddy<br>match:42<br>bad4: 0.40771361525062894<br>",
          "Scene:teddy<br>match:44<br>bad4: 0.40559681633442995<br>",
          "Scene:teddy<br>match:41<br>bad4: 0.4074535513837817<br>",
          "Scene:teddy<br>match:23<br>bad4: 0.4106045577704664<br>",
          "Scene:teddy<br>match:39<br>bad4: 0.4055726243468164<br>",
          "Scene:teddy<br>match:40<br>bad4: 0.4070422875943488<br>",
          "Scene:teddy<br>match:38<br>bad4: 0.4064193439132959<br>",
          "Scene:teddy<br>match:37<br>bad4: 0.4063649119411651<br>",
          "Scene:teddy<br>match:22<br>bad4: 0.4110883975227405<br>",
          "Scene:teddy<br>match:36<br>bad4: 0.4067096477646603<br>",
          "Scene:teddy<br>match:21<br>bad4: 0.4131084284884846<br>",
          "Scene:teddy<br>match:20<br>bad4: 0.4139128120766402<br>",
          "Scene:teddy<br>match:19<br>bad4: 0.4151828914263596<br>",
          "Scene:teddy<br>match:18<br>bad4: 0.4157755951228953<br>",
          "Scene:teddy<br>match:46<br>bad4: 0.4048771047029224<br>",
          "Scene:teddy<br>match:45<br>bad4: 0.40593550416102187<br>",
          "Scene:teddy<br>match:47<br>bad4: 0.4060020321269596<br>",
          "Scene:teddy<br>match:17<br>bad4: 0.4153401393458487<br>",
          "Scene:teddy<br>match:16<br>bad4: 0.4165557867234372<br>",
          "Scene:teddy<br>match:15<br>bad4: 0.4153098993613315<br>",
          "Scene:teddy<br>match:14<br>bad4: 0.4145659957422102<br>",
          "Scene:teddy<br>match:13<br>bad4: 0.4129390845751887<br>",
          "Scene:teddy<br>match:49<br>bad4: 0.4085482388233017<br>",
          "Scene:teddy<br>match:48<br>bad4: 0.4094312463712019<br>",
          "Scene:teddy<br>match:12<br>bad4: 0.4158844590671569<br>",
          "Scene:teddy<br>match:11<br>bad4: 0.4193015773175924<br>",
          "Scene:teddy<br>match:50<br>bad4: 0.4093889103928779<br>",
          "Scene:teddy<br>match:52<br>bad4: 0.40926795045480935<br>",
          "Scene:teddy<br>match:10<br>bad4: 0.4198398490419973<br>",
          "Scene:teddy<br>match:51<br>bad4: 0.4131084284884846<br>",
          "Scene:teddy<br>match:9<br>bad4: 0.41830970582543053<br>",
          "Scene:teddy<br>match:53<br>bad4: 0.4120076930520611<br>",
          "Scene:teddy<br>match:54<br>bad4: 0.411451277336946<br>",
          "Scene:teddy<br>match:55<br>bad4: 0.4108162376620863<br>",
          "Scene:teddy<br>match:56<br>bad4: 0.4131689084575189<br>",
          "Scene:teddy<br>match:57<br>bad4: 0.41353783626862783<br>",
          "Scene:teddy<br>match:58<br>bad4: 0.4152675633830075<br>",
          "Scene:teddy<br>match:59<br>bad4: 0.4166465066769886<br>",
          "Scene:teddy<br>match:8<br>bad4: 0.42222275982194696<br>",
          "Scene:teddy<br>match:7<br>bad4: 0.4265954615831237<br>",
          "Scene:teddy<br>match:6<br>bad4: 0.4394776949874202<br>",
          "Scene:teddy<br>match:5<br>bad4: 0.4551964389394232<br>",
          "Scene:teddy<br>match:4<br>bad4: 0.501221695374492<br>",
          "Scene:teddy<br>match:3<br>bad4: 0.6054105380298045<br>",
          "Scene:teddy<br>match:2<br>bad4: 0.7447745306754403<br>",
          "Scene:teddy<br>match:1<br>bad4: 0.9879100541900524<br>",
          "Scene:teddy<br>match:0<br>bad4: 1.0<br>",
          "Scene:teddy<br>match:0<br>bad4: 1.0<br>"
         ],
         "type": "scatter",
         "uid": "3ed59c3c-6c65-4dd8-ab63-dd1ad233b4f0",
         "x": [
          35,
          33,
          34,
          32,
          31,
          30,
          29,
          28,
          27,
          24,
          25,
          26,
          43,
          42,
          44,
          41,
          23,
          39,
          40,
          38,
          37,
          22,
          36,
          21,
          20,
          19,
          18,
          46,
          45,
          47,
          17,
          16,
          15,
          14,
          13,
          49,
          48,
          12,
          11,
          50,
          52,
          10,
          51,
          9,
          53,
          54,
          55,
          56,
          57,
          58,
          59,
          8,
          7,
          6,
          5,
          4,
          3,
          2,
          1,
          0,
          0
         ],
         "y": {
          "dtype": "float64",
          "shape": [
           61
          ],
          "value": {}
         }
        }
       ],
       "_js2py_restyle": {},
       "_js2py_update": {},
       "_last_layout_edit_id": 6,
       "_layout": {
        "autosize": true,
        "legend": {
         "title": {
          "text": "are_occlusions_errors"
         }
        },
        "template": {
         "data": {
          "bar": [
           {
            "error_x": {
             "color": "#2a3f5f"
            },
            "error_y": {
             "color": "#2a3f5f"
            },
            "marker": {
             "line": {
              "color": "#E5ECF6",
              "width": 0.5
             }
            },
            "type": "bar"
           }
          ],
          "barpolar": [
           {
            "marker": {
             "line": {
              "color": "#E5ECF6",
              "width": 0.5
             }
            },
            "type": "barpolar"
           }
          ],
          "carpet": [
           {
            "aaxis": {
             "endlinecolor": "#2a3f5f",
             "gridcolor": "white",
             "linecolor": "white",
             "minorgridcolor": "white",
             "startlinecolor": "#2a3f5f"
            },
            "baxis": {
             "endlinecolor": "#2a3f5f",
             "gridcolor": "white",
             "linecolor": "white",
             "minorgridcolor": "white",
             "startlinecolor": "#2a3f5f"
            },
            "type": "carpet"
           }
          ],
          "choropleth": [
           {
            "colorbar": {
             "outlinewidth": 0,
             "ticks": ""
            },
            "type": "choropleth"
           }
          ],
          "contour": [
           {
            "colorbar": {
             "outlinewidth": 0,
             "ticks": ""
            },
            "colorscale": [
             [
              0,
              "#0d0887"
             ],
             [
              0.1111111111111111,
              "#46039f"
             ],
             [
              0.2222222222222222,
              "#7201a8"
             ],
             [
              0.3333333333333333,
              "#9c179e"
             ],
             [
              0.4444444444444444,
              "#bd3786"
             ],
             [
              0.5555555555555556,
              "#d8576b"
             ],
             [
              0.6666666666666666,
              "#ed7953"
             ],
             [
              0.7777777777777778,
              "#fb9f3a"
             ],
             [
              0.8888888888888888,
              "#fdca26"
             ],
             [
              1,
              "#f0f921"
             ]
            ],
            "type": "contour"
           }
          ],
          "contourcarpet": [
           {
            "colorbar": {
             "outlinewidth": 0,
             "ticks": ""
            },
            "type": "contourcarpet"
           }
          ],
          "heatmap": [
           {
            "colorbar": {
             "outlinewidth": 0,
             "ticks": ""
            },
            "colorscale": [
             [
              0,
              "#0d0887"
             ],
             [
              0.1111111111111111,
              "#46039f"
             ],
             [
              0.2222222222222222,
              "#7201a8"
             ],
             [
              0.3333333333333333,
              "#9c179e"
             ],
             [
              0.4444444444444444,
              "#bd3786"
             ],
             [
              0.5555555555555556,
              "#d8576b"
             ],
             [
              0.6666666666666666,
              "#ed7953"
             ],
             [
              0.7777777777777778,
              "#fb9f3a"
             ],
             [
              0.8888888888888888,
              "#fdca26"
             ],
             [
              1,
              "#f0f921"
             ]
            ],
            "type": "heatmap"
           }
          ],
          "heatmapgl": [
           {
            "colorbar": {
             "outlinewidth": 0,
             "ticks": ""
            },
            "colorscale": [
             [
              0,
              "#0d0887"
             ],
             [
              0.1111111111111111,
              "#46039f"
             ],
             [
              0.2222222222222222,
              "#7201a8"
             ],
             [
              0.3333333333333333,
              "#9c179e"
             ],
             [
              0.4444444444444444,
              "#bd3786"
             ],
             [
              0.5555555555555556,
              "#d8576b"
             ],
             [
              0.6666666666666666,
              "#ed7953"
             ],
             [
              0.7777777777777778,
              "#fb9f3a"
             ],
             [
              0.8888888888888888,
              "#fdca26"
             ],
             [
              1,
              "#f0f921"
             ]
            ],
            "type": "heatmapgl"
           }
          ],
          "histogram": [
           {
            "marker": {
             "colorbar": {
              "outlinewidth": 0,
              "ticks": ""
             }
            },
            "type": "histogram"
           }
          ],
          "histogram2d": [
           {
            "colorbar": {
             "outlinewidth": 0,
             "ticks": ""
            },
            "colorscale": [
             [
              0,
              "#0d0887"
             ],
             [
              0.1111111111111111,
              "#46039f"
             ],
             [
              0.2222222222222222,
              "#7201a8"
             ],
             [
              0.3333333333333333,
              "#9c179e"
             ],
             [
              0.4444444444444444,
              "#bd3786"
             ],
             [
              0.5555555555555556,
              "#d8576b"
             ],
             [
              0.6666666666666666,
              "#ed7953"
             ],
             [
              0.7777777777777778,
              "#fb9f3a"
             ],
             [
              0.8888888888888888,
              "#fdca26"
             ],
             [
              1,
              "#f0f921"
             ]
            ],
            "type": "histogram2d"
           }
          ],
          "histogram2dcontour": [
           {
            "colorbar": {
             "outlinewidth": 0,
             "ticks": ""
            },
            "colorscale": [
             [
              0,
              "#0d0887"
             ],
             [
              0.1111111111111111,
              "#46039f"
             ],
             [
              0.2222222222222222,
              "#7201a8"
             ],
             [
              0.3333333333333333,
              "#9c179e"
             ],
             [
              0.4444444444444444,
              "#bd3786"
             ],
             [
              0.5555555555555556,
              "#d8576b"
             ],
             [
              0.6666666666666666,
              "#ed7953"
             ],
             [
              0.7777777777777778,
              "#fb9f3a"
             ],
             [
              0.8888888888888888,
              "#fdca26"
             ],
             [
              1,
              "#f0f921"
             ]
            ],
            "type": "histogram2dcontour"
           }
          ],
          "mesh3d": [
           {
            "colorbar": {
             "outlinewidth": 0,
             "ticks": ""
            },
            "type": "mesh3d"
           }
          ],
          "parcoords": [
           {
            "line": {
             "colorbar": {
              "outlinewidth": 0,
              "ticks": ""
             }
            },
            "type": "parcoords"
           }
          ],
          "pie": [
           {
            "automargin": true,
            "type": "pie"
           }
          ],
          "scatter": [
           {
            "marker": {
             "colorbar": {
              "outlinewidth": 0,
              "ticks": ""
             }
            },
            "type": "scatter"
           }
          ],
          "scatter3d": [
           {
            "line": {
             "colorbar": {
              "outlinewidth": 0,
              "ticks": ""
             }
            },
            "marker": {
             "colorbar": {
              "outlinewidth": 0,
              "ticks": ""
             }
            },
            "type": "scatter3d"
           }
          ],
          "scattercarpet": [
           {
            "marker": {
             "colorbar": {
              "outlinewidth": 0,
              "ticks": ""
             }
            },
            "type": "scattercarpet"
           }
          ],
          "scattergeo": [
           {
            "marker": {
             "colorbar": {
              "outlinewidth": 0,
              "ticks": ""
             }
            },
            "type": "scattergeo"
           }
          ],
          "scattergl": [
           {
            "marker": {
             "colorbar": {
              "outlinewidth": 0,
              "ticks": ""
             }
            },
            "type": "scattergl"
           }
          ],
          "scattermapbox": [
           {
            "marker": {
             "colorbar": {
              "outlinewidth": 0,
              "ticks": ""
             }
            },
            "type": "scattermapbox"
           }
          ],
          "scatterpolar": [
           {
            "marker": {
             "colorbar": {
              "outlinewidth": 0,
              "ticks": ""
             }
            },
            "type": "scatterpolar"
           }
          ],
          "scatterpolargl": [
           {
            "marker": {
             "colorbar": {
              "outlinewidth": 0,
              "ticks": ""
             }
            },
            "type": "scatterpolargl"
           }
          ],
          "scatterternary": [
           {
            "marker": {
             "colorbar": {
              "outlinewidth": 0,
              "ticks": ""
             }
            },
            "type": "scatterternary"
           }
          ],
          "surface": [
           {
            "colorbar": {
             "outlinewidth": 0,
             "ticks": ""
            },
            "colorscale": [
             [
              0,
              "#0d0887"
             ],
             [
              0.1111111111111111,
              "#46039f"
             ],
             [
              0.2222222222222222,
              "#7201a8"
             ],
             [
              0.3333333333333333,
              "#9c179e"
             ],
             [
              0.4444444444444444,
              "#bd3786"
             ],
             [
              0.5555555555555556,
              "#d8576b"
             ],
             [
              0.6666666666666666,
              "#ed7953"
             ],
             [
              0.7777777777777778,
              "#fb9f3a"
             ],
             [
              0.8888888888888888,
              "#fdca26"
             ],
             [
              1,
              "#f0f921"
             ]
            ],
            "type": "surface"
           }
          ],
          "table": [
           {
            "cells": {
             "fill": {
              "color": "#EBF0F8"
             },
             "line": {
              "color": "white"
             }
            },
            "header": {
             "fill": {
              "color": "#C8D4E3"
             },
             "line": {
              "color": "white"
             }
            },
            "type": "table"
           }
          ]
         },
         "layout": {
          "annotationdefaults": {
           "arrowcolor": "#2a3f5f",
           "arrowhead": 0,
           "arrowwidth": 1
          },
          "coloraxis": {
           "colorbar": {
            "outlinewidth": 0,
            "ticks": ""
           }
          },
          "colorscale": {
           "diverging": [
            [
             0,
             "#8e0152"
            ],
            [
             0.1,
             "#c51b7d"
            ],
            [
             0.2,
             "#de77ae"
            ],
            [
             0.3,
             "#f1b6da"
            ],
            [
             0.4,
             "#fde0ef"
            ],
            [
             0.5,
             "#f7f7f7"
            ],
            [
             0.6,
             "#e6f5d0"
            ],
            [
             0.7,
             "#b8e186"
            ],
            [
             0.8,
             "#7fbc41"
            ],
            [
             0.9,
             "#4d9221"
            ],
            [
             1,
             "#276419"
            ]
           ],
           "sequential": [
            [
             0,
             "#0d0887"
            ],
            [
             0.1111111111111111,
             "#46039f"
            ],
            [
             0.2222222222222222,
             "#7201a8"
            ],
            [
             0.3333333333333333,
             "#9c179e"
            ],
            [
             0.4444444444444444,
             "#bd3786"
            ],
            [
             0.5555555555555556,
             "#d8576b"
            ],
            [
             0.6666666666666666,
             "#ed7953"
            ],
            [
             0.7777777777777778,
             "#fb9f3a"
            ],
            [
             0.8888888888888888,
             "#fdca26"
            ],
            [
             1,
             "#f0f921"
            ]
           ],
           "sequentialminus": [
            [
             0,
             "#0d0887"
            ],
            [
             0.1111111111111111,
             "#46039f"
            ],
            [
             0.2222222222222222,
             "#7201a8"
            ],
            [
             0.3333333333333333,
             "#9c179e"
            ],
            [
             0.4444444444444444,
             "#bd3786"
            ],
            [
             0.5555555555555556,
             "#d8576b"
            ],
            [
             0.6666666666666666,
             "#ed7953"
            ],
            [
             0.7777777777777778,
             "#fb9f3a"
            ],
            [
             0.8888888888888888,
             "#fdca26"
            ],
            [
             1,
             "#f0f921"
            ]
           ]
          },
          "colorway": [
           "#636efa",
           "#EF553B",
           "#00cc96",
           "#ab63fa",
           "#FFA15A",
           "#19d3f3",
           "#FF6692",
           "#B6E880",
           "#FF97FF",
           "#FECB52"
          ],
          "font": {
           "color": "#2a3f5f"
          },
          "geo": {
           "bgcolor": "white",
           "lakecolor": "white",
           "landcolor": "#E5ECF6",
           "showlakes": true,
           "showland": true,
           "subunitcolor": "white"
          },
          "hoverlabel": {
           "align": "left"
          },
          "hovermode": "closest",
          "mapbox": {
           "style": "light"
          },
          "paper_bgcolor": "white",
          "plot_bgcolor": "#E5ECF6",
          "polar": {
           "angularaxis": {
            "gridcolor": "white",
            "linecolor": "white",
            "ticks": ""
           },
           "bgcolor": "#E5ECF6",
           "radialaxis": {
            "gridcolor": "white",
            "linecolor": "white",
            "ticks": ""
           }
          },
          "scene": {
           "xaxis": {
            "backgroundcolor": "#E5ECF6",
            "gridcolor": "white",
            "gridwidth": 2,
            "linecolor": "white",
            "showbackground": true,
            "ticks": "",
            "zerolinecolor": "white"
           },
           "yaxis": {
            "backgroundcolor": "#E5ECF6",
            "gridcolor": "white",
            "gridwidth": 2,
            "linecolor": "white",
            "showbackground": true,
            "ticks": "",
            "zerolinecolor": "white"
           },
           "zaxis": {
            "backgroundcolor": "#E5ECF6",
            "gridcolor": "white",
            "gridwidth": 2,
            "linecolor": "white",
            "showbackground": true,
            "ticks": "",
            "zerolinecolor": "white"
           }
          },
          "shapedefaults": {
           "line": {
            "color": "#2a3f5f"
           }
          },
          "ternary": {
           "aaxis": {
            "gridcolor": "white",
            "linecolor": "white",
            "ticks": ""
           },
           "baxis": {
            "gridcolor": "white",
            "linecolor": "white",
            "ticks": ""
           },
           "bgcolor": "#E5ECF6",
           "caxis": {
            "gridcolor": "white",
            "linecolor": "white",
            "ticks": ""
           }
          },
          "title": {
           "x": 0.05
          },
          "xaxis": {
           "automargin": true,
           "gridcolor": "white",
           "linecolor": "white",
           "ticks": "",
           "title": {
            "standoff": 15
           },
           "zerolinecolor": "white",
           "zerolinewidth": 2
          },
          "yaxis": {
           "automargin": true,
           "gridcolor": "white",
           "linecolor": "white",
           "ticks": "",
           "title": {
            "standoff": 15
           },
           "zerolinecolor": "white",
           "zerolinewidth": 2
          }
         }
        },
        "xaxis": {
         "range": [
          5.343886539920128,
          59
         ],
         "showspikes": true
        },
        "yaxis": {
         "range": [
          109275.50748571134,
          1918356.693359112
         ],
         "showspikes": true
        }
       },
       "_model_module_version": "4.6.0",
       "_py2js_addTraces": {},
       "_py2js_animate": {},
       "_py2js_deleteTraces": {},
       "_py2js_moveTraces": {},
       "_py2js_removeLayoutProps": {},
       "_py2js_removeTraceProps": {},
       "_py2js_restyle": {},
       "_py2js_update": {},
       "_view_count": 3,
       "_view_module_version": "4.6.0"
      }
     },
     "fd06e18f1b73462c8d994e3f961b229c": {
      "model_module": "@jupyter-widgets/base",
      "model_module_version": "1.2.0",
      "model_name": "LayoutModel",
      "state": {}
     }
    },
    "version_major": 2,
    "version_minor": 0
   }
  }
 },
 "nbformat": 4,
 "nbformat_minor": 4
}
