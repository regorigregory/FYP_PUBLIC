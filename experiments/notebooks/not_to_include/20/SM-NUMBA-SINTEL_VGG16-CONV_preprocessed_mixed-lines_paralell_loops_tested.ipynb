{
 "cells": [
  {
   "cell_type": "markdown",
   "metadata": {
    "colab_type": "text",
    "id": "0gh3RJrMOxDr"
   },
   "source": [
    "<h1>SM-NUMBA-SINTEL-convolved\n",
    "</h1><br>\n"
   ]
  },
  {
   "cell_type": "code",
   "execution_count": 3,
   "metadata": {
    "colab": {
     "base_uri": "https://localhost:8080/",
     "height": 142
    },
    "colab_type": "code",
    "executionInfo": {
     "elapsed": 24148,
     "status": "ok",
     "timestamp": 1583669283909,
     "user": {
      "displayName": "Gergő Endrész",
      "photoUrl": "https://lh3.googleusercontent.com/a-/AOh14Gi-PB7WDYNTcVZ9nR682HqtLOryUrTl135vcvukuw=s64",
      "userId": "12307487896953279443"
     },
     "user_tz": 0
    },
    "id": "q_rrlaCxm35F",
    "outputId": "bd493a20-a9a8-49b7-c58b-fea996b54633"
   },
   "outputs": [
    {
     "name": "stdout",
     "output_type": "stream",
     "text": [
      "Go to this URL in a browser: https://accounts.google.com/o/oauth2/auth?client_id=947318989803-6bn6qk8qdgf4n4g3pfee6491hc0brc4i.apps.googleusercontent.com&redirect_uri=urn%3aietf%3awg%3aoauth%3a2.0%3aoob&response_type=code&scope=email%20https%3a%2f%2fwww.googleapis.com%2fauth%2fdocs.test%20https%3a%2f%2fwww.googleapis.com%2fauth%2fdrive%20https%3a%2f%2fwww.googleapis.com%2fauth%2fdrive.photos.readonly%20https%3a%2f%2fwww.googleapis.com%2fauth%2fpeopleapi.readonly\n",
      "\n",
      "Enter your authorization code:\n",
      "··········\n",
      "Mounted at /content/gdrive\n",
      "/content/gdrive/My Drive/python_projects/FYP\n"
     ]
    }
   ],
   "source": [
    "from google.colab import drive\n",
    "drive.mount(\"/content/gdrive\")\n",
    "%cd \"gdrive/My Drive/python_projects/FYP\""
   ]
  },
  {
   "cell_type": "code",
   "execution_count": 0,
   "metadata": {
    "colab": {},
    "colab_type": "code",
    "id": "onhlff26OxD7"
   },
   "outputs": [],
   "source": [
    "# built in modules and libraries\n",
    "\n",
    "import numpy as np\n",
    "import importlib as imp\n",
    "import cv2\n",
    "import os\n",
    "import matplotlib.pyplot as plt\n",
    "import gc\n",
    "import math\n",
    "import time\n",
    "import glob\n",
    "\n",
    "# Custom libraries/classes\n",
    "\n",
    "from components.classes.NumbaSimpleMatcher import Wrapper as Matcher\n",
    "\n",
    "from components.classes.Metrix import Wrapper as Metrix\n",
    "from components.classes.SintelReader import Wrapper as SintelReader\n",
    "from components.classes.CSVReader import Wrapper as CSVReader\n",
    "from components.classes.CSVWriter2 import Wrapper as CSVWriter\n",
    "\n",
    "\n",
    "\n",
    "# singleton class: we will only have one progress bar\n",
    "from components.classes.SimpleProgressBar import SimpleProgressBar\n",
    "\n",
    "\n",
    "# Custom libraries/utils\n",
    "\n",
    "from components.utils import plot_utils as plu\n",
    "from components.utils import utils as u"
   ]
  },
  {
   "cell_type": "markdown",
   "metadata": {
    "colab_type": "text",
    "id": "DFrr1Zy4ERMw"
   },
   "source": [
    "##Configuring and testing data generator"
   ]
  },
  {
   "cell_type": "code",
   "execution_count": 5,
   "metadata": {
    "colab": {
     "base_uri": "https://localhost:8080/",
     "height": 129
    },
    "colab_type": "code",
    "executionInfo": {
     "elapsed": 59248,
     "status": "ok",
     "timestamp": 1583669319036,
     "user": {
      "displayName": "Gergő Endrész",
      "photoUrl": "https://lh3.googleusercontent.com/a-/AOh14Gi-PB7WDYNTcVZ9nR682HqtLOryUrTl135vcvukuw=s64",
      "userId": "12307487896953279443"
     },
     "user_tz": 0
    },
    "id": "vmY4cZniX7Kx",
    "outputId": "d569033e-f9d8-4f25-890d-bcdefd8442c8"
   },
   "outputs": [
    {
     "name": "stdout",
     "output_type": "stream",
     "text": [
      "File ./optimization/final//numba_sm/SM_VGG16_v5_GC_8p_64_240_1024.csv already exists, header has not been written.\n"
     ]
    },
    {
     "data": {
      "image/png": "[encoded data removed]",
      "text/plain": [
       "<Figure size 800x600 with 5 Axes>"
      ]
     },
     "metadata": {
      "tags": []
     },
     "output_type": "display_data"
    }
   ],
   "source": [
    "##################################################################################\n",
    "# Setting default parameters  #################################################### \n",
    "##################################################################################\n",
    "NUM_PROC = 64\n",
    "\n",
    "LOG_OUTPUT_ROOT = \"./optimization/final/\"\n",
    "\n",
    "LOG_DIRECTORY = LOG_OUTPUT_ROOT+\"/numba_sm/\"\n",
    "\n",
    "SPEC_MARKER = \"SM_VGG16_v5_GC_8p_64_240_1024\"\n",
    "\n",
    "CSV_FILE_NAME =  SPEC_MARKER+\".csv\"\n",
    "\n",
    "CSV_FILE_PATH = os.path.join(LOG_DIRECTORY, CSV_FILE_NAME)\n",
    "\n",
    "##################################################################################\n",
    "# Instantiating reader and csv writer ############################################\n",
    "##################################################################################\n",
    "\n",
    "\n",
    "STEREO_IMGS_ROOT = \"./datasets/sintel/training\"\n",
    "\n",
    "IMG_READER = SintelReader(rootPath=STEREO_IMGS_ROOT)\n",
    "\n",
    "CSV_WRITER = CSVWriter(file_path = CSV_FILE_PATH)\n",
    "\n",
    "PROGRESS_VIEWER = SimpleProgressBar.get_instance()\n",
    "\n",
    "NUM_SCENES = len(IMG_READER.get_available_scenes())\n",
    "\n",
    "SCENE_STEP=2\n",
    "\n",
    "##################################################################################\n",
    "# Testing reader configuration ###################################################\n",
    "##################################################################################\n",
    "## CSV writer should output if there has been a permission error or file already exists (which is not a problem)\n",
    "\n",
    "IMG_READER.set_selected_scene('cave_4')\n",
    "\n",
    "loaded_imgs = IMG_READER.get_selected_scene_next_files()\n",
    "\n",
    "IMG_READER.plot_images_to_compare(loaded_imgs)\n"
   ]
  },
  {
   "cell_type": "code",
   "execution_count": 0,
   "metadata": {
    "colab": {},
    "colab_type": "code",
    "id": "P-v6h2eTm0W9"
   },
   "outputs": [],
   "source": [
    "##################################################################################\n",
    "# SPEC_DICT: columns that will be written to csv##################################\n",
    "##################################################################################\n",
    "\n",
    "SPEC_DICT = dict({})\n",
    "\n",
    "SPEC_DICT[\"is_parallel\"] = \"True\"\n",
    "\n",
    "SPEC_DICT[\"alg_type\"] =  SPEC_MARKER\n",
    "SPEC_DICT[\"is_img_preprocessed\"] = \"yes\"\n",
    "\n",
    "\n",
    "\n",
    "SPEC_DICT[\"filter_strategy\"] = \"VGG16_one_by_one\"\n",
    "SPEC_DICT[\"matching_mode\"] =  \"occlusions_added_to_the_groundtruth\"\n",
    "SPEC_DICT[\"matrix_init_mode\"] = 2\n",
    "\n",
    "# Have to be updated iteratively\n",
    "SPEC_DICT[\"img_name_pretag\"] = SPEC_MARKER+\"_SCENE_\"\n",
    "SPEC_DICT[\"img_name\"] = \"Non-defined\"\n",
    "SPEC_DICT[\"convolution_filters\"] = \"-1\""
   ]
  },
  {
   "cell_type": "code",
   "execution_count": 7,
   "metadata": {
    "colab": {
     "base_uri": "https://localhost:8080/",
     "height": 54
    },
    "colab_type": "code",
    "executionInfo": {
     "elapsed": 59219,
     "status": "ok",
     "timestamp": 1583669319037,
     "user": {
      "displayName": "Gergő Endrész",
      "photoUrl": "https://lh3.googleusercontent.com/a-/AOh14Gi-PB7WDYNTcVZ9nR682HqtLOryUrTl135vcvukuw=s64",
      "userId": "12307487896953279443"
     },
     "user_tz": 0
    },
    "id": "57BqdXlOkaXV",
    "outputId": "5111d78e-7a77-4a18-b384-bc13460bdca2"
   },
   "outputs": [
    {
     "data": {
      "text/plain": [
       "\"\\nimport tensorflow as tf\\n\\nphysical_devices = tf.config.list_physical_devices('GPU')\\nprint(physical_devices)\\ntry:\\n    tf.config.set_logical_device_configuration(\\n        physical_devices[0],\\n        [tf.config.LogicalDeviceConfiguration(memory_limit=5000),\\n          tf.config.LogicalDeviceConfiguration(memory_limit=5000)])\\n\\n    logical_devices = tf.config.list_logical_devices('GPU')\\n    assert len(logical_devices) == len(physical_devices) + 1\\n\\n    tf.config.set_logical_device_configuration(\\n        physical_devices[0],\\n        [tf.config.LogicalDeviceConfiguration(memory_limit=5000),\\n          tf.config.LogicalDeviceConfiguration(memory_limit=5000)])\\nexcept:\\n    # Invalid device or cannot modify logical devices once initialized.\\n    pass\""
      ]
     },
     "execution_count": 7,
     "metadata": {
      "tags": []
     },
     "output_type": "execute_result"
    }
   ],
   "source": [
    "##################################################################################\n",
    "# Making sure that Tensorflow session is placed on the GPU, if available #########\n",
    "##################################################################################\n",
    "\"\"\"\n",
    "import tensorflow as tf\n",
    "\n",
    "physical_devices = tf.config.list_physical_devices('GPU')\n",
    "print(physical_devices)\n",
    "try:\n",
    "    tf.config.set_logical_device_configuration(\n",
    "        physical_devices[0],\n",
    "        [tf.config.LogicalDeviceConfiguration(memory_limit=5000),\n",
    "          tf.config.LogicalDeviceConfiguration(memory_limit=5000)])\n",
    "\n",
    "    logical_devices = tf.config.list_logical_devices('GPU')\n",
    "    assert len(logical_devices) == len(physical_devices) + 1\n",
    "\n",
    "    tf.config.set_logical_device_configuration(\n",
    "        physical_devices[0],\n",
    "        [tf.config.LogicalDeviceConfiguration(memory_limit=5000),\n",
    "          tf.config.LogicalDeviceConfiguration(memory_limit=5000)])\n",
    "except:\n",
    "    # Invalid device or cannot modify logical devices once initialized.\n",
    "    pass\"\"\""
   ]
  },
  {
   "cell_type": "code",
   "execution_count": 8,
   "metadata": {
    "colab": {
     "base_uri": "https://localhost:8080/",
     "height": 382
    },
    "colab_type": "code",
    "executionInfo": {
     "elapsed": 68656,
     "status": "ok",
     "timestamp": 1583669328483,
     "user": {
      "displayName": "Gergő Endrész",
      "photoUrl": "https://lh3.googleusercontent.com/a-/AOh14Gi-PB7WDYNTcVZ9nR682HqtLOryUrTl135vcvukuw=s64",
      "userId": "12307487896953279443"
     },
     "user_tz": 0
    },
    "id": "a6JDSohTm0XE",
    "outputId": "0b98e72f-22c1-4cdf-82c0-04b83b574324"
   },
   "outputs": [
    {
     "data": {
      "text/html": [
       "<p style=\"color: red;\">\n",
       "The default version of TensorFlow in Colab will soon switch to TensorFlow 2.x.<br>\n",
       "We recommend you <a href=\"https://www.tensorflow.org/guide/migrate\" target=\"_blank\">upgrade</a> now \n",
       "or ensure your notebook will continue to use TensorFlow 1.x via the <code>%tensorflow_version 1.x</code> magic:\n",
       "<a href=\"https://colab.research.google.com/notebooks/tensorflow_version.ipynb\" target=\"_blank\">more info</a>.</p>\n"
      ],
      "text/plain": [
       "<IPython.core.display.HTML object>"
      ]
     },
     "metadata": {
      "tags": []
     },
     "output_type": "display_data"
    },
    {
     "name": "stdout",
     "output_type": "stream",
     "text": [
      "WARNING:tensorflow:From /usr/local/lib/python3.6/dist-packages/tensorflow_core/python/ops/resource_variable_ops.py:1630: calling BaseResourceVariable.__init__ (from tensorflow.python.ops.resource_variable_ops) with constraint is deprecated and will be removed in a future version.\n",
      "Instructions for updating:\n",
      "If using Keras pass *_constraint arguments to layers.\n",
      "Downloading data from https://github.com/fchollet/deep-learning-models/releases/download/v0.1/vgg16_weights_tf_dim_ordering_tf_kernels.h5\n",
      "553467904/553467096 [==============================] - 6s 0us/step\n",
      "Model: \"model\"\n",
      "_________________________________________________________________\n",
      "Layer (type)                 Output Shape              Param #   \n",
      "=================================================================\n",
      "input_2 (InputLayer)         [(None, 240, 1024, 3)]    0         \n",
      "_________________________________________________________________\n",
      "block1_conv1 (Conv2D)        multiple                  1792      \n",
      "=================================================================\n",
      "Total params: 1,792\n",
      "Trainable params: 1,792\n",
      "Non-trainable params: 0\n",
      "_________________________________________________________________\n"
     ]
    }
   ],
   "source": [
    "##################################################################################\n",
    "# Currently supported models: see tf_utils.py in components/utils ################\n",
    "##################################################################################\n",
    "\n",
    "from components.utils import tf_utils as tfu\n",
    "\n",
    "##################################################################################\n",
    "# Specifying IMG Dimensions for the model#########################################\n",
    "##################################################################################\n",
    "\n",
    "WIDTH = 1024\n",
    "HEIGHT = 240\n",
    "IMG_DIM_FOR_MODEL = [HEIGHT,WIDTH, 3]\n",
    "\n",
    "\n",
    "##################################################################################\n",
    "# Getting the \"first-layer\" model ################################################\n",
    "##################################################################################\n",
    "\n",
    "MODEL = tfu.get_vgg16_first_layer_model(IMG_DIM_FOR_MODEL)\n",
    "MODEL.summary()\n",
    "\n",
    "##################################################################################\n",
    "# Uncomment the line below to check model configuration ##########################\n",
    "##################################################################################\n",
    "\n",
    "#model.get_config()"
   ]
  },
  {
   "cell_type": "code",
   "execution_count": 9,
   "metadata": {
    "colab": {
     "base_uri": "https://localhost:8080/",
     "height": 422
    },
    "colab_type": "code",
    "executionInfo": {
     "elapsed": 173258,
     "status": "ok",
     "timestamp": 1583669433096,
     "user": {
      "displayName": "Gergő Endrész",
      "photoUrl": "https://lh3.googleusercontent.com/a-/AOh14Gi-PB7WDYNTcVZ9nR682HqtLOryUrTl135vcvukuw=s64",
      "userId": "12307487896953279443"
     },
     "user_tz": 0
    },
    "id": "TJG2NU_Or0__",
    "outputId": "63ba80c4-ac39-466f-b30f-a19705751e27"
   },
   "outputs": [
    {
     "name": "stdout",
     "output_type": "stream",
     "text": [
      "Writing file ./optimization/pickled_slice_predictions/vgg16/shaman_2_im-0-lr_w-1024_h-240_sr-0\n",
      "Writing file ./optimization/pickled_slice_predictions/vgg16/cave_4_im-0-lr_w-1024_h-240_sr-0\n",
      "Writing file ./optimization/pickled_slice_predictions/vgg16/shaman_3_im-0-lr_w-1024_h-240_sr-0\n",
      "Writing file ./optimization/pickled_slice_predictions/vgg16/sleeping_1_im-0-lr_w-1024_h-240_sr-0\n",
      "Writing file ./optimization/pickled_slice_predictions/vgg16/market_2_im-0-lr_w-1024_h-240_sr-0\n",
      "Writing file ./optimization/pickled_slice_predictions/vgg16/alley_1_im-0-lr_w-1024_h-240_sr-0\n",
      "Writing file ./optimization/pickled_slice_predictions/vgg16/sleeping_2_im-0-lr_w-1024_h-240_sr-0\n",
      "Writing file ./optimization/pickled_slice_predictions/vgg16/alley_2_im-0-lr_w-1024_h-240_sr-0\n",
      "Writing file ./optimization/pickled_slice_predictions/vgg16/ambush_2_im-0-lr_w-1024_h-240_sr-0\n",
      "Writing file ./optimization/pickled_slice_predictions/vgg16/ambush_4_im-0-lr_w-1024_h-240_sr-0\n",
      "Writing file ./optimization/pickled_slice_predictions/vgg16/ambush_5_im-0-lr_w-1024_h-240_sr-0\n",
      "Writing file ./optimization/pickled_slice_predictions/vgg16/ambush_6_im-0-lr_w-1024_h-240_sr-0\n",
      "Writing file ./optimization/pickled_slice_predictions/vgg16/ambush_7_im-0-lr_w-1024_h-240_sr-0\n",
      "Writing file ./optimization/pickled_slice_predictions/vgg16/bamboo_1_im-0-lr_w-1024_h-240_sr-0\n",
      "Writing file ./optimization/pickled_slice_predictions/vgg16/temple_2_im-0-lr_w-1024_h-240_sr-0\n",
      "Writing file ./optimization/pickled_slice_predictions/vgg16/bamboo_2_im-0-lr_w-1024_h-240_sr-0\n",
      "Writing file ./optimization/pickled_slice_predictions/vgg16/bandage_1_im-0-lr_w-1024_h-240_sr-0\n",
      "Writing file ./optimization/pickled_slice_predictions/vgg16/bandage_2_im-0-lr_w-1024_h-240_sr-0\n",
      "Writing file ./optimization/pickled_slice_predictions/vgg16/cave_2_im-0-lr_w-1024_h-240_sr-0\n",
      "Writing file ./optimization/pickled_slice_predictions/vgg16/market_5_im-0-lr_w-1024_h-240_sr-0\n",
      "Writing file ./optimization/pickled_slice_predictions/vgg16/temple_3_im-0-lr_w-1024_h-240_sr-0\n",
      "Writing file ./optimization/pickled_slice_predictions/vgg16/market_6_im-0-lr_w-1024_h-240_sr-0\n",
      "Writing file ./optimization/pickled_slice_predictions/vgg16/mountain_1_im-0-lr_w-1024_h-240_sr-0\n"
     ]
    }
   ],
   "source": [
    "##################################################################################\n",
    "# PRE-PROCESSING IMAGES: first image in each scene ###############################\n",
    "## CAVEAT :FAST-EXECUTION BUT LOADS OF STORAGE SPACE: RUN IT EVERY TIME ... ######\n",
    "## ... if new execution environment: exclude them from GIT push    ###############\n",
    "##################################################################################\n",
    "\n",
    "PREPROCESS_IMGS_DIRECTORY = \"./optimization/pickled_slice_predictions/vgg16/\"\n",
    "\n",
    "IMG_READER.convolve_slices_and_save(MODEL,  slice_height = HEIGHT, slice_width = WIDTH, output_directory=PREPROCESS_IMGS_DIRECTORY)\n"
   ]
  },
  {
   "cell_type": "code",
   "execution_count": 10,
   "metadata": {
    "colab": {
     "base_uri": "https://localhost:8080/",
     "height": 195
    },
    "colab_type": "code",
    "executionInfo": {
     "elapsed": 173810,
     "status": "ok",
     "timestamp": 1583669433661,
     "user": {
      "displayName": "Gergő Endrész",
      "photoUrl": "https://lh3.googleusercontent.com/a-/AOh14Gi-PB7WDYNTcVZ9nR682HqtLOryUrTl135vcvukuw=s64",
      "userId": "12307487896953279443"
     },
     "user_tz": 0
    },
    "id": "KZEb6Nk_iqHR",
    "outputId": "39b6527c-b103-436c-aec2-d2e3a80952db"
   },
   "outputs": [
    {
     "name": "stdout",
     "output_type": "stream",
     "text": [
      "Found images: 23\n",
      "Each image's shape: (2, 240, 1024, 64)\n"
     ]
    },
    {
     "data": {
      "text/plain": [
       "<matplotlib.image.AxesImage at 0x7fcde77f7ef0>"
      ]
     },
     "execution_count": 10,
     "metadata": {
      "tags": []
     },
     "output_type": "execute_result"
    },
    {
     "data": {
      "image/png": "[encoded data removed]",
      "text/plain": [
       "<Figure size 432x288 with 1 Axes>"
      ]
     },
     "metadata": {
      "tags": []
     },
     "output_type": "display_data"
    }
   ],
   "source": [
    "##################################################################################\n",
    "# LOADING the preprocess images: one for each scene ##############################\n",
    "##################################################################################\n",
    "\n",
    "PREPROCESSED_PICKLES = IMG_READER.list_pickled_convolved(PREPROCESS_IMGS_DIRECTORY, WIDTH, HEIGHT)\n",
    "\n",
    "PREPROCESSED_PICKLES = sorted(PREPROCESSED_PICKLES)\n",
    "\n",
    "##################################################################################\n",
    "# TESTING LOADED IMAGES VISUALLY #################################################\n",
    "##################################################################################\n",
    "\n",
    "one_pickle = IMG_READER.load_pickled_convolved(PREPROCESSED_PICKLES[0])\n",
    "selected_filter_index = 0\n",
    "\n",
    "print(\"Found images: {0}\".format(len(PREPROCESSED_PICKLES)))\n",
    "print(\"Each image's shape: {0}\".format(one_pickle.shape))\n",
    "\n",
    "fig = plt.figure()\n",
    "ax = fig.gca()\n",
    "\n",
    "ax.set_title(\"Example loaded convolved slice (filter {0})\".format(selected_filter_index))\n",
    "plt.imshow(one_pickle[0, :, :, selected_filter_index])\n"
   ]
  },
  {
   "cell_type": "markdown",
   "metadata": {
    "colab_type": "text",
    "id": "WR7FJATysh8C"
   },
   "source": [
    "##Initialising loop parameters"
   ]
  },
  {
   "cell_type": "code",
   "execution_count": 0,
   "metadata": {
    "colab": {},
    "colab_type": "code",
    "id": "LZktHEm3EzwM"
   },
   "outputs": [],
   "source": [
    "##################################################################################\n",
    "# Uncomment to see available scnenes #############################################\n",
    "##################################################################################\n",
    "\n",
    "#SCENES = reader.get_available_scenes()\n",
    "#SCENES = sorted(SCENES)\n",
    "#print(SCENES)\n",
    "\n",
    "##################################################################################\n",
    "# LOADING Grountruth images: only 23, can be loaded into memory###################\n",
    "##################################################################################\n",
    "\n",
    "STARTING_ROW_FOR_SLICES = 0\n",
    "ALL_DISPARITIES = IMG_READER.get_all_sliced_disparities(HEIGHT, WIDTH, STARTING_ROW_FOR_SLICES = STARTING_ROW_FOR_SLICES)\n"
   ]
  },
  {
   "cell_type": "code",
   "execution_count": 0,
   "metadata": {
    "colab": {},
    "colab_type": "code",
    "id": "iko3ii_jiqHX"
   },
   "outputs": [],
   "source": [
    "##################################################################################\n",
    "# GETTING N BEST PARAMETERS FROM THE SELECTED FILE ###############################\n",
    "##################################################################################\n",
    "\n",
    "SELECTED_CSV_FILE_PATH = \"./optimization/final/numba_legacy/legacy_mixed_lines.csv\"\n",
    "CSV_READER = CSVReader(SELECTED_CSV_FILE_PATH)\n",
    "CSV_FILE_DESCRIPTION = CSV_READER.get_description()\n",
    "\n",
    "#print(CSV_FILE_DESCRIPTION)"
   ]
  },
  {
   "cell_type": "code",
   "execution_count": 13,
   "metadata": {
    "colab": {
     "base_uri": "https://localhost:8080/",
     "height": 34
    },
    "colab_type": "code",
    "executionInfo": {
     "elapsed": 179796,
     "status": "ok",
     "timestamp": 1583669439682,
     "user": {
      "displayName": "Gergő Endrész",
      "photoUrl": "https://lh3.googleusercontent.com/a-/AOh14Gi-PB7WDYNTcVZ9nR682HqtLOryUrTl135vcvukuw=s64",
      "userId": "12307487896953279443"
     },
     "user_tz": 0
    },
    "id": "PDkmwWt3iqHa",
    "outputId": "1b250707-5d8d-4dd8-8173-c12e11e89c29"
   },
   "outputs": [
    {
     "name": "stdout",
     "output_type": "stream",
     "text": [
      "10\n"
     ]
    }
   ],
   "source": [
    "top_n_config = []\n",
    "\n",
    "n = 3\n",
    "\n",
    "selected_metric = \"ABS_ERR\"\n",
    "\n",
    "res = CSV_READER.get_best_n_params(n, selected_metric)\n",
    "top_n_config.append(res)\n",
    "\n",
    "selected_metric = \"mse\"\n",
    "\n",
    "res = CSV_READER.get_best_n_params(n, selected_metric)\n",
    "top_n_config.append(res)\n",
    "\n",
    "selected_metric = \"euclid_distance\"\n",
    "\n",
    "res = CSV_READER.get_best_n_params(n, selected_metric)\n",
    "top_n_config.append(res)\n",
    "\n",
    "top_n_config.append([60, -20, -1, 0])\n",
    "LOADED_BEST_PARAMS = np.vstack(top_n_config)\n",
    "print(LOADED_BEST_PARAMS.shape[0])\n",
    "#print(\"Please enter the estimated runtime per images in seconds below:\")\n",
    "\n",
    "runtime_multiplyer = (6)\n",
    "#runtime_multiplyer = input()"
   ]
  },
  {
   "cell_type": "code",
   "execution_count": 14,
   "metadata": {
    "colab": {
     "base_uri": "https://localhost:8080/",
     "height": 87
    },
    "colab_type": "code",
    "executionInfo": {
     "elapsed": 179782,
     "status": "ok",
     "timestamp": 1583669439683,
     "user": {
      "displayName": "Gergő Endrész",
      "photoUrl": "https://lh3.googleusercontent.com/a-/AOh14Gi-PB7WDYNTcVZ9nR682HqtLOryUrTl135vcvukuw=s64",
      "userId": "12307487896953279443"
     },
     "user_tz": 0
    },
    "id": "j7Y6UwCsiqHc",
    "outputId": "3ce27fac-e224-4f0d-e3b3-dd71ce8f4413"
   },
   "outputs": [
    {
     "name": "stdout",
     "output_type": "stream",
     "text": [
      "Filters tried/per iteration: 64/64\n",
      "The number of iterations based on the params: 7360\n",
      "The amount of time (s) needed to perform the parameter search: 44160.0\n",
      "The amount of time (h) needed to perform the parameter search: 12.266666666666667\n"
     ]
    }
   ],
   "source": [
    "NUMBER_OF_ITERATIONS = len(LOADED_BEST_PARAMS)  * NUM_SCENES *64/SCENE_STEP\n",
    "est_runtime = int(NUMBER_OF_ITERATIONS) * float(runtime_multiplyer)\n",
    "print(\"Filters tried/per iteration: {0}/64\".format(NUM_PROC))\n",
    "print(\"The number of iterations based on the params: {0}\".format(round(NUMBER_OF_ITERATIONS)))\n",
    "print(\"The amount of time (s) needed to perform the parameter search: {0}\".format(est_runtime))\n",
    "print(\"The amount of time (h) needed to perform the parameter search: {0}\".format(est_runtime/3600))"
   ]
  },
  {
   "cell_type": "code",
   "execution_count": 15,
   "metadata": {
    "colab": {
     "base_uri": "https://localhost:8080/",
     "height": 34
    },
    "colab_type": "code",
    "executionInfo": {
     "elapsed": 183031,
     "status": "ok",
     "timestamp": 1583669442941,
     "user": {
      "displayName": "Gergő Endrész",
      "photoUrl": "https://lh3.googleusercontent.com/a-/AOh14Gi-PB7WDYNTcVZ9nR682HqtLOryUrTl135vcvukuw=s64",
      "userId": "12307487896953279443"
     },
     "user_tz": 0
    },
    "id": "eD0vZN_fm0Xq",
    "outputId": "d2eac298-e3f3-4dc4-8689-e68acca02fca"
   },
   "outputs": [
    {
     "name": "stdout",
     "output_type": "stream",
     "text": [
      "Queue has been filled up.\n"
     ]
    }
   ],
   "source": [
    "from components.classes import SintelThreadProvider as STP\n",
    "import importlib\n",
    "importlib.reload(STP)\n",
    "q = STP.Queue(5)\n",
    "pickled_file_list = [] #todo here\n",
    "dataLoaderThread = STP.SintelThreadProvider(name=\"data_provider_1\", queue=q, fileList = PREPROCESSED_PICKLES, scene_step=SCENE_STEP)\n",
    "dataLoaderThread.start()\n",
    "\n",
    "while(not dataLoaderThread.isReady()):\n",
    "    time.sleep(1)\n",
    "print(\"Queue has been filled up.\")\n",
    "gts = [SintelReader.add_masks_to_raw_disparity(ALL_DISPARITIES[i, 0], ALL_DISPARITIES[i, 1], ALL_DISPARITIES[i, 2]) for i in (range(ALL_DISPARITIES.shape[0]))]\n",
    "\n"
   ]
  },
  {
   "cell_type": "code",
   "execution_count": 0,
   "metadata": {
    "colab": {},
    "colab_type": "code",
    "id": "8q6V8kfZm0Xu"
   },
   "outputs": [],
   "source": [
    "NEXT_IMAGE = q.pop()\n",
    "OUTER_LOOP_COUNTER = 0\n",
    "INTERNAL_LOOP_COUNTER = 0\n",
    "\n",
    "import logging\n",
    "logging.basicConfig(level=logging.WARNING,\n",
    "                    format='(%(threadName)-9s) %(message)s', )"
   ]
  },
  {
   "cell_type": "code",
   "execution_count": 0,
   "metadata": {
    "colab": {},
    "colab_type": "code",
    "id": "jR_IYvF_m0Xx"
   },
   "outputs": [],
   "source": [
    "def matcher_queue(filter_index):\n",
    "    global PROGRESS_VIEWER\n",
    "    global NUMBER_OF_ITERATIONS\n",
    "    global CSV_WRITER\n",
    "    global SPEC_DICT\n",
    "    global NEXT_IMAGE\n",
    "    global CURRENT_GROUNDTRUTH\n",
    "    global semaphore\n",
    "    SPEC_DICT =SPEC_DICT.copy()\n",
    " \n",
    "    leftee = NEXT_IMAGE[filter_index, 0]\n",
    "    rightee = NEXT_IMAGE[filter_index, 1]\n",
    "\n",
    "    SPEC_DICT[\"convolution_filters\"] = str(filter_index)\n",
    "\n",
    "    matcher = Matcher(SPEC_DICT[\"match\"], SPEC_DICT[\"gap\"], SPEC_DICT[\"egap\"])\n",
    "    matcher.configure_instance()\n",
    "    matcher.set_images(rightee, leftee)\n",
    "    tic=time.time()\n",
    "\n",
    "    x,raw_disp_map = matcher.run_pipeline()\n",
    "\n",
    "    toc = time.time()\n",
    "\n",
    "    SPEC_DICT[\"runtime\"] = toc-tic\n",
    "\n",
    "    SPEC_DICT[\"mse\"] = Metrix.mse(raw_disp_map, CURRENT_GROUNDTRUTH)\n",
    "\n",
    "    SPEC_DICT[\"euclid_distance\"] =Metrix.eucledian_distance(raw_disp_map, CURRENT_GROUNDTRUTH)\n",
    "\n",
    "    SPEC_DICT[\"ABS_ERR\"] = Metrix.avgerr(raw_disp_map, CURRENT_GROUNDTRUTH, print=False)\n",
    "    semaphore.acquire()\n",
    "    CSV_WRITER.append_new_sm_results(SPEC_DICT)\n",
    "    semaphore.release()"
   ]
  },
  {
   "cell_type": "code",
   "execution_count": 0,
   "metadata": {
    "colab": {},
    "colab_type": "code",
    "id": "Y0KsjcWtm0X2"
   },
   "outputs": [],
   "source": [
    "def init(l):\n",
    "    global lock\n",
    "    lock = l"
   ]
  },
  {
   "cell_type": "code",
   "execution_count": 0,
   "metadata": {
    "colab": {},
    "colab_type": "code",
    "id": "zE9mAeIpm0X6"
   },
   "outputs": [],
   "source": [
    "import multiprocessing.pool\n",
    "\n",
    "semaphore =  multiprocessing.Lock()\n",
    "\n",
    "while(NEXT_IMAGE is not None):\n",
    "    \n",
    "    CURRENT_GROUNDTRUTH = gts[OUTER_LOOP_COUNTER]\n",
    "    \n",
    "    SPEC_DICT[\"img_name\"] = SPEC_DICT[\"img_name_pretag\"]+str(OUTER_LOOP_COUNTER*2)\n",
    "\n",
    "    OUTER_LOOP_COUNTER+=1\n",
    "    \n",
    "    for best_params in LOADED_BEST_PARAMS:\n",
    "        match = SPEC_DICT[\"match\"] = best_params[0]\n",
    "        gap = SPEC_DICT[\"gap\"] = best_params[1]\n",
    "        egap = SPEC_DICT[\"egap\"] = best_params[2]\n",
    "\n",
    "        filter_range = [i for i in range(64)]\n",
    "        with multiprocessing.Pool(NUM_PROC) as pool:\n",
    "            r = pool.map(matcher_queue, filter_range)\n",
    "        pool.terminate()\n",
    "        pool.join()\n",
    "        INTERNAL_LOOP_COUNTER+=64\n",
    "        PROGRESS_VIEWER.progress_bar(INTERNAL_LOOP_COUNTER, NUMBER_OF_ITERATIONS, header= \"Parameter search progress: \", progress_bar_steps=100)   \n",
    "\n",
    "            #pool.join()\n",
    "    NEXT_IMAGE = q.pop()\n",
    "    \n",
    "end_time = time.time()\n",
    "print(\"The optimisation process taken {0} seconds or {1} hours\".format((end_time-start_time), (end_time-start_time)/3600))"
   ]
  },
  {
   "cell_type": "markdown",
   "metadata": {
    "colab_type": "text",
    "id": "meLaJgZnFG87"
   },
   "source": [
    "##Running the optimisation"
   ]
  },
  {
   "cell_type": "code",
   "execution_count": 0,
   "metadata": {
    "colab": {},
    "colab_type": "code",
    "id": "TXeTjOSwiqHj"
   },
   "outputs": [],
   "source": []
  },
  {
   "cell_type": "code",
   "execution_count": 0,
   "metadata": {
    "colab": {},
    "colab_type": "code",
    "id": "gTN5izvC5eie"
   },
   "outputs": [],
   "source": []
  }
 ],
 "metadata": {
  "colab": {
   "collapsed_sections": [],
   "machine_shape": "hm",
   "name": "SM-NUMBA-SINTEL_VGG16-CONV_preprocessed_mixed-lines_paralell_loops_tested.ipynb",
   "provenance": [
    {
     "file_id": "1e4cy-AkPPx7H6V4ev0B4qnlC7o1AUt-n",
     "timestamp": 1582513496982
    },
    {
     "file_id": "1B1JmtpKuKMm9SMYFkBsoniD8ENyk4Ply",
     "timestamp": 1582506213324
    },
    {
     "file_id": "1mAgX-o2zMv1RVzKeGm-vZgYr5odY2DOt",
     "timestamp": 1582342403791
    },
    {
     "file_id": "1R0MNssudaZe2ssz3Pw0vH9LpB3jP-6MR",
     "timestamp": 1582315751025
    }
   ],
   "toc_visible": true
  },
  "kernelspec": {
   "display_name": "Python 3",
   "language": "python",
   "name": "python3"
  },
  "language_info": {
   "codemirror_mode": {
    "name": "ipython",
    "version": 3
   },
   "file_extension": ".py",
   "mimetype": "text/x-python",
   "name": "python",
   "nbconvert_exporter": "python",
   "pygments_lexer": "ipython3",
   "version": "3.7.6"
  }
 },
 "nbformat": 4,
 "nbformat_minor": 1
}
