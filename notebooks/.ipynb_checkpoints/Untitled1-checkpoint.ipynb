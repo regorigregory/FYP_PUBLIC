{
 "cells": [
  {
   "cell_type": "code",
   "execution_count": 1,
   "metadata": {},
   "outputs": [],
   "source": [
    "import sys\n",
    "from IPython.display import display\n",
    "from ipywidgets import interactive, interact, Image, Layout, HBox, VBox\n",
    "sys.path.append(\"../../\")\n",
    "\n",
    "import plotly.graph_objs as go\n",
    "\n",
    "from components.utils.plotly_handlers import HandleIn2DWithDropdowns\n"
   ]
  },
  {
   "cell_type": "code",
   "execution_count": 2,
   "metadata": {},
   "outputs": [
    {
     "data": {
      "application/vnd.jupyter.widget-view+json": {
       "model_id": "7370cd7f5b49439393510750e34271b5",
       "version_major": 2,
       "version_minor": 0
      },
      "text/plain": [
       "VBox(children=(FigureWidget({\n",
       "    'data': [{'customdata': array([['cones', False, 'None', '9x3', 'None', 20],\n",
       "…"
      ]
     },
     "metadata": {},
     "output_type": "display_data"
    }
   ],
   "source": [
    "selected_file = \"..\\\\..\\\\experiments\\\\logs\\\\ALG_005_EXP_001-PatchMatch-MacLean_et_al-Numba.csv\"\n",
    "\n",
    "x = HandleIn2DWithDropdowns(selected_file)\n",
    "figw = x.get_figure_widget()\n",
    "\n",
    "options = x._get_interactive_dictionary()\n",
    "control_fn = x.get_interactive_function(figw)\n",
    "controls = interactive(control_fn, **options)\n",
    "\n",
    "x.get_whole_widget(figw, controls)\n"
   ]
  },
  {
   "cell_type": "code",
   "execution_count": 3,
   "metadata": {},
   "outputs": [
    {
     "name": "stderr",
     "output_type": "stream",
     "text": [
      "ERROR:root:No traceback has been produced, nothing to debug.\n"
     ]
    }
   ],
   "source": [
    "%debug"
   ]
  },
  {
   "cell_type": "code",
   "execution_count": null,
   "metadata": {},
   "outputs": [],
   "source": []
  }
 ],
 "metadata": {
  "kernelspec": {
   "display_name": "Python 3",
   "language": "python",
   "name": "python3"
  },
  "language_info": {
   "codemirror_mode": {
    "name": "ipython",
    "version": 3
   },
   "file_extension": ".py",
   "mimetype": "text/x-python",
   "name": "python",
   "nbconvert_exporter": "python",
   "pygments_lexer": "ipython3",
   "version": "3.8.2"
  }
 },
 "nbformat": 4,
 "nbformat_minor": 4
}
