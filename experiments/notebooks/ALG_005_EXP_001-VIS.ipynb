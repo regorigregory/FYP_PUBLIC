{
 "cells": [
  {
   "cell_type": "markdown",
   "metadata": {},
   "source": [
    "<h1>ALG_005_EXP_001-PatchMatch-MacLean_et_al-Numba Visualisation</h1>\n",
    "<p> For the experiment please visit <a href=\"ALG_005_EXP_001-PatchMatch-MacLean_et_al-Numba.ipynb\">ALG_005_EXP_001-PatchMatch-MacLean_et_al-Numba.</a></p>"
   ]
  },
  {
   "cell_type": "markdown",
   "metadata": {},
   "source": [
    "#### Importing used or \"useful\" libraries"
   ]
  },
  {
   "cell_type": "code",
   "execution_count": 8,
   "metadata": {},
   "outputs": [],
   "source": [
    "import pandas as pd\n",
    "import ipywidgets as widgets\n",
    "import numpy as np\n",
    "import sys\n",
    "import os\n",
    "\n",
    "sys.path.append(os.path.join(\"..\", \"..\"))\n",
    "import glob\n",
    "import cv2\n",
    "\n",
    "import plotly.graph_objs as go\n",
    "import plotly.express as px\n",
    "\n",
    "from ipywidgets import HBox, VBox, Button, Image, Layout\n",
    "\n",
    "from components.utils import plotly_helpers as ph"
   ]
  },
  {
   "cell_type": "markdown",
   "metadata": {},
   "source": [
    "#### Building ui elements for ease of use"
   ]
  },
  {
   "cell_type": "code",
   "execution_count": 3,
   "metadata": {},
   "outputs": [
    {
     "data": {
      "application/vnd.jupyter.widget-view+json": {
       "model_id": "7e075e75c73941efa9832ba751664b4c",
       "version_major": 2,
       "version_minor": 0
      },
      "text/plain": [
       "VBox(children=(Dropdown(description='Metrics:', index=6, options=(('abs_error', 'abs_error'), ('mse', 'mse'), …"
      ]
     },
     "metadata": {},
     "output_type": "display_data"
    }
   ],
   "source": [
    "available_metrix = ['abs_error',\n",
    "       'mse', 'avg', 'eucledian', 'bad1', 'bad2', 'bad4', 'bad8']\n",
    "\n",
    "metrics_selector = widgets.Dropdown(\n",
    "    options=[(m,m) for m in available_metrix],\n",
    "    description='Metrics:',\n",
    "    value=\"bad4\"\n",
    ")\n",
    "\n",
    "\n",
    "nonoccluded = widgets.Dropdown(\n",
    "    options=[(\"yes\", False), (\"No\", True)],\n",
    "    description='Nonoccluded:'\n",
    ")\n",
    "\n",
    "VBox([metrics_selector, nonoccluded])"
   ]
  },
  {
   "cell_type": "markdown",
   "metadata": {},
   "source": [
    "#### Loading the dataframe based on the selected options\n",
    "If options changed, please rerun the cells starting from this point."
   ]
  },
  {
   "cell_type": "code",
   "execution_count": 4,
   "metadata": {},
   "outputs": [],
   "source": [
    "path_to_dataframe = os.path.join(\"..\", \"logs\", \"ALG_005_EXP_001-PatchMatch-MacLean_et_al-Numba.csv\")\n",
    "df = selected_scene_df = ph.load_n_clean(path_to_dataframe, gts=True,  v_2003=True, kernel_sizes=True)\n",
    "\n",
    "##Filtering to selected occlusion parameter\n",
    "\n",
    "df = df[df[\"are_occlusions_errors\"]==nonoccluded.value]\n",
    "\n",
    "number_of_samples = df.shape[0]"
   ]
  },
  {
   "cell_type": "markdown",
   "metadata": {},
   "source": [
    "#### Constructing the dashboards for the two scenes: teddy and cones"
   ]
  },
  {
   "cell_type": "code",
   "execution_count": 5,
   "metadata": {},
   "outputs": [],
   "source": [
    "### Dashboard 1 - Cones\n",
    "\n",
    "img_widget_cones = Image(value=df[\"loaded_imgs\"].iloc[0], \n",
    "                   layout=Layout(height='375px', width='450px'))\n",
    "\n",
    "df_temp_1 = df[df[\"scene\"]==\"cones\"]\n",
    "\n",
    "traced_fig_1, dfs_1 = ph.get_figure_widget_traced(df_temp_1, \"kernel_size\", metrics_selector.value, \"match\")\n",
    "\n",
    "traced_fig_widget_1 = go.FigureWidget(traced_fig_1)\n",
    "\n",
    "\n",
    "traced_fig_1_imw_1 = Image(value=df[\"loaded_imgs\"].iloc[0], \n",
    "                   layout=Layout(height='375px', width='450px'))\n",
    "traced_fig_1_imw_2 = Image(value=df[\"loaded_gts\"].iloc[0], \n",
    "                   layout=Layout(height='375px', width='450px'))\n",
    "\n",
    "#figs, img_widget, selected_scene_df\n",
    "ph.bind_hover_function2([traced_fig_widget_1], traced_fig_1_imw_1, dfs_1, img_widget_groundtruth=traced_fig_1_imw_2)\n",
    "\n",
    "\n",
    "turn_the_lights_on = ph.get_dropdown_widget([\"On\", \"Off\"], label=\"Turn plots:\", values = [True, False])\n",
    "\n",
    "ph.bind_dropdown_switch_traces_fn(turn_the_lights_on, traced_fig_widget_1)\n",
    "\n",
    "dashboard1 = VBox([turn_the_lights_on, traced_fig_widget_1, HBox([traced_fig_1_imw_1,traced_fig_1_imw_2])])\n",
    "\n",
    "\n",
    "\n",
    "### Dashboard 2 - Teddy\n",
    "\n",
    "img_widget_teddy = Image(value=df[\"loaded_imgs\"].iloc[0], \n",
    "                   layout=Layout(height='375px', width='450px'))\n",
    "\n",
    "df_temp_2 = df[df[\"scene\"]==\"teddy\"]\n",
    "\n",
    "traced_fig_2, dfs_2 = ph.get_figure_widget_traced(df_temp_2, \"kernel_size\", metrics_selector.value, \"match\")\n",
    "\n",
    "traced_fig_widget_2 = go.FigureWidget(traced_fig_2)\n",
    "\n",
    "\n",
    "\n",
    "traced_fig_2_imw_1 = Image(value=df[\"loaded_imgs\"].iloc[0], \n",
    "                   layout=Layout(height='375px', width='450px'))\n",
    "traced_fig_2_imw_2 = Image(value=df[\"loaded_gts\"].iloc[0], \n",
    "                   layout=Layout(height='375px', width='450px'))\n",
    "\n",
    "#figs, img_widget, selected_scene_df\n",
    "ph.bind_hover_function2([traced_fig_widget_2], traced_fig_2_imw_1, dfs_2, img_widget_groundtruth=traced_fig_2_imw_2)\n",
    "\n",
    "\n",
    "turn_the_lights_on = ph.get_dropdown_widget([\"On\", \"Off\"], label=\"Turn plots:\", values = [True, False])\n",
    "\n",
    "ph.bind_dropdown_switch_traces_fn(turn_the_lights_on, traced_fig_widget_2)\n",
    "\n",
    "dashboard2 = VBox([turn_the_lights_on, traced_fig_widget_2, HBox([traced_fig_2_imw_1,traced_fig_2_imw_2])])"
   ]
  },
  {
   "cell_type": "markdown",
   "metadata": {},
   "source": [
    "#### Scene \"Cones\" analysis\n",
    "Main plot: support window size w.r.t selected metric. Colour: Match value. <br>\n",
    "The plots can be turned on and off individually by clicking on their legends or all together by the \"Turn plots\" selector"
   ]
  },
  {
   "cell_type": "code",
   "execution_count": 10,
   "metadata": {},
   "outputs": [
    {
     "data": {
      "application/vnd.jupyter.widget-view+json": {
       "model_id": "f323a74ec36b4b33a8724be30a292c46",
       "version_major": 2,
       "version_minor": 0
      },
      "text/plain": [
       "VBox(children=(Dropdown(description='Turn plots:', index=1, options=(('On', True), ('Off', False)), value=Fals…"
      ]
     },
     "metadata": {},
     "output_type": "display_data"
    }
   ],
   "source": [
    "dashboard1"
   ]
  },
  {
   "cell_type": "markdown",
   "metadata": {},
   "source": [
    "#### Scene \"Teddy\" analysis\n",
    "Main plot: support window size w.r.t selected metric. Colour: Match value. <br>\n",
    "The plots can be turned on and off individually by clicking on their legends or all together by the \"Turn plots\" selector"
   ]
  },
  {
   "cell_type": "code",
   "execution_count": 7,
   "metadata": {},
   "outputs": [
    {
     "data": {
      "application/vnd.jupyter.widget-view+json": {
       "model_id": "16769bbe158d41719ec9a2553f27106e",
       "version_major": 2,
       "version_minor": 0
      },
      "text/plain": [
       "VBox(children=(Dropdown(description='Turn plots:', options=(('On', True), ('Off', False)), value=True), Figure…"
      ]
     },
     "metadata": {},
     "output_type": "display_data"
    }
   ],
   "source": [
    "dashboard2"
   ]
  },
  {
   "cell_type": "markdown",
   "metadata": {},
   "source": [
    "#### \"Cones\" best results"
   ]
  },
  {
   "cell_type": "code",
   "execution_count": 20,
   "metadata": {
    "scrolled": true
   },
   "outputs": [
    {
     "name": "stderr",
     "output_type": "stream",
     "text": [
      "<ipython-input-20-35733564e03b>:1: SettingWithCopyWarning:\n",
      "\n",
      "\n",
      "A value is trying to be set on a copy of a slice from a DataFrame\n",
      "\n",
      "See the caveats in the documentation: https://pandas.pydata.org/pandas-docs/stable/user_guide/indexing.html#returning-a-view-versus-a-copy\n",
      "\n",
      "<ipython-input-20-35733564e03b>:2: SettingWithCopyWarning:\n",
      "\n",
      "\n",
      "A value is trying to be set on a copy of a slice from a DataFrame\n",
      "\n",
      "See the caveats in the documentation: https://pandas.pydata.org/pandas-docs/stable/user_guide/indexing.html#returning-a-view-versus-a-copy\n",
      "\n"
     ]
    },
    {
     "data": {
      "text/html": [
       "<div>\n",
       "<style scoped>\n",
       "    .dataframe tbody tr th:only-of-type {\n",
       "        vertical-align: middle;\n",
       "    }\n",
       "\n",
       "    .dataframe tbody tr th {\n",
       "        vertical-align: top;\n",
       "    }\n",
       "\n",
       "    .dataframe thead th {\n",
       "        text-align: right;\n",
       "    }\n",
       "</style>\n",
       "<table border=\"1\" class=\"dataframe\">\n",
       "  <thead>\n",
       "    <tr style=\"text-align: right;\">\n",
       "      <th></th>\n",
       "      <th>match</th>\n",
       "      <th>gap</th>\n",
       "      <th>egap</th>\n",
       "      <th>scene</th>\n",
       "      <th>kernel_size</th>\n",
       "      <th>bad4</th>\n",
       "    </tr>\n",
       "  </thead>\n",
       "  <tbody>\n",
       "    <tr>\n",
       "      <th>466</th>\n",
       "      <td>20</td>\n",
       "      <td>-20</td>\n",
       "      <td>-1</td>\n",
       "      <td>cones</td>\n",
       "      <td>9x3</td>\n",
       "      <td>0.099440</td>\n",
       "    </tr>\n",
       "    <tr>\n",
       "      <th>450</th>\n",
       "      <td>20</td>\n",
       "      <td>-20</td>\n",
       "      <td>-1</td>\n",
       "      <td>cones</td>\n",
       "      <td>7x3</td>\n",
       "      <td>0.100482</td>\n",
       "    </tr>\n",
       "    <tr>\n",
       "      <th>470</th>\n",
       "      <td>20</td>\n",
       "      <td>-20</td>\n",
       "      <td>-1</td>\n",
       "      <td>cones</td>\n",
       "      <td>11x3</td>\n",
       "      <td>0.100982</td>\n",
       "    </tr>\n",
       "    <tr>\n",
       "      <th>442</th>\n",
       "      <td>20</td>\n",
       "      <td>-20</td>\n",
       "      <td>-1</td>\n",
       "      <td>cones</td>\n",
       "      <td>5x3</td>\n",
       "      <td>0.102900</td>\n",
       "    </tr>\n",
       "    <tr>\n",
       "      <th>474</th>\n",
       "      <td>20</td>\n",
       "      <td>-20</td>\n",
       "      <td>-1</td>\n",
       "      <td>cones</td>\n",
       "      <td>13x3</td>\n",
       "      <td>0.104220</td>\n",
       "    </tr>\n",
       "    <tr>\n",
       "      <th>546</th>\n",
       "      <td>30</td>\n",
       "      <td>-20</td>\n",
       "      <td>-1</td>\n",
       "      <td>cones</td>\n",
       "      <td>9x3</td>\n",
       "      <td>0.106388</td>\n",
       "    </tr>\n",
       "    <tr>\n",
       "      <th>478</th>\n",
       "      <td>20</td>\n",
       "      <td>-20</td>\n",
       "      <td>-1</td>\n",
       "      <td>cones</td>\n",
       "      <td>15x3</td>\n",
       "      <td>0.107423</td>\n",
       "    </tr>\n",
       "    <tr>\n",
       "      <th>530</th>\n",
       "      <td>30</td>\n",
       "      <td>-20</td>\n",
       "      <td>-1</td>\n",
       "      <td>cones</td>\n",
       "      <td>7x3</td>\n",
       "      <td>0.108250</td>\n",
       "    </tr>\n",
       "    <tr>\n",
       "      <th>406</th>\n",
       "      <td>20</td>\n",
       "      <td>-20</td>\n",
       "      <td>-1</td>\n",
       "      <td>cones</td>\n",
       "      <td>3x3</td>\n",
       "      <td>0.108486</td>\n",
       "    </tr>\n",
       "    <tr>\n",
       "      <th>550</th>\n",
       "      <td>30</td>\n",
       "      <td>-20</td>\n",
       "      <td>-1</td>\n",
       "      <td>cones</td>\n",
       "      <td>11x3</td>\n",
       "      <td>0.108792</td>\n",
       "    </tr>\n",
       "  </tbody>\n",
       "</table>\n",
       "</div>"
      ],
      "text/plain": [
       "     match  gap  egap  scene kernel_size      bad4\n",
       "466     20  -20    -1  cones         9x3  0.099440\n",
       "450     20  -20    -1  cones         7x3  0.100482\n",
       "470     20  -20    -1  cones        11x3  0.100982\n",
       "442     20  -20    -1  cones         5x3  0.102900\n",
       "474     20  -20    -1  cones        13x3  0.104220\n",
       "546     30  -20    -1  cones         9x3  0.106388\n",
       "478     20  -20    -1  cones        15x3  0.107423\n",
       "530     30  -20    -1  cones         7x3  0.108250\n",
       "406     20  -20    -1  cones         3x3  0.108486\n",
       "550     30  -20    -1  cones        11x3  0.108792"
      ]
     },
     "execution_count": 20,
     "metadata": {},
     "output_type": "execute_result"
    }
   ],
   "source": [
    "df_temp_1.sort_values(by=metrics_selector.value, inplace=True)\n",
    "df_temp_2.sort_values(by=metrics_selector.value, inplace=True)\n",
    "df_temp_1[[\"match\", \"gap\", \"egap\", \"scene\", \"kernel_size\", metrics_selector.value]].head(10)"
   ]
  },
  {
   "cell_type": "markdown",
   "metadata": {},
   "source": [
    "#### \"Teddy\" best results"
   ]
  },
  {
   "cell_type": "code",
   "execution_count": 21,
   "metadata": {
    "scrolled": true
   },
   "outputs": [
    {
     "data": {
      "text/html": [
       "<div>\n",
       "<style scoped>\n",
       "    .dataframe tbody tr th:only-of-type {\n",
       "        vertical-align: middle;\n",
       "    }\n",
       "\n",
       "    .dataframe tbody tr th {\n",
       "        vertical-align: top;\n",
       "    }\n",
       "\n",
       "    .dataframe thead th {\n",
       "        text-align: right;\n",
       "    }\n",
       "</style>\n",
       "<table border=\"1\" class=\"dataframe\">\n",
       "  <thead>\n",
       "    <tr style=\"text-align: right;\">\n",
       "      <th></th>\n",
       "      <th>match</th>\n",
       "      <th>gap</th>\n",
       "      <th>egap</th>\n",
       "      <th>scene</th>\n",
       "      <th>kernel_size</th>\n",
       "      <th>bad4</th>\n",
       "    </tr>\n",
       "  </thead>\n",
       "  <tbody>\n",
       "    <tr>\n",
       "      <th>524</th>\n",
       "      <td>30</td>\n",
       "      <td>-20</td>\n",
       "      <td>-1</td>\n",
       "      <td>teddy</td>\n",
       "      <td>3x5</td>\n",
       "      <td>0.181177</td>\n",
       "    </tr>\n",
       "    <tr>\n",
       "      <th>564</th>\n",
       "      <td>40</td>\n",
       "      <td>-20</td>\n",
       "      <td>-1</td>\n",
       "      <td>teddy</td>\n",
       "      <td>3x3</td>\n",
       "      <td>0.185532</td>\n",
       "    </tr>\n",
       "    <tr>\n",
       "      <th>532</th>\n",
       "      <td>30</td>\n",
       "      <td>-20</td>\n",
       "      <td>-1</td>\n",
       "      <td>teddy</td>\n",
       "      <td>3x7</td>\n",
       "      <td>0.186663</td>\n",
       "    </tr>\n",
       "    <tr>\n",
       "      <th>580</th>\n",
       "      <td>40</td>\n",
       "      <td>-20</td>\n",
       "      <td>-1</td>\n",
       "      <td>teddy</td>\n",
       "      <td>1x3</td>\n",
       "      <td>0.186697</td>\n",
       "    </tr>\n",
       "    <tr>\n",
       "      <th>508</th>\n",
       "      <td>30</td>\n",
       "      <td>-20</td>\n",
       "      <td>-1</td>\n",
       "      <td>teddy</td>\n",
       "      <td>1x5</td>\n",
       "      <td>0.186988</td>\n",
       "    </tr>\n",
       "    <tr>\n",
       "      <th>644</th>\n",
       "      <td>50</td>\n",
       "      <td>-20</td>\n",
       "      <td>-1</td>\n",
       "      <td>teddy</td>\n",
       "      <td>3x3</td>\n",
       "      <td>0.187950</td>\n",
       "    </tr>\n",
       "    <tr>\n",
       "      <th>604</th>\n",
       "      <td>40</td>\n",
       "      <td>-20</td>\n",
       "      <td>-1</td>\n",
       "      <td>teddy</td>\n",
       "      <td>3x5</td>\n",
       "      <td>0.188668</td>\n",
       "    </tr>\n",
       "    <tr>\n",
       "      <th>516</th>\n",
       "      <td>30</td>\n",
       "      <td>-20</td>\n",
       "      <td>-1</td>\n",
       "      <td>teddy</td>\n",
       "      <td>1x7</td>\n",
       "      <td>0.189135</td>\n",
       "    </tr>\n",
       "    <tr>\n",
       "      <th>588</th>\n",
       "      <td>40</td>\n",
       "      <td>-20</td>\n",
       "      <td>-1</td>\n",
       "      <td>teddy</td>\n",
       "      <td>1x5</td>\n",
       "      <td>0.189210</td>\n",
       "    </tr>\n",
       "    <tr>\n",
       "      <th>484</th>\n",
       "      <td>30</td>\n",
       "      <td>-20</td>\n",
       "      <td>-1</td>\n",
       "      <td>teddy</td>\n",
       "      <td>3x3</td>\n",
       "      <td>0.189758</td>\n",
       "    </tr>\n",
       "  </tbody>\n",
       "</table>\n",
       "</div>"
      ],
      "text/plain": [
       "     match  gap  egap  scene kernel_size      bad4\n",
       "524     30  -20    -1  teddy         3x5  0.181177\n",
       "564     40  -20    -1  teddy         3x3  0.185532\n",
       "532     30  -20    -1  teddy         3x7  0.186663\n",
       "580     40  -20    -1  teddy         1x3  0.186697\n",
       "508     30  -20    -1  teddy         1x5  0.186988\n",
       "644     50  -20    -1  teddy         3x3  0.187950\n",
       "604     40  -20    -1  teddy         3x5  0.188668\n",
       "516     30  -20    -1  teddy         1x7  0.189135\n",
       "588     40  -20    -1  teddy         1x5  0.189210\n",
       "484     30  -20    -1  teddy         3x3  0.189758"
      ]
     },
     "execution_count": 21,
     "metadata": {},
     "output_type": "execute_result"
    }
   ],
   "source": [
    "df_temp_2[[\"match\", \"gap\", \"egap\", \"scene\", \"kernel_size\", metrics_selector.value]].head(10)"
   ]
  },
  {
   "cell_type": "code",
   "execution_count": null,
   "metadata": {},
   "outputs": [],
   "source": []
  }
 ],
 "metadata": {
  "kernelspec": {
   "display_name": "Python 3",
   "language": "python",
   "name": "python3"
  },
  "language_info": {
   "codemirror_mode": {
    "name": "ipython",
    "version": 3
   },
   "file_extension": ".py",
   "mimetype": "text/x-python",
   "name": "python",
   "nbconvert_exporter": "python",
   "pygments_lexer": "ipython3",
   "version": "3.8.2"
  }
 },
 "nbformat": 4,
 "nbformat_minor": 4
}
