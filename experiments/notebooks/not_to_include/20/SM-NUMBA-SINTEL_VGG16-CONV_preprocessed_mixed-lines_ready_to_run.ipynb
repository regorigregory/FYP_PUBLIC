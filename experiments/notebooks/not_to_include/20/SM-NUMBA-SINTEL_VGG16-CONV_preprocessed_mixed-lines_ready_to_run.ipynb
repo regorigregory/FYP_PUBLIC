{
 "cells": [
  {
   "cell_type": "markdown",
   "metadata": {
    "colab_type": "text",
    "id": "0gh3RJrMOxDr"
   },
   "source": [
    "<h1>SM-NUMBA-SINTEL-convolved\n",
    "</h1><br>\n"
   ]
  },
  {
   "cell_type": "code",
   "execution_count": 0,
   "metadata": {
    "colab": {
     "base_uri": "https://localhost:8080/",
     "height": 34
    },
    "colab_type": "code",
    "executionInfo": {
     "elapsed": 2042,
     "status": "ok",
     "timestamp": 1583093141208,
     "user": {
      "displayName": "Gergő Endrész",
      "photoUrl": "https://lh3.googleusercontent.com/a-/AOh14Gi-PB7WDYNTcVZ9nR682HqtLOryUrTl135vcvukuw=s64",
      "userId": "12307487896953279443"
     },
     "user_tz": 0
    },
    "id": "VPN4yNh0irwg",
    "outputId": "17cb73da-8dad-487d-b5eb-dfc6d5e35eef"
   },
   "outputs": [
    {
     "name": "stdout",
     "output_type": "stream",
     "text": [
      "Drive already mounted at /content/gdrive; to attempt to forcibly remount, call drive.mount(\"/content/gdrive\", force_remount=True).\n"
     ]
    }
   ],
   "source": [
    "from google.colab import drive\n",
    "drive.mount(\"/content/gdrive\")"
   ]
  },
  {
   "cell_type": "code",
   "execution_count": 0,
   "metadata": {
    "colab": {
     "base_uri": "https://localhost:8080/",
     "height": 34
    },
    "colab_type": "code",
    "executionInfo": {
     "elapsed": 2029,
     "status": "ok",
     "timestamp": 1583093141210,
     "user": {
      "displayName": "Gergő Endrész",
      "photoUrl": "https://lh3.googleusercontent.com/a-/AOh14Gi-PB7WDYNTcVZ9nR682HqtLOryUrTl135vcvukuw=s64",
      "userId": "12307487896953279443"
     },
     "user_tz": 0
    },
    "id": "r-7pPFTBi6gl",
    "outputId": "51ecef4e-bd6f-4258-a65b-fcb45bfbed65"
   },
   "outputs": [
    {
     "name": "stdout",
     "output_type": "stream",
     "text": [
      "/content/gdrive/My Drive/python_projects/FYP\n"
     ]
    }
   ],
   "source": [
    "%cd \"./gdrive/My Drive/python_projects/FYP/\""
   ]
  },
  {
   "cell_type": "code",
   "execution_count": 0,
   "metadata": {
    "colab": {},
    "colab_type": "code",
    "id": "onhlff26OxD7"
   },
   "outputs": [],
   "source": [
    "# built in modules and libraries\n",
    "\n",
    "import numpy as np\n",
    "import importlib as imp\n",
    "import cv2\n",
    "import os\n",
    "import matplotlib.pyplot as plt\n",
    "import gc\n",
    "import math\n",
    "import time\n",
    "import glob\n",
    "\n",
    "# Custom libraries/classes\n",
    "\n",
    "from components.classes.NumbaSimpleMatcher import Wrapper as m\n",
    "from components.classes.SimpleProgressBar import SimpleProgressBar\n",
    "from components.classes.CSVExperimentLogger2 import CSVExperimentLogger2 as l\n",
    "from components.classes.Metrix import Metrix as me\n",
    "from components.classes.SintelReader import SintelReader\n",
    "\n",
    "# Custom libraries/utils\n",
    "\n",
    "from components.utils import plot_utils as plu\n",
    "from components.utils import utils as u"
   ]
  },
  {
   "cell_type": "markdown",
   "metadata": {
    "colab_type": "text",
    "id": "DFrr1Zy4ERMw"
   },
   "source": [
    "##Configuring and testing data generator"
   ]
  },
  {
   "cell_type": "code",
   "execution_count": 0,
   "metadata": {
    "colab": {
     "base_uri": "https://localhost:8080/",
     "height": 128
    },
    "colab_type": "code",
    "executionInfo": {
     "elapsed": 1966,
     "status": "ok",
     "timestamp": 1583093342263,
     "user": {
      "displayName": "Gergő Endrész",
      "photoUrl": "https://lh3.googleusercontent.com/a-/AOh14Gi-PB7WDYNTcVZ9nR682HqtLOryUrTl135vcvukuw=s64",
      "userId": "12307487896953279443"
     },
     "user_tz": 0
    },
    "id": "vmY4cZniX7Kx",
    "outputId": "1e4b0941-9907-425e-9a78-33af98630843"
   },
   "outputs": [
    {
     "data": {
      "image/png": "[encoded data removed]",
      "text/plain": [
       "<Figure size 800x600 with 5 Axes>"
      ]
     },
     "metadata": {
      "tags": []
     },
     "output_type": "display_data"
    },
    {
     "name": "stdout",
     "output_type": "stream",
     "text": [
      "File ./optimization/final//numba_sm/sm_vgg16_convolutions_eval_gc.csv already exists, header has not been written.\n"
     ]
    }
   ],
   "source": [
    "## log file ditectory\n",
    "\n",
    "ROOT_DATA_SRC = \"./optimization/final/\"\n",
    "LOG_DIRECTORY = ROOT_DATA_SRC+\"/numba_sm/\"\n",
    "CSV_FILE_NAME =  \"sm_vgg16_convolutions_eval_gc.csv\"\n",
    "CSV_FILE_PATH = os.path.join(LOG_DIRECTORY, CSV_FILE_NAME)\n",
    "\n",
    "## input directory and test reader\n",
    "\n",
    "path = \"./datasets/sintel/training\"\n",
    "reader = SintelReader(rootPath=path)\n",
    "#reader.print_available_scenes()\n",
    "reader.set_selected_scene('cave_4')\n",
    "loaded_imgs = reader.get_selected_scene_next_files()\n",
    "SintelReader.plot_images_to_compare(loaded_imgs)\n",
    "\n",
    "## specifying log file parameters\n",
    "\n",
    "\n",
    "log = l(file_path = CSV_FILE_PATH)\n",
    "\n",
    "\n",
    "progress_bar = SimpleProgressBar.get_instance()\n",
    "\n",
    "imp.reload(u)\n",
    "\n",
    "spec_dict = dict({})\n",
    "\n",
    "\n",
    "\n",
    "spec_dict[\"is_parallel\"] = \"True\"\n",
    "\n",
    "spec_dict[\"img_name\"] = \"sintel_sm_Resnet50-convolved\"\n",
    "\n",
    "spec_dict[\"alg_type\"] =  \"sm_numba_Resnet50_line_by_line\"\n",
    "spec_dict[\"is_img_preprocessed\"] = \"yes\"\n",
    "spec_dict[\"convolution_filters_pretag\"] = \"VGG16_\"\n",
    "\n",
    "## This has to be updated iteratively\n",
    "\n",
    "spec_dict[\"convolution_filters\"] = spec_dict[\"convolution_filters_pretag\"]+\"\" \n",
    "spec_dict[\"filter_strategy\"] = \"-\"\n",
    "spec_dict[\"matching_mode\"] = non_occ =  \"occlusions_added_to_the_groundtruth\"\n",
    "spec_dict[\"matrix_init_mode\"] = 2\n"
   ]
  },
  {
   "cell_type": "code",
   "execution_count": 0,
   "metadata": {
    "colab": {
     "base_uri": "https://localhost:8080/",
     "height": 54
    },
    "colab_type": "code",
    "executionInfo": {
     "elapsed": 1323,
     "status": "ok",
     "timestamp": 1583093346128,
     "user": {
      "displayName": "Gergő Endrész",
      "photoUrl": "https://lh3.googleusercontent.com/a-/AOh14Gi-PB7WDYNTcVZ9nR682HqtLOryUrTl135vcvukuw=s64",
      "userId": "12307487896953279443"
     },
     "user_tz": 0
    },
    "id": "JIKPN7QzfbPv",
    "outputId": "f7b63bf9-35dd-4e98-d6d9-c040b55d0227"
   },
   "outputs": [
    {
     "data": {
      "text/plain": [
       "'\\nm_score, gap_score, egap_score = 60, -20, -1\\nmatcher = m(m_score, gap_score, egap_score)\\n    \\nmatcher.set_images(loaded_imgs[1], loaded_imgs[0])  \\nmatcher.configure_instance()      \\nx,raw_disp_map = matcher.run_pipeline()\\n\\nSintelReader.plot_images_to_compare([raw_disp_map, loaded_imgs[2], loaded_imgs[3], loaded_imgs[4]])\\n\\ndisp_modified = SintelReader.add_masks_to_raw_disparity(loaded_imgs[2],loaded_imgs[3], loaded_imgs[4])\\nABS_ERR = me.avgerr(raw_disp_map, disp_modified)\\nmse = me.mse(raw_disp_map, disp_modified)\\neuclid = me.eucledian_distance(raw_disp_map, disp_modified)\\n\\nprint([ABS_ERR, mse, euclid])'"
      ]
     },
     "execution_count": 18,
     "metadata": {
      "tags": []
     },
     "output_type": "execute_result"
    }
   ],
   "source": [
    "##Matcher visual and metrical testing\n",
    "\"\"\"\n",
    "m_score, gap_score, egap_score = 60, -20, -1\n",
    "matcher = m(m_score, gap_score, egap_score)\n",
    "    \n",
    "matcher.set_images(loaded_imgs[1], loaded_imgs[0])  \n",
    "matcher.configure_instance()      \n",
    "x,raw_disp_map = matcher.run_pipeline()\n",
    "\n",
    "SintelReader.plot_images_to_compare([raw_disp_map, loaded_imgs[2], loaded_imgs[3], loaded_imgs[4]])\n",
    "\n",
    "disp_modified = SintelReader.add_masks_to_raw_disparity(loaded_imgs[2],loaded_imgs[3], loaded_imgs[4])\n",
    "ABS_ERR = me.avgerr(raw_disp_map, disp_modified)\n",
    "mse = me.mse(raw_disp_map, disp_modified)\n",
    "euclid = me.eucledian_distance(raw_disp_map, disp_modified)\n",
    "\n",
    "print([ABS_ERR, mse, euclid])\"\"\""
   ]
  },
  {
   "cell_type": "code",
   "execution_count": 0,
   "metadata": {
    "colab": {},
    "colab_type": "code",
    "id": "LUxmv5fxlInI"
   },
   "outputs": [],
   "source": [
    "# !pip install tensorflow-gpu==2.1"
   ]
  },
  {
   "cell_type": "code",
   "execution_count": 0,
   "metadata": {
    "colab": {
     "base_uri": "https://localhost:8080/",
     "height": 836
    },
    "colab_type": "code",
    "executionInfo": {
     "elapsed": 3233,
     "status": "ok",
     "timestamp": 1583093352144,
     "user": {
      "displayName": "Gergő Endrész",
      "photoUrl": "https://lh3.googleusercontent.com/a-/AOh14Gi-PB7WDYNTcVZ9nR682HqtLOryUrTl135vcvukuw=s64",
      "userId": "12307487896953279443"
     },
     "user_tz": 0
    },
    "id": "57BqdXlOkaXV",
    "outputId": "69a662a9-3f92-474a-fc3d-c1a72d5a5c80"
   },
   "outputs": [
    {
     "name": "stdout",
     "output_type": "stream",
     "text": [
      "shaman_2, cave_4, shaman_3, sleeping_1, market_2, alley_1, sleeping_2, alley_2, ambush_2, ambush_4, ambush_5, ambush_6, ambush_7, bamboo_1, temple_2, bamboo_2, bandage_1, bandage_2, cave_2, market_5, temple_3, market_6, mountain_1, \n",
      "[PhysicalDevice(name='/physical_device:GPU:0', device_type='GPU')]\n",
      "Model: \"model_1\"\n",
      "_________________________________________________________________\n",
      "Layer (type)                 Output Shape              Param #   \n",
      "=================================================================\n",
      "input_4 (InputLayer)         [(None, 120, 1024, 3)]    0         \n",
      "_________________________________________________________________\n",
      "block1_conv1 (Conv2D)        multiple                  1792      \n",
      "=================================================================\n",
      "Total params: 1,792\n",
      "Trainable params: 1,792\n",
      "Non-trainable params: 0\n",
      "_________________________________________________________________\n"
     ]
    },
    {
     "data": {
      "text/plain": [
       "{'input_layers': [['input_4', 0, 0]],\n",
       " 'layers': [{'class_name': 'InputLayer',\n",
       "   'config': {'batch_input_shape': (None, 120, 1024, 3),\n",
       "    'dtype': 'float32',\n",
       "    'name': 'input_4',\n",
       "    'ragged': False,\n",
       "    'sparse': False},\n",
       "   'inbound_nodes': [],\n",
       "   'name': 'input_4'},\n",
       "  {'class_name': 'Conv2D',\n",
       "   'config': {'activation': 'relu',\n",
       "    'activity_regularizer': None,\n",
       "    'bias_constraint': None,\n",
       "    'bias_initializer': {'class_name': 'Zeros', 'config': {}},\n",
       "    'bias_regularizer': None,\n",
       "    'data_format': 'channels_last',\n",
       "    'dilation_rate': (1, 1),\n",
       "    'dtype': 'float32',\n",
       "    'filters': 64,\n",
       "    'kernel_constraint': None,\n",
       "    'kernel_initializer': {'class_name': 'GlorotUniform',\n",
       "     'config': {'seed': None}},\n",
       "    'kernel_regularizer': None,\n",
       "    'kernel_size': (3, 3),\n",
       "    'name': 'block1_conv1',\n",
       "    'padding': 'same',\n",
       "    'strides': (1, 1),\n",
       "    'trainable': True,\n",
       "    'use_bias': True},\n",
       "   'inbound_nodes': [[['input_4', 0, 0, {}]]],\n",
       "   'name': 'block1_conv1'}],\n",
       " 'name': 'model_1',\n",
       " 'output_layers': [['block1_conv1', 0, 0]]}"
      ]
     },
     "execution_count": 19,
     "metadata": {
      "tags": []
     },
     "output_type": "execute_result"
    }
   ],
   "source": [
    "path = \"./datasets/sintel/training\"\n",
    "reader = SintelReader(rootPath=path)\n",
    "reader.print_available_scenes()\n",
    "\n",
    "\n",
    "width = 1024\n",
    "height = 120\n",
    "img_dim = [height, width, 3]\n",
    "\n",
    "\n",
    "import tensorflow as tf\n",
    "\n",
    "physical_devices = tf.config.list_physical_devices('GPU')\n",
    "print(physical_devices)\n",
    "try:\n",
    "    tf.config.set_logical_device_configuration(\n",
    "        physical_devices[0],\n",
    "        [tf.config.LogicalDeviceConfiguration(memory_limit=5000),\n",
    "          tf.config.LogicalDeviceConfiguration(memory_limit=5000)])\n",
    "\n",
    "    logical_devices = tf.config.list_logical_devices('GPU')\n",
    "    assert len(logical_devices) == len(physical_devices) + 1\n",
    "\n",
    "    tf.config.set_logical_device_configuration(\n",
    "        physical_devices[0],\n",
    "        [tf.config.LogicalDeviceConfiguration(memory_limit=5000),\n",
    "          tf.config.LogicalDeviceConfiguration(memory_limit=5000)])\n",
    "except:\n",
    "    # Invalid device or cannot modify logical devices once initialized.\n",
    "    pass\n",
    "\n",
    "from components.utils import tf_utils as tfu\n",
    "\n",
    "model = tfu.get_vgg16_first_layer_model(img_dim)\n",
    "model.summary()\n",
    "model.get_config()\n"
   ]
  },
  {
   "cell_type": "code",
   "execution_count": 0,
   "metadata": {
    "colab": {
     "base_uri": "https://localhost:8080/",
     "height": 408
    },
    "colab_type": "code",
    "executionInfo": {
     "elapsed": 13623,
     "status": "ok",
     "timestamp": 1583093241567,
     "user": {
      "displayName": "Gergő Endrész",
      "photoUrl": "https://lh3.googleusercontent.com/a-/AOh14Gi-PB7WDYNTcVZ9nR682HqtLOryUrTl135vcvukuw=s64",
      "userId": "12307487896953279443"
     },
     "user_tz": 0
    },
    "id": "TJG2NU_Or0__",
    "outputId": "d3a0091c-52c9-4571-9751-0c8b7083ef6e"
   },
   "outputs": [
    {
     "name": "stdout",
     "output_type": "stream",
     "text": [
      "Writing file ./optimization/pickled_slice_predictions/vgg16/shaman_2_im-0-lr_w-1024_h-120_sr-0\n",
      "Writing file ./optimization/pickled_slice_predictions/vgg16/cave_4_im-0-lr_w-1024_h-120_sr-0\n",
      "Writing file ./optimization/pickled_slice_predictions/vgg16/shaman_3_im-0-lr_w-1024_h-120_sr-0\n",
      "Writing file ./optimization/pickled_slice_predictions/vgg16/sleeping_1_im-0-lr_w-1024_h-120_sr-0\n",
      "Writing file ./optimization/pickled_slice_predictions/vgg16/market_2_im-0-lr_w-1024_h-120_sr-0\n",
      "Writing file ./optimization/pickled_slice_predictions/vgg16/alley_1_im-0-lr_w-1024_h-120_sr-0\n",
      "Writing file ./optimization/pickled_slice_predictions/vgg16/sleeping_2_im-0-lr_w-1024_h-120_sr-0\n",
      "Writing file ./optimization/pickled_slice_predictions/vgg16/alley_2_im-0-lr_w-1024_h-120_sr-0\n",
      "Writing file ./optimization/pickled_slice_predictions/vgg16/ambush_2_im-0-lr_w-1024_h-120_sr-0\n",
      "Writing file ./optimization/pickled_slice_predictions/vgg16/ambush_4_im-0-lr_w-1024_h-120_sr-0\n",
      "Writing file ./optimization/pickled_slice_predictions/vgg16/ambush_5_im-0-lr_w-1024_h-120_sr-0\n",
      "Writing file ./optimization/pickled_slice_predictions/vgg16/ambush_6_im-0-lr_w-1024_h-120_sr-0\n",
      "Writing file ./optimization/pickled_slice_predictions/vgg16/ambush_7_im-0-lr_w-1024_h-120_sr-0\n",
      "Writing file ./optimization/pickled_slice_predictions/vgg16/bamboo_1_im-0-lr_w-1024_h-120_sr-0\n",
      "Writing file ./optimization/pickled_slice_predictions/vgg16/temple_2_im-0-lr_w-1024_h-120_sr-0\n",
      "Writing file ./optimization/pickled_slice_predictions/vgg16/bamboo_2_im-0-lr_w-1024_h-120_sr-0\n",
      "Writing file ./optimization/pickled_slice_predictions/vgg16/bandage_1_im-0-lr_w-1024_h-120_sr-0\n",
      "Writing file ./optimization/pickled_slice_predictions/vgg16/bandage_2_im-0-lr_w-1024_h-120_sr-0\n",
      "Writing file ./optimization/pickled_slice_predictions/vgg16/cave_2_im-0-lr_w-1024_h-120_sr-0\n",
      "Writing file ./optimization/pickled_slice_predictions/vgg16/market_5_im-0-lr_w-1024_h-120_sr-0\n",
      "Writing file ./optimization/pickled_slice_predictions/vgg16/temple_3_im-0-lr_w-1024_h-120_sr-0\n",
      "Writing file ./optimization/pickled_slice_predictions/vgg16/market_6_im-0-lr_w-1024_h-120_sr-0\n",
      "Writing file ./optimization/pickled_slice_predictions/vgg16/mountain_1_im-0-lr_w-1024_h-120_sr-0\n"
     ]
    }
   ],
   "source": [
    "reader.convolve_slices_and_save(model,  slice_height = height, slice_width = width, output_directory=\"./optimization/pickled_slice_predictions/vgg16/\")\n"
   ]
  },
  {
   "cell_type": "code",
   "execution_count": 0,
   "metadata": {
    "colab": {
     "base_uri": "https://localhost:8080/",
     "height": 191
    },
    "colab_type": "code",
    "executionInfo": {
     "elapsed": 1619,
     "status": "ok",
     "timestamp": 1583093360982,
     "user": {
      "displayName": "Gergő Endrész",
      "photoUrl": "https://lh3.googleusercontent.com/a-/AOh14Gi-PB7WDYNTcVZ9nR682HqtLOryUrTl135vcvukuw=s64",
      "userId": "12307487896953279443"
     },
     "user_tz": 0
    },
    "id": "KZEb6Nk_iqHR",
    "outputId": "992f2023-ff74-4517-9a49-72ffbdb42ef0"
   },
   "outputs": [
    {
     "name": "stdout",
     "output_type": "stream",
     "text": [
      "['./optimization/pickled_slice_predictions/vgg16/alley_1_im-0-lr_w-1024_h-120_sr-0', './optimization/pickled_slice_predictions/vgg16/alley_2_im-0-lr_w-1024_h-120_sr-0', './optimization/pickled_slice_predictions/vgg16/ambush_2_im-0-lr_w-1024_h-120_sr-0', './optimization/pickled_slice_predictions/vgg16/ambush_4_im-0-lr_w-1024_h-120_sr-0', './optimization/pickled_slice_predictions/vgg16/ambush_5_im-0-lr_w-1024_h-120_sr-0', './optimization/pickled_slice_predictions/vgg16/ambush_6_im-0-lr_w-1024_h-120_sr-0', './optimization/pickled_slice_predictions/vgg16/ambush_7_im-0-lr_w-1024_h-120_sr-0', './optimization/pickled_slice_predictions/vgg16/bamboo_1_im-0-lr_w-1024_h-120_sr-0', './optimization/pickled_slice_predictions/vgg16/bamboo_2_im-0-lr_w-1024_h-120_sr-0', './optimization/pickled_slice_predictions/vgg16/bandage_1_im-0-lr_w-1024_h-120_sr-0', './optimization/pickled_slice_predictions/vgg16/bandage_2_im-0-lr_w-1024_h-120_sr-0', './optimization/pickled_slice_predictions/vgg16/cave_2_im-0-lr_w-1024_h-120_sr-0', './optimization/pickled_slice_predictions/vgg16/cave_4_im-0-lr_w-1024_h-120_sr-0', './optimization/pickled_slice_predictions/vgg16/market_2_im-0-lr_w-1024_h-120_sr-0', './optimization/pickled_slice_predictions/vgg16/market_5_im-0-lr_w-1024_h-120_sr-0', './optimization/pickled_slice_predictions/vgg16/market_6_im-0-lr_w-1024_h-120_sr-0', './optimization/pickled_slice_predictions/vgg16/mountain_1_im-0-lr_w-1024_h-120_sr-0', './optimization/pickled_slice_predictions/vgg16/shaman_2_im-0-lr_w-1024_h-120_sr-0', './optimization/pickled_slice_predictions/vgg16/shaman_3_im-0-lr_w-1024_h-120_sr-0', './optimization/pickled_slice_predictions/vgg16/sleeping_1_im-0-lr_w-1024_h-120_sr-0', './optimization/pickled_slice_predictions/vgg16/sleeping_2_im-0-lr_w-1024_h-120_sr-0', './optimization/pickled_slice_predictions/vgg16/temple_2_im-0-lr_w-1024_h-120_sr-0', './optimization/pickled_slice_predictions/vgg16/temple_3_im-0-lr_w-1024_h-120_sr-0']\n",
      "Found images: 23\n",
      "Each image's shape: (2, 120, 1024, 64)\n"
     ]
    },
    {
     "data": {
      "text/plain": [
       "<matplotlib.image.AxesImage at 0x7fa6062515f8>"
      ]
     },
     "execution_count": 20,
     "metadata": {
      "tags": []
     },
     "output_type": "execute_result"
    },
    {
     "data": {
      "image/png": "[encoded data removed]",
      "text/plain": [
       "<Figure size 432x288 with 1 Axes>"
      ]
     },
     "metadata": {
      "tags": []
     },
     "output_type": "display_data"
    }
   ],
   "source": [
    "# listing convolved image paths\n",
    "\n",
    "width = 1024\n",
    "height = 120\n",
    "img_dim = [height, width, 3]\n",
    "#Testing loading convolved and pickled image\n",
    "\n",
    "pickleees_paths = SintelReader.list_pickled_convolved(\"./optimization/pickled_slice_predictions/vgg16\", width, height)\n",
    "\n",
    "pickleees_paths = sorted(pickleees_paths)\n",
    "\n",
    "#print(pickleees_paths)\n",
    "one_pickle = SintelReader.load_pickled_convolved(pickleees_paths[0])\n",
    "selected_filter_index = 0\n",
    "\n",
    "print(\"Found images: {0}\".format(len(pickleees_paths)))\n",
    "print(\"Each image's shape: {0}\".format(one_pickle.shape))\n",
    "\n",
    "fig = plt.figure()\n",
    "ax = fig.gca()\n",
    "\n",
    "ax.set_title(\"Example loaded convolved slice (filter {0})\".format(selected_filter_index))\n",
    "plt.imshow(one_pickle[0, :, :, selected_filter_index])\n"
   ]
  },
  {
   "cell_type": "markdown",
   "metadata": {
    "colab_type": "text",
    "id": "WR7FJATysh8C"
   },
   "source": [
    "##Initialising loop parameters"
   ]
  },
  {
   "cell_type": "code",
   "execution_count": 0,
   "metadata": {
    "colab": {
     "base_uri": "https://localhost:8080/",
     "height": 88
    },
    "colab_type": "code",
    "executionInfo": {
     "elapsed": 3801,
     "status": "ok",
     "timestamp": 1583093374879,
     "user": {
      "displayName": "Gergő Endrész",
      "photoUrl": "https://lh3.googleusercontent.com/a-/AOh14Gi-PB7WDYNTcVZ9nR682HqtLOryUrTl135vcvukuw=s64",
      "userId": "12307487896953279443"
     },
     "user_tz": 0
    },
    "id": "LZktHEm3EzwM",
    "outputId": "13b1ba4c-f6fe-4b7e-bbf2-326547e3c4bb"
   },
   "outputs": [
    {
     "name": "stdout",
     "output_type": "stream",
     "text": [
      "['alley_1', 'alley_2', 'ambush_2', 'ambush_4', 'ambush_5', 'ambush_6', 'ambush_7', 'bamboo_1', 'bamboo_2', 'bandage_1', 'bandage_2', 'cave_2', 'cave_4', 'market_2', 'market_5', 'market_6', 'mountain_1', 'shaman_2', 'shaman_3', 'sleeping_1', 'sleeping_2', 'temple_2', 'temple_3']\n",
      "(23, 5, 120, 1024)\n",
      "(23, 3, 120, 1024)\n"
     ]
    }
   ],
   "source": [
    "## Loading gt and disparity for each slice. \n",
    "\n",
    "SCENES = reader.get_available_scenes()\n",
    "SCENES = sorted(SCENES)\n",
    "\n",
    "print(SCENES)\n",
    "\n",
    "ORIGINAL_IMG_DIM = loaded_imgs[0].shape\n",
    "STARTING_ROW_FOR_SLICES = 0\n",
    "ROW_HEIGHT_PER_SLICE = 120\n",
    "NUMBER_OF_COLUMNS = int(ORIGINAL_IMG_DIM[1])\n",
    "\n",
    "SLICE_DIM = [ROW_HEIGHT_PER_SLICE, NUMBER_OF_COLUMNS]\n",
    "\n",
    "\n",
    "main_temp = []\n",
    "\n",
    "for i in range(len(SCENES)):\n",
    "    \n",
    "  reader.set_selected_scene(SCENES[i])\n",
    "\n",
    "  temp = reader.get_selected_scene_next_sliced(SLICE_DIM, starting_row = 0)\n",
    "  temp = np.array(temp)\n",
    "  main_temp.append(temp)   \n",
    "\n",
    "main_temp = np.array(main_temp)\n",
    "print(main_temp.shape)\n",
    "stacked_imgs = main_temp[:, 2:]\n",
    "print(stacked_imgs.shape)\n"
   ]
  },
  {
   "cell_type": "code",
   "execution_count": 0,
   "metadata": {
    "colab": {
     "base_uri": "https://localhost:8080/",
     "height": 297
    },
    "colab_type": "code",
    "executionInfo": {
     "elapsed": 565,
     "status": "ok",
     "timestamp": 1583093376580,
     "user": {
      "displayName": "Gergő Endrész",
      "photoUrl": "https://lh3.googleusercontent.com/a-/AOh14Gi-PB7WDYNTcVZ9nR682HqtLOryUrTl135vcvukuw=s64",
      "userId": "12307487896953279443"
     },
     "user_tz": 0
    },
    "id": "iko3ii_jiqHX",
    "outputId": "f734e006-010b-493b-8c83-9e9b648cc56b"
   },
   "outputs": [
    {
     "data": {
      "text/html": [
       "<div>\n",
       "<style scoped>\n",
       "    .dataframe tbody tr th:only-of-type {\n",
       "        vertical-align: middle;\n",
       "    }\n",
       "\n",
       "    .dataframe tbody tr th {\n",
       "        vertical-align: top;\n",
       "    }\n",
       "\n",
       "    .dataframe thead th {\n",
       "        text-align: right;\n",
       "    }\n",
       "</style>\n",
       "<table border=\"1\" class=\"dataframe\">\n",
       "  <thead>\n",
       "    <tr style=\"text-align: right;\">\n",
       "      <th></th>\n",
       "      <th>match</th>\n",
       "      <th>gap</th>\n",
       "      <th>egap</th>\n",
       "      <th>matrix_init_mode</th>\n",
       "      <th>runtime</th>\n",
       "      <th>euclid_distance</th>\n",
       "      <th>mse</th>\n",
       "      <th>ABS_ERR</th>\n",
       "    </tr>\n",
       "  </thead>\n",
       "  <tbody>\n",
       "    <tr>\n",
       "      <th>count</th>\n",
       "      <td>1760.000000</td>\n",
       "      <td>1760.000000</td>\n",
       "      <td>1760.000000</td>\n",
       "      <td>1760.0</td>\n",
       "      <td>1760.000000</td>\n",
       "      <td>1760.000000</td>\n",
       "      <td>1760.000000</td>\n",
       "      <td>1760.000000</td>\n",
       "    </tr>\n",
       "    <tr>\n",
       "      <th>mean</th>\n",
       "      <td>75.000000</td>\n",
       "      <td>-45.000000</td>\n",
       "      <td>-40.000000</td>\n",
       "      <td>2.0</td>\n",
       "      <td>20.167556</td>\n",
       "      <td>40351.744597</td>\n",
       "      <td>13859.730032</td>\n",
       "      <td>94.086499</td>\n",
       "    </tr>\n",
       "    <tr>\n",
       "      <th>std</th>\n",
       "      <td>46.110824</td>\n",
       "      <td>28.730977</td>\n",
       "      <td>31.631764</td>\n",
       "      <td>0.0</td>\n",
       "      <td>0.244460</td>\n",
       "      <td>1964.868976</td>\n",
       "      <td>1411.572178</td>\n",
       "      <td>5.112703</td>\n",
       "    </tr>\n",
       "    <tr>\n",
       "      <th>min</th>\n",
       "      <td>0.000000</td>\n",
       "      <td>-90.000000</td>\n",
       "      <td>-90.000000</td>\n",
       "      <td>2.0</td>\n",
       "      <td>19.054626</td>\n",
       "      <td>37361.034515</td>\n",
       "      <td>11853.319463</td>\n",
       "      <td>85.450280</td>\n",
       "    </tr>\n",
       "    <tr>\n",
       "      <th>25%</th>\n",
       "      <td>37.500000</td>\n",
       "      <td>-70.000000</td>\n",
       "      <td>-70.000000</td>\n",
       "      <td>2.0</td>\n",
       "      <td>20.104191</td>\n",
       "      <td>39448.640176</td>\n",
       "      <td>13214.972928</td>\n",
       "      <td>92.250425</td>\n",
       "    </tr>\n",
       "    <tr>\n",
       "      <th>50%</th>\n",
       "      <td>75.000000</td>\n",
       "      <td>-45.000000</td>\n",
       "      <td>-40.000000</td>\n",
       "      <td>2.0</td>\n",
       "      <td>20.180402</td>\n",
       "      <td>40127.836761</td>\n",
       "      <td>13673.940931</td>\n",
       "      <td>93.515065</td>\n",
       "    </tr>\n",
       "    <tr>\n",
       "      <th>75%</th>\n",
       "      <td>112.500000</td>\n",
       "      <td>-20.000000</td>\n",
       "      <td>-10.000000</td>\n",
       "      <td>2.0</td>\n",
       "      <td>20.239465</td>\n",
       "      <td>40646.372078</td>\n",
       "      <td>14029.615869</td>\n",
       "      <td>94.600760</td>\n",
       "    </tr>\n",
       "    <tr>\n",
       "      <th>max</th>\n",
       "      <td>150.000000</td>\n",
       "      <td>0.000000</td>\n",
       "      <td>10.000000</td>\n",
       "      <td>2.0</td>\n",
       "      <td>22.554628</td>\n",
       "      <td>50147.851499</td>\n",
       "      <td>21355.358441</td>\n",
       "      <td>115.212458</td>\n",
       "    </tr>\n",
       "  </tbody>\n",
       "</table>\n",
       "</div>"
      ],
      "text/plain": [
       "             match          gap  ...           mse      ABS_ERR\n",
       "count  1760.000000  1760.000000  ...   1760.000000  1760.000000\n",
       "mean     75.000000   -45.000000  ...  13859.730032    94.086499\n",
       "std      46.110824    28.730977  ...   1411.572178     5.112703\n",
       "min       0.000000   -90.000000  ...  11853.319463    85.450280\n",
       "25%      37.500000   -70.000000  ...  13214.972928    92.250425\n",
       "50%      75.000000   -45.000000  ...  13673.940931    93.515065\n",
       "75%     112.500000   -20.000000  ...  14029.615869    94.600760\n",
       "max     150.000000     0.000000  ...  21355.358441   115.212458\n",
       "\n",
       "[8 rows x 8 columns]"
      ]
     },
     "execution_count": 22,
     "metadata": {
      "tags": []
     },
     "output_type": "execute_result"
    }
   ],
   "source": [
    "import pandas as pd\n",
    "#todo select the appropriate file\n",
    "temp_path = \"./optimization/final/numba_legacy/legacy_mixed_lines.csv\"\n",
    "results_data_frame = pd.read_csv(temp_path)\n",
    "results_data_frame.columns = [str.strip(col) for col in results_data_frame.columns]\n",
    "\n",
    "results_data_frame.describe()\n"
   ]
  },
  {
   "cell_type": "code",
   "execution_count": 0,
   "metadata": {
    "colab": {
     "base_uri": "https://localhost:8080/",
     "height": 68
    },
    "colab_type": "code",
    "executionInfo": {
     "elapsed": 7736,
     "status": "ok",
     "timestamp": 1583093386108,
     "user": {
      "displayName": "Gergő Endrész",
      "photoUrl": "https://lh3.googleusercontent.com/a-/AOh14Gi-PB7WDYNTcVZ9nR682HqtLOryUrTl135vcvukuw=s64",
      "userId": "12307487896953279443"
     },
     "user_tz": 0
    },
    "id": "PDkmwWt3iqHa",
    "outputId": "ce4977b6-2ebe-4622-e388-80ff1e6ce52d"
   },
   "outputs": [
    {
     "name": "stdout",
     "output_type": "stream",
     "text": [
      "10\n",
      "Please enter the estimated runtime per images in seconds below:\n",
      "10\n"
     ]
    }
   ],
   "source": [
    "top5_config = []\n",
    "\n",
    "selected_metric = \"ABS_ERR\"\n",
    "res = results_data_frame.sort_values(by=selected_metric).head(3)\n",
    "res = res[[\"match\", \"gap\", \"egap\", selected_metric]].values\n",
    "top5_config.append(res)\n",
    "\n",
    "selected_metric = \"mse\"\n",
    "res = results_data_frame.sort_values(by=selected_metric).head(3)\n",
    "res = res[[\"match\", \"gap\", \"egap\", selected_metric]].values\n",
    "top5_config.append(res)\n",
    "\n",
    "selected_metric = \"euclid_distance\"\n",
    "res = results_data_frame.sort_values(by=selected_metric).head(3)\n",
    "res = res[[\"match\", \"gap\", \"egap\", selected_metric]].values\n",
    "top5_config.append(res)\n",
    "top5_config.append([60, -20, -1, 0])\n",
    "stacked_best_params = np.vstack(top5_config)\n",
    "print(stacked_best_params.shape[0])\n",
    "print(\"Please enter the estimated runtime per images in seconds below:\")\n",
    "runtime_multiplyer = input()"
   ]
  },
  {
   "cell_type": "code",
   "execution_count": 0,
   "metadata": {
    "colab": {
     "base_uri": "https://localhost:8080/",
     "height": 68
    },
    "colab_type": "code",
    "executionInfo": {
     "elapsed": 1300,
     "status": "ok",
     "timestamp": 1583093389528,
     "user": {
      "displayName": "Gergő Endrész",
      "photoUrl": "https://lh3.googleusercontent.com/a-/AOh14Gi-PB7WDYNTcVZ9nR682HqtLOryUrTl135vcvukuw=s64",
      "userId": "12307487896953279443"
     },
     "user_tz": 0
    },
    "id": "j7Y6UwCsiqHc",
    "outputId": "733c42a9-8fcf-46eb-b92c-64a921d36d39"
   },
   "outputs": [
    {
     "name": "stdout",
     "output_type": "stream",
     "text": [
      "The number of iterations based on the params: 14720\n",
      "The amount of time (s) needed to perform the parameter search: 147200.0\n",
      "The amount of time (h) needed to perform the parameter search: 40.888888888888886\n"
     ]
    }
   ],
   "source": [
    "number_of_iterations = 10\n",
    "\n",
    "number_of_iterations =number_of_iterations  * stacked_imgs.shape[0]*64\n",
    "est_runtime = int(number_of_iterations) * float(runtime_multiplyer)\n",
    "\n",
    "print(\"The number of iterations based on the params: {0}\".format(round(number_of_iterations)))\n",
    "print(\"The amount of time (s) needed to perform the parameter search: {0}\".format(est_runtime))\n",
    "print(\"The amount of time (h) needed to perform the parameter search: {0}\".format(est_runtime/3600))"
   ]
  },
  {
   "cell_type": "code",
   "execution_count": null,
   "metadata": {},
   "outputs": [],
   "source": [
    "def best_params_loop(spec_dict, filter):\n",
    "    cv_index = 0\n",
    "            match = spec_dict[\"match\"] = best_params[0]\n",
    "            gap = spec_dict[\"gap\"] = best_params[1]\n",
    "            egap = spec_dict[\"egap\"] = best_params[2]\n",
    "\n",
    "            matcher = m(match, gap, egap)\n",
    "\n",
    "            matcher.set_images(rightee, leftee)\n",
    "            matcher.configure_instance()   \n",
    "            tic=time.time()\n",
    "\n",
    "            x,raw_disp_map = matcher.run_pipeline()\n",
    "\n",
    "            toc = time.time()\n",
    "            spec_dict[\"runtime\"] = toc-tic\n",
    "            spec_dict[\"filter_strategy\"] = \"VGG16_one_by_one\"\n",
    "            spec_dict[\"mse\"] = me.mse(raw_disp_map, gt)\n",
    "            spec_dict[\"euclid_distance\"] =me.eucledian_distance(raw_disp_map, gt)\n",
    "            spec_dict[\"ABS_ERR\"] = me.avgerr(raw_disp_map, gt, print=False)\n",
    "\n",
    "            progress_bar.progress_bar(progress_counter, number_of_iterations, header= \"Parameter search progress: \", progress_bar_steps=100)\n",
    "            progress_counter+=1\n",
    "            log.append_new_sm_results(spec_dict)\n",
    "            cv_index+=1;\n",
    "    "
   ]
  },
  {
   "cell_type": "markdown",
   "metadata": {
    "colab_type": "text",
    "id": "meLaJgZnFG87"
   },
   "source": [
    "##Running the optimisation"
   ]
  },
  {
   "cell_type": "code",
   "execution_count": 0,
   "metadata": {
    "colab": {
     "base_uri": "https://localhost:8080/",
     "height": 34
    },
    "colab_type": "code",
    "id": "VU1kRLdjOxEJ",
    "outputId": "b5adf821-4e01-4901-f308-2226ec121d0b"
   },
   "outputs": [
    {
     "name": "stdout",
     "output_type": "stream",
     "text": [
      "Parameter search progress:  [>>>>>>>>>>>-----------------------------------------------------------------------------------------] 11.30 % completed: 1664 / 14720 steps"
     ]
    }
   ],
   "source": [
    "progress_counter = 1\n",
    "start_time = time.time()\n",
    "\n",
    "spec_dict[\"matrix_init_mode\"] = 2\n",
    "\n",
    "\n",
    "# 23 pickled paths\n",
    "\n",
    "for i, convolved_img_pair_path in enumerate(pickleees_paths):\n",
    "    \n",
    "    ## Each picklee's shape: (2, 120, 1024, 64)\n",
    "    spec_dict[\"img_name\"] = convolved_img_pair_path\n",
    "    \n",
    "    one_picklee = SintelReader.load_pickled_convolved(convolved_img_pair_path)\n",
    "    \n",
    "\n",
    "    #gt is the same for each loaded picklee\n",
    "    #gt shape: (23, 3, 120, 1024)\n",
    "    \n",
    "    gt = reader.add_masks_to_raw_disparity(stacked_imgs[i, 0], stacked_imgs[i, 1], stacked_imgs[i, 2])\n",
    "    \n",
    "    for filter_index in range(64):\n",
    "        \n",
    "        spec_dict[\"convolution_filters\"] = spec_dict[\"convolution_filters_pretag\"]+str(filter_index)\n",
    "\n",
    "        leftee = one_picklee[0, :, :, filter_index]\n",
    "        rightee = one_picklee[1, :, :, filter_index]\n",
    "        \n",
    "        # it is supposed to be 16 parameters\n",
    "        for best_params in stacked_best_params:\n",
    "            cv_index = 0\n",
    "            match = spec_dict[\"match\"] = best_params[0]\n",
    "            gap = spec_dict[\"gap\"] = best_params[1]\n",
    "            egap = spec_dict[\"egap\"] = best_params[2]\n",
    "\n",
    "            matcher = m(match, gap, egap)\n",
    "\n",
    "            matcher.set_images(rightee, leftee)\n",
    "            matcher.configure_instance()   \n",
    "            tic=time.time()\n",
    "\n",
    "            x,raw_disp_map = matcher.run_pipeline()\n",
    "\n",
    "            toc = time.time()\n",
    "            spec_dict[\"runtime\"] = toc-tic\n",
    "            spec_dict[\"filter_strategy\"] = \"VGG16_one_by_one\"\n",
    "            spec_dict[\"mse\"] = me.mse(raw_disp_map, gt)\n",
    "            spec_dict[\"euclid_distance\"] =me.eucledian_distance(raw_disp_map, gt)\n",
    "            spec_dict[\"ABS_ERR\"] = me.avgerr(raw_disp_map, gt, print=False)\n",
    "\n",
    "            progress_bar.progress_bar(progress_counter, number_of_iterations, header= \"Parameter search progress: \", progress_bar_steps=100)\n",
    "            progress_counter+=1\n",
    "            log.append_new_sm_results(spec_dict)\n",
    "            cv_index+=1;\n",
    "\n",
    "end_time = time.time()"
   ]
  },
  {
   "cell_type": "code",
   "execution_count": 0,
   "metadata": {
    "colab": {},
    "colab_type": "code",
    "id": "TXeTjOSwiqHj"
   },
   "outputs": [],
   "source": [
    "print(\"The optimisation process taken {0} seconds or {1} hours\".format((end_time-start_time), (end_time-start_time)/3600))"
   ]
  },
  {
   "cell_type": "code",
   "execution_count": 0,
   "metadata": {
    "colab": {},
    "colab_type": "code",
    "id": "tvu0qj2SiqHl"
   },
   "outputs": [],
   "source": []
  }
 ],
 "metadata": {
  "accelerator": "GPU",
  "colab": {
   "collapsed_sections": [],
   "machine_shape": "hm",
   "name": "SM-NUMBA-SINTEL_VGG16-CONV_preprocessed_mixed-lines_ready_to_run.ipynb",
   "provenance": [
    {
     "file_id": "1e4cy-AkPPx7H6V4ev0B4qnlC7o1AUt-n",
     "timestamp": 1582513496982
    },
    {
     "file_id": "1B1JmtpKuKMm9SMYFkBsoniD8ENyk4Ply",
     "timestamp": 1582506213324
    },
    {
     "file_id": "1mAgX-o2zMv1RVzKeGm-vZgYr5odY2DOt",
     "timestamp": 1582342403791
    },
    {
     "file_id": "1R0MNssudaZe2ssz3Pw0vH9LpB3jP-6MR",
     "timestamp": 1582315751025
    }
   ]
  },
  "kernelspec": {
   "display_name": "Python 3",
   "language": "python",
   "name": "python3"
  },
  "language_info": {
   "codemirror_mode": {
    "name": "ipython",
    "version": 3
   },
   "file_extension": ".py",
   "mimetype": "text/x-python",
   "name": "python",
   "nbconvert_exporter": "python",
   "pygments_lexer": "ipython3",
   "version": "3.8.2"
  }
 },
 "nbformat": 4,
 "nbformat_minor": 1
}
