{
 "cells": [
  {
   "cell_type": "code",
   "execution_count": 1,
   "metadata": {},
   "outputs": [],
   "source": [
    "import subprocess\n",
    "import os\n",
    "import sys"
   ]
  },
  {
   "cell_type": "code",
   "execution_count": 2,
   "metadata": {},
   "outputs": [],
   "source": [
    "dir_path = os.path.join(\"..\", \"..\", \"benchmarking\", \"MiddEval\", \"MiddEval3\")\n",
    "filename = \"runalg_py_universal.py\"\n",
    "full_path = os.path.join(dir_path, filename)\n",
    "runfile = sys.executable"
   ]
  },
  {
   "cell_type": "code",
   "execution_count": 3,
   "metadata": {},
   "outputs": [
    {
     "data": {
      "text/plain": [
       "<subprocess.Popen at 0x25e0e611460>"
      ]
     },
     "execution_count": 3,
     "metadata": {},
     "output_type": "execute_result"
    }
   ],
   "source": [
    "subprocess.Popen([runfile, full_path])"
   ]
  },
  {
   "cell_type": "code",
   "execution_count": 4,
   "metadata": {},
   "outputs": [
    {
     "data": {
      "text/plain": [
       "'..\\\\..\\\\benchmarking\\\\MiddEval\\\\MiddEval3\\\\runalg_py_universal.py'"
      ]
     },
     "execution_count": 4,
     "metadata": {},
     "output_type": "execute_result"
    }
   ],
   "source": [
    "full_path"
   ]
  },
  {
   "cell_type": "code",
   "execution_count": 5,
   "metadata": {},
   "outputs": [],
   "source": [
    "sys.path.append(os.path.join(\"..\", \"...\"))"
   ]
  },
  {
   "cell_type": "code",
   "execution_count": null,
   "metadata": {},
   "outputs": [],
   "source": []
  },
  {
   "cell_type": "code",
   "execution_count": 6,
   "metadata": {},
   "outputs": [
    {
     "name": "stdout",
     "output_type": "stream",
     "text": [
      "D:\\gdrive\\python_projects\\FYP_FINAL\n",
      " Volume in drive D is SharedData\n",
      " Volume Serial Number is 8653-19E2\n",
      "\n",
      " Directory of D:\\gdrive\\python_projects\\FYP_FINAL\n",
      "\n",
      "28/06/2020  09:54 AM    <DIR>          .\n",
      "28/06/2020  09:54 AM    <DIR>          ..\n",
      "01/05/2020  10:11 PM               723 .gitignore\n",
      "03/07/2020  02:16 PM    <DIR>          .idea\n",
      "10/02/2020  07:56 PM                 0 __init__.py\n",
      "09/06/2020  09:33 PM    <DIR>          benchmarking\n",
      "09/06/2020  01:50 PM    <DIR>          components\n",
      "15/06/2020  05:22 PM    <DIR>          datasets\n",
      "01/07/2020  05:44 AM    <DIR>          exp_doc_writups\n",
      "20/06/2020  04:27 AM    <DIR>          experiments\n",
      "02/06/2020  06:13 AM    <DIR>          optimization\n",
      "22/06/2020  12:19 AM             1,208 pi_from_random.py\n",
      "27/06/2020  03:17 AM    <DIR>          submission_test\n",
      "15/06/2020  05:04 PM    <DIR>          tests\n",
      "               3 File(s)          1,931 bytes\n",
      "              11 Dir(s)  83,146,412,032 bytes free\n"
     ]
    }
   ],
   "source": [
    "%cd ../../\n",
    "%ls"
   ]
  },
  {
   "cell_type": "code",
   "execution_count": null,
   "metadata": {},
   "outputs": [
    {
     "name": "stdout",
     "output_type": "stream",
     "text": [
      "Which resolution would you like to evaluate?\n",
      "1\n",
      "The entered value is not a valid index!\n",
      "Please try again!\n",
      "2\n",
      "The entered value is not a valid index!\n",
      "Please try again!\n",
      "3\n",
      "The entered value is not a valid index!\n",
      "Please try again!\n"
     ]
    }
   ],
   "source": [
    "%run ./benchmarking/MiddEval/MiddEval3/runalg_py_universal.py"
   ]
  },
  {
   "cell_type": "code",
   "execution_count": null,
   "metadata": {},
   "outputs": [],
   "source": [
    "from  components.utils.SimpleProgressBar import SimpleProgressBar"
   ]
  },
  {
   "cell_type": "code",
   "execution_count": null,
   "metadata": {},
   "outputs": [],
   "source": [
    "%cd ../"
   ]
  },
  {
   "cell_type": "code",
   "execution_count": null,
   "metadata": {},
   "outputs": [],
   "source": [
    "from  components.utils.SimpleProgressBar import SimpleProgressBar"
   ]
  },
  {
   "cell_type": "code",
   "execution_count": null,
   "metadata": {},
   "outputs": [],
   "source": []
  }
 ],
 "metadata": {
  "kernelspec": {
   "display_name": "Python 3",
   "language": "python",
   "name": "python3"
  },
  "language_info": {
   "codemirror_mode": {
    "name": "ipython",
    "version": 3
   },
   "file_extension": ".py",
   "mimetype": "text/x-python",
   "name": "python",
   "nbconvert_exporter": "python",
   "pygments_lexer": "ipython3",
   "version": "3.8.2"
  }
 },
 "nbformat": 4,
 "nbformat_minor": 4
}
