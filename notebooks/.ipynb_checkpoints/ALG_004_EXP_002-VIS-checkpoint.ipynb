{
 "cells": [
  {
   "cell_type": "code",
   "execution_count": 1,
   "metadata": {},
   "outputs": [],
   "source": [
    "# coming soon"
   ]
  },
  {
   "cell_type": "code",
   "execution_count": 2,
   "metadata": {},
   "outputs": [],
   "source": [
    "import pandas as pd\n",
    "import ipywidgets as widgets\n",
    "import numpy as np\n",
    "import sys\n",
    "sys.path.append(\"../../\")\n",
    "import os\n",
    "import glob\n",
    "import cv2\n",
    "import plotly.graph_objs as go\n",
    "import plotly.express as px\n",
    "from ipywidgets import HBox, VBox, Button, Image, Layout\n",
    "\n",
    "from components.utils import plotly_helpers as plh"
   ]
  },
  {
   "cell_type": "code",
   "execution_count": 3,
   "metadata": {},
   "outputs": [],
   "source": [
    "log_directory = os.path.join(\"..\", \"logs\")\n",
    "csv_files = glob.glob(os.path.join(log_directory, \"ALG_004_*.csv\"))\n",
    "filenames = [os.path.split(csv_file)[-1] for csv_file in csv_files]\n",
    "opts = [(f,p) for f, p in zip(filenames, csv_files) if \"well_known_filters\" not in f]"
   ]
  },
  {
   "cell_type": "code",
   "execution_count": 4,
   "metadata": {},
   "outputs": [
    {
     "data": {
      "application/vnd.jupyter.widget-view+json": {
       "model_id": "b8d53f2032174e32a62994079440e470",
       "version_major": 2,
       "version_minor": 0
      },
      "text/plain": [
       "VBox(children=(Dropdown(description='CSV Log file:', index=1, options=(('ALG_004_EXP_001-Baseline-MacLean_et_a…"
      ]
     },
     "metadata": {},
     "output_type": "display_data"
    }
   ],
   "source": [
    "csv_selector = widgets.Dropdown(\n",
    "    options=opts,\n",
    "    description='CSV Log file:',\n",
    "    value='..\\\\logs\\\\ALG_004_EXP_002-Baseline-MacLean_et_al-Numba_param_search.csv'\n",
    ")\n",
    "\n",
    "available_metrix = ['abs_error',\n",
    "       'mse', 'avg', 'eucledian', 'bad1', 'bad2', 'bad4', 'bad8']\n",
    "metrics_selector = widgets.Dropdown(\n",
    "    options=[(m,m) for m in available_metrix],\n",
    "    description='Default metric:'\n",
    ")\n",
    "\n",
    "VBox([csv_selector, metrics_selector])"
   ]
  },
  {
   "cell_type": "code",
   "execution_count": 10,
   "metadata": {},
   "outputs": [],
   "source": [
    "selected_file = os.path.abspath(csv_selector.value)\n",
    "\n",
    "df = plh.load_n_clean(selected_file, gts=False, kernel_sizes=False)\n",
    "df = df.sort_values(by=metrics_selector.value)\n",
    "\n",
    "teddy = df[df[\"scene\"]==\"teddy\"]\n",
    "cones = df[df[\"scene\"]!=\"teddy\"]\n",
    "\n",
    "img_widget_teddy = Image(value=df[\"loaded_imgs\"].iloc[0], \n",
    "                   layout=Layout(height='375px', width='450px'))\n",
    "img_widget_cones = Image(value=df[\"loaded_imgs\"].iloc[0], \n",
    "                   layout=Layout(height='375px', width='450px'))\n"
   ]
  },
  {
   "cell_type": "code",
   "execution_count": 11,
   "metadata": {},
   "outputs": [],
   "source": [
    "\n"
   ]
  },
  {
   "cell_type": "code",
   "execution_count": 12,
   "metadata": {},
   "outputs": [],
   "source": [
    "fig_teddy, dfs_1 = plh.get_figure_widget_traced(teddy, \"match\", metrics_selector.value, \"are_occlusions_errors\", discrete_hover=True)\n",
    "\n",
    "plh.bind_hover_function_for_traced([fig_teddy], img_widget_teddy, dfs_1)\n",
    "\n",
    "\n",
    "fig_cones, dfs_2 = plh.get_figure_widget_traced(cones, \"match\", metrics_selector.value, \"are_occlusions_errors\", discrete_hover=True)\n",
    "\n",
    "plh.bind_hover_function_for_traced([fig_cones], img_widget_cones, dfs_2)\n",
    "\n"
   ]
  },
  {
   "cell_type": "code",
   "execution_count": 13,
   "metadata": {},
   "outputs": [],
   "source": [
    "dashboard = VBox([HBox(\n",
    "    [fig_cones, img_widget_cones]\n",
    "),\n",
    "                  HBox([fig_teddy, img_widget_teddy])]\n",
    "                  )\n",
    "#dashboard = VBox([HBox([fig_teddy, fig_cones])])"
   ]
  },
  {
   "cell_type": "code",
   "execution_count": 14,
   "metadata": {},
   "outputs": [
    {
     "data": {
      "application/vnd.jupyter.widget-view+json": {
       "model_id": "abe591694ee3438a920541f9c0c0836b",
       "version_major": 2,
       "version_minor": 0
      },
      "text/plain": [
       "VBox(children=(HBox(children=(FigureWidget({\n",
       "    'data': [{'hovertemplate': '%{text}',\n",
       "              'name': '…"
      ]
     },
     "metadata": {},
     "output_type": "display_data"
    }
   ],
   "source": [
    "dashboard"
   ]
  },
  {
   "cell_type": "code",
   "execution_count": null,
   "metadata": {},
   "outputs": [],
   "source": []
  }
 ],
 "metadata": {
  "kernelspec": {
   "display_name": "Python 3",
   "language": "python",
   "name": "python3"
  },
  "language_info": {
   "codemirror_mode": {
    "name": "ipython",
    "version": 3
   },
   "file_extension": ".py",
   "mimetype": "text/x-python",
   "name": "python",
   "nbconvert_exporter": "python",
   "pygments_lexer": "ipython3",
   "version": "3.8.2"
  }
 },
 "nbformat": 4,
 "nbformat_minor": 4
}
