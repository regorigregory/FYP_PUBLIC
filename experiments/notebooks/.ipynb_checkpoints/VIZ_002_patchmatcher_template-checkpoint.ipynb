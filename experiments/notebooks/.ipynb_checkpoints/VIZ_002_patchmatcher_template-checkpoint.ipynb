{
 "cells": [
  {
   "cell_type": "code",
   "execution_count": 1,
   "metadata": {},
   "outputs": [],
   "source": [
    "# coming soon"
   ]
  },
  {
   "cell_type": "code",
   "execution_count": 2,
   "metadata": {},
   "outputs": [],
   "source": [
    "import pandas as pd\n",
    "import ipywidgets as widgets\n",
    "import numpy as np\n",
    "import sys\n",
    "sys.path.append(\"../../\")\n",
    "import os\n",
    "import glob\n",
    "import cv2\n",
    "\n",
    "import plotly.graph_objs as go\n",
    "import plotly.express as px\n",
    "from ipywidgets import HBox, VBox, Button"
   ]
  },
  {
   "cell_type": "code",
   "execution_count": 3,
   "metadata": {},
   "outputs": [],
   "source": [
    "log_directory = os.path.join(\"..\", \"logs\")\n",
    "csv_files = glob.glob(os.path.join(log_directory, \"*.csv\"))\n",
    "filenames = [os.path.split(csv_file)[-1] for csv_file in csv_files]\n",
    "opts = [csv_tuple for csv_tuple in zip(filenames, csv_files)]"
   ]
  },
  {
   "cell_type": "code",
   "execution_count": 4,
   "metadata": {},
   "outputs": [
    {
     "data": {
      "application/vnd.jupyter.widget-view+json": {
       "model_id": "baf4e39ee98e4b41912b9390dd919767",
       "version_major": 2,
       "version_minor": 0
      },
      "text/plain": [
       "VBox(children=(Dropdown(description='CSV Log file:', options=(('ALG_001-EXP_001-Baseline.csv', '..\\\\logs\\\\ALG_…"
      ]
     },
     "metadata": {},
     "output_type": "display_data"
    }
   ],
   "source": [
    "csv_selector = widgets.Dropdown(\n",
    "    options=opts,\n",
    "    description='CSV Log file:',\n",
    "    value=\"..\\\\logs\\\\ALG_005_EXP_001-PatchMatch-MacLean_et_al-Numba.csv\"\n",
    "\n",
    ")\n",
    "\n",
    "available_metrix = ['abs_error',\n",
    "       'mse', 'avg', 'eucledian', 'bad1', 'bad2', 'bad4', 'bad8']\n",
    "metrics_selector = widgets.Dropdown(\n",
    "    options=[(m,m) for m in available_metrix],\n",
    "    description='CSV Log file:'\n",
    ")\n",
    "\n",
    "VBox([csv_selector, metrics_selector])"
   ]
  },
  {
   "cell_type": "code",
   "execution_count": 45,
   "metadata": {},
   "outputs": [
    {
     "data": {
      "text/plain": [
       "Index(['experiment_id', 'match', 'gap', 'egap', 'algo', 'init_method',\n",
       "       'dataset', 'scene', 'image_filename', 'img_res', 'preprocessing_method',\n",
       "       'kernel_size', 'kernel_spec', 'are_occlusions_errors', 'abs_error',\n",
       "       'mse', 'avg', 'eucledian', 'bad1', 'bad2', 'bad4', 'bad8', 'runtime',\n",
       "       'loaded_imgs'],\n",
       "      dtype='object')"
      ]
     },
     "execution_count": 45,
     "metadata": {},
     "output_type": "execute_result"
    }
   ],
   "source": [
    "def read_image_binary(path):\n",
    "    with open(path, \"rb\") as f:\n",
    "        b = f.read()\n",
    "        return b\n",
    "\n",
    "\n",
    "selected_file = csv_selector.value\n",
    "df = pd.read_csv(selected_file)\n",
    "df = df.sort_values(by=metrics_selector.value)\n",
    "\n",
    "df[\"loaded_imgs\"] = [read_image_binary(path) for path in df[\"image_filename\"]]\n",
    "teddy = df[df[\"scene\"]==\"teddy\"]\n",
    "cones = df[df[\"scene\"]!=\"teddy\"]\n",
    "df.columns"
   ]
  },
  {
   "cell_type": "code",
   "execution_count": 46,
   "metadata": {},
   "outputs": [],
   "source": [
    "from ipywidgets import Image, Layout\n",
    "\n",
    "img_widget_teddy = Image(value=df[\"loaded_imgs\"].iloc[0], \n",
    "                   layout=Layout(height='252px', width='400px'))\n",
    "img_widget_cones = Image(value=df[\"loaded_imgs\"].iloc[0], \n",
    "                   layout=Layout(height='252px', width='400px'))"
   ]
  },
  {
   "cell_type": "code",
   "execution_count": 47,
   "metadata": {},
   "outputs": [],
   "source": [
    "\n",
    "fig_teddy = go.FigureWidget(px.scatter(teddy, x=teddy['match'],\n",
    "            y=teddy[metrics_selector.value], color=\"are_occlusions_errors\"))\n",
    "fig_teddy_data = fig_teddy.data[0]\n",
    "\n",
    "fig_cones = go.FigureWidget(px.scatter(cones, x=cones['match'],\n",
    "            y=cones[metrics_selector.value], color=\"are_occlusions_errors\"))\n",
    "\n",
    "fig_teddy.layout.title = \"Teddy Q\"\n",
    "\n",
    "fig_cones.layout.title = \"Cones Q\"\n",
    "\n",
    "\n",
    "fig_teddy_data = fig_teddy.data[0]\n",
    "fig_cones_data = fig_cones.data[0]\n",
    "\n"
   ]
  },
  {
   "cell_type": "code",
   "execution_count": 48,
   "metadata": {},
   "outputs": [],
   "source": [
    "def hover_fn_teddy(trace, points, state):\n",
    "    if(len(points.point_inds)>0):\n",
    "        ind = points.point_inds[0]\n",
    "        img_widget_teddy.value = teddy[\"loaded_imgs\"].iloc[ind]\n",
    "\n",
    "\n",
    "def hover_fn_cones(trace, points, state):\n",
    "    if(len(points.point_inds)>0):\n",
    "        ind = points.point_inds[0]\n",
    "        img_widget_cones.value = cones[\"loaded_imgs\"].iloc[ind]\n",
    "\n",
    "fig_teddy_data.on_hover(hover_fn_teddy)\n",
    "fig_cones_data.on_hover(hover_fn_cones)"
   ]
  },
  {
   "cell_type": "code",
   "execution_count": 49,
   "metadata": {},
   "outputs": [],
   "source": [
    "dashboard = VBox([HBox([fig_teddy, fig_cones]),\n",
    "                  HBox([img_widget_teddy, img_widget_cones])])\n",
    "#dashboard = VBox([HBox([fig_teddy, fig_cones])])\n",
    "fig = fig_teddy\n",
    "fig_data = fig.data"
   ]
  },
  {
   "cell_type": "code",
   "execution_count": 55,
   "metadata": {},
   "outputs": [
    {
     "data": {
      "application/vnd.jupyter.widget-view+json": {
       "model_id": "7ec3d8479c924b50832d52f88027a29c",
       "version_major": 2,
       "version_minor": 0
      },
      "text/plain": [
       "interactive(children=(Dropdown(description='kernel_size', options=('11x3', '9x3', '13x3', '7x3', '15x3', '5x3'…"
      ]
     },
     "metadata": {},
     "output_type": "display_data"
    }
   ],
   "source": [
    "experiments = filenames\n",
    "kernel_sizes= df[\"kernel_size\"].unique()\n",
    "kernel_specs = df[\"kernel_spec\"].unique\n",
    "match_values = (df[\"match\"].min(), df[\"match\"].max(), 10)\n",
    "metrics = ['abs_error',\n",
    "       'mse', 'avg', 'eucledian', 'bad1', 'bad2', 'bad4', 'bad8']\n",
    "nonoccluded = [True, False]\n",
    "\n",
    "\n",
    "from ipywidgets import interact\n",
    "@interact(kernel_size = kernel_sizes,\n",
    "          match = match_values,\n",
    "          metric = metrics,\n",
    "          nonoccluded = nonoccluded\n",
    "         )\n",
    "def update(kernel_size = 1,\n",
    "          match = 60,\n",
    "          metric = \"bad2\",\n",
    "          nonoccluded = True):\n",
    "    with fig.batch_update():\n",
    "        nonoccluded = not nonoccluded\n",
    "        temp_df = df[\n",
    "            (df[\"kernel_size\"]==kernel_size) &\n",
    "            (df[\"match\"]==match) &\n",
    "            (df[\"are_occlusions_errors\"] == nonoccluded)] \n",
    "        \n",
    "        "
   ]
  },
  {
   "cell_type": "code",
   "execution_count": 12,
   "metadata": {},
   "outputs": [
    {
     "data": {
      "application/vnd.jupyter.widget-view+json": {
       "model_id": "095bd2f7a9a84c3887df8417211bd51a",
       "version_major": 2,
       "version_minor": 0
      },
      "text/plain": [
       "VBox(children=(HBox(children=(FigureWidget({\n",
       "    'data': [{'hovertemplate': 'are_occlusions_errors=False<br>ma…"
      ]
     },
     "metadata": {},
     "output_type": "display_data"
    }
   ],
   "source": [
    "dashboard"
   ]
  },
  {
   "cell_type": "code",
   "execution_count": 21,
   "metadata": {},
   "outputs": [
    {
     "data": {
      "text/plain": [
       "1"
      ]
     },
     "execution_count": 21,
     "metadata": {},
     "output_type": "execute_result"
    }
   ],
   "source": [
    "df[\"kernel_size\"].unique()[0]\n",
    "\n",
    "\n"
   ]
  }
 ],
 "metadata": {
  "kernelspec": {
   "display_name": "Python 3",
   "language": "python",
   "name": "python3"
  },
  "language_info": {
   "codemirror_mode": {
    "name": "ipython",
    "version": 3
   },
   "file_extension": ".py",
   "mimetype": "text/x-python",
   "name": "python",
   "nbconvert_exporter": "python",
   "pygments_lexer": "ipython3",
   "version": "3.8.2"
  }
 },
 "nbformat": 4,
 "nbformat_minor": 4
}
