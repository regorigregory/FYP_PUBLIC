{
 "cells": [
  {
   "cell_type": "markdown",
   "metadata": {},
   "source": [
    "<h1>ALG_005_EXP_001-PatchMatch-MacLean_et_al-Numba Visualisation</h1>\n",
    "<p> For the experiment please visit <a href=\"ALG_005_EXP_001-PatchMatch-MacLean_et_al-Numba.ipynb\">ALG_005_EXP_001-PatchMatch-MacLean_et_al-Numba.</a></p>"
   ]
  },
  {
   "cell_type": "markdown",
   "metadata": {},
   "source": [
    "#### Importing used or \"useful\" libraries"
   ]
  },
  {
   "cell_type": "code",
   "execution_count": 1,
   "metadata": {},
   "outputs": [],
   "source": [
    "import pandas as pd\n",
    "import ipywidgets as widgets\n",
    "import numpy as np\n",
    "import sys\n",
    "import os\n",
    "\n",
    "sys.path.append(os.path.join(\"..\", \"..\"))\n",
    "import glob\n",
    "import cv2\n",
    "\n",
    "import plotly.graph_objs as go\n",
    "import plotly.express as px\n",
    "\n",
    "from ipywidgets import HBox, VBox, Button, Image, Layout\n",
    "\n",
    "from components.utils import plotly_helpers as ph"
   ]
  },
  {
   "cell_type": "markdown",
   "metadata": {},
   "source": [
    "#### Building ui elements for ease of use"
   ]
  },
  {
   "cell_type": "code",
   "execution_count": 2,
   "metadata": {},
   "outputs": [
    {
     "data": {
      "application/vnd.jupyter.widget-view+json": {
       "model_id": "13c77e4320264aae88f1a891312ad3fc",
       "version_major": 2,
       "version_minor": 0
      },
      "text/plain": [
       "VBox(children=(Dropdown(description='Metrics:', index=6, options=(('abs_error', 'abs_error'), ('mse', 'mse'), …"
      ]
     },
     "metadata": {},
     "output_type": "display_data"
    }
   ],
   "source": [
    "available_metrix = ['abs_error',\n",
    "       'mse', 'avg', 'eucledian', 'bad1', 'bad2', 'bad4', 'bad8']\n",
    "\n",
    "metrics_selector = widgets.Dropdown(\n",
    "    options=[(m,m) for m in available_metrix],\n",
    "    description='Metrics:',\n",
    "    value=\"bad4\"\n",
    ")\n",
    "\n",
    "\n",
    "nonoccluded = widgets.Dropdown(\n",
    "    options=[(\"yes\", False), (\"No\", True)],\n",
    "    description='Nonoccluded:'\n",
    ")\n",
    "\n",
    "VBox([metrics_selector, nonoccluded])"
   ]
  },
  {
   "cell_type": "markdown",
   "metadata": {},
   "source": [
    "#### Loading the dataframe based on the selected options\n",
    "If options changed, please rerun the cells starting from this point."
   ]
  },
  {
   "cell_type": "code",
   "execution_count": 3,
   "metadata": {},
   "outputs": [],
   "source": [
    "path_to_dataframe = os.path.join(\"..\", \"logs\", \"ALG_005_EXP_001-PatchMatch-MacLean_et_al-Numba.csv\")\n",
    "df = selected_scene_df = ph.load_n_clean(path_to_dataframe, gts=True,  v_2003=True, kernel_sizes=True)\n",
    "\n",
    "##Filtering to selected occlusion parameter\n",
    "\n",
    "df = df[df[\"are_occlusions_errors\"]==nonoccluded.value]\n",
    "\n",
    "number_of_samples = df.shape[0]"
   ]
  },
  {
   "cell_type": "markdown",
   "metadata": {},
   "source": [
    "#### Constructing the dashboards for the two scenes: teddy and cones"
   ]
  },
  {
   "cell_type": "code",
   "execution_count": 4,
   "metadata": {},
   "outputs": [],
   "source": [
    "### Dashboard 1 - Cones\n",
    "\n",
    "img_widget_cones = Image(value=df[\"loaded_imgs\"].iloc[0], \n",
    "                   layout=Layout(height='375px', width='450px'))\n",
    "\n",
    "df_temp_1 = df[df[\"scene\"]==\"cones\"]\n",
    "\n",
    "traced_fig_1, dfs_1 = ph.get_figure_widget_traced(df_temp_1, \"kernel_size\", metrics_selector.value, \"match\")\n",
    "\n",
    "traced_fig_widget_1 = go.FigureWidget(traced_fig_1)\n",
    "\n",
    "\n",
    "traced_fig_1_imw_1 = Image(value=df[\"loaded_imgs\"].iloc[0], \n",
    "                   layout=Layout(height='375px', width='450px'))\n",
    "traced_fig_1_imw_2 = Image(value=df[\"loaded_gts\"].iloc[0], \n",
    "                   layout=Layout(height='375px', width='450px'))\n",
    "\n",
    "#figs, img_widget, selected_scene_df\n",
    "ph.bind_hover_function2([traced_fig_widget_1], traced_fig_1_imw_1, dfs_1, img_widget_groundtruth=traced_fig_1_imw_2)\n",
    "\n",
    "\n",
    "turn_the_lights_on = ph.get_dropdown_widget([\"On\", \"Off\"], label=\"Turn plots:\", values = [True, False])\n",
    "\n",
    "ph.bind_dropdown_switch_traces_fn(turn_the_lights_on, traced_fig_widget_1)\n",
    "\n",
    "dashboard1 = VBox([turn_the_lights_on, traced_fig_widget_1, HBox([traced_fig_1_imw_1,traced_fig_1_imw_2])])\n",
    "\n",
    "\n",
    "\n",
    "### Dashboard 2 - Teddy\n",
    "\n",
    "img_widget_teddy = Image(value=df[\"loaded_imgs\"].iloc[0], \n",
    "                   layout=Layout(height='375px', width='450px'))\n",
    "\n",
    "df_temp_2 = df[df[\"scene\"]==\"teddy\"]\n",
    "\n",
    "traced_fig_2, dfs_2 = ph.get_figure_widget_traced(df_temp_2, \"kernel_size\", metrics_selector.value, \"match\")\n",
    "\n",
    "traced_fig_widget_2 = go.FigureWidget(traced_fig_2)\n",
    "\n",
    "\n",
    "\n",
    "traced_fig_2_imw_1 = Image(value=df[\"loaded_imgs\"].iloc[0], \n",
    "                   layout=Layout(height='375px', width='450px'))\n",
    "traced_fig_2_imw_2 = Image(value=df[\"loaded_gts\"].iloc[0], \n",
    "                   layout=Layout(height='375px', width='450px'))\n",
    "\n",
    "#figs, img_widget, selected_scene_df\n",
    "ph.bind_hover_function2([traced_fig_widget_2], traced_fig_2_imw_1, dfs_2, img_widget_groundtruth=traced_fig_2_imw_2)\n",
    "\n",
    "\n",
    "turn_the_lights_on = ph.get_dropdown_widget([\"On\", \"Off\"], label=\"Turn plots:\", values = [True, False])\n",
    "\n",
    "ph.bind_dropdown_switch_traces_fn(turn_the_lights_on, traced_fig_widget_2)\n",
    "\n",
    "dashboard2 = VBox([turn_the_lights_on, traced_fig_widget_2, HBox([traced_fig_2_imw_1,traced_fig_2_imw_2])])"
   ]
  },
  {
   "cell_type": "markdown",
   "metadata": {},
   "source": [
    "#### Scene \"Cones\" analysis\n",
    "Main plot: support window size w.r.t selected metric. Colour: Match value. <br>\n",
    "The plots can be turned on and off individually by clicking on their legends or all together by the \"Turn plots\" selector"
   ]
  },
  {
   "cell_type": "code",
   "execution_count": 5,
   "metadata": {},
   "outputs": [
    {
     "data": {
      "application/vnd.jupyter.widget-view+json": {
       "model_id": "65b39d7ccaaa451dac93ade7e54143f0",
       "version_major": 2,
       "version_minor": 0
      },
      "text/plain": [
       "VBox(children=(Dropdown(description='Turn plots:', options=(('On', True), ('Off', False)), value=True), Figure…"
      ]
     },
     "metadata": {},
     "output_type": "display_data"
    }
   ],
   "source": [
    "dashboard1"
   ]
  },
  {
   "cell_type": "markdown",
   "metadata": {},
   "source": [
    "#### Scene \"Teddy\" analysis\n",
    "Main plot: support window size w.r.t selected metric. Colour: Match value. <br>\n",
    "The plots can be turned on and off individually by clicking on their legends or all together by the \"Turn plots\" selector"
   ]
  },
  {
   "cell_type": "code",
   "execution_count": 6,
   "metadata": {},
   "outputs": [
    {
     "data": {
      "application/vnd.jupyter.widget-view+json": {
       "model_id": "47ba2bc2f5d84dc8a76ddecbb0464f84",
       "version_major": 2,
       "version_minor": 0
      },
      "text/plain": [
       "VBox(children=(Dropdown(description='Turn plots:', options=(('On', True), ('Off', False)), value=True), Figure…"
      ]
     },
     "metadata": {},
     "output_type": "display_data"
    }
   ],
   "source": [
    "dashboard2"
   ]
  },
  {
   "cell_type": "markdown",
   "metadata": {},
   "source": [
    "#### \"Cones\" best results"
   ]
  },
  {
   "cell_type": "code",
   "execution_count": 7,
   "metadata": {
    "scrolled": true
   },
   "outputs": [
    {
     "name": "stderr",
     "output_type": "stream",
     "text": [
      "<ipython-input-7-35733564e03b>:1: SettingWithCopyWarning:\n",
      "\n",
      "\n",
      "A value is trying to be set on a copy of a slice from a DataFrame\n",
      "\n",
      "See the caveats in the documentation: https://pandas.pydata.org/pandas-docs/stable/user_guide/indexing.html#returning-a-view-versus-a-copy\n",
      "\n",
      "<ipython-input-7-35733564e03b>:2: SettingWithCopyWarning:\n",
      "\n",
      "\n",
      "A value is trying to be set on a copy of a slice from a DataFrame\n",
      "\n",
      "See the caveats in the documentation: https://pandas.pydata.org/pandas-docs/stable/user_guide/indexing.html#returning-a-view-versus-a-copy\n",
      "\n"
     ]
    },
    {
     "data": {
      "text/html": [
       "<div>\n",
       "<style scoped>\n",
       "    .dataframe tbody tr th:only-of-type {\n",
       "        vertical-align: middle;\n",
       "    }\n",
       "\n",
       "    .dataframe tbody tr th {\n",
       "        vertical-align: top;\n",
       "    }\n",
       "\n",
       "    .dataframe thead th {\n",
       "        text-align: right;\n",
       "    }\n",
       "</style>\n",
       "<table border=\"1\" class=\"dataframe\">\n",
       "  <thead>\n",
       "    <tr style=\"text-align: right;\">\n",
       "      <th></th>\n",
       "      <th>match</th>\n",
       "      <th>gap</th>\n",
       "      <th>egap</th>\n",
       "      <th>scene</th>\n",
       "      <th>kernel_size</th>\n",
       "      <th>bad4</th>\n",
       "    </tr>\n",
       "  </thead>\n",
       "  <tbody>\n",
       "    <tr>\n",
       "      <th>466</th>\n",
       "      <td>20</td>\n",
       "      <td>-20</td>\n",
       "      <td>-1</td>\n",
       "      <td>cones</td>\n",
       "      <td>9x3</td>\n",
       "      <td>0.099440</td>\n",
       "    </tr>\n",
       "    <tr>\n",
       "      <th>450</th>\n",
       "      <td>20</td>\n",
       "      <td>-20</td>\n",
       "      <td>-1</td>\n",
       "      <td>cones</td>\n",
       "      <td>7x3</td>\n",
       "      <td>0.100482</td>\n",
       "    </tr>\n",
       "    <tr>\n",
       "      <th>470</th>\n",
       "      <td>20</td>\n",
       "      <td>-20</td>\n",
       "      <td>-1</td>\n",
       "      <td>cones</td>\n",
       "      <td>11x3</td>\n",
       "      <td>0.100982</td>\n",
       "    </tr>\n",
       "    <tr>\n",
       "      <th>442</th>\n",
       "      <td>20</td>\n",
       "      <td>-20</td>\n",
       "      <td>-1</td>\n",
       "      <td>cones</td>\n",
       "      <td>5x3</td>\n",
       "      <td>0.102900</td>\n",
       "    </tr>\n",
       "    <tr>\n",
       "      <th>474</th>\n",
       "      <td>20</td>\n",
       "      <td>-20</td>\n",
       "      <td>-1</td>\n",
       "      <td>cones</td>\n",
       "      <td>13x3</td>\n",
       "      <td>0.104220</td>\n",
       "    </tr>\n",
       "    <tr>\n",
       "      <th>546</th>\n",
       "      <td>30</td>\n",
       "      <td>-20</td>\n",
       "      <td>-1</td>\n",
       "      <td>cones</td>\n",
       "      <td>9x3</td>\n",
       "      <td>0.106388</td>\n",
       "    </tr>\n",
       "    <tr>\n",
       "      <th>478</th>\n",
       "      <td>20</td>\n",
       "      <td>-20</td>\n",
       "      <td>-1</td>\n",
       "      <td>cones</td>\n",
       "      <td>15x3</td>\n",
       "      <td>0.107423</td>\n",
       "    </tr>\n",
       "    <tr>\n",
       "      <th>530</th>\n",
       "      <td>30</td>\n",
       "      <td>-20</td>\n",
       "      <td>-1</td>\n",
       "      <td>cones</td>\n",
       "      <td>7x3</td>\n",
       "      <td>0.108250</td>\n",
       "    </tr>\n",
       "    <tr>\n",
       "      <th>406</th>\n",
       "      <td>20</td>\n",
       "      <td>-20</td>\n",
       "      <td>-1</td>\n",
       "      <td>cones</td>\n",
       "      <td>3x3</td>\n",
       "      <td>0.108486</td>\n",
       "    </tr>\n",
       "    <tr>\n",
       "      <th>550</th>\n",
       "      <td>30</td>\n",
       "      <td>-20</td>\n",
       "      <td>-1</td>\n",
       "      <td>cones</td>\n",
       "      <td>11x3</td>\n",
       "      <td>0.108792</td>\n",
       "    </tr>\n",
       "  </tbody>\n",
       "</table>\n",
       "</div>"
      ],
      "text/plain": [
       "     match  gap  egap  scene kernel_size      bad4\n",
       "466     20  -20    -1  cones         9x3  0.099440\n",
       "450     20  -20    -1  cones         7x3  0.100482\n",
       "470     20  -20    -1  cones        11x3  0.100982\n",
       "442     20  -20    -1  cones         5x3  0.102900\n",
       "474     20  -20    -1  cones        13x3  0.104220\n",
       "546     30  -20    -1  cones         9x3  0.106388\n",
       "478     20  -20    -1  cones        15x3  0.107423\n",
       "530     30  -20    -1  cones         7x3  0.108250\n",
       "406     20  -20    -1  cones         3x3  0.108486\n",
       "550     30  -20    -1  cones        11x3  0.108792"
      ]
     },
     "execution_count": 7,
     "metadata": {},
     "output_type": "execute_result"
    }
   ],
   "source": [
    "df_temp_1.sort_values(by=metrics_selector.value, inplace=True)\n",
    "df_temp_2.sort_values(by=metrics_selector.value, inplace=True)\n",
    "df_temp_1[[\"match\", \"gap\", \"egap\", \"scene\", \"kernel_size\", metrics_selector.value]].head(10)"
   ]
  },
  {
   "cell_type": "markdown",
   "metadata": {},
   "source": [
    "#### \"Teddy\" best results"
   ]
  },
  {
   "cell_type": "code",
   "execution_count": 8,
   "metadata": {
    "scrolled": true
   },
   "outputs": [
    {
     "data": {
      "text/html": [
       "<div>\n",
       "<style scoped>\n",
       "    .dataframe tbody tr th:only-of-type {\n",
       "        vertical-align: middle;\n",
       "    }\n",
       "\n",
       "    .dataframe tbody tr th {\n",
       "        vertical-align: top;\n",
       "    }\n",
       "\n",
       "    .dataframe thead th {\n",
       "        text-align: right;\n",
       "    }\n",
       "</style>\n",
       "<table border=\"1\" class=\"dataframe\">\n",
       "  <thead>\n",
       "    <tr style=\"text-align: right;\">\n",
       "      <th></th>\n",
       "      <th>match</th>\n",
       "      <th>gap</th>\n",
       "      <th>egap</th>\n",
       "      <th>scene</th>\n",
       "      <th>kernel_size</th>\n",
       "      <th>bad4</th>\n",
       "    </tr>\n",
       "  </thead>\n",
       "  <tbody>\n",
       "    <tr>\n",
       "      <th>524</th>\n",
       "      <td>30</td>\n",
       "      <td>-20</td>\n",
       "      <td>-1</td>\n",
       "      <td>teddy</td>\n",
       "      <td>3x5</td>\n",
       "      <td>0.181177</td>\n",
       "    </tr>\n",
       "    <tr>\n",
       "      <th>564</th>\n",
       "      <td>40</td>\n",
       "      <td>-20</td>\n",
       "      <td>-1</td>\n",
       "      <td>teddy</td>\n",
       "      <td>3x3</td>\n",
       "      <td>0.185532</td>\n",
       "    </tr>\n",
       "    <tr>\n",
       "      <th>532</th>\n",
       "      <td>30</td>\n",
       "      <td>-20</td>\n",
       "      <td>-1</td>\n",
       "      <td>teddy</td>\n",
       "      <td>3x7</td>\n",
       "      <td>0.186663</td>\n",
       "    </tr>\n",
       "    <tr>\n",
       "      <th>580</th>\n",
       "      <td>40</td>\n",
       "      <td>-20</td>\n",
       "      <td>-1</td>\n",
       "      <td>teddy</td>\n",
       "      <td>1x3</td>\n",
       "      <td>0.186697</td>\n",
       "    </tr>\n",
       "    <tr>\n",
       "      <th>508</th>\n",
       "      <td>30</td>\n",
       "      <td>-20</td>\n",
       "      <td>-1</td>\n",
       "      <td>teddy</td>\n",
       "      <td>1x5</td>\n",
       "      <td>0.186988</td>\n",
       "    </tr>\n",
       "    <tr>\n",
       "      <th>644</th>\n",
       "      <td>50</td>\n",
       "      <td>-20</td>\n",
       "      <td>-1</td>\n",
       "      <td>teddy</td>\n",
       "      <td>3x3</td>\n",
       "      <td>0.187950</td>\n",
       "    </tr>\n",
       "    <tr>\n",
       "      <th>604</th>\n",
       "      <td>40</td>\n",
       "      <td>-20</td>\n",
       "      <td>-1</td>\n",
       "      <td>teddy</td>\n",
       "      <td>3x5</td>\n",
       "      <td>0.188668</td>\n",
       "    </tr>\n",
       "    <tr>\n",
       "      <th>516</th>\n",
       "      <td>30</td>\n",
       "      <td>-20</td>\n",
       "      <td>-1</td>\n",
       "      <td>teddy</td>\n",
       "      <td>1x7</td>\n",
       "      <td>0.189135</td>\n",
       "    </tr>\n",
       "    <tr>\n",
       "      <th>588</th>\n",
       "      <td>40</td>\n",
       "      <td>-20</td>\n",
       "      <td>-1</td>\n",
       "      <td>teddy</td>\n",
       "      <td>1x5</td>\n",
       "      <td>0.189210</td>\n",
       "    </tr>\n",
       "    <tr>\n",
       "      <th>484</th>\n",
       "      <td>30</td>\n",
       "      <td>-20</td>\n",
       "      <td>-1</td>\n",
       "      <td>teddy</td>\n",
       "      <td>3x3</td>\n",
       "      <td>0.189758</td>\n",
       "    </tr>\n",
       "  </tbody>\n",
       "</table>\n",
       "</div>"
      ],
      "text/plain": [
       "     match  gap  egap  scene kernel_size      bad4\n",
       "524     30  -20    -1  teddy         3x5  0.181177\n",
       "564     40  -20    -1  teddy         3x3  0.185532\n",
       "532     30  -20    -1  teddy         3x7  0.186663\n",
       "580     40  -20    -1  teddy         1x3  0.186697\n",
       "508     30  -20    -1  teddy         1x5  0.186988\n",
       "644     50  -20    -1  teddy         3x3  0.187950\n",
       "604     40  -20    -1  teddy         3x5  0.188668\n",
       "516     30  -20    -1  teddy         1x7  0.189135\n",
       "588     40  -20    -1  teddy         1x5  0.189210\n",
       "484     30  -20    -1  teddy         3x3  0.189758"
      ]
     },
     "execution_count": 8,
     "metadata": {},
     "output_type": "execute_result"
    }
   ],
   "source": [
    "df_temp_2[[\"match\", \"gap\", \"egap\", \"scene\", \"kernel_size\", metrics_selector.value]].head(10)"
   ]
  },
  {
   "cell_type": "code",
   "execution_count": null,
   "metadata": {},
   "outputs": [],
   "source": []
  }
 ],
 "metadata": {
  "kernelspec": {
   "display_name": "Python 3",
   "language": "python",
   "name": "python3"
  },
  "language_info": {
   "codemirror_mode": {
    "name": "ipython",
    "version": 3
   },
   "file_extension": ".py",
   "mimetype": "text/x-python",
   "name": "python",
   "nbconvert_exporter": "python",
   "pygments_lexer": "ipython3",
   "version": "3.8.2"
  },
  "widgets": {
   "application/vnd.jupyter.widget-state+json": {
    "state": {
     "054febf7336f4d0d9972009708b06352": {
      "buffers": [
       {
        "data": "pEYebvjZ6T+kRh5u+NnpPxLEgYy7Z+k/EsSBjLtn6T9zl0Q9vWLpP3OXRD29Yuk/n1ZIgv5z6T+fVkiC/nPpP/R3Vbs7D+o/9HdVuzsP6j/Ocp6XeIXpP85ynpd4hek/559qrcRM6T/nn2qtxEzpPxY4oa3bhuk/FjihrduG6T8Pfipsmh3qPw9+KmyaHeo/2XnpVGaR6T/ZeelUZpHpP3wDzbQjWuk/fAPNtCNa6T+WZqD1NKXpP5ZmoPU0pek/X9ZYHssL6j9f1lgeywvqP8lbpybOhOk/yVunJs6E6T8VGb9S8ZrpPxUZv1Lxmuk/In1c4Ben6T8ifVzgF6fpP07+xY9Hwuk/Tv7Fj0fC6T9xMoki+9HpP3EyiSL70ek/mX1DJlni6T+ZfUMmWeLpP8fXCbEhCOo/x9cJsSEI6j8=",
        "encoding": "base64",
        "path": [
         "_data",
         0,
         "y",
         "value"
        ]
       },
       {
        "data": "Xq8NeVeP2j9wkkdAOgHUP0UJn2ZEN9Q/+2IAS4J81D8mlFNRwqfZP1EBWL6jHdM/J9WtdGCQ0z/T4T4cX+jTP3/UliVw8tk/ROOT8FS20j+t3LEYX0DTP9HpfUYll9M/O5oCIcuJ2j9/wIUjqBDTP1P5GJTdbtM/yk6/Pws41D9KMLyshxzTP0ooKUI7qtM/zIyD9d8P1D/fgyL/ECfUPw==",
        "encoding": "base64",
        "path": [
         "_data",
         1,
         "y",
         "value"
        ]
       },
       {
        "data": "ZWsuOWTR1T9lay45ZNHVP5YO9+H4Qs8/lg734fhCzz8RbNh4fwXPPxFs2Hh/Bc8/Qp/73uA1zz9Cn/ve4DXPP4mIzPs8SdU/iYjM+zxJ1T/xnHiBmg3OP/GceIGaDc4/CcrwVmARzj8JyvBWYBHOP4BWNtzK0s0/gFY23MrSzT9NXUR+AvbVP01dRH4C9tU/KVNNbqqCzz8pU01uqoLPP4AfQ8IHF88/gB9DwgcXzz+55eUEvffOP7nl5QS9984/A870Ut601j8DzvRS3rTWP/ui8B7Zh9A/+6LwHtmH0D9XxE1ZLzHQP1fETVkvMdA/3TDOZ0ufzz/dMM5nS5/PP5X2UjL13NA/lfZSMvXc0D/yRU5Nh3nRP/JFTk2HedE/7UVSjPQu0j/tRVKM9C7SP+aLBWt2p9I/5osFa3an0j8=",
        "encoding": "base64",
        "path": [
         "_data",
         2,
         "y",
         "value"
        ]
       },
       {
        "data": "FZ+I5h9L1T889uqhvKzMPzVN2mSYI8o/CBIgVX3LyT8qGu+FwMDUP0RyG45y48s/AuwYHvv/yD/1xcHlXybJP0EYs2uJt9U/XKa8fj18zT/IcqLW5TrKP3LNIUi/BMo/yS7H1V8y1j9tblNY68LOP2Y6+upezco/PUwUV/AXyz/d+vBcSf3OPy0Fs+RV1M8/5i8d6oSE0D+vQgGjK5DQPw==",
        "encoding": "base64",
        "path": [
         "_data",
         3,
         "y",
         "value"
        ]
       },
       {
        "data": "UeFfVPgX1T8ru3CXBY3IP0ZssAI778c/A5et+JQ1yD+HO0zAFmrUP4UDR9b/Scg/krWkztAwxz8E/D7zk+THP5Ab+JcKNtU/laxPlUloyT+FYJmmOErIP4O9Q/Zkw8g/5B0jdl3l1T+TrKcUPeHJP5UR4Y9IF8k/hWfCwT3fyT+UhdrPEgrKPwu8niBW58o/Ej/4JxGzyz/fSfH2d9PLPw==",
        "encoding": "base64",
        "path": [
         "_data",
         4,
         "y",
         "value"
        ]
       },
       {
        "data": "mWjI1Ekj1T8KzdoEsOXHPxKWN+wFOMg/fUn6tIHCyD+d5FBA89LUPxdQhA2Ev8c/ooV60kQmyD+gfZMncvDIP4fGlPB+1tU/L/H1IhS2yD8kpNGlTgXJPzJdWLkkgck/M/IH82ca1j8q8U2iBy/JP14cMt6isMk/roNGNuiHyj+idVT9q0HJPyfKMFzESco/X77J/qiWyz/+w+XI9gDMPw==",
        "encoding": "base64",
        "path": [
         "_data",
         5,
         "y",
         "value"
        ]
       },
       {
        "data": "5B13tuOo1T+C3NEQyevIPylO+PEzqMk/Ov8/20N1yj9Ns20zNmHUPw0DYJC+Dsg/sxc0ofDKyD8VVwWofM3JP+z2UfLFWNU/MMoo3uneyD8NrTbbiqPJP4sR6Q0jgso/exxy4wbp1T/TQ+ZoDsPJP5ZWzmAihMo/tiUuWAd8yz/0Gi0LxvDJP4Y4DtJA0so/x5Aa4ohJzD9rtWxHR2PMPw==",
        "encoding": "base64",
        "path": [
         "_data",
         6,
         "y",
         "value"
        ]
       },
       {
        "data": "nTEp+wwr1j+PPy9va/zKP+9+AHb3/ss/YAv2+UiyzD9dZGHcv2rVPy9dsDgY+sk/jWb8s5XTyj/aMvqFzdLLPy3jT6yDyNU/QyXvktLHyj8PIMKMoAPMPzjXtAZM/cw/NuKJntu81j+w58EhJh3MPwy7iBGVzcw/VPSuh4WjzT8iVdELIC/MPxgAbmSUz8w/055kmrgIzj9yRy6UzXLOPw==",
        "encoding": "base64",
        "path": [
         "_data",
         7,
         "y",
         "value"
        ]
       },
       {
        "data": "Z9c8j+7Y1j8nFkdIo0vNP4s2ijTLJc4/2iG+oXPUzj8HSn2+h2TWP3RfOxQ5jcw/3hJWXKiQzT/+m1r0/ojOPwv0T8rmQ9c/CfG9m4rozT8PdBejRbTOPx8lX4xVgc8/AeWbwm+n1z8hTNRRjN/OP2wBgzMmZc8/87oFHR8N0D95yoebiD7PPyYVibjVqs8/0tsrEBtt0D+/QYuWnJLQPw==",
        "encoding": "base64",
        "path": [
         "_data",
         8,
         "y",
         "value"
        ]
       },
       {
        "data": "mkCRQNhu1z/36Uz9RrDOP1vMc7SmOc8/suWVA6Tpzz/G0cyEGqvWPx3osOVBw80/shyJHWelzj/d8rEyg07PP+h5s3dbj9c/RpdkNScOzz84zrdMuK3PP5NjI1e6OtA/1XqBA94F2D/8yVBULvXPP28vNqRDSdA/Kd7+bnqj0D+8rgd72yzQP9RXYDs+WdA/yaWqw3n50D/E67HigTXRPw==",
        "encoding": "base64",
        "path": [
         "_data",
         9,
         "y",
         "value"
        ]
       },
       {
        "data": "sicGNgPs1z8oDUqOD/zPP17y5/r9btA/Gh3l8Fe10D9eyNzH/f/WP28o+Phcw84/3TDOZ0ufzz8hNITiDj3QPzir6sSexNc/lcjzAV68zz+nmDLWOWbQP+Qvyan+wNA/2LCyTmZr2D9N810HjWzQPwjBCC2ustA/IGoNrYob0T9mfSiti3DQP6PW+sp789A/+PcHBLmO0T+4vRuAIK3RPw==",
        "encoding": "base64",
        "path": [
         "_data",
         10,
         "y",
         "value"
        ]
       },
       {
        "data": "Y2LdPkq+2D9R49+yAA/RP/Do+3xOedE/5zaaRRDd0T8/o6dba2DXP112BxBhRtA/h/ccfwqe0D87USojwh/RP6vS9s79T9g/UmdTCOqp0D9ym5g6VBTRP01nV0dXX9E/GZ2wCCTb2D8yBK4mCfbQPxNEtnTvQdE/Q3eFmsqu0T/oH5+V+CbRP+rZ7/XjY9E/F8/6Zer40T+bFMf+KjbSPw==",
        "encoding": "base64",
        "path": [
         "_data",
         11,
         "y",
         "value"
        ]
       },
       {
        "data": "7Y+U2UR22T9hL5ahES3SPzML10EOi9I/bIt2pCjl0j/zMpIKJYTYPxm4/7XSQtE/v61FrKDW0T8teP/lxmHSP2IkGYl15tg/6DbuhZag0T9vNl+/SN7RP/fvIFnmWNI/r7L6JeWU2T8QwO7ef+PRP7IDz16iJdI/IDPGUkGc0j80l4nBvdTRPwWxOtcIR9I/9eeN7pnm0j88EqSesvHSPw==",
        "encoding": "base64",
        "path": [
         "_data",
         12,
         "y",
         "value"
        ]
       }
      ],
      "model_module": "plotlywidget",
      "model_module_version": "4.6.0",
      "model_name": "FigureModel",
      "state": {
       "_config": {
        "plotlyServerURL": "https://plot.ly"
       },
       "_data": [
        {
         "hovertemplate": "%{text}",
         "name": "0",
         "showlegend": true,
         "text": [
          "bad4: 0.8078577185389872<br>Experiment id:<br> ALG_005_EXP_001-PatchMatch-MacLean_et_al-Numba<br>Scene: teddy<br>kernel size: 1x1<br>kernel spec: None<br>match:0<br>bad4: 0.8078577185389872<br>IMG res:450x375",
          "bad4: 0.8078577185389872<br>Experiment id:<br> ALG_005_EXP_001-PatchMatch-MacLean_et_al-Numba<br>Scene: teddy<br>kernel size: 1x1<br>kernel spec: None<br>match:0<br>bad4: 0.8078577185389872<br>IMG res:450x375",
          "bad4: 0.7939126724505761<br>Experiment id:<br> ALG_005_EXP_001-PatchMatch-MacLean_et_al-Numba<br>Scene: teddy<br>kernel size: 1x3<br>kernel spec: None<br>match:0<br>bad4: 0.7939126724505761<br>IMG res:450x375",
          "bad4: 0.7939126724505761<br>Experiment id:<br> ALG_005_EXP_001-PatchMatch-MacLean_et_al-Numba<br>Scene: teddy<br>kernel size: 1x3<br>kernel spec: None<br>match:0<br>bad4: 0.7939126724505761<br>IMG res:450x375",
          "bad4: 0.7933031269683241<br>Experiment id:<br> ALG_005_EXP_001-PatchMatch-MacLean_et_al-Numba<br>Scene: teddy<br>kernel size: 1x5<br>kernel spec: None<br>match:0<br>bad4: 0.7933031269683241<br>IMG res:450x375",
          "bad4: 0.7933031269683241<br>Experiment id:<br> ALG_005_EXP_001-PatchMatch-MacLean_et_al-Numba<br>Scene: teddy<br>kernel size: 1x5<br>kernel spec: None<br>match:0<br>bad4: 0.7933031269683241<br>IMG res:450x375",
          "bad4: 0.7954094452458839<br>Experiment id:<br> ALG_005_EXP_001-PatchMatch-MacLean_et_al-Numba<br>Scene: teddy<br>kernel size: 1x7<br>kernel spec: None<br>match:0<br>bad4: 0.7954094452458839<br>IMG res:450x375",
          "bad4: 0.7954094452458839<br>Experiment id:<br> ALG_005_EXP_001-PatchMatch-MacLean_et_al-Numba<br>Scene: teddy<br>kernel size: 1x7<br>kernel spec: None<br>match:0<br>bad4: 0.7954094452458839<br>IMG res:450x375",
          "bad4: 0.8143595370163426<br>Experiment id:<br> ALG_005_EXP_001-PatchMatch-MacLean_et_al-Numba<br>Scene: teddy<br>kernel size: 3x1<br>kernel spec: None<br>match:0<br>bad4: 0.8143595370163426<br>IMG res:450x375",
          "bad4: 0.8143595370163426<br>Experiment id:<br> ALG_005_EXP_001-PatchMatch-MacLean_et_al-Numba<br>Scene: teddy<br>kernel size: 3x1<br>kernel spec: None<br>match:0<br>bad4: 0.8143595370163426<br>IMG res:450x375",
          "bad4: 0.7975428544337662<br>Experiment id:<br> ALG_005_EXP_001-PatchMatch-MacLean_et_al-Numba<br>Scene: teddy<br>kernel size: 3x3<br>kernel spec: None<br>match:0<br>bad4: 0.7975428544337662<br>IMG res:450x375",
          "bad4: 0.7975428544337662<br>Experiment id:<br> ALG_005_EXP_001-PatchMatch-MacLean_et_al-Numba<br>Scene: teddy<br>kernel size: 3x3<br>kernel spec: None<br>match:0<br>bad4: 0.7975428544337662<br>IMG res:450x375",
          "bad4: 0.7906211268464148<br>Experiment id:<br> ALG_005_EXP_001-PatchMatch-MacLean_et_al-Numba<br>Scene: teddy<br>kernel size: 3x5<br>kernel spec: None<br>match:0<br>bad4: 0.7906211268464148<br>IMG res:450x375",
          "bad4: 0.7906211268464148<br>Experiment id:<br> ALG_005_EXP_001-PatchMatch-MacLean_et_al-Numba<br>Scene: teddy<br>kernel size: 3x5<br>kernel spec: None<br>match:0<br>bad4: 0.7906211268464148<br>IMG res:450x375",
          "bad4: 0.7977121726232805<br>Experiment id:<br> ALG_005_EXP_001-PatchMatch-MacLean_et_al-Numba<br>Scene: teddy<br>kernel size: 3x7<br>kernel spec: None<br>match:0<br>bad4: 0.7977121726232805<br>IMG res:450x375",
          "bad4: 0.7977121726232805<br>Experiment id:<br> ALG_005_EXP_001-PatchMatch-MacLean_et_al-Numba<br>Scene: teddy<br>kernel size: 3x7<br>kernel spec: None<br>match:0<br>bad4: 0.7977121726232805<br>IMG res:450x375",
          "bad4: 0.8161136734597124<br>Experiment id:<br> ALG_005_EXP_001-PatchMatch-MacLean_et_al-Numba<br>Scene: teddy<br>kernel size: 5x1<br>kernel spec: None<br>match:0<br>bad4: 0.8161136734597124<br>IMG res:450x375",
          "bad4: 0.8161136734597124<br>Experiment id:<br> ALG_005_EXP_001-PatchMatch-MacLean_et_al-Numba<br>Scene: teddy<br>kernel size: 5x1<br>kernel spec: None<br>match:0<br>bad4: 0.8161136734597124<br>IMG res:450x375",
          "bad4: 0.7989989908635905<br>Experiment id:<br> ALG_005_EXP_001-PatchMatch-MacLean_et_al-Numba<br>Scene: teddy<br>kernel size: 5x3<br>kernel spec: None<br>match:0<br>bad4: 0.7989989908635905<br>IMG res:450x375",
          "bad4: 0.7989989908635905<br>Experiment id:<br> ALG_005_EXP_001-PatchMatch-MacLean_et_al-Numba<br>Scene: teddy<br>kernel size: 5x3<br>kernel spec: None<br>match:0<br>bad4: 0.7989989908635905<br>IMG res:450x375",
          "bad4: 0.7922533541933343<br>Experiment id:<br> ALG_005_EXP_001-PatchMatch-MacLean_et_al-Numba<br>Scene: teddy<br>kernel size: 5x5<br>kernel spec: None<br>match:0<br>bad4: 0.7922533541933343<br>IMG res:450x375",
          "bad4: 0.7922533541933343<br>Experiment id:<br> ALG_005_EXP_001-PatchMatch-MacLean_et_al-Numba<br>Scene: teddy<br>kernel size: 5x5<br>kernel spec: None<br>match:0<br>bad4: 0.7922533541933343<br>IMG res:450x375",
          "bad4: 0.801416854609857<br>Experiment id:<br> ALG_005_EXP_001-PatchMatch-MacLean_et_al-Numba<br>Scene: teddy<br>kernel size: 5x7<br>kernel spec: None<br>match:0<br>bad4: 0.801416854609857<br>IMG res:450x375",
          "bad4: 0.801416854609857<br>Experiment id:<br> ALG_005_EXP_001-PatchMatch-MacLean_et_al-Numba<br>Scene: teddy<br>kernel size: 5x7<br>kernel spec: None<br>match:0<br>bad4: 0.801416854609857<br>IMG res:450x375",
          "bad4: 0.8139396279063468<br>Experiment id:<br> ALG_005_EXP_001-PatchMatch-MacLean_et_al-Numba<br>Scene: teddy<br>kernel size: 7x1<br>kernel spec: None<br>match:0<br>bad4: 0.8139396279063468<br>IMG res:450x375",
          "bad4: 0.8139396279063468<br>Experiment id:<br> ALG_005_EXP_001-PatchMatch-MacLean_et_al-Numba<br>Scene: teddy<br>kernel size: 7x1<br>kernel spec: None<br>match:0<br>bad4: 0.8139396279063468<br>IMG res:450x375",
          "bad4: 0.7974615817027991<br>Experiment id:<br> ALG_005_EXP_001-PatchMatch-MacLean_et_al-Numba<br>Scene: teddy<br>kernel size: 7x3<br>kernel spec: None<br>match:0<br>bad4: 0.7974615817027991<br>IMG res:450x375",
          "bad4: 0.7974615817027991<br>Experiment id:<br> ALG_005_EXP_001-PatchMatch-MacLean_et_al-Numba<br>Scene: teddy<br>kernel size: 7x3<br>kernel spec: None<br>match:0<br>bad4: 0.7974615817027991<br>IMG res:450x375",
          "bad4: 0.80016390000745<br>Experiment id:<br> ALG_005_EXP_001-PatchMatch-MacLean_et_al-Numba<br>Scene: teddy<br>kernel size: 7x5<br>kernel spec: None<br>match:0<br>bad4: 0.80016390000745<br>IMG res:450x375",
          "bad4: 0.80016390000745<br>Experiment id:<br> ALG_005_EXP_001-PatchMatch-MacLean_et_al-Numba<br>Scene: teddy<br>kernel size: 7x5<br>kernel spec: None<br>match:0<br>bad4: 0.80016390000745<br>IMG res:450x375",
          "bad4: 0.8016471273475967<br>Experiment id:<br> ALG_005_EXP_001-PatchMatch-MacLean_et_al-Numba<br>Scene: teddy<br>kernel size: 7x7<br>kernel spec: None<br>match:0<br>bad4: 0.8016471273475967<br>IMG res:450x375",
          "bad4: 0.8016471273475967<br>Experiment id:<br> ALG_005_EXP_001-PatchMatch-MacLean_et_al-Numba<br>Scene: teddy<br>kernel size: 7x7<br>kernel spec: None<br>match:0<br>bad4: 0.8016471273475967<br>IMG res:450x375",
          "bad4: 0.8049657638620802<br>Experiment id:<br> ALG_005_EXP_001-PatchMatch-MacLean_et_al-Numba<br>Scene: teddy<br>kernel size: 9x3<br>kernel spec: None<br>match:0<br>bad4: 0.8049657638620802<br>IMG res:450x375",
          "bad4: 0.8049657638620802<br>Experiment id:<br> ALG_005_EXP_001-PatchMatch-MacLean_et_al-Numba<br>Scene: teddy<br>kernel size: 9x3<br>kernel spec: None<br>match:0<br>bad4: 0.8049657638620802<br>IMG res:450x375",
          "bad4: 0.8068824457673839<br>Experiment id:<br> ALG_005_EXP_001-PatchMatch-MacLean_et_al-Numba<br>Scene: teddy<br>kernel size: 11x3<br>kernel spec: None<br>match:0<br>bad4: 0.8068824457673839<br>IMG res:450x375",
          "bad4: 0.8068824457673839<br>Experiment id:<br> ALG_005_EXP_001-PatchMatch-MacLean_et_al-Numba<br>Scene: teddy<br>kernel size: 11x3<br>kernel spec: None<br>match:0<br>bad4: 0.8068824457673839<br>IMG res:450x375",
          "bad4: 0.8088804004036546<br>Experiment id:<br> ALG_005_EXP_001-PatchMatch-MacLean_et_al-Numba<br>Scene: teddy<br>kernel size: 13x3<br>kernel spec: None<br>match:0<br>bad4: 0.8088804004036546<br>IMG res:450x375",
          "bad4: 0.8088804004036546<br>Experiment id:<br> ALG_005_EXP_001-PatchMatch-MacLean_et_al-Numba<br>Scene: teddy<br>kernel size: 13x3<br>kernel spec: None<br>match:0<br>bad4: 0.8088804004036546<br>IMG res:450x375",
          "bad4: 0.8134926278860285<br>Experiment id:<br> ALG_005_EXP_001-PatchMatch-MacLean_et_al-Numba<br>Scene: teddy<br>kernel size: 15x3<br>kernel spec: None<br>match:0<br>bad4: 0.8134926278860285<br>IMG res:450x375",
          "bad4: 0.8134926278860285<br>Experiment id:<br> ALG_005_EXP_001-PatchMatch-MacLean_et_al-Numba<br>Scene: teddy<br>kernel size: 15x3<br>kernel spec: None<br>match:0<br>bad4: 0.8134926278860285<br>IMG res:450x375"
         ],
         "type": "scatter",
         "uid": "ffb48aff-e2c0-4329-8010-fc93b02b724b",
         "x": [
          "1x1",
          "1x1",
          "1x3",
          "1x3",
          "1x5",
          "1x5",
          "1x7",
          "1x7",
          "3x1",
          "3x1",
          "3x3",
          "3x3",
          "3x5",
          "3x5",
          "3x7",
          "3x7",
          "5x1",
          "5x1",
          "5x3",
          "5x3",
          "5x5",
          "5x5",
          "5x7",
          "5x7",
          "7x1",
          "7x1",
          "7x3",
          "7x3",
          "7x5",
          "7x5",
          "7x7",
          "7x7",
          "9x3",
          "9x3",
          "11x3",
          "11x3",
          "13x3",
          "13x3",
          "15x3",
          "15x3"
         ],
         "y": {
          "dtype": "float64",
          "shape": [
           40
          ]
         }
        },
        {
         "hovertemplate": "%{text}",
         "name": "120",
         "showlegend": true,
         "text": [
          "bad4: 0.4149988824999492<br>Experiment id:<br> ALG_005_EXP_001-PatchMatch-MacLean_et_al-Numba<br>Scene: teddy<br>kernel size: 1x1<br>kernel spec: None<br>match:120<br>bad4: 0.4149988824999492<br>IMG res:450x375",
          "bad4: 0.31257492329886016<br>Experiment id:<br> ALG_005_EXP_001-PatchMatch-MacLean_et_al-Numba<br>Scene: teddy<br>kernel size: 1x3<br>kernel spec: None<br>match:120<br>bad4: 0.31257492329886016<br>IMG res:450x375",
          "bad4: 0.3158732416306019<br>Experiment id:<br> ALG_005_EXP_001-PatchMatch-MacLean_et_al-Numba<br>Scene: teddy<br>kernel size: 1x5<br>kernel spec: None<br>match:120<br>bad4: 0.3158732416306019<br>IMG res:450x375",
          "bad4: 0.3200994236408829<br>Experiment id:<br> ALG_005_EXP_001-PatchMatch-MacLean_et_al-Numba<br>Scene: teddy<br>kernel size: 1x7<br>kernel spec: None<br>match:120<br>bad4: 0.3200994236408829<br>IMG res:450x375",
          "bad4: 0.4008642000392818<br>Experiment id:<br> ALG_005_EXP_001-PatchMatch-MacLean_et_al-Numba<br>Scene: teddy<br>kernel size: 3x1<br>kernel spec: None<br>match:120<br>bad4: 0.4008642000392818<br>IMG res:450x375",
          "bad4: 0.2986840590310936<br>Experiment id:<br> ALG_005_EXP_001-PatchMatch-MacLean_et_al-Numba<br>Scene: teddy<br>kernel size: 3x3<br>kernel spec: None<br>match:120<br>bad4: 0.2986840590310936<br>IMG res:450x375",
          "bad4: 0.3056870593494118<br>Experiment id:<br> ALG_005_EXP_001-PatchMatch-MacLean_et_al-Numba<br>Scene: teddy<br>kernel size: 3x5<br>kernel spec: None<br>match:120<br>bad4: 0.3056870593494118<br>IMG res:450x375",
          "bad4: 0.3110578323208106<br>Experiment id:<br> ALG_005_EXP_001-PatchMatch-MacLean_et_al-Numba<br>Scene: teddy<br>kernel size: 3x7<br>kernel spec: None<br>match:120<br>bad4: 0.3110578323208106<br>IMG res:450x375",
          "bad4: 0.4054222457010112<br>Experiment id:<br> ALG_005_EXP_001-PatchMatch-MacLean_et_al-Numba<br>Scene: teddy<br>kernel size: 5x1<br>kernel spec: None<br>match:120<br>bad4: 0.4054222457010112<br>IMG res:450x375",
          "bad4: 0.29237864965357496<br>Experiment id:<br> ALG_005_EXP_001-PatchMatch-MacLean_et_al-Numba<br>Scene: teddy<br>kernel size: 5x3<br>kernel spec: None<br>match:120<br>bad4: 0.29237864965357496<br>IMG res:450x375",
          "bad4: 0.3008039227638147<br>Experiment id:<br> ALG_005_EXP_001-PatchMatch-MacLean_et_al-Numba<br>Scene: teddy<br>kernel size: 5x5<br>kernel spec: None<br>match:120<br>bad4: 0.3008039227638147<br>IMG res:450x375",
          "bad4: 0.30610019573182706<br>Experiment id:<br> ALG_005_EXP_001-PatchMatch-MacLean_et_al-Numba<br>Scene: teddy<br>kernel size: 5x7<br>kernel spec: None<br>match:120<br>bad4: 0.30610019573182706<br>IMG res:450x375",
          "bad4: 0.4146602461209203<br>Experiment id:<br> ALG_005_EXP_001-PatchMatch-MacLean_et_al-Numba<br>Scene: teddy<br>kernel size: 7x1<br>kernel spec: None<br>match:120<br>bad4: 0.4146602461209203<br>IMG res:450x375",
          "bad4: 0.2978916499041659<br>Experiment id:<br> ALG_005_EXP_001-PatchMatch-MacLean_et_al-Numba<br>Scene: teddy<br>kernel size: 7x3<br>kernel spec: None<br>match:120<br>bad4: 0.2978916499041659<br>IMG res:450x375",
          "bad4: 0.3036416956200771<br>Experiment id:<br> ALG_005_EXP_001-PatchMatch-MacLean_et_al-Numba<br>Scene: teddy<br>kernel size: 7x5<br>kernel spec: None<br>match:120<br>bad4: 0.3036416956200771<br>IMG res:450x375",
          "bad4: 0.31592065072366593<br>Experiment id:<br> ALG_005_EXP_001-PatchMatch-MacLean_et_al-Numba<br>Scene: teddy<br>kernel size: 7x7<br>kernel spec: None<br>match:120<br>bad4: 0.31592065072366593<br>IMG res:450x375",
          "bad4: 0.2986163317552878<br>Experiment id:<br> ALG_005_EXP_001-PatchMatch-MacLean_et_al-Numba<br>Scene: teddy<br>kernel size: 9x3<br>kernel spec: None<br>match:120<br>bad4: 0.2986163317552878<br>IMG res:450x375",
          "bad4: 0.3072651048756866<br>Experiment id:<br> ALG_005_EXP_001-PatchMatch-MacLean_et_al-Numba<br>Scene: teddy<br>kernel size: 11x3<br>kernel spec: None<br>match:120<br>bad4: 0.3072651048756866<br>IMG res:450x375",
          "bad4: 0.3134689233394965<br>Experiment id:<br> ALG_005_EXP_001-PatchMatch-MacLean_et_al-Numba<br>Scene: teddy<br>kernel size: 13x3<br>kernel spec: None<br>match:120<br>bad4: 0.3134689233394965<br>IMG res:450x375",
          "bad4: 0.31488442340383743<br>Experiment id:<br> ALG_005_EXP_001-PatchMatch-MacLean_et_al-Numba<br>Scene: teddy<br>kernel size: 15x3<br>kernel spec: None<br>match:120<br>bad4: 0.31488442340383743<br>IMG res:450x375"
         ],
         "type": "scatter",
         "uid": "ab02c9c5-a8f0-461d-af39-3198f628df94",
         "x": [
          "1x1",
          "1x3",
          "1x5",
          "1x7",
          "3x1",
          "3x3",
          "3x5",
          "3x7",
          "5x1",
          "5x3",
          "5x5",
          "5x7",
          "7x1",
          "7x3",
          "7x5",
          "7x7",
          "9x3",
          "11x3",
          "13x3",
          "15x3"
         ],
         "y": {
          "dtype": "float64",
          "shape": [
           20
          ]
         }
        },
        {
         "hovertemplate": "%{text}",
         "name": "10",
         "showlegend": true,
         "text": [
          "bad4: 0.3409052427684201<br>Experiment id:<br> ALG_005_EXP_001-PatchMatch-MacLean_et_al-Numba<br>Scene: teddy<br>kernel size: 1x1<br>kernel spec: None<br>match:10<br>bad4: 0.3409052427684201<br>IMG res:450x375",
          "bad4: 0.3409052427684201<br>Experiment id:<br> ALG_005_EXP_001-PatchMatch-MacLean_et_al-Numba<br>Scene: teddy<br>kernel size: 1x1<br>kernel spec: None<br>match:10<br>bad4: 0.3409052427684201<br>IMG res:450x375",
          "bad4: 0.24423132928324226<br>Experiment id:<br> ALG_005_EXP_001-PatchMatch-MacLean_et_al-Numba<br>Scene: teddy<br>kernel size: 1x3<br>kernel spec: None<br>match:10<br>bad4: 0.24423132928324226<br>IMG res:450x375",
          "bad4: 0.24423132928324226<br>Experiment id:<br> ALG_005_EXP_001-PatchMatch-MacLean_et_al-Numba<br>Scene: teddy<br>kernel size: 1x3<br>kernel spec: None<br>match:10<br>bad4: 0.24423132928324226<br>IMG res:450x375",
          "bad4: 0.242355283743422<br>Experiment id:<br> ALG_005_EXP_001-PatchMatch-MacLean_et_al-Numba<br>Scene: teddy<br>kernel size: 1x5<br>kernel spec: None<br>match:10<br>bad4: 0.242355283743422<br>IMG res:450x375",
          "bad4: 0.242355283743422<br>Experiment id:<br> ALG_005_EXP_001-PatchMatch-MacLean_et_al-Numba<br>Scene: teddy<br>kernel size: 1x5<br>kernel spec: None<br>match:10<br>bad4: 0.242355283743422<br>IMG res:450x375",
          "bad4: 0.2438317383559881<br>Experiment id:<br> ALG_005_EXP_001-PatchMatch-MacLean_et_al-Numba<br>Scene: teddy<br>kernel size: 1x7<br>kernel spec: None<br>match:10<br>bad4: 0.2438317383559881<br>IMG res:450x375",
          "bad4: 0.2438317383559881<br>Experiment id:<br> ALG_005_EXP_001-PatchMatch-MacLean_et_al-Numba<br>Scene: teddy<br>kernel size: 1x7<br>kernel spec: None<br>match:10<br>bad4: 0.2438317383559881<br>IMG res:450x375",
          "bad4: 0.3325951060270503<br>Experiment id:<br> ALG_005_EXP_001-PatchMatch-MacLean_et_al-Numba<br>Scene: teddy<br>kernel size: 3x1<br>kernel spec: None<br>match:10<br>bad4: 0.3325951060270503<br>IMG res:450x375",
          "bad4: 0.3325951060270503<br>Experiment id:<br> ALG_005_EXP_001-PatchMatch-MacLean_et_al-Numba<br>Scene: teddy<br>kernel size: 3x1<br>kernel spec: None<br>match:10<br>bad4: 0.3325951060270503<br>IMG res:450x375",
          "bad4: 0.23479014703591575<br>Experiment id:<br> ALG_005_EXP_001-PatchMatch-MacLean_et_al-Numba<br>Scene: teddy<br>kernel size: 3x3<br>kernel spec: None<br>match:10<br>bad4: 0.23479014703591575<br>IMG res:450x375",
          "bad4: 0.23479014703591575<br>Experiment id:<br> ALG_005_EXP_001-PatchMatch-MacLean_et_al-Numba<br>Scene: teddy<br>kernel size: 3x3<br>kernel spec: None<br>match:10<br>bad4: 0.23479014703591575<br>IMG res:450x375",
          "bad4: 0.2349052834047856<br>Experiment id:<br> ALG_005_EXP_001-PatchMatch-MacLean_et_al-Numba<br>Scene: teddy<br>kernel size: 3x5<br>kernel spec: None<br>match:10<br>bad4: 0.2349052834047856<br>IMG res:450x375",
          "bad4: 0.2349052834047856<br>Experiment id:<br> ALG_005_EXP_001-PatchMatch-MacLean_et_al-Numba<br>Scene: teddy<br>kernel size: 3x5<br>kernel spec: None<br>match:10<br>bad4: 0.2349052834047856<br>IMG res:450x375",
          "bad4: 0.2329953742270625<br>Experiment id:<br> ALG_005_EXP_001-PatchMatch-MacLean_et_al-Numba<br>Scene: teddy<br>kernel size: 3x7<br>kernel spec: None<br>match:10<br>bad4: 0.2329953742270625<br>IMG res:450x375",
          "bad4: 0.2329953742270625<br>Experiment id:<br> ALG_005_EXP_001-PatchMatch-MacLean_et_al-Numba<br>Scene: teddy<br>kernel size: 3x7<br>kernel spec: None<br>match:10<br>bad4: 0.2329953742270625<br>IMG res:450x375",
          "bad4: 0.34314024287001105<br>Experiment id:<br> ALG_005_EXP_001-PatchMatch-MacLean_et_al-Numba<br>Scene: teddy<br>kernel size: 5x1<br>kernel spec: None<br>match:10<br>bad4: 0.34314024287001105<br>IMG res:450x375",
          "bad4: 0.34314024287001105<br>Experiment id:<br> ALG_005_EXP_001-PatchMatch-MacLean_et_al-Numba<br>Scene: teddy<br>kernel size: 5x1<br>kernel spec: None<br>match:10<br>bad4: 0.34314024287001105<br>IMG res:450x375",
          "bad4: 0.2461751020988683<br>Experiment id:<br> ALG_005_EXP_001-PatchMatch-MacLean_et_al-Numba<br>Scene: teddy<br>kernel size: 5x3<br>kernel spec: None<br>match:10<br>bad4: 0.2461751020988683<br>IMG res:450x375",
          "bad4: 0.2461751020988683<br>Experiment id:<br> ALG_005_EXP_001-PatchMatch-MacLean_et_al-Numba<br>Scene: teddy<br>kernel size: 5x3<br>kernel spec: None<br>match:10<br>bad4: 0.2461751020988683<br>IMG res:450x375",
          "bad4: 0.2428903292222877<br>Experiment id:<br> ALG_005_EXP_001-PatchMatch-MacLean_et_al-Numba<br>Scene: teddy<br>kernel size: 5x5<br>kernel spec: None<br>match:10<br>bad4: 0.2428903292222877<br>IMG res:450x375",
          "bad4: 0.2428903292222877<br>Experiment id:<br> ALG_005_EXP_001-PatchMatch-MacLean_et_al-Numba<br>Scene: teddy<br>kernel size: 5x5<br>kernel spec: None<br>match:10<br>bad4: 0.2428903292222877<br>IMG res:450x375",
          "bad4: 0.2419353746334261<br>Experiment id:<br> ALG_005_EXP_001-PatchMatch-MacLean_et_al-Numba<br>Scene: teddy<br>kernel size: 5x7<br>kernel spec: None<br>match:10<br>bad4: 0.2419353746334261<br>IMG res:450x375",
          "bad4: 0.2419353746334261<br>Experiment id:<br> ALG_005_EXP_001-PatchMatch-MacLean_et_al-Numba<br>Scene: teddy<br>kernel size: 5x7<br>kernel spec: None<br>match:10<br>bad4: 0.2419353746334261<br>IMG res:450x375",
          "bad4: 0.3547893343086061<br>Experiment id:<br> ALG_005_EXP_001-PatchMatch-MacLean_et_al-Numba<br>Scene: teddy<br>kernel size: 7x1<br>kernel spec: None<br>match:10<br>bad4: 0.3547893343086061<br>IMG res:450x375",
          "bad4: 0.3547893343086061<br>Experiment id:<br> ALG_005_EXP_001-PatchMatch-MacLean_et_al-Numba<br>Scene: teddy<br>kernel size: 7x1<br>kernel spec: None<br>match:10<br>bad4: 0.3547893343086061<br>IMG res:450x375",
          "bad4: 0.2582915117405233<br>Experiment id:<br> ALG_005_EXP_001-PatchMatch-MacLean_et_al-Numba<br>Scene: teddy<br>kernel size: 7x3<br>kernel spec: None<br>match:10<br>bad4: 0.2582915117405233<br>IMG res:450x375",
          "bad4: 0.2582915117405233<br>Experiment id:<br> ALG_005_EXP_001-PatchMatch-MacLean_et_al-Numba<br>Scene: teddy<br>kernel size: 7x3<br>kernel spec: None<br>match:10<br>bad4: 0.2582915117405233<br>IMG res:450x375",
          "bad4: 0.25300201150009144<br>Experiment id:<br> ALG_005_EXP_001-PatchMatch-MacLean_et_al-Numba<br>Scene: teddy<br>kernel size: 7x5<br>kernel spec: None<br>match:10<br>bad4: 0.25300201150009144<br>IMG res:450x375",
          "bad4: 0.25300201150009144<br>Experiment id:<br> ALG_005_EXP_001-PatchMatch-MacLean_et_al-Numba<br>Scene: teddy<br>kernel size: 7x5<br>kernel spec: None<br>match:10<br>bad4: 0.25300201150009144<br>IMG res:450x375",
          "bad4: 0.2470487839567629<br>Experiment id:<br> ALG_005_EXP_001-PatchMatch-MacLean_et_al-Numba<br>Scene: teddy<br>kernel size: 7x7<br>kernel spec: None<br>match:10<br>bad4: 0.2470487839567629<br>IMG res:450x375",
          "bad4: 0.2470487839567629<br>Experiment id:<br> ALG_005_EXP_001-PatchMatch-MacLean_et_al-Numba<br>Scene: teddy<br>kernel size: 7x7<br>kernel spec: None<br>match:10<br>bad4: 0.2470487839567629<br>IMG res:450x375",
          "bad4: 0.263486193794827<br>Experiment id:<br> ALG_005_EXP_001-PatchMatch-MacLean_et_al-Numba<br>Scene: teddy<br>kernel size: 9x3<br>kernel spec: None<br>match:10<br>bad4: 0.263486193794827<br>IMG res:450x375",
          "bad4: 0.263486193794827<br>Experiment id:<br> ALG_005_EXP_001-PatchMatch-MacLean_et_al-Numba<br>Scene: teddy<br>kernel size: 9x3<br>kernel spec: None<br>match:10<br>bad4: 0.263486193794827<br>IMG res:450x375",
          "bad4: 0.2730425124110233<br>Experiment id:<br> ALG_005_EXP_001-PatchMatch-MacLean_et_al-Numba<br>Scene: teddy<br>kernel size: 11x3<br>kernel spec: None<br>match:10<br>bad4: 0.2730425124110233<br>IMG res:450x375",
          "bad4: 0.2730425124110233<br>Experiment id:<br> ALG_005_EXP_001-PatchMatch-MacLean_et_al-Numba<br>Scene: teddy<br>kernel size: 11x3<br>kernel spec: None<br>match:10<br>bad4: 0.2730425124110233<br>IMG res:450x375",
          "bad4: 0.2841159220052692<br>Experiment id:<br> ALG_005_EXP_001-PatchMatch-MacLean_et_al-Numba<br>Scene: teddy<br>kernel size: 13x3<br>kernel spec: None<br>match:10<br>bad4: 0.2841159220052692<br>IMG res:450x375",
          "bad4: 0.2841159220052692<br>Experiment id:<br> ALG_005_EXP_001-PatchMatch-MacLean_et_al-Numba<br>Scene: teddy<br>kernel size: 13x3<br>kernel spec: None<br>match:10<br>bad4: 0.2841159220052692<br>IMG res:450x375",
          "bad4: 0.29147110415777744<br>Experiment id:<br> ALG_005_EXP_001-PatchMatch-MacLean_et_al-Numba<br>Scene: teddy<br>kernel size: 15x3<br>kernel spec: None<br>match:10<br>bad4: 0.29147110415777744<br>IMG res:450x375",
          "bad4: 0.29147110415777744<br>Experiment id:<br> ALG_005_EXP_001-PatchMatch-MacLean_et_al-Numba<br>Scene: teddy<br>kernel size: 15x3<br>kernel spec: None<br>match:10<br>bad4: 0.29147110415777744<br>IMG res:450x375"
         ],
         "type": "scatter",
         "uid": "11e21de2-4fa8-4b34-87de-5e06168f5c5b",
         "x": [
          "1x1",
          "1x1",
          "1x3",
          "1x3",
          "1x5",
          "1x5",
          "1x7",
          "1x7",
          "3x1",
          "3x1",
          "3x3",
          "3x3",
          "3x5",
          "3x5",
          "3x7",
          "3x7",
          "5x1",
          "5x1",
          "5x3",
          "5x3",
          "5x5",
          "5x5",
          "5x7",
          "5x7",
          "7x1",
          "7x1",
          "7x3",
          "7x3",
          "7x5",
          "7x5",
          "7x7",
          "7x7",
          "9x3",
          "9x3",
          "11x3",
          "11x3",
          "13x3",
          "13x3",
          "15x3",
          "15x3"
         ],
         "y": {
          "dtype": "float64",
          "shape": [
           40
          ]
         }
        },
        {
         "hovertemplate": "%{text}",
         "name": "20",
         "showlegend": true,
         "text": [
          "bad4: 0.3327102423959201<br>Experiment id:<br> ALG_005_EXP_001-PatchMatch-MacLean_et_al-Numba<br>Scene: teddy<br>kernel size: 1x1<br>kernel spec: None<br>match:20<br>bad4: 0.3327102423959201<br>IMG res:450x375",
          "bad4: 0.22402151018279592<br>Experiment id:<br> ALG_005_EXP_001-PatchMatch-MacLean_et_al-Numba<br>Scene: teddy<br>kernel size: 1x3<br>kernel spec: None<br>match:20<br>bad4: 0.22402151018279592<br>IMG res:450x375",
          "bad4: 0.20421128200960373<br>Experiment id:<br> ALG_005_EXP_001-PatchMatch-MacLean_et_al-Numba<br>Scene: teddy<br>kernel size: 1x5<br>kernel spec: None<br>match:20<br>bad4: 0.20421128200960373<br>IMG res:450x375",
          "bad4: 0.20152250916011405<br>Experiment id:<br> ALG_005_EXP_001-PatchMatch-MacLean_et_al-Numba<br>Scene: teddy<br>kernel size: 1x7<br>kernel spec: None<br>match:20<br>bad4: 0.20152250916011405<br>IMG res:450x375",
          "bad4: 0.3242646511029387<br>Experiment id:<br> ALG_005_EXP_001-PatchMatch-MacLean_et_al-Numba<br>Scene: teddy<br>kernel size: 3x1<br>kernel spec: None<br>match:20<br>bad4: 0.3242646511029387<br>IMG res:450x375",
          "bad4: 0.2178786462672112<br>Experiment id:<br> ALG_005_EXP_001-PatchMatch-MacLean_et_al-Numba<br>Scene: teddy<br>kernel size: 3x3<br>kernel spec: None<br>match:20<br>bad4: 0.2178786462672112<br>IMG res:450x375",
          "bad4: 0.19531191796872355<br>Experiment id:<br> ALG_005_EXP_001-PatchMatch-MacLean_et_al-Numba<br>Scene: teddy<br>kernel size: 3x5<br>kernel spec: None<br>match:20<br>bad4: 0.19531191796872355<br>IMG res:450x375",
          "bad4: 0.19648359984016364<br>Experiment id:<br> ALG_005_EXP_001-PatchMatch-MacLean_et_al-Numba<br>Scene: teddy<br>kernel size: 3x7<br>kernel spec: None<br>match:20<br>bad4: 0.19648359984016364<br>IMG res:450x375",
          "bad4: 0.3393271972421453<br>Experiment id:<br> ALG_005_EXP_001-PatchMatch-MacLean_et_al-Numba<br>Scene: teddy<br>kernel size: 5x1<br>kernel spec: None<br>match:20<br>bad4: 0.3393271972421453<br>IMG res:450x375",
          "bad4: 0.23035401047063686<br>Experiment id:<br> ALG_005_EXP_001-PatchMatch-MacLean_et_al-Numba<br>Scene: teddy<br>kernel size: 5x3<br>kernel spec: None<br>match:20<br>bad4: 0.23035401047063686<br>IMG res:450x375",
          "bad4: 0.20492241840556447<br>Experiment id:<br> ALG_005_EXP_001-PatchMatch-MacLean_et_al-Numba<br>Scene: teddy<br>kernel size: 5x5<br>kernel spec: None<br>match:20<br>bad4: 0.20492241840556447<br>IMG res:450x375",
          "bad4: 0.2032698728759033<br>Experiment id:<br> ALG_005_EXP_001-PatchMatch-MacLean_et_al-Numba<br>Scene: teddy<br>kernel size: 5x7<br>kernel spec: None<br>match:20<br>bad4: 0.2032698728759033<br>IMG res:450x375",
          "bad4: 0.3468246066738457<br>Experiment id:<br> ALG_005_EXP_001-PatchMatch-MacLean_et_al-Numba<br>Scene: teddy<br>kernel size: 7x1<br>kernel spec: None<br>match:20<br>bad4: 0.3468246066738457<br>IMG res:450x375",
          "bad4: 0.24032346546924846<br>Experiment id:<br> ALG_005_EXP_001-PatchMatch-MacLean_et_al-Numba<br>Scene: teddy<br>kernel size: 7x3<br>kernel spec: None<br>match:20<br>bad4: 0.24032346546924846<br>IMG res:450x375",
          "bad4: 0.2093924186087463<br>Experiment id:<br> ALG_005_EXP_001-PatchMatch-MacLean_et_al-Numba<br>Scene: teddy<br>kernel size: 7x5<br>kernel spec: None<br>match:20<br>bad4: 0.2093924186087463<br>IMG res:450x375",
          "bad4: 0.21166805507582068<br>Experiment id:<br> ALG_005_EXP_001-PatchMatch-MacLean_et_al-Numba<br>Scene: teddy<br>kernel size: 7x7<br>kernel spec: None<br>match:20<br>bad4: 0.21166805507582068<br>IMG res:450x375",
          "bad4: 0.2421046928229406<br>Experiment id:<br> ALG_005_EXP_001-PatchMatch-MacLean_et_al-Numba<br>Scene: teddy<br>kernel size: 9x3<br>kernel spec: None<br>match:20<br>bad4: 0.2421046928229406<br>IMG res:450x375",
          "bad4: 0.2486674658485212<br>Experiment id:<br> ALG_005_EXP_001-PatchMatch-MacLean_et_al-Numba<br>Scene: teddy<br>kernel size: 11x3<br>kernel spec: None<br>match:20<br>bad4: 0.2486674658485212<br>IMG res:450x375",
          "bad4: 0.25808832991310593<br>Experiment id:<br> ALG_005_EXP_001-PatchMatch-MacLean_et_al-Numba<br>Scene: teddy<br>kernel size: 13x3<br>kernel spec: None<br>match:20<br>bad4: 0.25808832991310593<br>IMG res:450x375",
          "bad4: 0.25879946630906664<br>Experiment id:<br> ALG_005_EXP_001-PatchMatch-MacLean_et_al-Numba<br>Scene: teddy<br>kernel size: 15x3<br>kernel spec: None<br>match:20<br>bad4: 0.25879946630906664<br>IMG res:450x375"
         ],
         "type": "scatter",
         "uid": "a4453e8e-b88d-4eec-975a-8e1091bdd514",
         "x": [
          "1x1",
          "1x3",
          "1x5",
          "1x7",
          "3x1",
          "3x3",
          "3x5",
          "3x7",
          "5x1",
          "5x3",
          "5x5",
          "5x7",
          "7x1",
          "7x3",
          "7x5",
          "7x7",
          "9x3",
          "11x3",
          "13x3",
          "15x3"
         ],
         "y": {
          "dtype": "float64",
          "shape": [
           20
          ]
         }
        },
        {
         "hovertemplate": "%{text}",
         "name": "30",
         "showlegend": true,
         "text": [
          "bad4: 0.3295880149812734<br>Experiment id:<br> ALG_005_EXP_001-PatchMatch-MacLean_et_al-Numba<br>Scene: teddy<br>kernel size: 1x1<br>kernel spec: None<br>match:30<br>bad4: 0.3295880149812734<br>IMG res:450x375",
          "bad4: 0.19180364508198386<br>Experiment id:<br> ALG_005_EXP_001-PatchMatch-MacLean_et_al-Numba<br>Scene: teddy<br>kernel size: 1x3<br>kernel spec: None<br>match:30<br>bad4: 0.19180364508198386<br>IMG res:450x375",
          "bad4: 0.18698823577219253<br>Experiment id:<br> ALG_005_EXP_001-PatchMatch-MacLean_et_al-Numba<br>Scene: teddy<br>kernel size: 1x5<br>kernel spec: None<br>match:30<br>bad4: 0.18698823577219253<br>IMG res:450x375",
          "bad4: 0.18913519041523594<br>Experiment id:<br> ALG_005_EXP_001-PatchMatch-MacLean_et_al-Numba<br>Scene: teddy<br>kernel size: 1x7<br>kernel spec: None<br>match:30<br>bad4: 0.18913519041523594<br>IMG res:450x375",
          "bad4: 0.3189751508625069<br>Experiment id:<br> ALG_005_EXP_001-PatchMatch-MacLean_et_al-Numba<br>Scene: teddy<br>kernel size: 3x1<br>kernel spec: None<br>match:30<br>bad4: 0.3189751508625069<br>IMG res:450x375",
          "bad4: 0.1897582813526492<br>Experiment id:<br> ALG_005_EXP_001-PatchMatch-MacLean_et_al-Numba<br>Scene: teddy<br>kernel size: 3x3<br>kernel spec: None<br>match:30<br>bad4: 0.1897582813526492<br>IMG res:450x375",
          "bad4: 0.18117723550805614<br>Experiment id:<br> ALG_005_EXP_001-PatchMatch-MacLean_et_al-Numba<br>Scene: teddy<br>kernel size: 3x5<br>kernel spec: None<br>match:30<br>bad4: 0.18117723550805614<br>IMG res:450x375",
          "bad4: 0.1866631448483248<br>Experiment id:<br> ALG_005_EXP_001-PatchMatch-MacLean_et_al-Numba<br>Scene: teddy<br>kernel size: 3x7<br>kernel spec: None<br>match:30<br>bad4: 0.1866631448483248<br>IMG res:450x375",
          "bad4: 0.3314234241556102<br>Experiment id:<br> ALG_005_EXP_001-PatchMatch-MacLean_et_al-Numba<br>Scene: teddy<br>kernel size: 5x1<br>kernel spec: None<br>match:30<br>bad4: 0.3314234241556102<br>IMG res:450x375",
          "bad4: 0.19849509993159545<br>Experiment id:<br> ALG_005_EXP_001-PatchMatch-MacLean_et_al-Numba<br>Scene: teddy<br>kernel size: 5x3<br>kernel spec: None<br>match:30<br>bad4: 0.19849509993159545<br>IMG res:450x375",
          "bad4: 0.18976505408022973<br>Experiment id:<br> ALG_005_EXP_001-PatchMatch-MacLean_et_al-Numba<br>Scene: teddy<br>kernel size: 5x5<br>kernel spec: None<br>match:30<br>bad4: 0.18976505408022973<br>IMG res:450x375",
          "bad4: 0.1934629633392256<br>Experiment id:<br> ALG_005_EXP_001-PatchMatch-MacLean_et_al-Numba<br>Scene: teddy<br>kernel size: 5x7<br>kernel spec: None<br>match:30<br>bad4: 0.1934629633392256<br>IMG res:450x375",
          "bad4: 0.3421243337329243<br>Experiment id:<br> ALG_005_EXP_001-PatchMatch-MacLean_et_al-Numba<br>Scene: teddy<br>kernel size: 7x1<br>kernel spec: None<br>match:30<br>bad4: 0.3421243337329243<br>IMG res:450x375",
          "bad4: 0.2021862364630108<br>Experiment id:<br> ALG_005_EXP_001-PatchMatch-MacLean_et_al-Numba<br>Scene: teddy<br>kernel size: 7x3<br>kernel spec: None<br>match:30<br>bad4: 0.2021862364630108<br>IMG res:450x375",
          "bad4: 0.19602305436468428<br>Experiment id:<br> ALG_005_EXP_001-PatchMatch-MacLean_et_al-Numba<br>Scene: teddy<br>kernel size: 7x5<br>kernel spec: None<br>match:30<br>bad4: 0.19602305436468428<br>IMG res:450x375",
          "bad4: 0.20212528191478554<br>Experiment id:<br> ALG_005_EXP_001-PatchMatch-MacLean_et_al-Numba<br>Scene: teddy<br>kernel size: 7x7<br>kernel spec: None<br>match:30<br>bad4: 0.20212528191478554<br>IMG res:450x375",
          "bad4: 0.2034324183378372<br>Experiment id:<br> ALG_005_EXP_001-PatchMatch-MacLean_et_al-Numba<br>Scene: teddy<br>kernel size: 9x3<br>kernel spec: None<br>match:30<br>bad4: 0.2034324183378372<br>IMG res:450x375",
          "bad4: 0.210184827735674<br>Experiment id:<br> ALG_005_EXP_001-PatchMatch-MacLean_et_al-Numba<br>Scene: teddy<br>kernel size: 11x3<br>kernel spec: None<br>match:30<br>bad4: 0.210184827735674<br>IMG res:450x375",
          "bad4: 0.21640219165464508<br>Experiment id:<br> ALG_005_EXP_001-PatchMatch-MacLean_et_al-Numba<br>Scene: teddy<br>kernel size: 13x3<br>kernel spec: None<br>match:30<br>bad4: 0.21640219165464508<br>IMG res:450x375",
          "bad4: 0.21739100988140955<br>Experiment id:<br> ALG_005_EXP_001-PatchMatch-MacLean_et_al-Numba<br>Scene: teddy<br>kernel size: 15x3<br>kernel spec: None<br>match:30<br>bad4: 0.21739100988140955<br>IMG res:450x375"
         ],
         "type": "scatter",
         "uid": "8a498fa3-fd03-4060-9988-962fbab32c7b",
         "x": [
          "1x1",
          "1x3",
          "1x5",
          "1x7",
          "3x1",
          "3x3",
          "3x5",
          "3x7",
          "5x1",
          "5x3",
          "5x5",
          "5x7",
          "7x1",
          "7x3",
          "7x5",
          "7x7",
          "9x3",
          "11x3",
          "13x3",
          "15x3"
         ],
         "y": {
          "dtype": "float64",
          "shape": [
           20
          ]
         }
        },
        {
         "hovertemplate": "%{text}",
         "name": "40",
         "showlegend": true,
         "text": [
          "bad4: 0.3302788331944924<br>Experiment id:<br> ALG_005_EXP_001-PatchMatch-MacLean_et_al-Numba<br>Scene: teddy<br>kernel size: 1x1<br>kernel spec: None<br>match:40<br>bad4: 0.3302788331944924<br>IMG res:450x375",
          "bad4: 0.18669700848622767<br>Experiment id:<br> ALG_005_EXP_001-PatchMatch-MacLean_et_al-Numba<br>Scene: teddy<br>kernel size: 1x3<br>kernel spec: None<br>match:40<br>bad4: 0.18669700848622767<br>IMG res:450x375",
          "bad4: 0.1892096904186223<br>Experiment id:<br> ALG_005_EXP_001-PatchMatch-MacLean_et_al-Numba<br>Scene: teddy<br>kernel size: 1x5<br>kernel spec: None<br>match:40<br>bad4: 0.1892096904186223<br>IMG res:450x375",
          "bad4: 0.19343587242890328<br>Experiment id:<br> ALG_005_EXP_001-PatchMatch-MacLean_et_al-Numba<br>Scene: teddy<br>kernel size: 1x7<br>kernel spec: None<br>match:40<br>bad4: 0.19343587242890328<br>IMG res:450x375",
          "bad4: 0.32537537842615355<br>Experiment id:<br> ALG_005_EXP_001-PatchMatch-MacLean_et_al-Numba<br>Scene: teddy<br>kernel size: 3x1<br>kernel spec: None<br>match:40<br>bad4: 0.32537537842615355<br>IMG res:450x375",
          "bad4: 0.1855320993423681<br>Experiment id:<br> ALG_005_EXP_001-PatchMatch-MacLean_et_al-Numba<br>Scene: teddy<br>kernel size: 3x3<br>kernel spec: None<br>match:40<br>bad4: 0.1855320993423681<br>IMG res:450x375",
          "bad4: 0.188667872212176<br>Experiment id:<br> ALG_005_EXP_001-PatchMatch-MacLean_et_al-Numba<br>Scene: teddy<br>kernel size: 3x5<br>kernel spec: None<br>match:40<br>bad4: 0.188667872212176<br>IMG res:450x375",
          "bad4: 0.19483782703808306<br>Experiment id:<br> ALG_005_EXP_001-PatchMatch-MacLean_et_al-Numba<br>Scene: teddy<br>kernel size: 3x7<br>kernel spec: None<br>match:40<br>bad4: 0.19483782703808306<br>IMG res:450x375",
          "bad4: 0.3412167882371268<br>Experiment id:<br> ALG_005_EXP_001-PatchMatch-MacLean_et_al-Numba<br>Scene: teddy<br>kernel size: 5x1<br>kernel spec: None<br>match:40<br>bad4: 0.3412167882371268<br>IMG res:450x375",
          "bad4: 0.1930565996843909<br>Experiment id:<br> ALG_005_EXP_001-PatchMatch-MacLean_et_al-Numba<br>Scene: teddy<br>kernel size: 5x3<br>kernel spec: None<br>match:40<br>bad4: 0.1930565996843909<br>IMG res:450x375",
          "bad4: 0.19547446343065744<br>Experiment id:<br> ALG_005_EXP_001-PatchMatch-MacLean_et_al-Numba<br>Scene: teddy<br>kernel size: 5x5<br>kernel spec: None<br>match:40<br>bad4: 0.19547446343065744<br>IMG res:450x375",
          "bad4: 0.19925364542062024<br>Experiment id:<br> ALG_005_EXP_001-PatchMatch-MacLean_et_al-Numba<br>Scene: teddy<br>kernel size: 5x7<br>kernel spec: None<br>match:40<br>bad4: 0.19925364542062024<br>IMG res:450x375",
          "bad4: 0.3453616975164408<br>Experiment id:<br> ALG_005_EXP_001-PatchMatch-MacLean_et_al-Numba<br>Scene: teddy<br>kernel size: 7x1<br>kernel spec: None<br>match:40<br>bad4: 0.3453616975164408<br>IMG res:450x375",
          "bad4: 0.19674773621580616<br>Experiment id:<br> ALG_005_EXP_001-PatchMatch-MacLean_et_al-Numba<br>Scene: teddy<br>kernel size: 7x3<br>kernel spec: None<br>match:40<br>bad4: 0.19674773621580616<br>IMG res:450x375",
          "bad4: 0.20070300912286404<br>Experiment id:<br> ALG_005_EXP_001-PatchMatch-MacLean_et_al-Numba<br>Scene: teddy<br>kernel size: 7x5<br>kernel spec: None<br>match:40<br>bad4: 0.20070300912286404<br>IMG res:450x375",
          "bad4: 0.2072725548760252<br>Experiment id:<br> ALG_005_EXP_001-PatchMatch-MacLean_et_al-Numba<br>Scene: teddy<br>kernel size: 7x7<br>kernel spec: None<br>match:40<br>bad4: 0.2072725548760252<br>IMG res:450x375",
          "bad4: 0.1973166453325748<br>Experiment id:<br> ALG_005_EXP_001-PatchMatch-MacLean_et_al-Numba<br>Scene: teddy<br>kernel size: 9x3<br>kernel spec: None<br>match:40<br>bad4: 0.1973166453325748<br>IMG res:450x375",
          "bad4: 0.20537619115346326<br>Experiment id:<br> ALG_005_EXP_001-PatchMatch-MacLean_et_al-Numba<br>Scene: teddy<br>kernel size: 11x3<br>kernel spec: None<br>match:40<br>bad4: 0.20537619115346326<br>IMG res:450x375",
          "bad4: 0.21553528252433105<br>Experiment id:<br> ALG_005_EXP_001-PatchMatch-MacLean_et_al-Numba<br>Scene: teddy<br>kernel size: 13x3<br>kernel spec: None<br>match:40<br>bad4: 0.21553528252433105<br>IMG res:450x375",
          "bad4: 0.21877941903542814<br>Experiment id:<br> ALG_005_EXP_001-PatchMatch-MacLean_et_al-Numba<br>Scene: teddy<br>kernel size: 15x3<br>kernel spec: None<br>match:40<br>bad4: 0.21877941903542814<br>IMG res:450x375"
         ],
         "type": "scatter",
         "uid": "cecf0b4e-eb4f-4b5c-a3ea-0b6dc50a8b88",
         "x": [
          "1x1",
          "1x3",
          "1x5",
          "1x7",
          "3x1",
          "3x3",
          "3x5",
          "3x7",
          "5x1",
          "5x3",
          "5x5",
          "5x7",
          "7x1",
          "7x3",
          "7x5",
          "7x7",
          "9x3",
          "11x3",
          "13x3",
          "15x3"
         ],
         "y": {
          "dtype": "float64",
          "shape": [
           20
          ]
         }
        },
        {
         "hovertemplate": "%{text}",
         "name": "50",
         "showlegend": true,
         "text": [
          "bad4: 0.3384331972015089<br>Experiment id:<br> ALG_005_EXP_001-PatchMatch-MacLean_et_al-Numba<br>Scene: teddy<br>kernel size: 1x1<br>kernel spec: None<br>match:50<br>bad4: 0.3384331972015089<br>IMG res:450x375",
          "bad4: 0.1946955997588909<br>Experiment id:<br> ALG_005_EXP_001-PatchMatch-MacLean_et_al-Numba<br>Scene: teddy<br>kernel size: 1x3<br>kernel spec: None<br>match:50<br>bad4: 0.1946955997588909<br>IMG res:450x375",
          "bad4: 0.20044564547480206<br>Experiment id:<br> ALG_005_EXP_001-PatchMatch-MacLean_et_al-Numba<br>Scene: teddy<br>kernel size: 1x5<br>kernel spec: None<br>match:50<br>bad4: 0.20044564547480206<br>IMG res:450x375",
          "bad4: 0.20670364575925665<br>Experiment id:<br> ALG_005_EXP_001-PatchMatch-MacLean_et_al-Numba<br>Scene: teddy<br>kernel size: 1x7<br>kernel spec: None<br>match:50<br>bad4: 0.20670364575925665<br>IMG res:450x375",
          "bad4: 0.3184333326560605<br>Experiment id:<br> ALG_005_EXP_001-PatchMatch-MacLean_et_al-Numba<br>Scene: teddy<br>kernel size: 3x1<br>kernel spec: None<br>match:50<br>bad4: 0.3184333326560605<br>IMG res:450x375",
          "bad4: 0.18794996308863468<br>Experiment id:<br> ALG_005_EXP_001-PatchMatch-MacLean_et_al-Numba<br>Scene: teddy<br>kernel size: 3x3<br>kernel spec: None<br>match:50<br>bad4: 0.18794996308863468<br>IMG res:450x375",
          "bad4: 0.19369323607696529<br>Experiment id:<br> ALG_005_EXP_001-PatchMatch-MacLean_et_al-Numba<br>Scene: teddy<br>kernel size: 3x5<br>kernel spec: None<br>match:50<br>bad4: 0.19369323607696529<br>IMG res:450x375",
          "bad4: 0.20158346370833927<br>Experiment id:<br> ALG_005_EXP_001-PatchMatch-MacLean_et_al-Numba<br>Scene: teddy<br>kernel size: 3x7<br>kernel spec: None<br>match:50<br>bad4: 0.20158346370833927<br>IMG res:450x375",
          "bad4: 0.3335432878883313<br>Experiment id:<br> ALG_005_EXP_001-PatchMatch-MacLean_et_al-Numba<br>Scene: teddy<br>kernel size: 5x1<br>kernel spec: None<br>match:50<br>bad4: 0.3335432878883313<br>IMG res:450x375",
          "bad4: 0.19430278155921732<br>Experiment id:<br> ALG_005_EXP_001-PatchMatch-MacLean_et_al-Numba<br>Scene: teddy<br>kernel size: 5x3<br>kernel spec: None<br>match:50<br>bad4: 0.19430278155921732<br>IMG res:450x375",
          "bad4: 0.20030341819560996<br>Experiment id:<br> ALG_005_EXP_001-PatchMatch-MacLean_et_al-Numba<br>Scene: teddy<br>kernel size: 5x5<br>kernel spec: None<br>match:50<br>bad4: 0.20030341819560996<br>IMG res:450x375",
          "bad4: 0.2070964639589302<br>Experiment id:<br> ALG_005_EXP_001-PatchMatch-MacLean_et_al-Numba<br>Scene: teddy<br>kernel size: 5x7<br>kernel spec: None<br>match:50<br>bad4: 0.2070964639589302<br>IMG res:450x375",
          "bad4: 0.34234783374308336<br>Experiment id:<br> ALG_005_EXP_001-PatchMatch-MacLean_et_al-Numba<br>Scene: teddy<br>kernel size: 7x1<br>kernel spec: None<br>match:50<br>bad4: 0.34234783374308336<br>IMG res:450x375",
          "bad4: 0.20126514551205207<br>Experiment id:<br> ALG_005_EXP_001-PatchMatch-MacLean_et_al-Numba<br>Scene: teddy<br>kernel size: 7x3<br>kernel spec: None<br>match:50<br>bad4: 0.20126514551205207<br>IMG res:450x375",
          "bad4: 0.20715741850715536<br>Experiment id:<br> ALG_005_EXP_001-PatchMatch-MacLean_et_al-Numba<br>Scene: teddy<br>kernel size: 7x5<br>kernel spec: None<br>match:50<br>bad4: 0.20715741850715536<br>IMG res:450x375",
          "bad4: 0.2147225552146616<br>Experiment id:<br> ALG_005_EXP_001-PatchMatch-MacLean_et_al-Numba<br>Scene: teddy<br>kernel size: 7x7<br>kernel spec: None<br>match:50<br>bad4: 0.2147225552146616<br>IMG res:450x375",
          "bad4: 0.20266032739365125<br>Experiment id:<br> ALG_005_EXP_001-PatchMatch-MacLean_et_al-Numba<br>Scene: teddy<br>kernel size: 9x3<br>kernel spec: None<br>match:50<br>bad4: 0.20266032739365125<br>IMG res:450x375",
          "bad4: 0.20954141861551906<br>Experiment id:<br> ALG_005_EXP_001-PatchMatch-MacLean_et_al-Numba<br>Scene: teddy<br>kernel size: 11x3<br>kernel spec: None<br>match:50<br>bad4: 0.20954141861551906<br>IMG res:450x375",
          "bad4: 0.22099410095427727<br>Experiment id:<br> ALG_005_EXP_001-PatchMatch-MacLean_et_al-Numba<br>Scene: teddy<br>kernel size: 13x3<br>kernel spec: None<br>match:50<br>bad4: 0.22099410095427727<br>IMG res:450x375",
          "bad4: 0.2217797373536244<br>Experiment id:<br> ALG_005_EXP_001-PatchMatch-MacLean_et_al-Numba<br>Scene: teddy<br>kernel size: 15x3<br>kernel spec: None<br>match:50<br>bad4: 0.2217797373536244<br>IMG res:450x375"
         ],
         "type": "scatter",
         "uid": "7dbb810c-9923-47e3-8dbd-309547e2fbdf",
         "x": [
          "1x1",
          "1x3",
          "1x5",
          "1x7",
          "3x1",
          "3x3",
          "3x5",
          "3x7",
          "5x1",
          "5x3",
          "5x5",
          "5x7",
          "7x1",
          "7x3",
          "7x5",
          "7x7",
          "9x3",
          "11x3",
          "13x3",
          "15x3"
         ],
         "y": {
          "dtype": "float64",
          "shape": [
           20
          ]
         }
        },
        {
         "hovertemplate": "%{text}",
         "name": "60",
         "showlegend": true,
         "text": [
          "bad4: 0.3463776066535276<br>Experiment id:<br> ALG_005_EXP_001-PatchMatch-MacLean_et_al-Numba<br>Scene: teddy<br>kernel size: 1x1<br>kernel spec: None<br>match:60<br>bad4: 0.3463776066535276<br>IMG res:450x375",
          "bad4: 0.21082823685582894<br>Experiment id:<br> ALG_005_EXP_001-PatchMatch-MacLean_et_al-Numba<br>Scene: teddy<br>kernel size: 1x3<br>kernel spec: None<br>match:60<br>bad4: 0.21082823685582894<br>IMG res:450x375",
          "bad4: 0.21871846448720286<br>Experiment id:<br> ALG_005_EXP_001-PatchMatch-MacLean_et_al-Numba<br>Scene: teddy<br>kernel size: 1x5<br>kernel spec: None<br>match:60<br>bad4: 0.21871846448720286<br>IMG res:450x375",
          "bad4: 0.2241908283723104<br>Experiment id:<br> ALG_005_EXP_001-PatchMatch-MacLean_et_al-Numba<br>Scene: teddy<br>kernel size: 1x7<br>kernel spec: None<br>match:60<br>bad4: 0.2241908283723104<br>IMG res:450x375",
          "bad4: 0.334640469756385<br>Experiment id:<br> ALG_005_EXP_001-PatchMatch-MacLean_et_al-Numba<br>Scene: teddy<br>kernel size: 3x1<br>kernel spec: None<br>match:60<br>bad4: 0.334640469756385<br>IMG res:450x375",
          "bad4: 0.20294478195203555<br>Experiment id:<br> ALG_005_EXP_001-PatchMatch-MacLean_et_al-Numba<br>Scene: teddy<br>kernel size: 3x3<br>kernel spec: None<br>match:60<br>bad4: 0.20294478195203555<br>IMG res:450x375",
          "bad4: 0.2095820549810025<br>Experiment id:<br> ALG_005_EXP_001-PatchMatch-MacLean_et_al-Numba<br>Scene: teddy<br>kernel size: 3x5<br>kernel spec: None<br>match:60<br>bad4: 0.2095820549810025<br>IMG res:450x375",
          "bad4: 0.2173706916986678<br>Experiment id:<br> ALG_005_EXP_001-PatchMatch-MacLean_et_al-Numba<br>Scene: teddy<br>kernel size: 3x7<br>kernel spec: None<br>match:60<br>bad4: 0.2173706916986678<br>IMG res:450x375",
          "bad4: 0.3403634245619738<br>Experiment id:<br> ALG_005_EXP_001-PatchMatch-MacLean_et_al-Numba<br>Scene: teddy<br>kernel size: 5x1<br>kernel spec: None<br>match:60<br>bad4: 0.3403634245619738<br>IMG res:450x375",
          "bad4: 0.20922310041923184<br>Experiment id:<br> ALG_005_EXP_001-PatchMatch-MacLean_et_al-Numba<br>Scene: teddy<br>kernel size: 5x3<br>kernel spec: None<br>match:60<br>bad4: 0.20922310041923184<br>IMG res:450x375",
          "bad4: 0.21886069176639508<br>Experiment id:<br> ALG_005_EXP_001-PatchMatch-MacLean_et_al-Numba<br>Scene: teddy<br>kernel size: 5x5<br>kernel spec: None<br>match:60<br>bad4: 0.21886069176639508<br>IMG res:450x375",
          "bad4: 0.2264800102945459<br>Experiment id:<br> ALG_005_EXP_001-PatchMatch-MacLean_et_al-Numba<br>Scene: teddy<br>kernel size: 5x7<br>kernel spec: None<br>match:60<br>bad4: 0.2264800102945459<br>IMG res:450x375",
          "bad4: 0.3552769706944078<br>Experiment id:<br> ALG_005_EXP_001-PatchMatch-MacLean_et_al-Numba<br>Scene: teddy<br>kernel size: 7x1<br>kernel spec: None<br>match:60<br>bad4: 0.3552769706944078<br>IMG res:450x375",
          "bad4: 0.2196395554381616<br>Experiment id:<br> ALG_005_EXP_001-PatchMatch-MacLean_et_al-Numba<br>Scene: teddy<br>kernel size: 7x3<br>kernel spec: None<br>match:60<br>bad4: 0.2196395554381616<br>IMG res:450x375",
          "bad4: 0.22502387386472156<br>Experiment id:<br> ALG_005_EXP_001-PatchMatch-MacLean_et_al-Numba<br>Scene: teddy<br>kernel size: 7x5<br>kernel spec: None<br>match:60<br>bad4: 0.22502387386472156<br>IMG res:450x375",
          "bad4: 0.23155278325239925<br>Experiment id:<br> ALG_005_EXP_001-PatchMatch-MacLean_et_al-Numba<br>Scene: teddy<br>kernel size: 7x7<br>kernel spec: None<br>match:60<br>bad4: 0.23155278325239925<br>IMG res:450x375",
          "bad4: 0.22018814637218848<br>Experiment id:<br> ALG_005_EXP_001-PatchMatch-MacLean_et_al-Numba<br>Scene: teddy<br>kernel size: 9x3<br>kernel spec: None<br>match:60<br>bad4: 0.22018814637218848<br>IMG res:450x375",
          "bad4: 0.22508482841294675<br>Experiment id:<br> ALG_005_EXP_001-PatchMatch-MacLean_et_al-Numba<br>Scene: teddy<br>kernel size: 11x3<br>kernel spec: None<br>match:60<br>bad4: 0.22508482841294675<br>IMG res:450x375",
          "bad4: 0.23464114702914304<br>Experiment id:<br> ALG_005_EXP_001-PatchMatch-MacLean_et_al-Numba<br>Scene: teddy<br>kernel size: 13x3<br>kernel spec: None<br>match:60<br>bad4: 0.23464114702914304<br>IMG res:450x375",
          "bad4: 0.2378785108126596<br>Experiment id:<br> ALG_005_EXP_001-PatchMatch-MacLean_et_al-Numba<br>Scene: teddy<br>kernel size: 15x3<br>kernel spec: None<br>match:60<br>bad4: 0.2378785108126596<br>IMG res:450x375"
         ],
         "type": "scatter",
         "uid": "dbcf9c91-1f94-40cb-90cd-94f58618eafb",
         "x": [
          "1x1",
          "1x3",
          "1x5",
          "1x7",
          "3x1",
          "3x3",
          "3x5",
          "3x7",
          "5x1",
          "5x3",
          "5x5",
          "5x7",
          "7x1",
          "7x3",
          "7x5",
          "7x7",
          "9x3",
          "11x3",
          "13x3",
          "15x3"
         ],
         "y": {
          "dtype": "float64",
          "shape": [
           20
          ]
         }
        },
        {
         "hovertemplate": "%{text}",
         "name": "70",
         "showlegend": true,
         "text": [
          "bad4: 0.3569904707722941<br>Experiment id:<br> ALG_005_EXP_001-PatchMatch-MacLean_et_al-Numba<br>Scene: teddy<br>kernel size: 1x1<br>kernel spec: None<br>match:70<br>bad4: 0.3569904707722941<br>IMG res:450x375",
          "bad4: 0.2288707831304901<br>Experiment id:<br> ALG_005_EXP_001-PatchMatch-MacLean_et_al-Numba<br>Scene: teddy<br>kernel size: 1x3<br>kernel spec: None<br>match:70<br>bad4: 0.2288707831304901<br>IMG res:450x375",
          "bad4: 0.23552837434219884<br>Experiment id:<br> ALG_005_EXP_001-PatchMatch-MacLean_et_al-Numba<br>Scene: teddy<br>kernel size: 1x5<br>kernel spec: None<br>match:70<br>bad4: 0.23552837434219884<br>IMG res:450x375",
          "bad4: 0.2408585109481141<br>Experiment id:<br> ALG_005_EXP_001-PatchMatch-MacLean_et_al-Numba<br>Scene: teddy<br>kernel size: 1x7<br>kernel spec: None<br>match:70<br>bad4: 0.2408585109481141<br>IMG res:450x375",
          "bad4: 0.34988587954026723<br>Experiment id:<br> ALG_005_EXP_001-PatchMatch-MacLean_et_al-Numba<br>Scene: teddy<br>kernel size: 3x1<br>kernel spec: None<br>match:70<br>bad4: 0.34988587954026723<br>IMG res:450x375",
          "bad4: 0.22305978286635375<br>Experiment id:<br> ALG_005_EXP_001-PatchMatch-MacLean_et_al-Numba<br>Scene: teddy<br>kernel size: 3x3<br>kernel spec: None<br>match:70<br>bad4: 0.22305978286635375<br>IMG res:450x375",
          "bad4: 0.2309771014080501<br>Experiment id:<br> ALG_005_EXP_001-PatchMatch-MacLean_et_al-Numba<br>Scene: teddy<br>kernel size: 3x5<br>kernel spec: None<br>match:70<br>bad4: 0.2309771014080501<br>IMG res:450x375",
          "bad4: 0.23855578357071744<br>Experiment id:<br> ALG_005_EXP_001-PatchMatch-MacLean_et_al-Numba<br>Scene: teddy<br>kernel size: 3x7<br>kernel spec: None<br>match:70<br>bad4: 0.23855578357071744<br>IMG res:450x375",
          "bad4: 0.3635193801599718<br>Experiment id:<br> ALG_005_EXP_001-PatchMatch-MacLean_et_al-Numba<br>Scene: teddy<br>kernel size: 5x1<br>kernel spec: None<br>match:70<br>bad4: 0.3635193801599718<br>IMG res:450x375",
          "bad4: 0.2336591015299592<br>Experiment id:<br> ALG_005_EXP_001-PatchMatch-MacLean_et_al-Numba<br>Scene: teddy<br>kernel size: 5x3<br>kernel spec: None<br>match:70<br>bad4: 0.2336591015299592<br>IMG res:450x375",
          "bad4: 0.23987646544893024<br>Experiment id:<br> ALG_005_EXP_001-PatchMatch-MacLean_et_al-Numba<br>Scene: teddy<br>kernel size: 5x5<br>kernel spec: None<br>match:70<br>bad4: 0.23987646544893024<br>IMG res:450x375",
          "bad4: 0.2461344657333848<br>Experiment id:<br> ALG_005_EXP_001-PatchMatch-MacLean_et_al-Numba<br>Scene: teddy<br>kernel size: 5x7<br>kernel spec: None<br>match:70<br>bad4: 0.2461344657333848<br>IMG res:450x375",
          "bad4: 0.3695945167997508<br>Experiment id:<br> ALG_005_EXP_001-PatchMatch-MacLean_et_al-Numba<br>Scene: teddy<br>kernel size: 7x1<br>kernel spec: None<br>match:70<br>bad4: 0.3695945167997508<br>IMG res:450x375",
          "bad4: 0.24119714732714306<br>Experiment id:<br> ALG_005_EXP_001-PatchMatch-MacLean_et_al-Numba<br>Scene: teddy<br>kernel size: 7x3<br>kernel spec: None<br>match:70<br>bad4: 0.24119714732714306<br>IMG res:450x375",
          "bad4: 0.2452743293306513<br>Experiment id:<br> ALG_005_EXP_001-PatchMatch-MacLean_et_al-Numba<br>Scene: teddy<br>kernel size: 7x5<br>kernel spec: None<br>match:70<br>bad4: 0.2452743293306513<br>IMG res:450x375",
          "bad4: 0.2508008750364034<br>Experiment id:<br> ALG_005_EXP_001-PatchMatch-MacLean_et_al-Numba<br>Scene: teddy<br>kernel size: 7x7<br>kernel spec: None<br>match:70<br>bad4: 0.2508008750364034<br>IMG res:450x375",
          "bad4: 0.24409587473163066<br>Experiment id:<br> ALG_005_EXP_001-PatchMatch-MacLean_et_al-Numba<br>Scene: teddy<br>kernel size: 9x3<br>kernel spec: None<br>match:70<br>bad4: 0.24409587473163066<br>IMG res:450x375",
          "bad4: 0.247400965790953<br>Experiment id:<br> ALG_005_EXP_001-PatchMatch-MacLean_et_al-Numba<br>Scene: teddy<br>kernel size: 11x3<br>kernel spec: None<br>match:70<br>bad4: 0.247400965790953<br>IMG res:450x375",
          "bad4: 0.25665928439360386<br>Experiment id:<br> ALG_005_EXP_001-PatchMatch-MacLean_et_al-Numba<br>Scene: teddy<br>kernel size: 13x3<br>kernel spec: None<br>match:70<br>bad4: 0.25665928439360386<br>IMG res:450x375",
          "bad4: 0.2589484663158394<br>Experiment id:<br> ALG_005_EXP_001-PatchMatch-MacLean_et_al-Numba<br>Scene: teddy<br>kernel size: 15x3<br>kernel spec: None<br>match:70<br>bad4: 0.2589484663158394<br>IMG res:450x375"
         ],
         "type": "scatter",
         "uid": "1a02384b-6128-4945-8f1a-fd33d6d40928",
         "x": [
          "1x1",
          "1x3",
          "1x5",
          "1x7",
          "3x1",
          "3x3",
          "3x5",
          "3x7",
          "5x1",
          "5x3",
          "5x5",
          "5x7",
          "7x1",
          "7x3",
          "7x5",
          "7x7",
          "9x3",
          "11x3",
          "13x3",
          "15x3"
         ],
         "y": {
          "dtype": "float64",
          "shape": [
           20
          ]
         }
        },
        {
         "hovertemplate": "%{text}",
         "name": "80",
         "showlegend": true,
         "text": [
          "bad4: 0.3661404257336557<br>Experiment id:<br> ALG_005_EXP_001-PatchMatch-MacLean_et_al-Numba<br>Scene: teddy<br>kernel size: 1x1<br>kernel spec: None<br>match:80<br>bad4: 0.3661404257336557<br>IMG res:450x375",
          "bad4: 0.23975455635247986<br>Experiment id:<br> ALG_005_EXP_001-PatchMatch-MacLean_et_al-Numba<br>Scene: teddy<br>kernel size: 1x3<br>kernel spec: None<br>match:80<br>bad4: 0.23975455635247986<br>IMG res:450x375",
          "bad4: 0.24394687472485796<br>Experiment id:<br> ALG_005_EXP_001-PatchMatch-MacLean_et_al-Numba<br>Scene: teddy<br>kernel size: 1x5<br>kernel spec: None<br>match:80<br>bad4: 0.24394687472485796<br>IMG res:450x375",
          "bad4: 0.2493176476962567<br>Experiment id:<br> ALG_005_EXP_001-PatchMatch-MacLean_et_al-Numba<br>Scene: teddy<br>kernel size: 1x7<br>kernel spec: None<br>match:80<br>bad4: 0.2493176476962567<br>IMG res:450x375",
          "bad4: 0.3541933342815152<br>Experiment id:<br> ALG_005_EXP_001-PatchMatch-MacLean_et_al-Numba<br>Scene: teddy<br>kernel size: 3x1<br>kernel spec: None<br>match:80<br>bad4: 0.3541933342815152<br>IMG res:450x375",
          "bad4: 0.232521283296422<br>Experiment id:<br> ALG_005_EXP_001-PatchMatch-MacLean_et_al-Numba<br>Scene: teddy<br>kernel size: 3x3<br>kernel spec: None<br>match:80<br>bad4: 0.232521283296422<br>IMG res:450x375",
          "bad4: 0.2394226927010315<br>Experiment id:<br> ALG_005_EXP_001-PatchMatch-MacLean_et_al-Numba<br>Scene: teddy<br>kernel size: 3x5<br>kernel spec: None<br>match:80<br>bad4: 0.2394226927010315<br>IMG res:450x375",
          "bad4: 0.2445835111174323<br>Experiment id:<br> ALG_005_EXP_001-PatchMatch-MacLean_et_al-Numba<br>Scene: teddy<br>kernel size: 3x7<br>kernel spec: None<br>match:80<br>bad4: 0.2445835111174323<br>IMG res:450x375",
          "bad4: 0.3681248349147652<br>Experiment id:<br> ALG_005_EXP_001-PatchMatch-MacLean_et_al-Numba<br>Scene: teddy<br>kernel size: 5x1<br>kernel spec: None<br>match:80<br>bad4: 0.3681248349147652<br>IMG res:450x375",
          "bad4: 0.2426194201190645<br>Experiment id:<br> ALG_005_EXP_001-PatchMatch-MacLean_et_al-Numba<br>Scene: teddy<br>kernel size: 5x3<br>kernel spec: None<br>match:80<br>bad4: 0.2426194201190645<br>IMG res:450x375",
          "bad4: 0.2474890112495005<br>Experiment id:<br> ALG_005_EXP_001-PatchMatch-MacLean_et_al-Numba<br>Scene: teddy<br>kernel size: 5x5<br>kernel spec: None<br>match:80<br>bad4: 0.2474890112495005<br>IMG res:450x375",
          "bad4: 0.2535844660720212<br>Experiment id:<br> ALG_005_EXP_001-PatchMatch-MacLean_et_al-Numba<br>Scene: teddy<br>kernel size: 5x7<br>kernel spec: None<br>match:80<br>bad4: 0.2535844660720212<br>IMG res:450x375",
          "bad4: 0.3753581079708231<br>Experiment id:<br> ALG_005_EXP_001-PatchMatch-MacLean_et_al-Numba<br>Scene: teddy<br>kernel size: 7x1<br>kernel spec: None<br>match:80<br>bad4: 0.3753581079708231<br>IMG res:450x375",
          "bad4: 0.2496698295304468<br>Experiment id:<br> ALG_005_EXP_001-PatchMatch-MacLean_et_al-Numba<br>Scene: teddy<br>kernel size: 7x3<br>kernel spec: None<br>match:80<br>bad4: 0.2496698295304468<br>IMG res:450x375",
          "bad4: 0.25447169338507697<br>Experiment id:<br> ALG_005_EXP_001-PatchMatch-MacLean_et_al-Numba<br>Scene: teddy<br>kernel size: 7x5<br>kernel spec: None<br>match:80<br>bad4: 0.25447169338507697<br>IMG res:450x375",
          "bad4: 0.2599779209080873<br>Experiment id:<br> ALG_005_EXP_001-PatchMatch-MacLean_et_al-Numba<br>Scene: teddy<br>kernel size: 7x7<br>kernel spec: None<br>match:80<br>bad4: 0.2599779209080873<br>IMG res:450x375",
          "bad4: 0.2527378751244489<br>Experiment id:<br> ALG_005_EXP_001-PatchMatch-MacLean_et_al-Numba<br>Scene: teddy<br>kernel size: 9x3<br>kernel spec: None<br>match:80<br>bad4: 0.2527378751244489<br>IMG res:450x375",
          "bad4: 0.2554469661566803<br>Experiment id:<br> ALG_005_EXP_001-PatchMatch-MacLean_et_al-Numba<br>Scene: teddy<br>kernel size: 11x3<br>kernel spec: None<br>match:80<br>bad4: 0.2554469661566803<br>IMG res:450x375",
          "bad4: 0.2652267847830357<br>Experiment id:<br> ALG_005_EXP_001-PatchMatch-MacLean_et_al-Numba<br>Scene: teddy<br>kernel size: 13x3<br>kernel spec: None<br>match:80<br>bad4: 0.2652267847830357<br>IMG res:450x375",
          "bad4: 0.26889083040412864<br>Experiment id:<br> ALG_005_EXP_001-PatchMatch-MacLean_et_al-Numba<br>Scene: teddy<br>kernel size: 15x3<br>kernel spec: None<br>match:80<br>bad4: 0.26889083040412864<br>IMG res:450x375"
         ],
         "type": "scatter",
         "uid": "5f4a3ed0-42c2-459c-a1d7-22edc21f7123",
         "x": [
          "1x1",
          "1x3",
          "1x5",
          "1x7",
          "3x1",
          "3x3",
          "3x5",
          "3x7",
          "5x1",
          "5x3",
          "5x5",
          "5x7",
          "7x1",
          "7x3",
          "7x5",
          "7x7",
          "9x3",
          "11x3",
          "13x3",
          "15x3"
         ],
         "y": {
          "dtype": "float64",
          "shape": [
           20
          ]
         }
        },
        {
         "hovertemplate": "%{text}",
         "name": "90",
         "showlegend": true,
         "text": [
          "bad4: 0.3737800624445483<br>Experiment id:<br> ALG_005_EXP_001-PatchMatch-MacLean_et_al-Numba<br>Scene: teddy<br>kernel size: 1x1<br>kernel spec: None<br>match:90<br>bad4: 0.3737800624445483<br>IMG res:450x375",
          "bad4: 0.24987978408544476<br>Experiment id:<br> ALG_005_EXP_001-PatchMatch-MacLean_et_al-Numba<br>Scene: teddy<br>kernel size: 1x3<br>kernel spec: None<br>match:90<br>bad4: 0.24987978408544476<br>IMG res:450x375",
          "bad4: 0.2567744207624737<br>Experiment id:<br> ALG_005_EXP_001-PatchMatch-MacLean_et_al-Numba<br>Scene: teddy<br>kernel size: 1x5<br>kernel spec: None<br>match:90<br>bad4: 0.2567744207624737<br>IMG res:450x375",
          "bad4: 0.26106833004856045<br>Experiment id:<br> ALG_005_EXP_001-PatchMatch-MacLean_et_al-Numba<br>Scene: teddy<br>kernel size: 1x7<br>kernel spec: None<br>match:90<br>bad4: 0.26106833004856045<br>IMG res:450x375",
          "bad4: 0.35937447088065777<br>Experiment id:<br> ALG_005_EXP_001-PatchMatch-MacLean_et_al-Numba<br>Scene: teddy<br>kernel size: 3x1<br>kernel spec: None<br>match:90<br>bad4: 0.35937447088065777<br>IMG res:450x375",
          "bad4: 0.2403370109244096<br>Experiment id:<br> ALG_005_EXP_001-PatchMatch-MacLean_et_al-Numba<br>Scene: teddy<br>kernel size: 3x3<br>kernel spec: None<br>match:90<br>bad4: 0.2403370109244096<br>IMG res:450x375",
          "bad4: 0.2470487839567629<br>Experiment id:<br> ALG_005_EXP_001-PatchMatch-MacLean_et_al-Numba<br>Scene: teddy<br>kernel size: 3x5<br>kernel spec: None<br>match:90<br>bad4: 0.2470487839567629<br>IMG res:450x375",
          "bad4: 0.2537266933512133<br>Experiment id:<br> ALG_005_EXP_001-PatchMatch-MacLean_et_al-Numba<br>Scene: teddy<br>kernel size: 3x7<br>kernel spec: None<br>match:90<br>bad4: 0.2537266933512133<br>IMG res:450x375",
          "bad4: 0.3713757441534429<br>Experiment id:<br> ALG_005_EXP_001-PatchMatch-MacLean_et_al-Numba<br>Scene: teddy<br>kernel size: 5x1<br>kernel spec: None<br>match:90<br>bad4: 0.3713757441534429<br>IMG res:450x375",
          "bad4: 0.2479360112698187<br>Experiment id:<br> ALG_005_EXP_001-PatchMatch-MacLean_et_al-Numba<br>Scene: teddy<br>kernel size: 5x3<br>kernel spec: None<br>match:90<br>bad4: 0.2479360112698187<br>IMG res:450x375",
          "bad4: 0.256239375283608<br>Experiment id:<br> ALG_005_EXP_001-PatchMatch-MacLean_et_al-Numba<br>Scene: teddy<br>kernel size: 5x5<br>kernel spec: None<br>match:90<br>bad4: 0.256239375283608<br>IMG res:450x375",
          "bad4: 0.2617794664445212<br>Experiment id:<br> ALG_005_EXP_001-PatchMatch-MacLean_et_al-Numba<br>Scene: teddy<br>kernel size: 5x7<br>kernel spec: None<br>match:90<br>bad4: 0.2617794664445212<br>IMG res:450x375",
          "bad4: 0.3815551537070525<br>Experiment id:<br> ALG_005_EXP_001-PatchMatch-MacLean_et_al-Numba<br>Scene: teddy<br>kernel size: 7x1<br>kernel spec: None<br>match:90<br>bad4: 0.3815551537070525<br>IMG res:450x375",
          "bad4: 0.2566254207557009<br>Experiment id:<br> ALG_005_EXP_001-PatchMatch-MacLean_et_al-Numba<br>Scene: teddy<br>kernel size: 7x3<br>kernel spec: None<br>match:90<br>bad4: 0.2566254207557009<br>IMG res:450x375",
          "bad4: 0.2609057845866265<br>Experiment id:<br> ALG_005_EXP_001-PatchMatch-MacLean_et_al-Numba<br>Scene: teddy<br>kernel size: 7x5<br>kernel spec: None<br>match:90<br>bad4: 0.2609057845866265<br>IMG res:450x375",
          "bad4: 0.2673060121502733<br>Experiment id:<br> ALG_005_EXP_001-PatchMatch-MacLean_et_al-Numba<br>Scene: teddy<br>kernel size: 7x7<br>kernel spec: None<br>match:90<br>bad4: 0.2673060121502733<br>IMG res:450x375",
          "bad4: 0.2568692389486017<br>Experiment id:<br> ALG_005_EXP_001-PatchMatch-MacLean_et_al-Numba<br>Scene: teddy<br>kernel size: 9x3<br>kernel spec: None<br>match:90<br>bad4: 0.2568692389486017<br>IMG res:450x375",
          "bad4: 0.26486105749368444<br>Experiment id:<br> ALG_005_EXP_001-PatchMatch-MacLean_et_al-Numba<br>Scene: teddy<br>kernel size: 11x3<br>kernel spec: None<br>match:90<br>bad4: 0.26486105749368444<br>IMG res:450x375",
          "bad4: 0.2743361033789138<br>Experiment id:<br> ALG_005_EXP_001-PatchMatch-MacLean_et_al-Numba<br>Scene: teddy<br>kernel size: 13x3<br>kernel spec: None<br>match:90<br>bad4: 0.2743361033789138<br>IMG res:450x375",
          "bad4: 0.2761918307359923<br>Experiment id:<br> ALG_005_EXP_001-PatchMatch-MacLean_et_al-Numba<br>Scene: teddy<br>kernel size: 15x3<br>kernel spec: None<br>match:90<br>bad4: 0.2761918307359923<br>IMG res:450x375"
         ],
         "type": "scatter",
         "uid": "7422cc32-16f4-4b3f-aae2-e350535a5b96",
         "x": [
          "1x1",
          "1x3",
          "1x5",
          "1x7",
          "3x1",
          "3x3",
          "3x5",
          "3x7",
          "5x1",
          "5x3",
          "5x5",
          "5x7",
          "7x1",
          "7x3",
          "7x5",
          "7x7",
          "9x3",
          "11x3",
          "13x3",
          "15x3"
         ],
         "y": {
          "dtype": "float64",
          "shape": [
           20
          ]
         }
        },
        {
         "hovertemplate": "%{text}",
         "name": "100",
         "showlegend": true,
         "text": [
          "bad4: 0.3866143812097446<br>Experiment id:<br> ALG_005_EXP_001-PatchMatch-MacLean_et_al-Numba<br>Scene: teddy<br>kernel size: 1x1<br>kernel spec: None<br>match:100<br>bad4: 0.3866143812097446<br>IMG res:450x375",
          "bad4: 0.2665406939336679<br>Experiment id:<br> ALG_005_EXP_001-PatchMatch-MacLean_et_al-Numba<br>Scene: teddy<br>kernel size: 1x3<br>kernel spec: None<br>match:100<br>bad4: 0.2665406939336679<br>IMG res:450x375",
          "bad4: 0.2730289669558621<br>Experiment id:<br> ALG_005_EXP_001-PatchMatch-MacLean_et_al-Numba<br>Scene: teddy<br>kernel size: 1x5<br>kernel spec: None<br>match:100<br>bad4: 0.2730289669558621<br>IMG res:450x375",
          "bad4: 0.2791176490508022<br>Experiment id:<br> ALG_005_EXP_001-PatchMatch-MacLean_et_al-Numba<br>Scene: teddy<br>kernel size: 1x7<br>kernel spec: None<br>match:100<br>bad4: 0.2791176490508022<br>IMG res:450x375",
          "bad4: 0.3652599711481805<br>Experiment id:<br> ALG_005_EXP_001-PatchMatch-MacLean_et_al-Numba<br>Scene: teddy<br>kernel size: 3x1<br>kernel spec: None<br>match:100<br>bad4: 0.3652599711481805<br>IMG res:450x375",
          "bad4: 0.25429560246798194<br>Experiment id:<br> ALG_005_EXP_001-PatchMatch-MacLean_et_al-Numba<br>Scene: teddy<br>kernel size: 3x3<br>kernel spec: None<br>match:100<br>bad4: 0.25429560246798194<br>IMG res:450x375",
          "bad4: 0.259646057256639<br>Experiment id:<br> ALG_005_EXP_001-PatchMatch-MacLean_et_al-Numba<br>Scene: teddy<br>kernel size: 3x5<br>kernel spec: None<br>match:100<br>bad4: 0.259646057256639<br>IMG res:450x375",
          "bad4: 0.2675633757983353<br>Experiment id:<br> ALG_005_EXP_001-PatchMatch-MacLean_et_al-Numba<br>Scene: teddy<br>kernel size: 3x7<br>kernel spec: None<br>match:100<br>bad4: 0.2675633757983353<br>IMG res:450x375",
          "bad4: 0.3798822899946496<br>Experiment id:<br> ALG_005_EXP_001-PatchMatch-MacLean_et_al-Numba<br>Scene: teddy<br>kernel size: 5x1<br>kernel spec: None<br>match:100<br>bad4: 0.3798822899946496<br>IMG res:450x375",
          "bad4: 0.2603707391077609<br>Experiment id:<br> ALG_005_EXP_001-PatchMatch-MacLean_et_al-Numba<br>Scene: teddy<br>kernel size: 5x3<br>kernel spec: None<br>match:100<br>bad4: 0.2603707391077609<br>IMG res:450x375",
          "bad4: 0.26686578485753565<br>Experiment id:<br> ALG_005_EXP_001-PatchMatch-MacLean_et_al-Numba<br>Scene: teddy<br>kernel size: 5x5<br>kernel spec: None<br>match:100<br>bad4: 0.26686578485753565<br>IMG res:450x375",
          "bad4: 0.2714441487020068<br>Experiment id:<br> ALG_005_EXP_001-PatchMatch-MacLean_et_al-Numba<br>Scene: teddy<br>kernel size: 5x7<br>kernel spec: None<br>match:100<br>bad4: 0.2714441487020068<br>IMG res:450x375",
          "bad4: 0.388375290380695<br>Experiment id:<br> ALG_005_EXP_001-PatchMatch-MacLean_et_al-Numba<br>Scene: teddy<br>kernel size: 7x1<br>kernel spec: None<br>match:100<br>bad4: 0.388375290380695<br>IMG res:450x375",
          "bad4: 0.2650168302280377<br>Experiment id:<br> ALG_005_EXP_001-PatchMatch-MacLean_et_al-Numba<br>Scene: teddy<br>kernel size: 7x3<br>kernel spec: None<br>match:100<br>bad4: 0.2650168302280377<br>IMG res:450x375",
          "bad4: 0.26964937589315346<br>Experiment id:<br> ALG_005_EXP_001-PatchMatch-MacLean_et_al-Numba<br>Scene: teddy<br>kernel size: 7x5<br>kernel spec: None<br>match:100<br>bad4: 0.26964937589315346<br>IMG res:450x375",
          "bad4: 0.276293421649701<br>Experiment id:<br> ALG_005_EXP_001-PatchMatch-MacLean_et_al-Numba<br>Scene: teddy<br>kernel size: 7x7<br>kernel spec: None<br>match:100<br>bad4: 0.276293421649701<br>IMG res:450x375",
          "bad4: 0.26800360309107285<br>Experiment id:<br> ALG_005_EXP_001-PatchMatch-MacLean_et_al-Numba<br>Scene: teddy<br>kernel size: 9x3<br>kernel spec: None<br>match:100<br>bad4: 0.26800360309107285<br>IMG res:450x375",
          "bad4: 0.2717218305328105<br>Experiment id:<br> ALG_005_EXP_001-PatchMatch-MacLean_et_al-Numba<br>Scene: teddy<br>kernel size: 11x3<br>kernel spec: None<br>match:100<br>bad4: 0.2717218305328105<br>IMG res:450x375",
          "bad4: 0.2808176036735274<br>Experiment id:<br> ALG_005_EXP_001-PatchMatch-MacLean_et_al-Numba<br>Scene: teddy<br>kernel size: 13x3<br>kernel spec: None<br>match:100<br>bad4: 0.2808176036735274<br>IMG res:450x375",
          "bad4: 0.2845561492980068<br>Experiment id:<br> ALG_005_EXP_001-PatchMatch-MacLean_et_al-Numba<br>Scene: teddy<br>kernel size: 15x3<br>kernel spec: None<br>match:100<br>bad4: 0.2845561492980068<br>IMG res:450x375"
         ],
         "type": "scatter",
         "uid": "d494330a-f691-4079-93e4-a86aea2a0122",
         "x": [
          "1x1",
          "1x3",
          "1x5",
          "1x7",
          "3x1",
          "3x3",
          "3x5",
          "3x7",
          "5x1",
          "5x3",
          "5x5",
          "5x7",
          "7x1",
          "7x3",
          "7x5",
          "7x7",
          "9x3",
          "11x3",
          "13x3",
          "15x3"
         ],
         "y": {
          "dtype": "float64",
          "shape": [
           20
          ]
         }
        },
        {
         "hovertemplate": "%{text}",
         "name": "110",
         "showlegend": true,
         "text": [
          "bad4: 0.39784356353834377<br>Experiment id:<br> ALG_005_EXP_001-PatchMatch-MacLean_et_al-Numba<br>Scene: teddy<br>kernel size: 1x1<br>kernel spec: None<br>match:110<br>bad4: 0.39784356353834377<br>IMG res:450x375",
          "bad4: 0.28400078563639936<br>Experiment id:<br> ALG_005_EXP_001-PatchMatch-MacLean_et_al-Numba<br>Scene: teddy<br>kernel size: 1x3<br>kernel spec: None<br>match:110<br>bad4: 0.28400078563639936<br>IMG res:450x375",
          "bad4: 0.28973728589714937<br>Experiment id:<br> ALG_005_EXP_001-PatchMatch-MacLean_et_al-Numba<br>Scene: teddy<br>kernel size: 1x5<br>kernel spec: None<br>match:110<br>bad4: 0.28973728589714937<br>IMG res:450x375",
          "bad4: 0.2952367406925791<br>Experiment id:<br> ALG_005_EXP_001-PatchMatch-MacLean_et_al-Numba<br>Scene: teddy<br>kernel size: 1x7<br>kernel spec: None<br>match:110<br>bad4: 0.2952367406925791<br>IMG res:450x375",
          "bad4: 0.38306547195752144<br>Experiment id:<br> ALG_005_EXP_001-PatchMatch-MacLean_et_al-Numba<br>Scene: teddy<br>kernel size: 3x1<br>kernel spec: None<br>match:110<br>bad4: 0.38306547195752144<br>IMG res:450x375",
          "bad4: 0.2697035577137981<br>Experiment id:<br> ALG_005_EXP_001-PatchMatch-MacLean_et_al-Numba<br>Scene: teddy<br>kernel size: 3x3<br>kernel spec: None<br>match:110<br>bad4: 0.2697035577137981<br>IMG res:450x375",
          "bad4: 0.2787248308511287<br>Experiment id:<br> ALG_005_EXP_001-PatchMatch-MacLean_et_al-Numba<br>Scene: teddy<br>kernel size: 3x5<br>kernel spec: None<br>match:110<br>bad4: 0.2787248308511287<br>IMG res:450x375",
          "bad4: 0.2872178312371741<br>Experiment id:<br> ALG_005_EXP_001-PatchMatch-MacLean_et_al-Numba<br>Scene: teddy<br>kernel size: 3x7<br>kernel spec: None<br>match:110<br>bad4: 0.2872178312371741<br>IMG res:450x375",
          "bad4: 0.3890661085939141<br>Experiment id:<br> ALG_005_EXP_001-PatchMatch-MacLean_et_al-Numba<br>Scene: teddy<br>kernel size: 5x1<br>kernel spec: None<br>match:110<br>bad4: 0.3890661085939141<br>IMG res:450x375",
          "bad4: 0.2754265125193869<br>Experiment id:<br> ALG_005_EXP_001-PatchMatch-MacLean_et_al-Numba<br>Scene: teddy<br>kernel size: 5x3<br>kernel spec: None<br>match:110<br>bad4: 0.2754265125193869<br>IMG res:450x375",
          "bad4: 0.2791921490541886<br>Experiment id:<br> ALG_005_EXP_001-PatchMatch-MacLean_et_al-Numba<br>Scene: teddy<br>kernel size: 5x5<br>kernel spec: None<br>match:110<br>bad4: 0.2791921490541886<br>IMG res:450x375",
          "bad4: 0.2866760130307279<br>Experiment id:<br> ALG_005_EXP_001-PatchMatch-MacLean_et_al-Numba<br>Scene: teddy<br>kernel size: 5x7<br>kernel spec: None<br>match:110<br>bad4: 0.2866760130307279<br>IMG res:450x375",
          "bad4: 0.39971283635058347<br>Experiment id:<br> ALG_005_EXP_001-PatchMatch-MacLean_et_al-Numba<br>Scene: teddy<br>kernel size: 7x1<br>kernel spec: None<br>match:110<br>bad4: 0.39971283635058347<br>IMG res:450x375",
          "bad4: 0.2795104672504758<br>Experiment id:<br> ALG_005_EXP_001-PatchMatch-MacLean_et_al-Numba<br>Scene: teddy<br>kernel size: 7x3<br>kernel spec: None<br>match:110<br>bad4: 0.2795104672504758<br>IMG res:450x375",
          "bad4: 0.2835470128885006<br>Experiment id:<br> ALG_005_EXP_001-PatchMatch-MacLean_et_al-Numba<br>Scene: teddy<br>kernel size: 7x5<br>kernel spec: None<br>match:110<br>bad4: 0.2835470128885006<br>IMG res:450x375",
          "bad4: 0.29078705867213905<br>Experiment id:<br> ALG_005_EXP_001-PatchMatch-MacLean_et_al-Numba<br>Scene: teddy<br>kernel size: 7x7<br>kernel spec: None<br>match:110<br>bad4: 0.29078705867213905<br>IMG res:450x375",
          "bad4: 0.2786096944822589<br>Experiment id:<br> ALG_005_EXP_001-PatchMatch-MacLean_et_al-Numba<br>Scene: teddy<br>kernel size: 9x3<br>kernel spec: None<br>match:110<br>bad4: 0.2786096944822589<br>IMG res:450x375",
          "bad4: 0.2855856038902547<br>Experiment id:<br> ALG_005_EXP_001-PatchMatch-MacLean_et_al-Numba<br>Scene: teddy<br>kernel size: 11x3<br>kernel spec: None<br>match:110<br>bad4: 0.2855856038902547<br>IMG res:450x375",
          "bad4: 0.2953247861511266<br>Experiment id:<br> ALG_005_EXP_001-PatchMatch-MacLean_et_al-Numba<br>Scene: teddy<br>kernel size: 13x3<br>kernel spec: None<br>match:110<br>bad4: 0.2953247861511266<br>IMG res:450x375",
          "bad4: 0.2960020589091845<br>Experiment id:<br> ALG_005_EXP_001-PatchMatch-MacLean_et_al-Numba<br>Scene: teddy<br>kernel size: 15x3<br>kernel spec: None<br>match:110<br>bad4: 0.2960020589091845<br>IMG res:450x375"
         ],
         "type": "scatter",
         "uid": "6e3a5bf3-2e74-4e5a-8f92-28ccf18e3f02",
         "x": [
          "1x1",
          "1x3",
          "1x5",
          "1x7",
          "3x1",
          "3x3",
          "3x5",
          "3x7",
          "5x1",
          "5x3",
          "5x5",
          "5x7",
          "7x1",
          "7x3",
          "7x5",
          "7x7",
          "9x3",
          "11x3",
          "13x3",
          "15x3"
         ],
         "y": {
          "dtype": "float64",
          "shape": [
           20
          ]
         }
        }
       ],
       "_js2py_layoutDelta": {},
       "_js2py_pointsCallback": {},
       "_js2py_relayout": {},
       "_js2py_restyle": {},
       "_js2py_traceDeltas": {},
       "_js2py_update": {},
       "_layout": {
        "legend": {
         "title": {
          "text": "match"
         }
        },
        "template": {
         "data": {
          "bar": [
           {
            "error_x": {
             "color": "#2a3f5f"
            },
            "error_y": {
             "color": "#2a3f5f"
            },
            "marker": {
             "line": {
              "color": "#E5ECF6",
              "width": 0.5
             }
            },
            "type": "bar"
           }
          ],
          "barpolar": [
           {
            "marker": {
             "line": {
              "color": "#E5ECF6",
              "width": 0.5
             }
            },
            "type": "barpolar"
           }
          ],
          "carpet": [
           {
            "aaxis": {
             "endlinecolor": "#2a3f5f",
             "gridcolor": "white",
             "linecolor": "white",
             "minorgridcolor": "white",
             "startlinecolor": "#2a3f5f"
            },
            "baxis": {
             "endlinecolor": "#2a3f5f",
             "gridcolor": "white",
             "linecolor": "white",
             "minorgridcolor": "white",
             "startlinecolor": "#2a3f5f"
            },
            "type": "carpet"
           }
          ],
          "choropleth": [
           {
            "colorbar": {
             "outlinewidth": 0,
             "ticks": ""
            },
            "type": "choropleth"
           }
          ],
          "contour": [
           {
            "colorbar": {
             "outlinewidth": 0,
             "ticks": ""
            },
            "colorscale": [
             [
              0,
              "#0d0887"
             ],
             [
              0.1111111111111111,
              "#46039f"
             ],
             [
              0.2222222222222222,
              "#7201a8"
             ],
             [
              0.3333333333333333,
              "#9c179e"
             ],
             [
              0.4444444444444444,
              "#bd3786"
             ],
             [
              0.5555555555555556,
              "#d8576b"
             ],
             [
              0.6666666666666666,
              "#ed7953"
             ],
             [
              0.7777777777777778,
              "#fb9f3a"
             ],
             [
              0.8888888888888888,
              "#fdca26"
             ],
             [
              1,
              "#f0f921"
             ]
            ],
            "type": "contour"
           }
          ],
          "contourcarpet": [
           {
            "colorbar": {
             "outlinewidth": 0,
             "ticks": ""
            },
            "type": "contourcarpet"
           }
          ],
          "heatmap": [
           {
            "colorbar": {
             "outlinewidth": 0,
             "ticks": ""
            },
            "colorscale": [
             [
              0,
              "#0d0887"
             ],
             [
              0.1111111111111111,
              "#46039f"
             ],
             [
              0.2222222222222222,
              "#7201a8"
             ],
             [
              0.3333333333333333,
              "#9c179e"
             ],
             [
              0.4444444444444444,
              "#bd3786"
             ],
             [
              0.5555555555555556,
              "#d8576b"
             ],
             [
              0.6666666666666666,
              "#ed7953"
             ],
             [
              0.7777777777777778,
              "#fb9f3a"
             ],
             [
              0.8888888888888888,
              "#fdca26"
             ],
             [
              1,
              "#f0f921"
             ]
            ],
            "type": "heatmap"
           }
          ],
          "heatmapgl": [
           {
            "colorbar": {
             "outlinewidth": 0,
             "ticks": ""
            },
            "colorscale": [
             [
              0,
              "#0d0887"
             ],
             [
              0.1111111111111111,
              "#46039f"
             ],
             [
              0.2222222222222222,
              "#7201a8"
             ],
             [
              0.3333333333333333,
              "#9c179e"
             ],
             [
              0.4444444444444444,
              "#bd3786"
             ],
             [
              0.5555555555555556,
              "#d8576b"
             ],
             [
              0.6666666666666666,
              "#ed7953"
             ],
             [
              0.7777777777777778,
              "#fb9f3a"
             ],
             [
              0.8888888888888888,
              "#fdca26"
             ],
             [
              1,
              "#f0f921"
             ]
            ],
            "type": "heatmapgl"
           }
          ],
          "histogram": [
           {
            "marker": {
             "colorbar": {
              "outlinewidth": 0,
              "ticks": ""
             }
            },
            "type": "histogram"
           }
          ],
          "histogram2d": [
           {
            "colorbar": {
             "outlinewidth": 0,
             "ticks": ""
            },
            "colorscale": [
             [
              0,
              "#0d0887"
             ],
             [
              0.1111111111111111,
              "#46039f"
             ],
             [
              0.2222222222222222,
              "#7201a8"
             ],
             [
              0.3333333333333333,
              "#9c179e"
             ],
             [
              0.4444444444444444,
              "#bd3786"
             ],
             [
              0.5555555555555556,
              "#d8576b"
             ],
             [
              0.6666666666666666,
              "#ed7953"
             ],
             [
              0.7777777777777778,
              "#fb9f3a"
             ],
             [
              0.8888888888888888,
              "#fdca26"
             ],
             [
              1,
              "#f0f921"
             ]
            ],
            "type": "histogram2d"
           }
          ],
          "histogram2dcontour": [
           {
            "colorbar": {
             "outlinewidth": 0,
             "ticks": ""
            },
            "colorscale": [
             [
              0,
              "#0d0887"
             ],
             [
              0.1111111111111111,
              "#46039f"
             ],
             [
              0.2222222222222222,
              "#7201a8"
             ],
             [
              0.3333333333333333,
              "#9c179e"
             ],
             [
              0.4444444444444444,
              "#bd3786"
             ],
             [
              0.5555555555555556,
              "#d8576b"
             ],
             [
              0.6666666666666666,
              "#ed7953"
             ],
             [
              0.7777777777777778,
              "#fb9f3a"
             ],
             [
              0.8888888888888888,
              "#fdca26"
             ],
             [
              1,
              "#f0f921"
             ]
            ],
            "type": "histogram2dcontour"
           }
          ],
          "mesh3d": [
           {
            "colorbar": {
             "outlinewidth": 0,
             "ticks": ""
            },
            "type": "mesh3d"
           }
          ],
          "parcoords": [
           {
            "line": {
             "colorbar": {
              "outlinewidth": 0,
              "ticks": ""
             }
            },
            "type": "parcoords"
           }
          ],
          "pie": [
           {
            "automargin": true,
            "type": "pie"
           }
          ],
          "scatter": [
           {
            "marker": {
             "colorbar": {
              "outlinewidth": 0,
              "ticks": ""
             }
            },
            "type": "scatter"
           }
          ],
          "scatter3d": [
           {
            "line": {
             "colorbar": {
              "outlinewidth": 0,
              "ticks": ""
             }
            },
            "marker": {
             "colorbar": {
              "outlinewidth": 0,
              "ticks": ""
             }
            },
            "type": "scatter3d"
           }
          ],
          "scattercarpet": [
           {
            "marker": {
             "colorbar": {
              "outlinewidth": 0,
              "ticks": ""
             }
            },
            "type": "scattercarpet"
           }
          ],
          "scattergeo": [
           {
            "marker": {
             "colorbar": {
              "outlinewidth": 0,
              "ticks": ""
             }
            },
            "type": "scattergeo"
           }
          ],
          "scattergl": [
           {
            "marker": {
             "colorbar": {
              "outlinewidth": 0,
              "ticks": ""
             }
            },
            "type": "scattergl"
           }
          ],
          "scattermapbox": [
           {
            "marker": {
             "colorbar": {
              "outlinewidth": 0,
              "ticks": ""
             }
            },
            "type": "scattermapbox"
           }
          ],
          "scatterpolar": [
           {
            "marker": {
             "colorbar": {
              "outlinewidth": 0,
              "ticks": ""
             }
            },
            "type": "scatterpolar"
           }
          ],
          "scatterpolargl": [
           {
            "marker": {
             "colorbar": {
              "outlinewidth": 0,
              "ticks": ""
             }
            },
            "type": "scatterpolargl"
           }
          ],
          "scatterternary": [
           {
            "marker": {
             "colorbar": {
              "outlinewidth": 0,
              "ticks": ""
             }
            },
            "type": "scatterternary"
           }
          ],
          "surface": [
           {
            "colorbar": {
             "outlinewidth": 0,
             "ticks": ""
            },
            "colorscale": [
             [
              0,
              "#0d0887"
             ],
             [
              0.1111111111111111,
              "#46039f"
             ],
             [
              0.2222222222222222,
              "#7201a8"
             ],
             [
              0.3333333333333333,
              "#9c179e"
             ],
             [
              0.4444444444444444,
              "#bd3786"
             ],
             [
              0.5555555555555556,
              "#d8576b"
             ],
             [
              0.6666666666666666,
              "#ed7953"
             ],
             [
              0.7777777777777778,
              "#fb9f3a"
             ],
             [
              0.8888888888888888,
              "#fdca26"
             ],
             [
              1,
              "#f0f921"
             ]
            ],
            "type": "surface"
           }
          ],
          "table": [
           {
            "cells": {
             "fill": {
              "color": "#EBF0F8"
             },
             "line": {
              "color": "white"
             }
            },
            "header": {
             "fill": {
              "color": "#C8D4E3"
             },
             "line": {
              "color": "white"
             }
            },
            "type": "table"
           }
          ]
         },
         "layout": {
          "annotationdefaults": {
           "arrowcolor": "#2a3f5f",
           "arrowhead": 0,
           "arrowwidth": 1
          },
          "coloraxis": {
           "colorbar": {
            "outlinewidth": 0,
            "ticks": ""
           }
          },
          "colorscale": {
           "diverging": [
            [
             0,
             "#8e0152"
            ],
            [
             0.1,
             "#c51b7d"
            ],
            [
             0.2,
             "#de77ae"
            ],
            [
             0.3,
             "#f1b6da"
            ],
            [
             0.4,
             "#fde0ef"
            ],
            [
             0.5,
             "#f7f7f7"
            ],
            [
             0.6,
             "#e6f5d0"
            ],
            [
             0.7,
             "#b8e186"
            ],
            [
             0.8,
             "#7fbc41"
            ],
            [
             0.9,
             "#4d9221"
            ],
            [
             1,
             "#276419"
            ]
           ],
           "sequential": [
            [
             0,
             "#0d0887"
            ],
            [
             0.1111111111111111,
             "#46039f"
            ],
            [
             0.2222222222222222,
             "#7201a8"
            ],
            [
             0.3333333333333333,
             "#9c179e"
            ],
            [
             0.4444444444444444,
             "#bd3786"
            ],
            [
             0.5555555555555556,
             "#d8576b"
            ],
            [
             0.6666666666666666,
             "#ed7953"
            ],
            [
             0.7777777777777778,
             "#fb9f3a"
            ],
            [
             0.8888888888888888,
             "#fdca26"
            ],
            [
             1,
             "#f0f921"
            ]
           ],
           "sequentialminus": [
            [
             0,
             "#0d0887"
            ],
            [
             0.1111111111111111,
             "#46039f"
            ],
            [
             0.2222222222222222,
             "#7201a8"
            ],
            [
             0.3333333333333333,
             "#9c179e"
            ],
            [
             0.4444444444444444,
             "#bd3786"
            ],
            [
             0.5555555555555556,
             "#d8576b"
            ],
            [
             0.6666666666666666,
             "#ed7953"
            ],
            [
             0.7777777777777778,
             "#fb9f3a"
            ],
            [
             0.8888888888888888,
             "#fdca26"
            ],
            [
             1,
             "#f0f921"
            ]
           ]
          },
          "colorway": [
           "#636efa",
           "#EF553B",
           "#00cc96",
           "#ab63fa",
           "#FFA15A",
           "#19d3f3",
           "#FF6692",
           "#B6E880",
           "#FF97FF",
           "#FECB52"
          ],
          "font": {
           "color": "#2a3f5f"
          },
          "geo": {
           "bgcolor": "white",
           "lakecolor": "white",
           "landcolor": "#E5ECF6",
           "showlakes": true,
           "showland": true,
           "subunitcolor": "white"
          },
          "hoverlabel": {
           "align": "left"
          },
          "hovermode": "closest",
          "mapbox": {
           "style": "light"
          },
          "paper_bgcolor": "white",
          "plot_bgcolor": "#E5ECF6",
          "polar": {
           "angularaxis": {
            "gridcolor": "white",
            "linecolor": "white",
            "ticks": ""
           },
           "bgcolor": "#E5ECF6",
           "radialaxis": {
            "gridcolor": "white",
            "linecolor": "white",
            "ticks": ""
           }
          },
          "scene": {
           "xaxis": {
            "backgroundcolor": "#E5ECF6",
            "gridcolor": "white",
            "gridwidth": 2,
            "linecolor": "white",
            "showbackground": true,
            "ticks": "",
            "zerolinecolor": "white"
           },
           "yaxis": {
            "backgroundcolor": "#E5ECF6",
            "gridcolor": "white",
            "gridwidth": 2,
            "linecolor": "white",
            "showbackground": true,
            "ticks": "",
            "zerolinecolor": "white"
           },
           "zaxis": {
            "backgroundcolor": "#E5ECF6",
            "gridcolor": "white",
            "gridwidth": 2,
            "linecolor": "white",
            "showbackground": true,
            "ticks": "",
            "zerolinecolor": "white"
           }
          },
          "shapedefaults": {
           "line": {
            "color": "#2a3f5f"
           }
          },
          "ternary": {
           "aaxis": {
            "gridcolor": "white",
            "linecolor": "white",
            "ticks": ""
           },
           "baxis": {
            "gridcolor": "white",
            "linecolor": "white",
            "ticks": ""
           },
           "bgcolor": "#E5ECF6",
           "caxis": {
            "gridcolor": "white",
            "linecolor": "white",
            "ticks": ""
           }
          },
          "title": {
           "x": 0.05
          },
          "xaxis": {
           "automargin": true,
           "gridcolor": "white",
           "linecolor": "white",
           "ticks": "",
           "title": {
            "standoff": 15
           },
           "zerolinecolor": "white",
           "zerolinewidth": 2
          },
          "yaxis": {
           "automargin": true,
           "gridcolor": "white",
           "linecolor": "white",
           "ticks": "",
           "title": {
            "standoff": 15
           },
           "zerolinecolor": "white",
           "zerolinewidth": 2
          }
         }
        },
        "xaxis": {
         "showspikes": true
        },
        "yaxis": {
         "showspikes": true
        }
       },
       "_model_module_version": "4.6.0",
       "_py2js_addTraces": {},
       "_py2js_animate": {},
       "_py2js_deleteTraces": {},
       "_py2js_moveTraces": {},
       "_py2js_relayout": {},
       "_py2js_removeLayoutProps": {},
       "_py2js_removeTraceProps": {},
       "_py2js_restyle": {},
       "_py2js_update": {},
       "_view_count": 0,
       "_view_module_version": "4.6.0"
      }
     },
     "063c9aae7a9c4f81b0da8f445b93e172": {
      "model_module": "@jupyter-widgets/base",
      "model_module_version": "1.2.0",
      "model_name": "LayoutModel",
      "state": {
       "height": "375px",
       "width": "450px"
      }
     },
     "0d20c32988f24e61bf9ade851885c3d1": {
      "model_module": "@jupyter-widgets/controls",
      "model_module_version": "1.5.0",
      "model_name": "DropdownModel",
      "state": {
       "_options_labels": [
        "On",
        "Off"
       ],
       "description": "Turn plots:",
       "index": 0,
       "layout": "IPY_MODEL_a7ddc8d50d6341a494da5cd7293226ec",
       "style": "IPY_MODEL_2f01d53325604be3b3efebf15f3021e8"
      }
     },
     "13c77e4320264aae88f1a891312ad3fc": {
      "model_module": "@jupyter-widgets/controls",
      "model_module_version": "1.5.0",
      "model_name": "VBoxModel",
      "state": {
       "children": [
        "IPY_MODEL_7d646aac57094ba6a84ca0e89a012478",
        "IPY_MODEL_a3053e470bc549c2a967cb6266c64160"
       ],
       "layout": "IPY_MODEL_37943616ccff427ab016cee252fce517"
      }
     },
     "16681b9793a2468081c47f2e931fcf68": {
      "buffers": [
       {
        "data": "nsiCbBvZ7j+eyIJsG9nuP9Xs9lRcp+4/1ez2VFyn7j+1CpouvOfuP7UKmi685+4/swQItjoY7z+zBAi2OhjvPzJaHHpe5u4/Mlocel7m7j+yrOeBwczuP7Ks54HBzO4/SzdrH4Dw7j9LN2sfgPDuP9+PTKoAH+8/349MqgAf7z9uN6z/0wLvP243rP/TAu8/cUCHNBa67j9xQIc0FrruP6mu73DHAO8/qa7vcMcA7z/RPoUQVCPvP9E+hRBUI+8/IJ76SrEW7z8gnvpKsRbvP3VoyhoP3u4/dWjKGg/e7j+4A4S+N/7uP7gDhL43/u4/4Vnd4/4n7z/hWd3j/ifvP72WITox9u4/vZYhOjH27j+ZLs+AnffuP5kuz4Cd9+4/CMjBFRT27j8IyMEVFPbuP56+I0DWB+8/nr4jQNYH7z8=",
        "encoding": "base64",
        "path": [
         "_data",
         0,
         "y",
         "value"
        ]
       },
       {
        "data": "HNOQewNX3D87+CqDaIfQP6RZ6YwfwdA/NWxqrNdX0T9USSGJBF/eP4QDhggsUs8/EduJ4GM80D/lNHEjj6nQP6/Fvbr2ad8/P8qEkN1vzj+E7H7z4MfPP53kaJb1PNA/qoZzv7K73z+kvFQc7PTNPxHGuSYOws4/MSKvI4MA0D9h9YreBq/NP5O1uqHLks0/U917xxySzT/YghZYMqjNPw==",
        "encoding": "base64",
        "path": [
         "_data",
         1,
         "y",
         "value"
        ]
       },
       {
        "data": "bqbArzl41D9upsCvOXjUP2Je1ErPM8Q/Yl7USs8zxD/Yee++dW/EP9h57751b8Q/+BWzrjF2xT/4FbOuMXbFP1cnJLcSidQ/VycktxKJ1D8KbjG7iXnBPwpuMbuJecE/u1VnGNwWwj+7VWcY3BbCP9ZGAoBQgcM/1kYCgFCBwz/2vctF1EvUP/a9y0XUS9Q/sIJtQNOYwD+wgm1A05jAP0MSCb48t8E/QxIJvjy3wT/JDEL77g/DP8kMQvvuD8M/Bmr8z7p61D8GavzPunrUP5ei1d7wpsA/l6LV3vCmwD+UOw8ymLPBP5Q7DzKYs8E/dd2pDhJEwz913akOEkTDPzR930ihEsE/NH3fSKESwT+3sAnUMWvBP7ewCdQxa8E/TySGXKUEwj9PJIZcpQTCPzWIUNaxu8I/NYhQ1rG7wj8=",
        "encoding": "base64",
        "path": [
         "_data",
         2,
         "y",
         "value"
        ]
       },
       {
        "data": "yErZkkDI1D8Pi8pIVtPAPzoGHphVOcE/kIobZrMmwz+XlRpdjI3WP5GCBi7Cxbs/MEaX7O9kvj8EDW8d6pfAP9I8AlHkkdc/xLpxOqlXuj8JwJlExDS9P8NjwmTUxb8/I4i5Mrfi1z/9v31xM7m5Pw5Po9cVTLw/1yyMfIdOvz+oRvEw5nS5PyZMRl382bk/hWXfNi2uuj+6WPw4F4C7Pw==",
        "encoding": "base64",
        "path": [
         "_data",
         3,
         "y",
         "value"
        ]
       },
       {
        "data": "kpIKbOfG1T8Dc4JmUJXBP7p3GIZTa8I/9T1oK2Lcwz8P4aCIe67YP5AsQ4f7Sr4/7AomTpBRwD9xBV+LQqrBP/2/fXEzudk/fPL0mNEbvD+gVY5vkwG/P8XIUbY3qcA/8894dSaf2j8osiDbRra7P7sqfHhJKb4/mbnc8zsxwD84Gu+JPjy7P1Sf5C/L2bs/DohbWtgqvD9/ht1Asgy9Pw==",
        "encoding": "base64",
        "path": [
         "_data",
         4,
         "y",
         "value"
        ]
       },
       {
        "data": "+W2aF4+g1j+cH36mauzCP2DbJ3Sc3MM/I/I6MggAxT+nnhFlX8DZP2rXwvfj18A/WxRSjZb9wT8EXEKG6enCP+wvMxEn7to/HH3N1Dzcvj8be5Z5R8zAPwjDCDNC3cE/XQm7zciT2z+jSuQWZze+P8B4y+lFYcA/up+UN2iwwT+vGP/Z4Nu9P4pqTLWERb4/oNhzEeJ5vj+8TPQapVy/Pw==",
        "encoding": "base64",
        "path": [
         "_data",
         5,
         "y",
         "value"
        ]
       },
       {
        "data": "a1unYZ/H1z+Fgw9VW4LEPz7BXfcgN8U/6BmKwSG9xj9DGzBX+e/aP4mEwrhNeMI/5DbOsEF6wz+ycNOp36XEP9tpeeoYLNw/vxeXtW49wT+BF6Nej9bCP+Mfx5v278M/UqqOiPej3D82pSIvmjbBP+Jvv/4fesI/cfnIAwjJwz9+5O7qhQnBP438/QFwJsE/u7abTLM6wT9ModmFcq3BPw==",
        "encoding": "base64",
        "path": [
         "_data",
         6,
         "y",
         "value"
        ]
       },
       {
        "data": "hutGYFgv2T+Kx/+ZEunGP9xcq89Vssc/1xeWkHQTyT/8MAJIql/cP9h57751b8Q/9bS3RXZzxT9jQckmy5fGPznY6TsCZN0/9Ru3veqHwz+Z66Q4N+fEP6YwDxbFIsY/J9z5GQ7M3T89OdILXwbDPy7RypFLX8Q/IGnDFzi4xT96sBV9UgTDP8wS1HNw38I/24VMe5Qvwz9Z9380roLDPw==",
        "encoding": "base64",
        "path": [
         "_data",
         7,
         "y",
         "value"
        ]
       },
       {
        "data": "pdSAK2G32T9Sq7OCIdzIPzpZclCeC8o/yRs02Eg5yz+GNE+FupDcP3O0QS7v58Y/Sen1e8b3xz+lNbVfONvIPysKz3iIv90/1m1ZNzuOxj+XyAecsXvHPxPqe729Zcg/lZCHrHc13j9afwsgcLPFP0wXBKZcDMc/FinGuAEUyD9cKjSot0/FPxD2ShAUaMU/UJXRZwCKxT9AC1JLka/FPw==",
        "encoding": "base64",
        "path": [
         "_data",
         8,
         "y",
         "value"
        ]
       },
       {
        "data": "M7ks7J5a2j+BknPI7O3KP83AkRzz5Ms/Z6ZF388azT+ex3ALUAHdP7mMDnJmpsg/RZNroBueyT+RwYn0IZXKPw6NOm9nBN4/gv89hP7yxz9setZHOhPJP8E3xWN2AMo/XGnKB3Z/3j8PsfwFF6jHPyPxFTjex8g/vw+CfX3cyT/kkBKnUXXHP5323Porb8c/KSW22vWrxz/aj9HZlsHHPw==",
        "encoding": "base64",
        "path": [
         "_data",
         9,
         "y",
         "value"
        ]
       },
       {
        "data": "ceZCPga/2j/3yXRmbY3MP4nLgOlbac0/jxU8crDAzj/gszRzbYPdP71Cb7yiyso/4asMoh3Cyz+xeTMOuP/MPzUWup5vPd4/ctuY5dn0yT/RcUwdvFDLP8NTcsI0Q8w/CQF6mNbU3j90hsFtIZHJP1FEtAqtx8o/bkbEDuvsyz+phTssKiPJPxq9rmDiBMk/MgklT8jkyD8b9mbjpOPIPw==",
        "encoding": "base64",
        "path": [
         "_data",
         10,
         "y",
         "value"
        ]
       },
       {
        "data": "YxXfvssy2z+1oT0plQLOP4iurpBz7s4/nFBHI/kq0D99jj7dHe/dPxA+LjtMkcw/40qfoip9zT/cgt2MFofOP0cgndVQh94/IUuT+Qnkyz/jOWPRfOPMP90+e7En3s0//jjxTd7/3j8svkTMSVXLP6J4KwwZbcw/nESLaQGJzT8iBzEeGzvLP3dvgY265co/k+nM2hq5yj87D0UxEnLKPw==",
        "encoding": "base64",
        "path": [
         "_data",
         11,
         "y",
         "value"
        ]
       },
       {
        "data": "uOnU71Kq2z+Gys2FaXPPP8tDnfD+HdA/EI4TBRe70D88EWnzqCHeP5Ges4yACM4/MMOxSqHszj8tAYKtDsbPP5UvU3igEd8/nDNPmFPvzD8CMZCxch3OPwupIJlBaM8/5w4szW903z8GGzwAGonMP6Bszk/6rM0/pyj63dPBzj8A7Wahn5XMPyiKpCkyccw/Al/XpiRTzD8CqQTGsOzLPw==",
        "encoding": "base64",
        "path": [
         "_data",
         12,
         "y",
         "value"
        ]
       }
      ],
      "model_module": "plotlywidget",
      "model_module_version": "4.6.0",
      "model_name": "FigureModel",
      "state": {
       "_config": {
        "plotlyServerURL": "https://plot.ly"
       },
       "_data": [
        {
         "hovertemplate": "%{text}",
         "name": "0",
         "showlegend": true,
         "text": [
          "bad4: 0.964002334533024<br>Experiment id:<br> ALG_005_EXP_001-PatchMatch-MacLean_et_al-Numba<br>Scene: cones<br>kernel size: 1x1<br>kernel spec: None<br>match:0<br>bad4: 0.964002334533024<br>IMG res:450x375",
          "bad4: 0.964002334533024<br>Experiment id:<br> ALG_005_EXP_001-PatchMatch-MacLean_et_al-Numba<br>Scene: cones<br>kernel size: 1x1<br>kernel spec: None<br>match:0<br>bad4: 0.964002334533024<br>IMG res:450x375",
          "bad4: 0.957929769464864<br>Experiment id:<br> ALG_005_EXP_001-PatchMatch-MacLean_et_al-Numba<br>Scene: cones<br>kernel size: 1x3<br>kernel spec: None<br>match:0<br>bad4: 0.957929769464864<br>IMG res:450x375",
          "bad4: 0.957929769464864<br>Experiment id:<br> ALG_005_EXP_001-PatchMatch-MacLean_et_al-Numba<br>Scene: cones<br>kernel size: 1x3<br>kernel spec: None<br>match:0<br>bad4: 0.957929769464864<br>IMG res:450x375",
          "bad4: 0.9657879743757208<br>Experiment id:<br> ALG_005_EXP_001-PatchMatch-MacLean_et_al-Numba<br>Scene: cones<br>kernel size: 1x5<br>kernel spec: None<br>match:0<br>bad4: 0.9657879743757208<br>IMG res:450x375",
          "bad4: 0.9657879743757208<br>Experiment id:<br> ALG_005_EXP_001-PatchMatch-MacLean_et_al-Numba<br>Scene: cones<br>kernel size: 1x5<br>kernel spec: None<br>match:0<br>bad4: 0.9657879743757208<br>IMG res:450x375",
          "bad4: 0.9717076831149342<br>Experiment id:<br> ALG_005_EXP_001-PatchMatch-MacLean_et_al-Numba<br>Scene: cones<br>kernel size: 1x7<br>kernel spec: None<br>match:0<br>bad4: 0.9717076831149342<br>IMG res:450x375",
          "bad4: 0.9717076831149342<br>Experiment id:<br> ALG_005_EXP_001-PatchMatch-MacLean_et_al-Numba<br>Scene: cones<br>kernel size: 1x7<br>kernel spec: None<br>match:0<br>bad4: 0.9717076831149342<br>IMG res:450x375",
          "bad4: 0.9656212220168696<br>Experiment id:<br> ALG_005_EXP_001-PatchMatch-MacLean_et_al-Numba<br>Scene: cones<br>kernel size: 3x1<br>kernel spec: None<br>match:0<br>bad4: 0.9656212220168696<br>IMG res:450x375",
          "bad4: 0.9656212220168696<br>Experiment id:<br> ALG_005_EXP_001-PatchMatch-MacLean_et_al-Numba<br>Scene: cones<br>kernel size: 3x1<br>kernel spec: None<br>match:0<br>bad4: 0.9656212220168696<br>IMG res:450x375",
          "bad4: 0.962494615288412<br>Experiment id:<br> ALG_005_EXP_001-PatchMatch-MacLean_et_al-Numba<br>Scene: cones<br>kernel size: 3x3<br>kernel spec: None<br>match:0<br>bad4: 0.962494615288412<br>IMG res:450x375",
          "bad4: 0.962494615288412<br>Experiment id:<br> ALG_005_EXP_001-PatchMatch-MacLean_et_al-Numba<br>Scene: cones<br>kernel size: 3x3<br>kernel spec: None<br>match:0<br>bad4: 0.962494615288412<br>IMG res:450x375",
          "bad4: 0.9668579686783486<br>Experiment id:<br> ALG_005_EXP_001-PatchMatch-MacLean_et_al-Numba<br>Scene: cones<br>kernel size: 3x5<br>kernel spec: None<br>match:0<br>bad4: 0.9668579686783486<br>IMG res:450x375",
          "bad4: 0.9668579686783486<br>Experiment id:<br> ALG_005_EXP_001-PatchMatch-MacLean_et_al-Numba<br>Scene: cones<br>kernel size: 3x5<br>kernel spec: None<br>match:0<br>bad4: 0.9668579686783486<br>IMG res:450x375",
          "bad4: 0.9725344968942372<br>Experiment id:<br> ALG_005_EXP_001-PatchMatch-MacLean_et_al-Numba<br>Scene: cones<br>kernel size: 3x7<br>kernel spec: None<br>match:0<br>bad4: 0.9725344968942372<br>IMG res:450x375",
          "bad4: 0.9725344968942372<br>Experiment id:<br> ALG_005_EXP_001-PatchMatch-MacLean_et_al-Numba<br>Scene: cones<br>kernel size: 3x7<br>kernel spec: None<br>match:0<br>bad4: 0.9725344968942372<br>IMG res:450x375",
          "bad4: 0.969095229492934<br>Experiment id:<br> ALG_005_EXP_001-PatchMatch-MacLean_et_al-Numba<br>Scene: cones<br>kernel size: 5x1<br>kernel spec: None<br>match:0<br>bad4: 0.969095229492934<br>IMG res:450x375",
          "bad4: 0.969095229492934<br>Experiment id:<br> ALG_005_EXP_001-PatchMatch-MacLean_et_al-Numba<br>Scene: cones<br>kernel size: 5x1<br>kernel spec: None<br>match:0<br>bad4: 0.969095229492934<br>IMG res:450x375",
          "bad4: 0.960215666384114<br>Experiment id:<br> ALG_005_EXP_001-PatchMatch-MacLean_et_al-Numba<br>Scene: cones<br>kernel size: 5x3<br>kernel spec: None<br>match:0<br>bad4: 0.960215666384114<br>IMG res:450x375",
          "bad4: 0.960215666384114<br>Experiment id:<br> ALG_005_EXP_001-PatchMatch-MacLean_et_al-Numba<br>Scene: cones<br>kernel size: 5x3<br>kernel spec: None<br>match:0<br>bad4: 0.960215666384114<br>IMG res:450x375",
          "bad4: 0.9688451009546571<br>Experiment id:<br> ALG_005_EXP_001-PatchMatch-MacLean_et_al-Numba<br>Scene: cones<br>kernel size: 5x5<br>kernel spec: None<br>match:0<br>bad4: 0.9688451009546571<br>IMG res:450x375",
          "bad4: 0.9688451009546571<br>Experiment id:<br> ALG_005_EXP_001-PatchMatch-MacLean_et_al-Numba<br>Scene: cones<br>kernel size: 5x5<br>kernel spec: None<br>match:0<br>bad4: 0.9688451009546571<br>IMG res:450x375",
          "bad4: 0.9730625460305992<br>Experiment id:<br> ALG_005_EXP_001-PatchMatch-MacLean_et_al-Numba<br>Scene: cones<br>kernel size: 5x7<br>kernel spec: None<br>match:0<br>bad4: 0.9730625460305992<br>IMG res:450x375",
          "bad4: 0.9730625460305992<br>Experiment id:<br> ALG_005_EXP_001-PatchMatch-MacLean_et_al-Numba<br>Scene: cones<br>kernel size: 5x7<br>kernel spec: None<br>match:0<br>bad4: 0.9730625460305992<br>IMG res:450x375",
          "bad4: 0.9715200867112266<br>Experiment id:<br> ALG_005_EXP_001-PatchMatch-MacLean_et_al-Numba<br>Scene: cones<br>kernel size: 7x1<br>kernel spec: None<br>match:0<br>bad4: 0.9715200867112266<br>IMG res:450x375",
          "bad4: 0.9715200867112266<br>Experiment id:<br> ALG_005_EXP_001-PatchMatch-MacLean_et_al-Numba<br>Scene: cones<br>kernel size: 7x1<br>kernel spec: None<br>match:0<br>bad4: 0.9715200867112266<br>IMG res:450x375",
          "bad4: 0.9646068118338592<br>Experiment id:<br> ALG_005_EXP_001-PatchMatch-MacLean_et_al-Numba<br>Scene: cones<br>kernel size: 7x3<br>kernel spec: None<br>match:0<br>bad4: 0.9646068118338592<br>IMG res:450x375",
          "bad4: 0.9646068118338592<br>Experiment id:<br> ALG_005_EXP_001-PatchMatch-MacLean_et_al-Numba<br>Scene: cones<br>kernel size: 7x3<br>kernel spec: None<br>match:0<br>bad4: 0.9646068118338592<br>IMG res:450x375",
          "bad4: 0.9685324402818116<br>Experiment id:<br> ALG_005_EXP_001-PatchMatch-MacLean_et_al-Numba<br>Scene: cones<br>kernel size: 7x5<br>kernel spec: None<br>match:0<br>bad4: 0.9685324402818116<br>IMG res:450x375",
          "bad4: 0.9685324402818116<br>Experiment id:<br> ALG_005_EXP_001-PatchMatch-MacLean_et_al-Numba<br>Scene: cones<br>kernel size: 7x5<br>kernel spec: None<br>match:0<br>bad4: 0.9685324402818116<br>IMG res:450x375",
          "bad4: 0.9736322832566736<br>Experiment id:<br> ALG_005_EXP_001-PatchMatch-MacLean_et_al-Numba<br>Scene: cones<br>kernel size: 7x7<br>kernel spec: None<br>match:0<br>bad4: 0.9736322832566736<br>IMG res:450x375",
          "bad4: 0.9736322832566736<br>Experiment id:<br> ALG_005_EXP_001-PatchMatch-MacLean_et_al-Numba<br>Scene: cones<br>kernel size: 7x7<br>kernel spec: None<br>match:0<br>bad4: 0.9736322832566736<br>IMG res:450x375",
          "bad4: 0.9675527701735614<br>Experiment id:<br> ALG_005_EXP_001-PatchMatch-MacLean_et_al-Numba<br>Scene: cones<br>kernel size: 9x3<br>kernel spec: None<br>match:0<br>bad4: 0.9675527701735614<br>IMG res:450x375",
          "bad4: 0.9675527701735614<br>Experiment id:<br> ALG_005_EXP_001-PatchMatch-MacLean_et_al-Numba<br>Scene: cones<br>kernel size: 9x3<br>kernel spec: None<br>match:0<br>bad4: 0.9675527701735614<br>IMG res:450x375",
          "bad4: 0.9677264705473646<br>Experiment id:<br> ALG_005_EXP_001-PatchMatch-MacLean_et_al-Numba<br>Scene: cones<br>kernel size: 11x3<br>kernel spec: None<br>match:0<br>bad4: 0.9677264705473646<br>IMG res:450x375",
          "bad4: 0.9677264705473646<br>Experiment id:<br> ALG_005_EXP_001-PatchMatch-MacLean_et_al-Numba<br>Scene: cones<br>kernel size: 11x3<br>kernel spec: None<br>match:0<br>bad4: 0.9677264705473646<br>IMG res:450x375",
          "bad4: 0.9675388741436572<br>Experiment id:<br> ALG_005_EXP_001-PatchMatch-MacLean_et_al-Numba<br>Scene: cones<br>kernel size: 13x3<br>kernel spec: None<br>match:0<br>bad4: 0.9675388741436572<br>IMG res:450x375",
          "bad4: 0.9675388741436572<br>Experiment id:<br> ALG_005_EXP_001-PatchMatch-MacLean_et_al-Numba<br>Scene: cones<br>kernel size: 13x3<br>kernel spec: None<br>match:0<br>bad4: 0.9675388741436572<br>IMG res:450x375",
          "bad4: 0.9697066548087212<br>Experiment id:<br> ALG_005_EXP_001-PatchMatch-MacLean_et_al-Numba<br>Scene: cones<br>kernel size: 15x3<br>kernel spec: None<br>match:0<br>bad4: 0.9697066548087212<br>IMG res:450x375",
          "bad4: 0.9697066548087212<br>Experiment id:<br> ALG_005_EXP_001-PatchMatch-MacLean_et_al-Numba<br>Scene: cones<br>kernel size: 15x3<br>kernel spec: None<br>match:0<br>bad4: 0.9697066548087212<br>IMG res:450x375"
         ],
         "type": "scatter",
         "uid": "a3383602-c84f-4221-af39-62904e2af73e",
         "x": [
          "1x1",
          "1x1",
          "1x3",
          "1x3",
          "1x5",
          "1x5",
          "1x7",
          "1x7",
          "3x1",
          "3x1",
          "3x3",
          "3x3",
          "3x5",
          "3x5",
          "3x7",
          "3x7",
          "5x1",
          "5x1",
          "5x3",
          "5x3",
          "5x5",
          "5x5",
          "5x7",
          "5x7",
          "7x1",
          "7x1",
          "7x3",
          "7x3",
          "7x5",
          "7x5",
          "7x7",
          "7x7",
          "9x3",
          "9x3",
          "11x3",
          "11x3",
          "13x3",
          "13x3",
          "15x3",
          "15x3"
         ],
         "y": {
          "dtype": "float64",
          "shape": [
           40
          ]
         }
        },
        {
         "hovertemplate": "%{text}",
         "name": "120",
         "showlegend": true,
         "text": [
          "bad4: 0.442810888929033<br>Experiment id:<br> ALG_005_EXP_001-PatchMatch-MacLean_et_al-Numba<br>Scene: cones<br>kernel size: 1x1<br>kernel spec: None<br>match:120<br>bad4: 0.442810888929033<br>IMG res:450x375",
          "bad4: 0.2582646637855565<br>Experiment id:<br> ALG_005_EXP_001-PatchMatch-MacLean_et_al-Numba<br>Scene: cones<br>kernel size: 1x3<br>kernel spec: None<br>match:120<br>bad4: 0.2582646637855565<br>IMG res:450x375",
          "bad4: 0.2617873073662855<br>Experiment id:<br> ALG_005_EXP_001-PatchMatch-MacLean_et_al-Numba<br>Scene: cones<br>kernel size: 1x5<br>kernel spec: None<br>match:120<br>bad4: 0.2617873073662855<br>IMG res:450x375",
          "bad4: 0.27098647916290314<br>Experiment id:<br> ALG_005_EXP_001-PatchMatch-MacLean_et_al-Numba<br>Scene: cones<br>kernel size: 1x7<br>kernel spec: None<br>match:120<br>bad4: 0.27098647916290314<br>IMG res:450x375",
          "bad4: 0.4745494212303545<br>Experiment id:<br> ALG_005_EXP_001-PatchMatch-MacLean_et_al-Numba<br>Scene: cones<br>kernel size: 3x1<br>kernel spec: None<br>match:120<br>bad4: 0.4745494212303545<br>IMG res:450x375",
          "bad4: 0.2446951905840501<br>Experiment id:<br> ALG_005_EXP_001-PatchMatch-MacLean_et_al-Numba<br>Scene: cones<br>kernel size: 3x3<br>kernel spec: None<br>match:120<br>bad4: 0.2446951905840501<br>IMG res:450x375",
          "bad4: 0.253685921932104<br>Experiment id:<br> ALG_005_EXP_001-PatchMatch-MacLean_et_al-Numba<br>Scene: cones<br>kernel size: 3x5<br>kernel spec: None<br>match:120<br>bad4: 0.253685921932104<br>IMG res:450x375",
          "bad4: 0.2603490682711949<br>Experiment id:<br> ALG_005_EXP_001-PatchMatch-MacLean_et_al-Numba<br>Scene: cones<br>kernel size: 3x7<br>kernel spec: None<br>match:120<br>bad4: 0.2603490682711949<br>IMG res:450x375",
          "bad4: 0.4908425162930951<br>Experiment id:<br> ALG_005_EXP_001-PatchMatch-MacLean_et_al-Numba<br>Scene: cones<br>kernel size: 5x1<br>kernel spec: None<br>match:120<br>bad4: 0.4908425162930951<br>IMG res:450x375",
          "bad4: 0.23778886372163474<br>Experiment id:<br> ALG_005_EXP_001-PatchMatch-MacLean_et_al-Numba<br>Scene: cones<br>kernel size: 5x3<br>kernel spec: None<br>match:120<br>bad4: 0.23778886372163474<br>IMG res:450x375",
          "bad4: 0.2482873143143004<br>Experiment id:<br> ALG_005_EXP_001-PatchMatch-MacLean_et_al-Numba<br>Scene: cones<br>kernel size: 5x5<br>kernel spec: None<br>match:120<br>bad4: 0.2482873143143004<br>IMG res:450x375",
          "bad4: 0.25372066200686466<br>Experiment id:<br> ALG_005_EXP_001-PatchMatch-MacLean_et_al-Numba<br>Scene: cones<br>kernel size: 5x7<br>kernel spec: None<br>match:120<br>bad4: 0.25372066200686466<br>IMG res:450x375",
          "bad4: 0.4958311910287231<br>Experiment id:<br> ALG_005_EXP_001-PatchMatch-MacLean_et_al-Numba<br>Scene: cones<br>kernel size: 7x1<br>kernel spec: None<br>match:120<br>bad4: 0.4958311910287231<br>IMG res:450x375",
          "bad4: 0.2340369356474855<br>Experiment id:<br> ALG_005_EXP_001-PatchMatch-MacLean_et_al-Numba<br>Scene: cones<br>kernel size: 7x3<br>kernel spec: None<br>match:120<br>bad4: 0.2340369356474855<br>IMG res:450x375",
          "bad4: 0.24029709711935301<br>Experiment id:<br> ALG_005_EXP_001-PatchMatch-MacLean_et_al-Numba<br>Scene: cones<br>kernel size: 7x5<br>kernel spec: None<br>match:120<br>bad4: 0.24029709711935301<br>IMG res:450x375",
          "bad4: 0.2500312660672846<br>Experiment id:<br> ALG_005_EXP_001-PatchMatch-MacLean_et_al-Numba<br>Scene: cones<br>kernel size: 7x7<br>kernel spec: None<br>match:120<br>bad4: 0.2500312660672846<br>IMG res:450x375",
          "bad4: 0.23190389505718215<br>Experiment id:<br> ALG_005_EXP_001-PatchMatch-MacLean_et_al-Numba<br>Scene: cones<br>kernel size: 9x3<br>kernel spec: None<br>match:120<br>bad4: 0.23190389505718215<br>IMG res:450x375",
          "bad4: 0.23104234120311826<br>Experiment id:<br> ALG_005_EXP_001-PatchMatch-MacLean_et_al-Numba<br>Scene: cones<br>kernel size: 11x3<br>kernel spec: None<br>match:120<br>bad4: 0.23104234120311826<br>IMG res:450x375",
          "bad4: 0.2310214971582619<br>Experiment id:<br> ALG_005_EXP_001-PatchMatch-MacLean_et_al-Numba<br>Scene: cones<br>kernel size: 13x3<br>kernel spec: None<br>match:120<br>bad4: 0.2310214971582619<br>IMG res:450x375",
          "bad4: 0.2316954546086183<br>Experiment id:<br> ALG_005_EXP_001-PatchMatch-MacLean_et_al-Numba<br>Scene: cones<br>kernel size: 15x3<br>kernel spec: None<br>match:120<br>bad4: 0.2316954546086183<br>IMG res:450x375"
         ],
         "type": "scatter",
         "uid": "bdb446bc-3f9b-4a56-81fa-96d1ed2d211d",
         "x": [
          "1x1",
          "1x3",
          "1x5",
          "1x7",
          "3x1",
          "3x3",
          "3x5",
          "3x7",
          "5x1",
          "5x3",
          "5x5",
          "5x7",
          "7x1",
          "7x3",
          "7x5",
          "7x7",
          "9x3",
          "11x3",
          "13x3",
          "15x3"
         ],
         "y": {
          "dtype": "float64",
          "shape": [
           20
          ]
         }
        },
        {
         "hovertemplate": "%{text}",
         "name": "10",
         "showlegend": true,
         "text": [
          "bad4: 0.3198379722913164<br>Experiment id:<br> ALG_005_EXP_001-PatchMatch-MacLean_et_al-Numba<br>Scene: cones<br>kernel size: 1x1<br>kernel spec: None<br>match:10<br>bad4: 0.3198379722913164<br>IMG res:450x375",
          "bad4: 0.3198379722913164<br>Experiment id:<br> ALG_005_EXP_001-PatchMatch-MacLean_et_al-Numba<br>Scene: cones<br>kernel size: 1x1<br>kernel spec: None<br>match:10<br>bad4: 0.3198379722913164<br>IMG res:450x375",
          "bad4: 0.15783110765254366<br>Experiment id:<br> ALG_005_EXP_001-PatchMatch-MacLean_et_al-Numba<br>Scene: cones<br>kernel size: 1x3<br>kernel spec: None<br>match:10<br>bad4: 0.15783110765254366<br>IMG res:450x375",
          "bad4: 0.15783110765254366<br>Experiment id:<br> ALG_005_EXP_001-PatchMatch-MacLean_et_al-Numba<br>Scene: cones<br>kernel size: 1x3<br>kernel spec: None<br>match:10<br>bad4: 0.15783110765254366<br>IMG res:450x375",
          "bad4: 0.15965148757000125<br>Experiment id:<br> ALG_005_EXP_001-PatchMatch-MacLean_et_al-Numba<br>Scene: cones<br>kernel size: 1x5<br>kernel spec: None<br>match:10<br>bad4: 0.15965148757000125<br>IMG res:450x375",
          "bad4: 0.15965148757000125<br>Experiment id:<br> ALG_005_EXP_001-PatchMatch-MacLean_et_al-Numba<br>Scene: cones<br>kernel size: 1x5<br>kernel spec: None<br>match:10<br>bad4: 0.15965148757000125<br>IMG res:450x375",
          "bad4: 0.16766949682475718<br>Experiment id:<br> ALG_005_EXP_001-PatchMatch-MacLean_et_al-Numba<br>Scene: cones<br>kernel size: 1x7<br>kernel spec: None<br>match:10<br>bad4: 0.16766949682475718<br>IMG res:450x375",
          "bad4: 0.16766949682475718<br>Experiment id:<br> ALG_005_EXP_001-PatchMatch-MacLean_et_al-Numba<br>Scene: cones<br>kernel size: 1x7<br>kernel spec: None<br>match:10<br>bad4: 0.16766949682475718<br>IMG res:450x375",
          "bad4: 0.3208662785042313<br>Experiment id:<br> ALG_005_EXP_001-PatchMatch-MacLean_et_al-Numba<br>Scene: cones<br>kernel size: 3x1<br>kernel spec: None<br>match:10<br>bad4: 0.3208662785042313<br>IMG res:450x375",
          "bad4: 0.3208662785042313<br>Experiment id:<br> ALG_005_EXP_001-PatchMatch-MacLean_et_al-Numba<br>Scene: cones<br>kernel size: 3x1<br>kernel spec: None<br>match:10<br>bad4: 0.3208662785042313<br>IMG res:450x375",
          "bad4: 0.13652154579436654<br>Experiment id:<br> ALG_005_EXP_001-PatchMatch-MacLean_et_al-Numba<br>Scene: cones<br>kernel size: 3x3<br>kernel spec: None<br>match:10<br>bad4: 0.13652154579436654<br>IMG res:450x375",
          "bad4: 0.13652154579436654<br>Experiment id:<br> ALG_005_EXP_001-PatchMatch-MacLean_et_al-Numba<br>Scene: cones<br>kernel size: 3x3<br>kernel spec: None<br>match:10<br>bad4: 0.13652154579436654<br>IMG res:450x375",
          "bad4: 0.14132262412628713<br>Experiment id:<br> ALG_005_EXP_001-PatchMatch-MacLean_et_al-Numba<br>Scene: cones<br>kernel size: 3x5<br>kernel spec: None<br>match:10<br>bad4: 0.14132262412628713<br>IMG res:450x375",
          "bad4: 0.14132262412628713<br>Experiment id:<br> ALG_005_EXP_001-PatchMatch-MacLean_et_al-Numba<br>Scene: cones<br>kernel size: 3x5<br>kernel spec: None<br>match:10<br>bad4: 0.14132262412628713<br>IMG res:450x375",
          "bad4: 0.15238386393007514<br>Experiment id:<br> ALG_005_EXP_001-PatchMatch-MacLean_et_al-Numba<br>Scene: cones<br>kernel size: 3x7<br>kernel spec: None<br>match:10<br>bad4: 0.15238386393007514<br>IMG res:450x375",
          "bad4: 0.15238386393007514<br>Experiment id:<br> ALG_005_EXP_001-PatchMatch-MacLean_et_al-Numba<br>Scene: cones<br>kernel size: 3x7<br>kernel spec: None<br>match:10<br>bad4: 0.15238386393007514<br>IMG res:450x375",
          "bad4: 0.3171282464599864<br>Experiment id:<br> ALG_005_EXP_001-PatchMatch-MacLean_et_al-Numba<br>Scene: cones<br>kernel size: 5x1<br>kernel spec: None<br>match:10<br>bad4: 0.3171282464599864<br>IMG res:450x375",
          "bad4: 0.3171282464599864<br>Experiment id:<br> ALG_005_EXP_001-PatchMatch-MacLean_et_al-Numba<br>Scene: cones<br>kernel size: 5x1<br>kernel spec: None<br>match:10<br>bad4: 0.3171282464599864<br>IMG res:450x375",
          "bad4: 0.12966385503661604<br>Experiment id:<br> ALG_005_EXP_001-PatchMatch-MacLean_et_al-Numba<br>Scene: cones<br>kernel size: 5x3<br>kernel spec: None<br>match:10<br>bad4: 0.12966385503661604<br>IMG res:450x375",
          "bad4: 0.12966385503661604<br>Experiment id:<br> ALG_005_EXP_001-PatchMatch-MacLean_et_al-Numba<br>Scene: cones<br>kernel size: 5x3<br>kernel spec: None<br>match:10<br>bad4: 0.12966385503661604<br>IMG res:450x375",
          "bad4: 0.1384044578463933<br>Experiment id:<br> ALG_005_EXP_001-PatchMatch-MacLean_et_al-Numba<br>Scene: cones<br>kernel size: 5x5<br>kernel spec: None<br>match:10<br>bad4: 0.1384044578463933<br>IMG res:450x375",
          "bad4: 0.1384044578463933<br>Experiment id:<br> ALG_005_EXP_001-PatchMatch-MacLean_et_al-Numba<br>Scene: cones<br>kernel size: 5x5<br>kernel spec: None<br>match:10<br>bad4: 0.1384044578463933<br>IMG res:450x375",
          "bad4: 0.14892375248391534<br>Experiment id:<br> ALG_005_EXP_001-PatchMatch-MacLean_et_al-Numba<br>Scene: cones<br>kernel size: 5x7<br>kernel spec: None<br>match:10<br>bad4: 0.14892375248391534<br>IMG res:450x375",
          "bad4: 0.14892375248391534<br>Experiment id:<br> ALG_005_EXP_001-PatchMatch-MacLean_et_al-Numba<br>Scene: cones<br>kernel size: 5x7<br>kernel spec: None<br>match:10<br>bad4: 0.14892375248391534<br>IMG res:450x375",
          "bad4: 0.3199908286202632<br>Experiment id:<br> ALG_005_EXP_001-PatchMatch-MacLean_et_al-Numba<br>Scene: cones<br>kernel size: 7x1<br>kernel spec: None<br>match:10<br>bad4: 0.3199908286202632<br>IMG res:450x375",
          "bad4: 0.3199908286202632<br>Experiment id:<br> ALG_005_EXP_001-PatchMatch-MacLean_et_al-Numba<br>Scene: cones<br>kernel size: 7x1<br>kernel spec: None<br>match:10<br>bad4: 0.3199908286202632<br>IMG res:450x375",
          "bad4: 0.13009463196364798<br>Experiment id:<br> ALG_005_EXP_001-PatchMatch-MacLean_et_al-Numba<br>Scene: cones<br>kernel size: 7x3<br>kernel spec: None<br>match:10<br>bad4: 0.13009463196364798<br>IMG res:450x375",
          "bad4: 0.13009463196364798<br>Experiment id:<br> ALG_005_EXP_001-PatchMatch-MacLean_et_al-Numba<br>Scene: cones<br>kernel size: 7x3<br>kernel spec: None<br>match:10<br>bad4: 0.13009463196364798<br>IMG res:450x375",
          "bad4: 0.13829328960715925<br>Experiment id:<br> ALG_005_EXP_001-PatchMatch-MacLean_et_al-Numba<br>Scene: cones<br>kernel size: 7x5<br>kernel spec: None<br>match:10<br>bad4: 0.13829328960715925<br>IMG res:450x375",
          "bad4: 0.13829328960715925<br>Experiment id:<br> ALG_005_EXP_001-PatchMatch-MacLean_et_al-Numba<br>Scene: cones<br>kernel size: 7x5<br>kernel spec: None<br>match:10<br>bad4: 0.13829328960715925<br>IMG res:450x375",
          "bad4: 0.1505148479079527<br>Experiment id:<br> ALG_005_EXP_001-PatchMatch-MacLean_et_al-Numba<br>Scene: cones<br>kernel size: 7x7<br>kernel spec: None<br>match:10<br>bad4: 0.1505148479079527<br>IMG res:450x375",
          "bad4: 0.1505148479079527<br>Experiment id:<br> ALG_005_EXP_001-PatchMatch-MacLean_et_al-Numba<br>Scene: cones<br>kernel size: 7x7<br>kernel spec: None<br>match:10<br>bad4: 0.1505148479079527<br>IMG res:450x375",
          "bad4: 0.13338104303600462<br>Experiment id:<br> ALG_005_EXP_001-PatchMatch-MacLean_et_al-Numba<br>Scene: cones<br>kernel size: 9x3<br>kernel spec: None<br>match:10<br>bad4: 0.13338104303600462<br>IMG res:450x375",
          "bad4: 0.13338104303600462<br>Experiment id:<br> ALG_005_EXP_001-PatchMatch-MacLean_et_al-Numba<br>Scene: cones<br>kernel size: 9x3<br>kernel spec: None<br>match:10<br>bad4: 0.13338104303600462<br>IMG res:450x375",
          "bad4: 0.13608382085238244<br>Experiment id:<br> ALG_005_EXP_001-PatchMatch-MacLean_et_al-Numba<br>Scene: cones<br>kernel size: 11x3<br>kernel spec: None<br>match:10<br>bad4: 0.13608382085238244<br>IMG res:450x375",
          "bad4: 0.13608382085238244<br>Experiment id:<br> ALG_005_EXP_001-PatchMatch-MacLean_et_al-Numba<br>Scene: cones<br>kernel size: 11x3<br>kernel spec: None<br>match:10<br>bad4: 0.13608382085238244<br>IMG res:450x375",
          "bad4: 0.14076678293011688<br>Experiment id:<br> ALG_005_EXP_001-PatchMatch-MacLean_et_al-Numba<br>Scene: cones<br>kernel size: 13x3<br>kernel spec: None<br>match:10<br>bad4: 0.14076678293011688<br>IMG res:450x375",
          "bad4: 0.14076678293011688<br>Experiment id:<br> ALG_005_EXP_001-PatchMatch-MacLean_et_al-Numba<br>Scene: cones<br>kernel size: 13x3<br>kernel spec: None<br>match:10<br>bad4: 0.14076678293011688<br>IMG res:450x375",
          "bad4: 0.14635298695162793<br>Experiment id:<br> ALG_005_EXP_001-PatchMatch-MacLean_et_al-Numba<br>Scene: cones<br>kernel size: 15x3<br>kernel spec: None<br>match:10<br>bad4: 0.14635298695162793<br>IMG res:450x375",
          "bad4: 0.14635298695162793<br>Experiment id:<br> ALG_005_EXP_001-PatchMatch-MacLean_et_al-Numba<br>Scene: cones<br>kernel size: 15x3<br>kernel spec: None<br>match:10<br>bad4: 0.14635298695162793<br>IMG res:450x375"
         ],
         "type": "scatter",
         "uid": "cbbb6ae0-4914-4792-97dc-f2725b87ad96",
         "x": [
          "1x1",
          "1x1",
          "1x3",
          "1x3",
          "1x5",
          "1x5",
          "1x7",
          "1x7",
          "3x1",
          "3x1",
          "3x3",
          "3x3",
          "3x5",
          "3x5",
          "3x7",
          "3x7",
          "5x1",
          "5x1",
          "5x3",
          "5x3",
          "5x5",
          "5x5",
          "5x7",
          "5x7",
          "7x1",
          "7x1",
          "7x3",
          "7x3",
          "7x5",
          "7x5",
          "7x7",
          "7x7",
          "9x3",
          "9x3",
          "11x3",
          "11x3",
          "13x3",
          "13x3",
          "15x3",
          "15x3"
         ],
         "y": {
          "dtype": "float64",
          "shape": [
           40
          ]
         }
        },
        {
         "hovertemplate": "%{text}",
         "name": "20",
         "showlegend": true,
         "text": [
          "bad4: 0.3247224268026625<br>Experiment id:<br> ALG_005_EXP_001-PatchMatch-MacLean_et_al-Numba<br>Scene: cones<br>kernel size: 1x1<br>kernel spec: None<br>match:20<br>bad4: 0.3247224268026625<br>IMG res:450x375",
          "bad4: 0.13144949487931298<br>Experiment id:<br> ALG_005_EXP_001-PatchMatch-MacLean_et_al-Numba<br>Scene: cones<br>kernel size: 1x3<br>kernel spec: None<br>match:20<br>bad4: 0.13144949487931298<br>IMG res:450x375",
          "bad4: 0.1345622055778664<br>Experiment id:<br> ALG_005_EXP_001-PatchMatch-MacLean_et_al-Numba<br>Scene: cones<br>kernel size: 1x5<br>kernel spec: None<br>match:20<br>bad4: 0.1345622055778664<br>IMG res:450x375",
          "bad4: 0.14961855397912815<br>Experiment id:<br> ALG_005_EXP_001-PatchMatch-MacLean_et_al-Numba<br>Scene: cones<br>kernel size: 1x7<br>kernel spec: None<br>match:20<br>bad4: 0.14961855397912815<br>IMG res:450x375",
          "bad4: 0.3523894223420369<br>Experiment id:<br> ALG_005_EXP_001-PatchMatch-MacLean_et_al-Numba<br>Scene: cones<br>kernel size: 3x1<br>kernel spec: None<br>match:20<br>bad4: 0.3523894223420369<br>IMG res:450x375",
          "bad4: 0.10848630546252937<br>Experiment id:<br> ALG_005_EXP_001-PatchMatch-MacLean_et_al-Numba<br>Scene: cones<br>kernel size: 3x3<br>kernel spec: None<br>match:20<br>bad4: 0.10848630546252937<br>IMG res:450x375",
          "bad4: 0.11872767950196628<br>Experiment id:<br> ALG_005_EXP_001-PatchMatch-MacLean_et_al-Numba<br>Scene: cones<br>kernel size: 3x5<br>kernel spec: None<br>match:20<br>bad4: 0.11872767950196628<br>IMG res:450x375",
          "bad4: 0.12963606297680752<br>Experiment id:<br> ALG_005_EXP_001-PatchMatch-MacLean_et_al-Numba<br>Scene: cones<br>kernel size: 3x7<br>kernel spec: None<br>match:20<br>bad4: 0.12963606297680752<br>IMG res:450x375",
          "bad4: 0.36827953253755397<br>Experiment id:<br> ALG_005_EXP_001-PatchMatch-MacLean_et_al-Numba<br>Scene: cones<br>kernel size: 5x1<br>kernel spec: None<br>match:20<br>bad4: 0.36827953253755397<br>IMG res:450x375",
          "bad4: 0.1029001014410183<br>Experiment id:<br> ALG_005_EXP_001-PatchMatch-MacLean_et_al-Numba<br>Scene: cones<br>kernel size: 5x3<br>kernel spec: None<br>match:20<br>bad4: 0.1029001014410183<br>IMG res:450x375",
          "bad4: 0.11408640551394468<br>Experiment id:<br> ALG_005_EXP_001-PatchMatch-MacLean_et_al-Numba<br>Scene: cones<br>kernel size: 5x5<br>kernel spec: None<br>match:20<br>bad4: 0.11408640551394468<br>IMG res:450x375",
          "bad4: 0.12411239108986565<br>Experiment id:<br> ALG_005_EXP_001-PatchMatch-MacLean_et_al-Numba<br>Scene: cones<br>kernel size: 5x7<br>kernel spec: None<br>match:20<br>bad4: 0.12411239108986565<br>IMG res:450x375",
          "bad4: 0.373212623153565<br>Experiment id:<br> ALG_005_EXP_001-PatchMatch-MacLean_et_al-Numba<br>Scene: cones<br>kernel size: 7x1<br>kernel spec: None<br>match:20<br>bad4: 0.373212623153565<br>IMG res:450x375",
          "bad4: 0.1004821922376777<br>Experiment id:<br> ALG_005_EXP_001-PatchMatch-MacLean_et_al-Numba<br>Scene: cones<br>kernel size: 7x3<br>kernel spec: None<br>match:20<br>bad4: 0.1004821922376777<br>IMG res:450x375",
          "bad4: 0.11053596987340716<br>Experiment id:<br> ALG_005_EXP_001-PatchMatch-MacLean_et_al-Numba<br>Scene: cones<br>kernel size: 7x5<br>kernel spec: None<br>match:20<br>bad4: 0.11053596987340716<br>IMG res:450x375",
          "bad4: 0.12229201117240805<br>Experiment id:<br> ALG_005_EXP_001-PatchMatch-MacLean_et_al-Numba<br>Scene: cones<br>kernel size: 7x7<br>kernel spec: None<br>match:20<br>bad4: 0.12229201117240805<br>IMG res:450x375",
          "bad4: 0.09943998999485848<br>Experiment id:<br> ALG_005_EXP_001-PatchMatch-MacLean_et_al-Numba<br>Scene: cones<br>kernel size: 9x3<br>kernel spec: None<br>match:20<br>bad4: 0.09943998999485848<br>IMG res:450x375",
          "bad4: 0.10098244931423092<br>Experiment id:<br> ALG_005_EXP_001-PatchMatch-MacLean_et_al-Numba<br>Scene: cones<br>kernel size: 11x3<br>kernel spec: None<br>match:20<br>bad4: 0.10098244931423092<br>IMG res:450x375",
          "bad4: 0.10422022428192264<br>Experiment id:<br> ALG_005_EXP_001-PatchMatch-MacLean_et_al-Numba<br>Scene: cones<br>kernel size: 13x3<br>kernel spec: None<br>match:20<br>bad4: 0.10422022428192264<br>IMG res:450x375",
          "bad4: 0.10742325917485376<br>Experiment id:<br> ALG_005_EXP_001-PatchMatch-MacLean_et_al-Numba<br>Scene: cones<br>kernel size: 15x3<br>kernel spec: None<br>match:20<br>bad4: 0.10742325917485376<br>IMG res:450x375"
         ],
         "type": "scatter",
         "uid": "89d360ea-32c8-4838-8fc2-12608c3cc032",
         "x": [
          "1x1",
          "1x3",
          "1x5",
          "1x7",
          "3x1",
          "3x3",
          "3x5",
          "3x7",
          "5x1",
          "5x3",
          "5x5",
          "5x7",
          "7x1",
          "7x3",
          "7x5",
          "7x7",
          "9x3",
          "11x3",
          "13x3",
          "15x3"
         ],
         "y": {
          "dtype": "float64",
          "shape": [
           20
          ]
         }
        },
        {
         "hovertemplate": "%{text}",
         "name": "30",
         "showlegend": true,
         "text": [
          "bad4: 0.3402651362505732<br>Experiment id:<br> ALG_005_EXP_001-PatchMatch-MacLean_et_al-Numba<br>Scene: cones<br>kernel size: 1x1<br>kernel spec: None<br>match:30<br>bad4: 0.3402651362505732<br>IMG res:450x375",
          "bad4: 0.1373692036185262<br>Experiment id:<br> ALG_005_EXP_001-PatchMatch-MacLean_et_al-Numba<br>Scene: cones<br>kernel size: 1x3<br>kernel spec: None<br>match:30<br>bad4: 0.1373692036185262<br>IMG res:450x375",
          "bad4: 0.14390033767352667<br>Experiment id:<br> ALG_005_EXP_001-PatchMatch-MacLean_et_al-Numba<br>Scene: cones<br>kernel size: 1x5<br>kernel spec: None<br>match:30<br>bad4: 0.14390033767352667<br>IMG res:450x375",
          "bad4: 0.15516306991092646<br>Experiment id:<br> ALG_005_EXP_001-PatchMatch-MacLean_et_al-Numba<br>Scene: cones<br>kernel size: 1x7<br>kernel spec: None<br>match:30<br>bad4: 0.15516306991092646<br>IMG res:450x375",
          "bad4: 0.3856495699178745<br>Experiment id:<br> ALG_005_EXP_001-PatchMatch-MacLean_et_al-Numba<br>Scene: cones<br>kernel size: 3x1<br>kernel spec: None<br>match:30<br>bad4: 0.3856495699178745<br>IMG res:450x375",
          "bad4: 0.11833164264969498<br>Experiment id:<br> ALG_005_EXP_001-PatchMatch-MacLean_et_al-Numba<br>Scene: cones<br>kernel size: 3x3<br>kernel spec: None<br>match:30<br>bad4: 0.11833164264969498<br>IMG res:450x375",
          "bad4: 0.12748912635659992<br>Experiment id:<br> ALG_005_EXP_001-PatchMatch-MacLean_et_al-Numba<br>Scene: cones<br>kernel size: 3x5<br>kernel spec: None<br>match:30<br>bad4: 0.12748912635659992<br>IMG res:450x375",
          "bad4: 0.13800842099412194<br>Experiment id:<br> ALG_005_EXP_001-PatchMatch-MacLean_et_al-Numba<br>Scene: cones<br>kernel size: 3x7<br>kernel spec: None<br>match:30<br>bad4: 0.13800842099412194<br>IMG res:450x375",
          "bad4: 0.4019287689507108<br>Experiment id:<br> ALG_005_EXP_001-PatchMatch-MacLean_et_al-Numba<br>Scene: cones<br>kernel size: 5x1<br>kernel spec: None<br>match:30<br>bad4: 0.4019287689507108<br>IMG res:450x375",
          "bad4: 0.10979948028848158<br>Experiment id:<br> ALG_005_EXP_001-PatchMatch-MacLean_et_al-Numba<br>Scene: cones<br>kernel size: 5x3<br>kernel spec: None<br>match:30<br>bad4: 0.10979948028848158<br>IMG res:450x375",
          "bad4: 0.12111779664549838<br>Experiment id:<br> ALG_005_EXP_001-PatchMatch-MacLean_et_al-Numba<br>Scene: cones<br>kernel size: 5x5<br>kernel spec: None<br>match:30<br>bad4: 0.12111779664549838<br>IMG res:450x375",
          "bad4: 0.13016411211316928<br>Experiment id:<br> ALG_005_EXP_001-PatchMatch-MacLean_et_al-Numba<br>Scene: cones<br>kernel size: 5x7<br>kernel spec: None<br>match:30<br>bad4: 0.13016411211316928<br>IMG res:450x375",
          "bad4: 0.4159637591540097<br>Experiment id:<br> ALG_005_EXP_001-PatchMatch-MacLean_et_al-Numba<br>Scene: cones<br>kernel size: 7x1<br>kernel spec: None<br>match:30<br>bad4: 0.4159637591540097<br>IMG res:450x375",
          "bad4: 0.108250072954157<br>Experiment id:<br> ALG_005_EXP_001-PatchMatch-MacLean_et_al-Numba<br>Scene: cones<br>kernel size: 7x3<br>kernel spec: None<br>match:30<br>bad4: 0.108250072954157<br>IMG res:450x375",
          "bad4: 0.1178174895432375<br>Experiment id:<br> ALG_005_EXP_001-PatchMatch-MacLean_et_al-Numba<br>Scene: cones<br>kernel size: 7x5<br>kernel spec: None<br>match:30<br>bad4: 0.1178174895432375<br>IMG res:450x375",
          "bad4: 0.12650250823339773<br>Experiment id:<br> ALG_005_EXP_001-PatchMatch-MacLean_et_al-Numba<br>Scene: cones<br>kernel size: 7x7<br>kernel spec: None<br>match:30<br>bad4: 0.12650250823339773<br>IMG res:450x375",
          "bad4: 0.10638800494698664<br>Experiment id:<br> ALG_005_EXP_001-PatchMatch-MacLean_et_al-Numba<br>Scene: cones<br>kernel size: 9x3<br>kernel spec: None<br>match:30<br>bad4: 0.10638800494698664<br>IMG res:450x375",
          "bad4: 0.108792018120423<br>Experiment id:<br> ALG_005_EXP_001-PatchMatch-MacLean_et_al-Numba<br>Scene: cones<br>kernel size: 11x3<br>kernel spec: None<br>match:30<br>bad4: 0.108792018120423<br>IMG res:450x375",
          "bad4: 0.1100287647819018<br>Experiment id:<br> ALG_005_EXP_001-PatchMatch-MacLean_et_al-Numba<br>Scene: cones<br>kernel size: 13x3<br>kernel spec: None<br>match:30<br>bad4: 0.1100287647819018<br>IMG res:450x375",
          "bad4: 0.11347498019815737<br>Experiment id:<br> ALG_005_EXP_001-PatchMatch-MacLean_et_al-Numba<br>Scene: cones<br>kernel size: 15x3<br>kernel spec: None<br>match:30<br>bad4: 0.11347498019815737<br>IMG res:450x375"
         ],
         "type": "scatter",
         "uid": "7b23adc8-c9f2-4d3d-a616-7cdcc8ca0869",
         "x": [
          "1x1",
          "1x3",
          "1x5",
          "1x7",
          "3x1",
          "3x3",
          "3x5",
          "3x7",
          "5x1",
          "5x3",
          "5x5",
          "5x7",
          "7x1",
          "7x3",
          "7x5",
          "7x7",
          "9x3",
          "11x3",
          "13x3",
          "15x3"
         ],
         "y": {
          "dtype": "float64",
          "shape": [
           20
          ]
         }
        },
        {
         "hovertemplate": "%{text}",
         "name": "40",
         "showlegend": true,
         "text": [
          "bad4: 0.3535497408390423<br>Experiment id:<br> ALG_005_EXP_001-PatchMatch-MacLean_et_al-Numba<br>Scene: cones<br>kernel size: 1x1<br>kernel spec: None<br>match:40<br>bad4: 0.3535497408390423<br>IMG res:450x375",
          "bad4: 0.14783986215138334<br>Experiment id:<br> ALG_005_EXP_001-PatchMatch-MacLean_et_al-Numba<br>Scene: cones<br>kernel size: 1x3<br>kernel spec: None<br>match:40<br>bad4: 0.14783986215138334<br>IMG res:450x375",
          "bad4: 0.1551700179258786<br>Experiment id:<br> ALG_005_EXP_001-PatchMatch-MacLean_et_al-Numba<br>Scene: cones<br>kernel size: 1x5<br>kernel spec: None<br>match:40<br>bad4: 0.1551700179258786<br>IMG res:450x375",
          "bad4: 0.16406347706460264<br>Experiment id:<br> ALG_005_EXP_001-PatchMatch-MacLean_et_al-Numba<br>Scene: cones<br>kernel size: 1x7<br>kernel spec: None<br>match:40<br>bad4: 0.16406347706460264<br>IMG res:450x375",
          "bad4: 0.4023664938926949<br>Experiment id:<br> ALG_005_EXP_001-PatchMatch-MacLean_et_al-Numba<br>Scene: cones<br>kernel size: 3x1<br>kernel spec: None<br>match:40<br>bad4: 0.4023664938926949<br>IMG res:450x375",
          "bad4: 0.13158845517835555<br>Experiment id:<br> ALG_005_EXP_001-PatchMatch-MacLean_et_al-Numba<br>Scene: cones<br>kernel size: 3x3<br>kernel spec: None<br>match:40<br>bad4: 0.13158845517835555<br>IMG res:450x375",
          "bad4: 0.1405513944666009<br>Experiment id:<br> ALG_005_EXP_001-PatchMatch-MacLean_et_al-Numba<br>Scene: cones<br>kernel size: 3x5<br>kernel spec: None<br>match:40<br>bad4: 0.1405513944666009<br>IMG res:450x375",
          "bad4: 0.14776343398690994<br>Experiment id:<br> ALG_005_EXP_001-PatchMatch-MacLean_et_al-Numba<br>Scene: cones<br>kernel size: 3x7<br>kernel spec: None<br>match:40<br>bad4: 0.14776343398690994<br>IMG res:450x375",
          "bad4: 0.42078568153078666<br>Experiment id:<br> ALG_005_EXP_001-PatchMatch-MacLean_et_al-Numba<br>Scene: cones<br>kernel size: 5x1<br>kernel spec: None<br>match:40<br>bad4: 0.42078568153078666<br>IMG res:450x375",
          "bad4: 0.12054805941942387<br>Experiment id:<br> ALG_005_EXP_001-PatchMatch-MacLean_et_al-Numba<br>Scene: cones<br>kernel size: 5x3<br>kernel spec: None<br>match:40<br>bad4: 0.12054805941942387<br>IMG res:450x375",
          "bad4: 0.131234106415797<br>Experiment id:<br> ALG_005_EXP_001-PatchMatch-MacLean_et_al-Numba<br>Scene: cones<br>kernel size: 5x5<br>kernel spec: None<br>match:40<br>bad4: 0.131234106415797<br>IMG res:450x375",
          "bad4: 0.1395647763433987<br>Experiment id:<br> ALG_005_EXP_001-PatchMatch-MacLean_et_al-Numba<br>Scene: cones<br>kernel size: 5x7<br>kernel spec: None<br>match:40<br>bad4: 0.1395647763433987<br>IMG res:450x375",
          "bad4: 0.4308950432861332<br>Experiment id:<br> ALG_005_EXP_001-PatchMatch-MacLean_et_al-Numba<br>Scene: cones<br>kernel size: 7x1<br>kernel spec: None<br>match:40<br>bad4: 0.4308950432861332<br>IMG res:450x375",
          "bad4: 0.11803287800675348<br>Experiment id:<br> ALG_005_EXP_001-PatchMatch-MacLean_et_al-Numba<br>Scene: cones<br>kernel size: 7x3<br>kernel spec: None<br>match:40<br>bad4: 0.11803287800675348<br>IMG res:450x375",
          "bad4: 0.12796853938829678<br>Experiment id:<br> ALG_005_EXP_001-PatchMatch-MacLean_et_al-Numba<br>Scene: cones<br>kernel size: 7x5<br>kernel spec: None<br>match:40<br>bad4: 0.12796853938829678<br>IMG res:450x375",
          "bad4: 0.13819601739782944<br>Experiment id:<br> ALG_005_EXP_001-PatchMatch-MacLean_et_al-Numba<br>Scene: cones<br>kernel size: 7x7<br>kernel spec: None<br>match:40<br>bad4: 0.13819601739782944<br>IMG res:450x375",
          "bad4: 0.1166363270013757<br>Experiment id:<br> ALG_005_EXP_001-PatchMatch-MacLean_et_al-Numba<br>Scene: cones<br>kernel size: 9x3<br>kernel spec: None<br>match:40<br>bad4: 0.1166363270013757<br>IMG res:450x375",
          "bad4: 0.11824826647026945<br>Experiment id:<br> ALG_005_EXP_001-PatchMatch-MacLean_et_al-Numba<br>Scene: cones<br>kernel size: 11x3<br>kernel spec: None<br>match:40<br>bad4: 0.11824826647026945<br>IMG res:450x375",
          "bad4: 0.11904728818976418<br>Experiment id:<br> ALG_005_EXP_001-PatchMatch-MacLean_et_al-Numba<br>Scene: cones<br>kernel size: 13x3<br>kernel spec: None<br>match:40<br>bad4: 0.11904728818976418<br>IMG res:450x375",
          "bad4: 0.122507399635924<br>Experiment id:<br> ALG_005_EXP_001-PatchMatch-MacLean_et_al-Numba<br>Scene: cones<br>kernel size: 15x3<br>kernel spec: None<br>match:40<br>bad4: 0.122507399635924<br>IMG res:450x375"
         ],
         "type": "scatter",
         "uid": "a2be3468-df75-41cb-9c72-b787bb52e479",
         "x": [
          "1x1",
          "1x3",
          "1x5",
          "1x7",
          "3x1",
          "3x3",
          "3x5",
          "3x7",
          "5x1",
          "5x3",
          "5x5",
          "5x7",
          "7x1",
          "7x3",
          "7x5",
          "7x7",
          "9x3",
          "11x3",
          "13x3",
          "15x3"
         ],
         "y": {
          "dtype": "float64",
          "shape": [
           20
          ]
         }
        },
        {
         "hovertemplate": "%{text}",
         "name": "50",
         "showlegend": true,
         "text": [
          "bad4: 0.3715589955949585<br>Experiment id:<br> ALG_005_EXP_001-PatchMatch-MacLean_et_al-Numba<br>Scene: cones<br>kernel size: 1x1<br>kernel spec: None<br>match:50<br>bad4: 0.3715589955949585<br>IMG res:450x375",
          "bad4: 0.16022817281102789<br>Experiment id:<br> ALG_005_EXP_001-PatchMatch-MacLean_et_al-Numba<br>Scene: cones<br>kernel size: 1x3<br>kernel spec: None<br>match:50<br>bad4: 0.16022817281102789<br>IMG res:450x375",
          "bad4: 0.16574489668301767<br>Experiment id:<br> ALG_005_EXP_001-PatchMatch-MacLean_et_al-Numba<br>Scene: cones<br>kernel size: 1x5<br>kernel spec: None<br>match:50<br>bad4: 0.16574489668301767<br>IMG res:450x375",
          "bad4: 0.17764684629601324<br>Experiment id:<br> ALG_005_EXP_001-PatchMatch-MacLean_et_al-Numba<br>Scene: cones<br>kernel size: 1x7<br>kernel spec: None<br>match:50<br>bad4: 0.17764684629601324<br>IMG res:450x375",
          "bad4: 0.4208968497700207<br>Experiment id:<br> ALG_005_EXP_001-PatchMatch-MacLean_et_al-Numba<br>Scene: cones<br>kernel size: 3x1<br>kernel spec: None<br>match:50<br>bad4: 0.4208968497700207<br>IMG res:450x375",
          "bad4: 0.14429637452579794<br>Experiment id:<br> ALG_005_EXP_001-PatchMatch-MacLean_et_al-Numba<br>Scene: cones<br>kernel size: 3x3<br>kernel spec: None<br>match:50<br>bad4: 0.14429637452579794<br>IMG res:450x375",
          "bad4: 0.1521684754665592<br>Experiment id:<br> ALG_005_EXP_001-PatchMatch-MacLean_et_al-Numba<br>Scene: cones<br>kernel size: 3x5<br>kernel spec: None<br>match:50<br>bad4: 0.1521684754665592<br>IMG res:450x375",
          "bad4: 0.1613120631435599<br>Experiment id:<br> ALG_005_EXP_001-PatchMatch-MacLean_et_al-Numba<br>Scene: cones<br>kernel size: 3x7<br>kernel spec: None<br>match:50<br>bad4: 0.1613120631435599<br>IMG res:450x375",
          "bad4: 0.44019148729208063<br>Experiment id:<br> ALG_005_EXP_001-PatchMatch-MacLean_et_al-Numba<br>Scene: cones<br>kernel size: 5x1<br>kernel spec: None<br>match:50<br>bad4: 0.44019148729208063<br>IMG res:450x375",
          "bad4: 0.13468726984700471<br>Experiment id:<br> ALG_005_EXP_001-PatchMatch-MacLean_et_al-Numba<br>Scene: cones<br>kernel size: 5x3<br>kernel spec: None<br>match:50<br>bad4: 0.13468726984700471<br>IMG res:450x375",
          "bad4: 0.14717285271597905<br>Experiment id:<br> ALG_005_EXP_001-PatchMatch-MacLean_et_al-Numba<br>Scene: cones<br>kernel size: 5x5<br>kernel spec: None<br>match:50<br>bad4: 0.14717285271597905<br>IMG res:450x375",
          "bad4: 0.15576059919680948<br>Experiment id:<br> ALG_005_EXP_001-PatchMatch-MacLean_et_al-Numba<br>Scene: cones<br>kernel size: 5x7<br>kernel spec: None<br>match:50<br>bad4: 0.15576059919680948<br>IMG res:450x375",
          "bad4: 0.4475077470366716<br>Experiment id:<br> ALG_005_EXP_001-PatchMatch-MacLean_et_al-Numba<br>Scene: cones<br>kernel size: 7x1<br>kernel spec: None<br>match:50<br>bad4: 0.4475077470366716<br>IMG res:450x375",
          "bad4: 0.13447882939844086<br>Experiment id:<br> ALG_005_EXP_001-PatchMatch-MacLean_et_al-Numba<br>Scene: cones<br>kernel size: 7x3<br>kernel spec: None<br>match:50<br>bad4: 0.13447882939844086<br>IMG res:450x375",
          "bad4: 0.144351958645415<br>Experiment id:<br> ALG_005_EXP_001-PatchMatch-MacLean_et_al-Numba<br>Scene: cones<br>kernel size: 7x5<br>kernel spec: None<br>match:50<br>bad4: 0.144351958645415<br>IMG res:450x375",
          "bad4: 0.15457248863999554<br>Experiment id:<br> ALG_005_EXP_001-PatchMatch-MacLean_et_al-Numba<br>Scene: cones<br>kernel size: 7x7<br>kernel spec: None<br>match:50<br>bad4: 0.15457248863999554<br>IMG res:450x375",
          "bad4: 0.1331031224379195<br>Experiment id:<br> ALG_005_EXP_001-PatchMatch-MacLean_et_al-Numba<br>Scene: cones<br>kernel size: 9x3<br>kernel spec: None<br>match:50<br>bad4: 0.1331031224379195<br>IMG res:450x375",
          "bad4: 0.13398552033683978<br>Experiment id:<br> ALG_005_EXP_001-PatchMatch-MacLean_et_al-Numba<br>Scene: cones<br>kernel size: 11x3<br>kernel spec: None<br>match:50<br>bad4: 0.13398552033683978<br>IMG res:450x375",
          "bad4: 0.13460389366757916<br>Experiment id:<br> ALG_005_EXP_001-PatchMatch-MacLean_et_al-Numba<br>Scene: cones<br>kernel size: 13x3<br>kernel spec: None<br>match:50<br>bad4: 0.13460389366757916<br>IMG res:450x375",
          "bad4: 0.13810569320345178<br>Experiment id:<br> ALG_005_EXP_001-PatchMatch-MacLean_et_al-Numba<br>Scene: cones<br>kernel size: 15x3<br>kernel spec: None<br>match:50<br>bad4: 0.13810569320345178<br>IMG res:450x375"
         ],
         "type": "scatter",
         "uid": "4726b3c3-faa1-40ed-9d57-0fe27f2c0d53",
         "x": [
          "1x1",
          "1x3",
          "1x5",
          "1x7",
          "3x1",
          "3x3",
          "3x5",
          "3x7",
          "5x1",
          "5x3",
          "5x5",
          "5x7",
          "7x1",
          "7x3",
          "7x5",
          "7x7",
          "9x3",
          "11x3",
          "13x3",
          "15x3"
         ],
         "y": {
          "dtype": "float64",
          "shape": [
           20
          ]
         }
        },
        {
         "hovertemplate": "%{text}",
         "name": "60",
         "showlegend": true,
         "text": [
          "bad4: 0.3935147228436836<br>Experiment id:<br> ALG_005_EXP_001-PatchMatch-MacLean_et_al-Numba<br>Scene: cones<br>kernel size: 1x1<br>kernel spec: None<br>match:60<br>bad4: 0.3935147228436836<br>IMG res:450x375",
          "bad4: 0.17898781318177398<br>Experiment id:<br> ALG_005_EXP_001-PatchMatch-MacLean_et_al-Numba<br>Scene: cones<br>kernel size: 1x3<br>kernel spec: None<br>match:60<br>bad4: 0.17898781318177398<br>IMG res:450x375",
          "bad4: 0.18512985839945528<br>Experiment id:<br> ALG_005_EXP_001-PatchMatch-MacLean_et_al-Numba<br>Scene: cones<br>kernel size: 1x5<br>kernel spec: None<br>match:60<br>bad4: 0.18512985839945528<br>IMG res:450x375",
          "bad4: 0.19590622959020607<br>Experiment id:<br> ALG_005_EXP_001-PatchMatch-MacLean_et_al-Numba<br>Scene: cones<br>kernel size: 1x7<br>kernel spec: None<br>match:60<br>bad4: 0.19590622959020607<br>IMG res:450x375",
          "bad4: 0.4433389380653947<br>Experiment id:<br> ALG_005_EXP_001-PatchMatch-MacLean_et_al-Numba<br>Scene: cones<br>kernel size: 3x1<br>kernel spec: None<br>match:60<br>bad4: 0.4433389380653947<br>IMG res:450x375",
          "bad4: 0.15965148757000125<br>Experiment id:<br> ALG_005_EXP_001-PatchMatch-MacLean_et_al-Numba<br>Scene: cones<br>kernel size: 3x3<br>kernel spec: None<br>match:60<br>bad4: 0.15965148757000125<br>IMG res:450x375",
          "bad4: 0.16758612064533165<br>Experiment id:<br> ALG_005_EXP_001-PatchMatch-MacLean_et_al-Numba<br>Scene: cones<br>kernel size: 3x5<br>kernel spec: None<br>match:60<br>bad4: 0.16758612064533165<br>IMG res:450x375",
          "bad4: 0.1765073718438642<br>Experiment id:<br> ALG_005_EXP_001-PatchMatch-MacLean_et_al-Numba<br>Scene: cones<br>kernel size: 3x7<br>kernel spec: None<br>match:60<br>bad4: 0.1765073718438642<br>IMG res:450x375",
          "bad4: 0.4592290482609119<br>Experiment id:<br> ALG_005_EXP_001-PatchMatch-MacLean_et_al-Numba<br>Scene: cones<br>kernel size: 5x1<br>kernel spec: None<br>match:60<br>bad4: 0.4592290482609119<br>IMG res:450x375",
          "bad4: 0.1525853563636869<br>Experiment id:<br> ALG_005_EXP_001-PatchMatch-MacLean_et_al-Numba<br>Scene: cones<br>kernel size: 5x3<br>kernel spec: None<br>match:60<br>bad4: 0.1525853563636869<br>IMG res:450x375",
          "bad4: 0.16330614343482067<br>Experiment id:<br> ALG_005_EXP_001-PatchMatch-MacLean_et_al-Numba<br>Scene: cones<br>kernel size: 5x5<br>kernel spec: None<br>match:60<br>bad4: 0.16330614343482067<br>IMG res:450x375",
          "bad4: 0.17293609215847033<br>Experiment id:<br> ALG_005_EXP_001-PatchMatch-MacLean_et_al-Numba<br>Scene: cones<br>kernel size: 5x7<br>kernel spec: None<br>match:60<br>bad4: 0.17293609215847033<br>IMG res:450x375",
          "bad4: 0.46557953392715706<br>Experiment id:<br> ALG_005_EXP_001-PatchMatch-MacLean_et_al-Numba<br>Scene: cones<br>kernel size: 7x1<br>kernel spec: None<br>match:60<br>bad4: 0.46557953392715706<br>IMG res:450x375",
          "bad4: 0.14863193585592596<br>Experiment id:<br> ALG_005_EXP_001-PatchMatch-MacLean_et_al-Numba<br>Scene: cones<br>kernel size: 7x3<br>kernel spec: None<br>match:60<br>bad4: 0.14863193585592596<br>IMG res:450x375",
          "bad4: 0.15915817850840014<br>Experiment id:<br> ALG_005_EXP_001-PatchMatch-MacLean_et_al-Numba<br>Scene: cones<br>kernel size: 7x5<br>kernel spec: None<br>match:60<br>bad4: 0.15915817850840014<br>IMG res:450x375",
          "bad4: 0.16968442116087434<br>Experiment id:<br> ALG_005_EXP_001-PatchMatch-MacLean_et_al-Numba<br>Scene: cones<br>kernel size: 7x7<br>kernel spec: None<br>match:60<br>bad4: 0.16968442116087434<br>IMG res:450x375",
          "bad4: 0.1485694037213568<br>Experiment id:<br> ALG_005_EXP_001-PatchMatch-MacLean_et_al-Numba<br>Scene: cones<br>kernel size: 9x3<br>kernel spec: None<br>match:60<br>bad4: 0.1485694037213568<br>IMG res:450x375",
          "bad4: 0.14744382529911204<br>Experiment id:<br> ALG_005_EXP_001-PatchMatch-MacLean_et_al-Numba<br>Scene: cones<br>kernel size: 11x3<br>kernel spec: None<br>match:60<br>bad4: 0.14744382529911204<br>IMG res:450x375",
          "bad4: 0.14988952656226115<br>Experiment id:<br> ALG_005_EXP_001-PatchMatch-MacLean_et_al-Numba<br>Scene: cones<br>kernel size: 13x3<br>kernel spec: None<br>match:60<br>bad4: 0.14988952656226115<br>IMG res:450x375",
          "bad4: 0.15242555201978794<br>Experiment id:<br> ALG_005_EXP_001-PatchMatch-MacLean_et_al-Numba<br>Scene: cones<br>kernel size: 15x3<br>kernel spec: None<br>match:60<br>bad4: 0.15242555201978794<br>IMG res:450x375"
         ],
         "type": "scatter",
         "uid": "68aaa530-37d5-4b5d-861c-0bc5215eb6d9",
         "x": [
          "1x1",
          "1x3",
          "1x5",
          "1x7",
          "3x1",
          "3x3",
          "3x5",
          "3x7",
          "5x1",
          "5x3",
          "5x5",
          "5x7",
          "7x1",
          "7x3",
          "7x5",
          "7x7",
          "9x3",
          "11x3",
          "13x3",
          "15x3"
         ],
         "y": {
          "dtype": "float64",
          "shape": [
           20
          ]
         }
        },
        {
         "hovertemplate": "%{text}",
         "name": "70",
         "showlegend": true,
         "text": [
          "bad4: 0.4018176007114767<br>Experiment id:<br> ALG_005_EXP_001-PatchMatch-MacLean_et_al-Numba<br>Scene: cones<br>kernel size: 1x1<br>kernel spec: None<br>match:70<br>bad4: 0.4018176007114767<br>IMG res:450x375",
          "bad4: 0.19421786195683893<br>Experiment id:<br> ALG_005_EXP_001-PatchMatch-MacLean_et_al-Numba<br>Scene: cones<br>kernel size: 1x3<br>kernel spec: None<br>match:70<br>bad4: 0.19421786195683893<br>IMG res:450x375",
          "bad4: 0.2034795658880258<br>Experiment id:<br> ALG_005_EXP_001-PatchMatch-MacLean_et_al-Numba<br>Scene: cones<br>kernel size: 1x5<br>kernel spec: None<br>match:70<br>bad4: 0.2034795658880258<br>IMG res:450x375",
          "bad4: 0.2126856856995956<br>Experiment id:<br> ALG_005_EXP_001-PatchMatch-MacLean_et_al-Numba<br>Scene: cones<br>kernel size: 1x7<br>kernel spec: None<br>match:70<br>bad4: 0.2126856856995956<br>IMG res:450x375",
          "bad4: 0.44633353250976204<br>Experiment id:<br> ALG_005_EXP_001-PatchMatch-MacLean_et_al-Numba<br>Scene: cones<br>kernel size: 3x1<br>kernel spec: None<br>match:70<br>bad4: 0.44633353250976204<br>IMG res:450x375",
          "bad4: 0.17895307310701333<br>Experiment id:<br> ALG_005_EXP_001-PatchMatch-MacLean_et_al-Numba<br>Scene: cones<br>kernel size: 3x3<br>kernel spec: None<br>match:70<br>bad4: 0.17895307310701333<br>IMG res:450x375",
          "bad4: 0.1872490029598544<br>Experiment id:<br> ALG_005_EXP_001-PatchMatch-MacLean_et_al-Numba<br>Scene: cones<br>kernel size: 3x5<br>kernel spec: None<br>match:70<br>bad4: 0.1872490029598544<br>IMG res:450x375",
          "bad4: 0.1941900698970304<br>Experiment id:<br> ALG_005_EXP_001-PatchMatch-MacLean_et_al-Numba<br>Scene: cones<br>kernel size: 3x7<br>kernel spec: None<br>match:70<br>bad4: 0.1941900698970304<br>IMG res:450x375",
          "bad4: 0.4648152522824229<br>Experiment id:<br> ALG_005_EXP_001-PatchMatch-MacLean_et_al-Numba<br>Scene: cones<br>kernel size: 5x1<br>kernel spec: None<br>match:70<br>bad4: 0.4648152522824229<br>IMG res:450x375",
          "bad4: 0.1762155552158748<br>Experiment id:<br> ALG_005_EXP_001-PatchMatch-MacLean_et_al-Numba<br>Scene: cones<br>kernel size: 5x3<br>kernel spec: None<br>match:70<br>bad4: 0.1762155552158748<br>IMG res:450x375",
          "bad4: 0.1834623348109445<br>Experiment id:<br> ALG_005_EXP_001-PatchMatch-MacLean_et_al-Numba<br>Scene: cones<br>kernel size: 5x5<br>kernel spec: None<br>match:70<br>bad4: 0.1834623348109445<br>IMG res:450x375",
          "bad4: 0.1906048941817323<br>Experiment id:<br> ALG_005_EXP_001-PatchMatch-MacLean_et_al-Numba<br>Scene: cones<br>kernel size: 5x7<br>kernel spec: None<br>match:70<br>bad4: 0.1906048941817323<br>IMG res:450x375",
          "bad4: 0.4720133957728277<br>Experiment id:<br> ALG_005_EXP_001-PatchMatch-MacLean_et_al-Numba<br>Scene: cones<br>kernel size: 7x1<br>kernel spec: None<br>match:70<br>bad4: 0.4720133957728277<br>IMG res:450x375",
          "bad4: 0.16953851284687965<br>Experiment id:<br> ALG_005_EXP_001-PatchMatch-MacLean_et_al-Numba<br>Scene: cones<br>kernel size: 7x3<br>kernel spec: None<br>match:70<br>bad4: 0.16953851284687965<br>IMG res:450x375",
          "bad4: 0.18006475549935386<br>Experiment id:<br> ALG_005_EXP_001-PatchMatch-MacLean_et_al-Numba<br>Scene: cones<br>kernel size: 7x5<br>kernel spec: None<br>match:70<br>bad4: 0.18006475549935386<br>IMG res:450x375",
          "bad4: 0.18811055681391825<br>Experiment id:<br> ALG_005_EXP_001-PatchMatch-MacLean_et_al-Numba<br>Scene: cones<br>kernel size: 7x7<br>kernel spec: None<br>match:70<br>bad4: 0.18811055681391825<br>IMG res:450x375",
          "bad4: 0.1664952822978475<br>Experiment id:<br> ALG_005_EXP_001-PatchMatch-MacLean_et_al-Numba<br>Scene: cones<br>kernel size: 9x3<br>kernel spec: None<br>match:70<br>bad4: 0.1664952822978475<br>IMG res:450x375",
          "bad4: 0.1672387198977252<br>Experiment id:<br> ALG_005_EXP_001-PatchMatch-MacLean_et_al-Numba<br>Scene: cones<br>kernel size: 11x3<br>kernel spec: None<br>match:70<br>bad4: 0.1672387198977252<br>IMG res:450x375",
          "bad4: 0.1682739741255923<br>Experiment id:<br> ALG_005_EXP_001-PatchMatch-MacLean_et_al-Numba<br>Scene: cones<br>kernel size: 13x3<br>kernel spec: None<br>match:70<br>bad4: 0.1682739741255923<br>IMG res:450x375",
          "bad4: 0.16942039659269348<br>Experiment id:<br> ALG_005_EXP_001-PatchMatch-MacLean_et_al-Numba<br>Scene: cones<br>kernel size: 15x3<br>kernel spec: None<br>match:70<br>bad4: 0.16942039659269348<br>IMG res:450x375"
         ],
         "type": "scatter",
         "uid": "26fc3d62-6584-4b18-b17c-341d0ddef167",
         "x": [
          "1x1",
          "1x3",
          "1x5",
          "1x7",
          "3x1",
          "3x3",
          "3x5",
          "3x7",
          "5x1",
          "5x3",
          "5x5",
          "5x7",
          "7x1",
          "7x3",
          "7x5",
          "7x7",
          "9x3",
          "11x3",
          "13x3",
          "15x3"
         ],
         "y": {
          "dtype": "float64",
          "shape": [
           20
          ]
         }
        },
        {
         "hovertemplate": "%{text}",
         "name": "80",
         "showlegend": true,
         "text": [
          "bad4: 0.41178105415282856<br>Experiment id:<br> ALG_005_EXP_001-PatchMatch-MacLean_et_al-Numba<br>Scene: cones<br>kernel size: 1x1<br>kernel spec: None<br>match:80<br>bad4: 0.41178105415282856<br>IMG res:450x375",
          "bad4: 0.2103858927504412<br>Experiment id:<br> ALG_005_EXP_001-PatchMatch-MacLean_et_al-Numba<br>Scene: cones<br>kernel size: 1x3<br>kernel spec: None<br>match:80<br>bad4: 0.2103858927504412<br>IMG res:450x375",
          "bad4: 0.21792448897350028<br>Experiment id:<br> ALG_005_EXP_001-PatchMatch-MacLean_et_al-Numba<br>Scene: cones<br>kernel size: 1x5<br>kernel spec: None<br>match:80<br>bad4: 0.21792448897350028<br>IMG res:450x375",
          "bad4: 0.2273807373233467<br>Experiment id:<br> ALG_005_EXP_001-PatchMatch-MacLean_et_al-Numba<br>Scene: cones<br>kernel size: 1x7<br>kernel spec: None<br>match:80<br>bad4: 0.2273807373233467<br>IMG res:450x375",
          "bad4: 0.4532051192974168<br>Experiment id:<br> ALG_005_EXP_001-PatchMatch-MacLean_et_al-Numba<br>Scene: cones<br>kernel size: 3x1<br>kernel spec: None<br>match:80<br>bad4: 0.4532051192974168<br>IMG res:450x375",
          "bad4: 0.19257813042813668<br>Experiment id:<br> ALG_005_EXP_001-PatchMatch-MacLean_et_al-Numba<br>Scene: cones<br>kernel size: 3x3<br>kernel spec: None<br>match:80<br>bad4: 0.19257813042813668<br>IMG res:450x375",
          "bad4: 0.20013757069605212<br>Experiment id:<br> ALG_005_EXP_001-PatchMatch-MacLean_et_al-Numba<br>Scene: cones<br>kernel size: 3x5<br>kernel spec: None<br>match:80<br>bad4: 0.20013757069605212<br>IMG res:450x375",
          "bad4: 0.2076761669191112<br>Experiment id:<br> ALG_005_EXP_001-PatchMatch-MacLean_et_al-Numba<br>Scene: cones<br>kernel size: 3x7<br>kernel spec: None<br>match:80<br>bad4: 0.2076761669191112<br>IMG res:450x375",
          "bad4: 0.4690188013284605<br>Experiment id:<br> ALG_005_EXP_001-PatchMatch-MacLean_et_al-Numba<br>Scene: cones<br>kernel size: 5x1<br>kernel spec: None<br>match:80<br>bad4: 0.4690188013284605<br>IMG res:450x375",
          "bad4: 0.18710309464585967<br>Experiment id:<br> ALG_005_EXP_001-PatchMatch-MacLean_et_al-Numba<br>Scene: cones<br>kernel size: 5x3<br>kernel spec: None<br>match:80<br>bad4: 0.18710309464585967<br>IMG res:450x375",
          "bad4: 0.19589928157525394<br>Experiment id:<br> ALG_005_EXP_001-PatchMatch-MacLean_et_al-Numba<br>Scene: cones<br>kernel size: 5x5<br>kernel spec: None<br>match:80<br>bad4: 0.19589928157525394<br>IMG res:450x375",
          "bad4: 0.2031391131553715<br>Experiment id:<br> ALG_005_EXP_001-PatchMatch-MacLean_et_al-Numba<br>Scene: cones<br>kernel size: 5x7<br>kernel spec: None<br>match:80<br>bad4: 0.2031391131553715<br>IMG res:450x375",
          "bad4: 0.476529605491711<br>Experiment id:<br> ALG_005_EXP_001-PatchMatch-MacLean_et_al-Numba<br>Scene: cones<br>kernel size: 7x1<br>kernel spec: None<br>match:80<br>bad4: 0.476529605491711<br>IMG res:450x375",
          "bad4: 0.1848171977266095<br>Experiment id:<br> ALG_005_EXP_001-PatchMatch-MacLean_et_al-Numba<br>Scene: cones<br>kernel size: 7x3<br>kernel spec: None<br>match:80<br>bad4: 0.1848171977266095<br>IMG res:450x375",
          "bad4: 0.19359948862609952<br>Experiment id:<br> ALG_005_EXP_001-PatchMatch-MacLean_et_al-Numba<br>Scene: cones<br>kernel size: 7x5<br>kernel spec: None<br>match:80<br>bad4: 0.19359948862609952<br>IMG res:450x375",
          "bad4: 0.20204132679293527<br>Experiment id:<br> ALG_005_EXP_001-PatchMatch-MacLean_et_al-Numba<br>Scene: cones<br>kernel size: 7x7<br>kernel spec: None<br>match:80<br>bad4: 0.20204132679293527<br>IMG res:450x375",
          "bad4: 0.1832677903922849<br>Experiment id:<br> ALG_005_EXP_001-PatchMatch-MacLean_et_al-Numba<br>Scene: cones<br>kernel size: 9x3<br>kernel spec: None<br>match:80<br>bad4: 0.1832677903922849<br>IMG res:450x375",
          "bad4: 0.18308019398857747<br>Experiment id:<br> ALG_005_EXP_001-PatchMatch-MacLean_et_al-Numba<br>Scene: cones<br>kernel size: 11x3<br>kernel spec: None<br>match:80<br>bad4: 0.18308019398857747<br>IMG res:450x375",
          "bad4: 0.18493531398079568<br>Experiment id:<br> ALG_005_EXP_001-PatchMatch-MacLean_et_al-Numba<br>Scene: cones<br>kernel size: 13x3<br>kernel spec: None<br>match:80<br>bad4: 0.18493531398079568<br>IMG res:450x375",
          "bad4: 0.18559537540124788<br>Experiment id:<br> ALG_005_EXP_001-PatchMatch-MacLean_et_al-Numba<br>Scene: cones<br>kernel size: 15x3<br>kernel spec: None<br>match:80<br>bad4: 0.18559537540124788<br>IMG res:450x375"
         ],
         "type": "scatter",
         "uid": "8b8b6f37-3518-4787-9c38-4fce0ebbf21f",
         "x": [
          "1x1",
          "1x3",
          "1x5",
          "1x7",
          "3x1",
          "3x3",
          "3x5",
          "3x7",
          "5x1",
          "5x3",
          "5x5",
          "5x7",
          "7x1",
          "7x3",
          "7x5",
          "7x7",
          "9x3",
          "11x3",
          "13x3",
          "15x3"
         ],
         "y": {
          "dtype": "float64",
          "shape": [
           20
          ]
         }
        },
        {
         "hovertemplate": "%{text}",
         "name": "90",
         "showlegend": true,
         "text": [
          "bad4: 0.4179092033406056<br>Experiment id:<br> ALG_005_EXP_001-PatchMatch-MacLean_et_al-Numba<br>Scene: cones<br>kernel size: 1x1<br>kernel spec: None<br>match:90<br>bad4: 0.4179092033406056<br>IMG res:450x375",
          "bad4: 0.22306602003807516<br>Experiment id:<br> ALG_005_EXP_001-PatchMatch-MacLean_et_al-Numba<br>Scene: cones<br>kernel size: 1x3<br>kernel spec: None<br>match:90<br>bad4: 0.22306602003807516<br>IMG res:450x375",
          "bad4: 0.2297778024818309<br>Experiment id:<br> ALG_005_EXP_001-PatchMatch-MacLean_et_al-Numba<br>Scene: cones<br>kernel size: 1x5<br>kernel spec: None<br>match:90<br>bad4: 0.2297778024818309<br>IMG res:450x375",
          "bad4: 0.24025540902964024<br>Experiment id:<br> ALG_005_EXP_001-PatchMatch-MacLean_et_al-Numba<br>Scene: cones<br>kernel size: 1x7<br>kernel spec: None<br>match:90<br>bad4: 0.24025540902964024<br>IMG res:450x375",
          "bad4: 0.4611467003876992<br>Experiment id:<br> ALG_005_EXP_001-PatchMatch-MacLean_et_al-Numba<br>Scene: cones<br>kernel size: 3x1<br>kernel spec: None<br>match:90<br>bad4: 0.4611467003876992<br>IMG res:450x375",
          "bad4: 0.20930895043286127<br>Experiment id:<br> ALG_005_EXP_001-PatchMatch-MacLean_et_al-Numba<br>Scene: cones<br>kernel size: 3x3<br>kernel spec: None<br>match:90<br>bad4: 0.20930895043286127<br>IMG res:450x375",
          "bad4: 0.21686144268582466<br>Experiment id:<br> ALG_005_EXP_001-PatchMatch-MacLean_et_al-Numba<br>Scene: cones<br>kernel size: 3x5<br>kernel spec: None<br>match:90<br>bad4: 0.21686144268582466<br>IMG res:450x375",
          "bad4: 0.2265539235440435<br>Experiment id:<br> ALG_005_EXP_001-PatchMatch-MacLean_et_al-Numba<br>Scene: cones<br>kernel size: 3x7<br>kernel spec: None<br>match:90<br>bad4: 0.2265539235440435<br>IMG res:450x375",
          "bad4: 0.4724997568194767<br>Experiment id:<br> ALG_005_EXP_001-PatchMatch-MacLean_et_al-Numba<br>Scene: cones<br>kernel size: 5x1<br>kernel spec: None<br>match:90<br>bad4: 0.4724997568194767<br>IMG res:450x375",
          "bad4: 0.20278476439281296<br>Experiment id:<br> ALG_005_EXP_001-PatchMatch-MacLean_et_al-Numba<br>Scene: cones<br>kernel size: 5x3<br>kernel spec: None<br>match:90<br>bad4: 0.20278476439281296<br>IMG res:450x375",
          "bad4: 0.2134013312396648<br>Experiment id:<br> ALG_005_EXP_001-PatchMatch-MacLean_et_al-Numba<br>Scene: cones<br>kernel size: 5x5<br>kernel spec: None<br>match:90<br>bad4: 0.2134013312396648<br>IMG res:450x375",
          "bad4: 0.22080096716368133<br>Experiment id:<br> ALG_005_EXP_001-PatchMatch-MacLean_et_al-Numba<br>Scene: cones<br>kernel size: 5x7<br>kernel spec: None<br>match:90<br>bad4: 0.22080096716368133<br>IMG res:450x375",
          "bad4: 0.4817406167058072<br>Experiment id:<br> ALG_005_EXP_001-PatchMatch-MacLean_et_al-Numba<br>Scene: cones<br>kernel size: 7x1<br>kernel spec: None<br>match:90<br>bad4: 0.4817406167058072<br>IMG res:450x375",
          "bad4: 0.1997415338437808<br>Experiment id:<br> ALG_005_EXP_001-PatchMatch-MacLean_et_al-Numba<br>Scene: cones<br>kernel size: 7x3<br>kernel spec: None<br>match:90<br>bad4: 0.1997415338437808<br>IMG res:450x375",
          "bad4: 0.20921862623848367<br>Experiment id:<br> ALG_005_EXP_001-PatchMatch-MacLean_et_al-Numba<br>Scene: cones<br>kernel size: 7x5<br>kernel spec: None<br>match:90<br>bad4: 0.20921862623848367<br>IMG res:450x375",
          "bad4: 0.2181676694968248<br>Experiment id:<br> ALG_005_EXP_001-PatchMatch-MacLean_et_al-Numba<br>Scene: cones<br>kernel size: 7x7<br>kernel spec: None<br>match:90<br>bad4: 0.2181676694968248<br>IMG res:450x375",
          "bad4: 0.19638564262190286<br>Experiment id:<br> ALG_005_EXP_001-PatchMatch-MacLean_et_al-Numba<br>Scene: cones<br>kernel size: 9x3<br>kernel spec: None<br>match:90<br>bad4: 0.19638564262190286<br>IMG res:450x375",
          "bad4: 0.19546155663326986<br>Experiment id:<br> ALG_005_EXP_001-PatchMatch-MacLean_et_al-Numba<br>Scene: cones<br>kernel size: 11x3<br>kernel spec: None<br>match:90<br>bad4: 0.19546155663326986<br>IMG res:450x375",
          "bad4: 0.1944818865250198<br>Experiment id:<br> ALG_005_EXP_001-PatchMatch-MacLean_et_al-Numba<br>Scene: cones<br>kernel size: 13x3<br>kernel spec: None<br>match:90<br>bad4: 0.1944818865250198<br>IMG res:450x375",
          "bad4: 0.19444714645025915<br>Experiment id:<br> ALG_005_EXP_001-PatchMatch-MacLean_et_al-Numba<br>Scene: cones<br>kernel size: 15x3<br>kernel spec: None<br>match:90<br>bad4: 0.19444714645025915<br>IMG res:450x375"
         ],
         "type": "scatter",
         "uid": "62e5292c-995f-4b3f-9a94-19aef866c59f",
         "x": [
          "1x1",
          "1x3",
          "1x5",
          "1x7",
          "3x1",
          "3x3",
          "3x5",
          "3x7",
          "5x1",
          "5x3",
          "5x5",
          "5x7",
          "7x1",
          "7x3",
          "7x5",
          "7x7",
          "9x3",
          "11x3",
          "13x3",
          "15x3"
         ],
         "y": {
          "dtype": "float64",
          "shape": [
           20
          ]
         }
        },
        {
         "hovertemplate": "%{text}",
         "name": "100",
         "showlegend": true,
         "text": [
          "bad4: 0.42497533454692<br>Experiment id:<br> ALG_005_EXP_001-PatchMatch-MacLean_et_al-Numba<br>Scene: cones<br>kernel size: 1x1<br>kernel spec: None<br>match:100<br>bad4: 0.42497533454692<br>IMG res:450x375",
          "bad4: 0.2344538165446132<br>Experiment id:<br> ALG_005_EXP_001-PatchMatch-MacLean_et_al-Numba<br>Scene: cones<br>kernel size: 1x3<br>kernel spec: None<br>match:100<br>bad4: 0.2344538165446132<br>IMG res:450x375",
          "bad4: 0.241651960035018<br>Experiment id:<br> ALG_005_EXP_001-PatchMatch-MacLean_et_al-Numba<br>Scene: cones<br>kernel size: 1x5<br>kernel spec: None<br>match:100<br>bad4: 0.241651960035018<br>IMG res:450x375",
          "bad4: 0.2526228756444284<br>Experiment id:<br> ALG_005_EXP_001-PatchMatch-MacLean_et_al-Numba<br>Scene: cones<br>kernel size: 1x7<br>kernel spec: None<br>match:100<br>bad4: 0.2526228756444284<br>IMG res:450x375",
          "bad4: 0.4677195225324125<br>Experiment id:<br> ALG_005_EXP_001-PatchMatch-MacLean_et_al-Numba<br>Scene: cones<br>kernel size: 3x1<br>kernel spec: None<br>match:100<br>bad4: 0.4677195225324125<br>IMG res:450x375",
          "bad4: 0.2231841362922613<br>Experiment id:<br> ALG_005_EXP_001-PatchMatch-MacLean_et_al-Numba<br>Scene: cones<br>kernel size: 3x3<br>kernel spec: None<br>match:100<br>bad4: 0.2231841362922613<br>IMG res:450x375",
          "bad4: 0.2303822797826661<br>Experiment id:<br> ALG_005_EXP_001-PatchMatch-MacLean_et_al-Numba<br>Scene: cones<br>kernel size: 3x5<br>kernel spec: None<br>match:100<br>bad4: 0.2303822797826661<br>IMG res:450x375",
          "bad4: 0.2384975612467518<br>Experiment id:<br> ALG_005_EXP_001-PatchMatch-MacLean_et_al-Numba<br>Scene: cones<br>kernel size: 3x7<br>kernel spec: None<br>match:100<br>bad4: 0.2384975612467518<br>IMG res:450x375",
          "bad4: 0.4770090185234079<br>Experiment id:<br> ALG_005_EXP_001-PatchMatch-MacLean_et_al-Numba<br>Scene: cones<br>kernel size: 5x1<br>kernel spec: None<br>match:100<br>bad4: 0.4770090185234079<br>IMG res:450x375",
          "bad4: 0.21789669691369176<br>Experiment id:<br> ALG_005_EXP_001-PatchMatch-MacLean_et_al-Numba<br>Scene: cones<br>kernel size: 5x3<br>kernel spec: None<br>match:100<br>bad4: 0.21789669691369176<br>IMG res:450x375",
          "bad4: 0.2256923696899796<br>Experiment id:<br> ALG_005_EXP_001-PatchMatch-MacLean_et_al-Numba<br>Scene: cones<br>kernel size: 5x5<br>kernel spec: None<br>match:100<br>bad4: 0.2256923696899796<br>IMG res:450x375",
          "bad4: 0.2333421341522727<br>Experiment id:<br> ALG_005_EXP_001-PatchMatch-MacLean_et_al-Numba<br>Scene: cones<br>kernel size: 5x7<br>kernel spec: None<br>match:100<br>bad4: 0.2333421341522727<br>IMG res:450x375",
          "bad4: 0.4843669663577116<br>Experiment id:<br> ALG_005_EXP_001-PatchMatch-MacLean_et_al-Numba<br>Scene: cones<br>kernel size: 7x1<br>kernel spec: None<br>match:100<br>bad4: 0.4843669663577116<br>IMG res:450x375",
          "bad4: 0.21354029153870735<br>Experiment id:<br> ALG_005_EXP_001-PatchMatch-MacLean_et_al-Numba<br>Scene: cones<br>kernel size: 7x3<br>kernel spec: None<br>match:100<br>bad4: 0.21354029153870735<br>IMG res:450x375",
          "bad4: 0.2220794019148729<br>Experiment id:<br> ALG_005_EXP_001-PatchMatch-MacLean_et_al-Numba<br>Scene: cones<br>kernel size: 7x5<br>kernel spec: None<br>match:100<br>bad4: 0.2220794019148729<br>IMG res:450x375",
          "bad4: 0.23074357656017674<br>Experiment id:<br> ALG_005_EXP_001-PatchMatch-MacLean_et_al-Numba<br>Scene: cones<br>kernel size: 7x7<br>kernel spec: None<br>match:100<br>bad4: 0.23074357656017674<br>IMG res:450x375",
          "bad4: 0.21274126981921265<br>Experiment id:<br> ALG_005_EXP_001-PatchMatch-MacLean_et_al-Numba<br>Scene: cones<br>kernel size: 9x3<br>kernel spec: None<br>match:100<br>bad4: 0.21274126981921265<br>IMG res:450x375",
          "bad4: 0.2101357642121646<br>Experiment id:<br> ALG_005_EXP_001-PatchMatch-MacLean_et_al-Numba<br>Scene: cones<br>kernel size: 11x3<br>kernel spec: None<br>match:100<br>bad4: 0.2101357642121646<br>IMG res:450x375",
          "bad4: 0.20877395328154744<br>Experiment id:<br> ALG_005_EXP_001-PatchMatch-MacLean_et_al-Numba<br>Scene: cones<br>kernel size: 13x3<br>kernel spec: None<br>match:100<br>bad4: 0.20877395328154744<br>IMG res:450x375",
          "bad4: 0.20660617261648348<br>Experiment id:<br> ALG_005_EXP_001-PatchMatch-MacLean_et_al-Numba<br>Scene: cones<br>kernel size: 15x3<br>kernel spec: None<br>match:100<br>bad4: 0.20660617261648348<br>IMG res:450x375"
         ],
         "type": "scatter",
         "uid": "fb3f69f0-d897-4ddb-a947-3f5eb54e9516",
         "x": [
          "1x1",
          "1x3",
          "1x5",
          "1x7",
          "3x1",
          "3x3",
          "3x5",
          "3x7",
          "5x1",
          "5x3",
          "5x5",
          "5x7",
          "7x1",
          "7x3",
          "7x5",
          "7x7",
          "9x3",
          "11x3",
          "13x3",
          "15x3"
         ],
         "y": {
          "dtype": "float64",
          "shape": [
           20
          ]
         }
        },
        {
         "hovertemplate": "%{text}",
         "name": "110",
         "showlegend": true,
         "text": [
          "bad4: 0.4322707502466545<br>Experiment id:<br> ALG_005_EXP_001-PatchMatch-MacLean_et_al-Numba<br>Scene: cones<br>kernel size: 1x1<br>kernel spec: None<br>match:110<br>bad4: 0.4322707502466545<br>IMG res:450x375",
          "bad4: 0.2457096007670609<br>Experiment id:<br> ALG_005_EXP_001-PatchMatch-MacLean_et_al-Numba<br>Scene: cones<br>kernel size: 1x3<br>kernel spec: None<br>match:110<br>bad4: 0.2457096007670609<br>IMG res:450x375",
          "bad4: 0.2518308019398858<br>Experiment id:<br> ALG_005_EXP_001-PatchMatch-MacLean_et_al-Numba<br>Scene: cones<br>kernel size: 1x5<br>kernel spec: None<br>match:110<br>bad4: 0.2518308019398858<br>IMG res:450x375",
          "bad4: 0.26141906257382264<br>Experiment id:<br> ALG_005_EXP_001-PatchMatch-MacLean_et_al-Numba<br>Scene: cones<br>kernel size: 1x7<br>kernel spec: None<br>match:110<br>bad4: 0.26141906257382264<br>IMG res:450x375",
          "bad4: 0.4708044411711574<br>Experiment id:<br> ALG_005_EXP_001-PatchMatch-MacLean_et_al-Numba<br>Scene: cones<br>kernel size: 3x1<br>kernel spec: None<br>match:110<br>bad4: 0.4708044411711574<br>IMG res:450x375",
          "bad4: 0.2346344649333685<br>Experiment id:<br> ALG_005_EXP_001-PatchMatch-MacLean_et_al-Numba<br>Scene: cones<br>kernel size: 3x3<br>kernel spec: None<br>match:110<br>bad4: 0.2346344649333685<br>IMG res:450x375",
          "bad4: 0.24159637591540095<br>Experiment id:<br> ALG_005_EXP_001-PatchMatch-MacLean_et_al-Numba<br>Scene: cones<br>kernel size: 3x5<br>kernel spec: None<br>match:110<br>bad4: 0.24159637591540095<br>IMG res:450x375",
          "bad4: 0.2482317301946834<br>Experiment id:<br> ALG_005_EXP_001-PatchMatch-MacLean_et_al-Numba<br>Scene: cones<br>kernel size: 3x7<br>kernel spec: None<br>match:110<br>bad4: 0.2482317301946834<br>IMG res:450x375",
          "bad4: 0.4854508566902436<br>Experiment id:<br> ALG_005_EXP_001-PatchMatch-MacLean_et_al-Numba<br>Scene: cones<br>kernel size: 5x1<br>kernel spec: None<br>match:110<br>bad4: 0.4854508566902436<br>IMG res:450x375",
          "bad4: 0.22605366646749026<br>Experiment id:<br> ALG_005_EXP_001-PatchMatch-MacLean_et_al-Numba<br>Scene: cones<br>kernel size: 5x3<br>kernel spec: None<br>match:110<br>bad4: 0.22605366646749026<br>IMG res:450x375",
          "bad4: 0.23527368230896434<br>Experiment id:<br> ALG_005_EXP_001-PatchMatch-MacLean_et_al-Numba<br>Scene: cones<br>kernel size: 5x5<br>kernel spec: None<br>match:110<br>bad4: 0.23527368230896434<br>IMG res:450x375",
          "bad4: 0.24536914803440654<br>Experiment id:<br> ALG_005_EXP_001-PatchMatch-MacLean_et_al-Numba<br>Scene: cones<br>kernel size: 5x7<br>kernel spec: None<br>match:110<br>bad4: 0.24536914803440654<br>IMG res:450x375",
          "bad4: 0.4914817336686909<br>Experiment id:<br> ALG_005_EXP_001-PatchMatch-MacLean_et_al-Numba<br>Scene: cones<br>kernel size: 7x1<br>kernel spec: None<br>match:110<br>bad4: 0.4914817336686909<br>IMG res:450x375",
          "bad4: 0.2229340077539847<br>Experiment id:<br> ALG_005_EXP_001-PatchMatch-MacLean_et_al-Numba<br>Scene: cones<br>kernel size: 7x3<br>kernel spec: None<br>match:110<br>bad4: 0.2229340077539847<br>IMG res:450x375",
          "bad4: 0.23184136292261304<br>Experiment id:<br> ALG_005_EXP_001-PatchMatch-MacLean_et_al-Numba<br>Scene: cones<br>kernel size: 7x5<br>kernel spec: None<br>match:110<br>bad4: 0.23184136292261304<br>IMG res:450x375",
          "bad4: 0.2402901491044009<br>Experiment id:<br> ALG_005_EXP_001-PatchMatch-MacLean_et_al-Numba<br>Scene: cones<br>kernel size: 7x7<br>kernel spec: None<br>match:110<br>bad4: 0.2402901491044009<br>IMG res:450x375",
          "bad4: 0.22331614857635174<br>Experiment id:<br> ALG_005_EXP_001-PatchMatch-MacLean_et_al-Numba<br>Scene: cones<br>kernel size: 9x3<br>kernel spec: None<br>match:110<br>bad4: 0.22331614857635174<br>IMG res:450x375",
          "bad4: 0.22220446618401124<br>Experiment id:<br> ALG_005_EXP_001-PatchMatch-MacLean_et_al-Numba<br>Scene: cones<br>kernel size: 11x3<br>kernel spec: None<br>match:110<br>bad4: 0.22220446618401124<br>IMG res:450x375",
          "bad4: 0.22128732821033031<br>Experiment id:<br> ALG_005_EXP_001-PatchMatch-MacLean_et_al-Numba<br>Scene: cones<br>kernel size: 13x3<br>kernel spec: None<br>match:110<br>bad4: 0.22128732821033031<br>IMG res:450x375",
          "bad4: 0.21816072148187265<br>Experiment id:<br> ALG_005_EXP_001-PatchMatch-MacLean_et_al-Numba<br>Scene: cones<br>kernel size: 15x3<br>kernel spec: None<br>match:110<br>bad4: 0.21816072148187265<br>IMG res:450x375"
         ],
         "type": "scatter",
         "uid": "b229db03-cac7-4283-a364-c2763f5c2d88",
         "x": [
          "1x1",
          "1x3",
          "1x5",
          "1x7",
          "3x1",
          "3x3",
          "3x5",
          "3x7",
          "5x1",
          "5x3",
          "5x5",
          "5x7",
          "7x1",
          "7x3",
          "7x5",
          "7x7",
          "9x3",
          "11x3",
          "13x3",
          "15x3"
         ],
         "y": {
          "dtype": "float64",
          "shape": [
           20
          ]
         }
        }
       ],
       "_js2py_restyle": {},
       "_js2py_update": {},
       "_last_layout_edit_id": 1,
       "_layout": {
        "autosize": true,
        "legend": {
         "title": {
          "text": "match"
         }
        },
        "template": {
         "data": {
          "bar": [
           {
            "error_x": {
             "color": "#2a3f5f"
            },
            "error_y": {
             "color": "#2a3f5f"
            },
            "marker": {
             "line": {
              "color": "#E5ECF6",
              "width": 0.5
             }
            },
            "type": "bar"
           }
          ],
          "barpolar": [
           {
            "marker": {
             "line": {
              "color": "#E5ECF6",
              "width": 0.5
             }
            },
            "type": "barpolar"
           }
          ],
          "carpet": [
           {
            "aaxis": {
             "endlinecolor": "#2a3f5f",
             "gridcolor": "white",
             "linecolor": "white",
             "minorgridcolor": "white",
             "startlinecolor": "#2a3f5f"
            },
            "baxis": {
             "endlinecolor": "#2a3f5f",
             "gridcolor": "white",
             "linecolor": "white",
             "minorgridcolor": "white",
             "startlinecolor": "#2a3f5f"
            },
            "type": "carpet"
           }
          ],
          "choropleth": [
           {
            "colorbar": {
             "outlinewidth": 0,
             "ticks": ""
            },
            "type": "choropleth"
           }
          ],
          "contour": [
           {
            "colorbar": {
             "outlinewidth": 0,
             "ticks": ""
            },
            "colorscale": [
             [
              0,
              "#0d0887"
             ],
             [
              0.1111111111111111,
              "#46039f"
             ],
             [
              0.2222222222222222,
              "#7201a8"
             ],
             [
              0.3333333333333333,
              "#9c179e"
             ],
             [
              0.4444444444444444,
              "#bd3786"
             ],
             [
              0.5555555555555556,
              "#d8576b"
             ],
             [
              0.6666666666666666,
              "#ed7953"
             ],
             [
              0.7777777777777778,
              "#fb9f3a"
             ],
             [
              0.8888888888888888,
              "#fdca26"
             ],
             [
              1,
              "#f0f921"
             ]
            ],
            "type": "contour"
           }
          ],
          "contourcarpet": [
           {
            "colorbar": {
             "outlinewidth": 0,
             "ticks": ""
            },
            "type": "contourcarpet"
           }
          ],
          "heatmap": [
           {
            "colorbar": {
             "outlinewidth": 0,
             "ticks": ""
            },
            "colorscale": [
             [
              0,
              "#0d0887"
             ],
             [
              0.1111111111111111,
              "#46039f"
             ],
             [
              0.2222222222222222,
              "#7201a8"
             ],
             [
              0.3333333333333333,
              "#9c179e"
             ],
             [
              0.4444444444444444,
              "#bd3786"
             ],
             [
              0.5555555555555556,
              "#d8576b"
             ],
             [
              0.6666666666666666,
              "#ed7953"
             ],
             [
              0.7777777777777778,
              "#fb9f3a"
             ],
             [
              0.8888888888888888,
              "#fdca26"
             ],
             [
              1,
              "#f0f921"
             ]
            ],
            "type": "heatmap"
           }
          ],
          "heatmapgl": [
           {
            "colorbar": {
             "outlinewidth": 0,
             "ticks": ""
            },
            "colorscale": [
             [
              0,
              "#0d0887"
             ],
             [
              0.1111111111111111,
              "#46039f"
             ],
             [
              0.2222222222222222,
              "#7201a8"
             ],
             [
              0.3333333333333333,
              "#9c179e"
             ],
             [
              0.4444444444444444,
              "#bd3786"
             ],
             [
              0.5555555555555556,
              "#d8576b"
             ],
             [
              0.6666666666666666,
              "#ed7953"
             ],
             [
              0.7777777777777778,
              "#fb9f3a"
             ],
             [
              0.8888888888888888,
              "#fdca26"
             ],
             [
              1,
              "#f0f921"
             ]
            ],
            "type": "heatmapgl"
           }
          ],
          "histogram": [
           {
            "marker": {
             "colorbar": {
              "outlinewidth": 0,
              "ticks": ""
             }
            },
            "type": "histogram"
           }
          ],
          "histogram2d": [
           {
            "colorbar": {
             "outlinewidth": 0,
             "ticks": ""
            },
            "colorscale": [
             [
              0,
              "#0d0887"
             ],
             [
              0.1111111111111111,
              "#46039f"
             ],
             [
              0.2222222222222222,
              "#7201a8"
             ],
             [
              0.3333333333333333,
              "#9c179e"
             ],
             [
              0.4444444444444444,
              "#bd3786"
             ],
             [
              0.5555555555555556,
              "#d8576b"
             ],
             [
              0.6666666666666666,
              "#ed7953"
             ],
             [
              0.7777777777777778,
              "#fb9f3a"
             ],
             [
              0.8888888888888888,
              "#fdca26"
             ],
             [
              1,
              "#f0f921"
             ]
            ],
            "type": "histogram2d"
           }
          ],
          "histogram2dcontour": [
           {
            "colorbar": {
             "outlinewidth": 0,
             "ticks": ""
            },
            "colorscale": [
             [
              0,
              "#0d0887"
             ],
             [
              0.1111111111111111,
              "#46039f"
             ],
             [
              0.2222222222222222,
              "#7201a8"
             ],
             [
              0.3333333333333333,
              "#9c179e"
             ],
             [
              0.4444444444444444,
              "#bd3786"
             ],
             [
              0.5555555555555556,
              "#d8576b"
             ],
             [
              0.6666666666666666,
              "#ed7953"
             ],
             [
              0.7777777777777778,
              "#fb9f3a"
             ],
             [
              0.8888888888888888,
              "#fdca26"
             ],
             [
              1,
              "#f0f921"
             ]
            ],
            "type": "histogram2dcontour"
           }
          ],
          "mesh3d": [
           {
            "colorbar": {
             "outlinewidth": 0,
             "ticks": ""
            },
            "type": "mesh3d"
           }
          ],
          "parcoords": [
           {
            "line": {
             "colorbar": {
              "outlinewidth": 0,
              "ticks": ""
             }
            },
            "type": "parcoords"
           }
          ],
          "pie": [
           {
            "automargin": true,
            "type": "pie"
           }
          ],
          "scatter": [
           {
            "marker": {
             "colorbar": {
              "outlinewidth": 0,
              "ticks": ""
             }
            },
            "type": "scatter"
           }
          ],
          "scatter3d": [
           {
            "line": {
             "colorbar": {
              "outlinewidth": 0,
              "ticks": ""
             }
            },
            "marker": {
             "colorbar": {
              "outlinewidth": 0,
              "ticks": ""
             }
            },
            "type": "scatter3d"
           }
          ],
          "scattercarpet": [
           {
            "marker": {
             "colorbar": {
              "outlinewidth": 0,
              "ticks": ""
             }
            },
            "type": "scattercarpet"
           }
          ],
          "scattergeo": [
           {
            "marker": {
             "colorbar": {
              "outlinewidth": 0,
              "ticks": ""
             }
            },
            "type": "scattergeo"
           }
          ],
          "scattergl": [
           {
            "marker": {
             "colorbar": {
              "outlinewidth": 0,
              "ticks": ""
             }
            },
            "type": "scattergl"
           }
          ],
          "scattermapbox": [
           {
            "marker": {
             "colorbar": {
              "outlinewidth": 0,
              "ticks": ""
             }
            },
            "type": "scattermapbox"
           }
          ],
          "scatterpolar": [
           {
            "marker": {
             "colorbar": {
              "outlinewidth": 0,
              "ticks": ""
             }
            },
            "type": "scatterpolar"
           }
          ],
          "scatterpolargl": [
           {
            "marker": {
             "colorbar": {
              "outlinewidth": 0,
              "ticks": ""
             }
            },
            "type": "scatterpolargl"
           }
          ],
          "scatterternary": [
           {
            "marker": {
             "colorbar": {
              "outlinewidth": 0,
              "ticks": ""
             }
            },
            "type": "scatterternary"
           }
          ],
          "surface": [
           {
            "colorbar": {
             "outlinewidth": 0,
             "ticks": ""
            },
            "colorscale": [
             [
              0,
              "#0d0887"
             ],
             [
              0.1111111111111111,
              "#46039f"
             ],
             [
              0.2222222222222222,
              "#7201a8"
             ],
             [
              0.3333333333333333,
              "#9c179e"
             ],
             [
              0.4444444444444444,
              "#bd3786"
             ],
             [
              0.5555555555555556,
              "#d8576b"
             ],
             [
              0.6666666666666666,
              "#ed7953"
             ],
             [
              0.7777777777777778,
              "#fb9f3a"
             ],
             [
              0.8888888888888888,
              "#fdca26"
             ],
             [
              1,
              "#f0f921"
             ]
            ],
            "type": "surface"
           }
          ],
          "table": [
           {
            "cells": {
             "fill": {
              "color": "#EBF0F8"
             },
             "line": {
              "color": "white"
             }
            },
            "header": {
             "fill": {
              "color": "#C8D4E3"
             },
             "line": {
              "color": "white"
             }
            },
            "type": "table"
           }
          ]
         },
         "layout": {
          "annotationdefaults": {
           "arrowcolor": "#2a3f5f",
           "arrowhead": 0,
           "arrowwidth": 1
          },
          "coloraxis": {
           "colorbar": {
            "outlinewidth": 0,
            "ticks": ""
           }
          },
          "colorscale": {
           "diverging": [
            [
             0,
             "#8e0152"
            ],
            [
             0.1,
             "#c51b7d"
            ],
            [
             0.2,
             "#de77ae"
            ],
            [
             0.3,
             "#f1b6da"
            ],
            [
             0.4,
             "#fde0ef"
            ],
            [
             0.5,
             "#f7f7f7"
            ],
            [
             0.6,
             "#e6f5d0"
            ],
            [
             0.7,
             "#b8e186"
            ],
            [
             0.8,
             "#7fbc41"
            ],
            [
             0.9,
             "#4d9221"
            ],
            [
             1,
             "#276419"
            ]
           ],
           "sequential": [
            [
             0,
             "#0d0887"
            ],
            [
             0.1111111111111111,
             "#46039f"
            ],
            [
             0.2222222222222222,
             "#7201a8"
            ],
            [
             0.3333333333333333,
             "#9c179e"
            ],
            [
             0.4444444444444444,
             "#bd3786"
            ],
            [
             0.5555555555555556,
             "#d8576b"
            ],
            [
             0.6666666666666666,
             "#ed7953"
            ],
            [
             0.7777777777777778,
             "#fb9f3a"
            ],
            [
             0.8888888888888888,
             "#fdca26"
            ],
            [
             1,
             "#f0f921"
            ]
           ],
           "sequentialminus": [
            [
             0,
             "#0d0887"
            ],
            [
             0.1111111111111111,
             "#46039f"
            ],
            [
             0.2222222222222222,
             "#7201a8"
            ],
            [
             0.3333333333333333,
             "#9c179e"
            ],
            [
             0.4444444444444444,
             "#bd3786"
            ],
            [
             0.5555555555555556,
             "#d8576b"
            ],
            [
             0.6666666666666666,
             "#ed7953"
            ],
            [
             0.7777777777777778,
             "#fb9f3a"
            ],
            [
             0.8888888888888888,
             "#fdca26"
            ],
            [
             1,
             "#f0f921"
            ]
           ]
          },
          "colorway": [
           "#636efa",
           "#EF553B",
           "#00cc96",
           "#ab63fa",
           "#FFA15A",
           "#19d3f3",
           "#FF6692",
           "#B6E880",
           "#FF97FF",
           "#FECB52"
          ],
          "font": {
           "color": "#2a3f5f"
          },
          "geo": {
           "bgcolor": "white",
           "lakecolor": "white",
           "landcolor": "#E5ECF6",
           "showlakes": true,
           "showland": true,
           "subunitcolor": "white"
          },
          "hoverlabel": {
           "align": "left"
          },
          "hovermode": "closest",
          "mapbox": {
           "style": "light"
          },
          "paper_bgcolor": "white",
          "plot_bgcolor": "#E5ECF6",
          "polar": {
           "angularaxis": {
            "gridcolor": "white",
            "linecolor": "white",
            "ticks": ""
           },
           "bgcolor": "#E5ECF6",
           "radialaxis": {
            "gridcolor": "white",
            "linecolor": "white",
            "ticks": ""
           }
          },
          "scene": {
           "xaxis": {
            "backgroundcolor": "#E5ECF6",
            "gridcolor": "white",
            "gridwidth": 2,
            "linecolor": "white",
            "showbackground": true,
            "ticks": "",
            "zerolinecolor": "white"
           },
           "yaxis": {
            "backgroundcolor": "#E5ECF6",
            "gridcolor": "white",
            "gridwidth": 2,
            "linecolor": "white",
            "showbackground": true,
            "ticks": "",
            "zerolinecolor": "white"
           },
           "zaxis": {
            "backgroundcolor": "#E5ECF6",
            "gridcolor": "white",
            "gridwidth": 2,
            "linecolor": "white",
            "showbackground": true,
            "ticks": "",
            "zerolinecolor": "white"
           }
          },
          "shapedefaults": {
           "line": {
            "color": "#2a3f5f"
           }
          },
          "ternary": {
           "aaxis": {
            "gridcolor": "white",
            "linecolor": "white",
            "ticks": ""
           },
           "baxis": {
            "gridcolor": "white",
            "linecolor": "white",
            "ticks": ""
           },
           "bgcolor": "#E5ECF6",
           "caxis": {
            "gridcolor": "white",
            "linecolor": "white",
            "ticks": ""
           }
          },
          "title": {
           "x": 0.05
          },
          "xaxis": {
           "automargin": true,
           "gridcolor": "white",
           "linecolor": "white",
           "ticks": "",
           "title": {
            "standoff": 15
           },
           "zerolinecolor": "white",
           "zerolinewidth": 2
          },
          "yaxis": {
           "automargin": true,
           "gridcolor": "white",
           "linecolor": "white",
           "ticks": "",
           "title": {
            "standoff": 15
           },
           "zerolinecolor": "white",
           "zerolinewidth": 2
          }
         }
        },
        "xaxis": {
         "showspikes": true
        },
        "yaxis": {
         "showspikes": true
        }
       },
       "_model_module_version": "4.6.0",
       "_py2js_addTraces": {},
       "_py2js_animate": {},
       "_py2js_deleteTraces": {},
       "_py2js_moveTraces": {},
       "_py2js_removeLayoutProps": {},
       "_py2js_removeTraceProps": {},
       "_py2js_restyle": {},
       "_py2js_update": {},
       "_view_count": 1,
       "_view_module_version": "4.6.0"
      }
     },
     "2f01d53325604be3b3efebf15f3021e8": {
      "model_module": "@jupyter-widgets/controls",
      "model_module_version": "1.5.0",
      "model_name": "DescriptionStyleModel",
      "state": {
       "description_width": ""
      }
     },
     "35e92aed30694f50afe2fd8b75f1fd9f": {
      "buffers": [
       {
        "data": "pEYebvjZ6T+kRh5u+NnpPxLEgYy7Z+k/EsSBjLtn6T9zl0Q9vWLpP3OXRD29Yuk/n1ZIgv5z6T+fVkiC/nPpP/R3Vbs7D+o/9HdVuzsP6j/Ocp6XeIXpP85ynpd4hek/559qrcRM6T/nn2qtxEzpPxY4oa3bhuk/FjihrduG6T8Pfipsmh3qPw9+KmyaHeo/2XnpVGaR6T/ZeelUZpHpP3wDzbQjWuk/fAPNtCNa6T+WZqD1NKXpP5ZmoPU0pek/X9ZYHssL6j9f1lgeywvqP8lbpybOhOk/yVunJs6E6T8VGb9S8ZrpPxUZv1Lxmuk/In1c4Ben6T8ifVzgF6fpP07+xY9Hwuk/Tv7Fj0fC6T9xMoki+9HpP3EyiSL70ek/mX1DJlni6T+ZfUMmWeLpP8fXCbEhCOo/x9cJsSEI6j8=",
        "encoding": "base64",
        "path": [
         "_data",
         0,
         "y",
         "value"
        ]
       },
       {
        "data": "Xq8NeVeP2j9wkkdAOgHUP0UJn2ZEN9Q/+2IAS4J81D8mlFNRwqfZP1EBWL6jHdM/J9WtdGCQ0z/T4T4cX+jTP3/UliVw8tk/ROOT8FS20j+t3LEYX0DTP9HpfUYll9M/O5oCIcuJ2j9/wIUjqBDTP1P5GJTdbtM/yk6/Pws41D9KMLyshxzTP0ooKUI7qtM/zIyD9d8P1D/fgyL/ECfUPw==",
        "encoding": "base64",
        "path": [
         "_data",
         1,
         "y",
         "value"
        ]
       },
       {
        "data": "ZWsuOWTR1T9lay45ZNHVP5YO9+H4Qs8/lg734fhCzz8RbNh4fwXPPxFs2Hh/Bc8/Qp/73uA1zz9Cn/ve4DXPP4mIzPs8SdU/iYjM+zxJ1T/xnHiBmg3OP/GceIGaDc4/CcrwVmARzj8JyvBWYBHOP4BWNtzK0s0/gFY23MrSzT9NXUR+AvbVP01dRH4C9tU/KVNNbqqCzz8pU01uqoLPP4AfQ8IHF88/gB9DwgcXzz+55eUEvffOP7nl5QS9984/A870Ut601j8DzvRS3rTWP/ui8B7Zh9A/+6LwHtmH0D9XxE1ZLzHQP1fETVkvMdA/3TDOZ0ufzz/dMM5nS5/PP5X2UjL13NA/lfZSMvXc0D/yRU5Nh3nRP/JFTk2HedE/7UVSjPQu0j/tRVKM9C7SP+aLBWt2p9I/5osFa3an0j8=",
        "encoding": "base64",
        "path": [
         "_data",
         2,
         "y",
         "value"
        ]
       },
       {
        "data": "FZ+I5h9L1T889uqhvKzMPzVN2mSYI8o/CBIgVX3LyT8qGu+FwMDUP0RyG45y48s/AuwYHvv/yD/1xcHlXybJP0EYs2uJt9U/XKa8fj18zT/IcqLW5TrKP3LNIUi/BMo/yS7H1V8y1j9tblNY68LOP2Y6+upezco/PUwUV/AXyz/d+vBcSf3OPy0Fs+RV1M8/5i8d6oSE0D+vQgGjK5DQPw==",
        "encoding": "base64",
        "path": [
         "_data",
         3,
         "y",
         "value"
        ]
       },
       {
        "data": "UeFfVPgX1T8ru3CXBY3IP0ZssAI778c/A5et+JQ1yD+HO0zAFmrUP4UDR9b/Scg/krWkztAwxz8E/D7zk+THP5Ab+JcKNtU/laxPlUloyT+FYJmmOErIP4O9Q/Zkw8g/5B0jdl3l1T+TrKcUPeHJP5UR4Y9IF8k/hWfCwT3fyT+UhdrPEgrKPwu8niBW58o/Ej/4JxGzyz/fSfH2d9PLPw==",
        "encoding": "base64",
        "path": [
         "_data",
         4,
         "y",
         "value"
        ]
       },
       {
        "data": "mWjI1Ekj1T8KzdoEsOXHPxKWN+wFOMg/fUn6tIHCyD+d5FBA89LUPxdQhA2Ev8c/ooV60kQmyD+gfZMncvDIP4fGlPB+1tU/L/H1IhS2yD8kpNGlTgXJPzJdWLkkgck/M/IH82ca1j8q8U2iBy/JP14cMt6isMk/roNGNuiHyj+idVT9q0HJPyfKMFzESco/X77J/qiWyz/+w+XI9gDMPw==",
        "encoding": "base64",
        "path": [
         "_data",
         5,
         "y",
         "value"
        ]
       },
       {
        "data": "5B13tuOo1T+C3NEQyevIPylO+PEzqMk/Ov8/20N1yj9Ns20zNmHUPw0DYJC+Dsg/sxc0ofDKyD8VVwWofM3JP+z2UfLFWNU/MMoo3uneyD8NrTbbiqPJP4sR6Q0jgso/exxy4wbp1T/TQ+ZoDsPJP5ZWzmAihMo/tiUuWAd8yz/0Gi0LxvDJP4Y4DtJA0so/x5Aa4ohJzD9rtWxHR2PMPw==",
        "encoding": "base64",
        "path": [
         "_data",
         6,
         "y",
         "value"
        ]
       },
       {
        "data": "nTEp+wwr1j+PPy9va/zKP+9+AHb3/ss/YAv2+UiyzD9dZGHcv2rVPy9dsDgY+sk/jWb8s5XTyj/aMvqFzdLLPy3jT6yDyNU/QyXvktLHyj8PIMKMoAPMPzjXtAZM/cw/NuKJntu81j+w58EhJh3MPwy7iBGVzcw/VPSuh4WjzT8iVdELIC/MPxgAbmSUz8w/055kmrgIzj9yRy6UzXLOPw==",
        "encoding": "base64",
        "path": [
         "_data",
         7,
         "y",
         "value"
        ]
       },
       {
        "data": "Z9c8j+7Y1j8nFkdIo0vNP4s2ijTLJc4/2iG+oXPUzj8HSn2+h2TWP3RfOxQ5jcw/3hJWXKiQzT/+m1r0/ojOPwv0T8rmQ9c/CfG9m4rozT8PdBejRbTOPx8lX4xVgc8/AeWbwm+n1z8hTNRRjN/OP2wBgzMmZc8/87oFHR8N0D95yoebiD7PPyYVibjVqs8/0tsrEBtt0D+/QYuWnJLQPw==",
        "encoding": "base64",
        "path": [
         "_data",
         8,
         "y",
         "value"
        ]
       },
       {
        "data": "mkCRQNhu1z/36Uz9RrDOP1vMc7SmOc8/suWVA6Tpzz/G0cyEGqvWPx3osOVBw80/shyJHWelzj/d8rEyg07PP+h5s3dbj9c/RpdkNScOzz84zrdMuK3PP5NjI1e6OtA/1XqBA94F2D/8yVBULvXPP28vNqRDSdA/Kd7+bnqj0D+8rgd72yzQP9RXYDs+WdA/yaWqw3n50D/E67HigTXRPw==",
        "encoding": "base64",
        "path": [
         "_data",
         9,
         "y",
         "value"
        ]
       },
       {
        "data": "sicGNgPs1z8oDUqOD/zPP17y5/r9btA/Gh3l8Fe10D9eyNzH/f/WP28o+Phcw84/3TDOZ0ufzz8hNITiDj3QPzir6sSexNc/lcjzAV68zz+nmDLWOWbQP+Qvyan+wNA/2LCyTmZr2D9N810HjWzQPwjBCC2ustA/IGoNrYob0T9mfSiti3DQP6PW+sp789A/+PcHBLmO0T+4vRuAIK3RPw==",
        "encoding": "base64",
        "path": [
         "_data",
         10,
         "y",
         "value"
        ]
       },
       {
        "data": "Y2LdPkq+2D9R49+yAA/RP/Do+3xOedE/5zaaRRDd0T8/o6dba2DXP112BxBhRtA/h/ccfwqe0D87USojwh/RP6vS9s79T9g/UmdTCOqp0D9ym5g6VBTRP01nV0dXX9E/GZ2wCCTb2D8yBK4mCfbQPxNEtnTvQdE/Q3eFmsqu0T/oH5+V+CbRP+rZ7/XjY9E/F8/6Zer40T+bFMf+KjbSPw==",
        "encoding": "base64",
        "path": [
         "_data",
         11,
         "y",
         "value"
        ]
       },
       {
        "data": "7Y+U2UR22T9hL5ahES3SPzML10EOi9I/bIt2pCjl0j/zMpIKJYTYPxm4/7XSQtE/v61FrKDW0T8teP/lxmHSP2IkGYl15tg/6DbuhZag0T9vNl+/SN7RP/fvIFnmWNI/r7L6JeWU2T8QwO7ef+PRP7IDz16iJdI/IDPGUkGc0j80l4nBvdTRPwWxOtcIR9I/9eeN7pnm0j88EqSesvHSPw==",
        "encoding": "base64",
        "path": [
         "_data",
         12,
         "y",
         "value"
        ]
       }
      ],
      "model_module": "plotlywidget",
      "model_module_version": "4.6.0",
      "model_name": "FigureModel",
      "state": {
       "_config": {
        "plotlyServerURL": "https://plot.ly"
       },
       "_data": [
        {
         "hovertemplate": "%{text}",
         "name": "0",
         "showlegend": true,
         "text": [
          "bad4: 0.8078577185389872<br>Experiment id:<br> ALG_005_EXP_001-PatchMatch-MacLean_et_al-Numba<br>Scene: teddy<br>kernel size: 1x1<br>kernel spec: None<br>match:0<br>bad4: 0.8078577185389872<br>IMG res:450x375",
          "bad4: 0.8078577185389872<br>Experiment id:<br> ALG_005_EXP_001-PatchMatch-MacLean_et_al-Numba<br>Scene: teddy<br>kernel size: 1x1<br>kernel spec: None<br>match:0<br>bad4: 0.8078577185389872<br>IMG res:450x375",
          "bad4: 0.7939126724505761<br>Experiment id:<br> ALG_005_EXP_001-PatchMatch-MacLean_et_al-Numba<br>Scene: teddy<br>kernel size: 1x3<br>kernel spec: None<br>match:0<br>bad4: 0.7939126724505761<br>IMG res:450x375",
          "bad4: 0.7939126724505761<br>Experiment id:<br> ALG_005_EXP_001-PatchMatch-MacLean_et_al-Numba<br>Scene: teddy<br>kernel size: 1x3<br>kernel spec: None<br>match:0<br>bad4: 0.7939126724505761<br>IMG res:450x375",
          "bad4: 0.7933031269683241<br>Experiment id:<br> ALG_005_EXP_001-PatchMatch-MacLean_et_al-Numba<br>Scene: teddy<br>kernel size: 1x5<br>kernel spec: None<br>match:0<br>bad4: 0.7933031269683241<br>IMG res:450x375",
          "bad4: 0.7933031269683241<br>Experiment id:<br> ALG_005_EXP_001-PatchMatch-MacLean_et_al-Numba<br>Scene: teddy<br>kernel size: 1x5<br>kernel spec: None<br>match:0<br>bad4: 0.7933031269683241<br>IMG res:450x375",
          "bad4: 0.7954094452458839<br>Experiment id:<br> ALG_005_EXP_001-PatchMatch-MacLean_et_al-Numba<br>Scene: teddy<br>kernel size: 1x7<br>kernel spec: None<br>match:0<br>bad4: 0.7954094452458839<br>IMG res:450x375",
          "bad4: 0.7954094452458839<br>Experiment id:<br> ALG_005_EXP_001-PatchMatch-MacLean_et_al-Numba<br>Scene: teddy<br>kernel size: 1x7<br>kernel spec: None<br>match:0<br>bad4: 0.7954094452458839<br>IMG res:450x375",
          "bad4: 0.8143595370163426<br>Experiment id:<br> ALG_005_EXP_001-PatchMatch-MacLean_et_al-Numba<br>Scene: teddy<br>kernel size: 3x1<br>kernel spec: None<br>match:0<br>bad4: 0.8143595370163426<br>IMG res:450x375",
          "bad4: 0.8143595370163426<br>Experiment id:<br> ALG_005_EXP_001-PatchMatch-MacLean_et_al-Numba<br>Scene: teddy<br>kernel size: 3x1<br>kernel spec: None<br>match:0<br>bad4: 0.8143595370163426<br>IMG res:450x375",
          "bad4: 0.7975428544337662<br>Experiment id:<br> ALG_005_EXP_001-PatchMatch-MacLean_et_al-Numba<br>Scene: teddy<br>kernel size: 3x3<br>kernel spec: None<br>match:0<br>bad4: 0.7975428544337662<br>IMG res:450x375",
          "bad4: 0.7975428544337662<br>Experiment id:<br> ALG_005_EXP_001-PatchMatch-MacLean_et_al-Numba<br>Scene: teddy<br>kernel size: 3x3<br>kernel spec: None<br>match:0<br>bad4: 0.7975428544337662<br>IMG res:450x375",
          "bad4: 0.7906211268464148<br>Experiment id:<br> ALG_005_EXP_001-PatchMatch-MacLean_et_al-Numba<br>Scene: teddy<br>kernel size: 3x5<br>kernel spec: None<br>match:0<br>bad4: 0.7906211268464148<br>IMG res:450x375",
          "bad4: 0.7906211268464148<br>Experiment id:<br> ALG_005_EXP_001-PatchMatch-MacLean_et_al-Numba<br>Scene: teddy<br>kernel size: 3x5<br>kernel spec: None<br>match:0<br>bad4: 0.7906211268464148<br>IMG res:450x375",
          "bad4: 0.7977121726232805<br>Experiment id:<br> ALG_005_EXP_001-PatchMatch-MacLean_et_al-Numba<br>Scene: teddy<br>kernel size: 3x7<br>kernel spec: None<br>match:0<br>bad4: 0.7977121726232805<br>IMG res:450x375",
          "bad4: 0.7977121726232805<br>Experiment id:<br> ALG_005_EXP_001-PatchMatch-MacLean_et_al-Numba<br>Scene: teddy<br>kernel size: 3x7<br>kernel spec: None<br>match:0<br>bad4: 0.7977121726232805<br>IMG res:450x375",
          "bad4: 0.8161136734597124<br>Experiment id:<br> ALG_005_EXP_001-PatchMatch-MacLean_et_al-Numba<br>Scene: teddy<br>kernel size: 5x1<br>kernel spec: None<br>match:0<br>bad4: 0.8161136734597124<br>IMG res:450x375",
          "bad4: 0.8161136734597124<br>Experiment id:<br> ALG_005_EXP_001-PatchMatch-MacLean_et_al-Numba<br>Scene: teddy<br>kernel size: 5x1<br>kernel spec: None<br>match:0<br>bad4: 0.8161136734597124<br>IMG res:450x375",
          "bad4: 0.7989989908635905<br>Experiment id:<br> ALG_005_EXP_001-PatchMatch-MacLean_et_al-Numba<br>Scene: teddy<br>kernel size: 5x3<br>kernel spec: None<br>match:0<br>bad4: 0.7989989908635905<br>IMG res:450x375",
          "bad4: 0.7989989908635905<br>Experiment id:<br> ALG_005_EXP_001-PatchMatch-MacLean_et_al-Numba<br>Scene: teddy<br>kernel size: 5x3<br>kernel spec: None<br>match:0<br>bad4: 0.7989989908635905<br>IMG res:450x375",
          "bad4: 0.7922533541933343<br>Experiment id:<br> ALG_005_EXP_001-PatchMatch-MacLean_et_al-Numba<br>Scene: teddy<br>kernel size: 5x5<br>kernel spec: None<br>match:0<br>bad4: 0.7922533541933343<br>IMG res:450x375",
          "bad4: 0.7922533541933343<br>Experiment id:<br> ALG_005_EXP_001-PatchMatch-MacLean_et_al-Numba<br>Scene: teddy<br>kernel size: 5x5<br>kernel spec: None<br>match:0<br>bad4: 0.7922533541933343<br>IMG res:450x375",
          "bad4: 0.801416854609857<br>Experiment id:<br> ALG_005_EXP_001-PatchMatch-MacLean_et_al-Numba<br>Scene: teddy<br>kernel size: 5x7<br>kernel spec: None<br>match:0<br>bad4: 0.801416854609857<br>IMG res:450x375",
          "bad4: 0.801416854609857<br>Experiment id:<br> ALG_005_EXP_001-PatchMatch-MacLean_et_al-Numba<br>Scene: teddy<br>kernel size: 5x7<br>kernel spec: None<br>match:0<br>bad4: 0.801416854609857<br>IMG res:450x375",
          "bad4: 0.8139396279063468<br>Experiment id:<br> ALG_005_EXP_001-PatchMatch-MacLean_et_al-Numba<br>Scene: teddy<br>kernel size: 7x1<br>kernel spec: None<br>match:0<br>bad4: 0.8139396279063468<br>IMG res:450x375",
          "bad4: 0.8139396279063468<br>Experiment id:<br> ALG_005_EXP_001-PatchMatch-MacLean_et_al-Numba<br>Scene: teddy<br>kernel size: 7x1<br>kernel spec: None<br>match:0<br>bad4: 0.8139396279063468<br>IMG res:450x375",
          "bad4: 0.7974615817027991<br>Experiment id:<br> ALG_005_EXP_001-PatchMatch-MacLean_et_al-Numba<br>Scene: teddy<br>kernel size: 7x3<br>kernel spec: None<br>match:0<br>bad4: 0.7974615817027991<br>IMG res:450x375",
          "bad4: 0.7974615817027991<br>Experiment id:<br> ALG_005_EXP_001-PatchMatch-MacLean_et_al-Numba<br>Scene: teddy<br>kernel size: 7x3<br>kernel spec: None<br>match:0<br>bad4: 0.7974615817027991<br>IMG res:450x375",
          "bad4: 0.80016390000745<br>Experiment id:<br> ALG_005_EXP_001-PatchMatch-MacLean_et_al-Numba<br>Scene: teddy<br>kernel size: 7x5<br>kernel spec: None<br>match:0<br>bad4: 0.80016390000745<br>IMG res:450x375",
          "bad4: 0.80016390000745<br>Experiment id:<br> ALG_005_EXP_001-PatchMatch-MacLean_et_al-Numba<br>Scene: teddy<br>kernel size: 7x5<br>kernel spec: None<br>match:0<br>bad4: 0.80016390000745<br>IMG res:450x375",
          "bad4: 0.8016471273475967<br>Experiment id:<br> ALG_005_EXP_001-PatchMatch-MacLean_et_al-Numba<br>Scene: teddy<br>kernel size: 7x7<br>kernel spec: None<br>match:0<br>bad4: 0.8016471273475967<br>IMG res:450x375",
          "bad4: 0.8016471273475967<br>Experiment id:<br> ALG_005_EXP_001-PatchMatch-MacLean_et_al-Numba<br>Scene: teddy<br>kernel size: 7x7<br>kernel spec: None<br>match:0<br>bad4: 0.8016471273475967<br>IMG res:450x375",
          "bad4: 0.8049657638620802<br>Experiment id:<br> ALG_005_EXP_001-PatchMatch-MacLean_et_al-Numba<br>Scene: teddy<br>kernel size: 9x3<br>kernel spec: None<br>match:0<br>bad4: 0.8049657638620802<br>IMG res:450x375",
          "bad4: 0.8049657638620802<br>Experiment id:<br> ALG_005_EXP_001-PatchMatch-MacLean_et_al-Numba<br>Scene: teddy<br>kernel size: 9x3<br>kernel spec: None<br>match:0<br>bad4: 0.8049657638620802<br>IMG res:450x375",
          "bad4: 0.8068824457673839<br>Experiment id:<br> ALG_005_EXP_001-PatchMatch-MacLean_et_al-Numba<br>Scene: teddy<br>kernel size: 11x3<br>kernel spec: None<br>match:0<br>bad4: 0.8068824457673839<br>IMG res:450x375",
          "bad4: 0.8068824457673839<br>Experiment id:<br> ALG_005_EXP_001-PatchMatch-MacLean_et_al-Numba<br>Scene: teddy<br>kernel size: 11x3<br>kernel spec: None<br>match:0<br>bad4: 0.8068824457673839<br>IMG res:450x375",
          "bad4: 0.8088804004036546<br>Experiment id:<br> ALG_005_EXP_001-PatchMatch-MacLean_et_al-Numba<br>Scene: teddy<br>kernel size: 13x3<br>kernel spec: None<br>match:0<br>bad4: 0.8088804004036546<br>IMG res:450x375",
          "bad4: 0.8088804004036546<br>Experiment id:<br> ALG_005_EXP_001-PatchMatch-MacLean_et_al-Numba<br>Scene: teddy<br>kernel size: 13x3<br>kernel spec: None<br>match:0<br>bad4: 0.8088804004036546<br>IMG res:450x375",
          "bad4: 0.8134926278860285<br>Experiment id:<br> ALG_005_EXP_001-PatchMatch-MacLean_et_al-Numba<br>Scene: teddy<br>kernel size: 15x3<br>kernel spec: None<br>match:0<br>bad4: 0.8134926278860285<br>IMG res:450x375",
          "bad4: 0.8134926278860285<br>Experiment id:<br> ALG_005_EXP_001-PatchMatch-MacLean_et_al-Numba<br>Scene: teddy<br>kernel size: 15x3<br>kernel spec: None<br>match:0<br>bad4: 0.8134926278860285<br>IMG res:450x375"
         ],
         "type": "scatter",
         "uid": "94b5f4e2-66c5-4015-b214-fec8b5abe174",
         "x": [
          "1x1",
          "1x1",
          "1x3",
          "1x3",
          "1x5",
          "1x5",
          "1x7",
          "1x7",
          "3x1",
          "3x1",
          "3x3",
          "3x3",
          "3x5",
          "3x5",
          "3x7",
          "3x7",
          "5x1",
          "5x1",
          "5x3",
          "5x3",
          "5x5",
          "5x5",
          "5x7",
          "5x7",
          "7x1",
          "7x1",
          "7x3",
          "7x3",
          "7x5",
          "7x5",
          "7x7",
          "7x7",
          "9x3",
          "9x3",
          "11x3",
          "11x3",
          "13x3",
          "13x3",
          "15x3",
          "15x3"
         ],
         "y": {
          "dtype": "float64",
          "shape": [
           40
          ]
         }
        },
        {
         "hovertemplate": "%{text}",
         "name": "120",
         "showlegend": true,
         "text": [
          "bad4: 0.4149988824999492<br>Experiment id:<br> ALG_005_EXP_001-PatchMatch-MacLean_et_al-Numba<br>Scene: teddy<br>kernel size: 1x1<br>kernel spec: None<br>match:120<br>bad4: 0.4149988824999492<br>IMG res:450x375",
          "bad4: 0.31257492329886016<br>Experiment id:<br> ALG_005_EXP_001-PatchMatch-MacLean_et_al-Numba<br>Scene: teddy<br>kernel size: 1x3<br>kernel spec: None<br>match:120<br>bad4: 0.31257492329886016<br>IMG res:450x375",
          "bad4: 0.3158732416306019<br>Experiment id:<br> ALG_005_EXP_001-PatchMatch-MacLean_et_al-Numba<br>Scene: teddy<br>kernel size: 1x5<br>kernel spec: None<br>match:120<br>bad4: 0.3158732416306019<br>IMG res:450x375",
          "bad4: 0.3200994236408829<br>Experiment id:<br> ALG_005_EXP_001-PatchMatch-MacLean_et_al-Numba<br>Scene: teddy<br>kernel size: 1x7<br>kernel spec: None<br>match:120<br>bad4: 0.3200994236408829<br>IMG res:450x375",
          "bad4: 0.4008642000392818<br>Experiment id:<br> ALG_005_EXP_001-PatchMatch-MacLean_et_al-Numba<br>Scene: teddy<br>kernel size: 3x1<br>kernel spec: None<br>match:120<br>bad4: 0.4008642000392818<br>IMG res:450x375",
          "bad4: 0.2986840590310936<br>Experiment id:<br> ALG_005_EXP_001-PatchMatch-MacLean_et_al-Numba<br>Scene: teddy<br>kernel size: 3x3<br>kernel spec: None<br>match:120<br>bad4: 0.2986840590310936<br>IMG res:450x375",
          "bad4: 0.3056870593494118<br>Experiment id:<br> ALG_005_EXP_001-PatchMatch-MacLean_et_al-Numba<br>Scene: teddy<br>kernel size: 3x5<br>kernel spec: None<br>match:120<br>bad4: 0.3056870593494118<br>IMG res:450x375",
          "bad4: 0.3110578323208106<br>Experiment id:<br> ALG_005_EXP_001-PatchMatch-MacLean_et_al-Numba<br>Scene: teddy<br>kernel size: 3x7<br>kernel spec: None<br>match:120<br>bad4: 0.3110578323208106<br>IMG res:450x375",
          "bad4: 0.4054222457010112<br>Experiment id:<br> ALG_005_EXP_001-PatchMatch-MacLean_et_al-Numba<br>Scene: teddy<br>kernel size: 5x1<br>kernel spec: None<br>match:120<br>bad4: 0.4054222457010112<br>IMG res:450x375",
          "bad4: 0.29237864965357496<br>Experiment id:<br> ALG_005_EXP_001-PatchMatch-MacLean_et_al-Numba<br>Scene: teddy<br>kernel size: 5x3<br>kernel spec: None<br>match:120<br>bad4: 0.29237864965357496<br>IMG res:450x375",
          "bad4: 0.3008039227638147<br>Experiment id:<br> ALG_005_EXP_001-PatchMatch-MacLean_et_al-Numba<br>Scene: teddy<br>kernel size: 5x5<br>kernel spec: None<br>match:120<br>bad4: 0.3008039227638147<br>IMG res:450x375",
          "bad4: 0.30610019573182706<br>Experiment id:<br> ALG_005_EXP_001-PatchMatch-MacLean_et_al-Numba<br>Scene: teddy<br>kernel size: 5x7<br>kernel spec: None<br>match:120<br>bad4: 0.30610019573182706<br>IMG res:450x375",
          "bad4: 0.4146602461209203<br>Experiment id:<br> ALG_005_EXP_001-PatchMatch-MacLean_et_al-Numba<br>Scene: teddy<br>kernel size: 7x1<br>kernel spec: None<br>match:120<br>bad4: 0.4146602461209203<br>IMG res:450x375",
          "bad4: 0.2978916499041659<br>Experiment id:<br> ALG_005_EXP_001-PatchMatch-MacLean_et_al-Numba<br>Scene: teddy<br>kernel size: 7x3<br>kernel spec: None<br>match:120<br>bad4: 0.2978916499041659<br>IMG res:450x375",
          "bad4: 0.3036416956200771<br>Experiment id:<br> ALG_005_EXP_001-PatchMatch-MacLean_et_al-Numba<br>Scene: teddy<br>kernel size: 7x5<br>kernel spec: None<br>match:120<br>bad4: 0.3036416956200771<br>IMG res:450x375",
          "bad4: 0.31592065072366593<br>Experiment id:<br> ALG_005_EXP_001-PatchMatch-MacLean_et_al-Numba<br>Scene: teddy<br>kernel size: 7x7<br>kernel spec: None<br>match:120<br>bad4: 0.31592065072366593<br>IMG res:450x375",
          "bad4: 0.2986163317552878<br>Experiment id:<br> ALG_005_EXP_001-PatchMatch-MacLean_et_al-Numba<br>Scene: teddy<br>kernel size: 9x3<br>kernel spec: None<br>match:120<br>bad4: 0.2986163317552878<br>IMG res:450x375",
          "bad4: 0.3072651048756866<br>Experiment id:<br> ALG_005_EXP_001-PatchMatch-MacLean_et_al-Numba<br>Scene: teddy<br>kernel size: 11x3<br>kernel spec: None<br>match:120<br>bad4: 0.3072651048756866<br>IMG res:450x375",
          "bad4: 0.3134689233394965<br>Experiment id:<br> ALG_005_EXP_001-PatchMatch-MacLean_et_al-Numba<br>Scene: teddy<br>kernel size: 13x3<br>kernel spec: None<br>match:120<br>bad4: 0.3134689233394965<br>IMG res:450x375",
          "bad4: 0.31488442340383743<br>Experiment id:<br> ALG_005_EXP_001-PatchMatch-MacLean_et_al-Numba<br>Scene: teddy<br>kernel size: 15x3<br>kernel spec: None<br>match:120<br>bad4: 0.31488442340383743<br>IMG res:450x375"
         ],
         "type": "scatter",
         "uid": "2ad23a4a-ed81-440b-8583-2163bb1a7dc0",
         "x": [
          "1x1",
          "1x3",
          "1x5",
          "1x7",
          "3x1",
          "3x3",
          "3x5",
          "3x7",
          "5x1",
          "5x3",
          "5x5",
          "5x7",
          "7x1",
          "7x3",
          "7x5",
          "7x7",
          "9x3",
          "11x3",
          "13x3",
          "15x3"
         ],
         "y": {
          "dtype": "float64",
          "shape": [
           20
          ]
         }
        },
        {
         "hovertemplate": "%{text}",
         "name": "10",
         "showlegend": true,
         "text": [
          "bad4: 0.3409052427684201<br>Experiment id:<br> ALG_005_EXP_001-PatchMatch-MacLean_et_al-Numba<br>Scene: teddy<br>kernel size: 1x1<br>kernel spec: None<br>match:10<br>bad4: 0.3409052427684201<br>IMG res:450x375",
          "bad4: 0.3409052427684201<br>Experiment id:<br> ALG_005_EXP_001-PatchMatch-MacLean_et_al-Numba<br>Scene: teddy<br>kernel size: 1x1<br>kernel spec: None<br>match:10<br>bad4: 0.3409052427684201<br>IMG res:450x375",
          "bad4: 0.24423132928324226<br>Experiment id:<br> ALG_005_EXP_001-PatchMatch-MacLean_et_al-Numba<br>Scene: teddy<br>kernel size: 1x3<br>kernel spec: None<br>match:10<br>bad4: 0.24423132928324226<br>IMG res:450x375",
          "bad4: 0.24423132928324226<br>Experiment id:<br> ALG_005_EXP_001-PatchMatch-MacLean_et_al-Numba<br>Scene: teddy<br>kernel size: 1x3<br>kernel spec: None<br>match:10<br>bad4: 0.24423132928324226<br>IMG res:450x375",
          "bad4: 0.242355283743422<br>Experiment id:<br> ALG_005_EXP_001-PatchMatch-MacLean_et_al-Numba<br>Scene: teddy<br>kernel size: 1x5<br>kernel spec: None<br>match:10<br>bad4: 0.242355283743422<br>IMG res:450x375",
          "bad4: 0.242355283743422<br>Experiment id:<br> ALG_005_EXP_001-PatchMatch-MacLean_et_al-Numba<br>Scene: teddy<br>kernel size: 1x5<br>kernel spec: None<br>match:10<br>bad4: 0.242355283743422<br>IMG res:450x375",
          "bad4: 0.2438317383559881<br>Experiment id:<br> ALG_005_EXP_001-PatchMatch-MacLean_et_al-Numba<br>Scene: teddy<br>kernel size: 1x7<br>kernel spec: None<br>match:10<br>bad4: 0.2438317383559881<br>IMG res:450x375",
          "bad4: 0.2438317383559881<br>Experiment id:<br> ALG_005_EXP_001-PatchMatch-MacLean_et_al-Numba<br>Scene: teddy<br>kernel size: 1x7<br>kernel spec: None<br>match:10<br>bad4: 0.2438317383559881<br>IMG res:450x375",
          "bad4: 0.3325951060270503<br>Experiment id:<br> ALG_005_EXP_001-PatchMatch-MacLean_et_al-Numba<br>Scene: teddy<br>kernel size: 3x1<br>kernel spec: None<br>match:10<br>bad4: 0.3325951060270503<br>IMG res:450x375",
          "bad4: 0.3325951060270503<br>Experiment id:<br> ALG_005_EXP_001-PatchMatch-MacLean_et_al-Numba<br>Scene: teddy<br>kernel size: 3x1<br>kernel spec: None<br>match:10<br>bad4: 0.3325951060270503<br>IMG res:450x375",
          "bad4: 0.23479014703591575<br>Experiment id:<br> ALG_005_EXP_001-PatchMatch-MacLean_et_al-Numba<br>Scene: teddy<br>kernel size: 3x3<br>kernel spec: None<br>match:10<br>bad4: 0.23479014703591575<br>IMG res:450x375",
          "bad4: 0.23479014703591575<br>Experiment id:<br> ALG_005_EXP_001-PatchMatch-MacLean_et_al-Numba<br>Scene: teddy<br>kernel size: 3x3<br>kernel spec: None<br>match:10<br>bad4: 0.23479014703591575<br>IMG res:450x375",
          "bad4: 0.2349052834047856<br>Experiment id:<br> ALG_005_EXP_001-PatchMatch-MacLean_et_al-Numba<br>Scene: teddy<br>kernel size: 3x5<br>kernel spec: None<br>match:10<br>bad4: 0.2349052834047856<br>IMG res:450x375",
          "bad4: 0.2349052834047856<br>Experiment id:<br> ALG_005_EXP_001-PatchMatch-MacLean_et_al-Numba<br>Scene: teddy<br>kernel size: 3x5<br>kernel spec: None<br>match:10<br>bad4: 0.2349052834047856<br>IMG res:450x375",
          "bad4: 0.2329953742270625<br>Experiment id:<br> ALG_005_EXP_001-PatchMatch-MacLean_et_al-Numba<br>Scene: teddy<br>kernel size: 3x7<br>kernel spec: None<br>match:10<br>bad4: 0.2329953742270625<br>IMG res:450x375",
          "bad4: 0.2329953742270625<br>Experiment id:<br> ALG_005_EXP_001-PatchMatch-MacLean_et_al-Numba<br>Scene: teddy<br>kernel size: 3x7<br>kernel spec: None<br>match:10<br>bad4: 0.2329953742270625<br>IMG res:450x375",
          "bad4: 0.34314024287001105<br>Experiment id:<br> ALG_005_EXP_001-PatchMatch-MacLean_et_al-Numba<br>Scene: teddy<br>kernel size: 5x1<br>kernel spec: None<br>match:10<br>bad4: 0.34314024287001105<br>IMG res:450x375",
          "bad4: 0.34314024287001105<br>Experiment id:<br> ALG_005_EXP_001-PatchMatch-MacLean_et_al-Numba<br>Scene: teddy<br>kernel size: 5x1<br>kernel spec: None<br>match:10<br>bad4: 0.34314024287001105<br>IMG res:450x375",
          "bad4: 0.2461751020988683<br>Experiment id:<br> ALG_005_EXP_001-PatchMatch-MacLean_et_al-Numba<br>Scene: teddy<br>kernel size: 5x3<br>kernel spec: None<br>match:10<br>bad4: 0.2461751020988683<br>IMG res:450x375",
          "bad4: 0.2461751020988683<br>Experiment id:<br> ALG_005_EXP_001-PatchMatch-MacLean_et_al-Numba<br>Scene: teddy<br>kernel size: 5x3<br>kernel spec: None<br>match:10<br>bad4: 0.2461751020988683<br>IMG res:450x375",
          "bad4: 0.2428903292222877<br>Experiment id:<br> ALG_005_EXP_001-PatchMatch-MacLean_et_al-Numba<br>Scene: teddy<br>kernel size: 5x5<br>kernel spec: None<br>match:10<br>bad4: 0.2428903292222877<br>IMG res:450x375",
          "bad4: 0.2428903292222877<br>Experiment id:<br> ALG_005_EXP_001-PatchMatch-MacLean_et_al-Numba<br>Scene: teddy<br>kernel size: 5x5<br>kernel spec: None<br>match:10<br>bad4: 0.2428903292222877<br>IMG res:450x375",
          "bad4: 0.2419353746334261<br>Experiment id:<br> ALG_005_EXP_001-PatchMatch-MacLean_et_al-Numba<br>Scene: teddy<br>kernel size: 5x7<br>kernel spec: None<br>match:10<br>bad4: 0.2419353746334261<br>IMG res:450x375",
          "bad4: 0.2419353746334261<br>Experiment id:<br> ALG_005_EXP_001-PatchMatch-MacLean_et_al-Numba<br>Scene: teddy<br>kernel size: 5x7<br>kernel spec: None<br>match:10<br>bad4: 0.2419353746334261<br>IMG res:450x375",
          "bad4: 0.3547893343086061<br>Experiment id:<br> ALG_005_EXP_001-PatchMatch-MacLean_et_al-Numba<br>Scene: teddy<br>kernel size: 7x1<br>kernel spec: None<br>match:10<br>bad4: 0.3547893343086061<br>IMG res:450x375",
          "bad4: 0.3547893343086061<br>Experiment id:<br> ALG_005_EXP_001-PatchMatch-MacLean_et_al-Numba<br>Scene: teddy<br>kernel size: 7x1<br>kernel spec: None<br>match:10<br>bad4: 0.3547893343086061<br>IMG res:450x375",
          "bad4: 0.2582915117405233<br>Experiment id:<br> ALG_005_EXP_001-PatchMatch-MacLean_et_al-Numba<br>Scene: teddy<br>kernel size: 7x3<br>kernel spec: None<br>match:10<br>bad4: 0.2582915117405233<br>IMG res:450x375",
          "bad4: 0.2582915117405233<br>Experiment id:<br> ALG_005_EXP_001-PatchMatch-MacLean_et_al-Numba<br>Scene: teddy<br>kernel size: 7x3<br>kernel spec: None<br>match:10<br>bad4: 0.2582915117405233<br>IMG res:450x375",
          "bad4: 0.25300201150009144<br>Experiment id:<br> ALG_005_EXP_001-PatchMatch-MacLean_et_al-Numba<br>Scene: teddy<br>kernel size: 7x5<br>kernel spec: None<br>match:10<br>bad4: 0.25300201150009144<br>IMG res:450x375",
          "bad4: 0.25300201150009144<br>Experiment id:<br> ALG_005_EXP_001-PatchMatch-MacLean_et_al-Numba<br>Scene: teddy<br>kernel size: 7x5<br>kernel spec: None<br>match:10<br>bad4: 0.25300201150009144<br>IMG res:450x375",
          "bad4: 0.2470487839567629<br>Experiment id:<br> ALG_005_EXP_001-PatchMatch-MacLean_et_al-Numba<br>Scene: teddy<br>kernel size: 7x7<br>kernel spec: None<br>match:10<br>bad4: 0.2470487839567629<br>IMG res:450x375",
          "bad4: 0.2470487839567629<br>Experiment id:<br> ALG_005_EXP_001-PatchMatch-MacLean_et_al-Numba<br>Scene: teddy<br>kernel size: 7x7<br>kernel spec: None<br>match:10<br>bad4: 0.2470487839567629<br>IMG res:450x375",
          "bad4: 0.263486193794827<br>Experiment id:<br> ALG_005_EXP_001-PatchMatch-MacLean_et_al-Numba<br>Scene: teddy<br>kernel size: 9x3<br>kernel spec: None<br>match:10<br>bad4: 0.263486193794827<br>IMG res:450x375",
          "bad4: 0.263486193794827<br>Experiment id:<br> ALG_005_EXP_001-PatchMatch-MacLean_et_al-Numba<br>Scene: teddy<br>kernel size: 9x3<br>kernel spec: None<br>match:10<br>bad4: 0.263486193794827<br>IMG res:450x375",
          "bad4: 0.2730425124110233<br>Experiment id:<br> ALG_005_EXP_001-PatchMatch-MacLean_et_al-Numba<br>Scene: teddy<br>kernel size: 11x3<br>kernel spec: None<br>match:10<br>bad4: 0.2730425124110233<br>IMG res:450x375",
          "bad4: 0.2730425124110233<br>Experiment id:<br> ALG_005_EXP_001-PatchMatch-MacLean_et_al-Numba<br>Scene: teddy<br>kernel size: 11x3<br>kernel spec: None<br>match:10<br>bad4: 0.2730425124110233<br>IMG res:450x375",
          "bad4: 0.2841159220052692<br>Experiment id:<br> ALG_005_EXP_001-PatchMatch-MacLean_et_al-Numba<br>Scene: teddy<br>kernel size: 13x3<br>kernel spec: None<br>match:10<br>bad4: 0.2841159220052692<br>IMG res:450x375",
          "bad4: 0.2841159220052692<br>Experiment id:<br> ALG_005_EXP_001-PatchMatch-MacLean_et_al-Numba<br>Scene: teddy<br>kernel size: 13x3<br>kernel spec: None<br>match:10<br>bad4: 0.2841159220052692<br>IMG res:450x375",
          "bad4: 0.29147110415777744<br>Experiment id:<br> ALG_005_EXP_001-PatchMatch-MacLean_et_al-Numba<br>Scene: teddy<br>kernel size: 15x3<br>kernel spec: None<br>match:10<br>bad4: 0.29147110415777744<br>IMG res:450x375",
          "bad4: 0.29147110415777744<br>Experiment id:<br> ALG_005_EXP_001-PatchMatch-MacLean_et_al-Numba<br>Scene: teddy<br>kernel size: 15x3<br>kernel spec: None<br>match:10<br>bad4: 0.29147110415777744<br>IMG res:450x375"
         ],
         "type": "scatter",
         "uid": "c78e51d8-392a-40ed-b518-1d795437232d",
         "x": [
          "1x1",
          "1x1",
          "1x3",
          "1x3",
          "1x5",
          "1x5",
          "1x7",
          "1x7",
          "3x1",
          "3x1",
          "3x3",
          "3x3",
          "3x5",
          "3x5",
          "3x7",
          "3x7",
          "5x1",
          "5x1",
          "5x3",
          "5x3",
          "5x5",
          "5x5",
          "5x7",
          "5x7",
          "7x1",
          "7x1",
          "7x3",
          "7x3",
          "7x5",
          "7x5",
          "7x7",
          "7x7",
          "9x3",
          "9x3",
          "11x3",
          "11x3",
          "13x3",
          "13x3",
          "15x3",
          "15x3"
         ],
         "y": {
          "dtype": "float64",
          "shape": [
           40
          ]
         }
        },
        {
         "hovertemplate": "%{text}",
         "name": "20",
         "showlegend": true,
         "text": [
          "bad4: 0.3327102423959201<br>Experiment id:<br> ALG_005_EXP_001-PatchMatch-MacLean_et_al-Numba<br>Scene: teddy<br>kernel size: 1x1<br>kernel spec: None<br>match:20<br>bad4: 0.3327102423959201<br>IMG res:450x375",
          "bad4: 0.22402151018279592<br>Experiment id:<br> ALG_005_EXP_001-PatchMatch-MacLean_et_al-Numba<br>Scene: teddy<br>kernel size: 1x3<br>kernel spec: None<br>match:20<br>bad4: 0.22402151018279592<br>IMG res:450x375",
          "bad4: 0.20421128200960373<br>Experiment id:<br> ALG_005_EXP_001-PatchMatch-MacLean_et_al-Numba<br>Scene: teddy<br>kernel size: 1x5<br>kernel spec: None<br>match:20<br>bad4: 0.20421128200960373<br>IMG res:450x375",
          "bad4: 0.20152250916011405<br>Experiment id:<br> ALG_005_EXP_001-PatchMatch-MacLean_et_al-Numba<br>Scene: teddy<br>kernel size: 1x7<br>kernel spec: None<br>match:20<br>bad4: 0.20152250916011405<br>IMG res:450x375",
          "bad4: 0.3242646511029387<br>Experiment id:<br> ALG_005_EXP_001-PatchMatch-MacLean_et_al-Numba<br>Scene: teddy<br>kernel size: 3x1<br>kernel spec: None<br>match:20<br>bad4: 0.3242646511029387<br>IMG res:450x375",
          "bad4: 0.2178786462672112<br>Experiment id:<br> ALG_005_EXP_001-PatchMatch-MacLean_et_al-Numba<br>Scene: teddy<br>kernel size: 3x3<br>kernel spec: None<br>match:20<br>bad4: 0.2178786462672112<br>IMG res:450x375",
          "bad4: 0.19531191796872355<br>Experiment id:<br> ALG_005_EXP_001-PatchMatch-MacLean_et_al-Numba<br>Scene: teddy<br>kernel size: 3x5<br>kernel spec: None<br>match:20<br>bad4: 0.19531191796872355<br>IMG res:450x375",
          "bad4: 0.19648359984016364<br>Experiment id:<br> ALG_005_EXP_001-PatchMatch-MacLean_et_al-Numba<br>Scene: teddy<br>kernel size: 3x7<br>kernel spec: None<br>match:20<br>bad4: 0.19648359984016364<br>IMG res:450x375",
          "bad4: 0.3393271972421453<br>Experiment id:<br> ALG_005_EXP_001-PatchMatch-MacLean_et_al-Numba<br>Scene: teddy<br>kernel size: 5x1<br>kernel spec: None<br>match:20<br>bad4: 0.3393271972421453<br>IMG res:450x375",
          "bad4: 0.23035401047063686<br>Experiment id:<br> ALG_005_EXP_001-PatchMatch-MacLean_et_al-Numba<br>Scene: teddy<br>kernel size: 5x3<br>kernel spec: None<br>match:20<br>bad4: 0.23035401047063686<br>IMG res:450x375",
          "bad4: 0.20492241840556447<br>Experiment id:<br> ALG_005_EXP_001-PatchMatch-MacLean_et_al-Numba<br>Scene: teddy<br>kernel size: 5x5<br>kernel spec: None<br>match:20<br>bad4: 0.20492241840556447<br>IMG res:450x375",
          "bad4: 0.2032698728759033<br>Experiment id:<br> ALG_005_EXP_001-PatchMatch-MacLean_et_al-Numba<br>Scene: teddy<br>kernel size: 5x7<br>kernel spec: None<br>match:20<br>bad4: 0.2032698728759033<br>IMG res:450x375",
          "bad4: 0.3468246066738457<br>Experiment id:<br> ALG_005_EXP_001-PatchMatch-MacLean_et_al-Numba<br>Scene: teddy<br>kernel size: 7x1<br>kernel spec: None<br>match:20<br>bad4: 0.3468246066738457<br>IMG res:450x375",
          "bad4: 0.24032346546924846<br>Experiment id:<br> ALG_005_EXP_001-PatchMatch-MacLean_et_al-Numba<br>Scene: teddy<br>kernel size: 7x3<br>kernel spec: None<br>match:20<br>bad4: 0.24032346546924846<br>IMG res:450x375",
          "bad4: 0.2093924186087463<br>Experiment id:<br> ALG_005_EXP_001-PatchMatch-MacLean_et_al-Numba<br>Scene: teddy<br>kernel size: 7x5<br>kernel spec: None<br>match:20<br>bad4: 0.2093924186087463<br>IMG res:450x375",
          "bad4: 0.21166805507582068<br>Experiment id:<br> ALG_005_EXP_001-PatchMatch-MacLean_et_al-Numba<br>Scene: teddy<br>kernel size: 7x7<br>kernel spec: None<br>match:20<br>bad4: 0.21166805507582068<br>IMG res:450x375",
          "bad4: 0.2421046928229406<br>Experiment id:<br> ALG_005_EXP_001-PatchMatch-MacLean_et_al-Numba<br>Scene: teddy<br>kernel size: 9x3<br>kernel spec: None<br>match:20<br>bad4: 0.2421046928229406<br>IMG res:450x375",
          "bad4: 0.2486674658485212<br>Experiment id:<br> ALG_005_EXP_001-PatchMatch-MacLean_et_al-Numba<br>Scene: teddy<br>kernel size: 11x3<br>kernel spec: None<br>match:20<br>bad4: 0.2486674658485212<br>IMG res:450x375",
          "bad4: 0.25808832991310593<br>Experiment id:<br> ALG_005_EXP_001-PatchMatch-MacLean_et_al-Numba<br>Scene: teddy<br>kernel size: 13x3<br>kernel spec: None<br>match:20<br>bad4: 0.25808832991310593<br>IMG res:450x375",
          "bad4: 0.25879946630906664<br>Experiment id:<br> ALG_005_EXP_001-PatchMatch-MacLean_et_al-Numba<br>Scene: teddy<br>kernel size: 15x3<br>kernel spec: None<br>match:20<br>bad4: 0.25879946630906664<br>IMG res:450x375"
         ],
         "type": "scatter",
         "uid": "70cb2845-09dc-45a8-9f01-c9d9ee1af958",
         "x": [
          "1x1",
          "1x3",
          "1x5",
          "1x7",
          "3x1",
          "3x3",
          "3x5",
          "3x7",
          "5x1",
          "5x3",
          "5x5",
          "5x7",
          "7x1",
          "7x3",
          "7x5",
          "7x7",
          "9x3",
          "11x3",
          "13x3",
          "15x3"
         ],
         "y": {
          "dtype": "float64",
          "shape": [
           20
          ]
         }
        },
        {
         "hovertemplate": "%{text}",
         "name": "30",
         "showlegend": true,
         "text": [
          "bad4: 0.3295880149812734<br>Experiment id:<br> ALG_005_EXP_001-PatchMatch-MacLean_et_al-Numba<br>Scene: teddy<br>kernel size: 1x1<br>kernel spec: None<br>match:30<br>bad4: 0.3295880149812734<br>IMG res:450x375",
          "bad4: 0.19180364508198386<br>Experiment id:<br> ALG_005_EXP_001-PatchMatch-MacLean_et_al-Numba<br>Scene: teddy<br>kernel size: 1x3<br>kernel spec: None<br>match:30<br>bad4: 0.19180364508198386<br>IMG res:450x375",
          "bad4: 0.18698823577219253<br>Experiment id:<br> ALG_005_EXP_001-PatchMatch-MacLean_et_al-Numba<br>Scene: teddy<br>kernel size: 1x5<br>kernel spec: None<br>match:30<br>bad4: 0.18698823577219253<br>IMG res:450x375",
          "bad4: 0.18913519041523594<br>Experiment id:<br> ALG_005_EXP_001-PatchMatch-MacLean_et_al-Numba<br>Scene: teddy<br>kernel size: 1x7<br>kernel spec: None<br>match:30<br>bad4: 0.18913519041523594<br>IMG res:450x375",
          "bad4: 0.3189751508625069<br>Experiment id:<br> ALG_005_EXP_001-PatchMatch-MacLean_et_al-Numba<br>Scene: teddy<br>kernel size: 3x1<br>kernel spec: None<br>match:30<br>bad4: 0.3189751508625069<br>IMG res:450x375",
          "bad4: 0.1897582813526492<br>Experiment id:<br> ALG_005_EXP_001-PatchMatch-MacLean_et_al-Numba<br>Scene: teddy<br>kernel size: 3x3<br>kernel spec: None<br>match:30<br>bad4: 0.1897582813526492<br>IMG res:450x375",
          "bad4: 0.18117723550805614<br>Experiment id:<br> ALG_005_EXP_001-PatchMatch-MacLean_et_al-Numba<br>Scene: teddy<br>kernel size: 3x5<br>kernel spec: None<br>match:30<br>bad4: 0.18117723550805614<br>IMG res:450x375",
          "bad4: 0.1866631448483248<br>Experiment id:<br> ALG_005_EXP_001-PatchMatch-MacLean_et_al-Numba<br>Scene: teddy<br>kernel size: 3x7<br>kernel spec: None<br>match:30<br>bad4: 0.1866631448483248<br>IMG res:450x375",
          "bad4: 0.3314234241556102<br>Experiment id:<br> ALG_005_EXP_001-PatchMatch-MacLean_et_al-Numba<br>Scene: teddy<br>kernel size: 5x1<br>kernel spec: None<br>match:30<br>bad4: 0.3314234241556102<br>IMG res:450x375",
          "bad4: 0.19849509993159545<br>Experiment id:<br> ALG_005_EXP_001-PatchMatch-MacLean_et_al-Numba<br>Scene: teddy<br>kernel size: 5x3<br>kernel spec: None<br>match:30<br>bad4: 0.19849509993159545<br>IMG res:450x375",
          "bad4: 0.18976505408022973<br>Experiment id:<br> ALG_005_EXP_001-PatchMatch-MacLean_et_al-Numba<br>Scene: teddy<br>kernel size: 5x5<br>kernel spec: None<br>match:30<br>bad4: 0.18976505408022973<br>IMG res:450x375",
          "bad4: 0.1934629633392256<br>Experiment id:<br> ALG_005_EXP_001-PatchMatch-MacLean_et_al-Numba<br>Scene: teddy<br>kernel size: 5x7<br>kernel spec: None<br>match:30<br>bad4: 0.1934629633392256<br>IMG res:450x375",
          "bad4: 0.3421243337329243<br>Experiment id:<br> ALG_005_EXP_001-PatchMatch-MacLean_et_al-Numba<br>Scene: teddy<br>kernel size: 7x1<br>kernel spec: None<br>match:30<br>bad4: 0.3421243337329243<br>IMG res:450x375",
          "bad4: 0.2021862364630108<br>Experiment id:<br> ALG_005_EXP_001-PatchMatch-MacLean_et_al-Numba<br>Scene: teddy<br>kernel size: 7x3<br>kernel spec: None<br>match:30<br>bad4: 0.2021862364630108<br>IMG res:450x375",
          "bad4: 0.19602305436468428<br>Experiment id:<br> ALG_005_EXP_001-PatchMatch-MacLean_et_al-Numba<br>Scene: teddy<br>kernel size: 7x5<br>kernel spec: None<br>match:30<br>bad4: 0.19602305436468428<br>IMG res:450x375",
          "bad4: 0.20212528191478554<br>Experiment id:<br> ALG_005_EXP_001-PatchMatch-MacLean_et_al-Numba<br>Scene: teddy<br>kernel size: 7x7<br>kernel spec: None<br>match:30<br>bad4: 0.20212528191478554<br>IMG res:450x375",
          "bad4: 0.2034324183378372<br>Experiment id:<br> ALG_005_EXP_001-PatchMatch-MacLean_et_al-Numba<br>Scene: teddy<br>kernel size: 9x3<br>kernel spec: None<br>match:30<br>bad4: 0.2034324183378372<br>IMG res:450x375",
          "bad4: 0.210184827735674<br>Experiment id:<br> ALG_005_EXP_001-PatchMatch-MacLean_et_al-Numba<br>Scene: teddy<br>kernel size: 11x3<br>kernel spec: None<br>match:30<br>bad4: 0.210184827735674<br>IMG res:450x375",
          "bad4: 0.21640219165464508<br>Experiment id:<br> ALG_005_EXP_001-PatchMatch-MacLean_et_al-Numba<br>Scene: teddy<br>kernel size: 13x3<br>kernel spec: None<br>match:30<br>bad4: 0.21640219165464508<br>IMG res:450x375",
          "bad4: 0.21739100988140955<br>Experiment id:<br> ALG_005_EXP_001-PatchMatch-MacLean_et_al-Numba<br>Scene: teddy<br>kernel size: 15x3<br>kernel spec: None<br>match:30<br>bad4: 0.21739100988140955<br>IMG res:450x375"
         ],
         "type": "scatter",
         "uid": "5d591c7a-f999-4cf5-aac2-e379b3f3e9e4",
         "x": [
          "1x1",
          "1x3",
          "1x5",
          "1x7",
          "3x1",
          "3x3",
          "3x5",
          "3x7",
          "5x1",
          "5x3",
          "5x5",
          "5x7",
          "7x1",
          "7x3",
          "7x5",
          "7x7",
          "9x3",
          "11x3",
          "13x3",
          "15x3"
         ],
         "y": {
          "dtype": "float64",
          "shape": [
           20
          ]
         }
        },
        {
         "hovertemplate": "%{text}",
         "name": "40",
         "showlegend": true,
         "text": [
          "bad4: 0.3302788331944924<br>Experiment id:<br> ALG_005_EXP_001-PatchMatch-MacLean_et_al-Numba<br>Scene: teddy<br>kernel size: 1x1<br>kernel spec: None<br>match:40<br>bad4: 0.3302788331944924<br>IMG res:450x375",
          "bad4: 0.18669700848622767<br>Experiment id:<br> ALG_005_EXP_001-PatchMatch-MacLean_et_al-Numba<br>Scene: teddy<br>kernel size: 1x3<br>kernel spec: None<br>match:40<br>bad4: 0.18669700848622767<br>IMG res:450x375",
          "bad4: 0.1892096904186223<br>Experiment id:<br> ALG_005_EXP_001-PatchMatch-MacLean_et_al-Numba<br>Scene: teddy<br>kernel size: 1x5<br>kernel spec: None<br>match:40<br>bad4: 0.1892096904186223<br>IMG res:450x375",
          "bad4: 0.19343587242890328<br>Experiment id:<br> ALG_005_EXP_001-PatchMatch-MacLean_et_al-Numba<br>Scene: teddy<br>kernel size: 1x7<br>kernel spec: None<br>match:40<br>bad4: 0.19343587242890328<br>IMG res:450x375",
          "bad4: 0.32537537842615355<br>Experiment id:<br> ALG_005_EXP_001-PatchMatch-MacLean_et_al-Numba<br>Scene: teddy<br>kernel size: 3x1<br>kernel spec: None<br>match:40<br>bad4: 0.32537537842615355<br>IMG res:450x375",
          "bad4: 0.1855320993423681<br>Experiment id:<br> ALG_005_EXP_001-PatchMatch-MacLean_et_al-Numba<br>Scene: teddy<br>kernel size: 3x3<br>kernel spec: None<br>match:40<br>bad4: 0.1855320993423681<br>IMG res:450x375",
          "bad4: 0.188667872212176<br>Experiment id:<br> ALG_005_EXP_001-PatchMatch-MacLean_et_al-Numba<br>Scene: teddy<br>kernel size: 3x5<br>kernel spec: None<br>match:40<br>bad4: 0.188667872212176<br>IMG res:450x375",
          "bad4: 0.19483782703808306<br>Experiment id:<br> ALG_005_EXP_001-PatchMatch-MacLean_et_al-Numba<br>Scene: teddy<br>kernel size: 3x7<br>kernel spec: None<br>match:40<br>bad4: 0.19483782703808306<br>IMG res:450x375",
          "bad4: 0.3412167882371268<br>Experiment id:<br> ALG_005_EXP_001-PatchMatch-MacLean_et_al-Numba<br>Scene: teddy<br>kernel size: 5x1<br>kernel spec: None<br>match:40<br>bad4: 0.3412167882371268<br>IMG res:450x375",
          "bad4: 0.1930565996843909<br>Experiment id:<br> ALG_005_EXP_001-PatchMatch-MacLean_et_al-Numba<br>Scene: teddy<br>kernel size: 5x3<br>kernel spec: None<br>match:40<br>bad4: 0.1930565996843909<br>IMG res:450x375",
          "bad4: 0.19547446343065744<br>Experiment id:<br> ALG_005_EXP_001-PatchMatch-MacLean_et_al-Numba<br>Scene: teddy<br>kernel size: 5x5<br>kernel spec: None<br>match:40<br>bad4: 0.19547446343065744<br>IMG res:450x375",
          "bad4: 0.19925364542062024<br>Experiment id:<br> ALG_005_EXP_001-PatchMatch-MacLean_et_al-Numba<br>Scene: teddy<br>kernel size: 5x7<br>kernel spec: None<br>match:40<br>bad4: 0.19925364542062024<br>IMG res:450x375",
          "bad4: 0.3453616975164408<br>Experiment id:<br> ALG_005_EXP_001-PatchMatch-MacLean_et_al-Numba<br>Scene: teddy<br>kernel size: 7x1<br>kernel spec: None<br>match:40<br>bad4: 0.3453616975164408<br>IMG res:450x375",
          "bad4: 0.19674773621580616<br>Experiment id:<br> ALG_005_EXP_001-PatchMatch-MacLean_et_al-Numba<br>Scene: teddy<br>kernel size: 7x3<br>kernel spec: None<br>match:40<br>bad4: 0.19674773621580616<br>IMG res:450x375",
          "bad4: 0.20070300912286404<br>Experiment id:<br> ALG_005_EXP_001-PatchMatch-MacLean_et_al-Numba<br>Scene: teddy<br>kernel size: 7x5<br>kernel spec: None<br>match:40<br>bad4: 0.20070300912286404<br>IMG res:450x375",
          "bad4: 0.2072725548760252<br>Experiment id:<br> ALG_005_EXP_001-PatchMatch-MacLean_et_al-Numba<br>Scene: teddy<br>kernel size: 7x7<br>kernel spec: None<br>match:40<br>bad4: 0.2072725548760252<br>IMG res:450x375",
          "bad4: 0.1973166453325748<br>Experiment id:<br> ALG_005_EXP_001-PatchMatch-MacLean_et_al-Numba<br>Scene: teddy<br>kernel size: 9x3<br>kernel spec: None<br>match:40<br>bad4: 0.1973166453325748<br>IMG res:450x375",
          "bad4: 0.20537619115346326<br>Experiment id:<br> ALG_005_EXP_001-PatchMatch-MacLean_et_al-Numba<br>Scene: teddy<br>kernel size: 11x3<br>kernel spec: None<br>match:40<br>bad4: 0.20537619115346326<br>IMG res:450x375",
          "bad4: 0.21553528252433105<br>Experiment id:<br> ALG_005_EXP_001-PatchMatch-MacLean_et_al-Numba<br>Scene: teddy<br>kernel size: 13x3<br>kernel spec: None<br>match:40<br>bad4: 0.21553528252433105<br>IMG res:450x375",
          "bad4: 0.21877941903542814<br>Experiment id:<br> ALG_005_EXP_001-PatchMatch-MacLean_et_al-Numba<br>Scene: teddy<br>kernel size: 15x3<br>kernel spec: None<br>match:40<br>bad4: 0.21877941903542814<br>IMG res:450x375"
         ],
         "type": "scatter",
         "uid": "e87158e2-c638-42c8-b50f-f84453daafd3",
         "x": [
          "1x1",
          "1x3",
          "1x5",
          "1x7",
          "3x1",
          "3x3",
          "3x5",
          "3x7",
          "5x1",
          "5x3",
          "5x5",
          "5x7",
          "7x1",
          "7x3",
          "7x5",
          "7x7",
          "9x3",
          "11x3",
          "13x3",
          "15x3"
         ],
         "y": {
          "dtype": "float64",
          "shape": [
           20
          ]
         }
        },
        {
         "hovertemplate": "%{text}",
         "name": "50",
         "showlegend": true,
         "text": [
          "bad4: 0.3384331972015089<br>Experiment id:<br> ALG_005_EXP_001-PatchMatch-MacLean_et_al-Numba<br>Scene: teddy<br>kernel size: 1x1<br>kernel spec: None<br>match:50<br>bad4: 0.3384331972015089<br>IMG res:450x375",
          "bad4: 0.1946955997588909<br>Experiment id:<br> ALG_005_EXP_001-PatchMatch-MacLean_et_al-Numba<br>Scene: teddy<br>kernel size: 1x3<br>kernel spec: None<br>match:50<br>bad4: 0.1946955997588909<br>IMG res:450x375",
          "bad4: 0.20044564547480206<br>Experiment id:<br> ALG_005_EXP_001-PatchMatch-MacLean_et_al-Numba<br>Scene: teddy<br>kernel size: 1x5<br>kernel spec: None<br>match:50<br>bad4: 0.20044564547480206<br>IMG res:450x375",
          "bad4: 0.20670364575925665<br>Experiment id:<br> ALG_005_EXP_001-PatchMatch-MacLean_et_al-Numba<br>Scene: teddy<br>kernel size: 1x7<br>kernel spec: None<br>match:50<br>bad4: 0.20670364575925665<br>IMG res:450x375",
          "bad4: 0.3184333326560605<br>Experiment id:<br> ALG_005_EXP_001-PatchMatch-MacLean_et_al-Numba<br>Scene: teddy<br>kernel size: 3x1<br>kernel spec: None<br>match:50<br>bad4: 0.3184333326560605<br>IMG res:450x375",
          "bad4: 0.18794996308863468<br>Experiment id:<br> ALG_005_EXP_001-PatchMatch-MacLean_et_al-Numba<br>Scene: teddy<br>kernel size: 3x3<br>kernel spec: None<br>match:50<br>bad4: 0.18794996308863468<br>IMG res:450x375",
          "bad4: 0.19369323607696529<br>Experiment id:<br> ALG_005_EXP_001-PatchMatch-MacLean_et_al-Numba<br>Scene: teddy<br>kernel size: 3x5<br>kernel spec: None<br>match:50<br>bad4: 0.19369323607696529<br>IMG res:450x375",
          "bad4: 0.20158346370833927<br>Experiment id:<br> ALG_005_EXP_001-PatchMatch-MacLean_et_al-Numba<br>Scene: teddy<br>kernel size: 3x7<br>kernel spec: None<br>match:50<br>bad4: 0.20158346370833927<br>IMG res:450x375",
          "bad4: 0.3335432878883313<br>Experiment id:<br> ALG_005_EXP_001-PatchMatch-MacLean_et_al-Numba<br>Scene: teddy<br>kernel size: 5x1<br>kernel spec: None<br>match:50<br>bad4: 0.3335432878883313<br>IMG res:450x375",
          "bad4: 0.19430278155921732<br>Experiment id:<br> ALG_005_EXP_001-PatchMatch-MacLean_et_al-Numba<br>Scene: teddy<br>kernel size: 5x3<br>kernel spec: None<br>match:50<br>bad4: 0.19430278155921732<br>IMG res:450x375",
          "bad4: 0.20030341819560996<br>Experiment id:<br> ALG_005_EXP_001-PatchMatch-MacLean_et_al-Numba<br>Scene: teddy<br>kernel size: 5x5<br>kernel spec: None<br>match:50<br>bad4: 0.20030341819560996<br>IMG res:450x375",
          "bad4: 0.2070964639589302<br>Experiment id:<br> ALG_005_EXP_001-PatchMatch-MacLean_et_al-Numba<br>Scene: teddy<br>kernel size: 5x7<br>kernel spec: None<br>match:50<br>bad4: 0.2070964639589302<br>IMG res:450x375",
          "bad4: 0.34234783374308336<br>Experiment id:<br> ALG_005_EXP_001-PatchMatch-MacLean_et_al-Numba<br>Scene: teddy<br>kernel size: 7x1<br>kernel spec: None<br>match:50<br>bad4: 0.34234783374308336<br>IMG res:450x375",
          "bad4: 0.20126514551205207<br>Experiment id:<br> ALG_005_EXP_001-PatchMatch-MacLean_et_al-Numba<br>Scene: teddy<br>kernel size: 7x3<br>kernel spec: None<br>match:50<br>bad4: 0.20126514551205207<br>IMG res:450x375",
          "bad4: 0.20715741850715536<br>Experiment id:<br> ALG_005_EXP_001-PatchMatch-MacLean_et_al-Numba<br>Scene: teddy<br>kernel size: 7x5<br>kernel spec: None<br>match:50<br>bad4: 0.20715741850715536<br>IMG res:450x375",
          "bad4: 0.2147225552146616<br>Experiment id:<br> ALG_005_EXP_001-PatchMatch-MacLean_et_al-Numba<br>Scene: teddy<br>kernel size: 7x7<br>kernel spec: None<br>match:50<br>bad4: 0.2147225552146616<br>IMG res:450x375",
          "bad4: 0.20266032739365125<br>Experiment id:<br> ALG_005_EXP_001-PatchMatch-MacLean_et_al-Numba<br>Scene: teddy<br>kernel size: 9x3<br>kernel spec: None<br>match:50<br>bad4: 0.20266032739365125<br>IMG res:450x375",
          "bad4: 0.20954141861551906<br>Experiment id:<br> ALG_005_EXP_001-PatchMatch-MacLean_et_al-Numba<br>Scene: teddy<br>kernel size: 11x3<br>kernel spec: None<br>match:50<br>bad4: 0.20954141861551906<br>IMG res:450x375",
          "bad4: 0.22099410095427727<br>Experiment id:<br> ALG_005_EXP_001-PatchMatch-MacLean_et_al-Numba<br>Scene: teddy<br>kernel size: 13x3<br>kernel spec: None<br>match:50<br>bad4: 0.22099410095427727<br>IMG res:450x375",
          "bad4: 0.2217797373536244<br>Experiment id:<br> ALG_005_EXP_001-PatchMatch-MacLean_et_al-Numba<br>Scene: teddy<br>kernel size: 15x3<br>kernel spec: None<br>match:50<br>bad4: 0.2217797373536244<br>IMG res:450x375"
         ],
         "type": "scatter",
         "uid": "540e31f4-f53d-4b5c-83d7-8d0bfb2789a0",
         "x": [
          "1x1",
          "1x3",
          "1x5",
          "1x7",
          "3x1",
          "3x3",
          "3x5",
          "3x7",
          "5x1",
          "5x3",
          "5x5",
          "5x7",
          "7x1",
          "7x3",
          "7x5",
          "7x7",
          "9x3",
          "11x3",
          "13x3",
          "15x3"
         ],
         "y": {
          "dtype": "float64",
          "shape": [
           20
          ]
         }
        },
        {
         "hovertemplate": "%{text}",
         "name": "60",
         "showlegend": true,
         "text": [
          "bad4: 0.3463776066535276<br>Experiment id:<br> ALG_005_EXP_001-PatchMatch-MacLean_et_al-Numba<br>Scene: teddy<br>kernel size: 1x1<br>kernel spec: None<br>match:60<br>bad4: 0.3463776066535276<br>IMG res:450x375",
          "bad4: 0.21082823685582894<br>Experiment id:<br> ALG_005_EXP_001-PatchMatch-MacLean_et_al-Numba<br>Scene: teddy<br>kernel size: 1x3<br>kernel spec: None<br>match:60<br>bad4: 0.21082823685582894<br>IMG res:450x375",
          "bad4: 0.21871846448720286<br>Experiment id:<br> ALG_005_EXP_001-PatchMatch-MacLean_et_al-Numba<br>Scene: teddy<br>kernel size: 1x5<br>kernel spec: None<br>match:60<br>bad4: 0.21871846448720286<br>IMG res:450x375",
          "bad4: 0.2241908283723104<br>Experiment id:<br> ALG_005_EXP_001-PatchMatch-MacLean_et_al-Numba<br>Scene: teddy<br>kernel size: 1x7<br>kernel spec: None<br>match:60<br>bad4: 0.2241908283723104<br>IMG res:450x375",
          "bad4: 0.334640469756385<br>Experiment id:<br> ALG_005_EXP_001-PatchMatch-MacLean_et_al-Numba<br>Scene: teddy<br>kernel size: 3x1<br>kernel spec: None<br>match:60<br>bad4: 0.334640469756385<br>IMG res:450x375",
          "bad4: 0.20294478195203555<br>Experiment id:<br> ALG_005_EXP_001-PatchMatch-MacLean_et_al-Numba<br>Scene: teddy<br>kernel size: 3x3<br>kernel spec: None<br>match:60<br>bad4: 0.20294478195203555<br>IMG res:450x375",
          "bad4: 0.2095820549810025<br>Experiment id:<br> ALG_005_EXP_001-PatchMatch-MacLean_et_al-Numba<br>Scene: teddy<br>kernel size: 3x5<br>kernel spec: None<br>match:60<br>bad4: 0.2095820549810025<br>IMG res:450x375",
          "bad4: 0.2173706916986678<br>Experiment id:<br> ALG_005_EXP_001-PatchMatch-MacLean_et_al-Numba<br>Scene: teddy<br>kernel size: 3x7<br>kernel spec: None<br>match:60<br>bad4: 0.2173706916986678<br>IMG res:450x375",
          "bad4: 0.3403634245619738<br>Experiment id:<br> ALG_005_EXP_001-PatchMatch-MacLean_et_al-Numba<br>Scene: teddy<br>kernel size: 5x1<br>kernel spec: None<br>match:60<br>bad4: 0.3403634245619738<br>IMG res:450x375",
          "bad4: 0.20922310041923184<br>Experiment id:<br> ALG_005_EXP_001-PatchMatch-MacLean_et_al-Numba<br>Scene: teddy<br>kernel size: 5x3<br>kernel spec: None<br>match:60<br>bad4: 0.20922310041923184<br>IMG res:450x375",
          "bad4: 0.21886069176639508<br>Experiment id:<br> ALG_005_EXP_001-PatchMatch-MacLean_et_al-Numba<br>Scene: teddy<br>kernel size: 5x5<br>kernel spec: None<br>match:60<br>bad4: 0.21886069176639508<br>IMG res:450x375",
          "bad4: 0.2264800102945459<br>Experiment id:<br> ALG_005_EXP_001-PatchMatch-MacLean_et_al-Numba<br>Scene: teddy<br>kernel size: 5x7<br>kernel spec: None<br>match:60<br>bad4: 0.2264800102945459<br>IMG res:450x375",
          "bad4: 0.3552769706944078<br>Experiment id:<br> ALG_005_EXP_001-PatchMatch-MacLean_et_al-Numba<br>Scene: teddy<br>kernel size: 7x1<br>kernel spec: None<br>match:60<br>bad4: 0.3552769706944078<br>IMG res:450x375",
          "bad4: 0.2196395554381616<br>Experiment id:<br> ALG_005_EXP_001-PatchMatch-MacLean_et_al-Numba<br>Scene: teddy<br>kernel size: 7x3<br>kernel spec: None<br>match:60<br>bad4: 0.2196395554381616<br>IMG res:450x375",
          "bad4: 0.22502387386472156<br>Experiment id:<br> ALG_005_EXP_001-PatchMatch-MacLean_et_al-Numba<br>Scene: teddy<br>kernel size: 7x5<br>kernel spec: None<br>match:60<br>bad4: 0.22502387386472156<br>IMG res:450x375",
          "bad4: 0.23155278325239925<br>Experiment id:<br> ALG_005_EXP_001-PatchMatch-MacLean_et_al-Numba<br>Scene: teddy<br>kernel size: 7x7<br>kernel spec: None<br>match:60<br>bad4: 0.23155278325239925<br>IMG res:450x375",
          "bad4: 0.22018814637218848<br>Experiment id:<br> ALG_005_EXP_001-PatchMatch-MacLean_et_al-Numba<br>Scene: teddy<br>kernel size: 9x3<br>kernel spec: None<br>match:60<br>bad4: 0.22018814637218848<br>IMG res:450x375",
          "bad4: 0.22508482841294675<br>Experiment id:<br> ALG_005_EXP_001-PatchMatch-MacLean_et_al-Numba<br>Scene: teddy<br>kernel size: 11x3<br>kernel spec: None<br>match:60<br>bad4: 0.22508482841294675<br>IMG res:450x375",
          "bad4: 0.23464114702914304<br>Experiment id:<br> ALG_005_EXP_001-PatchMatch-MacLean_et_al-Numba<br>Scene: teddy<br>kernel size: 13x3<br>kernel spec: None<br>match:60<br>bad4: 0.23464114702914304<br>IMG res:450x375",
          "bad4: 0.2378785108126596<br>Experiment id:<br> ALG_005_EXP_001-PatchMatch-MacLean_et_al-Numba<br>Scene: teddy<br>kernel size: 15x3<br>kernel spec: None<br>match:60<br>bad4: 0.2378785108126596<br>IMG res:450x375"
         ],
         "type": "scatter",
         "uid": "6ab4b349-5232-4f27-a28a-0452c6d02862",
         "x": [
          "1x1",
          "1x3",
          "1x5",
          "1x7",
          "3x1",
          "3x3",
          "3x5",
          "3x7",
          "5x1",
          "5x3",
          "5x5",
          "5x7",
          "7x1",
          "7x3",
          "7x5",
          "7x7",
          "9x3",
          "11x3",
          "13x3",
          "15x3"
         ],
         "y": {
          "dtype": "float64",
          "shape": [
           20
          ]
         }
        },
        {
         "hovertemplate": "%{text}",
         "name": "70",
         "showlegend": true,
         "text": [
          "bad4: 0.3569904707722941<br>Experiment id:<br> ALG_005_EXP_001-PatchMatch-MacLean_et_al-Numba<br>Scene: teddy<br>kernel size: 1x1<br>kernel spec: None<br>match:70<br>bad4: 0.3569904707722941<br>IMG res:450x375",
          "bad4: 0.2288707831304901<br>Experiment id:<br> ALG_005_EXP_001-PatchMatch-MacLean_et_al-Numba<br>Scene: teddy<br>kernel size: 1x3<br>kernel spec: None<br>match:70<br>bad4: 0.2288707831304901<br>IMG res:450x375",
          "bad4: 0.23552837434219884<br>Experiment id:<br> ALG_005_EXP_001-PatchMatch-MacLean_et_al-Numba<br>Scene: teddy<br>kernel size: 1x5<br>kernel spec: None<br>match:70<br>bad4: 0.23552837434219884<br>IMG res:450x375",
          "bad4: 0.2408585109481141<br>Experiment id:<br> ALG_005_EXP_001-PatchMatch-MacLean_et_al-Numba<br>Scene: teddy<br>kernel size: 1x7<br>kernel spec: None<br>match:70<br>bad4: 0.2408585109481141<br>IMG res:450x375",
          "bad4: 0.34988587954026723<br>Experiment id:<br> ALG_005_EXP_001-PatchMatch-MacLean_et_al-Numba<br>Scene: teddy<br>kernel size: 3x1<br>kernel spec: None<br>match:70<br>bad4: 0.34988587954026723<br>IMG res:450x375",
          "bad4: 0.22305978286635375<br>Experiment id:<br> ALG_005_EXP_001-PatchMatch-MacLean_et_al-Numba<br>Scene: teddy<br>kernel size: 3x3<br>kernel spec: None<br>match:70<br>bad4: 0.22305978286635375<br>IMG res:450x375",
          "bad4: 0.2309771014080501<br>Experiment id:<br> ALG_005_EXP_001-PatchMatch-MacLean_et_al-Numba<br>Scene: teddy<br>kernel size: 3x5<br>kernel spec: None<br>match:70<br>bad4: 0.2309771014080501<br>IMG res:450x375",
          "bad4: 0.23855578357071744<br>Experiment id:<br> ALG_005_EXP_001-PatchMatch-MacLean_et_al-Numba<br>Scene: teddy<br>kernel size: 3x7<br>kernel spec: None<br>match:70<br>bad4: 0.23855578357071744<br>IMG res:450x375",
          "bad4: 0.3635193801599718<br>Experiment id:<br> ALG_005_EXP_001-PatchMatch-MacLean_et_al-Numba<br>Scene: teddy<br>kernel size: 5x1<br>kernel spec: None<br>match:70<br>bad4: 0.3635193801599718<br>IMG res:450x375",
          "bad4: 0.2336591015299592<br>Experiment id:<br> ALG_005_EXP_001-PatchMatch-MacLean_et_al-Numba<br>Scene: teddy<br>kernel size: 5x3<br>kernel spec: None<br>match:70<br>bad4: 0.2336591015299592<br>IMG res:450x375",
          "bad4: 0.23987646544893024<br>Experiment id:<br> ALG_005_EXP_001-PatchMatch-MacLean_et_al-Numba<br>Scene: teddy<br>kernel size: 5x5<br>kernel spec: None<br>match:70<br>bad4: 0.23987646544893024<br>IMG res:450x375",
          "bad4: 0.2461344657333848<br>Experiment id:<br> ALG_005_EXP_001-PatchMatch-MacLean_et_al-Numba<br>Scene: teddy<br>kernel size: 5x7<br>kernel spec: None<br>match:70<br>bad4: 0.2461344657333848<br>IMG res:450x375",
          "bad4: 0.3695945167997508<br>Experiment id:<br> ALG_005_EXP_001-PatchMatch-MacLean_et_al-Numba<br>Scene: teddy<br>kernel size: 7x1<br>kernel spec: None<br>match:70<br>bad4: 0.3695945167997508<br>IMG res:450x375",
          "bad4: 0.24119714732714306<br>Experiment id:<br> ALG_005_EXP_001-PatchMatch-MacLean_et_al-Numba<br>Scene: teddy<br>kernel size: 7x3<br>kernel spec: None<br>match:70<br>bad4: 0.24119714732714306<br>IMG res:450x375",
          "bad4: 0.2452743293306513<br>Experiment id:<br> ALG_005_EXP_001-PatchMatch-MacLean_et_al-Numba<br>Scene: teddy<br>kernel size: 7x5<br>kernel spec: None<br>match:70<br>bad4: 0.2452743293306513<br>IMG res:450x375",
          "bad4: 0.2508008750364034<br>Experiment id:<br> ALG_005_EXP_001-PatchMatch-MacLean_et_al-Numba<br>Scene: teddy<br>kernel size: 7x7<br>kernel spec: None<br>match:70<br>bad4: 0.2508008750364034<br>IMG res:450x375",
          "bad4: 0.24409587473163066<br>Experiment id:<br> ALG_005_EXP_001-PatchMatch-MacLean_et_al-Numba<br>Scene: teddy<br>kernel size: 9x3<br>kernel spec: None<br>match:70<br>bad4: 0.24409587473163066<br>IMG res:450x375",
          "bad4: 0.247400965790953<br>Experiment id:<br> ALG_005_EXP_001-PatchMatch-MacLean_et_al-Numba<br>Scene: teddy<br>kernel size: 11x3<br>kernel spec: None<br>match:70<br>bad4: 0.247400965790953<br>IMG res:450x375",
          "bad4: 0.25665928439360386<br>Experiment id:<br> ALG_005_EXP_001-PatchMatch-MacLean_et_al-Numba<br>Scene: teddy<br>kernel size: 13x3<br>kernel spec: None<br>match:70<br>bad4: 0.25665928439360386<br>IMG res:450x375",
          "bad4: 0.2589484663158394<br>Experiment id:<br> ALG_005_EXP_001-PatchMatch-MacLean_et_al-Numba<br>Scene: teddy<br>kernel size: 15x3<br>kernel spec: None<br>match:70<br>bad4: 0.2589484663158394<br>IMG res:450x375"
         ],
         "type": "scatter",
         "uid": "e375aa5f-dfe3-4299-b4ad-907576dffd23",
         "x": [
          "1x1",
          "1x3",
          "1x5",
          "1x7",
          "3x1",
          "3x3",
          "3x5",
          "3x7",
          "5x1",
          "5x3",
          "5x5",
          "5x7",
          "7x1",
          "7x3",
          "7x5",
          "7x7",
          "9x3",
          "11x3",
          "13x3",
          "15x3"
         ],
         "y": {
          "dtype": "float64",
          "shape": [
           20
          ]
         }
        },
        {
         "hovertemplate": "%{text}",
         "name": "80",
         "showlegend": true,
         "text": [
          "bad4: 0.3661404257336557<br>Experiment id:<br> ALG_005_EXP_001-PatchMatch-MacLean_et_al-Numba<br>Scene: teddy<br>kernel size: 1x1<br>kernel spec: None<br>match:80<br>bad4: 0.3661404257336557<br>IMG res:450x375",
          "bad4: 0.23975455635247986<br>Experiment id:<br> ALG_005_EXP_001-PatchMatch-MacLean_et_al-Numba<br>Scene: teddy<br>kernel size: 1x3<br>kernel spec: None<br>match:80<br>bad4: 0.23975455635247986<br>IMG res:450x375",
          "bad4: 0.24394687472485796<br>Experiment id:<br> ALG_005_EXP_001-PatchMatch-MacLean_et_al-Numba<br>Scene: teddy<br>kernel size: 1x5<br>kernel spec: None<br>match:80<br>bad4: 0.24394687472485796<br>IMG res:450x375",
          "bad4: 0.2493176476962567<br>Experiment id:<br> ALG_005_EXP_001-PatchMatch-MacLean_et_al-Numba<br>Scene: teddy<br>kernel size: 1x7<br>kernel spec: None<br>match:80<br>bad4: 0.2493176476962567<br>IMG res:450x375",
          "bad4: 0.3541933342815152<br>Experiment id:<br> ALG_005_EXP_001-PatchMatch-MacLean_et_al-Numba<br>Scene: teddy<br>kernel size: 3x1<br>kernel spec: None<br>match:80<br>bad4: 0.3541933342815152<br>IMG res:450x375",
          "bad4: 0.232521283296422<br>Experiment id:<br> ALG_005_EXP_001-PatchMatch-MacLean_et_al-Numba<br>Scene: teddy<br>kernel size: 3x3<br>kernel spec: None<br>match:80<br>bad4: 0.232521283296422<br>IMG res:450x375",
          "bad4: 0.2394226927010315<br>Experiment id:<br> ALG_005_EXP_001-PatchMatch-MacLean_et_al-Numba<br>Scene: teddy<br>kernel size: 3x5<br>kernel spec: None<br>match:80<br>bad4: 0.2394226927010315<br>IMG res:450x375",
          "bad4: 0.2445835111174323<br>Experiment id:<br> ALG_005_EXP_001-PatchMatch-MacLean_et_al-Numba<br>Scene: teddy<br>kernel size: 3x7<br>kernel spec: None<br>match:80<br>bad4: 0.2445835111174323<br>IMG res:450x375",
          "bad4: 0.3681248349147652<br>Experiment id:<br> ALG_005_EXP_001-PatchMatch-MacLean_et_al-Numba<br>Scene: teddy<br>kernel size: 5x1<br>kernel spec: None<br>match:80<br>bad4: 0.3681248349147652<br>IMG res:450x375",
          "bad4: 0.2426194201190645<br>Experiment id:<br> ALG_005_EXP_001-PatchMatch-MacLean_et_al-Numba<br>Scene: teddy<br>kernel size: 5x3<br>kernel spec: None<br>match:80<br>bad4: 0.2426194201190645<br>IMG res:450x375",
          "bad4: 0.2474890112495005<br>Experiment id:<br> ALG_005_EXP_001-PatchMatch-MacLean_et_al-Numba<br>Scene: teddy<br>kernel size: 5x5<br>kernel spec: None<br>match:80<br>bad4: 0.2474890112495005<br>IMG res:450x375",
          "bad4: 0.2535844660720212<br>Experiment id:<br> ALG_005_EXP_001-PatchMatch-MacLean_et_al-Numba<br>Scene: teddy<br>kernel size: 5x7<br>kernel spec: None<br>match:80<br>bad4: 0.2535844660720212<br>IMG res:450x375",
          "bad4: 0.3753581079708231<br>Experiment id:<br> ALG_005_EXP_001-PatchMatch-MacLean_et_al-Numba<br>Scene: teddy<br>kernel size: 7x1<br>kernel spec: None<br>match:80<br>bad4: 0.3753581079708231<br>IMG res:450x375",
          "bad4: 0.2496698295304468<br>Experiment id:<br> ALG_005_EXP_001-PatchMatch-MacLean_et_al-Numba<br>Scene: teddy<br>kernel size: 7x3<br>kernel spec: None<br>match:80<br>bad4: 0.2496698295304468<br>IMG res:450x375",
          "bad4: 0.25447169338507697<br>Experiment id:<br> ALG_005_EXP_001-PatchMatch-MacLean_et_al-Numba<br>Scene: teddy<br>kernel size: 7x5<br>kernel spec: None<br>match:80<br>bad4: 0.25447169338507697<br>IMG res:450x375",
          "bad4: 0.2599779209080873<br>Experiment id:<br> ALG_005_EXP_001-PatchMatch-MacLean_et_al-Numba<br>Scene: teddy<br>kernel size: 7x7<br>kernel spec: None<br>match:80<br>bad4: 0.2599779209080873<br>IMG res:450x375",
          "bad4: 0.2527378751244489<br>Experiment id:<br> ALG_005_EXP_001-PatchMatch-MacLean_et_al-Numba<br>Scene: teddy<br>kernel size: 9x3<br>kernel spec: None<br>match:80<br>bad4: 0.2527378751244489<br>IMG res:450x375",
          "bad4: 0.2554469661566803<br>Experiment id:<br> ALG_005_EXP_001-PatchMatch-MacLean_et_al-Numba<br>Scene: teddy<br>kernel size: 11x3<br>kernel spec: None<br>match:80<br>bad4: 0.2554469661566803<br>IMG res:450x375",
          "bad4: 0.2652267847830357<br>Experiment id:<br> ALG_005_EXP_001-PatchMatch-MacLean_et_al-Numba<br>Scene: teddy<br>kernel size: 13x3<br>kernel spec: None<br>match:80<br>bad4: 0.2652267847830357<br>IMG res:450x375",
          "bad4: 0.26889083040412864<br>Experiment id:<br> ALG_005_EXP_001-PatchMatch-MacLean_et_al-Numba<br>Scene: teddy<br>kernel size: 15x3<br>kernel spec: None<br>match:80<br>bad4: 0.26889083040412864<br>IMG res:450x375"
         ],
         "type": "scatter",
         "uid": "17809708-4df4-492e-b2c2-ef660e68a09e",
         "x": [
          "1x1",
          "1x3",
          "1x5",
          "1x7",
          "3x1",
          "3x3",
          "3x5",
          "3x7",
          "5x1",
          "5x3",
          "5x5",
          "5x7",
          "7x1",
          "7x3",
          "7x5",
          "7x7",
          "9x3",
          "11x3",
          "13x3",
          "15x3"
         ],
         "y": {
          "dtype": "float64",
          "shape": [
           20
          ]
         }
        },
        {
         "hovertemplate": "%{text}",
         "name": "90",
         "showlegend": true,
         "text": [
          "bad4: 0.3737800624445483<br>Experiment id:<br> ALG_005_EXP_001-PatchMatch-MacLean_et_al-Numba<br>Scene: teddy<br>kernel size: 1x1<br>kernel spec: None<br>match:90<br>bad4: 0.3737800624445483<br>IMG res:450x375",
          "bad4: 0.24987978408544476<br>Experiment id:<br> ALG_005_EXP_001-PatchMatch-MacLean_et_al-Numba<br>Scene: teddy<br>kernel size: 1x3<br>kernel spec: None<br>match:90<br>bad4: 0.24987978408544476<br>IMG res:450x375",
          "bad4: 0.2567744207624737<br>Experiment id:<br> ALG_005_EXP_001-PatchMatch-MacLean_et_al-Numba<br>Scene: teddy<br>kernel size: 1x5<br>kernel spec: None<br>match:90<br>bad4: 0.2567744207624737<br>IMG res:450x375",
          "bad4: 0.26106833004856045<br>Experiment id:<br> ALG_005_EXP_001-PatchMatch-MacLean_et_al-Numba<br>Scene: teddy<br>kernel size: 1x7<br>kernel spec: None<br>match:90<br>bad4: 0.26106833004856045<br>IMG res:450x375",
          "bad4: 0.35937447088065777<br>Experiment id:<br> ALG_005_EXP_001-PatchMatch-MacLean_et_al-Numba<br>Scene: teddy<br>kernel size: 3x1<br>kernel spec: None<br>match:90<br>bad4: 0.35937447088065777<br>IMG res:450x375",
          "bad4: 0.2403370109244096<br>Experiment id:<br> ALG_005_EXP_001-PatchMatch-MacLean_et_al-Numba<br>Scene: teddy<br>kernel size: 3x3<br>kernel spec: None<br>match:90<br>bad4: 0.2403370109244096<br>IMG res:450x375",
          "bad4: 0.2470487839567629<br>Experiment id:<br> ALG_005_EXP_001-PatchMatch-MacLean_et_al-Numba<br>Scene: teddy<br>kernel size: 3x5<br>kernel spec: None<br>match:90<br>bad4: 0.2470487839567629<br>IMG res:450x375",
          "bad4: 0.2537266933512133<br>Experiment id:<br> ALG_005_EXP_001-PatchMatch-MacLean_et_al-Numba<br>Scene: teddy<br>kernel size: 3x7<br>kernel spec: None<br>match:90<br>bad4: 0.2537266933512133<br>IMG res:450x375",
          "bad4: 0.3713757441534429<br>Experiment id:<br> ALG_005_EXP_001-PatchMatch-MacLean_et_al-Numba<br>Scene: teddy<br>kernel size: 5x1<br>kernel spec: None<br>match:90<br>bad4: 0.3713757441534429<br>IMG res:450x375",
          "bad4: 0.2479360112698187<br>Experiment id:<br> ALG_005_EXP_001-PatchMatch-MacLean_et_al-Numba<br>Scene: teddy<br>kernel size: 5x3<br>kernel spec: None<br>match:90<br>bad4: 0.2479360112698187<br>IMG res:450x375",
          "bad4: 0.256239375283608<br>Experiment id:<br> ALG_005_EXP_001-PatchMatch-MacLean_et_al-Numba<br>Scene: teddy<br>kernel size: 5x5<br>kernel spec: None<br>match:90<br>bad4: 0.256239375283608<br>IMG res:450x375",
          "bad4: 0.2617794664445212<br>Experiment id:<br> ALG_005_EXP_001-PatchMatch-MacLean_et_al-Numba<br>Scene: teddy<br>kernel size: 5x7<br>kernel spec: None<br>match:90<br>bad4: 0.2617794664445212<br>IMG res:450x375",
          "bad4: 0.3815551537070525<br>Experiment id:<br> ALG_005_EXP_001-PatchMatch-MacLean_et_al-Numba<br>Scene: teddy<br>kernel size: 7x1<br>kernel spec: None<br>match:90<br>bad4: 0.3815551537070525<br>IMG res:450x375",
          "bad4: 0.2566254207557009<br>Experiment id:<br> ALG_005_EXP_001-PatchMatch-MacLean_et_al-Numba<br>Scene: teddy<br>kernel size: 7x3<br>kernel spec: None<br>match:90<br>bad4: 0.2566254207557009<br>IMG res:450x375",
          "bad4: 0.2609057845866265<br>Experiment id:<br> ALG_005_EXP_001-PatchMatch-MacLean_et_al-Numba<br>Scene: teddy<br>kernel size: 7x5<br>kernel spec: None<br>match:90<br>bad4: 0.2609057845866265<br>IMG res:450x375",
          "bad4: 0.2673060121502733<br>Experiment id:<br> ALG_005_EXP_001-PatchMatch-MacLean_et_al-Numba<br>Scene: teddy<br>kernel size: 7x7<br>kernel spec: None<br>match:90<br>bad4: 0.2673060121502733<br>IMG res:450x375",
          "bad4: 0.2568692389486017<br>Experiment id:<br> ALG_005_EXP_001-PatchMatch-MacLean_et_al-Numba<br>Scene: teddy<br>kernel size: 9x3<br>kernel spec: None<br>match:90<br>bad4: 0.2568692389486017<br>IMG res:450x375",
          "bad4: 0.26486105749368444<br>Experiment id:<br> ALG_005_EXP_001-PatchMatch-MacLean_et_al-Numba<br>Scene: teddy<br>kernel size: 11x3<br>kernel spec: None<br>match:90<br>bad4: 0.26486105749368444<br>IMG res:450x375",
          "bad4: 0.2743361033789138<br>Experiment id:<br> ALG_005_EXP_001-PatchMatch-MacLean_et_al-Numba<br>Scene: teddy<br>kernel size: 13x3<br>kernel spec: None<br>match:90<br>bad4: 0.2743361033789138<br>IMG res:450x375",
          "bad4: 0.2761918307359923<br>Experiment id:<br> ALG_005_EXP_001-PatchMatch-MacLean_et_al-Numba<br>Scene: teddy<br>kernel size: 15x3<br>kernel spec: None<br>match:90<br>bad4: 0.2761918307359923<br>IMG res:450x375"
         ],
         "type": "scatter",
         "uid": "73988907-fb5c-4435-a5ae-1156fbcf77b7",
         "x": [
          "1x1",
          "1x3",
          "1x5",
          "1x7",
          "3x1",
          "3x3",
          "3x5",
          "3x7",
          "5x1",
          "5x3",
          "5x5",
          "5x7",
          "7x1",
          "7x3",
          "7x5",
          "7x7",
          "9x3",
          "11x3",
          "13x3",
          "15x3"
         ],
         "y": {
          "dtype": "float64",
          "shape": [
           20
          ]
         }
        },
        {
         "hovertemplate": "%{text}",
         "name": "100",
         "showlegend": true,
         "text": [
          "bad4: 0.3866143812097446<br>Experiment id:<br> ALG_005_EXP_001-PatchMatch-MacLean_et_al-Numba<br>Scene: teddy<br>kernel size: 1x1<br>kernel spec: None<br>match:100<br>bad4: 0.3866143812097446<br>IMG res:450x375",
          "bad4: 0.2665406939336679<br>Experiment id:<br> ALG_005_EXP_001-PatchMatch-MacLean_et_al-Numba<br>Scene: teddy<br>kernel size: 1x3<br>kernel spec: None<br>match:100<br>bad4: 0.2665406939336679<br>IMG res:450x375",
          "bad4: 0.2730289669558621<br>Experiment id:<br> ALG_005_EXP_001-PatchMatch-MacLean_et_al-Numba<br>Scene: teddy<br>kernel size: 1x5<br>kernel spec: None<br>match:100<br>bad4: 0.2730289669558621<br>IMG res:450x375",
          "bad4: 0.2791176490508022<br>Experiment id:<br> ALG_005_EXP_001-PatchMatch-MacLean_et_al-Numba<br>Scene: teddy<br>kernel size: 1x7<br>kernel spec: None<br>match:100<br>bad4: 0.2791176490508022<br>IMG res:450x375",
          "bad4: 0.3652599711481805<br>Experiment id:<br> ALG_005_EXP_001-PatchMatch-MacLean_et_al-Numba<br>Scene: teddy<br>kernel size: 3x1<br>kernel spec: None<br>match:100<br>bad4: 0.3652599711481805<br>IMG res:450x375",
          "bad4: 0.25429560246798194<br>Experiment id:<br> ALG_005_EXP_001-PatchMatch-MacLean_et_al-Numba<br>Scene: teddy<br>kernel size: 3x3<br>kernel spec: None<br>match:100<br>bad4: 0.25429560246798194<br>IMG res:450x375",
          "bad4: 0.259646057256639<br>Experiment id:<br> ALG_005_EXP_001-PatchMatch-MacLean_et_al-Numba<br>Scene: teddy<br>kernel size: 3x5<br>kernel spec: None<br>match:100<br>bad4: 0.259646057256639<br>IMG res:450x375",
          "bad4: 0.2675633757983353<br>Experiment id:<br> ALG_005_EXP_001-PatchMatch-MacLean_et_al-Numba<br>Scene: teddy<br>kernel size: 3x7<br>kernel spec: None<br>match:100<br>bad4: 0.2675633757983353<br>IMG res:450x375",
          "bad4: 0.3798822899946496<br>Experiment id:<br> ALG_005_EXP_001-PatchMatch-MacLean_et_al-Numba<br>Scene: teddy<br>kernel size: 5x1<br>kernel spec: None<br>match:100<br>bad4: 0.3798822899946496<br>IMG res:450x375",
          "bad4: 0.2603707391077609<br>Experiment id:<br> ALG_005_EXP_001-PatchMatch-MacLean_et_al-Numba<br>Scene: teddy<br>kernel size: 5x3<br>kernel spec: None<br>match:100<br>bad4: 0.2603707391077609<br>IMG res:450x375",
          "bad4: 0.26686578485753565<br>Experiment id:<br> ALG_005_EXP_001-PatchMatch-MacLean_et_al-Numba<br>Scene: teddy<br>kernel size: 5x5<br>kernel spec: None<br>match:100<br>bad4: 0.26686578485753565<br>IMG res:450x375",
          "bad4: 0.2714441487020068<br>Experiment id:<br> ALG_005_EXP_001-PatchMatch-MacLean_et_al-Numba<br>Scene: teddy<br>kernel size: 5x7<br>kernel spec: None<br>match:100<br>bad4: 0.2714441487020068<br>IMG res:450x375",
          "bad4: 0.388375290380695<br>Experiment id:<br> ALG_005_EXP_001-PatchMatch-MacLean_et_al-Numba<br>Scene: teddy<br>kernel size: 7x1<br>kernel spec: None<br>match:100<br>bad4: 0.388375290380695<br>IMG res:450x375",
          "bad4: 0.2650168302280377<br>Experiment id:<br> ALG_005_EXP_001-PatchMatch-MacLean_et_al-Numba<br>Scene: teddy<br>kernel size: 7x3<br>kernel spec: None<br>match:100<br>bad4: 0.2650168302280377<br>IMG res:450x375",
          "bad4: 0.26964937589315346<br>Experiment id:<br> ALG_005_EXP_001-PatchMatch-MacLean_et_al-Numba<br>Scene: teddy<br>kernel size: 7x5<br>kernel spec: None<br>match:100<br>bad4: 0.26964937589315346<br>IMG res:450x375",
          "bad4: 0.276293421649701<br>Experiment id:<br> ALG_005_EXP_001-PatchMatch-MacLean_et_al-Numba<br>Scene: teddy<br>kernel size: 7x7<br>kernel spec: None<br>match:100<br>bad4: 0.276293421649701<br>IMG res:450x375",
          "bad4: 0.26800360309107285<br>Experiment id:<br> ALG_005_EXP_001-PatchMatch-MacLean_et_al-Numba<br>Scene: teddy<br>kernel size: 9x3<br>kernel spec: None<br>match:100<br>bad4: 0.26800360309107285<br>IMG res:450x375",
          "bad4: 0.2717218305328105<br>Experiment id:<br> ALG_005_EXP_001-PatchMatch-MacLean_et_al-Numba<br>Scene: teddy<br>kernel size: 11x3<br>kernel spec: None<br>match:100<br>bad4: 0.2717218305328105<br>IMG res:450x375",
          "bad4: 0.2808176036735274<br>Experiment id:<br> ALG_005_EXP_001-PatchMatch-MacLean_et_al-Numba<br>Scene: teddy<br>kernel size: 13x3<br>kernel spec: None<br>match:100<br>bad4: 0.2808176036735274<br>IMG res:450x375",
          "bad4: 0.2845561492980068<br>Experiment id:<br> ALG_005_EXP_001-PatchMatch-MacLean_et_al-Numba<br>Scene: teddy<br>kernel size: 15x3<br>kernel spec: None<br>match:100<br>bad4: 0.2845561492980068<br>IMG res:450x375"
         ],
         "type": "scatter",
         "uid": "db17e788-3ba3-4c46-ae36-59cedcda32a6",
         "x": [
          "1x1",
          "1x3",
          "1x5",
          "1x7",
          "3x1",
          "3x3",
          "3x5",
          "3x7",
          "5x1",
          "5x3",
          "5x5",
          "5x7",
          "7x1",
          "7x3",
          "7x5",
          "7x7",
          "9x3",
          "11x3",
          "13x3",
          "15x3"
         ],
         "y": {
          "dtype": "float64",
          "shape": [
           20
          ]
         }
        },
        {
         "hovertemplate": "%{text}",
         "name": "110",
         "showlegend": true,
         "text": [
          "bad4: 0.39784356353834377<br>Experiment id:<br> ALG_005_EXP_001-PatchMatch-MacLean_et_al-Numba<br>Scene: teddy<br>kernel size: 1x1<br>kernel spec: None<br>match:110<br>bad4: 0.39784356353834377<br>IMG res:450x375",
          "bad4: 0.28400078563639936<br>Experiment id:<br> ALG_005_EXP_001-PatchMatch-MacLean_et_al-Numba<br>Scene: teddy<br>kernel size: 1x3<br>kernel spec: None<br>match:110<br>bad4: 0.28400078563639936<br>IMG res:450x375",
          "bad4: 0.28973728589714937<br>Experiment id:<br> ALG_005_EXP_001-PatchMatch-MacLean_et_al-Numba<br>Scene: teddy<br>kernel size: 1x5<br>kernel spec: None<br>match:110<br>bad4: 0.28973728589714937<br>IMG res:450x375",
          "bad4: 0.2952367406925791<br>Experiment id:<br> ALG_005_EXP_001-PatchMatch-MacLean_et_al-Numba<br>Scene: teddy<br>kernel size: 1x7<br>kernel spec: None<br>match:110<br>bad4: 0.2952367406925791<br>IMG res:450x375",
          "bad4: 0.38306547195752144<br>Experiment id:<br> ALG_005_EXP_001-PatchMatch-MacLean_et_al-Numba<br>Scene: teddy<br>kernel size: 3x1<br>kernel spec: None<br>match:110<br>bad4: 0.38306547195752144<br>IMG res:450x375",
          "bad4: 0.2697035577137981<br>Experiment id:<br> ALG_005_EXP_001-PatchMatch-MacLean_et_al-Numba<br>Scene: teddy<br>kernel size: 3x3<br>kernel spec: None<br>match:110<br>bad4: 0.2697035577137981<br>IMG res:450x375",
          "bad4: 0.2787248308511287<br>Experiment id:<br> ALG_005_EXP_001-PatchMatch-MacLean_et_al-Numba<br>Scene: teddy<br>kernel size: 3x5<br>kernel spec: None<br>match:110<br>bad4: 0.2787248308511287<br>IMG res:450x375",
          "bad4: 0.2872178312371741<br>Experiment id:<br> ALG_005_EXP_001-PatchMatch-MacLean_et_al-Numba<br>Scene: teddy<br>kernel size: 3x7<br>kernel spec: None<br>match:110<br>bad4: 0.2872178312371741<br>IMG res:450x375",
          "bad4: 0.3890661085939141<br>Experiment id:<br> ALG_005_EXP_001-PatchMatch-MacLean_et_al-Numba<br>Scene: teddy<br>kernel size: 5x1<br>kernel spec: None<br>match:110<br>bad4: 0.3890661085939141<br>IMG res:450x375",
          "bad4: 0.2754265125193869<br>Experiment id:<br> ALG_005_EXP_001-PatchMatch-MacLean_et_al-Numba<br>Scene: teddy<br>kernel size: 5x3<br>kernel spec: None<br>match:110<br>bad4: 0.2754265125193869<br>IMG res:450x375",
          "bad4: 0.2791921490541886<br>Experiment id:<br> ALG_005_EXP_001-PatchMatch-MacLean_et_al-Numba<br>Scene: teddy<br>kernel size: 5x5<br>kernel spec: None<br>match:110<br>bad4: 0.2791921490541886<br>IMG res:450x375",
          "bad4: 0.2866760130307279<br>Experiment id:<br> ALG_005_EXP_001-PatchMatch-MacLean_et_al-Numba<br>Scene: teddy<br>kernel size: 5x7<br>kernel spec: None<br>match:110<br>bad4: 0.2866760130307279<br>IMG res:450x375",
          "bad4: 0.39971283635058347<br>Experiment id:<br> ALG_005_EXP_001-PatchMatch-MacLean_et_al-Numba<br>Scene: teddy<br>kernel size: 7x1<br>kernel spec: None<br>match:110<br>bad4: 0.39971283635058347<br>IMG res:450x375",
          "bad4: 0.2795104672504758<br>Experiment id:<br> ALG_005_EXP_001-PatchMatch-MacLean_et_al-Numba<br>Scene: teddy<br>kernel size: 7x3<br>kernel spec: None<br>match:110<br>bad4: 0.2795104672504758<br>IMG res:450x375",
          "bad4: 0.2835470128885006<br>Experiment id:<br> ALG_005_EXP_001-PatchMatch-MacLean_et_al-Numba<br>Scene: teddy<br>kernel size: 7x5<br>kernel spec: None<br>match:110<br>bad4: 0.2835470128885006<br>IMG res:450x375",
          "bad4: 0.29078705867213905<br>Experiment id:<br> ALG_005_EXP_001-PatchMatch-MacLean_et_al-Numba<br>Scene: teddy<br>kernel size: 7x7<br>kernel spec: None<br>match:110<br>bad4: 0.29078705867213905<br>IMG res:450x375",
          "bad4: 0.2786096944822589<br>Experiment id:<br> ALG_005_EXP_001-PatchMatch-MacLean_et_al-Numba<br>Scene: teddy<br>kernel size: 9x3<br>kernel spec: None<br>match:110<br>bad4: 0.2786096944822589<br>IMG res:450x375",
          "bad4: 0.2855856038902547<br>Experiment id:<br> ALG_005_EXP_001-PatchMatch-MacLean_et_al-Numba<br>Scene: teddy<br>kernel size: 11x3<br>kernel spec: None<br>match:110<br>bad4: 0.2855856038902547<br>IMG res:450x375",
          "bad4: 0.2953247861511266<br>Experiment id:<br> ALG_005_EXP_001-PatchMatch-MacLean_et_al-Numba<br>Scene: teddy<br>kernel size: 13x3<br>kernel spec: None<br>match:110<br>bad4: 0.2953247861511266<br>IMG res:450x375",
          "bad4: 0.2960020589091845<br>Experiment id:<br> ALG_005_EXP_001-PatchMatch-MacLean_et_al-Numba<br>Scene: teddy<br>kernel size: 15x3<br>kernel spec: None<br>match:110<br>bad4: 0.2960020589091845<br>IMG res:450x375"
         ],
         "type": "scatter",
         "uid": "73d5de4e-d54a-4384-ae06-42931ed74201",
         "x": [
          "1x1",
          "1x3",
          "1x5",
          "1x7",
          "3x1",
          "3x3",
          "3x5",
          "3x7",
          "5x1",
          "5x3",
          "5x5",
          "5x7",
          "7x1",
          "7x3",
          "7x5",
          "7x7",
          "9x3",
          "11x3",
          "13x3",
          "15x3"
         ],
         "y": {
          "dtype": "float64",
          "shape": [
           20
          ]
         }
        }
       ],
       "_js2py_pointsCallback": {},
       "_js2py_restyle": {},
       "_js2py_update": {},
       "_last_layout_edit_id": 1,
       "_layout": {
        "autosize": true,
        "legend": {
         "title": {
          "text": "match"
         }
        },
        "template": {
         "data": {
          "bar": [
           {
            "error_x": {
             "color": "#2a3f5f"
            },
            "error_y": {
             "color": "#2a3f5f"
            },
            "marker": {
             "line": {
              "color": "#E5ECF6",
              "width": 0.5
             }
            },
            "type": "bar"
           }
          ],
          "barpolar": [
           {
            "marker": {
             "line": {
              "color": "#E5ECF6",
              "width": 0.5
             }
            },
            "type": "barpolar"
           }
          ],
          "carpet": [
           {
            "aaxis": {
             "endlinecolor": "#2a3f5f",
             "gridcolor": "white",
             "linecolor": "white",
             "minorgridcolor": "white",
             "startlinecolor": "#2a3f5f"
            },
            "baxis": {
             "endlinecolor": "#2a3f5f",
             "gridcolor": "white",
             "linecolor": "white",
             "minorgridcolor": "white",
             "startlinecolor": "#2a3f5f"
            },
            "type": "carpet"
           }
          ],
          "choropleth": [
           {
            "colorbar": {
             "outlinewidth": 0,
             "ticks": ""
            },
            "type": "choropleth"
           }
          ],
          "contour": [
           {
            "colorbar": {
             "outlinewidth": 0,
             "ticks": ""
            },
            "colorscale": [
             [
              0,
              "#0d0887"
             ],
             [
              0.1111111111111111,
              "#46039f"
             ],
             [
              0.2222222222222222,
              "#7201a8"
             ],
             [
              0.3333333333333333,
              "#9c179e"
             ],
             [
              0.4444444444444444,
              "#bd3786"
             ],
             [
              0.5555555555555556,
              "#d8576b"
             ],
             [
              0.6666666666666666,
              "#ed7953"
             ],
             [
              0.7777777777777778,
              "#fb9f3a"
             ],
             [
              0.8888888888888888,
              "#fdca26"
             ],
             [
              1,
              "#f0f921"
             ]
            ],
            "type": "contour"
           }
          ],
          "contourcarpet": [
           {
            "colorbar": {
             "outlinewidth": 0,
             "ticks": ""
            },
            "type": "contourcarpet"
           }
          ],
          "heatmap": [
           {
            "colorbar": {
             "outlinewidth": 0,
             "ticks": ""
            },
            "colorscale": [
             [
              0,
              "#0d0887"
             ],
             [
              0.1111111111111111,
              "#46039f"
             ],
             [
              0.2222222222222222,
              "#7201a8"
             ],
             [
              0.3333333333333333,
              "#9c179e"
             ],
             [
              0.4444444444444444,
              "#bd3786"
             ],
             [
              0.5555555555555556,
              "#d8576b"
             ],
             [
              0.6666666666666666,
              "#ed7953"
             ],
             [
              0.7777777777777778,
              "#fb9f3a"
             ],
             [
              0.8888888888888888,
              "#fdca26"
             ],
             [
              1,
              "#f0f921"
             ]
            ],
            "type": "heatmap"
           }
          ],
          "heatmapgl": [
           {
            "colorbar": {
             "outlinewidth": 0,
             "ticks": ""
            },
            "colorscale": [
             [
              0,
              "#0d0887"
             ],
             [
              0.1111111111111111,
              "#46039f"
             ],
             [
              0.2222222222222222,
              "#7201a8"
             ],
             [
              0.3333333333333333,
              "#9c179e"
             ],
             [
              0.4444444444444444,
              "#bd3786"
             ],
             [
              0.5555555555555556,
              "#d8576b"
             ],
             [
              0.6666666666666666,
              "#ed7953"
             ],
             [
              0.7777777777777778,
              "#fb9f3a"
             ],
             [
              0.8888888888888888,
              "#fdca26"
             ],
             [
              1,
              "#f0f921"
             ]
            ],
            "type": "heatmapgl"
           }
          ],
          "histogram": [
           {
            "marker": {
             "colorbar": {
              "outlinewidth": 0,
              "ticks": ""
             }
            },
            "type": "histogram"
           }
          ],
          "histogram2d": [
           {
            "colorbar": {
             "outlinewidth": 0,
             "ticks": ""
            },
            "colorscale": [
             [
              0,
              "#0d0887"
             ],
             [
              0.1111111111111111,
              "#46039f"
             ],
             [
              0.2222222222222222,
              "#7201a8"
             ],
             [
              0.3333333333333333,
              "#9c179e"
             ],
             [
              0.4444444444444444,
              "#bd3786"
             ],
             [
              0.5555555555555556,
              "#d8576b"
             ],
             [
              0.6666666666666666,
              "#ed7953"
             ],
             [
              0.7777777777777778,
              "#fb9f3a"
             ],
             [
              0.8888888888888888,
              "#fdca26"
             ],
             [
              1,
              "#f0f921"
             ]
            ],
            "type": "histogram2d"
           }
          ],
          "histogram2dcontour": [
           {
            "colorbar": {
             "outlinewidth": 0,
             "ticks": ""
            },
            "colorscale": [
             [
              0,
              "#0d0887"
             ],
             [
              0.1111111111111111,
              "#46039f"
             ],
             [
              0.2222222222222222,
              "#7201a8"
             ],
             [
              0.3333333333333333,
              "#9c179e"
             ],
             [
              0.4444444444444444,
              "#bd3786"
             ],
             [
              0.5555555555555556,
              "#d8576b"
             ],
             [
              0.6666666666666666,
              "#ed7953"
             ],
             [
              0.7777777777777778,
              "#fb9f3a"
             ],
             [
              0.8888888888888888,
              "#fdca26"
             ],
             [
              1,
              "#f0f921"
             ]
            ],
            "type": "histogram2dcontour"
           }
          ],
          "mesh3d": [
           {
            "colorbar": {
             "outlinewidth": 0,
             "ticks": ""
            },
            "type": "mesh3d"
           }
          ],
          "parcoords": [
           {
            "line": {
             "colorbar": {
              "outlinewidth": 0,
              "ticks": ""
             }
            },
            "type": "parcoords"
           }
          ],
          "pie": [
           {
            "automargin": true,
            "type": "pie"
           }
          ],
          "scatter": [
           {
            "marker": {
             "colorbar": {
              "outlinewidth": 0,
              "ticks": ""
             }
            },
            "type": "scatter"
           }
          ],
          "scatter3d": [
           {
            "line": {
             "colorbar": {
              "outlinewidth": 0,
              "ticks": ""
             }
            },
            "marker": {
             "colorbar": {
              "outlinewidth": 0,
              "ticks": ""
             }
            },
            "type": "scatter3d"
           }
          ],
          "scattercarpet": [
           {
            "marker": {
             "colorbar": {
              "outlinewidth": 0,
              "ticks": ""
             }
            },
            "type": "scattercarpet"
           }
          ],
          "scattergeo": [
           {
            "marker": {
             "colorbar": {
              "outlinewidth": 0,
              "ticks": ""
             }
            },
            "type": "scattergeo"
           }
          ],
          "scattergl": [
           {
            "marker": {
             "colorbar": {
              "outlinewidth": 0,
              "ticks": ""
             }
            },
            "type": "scattergl"
           }
          ],
          "scattermapbox": [
           {
            "marker": {
             "colorbar": {
              "outlinewidth": 0,
              "ticks": ""
             }
            },
            "type": "scattermapbox"
           }
          ],
          "scatterpolar": [
           {
            "marker": {
             "colorbar": {
              "outlinewidth": 0,
              "ticks": ""
             }
            },
            "type": "scatterpolar"
           }
          ],
          "scatterpolargl": [
           {
            "marker": {
             "colorbar": {
              "outlinewidth": 0,
              "ticks": ""
             }
            },
            "type": "scatterpolargl"
           }
          ],
          "scatterternary": [
           {
            "marker": {
             "colorbar": {
              "outlinewidth": 0,
              "ticks": ""
             }
            },
            "type": "scatterternary"
           }
          ],
          "surface": [
           {
            "colorbar": {
             "outlinewidth": 0,
             "ticks": ""
            },
            "colorscale": [
             [
              0,
              "#0d0887"
             ],
             [
              0.1111111111111111,
              "#46039f"
             ],
             [
              0.2222222222222222,
              "#7201a8"
             ],
             [
              0.3333333333333333,
              "#9c179e"
             ],
             [
              0.4444444444444444,
              "#bd3786"
             ],
             [
              0.5555555555555556,
              "#d8576b"
             ],
             [
              0.6666666666666666,
              "#ed7953"
             ],
             [
              0.7777777777777778,
              "#fb9f3a"
             ],
             [
              0.8888888888888888,
              "#fdca26"
             ],
             [
              1,
              "#f0f921"
             ]
            ],
            "type": "surface"
           }
          ],
          "table": [
           {
            "cells": {
             "fill": {
              "color": "#EBF0F8"
             },
             "line": {
              "color": "white"
             }
            },
            "header": {
             "fill": {
              "color": "#C8D4E3"
             },
             "line": {
              "color": "white"
             }
            },
            "type": "table"
           }
          ]
         },
         "layout": {
          "annotationdefaults": {
           "arrowcolor": "#2a3f5f",
           "arrowhead": 0,
           "arrowwidth": 1
          },
          "coloraxis": {
           "colorbar": {
            "outlinewidth": 0,
            "ticks": ""
           }
          },
          "colorscale": {
           "diverging": [
            [
             0,
             "#8e0152"
            ],
            [
             0.1,
             "#c51b7d"
            ],
            [
             0.2,
             "#de77ae"
            ],
            [
             0.3,
             "#f1b6da"
            ],
            [
             0.4,
             "#fde0ef"
            ],
            [
             0.5,
             "#f7f7f7"
            ],
            [
             0.6,
             "#e6f5d0"
            ],
            [
             0.7,
             "#b8e186"
            ],
            [
             0.8,
             "#7fbc41"
            ],
            [
             0.9,
             "#4d9221"
            ],
            [
             1,
             "#276419"
            ]
           ],
           "sequential": [
            [
             0,
             "#0d0887"
            ],
            [
             0.1111111111111111,
             "#46039f"
            ],
            [
             0.2222222222222222,
             "#7201a8"
            ],
            [
             0.3333333333333333,
             "#9c179e"
            ],
            [
             0.4444444444444444,
             "#bd3786"
            ],
            [
             0.5555555555555556,
             "#d8576b"
            ],
            [
             0.6666666666666666,
             "#ed7953"
            ],
            [
             0.7777777777777778,
             "#fb9f3a"
            ],
            [
             0.8888888888888888,
             "#fdca26"
            ],
            [
             1,
             "#f0f921"
            ]
           ],
           "sequentialminus": [
            [
             0,
             "#0d0887"
            ],
            [
             0.1111111111111111,
             "#46039f"
            ],
            [
             0.2222222222222222,
             "#7201a8"
            ],
            [
             0.3333333333333333,
             "#9c179e"
            ],
            [
             0.4444444444444444,
             "#bd3786"
            ],
            [
             0.5555555555555556,
             "#d8576b"
            ],
            [
             0.6666666666666666,
             "#ed7953"
            ],
            [
             0.7777777777777778,
             "#fb9f3a"
            ],
            [
             0.8888888888888888,
             "#fdca26"
            ],
            [
             1,
             "#f0f921"
            ]
           ]
          },
          "colorway": [
           "#636efa",
           "#EF553B",
           "#00cc96",
           "#ab63fa",
           "#FFA15A",
           "#19d3f3",
           "#FF6692",
           "#B6E880",
           "#FF97FF",
           "#FECB52"
          ],
          "font": {
           "color": "#2a3f5f"
          },
          "geo": {
           "bgcolor": "white",
           "lakecolor": "white",
           "landcolor": "#E5ECF6",
           "showlakes": true,
           "showland": true,
           "subunitcolor": "white"
          },
          "hoverlabel": {
           "align": "left"
          },
          "hovermode": "closest",
          "mapbox": {
           "style": "light"
          },
          "paper_bgcolor": "white",
          "plot_bgcolor": "#E5ECF6",
          "polar": {
           "angularaxis": {
            "gridcolor": "white",
            "linecolor": "white",
            "ticks": ""
           },
           "bgcolor": "#E5ECF6",
           "radialaxis": {
            "gridcolor": "white",
            "linecolor": "white",
            "ticks": ""
           }
          },
          "scene": {
           "xaxis": {
            "backgroundcolor": "#E5ECF6",
            "gridcolor": "white",
            "gridwidth": 2,
            "linecolor": "white",
            "showbackground": true,
            "ticks": "",
            "zerolinecolor": "white"
           },
           "yaxis": {
            "backgroundcolor": "#E5ECF6",
            "gridcolor": "white",
            "gridwidth": 2,
            "linecolor": "white",
            "showbackground": true,
            "ticks": "",
            "zerolinecolor": "white"
           },
           "zaxis": {
            "backgroundcolor": "#E5ECF6",
            "gridcolor": "white",
            "gridwidth": 2,
            "linecolor": "white",
            "showbackground": true,
            "ticks": "",
            "zerolinecolor": "white"
           }
          },
          "shapedefaults": {
           "line": {
            "color": "#2a3f5f"
           }
          },
          "ternary": {
           "aaxis": {
            "gridcolor": "white",
            "linecolor": "white",
            "ticks": ""
           },
           "baxis": {
            "gridcolor": "white",
            "linecolor": "white",
            "ticks": ""
           },
           "bgcolor": "#E5ECF6",
           "caxis": {
            "gridcolor": "white",
            "linecolor": "white",
            "ticks": ""
           }
          },
          "title": {
           "x": 0.05
          },
          "xaxis": {
           "automargin": true,
           "gridcolor": "white",
           "linecolor": "white",
           "ticks": "",
           "title": {
            "standoff": 15
           },
           "zerolinecolor": "white",
           "zerolinewidth": 2
          },
          "yaxis": {
           "automargin": true,
           "gridcolor": "white",
           "linecolor": "white",
           "ticks": "",
           "title": {
            "standoff": 15
           },
           "zerolinecolor": "white",
           "zerolinewidth": 2
          }
         }
        },
        "xaxis": {
         "showspikes": true
        },
        "yaxis": {
         "showspikes": true
        }
       },
       "_model_module_version": "4.6.0",
       "_py2js_addTraces": {},
       "_py2js_animate": {},
       "_py2js_deleteTraces": {},
       "_py2js_moveTraces": {},
       "_py2js_removeLayoutProps": {},
       "_py2js_removeTraceProps": {},
       "_py2js_restyle": {},
       "_py2js_update": {},
       "_view_count": 1,
       "_view_module_version": "4.6.0"
      }
     },
     "37943616ccff427ab016cee252fce517": {
      "model_module": "@jupyter-widgets/base",
      "model_module_version": "1.2.0",
      "model_name": "LayoutModel",
      "state": {}
     },
     "3d172835e4f042b18656752f0d31ee94": {
      "model_module": "@jupyter-widgets/base",
      "model_module_version": "1.2.0",
      "model_name": "LayoutModel",
      "state": {}
     },
     "40f95c67915345fc9d26eb262e54d73f": {
      "model_module": "@jupyter-widgets/base",
      "model_module_version": "1.2.0",
      "model_name": "LayoutModel",
      "state": {}
     },
     "47ba2bc2f5d84dc8a76ddecbb0464f84": {
      "model_module": "@jupyter-widgets/controls",
      "model_module_version": "1.5.0",
      "model_name": "VBoxModel",
      "state": {
       "children": [
        "IPY_MODEL_0d20c32988f24e61bf9ade851885c3d1",
        "IPY_MODEL_35e92aed30694f50afe2fd8b75f1fd9f",
        "IPY_MODEL_d469f6c19fbb4e83a8cb8af35c025a06"
       ],
       "layout": "IPY_MODEL_efbfdadea40148b78d9779b973b21f93"
      }
     },
     "51f4cd885e2a4a49bd3a4f5b3ef48f74": {
      "model_module": "@jupyter-widgets/base",
      "model_module_version": "1.2.0",
      "model_name": "LayoutModel",
      "state": {}
     },
     "58e4f79029c44a69940ffdc3f95b110d": {
      "buffers": [
       {
        "data": "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",
        "encoding": "base64",
        "path": [
         "value"
        ]
       }
      ],
      "model_module": "@jupyter-widgets/controls",
      "model_module_version": "1.5.0",
      "model_name": "ImageModel",
      "state": {
       "layout": "IPY_MODEL_5addf58834b640b7b04d7bcf87bfd52d"
      }
     },
     "5addf58834b640b7b04d7bcf87bfd52d": {
      "model_module": "@jupyter-widgets/base",
      "model_module_version": "1.2.0",
      "model_name": "LayoutModel",
      "state": {
       "height": "375px",
       "width": "450px"
      }
     },
     "641aec880a244b9d9ffe6c95a0b412f3": {
      "model_module": "@jupyter-widgets/controls",
      "model_module_version": "1.5.0",
      "model_name": "DescriptionStyleModel",
      "state": {
       "description_width": ""
      }
     },
     "65b39d7ccaaa451dac93ade7e54143f0": {
      "model_module": "@jupyter-widgets/controls",
      "model_module_version": "1.5.0",
      "model_name": "VBoxModel",
      "state": {
       "children": [
        "IPY_MODEL_b913c4bc89344d139b5fe5fee805990e",
        "IPY_MODEL_16681b9793a2468081c47f2e931fcf68",
        "IPY_MODEL_b7716982e96b4c1caf4eba95271a47e0"
       ],
       "layout": "IPY_MODEL_40f95c67915345fc9d26eb262e54d73f"
      }
     },
     "672c199f087243a38e9f58a50db7d09e": {
      "buffers": [
       {
        "data": "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",
        "encoding": "base64",
        "path": [
         "value"
        ]
       }
      ],
      "model_module": "@jupyter-widgets/controls",
      "model_module_version": "1.5.0",
      "model_name": "ImageModel",
      "state": {
       "layout": "IPY_MODEL_063c9aae7a9c4f81b0da8f445b93e172"
      }
     },
     "6847417244474e15a8cc697c127f604a": {
      "model_module": "@jupyter-widgets/base",
      "model_module_version": "1.2.0",
      "model_name": "LayoutModel",
      "state": {}
     },
     "6dbcf6bfc099447e8301bd513af89abf": {
      "model_module": "@jupyter-widgets/base",
      "model_module_version": "1.2.0",
      "model_name": "LayoutModel",
      "state": {}
     },
     "7cc2392f8da14380b9810e644ce76f73": {
      "buffers": [
       {
        "data": "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",
        "encoding": "base64",
        "path": [
         "value"
        ]
       }
      ],
      "model_module": "@jupyter-widgets/controls",
      "model_module_version": "1.5.0",
      "model_name": "ImageModel",
      "state": {
       "layout": "IPY_MODEL_a25d148af7e943de8d64d54b3e89b414"
      }
     },
     "7d646aac57094ba6a84ca0e89a012478": {
      "model_module": "@jupyter-widgets/controls",
      "model_module_version": "1.5.0",
      "model_name": "DropdownModel",
      "state": {
       "_options_labels": [
        "abs_error",
        "mse",
        "avg",
        "eucledian",
        "bad1",
        "bad2",
        "bad4",
        "bad8"
       ],
       "description": "Metrics:",
       "index": 6,
       "layout": "IPY_MODEL_6dbcf6bfc099447e8301bd513af89abf",
       "style": "IPY_MODEL_cf02114b53c44830bc3443917d6db6f3"
      }
     },
     "8a8a1fd2224c415180b51eb6a962711d": {
      "buffers": [
       {
        "data": "nsiCbBvZ7j+eyIJsG9nuP9Xs9lRcp+4/1ez2VFyn7j+1CpouvOfuP7UKmi685+4/swQItjoY7z+zBAi2OhjvPzJaHHpe5u4/Mlocel7m7j+yrOeBwczuP7Ks54HBzO4/SzdrH4Dw7j9LN2sfgPDuP9+PTKoAH+8/349MqgAf7z9uN6z/0wLvP243rP/TAu8/cUCHNBa67j9xQIc0FrruP6mu73DHAO8/qa7vcMcA7z/RPoUQVCPvP9E+hRBUI+8/IJ76SrEW7z8gnvpKsRbvP3VoyhoP3u4/dWjKGg/e7j+4A4S+N/7uP7gDhL43/u4/4Vnd4/4n7z/hWd3j/ifvP72WITox9u4/vZYhOjH27j+ZLs+AnffuP5kuz4Cd9+4/CMjBFRT27j8IyMEVFPbuP56+I0DWB+8/nr4jQNYH7z8=",
        "encoding": "base64",
        "path": [
         "_data",
         0,
         "y",
         "value"
        ]
       },
       {
        "data": "HNOQewNX3D87+CqDaIfQP6RZ6YwfwdA/NWxqrNdX0T9USSGJBF/eP4QDhggsUs8/EduJ4GM80D/lNHEjj6nQP6/Fvbr2ad8/P8qEkN1vzj+E7H7z4MfPP53kaJb1PNA/qoZzv7K73z+kvFQc7PTNPxHGuSYOws4/MSKvI4MA0D9h9YreBq/NP5O1uqHLks0/U917xxySzT/YghZYMqjNPw==",
        "encoding": "base64",
        "path": [
         "_data",
         1,
         "y",
         "value"
        ]
       },
       {
        "data": "bqbArzl41D9upsCvOXjUP2Je1ErPM8Q/Yl7USs8zxD/Yee++dW/EP9h57751b8Q/+BWzrjF2xT/4FbOuMXbFP1cnJLcSidQ/VycktxKJ1D8KbjG7iXnBPwpuMbuJecE/u1VnGNwWwj+7VWcY3BbCP9ZGAoBQgcM/1kYCgFCBwz/2vctF1EvUP/a9y0XUS9Q/sIJtQNOYwD+wgm1A05jAP0MSCb48t8E/QxIJvjy3wT/JDEL77g/DP8kMQvvuD8M/Bmr8z7p61D8GavzPunrUP5ei1d7wpsA/l6LV3vCmwD+UOw8ymLPBP5Q7DzKYs8E/dd2pDhJEwz913akOEkTDPzR930ihEsE/NH3fSKESwT+3sAnUMWvBP7ewCdQxa8E/TySGXKUEwj9PJIZcpQTCPzWIUNaxu8I/NYhQ1rG7wj8=",
        "encoding": "base64",
        "path": [
         "_data",
         2,
         "y",
         "value"
        ]
       },
       {
        "data": "yErZkkDI1D8Pi8pIVtPAPzoGHphVOcE/kIobZrMmwz+XlRpdjI3WP5GCBi7Cxbs/MEaX7O9kvj8EDW8d6pfAP9I8AlHkkdc/xLpxOqlXuj8JwJlExDS9P8NjwmTUxb8/I4i5Mrfi1z/9v31xM7m5Pw5Po9cVTLw/1yyMfIdOvz+oRvEw5nS5PyZMRl382bk/hWXfNi2uuj+6WPw4F4C7Pw==",
        "encoding": "base64",
        "path": [
         "_data",
         3,
         "y",
         "value"
        ]
       },
       {
        "data": "kpIKbOfG1T8Dc4JmUJXBP7p3GIZTa8I/9T1oK2Lcwz8P4aCIe67YP5AsQ4f7Sr4/7AomTpBRwD9xBV+LQqrBP/2/fXEzudk/fPL0mNEbvD+gVY5vkwG/P8XIUbY3qcA/8894dSaf2j8osiDbRra7P7sqfHhJKb4/mbnc8zsxwD84Gu+JPjy7P1Sf5C/L2bs/DohbWtgqvD9/ht1Asgy9Pw==",
        "encoding": "base64",
        "path": [
         "_data",
         4,
         "y",
         "value"
        ]
       },
       {
        "data": "+W2aF4+g1j+cH36mauzCP2DbJ3Sc3MM/I/I6MggAxT+nnhFlX8DZP2rXwvfj18A/WxRSjZb9wT8EXEKG6enCP+wvMxEn7to/HH3N1Dzcvj8be5Z5R8zAPwjDCDNC3cE/XQm7zciT2z+jSuQWZze+P8B4y+lFYcA/up+UN2iwwT+vGP/Z4Nu9P4pqTLWERb4/oNhzEeJ5vj+8TPQapVy/Pw==",
        "encoding": "base64",
        "path": [
         "_data",
         5,
         "y",
         "value"
        ]
       },
       {
        "data": "a1unYZ/H1z+Fgw9VW4LEPz7BXfcgN8U/6BmKwSG9xj9DGzBX+e/aP4mEwrhNeMI/5DbOsEF6wz+ycNOp36XEP9tpeeoYLNw/vxeXtW49wT+BF6Nej9bCP+Mfx5v278M/UqqOiPej3D82pSIvmjbBP+Jvv/4fesI/cfnIAwjJwz9+5O7qhQnBP438/QFwJsE/u7abTLM6wT9ModmFcq3BPw==",
        "encoding": "base64",
        "path": [
         "_data",
         6,
         "y",
         "value"
        ]
       },
       {
        "data": "hutGYFgv2T+Kx/+ZEunGP9xcq89Vssc/1xeWkHQTyT/8MAJIql/cP9h57751b8Q/9bS3RXZzxT9jQckmy5fGPznY6TsCZN0/9Ru3veqHwz+Z66Q4N+fEP6YwDxbFIsY/J9z5GQ7M3T89OdILXwbDPy7RypFLX8Q/IGnDFzi4xT96sBV9UgTDP8wS1HNw38I/24VMe5Qvwz9Z9380roLDPw==",
        "encoding": "base64",
        "path": [
         "_data",
         7,
         "y",
         "value"
        ]
       },
       {
        "data": "pdSAK2G32T9Sq7OCIdzIPzpZclCeC8o/yRs02Eg5yz+GNE+FupDcP3O0QS7v58Y/Sen1e8b3xz+lNbVfONvIPysKz3iIv90/1m1ZNzuOxj+XyAecsXvHPxPqe729Zcg/lZCHrHc13j9afwsgcLPFP0wXBKZcDMc/FinGuAEUyD9cKjSot0/FPxD2ShAUaMU/UJXRZwCKxT9AC1JLka/FPw==",
        "encoding": "base64",
        "path": [
         "_data",
         8,
         "y",
         "value"
        ]
       },
       {
        "data": "M7ks7J5a2j+BknPI7O3KP83AkRzz5Ms/Z6ZF388azT+ex3ALUAHdP7mMDnJmpsg/RZNroBueyT+RwYn0IZXKPw6NOm9nBN4/gv89hP7yxz9setZHOhPJP8E3xWN2AMo/XGnKB3Z/3j8PsfwFF6jHPyPxFTjex8g/vw+CfX3cyT/kkBKnUXXHP5323Porb8c/KSW22vWrxz/aj9HZlsHHPw==",
        "encoding": "base64",
        "path": [
         "_data",
         9,
         "y",
         "value"
        ]
       },
       {
        "data": "ceZCPga/2j/3yXRmbY3MP4nLgOlbac0/jxU8crDAzj/gszRzbYPdP71Cb7yiyso/4asMoh3Cyz+xeTMOuP/MPzUWup5vPd4/ctuY5dn0yT/RcUwdvFDLP8NTcsI0Q8w/CQF6mNbU3j90hsFtIZHJP1FEtAqtx8o/bkbEDuvsyz+phTssKiPJPxq9rmDiBMk/MgklT8jkyD8b9mbjpOPIPw==",
        "encoding": "base64",
        "path": [
         "_data",
         10,
         "y",
         "value"
        ]
       },
       {
        "data": "YxXfvssy2z+1oT0plQLOP4iurpBz7s4/nFBHI/kq0D99jj7dHe/dPxA+LjtMkcw/40qfoip9zT/cgt2MFofOP0cgndVQh94/IUuT+Qnkyz/jOWPRfOPMP90+e7En3s0//jjxTd7/3j8svkTMSVXLP6J4KwwZbcw/nESLaQGJzT8iBzEeGzvLP3dvgY265co/k+nM2hq5yj87D0UxEnLKPw==",
        "encoding": "base64",
        "path": [
         "_data",
         11,
         "y",
         "value"
        ]
       },
       {
        "data": "uOnU71Kq2z+Gys2FaXPPP8tDnfD+HdA/EI4TBRe70D88EWnzqCHeP5Ges4yACM4/MMOxSqHszj8tAYKtDsbPP5UvU3igEd8/nDNPmFPvzD8CMZCxch3OPwupIJlBaM8/5w4szW903z8GGzwAGonMP6Bszk/6rM0/pyj63dPBzj8A7Wahn5XMPyiKpCkyccw/Al/XpiRTzD8CqQTGsOzLPw==",
        "encoding": "base64",
        "path": [
         "_data",
         12,
         "y",
         "value"
        ]
       }
      ],
      "model_module": "plotlywidget",
      "model_module_version": "4.6.0",
      "model_name": "FigureModel",
      "state": {
       "_config": {
        "plotlyServerURL": "https://plot.ly"
       },
       "_data": [
        {
         "hovertemplate": "%{text}",
         "name": "0",
         "showlegend": true,
         "text": [
          "bad4: 0.964002334533024<br>Experiment id:<br> ALG_005_EXP_001-PatchMatch-MacLean_et_al-Numba<br>Scene: cones<br>kernel size: 1x1<br>kernel spec: None<br>match:0<br>bad4: 0.964002334533024<br>IMG res:450x375",
          "bad4: 0.964002334533024<br>Experiment id:<br> ALG_005_EXP_001-PatchMatch-MacLean_et_al-Numba<br>Scene: cones<br>kernel size: 1x1<br>kernel spec: None<br>match:0<br>bad4: 0.964002334533024<br>IMG res:450x375",
          "bad4: 0.957929769464864<br>Experiment id:<br> ALG_005_EXP_001-PatchMatch-MacLean_et_al-Numba<br>Scene: cones<br>kernel size: 1x3<br>kernel spec: None<br>match:0<br>bad4: 0.957929769464864<br>IMG res:450x375",
          "bad4: 0.957929769464864<br>Experiment id:<br> ALG_005_EXP_001-PatchMatch-MacLean_et_al-Numba<br>Scene: cones<br>kernel size: 1x3<br>kernel spec: None<br>match:0<br>bad4: 0.957929769464864<br>IMG res:450x375",
          "bad4: 0.9657879743757208<br>Experiment id:<br> ALG_005_EXP_001-PatchMatch-MacLean_et_al-Numba<br>Scene: cones<br>kernel size: 1x5<br>kernel spec: None<br>match:0<br>bad4: 0.9657879743757208<br>IMG res:450x375",
          "bad4: 0.9657879743757208<br>Experiment id:<br> ALG_005_EXP_001-PatchMatch-MacLean_et_al-Numba<br>Scene: cones<br>kernel size: 1x5<br>kernel spec: None<br>match:0<br>bad4: 0.9657879743757208<br>IMG res:450x375",
          "bad4: 0.9717076831149342<br>Experiment id:<br> ALG_005_EXP_001-PatchMatch-MacLean_et_al-Numba<br>Scene: cones<br>kernel size: 1x7<br>kernel spec: None<br>match:0<br>bad4: 0.9717076831149342<br>IMG res:450x375",
          "bad4: 0.9717076831149342<br>Experiment id:<br> ALG_005_EXP_001-PatchMatch-MacLean_et_al-Numba<br>Scene: cones<br>kernel size: 1x7<br>kernel spec: None<br>match:0<br>bad4: 0.9717076831149342<br>IMG res:450x375",
          "bad4: 0.9656212220168696<br>Experiment id:<br> ALG_005_EXP_001-PatchMatch-MacLean_et_al-Numba<br>Scene: cones<br>kernel size: 3x1<br>kernel spec: None<br>match:0<br>bad4: 0.9656212220168696<br>IMG res:450x375",
          "bad4: 0.9656212220168696<br>Experiment id:<br> ALG_005_EXP_001-PatchMatch-MacLean_et_al-Numba<br>Scene: cones<br>kernel size: 3x1<br>kernel spec: None<br>match:0<br>bad4: 0.9656212220168696<br>IMG res:450x375",
          "bad4: 0.962494615288412<br>Experiment id:<br> ALG_005_EXP_001-PatchMatch-MacLean_et_al-Numba<br>Scene: cones<br>kernel size: 3x3<br>kernel spec: None<br>match:0<br>bad4: 0.962494615288412<br>IMG res:450x375",
          "bad4: 0.962494615288412<br>Experiment id:<br> ALG_005_EXP_001-PatchMatch-MacLean_et_al-Numba<br>Scene: cones<br>kernel size: 3x3<br>kernel spec: None<br>match:0<br>bad4: 0.962494615288412<br>IMG res:450x375",
          "bad4: 0.9668579686783486<br>Experiment id:<br> ALG_005_EXP_001-PatchMatch-MacLean_et_al-Numba<br>Scene: cones<br>kernel size: 3x5<br>kernel spec: None<br>match:0<br>bad4: 0.9668579686783486<br>IMG res:450x375",
          "bad4: 0.9668579686783486<br>Experiment id:<br> ALG_005_EXP_001-PatchMatch-MacLean_et_al-Numba<br>Scene: cones<br>kernel size: 3x5<br>kernel spec: None<br>match:0<br>bad4: 0.9668579686783486<br>IMG res:450x375",
          "bad4: 0.9725344968942372<br>Experiment id:<br> ALG_005_EXP_001-PatchMatch-MacLean_et_al-Numba<br>Scene: cones<br>kernel size: 3x7<br>kernel spec: None<br>match:0<br>bad4: 0.9725344968942372<br>IMG res:450x375",
          "bad4: 0.9725344968942372<br>Experiment id:<br> ALG_005_EXP_001-PatchMatch-MacLean_et_al-Numba<br>Scene: cones<br>kernel size: 3x7<br>kernel spec: None<br>match:0<br>bad4: 0.9725344968942372<br>IMG res:450x375",
          "bad4: 0.969095229492934<br>Experiment id:<br> ALG_005_EXP_001-PatchMatch-MacLean_et_al-Numba<br>Scene: cones<br>kernel size: 5x1<br>kernel spec: None<br>match:0<br>bad4: 0.969095229492934<br>IMG res:450x375",
          "bad4: 0.969095229492934<br>Experiment id:<br> ALG_005_EXP_001-PatchMatch-MacLean_et_al-Numba<br>Scene: cones<br>kernel size: 5x1<br>kernel spec: None<br>match:0<br>bad4: 0.969095229492934<br>IMG res:450x375",
          "bad4: 0.960215666384114<br>Experiment id:<br> ALG_005_EXP_001-PatchMatch-MacLean_et_al-Numba<br>Scene: cones<br>kernel size: 5x3<br>kernel spec: None<br>match:0<br>bad4: 0.960215666384114<br>IMG res:450x375",
          "bad4: 0.960215666384114<br>Experiment id:<br> ALG_005_EXP_001-PatchMatch-MacLean_et_al-Numba<br>Scene: cones<br>kernel size: 5x3<br>kernel spec: None<br>match:0<br>bad4: 0.960215666384114<br>IMG res:450x375",
          "bad4: 0.9688451009546571<br>Experiment id:<br> ALG_005_EXP_001-PatchMatch-MacLean_et_al-Numba<br>Scene: cones<br>kernel size: 5x5<br>kernel spec: None<br>match:0<br>bad4: 0.9688451009546571<br>IMG res:450x375",
          "bad4: 0.9688451009546571<br>Experiment id:<br> ALG_005_EXP_001-PatchMatch-MacLean_et_al-Numba<br>Scene: cones<br>kernel size: 5x5<br>kernel spec: None<br>match:0<br>bad4: 0.9688451009546571<br>IMG res:450x375",
          "bad4: 0.9730625460305992<br>Experiment id:<br> ALG_005_EXP_001-PatchMatch-MacLean_et_al-Numba<br>Scene: cones<br>kernel size: 5x7<br>kernel spec: None<br>match:0<br>bad4: 0.9730625460305992<br>IMG res:450x375",
          "bad4: 0.9730625460305992<br>Experiment id:<br> ALG_005_EXP_001-PatchMatch-MacLean_et_al-Numba<br>Scene: cones<br>kernel size: 5x7<br>kernel spec: None<br>match:0<br>bad4: 0.9730625460305992<br>IMG res:450x375",
          "bad4: 0.9715200867112266<br>Experiment id:<br> ALG_005_EXP_001-PatchMatch-MacLean_et_al-Numba<br>Scene: cones<br>kernel size: 7x1<br>kernel spec: None<br>match:0<br>bad4: 0.9715200867112266<br>IMG res:450x375",
          "bad4: 0.9715200867112266<br>Experiment id:<br> ALG_005_EXP_001-PatchMatch-MacLean_et_al-Numba<br>Scene: cones<br>kernel size: 7x1<br>kernel spec: None<br>match:0<br>bad4: 0.9715200867112266<br>IMG res:450x375",
          "bad4: 0.9646068118338592<br>Experiment id:<br> ALG_005_EXP_001-PatchMatch-MacLean_et_al-Numba<br>Scene: cones<br>kernel size: 7x3<br>kernel spec: None<br>match:0<br>bad4: 0.9646068118338592<br>IMG res:450x375",
          "bad4: 0.9646068118338592<br>Experiment id:<br> ALG_005_EXP_001-PatchMatch-MacLean_et_al-Numba<br>Scene: cones<br>kernel size: 7x3<br>kernel spec: None<br>match:0<br>bad4: 0.9646068118338592<br>IMG res:450x375",
          "bad4: 0.9685324402818116<br>Experiment id:<br> ALG_005_EXP_001-PatchMatch-MacLean_et_al-Numba<br>Scene: cones<br>kernel size: 7x5<br>kernel spec: None<br>match:0<br>bad4: 0.9685324402818116<br>IMG res:450x375",
          "bad4: 0.9685324402818116<br>Experiment id:<br> ALG_005_EXP_001-PatchMatch-MacLean_et_al-Numba<br>Scene: cones<br>kernel size: 7x5<br>kernel spec: None<br>match:0<br>bad4: 0.9685324402818116<br>IMG res:450x375",
          "bad4: 0.9736322832566736<br>Experiment id:<br> ALG_005_EXP_001-PatchMatch-MacLean_et_al-Numba<br>Scene: cones<br>kernel size: 7x7<br>kernel spec: None<br>match:0<br>bad4: 0.9736322832566736<br>IMG res:450x375",
          "bad4: 0.9736322832566736<br>Experiment id:<br> ALG_005_EXP_001-PatchMatch-MacLean_et_al-Numba<br>Scene: cones<br>kernel size: 7x7<br>kernel spec: None<br>match:0<br>bad4: 0.9736322832566736<br>IMG res:450x375",
          "bad4: 0.9675527701735614<br>Experiment id:<br> ALG_005_EXP_001-PatchMatch-MacLean_et_al-Numba<br>Scene: cones<br>kernel size: 9x3<br>kernel spec: None<br>match:0<br>bad4: 0.9675527701735614<br>IMG res:450x375",
          "bad4: 0.9675527701735614<br>Experiment id:<br> ALG_005_EXP_001-PatchMatch-MacLean_et_al-Numba<br>Scene: cones<br>kernel size: 9x3<br>kernel spec: None<br>match:0<br>bad4: 0.9675527701735614<br>IMG res:450x375",
          "bad4: 0.9677264705473646<br>Experiment id:<br> ALG_005_EXP_001-PatchMatch-MacLean_et_al-Numba<br>Scene: cones<br>kernel size: 11x3<br>kernel spec: None<br>match:0<br>bad4: 0.9677264705473646<br>IMG res:450x375",
          "bad4: 0.9677264705473646<br>Experiment id:<br> ALG_005_EXP_001-PatchMatch-MacLean_et_al-Numba<br>Scene: cones<br>kernel size: 11x3<br>kernel spec: None<br>match:0<br>bad4: 0.9677264705473646<br>IMG res:450x375",
          "bad4: 0.9675388741436572<br>Experiment id:<br> ALG_005_EXP_001-PatchMatch-MacLean_et_al-Numba<br>Scene: cones<br>kernel size: 13x3<br>kernel spec: None<br>match:0<br>bad4: 0.9675388741436572<br>IMG res:450x375",
          "bad4: 0.9675388741436572<br>Experiment id:<br> ALG_005_EXP_001-PatchMatch-MacLean_et_al-Numba<br>Scene: cones<br>kernel size: 13x3<br>kernel spec: None<br>match:0<br>bad4: 0.9675388741436572<br>IMG res:450x375",
          "bad4: 0.9697066548087212<br>Experiment id:<br> ALG_005_EXP_001-PatchMatch-MacLean_et_al-Numba<br>Scene: cones<br>kernel size: 15x3<br>kernel spec: None<br>match:0<br>bad4: 0.9697066548087212<br>IMG res:450x375",
          "bad4: 0.9697066548087212<br>Experiment id:<br> ALG_005_EXP_001-PatchMatch-MacLean_et_al-Numba<br>Scene: cones<br>kernel size: 15x3<br>kernel spec: None<br>match:0<br>bad4: 0.9697066548087212<br>IMG res:450x375"
         ],
         "type": "scatter",
         "uid": "3a2292c8-b296-412d-9b97-765c62d76eaf",
         "x": [
          "1x1",
          "1x1",
          "1x3",
          "1x3",
          "1x5",
          "1x5",
          "1x7",
          "1x7",
          "3x1",
          "3x1",
          "3x3",
          "3x3",
          "3x5",
          "3x5",
          "3x7",
          "3x7",
          "5x1",
          "5x1",
          "5x3",
          "5x3",
          "5x5",
          "5x5",
          "5x7",
          "5x7",
          "7x1",
          "7x1",
          "7x3",
          "7x3",
          "7x5",
          "7x5",
          "7x7",
          "7x7",
          "9x3",
          "9x3",
          "11x3",
          "11x3",
          "13x3",
          "13x3",
          "15x3",
          "15x3"
         ],
         "y": {
          "dtype": "float64",
          "shape": [
           40
          ]
         }
        },
        {
         "hovertemplate": "%{text}",
         "name": "120",
         "showlegend": true,
         "text": [
          "bad4: 0.442810888929033<br>Experiment id:<br> ALG_005_EXP_001-PatchMatch-MacLean_et_al-Numba<br>Scene: cones<br>kernel size: 1x1<br>kernel spec: None<br>match:120<br>bad4: 0.442810888929033<br>IMG res:450x375",
          "bad4: 0.2582646637855565<br>Experiment id:<br> ALG_005_EXP_001-PatchMatch-MacLean_et_al-Numba<br>Scene: cones<br>kernel size: 1x3<br>kernel spec: None<br>match:120<br>bad4: 0.2582646637855565<br>IMG res:450x375",
          "bad4: 0.2617873073662855<br>Experiment id:<br> ALG_005_EXP_001-PatchMatch-MacLean_et_al-Numba<br>Scene: cones<br>kernel size: 1x5<br>kernel spec: None<br>match:120<br>bad4: 0.2617873073662855<br>IMG res:450x375",
          "bad4: 0.27098647916290314<br>Experiment id:<br> ALG_005_EXP_001-PatchMatch-MacLean_et_al-Numba<br>Scene: cones<br>kernel size: 1x7<br>kernel spec: None<br>match:120<br>bad4: 0.27098647916290314<br>IMG res:450x375",
          "bad4: 0.4745494212303545<br>Experiment id:<br> ALG_005_EXP_001-PatchMatch-MacLean_et_al-Numba<br>Scene: cones<br>kernel size: 3x1<br>kernel spec: None<br>match:120<br>bad4: 0.4745494212303545<br>IMG res:450x375",
          "bad4: 0.2446951905840501<br>Experiment id:<br> ALG_005_EXP_001-PatchMatch-MacLean_et_al-Numba<br>Scene: cones<br>kernel size: 3x3<br>kernel spec: None<br>match:120<br>bad4: 0.2446951905840501<br>IMG res:450x375",
          "bad4: 0.253685921932104<br>Experiment id:<br> ALG_005_EXP_001-PatchMatch-MacLean_et_al-Numba<br>Scene: cones<br>kernel size: 3x5<br>kernel spec: None<br>match:120<br>bad4: 0.253685921932104<br>IMG res:450x375",
          "bad4: 0.2603490682711949<br>Experiment id:<br> ALG_005_EXP_001-PatchMatch-MacLean_et_al-Numba<br>Scene: cones<br>kernel size: 3x7<br>kernel spec: None<br>match:120<br>bad4: 0.2603490682711949<br>IMG res:450x375",
          "bad4: 0.4908425162930951<br>Experiment id:<br> ALG_005_EXP_001-PatchMatch-MacLean_et_al-Numba<br>Scene: cones<br>kernel size: 5x1<br>kernel spec: None<br>match:120<br>bad4: 0.4908425162930951<br>IMG res:450x375",
          "bad4: 0.23778886372163474<br>Experiment id:<br> ALG_005_EXP_001-PatchMatch-MacLean_et_al-Numba<br>Scene: cones<br>kernel size: 5x3<br>kernel spec: None<br>match:120<br>bad4: 0.23778886372163474<br>IMG res:450x375",
          "bad4: 0.2482873143143004<br>Experiment id:<br> ALG_005_EXP_001-PatchMatch-MacLean_et_al-Numba<br>Scene: cones<br>kernel size: 5x5<br>kernel spec: None<br>match:120<br>bad4: 0.2482873143143004<br>IMG res:450x375",
          "bad4: 0.25372066200686466<br>Experiment id:<br> ALG_005_EXP_001-PatchMatch-MacLean_et_al-Numba<br>Scene: cones<br>kernel size: 5x7<br>kernel spec: None<br>match:120<br>bad4: 0.25372066200686466<br>IMG res:450x375",
          "bad4: 0.4958311910287231<br>Experiment id:<br> ALG_005_EXP_001-PatchMatch-MacLean_et_al-Numba<br>Scene: cones<br>kernel size: 7x1<br>kernel spec: None<br>match:120<br>bad4: 0.4958311910287231<br>IMG res:450x375",
          "bad4: 0.2340369356474855<br>Experiment id:<br> ALG_005_EXP_001-PatchMatch-MacLean_et_al-Numba<br>Scene: cones<br>kernel size: 7x3<br>kernel spec: None<br>match:120<br>bad4: 0.2340369356474855<br>IMG res:450x375",
          "bad4: 0.24029709711935301<br>Experiment id:<br> ALG_005_EXP_001-PatchMatch-MacLean_et_al-Numba<br>Scene: cones<br>kernel size: 7x5<br>kernel spec: None<br>match:120<br>bad4: 0.24029709711935301<br>IMG res:450x375",
          "bad4: 0.2500312660672846<br>Experiment id:<br> ALG_005_EXP_001-PatchMatch-MacLean_et_al-Numba<br>Scene: cones<br>kernel size: 7x7<br>kernel spec: None<br>match:120<br>bad4: 0.2500312660672846<br>IMG res:450x375",
          "bad4: 0.23190389505718215<br>Experiment id:<br> ALG_005_EXP_001-PatchMatch-MacLean_et_al-Numba<br>Scene: cones<br>kernel size: 9x3<br>kernel spec: None<br>match:120<br>bad4: 0.23190389505718215<br>IMG res:450x375",
          "bad4: 0.23104234120311826<br>Experiment id:<br> ALG_005_EXP_001-PatchMatch-MacLean_et_al-Numba<br>Scene: cones<br>kernel size: 11x3<br>kernel spec: None<br>match:120<br>bad4: 0.23104234120311826<br>IMG res:450x375",
          "bad4: 0.2310214971582619<br>Experiment id:<br> ALG_005_EXP_001-PatchMatch-MacLean_et_al-Numba<br>Scene: cones<br>kernel size: 13x3<br>kernel spec: None<br>match:120<br>bad4: 0.2310214971582619<br>IMG res:450x375",
          "bad4: 0.2316954546086183<br>Experiment id:<br> ALG_005_EXP_001-PatchMatch-MacLean_et_al-Numba<br>Scene: cones<br>kernel size: 15x3<br>kernel spec: None<br>match:120<br>bad4: 0.2316954546086183<br>IMG res:450x375"
         ],
         "type": "scatter",
         "uid": "3230485b-4dbe-49a6-8a08-332cfde06a5e",
         "x": [
          "1x1",
          "1x3",
          "1x5",
          "1x7",
          "3x1",
          "3x3",
          "3x5",
          "3x7",
          "5x1",
          "5x3",
          "5x5",
          "5x7",
          "7x1",
          "7x3",
          "7x5",
          "7x7",
          "9x3",
          "11x3",
          "13x3",
          "15x3"
         ],
         "y": {
          "dtype": "float64",
          "shape": [
           20
          ]
         }
        },
        {
         "hovertemplate": "%{text}",
         "name": "10",
         "showlegend": true,
         "text": [
          "bad4: 0.3198379722913164<br>Experiment id:<br> ALG_005_EXP_001-PatchMatch-MacLean_et_al-Numba<br>Scene: cones<br>kernel size: 1x1<br>kernel spec: None<br>match:10<br>bad4: 0.3198379722913164<br>IMG res:450x375",
          "bad4: 0.3198379722913164<br>Experiment id:<br> ALG_005_EXP_001-PatchMatch-MacLean_et_al-Numba<br>Scene: cones<br>kernel size: 1x1<br>kernel spec: None<br>match:10<br>bad4: 0.3198379722913164<br>IMG res:450x375",
          "bad4: 0.15783110765254366<br>Experiment id:<br> ALG_005_EXP_001-PatchMatch-MacLean_et_al-Numba<br>Scene: cones<br>kernel size: 1x3<br>kernel spec: None<br>match:10<br>bad4: 0.15783110765254366<br>IMG res:450x375",
          "bad4: 0.15783110765254366<br>Experiment id:<br> ALG_005_EXP_001-PatchMatch-MacLean_et_al-Numba<br>Scene: cones<br>kernel size: 1x3<br>kernel spec: None<br>match:10<br>bad4: 0.15783110765254366<br>IMG res:450x375",
          "bad4: 0.15965148757000125<br>Experiment id:<br> ALG_005_EXP_001-PatchMatch-MacLean_et_al-Numba<br>Scene: cones<br>kernel size: 1x5<br>kernel spec: None<br>match:10<br>bad4: 0.15965148757000125<br>IMG res:450x375",
          "bad4: 0.15965148757000125<br>Experiment id:<br> ALG_005_EXP_001-PatchMatch-MacLean_et_al-Numba<br>Scene: cones<br>kernel size: 1x5<br>kernel spec: None<br>match:10<br>bad4: 0.15965148757000125<br>IMG res:450x375",
          "bad4: 0.16766949682475718<br>Experiment id:<br> ALG_005_EXP_001-PatchMatch-MacLean_et_al-Numba<br>Scene: cones<br>kernel size: 1x7<br>kernel spec: None<br>match:10<br>bad4: 0.16766949682475718<br>IMG res:450x375",
          "bad4: 0.16766949682475718<br>Experiment id:<br> ALG_005_EXP_001-PatchMatch-MacLean_et_al-Numba<br>Scene: cones<br>kernel size: 1x7<br>kernel spec: None<br>match:10<br>bad4: 0.16766949682475718<br>IMG res:450x375",
          "bad4: 0.3208662785042313<br>Experiment id:<br> ALG_005_EXP_001-PatchMatch-MacLean_et_al-Numba<br>Scene: cones<br>kernel size: 3x1<br>kernel spec: None<br>match:10<br>bad4: 0.3208662785042313<br>IMG res:450x375",
          "bad4: 0.3208662785042313<br>Experiment id:<br> ALG_005_EXP_001-PatchMatch-MacLean_et_al-Numba<br>Scene: cones<br>kernel size: 3x1<br>kernel spec: None<br>match:10<br>bad4: 0.3208662785042313<br>IMG res:450x375",
          "bad4: 0.13652154579436654<br>Experiment id:<br> ALG_005_EXP_001-PatchMatch-MacLean_et_al-Numba<br>Scene: cones<br>kernel size: 3x3<br>kernel spec: None<br>match:10<br>bad4: 0.13652154579436654<br>IMG res:450x375",
          "bad4: 0.13652154579436654<br>Experiment id:<br> ALG_005_EXP_001-PatchMatch-MacLean_et_al-Numba<br>Scene: cones<br>kernel size: 3x3<br>kernel spec: None<br>match:10<br>bad4: 0.13652154579436654<br>IMG res:450x375",
          "bad4: 0.14132262412628713<br>Experiment id:<br> ALG_005_EXP_001-PatchMatch-MacLean_et_al-Numba<br>Scene: cones<br>kernel size: 3x5<br>kernel spec: None<br>match:10<br>bad4: 0.14132262412628713<br>IMG res:450x375",
          "bad4: 0.14132262412628713<br>Experiment id:<br> ALG_005_EXP_001-PatchMatch-MacLean_et_al-Numba<br>Scene: cones<br>kernel size: 3x5<br>kernel spec: None<br>match:10<br>bad4: 0.14132262412628713<br>IMG res:450x375",
          "bad4: 0.15238386393007514<br>Experiment id:<br> ALG_005_EXP_001-PatchMatch-MacLean_et_al-Numba<br>Scene: cones<br>kernel size: 3x7<br>kernel spec: None<br>match:10<br>bad4: 0.15238386393007514<br>IMG res:450x375",
          "bad4: 0.15238386393007514<br>Experiment id:<br> ALG_005_EXP_001-PatchMatch-MacLean_et_al-Numba<br>Scene: cones<br>kernel size: 3x7<br>kernel spec: None<br>match:10<br>bad4: 0.15238386393007514<br>IMG res:450x375",
          "bad4: 0.3171282464599864<br>Experiment id:<br> ALG_005_EXP_001-PatchMatch-MacLean_et_al-Numba<br>Scene: cones<br>kernel size: 5x1<br>kernel spec: None<br>match:10<br>bad4: 0.3171282464599864<br>IMG res:450x375",
          "bad4: 0.3171282464599864<br>Experiment id:<br> ALG_005_EXP_001-PatchMatch-MacLean_et_al-Numba<br>Scene: cones<br>kernel size: 5x1<br>kernel spec: None<br>match:10<br>bad4: 0.3171282464599864<br>IMG res:450x375",
          "bad4: 0.12966385503661604<br>Experiment id:<br> ALG_005_EXP_001-PatchMatch-MacLean_et_al-Numba<br>Scene: cones<br>kernel size: 5x3<br>kernel spec: None<br>match:10<br>bad4: 0.12966385503661604<br>IMG res:450x375",
          "bad4: 0.12966385503661604<br>Experiment id:<br> ALG_005_EXP_001-PatchMatch-MacLean_et_al-Numba<br>Scene: cones<br>kernel size: 5x3<br>kernel spec: None<br>match:10<br>bad4: 0.12966385503661604<br>IMG res:450x375",
          "bad4: 0.1384044578463933<br>Experiment id:<br> ALG_005_EXP_001-PatchMatch-MacLean_et_al-Numba<br>Scene: cones<br>kernel size: 5x5<br>kernel spec: None<br>match:10<br>bad4: 0.1384044578463933<br>IMG res:450x375",
          "bad4: 0.1384044578463933<br>Experiment id:<br> ALG_005_EXP_001-PatchMatch-MacLean_et_al-Numba<br>Scene: cones<br>kernel size: 5x5<br>kernel spec: None<br>match:10<br>bad4: 0.1384044578463933<br>IMG res:450x375",
          "bad4: 0.14892375248391534<br>Experiment id:<br> ALG_005_EXP_001-PatchMatch-MacLean_et_al-Numba<br>Scene: cones<br>kernel size: 5x7<br>kernel spec: None<br>match:10<br>bad4: 0.14892375248391534<br>IMG res:450x375",
          "bad4: 0.14892375248391534<br>Experiment id:<br> ALG_005_EXP_001-PatchMatch-MacLean_et_al-Numba<br>Scene: cones<br>kernel size: 5x7<br>kernel spec: None<br>match:10<br>bad4: 0.14892375248391534<br>IMG res:450x375",
          "bad4: 0.3199908286202632<br>Experiment id:<br> ALG_005_EXP_001-PatchMatch-MacLean_et_al-Numba<br>Scene: cones<br>kernel size: 7x1<br>kernel spec: None<br>match:10<br>bad4: 0.3199908286202632<br>IMG res:450x375",
          "bad4: 0.3199908286202632<br>Experiment id:<br> ALG_005_EXP_001-PatchMatch-MacLean_et_al-Numba<br>Scene: cones<br>kernel size: 7x1<br>kernel spec: None<br>match:10<br>bad4: 0.3199908286202632<br>IMG res:450x375",
          "bad4: 0.13009463196364798<br>Experiment id:<br> ALG_005_EXP_001-PatchMatch-MacLean_et_al-Numba<br>Scene: cones<br>kernel size: 7x3<br>kernel spec: None<br>match:10<br>bad4: 0.13009463196364798<br>IMG res:450x375",
          "bad4: 0.13009463196364798<br>Experiment id:<br> ALG_005_EXP_001-PatchMatch-MacLean_et_al-Numba<br>Scene: cones<br>kernel size: 7x3<br>kernel spec: None<br>match:10<br>bad4: 0.13009463196364798<br>IMG res:450x375",
          "bad4: 0.13829328960715925<br>Experiment id:<br> ALG_005_EXP_001-PatchMatch-MacLean_et_al-Numba<br>Scene: cones<br>kernel size: 7x5<br>kernel spec: None<br>match:10<br>bad4: 0.13829328960715925<br>IMG res:450x375",
          "bad4: 0.13829328960715925<br>Experiment id:<br> ALG_005_EXP_001-PatchMatch-MacLean_et_al-Numba<br>Scene: cones<br>kernel size: 7x5<br>kernel spec: None<br>match:10<br>bad4: 0.13829328960715925<br>IMG res:450x375",
          "bad4: 0.1505148479079527<br>Experiment id:<br> ALG_005_EXP_001-PatchMatch-MacLean_et_al-Numba<br>Scene: cones<br>kernel size: 7x7<br>kernel spec: None<br>match:10<br>bad4: 0.1505148479079527<br>IMG res:450x375",
          "bad4: 0.1505148479079527<br>Experiment id:<br> ALG_005_EXP_001-PatchMatch-MacLean_et_al-Numba<br>Scene: cones<br>kernel size: 7x7<br>kernel spec: None<br>match:10<br>bad4: 0.1505148479079527<br>IMG res:450x375",
          "bad4: 0.13338104303600462<br>Experiment id:<br> ALG_005_EXP_001-PatchMatch-MacLean_et_al-Numba<br>Scene: cones<br>kernel size: 9x3<br>kernel spec: None<br>match:10<br>bad4: 0.13338104303600462<br>IMG res:450x375",
          "bad4: 0.13338104303600462<br>Experiment id:<br> ALG_005_EXP_001-PatchMatch-MacLean_et_al-Numba<br>Scene: cones<br>kernel size: 9x3<br>kernel spec: None<br>match:10<br>bad4: 0.13338104303600462<br>IMG res:450x375",
          "bad4: 0.13608382085238244<br>Experiment id:<br> ALG_005_EXP_001-PatchMatch-MacLean_et_al-Numba<br>Scene: cones<br>kernel size: 11x3<br>kernel spec: None<br>match:10<br>bad4: 0.13608382085238244<br>IMG res:450x375",
          "bad4: 0.13608382085238244<br>Experiment id:<br> ALG_005_EXP_001-PatchMatch-MacLean_et_al-Numba<br>Scene: cones<br>kernel size: 11x3<br>kernel spec: None<br>match:10<br>bad4: 0.13608382085238244<br>IMG res:450x375",
          "bad4: 0.14076678293011688<br>Experiment id:<br> ALG_005_EXP_001-PatchMatch-MacLean_et_al-Numba<br>Scene: cones<br>kernel size: 13x3<br>kernel spec: None<br>match:10<br>bad4: 0.14076678293011688<br>IMG res:450x375",
          "bad4: 0.14076678293011688<br>Experiment id:<br> ALG_005_EXP_001-PatchMatch-MacLean_et_al-Numba<br>Scene: cones<br>kernel size: 13x3<br>kernel spec: None<br>match:10<br>bad4: 0.14076678293011688<br>IMG res:450x375",
          "bad4: 0.14635298695162793<br>Experiment id:<br> ALG_005_EXP_001-PatchMatch-MacLean_et_al-Numba<br>Scene: cones<br>kernel size: 15x3<br>kernel spec: None<br>match:10<br>bad4: 0.14635298695162793<br>IMG res:450x375",
          "bad4: 0.14635298695162793<br>Experiment id:<br> ALG_005_EXP_001-PatchMatch-MacLean_et_al-Numba<br>Scene: cones<br>kernel size: 15x3<br>kernel spec: None<br>match:10<br>bad4: 0.14635298695162793<br>IMG res:450x375"
         ],
         "type": "scatter",
         "uid": "1bff3ad2-c1c4-4bae-aa56-eee149057655",
         "x": [
          "1x1",
          "1x1",
          "1x3",
          "1x3",
          "1x5",
          "1x5",
          "1x7",
          "1x7",
          "3x1",
          "3x1",
          "3x3",
          "3x3",
          "3x5",
          "3x5",
          "3x7",
          "3x7",
          "5x1",
          "5x1",
          "5x3",
          "5x3",
          "5x5",
          "5x5",
          "5x7",
          "5x7",
          "7x1",
          "7x1",
          "7x3",
          "7x3",
          "7x5",
          "7x5",
          "7x7",
          "7x7",
          "9x3",
          "9x3",
          "11x3",
          "11x3",
          "13x3",
          "13x3",
          "15x3",
          "15x3"
         ],
         "y": {
          "dtype": "float64",
          "shape": [
           40
          ]
         }
        },
        {
         "hovertemplate": "%{text}",
         "name": "20",
         "showlegend": true,
         "text": [
          "bad4: 0.3247224268026625<br>Experiment id:<br> ALG_005_EXP_001-PatchMatch-MacLean_et_al-Numba<br>Scene: cones<br>kernel size: 1x1<br>kernel spec: None<br>match:20<br>bad4: 0.3247224268026625<br>IMG res:450x375",
          "bad4: 0.13144949487931298<br>Experiment id:<br> ALG_005_EXP_001-PatchMatch-MacLean_et_al-Numba<br>Scene: cones<br>kernel size: 1x3<br>kernel spec: None<br>match:20<br>bad4: 0.13144949487931298<br>IMG res:450x375",
          "bad4: 0.1345622055778664<br>Experiment id:<br> ALG_005_EXP_001-PatchMatch-MacLean_et_al-Numba<br>Scene: cones<br>kernel size: 1x5<br>kernel spec: None<br>match:20<br>bad4: 0.1345622055778664<br>IMG res:450x375",
          "bad4: 0.14961855397912815<br>Experiment id:<br> ALG_005_EXP_001-PatchMatch-MacLean_et_al-Numba<br>Scene: cones<br>kernel size: 1x7<br>kernel spec: None<br>match:20<br>bad4: 0.14961855397912815<br>IMG res:450x375",
          "bad4: 0.3523894223420369<br>Experiment id:<br> ALG_005_EXP_001-PatchMatch-MacLean_et_al-Numba<br>Scene: cones<br>kernel size: 3x1<br>kernel spec: None<br>match:20<br>bad4: 0.3523894223420369<br>IMG res:450x375",
          "bad4: 0.10848630546252937<br>Experiment id:<br> ALG_005_EXP_001-PatchMatch-MacLean_et_al-Numba<br>Scene: cones<br>kernel size: 3x3<br>kernel spec: None<br>match:20<br>bad4: 0.10848630546252937<br>IMG res:450x375",
          "bad4: 0.11872767950196628<br>Experiment id:<br> ALG_005_EXP_001-PatchMatch-MacLean_et_al-Numba<br>Scene: cones<br>kernel size: 3x5<br>kernel spec: None<br>match:20<br>bad4: 0.11872767950196628<br>IMG res:450x375",
          "bad4: 0.12963606297680752<br>Experiment id:<br> ALG_005_EXP_001-PatchMatch-MacLean_et_al-Numba<br>Scene: cones<br>kernel size: 3x7<br>kernel spec: None<br>match:20<br>bad4: 0.12963606297680752<br>IMG res:450x375",
          "bad4: 0.36827953253755397<br>Experiment id:<br> ALG_005_EXP_001-PatchMatch-MacLean_et_al-Numba<br>Scene: cones<br>kernel size: 5x1<br>kernel spec: None<br>match:20<br>bad4: 0.36827953253755397<br>IMG res:450x375",
          "bad4: 0.1029001014410183<br>Experiment id:<br> ALG_005_EXP_001-PatchMatch-MacLean_et_al-Numba<br>Scene: cones<br>kernel size: 5x3<br>kernel spec: None<br>match:20<br>bad4: 0.1029001014410183<br>IMG res:450x375",
          "bad4: 0.11408640551394468<br>Experiment id:<br> ALG_005_EXP_001-PatchMatch-MacLean_et_al-Numba<br>Scene: cones<br>kernel size: 5x5<br>kernel spec: None<br>match:20<br>bad4: 0.11408640551394468<br>IMG res:450x375",
          "bad4: 0.12411239108986565<br>Experiment id:<br> ALG_005_EXP_001-PatchMatch-MacLean_et_al-Numba<br>Scene: cones<br>kernel size: 5x7<br>kernel spec: None<br>match:20<br>bad4: 0.12411239108986565<br>IMG res:450x375",
          "bad4: 0.373212623153565<br>Experiment id:<br> ALG_005_EXP_001-PatchMatch-MacLean_et_al-Numba<br>Scene: cones<br>kernel size: 7x1<br>kernel spec: None<br>match:20<br>bad4: 0.373212623153565<br>IMG res:450x375",
          "bad4: 0.1004821922376777<br>Experiment id:<br> ALG_005_EXP_001-PatchMatch-MacLean_et_al-Numba<br>Scene: cones<br>kernel size: 7x3<br>kernel spec: None<br>match:20<br>bad4: 0.1004821922376777<br>IMG res:450x375",
          "bad4: 0.11053596987340716<br>Experiment id:<br> ALG_005_EXP_001-PatchMatch-MacLean_et_al-Numba<br>Scene: cones<br>kernel size: 7x5<br>kernel spec: None<br>match:20<br>bad4: 0.11053596987340716<br>IMG res:450x375",
          "bad4: 0.12229201117240805<br>Experiment id:<br> ALG_005_EXP_001-PatchMatch-MacLean_et_al-Numba<br>Scene: cones<br>kernel size: 7x7<br>kernel spec: None<br>match:20<br>bad4: 0.12229201117240805<br>IMG res:450x375",
          "bad4: 0.09943998999485848<br>Experiment id:<br> ALG_005_EXP_001-PatchMatch-MacLean_et_al-Numba<br>Scene: cones<br>kernel size: 9x3<br>kernel spec: None<br>match:20<br>bad4: 0.09943998999485848<br>IMG res:450x375",
          "bad4: 0.10098244931423092<br>Experiment id:<br> ALG_005_EXP_001-PatchMatch-MacLean_et_al-Numba<br>Scene: cones<br>kernel size: 11x3<br>kernel spec: None<br>match:20<br>bad4: 0.10098244931423092<br>IMG res:450x375",
          "bad4: 0.10422022428192264<br>Experiment id:<br> ALG_005_EXP_001-PatchMatch-MacLean_et_al-Numba<br>Scene: cones<br>kernel size: 13x3<br>kernel spec: None<br>match:20<br>bad4: 0.10422022428192264<br>IMG res:450x375",
          "bad4: 0.10742325917485376<br>Experiment id:<br> ALG_005_EXP_001-PatchMatch-MacLean_et_al-Numba<br>Scene: cones<br>kernel size: 15x3<br>kernel spec: None<br>match:20<br>bad4: 0.10742325917485376<br>IMG res:450x375"
         ],
         "type": "scatter",
         "uid": "e894a758-f188-4e10-bb58-9642e8ae2abc",
         "x": [
          "1x1",
          "1x3",
          "1x5",
          "1x7",
          "3x1",
          "3x3",
          "3x5",
          "3x7",
          "5x1",
          "5x3",
          "5x5",
          "5x7",
          "7x1",
          "7x3",
          "7x5",
          "7x7",
          "9x3",
          "11x3",
          "13x3",
          "15x3"
         ],
         "y": {
          "dtype": "float64",
          "shape": [
           20
          ]
         }
        },
        {
         "hovertemplate": "%{text}",
         "name": "30",
         "showlegend": true,
         "text": [
          "bad4: 0.3402651362505732<br>Experiment id:<br> ALG_005_EXP_001-PatchMatch-MacLean_et_al-Numba<br>Scene: cones<br>kernel size: 1x1<br>kernel spec: None<br>match:30<br>bad4: 0.3402651362505732<br>IMG res:450x375",
          "bad4: 0.1373692036185262<br>Experiment id:<br> ALG_005_EXP_001-PatchMatch-MacLean_et_al-Numba<br>Scene: cones<br>kernel size: 1x3<br>kernel spec: None<br>match:30<br>bad4: 0.1373692036185262<br>IMG res:450x375",
          "bad4: 0.14390033767352667<br>Experiment id:<br> ALG_005_EXP_001-PatchMatch-MacLean_et_al-Numba<br>Scene: cones<br>kernel size: 1x5<br>kernel spec: None<br>match:30<br>bad4: 0.14390033767352667<br>IMG res:450x375",
          "bad4: 0.15516306991092646<br>Experiment id:<br> ALG_005_EXP_001-PatchMatch-MacLean_et_al-Numba<br>Scene: cones<br>kernel size: 1x7<br>kernel spec: None<br>match:30<br>bad4: 0.15516306991092646<br>IMG res:450x375",
          "bad4: 0.3856495699178745<br>Experiment id:<br> ALG_005_EXP_001-PatchMatch-MacLean_et_al-Numba<br>Scene: cones<br>kernel size: 3x1<br>kernel spec: None<br>match:30<br>bad4: 0.3856495699178745<br>IMG res:450x375",
          "bad4: 0.11833164264969498<br>Experiment id:<br> ALG_005_EXP_001-PatchMatch-MacLean_et_al-Numba<br>Scene: cones<br>kernel size: 3x3<br>kernel spec: None<br>match:30<br>bad4: 0.11833164264969498<br>IMG res:450x375",
          "bad4: 0.12748912635659992<br>Experiment id:<br> ALG_005_EXP_001-PatchMatch-MacLean_et_al-Numba<br>Scene: cones<br>kernel size: 3x5<br>kernel spec: None<br>match:30<br>bad4: 0.12748912635659992<br>IMG res:450x375",
          "bad4: 0.13800842099412194<br>Experiment id:<br> ALG_005_EXP_001-PatchMatch-MacLean_et_al-Numba<br>Scene: cones<br>kernel size: 3x7<br>kernel spec: None<br>match:30<br>bad4: 0.13800842099412194<br>IMG res:450x375",
          "bad4: 0.4019287689507108<br>Experiment id:<br> ALG_005_EXP_001-PatchMatch-MacLean_et_al-Numba<br>Scene: cones<br>kernel size: 5x1<br>kernel spec: None<br>match:30<br>bad4: 0.4019287689507108<br>IMG res:450x375",
          "bad4: 0.10979948028848158<br>Experiment id:<br> ALG_005_EXP_001-PatchMatch-MacLean_et_al-Numba<br>Scene: cones<br>kernel size: 5x3<br>kernel spec: None<br>match:30<br>bad4: 0.10979948028848158<br>IMG res:450x375",
          "bad4: 0.12111779664549838<br>Experiment id:<br> ALG_005_EXP_001-PatchMatch-MacLean_et_al-Numba<br>Scene: cones<br>kernel size: 5x5<br>kernel spec: None<br>match:30<br>bad4: 0.12111779664549838<br>IMG res:450x375",
          "bad4: 0.13016411211316928<br>Experiment id:<br> ALG_005_EXP_001-PatchMatch-MacLean_et_al-Numba<br>Scene: cones<br>kernel size: 5x7<br>kernel spec: None<br>match:30<br>bad4: 0.13016411211316928<br>IMG res:450x375",
          "bad4: 0.4159637591540097<br>Experiment id:<br> ALG_005_EXP_001-PatchMatch-MacLean_et_al-Numba<br>Scene: cones<br>kernel size: 7x1<br>kernel spec: None<br>match:30<br>bad4: 0.4159637591540097<br>IMG res:450x375",
          "bad4: 0.108250072954157<br>Experiment id:<br> ALG_005_EXP_001-PatchMatch-MacLean_et_al-Numba<br>Scene: cones<br>kernel size: 7x3<br>kernel spec: None<br>match:30<br>bad4: 0.108250072954157<br>IMG res:450x375",
          "bad4: 0.1178174895432375<br>Experiment id:<br> ALG_005_EXP_001-PatchMatch-MacLean_et_al-Numba<br>Scene: cones<br>kernel size: 7x5<br>kernel spec: None<br>match:30<br>bad4: 0.1178174895432375<br>IMG res:450x375",
          "bad4: 0.12650250823339773<br>Experiment id:<br> ALG_005_EXP_001-PatchMatch-MacLean_et_al-Numba<br>Scene: cones<br>kernel size: 7x7<br>kernel spec: None<br>match:30<br>bad4: 0.12650250823339773<br>IMG res:450x375",
          "bad4: 0.10638800494698664<br>Experiment id:<br> ALG_005_EXP_001-PatchMatch-MacLean_et_al-Numba<br>Scene: cones<br>kernel size: 9x3<br>kernel spec: None<br>match:30<br>bad4: 0.10638800494698664<br>IMG res:450x375",
          "bad4: 0.108792018120423<br>Experiment id:<br> ALG_005_EXP_001-PatchMatch-MacLean_et_al-Numba<br>Scene: cones<br>kernel size: 11x3<br>kernel spec: None<br>match:30<br>bad4: 0.108792018120423<br>IMG res:450x375",
          "bad4: 0.1100287647819018<br>Experiment id:<br> ALG_005_EXP_001-PatchMatch-MacLean_et_al-Numba<br>Scene: cones<br>kernel size: 13x3<br>kernel spec: None<br>match:30<br>bad4: 0.1100287647819018<br>IMG res:450x375",
          "bad4: 0.11347498019815737<br>Experiment id:<br> ALG_005_EXP_001-PatchMatch-MacLean_et_al-Numba<br>Scene: cones<br>kernel size: 15x3<br>kernel spec: None<br>match:30<br>bad4: 0.11347498019815737<br>IMG res:450x375"
         ],
         "type": "scatter",
         "uid": "0d106044-353e-4599-ba07-4841d3739e87",
         "x": [
          "1x1",
          "1x3",
          "1x5",
          "1x7",
          "3x1",
          "3x3",
          "3x5",
          "3x7",
          "5x1",
          "5x3",
          "5x5",
          "5x7",
          "7x1",
          "7x3",
          "7x5",
          "7x7",
          "9x3",
          "11x3",
          "13x3",
          "15x3"
         ],
         "y": {
          "dtype": "float64",
          "shape": [
           20
          ]
         }
        },
        {
         "hovertemplate": "%{text}",
         "name": "40",
         "showlegend": true,
         "text": [
          "bad4: 0.3535497408390423<br>Experiment id:<br> ALG_005_EXP_001-PatchMatch-MacLean_et_al-Numba<br>Scene: cones<br>kernel size: 1x1<br>kernel spec: None<br>match:40<br>bad4: 0.3535497408390423<br>IMG res:450x375",
          "bad4: 0.14783986215138334<br>Experiment id:<br> ALG_005_EXP_001-PatchMatch-MacLean_et_al-Numba<br>Scene: cones<br>kernel size: 1x3<br>kernel spec: None<br>match:40<br>bad4: 0.14783986215138334<br>IMG res:450x375",
          "bad4: 0.1551700179258786<br>Experiment id:<br> ALG_005_EXP_001-PatchMatch-MacLean_et_al-Numba<br>Scene: cones<br>kernel size: 1x5<br>kernel spec: None<br>match:40<br>bad4: 0.1551700179258786<br>IMG res:450x375",
          "bad4: 0.16406347706460264<br>Experiment id:<br> ALG_005_EXP_001-PatchMatch-MacLean_et_al-Numba<br>Scene: cones<br>kernel size: 1x7<br>kernel spec: None<br>match:40<br>bad4: 0.16406347706460264<br>IMG res:450x375",
          "bad4: 0.4023664938926949<br>Experiment id:<br> ALG_005_EXP_001-PatchMatch-MacLean_et_al-Numba<br>Scene: cones<br>kernel size: 3x1<br>kernel spec: None<br>match:40<br>bad4: 0.4023664938926949<br>IMG res:450x375",
          "bad4: 0.13158845517835555<br>Experiment id:<br> ALG_005_EXP_001-PatchMatch-MacLean_et_al-Numba<br>Scene: cones<br>kernel size: 3x3<br>kernel spec: None<br>match:40<br>bad4: 0.13158845517835555<br>IMG res:450x375",
          "bad4: 0.1405513944666009<br>Experiment id:<br> ALG_005_EXP_001-PatchMatch-MacLean_et_al-Numba<br>Scene: cones<br>kernel size: 3x5<br>kernel spec: None<br>match:40<br>bad4: 0.1405513944666009<br>IMG res:450x375",
          "bad4: 0.14776343398690994<br>Experiment id:<br> ALG_005_EXP_001-PatchMatch-MacLean_et_al-Numba<br>Scene: cones<br>kernel size: 3x7<br>kernel spec: None<br>match:40<br>bad4: 0.14776343398690994<br>IMG res:450x375",
          "bad4: 0.42078568153078666<br>Experiment id:<br> ALG_005_EXP_001-PatchMatch-MacLean_et_al-Numba<br>Scene: cones<br>kernel size: 5x1<br>kernel spec: None<br>match:40<br>bad4: 0.42078568153078666<br>IMG res:450x375",
          "bad4: 0.12054805941942387<br>Experiment id:<br> ALG_005_EXP_001-PatchMatch-MacLean_et_al-Numba<br>Scene: cones<br>kernel size: 5x3<br>kernel spec: None<br>match:40<br>bad4: 0.12054805941942387<br>IMG res:450x375",
          "bad4: 0.131234106415797<br>Experiment id:<br> ALG_005_EXP_001-PatchMatch-MacLean_et_al-Numba<br>Scene: cones<br>kernel size: 5x5<br>kernel spec: None<br>match:40<br>bad4: 0.131234106415797<br>IMG res:450x375",
          "bad4: 0.1395647763433987<br>Experiment id:<br> ALG_005_EXP_001-PatchMatch-MacLean_et_al-Numba<br>Scene: cones<br>kernel size: 5x7<br>kernel spec: None<br>match:40<br>bad4: 0.1395647763433987<br>IMG res:450x375",
          "bad4: 0.4308950432861332<br>Experiment id:<br> ALG_005_EXP_001-PatchMatch-MacLean_et_al-Numba<br>Scene: cones<br>kernel size: 7x1<br>kernel spec: None<br>match:40<br>bad4: 0.4308950432861332<br>IMG res:450x375",
          "bad4: 0.11803287800675348<br>Experiment id:<br> ALG_005_EXP_001-PatchMatch-MacLean_et_al-Numba<br>Scene: cones<br>kernel size: 7x3<br>kernel spec: None<br>match:40<br>bad4: 0.11803287800675348<br>IMG res:450x375",
          "bad4: 0.12796853938829678<br>Experiment id:<br> ALG_005_EXP_001-PatchMatch-MacLean_et_al-Numba<br>Scene: cones<br>kernel size: 7x5<br>kernel spec: None<br>match:40<br>bad4: 0.12796853938829678<br>IMG res:450x375",
          "bad4: 0.13819601739782944<br>Experiment id:<br> ALG_005_EXP_001-PatchMatch-MacLean_et_al-Numba<br>Scene: cones<br>kernel size: 7x7<br>kernel spec: None<br>match:40<br>bad4: 0.13819601739782944<br>IMG res:450x375",
          "bad4: 0.1166363270013757<br>Experiment id:<br> ALG_005_EXP_001-PatchMatch-MacLean_et_al-Numba<br>Scene: cones<br>kernel size: 9x3<br>kernel spec: None<br>match:40<br>bad4: 0.1166363270013757<br>IMG res:450x375",
          "bad4: 0.11824826647026945<br>Experiment id:<br> ALG_005_EXP_001-PatchMatch-MacLean_et_al-Numba<br>Scene: cones<br>kernel size: 11x3<br>kernel spec: None<br>match:40<br>bad4: 0.11824826647026945<br>IMG res:450x375",
          "bad4: 0.11904728818976418<br>Experiment id:<br> ALG_005_EXP_001-PatchMatch-MacLean_et_al-Numba<br>Scene: cones<br>kernel size: 13x3<br>kernel spec: None<br>match:40<br>bad4: 0.11904728818976418<br>IMG res:450x375",
          "bad4: 0.122507399635924<br>Experiment id:<br> ALG_005_EXP_001-PatchMatch-MacLean_et_al-Numba<br>Scene: cones<br>kernel size: 15x3<br>kernel spec: None<br>match:40<br>bad4: 0.122507399635924<br>IMG res:450x375"
         ],
         "type": "scatter",
         "uid": "81ac2bdb-7675-4bf9-97b9-93c2bed9a903",
         "x": [
          "1x1",
          "1x3",
          "1x5",
          "1x7",
          "3x1",
          "3x3",
          "3x5",
          "3x7",
          "5x1",
          "5x3",
          "5x5",
          "5x7",
          "7x1",
          "7x3",
          "7x5",
          "7x7",
          "9x3",
          "11x3",
          "13x3",
          "15x3"
         ],
         "y": {
          "dtype": "float64",
          "shape": [
           20
          ]
         }
        },
        {
         "hovertemplate": "%{text}",
         "name": "50",
         "showlegend": true,
         "text": [
          "bad4: 0.3715589955949585<br>Experiment id:<br> ALG_005_EXP_001-PatchMatch-MacLean_et_al-Numba<br>Scene: cones<br>kernel size: 1x1<br>kernel spec: None<br>match:50<br>bad4: 0.3715589955949585<br>IMG res:450x375",
          "bad4: 0.16022817281102789<br>Experiment id:<br> ALG_005_EXP_001-PatchMatch-MacLean_et_al-Numba<br>Scene: cones<br>kernel size: 1x3<br>kernel spec: None<br>match:50<br>bad4: 0.16022817281102789<br>IMG res:450x375",
          "bad4: 0.16574489668301767<br>Experiment id:<br> ALG_005_EXP_001-PatchMatch-MacLean_et_al-Numba<br>Scene: cones<br>kernel size: 1x5<br>kernel spec: None<br>match:50<br>bad4: 0.16574489668301767<br>IMG res:450x375",
          "bad4: 0.17764684629601324<br>Experiment id:<br> ALG_005_EXP_001-PatchMatch-MacLean_et_al-Numba<br>Scene: cones<br>kernel size: 1x7<br>kernel spec: None<br>match:50<br>bad4: 0.17764684629601324<br>IMG res:450x375",
          "bad4: 0.4208968497700207<br>Experiment id:<br> ALG_005_EXP_001-PatchMatch-MacLean_et_al-Numba<br>Scene: cones<br>kernel size: 3x1<br>kernel spec: None<br>match:50<br>bad4: 0.4208968497700207<br>IMG res:450x375",
          "bad4: 0.14429637452579794<br>Experiment id:<br> ALG_005_EXP_001-PatchMatch-MacLean_et_al-Numba<br>Scene: cones<br>kernel size: 3x3<br>kernel spec: None<br>match:50<br>bad4: 0.14429637452579794<br>IMG res:450x375",
          "bad4: 0.1521684754665592<br>Experiment id:<br> ALG_005_EXP_001-PatchMatch-MacLean_et_al-Numba<br>Scene: cones<br>kernel size: 3x5<br>kernel spec: None<br>match:50<br>bad4: 0.1521684754665592<br>IMG res:450x375",
          "bad4: 0.1613120631435599<br>Experiment id:<br> ALG_005_EXP_001-PatchMatch-MacLean_et_al-Numba<br>Scene: cones<br>kernel size: 3x7<br>kernel spec: None<br>match:50<br>bad4: 0.1613120631435599<br>IMG res:450x375",
          "bad4: 0.44019148729208063<br>Experiment id:<br> ALG_005_EXP_001-PatchMatch-MacLean_et_al-Numba<br>Scene: cones<br>kernel size: 5x1<br>kernel spec: None<br>match:50<br>bad4: 0.44019148729208063<br>IMG res:450x375",
          "bad4: 0.13468726984700471<br>Experiment id:<br> ALG_005_EXP_001-PatchMatch-MacLean_et_al-Numba<br>Scene: cones<br>kernel size: 5x3<br>kernel spec: None<br>match:50<br>bad4: 0.13468726984700471<br>IMG res:450x375",
          "bad4: 0.14717285271597905<br>Experiment id:<br> ALG_005_EXP_001-PatchMatch-MacLean_et_al-Numba<br>Scene: cones<br>kernel size: 5x5<br>kernel spec: None<br>match:50<br>bad4: 0.14717285271597905<br>IMG res:450x375",
          "bad4: 0.15576059919680948<br>Experiment id:<br> ALG_005_EXP_001-PatchMatch-MacLean_et_al-Numba<br>Scene: cones<br>kernel size: 5x7<br>kernel spec: None<br>match:50<br>bad4: 0.15576059919680948<br>IMG res:450x375",
          "bad4: 0.4475077470366716<br>Experiment id:<br> ALG_005_EXP_001-PatchMatch-MacLean_et_al-Numba<br>Scene: cones<br>kernel size: 7x1<br>kernel spec: None<br>match:50<br>bad4: 0.4475077470366716<br>IMG res:450x375",
          "bad4: 0.13447882939844086<br>Experiment id:<br> ALG_005_EXP_001-PatchMatch-MacLean_et_al-Numba<br>Scene: cones<br>kernel size: 7x3<br>kernel spec: None<br>match:50<br>bad4: 0.13447882939844086<br>IMG res:450x375",
          "bad4: 0.144351958645415<br>Experiment id:<br> ALG_005_EXP_001-PatchMatch-MacLean_et_al-Numba<br>Scene: cones<br>kernel size: 7x5<br>kernel spec: None<br>match:50<br>bad4: 0.144351958645415<br>IMG res:450x375",
          "bad4: 0.15457248863999554<br>Experiment id:<br> ALG_005_EXP_001-PatchMatch-MacLean_et_al-Numba<br>Scene: cones<br>kernel size: 7x7<br>kernel spec: None<br>match:50<br>bad4: 0.15457248863999554<br>IMG res:450x375",
          "bad4: 0.1331031224379195<br>Experiment id:<br> ALG_005_EXP_001-PatchMatch-MacLean_et_al-Numba<br>Scene: cones<br>kernel size: 9x3<br>kernel spec: None<br>match:50<br>bad4: 0.1331031224379195<br>IMG res:450x375",
          "bad4: 0.13398552033683978<br>Experiment id:<br> ALG_005_EXP_001-PatchMatch-MacLean_et_al-Numba<br>Scene: cones<br>kernel size: 11x3<br>kernel spec: None<br>match:50<br>bad4: 0.13398552033683978<br>IMG res:450x375",
          "bad4: 0.13460389366757916<br>Experiment id:<br> ALG_005_EXP_001-PatchMatch-MacLean_et_al-Numba<br>Scene: cones<br>kernel size: 13x3<br>kernel spec: None<br>match:50<br>bad4: 0.13460389366757916<br>IMG res:450x375",
          "bad4: 0.13810569320345178<br>Experiment id:<br> ALG_005_EXP_001-PatchMatch-MacLean_et_al-Numba<br>Scene: cones<br>kernel size: 15x3<br>kernel spec: None<br>match:50<br>bad4: 0.13810569320345178<br>IMG res:450x375"
         ],
         "type": "scatter",
         "uid": "fd35db0d-7f92-4a49-9a0f-970e619b4187",
         "x": [
          "1x1",
          "1x3",
          "1x5",
          "1x7",
          "3x1",
          "3x3",
          "3x5",
          "3x7",
          "5x1",
          "5x3",
          "5x5",
          "5x7",
          "7x1",
          "7x3",
          "7x5",
          "7x7",
          "9x3",
          "11x3",
          "13x3",
          "15x3"
         ],
         "y": {
          "dtype": "float64",
          "shape": [
           20
          ]
         }
        },
        {
         "hovertemplate": "%{text}",
         "name": "60",
         "showlegend": true,
         "text": [
          "bad4: 0.3935147228436836<br>Experiment id:<br> ALG_005_EXP_001-PatchMatch-MacLean_et_al-Numba<br>Scene: cones<br>kernel size: 1x1<br>kernel spec: None<br>match:60<br>bad4: 0.3935147228436836<br>IMG res:450x375",
          "bad4: 0.17898781318177398<br>Experiment id:<br> ALG_005_EXP_001-PatchMatch-MacLean_et_al-Numba<br>Scene: cones<br>kernel size: 1x3<br>kernel spec: None<br>match:60<br>bad4: 0.17898781318177398<br>IMG res:450x375",
          "bad4: 0.18512985839945528<br>Experiment id:<br> ALG_005_EXP_001-PatchMatch-MacLean_et_al-Numba<br>Scene: cones<br>kernel size: 1x5<br>kernel spec: None<br>match:60<br>bad4: 0.18512985839945528<br>IMG res:450x375",
          "bad4: 0.19590622959020607<br>Experiment id:<br> ALG_005_EXP_001-PatchMatch-MacLean_et_al-Numba<br>Scene: cones<br>kernel size: 1x7<br>kernel spec: None<br>match:60<br>bad4: 0.19590622959020607<br>IMG res:450x375",
          "bad4: 0.4433389380653947<br>Experiment id:<br> ALG_005_EXP_001-PatchMatch-MacLean_et_al-Numba<br>Scene: cones<br>kernel size: 3x1<br>kernel spec: None<br>match:60<br>bad4: 0.4433389380653947<br>IMG res:450x375",
          "bad4: 0.15965148757000125<br>Experiment id:<br> ALG_005_EXP_001-PatchMatch-MacLean_et_al-Numba<br>Scene: cones<br>kernel size: 3x3<br>kernel spec: None<br>match:60<br>bad4: 0.15965148757000125<br>IMG res:450x375",
          "bad4: 0.16758612064533165<br>Experiment id:<br> ALG_005_EXP_001-PatchMatch-MacLean_et_al-Numba<br>Scene: cones<br>kernel size: 3x5<br>kernel spec: None<br>match:60<br>bad4: 0.16758612064533165<br>IMG res:450x375",
          "bad4: 0.1765073718438642<br>Experiment id:<br> ALG_005_EXP_001-PatchMatch-MacLean_et_al-Numba<br>Scene: cones<br>kernel size: 3x7<br>kernel spec: None<br>match:60<br>bad4: 0.1765073718438642<br>IMG res:450x375",
          "bad4: 0.4592290482609119<br>Experiment id:<br> ALG_005_EXP_001-PatchMatch-MacLean_et_al-Numba<br>Scene: cones<br>kernel size: 5x1<br>kernel spec: None<br>match:60<br>bad4: 0.4592290482609119<br>IMG res:450x375",
          "bad4: 0.1525853563636869<br>Experiment id:<br> ALG_005_EXP_001-PatchMatch-MacLean_et_al-Numba<br>Scene: cones<br>kernel size: 5x3<br>kernel spec: None<br>match:60<br>bad4: 0.1525853563636869<br>IMG res:450x375",
          "bad4: 0.16330614343482067<br>Experiment id:<br> ALG_005_EXP_001-PatchMatch-MacLean_et_al-Numba<br>Scene: cones<br>kernel size: 5x5<br>kernel spec: None<br>match:60<br>bad4: 0.16330614343482067<br>IMG res:450x375",
          "bad4: 0.17293609215847033<br>Experiment id:<br> ALG_005_EXP_001-PatchMatch-MacLean_et_al-Numba<br>Scene: cones<br>kernel size: 5x7<br>kernel spec: None<br>match:60<br>bad4: 0.17293609215847033<br>IMG res:450x375",
          "bad4: 0.46557953392715706<br>Experiment id:<br> ALG_005_EXP_001-PatchMatch-MacLean_et_al-Numba<br>Scene: cones<br>kernel size: 7x1<br>kernel spec: None<br>match:60<br>bad4: 0.46557953392715706<br>IMG res:450x375",
          "bad4: 0.14863193585592596<br>Experiment id:<br> ALG_005_EXP_001-PatchMatch-MacLean_et_al-Numba<br>Scene: cones<br>kernel size: 7x3<br>kernel spec: None<br>match:60<br>bad4: 0.14863193585592596<br>IMG res:450x375",
          "bad4: 0.15915817850840014<br>Experiment id:<br> ALG_005_EXP_001-PatchMatch-MacLean_et_al-Numba<br>Scene: cones<br>kernel size: 7x5<br>kernel spec: None<br>match:60<br>bad4: 0.15915817850840014<br>IMG res:450x375",
          "bad4: 0.16968442116087434<br>Experiment id:<br> ALG_005_EXP_001-PatchMatch-MacLean_et_al-Numba<br>Scene: cones<br>kernel size: 7x7<br>kernel spec: None<br>match:60<br>bad4: 0.16968442116087434<br>IMG res:450x375",
          "bad4: 0.1485694037213568<br>Experiment id:<br> ALG_005_EXP_001-PatchMatch-MacLean_et_al-Numba<br>Scene: cones<br>kernel size: 9x3<br>kernel spec: None<br>match:60<br>bad4: 0.1485694037213568<br>IMG res:450x375",
          "bad4: 0.14744382529911204<br>Experiment id:<br> ALG_005_EXP_001-PatchMatch-MacLean_et_al-Numba<br>Scene: cones<br>kernel size: 11x3<br>kernel spec: None<br>match:60<br>bad4: 0.14744382529911204<br>IMG res:450x375",
          "bad4: 0.14988952656226115<br>Experiment id:<br> ALG_005_EXP_001-PatchMatch-MacLean_et_al-Numba<br>Scene: cones<br>kernel size: 13x3<br>kernel spec: None<br>match:60<br>bad4: 0.14988952656226115<br>IMG res:450x375",
          "bad4: 0.15242555201978794<br>Experiment id:<br> ALG_005_EXP_001-PatchMatch-MacLean_et_al-Numba<br>Scene: cones<br>kernel size: 15x3<br>kernel spec: None<br>match:60<br>bad4: 0.15242555201978794<br>IMG res:450x375"
         ],
         "type": "scatter",
         "uid": "ff40052a-576b-4d8c-ab88-3947f3bfa349",
         "x": [
          "1x1",
          "1x3",
          "1x5",
          "1x7",
          "3x1",
          "3x3",
          "3x5",
          "3x7",
          "5x1",
          "5x3",
          "5x5",
          "5x7",
          "7x1",
          "7x3",
          "7x5",
          "7x7",
          "9x3",
          "11x3",
          "13x3",
          "15x3"
         ],
         "y": {
          "dtype": "float64",
          "shape": [
           20
          ]
         }
        },
        {
         "hovertemplate": "%{text}",
         "name": "70",
         "showlegend": true,
         "text": [
          "bad4: 0.4018176007114767<br>Experiment id:<br> ALG_005_EXP_001-PatchMatch-MacLean_et_al-Numba<br>Scene: cones<br>kernel size: 1x1<br>kernel spec: None<br>match:70<br>bad4: 0.4018176007114767<br>IMG res:450x375",
          "bad4: 0.19421786195683893<br>Experiment id:<br> ALG_005_EXP_001-PatchMatch-MacLean_et_al-Numba<br>Scene: cones<br>kernel size: 1x3<br>kernel spec: None<br>match:70<br>bad4: 0.19421786195683893<br>IMG res:450x375",
          "bad4: 0.2034795658880258<br>Experiment id:<br> ALG_005_EXP_001-PatchMatch-MacLean_et_al-Numba<br>Scene: cones<br>kernel size: 1x5<br>kernel spec: None<br>match:70<br>bad4: 0.2034795658880258<br>IMG res:450x375",
          "bad4: 0.2126856856995956<br>Experiment id:<br> ALG_005_EXP_001-PatchMatch-MacLean_et_al-Numba<br>Scene: cones<br>kernel size: 1x7<br>kernel spec: None<br>match:70<br>bad4: 0.2126856856995956<br>IMG res:450x375",
          "bad4: 0.44633353250976204<br>Experiment id:<br> ALG_005_EXP_001-PatchMatch-MacLean_et_al-Numba<br>Scene: cones<br>kernel size: 3x1<br>kernel spec: None<br>match:70<br>bad4: 0.44633353250976204<br>IMG res:450x375",
          "bad4: 0.17895307310701333<br>Experiment id:<br> ALG_005_EXP_001-PatchMatch-MacLean_et_al-Numba<br>Scene: cones<br>kernel size: 3x3<br>kernel spec: None<br>match:70<br>bad4: 0.17895307310701333<br>IMG res:450x375",
          "bad4: 0.1872490029598544<br>Experiment id:<br> ALG_005_EXP_001-PatchMatch-MacLean_et_al-Numba<br>Scene: cones<br>kernel size: 3x5<br>kernel spec: None<br>match:70<br>bad4: 0.1872490029598544<br>IMG res:450x375",
          "bad4: 0.1941900698970304<br>Experiment id:<br> ALG_005_EXP_001-PatchMatch-MacLean_et_al-Numba<br>Scene: cones<br>kernel size: 3x7<br>kernel spec: None<br>match:70<br>bad4: 0.1941900698970304<br>IMG res:450x375",
          "bad4: 0.4648152522824229<br>Experiment id:<br> ALG_005_EXP_001-PatchMatch-MacLean_et_al-Numba<br>Scene: cones<br>kernel size: 5x1<br>kernel spec: None<br>match:70<br>bad4: 0.4648152522824229<br>IMG res:450x375",
          "bad4: 0.1762155552158748<br>Experiment id:<br> ALG_005_EXP_001-PatchMatch-MacLean_et_al-Numba<br>Scene: cones<br>kernel size: 5x3<br>kernel spec: None<br>match:70<br>bad4: 0.1762155552158748<br>IMG res:450x375",
          "bad4: 0.1834623348109445<br>Experiment id:<br> ALG_005_EXP_001-PatchMatch-MacLean_et_al-Numba<br>Scene: cones<br>kernel size: 5x5<br>kernel spec: None<br>match:70<br>bad4: 0.1834623348109445<br>IMG res:450x375",
          "bad4: 0.1906048941817323<br>Experiment id:<br> ALG_005_EXP_001-PatchMatch-MacLean_et_al-Numba<br>Scene: cones<br>kernel size: 5x7<br>kernel spec: None<br>match:70<br>bad4: 0.1906048941817323<br>IMG res:450x375",
          "bad4: 0.4720133957728277<br>Experiment id:<br> ALG_005_EXP_001-PatchMatch-MacLean_et_al-Numba<br>Scene: cones<br>kernel size: 7x1<br>kernel spec: None<br>match:70<br>bad4: 0.4720133957728277<br>IMG res:450x375",
          "bad4: 0.16953851284687965<br>Experiment id:<br> ALG_005_EXP_001-PatchMatch-MacLean_et_al-Numba<br>Scene: cones<br>kernel size: 7x3<br>kernel spec: None<br>match:70<br>bad4: 0.16953851284687965<br>IMG res:450x375",
          "bad4: 0.18006475549935386<br>Experiment id:<br> ALG_005_EXP_001-PatchMatch-MacLean_et_al-Numba<br>Scene: cones<br>kernel size: 7x5<br>kernel spec: None<br>match:70<br>bad4: 0.18006475549935386<br>IMG res:450x375",
          "bad4: 0.18811055681391825<br>Experiment id:<br> ALG_005_EXP_001-PatchMatch-MacLean_et_al-Numba<br>Scene: cones<br>kernel size: 7x7<br>kernel spec: None<br>match:70<br>bad4: 0.18811055681391825<br>IMG res:450x375",
          "bad4: 0.1664952822978475<br>Experiment id:<br> ALG_005_EXP_001-PatchMatch-MacLean_et_al-Numba<br>Scene: cones<br>kernel size: 9x3<br>kernel spec: None<br>match:70<br>bad4: 0.1664952822978475<br>IMG res:450x375",
          "bad4: 0.1672387198977252<br>Experiment id:<br> ALG_005_EXP_001-PatchMatch-MacLean_et_al-Numba<br>Scene: cones<br>kernel size: 11x3<br>kernel spec: None<br>match:70<br>bad4: 0.1672387198977252<br>IMG res:450x375",
          "bad4: 0.1682739741255923<br>Experiment id:<br> ALG_005_EXP_001-PatchMatch-MacLean_et_al-Numba<br>Scene: cones<br>kernel size: 13x3<br>kernel spec: None<br>match:70<br>bad4: 0.1682739741255923<br>IMG res:450x375",
          "bad4: 0.16942039659269348<br>Experiment id:<br> ALG_005_EXP_001-PatchMatch-MacLean_et_al-Numba<br>Scene: cones<br>kernel size: 15x3<br>kernel spec: None<br>match:70<br>bad4: 0.16942039659269348<br>IMG res:450x375"
         ],
         "type": "scatter",
         "uid": "0ecca8e5-b250-4152-ab33-06d7341e4d7f",
         "x": [
          "1x1",
          "1x3",
          "1x5",
          "1x7",
          "3x1",
          "3x3",
          "3x5",
          "3x7",
          "5x1",
          "5x3",
          "5x5",
          "5x7",
          "7x1",
          "7x3",
          "7x5",
          "7x7",
          "9x3",
          "11x3",
          "13x3",
          "15x3"
         ],
         "y": {
          "dtype": "float64",
          "shape": [
           20
          ]
         }
        },
        {
         "hovertemplate": "%{text}",
         "name": "80",
         "showlegend": true,
         "text": [
          "bad4: 0.41178105415282856<br>Experiment id:<br> ALG_005_EXP_001-PatchMatch-MacLean_et_al-Numba<br>Scene: cones<br>kernel size: 1x1<br>kernel spec: None<br>match:80<br>bad4: 0.41178105415282856<br>IMG res:450x375",
          "bad4: 0.2103858927504412<br>Experiment id:<br> ALG_005_EXP_001-PatchMatch-MacLean_et_al-Numba<br>Scene: cones<br>kernel size: 1x3<br>kernel spec: None<br>match:80<br>bad4: 0.2103858927504412<br>IMG res:450x375",
          "bad4: 0.21792448897350028<br>Experiment id:<br> ALG_005_EXP_001-PatchMatch-MacLean_et_al-Numba<br>Scene: cones<br>kernel size: 1x5<br>kernel spec: None<br>match:80<br>bad4: 0.21792448897350028<br>IMG res:450x375",
          "bad4: 0.2273807373233467<br>Experiment id:<br> ALG_005_EXP_001-PatchMatch-MacLean_et_al-Numba<br>Scene: cones<br>kernel size: 1x7<br>kernel spec: None<br>match:80<br>bad4: 0.2273807373233467<br>IMG res:450x375",
          "bad4: 0.4532051192974168<br>Experiment id:<br> ALG_005_EXP_001-PatchMatch-MacLean_et_al-Numba<br>Scene: cones<br>kernel size: 3x1<br>kernel spec: None<br>match:80<br>bad4: 0.4532051192974168<br>IMG res:450x375",
          "bad4: 0.19257813042813668<br>Experiment id:<br> ALG_005_EXP_001-PatchMatch-MacLean_et_al-Numba<br>Scene: cones<br>kernel size: 3x3<br>kernel spec: None<br>match:80<br>bad4: 0.19257813042813668<br>IMG res:450x375",
          "bad4: 0.20013757069605212<br>Experiment id:<br> ALG_005_EXP_001-PatchMatch-MacLean_et_al-Numba<br>Scene: cones<br>kernel size: 3x5<br>kernel spec: None<br>match:80<br>bad4: 0.20013757069605212<br>IMG res:450x375",
          "bad4: 0.2076761669191112<br>Experiment id:<br> ALG_005_EXP_001-PatchMatch-MacLean_et_al-Numba<br>Scene: cones<br>kernel size: 3x7<br>kernel spec: None<br>match:80<br>bad4: 0.2076761669191112<br>IMG res:450x375",
          "bad4: 0.4690188013284605<br>Experiment id:<br> ALG_005_EXP_001-PatchMatch-MacLean_et_al-Numba<br>Scene: cones<br>kernel size: 5x1<br>kernel spec: None<br>match:80<br>bad4: 0.4690188013284605<br>IMG res:450x375",
          "bad4: 0.18710309464585967<br>Experiment id:<br> ALG_005_EXP_001-PatchMatch-MacLean_et_al-Numba<br>Scene: cones<br>kernel size: 5x3<br>kernel spec: None<br>match:80<br>bad4: 0.18710309464585967<br>IMG res:450x375",
          "bad4: 0.19589928157525394<br>Experiment id:<br> ALG_005_EXP_001-PatchMatch-MacLean_et_al-Numba<br>Scene: cones<br>kernel size: 5x5<br>kernel spec: None<br>match:80<br>bad4: 0.19589928157525394<br>IMG res:450x375",
          "bad4: 0.2031391131553715<br>Experiment id:<br> ALG_005_EXP_001-PatchMatch-MacLean_et_al-Numba<br>Scene: cones<br>kernel size: 5x7<br>kernel spec: None<br>match:80<br>bad4: 0.2031391131553715<br>IMG res:450x375",
          "bad4: 0.476529605491711<br>Experiment id:<br> ALG_005_EXP_001-PatchMatch-MacLean_et_al-Numba<br>Scene: cones<br>kernel size: 7x1<br>kernel spec: None<br>match:80<br>bad4: 0.476529605491711<br>IMG res:450x375",
          "bad4: 0.1848171977266095<br>Experiment id:<br> ALG_005_EXP_001-PatchMatch-MacLean_et_al-Numba<br>Scene: cones<br>kernel size: 7x3<br>kernel spec: None<br>match:80<br>bad4: 0.1848171977266095<br>IMG res:450x375",
          "bad4: 0.19359948862609952<br>Experiment id:<br> ALG_005_EXP_001-PatchMatch-MacLean_et_al-Numba<br>Scene: cones<br>kernel size: 7x5<br>kernel spec: None<br>match:80<br>bad4: 0.19359948862609952<br>IMG res:450x375",
          "bad4: 0.20204132679293527<br>Experiment id:<br> ALG_005_EXP_001-PatchMatch-MacLean_et_al-Numba<br>Scene: cones<br>kernel size: 7x7<br>kernel spec: None<br>match:80<br>bad4: 0.20204132679293527<br>IMG res:450x375",
          "bad4: 0.1832677903922849<br>Experiment id:<br> ALG_005_EXP_001-PatchMatch-MacLean_et_al-Numba<br>Scene: cones<br>kernel size: 9x3<br>kernel spec: None<br>match:80<br>bad4: 0.1832677903922849<br>IMG res:450x375",
          "bad4: 0.18308019398857747<br>Experiment id:<br> ALG_005_EXP_001-PatchMatch-MacLean_et_al-Numba<br>Scene: cones<br>kernel size: 11x3<br>kernel spec: None<br>match:80<br>bad4: 0.18308019398857747<br>IMG res:450x375",
          "bad4: 0.18493531398079568<br>Experiment id:<br> ALG_005_EXP_001-PatchMatch-MacLean_et_al-Numba<br>Scene: cones<br>kernel size: 13x3<br>kernel spec: None<br>match:80<br>bad4: 0.18493531398079568<br>IMG res:450x375",
          "bad4: 0.18559537540124788<br>Experiment id:<br> ALG_005_EXP_001-PatchMatch-MacLean_et_al-Numba<br>Scene: cones<br>kernel size: 15x3<br>kernel spec: None<br>match:80<br>bad4: 0.18559537540124788<br>IMG res:450x375"
         ],
         "type": "scatter",
         "uid": "05e2ff8d-546d-4d74-8f88-d6206e5dcc7f",
         "x": [
          "1x1",
          "1x3",
          "1x5",
          "1x7",
          "3x1",
          "3x3",
          "3x5",
          "3x7",
          "5x1",
          "5x3",
          "5x5",
          "5x7",
          "7x1",
          "7x3",
          "7x5",
          "7x7",
          "9x3",
          "11x3",
          "13x3",
          "15x3"
         ],
         "y": {
          "dtype": "float64",
          "shape": [
           20
          ]
         }
        },
        {
         "hovertemplate": "%{text}",
         "name": "90",
         "showlegend": true,
         "text": [
          "bad4: 0.4179092033406056<br>Experiment id:<br> ALG_005_EXP_001-PatchMatch-MacLean_et_al-Numba<br>Scene: cones<br>kernel size: 1x1<br>kernel spec: None<br>match:90<br>bad4: 0.4179092033406056<br>IMG res:450x375",
          "bad4: 0.22306602003807516<br>Experiment id:<br> ALG_005_EXP_001-PatchMatch-MacLean_et_al-Numba<br>Scene: cones<br>kernel size: 1x3<br>kernel spec: None<br>match:90<br>bad4: 0.22306602003807516<br>IMG res:450x375",
          "bad4: 0.2297778024818309<br>Experiment id:<br> ALG_005_EXP_001-PatchMatch-MacLean_et_al-Numba<br>Scene: cones<br>kernel size: 1x5<br>kernel spec: None<br>match:90<br>bad4: 0.2297778024818309<br>IMG res:450x375",
          "bad4: 0.24025540902964024<br>Experiment id:<br> ALG_005_EXP_001-PatchMatch-MacLean_et_al-Numba<br>Scene: cones<br>kernel size: 1x7<br>kernel spec: None<br>match:90<br>bad4: 0.24025540902964024<br>IMG res:450x375",
          "bad4: 0.4611467003876992<br>Experiment id:<br> ALG_005_EXP_001-PatchMatch-MacLean_et_al-Numba<br>Scene: cones<br>kernel size: 3x1<br>kernel spec: None<br>match:90<br>bad4: 0.4611467003876992<br>IMG res:450x375",
          "bad4: 0.20930895043286127<br>Experiment id:<br> ALG_005_EXP_001-PatchMatch-MacLean_et_al-Numba<br>Scene: cones<br>kernel size: 3x3<br>kernel spec: None<br>match:90<br>bad4: 0.20930895043286127<br>IMG res:450x375",
          "bad4: 0.21686144268582466<br>Experiment id:<br> ALG_005_EXP_001-PatchMatch-MacLean_et_al-Numba<br>Scene: cones<br>kernel size: 3x5<br>kernel spec: None<br>match:90<br>bad4: 0.21686144268582466<br>IMG res:450x375",
          "bad4: 0.2265539235440435<br>Experiment id:<br> ALG_005_EXP_001-PatchMatch-MacLean_et_al-Numba<br>Scene: cones<br>kernel size: 3x7<br>kernel spec: None<br>match:90<br>bad4: 0.2265539235440435<br>IMG res:450x375",
          "bad4: 0.4724997568194767<br>Experiment id:<br> ALG_005_EXP_001-PatchMatch-MacLean_et_al-Numba<br>Scene: cones<br>kernel size: 5x1<br>kernel spec: None<br>match:90<br>bad4: 0.4724997568194767<br>IMG res:450x375",
          "bad4: 0.20278476439281296<br>Experiment id:<br> ALG_005_EXP_001-PatchMatch-MacLean_et_al-Numba<br>Scene: cones<br>kernel size: 5x3<br>kernel spec: None<br>match:90<br>bad4: 0.20278476439281296<br>IMG res:450x375",
          "bad4: 0.2134013312396648<br>Experiment id:<br> ALG_005_EXP_001-PatchMatch-MacLean_et_al-Numba<br>Scene: cones<br>kernel size: 5x5<br>kernel spec: None<br>match:90<br>bad4: 0.2134013312396648<br>IMG res:450x375",
          "bad4: 0.22080096716368133<br>Experiment id:<br> ALG_005_EXP_001-PatchMatch-MacLean_et_al-Numba<br>Scene: cones<br>kernel size: 5x7<br>kernel spec: None<br>match:90<br>bad4: 0.22080096716368133<br>IMG res:450x375",
          "bad4: 0.4817406167058072<br>Experiment id:<br> ALG_005_EXP_001-PatchMatch-MacLean_et_al-Numba<br>Scene: cones<br>kernel size: 7x1<br>kernel spec: None<br>match:90<br>bad4: 0.4817406167058072<br>IMG res:450x375",
          "bad4: 0.1997415338437808<br>Experiment id:<br> ALG_005_EXP_001-PatchMatch-MacLean_et_al-Numba<br>Scene: cones<br>kernel size: 7x3<br>kernel spec: None<br>match:90<br>bad4: 0.1997415338437808<br>IMG res:450x375",
          "bad4: 0.20921862623848367<br>Experiment id:<br> ALG_005_EXP_001-PatchMatch-MacLean_et_al-Numba<br>Scene: cones<br>kernel size: 7x5<br>kernel spec: None<br>match:90<br>bad4: 0.20921862623848367<br>IMG res:450x375",
          "bad4: 0.2181676694968248<br>Experiment id:<br> ALG_005_EXP_001-PatchMatch-MacLean_et_al-Numba<br>Scene: cones<br>kernel size: 7x7<br>kernel spec: None<br>match:90<br>bad4: 0.2181676694968248<br>IMG res:450x375",
          "bad4: 0.19638564262190286<br>Experiment id:<br> ALG_005_EXP_001-PatchMatch-MacLean_et_al-Numba<br>Scene: cones<br>kernel size: 9x3<br>kernel spec: None<br>match:90<br>bad4: 0.19638564262190286<br>IMG res:450x375",
          "bad4: 0.19546155663326986<br>Experiment id:<br> ALG_005_EXP_001-PatchMatch-MacLean_et_al-Numba<br>Scene: cones<br>kernel size: 11x3<br>kernel spec: None<br>match:90<br>bad4: 0.19546155663326986<br>IMG res:450x375",
          "bad4: 0.1944818865250198<br>Experiment id:<br> ALG_005_EXP_001-PatchMatch-MacLean_et_al-Numba<br>Scene: cones<br>kernel size: 13x3<br>kernel spec: None<br>match:90<br>bad4: 0.1944818865250198<br>IMG res:450x375",
          "bad4: 0.19444714645025915<br>Experiment id:<br> ALG_005_EXP_001-PatchMatch-MacLean_et_al-Numba<br>Scene: cones<br>kernel size: 15x3<br>kernel spec: None<br>match:90<br>bad4: 0.19444714645025915<br>IMG res:450x375"
         ],
         "type": "scatter",
         "uid": "6d8fa15f-a28e-4816-8e4f-083989eac6c4",
         "x": [
          "1x1",
          "1x3",
          "1x5",
          "1x7",
          "3x1",
          "3x3",
          "3x5",
          "3x7",
          "5x1",
          "5x3",
          "5x5",
          "5x7",
          "7x1",
          "7x3",
          "7x5",
          "7x7",
          "9x3",
          "11x3",
          "13x3",
          "15x3"
         ],
         "y": {
          "dtype": "float64",
          "shape": [
           20
          ]
         }
        },
        {
         "hovertemplate": "%{text}",
         "name": "100",
         "showlegend": true,
         "text": [
          "bad4: 0.42497533454692<br>Experiment id:<br> ALG_005_EXP_001-PatchMatch-MacLean_et_al-Numba<br>Scene: cones<br>kernel size: 1x1<br>kernel spec: None<br>match:100<br>bad4: 0.42497533454692<br>IMG res:450x375",
          "bad4: 0.2344538165446132<br>Experiment id:<br> ALG_005_EXP_001-PatchMatch-MacLean_et_al-Numba<br>Scene: cones<br>kernel size: 1x3<br>kernel spec: None<br>match:100<br>bad4: 0.2344538165446132<br>IMG res:450x375",
          "bad4: 0.241651960035018<br>Experiment id:<br> ALG_005_EXP_001-PatchMatch-MacLean_et_al-Numba<br>Scene: cones<br>kernel size: 1x5<br>kernel spec: None<br>match:100<br>bad4: 0.241651960035018<br>IMG res:450x375",
          "bad4: 0.2526228756444284<br>Experiment id:<br> ALG_005_EXP_001-PatchMatch-MacLean_et_al-Numba<br>Scene: cones<br>kernel size: 1x7<br>kernel spec: None<br>match:100<br>bad4: 0.2526228756444284<br>IMG res:450x375",
          "bad4: 0.4677195225324125<br>Experiment id:<br> ALG_005_EXP_001-PatchMatch-MacLean_et_al-Numba<br>Scene: cones<br>kernel size: 3x1<br>kernel spec: None<br>match:100<br>bad4: 0.4677195225324125<br>IMG res:450x375",
          "bad4: 0.2231841362922613<br>Experiment id:<br> ALG_005_EXP_001-PatchMatch-MacLean_et_al-Numba<br>Scene: cones<br>kernel size: 3x3<br>kernel spec: None<br>match:100<br>bad4: 0.2231841362922613<br>IMG res:450x375",
          "bad4: 0.2303822797826661<br>Experiment id:<br> ALG_005_EXP_001-PatchMatch-MacLean_et_al-Numba<br>Scene: cones<br>kernel size: 3x5<br>kernel spec: None<br>match:100<br>bad4: 0.2303822797826661<br>IMG res:450x375",
          "bad4: 0.2384975612467518<br>Experiment id:<br> ALG_005_EXP_001-PatchMatch-MacLean_et_al-Numba<br>Scene: cones<br>kernel size: 3x7<br>kernel spec: None<br>match:100<br>bad4: 0.2384975612467518<br>IMG res:450x375",
          "bad4: 0.4770090185234079<br>Experiment id:<br> ALG_005_EXP_001-PatchMatch-MacLean_et_al-Numba<br>Scene: cones<br>kernel size: 5x1<br>kernel spec: None<br>match:100<br>bad4: 0.4770090185234079<br>IMG res:450x375",
          "bad4: 0.21789669691369176<br>Experiment id:<br> ALG_005_EXP_001-PatchMatch-MacLean_et_al-Numba<br>Scene: cones<br>kernel size: 5x3<br>kernel spec: None<br>match:100<br>bad4: 0.21789669691369176<br>IMG res:450x375",
          "bad4: 0.2256923696899796<br>Experiment id:<br> ALG_005_EXP_001-PatchMatch-MacLean_et_al-Numba<br>Scene: cones<br>kernel size: 5x5<br>kernel spec: None<br>match:100<br>bad4: 0.2256923696899796<br>IMG res:450x375",
          "bad4: 0.2333421341522727<br>Experiment id:<br> ALG_005_EXP_001-PatchMatch-MacLean_et_al-Numba<br>Scene: cones<br>kernel size: 5x7<br>kernel spec: None<br>match:100<br>bad4: 0.2333421341522727<br>IMG res:450x375",
          "bad4: 0.4843669663577116<br>Experiment id:<br> ALG_005_EXP_001-PatchMatch-MacLean_et_al-Numba<br>Scene: cones<br>kernel size: 7x1<br>kernel spec: None<br>match:100<br>bad4: 0.4843669663577116<br>IMG res:450x375",
          "bad4: 0.21354029153870735<br>Experiment id:<br> ALG_005_EXP_001-PatchMatch-MacLean_et_al-Numba<br>Scene: cones<br>kernel size: 7x3<br>kernel spec: None<br>match:100<br>bad4: 0.21354029153870735<br>IMG res:450x375",
          "bad4: 0.2220794019148729<br>Experiment id:<br> ALG_005_EXP_001-PatchMatch-MacLean_et_al-Numba<br>Scene: cones<br>kernel size: 7x5<br>kernel spec: None<br>match:100<br>bad4: 0.2220794019148729<br>IMG res:450x375",
          "bad4: 0.23074357656017674<br>Experiment id:<br> ALG_005_EXP_001-PatchMatch-MacLean_et_al-Numba<br>Scene: cones<br>kernel size: 7x7<br>kernel spec: None<br>match:100<br>bad4: 0.23074357656017674<br>IMG res:450x375",
          "bad4: 0.21274126981921265<br>Experiment id:<br> ALG_005_EXP_001-PatchMatch-MacLean_et_al-Numba<br>Scene: cones<br>kernel size: 9x3<br>kernel spec: None<br>match:100<br>bad4: 0.21274126981921265<br>IMG res:450x375",
          "bad4: 0.2101357642121646<br>Experiment id:<br> ALG_005_EXP_001-PatchMatch-MacLean_et_al-Numba<br>Scene: cones<br>kernel size: 11x3<br>kernel spec: None<br>match:100<br>bad4: 0.2101357642121646<br>IMG res:450x375",
          "bad4: 0.20877395328154744<br>Experiment id:<br> ALG_005_EXP_001-PatchMatch-MacLean_et_al-Numba<br>Scene: cones<br>kernel size: 13x3<br>kernel spec: None<br>match:100<br>bad4: 0.20877395328154744<br>IMG res:450x375",
          "bad4: 0.20660617261648348<br>Experiment id:<br> ALG_005_EXP_001-PatchMatch-MacLean_et_al-Numba<br>Scene: cones<br>kernel size: 15x3<br>kernel spec: None<br>match:100<br>bad4: 0.20660617261648348<br>IMG res:450x375"
         ],
         "type": "scatter",
         "uid": "4bcfa03b-4666-4fa5-ba9c-0c109634db3b",
         "x": [
          "1x1",
          "1x3",
          "1x5",
          "1x7",
          "3x1",
          "3x3",
          "3x5",
          "3x7",
          "5x1",
          "5x3",
          "5x5",
          "5x7",
          "7x1",
          "7x3",
          "7x5",
          "7x7",
          "9x3",
          "11x3",
          "13x3",
          "15x3"
         ],
         "y": {
          "dtype": "float64",
          "shape": [
           20
          ]
         }
        },
        {
         "hovertemplate": "%{text}",
         "name": "110",
         "showlegend": true,
         "text": [
          "bad4: 0.4322707502466545<br>Experiment id:<br> ALG_005_EXP_001-PatchMatch-MacLean_et_al-Numba<br>Scene: cones<br>kernel size: 1x1<br>kernel spec: None<br>match:110<br>bad4: 0.4322707502466545<br>IMG res:450x375",
          "bad4: 0.2457096007670609<br>Experiment id:<br> ALG_005_EXP_001-PatchMatch-MacLean_et_al-Numba<br>Scene: cones<br>kernel size: 1x3<br>kernel spec: None<br>match:110<br>bad4: 0.2457096007670609<br>IMG res:450x375",
          "bad4: 0.2518308019398858<br>Experiment id:<br> ALG_005_EXP_001-PatchMatch-MacLean_et_al-Numba<br>Scene: cones<br>kernel size: 1x5<br>kernel spec: None<br>match:110<br>bad4: 0.2518308019398858<br>IMG res:450x375",
          "bad4: 0.26141906257382264<br>Experiment id:<br> ALG_005_EXP_001-PatchMatch-MacLean_et_al-Numba<br>Scene: cones<br>kernel size: 1x7<br>kernel spec: None<br>match:110<br>bad4: 0.26141906257382264<br>IMG res:450x375",
          "bad4: 0.4708044411711574<br>Experiment id:<br> ALG_005_EXP_001-PatchMatch-MacLean_et_al-Numba<br>Scene: cones<br>kernel size: 3x1<br>kernel spec: None<br>match:110<br>bad4: 0.4708044411711574<br>IMG res:450x375",
          "bad4: 0.2346344649333685<br>Experiment id:<br> ALG_005_EXP_001-PatchMatch-MacLean_et_al-Numba<br>Scene: cones<br>kernel size: 3x3<br>kernel spec: None<br>match:110<br>bad4: 0.2346344649333685<br>IMG res:450x375",
          "bad4: 0.24159637591540095<br>Experiment id:<br> ALG_005_EXP_001-PatchMatch-MacLean_et_al-Numba<br>Scene: cones<br>kernel size: 3x5<br>kernel spec: None<br>match:110<br>bad4: 0.24159637591540095<br>IMG res:450x375",
          "bad4: 0.2482317301946834<br>Experiment id:<br> ALG_005_EXP_001-PatchMatch-MacLean_et_al-Numba<br>Scene: cones<br>kernel size: 3x7<br>kernel spec: None<br>match:110<br>bad4: 0.2482317301946834<br>IMG res:450x375",
          "bad4: 0.4854508566902436<br>Experiment id:<br> ALG_005_EXP_001-PatchMatch-MacLean_et_al-Numba<br>Scene: cones<br>kernel size: 5x1<br>kernel spec: None<br>match:110<br>bad4: 0.4854508566902436<br>IMG res:450x375",
          "bad4: 0.22605366646749026<br>Experiment id:<br> ALG_005_EXP_001-PatchMatch-MacLean_et_al-Numba<br>Scene: cones<br>kernel size: 5x3<br>kernel spec: None<br>match:110<br>bad4: 0.22605366646749026<br>IMG res:450x375",
          "bad4: 0.23527368230896434<br>Experiment id:<br> ALG_005_EXP_001-PatchMatch-MacLean_et_al-Numba<br>Scene: cones<br>kernel size: 5x5<br>kernel spec: None<br>match:110<br>bad4: 0.23527368230896434<br>IMG res:450x375",
          "bad4: 0.24536914803440654<br>Experiment id:<br> ALG_005_EXP_001-PatchMatch-MacLean_et_al-Numba<br>Scene: cones<br>kernel size: 5x7<br>kernel spec: None<br>match:110<br>bad4: 0.24536914803440654<br>IMG res:450x375",
          "bad4: 0.4914817336686909<br>Experiment id:<br> ALG_005_EXP_001-PatchMatch-MacLean_et_al-Numba<br>Scene: cones<br>kernel size: 7x1<br>kernel spec: None<br>match:110<br>bad4: 0.4914817336686909<br>IMG res:450x375",
          "bad4: 0.2229340077539847<br>Experiment id:<br> ALG_005_EXP_001-PatchMatch-MacLean_et_al-Numba<br>Scene: cones<br>kernel size: 7x3<br>kernel spec: None<br>match:110<br>bad4: 0.2229340077539847<br>IMG res:450x375",
          "bad4: 0.23184136292261304<br>Experiment id:<br> ALG_005_EXP_001-PatchMatch-MacLean_et_al-Numba<br>Scene: cones<br>kernel size: 7x5<br>kernel spec: None<br>match:110<br>bad4: 0.23184136292261304<br>IMG res:450x375",
          "bad4: 0.2402901491044009<br>Experiment id:<br> ALG_005_EXP_001-PatchMatch-MacLean_et_al-Numba<br>Scene: cones<br>kernel size: 7x7<br>kernel spec: None<br>match:110<br>bad4: 0.2402901491044009<br>IMG res:450x375",
          "bad4: 0.22331614857635174<br>Experiment id:<br> ALG_005_EXP_001-PatchMatch-MacLean_et_al-Numba<br>Scene: cones<br>kernel size: 9x3<br>kernel spec: None<br>match:110<br>bad4: 0.22331614857635174<br>IMG res:450x375",
          "bad4: 0.22220446618401124<br>Experiment id:<br> ALG_005_EXP_001-PatchMatch-MacLean_et_al-Numba<br>Scene: cones<br>kernel size: 11x3<br>kernel spec: None<br>match:110<br>bad4: 0.22220446618401124<br>IMG res:450x375",
          "bad4: 0.22128732821033031<br>Experiment id:<br> ALG_005_EXP_001-PatchMatch-MacLean_et_al-Numba<br>Scene: cones<br>kernel size: 13x3<br>kernel spec: None<br>match:110<br>bad4: 0.22128732821033031<br>IMG res:450x375",
          "bad4: 0.21816072148187265<br>Experiment id:<br> ALG_005_EXP_001-PatchMatch-MacLean_et_al-Numba<br>Scene: cones<br>kernel size: 15x3<br>kernel spec: None<br>match:110<br>bad4: 0.21816072148187265<br>IMG res:450x375"
         ],
         "type": "scatter",
         "uid": "d09afaac-963f-4457-998d-1f560ae33095",
         "x": [
          "1x1",
          "1x3",
          "1x5",
          "1x7",
          "3x1",
          "3x3",
          "3x5",
          "3x7",
          "5x1",
          "5x3",
          "5x5",
          "5x7",
          "7x1",
          "7x3",
          "7x5",
          "7x7",
          "9x3",
          "11x3",
          "13x3",
          "15x3"
         ],
         "y": {
          "dtype": "float64",
          "shape": [
           20
          ]
         }
        }
       ],
       "_js2py_layoutDelta": {},
       "_js2py_pointsCallback": {},
       "_js2py_relayout": {},
       "_js2py_restyle": {},
       "_js2py_traceDeltas": {},
       "_js2py_update": {},
       "_layout": {
        "legend": {
         "title": {
          "text": "match"
         }
        },
        "template": {
         "data": {
          "bar": [
           {
            "error_x": {
             "color": "#2a3f5f"
            },
            "error_y": {
             "color": "#2a3f5f"
            },
            "marker": {
             "line": {
              "color": "#E5ECF6",
              "width": 0.5
             }
            },
            "type": "bar"
           }
          ],
          "barpolar": [
           {
            "marker": {
             "line": {
              "color": "#E5ECF6",
              "width": 0.5
             }
            },
            "type": "barpolar"
           }
          ],
          "carpet": [
           {
            "aaxis": {
             "endlinecolor": "#2a3f5f",
             "gridcolor": "white",
             "linecolor": "white",
             "minorgridcolor": "white",
             "startlinecolor": "#2a3f5f"
            },
            "baxis": {
             "endlinecolor": "#2a3f5f",
             "gridcolor": "white",
             "linecolor": "white",
             "minorgridcolor": "white",
             "startlinecolor": "#2a3f5f"
            },
            "type": "carpet"
           }
          ],
          "choropleth": [
           {
            "colorbar": {
             "outlinewidth": 0,
             "ticks": ""
            },
            "type": "choropleth"
           }
          ],
          "contour": [
           {
            "colorbar": {
             "outlinewidth": 0,
             "ticks": ""
            },
            "colorscale": [
             [
              0,
              "#0d0887"
             ],
             [
              0.1111111111111111,
              "#46039f"
             ],
             [
              0.2222222222222222,
              "#7201a8"
             ],
             [
              0.3333333333333333,
              "#9c179e"
             ],
             [
              0.4444444444444444,
              "#bd3786"
             ],
             [
              0.5555555555555556,
              "#d8576b"
             ],
             [
              0.6666666666666666,
              "#ed7953"
             ],
             [
              0.7777777777777778,
              "#fb9f3a"
             ],
             [
              0.8888888888888888,
              "#fdca26"
             ],
             [
              1,
              "#f0f921"
             ]
            ],
            "type": "contour"
           }
          ],
          "contourcarpet": [
           {
            "colorbar": {
             "outlinewidth": 0,
             "ticks": ""
            },
            "type": "contourcarpet"
           }
          ],
          "heatmap": [
           {
            "colorbar": {
             "outlinewidth": 0,
             "ticks": ""
            },
            "colorscale": [
             [
              0,
              "#0d0887"
             ],
             [
              0.1111111111111111,
              "#46039f"
             ],
             [
              0.2222222222222222,
              "#7201a8"
             ],
             [
              0.3333333333333333,
              "#9c179e"
             ],
             [
              0.4444444444444444,
              "#bd3786"
             ],
             [
              0.5555555555555556,
              "#d8576b"
             ],
             [
              0.6666666666666666,
              "#ed7953"
             ],
             [
              0.7777777777777778,
              "#fb9f3a"
             ],
             [
              0.8888888888888888,
              "#fdca26"
             ],
             [
              1,
              "#f0f921"
             ]
            ],
            "type": "heatmap"
           }
          ],
          "heatmapgl": [
           {
            "colorbar": {
             "outlinewidth": 0,
             "ticks": ""
            },
            "colorscale": [
             [
              0,
              "#0d0887"
             ],
             [
              0.1111111111111111,
              "#46039f"
             ],
             [
              0.2222222222222222,
              "#7201a8"
             ],
             [
              0.3333333333333333,
              "#9c179e"
             ],
             [
              0.4444444444444444,
              "#bd3786"
             ],
             [
              0.5555555555555556,
              "#d8576b"
             ],
             [
              0.6666666666666666,
              "#ed7953"
             ],
             [
              0.7777777777777778,
              "#fb9f3a"
             ],
             [
              0.8888888888888888,
              "#fdca26"
             ],
             [
              1,
              "#f0f921"
             ]
            ],
            "type": "heatmapgl"
           }
          ],
          "histogram": [
           {
            "marker": {
             "colorbar": {
              "outlinewidth": 0,
              "ticks": ""
             }
            },
            "type": "histogram"
           }
          ],
          "histogram2d": [
           {
            "colorbar": {
             "outlinewidth": 0,
             "ticks": ""
            },
            "colorscale": [
             [
              0,
              "#0d0887"
             ],
             [
              0.1111111111111111,
              "#46039f"
             ],
             [
              0.2222222222222222,
              "#7201a8"
             ],
             [
              0.3333333333333333,
              "#9c179e"
             ],
             [
              0.4444444444444444,
              "#bd3786"
             ],
             [
              0.5555555555555556,
              "#d8576b"
             ],
             [
              0.6666666666666666,
              "#ed7953"
             ],
             [
              0.7777777777777778,
              "#fb9f3a"
             ],
             [
              0.8888888888888888,
              "#fdca26"
             ],
             [
              1,
              "#f0f921"
             ]
            ],
            "type": "histogram2d"
           }
          ],
          "histogram2dcontour": [
           {
            "colorbar": {
             "outlinewidth": 0,
             "ticks": ""
            },
            "colorscale": [
             [
              0,
              "#0d0887"
             ],
             [
              0.1111111111111111,
              "#46039f"
             ],
             [
              0.2222222222222222,
              "#7201a8"
             ],
             [
              0.3333333333333333,
              "#9c179e"
             ],
             [
              0.4444444444444444,
              "#bd3786"
             ],
             [
              0.5555555555555556,
              "#d8576b"
             ],
             [
              0.6666666666666666,
              "#ed7953"
             ],
             [
              0.7777777777777778,
              "#fb9f3a"
             ],
             [
              0.8888888888888888,
              "#fdca26"
             ],
             [
              1,
              "#f0f921"
             ]
            ],
            "type": "histogram2dcontour"
           }
          ],
          "mesh3d": [
           {
            "colorbar": {
             "outlinewidth": 0,
             "ticks": ""
            },
            "type": "mesh3d"
           }
          ],
          "parcoords": [
           {
            "line": {
             "colorbar": {
              "outlinewidth": 0,
              "ticks": ""
             }
            },
            "type": "parcoords"
           }
          ],
          "pie": [
           {
            "automargin": true,
            "type": "pie"
           }
          ],
          "scatter": [
           {
            "marker": {
             "colorbar": {
              "outlinewidth": 0,
              "ticks": ""
             }
            },
            "type": "scatter"
           }
          ],
          "scatter3d": [
           {
            "line": {
             "colorbar": {
              "outlinewidth": 0,
              "ticks": ""
             }
            },
            "marker": {
             "colorbar": {
              "outlinewidth": 0,
              "ticks": ""
             }
            },
            "type": "scatter3d"
           }
          ],
          "scattercarpet": [
           {
            "marker": {
             "colorbar": {
              "outlinewidth": 0,
              "ticks": ""
             }
            },
            "type": "scattercarpet"
           }
          ],
          "scattergeo": [
           {
            "marker": {
             "colorbar": {
              "outlinewidth": 0,
              "ticks": ""
             }
            },
            "type": "scattergeo"
           }
          ],
          "scattergl": [
           {
            "marker": {
             "colorbar": {
              "outlinewidth": 0,
              "ticks": ""
             }
            },
            "type": "scattergl"
           }
          ],
          "scattermapbox": [
           {
            "marker": {
             "colorbar": {
              "outlinewidth": 0,
              "ticks": ""
             }
            },
            "type": "scattermapbox"
           }
          ],
          "scatterpolar": [
           {
            "marker": {
             "colorbar": {
              "outlinewidth": 0,
              "ticks": ""
             }
            },
            "type": "scatterpolar"
           }
          ],
          "scatterpolargl": [
           {
            "marker": {
             "colorbar": {
              "outlinewidth": 0,
              "ticks": ""
             }
            },
            "type": "scatterpolargl"
           }
          ],
          "scatterternary": [
           {
            "marker": {
             "colorbar": {
              "outlinewidth": 0,
              "ticks": ""
             }
            },
            "type": "scatterternary"
           }
          ],
          "surface": [
           {
            "colorbar": {
             "outlinewidth": 0,
             "ticks": ""
            },
            "colorscale": [
             [
              0,
              "#0d0887"
             ],
             [
              0.1111111111111111,
              "#46039f"
             ],
             [
              0.2222222222222222,
              "#7201a8"
             ],
             [
              0.3333333333333333,
              "#9c179e"
             ],
             [
              0.4444444444444444,
              "#bd3786"
             ],
             [
              0.5555555555555556,
              "#d8576b"
             ],
             [
              0.6666666666666666,
              "#ed7953"
             ],
             [
              0.7777777777777778,
              "#fb9f3a"
             ],
             [
              0.8888888888888888,
              "#fdca26"
             ],
             [
              1,
              "#f0f921"
             ]
            ],
            "type": "surface"
           }
          ],
          "table": [
           {
            "cells": {
             "fill": {
              "color": "#EBF0F8"
             },
             "line": {
              "color": "white"
             }
            },
            "header": {
             "fill": {
              "color": "#C8D4E3"
             },
             "line": {
              "color": "white"
             }
            },
            "type": "table"
           }
          ]
         },
         "layout": {
          "annotationdefaults": {
           "arrowcolor": "#2a3f5f",
           "arrowhead": 0,
           "arrowwidth": 1
          },
          "coloraxis": {
           "colorbar": {
            "outlinewidth": 0,
            "ticks": ""
           }
          },
          "colorscale": {
           "diverging": [
            [
             0,
             "#8e0152"
            ],
            [
             0.1,
             "#c51b7d"
            ],
            [
             0.2,
             "#de77ae"
            ],
            [
             0.3,
             "#f1b6da"
            ],
            [
             0.4,
             "#fde0ef"
            ],
            [
             0.5,
             "#f7f7f7"
            ],
            [
             0.6,
             "#e6f5d0"
            ],
            [
             0.7,
             "#b8e186"
            ],
            [
             0.8,
             "#7fbc41"
            ],
            [
             0.9,
             "#4d9221"
            ],
            [
             1,
             "#276419"
            ]
           ],
           "sequential": [
            [
             0,
             "#0d0887"
            ],
            [
             0.1111111111111111,
             "#46039f"
            ],
            [
             0.2222222222222222,
             "#7201a8"
            ],
            [
             0.3333333333333333,
             "#9c179e"
            ],
            [
             0.4444444444444444,
             "#bd3786"
            ],
            [
             0.5555555555555556,
             "#d8576b"
            ],
            [
             0.6666666666666666,
             "#ed7953"
            ],
            [
             0.7777777777777778,
             "#fb9f3a"
            ],
            [
             0.8888888888888888,
             "#fdca26"
            ],
            [
             1,
             "#f0f921"
            ]
           ],
           "sequentialminus": [
            [
             0,
             "#0d0887"
            ],
            [
             0.1111111111111111,
             "#46039f"
            ],
            [
             0.2222222222222222,
             "#7201a8"
            ],
            [
             0.3333333333333333,
             "#9c179e"
            ],
            [
             0.4444444444444444,
             "#bd3786"
            ],
            [
             0.5555555555555556,
             "#d8576b"
            ],
            [
             0.6666666666666666,
             "#ed7953"
            ],
            [
             0.7777777777777778,
             "#fb9f3a"
            ],
            [
             0.8888888888888888,
             "#fdca26"
            ],
            [
             1,
             "#f0f921"
            ]
           ]
          },
          "colorway": [
           "#636efa",
           "#EF553B",
           "#00cc96",
           "#ab63fa",
           "#FFA15A",
           "#19d3f3",
           "#FF6692",
           "#B6E880",
           "#FF97FF",
           "#FECB52"
          ],
          "font": {
           "color": "#2a3f5f"
          },
          "geo": {
           "bgcolor": "white",
           "lakecolor": "white",
           "landcolor": "#E5ECF6",
           "showlakes": true,
           "showland": true,
           "subunitcolor": "white"
          },
          "hoverlabel": {
           "align": "left"
          },
          "hovermode": "closest",
          "mapbox": {
           "style": "light"
          },
          "paper_bgcolor": "white",
          "plot_bgcolor": "#E5ECF6",
          "polar": {
           "angularaxis": {
            "gridcolor": "white",
            "linecolor": "white",
            "ticks": ""
           },
           "bgcolor": "#E5ECF6",
           "radialaxis": {
            "gridcolor": "white",
            "linecolor": "white",
            "ticks": ""
           }
          },
          "scene": {
           "xaxis": {
            "backgroundcolor": "#E5ECF6",
            "gridcolor": "white",
            "gridwidth": 2,
            "linecolor": "white",
            "showbackground": true,
            "ticks": "",
            "zerolinecolor": "white"
           },
           "yaxis": {
            "backgroundcolor": "#E5ECF6",
            "gridcolor": "white",
            "gridwidth": 2,
            "linecolor": "white",
            "showbackground": true,
            "ticks": "",
            "zerolinecolor": "white"
           },
           "zaxis": {
            "backgroundcolor": "#E5ECF6",
            "gridcolor": "white",
            "gridwidth": 2,
            "linecolor": "white",
            "showbackground": true,
            "ticks": "",
            "zerolinecolor": "white"
           }
          },
          "shapedefaults": {
           "line": {
            "color": "#2a3f5f"
           }
          },
          "ternary": {
           "aaxis": {
            "gridcolor": "white",
            "linecolor": "white",
            "ticks": ""
           },
           "baxis": {
            "gridcolor": "white",
            "linecolor": "white",
            "ticks": ""
           },
           "bgcolor": "#E5ECF6",
           "caxis": {
            "gridcolor": "white",
            "linecolor": "white",
            "ticks": ""
           }
          },
          "title": {
           "x": 0.05
          },
          "xaxis": {
           "automargin": true,
           "gridcolor": "white",
           "linecolor": "white",
           "ticks": "",
           "title": {
            "standoff": 15
           },
           "zerolinecolor": "white",
           "zerolinewidth": 2
          },
          "yaxis": {
           "automargin": true,
           "gridcolor": "white",
           "linecolor": "white",
           "ticks": "",
           "title": {
            "standoff": 15
           },
           "zerolinecolor": "white",
           "zerolinewidth": 2
          }
         }
        },
        "xaxis": {
         "showspikes": true
        },
        "yaxis": {
         "showspikes": true
        }
       },
       "_model_module_version": "4.6.0",
       "_py2js_addTraces": {},
       "_py2js_animate": {},
       "_py2js_deleteTraces": {},
       "_py2js_moveTraces": {},
       "_py2js_relayout": {},
       "_py2js_removeLayoutProps": {},
       "_py2js_removeTraceProps": {},
       "_py2js_restyle": {},
       "_py2js_update": {},
       "_view_count": 0,
       "_view_module_version": "4.6.0"
      }
     },
     "8b54b28ea6cd4fcf8b687e8d34abe61c": {
      "buffers": [
       {
        "data": "iVBORw0KGgoAAAANSUhEUgAAAcIAAAF3CAAAAAATdBRfAAAgAElEQVR4AYzB27Ikh2El1rVn5Ac7/FVy4MoYhYVKPFmtpwE+bPCIqm4C3QRvQSn8OQao0IUgAHEsbec985yqQ3qteO49q1ikiFkqdqExi10s4onYpLGLXexSsUjFKg5Rh1rVplKr2tWsNk1NStQvXOxi1DQmjZLrhyrFr60uFlFRs6hRyc0zFy8ooUJt4tA43PgknnvPLlaxi13sYhebOERjEo1VPBGblJjEWRxSJ7Wq1KJmTZ3UolGTRo1K8M7FLg4NGr5Ho/i12cUsaGgalVrd3LlYpEapVYkiavYaF480VDz3nkXsYhe7WKWhMYvGKBUai1jFLs5iEypmcRYnKalFpXY1qUWJWtWiUauaNXjnYhNPNBr9I5oa/drkYhGLpqFRk772wIWUKFKbhhqF8triYtU4KfHcexaxipNYpMQuNtGYpbGJQyziLDZxiIpVGosoqZOmRkVq1tSsUptaNGpVh3cuNvFA871JkV9xoWIUjVEJjVFx88CF1EMVTUVfW1w80pR47j2r2MUkjVWUmKSITWzikMYuVrGKk9jEE3FIRaUmFWpSUpua1aE2tapFwzsXh3joe5Pyay6omKREEUoobh65SI1Sk9SiSM1e21w80ZgU8dx7RmlsYhOLKLGLXSxilSJWobGJXaziJE7iEItaNNSiUauaNdSqJo3a1aThnYuTuNP44T+N6tdcnERFjaKESnP1yMUs9UyjpF47ubhXxHPvGcUhdrFJYxWNWWyiacxiF4eU2MQiKg6xibOY1aJBrWpTs6Y2Nas0tajNOxdncafh+4b+movnoinRoEhz9cDFn1G5eeLikYrn3jOLTazSWEVjFptQsYpNbKJiEY1ZmopFSsxSxCqNQ+xqU6tKLZoaNU0tatXUqlbvXDwRzzX0j/gVF7OKWTSamgQVFVd3Lp5JbSpunrl4ojGL594ziUkc0tjFKjZpVCyiMUmJWZSYBY1F7NJYRYlVGps0NrWrRUltalRSo4ZaNLWp1TsXh4q413zvV1wsKlYxqlFojGp088zFLIoUqVFqdvPcxXMN4rn3EIdYxSEWcYhNnMRJzNKgsYhNnEVjkopdHGpXm0btipIaNdSuVrV45+Jww+Cxq4sH0pg1jUmR3vg//M7uYpVapCZRo5t7F7vGJp57D7FJYxWjqDRW0ViFxixW8VTsYhGHeCJWUbGLQ1OzOqlDTZpa1Kpp1Kom71xs+tpkcK9RL4hZY1Sz6L+g/2BxoWKWinrm5oGLpxrEc+/FLnYxS4mT2MQsjbPYxSYaqzRWaWxSsUrjJA5NzSq1qV3NmtrVphaVGr1zsehrq8FD9VhQBJUi9F/Q/M7kYtKYpKJSpCZRNw9c3Ivn3hOrOMQmDrGJQ+xCxSwWqTjELlTM4hCHNE6aWjS1q0nT1Kp2talFLd65WNxsBnca1GOhYlRRpPEf/2b0O6OLp6KkRqlFX3vkIvVUPPde7OIQh5hEY5HGLg6xiZPYxC7OomKUErOUeKIOTc0aNWtqVYda1aKkeOdicnMyeK5BvSSNSaVGqfiX4ne4eC4NlSK1uHnk4rm4875dbNLYxSwVkygxCxqTOEvjEKvYxBOxiU1ULFKTSq2amlVq1qhFpVa1aNSiRu9cTG6eGJw0FvWSNJ6o8M/8Dhf3QkWNQoXe3Lu4E3fet4pVnMUhVrGKs1jEE3GIQ6xilYpd3KmzmlVqVYda1a4WTXnnknLzzGDSeKYeSkPTWJTgn3+HiweiSI1SRLl55uKBuPO+WSpmKbGIQxqLWIXGJlZxSIlFSixSYhW7OISKJ+qkNjVqaGpVu9rUprxzoa8tfvYLm8Fj9dwNF6FpLEpori4eCpU6hLp54uKRuPM+ouIQiziJTWziEJs4iV0cUrGKXSp2UTFJbWpXm9rVplZ1qFV55+Jm8TP6jdXgsXrmZnIJTUNj01AvCCWNSs3i6nDxWNx53ySNVSyiqZjFLk5iEWdxiF1s4hAVi3giGpvUpA61q0lDrWrT1KZmTXnn4mbyM7NfWA02jVFjUk/cLC5i0Vg0NPWCqEkUKcLV7uIFced9kzjEJlaxi11ozOIQNGZp7GKVEqvQWMQhDY1ZKjWrXe1qU6s61KZmjXrnElf8zOoXVoNV46wON5tLGrtGEerPiJIaRY1ytbp4Sdx5H7ELFZNUjNI4pMQsjVVs0tjEWWyisYiTNBapOMSkZk3tataoRa3qUJuaNeqdgaufpalJv7EarBpUrGqU4uYwoLFqjBr1ojSUFFGzm8nFy+LO+0axiV1sggYpsYpdPBGLOIldHGITFas0TqJRs6ZoaNSmFrWqQ6VmtSrvDPipaWrxC4vBC2px88TgTkO9JCVFNKhRrkYXz0Wt4s77xEksYheH2MUhdmmsYpWKk5ilxCZO0jgJatHUqqlNzZqmRk2t6lCbemeg/05t+o3ZJRqP1OTmmcGmMWuM6l5jFkqaWsSViz8n7rwvdrFIEbNUbOIQm1ilcYhDbKKxSMUqFbtoLGJVi0ot6lCrpma1KlKzpmblncHop0Yt6hujC+Khoq89d4lnKqg7N1ykQgmKVFxd/Flx54PGJg4xSUnFLI1NHGIVh6hYpGIVJ3ESu9iksahdbWpRiyK1qlmR2tSk3rnE6KdaNPQbhhrFvabRmwcGZw2NUT3V10YXo6hZaOr/j7jzfipGKbGIJ2KSEougMYtDGos4ScUmDnESu9jEplZ1qEWd1KpmFWpRq+atweSn2jW/MFDEY715ZPBYnd0sLqmUFKGk/rK4837MUqlYxC4WKWIWuziLTeziLE5ikRKbOMSmDjVpqEntKrWrWaVmDTVp3hrMfqJWv3CRRonnGpOrRy7xUB1uNheToEKR+rNS4s4HdrFIxSI0JimxiE0c4iQ0ZnESjVXsUmITh9jVpmZNU5OS2tSuNrWrSd8ZrH6iZr9wMQpN406Dq4cGj9Xm5nBJjaLSaIzqL4g7H1hExSKNRRxiFY1FHOIkdrFL09jEJlSs4hBntahZQy0atatFbepQs7cusfqpJr9wQUyaxp3G6Gr2/m+cDR6rxc0Tlxg1lUpjUn9e3PnAJhqzWESjMYkSkzQVkzQ2sYtJxSQ2KbGKxix2cZaKRUNNmqYmDWpVu1o1NatVRc3eGmx+UvzCJY1F44HG5Gr0fvobh0HFIzW5eeYSNJRQoVEPNGZx5wOL2MQuFilpLELFJE5iF7s4hMYiKiapWMUhThpq0jR1qFmlNrWpRaUWtXjrEpufyi9cojEp8WdcP1Cj39hc4oEGNbp57hJNQ9NoVFD3blxM4s4HFtFYxCZ2sYvGLHap2MQuVqlRbGIXmzjEAzWr1KYmdVazphaVWtTircHhp3cupAiNSsUL/oDiN1ZD40V188BgV0LFqJ7qa6NLStz5wCgai2jMUilCKjSI52IWu1Qs0likoTGJil2sUmIVFc/UrKFGDTUpUpOS2tSkUauavTU4uV5S0jRmFS/6zz/SlN+YDSUaL7h65BKrGsWoUU/dzC4k7nxgFps4i1nsYpOKXRxilYpFKmap2MQTsQoak1CrmjXUqKFmJTUpqU0tmprU4q1LPFFi12hUPPQH1Og3uESRihdcPTKYVIwqaKiTm82FuPOBWWziJEapOMQmdnGIRajYxCo0VqGxi0WcpFKzmhSpWUnNmhoVqU0talFEvXWJJ0rsGo2X/cGo/IaLqFEqXnD1wCVGJWYVozrc7C7EnQ+M4iQWsUrFIip2MYuzWIXGJs5iFmexi6dSo1qV1KJRo4aalNSiqVntavLWJZ6qaJTQaJR47A+U3zCUUFLxkqt7Q4PGpmJSi5uzi7jzAXEWk3giNrEKjUXsorGKXRxiFxqr2MVZUJNGTSo1KalNTUrUpFGz2jXKW4N7FSpoGo0XXT/Q3zAoUqOoeMHVnaFiVjEpQS1unvgk7nyA2MUqdqnYxCxorGITZ7FLxSI2QcUijUU8FTWqUJsaldSmJg21qUVTiwp9a/BYCZoGJR76A79moEQRKl5w9dxgVKGxKkGNbp6LOx8Qu9jEKmgsYhW7aKzS2KRiE41FbGLUmIXGKhqHqFFFrWrWUJvaNLWoRVOpUaPeusS9xqihRqkbBg/94ddcRBGNUcVLrp66SAmNXY1CubkTdz4Qi1BilCImUbGJRSo2sUvFKjY//1v/6w9iFqPGKDQWQWOWipPQ1KxWtatNzWoUNalF06hRjd66xL2GpqGi3IwGj10vCEXQNP6Mq7OLSZxVlBj15k7c+YDYxC6IksYiTcUkTmKRilVKLPLG5X/73iJoLGIThzhECWpWm0YtatHU5A3+z59/zrdGtWgaika9dYmXNFTqZnGJxxqNGoUSGi+4/rV/sLo4i5Mahas7ceeD2KSxiF1sUmIRJ7GIXahY/Nzf/u++t4iT2MUmTqIxqUWtmlrVrkZv8LdvPudbs1o01KpvBy9qaPRmNXhZUymiiIrH/rn8g9nFSTxXwdVzcedDh1jELlRM0ljEWaxCYxaHvOEV3yOVxiIVi5RYpWITq1rUqna1aqg3Jp8bfYtGzRqKhr51iZc0Rr3ZXeJlDUVoKhUP/ce/qn80GqhVNJ5pTK6eiTsfWkVjFrtorGIXmzQ2aSzikDf8XfgeUbFIxSIqNrFKxaJ2tapNndQbk89JvzWrXS361uBFDb05G0xSj9UoJjWKh3r7a/+ASxq1iBddPRN3PrSKTWjMYhVnsYtVHOKQN/xf/4U/VpzFIkXs4hC7WjU1KalJnfSN0WeJ8q1JHWrz9eBFjd48NXhZQwlNpYiHrn/9Dxiapk7isaun4s6HZnEWq9jFJjZxEptorOINfxf+2GisQmOWIhbR2MShDtWgUrOSmpQ3Jp9H8a1RHWrz9UWcRG2a3jw3eFHT1ChUesPggfTKUKPULl509UTc+dAiDjELjUXsYhe72MRJmjf8XfC9lJgEjUMsQmMTh9pUihJq1tSoeGPyeRTfmjRqVbO+NXgiahLl6t4lHmssGoqb0WCUeu56sQk1i5dcPRF3PjSJk1RIiVVs4iQ2sYsn8oa/C/7YWMUTsYpNSjxRq0pNGjVpalbemHyepvjWqla1+nowSc1CTaJcbT7+xmZwiDqr0FA3i8FjRSjRqEU8dnW4iDsfkooKKbFJxSwVm5jFIZ6KTXjDK6MvPrGIil3somKWirOaVWrV1KpmDa+NPifFdzWpTS361iVOQk2iXK0+5hubwSE1i6KkpHK1GbygQolGRY3isavNhbjzIWITFatYpLFLYxWLVBqLVGxC/ZxXRl98YpHGIQ5RYhJ3atQ0tSsqavPa6HNC8a1RU6ta9K1LnEVNoriafIz+0m4wSp2laEzKzWEwSz1XYtFQk3joP//rlyYXo7jzYYqYRMUqFauYBRWz2KSIRUpMojF6wyuTLz6xiJM4i1UcUqOmaFCrWtXmtdHnhOJbo6Y2tfj6EpOoSahJFFd8bFK/tBm8oGmMenM2mEQ9U0KlQkmJh/7jv16NLiZx50OjmEVjESexi02cxSo0RinBG14h9cUnZqmYhaaxikNsQs1qVZta1Oq10edGUXxr1NSqpEZfX+KJqEnU6Pqx1KjxjdXgkDqr6M1Tg0nUc7WLSo3isSsuZnHnw1SsYpIaxSp2sYmT2MVT8YZXZl98YpbGKhW72MUmalWL2tWqFq+NPjcK5bua1KZSo68HT0VNokY/UqtvrAYva1w9N5ilnqlFKihuDF5wvVjEnQ/T2MQqTmIRJY1J7GIVFatUKt7wyij94hOEil0cYhUVq1Cz2tSqRg0V1TcmnxOj4lujOqnJ14OnomZR5AcUTf3SZKAxihL1RG/uDV7SFFFRbkaDF9Qq7nyImEQRq5ilYhUnsQiNRYwqRqkYveGVKL74RKhYpMQhDjFLSS1qU7PaVYrXRp8jRsW3JnVSo68HmyiiZqnZj4oK/SUGm6g7vXnkEi+rWdrXZoOX1CzufJjGIhWj0FilsYlFGmexSmMXkze8kqb44hOTOIlVnMUiKtSoqVWtalWz10afIyblu5rUpqnR14MnQs1Sk/hBzfpLBn/J1SODP6dR3GwGLygpcecju9iksYpFTBqjNHZxSMUqZm94FU1TX3xCnMQmDimxillRu1rVqiavjT5HTIrf/6dJHYqvL/FUapEahR+oxTcu8ZdcPTJ4UZGmN7tLPFSLuPORTexiF4fYxCIOcUhj8YZXMakvPknFLnaxi12salK7OtSkRq+NPkdMavT/xKR2xdeXeCLUJJQY/VCLbwweCTWLunpkMAu1SY0ao7o5ucQmaldE485HVrGJTSo2aSxiE4c4idUbXsWkfmgam9iFikXsYlOjOtSmFpUbPotJTEq/M2lqU+SrwVNRk1Ax6fVjo28MnkuNQq2iVw8MpAQl6qnePDF4rCZx58OYRWMVh5hE4xCLNA6xi9UbXolZfXGxiUljEmexSMWqZrWpTS0qN6PPSQlq9K1FbYp8NXgiNEXQWPxQvjG4E0XUKtQV7/Fbh8EoNUlFPdGbZwaP1SjufGQRjUkqFtFYpLGKJ2IXizRWb3gVq37xSWxiFydxiE3NalObWlRuRp8TFaPiW4vaFF9fQsXkyhAaJWgsfqhvDO6FEtQiytX7xW9tBg1So1TUSW/uDR6qUdz5yCQOsQiNVRqrNDZprGIThze8ilV/sErFJhWbOMSmVjUrqUUtmpvR54hV0e9oaGpRfH2JVW9GQzRKqFh96RJ3GikxqlXUv6nRb60GZ2lQh6sHLvFQEXc+IiUWqdjFKg6xipPYpGLzhlex6g9W0diksYlNKja1qEkJtanFzehzYlP0OxqaWjT19WDVm8kQNQkam3qgEhWjWgX9t5r81uQSm9QsjRqlRvnSA4PHStz5yCxmqTjEKhqL2MUuzmKV17yKVf3gEIs4xC4lNrVqqjGqTc1u+CzEqqnRd9UY1aLhr2JxtRqsQqMxq13jLGioVdB/NfstBo1dqGg01Cy+9MDgsYo7H6VpHGKWSmMWq1Qc4hAnMQte8/dW9YNVGotUrOIQFZtaNWpWm5rdjD4nFrXodxZNTSr+KmZXu8EsaDQW9YI0GqPa5V8Vv8XQNHbRNEaNUU3Sq3uDxyrufCQas6CxiEVUrGIXjV0cYpPXvBKb/mASm6CxiCfirGYlNWvUoiY3o8+JVaPodya1KV9f0nB19mmNgkZjUS+KxqhSk+Bfm/4Wg0ZjVolF0xjV4ureJURTz8Wdj4hVbKKxikMcYhUncZLXvIpN/WASZ7GJszirRe2a0lCTGz4LcVL09zVqKjVq+Ks0rib/zVuzwSRoNBqjelmUmNQs/Ivf4hJnDaFRYtIo8qXnLuIFceejOMQudrEKjUU0ZjFqTILGKq95JXb1g1E0NnGIQzxRuxpVqEmluBl9TpwU/X2NmkbN+vUlXE3+G96afVoEjUaDeuzKQJSgUqOoKwZPNUiDikZDU66eGWg8kIp7H9vFLFQsorGLVZzFKk7Ca3/3X5z0B2KVGsUhNmk8UauaVahJpdzwWRAVq6K+s6nFV4Oryd/U5K3ZgKDRaIzqkavRYBKLGkXzJYPnGqNo1CwU8aUnBpOGNOqJuPexxix2cYhNHGITJ3FI3/AqDvVjiUVKLOKJ2ERTo1rUplZNueGzIE6K+s6uFl9Z/I0avbUYCCqNxqju9WY2GMWmxKj+glQaTaXxpcNFNFZRT8S9jzUmcRKrNDaxipPYROMQXnsVJ/1RY5OKRZzFLii1aWpRq6Zu+CyIsxr197Wp2Vdmf4OavDUbYlZiV0/1ZjHEqrFoqL8sTU2Cb/9vq4s0qFilDnHno1jFKhWr2MQhTmIVZzF67VWc1A/EKjZpHOIQlNrUplYNV3wWxFmN6jubmn015Et/Q6Nmb82GNChi19ThajdIo9JYlKjGQ9EoUYvo//uv/tFsMCpxCGoVdz4iRtGYxEkcUjGJUWMVsxQxiwpeexVn9aOzWERjFY1djGpUi1pValTpDZ8J4omivrOpyVdD+j9r1tTorcWnGopYNJXaXZ0M8UyDekFMKtQs+L1/NBmsGo/FnY9iFas0JnESm9ilYhUqFtHgtVfxRH9sLGIXGqtorNKgRrWpRUVRccVngniiqO+savbVEP/5P61q8tZsIEYVu6Y2V08MsWqoWeoFUaJGUVLh9/9oNFiUNJ5JEfc+NolN7OIQu9hEYxU0ZinBa69iEjXrj41FHGIXh9CgqE3tanXFZzGKsxqV7yxq9tUQ/lSLmr01GhCLxqppanL1zBCUWBVRj1wNRlGjUKsrQ2PToCH1RNz7GCmxSGMRh9ikxCY2qVhFY/TaqxilNj9YpbGJk9jEqpTUpA61uOIzMYqzmtTva1aj+vpToz/VrKR4y2AUo4pd0yiu7gyixKhBpVLP9WY0hJqkghrFl4NJ41DxTNz7mDQ2aUzS2EVjFRWzNDZxErPXXsUi1KQ/WsQuNnEWqzbUpqlZra74TBBP1ai+s6rJV5/S/KlmJcVbg1ncqcnVA0NsGqPGqJ65mg1BkZKaRT3SiIZaxL2PEbtYpMQqGrNQsYhdHNKYvfYqFlGz/mgUjVUconGISc1qV6umRld8JibxRI3q97WoyVef0vDvJjV76xKLeK6h+dIjQ6wai3quN4shVjWKRZ2UmDRC7eLex0HFJHaxi5NozOIQh1i99iqe6Y8WsYpD7FKxqkUtalWzKz4To3imlP7eqkZfDdHw7yZF+tZgEyqNVVPElxYf+pWTISYlFpU6683mU4uaxaRmjVnFLmoT9z4WiziLXZzELnaxi81rr2ISDYp+MRC7NDZp7OJQk0otalFRV/z3xCieqVH5zqpGXw1B49+NSvrW4BCjxqGCL00+Ur9yGGJRsanU5upkiF1ToanHGoc07n0sVqlYpLGLTRzikMYmNq/5e5OY1eh/DKKxiUMaizQONanUohYNdcVnYhTP1Kj8vhbFV0OMGv7dpPna4Cwe+5KPUPml3RC7xqJSq6snhtiVaKjHmmhqEfc+jkOs4hCH2MUuDrF7zd8jZrX4IRWHWKSxi5OaVdSqNr3iv0cQ94rq7y2Kr4ZY9U/UW4On4qmGBl9+ZFa/shmIVaMxaqjJ1XND7Co1inrgyhDULO59HI1ZbKKxik2cxC4Vu1i99ipGsarJjypWaSyisYuzmtWudr3iMzGKe0X1n2pVXw2x6p+Mvh48F6vGqLH43qJ+ZTGYxCPF1b1P7SqVCnXnavSpihrFvZ/ZxSpOYhVnsYmKSSo2uXkVo9jU6MeKTeziEE/UrKFmtaor/nvEKO4V1X+qXf+XWNWf+HpwLxr3/liL5pcmQ2MUu8aurh4YgsaqMalnrhYDYtS49zOLaGxiF7s0NrGJxiFWuXkVxKYm/akxi2diEU/VpFKr2n2JzwjigaL8vg5/Fbv+6evBA/FMY/K9RdNfMdjFomLV6NUjn3qoDs3VarCIuPczi9gFjVls0lilYhe7aKxy4+9NggY16o9iFk/ELjZRalGpWUmNmi/xGUE8UKPqP9Xm55/aNNRjMWnsGnxvVn7FYBeLirMvPfKph+pwtRus4t7PLGITh9jEIRq7WMRJ3Ph7xEnRn+xiFY1VnITWqqFmjRr1is+MQjxSVP+pNj//1KpCPRaTxq6C7836KwZPxQNfemBIhaaxqrPenAwWce9nRmls4pCKRexiE5PGJM5y4+8Ru6boT1axSWMTJ2lKHer/owxeYjU9DPMwP++QiwLdJAt3p2ys7tpCu1wawJuiCEBSYsVzYrLAUDZn7EWbITlCxNukiwJVRDqoKdmyS4mcocaFRJHnDDMsKKlq7QJtjSSNXUDZNIFFBUHIhWWJF5OSSJHSvP1u/+Wc85+h/DyzRg0O8BvEKE6qQfX1Wrm+74jaLY5oTH5k8i32HJGKkw7ssIcYNI6oyaGj9hDipNuIxkpsSWMSa2kqFrESVEzimrMxipVG8a5BqJjFtlgJjaJWalaTA5yPGMUONSg/rJVb46jaLY5qjH6Eb7HnhDROOnDSHjFpGltqcOiYPZM46TaTWItZbMRKbIuNWAvXnA1pbCv6nkVMYiM0FjFqo1ZqpQYH+A1iELvUoPSHVm6NY2qn2O1HvsWeE+K4Bj10zJ5BbDTWyqET9ozipNsIjUUas5SYxUZsxEbMUuGasyGOKX4SUmISW2JLDGpQs1qrwQHOhxCnKaqvq9mtcVydcIh9xzRGB+w5KU5x4L/wh1b2zIKK43pohz2DOOk2UrGWCkJjkYpZGmsxS8W2uMa9iKOKnwSxEo2VWEnFqKhFrdTgAOcjiNMU1dfV5Pq+k+qYQ6N92xoaTQ/37BI79S+LP7TYs4htjUGjh3b4lV8icdJtiLVYi7VYiW2hMYu14Br3EkfUqO8hVkJjESuxKE2t1Kw4wPkQg9itBlU/tLg1VhqzOurQZN+2xqCidoud3lL8ocmetTiiocGBHX7llyJOuk00VmKRilk0JqkYNIRGYxJraSrXnI04rgbvio3YEiuxKGql1uoA50MQp6hB6euVGtwai4pFbTs024tdmtotdulfFn9osGdL7FIOnfQrfilx0m1iLRqzWImNWItt0VhLX3Q2YofyrtgWs9iIlaI2alEH+A1iEKeoQenr1OjW2KHWDm3s0zipdgqNk97EH2LPEXGKAyf9yi+Jk25vrMVaGrNYi7WoWMRKinCNe8UitVK8Z0saK7ESKzWoLbXoAedDDOIUNSh9nRrcGjvV4tC2fbvVTrHT2z/3h9hzTMwqth04aY846TaxJUZxRCxSMUtjLRWzmFxzNuKk4r3GItZiLTRmNaioSa31gPMRgzhNDUq9TnGrWGms1ezQUft2qt1ip7f+d+w5Lo5rNHromD2DOOm2WIuKWcxiW6zESigxisU1ZyNWUiul78UsNmItFYsaVWpWKy9wPsQgTlGjUj+U4tZYa2zU4NDsdi+b7TupoU46ZN9uB+w5KU5qcOCIPaM46bZYiUWsxLZYiy2xErNrzkasRS2K90xiIyomQQi9o/YAACAASURBVGNRk9qo2QucD0GcqgalXq/RrWK3cmhyO1622KexrdKoY3rNYN9utVPsUjmwZQ+NOOm2WETFJBZxRCxSqRjEWqxc414xiUGlZuU9s9gSiziiZrVSkxc4H2IQpytKvU5xK7FTHZrcUYOXLfbS2KGOODTbt1vtFLsdWNuziJNuN0vFItZiLY1FbIm1WFzjXjGJRq2V/tQkZimxEkfUqKmVmrzA+RCDOFWNSvuG4lax0jjiwOAONXnZYr+xrWJUWw4t9sQutVOc4sBiz0qcdLtJKhaxESuxERuxJY3BNWeDGMWoVsqN9w1iS6ylYhattZrU5AXOixjETdSgtG8ouQVxigPuQE1etth3UkOtHNrYi53qqNQoduuhyZ61OOl2i1iJldiIldgWa7G45qzEJFTUSvFukMYitsQslVKjhprV6AXOhxjETdSg1OvKmTOkYqeDO4yaot+wuOuMYxqDWhzasid2qpWoSZTY7cBgz0acdDtSaSxiJTZiLTZiSyyuORsxiUFTa+WnFVvSWMSWaK3UokYvcD7EIG6iBqX6eupWk9jpg58bNTV62WwvdqtRrzliL05TxzVitwPs2RIn3W4Wa7GIjdiItdgSsxw6G2kMYtTUrAZ937ZYpLERFDWpLX2B80EM4iZqVNo3GreYxU7vGTU1aF422q/YrQaHjtt3mjrqEPtOcbDniDjpdoNYi7U0FrEWa6GxksbsmrMhJrFoalL6U8QstsRGULVoaqUvcC5BEDdVg9K+0bjFLHZ7z6hmL2NPKk7TQyftid3qiEOjfaepbXHS7cS2aExiLdZi1BAq1mJxjXvFJFaampS+X2IRK7EtqH7d3SYf9UqNygucF4JYiVGlttSgtG80biFFnOI9o5q9bL/ROE0P7bLvpoqUQ7N9u9UgahYn3W4QK7GIikVsxCI0VlKxuOZsxCRmlVpU3z0jJqExiS0xqee42+ijvFKjxvOcDzGKtViplRqU6utxC1KD2O09GjV52R5RsVt7zS77bqbS9NDavp1qLSpOup3YiFk0tsUojZWomIXGIofcK0axrSblRy/+qkVUzGItJu3XcbfBR/Fdo3qBcwkxirVYqbWiVN/gFiux23sGNXrZnkFqELv10A57YqfGrIe27NuttsRJd6AEsZHGSmyJlTQWsREOuTdc/ZT89TdtaWpQ3r7+q1ZiEWtpTOo53G3wUXzX7HnOixjESjRWaq0o2jfcYiVO855B8bK9lGgapzow+y//N1v2Yrci9NC2fSc11JY46Q4bsUjFWipmsSXWYss1ZyNc/ZT8tbccUaP6y5f+fsxiJTZiVs/hV4OP4rsmz3MuIQaxlsZarRRF9fKeUYo4zXtq8LL9mkWjsVMP8ffot23Zi9NUeuiYfTdRo8RJt0djEWuxFiuxFhsxaMxy6GzEVb/mr3vTthqV/s+/ahRbYiMm9ZzB3fiowXdNnue8EINYScVGLWpQqpf3kBrE6d41eNmelVT0kH0nNQf+HuXb1vbiVI0DJ+w7VUmlcdLtsRKLVLzkEwZ/w6vWYi1oTGLQGIVDZyOu+jV/3Zu2NUXp+0apaExiLRb1nNHdfNTouwbPcy4hRrGIo2pRg1L1l1ZSh/bt9J6+zP6BxcMljZUn2D/Yt/aOQaXftthLiVP00En7dqtJaJx0h7WYxeglnzD4G161EhuxFivRcMi9cpVf+2vxplFqUZS+bxSDxixWYlHPGd3NR42+a/A854UYxEoqttSiBqXq7Vo5NNiLXQ4sPiNiJUY1ueHfWfSdUHzbZE9UnKaHdti3W63ESXcYRcWWeIlPSD8Sr5rFWqzFEXHobMRVPBjeJNSiRuWnBrESa9FY9DmTu/1yjF4pnue8iFGspNFYq5WiaPu21OTQaC9OOLB4KI1R7NTc+Pa/2jd4x6D4tsFefIgDu+zbrRZx0h0mqdgIL/EJ8RFeNUljkcYiKtbCIfeGq3gwvEmolRpU3zeKRazFRp8zudtHTV4pz3MuIQaxEUfVrEal+nZTKYdm+444MPtMCGIljqlZ/VveMSi+zb6Kmzuwy75T1CROusMoJSYxe4lPiI/wqlFsiZVULGJ0yL3hKh4MbzqmBvV+iY1YxJY+Z3K3j5q8Up7nvBCDWItjalajUn27Jofc2ZcM9m0cmP3DM4IYROOI1Jainvh7Rv02e1LxIQ7ssO9UNYiT7rCIScxeMrjTR9DXENtiSyxC45B7w1VcxFuV2lKD6ge2xUps6XMmd3/U7JV6nvOEGMRabKmoRQ1K9W2l13Anrhvsmx2YfSaEGMUsTmpqUXwH/yt7pIibOrDDntitpOKkO0xiLUYvGdzpIwavIo2V2IiVqDQOuTdcxUWDt1AbNah+gMZazGIt7XMm9/yy2St8nfNCDGItGmuVWqlBKc/s4ZA7aVw32IvBgdlnIggxiw9Ro+Jxe1KEips5cMK+UxWH4qQ7jEJjFLOXDO70EYNXESupWEtjSxxyr3AVFw3eorYV1Q8aKykxSmMt7XMm9/yy2St9nvOEGMRabKvUSg1K6dsOcCcarhvsO7B4iBDEII1tqTS21KwG5d/eMEpJxU0cOGYvTleHxEl3IBUrMXrJ6M6PGL1KrKWxFo1JzA65N7iKiwZvUdtqUO/biJU0ZkG/ZnYpZq/4OucFMYiN2FKplRqU0jf+KXdaNNdte0gIMYpFaJyqZqW8crivoUbROMWBbXsmsVt7jTjpDpNYxOQlozs/YvSq2IiKSWyJySH3BldxUeqtOqoGdeNn1mIlFjHo18z+kcUrX+ecBDGIRZxUixoU1R/8L/6rWrtu8Zl/wkMhBGkM4hdUoxrceGKPUINonOYN/shiv6LEqQ7ESXcYxSJmLxnd+RGjV2Mj1tJYicUh94Z8BRelvOmYovqBRWzEIgb9mtk/svju85yLIAaxiJNqUYOi6o1auW7xD4PDvy8IYhIbaUoc0WjUrAZFv9egoXGqN4s/Mtk3aZzuQJx0B2IRKy8Z3fkRo9dsBC/6pEGs5TbfMDl0NsFVPJhQbzqmqH5gFGupWIlBv2Zyzy+bvfJ1zkUQg1iJk2pRo1L1hppdt/iHEhGDEINYSeND1aQGpd/zC3iD/h9G+34RB3HSHUYxiaYxeMnozo8Efc1aDF7kk4i13NZvmhw6m+AqLgr6puNKed8gNtJYidFXzS7F7JWvcy6CGMRKnFSLGpUqr5tdt/hMzwRBiEEao9ghqBNqVqq+Z9E4zRuaP8I+TePDxEl3iI2YvWTyDxLq1VgJXsQnESu5Tb9pcuhsgqu4GIO+VaTWalDvG0RjFlti9FWTu385Jt/N1zkXQQxiJU6qRY1Kad8sqesWn4mgZ4IYxCg01uKkpkKt1KhUv2elYrc3/BH2G0UqGo3d4qQ7xFosXjK5EJq+ZiUGL/JJxMbtfMPk0NmEfMXg0wb1JlIbRfUDYkusxOyrZv/I7JWvcy6EGMRa7FCzGpXSvknT60Z3XuehEI97JIKYxJY4VWNWsxqU1vfMDti309vfZk+MGjWIU8UOH7cSK7luciFGr1qJwYt8kliL2/iGUQ74FK7iYhqjN4vUWlH9mefusRIfe+i/tohRv2Z2KWavfJ1zEcQoZrFTzWpUVL3R8E+tPIwggpjESvwV1KSo6vcMDgz27XZgL46qIHVSnHRHNCaxkusmF2LU18xi9CKfJBbBbXzDIAfcG1zFRWL0JpVaK6o/85x7rDz3W9+xEpSvmV2KSX3WORHEIBaxUy1qUFT1DdetPUwIghjEShpHxUpjVMfUoJT2e3posm9b0NRfUZx0R8zSWMl1kwsx6mtGMXuRT8ZacBvfMMgB94aruEiM+lYFtVbUz2947u6Y5WO+YyUmXzW7FJP6rHMhCGIldqpFDYqqvumfWnlYCIIYxEpshIrT1JYa3Ihqv3dgse+E1ErjhKCpjdjh42bRmOW6yQUx6msmMXmRuyo2chvfMMgB94aruCgm9SYxqEUpN37+nHtM0ud+y3csYvJVs0tiUp89J4IYxErsVIsaFKXtsxYPE0EQo1iJWfyCaq2oaj1use9DNI6IIqgoYoePm6SxiOtm95u9ahCLF7nLRjh8lm8gB85GuIoHE4s3LWpRqj97zj0m8TG+YxQag37N7JKY1J8TIUYxi9PUrAZFqf7Y8waf+SceIQhiELPQGMVfRS2KqtbjZnvxoRo3Ezt83CwW4brJhZj1NYOYvchdVmJw+CzfLA6dTXAVF8XiTYtalPLBc9xjEB8z+I5R0OCrZpeIUf25EGIUszhVzYqiVH/8vMFnEhGEGMQiZrEljbU6Tc2qVPVxs30fqrGoOCF2+LhBNGbhusmFWPQ1YuVF7rISg8Nn+WZTh84mXMWDIWZvNia1KOoPcI9BPkbqOyYx+arZJWJSfx6CGMQidmqoWQ1KqV7xq89/RhKPP0oQg5jFIhZxQp2uRqW0Pmex7xdWh/bNUovY4eMGUTEJ100uxMqrxMqLBneZxOjwWfrNNAfOJlzFg4mVvmVRg0pRf4B7jJ77LYPvEBWTr5pdIkblz0WIQSziJmpSg1LqMj4TiTQhJjGLRcxitzpVjUq1/tU3zfYNYtFQO/XQYJ+UoERjh48bxEpw3ex+K6/Z8qLBXSYxOnyWfjMc8ClcxUWx0res1ajoHxjcg3wMqe8IFZOvml0iRuX7BDGIWdxMzWpQSi8bPCxEiEnMYiUmcbo6TY2qqp+z2DeIRkmd4sBkL2kUqVHs8HHEWnDd7H4rrzVWXjS6yyhGh1dCv8kh9wZXcVGs9E2xqEnpHxjdIz5m9p1ozL5qdglRKb5PEMRKKk5VkxqU8ozBQwkJYhKzWIlJrERDHVW71aiq9TmLfb+AA4t9URuxw8cRK6lcN7kQa69ZyzWju0xicHgl9JvpIfeGq3gwxMqb1mpSrprcIx9DlH9Vsfiq2SWDaIof3BBiECtxEzWrQalnDB76tx8NQcxiEouYxSRW6pg6TVGl/ZzZvpXUbj20ti+1ETt8XGwE100uxFp/95Nmcc3oLkRjcHgl9Ft6yL3hKh5MbPQtazWqq1aeCKL4Dr7miEsGMSi+H8QgVuJmalKD4mnnLnsoTzxKEJNYxCxmMYotdULtVpS2P/snZvuOS23roS37iBqlscMnKlbScN3sfhuvWcQ1o7sMYnJ4JepbHPApXMVFsdE3Y6VGddXabyGKh5xwySgovh/EIBZxUzUrytPOP/OZ/BYeDWIWs5jFLEZxRJ1QUjuU0tbnTPYNUkKROuLAUfvEpBE7fDxWosJ1s/ttvGYWrhndZRCTwytR33LgbIKruEis9S1rNfmKlSeCoDzkuMdiENTg+yFGMUnjpmpWgz5t8NAr/7EzgljEJGYxi1EcVbvVDqW0+jmjfbMoaeqIA8fs2xI7fDw2YnDd7H4b/d1PGoRrJncRs8Mror7p0NmEfAUXxUbfslaTr1j7LQSlDzvmklFQg++HGMUkbq4WNejTBg8nBDGLWSxiEqMYxawGdao6rkXbz2HfMaltB07YtxE7fMKW4LrJhRikZq8ZhWtmdxGTwytG/dYhn0K+gouxrW/GokZfsfJEDKIGfRifumrtsRilUfQHCGIRN1UrNfiy+3/Hw84gxCwWMYlFjGIQi6JRN9HUllJtP2ffzR3YYZ+oUezwCRvBdZP/9kwQ1Og1g+Ca2Z7R4Z7/8OoVk/+ThnwFDzpjW9+yUoOvWHkiBkHx/5mVqyaXzFKD/oAYxCI+RE2+dAHhnWc9ImIUo1jEJBYxCmKjNNTNNLVROnilsZGSOuLADvvEoMQpfq0xac9ofIULMYhBDfoOjclXTH7NJM9eMfq/DBq+ggcT2/r2DYOSCs9aeSIGoQb/WqVGXzG5ZBKK/kXEIGbxYfqlfxCDGP34socjMYhRzGIRs5gEsaW21OlqrbT9rrWgoqIxKKkDO+yHSolT/LqjnuVCEKMa9EdWnrX4daNnr5j0/47Js7gottVbaMyetfJEjGJQ/Gsrz5pcMohB0b9IjGIWp7tVDGLjdzwsIohJzGIWs5jEIEZBqWPqFLVW2n7XRowaR7xgl32LOMWvExqjhisuBDGqQX/3PitXzH7d6O/GpH9s9iwuiklqVG/Z8qyVJ2ISavCvLZ41uWQSFP2BGMQidrg1ZnHM73goiRCjWItJTGIWgxjFqGrRWFRQu9SktJ/dtxajprHtBTvsW8Rp7nPUFRdCzGrwI2tXLO4z+Ltm/eOo4AoXY5Ea9cn7aBr0WStPxCSowb9pKupZk0sWUfQHYhCzOOqpC0axU/o7HnZGiEnMYhGTmMUgxFrVKWqXhlJtfc/khtRG0Bj1wAn7RmnEae6zlpLL3B9rxY+NGly2uM/g75r1j2NyhQcjRqFGffI+G1csnohJUIN/Y9JcMblkFjXoDwSxiI2nLoibCF/wsCSIUcxiFouYxCjEWlE7FKndSrXe9hc2ihqECg0vOGbfKA1xmvsMomJ02YWIteLHVi5bOdf0P49Zz91ncoWLYhCjGtST91m5YvGEGAU1+jcWV4wumQQ1qB8iVmLx1AVxmpj1dzwiQYyCBjGJRcxiEGKjqNRpaqdq9bMX8BfWotwIKhV64Kh9syBOcx+xcZn7xUb5CWp02co5/J2Y9Z9RgytcFIMY1KRvxeKKxeOJSahJH77P5IrRJaMY1KB+ELERg6fc71Sx9gUeiRCToBGLWMQoRkHMUtSkbqqOKa3+8X9m8sNaNDWrGhzYsm9QaaKJ09wntlzm/thS/MTiGSvn1d+JWf8ZGi5zMWZpqEHfisUViyfEJEZFH77P5IrRJYOoqEH9Y/xmLPLUBbGIQR0Ta1/wKBGLmMQkZjGLSRAENahttUNDHVPa+uz9avYX0RhU6qTn2YtZI8RpzjnisguJbeUnFs9YOY+/HbP+85pc5mKMUkEN6sn7xOCyxRPEKCZFH77P6IrRYzFIrdQ/Nrjws1s1YhHH1Foaky94KANiFpOYxCxmMYlBxKLqmDpFHVFtffZ+g5r19aKpaFQq1OKGLRGnuS+2XeYBR5SfmOVpK+fJ34pZ/znKZR5MkMas6Ns0BpctnhCjmNSgf6bIZaPHYpEa1T8+l2dcIKm4iSK2fMEjnEHM0hjEJCaxiFEMIlZKHVenaGqj6kZ/ZKUWP1BScVRTg9Yk4jT3iY3LLiSOqnfNnrb2G/q3xaz/okbP8GBCrNWgb5tctng8YhSTGtTD90Vz2eixWKRG9X2X/YMz4q/qCx6ORMxiEI1JTGIRoxhFrFXtVKeolWpv/Lg2avEX4rgialbEac7ZkmdcSBxV3jV52tpv8Ldi0X9h0DzNgwmxUfRtk8sWTxCjmNSof2Z02eiSY+r7LvOA3VKp3X7+RY8KMYhZrMQoZjGJUcRGqVPVTjUp7f/gAbWlJvVDk4YGRWoUFeI052zEM9wfR5V3TZ628Zv+Ziz6/9ToaS4GsaX0bcEzFo9HTGJUk/6ZwWWjx+KY+r7LPIBo7NLUCV944D944lERkxjFImZBVMxiEEKMSg3qmDNWbtRONai2PzKobTUrP1TEUU0N4jTnbMkzPOCY8q7J07b85t+MRZ37TaMvuxjEWlP0HTxj8XiIUcxq1D8zuGz0WBxTvn+ZB+JD1HFf8GiIQcxiEYNErBUxCCImpWa1kiCo2Y3apWi1P65RHVGL+iEag8agFnGac7bkGR6wSM3qXaOnbbssFu353zT4sotiEBtFf1yetng8YhKzGvW7eMbg0Yhjyl/i1vgwdUQ+77GGICaxiMGZGMRKrYTEompRszPERo1uqJOqOvipn5nVlprV6IeoRZSI05yz5bILiUFMalTeJXzZlstiUf+yyJc8mCCNjeLH6stmj4cYxFoN6rs8Y/BoxDHVt/m9B4mVCg11VK3l8x5JBGmMYhaDJMQRNQnOWCm1UYk4pgY31HGl2v4U/ZlZbatZTX5ASgwacZpzNvIMDxjFpCb1LvJl2y6LWfmXRl9yURDbiv7El8weFzGJlRrUv8P/ZPCYOKb6Dm45Y5cKtdJoTD7v4ZwhiFmM0uBMxCIGNahBDM5Yq9qW2Klag9pWOvipyQdWaq3WavRDVAwapzlny2UeMIiKQY3qXeHLtlwmZuVfGn3JxRBHFX3XU2aPh5jESg3q3wm/j8fEUaXv4JYzbqJO+LxHRRCTmAVnQkxiozQGEQSl1EZipXFEW4taqWr7U4sPzOqIWqtBeV2J05yz5TIPINZqUO8ZfNmWy8Ss+idGX3JRxDGl7z5l9rgQo1irQT383/D7PBriqNJ3cMsZN1GpIz7vEWcEMYtJcCZiEVtqFolZFbWSIKhBiY221mrW0hvvq1l/ZlHbaq0m9XrjNOdozC7zgEFoTGpQ7xl82ZZnIialf2LwJQ8mxBE16Ps/f8rk8RCTWKtBPfzf8Ps8GuKo0nfwxYtuqo76vEcSISYxicGZiJXYVqOQmFVNapQgBkWNgtSobthWg1ZvvN9Qs/7MojZqowZFnOY+YnGZBxAbNWrfC1+25ZmIBqV/YvAlF4U4okZ90uRxISaxVoPqq/wej4Y4qvQd5MwZa6ndKjX6vEcSIUYxi8GZiI2QWilCYqU1azQhJlWLEBS94ahS1RvvGzQ1+8BKLSpqrUZxmvti7TIPIDZqVO962rZnghiV/mnxJReFOKbokyaPh5jFWg2qr/b3eSQhjip9B8ktaQwq1CDqFE96JAliFJMY3EJsi5jUoDE4Y61qI8SstYiYlN5wVKm2P7VSiw/Makut1CBOc65idpkHEBs1qXc9bdszQQyK/inNUy6KOKH0SaPHhRjFtqL8e7+HxwziiNJ3hN/1aZMKmgqK1DFPevhMhJjEKAZnQsxKSKzU4gwxKKXWIkahNywiFnWjjiqtvn/DRs36M5PaUosiTnPO2mUeQGyrUd/1tG3PBNHUoH9q8JSLIU4ofdLgcxFiFNtqUP/e7/FoiKOKvkP6RZ+2pWJbbXuSx8QgiFFMbhGLIiTWapLErIpahCAmPzdLQk16w6xWqv77/+7G+46o2QdGtdHUoonT3CcmzWUeQBxRg77radueCYIa9E+Ep1wMcVL5bYPHhTSIo4rqq7/Ho0EcUfQdgy/6tG2NE2rxJI8JMYhRTM4kVmqQM7bVIM5YaQ1qFkFs/BxnYlSDtjZqUFU3fuqYWnyA2lYrcZr7pKloLvMAcUxR7z5tyzNiEDXqn9I85WKIk+q3DT4XIUZxRA2qj/CoII4o+qPiiz7tQ1Vq8KRHE8QoiEnOCKIobnFUEc5YqRo1NASxUw3qhm1FtfquOKFmH6jjahCnuS80VC7zgDiuqHeftuUZsaV/SvMUnxY79LcNPhdBjOKIGlQf4VEhfNYli//EPY9R7xh80ad9qMaoT3osYhCjmGSAGLTc4oQKiZWqLTGI3YpqbSuq7Xt2qsUH1JYaxWnOmTWXeYA4pgb17tO2PCO21J/ylIshduhvG3wuQozimKL6CI8G4bMumfU/dc9jtD8y+KJP+4XUkx5NCGIUo5CEGERjEYPaOCMmpWojBnGKUlXbSrVu/NRutfJBHVGJ09wXapDLPECcUPR3+A1PWzwj/1F/YKX9f3nKxRAnNP+jweci/n/K4K5Jz7uwE/T106R2D+do8h14+QapMGFKKkxV5miYg7W8takVnhxkgmJ3ty3RBAdsSdjdkg3B2bCOAqyJqVpgTJgDy3ELAmQyxeDaqh2Zl3Uyr5lsKpZNBgxZCLF++7/v5+lXdVvNdRGTOKiUnnM+hlzAutnb8T+9X71u+Lj7HUfDFe+PICYxxHAixBB7xKS2JbFUpXYEsS21X1Ut1UKp9tZPHK0Wflp7NXGU/zUaw1XOIg6qoR/jXk9Z+j35+d60VH1Rftd9IQ5x2XApQgxxu6L630XIBcO6ydsNN5TXDR93v2Pq49YJMYkhJidENGJbbKulJJaqqG0hlkKR2lWtbbVQ1fbH3kwt9af2iKOcsXSVs8Ttin7MvTxl6fe891/3pqXqi/K77guxKzW7bLgUQgxxu6L6fYJcMKwbLnzWcEN53fDx+8TxXPH+CIKYxCQJMcQs9qkhEttKTRpLsRRDkdpWVXvUUNX2x95UbetPbYujnDFrrnKWuF0NH3UvT1n4Pd77r71iqfqiT7hPiIWY1HDZcEmImMTtiur3xXDRZN3wdpMbyusmH3e/Y2iusC7EEJOYRCKGmMUBjSFBKKr2iYXYoxZKqb1KVdsfu4Pa9XdmcZQzlq5yljhE+ah7DU/Z9qXoTQvVF33CfUIsxKSGy4ZLEkMMcZsaqr4fw0WT94cLnzW5obyO5uPudzxXrIcYYhKTkAhiIQ51QixUqb1iIfaqWSma2lWq1b+NY6htf4c4yhkaXOUscZj6KO7FU5a+FHrTQvVFn3BfiB2hhsuGSyKIIQ5Tqr4fw0Wz98eFz5rdKK83+Lj7HcsV708IMYlJDIkQS3GYJLZVqT1iFgfUpGrWqKWqav82jqe2/V0c5QwVrnKWOFQ/invxlKUvhd60UH3RJ9wnYltQw2XDJRFiEocoqs69HxctrLvwWQs3yg8M+bj7HcsV6yHEJCYxRGKISRwuJ+yo2lFiIQ6qSdVeNalq/SiOqbbFUc5YuMpZ4lBPGO7FUxa+JPSmWemLn/AbCbEQC+Wy4VIEMYlDFKXfl4u2rV94JhZuVH9Y5OPud2fNFdYlCGIWQ0gMMcRhQsS2ql2NbbFfzUrtV0q1f+uYakcc5YxJc5Wz4nBPGO41PGX2JaFumpS++An3iViKpbps+AghJnGYovSHb+SibesXnomFG9XXTZ50v6g7ufWE9QhBTGISRBCTuE0MCYKidbigsVQLNam9SlX7oTUHbGDNHqfUl281qEkc5YxJc5Wz0phEY6jZEyb3Gp4y+RKhbpqU/l//m99IxBCNHZuGSyHEJA5TQ7Xn33/Rtj9ILN0ofd3wpPsdxxXrEYKYxCSGxBCTOCgmJ4iFKnWYoLFUs9qrFkq19bcO2MCaPU6VL99Co4Y4yhmzhY+lHQAAIABJREFUq5wlZkGDmj1hdi+eMvkSoW6alLrXfSKG2GPTcEkIMYlD1KTq3Psv2vFMLN0ofZ3Gk+53hMbQGK5YjwgxiUlMIohZHBCTRCyVUrcLmsasFmqfWqiq9kex34Zhza5TyhYaNcRRzphd5Swxi201PGHhXsNT/GEQyk0Uda/7QhB7bRouhRCzOEwNVecsrLvwB7mbz/LzXtEb9HWTJ91vkjpEY2iusB4JYohJzCKGmMQ+sZCIbVX7NXY1ZrWt9quhVNsPrdlvw7Bm16lii4YGcZQzhuYqZ8UsdtTwhIX3Ck/xhyGGuomi7nVfCGKPTcMlEcQkDlVD1TmzdS545m4+6+d5RW/Q102etKKIOkofZz0iiCEmMQkxxCSNHbEQiV1Vd1b71D6lqu2PYr8Nw5pdp4otsxriKGcMzVXOiknsVU9Yeq/h9/xhEEPdRNH+C/eFIHZtGi4JQUziUDVU9bxhHW89bfjsPxKv6A36usmT7o9ZHarBFeuJEKQxxCQmMcRCbItJkBiCouqO6oDaq1SrP4z9Ngxrdp00bJnUJI5yxuQqZ4lJ7FVP2PZew+/9YQyhuEnR/ov7RBB7bBouCSFmcagaSnvesI63njZ89h+FV9QNfR3Nk1bM6ijNFdYTIYhZELMYYhYLsRTDCWKpSh1THVSzqmp/a82wYViNYcOw5q7gOcNJwxZNzeIoZ0yuclZMYp8+Ycd7Db+cGIJyk6L1nRBij03DxYQgZnGoGkp7Hut462mTLeEVdUNfN3nS/WJSR7piXSIEMQliFpOYxFIsxJDEjqrbVBrqMLVfDaXa/jCGDcNqqE3Dmo0v4znDScNWU0txlDMmVzkrhjjgcTvea/inMQTFTTW03xFB7LFpuCQIMYnD1VDqHNbx1tMmW8Ir6oa+bujvWKGCOkIuW48IIYYYYhaTmMUsFmJ2QuyqGhqHaNQBTe1TQ1X1h01jw7Aaw4ZhzcaX8ZzhJHq9qaU4yhnDVc4SxAGP2+O9/HJiEjX0pqH6HSHErk3DxQghZnG4GkqdwzpvPW2yRXhF3dD+0PCkFUtNHSIuW5cIIQ2CmMUshpjFtpgksUfVndTtakdRVe0PiQ3DagwbhjUbX8ZzhpOGLdRCHOWM4SpnxRD7PW6v9/rliFlq6E1D9TsixB6bhktCELM4XA2lzmGdt5422RK8om7U62ZPWjErovaL5rL1SAhiEgQxS4NoEEsxCydMYihad9IYap+SWii3qPaHyIZhzWTDsGrzy3jOcNKw1TTUEEc5Y7jKWUEc8Li93uufikmoySuG6ndEiF2bhosRgpjEEWooPWdY99bTJlsEr6i+1Fs/MjzJij3qoLhsPRFBTIIgFmISk1iKWXACsVCqjqsOqklplb5OumlYM9kwrNn4Mp4znDRsGWoWRzljuMrZIA563D7v/eXEJNSkN1H9LkFIzTZxIREEMYvD1VB6zrDuradNtgheUX2pffTX0N+xYq/alabisg+ICGISBDGJScxiIRaCROyoOlrdpg6oodwq+jqygTWzDcOajS/znMlJwxaaGhJHOWO4ytkgDnjcfl+MmETNehPV7xKC1GwTFxIhiFkcoYbyoMn6W0+bbDVCX7tVfak+8mvo71hxUFNiaHDZByQEQQxBDLEQk1iIhRiS2KPqzdRtap8a6lbR17FpWDPbMKzdJXrN5KRhixqCOMoZXOWsIA543H5/KGahJr2J6nebEDs2cSEiBDGLI9RQHjRZf+tpkxck6Gu3qjeaj/ya4UkrbldiKZs+ECFiEpMIUjHEEEuxEJMk9qq6s7pNbSuqRX+ATcOa2YZh7S7DczGcNGyhZomjnMFVzgaxELN63H7PnhCToCZ1k+p3CSE12zRcjBBDTOIoNdSDZn/gtMkLIvS1W9WX6nWiT7LiNiU0hsvWIwliiCEIUSEmsRALMYvEXqWOpW5Xk6Ja9AdsGtbMNgyr7zY8F8NJwxZqljjKGa5yVohtMevj9vtixCxqVjep+q6IHZu4EBGCmMVRaqgHzf7AaZMXQpSbVTe8Lvi4FUTtUzGLXvaBRBDEEEOISQyxFAsxCycsxFBqqOOpg2ooVYrv2zSsmW0Y1u4yXDM5adgyNEriKGe4yllBLMVCH7fPFyNmUbO6qbS/en+IpU08kkSIIWZxlJr0QZPPJHebvBChnHxG3fDDRvhtK2JWtwmb1uOEEGIWghhiFrNYiIWQILZVHa4I6qDaq4ZSrcn3Nw1rZhuGtbsM1ww9ZdhCDak4yhmucjaGWIilK/b5YsRS1Kx9tbS/ukJs28SFiBDELI5W9EGTz0TuNtmydPIZdcOPzH7bamPWqL1CNqynyQmEmIQYYohJzGIhZjEksUepO6k9Go3aVVS1Jv3BJtbMNgxrdxmumZw0bKEI4ihnuMrZICax64p9vhgxC2rWvlralxFLm3gkCUGIWRylJn3Q5DMJdxu2kOLkM+qGHxHDx1bErKR2xJAN62lORAwxBEEQGmISC7EQkxOxT9Ux1GFqVkqrJr9pWDPbMKzdZbhmctKwRREljnLGVc4KMYsdV+zzxRALqaW6WdqXiW2buBARBDGLI9XwgMlnInebbNl28hnaG4++z+xjK2KhUttiyIYP4IQIMYkhBDGLScxiKSZJ7FPUMdVBNRRVrf7gH/pNrFnYMFw3vPCGyUnDlllJ4yhnXOVsEEPsumKfZxNiFrVUvUn7qytiaROPJCHEELM4Ug0PmHwmcrfJlm03S3vj0feZxM9F6oAGseEDREKIIYghxEIQs1iKWZywEBql9mgs1BFqvxpKVbU/2Pzw6xusxmzDcN1wzeykYcuuOMoZVzkbYiFoDFfs80UhZlFL1Zu0LxOz2MCFiCCIhThS8YDJZ0TuNtmy7WZpbzz6PrN8dFVqV2MpNnwgSARBEAQxiyFmsRSTkJjEQqkjNYY6RG2roVSrNfxg0yoxbBiuG66ZnTRs2dbEUc64ytkghthxxT7PJohZqIXqTdqXiVk2cEFEEMQsjlYeMHk6kbtNXoilnnpG9YZH3yeGj65GpZYaS9mwHhERRBpiCGISxCwWYiFIiF1Vd1aHqYVSqjqEH2xaFZMNw3XDNbOThi2zBnGUM1c5K8QkaEyu2OfZhJiFWiq9qX2ZmG3ikUQIMcQsjlYeMPmMyN0mL8RSXxHVG4++TwwfXY2F2m/TepBECGKIIQQxiUksxUIMJ8Q+VcdVB9SslFZb/GCTVWLYMFw3XDPpKfS6bRVHOXOVs0EMseuKfb4oxCy1o/Rm9WWxsIkLIoIYYhJvoh4weTrhtMkLYqmvhOqNR98Xk4+uxlLtCjasRyIhhiAIgpjFJCaxFJMk9ivqZ1B71KSoaqv8YNOqhWzguuGaWU+h1y00TRzlzFXOhhhi1xX7PBshblN6s/qymG3ikUQIMcQs3kQ9YPIZkbtNXhBLPfUM1RuPnjWJJ9bsVbNgw3okEoIQQwxBNGISs1iKSZywFNRQh6o3U9tqKFXV3soPNlk1iw1cN1wz6yn0uoWGOMqZq5wNMcSuK/Z5NkHcprQ39WUx2cTDSUQQxCzeTB8weTrhtMkLYltfLdUbPzaJfnQ19ipismFdBhEEQQxBDDHEQsxiIRJDbCt1J5W6TS3UUKra3np9E6sWsoHr6PNmPYVeR0NDHOXMVX6DmMSOK/Z5NoK4TalX9GUx2cQjiRAEMYs30wdMnk44bfKC2NZTz1C98WPE8MSafUoaw4Z1mRBiCDEEMcQQCzGLhXACsUfVMdUBNStKVfuBc3+/iVVLm7huuGbhJG592a54cx+sHTV7xB7PiiBuU+oV7Z+lYRMPnxAhxBCzeDNrJk9HOG3yglgqr0TVNxFD/kEcKo9Zd0ISIghiEmKISQwxS8UsOCH2KfUzqL1qUpRWWTdZtbTJVtDnLZxEr9sVd/BB22rhYXs8K0LcrlRvtv/FUB/hkUQIYohZvJk1k6cjTpu8QCyVU8+o9kVi9nNxUEOaW5sP/g+SCEEQBDHEJIaYxUJMkjig6mdUu2ooqqr9gGHVtk22gmuWTqLX7Yo7eMhSbfuwXc9GELcr1Zvtf63hEo9EhBBDzGJXGtSuNZOnQ+RukxfEUvVVql609MSaI+QxfjOSEARBEEPMgpjEUsxOxEIsVL2pOlRtK4qq+s//u8mqbZtcV563dJK6blfcwW+Z1B4fsuvZCOIQpb3Z/kUNFz2chIghiFnsiKXatmbydETuNnmBWKq+StU9Z8XkiTULqT2Cx/ym/PR/FEEQBDHEEEPMYikmkRhiV9WdNXVALdRQVPVv/uEHDKu2bXLdcK0xO6lctyvu4EPUHvUhu54NQRyitL3ZvzC54JGIEMQQk9gVC7VtzeRpCadNXkAsVV+lqi+KyRNrFtLUtlAbeEhEiCEEMcQQk5jFJBbCCcReVcdXe9WkhlLVrpus2rbJluH5xuykct2uuIMP2VWT37Lr2QjiEEX1lf43wyMeTkQIMcQs9oqhdqyZPB2Ru01eIJZKX6WqL8YkJxJRadRCDM1jfDAiIghiCGKIIWYxiYUgEQdU/SxqV02KUlX/9XexascmW3i+xOSkct2uuJMPW6rZQ3Z8IYkgDlFUb976S/QRj0SEIIaYxB4xaajZmsnTEnK3yQvEUumrVPX/roXEEAsVGgSPeigkhBiCIIYYYhKTWIjJCXFQUT+jWqpJqap23bAS2zZtGa6ZhZPKdbviTh6mUTs+aMezIohDFFV//f+qhz2ciBBiErPYESomNVszeTrCaZMXDDGpoa9S1X/vliFE3CYNj3pIQghBEMQQk5jEEAsxOxHbojFUvbk6TC3UUFS1f/XbhhWpmG1uGa41FnKybMWOuJOH7VMftOPZEMQhiqq//qviw49EhCCGmMUeMaulNZOnRTht8oIhZkVfpao39JYhTrhNDPERD0mEEMQQBDHEELOYxUISC7Gj6lhqn1qooVTVeZMVQ0w2bRmu2XaKum5X3MkjttXkN+14VgRxqFL1139l+LlEhJz7SExiFu/8ioXYUbM1k6clnDY8n5jEUEP7mtL6nx/wBuKEIWioGGL4iIdERIghCEJMYhJDzNIYghPEAVXHV7tqVkOV1nmTFQth05bhmm2nVL9sV9zJBZPa9gE7nhVBHKao6r/XDz2ciBDnPhJDzMI7v2IS+xRrhk8nEU6b/FFMgprUq0rrJfw9cULsF7Nc8lBEhCCGEMQQQ8xiiFkMibhN1c+oFmpSlKqev7COFTsu2zJcs+2Uct2uuKOL1I51O/5VQhCHKUp7o3IiESHneNQQk/BOvkIcVNZMnhbhtMkfxSRqVl5VWt9C38CJ2C9idslDiQhBEEOIIYhZTGIhhhPEPik1q7hdo25XSzUU1dJ2nRW7Lm8ZrjWWTinXNY1Z3NFFO8q6Hc8KQRymKK0bnDghhPN4FDGLd+IriKExa6g1w6eTEKdN/ij2q76mqr5dw99zIrbFLBYueSgRIcQQhBiCmMQsZjFJxI6YlTpaY1b71VINpbTq1vcuW7GtubxluGbHqeJ6EbO4o0toauH9lr6QCEEcpiht/9mHnYgIOYdHiVnqn+AriANqzeRpEU6b/FHsV31NVX2nhv69f2ASS7HjkoeSCCEmIQhBLMQkFmKSxELsqjq22lELNZRq1Xms2HV5y3CtsXRKuV5LEXf0EWrHedv+VYQgDlNDVb9FEsJ5w6OGILzT8McVB3XN8OlExGnD8yH2qb6mtPpdSt84IXbFtlz0UCJCxBBDCDHEJCYxiYVIEAdV/SxqqWZFqQc+os5jxa4T7zI8R8yak7jLqtlbiDv6iF09b+kLiRDE4YqqfruSCDln8qiYRP+JyVeIA7pm8n8kxGnD8xH7lL6mtPpdC7fsiIVQueihSEIIYghBEEMsxBALIRH7pCiNmsUedbhaqklR9YBLnMeKXZe3DM8hJj1luMuq4S1E3NGjGtTknKUvJEIQhyuq2u+QhJwze1RM4p2kfEUc0DXDpxMRpw3PC7FX6WtKq/+PpTdMYlsas4sPJRIiiCEEMQSxFMQshhPEjpiVOobap2Y1FKUeuMR5VuzxbsNzhpidNNxl1fAWIe7osdrxoKUvREQQRyhK2+9WEnLO7NGYxTtJ+ePGAauGTyURcdrwfIh9Sl9TWn0ZNdyyT2y7+FB+i4eFEMT5P/0aMQliErOYxZCIpdhRdVy1o2ZFDVV98JLzrNjj3YbnzNJUTuKulRjeIr4dd/aYhfKgpS8kQhBHKEq13yXhvG2Pmb0zovhjB60aPp0IcdrwfMR+pa8prf5ZLfSWvWJbLxkeDiGGvCO+RhDEQpDGkIohiYXYq+pnUEs1qaGU1i3nWbHHuw3P2ZbmJO5aNbxF+Hbc2Qa18ICFL0SEGOJQNZRq/9lFJOdse8wQvxRS+lUHrBo+lUTEacPzIvYrfU1ptX9uVt6wLfa4aPKwCEG8I74mxBBDaBBDLCWCOKjUfjGpw9VSTYpSrfY8K/Z4t+E529KcxF2rhrcE344727BjzcIXIiKGOEJRqn25yHk7HjPknbb9sQNWDZ+OhJw2XIsQ+5S+6xnVav+XD6pZ37AQe100e0QI4h2iXw9CDLEUQ0yChNgVmqLeTN2mlmooSrmlzrFij3cbnrMUzUlsmWz+Pt9p3NmmSbFm4fNJCEEcoSjVvmw4b4/H8M4gin7VPquGTyURctrwPBH7FH3XM6rV/sdaat8wib0uWnhEBOk/Jvr1IDGJWcxiEiSisRRLpe6kqb1qoYaiVFvnWLHHu9FrZjFsXsNWw1uCb4s7u1xLqxa+IBFiiCPUUFW3/gzn7fEY+aUgin7VPquGT0dEnDY8L8Q+Rd/1jKrWfzDU7NYtt7lo4ZEQwjtM/kQQk5jFELMYErGUxlJTdWy1VLOiKHWLnrNij3cbTq4gFjavYcuw+fviW+LOLltasfD5RIQY4gg1VFX/vM7Z6zHeGTv6VXutGj6ViMhpw/OE2Kfou55R1ep/qm39ewddtHQBEd5Bmv7CY4ghJjGLIWYRsRD7VP0MaqEmRVFVfZAVe7zbcHLFEI1m8xq2DJu/L74ljuEKNaxY+IJEEMRRilLaP+dB+z32ztjRfs2uVcMnMwg5bXieEPsU7fdUtfqfzGryU1Rsu2jbhSbEL4bQX3iMICaxFMRCIhZivxoaC43GtjpEzWqooZRb9EFW7PFu5dSKIRVsXsOWYfP3w7fEMVyxcL/Z5xMRYhKHq0mptv/hQftt/FLsqq/atWr4VCLCPYZrEcQ+Rfs9pa3+Z2pb37hlr4t2PJII70CoX3gshhhiEgsxCQlCxUJQQ+3V2NVQB9WshhpKtfUgK/a4y3BqxZDGsHkN14vNT/KdW+IYHrdwn9nnExFiiCPUUFTb9zz2gH02fikmqUn/OLatGj6Zgchpw7UIYq+i+lpKq/0vtVCTv0PF7KJdF0L6jlj6hQ3EJCYxiVkMiWhsi1lT6jgatVSTGopSrT7Iqtpxl+GUFQS9zDXDFm9DXiKO4Qk13Gf2+YgIMcRRaihV/Y9r9vumIKihX7Vj1fCpRIR7DNdEEI1tNVS/p7Ta/sqHUUs/seuivS6KX4whyp8aYhKTGGISk4TYEUuNquOqpaKpoaiqemVzldp2l+EUK4Zgk2vodd6GvEQcwxNmv2H2+USIGOJINZSq9j32+2bMUpP2a7atGj6ViHCP4VoQxK4aqt9TWm1/5cO2FT+x46K9LoZfjEnKnzZCGsRSDDGJxI7Y1lDUMdW2GmoopXXrz5+yilq6y3CKFUM0m1wzbPE24SXiGD5K+Q2zzyURIYY4Ug2lqn2P/b4Zs6ih/ZqlVcOnIkHuMTyXEEPsqEn1e0qr7V+Y1dKPLV203yW/KLb134ohiIWYxCQktsU+NakoqaAIjbpNzYoaSqn2xf/TqllN7jKcsmISeplr2MLbxLdKHMNHTc6afT4SQgxxpBqKavse+3xTENRQvmph1fDJJCLcY7gm0iB21KT6PaU6/LdG7aifUHHBfpf6i4lZij8NYhKTmMVCIoZo3KZo7NOYNYZG7ahJTYpStbqxxqqFGu4ynHJ/DMEm17CFt4WXEMfxMfSsyeeSiCCGOFINpbR9j32+GUMqNal+zWzV8KmICPcYromYxVLNqt9TqsNf1kIt9CcmF+x3sf9Y7PrTEJOYxBBLESL2igqKOpZaqllRlNLVxx5g1Y66y3DKiiHYxDX65Xpb8BLiOD5meJ/J5yMiiCGOVEMprb7HHt8kiKYm1a+pWDV8MokQ9xieS4ghdtSk9HtKdfjLhpo0hvqJuuCgPyF2/VtiiCEWYiFEEDtioSZ1TLVUQw1FqZWN3txYtce7DKewgqjLuIZe97aQGyKO47fx6yafS0KEGOJoNRRV7Xvs+EYihmhqKP0alVXDpyIi3GO4JsQQjVnNSv/7rVId/KVttfBjHnHQ10PMUvQbZkFMYiEmCWJHLNWsjqsmTVGTUtpVG2vWqG3vMpzCiiHNJq6h172d9CVpHMfHy6+bfC6JEGKIo9VQVLX953b8u4i9Sr9erBo+mUiIewzPRcQkGg1qofU9partr1w01Lb66RsecdDXI40hNfQbhpjEELOYRRBLsa2WGgsVGrOK2q8WaiiKaldtrFlDLb3LcAorhtzKZVxDr3u7uCEax/Fx/qXJ5xIRQgxxtBqKqrr1zy19IxJDDDWU9k80K4ZPJhHiHsNzCTELGrVU1b8ppcNf1a6a/PhhB309xCSK+oYhxCQWYhaCWEhjqY6rdtSshqKU+9lYs2ZSs3cZTmHF7LLhGnr97cJLJXEcT+q/NPlcEiKIIY5WQ1FVfY9t/y5ikkpNqv03tWL4ZCIi3GN4LiF2hFqq6t+U0uGvLNWO/+9h+309xCyU+gZBTGIWS0EMMUmF1q//NnF8tVCzGkpR99t849UNayY12XyB/tGmVY1y2XAN1/v24Ab/P2Xw9mzpWdgH+vlpau7zd0xNai5tl01lQC1hcujGIc5h0jKDBD6QSYJEq5Vc52Z0MBdTM2TKF1BFquZQGHZPjCSPWkJAS7RwbJcEsUNcHJyLVNkMqHUmCWj/5n2/b6211+7even9PBJ34n/zj0yfj0QIMcXt1VSqqv1Vi28kYgpqUe3PfYqH8NlEhFw0PB0hTlTVG6Wq7V+oY4of/wvHXIvYV3/QGIJYxCIWQf0T/ldSUTXFWdSiFkVR6iFPvPtDW8X7Dffgk7F4Ag++H8/6b0O+icQd+bSPGz6fiBBiiturqZRW+6tWfxCxSK1K9esexGcjEeKi4ekIcYKi+iqqOvylVR355465JsSR4pc+hRhiSGOIxhRDEbFRxFasapGGitpXq5qKUspDHn/4UmzV+w334BKa5gnD7+NZf5X0W4a4I5/2ccPnExFCTHF7NRSl5UMW34iIKWpqVPXrHsRnExFx0fC0CHGCovoqSqcfGOpI+eeOuSZiX/lGxBBTrGIRq4Y4Ln62OlKLGmooVR7yP/+zh+009xruwSVTf9tw6Rye/avEN01xR/7lbxk+HwkRxBC3V4tSqh+yeCkJMYWamqpe/wQ+G4kQFw1PByFuVVRfRWmrP6idWvwzx1wT4pj6pU/FEEOsYhH74pi4M7VVixqKUuohPGzPvYZ7cMn0hOnSOfqXIb5pijvyL3/L8PlEhCCGOEVNpVQ/ZPGNhNAQQw1F+wfvfoLPRiLERcPTIYhbldJXDdVq/8fHTLXVPOKYa4LYV/+mQRCrWMQxsZHG2dRGTTUUVeohXFZb95ruwSVDf9t06Rz9AeGbprgj//tvGj6fiBBiilPUVEr1Q6aXkhCLGGoopT/HZyMi4qLhaRFD3KIovVFUtf3/1E4NjzjmmiCOqf4hMcUUq1jFvjhRrOpktaqpKEo9+Kn2Ei6r1b2GPvMELpmeMFw6R/0g+KYp7tznIyGCGOIUtSiq+iHTNyLEIppaVOnP8dlEiLhoeDrEELcoqm4UVR1+aFU0hsv2XRPEMdU/RIgpVrGKPXGLOEFjVTu1qqEoqqq95LJFDY9fxTOPGy6ZnuAS59AfRF6xiDv3+USEIIY4TU1F1d82vZQIsUhtleq3MokQFw1PhyBuVVTdKKo6/DDUqobL9l0jxE3aP0TEFItYxVbsiztWG7WoqShVVZ902UZ5/Jnw3LuP45LpCS5xjvrA5+QVi7hzn09ECGmIU9VUlP5t0zdECIJKLUq1P//ZiIi4iCeTEMStiqobRVWHH1nV6mF7vpoQ4pim/SNDEKvYiI3YibOqjZpqKEpptZe4bKMev0qvPm66ZHiCS5yj/aF4Oaa4c78rIYSY4jQ1FeVXTC8lQgyhdkrVn0pEiIuGpxJiiiMNaqi6UZS2Dl811M4l+74WQdykDv8YQUyxikUcieNSRK2iqZPUoqYailLVQ5e4bKPuRa8+brqk8QSfjHO0PwwvxxR37ncjhBBTnKamon7F9FIiiFUqNZVSfyoRIRfxZBLEEMfVoqo3UFrtq7VTLtnz1URMsa/UHyEIYiMWsRM7afxMdaRWNRRFqepDhss2em+j7jU9THnCJZyjPvCvvNKY4s79bkQIYohT1VRDf8X0UiKGWKQ2iqp/R0TIRcNTCbGIY2pR1Rsorfbd1y1q8Un7vhYxxDGl/iiGGGIRq9iIrTiD2qmppqKUaj1kuGyjjz9juNd0KXicSzin/JBXrOLO/W5ECGKI09Sihg+art8lYghRRE1Fab8dIeSi4WlCTHFMTaV6A6XV9jVqo5+056sJIY1Vair6x4YQWzHFlIqtOLNa1aKGolRVHzJctnXOdK/pUvA4l8jdyg95xSru3BeIEMQQp6lFDR80vRQJMUWjaWoqpf12RMhFw1MRYhH7alGqN1BabV+zquEhR75ylwjiJkX/GEFMqSBWsRVH4mR1glrUVENRSrX9JJftnDPca3EpeJyHcTf1w3jZKu7cF4QQxBCnqUXxQdNLESGNRTS1qqL990LIRcPThFhEY6M2SvUGSnV43VCrBx35akQQNynalw2np4+2AAAgAElEQVQxxUZMsYqN+Jkai9qqRU01lFLqEz71H3/bZTvnDPdaPYzHeRh3077Ky1Zx574gQhBDnKZWxQdNL0XEEKSitkpp+2cR3IcnI0FMUTE0hpqK6g2U6vBGbfVBR74qIYY4rmhfRgyxiFVMaWzEmdRGrWooilL1U/kkl22dM91rcSl43MOGu5UfecVQEXfuCyIEMcVpalE+aHpJRMQqjZKaqqjDX/ickIuGpyKIKSjRaNRUSm+gVFuHbxoq9QlHvpIIMcRxRb3nf0HERqxCbMVGGlPjSJ2spqYWNRSlVPXdfNJlO+cMz3rMdCl43MOGu5UfeYUK4s59QYQghjhVLeqDpuuJILGIhkoNNVQd/sLnhPvwZEQQq1RMlVqU0hso1erhW2r1Tx35qghB3KSovhxDTLGIITZiFaeqW9WiphqKUkp/Kp90OajpnOFZj5keNjzuUnC38qqXaZS4c18IIYYgTlWL+qDpJQlBTNFU1KKo6s9/TrgPTyYEsREqaqdU3UCpVg/frkX/qSNfSQQxxHFF9RVDEItYxBAbcQa1VauaaihKlf7UXX/56COGms4ZnvWY6WGpxz1suLt4tS/HVHHnvhAhiEWcplYXTNcTIcQilUYtaqjqz39O3IcvJSGIrTRN7RRVN1Cq2r5lKv/EzlciIhZxXFF9hSBWMcQUU2zEcU1jqFvVVk01FUUp1XqQR0wljz5jeNZjpoeFmnquePXlhgZx574QIYhFnKZWF0zXExFiJ5pa1FDV/sK/4j48GRFTHInaKapuoFS1fbtW/9jOVyKCII1jiuorhFjEIoghNtI4Vd2sFrWooSilVPVBHjH1MY88+ozhWY9ZPBzUdHfpjZdtxRl8UYghhjhVLS6YrieCiFUqqEUNVe13uA9fSoQY4mQ1VL1WSlWHd0z9x3a+EhFiFfuK0m82YohFDDHERtyZOq6mWhQ1lFJVfdAjVo965H3Bc/WYxWVDTXcXP3rFVpzBF0MQU5yuFhdM1xNBxE5Qi6JK+x3uw5MixBAnqalKX6NUdfgx5X+y83wSQkxpHFNU+y0xxCKIIVaxJyqOqZvUVk21KopSqrQPesTiUZ6+K3iuHrO4bNHU+wxfthNn8MUQQwxxupoumK4nQpAGqeOKlup33IcnJcQQt1GUOnydotXhP9Xwj+x8JSLEELcoqv1WEFNMQaxiX5ysjquNmmqqoZRSVX3QIxaP8sijz9D3X/aYxWWLSt9n+LKdOIMvhiCmOF1NF0zXEyKIrajUVFNV9Tv34UuJEKs4STWl7esU1Wo/8mnDx209n4gghrhZUQ7/LWKIKYaY4iZxosZQe2qjhpqKUkqpfoJHrB595NFnDM+KR02XbfV9hi/biTP4YhBiiJ+hhgum6xFBiCmGplY1lWq/exFPihBDKk5SNbR9nVJa7U/eLR+39XwiBDHEMbUo/RYxxBTEIk4St9PUnppqUdRQRZXqJ3jE4lGPvC+Nvv+yxywu23mv4Xm1EWdwgBBTnK6mC6brCRJTEJTUqqZSbb930ZcSQhAnq6mqXkOVavvuT/Bbtp5PRBBDGjcpRQ//RBAEsYrbSOP2aqsWNdVQzcfxOV5XDvnEI4ZHH/Eoz2j8xZ/4b8K/fYzLdt5r+LKdOIMDYoghTlfTBdNLIsQUxKK2aijV9nsXPSkEIW7WGCpVtH2doqrt4U/4TVvPR0IQi7hJUXr4J0EQxCKNxm3EaWr4df7vqlLUUIva19APG55R+QtTbOSi4fcVH/g/hFf+uz8mzuAAIRZxqhoumK4nRBAboVEbNVSp/oLfSyKGIE7WVNH2dYqqDj+p37T1fCKCmOJWpbR/7dMIMcSUisYp4khQGx8zHIjEO1qUonbqyK+ZrtZ0+MufE4v7DM80qqZf/j//ig/gKXEGBwQxxelquGC6nghpiFUMtVWaUtXD7/+ViCBWcbKWal+nqOrwE79h6/mIEGIRtyil/WufFmKI20njFrEVtfExw0EiIkIQxBAbsS8WjaFRola1KGponMGBGGIRpyoumK5HhCAWqWgqNdVQSrU/SoQQQxq3qKCl6jWKqg4/8Ru2nk+QIBZxs6K0f2oIcQfimNiIoYaPGQ6SCBGCIIZYxUYat1FbNRQ1NM7gQAwxxM9QXDBdTwQxxRA01Kqooap9NUIQUxo3qRhaql6jqGodHr77GzaejwhBkIp9FUVp++/EEHcs9sUQi37McCCJCBFDEFMsYhWnqUUNjaI0zuBAEFMcSYU6plwwXY8gsYghiqipqalUtTcIQWzEcY2mlKrXKKqqPXz31208HwlBDKnY16CKOvy2IfbUSWJf7InY+KjhIIkIEcQQxEZsxO3VqlZFaZzBgRiCNE5VLhheTCJCEA3SqNSqqaGoavuaiCGGVAyNrdooVa+XUlVt3/2Y1fMREUMMadyspqrDbyMINdTtxb7YustGP2Y4SEJCCIIgVrETjZM0tapVURpncECIRWyFukVdMF2XEELsBLVTQ6mqw9dEDDGkUqnYKFFDVTl8Q1FVbe+3eC6DEMQqblZDqcP+eyKmqj2Nk8VWSBA1fdRwkIiEEGKIIRaxE40T1J4aaiiNMzggxBRHUqmb9QJeTCKCIBpEpYJa1FBKq68hiCmmigqNRQ1V2r5BKa2291s9H0GCWMVNKkVpD/8Msaia6hZxXCz+q9iq6aOGKxEJQcSQhljETlBxiwq1KjUUjTM4iCGGOCbUTXrBcF1CiCEWUWKoVQ2ltPoaMcUQJaaGCo0aqrR9g1Kq7UcsnksiQoiNOKZSU1X77RCrFnV7sbjr8L8W6rjyUcMViYgQBDFEQxyJoXGLxlRTUYqKMzgIYhFb0VTUvl4wvJhEiJhiK+pIDUVptb/4VEwxRImtmqKGKm3foJRq+xGr5yWCIBZxXEVRqv2zCmLjXXVbv+UzGvvqSD9qOIhERAiCGGKRio04TVND1VBUnMFBDDHEntQJzhuuixBBbKSiUVtFUartayLEKipWjdoqpe0blNLyYYvnkpAgpDGkcUxFUU2H9/4OYhE7cUw0TlZbzQOGKxIRIQhiiFVsxZEYGip1pFpDUeIMDmKIIX6W83gxEUkjiJ0oqY2ihiptf/EpQRqLWFRMtVFK2zcopfphi+ciEUGIKSr21Ubp8N7fQSxiEcfF6WrrAcNBIhFCiCGGWMRGLOI2aqgqihJncBBDDLGTSt3sPF7IIEhMsUgJaqumUqr107fEFIuoNFRQG1WqfUMNVf2wxXNJRAwhDaJxXC2K1uF7f4cYYhF74g7V4gHDQRIRQoghiFVsxRTHhNqplqKUOIODIA2xJyp13Hm8KIkgBLFKpVJbNZVS1cM3K4iNlFg0tVGqtG+ooaofNj0XkQhBTKFiX62KVv/73xFTTGksUnFcbNXNanrAcJBEhBBiiCkWsUhjCtI4UVtVlBJncBBDEI1VFFH7zuOFDIQIYiuUaGqqRSlV7S8+JYY4JmpPKdW+oSj1a6Znk4gIQjSEij21qqHaw+8IYhEb0TgupoqpjqvhAcNBEhFCiCGmmKIxxRAEsVVTqHB4qIqi4gyumILYSQ2h9pzHi5IQEUNsBBVDLUqlVKn28D1PG6KxlYo6Uopq31BD1a+ZnotECEFsxb6SGopWD79riiGNRdwqVk1jaNSe4gHDQSIhQpBGTLFIxRRCiCGIUkfCT1pDUXEGByEWsSeofefxQhIJIRaxSAVNU1MNTalS7eF7njbEqaqo9g01VH/N9GwSIUKQxhS3qqGKtt9BLGIjhsZWGiepPeUBw0EiIUQQxBCrNKYghBCE4NBOTP+5KCXO4ApiilOdx7VMghBTDClCHampSqk6fLMhTlWKat9QQ91nejYRESGGNKZYNDZqUUN1+C6xiCkVe+K2GrVVD1hciYQIQRBDLKJBDEGIIIigtZHG8GNKiTO4gljEac7jhSQiQixiFRWN2qqhitI6fLMxxO0VRbV9s6beZ3o2kZCYgljErUpN1eG7YoiNOC5OUzt9wHSQSIgQBDHEIhVDEIIIgoRQtSf9saLiDK4YgjROcx4vJiIEQWzFRlOLmqoo1R6+52lD3E5NpbR9Uw0XTc8mEiKGIIaU2FehhqKqh98zxSqNffGz1EYfMB0kEiIEQUwxpWIIQoghIUgsamhsvKNUnMEVUxBHoqSOnMcLSUQIsYhVGppKbRRFKdX2TUPcTk1Fafum4qLpahKJiCGGGKJxk0qpqaqH340ppjgmGo3batRGHzAdJBIhhBhiSGNIYwpCCCJECELVKjW8jYozuGII4rg0TW2dxwsZCCKm2IhFpRa1KKVK2196KsTJalVUtW/V8A9NzyYSIoaYgmgqjY1KpShKtd81xSI2UkM09qVuURv3mw6SiBBCDLGIIVZBEEGIkBBSaqvBW1Scwf9jI46ESqU2zuOFREIIQgwNYqM2aqqhqrTeaExxglrUUNW+RdN/aHpOIkSIIRpTDI0jlVJDqbbfM8QUW6kYGkfSqJvVxv2mgyQihBBTDDHFKkhDBBEkIgRVUltvqTiDf10bcVzU1nlcSyIhhCB24kjRKIpSpfWGKY0T1FRTtfq2Gv4Hw3ORIEIMsRHHNCU1lFJtv2eIIXZScUwqpga1rxb3Gw6SiBBCTEFMoTEFQQgi3EVCTLWqKG+pOIt/7XZCrc7jhUREBDHFlBINGrVRFKVU6/CtRpyoFjWUat+p4R8Ynk1EhCCG2IpjaqOoavs9xBT7Yk8cU8cVfcBwIJEIIcQUxBQaUxBTBHmvxbUIKbVTvOcpcRa/V7cRQw3ncS2DCDHEEIuomGqnhlKUqh6+hThJbRQt2nco/8DwXEQEQRCNRRxTqamG0uF7CGJPKo7ErWpf+emv40AiEUEIYopFbMQQBHmfnWt3mVK1782Ks/g9KhrqJqGG83jBXSKEiCkapGLRVNRQUylKVQ/fQpykVjWUat/B3/+//j7PnvNlkRiCGGJIRcUxNdVQOn0/VrGIfdE4UW01lPtxIImIIAQxxEZsBLF1zs4LCWpVqcUvPRVn8XtuURuhOI9rGUgagiC2UrGojRpKUaXaw7dN0TiuVjWUan/M3zNcTSIiDTGF2IqpsaiNGkq1h39uFUNK7EnFTmOnUkfqfsNBEhFCCGKIjVjFImhwzs6LsSqVRknfbJzFl2zVcRVTz+OFSEgMEVMcial2aiqlVLV9yyIWFauaGjWUav9T/57hqiQi0oghTSxSsWoMTUUNNZRq+32rGKKxFZWK26gj5X7DFYkIEQQxxSK2YhWrc7ZeFItaNTRvNM7iS0Ed19TO38K1DIQIsYitWNVODaUUpcNbtqJBY6qpFkW1/c/+Lq7GXUIEMUUs0phKTJXaqKGq7fdNsYjGRqg4Re3r/bgiISGCIIZYxVZMjZ17bLwYq9r3epzFk/Y0ak+Rv4kXJBFEEKSp2IqhpIZalVJKp7cNqdhXGzWU0va/9O/iaiIhghBDLNLQqNipRU3Vavv9IBaxE1ScolJbdT8OkogIQRDERmykcbN7bHxdUCq19UacxVNqSh3T1OJv4loiETFEDGlsxKr2FEUppdXDtxEai5KKmmpRStv/4le5mhAJIcQQi5RorCqGoqGGqtbh94NYxFYMjdNUaqvux8FdIiKEGGKKRWgMKaJx5B4bXydqqtTqjTiTp+yr1JHG38ALEhFBiCk2ggYVtVFDKaW0evi2RZqmQtOojRpKVfuTv8NViYQQYghiI6bGUNHUqpqiqod/bogpjgSNY1I3qZ3ej4O7REQIgpjSIFahqWgc6b02vi4oGpVKiTN52tSo1KrR1PQ3cC2RCCHEkMYidhrU0NRQlKJa7VumGEo0htqooVS1P/k7XI1ECCHEIlZxpFIpKqopqtrvS8UQe+ImUakjTUOt6n5ciYgIQRBTTLGREjR2GvdYfV1QWzXFmTztSEOjUlt/nWtJJIgghjR24kitSg2lmqq2h+9YxU5NjVqUqvYCV4W7RBBCLGIrVk2lUosaiqq2f57GkIpFKvakhIqm9jW1qPtxRSIiiBiCmGInGkNjp9F7Lb4eQ200Ko0z+X0bdYvy17kWSQQRBKnYiUVDrWooSlHV9vAdi1RUUFs1FVXtBa6GRIIgYkhjK3YqlVoVRVXbuz9jKxap2ErFolGpm9VQ9+OKREIQQgwxxVYMjVvcY3HdqjYaxJn8vls0auMDXEsiQghiiK3YaWqrKEVR1Tp820aUoLZqKqraC55JIiIIIVaxSmNPbdVUqtr+B40htlKxFY1FpVLHVYp3P2q4EokQRBDEIjQWaTRudY/p67GoI02cyf+LhobaU+GXueYuESEEMcRGKqbGUKsailK0tPqWjWhK1KpWRVV7wdWIhBAxxCoWcUxt1VRU1WHPfcYUW6lYRKOxajQNdaQWvR8HSUSINIQgVrFIU3Gie0zXbdSeOJNnlNSRSm38MtcSiRAEQewETdPUnqIoSlW1h2/HnlCrmmqq6nnPJBEhhBCL2ImpYqitGmpqVQ/PfcYUW6lYpKLiuDrSqOEjuCIRIWIIQayiMUTjZL3XcF001dSROJtnrGpIaQwN3s+1iLsQQRDETiwqTe0URVGlqj18x7402hhqaIpSPe+qJIIQRKxiKxU0htqoRQ2t1uG5z5hiK7ZSsdHYKqlVo4aP4IpIhAiCIFZBgzRu4x7TdWlK7YmzeSbUMbV6P19LJCGCGELsSYWGOlJqKEpptX3nME5Ui6LU3/JMIhGCELERQ6hU7KlFTTVUq/0PjSEWsScVq4p9tajU9BEcJBERQgwxxCI20tiT2rnHcF1QGrUVZ3PVRoXaae7la0kkhIgphjiSiqmpVU1FUaqq7eGP7UstalVDVc97JokQIYgpiEUqKla1U1MNpdre/RlTbMRODI2psaf2FB/BFQmJIMQQQ0yxChonu8dwnRSNSqWIs7lqSB3XlHt9LZEIQWIRsS8aivj/O4OzpV0Tg76v67+h7CRHOc5V5CTlE0bT3RoYLF9B1LkwpXyeqqhsQ9MSNiCBGjAe4vkGfBCPCWAsqff+fnmed/i+d/dAavdacshFCBHp9Jc+p8lFDpFf9/GrmZlhmMMwzybTHHKYkFMOUar3voO5mrtlms9qiOUmfIjv2szMYXMa1rDmMH+l9/EJFpnczbv5HVcxefS+H2wzM8Mc5jB3o6GJyVUIIRId/FfNZzQ55RB+7WN7NWOYYQ5zmGeTZZosyyGnHKJ46r3vMDdzt8yXanITPsR3bWaYMYcxzWkOo/lS7+MTpkWWm3k3v+MwedBi3vvBZjZmDjMX82IyhyZ3IXKIRHny5se+QC5C6Gf36pUZYwzDHCZzM4emybJcJQspenrvO8zN3IzmCzSHlmfxIb5rM8OMYZiLNYfJfJl8wCeGkOVm3s0/cNUQk6v3/GCzGTPWmMNcrcUyp7wIkUNESj390kc+J1eRw6/53mZmGMOY0zybQ8xFniUTktSvfIe5mbtlvlSTu/gQ37WNMWOYw5zmZr5U+IBPTAuNXM27+QeYluUu7Fd+/5VtZg7DzGkuFhOmNS03IYSIosNfap5lWa5C+DXf22zMMAxzmObFiDXkWQ45pKje+w5zN6eR+Su0XIUP8V3bGGOGOczVXE3zhcIHfGIOaWQ5zTv6hx5luXj1agdjZsxpLHO3RkZGbkKIEEmHpx97W+5yiH7d923GDMMwpzXPhphcZeSUU5Lqve9Y5jRXI/NXyV18iO/azJgxzGFO82y+XB/gkzVyyHIx7+gfDvmcV69sMzPMMFfzYmLkWQstIUTS4enHPiOnLBdPv873Z8MMwzAXc7WYmzzIRbIk1XvfseZmTiPzZRq5S/8bvjsbY+Ywc5jDMqdlvlwf4BNGNORi3tHvetGQ015tsxlmDMuc5m0jLIcsp4gQSenpx1pe5C6Hvf4NfH9mxhhzmJu5WMyz3LRc5FCk+vO//Z01N3OamC/SNOQuH+L/3GzMGMMc5rDmYplnk7e9j08YkcnVvKPfc4rlIsP2ymbGmMMwzKOJkeUqFyEiJKWnfuImd62R0zf5PhsbxjDmZq6WyTKH3OQmRFKe/uJv/+8uRub07b+T4X/9O4g5NIcMTcjEh/jubMYMc5jTMM3NNBfLZ7yPTxiRydW8o9/zIsvFTjbGGHOY0zyYWGuyXOSQQyQkpZ5+Ki9iucu+wfc2M8MMw2KYF3PIMrEcchMi0VN/8f9oTutDp+/JhGkxYWRNvlh7Y2iawxzmtOawjOaL9QF/lCEauZp39PsOTZjc7GSGMYa5motlrhotyynkFCFJqV6/cZXlRS6+4XszM2YYczXMs2VksdzkJkSiJ3/hv2ROH7r4vhfNu8ryxmmY05rDnJov1gf8UVhoreU07+j3Td4S22xmjGGYi3m0pqHJTQ4RQpJ0eP2kyU2WZ+1gbJhZwxzmMHcjJtbITS5yiESH/+q/OM23XXyf5TBZy7t7jTWnYS7mM5YHfcAfyYQmN/OufuAqL9rBxhjDMCzzltE0Wq5yiBwSiU5Pr12F5SKWw2Y2NodhzGFO01yM3I2Wi1yEkOjwl/5zw3zb6eO9amJkTcuEZcKyLMthaLIs9qnTHOYwmqFpvlB8wCdYNLmbd/VDMXmRzWzMMIw5zINlmkzLcmhCDqEQqfT0Oo9yak5tNjPGMMxhDqMxGVkjk2c55JRD0uG/5T87zLedPt6rjEzWNGRZpoVpMjGHpsk0nzrNYQ5rbTlM85blpg/4xEUezbv6obu82MYMG4Y1V3OxmFMmD0KEFolUenp6cmi5a7GcNjZj5jCHMVdzWiaW0eQup5wiojy9/3f5T5hvu/jerGlkTUOWZchhWRamxZqsyWunOcxpTss0L5YXfcAnTnnLvKsfslw0GpnNGDaHOcxiXiwsjCZXIUQOiZTqTbkKy4vMZoyZw8xpLuZiWS4my7OccgqR9PTj+E+Yb7v43gyNprnImgxNmIwskzUN2acOMxfzbL5cPuATpzxo867+wE0ebcbmMOYwh3mwmKahyUVkIUIiT1RPT+5ykcnNZoaZ08xhTmtulmfLXS6aCInU04/Hf2S+7fTxZjRkzUXzKGsyMoTJtOxTh5msGQ1rvlw+wCcOuWsx7+oP5XOaDTOGOQzT3CymkYnlIoecIiFSOjzJi7yIjTEzpzGHYa15sEzekotcJJF6+onDf8SHTh9v5iLzqDXNIfOikbUsi9eYw1xMc5ov1wd80hxyl8O8qz901RxyN2PGzMUc5rNGFpOrkFNEQtLpyU3uGnIaM2YY5jSneTQZ8iAXOYUk9fRT2n/Ah04fb+Yic9VcZA2ZJqNpNGRZvGbNYZhno7laHsUH/GjIKZbTvKsfycVykcWYGcawhvmcNWJaLqIJkZBIV5abmJyajDFmmNPMzdwsc2ryIDeRQ6LD06cO/4EPnT7ezLNGc8oamUwThrBGlsVr5jSHNTejuVoexN7nR0bIYTls3tmP3GS5aWaGYcxpjczFYhlyWi5yihARKXkqN3nWcjdjzFzNXM2DOcTyIFeRU6TTp7T/+ORDp48301w1d7mYQ5bDyGQNzcWnTsNczNU8WFhevM+PTLIcltO8sx9NHjWtMcOY05zmZjmtuWi5yyGHWkikpCfkLpabGIYxcxprLubFGmJ5kVMWWUQqT69z+Pc+dPp4M5lT5i6TuWhk7sIyDb1mNHOaq2W+3Pv8yEJrufuzeWefOGXkLWOGYQ4j09xNmFNucmgRIiQplUNDLnLXHIYxcxprTvOWabE8y0VuIkp6ei2Hf/+hi+/NZMia5iKjOWWteda0zNWnzZzmNBdDzM2aPHufH7loefFn887+CLHc5WKMMYc5TebRwsS0nHJoIUIiRUWTu1w1chiGmcNczGGZw/Jg5CrLIacsoqhey+Hff9vF98YyNE1DlqE5ZBlNQ6ZpLnqNOc3VHCbmwfLifX5kydv+bN7ZH3mRtw0zrDmtuVmYjEYmp1yEEIkklVPuwuQijDmMOQ1zWMzNcrE8y10OOUVRPT3l9H9/6PDxZjE0zUXmlMk0mpY5NM1F86nDHOZirhbTfJH3/aghj1p/Nu/sj5EXjVwNMwyLebZMzCGHkUMuoiUikpQsh+aQi0zuhmEOc5ireTQ5LYeWu5xyiKTDU07fcPp4My8yV83bmqY1p4Yme53TrLmYm/lS7/tDQy5aFvvz5p39sbuM3MQcxhzGmkPmwTQ5LBc55JBDIpKUixyWU5arHJaZwxyGuZmbyWFyWGhyyl1IpMNTLr7h9L2ZDFlzyhya5q41WXPKZDKfOs1pmItlvtT7/pC1yHL35+bd/Ql5lslys2UOc1jm0RyyHCYXOUVIiyhJlosmj2JyMcxpzN28mEyeNbnKKbIkXbj6Oj7eWIbMVebQNIdG1mRac9HIeo25mIs5LAzN57zvD121PPhz8+7+ZLnIaXKVw8xpDov5AqM1chFyCJFIIle5yaMYmcOcxpqLeTaHJsupZTk0ckpOqfSUq6/j441lDpmr5hBGc9VoWUNzanrtNIc5zbOh+Zz3/WFzyNv+3Ly7fyRvyVvmMCzmM0ZGLhZykRxCRMlFLhpyldNyak5zGJM5zcVi5HNyyKQRISmVU/M1Pt5Mhswpaw5hLpqGHOaUOcSbnOawZs1pMV9s7/kDc8ipufqLzLv701zE8qxlmsOaq3m0GFlYbnKKHBKiyCnLg1iucjenYZrDZA6LIZ+Vq8gISUppufga3zcyZGhNlpE5ZRqyLCNzaL12GqZZ82zNF3nfDzdEHv0F8+7+FFmeZfKWYbHmMyZM7nIRQkIk8qLJXROai5jTXA3zYLlYXuQqZCIkpRxy+hrfZzI0TcuapmWai9ZkWUPmojc5DHMzF/Ml9p4/cJMHP/8R8+7+1F2Wt4SFYTFfYg65yiGEEImcMrlpMrnJXWsYpmEeLRfLi1zkIoeQlPLi3334fSxD07SmIcsyMhdZlpGh5U2Yw1zNg/m89/3Q+Dl/kLf8Bebd/eM8yjRy0Whu5sHCxORRThFCJEcEuAkAAAjjSURBVFc5NOSwHMJykdPkNBfDvGUx5KqRi1zkFIknOeXi3/1PG8vQnBpN0xoZLUMWc8jI4rXDHKateTFf4H0/ZPycH3rLz39E8+7+sZssD3Kx3IzMo+WwvCWnCCGSZ3mUm6bJs6w5zGmazxg5NFlOuckhFJ5ocpexDM2pOWUZmRdZRpORxetmTnMxz+bFcrH3/OAVP8cPY3n2Cx/RvLt/0shdJo9yWNY0Mg+Ww8hNy6GWQySnJsshIxeNlme5aS7mtMxnTG6ynHKTQ0giNzk0LENz17QMYTGnLKzJWoZPHeYwF8tcTPNZ7/sh+zn8PtvT3PyCj2i+gn/iKstdJm8JazKfs1gWuYpkyU0uGnmRq5hchOVmTtNcTS4mL3KVqxwSiliehWVN0zQ0TcvC0BwysRZrWd6EOczFYu7mM97/vc1+3uEHcjV+AR/RfAX/ZPIsn5flRcxblkc5RQ7JsywXTZaLLMspp+Ui82BYvkSuchNCkruYkMlcNBdZ0zIyNzGZXCyj1w5rpmExd/O2n93YLzj83mRNwy/iI5qv4J865TPylobQfInJVQ4ROTTk0Jxy0eS0NORFlrfNzeRieZFTFs0pcih5S8jksBZrWXNoGY3WHDKZJiyjT81p5mrN1ZC526uNX3L1+7/od8cyv4iP0HwF/5TlWd7W5C6HyYuFxcgpp3LR5KYhN1nucpPJVUOYnOZquVnLXQ45ZHIRyYsmh2jCHDI3TctoxBwysZbDMvqUYQ7DYpgwMVevNuaXvPi9LH7Z4SMyX8E/c5XlWd6SRzkszWeFTGh5lmcxOeUu02KRyVtymovlZnmWU8iD5BDLTS4iyxyaF60RyzJkZOSwGD9lmMOa0zxbmNMO+GX8wc959ru/7OojzXwF/8yDvKXF5CIPwvIsJne5ag65y02WuywXjdw0+f8xWbRc5JTlkJucMnlWcpjmRQ4jrMmLaTkszE8xh7HMaW6WNY2Z/U13f/Kf7OsefSTfnK/g/3KRB7G8aHLT5JSJ5UFeNPIsV3mQZ7kLI4eMJm9bTstVE1pOOYXlFJOrJqcnOazJnJomQyZrcljLyLKYPnWYw5gM85Y1Zn6FH/78D3/e6SPf+OO/4Y//hme/6VfNV/DP5UUmz7I8yFUeZHKXyYvc5EVMDo0wOYTJRaPlLXm03IUmN7mKyVWM3PSUZVrW0DStCQvLNGEtL36KMYexhglzNZrtV5x+8AtOv72nb/DbX3f3W9/0d3/DfBX/3CnPmnxGk5ssp4ZcNIcsV5lcNVpo5Fkmd1lOMblpeVsTlhc5NLnJgxi5yc2bLEbTkLUsCxNDTKxlWYt9+sSYi1nm2dzM+/j4v/tFF78T73/sr/+Su9/Kr2K+in/uWZNnDXmQF3mWkZswuctNHrVcxHKTZ2F5kMPklMVyk8kpy10e5W150zQ0rcnIcjGxTExMI5PxkzaHOczF3CxrDnuf3/7vf9Hpd7L3+O19zbOP3/Srvvut+Sr+hUMe5WK5aGE55TDRMnIVJldZ7lqe5VmWi7wlL2J50HKVZbnLRdNkcpdnLXe9abHWtCZrWUYWlomJxWhy+IlhzGku5mo5rK997Gu//XVv+egbnv396TXfmq/iX3jW5CaWF63JIkMe5CYmd3mRZ3mRhUZGbsJy0WSxnLI8yEUOk7u8LTdZE69pGlqWhZFlYjGaWJimqaev85tjmYthYR597eOvefDx077u2W/y5sm3zFfxLx1anuVRJjcty0XLaSGHZTnlrtHkIi9y1VoLyyGPshyWuxaaJneZLKcmF80pz5rc9ToshiwLi2nEwjK5Wqbp/Y/e/NpvxRzmNHfzYE59zekf9ObpG579vVd6/S3MV/EvXTXyIkxu8iwsFw1NTnlLTE65a8hFWK6aQ25aHmW5y3KXhQlN7nIXJje563UsTCwLC8vCcjGxsEzTT735jd+KOc1pbqZ5sUZfc/jeE+qbvvemb/L35rVvYb6Kf4U8yKOWu0bLVctVQy6aJlcNTW5y1WS5aGS5yvIsb8mjWE6ZPMhNkwc5NIemT2NhDU1YWBYWC4vFZJqfvMa2XmHmajSaw3h65VCv9oSv+82tXomfffPqa/z9pyffcpiv4l95kGctz5rcZLnKMrlpctVy0xyyXGWiZeQuD/IgRu5y1+SwHMJyl2d5S+5+GgtrWRaWF8vVcrUM/fTN09irfv23Yk7LlsOc5tAUr54arzw9jUV+xus39C2H/2O+kn/tkLtYHuVZi+XU5CoTCw15S26y3OUqz5qcFg15EctNLDd5Wy7yWVnuYvlpFpbF5DOWq+ViYuEv8QqvXM1pruZzGjn0Tb8lRc1vfPeJ5iv51w6NPMqzHJbl0MhVJldZXuRZi+XQnJqQF3lLThPyoJHlItNy1ZpcZHmU5dCa3OWnLSwsC8uL5cv8JWbMYcxpHiyL5UFOkZQY85X8a4/yICw3TcspLM9iOTUtV5mwXOVF7mI55WKKaYQJMbkKy1UmNKcc6pVDHsVCIzc/aTktd8uL5Ut8+kYYc5jDXMxfIYcQQsPMV/Jv3OVZHuVRnuVB3tZyl7s8iMlFy7NYXuRFLhpy8fTKIWtyaLEcGi1XLW9pP0luloXliyxvefOEObQ8m7fN4ZU3c0oOM7SneTZfyb/xIA/yttxl5Cojd2G5anJoeUuWq9y1LBfNIXdZHuSiIVcZcsrkWVhOjTz4cb6ahDm9+VmnZd7zI29+/kcKS25Cy13bk1PLq5qv5N865VFeZLlpWW7yIi8yeZblqhHLRa4yLYfmEMtVLBdheZGLWK7yIC/yObl4ev3mZ/fUk4uf/rX5yV/3+s3/8JO//pe/+rteP33q134HP/XN37HXP/PTn+EVhr/2C/jT3njl8ORicpGrycWTyVWjCRmN+Ur+rbs8yINcLae8yPIilotYTi2Ti4xcZbkKy0UjN3nQkFMmz3LRcrEQlpssp5jcPKXN09z92ZO/xd+1X/97/Lp/9L/8w7+Jf7T+2+u/+af/r1/5/Sd+md/7H/mf/2kxPBk5Lcuhn3kih/EzlRcjb/v/AEPpOOc3w+0IAAAAAElFTkSuQmCC",
        "encoding": "base64",
        "path": [
         "value"
        ]
       }
      ],
      "model_module": "@jupyter-widgets/controls",
      "model_module_version": "1.5.0",
      "model_name": "ImageModel",
      "state": {
       "layout": "IPY_MODEL_b78cf5deefd94638b162738ae107ed26"
      }
     },
     "9163fa3b17ae40d98aec39606f01b495": {
      "model_module": "@jupyter-widgets/base",
      "model_module_version": "1.2.0",
      "model_name": "LayoutModel",
      "state": {
       "height": "375px",
       "width": "450px"
      }
     },
     "a08be8f68dda4b8d808b49677f717700": {
      "model_module": "@jupyter-widgets/base",
      "model_module_version": "1.2.0",
      "model_name": "LayoutModel",
      "state": {
       "height": "375px",
       "width": "450px"
      }
     },
     "a25d148af7e943de8d64d54b3e89b414": {
      "model_module": "@jupyter-widgets/base",
      "model_module_version": "1.2.0",
      "model_name": "LayoutModel",
      "state": {
       "height": "375px",
       "width": "450px"
      }
     },
     "a3053e470bc549c2a967cb6266c64160": {
      "model_module": "@jupyter-widgets/controls",
      "model_module_version": "1.5.0",
      "model_name": "DropdownModel",
      "state": {
       "_options_labels": [
        "yes",
        "No"
       ],
       "description": "Nonoccluded:",
       "index": 0,
       "layout": "IPY_MODEL_3d172835e4f042b18656752f0d31ee94",
       "style": "IPY_MODEL_a420514bc28840dfa8da46b06aaae469"
      }
     },
     "a420514bc28840dfa8da46b06aaae469": {
      "model_module": "@jupyter-widgets/controls",
      "model_module_version": "1.5.0",
      "model_name": "DescriptionStyleModel",
      "state": {
       "description_width": ""
      }
     },
     "a5c5c5ee0efc4126ad3e30b18f017827": {
      "buffers": [
       {
        "data": "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",
        "encoding": "base64",
        "path": [
         "value"
        ]
       }
      ],
      "model_module": "@jupyter-widgets/controls",
      "model_module_version": "1.5.0",
      "model_name": "ImageModel",
      "state": {
       "layout": "IPY_MODEL_a08be8f68dda4b8d808b49677f717700"
      }
     },
     "a7ddc8d50d6341a494da5cd7293226ec": {
      "model_module": "@jupyter-widgets/base",
      "model_module_version": "1.2.0",
      "model_name": "LayoutModel",
      "state": {}
     },
     "b7716982e96b4c1caf4eba95271a47e0": {
      "model_module": "@jupyter-widgets/controls",
      "model_module_version": "1.5.0",
      "model_name": "HBoxModel",
      "state": {
       "children": [
        "IPY_MODEL_672c199f087243a38e9f58a50db7d09e",
        "IPY_MODEL_8b54b28ea6cd4fcf8b687e8d34abe61c"
       ],
       "layout": "IPY_MODEL_6847417244474e15a8cc697c127f604a"
      }
     },
     "b78cf5deefd94638b162738ae107ed26": {
      "model_module": "@jupyter-widgets/base",
      "model_module_version": "1.2.0",
      "model_name": "LayoutModel",
      "state": {
       "height": "375px",
       "width": "450px"
      }
     },
     "b913c4bc89344d139b5fe5fee805990e": {
      "model_module": "@jupyter-widgets/controls",
      "model_module_version": "1.5.0",
      "model_name": "DropdownModel",
      "state": {
       "_options_labels": [
        "On",
        "Off"
       ],
       "description": "Turn plots:",
       "index": 0,
       "layout": "IPY_MODEL_51f4cd885e2a4a49bd3a4f5b3ef48f74",
       "style": "IPY_MODEL_641aec880a244b9d9ffe6c95a0b412f3"
      }
     },
     "cf02114b53c44830bc3443917d6db6f3": {
      "model_module": "@jupyter-widgets/controls",
      "model_module_version": "1.5.0",
      "model_name": "DescriptionStyleModel",
      "state": {
       "description_width": ""
      }
     },
     "d469f6c19fbb4e83a8cb8af35c025a06": {
      "model_module": "@jupyter-widgets/controls",
      "model_module_version": "1.5.0",
      "model_name": "HBoxModel",
      "state": {
       "children": [
        "IPY_MODEL_7cc2392f8da14380b9810e644ce76f73",
        "IPY_MODEL_e67f85a0d2c343119107c7a7c0e47ec7"
       ],
       "layout": "IPY_MODEL_d956bc4643534c23906c52e7e0f56e2e"
      }
     },
     "d956bc4643534c23906c52e7e0f56e2e": {
      "model_module": "@jupyter-widgets/base",
      "model_module_version": "1.2.0",
      "model_name": "LayoutModel",
      "state": {}
     },
     "e67f85a0d2c343119107c7a7c0e47ec7": {
      "buffers": [
       {
        "data": "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",
        "encoding": "base64",
        "path": [
         "value"
        ]
       }
      ],
      "model_module": "@jupyter-widgets/controls",
      "model_module_version": "1.5.0",
      "model_name": "ImageModel",
      "state": {
       "layout": "IPY_MODEL_9163fa3b17ae40d98aec39606f01b495"
      }
     },
     "efbfdadea40148b78d9779b973b21f93": {
      "model_module": "@jupyter-widgets/base",
      "model_module_version": "1.2.0",
      "model_name": "LayoutModel",
      "state": {}
     }
    },
    "version_major": 2,
    "version_minor": 0
   }
  }
 },
 "nbformat": 4,
 "nbformat_minor": 4
}
