{
 "cells": [
  {
   "cell_type": "code",
   "execution_count": 1,
   "metadata": {},
   "outputs": [],
   "source": [
    "# coming soon"
   ]
  },
  {
   "cell_type": "code",
   "execution_count": 10,
   "metadata": {},
   "outputs": [],
   "source": [
    "import pandas as pd\n",
    "import ipywidgets as widgets\n",
    "import numpy as np\n",
    "import sys\n",
    "import os\n",
    "\n",
    "sys.path.append(os.path.join(\"..\", \"..\"))\n",
    "import glob\n",
    "import cv2\n",
    "\n",
    "import plotly.graph_objs as go\n",
    "import plotly.express as px\n",
    "\n",
    "from ipywidgets import HBox, VBox, Button\n",
    "\n",
    "from components.utils import plotly_helpers"
   ]
  },
  {
   "cell_type": "code",
   "execution_count": 7,
   "metadata": {},
   "outputs": [],
   "source": [
    "log_directory = os.path.join(\"..\", \"logs\")\n",
    "csv_files = glob.glob(os.path.join(log_directory, \"*.csv\"))\n",
    "filenames = [os.path.split(csv_file)[-1] for csv_file in csv_files]\n",
    "opts = [csv_tuple for csv_tuple in zip(filenames, csv_files)]"
   ]
  },
  {
   "cell_type": "code",
   "execution_count": 11,
   "metadata": {},
   "outputs": [
    {
     "data": {
      "application/vnd.jupyter.widget-view+json": {
       "model_id": "a1ad35a8fd0f46d7a42cc4e7cbd7893b",
       "version_major": 2,
       "version_minor": 0
      },
      "text/plain": [
       "VBox(children=(Dropdown(description='CSV Log file:', index=6, options=(('ALG_001-EXP_001-Baseline.csv', '..\\\\l…"
      ]
     },
     "metadata": {},
     "output_type": "display_data"
    }
   ],
   "source": [
    "csv_selector = widgets.Dropdown(\n",
    "    options=opts,\n",
    "    description='CSV Log file:',\n",
    "    value=os.path.join(\"..\", \"logs\", \"ALG_005_EXP_001-PatchMatch-MacLean_et_al-Numba.csv\")\n",
    "\n",
    ")\n",
    "\n",
    "available_metrix = ['abs_error',\n",
    "       'mse', 'avg', 'eucledian', 'bad1', 'bad2', 'bad4', 'bad8']\n",
    "metrics_selector = widgets.Dropdown(\n",
    "    options=[(m,m) for m in available_metrix],\n",
    "    description='CSV Log file:'\n",
    ")\n",
    "\n",
    "VBox([csv_selector, metrics_selector])"
   ]
  },
  {
   "cell_type": "code",
   "execution_count": 13,
   "metadata": {},
   "outputs": [],
   "source": [
    "selected_file_path = csv_selector.value\n",
    "df = plotly_helpers.load_n_clean(selected_file_path, gts=False)"
   ]
  },
  {
   "cell_type": "code",
   "execution_count": 14,
   "metadata": {},
   "outputs": [],
   "source": [
    "from ipywidgets import Image, Layout\n",
    "\n",
    "fig_a_image = Image(value=df[\"loaded_imgs\"].iloc[0], \n",
    "                   layout=Layout(height='375px', width='450px'))\n",
    "fig_b_image = Image(value=df[\"loaded_imgs\"].iloc[0], \n",
    "                   layout=Layout(height='375px', width='450px'))"
   ]
  },
  {
   "cell_type": "code",
   "execution_count": 15,
   "metadata": {},
   "outputs": [],
   "source": [
    "\n",
    "fig_a = go.FigureWidget(px.scatter(df, x=df['kernel_size'],\n",
    "            y=df[metrics_selector.value]))\n",
    "\n",
    "fig_b = go.FigureWidget(px.scatter(df, x=df['match'],\n",
    "            y=df[metrics_selector.value]))\n",
    "\n",
    "fig_a_data = fig_a.data[0]\n",
    "\n",
    "fig_b_data = fig_b.data[0]\n",
    "\n"
   ]
  },
  {
   "cell_type": "code",
   "execution_count": 16,
   "metadata": {},
   "outputs": [],
   "source": [
    "def hover_fn_a(trace, points, state):\n",
    "    if(len(points.point_inds)>0):\n",
    "        ind = points.point_inds[0]\n",
    "        fig_a_image.value = df[\"loaded_imgs\"].iloc[ind]\n",
    "\n",
    "\n",
    "def hover_fn_b(trace, points, state):\n",
    "    if(len(points.point_inds)>0):\n",
    "        ind = points.point_inds[0]\n",
    "        fig_b_image.value = df[\"loaded_imgs\"].iloc[ind]\n",
    "\n",
    "fig_a_data.on_hover(hover_fn_a)\n",
    "fig_b_data.on_hover(hover_fn_b)"
   ]
  },
  {
   "cell_type": "code",
   "execution_count": 17,
   "metadata": {},
   "outputs": [],
   "source": [
    "dashboard_a = HBox([fig_a, fig_a_image])\n",
    "dashboard_b = HBox([fig_b, fig_b_image])"
   ]
  },
  {
   "cell_type": "code",
   "execution_count": 18,
   "metadata": {},
   "outputs": [
    {
     "data": {
      "application/vnd.jupyter.widget-view+json": {
       "model_id": "e4d21f27b70d41d9b1aae72d2647dc9b",
       "version_major": 2,
       "version_minor": 0
      },
      "text/plain": [
       "interactive(children=(Dropdown(description='scene', options=('teddy', 'cones'), value='teddy'), IntSlider(valu…"
      ]
     },
     "metadata": {},
     "output_type": "display_data"
    },
    {
     "data": {
      "application/vnd.jupyter.widget-view+json": {
       "model_id": "09e565fc5b1740fe8a62a940a03a42fa",
       "version_major": 2,
       "version_minor": 0
      },
      "text/plain": [
       "HBox(children=(FigureWidget({\n",
       "    'data': [{'hovertemplate': 'kernel_size=%{x}<br>abs_error=%{y}<extra></extra…"
      ]
     },
     "metadata": {},
     "output_type": "display_data"
    }
   ],
   "source": [
    "kernel_sizes= df[\"kernel_size\"].unique()\n",
    "kernel_specs = df[\"kernel_spec\"].unique\n",
    "match_values = (df[\"match\"].min(), df[\"match\"].max(), 10)\n",
    "metrics = ['abs_error',\n",
    "       'mse', 'avg', 'eucledian', 'bad1', 'bad2', 'bad4', 'bad8']\n",
    "\n",
    "nonoccluded = [True, False]\n",
    "\n",
    "\n",
    "from ipywidgets import interact\n",
    "interact_dict = dict(scene = [\"teddy\", \"cones\"],\n",
    "          match = match_values,\n",
    "          metric = metrics,\n",
    "          nonoccluded = nonoccluded)\n",
    "\n",
    "@interact(\n",
    "    **interact_dict\n",
    "         )\n",
    "def update_match(\n",
    "          scene = \"teddy\",\n",
    "          match = 10,\n",
    "          metric = \"bad2\",\n",
    "          nonoccluded = True):\n",
    "    with fig_a.batch_update():\n",
    "        nonoccluded = not nonoccluded\n",
    "        temp_df = df[\n",
    "            (df[\"match\"]==match) &\n",
    "            (df[\"scene\"]==scene) &\n",
    "            (df[\"are_occlusions_errors\"] == nonoccluded)] \n",
    "        fig_a_data.x = temp_df[\"kernel_size\"]\n",
    "        fig_a_data.y = temp_df[metric]\n",
    "        fig_b.update_layout(title=\"Match value w.r.t. \"+metric,\n",
    "        xaxis_title=\"match\",\n",
    "        yaxis_title=metric\n",
    "        )\n",
    "dashboard_a"
   ]
  },
  {
   "cell_type": "code",
   "execution_count": null,
   "metadata": {},
   "outputs": [],
   "source": [
    "\n",
    "@interact(scene = [\"teddy\", \"cones\"],\n",
    "          kernel_size = kernel_sizes,\n",
    "          metric = metrics,\n",
    "          nonoccluded = nonoccluded\n",
    "         )\n",
    "def update_match(\n",
    "          scene = \"teddy\",\n",
    "          kernel_size = \"3x3\",\n",
    "          metric = \"bad2\",\n",
    "          nonoccluded = True):\n",
    "    with fig_b.batch_update():\n",
    "        nonoccluded = not nonoccluded\n",
    "        temp_df = df[\n",
    "            (df[\"kernel_size\"]==kernel_size) &\n",
    "            (df[\"scene\"]==scene) &\n",
    "            (df[\"are_occlusions_errors\"] == nonoccluded)] \n",
    "        fig_b_data.x = temp_df[\"match\"]\n",
    "        fig_b_data.y = temp_df[metric]\n",
    "        fig_b.update_layout(title=\"Kernel size w.r.t. \"+metric,\n",
    "        xaxis_title=\"match\",\n",
    "        yaxis_title=metric\n",
    "        )\n",
    "dashboard_b"
   ]
  },
  {
   "cell_type": "code",
   "execution_count": null,
   "metadata": {},
   "outputs": [],
   "source": []
  },
  {
   "cell_type": "code",
   "execution_count": null,
   "metadata": {},
   "outputs": [],
   "source": [
    "fig_c = px.scatter(df, x=df['kernel_size'],\n",
    "            y=df[metrics_selector.value], animation_frame=\"match\")"
   ]
  },
  {
   "cell_type": "code",
   "execution_count": null,
   "metadata": {
    "scrolled": true
   },
   "outputs": [],
   "source": [
    "fig_c"
   ]
  },
  {
   "cell_type": "code",
   "execution_count": null,
   "metadata": {},
   "outputs": [],
   "source": [
    "fig_c"
   ]
  },
  {
   "cell_type": "code",
   "execution_count": null,
   "metadata": {},
   "outputs": [],
   "source": [
    "fig_d = px.scatter(df, x='match',\n",
    "            y=metrics_selector.value, animation_frame=\"kernel_size\")"
   ]
  },
  {
   "cell_type": "code",
   "execution_count": null,
   "metadata": {},
   "outputs": [],
   "source": [
    "fig_d"
   ]
  },
  {
   "cell_type": "code",
   "execution_count": null,
   "metadata": {},
   "outputs": [],
   "source": []
  }
 ],
 "metadata": {
  "kernelspec": {
   "display_name": "Python 3",
   "language": "python",
   "name": "python3"
  },
  "language_info": {
   "codemirror_mode": {
    "name": "ipython",
    "version": 3
   },
   "file_extension": ".py",
   "mimetype": "text/x-python",
   "name": "python",
   "nbconvert_exporter": "python",
   "pygments_lexer": "ipython3",
   "version": "3.8.2"
  }
 },
 "nbformat": 4,
 "nbformat_minor": 4
}
