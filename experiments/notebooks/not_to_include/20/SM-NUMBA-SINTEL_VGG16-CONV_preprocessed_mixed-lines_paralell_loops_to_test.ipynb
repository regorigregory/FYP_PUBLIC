{
 "cells": [
  {
   "cell_type": "markdown",
   "metadata": {
    "colab_type": "text",
    "id": "0gh3RJrMOxDr"
   },
   "source": [
    "<h1>SM-NUMBA-SINTEL-convolved\n",
    "</h1><br>\n"
   ]
  },
  {
   "cell_type": "code",
   "execution_count": 1,
   "metadata": {
    "colab": {
     "base_uri": "https://localhost:8080/",
     "height": 34
    },
    "colab_type": "code",
    "executionInfo": {
     "elapsed": 2042,
     "status": "ok",
     "timestamp": 1583093141208,
     "user": {
      "displayName": "Gergő Endrész",
      "photoUrl": "https://lh3.googleusercontent.com/a-/AOh14Gi-PB7WDYNTcVZ9nR682HqtLOryUrTl135vcvukuw=s64",
      "userId": "12307487896953279443"
     },
     "user_tz": 0
    },
    "id": "VPN4yNh0irwg",
    "outputId": "17cb73da-8dad-487d-b5eb-dfc6d5e35eef"
   },
   "outputs": [
    {
     "ename": "ModuleNotFoundError",
     "evalue": "No module named 'google.colab'",
     "output_type": "error",
     "traceback": [
      "\u001b[1;31m---------------------------------------------------------------------------\u001b[0m",
      "\u001b[1;31mModuleNotFoundError\u001b[0m                       Traceback (most recent call last)",
      "\u001b[1;32m<ipython-input-1-a252a63e37c7>\u001b[0m in \u001b[0;36m<module>\u001b[1;34m\u001b[0m\n\u001b[0;32m      3\u001b[0m \u001b[1;31m##################################################################################\u001b[0m\u001b[1;33m\u001b[0m\u001b[1;33m\u001b[0m\u001b[1;33m\u001b[0m\u001b[0m\n\u001b[0;32m      4\u001b[0m \u001b[1;33m\u001b[0m\u001b[0m\n\u001b[1;32m----> 5\u001b[1;33m \u001b[1;32mfrom\u001b[0m \u001b[0mgoogle\u001b[0m\u001b[1;33m.\u001b[0m\u001b[0mcolab\u001b[0m \u001b[1;32mimport\u001b[0m \u001b[0mdrive\u001b[0m\u001b[1;33m\u001b[0m\u001b[1;33m\u001b[0m\u001b[0m\n\u001b[0m\u001b[0;32m      6\u001b[0m \u001b[0mdrive\u001b[0m\u001b[1;33m.\u001b[0m\u001b[0mmount\u001b[0m\u001b[1;33m(\u001b[0m\u001b[1;34m\"/content/gdrive\"\u001b[0m\u001b[1;33m)\u001b[0m\u001b[1;33m\u001b[0m\u001b[1;33m\u001b[0m\u001b[0m\n\u001b[0;32m      7\u001b[0m \u001b[0mget_ipython\u001b[0m\u001b[1;33m(\u001b[0m\u001b[1;33m)\u001b[0m\u001b[1;33m.\u001b[0m\u001b[0mrun_line_magic\u001b[0m\u001b[1;33m(\u001b[0m\u001b[1;34m'cd'\u001b[0m\u001b[1;33m,\u001b[0m \u001b[1;34m'\"./gdrive/My Drive/python_projects/FYP/\"'\u001b[0m\u001b[1;33m)\u001b[0m\u001b[1;33m\u001b[0m\u001b[1;33m\u001b[0m\u001b[0m\n",
      "\u001b[1;31mModuleNotFoundError\u001b[0m: No module named 'google.colab'"
     ]
    }
   ],
   "source": [
    "##################################################################################\n",
    "# If run in google colab      #################################################### \n",
    "##################################################################################\n",
    "\n",
    "from google.colab import drive\n",
    "drive.mount(\"/content/gdrive\")\n",
    "%cd \"./gdrive/My Drive/python_projects/FYP/\"\n",
    "!pip install tensorflow-gpu==2.1"
   ]
  },
  {
   "cell_type": "code",
   "execution_count": 2,
   "metadata": {
    "colab": {},
    "colab_type": "code",
    "id": "onhlff26OxD7"
   },
   "outputs": [],
   "source": [
    "# built in modules and libraries\n",
    "\n",
    "import numpy as np\n",
    "import importlib as imp\n",
    "import cv2\n",
    "import os\n",
    "import matplotlib.pyplot as plt\n",
    "import gc\n",
    "import math\n",
    "import time\n",
    "import glob\n",
    "\n",
    "# Custom libraries/classes\n",
    "\n",
    "from components.classes.NumbaSimpleMatcher import Wrapper as Matcher\n",
    "\n",
    "from components.classes.Metrix import Wrapper as Metrix\n",
    "from components.classes.SintelReader import Wrapper as SintelReader\n",
    "from components.classes.CSVReader import Wrapper as CSVReader\n",
    "from components.classes.CSVWriter2 import Wrapper as CSVWriter\n",
    "\n",
    "\n",
    "\n",
    "# singleton class: we will only have one progress bar\n",
    "from components.classes.SimpleProgressBar import SimpleProgressBar\n",
    "\n",
    "\n",
    "# Custom libraries/utils\n",
    "\n",
    "from components.utils import plot_utils as plu\n",
    "from components.utils import utils as u"
   ]
  },
  {
   "cell_type": "markdown",
   "metadata": {
    "colab_type": "text",
    "id": "DFrr1Zy4ERMw"
   },
   "source": [
    "##Configuring and testing data generator"
   ]
  },
  {
   "cell_type": "code",
   "execution_count": 3,
   "metadata": {
    "colab": {
     "base_uri": "https://localhost:8080/",
     "height": 128
    },
    "colab_type": "code",
    "executionInfo": {
     "elapsed": 1966,
     "status": "ok",
     "timestamp": 1583093342263,
     "user": {
      "displayName": "Gergő Endrész",
      "photoUrl": "https://lh3.googleusercontent.com/a-/AOh14Gi-PB7WDYNTcVZ9nR682HqtLOryUrTl135vcvukuw=s64",
      "userId": "12307487896953279443"
     },
     "user_tz": 0
    },
    "id": "vmY4cZniX7Kx",
    "outputId": "1e4b0941-9907-425e-9a78-33af98630843"
   },
   "outputs": [
    {
     "name": "stdout",
     "output_type": "stream",
     "text": [
      "File ./optimization/final//numba_sm/SM_VGG16_PREPROCESSED_GC.csv already exists, header has not been written.\n"
     ]
    },
    {
     "data": {
      "image/png": "[encoded data removed]",
      "text/plain": [
       "<Figure size 800x600 with 5 Axes>"
      ]
     },
     "metadata": {
      "needs_background": "light"
     },
     "output_type": "display_data"
    }
   ],
   "source": [
    "##################################################################################\n",
    "# Setting default parameters  #################################################### \n",
    "##################################################################################\n",
    "\n",
    "LOG_OUTPUT_ROOT = \"./optimization/final/\"\n",
    "\n",
    "LOG_DIRECTORY = LOG_OUTPUT_ROOT+\"/numba_sm/\"\n",
    "\n",
    "SPEC_MARKER = \"SM_VGG16_PREPROCESSED_GC\"\n",
    "\n",
    "CSV_FILE_NAME =  SPEC_MARKER+\".csv\"\n",
    "\n",
    "CSV_FILE_PATH = os.path.join(LOG_DIRECTORY, CSV_FILE_NAME)\n",
    "\n",
    "##################################################################################\n",
    "# Instantiating reader and csv writer ############################################\n",
    "##################################################################################\n",
    "\n",
    "\n",
    "STEREO_IMGS_ROOT = \"./datasets/sintel/training\"\n",
    "\n",
    "IMG_READER = SintelReader(rootPath=STEREO_IMGS_ROOT)\n",
    "\n",
    "CSV_WRITER = CSVWriter(file_path = CSV_FILE_PATH)\n",
    "\n",
    "PROGRESS_VIEWER = SimpleProgressBar.get_instance()\n",
    "\n",
    "NUM_SCENES = len(IMG_READER.get_available_scenes())\n",
    "\n",
    "##################################################################################\n",
    "# Testing reader configuration ###################################################\n",
    "##################################################################################\n",
    "## CSV writer should output if there has been a permission error or file already exists (which is not a problem)\n",
    "\n",
    "IMG_READER.set_selected_scene('cave_4')\n",
    "\n",
    "loaded_imgs = IMG_READER.get_selected_scene_next_files()\n",
    "\n",
    "IMG_READER.plot_images_to_compare(loaded_imgs)\n"
   ]
  },
  {
   "cell_type": "code",
   "execution_count": 4,
   "metadata": {},
   "outputs": [],
   "source": [
    "##################################################################################\n",
    "# SPEC_DICT: columns that will be written to csv##################################\n",
    "##################################################################################\n",
    "\n",
    "SPEC_DICT = dict({})\n",
    "\n",
    "SPEC_DICT[\"is_parallel\"] = \"True\"\n",
    "\n",
    "SPEC_DICT[\"alg_type\"] =  SPEC_MARKER\n",
    "SPEC_DICT[\"is_img_preprocessed\"] = \"yes\"\n",
    "\n",
    "\n",
    "\n",
    "SPEC_DICT[\"filter_strategy\"] = \"-\"\n",
    "SPEC_DICT[\"matching_mode\"] =  \"occlusions_added_to_the_groundtruth\"\n",
    "SPEC_DICT[\"matrix_init_mode\"] = 2\n",
    "\n",
    "# Have to be updated iteratively\n",
    "SPEC_DICT[\"img_name_pretag\"] = SPEC_MARKER\n",
    "SPEC_DICT[\"img_name\"] = SPEC_MARKER\n",
    "SPEC_DICT[\"convolution_filters\"] = SPEC_MARKER\n",
    "SPEC_DICT[\"convolution_filters_pretag\"] = SPEC_MARKER"
   ]
  },
  {
   "cell_type": "code",
   "execution_count": 5,
   "metadata": {
    "colab": {
     "base_uri": "https://localhost:8080/",
     "height": 836
    },
    "colab_type": "code",
    "executionInfo": {
     "elapsed": 3233,
     "status": "ok",
     "timestamp": 1583093352144,
     "user": {
      "displayName": "Gergő Endrész",
      "photoUrl": "https://lh3.googleusercontent.com/a-/AOh14Gi-PB7WDYNTcVZ9nR682HqtLOryUrTl135vcvukuw=s64",
      "userId": "12307487896953279443"
     },
     "user_tz": 0
    },
    "id": "57BqdXlOkaXV",
    "outputId": "69a662a9-3f92-474a-fc3d-c1a72d5a5c80"
   },
   "outputs": [
    {
     "name": "stdout",
     "output_type": "stream",
     "text": [
      "[PhysicalDevice(name='/physical_device:GPU:0', device_type='GPU')]\n"
     ]
    }
   ],
   "source": [
    "##################################################################################\n",
    "# Making sure that Tensorflow session is placed on the GPU, if available #########\n",
    "##################################################################################\n",
    "\n",
    "import tensorflow as tf\n",
    "\n",
    "physical_devices = tf.config.list_physical_devices('GPU')\n",
    "print(physical_devices)\n",
    "try:\n",
    "    tf.config.set_logical_device_configuration(\n",
    "        physical_devices[0],\n",
    "        [tf.config.LogicalDeviceConfiguration(memory_limit=5000),\n",
    "          tf.config.LogicalDeviceConfiguration(memory_limit=5000)])\n",
    "\n",
    "    logical_devices = tf.config.list_logical_devices('GPU')\n",
    "    assert len(logical_devices) == len(physical_devices) + 1\n",
    "\n",
    "    tf.config.set_logical_device_configuration(\n",
    "        physical_devices[0],\n",
    "        [tf.config.LogicalDeviceConfiguration(memory_limit=5000),\n",
    "          tf.config.LogicalDeviceConfiguration(memory_limit=5000)])\n",
    "except:\n",
    "    # Invalid device or cannot modify logical devices once initialized.\n",
    "    pass"
   ]
  },
  {
   "cell_type": "code",
   "execution_count": 6,
   "metadata": {},
   "outputs": [
    {
     "name": "stdout",
     "output_type": "stream",
     "text": [
      "Model: \"model\"\n",
      "_________________________________________________________________\n",
      "Layer (type)                 Output Shape              Param #   \n",
      "=================================================================\n",
      "input_2 (InputLayer)         [(None, 120, 1024, 3)]    0         \n",
      "_________________________________________________________________\n",
      "block1_conv1 (Conv2D)        multiple                  1792      \n",
      "=================================================================\n",
      "Total params: 1,792\n",
      "Trainable params: 1,792\n",
      "Non-trainable params: 0\n",
      "_________________________________________________________________\n"
     ]
    }
   ],
   "source": [
    "##################################################################################\n",
    "# Currently supported models: see tf_utils.py in components/utils ################\n",
    "##################################################################################\n",
    "\n",
    "from components.utils import tf_utils as tfu\n",
    "\n",
    "##################################################################################\n",
    "# Specifying IMG Dimensions for the model#########################################\n",
    "##################################################################################\n",
    "\n",
    "WIDTH = 1024\n",
    "HEIGHT = 120\n",
    "IMG_DIM_FOR_MODEL = [HEIGHT,WIDTH, 3]\n",
    "\n",
    "\n",
    "##################################################################################\n",
    "# Getting the \"first-layer\" model ################################################\n",
    "##################################################################################\n",
    "\n",
    "MODEL = tfu.get_vgg16_first_layer_model(IMG_DIM_FOR_MODEL)\n",
    "MODEL.summary()\n",
    "\n",
    "##################################################################################\n",
    "# Uncomment the line below to check model configuration ##########################\n",
    "##################################################################################\n",
    "\n",
    "#model.get_config()"
   ]
  },
  {
   "cell_type": "code",
   "execution_count": 7,
   "metadata": {
    "colab": {
     "base_uri": "https://localhost:8080/",
     "height": 408
    },
    "colab_type": "code",
    "executionInfo": {
     "elapsed": 13623,
     "status": "ok",
     "timestamp": 1583093241567,
     "user": {
      "displayName": "Gergő Endrész",
      "photoUrl": "https://lh3.googleusercontent.com/a-/AOh14Gi-PB7WDYNTcVZ9nR682HqtLOryUrTl135vcvukuw=s64",
      "userId": "12307487896953279443"
     },
     "user_tz": 0
    },
    "id": "TJG2NU_Or0__",
    "outputId": "d3a0091c-52c9-4571-9751-0c8b7083ef6e"
   },
   "outputs": [],
   "source": [
    "##################################################################################\n",
    "# PRE-PROCESSING IMAGES: first image in each scene ###############################\n",
    "## CAVEAT :FAST-EXECUTION BUT LOADS OF STORAGE SPACE: RUN IT EVERY TIME ... ######\n",
    "## ... if new execution environment: exclude them from GIT push    ###############\n",
    "##################################################################################\n",
    "\n",
    "PREPROCESS_IMGS_DIRECTORY = \"./~optimization/pickled_slice_predictions/vgg16/\"\n",
    "\n",
    "#READER.convolve_slices_and_save(MODEL,  slice_height = HEIGHT, slice_width = WIDTH, output_directory=PREPROCESS_IMGS_DIRECTORY)\n"
   ]
  },
  {
   "cell_type": "code",
   "execution_count": 8,
   "metadata": {
    "colab": {
     "base_uri": "https://localhost:8080/",
     "height": 191
    },
    "colab_type": "code",
    "executionInfo": {
     "elapsed": 1619,
     "status": "ok",
     "timestamp": 1583093360982,
     "user": {
      "displayName": "Gergő Endrész",
      "photoUrl": "https://lh3.googleusercontent.com/a-/AOh14Gi-PB7WDYNTcVZ9nR682HqtLOryUrTl135vcvukuw=s64",
      "userId": "12307487896953279443"
     },
     "user_tz": 0
    },
    "id": "KZEb6Nk_iqHR",
    "outputId": "992f2023-ff74-4517-9a49-72ffbdb42ef0"
   },
   "outputs": [
    {
     "name": "stdout",
     "output_type": "stream",
     "text": [
      "Found images: 23\n",
      "Each image's shape: (2, 120, 1024, 64)\n"
     ]
    },
    {
     "data": {
      "text/plain": [
       "<matplotlib.image.AxesImage at 0x20608b92788>"
      ]
     },
     "execution_count": 8,
     "metadata": {},
     "output_type": "execute_result"
    },
    {
     "data": {
      "image/png": "[encoded data removed]",
      "text/plain": [
       "<Figure size 432x288 with 1 Axes>"
      ]
     },
     "metadata": {
      "needs_background": "light"
     },
     "output_type": "display_data"
    }
   ],
   "source": [
    "##################################################################################\n",
    "# LOADING the preprocess images: one for each scene ##############################\n",
    "##################################################################################\n",
    "\n",
    "PREPROCESSED_PICKLES = IMG_READER.list_pickled_convolved(PREPROCESS_IMGS_DIRECTORY, WIDTH, HEIGHT)\n",
    "\n",
    "PREPROCESSED_PICKLES = sorted(PREPROCESSED_PICKLES)\n",
    "\n",
    "##################################################################################\n",
    "# TESTING LOADED IMAGES VISUALLY #################################################\n",
    "##################################################################################\n",
    "\n",
    "one_pickle = IMG_READER.load_pickled_convolved(PREPROCESSED_PICKLES[0])\n",
    "selected_filter_index = 0\n",
    "\n",
    "print(\"Found images: {0}\".format(len(PREPROCESSED_PICKLES)))\n",
    "print(\"Each image's shape: {0}\".format(one_pickle.shape))\n",
    "\n",
    "fig = plt.figure()\n",
    "ax = fig.gca()\n",
    "\n",
    "ax.set_title(\"Example loaded convolved slice (filter {0})\".format(selected_filter_index))\n",
    "plt.imshow(one_pickle[0, :, :, selected_filter_index])\n"
   ]
  },
  {
   "cell_type": "markdown",
   "metadata": {
    "colab_type": "text",
    "id": "WR7FJATysh8C"
   },
   "source": [
    "##Initialising loop parameters"
   ]
  },
  {
   "cell_type": "code",
   "execution_count": 9,
   "metadata": {
    "colab": {
     "base_uri": "https://localhost:8080/",
     "height": 88
    },
    "colab_type": "code",
    "executionInfo": {
     "elapsed": 3801,
     "status": "ok",
     "timestamp": 1583093374879,
     "user": {
      "displayName": "Gergő Endrész",
      "photoUrl": "https://lh3.googleusercontent.com/a-/AOh14Gi-PB7WDYNTcVZ9nR682HqtLOryUrTl135vcvukuw=s64",
      "userId": "12307487896953279443"
     },
     "user_tz": 0
    },
    "id": "LZktHEm3EzwM",
    "outputId": "13b1ba4c-f6fe-4b7e-bbf2-326547e3c4bb"
   },
   "outputs": [],
   "source": [
    "##################################################################################\n",
    "# Uncomment to see available scnenes #############################################\n",
    "##################################################################################\n",
    "\n",
    "#SCENES = reader.get_available_scenes()\n",
    "#SCENES = sorted(SCENES)\n",
    "#print(SCENES)\n",
    "\n",
    "##################################################################################\n",
    "# LOADING Grountruth images: only 23, can be loaded into memory###################\n",
    "##################################################################################\n",
    "\n",
    "STARTING_ROW_FOR_SLICES = 0\n",
    "ALL_DISPARITIES = IMG_READER.get_all_sliced_disparities(HEIGHT, WIDTH, STARTING_ROW_FOR_SLICES = STARTING_ROW_FOR_SLICES)\n"
   ]
  },
  {
   "cell_type": "code",
   "execution_count": 10,
   "metadata": {
    "colab": {
     "base_uri": "https://localhost:8080/",
     "height": 297
    },
    "colab_type": "code",
    "executionInfo": {
     "elapsed": 565,
     "status": "ok",
     "timestamp": 1583093376580,
     "user": {
      "displayName": "Gergő Endrész",
      "photoUrl": "https://lh3.googleusercontent.com/a-/AOh14Gi-PB7WDYNTcVZ9nR682HqtLOryUrTl135vcvukuw=s64",
      "userId": "12307487896953279443"
     },
     "user_tz": 0
    },
    "id": "iko3ii_jiqHX",
    "outputId": "f734e006-010b-493b-8c83-9e9b648cc56b"
   },
   "outputs": [
    {
     "name": "stdout",
     "output_type": "stream",
     "text": [
      "             match          gap         egap  matrix_init_mode      runtime  \\\n",
      "count  1760.000000  1760.000000  1760.000000            1760.0  1760.000000   \n",
      "mean     75.000000   -45.000000   -40.000000               2.0    20.167556   \n",
      "std      46.110824    28.730977    31.631764               0.0     0.244460   \n",
      "min       0.000000   -90.000000   -90.000000               2.0    19.054626   \n",
      "25%      37.500000   -70.000000   -70.000000               2.0    20.104191   \n",
      "50%      75.000000   -45.000000   -40.000000               2.0    20.180402   \n",
      "75%     112.500000   -20.000000   -10.000000               2.0    20.239465   \n",
      "max     150.000000     0.000000    10.000000               2.0    22.554628   \n",
      "\n",
      "       euclid_distance           mse      ABS_ERR  \n",
      "count      1760.000000   1760.000000  1760.000000  \n",
      "mean      40351.744597  13859.730032    94.086499  \n",
      "std        1964.868976   1411.572178     5.112703  \n",
      "min       37361.034515  11853.319463    85.450280  \n",
      "25%       39448.640176  13214.972928    92.250425  \n",
      "50%       40127.836761  13673.940931    93.515065  \n",
      "75%       40646.372078  14029.615869    94.600760  \n",
      "max       50147.851499  21355.358441   115.212458  \n"
     ]
    }
   ],
   "source": [
    "##################################################################################\n",
    "# GETTING N BEST PARAMETERS FROM THE SELECTED FILE ###############################\n",
    "##################################################################################\n",
    "\n",
    "SELECTED_CSV_FILE_PATH = \"./optimization/final/numba_legacy/legacy_mixed_lines.csv\"\n",
    "CSV_READER = CSVReader(SELECTED_CSV_FILE_PATH)\n",
    "CSV_FILE_DESCRIPTION = CSV_READER.get_description()\n",
    "\n",
    "print(CSV_FILE_DESCRIPTION)"
   ]
  },
  {
   "cell_type": "code",
   "execution_count": 11,
   "metadata": {
    "colab": {
     "base_uri": "https://localhost:8080/",
     "height": 68
    },
    "colab_type": "code",
    "executionInfo": {
     "elapsed": 7736,
     "status": "ok",
     "timestamp": 1583093386108,
     "user": {
      "displayName": "Gergő Endrész",
      "photoUrl": "https://lh3.googleusercontent.com/a-/AOh14Gi-PB7WDYNTcVZ9nR682HqtLOryUrTl135vcvukuw=s64",
      "userId": "12307487896953279443"
     },
     "user_tz": 0
    },
    "id": "PDkmwWt3iqHa",
    "outputId": "ce4977b6-2ebe-4622-e388-80ff1e6ce52d"
   },
   "outputs": [
    {
     "name": "stdout",
     "output_type": "stream",
     "text": [
      "10\n",
      "Please enter the estimated runtime per images in seconds below:\n"
     ]
    }
   ],
   "source": [
    "top_n_config = []\n",
    "\n",
    "n = 3\n",
    "\n",
    "\n",
    "selected_metric = \"ABS_ERR\"\n",
    "\n",
    "\n",
    "res = CSV_READER.get_best_n_params(n, selected_metric)\n",
    "top_n_config.append(res)\n",
    "\n",
    "selected_metric = \"mse\"\n",
    "\n",
    "res = CSV_READER.get_best_n_params(n, selected_metric)\n",
    "top_n_config.append(res)\n",
    "\n",
    "selected_metric = \"euclid_distance\"\n",
    "\n",
    "res = CSV_READER.get_best_n_params(n, selected_metric)\n",
    "top_n_config.append(res)\n",
    "\n",
    "top_n_config.append([60, -20, -1, 0])\n",
    "LOADED_BEST_PARAMS = np.vstack(top_n_config)\n",
    "print(LOADED_BEST_PARAMS.shape[0])\n",
    "print(\"Please enter the estimated runtime per images in seconds below:\")\n",
    "\n",
    "runtime_multiplyer = 10\n",
    "#runtime_multiplyer = input()"
   ]
  },
  {
   "cell_type": "code",
   "execution_count": 12,
   "metadata": {
    "colab": {
     "base_uri": "https://localhost:8080/",
     "height": 68
    },
    "colab_type": "code",
    "executionInfo": {
     "elapsed": 1300,
     "status": "ok",
     "timestamp": 1583093389528,
     "user": {
      "displayName": "Gergő Endrész",
      "photoUrl": "https://lh3.googleusercontent.com/a-/AOh14Gi-PB7WDYNTcVZ9nR682HqtLOryUrTl135vcvukuw=s64",
      "userId": "12307487896953279443"
     },
     "user_tz": 0
    },
    "id": "j7Y6UwCsiqHc",
    "outputId": "733c42a9-8fcf-46eb-b92c-64a921d36d39"
   },
   "outputs": [
    {
     "name": "stdout",
     "output_type": "stream",
     "text": [
      "The number of iterations based on the params: 14720\n",
      "The amount of time (s) needed to perform the parameter search: 147200.0\n",
      "The amount of time (h) needed to perform the parameter search: 40.888888888888886\n"
     ]
    }
   ],
   "source": [
    "NUMBER_OF_ITERATIONS = len(LOADED_BEST_PARAMS)  * NUM_SCENES *64\n",
    "est_runtime = int(NUMBER_OF_ITERATIONS) * float(runtime_multiplyer)\n",
    "\n",
    "print(\"The number of iterations based on the params: {0}\".format(round(NUMBER_OF_ITERATIONS)))\n",
    "print(\"The amount of time (s) needed to perform the parameter search: {0}\".format(est_runtime))\n",
    "print(\"The amount of time (h) needed to perform the parameter search: {0}\".format(est_runtime/3600))"
   ]
  },
  {
   "cell_type": "code",
   "execution_count": 13,
   "metadata": {},
   "outputs": [
    {
     "name": "stdout",
     "output_type": "stream",
     "text": [
      "Queue has been filled up.\n"
     ]
    }
   ],
   "source": [
    "from components.classes import SintelThreadProvider as STP\n",
    "\n",
    "q = STP.Queue(5)\n",
    "pickled_file_list = [] #todo here\n",
    "dataLoaderThread = STP.SintelThreadProvider(name=\"data_provider_1\", queue=q, fileList = PREPROCESSED_PICKLES)\n",
    "dataLoaderThread.start()\n",
    "\n",
    "while(not dataLoaderThread.isReady()):\n",
    "    time.sleep(1)\n",
    "print(\"Queue has been filled up.\")\n",
    "gts = [SintelReader.add_masks_to_raw_disparity(ALL_DISPARITIES[i, 0], ALL_DISPARITIES[i, 1], ALL_DISPARITIES[i, 2]) for i in (range(ALL_DISPARITIES.shape[0]))]\n",
    "\n"
   ]
  },
  {
   "cell_type": "code",
   "execution_count": 14,
   "metadata": {},
   "outputs": [],
   "source": [
    "NEXT_IMAGE = q.pop()\n",
    "OUTER_LOOP_COUNTER = 0\n",
    "INTERNAL_LOOP_COUNTER = 0\n",
    "\n",
    "import logging\n",
    "logging.basicConfig(level=logging.WARNING,\n",
    "                    format='(%(threadName)-9s) %(message)s', )"
   ]
  },
  {
   "cell_type": "code",
   "execution_count": 21,
   "metadata": {},
   "outputs": [
    {
     "name": "stdout",
     "output_type": "stream",
     "text": [
      "Parameter search progress:  [----------------------------------------------------------------------------------------------------] 0.09 % completed: 13 / 14720 steps"
     ]
    },
    {
     "ename": "PermissionError",
     "evalue": "[Errno 13] Permission denied: './optimization/final//numba_sm/SM_VGG16_PREPROCESSED_GC.csv'",
     "output_type": "error",
     "traceback": [
      "\u001b[1;31m---------------------------------------------------------------------------\u001b[0m",
      "\u001b[1;31mPermissionError\u001b[0m                           Traceback (most recent call last)",
      "\u001b[1;32m<ipython-input-21-9dbee08cdccb>\u001b[0m in \u001b[0;36m<module>\u001b[1;34m\u001b[0m\n\u001b[0;32m     45\u001b[0m             \u001b[0mINTERNAL_LOOP_COUNTER\u001b[0m\u001b[1;33m+=\u001b[0m\u001b[1;36m1\u001b[0m\u001b[1;33m\u001b[0m\u001b[1;33m\u001b[0m\u001b[0m\n\u001b[0;32m     46\u001b[0m \u001b[1;33m\u001b[0m\u001b[0m\n\u001b[1;32m---> 47\u001b[1;33m             \u001b[0mCSV_WRITER\u001b[0m\u001b[1;33m.\u001b[0m\u001b[0mappend_new_sm_results\u001b[0m\u001b[1;33m(\u001b[0m\u001b[0mSPEC_DICT\u001b[0m\u001b[1;33m)\u001b[0m\u001b[1;33m\u001b[0m\u001b[1;33m\u001b[0m\u001b[0m\n\u001b[0m\u001b[0;32m     48\u001b[0m \u001b[1;33m\u001b[0m\u001b[0m\n\u001b[0;32m     49\u001b[0m     \u001b[0mnextImage\u001b[0m \u001b[1;33m=\u001b[0m \u001b[0mq\u001b[0m\u001b[1;33m.\u001b[0m\u001b[0mpop\u001b[0m\u001b[1;33m(\u001b[0m\u001b[1;33m)\u001b[0m\u001b[1;33m\u001b[0m\u001b[1;33m\u001b[0m\u001b[0m\n",
      "\u001b[1;32mC:\\gdrive\\python_projects\\FYP\\components\\classes\\CSVWriter2.py\u001b[0m in \u001b[0;36mappend_new_sm_results\u001b[1;34m(self, spec_dict, separator)\u001b[0m\n\u001b[0;32m     69\u001b[0m     \u001b[1;32mdef\u001b[0m \u001b[0mappend_new_sm_results\u001b[0m\u001b[1;33m(\u001b[0m\u001b[0mself\u001b[0m\u001b[1;33m,\u001b[0m \u001b[0mspec_dict\u001b[0m\u001b[1;33m,\u001b[0m \u001b[0mseparator\u001b[0m \u001b[1;33m=\u001b[0m \u001b[1;34m\",\"\u001b[0m\u001b[1;33m)\u001b[0m\u001b[1;33m:\u001b[0m\u001b[1;33m\u001b[0m\u001b[1;33m\u001b[0m\u001b[0m\n\u001b[0;32m     70\u001b[0m         \u001b[0mformatted_message\u001b[0m \u001b[1;33m=\u001b[0m \u001b[0mself\u001b[0m\u001b[1;33m.\u001b[0m\u001b[0mformat_stereo_matching_results\u001b[0m\u001b[1;33m(\u001b[0m\u001b[0mspec_dict\u001b[0m\u001b[1;33m,\u001b[0m \u001b[0mseparator\u001b[0m \u001b[1;33m=\u001b[0m\u001b[1;34m\",\"\u001b[0m\u001b[1;33m)\u001b[0m\u001b[1;33m\u001b[0m\u001b[1;33m\u001b[0m\u001b[0m\n\u001b[1;32m---> 71\u001b[1;33m         \u001b[1;32mwith\u001b[0m \u001b[0mopen\u001b[0m\u001b[1;33m(\u001b[0m\u001b[0mself\u001b[0m\u001b[1;33m.\u001b[0m\u001b[0m_file_path\u001b[0m\u001b[1;33m,\u001b[0m \u001b[1;34m'a+'\u001b[0m\u001b[1;33m)\u001b[0m \u001b[1;32mas\u001b[0m \u001b[0mf\u001b[0m\u001b[1;33m:\u001b[0m\u001b[1;33m\u001b[0m\u001b[1;33m\u001b[0m\u001b[0m\n\u001b[0m\u001b[0;32m     72\u001b[0m             \u001b[0mf\u001b[0m\u001b[1;33m.\u001b[0m\u001b[0mwrite\u001b[0m\u001b[1;33m(\u001b[0m\u001b[0mformatted_message\u001b[0m\u001b[1;33m+\u001b[0m\u001b[1;34m\"\\n\"\u001b[0m\u001b[1;33m)\u001b[0m\u001b[1;33m\u001b[0m\u001b[1;33m\u001b[0m\u001b[0m\n\u001b[0;32m     73\u001b[0m \u001b[1;33m\u001b[0m\u001b[0m\n",
      "\u001b[1;31mPermissionError\u001b[0m: [Errno 13] Permission denied: './optimization/final//numba_sm/SM_VGG16_PREPROCESSED_GC.csv'"
     ]
    }
   ],
   "source": [
    "while(NEXT_IMAGE is not None):\n",
    "    \n",
    "    CURRENT_GROUNDTRUTH = gts[OUTER_LOOP_COUNTER]\n",
    "    \n",
    "    OUTER_LOOP_COUNTER+=1\n",
    "    \n",
    "    matcher = Matcher(0, 0, 0)\n",
    "    matcher.configure_instance()   \n",
    "\n",
    "    for best_params in LOADED_BEST_PARAMS:\n",
    "        match = SPEC_DICT[\"match\"] = best_params[0]\n",
    "        gap = SPEC_DICT[\"gap\"] = best_params[1]\n",
    "        egap = SPEC_DICT[\"egap\"] = best_params[2]\n",
    "\n",
    "        matcher._match=match\n",
    "        matcher._gap=gap\n",
    "        matcher._egap=egap\n",
    "    \n",
    "        for filter_index in range(64):\n",
    "\n",
    "            SPEC_DICT[\"convolution_filters\"] = SPEC_DICT[\"convolution_filters_pretag\"]+str(filter_index)\n",
    "\n",
    "            leftee = NEXT_IMAGE[filter_index, 0]\n",
    "            rightee = NEXT_IMAGE[filter_index, 1]\n",
    "  \n",
    "            matcher.set_images(rightee, leftee)\n",
    "            tic=time.time()\n",
    "\n",
    "            x,raw_disp_map = matcher.run_pipeline()\n",
    "\n",
    "            toc = time.time()\n",
    "            \n",
    "            SPEC_DICT[\"runtime\"] = toc-tic\n",
    "            \n",
    "            SPEC_DICT[\"filter_strategy\"] = \"VGG16_one_by_one\"\n",
    "            \n",
    "            SPEC_DICT[\"mse\"] = Metrix.mse(raw_disp_map, CURRENT_GROUNDTRUTH)\n",
    "            \n",
    "            SPEC_DICT[\"euclid_distance\"] =Metrix.eucledian_distance(raw_disp_map, CURRENT_GROUNDTRUTH)\n",
    "            \n",
    "            SPEC_DICT[\"ABS_ERR\"] = Metrix.avgerr(raw_disp_map, CURRENT_GROUNDTRUTH, print=False)\n",
    "\n",
    "            PROGRESS_VIEWER.progress_bar(INTERNAL_LOOP_COUNTER+1, NUMBER_OF_ITERATIONS, header= \"Parameter search progress: \", progress_bar_steps=100)\n",
    "            \n",
    "            INTERNAL_LOOP_COUNTER+=1\n",
    "            \n",
    "            CSV_WRITER.append_new_sm_results(SPEC_DICT)\n",
    "    \n",
    "    nextImage = q.pop()\n",
    "end_time = time.time()"
   ]
  },
  {
   "cell_type": "markdown",
   "metadata": {
    "colab_type": "text",
    "id": "meLaJgZnFG87"
   },
   "source": [
    "##Running the optimisation"
   ]
  },
  {
   "cell_type": "code",
   "execution_count": null,
   "metadata": {
    "colab": {},
    "colab_type": "code",
    "id": "TXeTjOSwiqHj"
   },
   "outputs": [],
   "source": [
    "print(\"The optimisation process taken {0} seconds or {1} hours\".format((end_time-start_time), (end_time-start_time)/3600))"
   ]
  }
 ],
 "metadata": {
  "accelerator": "GPU",
  "colab": {
   "collapsed_sections": [],
   "machine_shape": "hm",
   "name": "SM-NUMBA-SINTEL_VGG16-CONV_preprocessed_mixed-lines_ready_to_run.ipynb",
   "provenance": [
    {
     "file_id": "1e4cy-AkPPx7H6V4ev0B4qnlC7o1AUt-n",
     "timestamp": 1582513496982
    },
    {
     "file_id": "1B1JmtpKuKMm9SMYFkBsoniD8ENyk4Ply",
     "timestamp": 1582506213324
    },
    {
     "file_id": "1mAgX-o2zMv1RVzKeGm-vZgYr5odY2DOt",
     "timestamp": 1582342403791
    },
    {
     "file_id": "1R0MNssudaZe2ssz3Pw0vH9LpB3jP-6MR",
     "timestamp": 1582315751025
    }
   ]
  },
  "kernelspec": {
   "display_name": "Python 3",
   "language": "python",
   "name": "python3"
  },
  "language_info": {
   "codemirror_mode": {
    "name": "ipython",
    "version": 3
   },
   "file_extension": ".py",
   "mimetype": "text/x-python",
   "name": "python",
   "nbconvert_exporter": "python",
   "pygments_lexer": "ipython3",
   "version": "3.7.6"
  }
 },
 "nbformat": 4,
 "nbformat_minor": 1
}
