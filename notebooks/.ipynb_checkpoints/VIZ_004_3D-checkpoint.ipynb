{
 "cells": [
  {
   "cell_type": "code",
   "execution_count": 1,
   "metadata": {},
   "outputs": [],
   "source": [
    "import plotly.graph_objects as go\n",
    "\n",
    "fig = go.Figure()\n",
    "\n",
    "fig.add_trace(go.Scatter3d(\n",
    "    x=[\"2017-01-01\", \"2017-02-10\", \"2017-03-20\"],\n",
    "    y=[\"A\", \"B\", \"C\"],\n",
    "    z=[1, 1000, 100000],\n",
    "    name=\"z\",\n",
    "))\n",
    "\n",
    "fig.update_layout(\n",
    "    xaxis=dict(title_text=\"x\"),\n",
    "    yaxis=dict(title_text=\"y\"),\n",
    "    scene=dict(\n",
    "        aspectratio=dict(\n",
    "            x=1,\n",
    "            y=1,\n",
    "            z=1\n",
    "        ),\n",
    "        camera=dict(\n",
    "            center=dict(\n",
    "                x=0,\n",
    "                y=0,\n",
    "                z=0\n",
    "            ),\n",
    "            eye=dict(\n",
    "                x=1.96903462608,\n",
    "                y=-1.09022831971,\n",
    "                z=0.405345349304\n",
    "            ),\n",
    "            up=dict(\n",
    "                x=0,\n",
    "                y=0,\n",
    "                z=1\n",
    "            )\n",
    "        ),\n",
    "        dragmode=\"turntable\",\n",
    "        xaxis=dict(\n",
    "            title_text=\"\",\n",
    "            type=\"date\"\n",
    "        ),\n",
    "        yaxis=dict(\n",
    "            title_text=\"\",\n",
    "            type=\"category\"\n",
    "        ),\n",
    "        zaxis=dict(\n",
    "            title_text=\"\",\n",
    "            type=\"log\"\n",
    "        ),\n",
    "        annotations=[dict(\n",
    "            showarrow=False,\n",
    "            x=\"2017-01-01\",\n",
    "            y=\"A\",\n",
    "            z=0,\n",
    "            text=\"Point 1\",\n",
    "            xanchor=\"left\",\n",
    "            xshift=10,\n",
    "            opacity=0.7\n",
    "        ), dict(\n",
    "            x=\"2017-02-10\",\n",
    "            y=\"B\",\n",
    "            z=4,\n",
    "            text=\"Point 2\",\n",
    "            textangle=0,\n",
    "            ax=0,\n",
    "            ay=-75,\n",
    "            font=dict(\n",
    "                color=\"black\",\n",
    "                size=12\n",
    "            ),\n",
    "            arrowcolor=\"black\",\n",
    "            arrowsize=3,\n",
    "            arrowwidth=1,\n",
    "            arrowhead=1\n",
    "        ), dict(\n",
    "            x=\"2017-03-20\",\n",
    "            y=\"C\",\n",
    "            z=5,\n",
    "            ax=50,\n",
    "            ay=0,\n",
    "            text=\"Point 3\",\n",
    "            arrowhead=1,\n",
    "            xanchor=\"left\",\n",
    "            yanchor=\"bottom\"\n",
    "        )]\n",
    "    ),\n",
    ")\n",
    "\n",
    "fig.show()"
   ]
  },
  {
   "cell_type": "code",
   "execution_count": 2,
   "metadata": {},
   "outputs": [],
   "source": [
    "import pandas as pd\n",
    "import ipywidgets as widgets\n",
    "import numpy as np\n",
    "import sys\n",
    "sys.path.append(\"../../\")\n",
    "import os\n",
    "import glob\n",
    "import cv2\n",
    "\n",
    "import plotly.graph_objs as go\n",
    "import plotly.express as px\n",
    "from ipywidgets import HBox, VBox, Button"
   ]
  },
  {
   "cell_type": "code",
   "execution_count": 3,
   "metadata": {},
   "outputs": [],
   "source": [
    "log_directory = os.path.join(\"..\", \"logs\")\n",
    "csv_files = glob.glob(os.path.join(log_directory, \"*.csv\"))\n",
    "filenames = [os.path.split(csv_file)[-1] for csv_file in csv_files]\n",
    "opts = [csv_tuple for csv_tuple in zip(filenames, csv_files)]"
   ]
  },
  {
   "cell_type": "code",
   "execution_count": 4,
   "metadata": {},
   "outputs": [
    {
     "data": {
      "application/vnd.jupyter.widget-view+json": {
       "model_id": "24b1c18d249a44c0835d4056aa64a200",
       "version_major": 2,
       "version_minor": 0
      },
      "text/plain": [
       "VBox(children=(Dropdown(description='CSV Log file:', index=4, options=(('ALG_001-EXP_001-Baseline.csv', '..\\\\l…"
      ]
     },
     "metadata": {},
     "output_type": "display_data"
    }
   ],
   "source": [
    "csv_selector = widgets.Dropdown(\n",
    "    options=opts,\n",
    "    description='CSV Log file:',\n",
    "    value=\"..\\\\logs\\\\ALG_005_EXP_001-PatchMatch-MacLean_et_al-Numba.csv\"\n",
    "\n",
    ")\n",
    "\n",
    "available_metrix = ['abs_error',\n",
    "       'mse', 'avg', 'eucledian', 'bad1', 'bad2', 'bad4', 'bad8']\n",
    "\n",
    "metrics_selector = widgets.Dropdown(\n",
    "    options=[(m,m) for m in available_metrix],\n",
    "    description='Metrics:'\n",
    ")\n",
    "scene_selector = widgets.Dropdown(\n",
    "    options=[(m,m) for m in [\"teddy\", \"cones\"]],\n",
    "    description='Scene:'\n",
    ")\n",
    "\n",
    "nonoccluded = widgets.Dropdown(\n",
    "    options=[(\"yes\", False), (\"No\", True)],\n",
    "    description='Nonoccluded:'\n",
    ")\n",
    "\n",
    "\n",
    "VBox([csv_selector, metrics_selector, scene_selector, nonoccluded])"
   ]
  },
  {
   "cell_type": "code",
   "execution_count": 16,
   "metadata": {},
   "outputs": [],
   "source": [
    "def read_image_binary(path):\n",
    "    with open(path, \"rb\") as f:\n",
    "        b = f.read()\n",
    "        return b\n",
    "\n",
    "selected_file = csv_selector.value\n",
    "df = pd.read_csv(selected_file)\n",
    "df = df.drop_duplicates()\n",
    "\n",
    "df = df.sort_values(by=\"kernel_size\")\n",
    "\n",
    "df[\"loaded_imgs\"] = [read_image_binary(path) for path in df[\"image_filename\"]]\n",
    "selected_scene_df = df[\n",
    "                        (df[\"scene\"] == scene_selector.value) &\n",
    "                      (df[\"are_occlusions_errors\"] ==nonoccluded.value)\n",
    "                      ]\n"
   ]
  },
  {
   "cell_type": "code",
   "execution_count": 17,
   "metadata": {},
   "outputs": [],
   "source": [
    "from ipywidgets import Image, Layout\n",
    "\n",
    "img_widget = Image(value=df[\"loaded_imgs\"].iloc[0], \n",
    "                   layout=Layout(height='375px', width='450px'))\n"
   ]
  },
  {
   "cell_type": "code",
   "execution_count": 18,
   "metadata": {},
   "outputs": [
    {
     "name": "stderr",
     "output_type": "stream",
     "text": [
      "<ipython-input-18-c42a8a9fa98c>:2: SettingWithCopyWarning:\n",
      "\n",
      "\n",
      "A value is trying to be set on a copy of a slice from a DataFrame.\n",
      "Try using .loc[row_indexer,col_indexer] = value instead\n",
      "\n",
      "See the caveats in the documentation: https://pandas.pydata.org/pandas-docs/stable/user_guide/indexing.html#returning-a-view-versus-a-copy\n",
      "\n",
      "<ipython-input-18-c42a8a9fa98c>:3: SettingWithCopyWarning:\n",
      "\n",
      "\n",
      "A value is trying to be set on a copy of a slice from a DataFrame.\n",
      "Try using .loc[row_indexer,col_indexer] = value instead\n",
      "\n",
      "See the caveats in the documentation: https://pandas.pydata.org/pandas-docs/stable/user_guide/indexing.html#returning-a-view-versus-a-copy\n",
      "\n"
     ]
    }
   ],
   "source": [
    "h_n_w = np.array(selected_scene_df[\"kernel_size\"].str.split(\"x\").to_list())\n",
    "selected_scene_df[\"h\"] = h_n_w[:, 0]\n",
    "selected_scene_df[\"w\"] = h_n_w[:, 1]\n",
    "number_of_samples = selected_scene_df.shape[0]"
   ]
  },
  {
   "cell_type": "code",
   "execution_count": 19,
   "metadata": {},
   "outputs": [],
   "source": [
    "# kernel dims w.r.t match values\n",
    "# then kernel dims w.r.t. preprocessing types w.r.t match values\n",
    "# plus info box about the parameters of the experiment!!!!"
   ]
  },
  {
   "cell_type": "code",
   "execution_count": 20,
   "metadata": {},
   "outputs": [],
   "source": [
    "fig_a = go.FigureWidget(px.scatter(selected_scene_df, x=selected_scene_df['kernel_size'],\n",
    "            y=selected_scene_df[metrics_selector.value]))\n",
    "\n",
    "fig_a.layout.title = \"Kernel sizes\"\n"
   ]
  },
  {
   "cell_type": "code",
   "execution_count": 21,
   "metadata": {},
   "outputs": [],
   "source": [
    "fig_b = go.FigureWidget(px.scatter(selected_scene_df,\n",
    "                                  x = selected_scene_df[\"match\"],\n",
    "                                  y = selected_scene_df[\"kernel_size\"],\n",
    "                                  ))\n",
    "fig_b.layout.title = \"Match vs \"+metrics_selector.value"
   ]
  },
  {
   "cell_type": "code",
   "execution_count": 22,
   "metadata": {},
   "outputs": [],
   "source": [
    "def hover_fn(trace, points, state):\n",
    "    if(len(points.point_inds)>0):\n",
    "        ind = points.point_inds[0]\n",
    "        img_widget.value = selected_scene_df[\"loaded_imgs\"].iloc[ind]\n",
    "\n",
    "fig_a_data = fig_a.data[0]\n",
    "fig_b_data = fig_b.data[0]\n",
    "\n",
    "fig_a_data.on_hover(hover_fn)\n",
    "fig_b_data.on_hover(hover_fn)\n",
    "\n",
    "fig_a_data.marker.color = np.zeros(number_of_samples)\n",
    "fig_b_data.marker.color = np.zeros(number_of_samples)"
   ]
  },
  {
   "cell_type": "code",
   "execution_count": 23,
   "metadata": {},
   "outputs": [],
   "source": [
    "def brush(trace, points, state):\n",
    "    inds = np.array(points.point_inds)\n",
    "    if inds.size:\n",
    "        selected = fig_a_data.marker.color.copy()\n",
    "        selected[inds] = 1\n",
    "        fig_a_data.marker.color = selected\n",
    "        fig_b_data.marker.color = selected    \n",
    "    \n",
    "fig_a_data.on_selection(brush)\n",
    "fig_b_data.on_selection(brush)\n"
   ]
  },
  {
   "cell_type": "code",
   "execution_count": 24,
   "metadata": {},
   "outputs": [],
   "source": [
    "def reset_brush(btn):\n",
    "    selected = np.zeros(number_of_samples)\n",
    "    fig_a_data.marker.color = selected\n",
    "    fig_b_data.marker.color = selected  \n",
    "    \n",
    "# Create reset button\n",
    "button = Button(description=\"clear selection\")\n",
    "button.on_click(reset_brush)"
   ]
  },
  {
   "cell_type": "code",
   "execution_count": 25,
   "metadata": {},
   "outputs": [],
   "source": [
    "dashboard = VBox([button, HBox([fig_a, fig_b]),\n",
    "                  HBox([img_widget])])\n",
    "#dashboard = VBox([HBox([fig_teddy, fig_cones])])"
   ]
  },
  {
   "cell_type": "code",
   "execution_count": 26,
   "metadata": {},
   "outputs": [
    {
     "data": {
      "application/vnd.jupyter.widget-view+json": {
       "model_id": "6510f9f173c449529224538b42700dda",
       "version_major": 2,
       "version_minor": 0
      },
      "text/plain": [
       "VBox(children=(Button(description='clear selection', style=ButtonStyle()), HBox(children=(FigureWidget({\n",
       "    '…"
      ]
     },
     "metadata": {},
     "output_type": "display_data"
    }
   ],
   "source": [
    "dashboard"
   ]
  }
 ],
 "metadata": {
  "kernelspec": {
   "display_name": "Python 3",
   "language": "python",
   "name": "python3"
  },
  "language_info": {
   "codemirror_mode": {
    "name": "ipython",
    "version": 3
   },
   "file_extension": ".py",
   "mimetype": "text/x-python",
   "name": "python",
   "nbconvert_exporter": "python",
   "pygments_lexer": "ipython3",
   "version": "3.8.2"
  }
 },
 "nbformat": 4,
 "nbformat_minor": 4
}
