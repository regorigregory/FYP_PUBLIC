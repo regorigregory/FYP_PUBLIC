{
 "cells": [
  {
   "cell_type": "code",
   "execution_count": 1,
   "metadata": {},
   "outputs": [],
   "source": [
    "# coming soon"
   ]
  },
  {
   "cell_type": "code",
   "execution_count": 26,
   "metadata": {},
   "outputs": [],
   "source": [
    "import pandas as pd\n",
    "import ipywidgets as widgets\n",
    "import numpy as np\n",
    "import sys\n",
    "sys.path.append(\"../../\")\n",
    "import os\n",
    "import glob\n",
    "import cv2\n",
    "\n",
    "import plotly.graph_objs as go\n",
    "import plotly.express as px\n",
    "from ipywidgets import HBox, VBox, Button"
   ]
  },
  {
   "cell_type": "code",
   "execution_count": 27,
   "metadata": {},
   "outputs": [],
   "source": [
    "log_directory = os.path.join(\"..\", \"logs\")\n",
    "csv_files = glob.glob(os.path.join(log_directory, \"*.csv\"))\n",
    "filenames = [os.path.split(csv_file)[-1] for csv_file in csv_files]\n",
    "opts = [csv_tuple for csv_tuple in zip(filenames, csv_files)]"
   ]
  },
  {
   "cell_type": "code",
   "execution_count": 28,
   "metadata": {},
   "outputs": [
    {
     "data": {
      "application/vnd.jupyter.widget-view+json": {
       "model_id": "c1cd5252b5e74b729494d23ef2048c2a",
       "version_major": 2,
       "version_minor": 0
      },
      "text/plain": [
       "VBox(children=(Dropdown(description='CSV Log file:', index=4, options=(('ALG_001-EXP_001-Baseline.csv', '..\\\\l…"
      ]
     },
     "metadata": {},
     "output_type": "display_data"
    }
   ],
   "source": [
    "csv_selector = widgets.Dropdown(\n",
    "    options=opts,\n",
    "    description='CSV Log file:',\n",
    "    value=\"..\\\\logs\\\\ALG_005_EXP_001-PatchMatch-MacLean_et_al-Numba.csv\"\n",
    "\n",
    ")\n",
    "\n",
    "available_metrix = ['abs_error',\n",
    "       'mse', 'avg', 'eucledian', 'bad1', 'bad2', 'bad4', 'bad8']\n",
    "metrics_selector = widgets.Dropdown(\n",
    "    options=[(m,m) for m in available_metrix],\n",
    "    description='CSV Log file:'\n",
    ")\n",
    "\n",
    "VBox([csv_selector, metrics_selector])"
   ]
  },
  {
   "cell_type": "code",
   "execution_count": 29,
   "metadata": {},
   "outputs": [],
   "source": [
    "def read_image_binary(path):\n",
    "    with open(path, \"rb\") as f:\n",
    "        b = f.read()\n",
    "        return b\n",
    "\n",
    "\n",
    "selected_file = csv_selector.value\n",
    "df = pd.read_csv(selected_file)\n",
    "df = df.drop_duplicates()\n",
    "df = df.sort_values(by=metrics_selector.value)\n",
    "\n",
    "df[\"loaded_imgs\"] = [read_image_binary(path) for path in df[\"image_filename\"]]"
   ]
  },
  {
   "cell_type": "code",
   "execution_count": 30,
   "metadata": {},
   "outputs": [],
   "source": [
    "from ipywidgets import Image, Layout\n",
    "\n",
    "fig_a_image = Image(value=df[\"loaded_imgs\"].iloc[0], \n",
    "                   layout=Layout(height='375px', width='450px'))\n",
    "fig_b_image = Image(value=df[\"loaded_imgs\"].iloc[0], \n",
    "                   layout=Layout(height='375px', width='450px'))"
   ]
  },
  {
   "cell_type": "code",
   "execution_count": 31,
   "metadata": {},
   "outputs": [],
   "source": [
    "\n",
    "fig_a = go.FigureWidget(px.scatter(df, x=df['kernel_size'],\n",
    "            y=df[metrics_selector.value]))\n",
    "\n",
    "fig_b = go.FigureWidget(px.scatter(df, x=df['match'],\n",
    "            y=df[metrics_selector.value]))\n",
    "\n",
    "fig_a_data = fig_a.data[0]\n",
    "\n",
    "fig_b_data = fig_b.data[0]\n",
    "\n"
   ]
  },
  {
   "cell_type": "code",
   "execution_count": 32,
   "metadata": {},
   "outputs": [],
   "source": [
    "def hover_fn_a(trace, points, state):\n",
    "    if(len(points.point_inds)>0):\n",
    "        ind = points.point_inds[0]\n",
    "        fig_a_image.value = df[\"loaded_imgs\"].iloc[ind]\n",
    "\n",
    "\n",
    "def hover_fn_b(trace, points, state):\n",
    "    if(len(points.point_inds)>0):\n",
    "        ind = points.point_inds[0]\n",
    "        fig_b_image.value = df[\"loaded_imgs\"].iloc[ind]\n",
    "\n",
    "fig_a_data.on_hover(hover_fn_a)\n",
    "fig_b_data.on_hover(hover_fn_b)"
   ]
  },
  {
   "cell_type": "code",
   "execution_count": 33,
   "metadata": {},
   "outputs": [],
   "source": [
    "dashboard_a = VBox([fig_a, fig_a_image])\n",
    "dashboard_b = VBox([fig_b, fig_b_image])"
   ]
  },
  {
   "cell_type": "code",
   "execution_count": 44,
   "metadata": {},
   "outputs": [
    {
     "data": {
      "application/vnd.jupyter.widget-view+json": {
       "model_id": "b46d61533d864546a7b796ca183e4c6c",
       "version_major": 2,
       "version_minor": 0
      },
      "text/plain": [
       "interactive(children=(Dropdown(description='scene', options=('teddy', 'cones'), value='teddy'), IntSlider(valu…"
      ]
     },
     "metadata": {},
     "output_type": "display_data"
    },
    {
     "data": {
      "application/vnd.jupyter.widget-view+json": {
       "model_id": "9a153ed64d66410cabb8427014c5059b",
       "version_major": 2,
       "version_minor": 0
      },
      "text/plain": [
       "VBox(children=(FigureWidget({\n",
       "    'data': [{'hovertemplate': 'kernel_size=%{x}<br>abs_error=%{y}<extra></extra…"
      ]
     },
     "metadata": {},
     "output_type": "display_data"
    }
   ],
   "source": [
    "kernel_sizes= df[\"kernel_size\"].unique()\n",
    "kernel_specs = df[\"kernel_spec\"].unique\n",
    "match_values = (df[\"match\"].min(), df[\"match\"].max(), 10)\n",
    "metrics = ['abs_error',\n",
    "       'mse', 'avg', 'eucledian', 'bad1', 'bad2', 'bad4', 'bad8']\n",
    "\n",
    "nonoccluded = [True, False]\n",
    "\n",
    "\n",
    "from ipywidgets import interact\n",
    "\n",
    "@interact(scene = [\"teddy\", \"cones\"],\n",
    "          match = match_values,\n",
    "          metric = metrics,\n",
    "          nonoccluded = nonoccluded\n",
    "         )\n",
    "def update_match(\n",
    "          scene = \"teddy\",\n",
    "          match = 10,\n",
    "          metric = \"bad2\",\n",
    "          nonoccluded = True):\n",
    "    with fig_a.batch_update():\n",
    "        \n",
    "        transforms = [\n",
    "              dict(\n",
    "                type = 'filter',\n",
    "                target = df['match'],\n",
    "                orientation = '=',\n",
    "                value = match\n",
    "              ),\n",
    "              dict(\n",
    "                type = 'filter',\n",
    "                target = df['scene'],\n",
    "                orientation = '=',\n",
    "                value = scene\n",
    "            ),\n",
    "             dict(\n",
    "                type = 'filter',\n",
    "                target = df['are_occlusions_errors'],\n",
    "                orientation = '=',\n",
    "                value = nonoccluded\n",
    "              )       \n",
    "        \n",
    "        ]\n",
    "        \n",
    "        fig_a_data.y = df[metric]\n",
    "        fig_a.update_layout(title=\"Match value w.r.t. \"+metric,\n",
    "        xaxis_title=\"match\",\n",
    "        yaxis_title=metric)\n",
    "        fig_a.updata_data(transforms = transforms)\n",
    "        \n",
    "dashboard_a"
   ]
  },
  {
   "cell_type": "code",
   "execution_count": 37,
   "metadata": {},
   "outputs": [
    {
     "data": {
      "application/vnd.jupyter.widget-view+json": {
       "model_id": "1a5bcc6158d245f7ac942c438be14a8f",
       "version_major": 2,
       "version_minor": 0
      },
      "text/plain": [
       "interactive(children=(Dropdown(description='scene', options=('teddy', 'cones'), value='teddy'), Dropdown(descr…"
      ]
     },
     "metadata": {},
     "output_type": "display_data"
    },
    {
     "data": {
      "application/vnd.jupyter.widget-view+json": {
       "model_id": "9f25a8c58ce94edb8d67f3f1817f8481",
       "version_major": 2,
       "version_minor": 0
      },
      "text/plain": [
       "VBox(children=(FigureWidget({\n",
       "    'data': [{'hovertemplate': 'match=%{x}<br>abs_error=%{y}<extra></extra>',\n",
       "  …"
      ]
     },
     "metadata": {},
     "output_type": "display_data"
    }
   ],
   "source": [
    "\n",
    "@interact(scene = [\"teddy\", \"cones\"],\n",
    "          kernel_size = kernel_sizes,\n",
    "          metric = metrics,\n",
    "          nonoccluded = nonoccluded\n",
    "         )\n",
    "def update_match(\n",
    "          scene = \"teddy\",\n",
    "          kernel_size = \"3x3\",\n",
    "          metric = \"bad2\",\n",
    "          nonoccluded = True):\n",
    "    with fig_b.batch_update():\n",
    "        nonoccluded = not nonoccluded\n",
    "        temp_df = df[\n",
    "            (df[\"kernel_size\"]==kernel_size) &\n",
    "            (df[\"scene\"]==scene) &\n",
    "            (df[\"are_occlusions_errors\"] == nonoccluded)] \n",
    "        fig_b_data.x = temp_df[\"match\"]\n",
    "        fig_b_data.y = temp_df[metric]\n",
    "        fig_b.update_layout(title=\"Kernel size w.r.t. \"+metric,\n",
    "        xaxis_title=\"match\",\n",
    "        yaxis_title=metric\n",
    "        )\n",
    "dashboard_b"
   ]
  },
  {
   "cell_type": "code",
   "execution_count": 40,
   "metadata": {},
   "outputs": [
    {
     "ename": "AttributeError",
     "evalue": "'Scattergl' object has no attribute 'transforms'",
     "output_type": "error",
     "traceback": [
      "\u001b[1;31m---------------------------------------------------------------------------\u001b[0m",
      "\u001b[1;31mAttributeError\u001b[0m                            Traceback (most recent call last)",
      "\u001b[1;32m<ipython-input-40-cd098ac37cb1>\u001b[0m in \u001b[0;36m<module>\u001b[1;34m\u001b[0m\n\u001b[1;32m----> 1\u001b[1;33m \u001b[0mfig_b_data\u001b[0m\u001b[1;33m.\u001b[0m\u001b[0mtransforms\u001b[0m\u001b[1;33m\u001b[0m\u001b[1;33m\u001b[0m\u001b[0m\n\u001b[0m",
      "\u001b[1;31mAttributeError\u001b[0m: 'Scattergl' object has no attribute 'transforms'"
     ]
    }
   ],
   "source": [
    "fig_b_data.transforms"
   ]
  },
  {
   "cell_type": "code",
   "execution_count": null,
   "metadata": {},
   "outputs": [],
   "source": []
  }
 ],
 "metadata": {
  "kernelspec": {
   "display_name": "Python 3",
   "language": "python",
   "name": "python3"
  },
  "language_info": {
   "codemirror_mode": {
    "name": "ipython",
    "version": 3
   },
   "file_extension": ".py",
   "mimetype": "text/x-python",
   "name": "python",
   "nbconvert_exporter": "python",
   "pygments_lexer": "ipython3",
   "version": "3.8.2"
  }
 },
 "nbformat": 4,
 "nbformat_minor": 4
}
